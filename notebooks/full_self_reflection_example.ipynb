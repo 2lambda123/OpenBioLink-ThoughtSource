{
 "cells": [
  {
   "cell_type": "code",
   "execution_count": 1,
   "metadata": {},
   "outputs": [],
   "source": [
    "# imports\n",
    "\n",
    "from self_reflection_helper import *\n",
    "from self_prediction import *\n",
    "from cot import Collection\n",
    "\n",
    "\"\"\"Imports\"\"\"\n",
    "from langchain.chat_models import ChatOpenAI\n",
    "from langchain.prompts.chat import (\n",
    "    ChatPromptTemplate,\n",
    "    SystemMessagePromptTemplate,\n",
    "    AIMessagePromptTemplate,\n",
    "    HumanMessagePromptTemplate,\n",
    ")\n",
    "from langchain.schema import (\n",
    "    AIMessage,\n",
    "    HumanMessage,\n",
    "    SystemMessage\n",
    ")\n",
    "\n",
    "\n",
    "import yaml"
   ]
  },
  {
   "attachments": {},
   "cell_type": "markdown",
   "metadata": {},
   "source": [
    "## Run CoT\n",
    "\n",
    "\n"
   ]
  },
  {
   "cell_type": "code",
   "execution_count": 8,
   "metadata": {},
   "outputs": [
    {
     "name": "stdout",
     "output_type": "stream",
     "text": [
      "Loading med_qa...\n"
     ]
    }
   ],
   "source": [
    "data = Collection([\"med_qa\"], verbose=False)\n",
    "data = data.select(split=\"test\", number_samples=1, random_samples=True, seed=0)"
   ]
  },
  {
   "cell_type": "code",
   "execution_count": 10,
   "metadata": {},
   "outputs": [
    {
     "data": {
      "text/plain": [
       "| Name   | Train   | Valid   |   Test |\n",
       "|--------|---------|---------|--------|\n",
       "| med_qa | -       | -       |      1 |\n",
       "\n",
       "Not loaded: ['aqua', 'asdiv', 'commonsense_qa', 'entailment_bank', 'gsm8k', 'mawps', 'med_qa_open', 'medmc_qa', '_init_', 'mmlu_clinical_knowledge', 'mmlu_college_biology', 'mmlu_college_medicine', 'mmlu_medical_genetics', 'mmlu_professional_medicine', '_init_', 'mmlu_anatomy', 'open_book_qa', 'pubmed_qa', 'qed', 'strategy_qa', 'svamp', 'worldtree']"
      ]
     },
     "execution_count": 10,
     "metadata": {},
     "output_type": "execute_result"
    }
   ],
   "source": [
    "data"
   ]
  },
  {
   "cell_type": "code",
   "execution_count": 12,
   "metadata": {},
   "outputs": [
    {
     "name": "stdout",
     "output_type": "stream",
     "text": [
      "Generating med_qa...\n"
     ]
    },
    {
     "data": {
      "text/plain": [
       "{'med_qa': {'test': {'accuracy': {'gpt-3.5-turbo': {'None_zhou-01_kojima-A-E': 1.0}}}}}"
      ]
     },
     "execution_count": 12,
     "metadata": {},
     "output_type": "execute_result"
    }
   ],
   "source": [
    "config={\n",
    "    \"instruction_keys\": None,\n",
    "    \"cot_trigger_keys\": [\"zhou-01\"],\n",
    "    \"answer_extraction_keys\": 'auto-kojima', \n",
    "    \"author\" : \"thoughtsource\",\n",
    "    \"api_service\": \"openai_chat\",\n",
    "    \"api_time_interval\": 1,\n",
    "    \"engine\": \"gpt-3.5-turbo\", \n",
    "    \"temperature\": 0,\n",
    "    \"max_tokens\": 512,\n",
    "    \"verbose\": False,\n",
    "    \"warn\": False,\n",
    "}\n",
    "data.generate(config=config)\n",
    "data.evaluate()\n",
    "# med_qa.dump(\"med_qa\")"
   ]
  },
  {
   "attachments": {},
   "cell_type": "markdown",
   "metadata": {},
   "source": [
    "## Run reflection"
   ]
  },
  {
   "cell_type": "code",
   "execution_count": 16,
   "metadata": {},
   "outputs": [
    {
     "name": "stdout",
     "output_type": "stream",
     "text": [
      "Generating med_qa...\n"
     ]
    }
   ],
   "source": [
    "# 3.5 on 3.5\n",
    "model = 'gpt-3.5-turbo'\n",
    "path = \"./reflection_messages/final_system_messages/first_template.yaml\"\n",
    "system_evaluate(data,model,path)\n",
    "\n",
    "dataset_name = \"med_qa_one_sample\"\n",
    "template = \"first\"\n",
    "base_model = \"gpt-3.5-turbo\"\n",
    "critique_model = \"gpt-3.5-turbo\"\n",
    "\n",
    "dump_path = f\"{dataset_name}_{template}_{base_model}_{critique_model}\"\n",
    "data.dump(dump_path+\".json\")"
   ]
  },
  {
   "attachments": {},
   "cell_type": "markdown",
   "metadata": {},
   "source": [
    "## Run Statistics on Reflection"
   ]
  },
  {
   "cell_type": "code",
   "execution_count": 19,
   "metadata": {},
   "outputs": [
    {
     "name": "stdout",
     "output_type": "stream",
     "text": [
      "\n",
      "\n",
      "Average over objectives for all items\n",
      "        Average\n",
      "obj_1     100.0\n",
      "obj_2     100.0\n",
      "obj_3     100.0\n",
      "obj_4     100.0\n",
      "obj_5     100.0\n",
      "obj_6     100.0\n",
      "obj_7     100.0\n",
      "obj_8     100.0\n",
      "obj_9     100.0\n",
      "obj_10    100.0\n",
      "obj_11    100.0\n",
      "\n",
      "\n"
     ]
    },
    {
     "data": {
      "image/png": "[encoded data removed]",
      "text/plain": [
       "<Figure size 640x480 with 1 Axes>"
      ]
     },
     "metadata": {},
     "output_type": "display_data"
    },
    {
     "ename": "AssertionError",
     "evalue": "",
     "output_type": "error",
     "traceback": [
      "\u001b[0;31m---------------------------------------------------------------------------\u001b[0m",
      "\u001b[0;31mAssertionError\u001b[0m                            Traceback (most recent call last)",
      "Cell \u001b[0;32mIn[19], line 2\u001b[0m\n\u001b[1;32m      1\u001b[0m data \u001b[39m=\u001b[39m Collection\u001b[39m.\u001b[39mfrom_json(\u001b[39m\"\u001b[39m\u001b[39mmed_qa_one_sample_first_gpt-3.5-turbo_gpt-3.5-turbo.json\u001b[39m\u001b[39m\"\u001b[39m)\n\u001b[0;32m----> 2\u001b[0m eval_reflection(data, idx_cot\u001b[39m=\u001b[39;49m\u001b[39m1\u001b[39;49m, dataset\u001b[39m=\u001b[39;49m\u001b[39m'\u001b[39;49m\u001b[39mmed_qa\u001b[39;49m\u001b[39m'\u001b[39;49m, split\u001b[39m=\u001b[39;49m\u001b[39m'\u001b[39;49m\u001b[39mtest\u001b[39;49m\u001b[39m'\u001b[39;49m, plot_title\u001b[39m=\u001b[39;49m\u001b[39m'\u001b[39;49m\u001b[39mGPT-4 supervises Cohere\u001b[39;49m\u001b[39m'\u001b[39;49m)\n\u001b[1;32m      3\u001b[0m predictions(data, idx_cot\u001b[39m=\u001b[39m\u001b[39m1\u001b[39m, dataset\u001b[39m=\u001b[39m\u001b[39m'\u001b[39m\u001b[39mmed_qa\u001b[39m\u001b[39m'\u001b[39m, split\u001b[39m=\u001b[39m\u001b[39m'\u001b[39m\u001b[39mtest\u001b[39m\u001b[39m'\u001b[39m, plot_title\u001b[39m=\u001b[39m\u001b[39m'\u001b[39m\u001b[39mGPT-4 supervises Cohere\u001b[39m\u001b[39m'\u001b[39m)\n",
      "File \u001b[0;32m~/ThoughtSource/notebooks/self_reflection_helper.py:240\u001b[0m, in \u001b[0;36meval_reflection\u001b[0;34m(data, idx_cot, dataset, split, plot_title)\u001b[0m\n\u001b[1;32m    238\u001b[0m print_avg(df)\n\u001b[1;32m    239\u001b[0m freq_bar_plot(scores_per_item,plot_title)\n\u001b[0;32m--> 240\u001b[0m scores_per_objective_true,scores_per_objective_false, df_p_val \u001b[39m=\u001b[39m u_test(scores_with_indicator)\n\u001b[1;32m    241\u001b[0m df \u001b[39m=\u001b[39m compare_true_false(scores_per_objective_true,scores_per_objective_false,df_p_val)\n\u001b[1;32m    242\u001b[0m \u001b[39m#df.to_excel('table_1.xlsx', index=False)\u001b[39;00m\n",
      "File \u001b[0;32m~/ThoughtSource/notebooks/self_reflection_helper.py:176\u001b[0m, in \u001b[0;36mu_test\u001b[0;34m(scores_with_indicator)\u001b[0m\n\u001b[1;32m    173\u001b[0m dict_2 \u001b[39m=\u001b[39m scores_per_objective_false\n\u001b[1;32m    175\u001b[0m \u001b[39m# make sure both dictionaries have the same keys\u001b[39;00m\n\u001b[0;32m--> 176\u001b[0m \u001b[39massert\u001b[39;00m dict_1\u001b[39m.\u001b[39mkeys() \u001b[39m==\u001b[39m dict_2\u001b[39m.\u001b[39mkeys()\n\u001b[1;32m    178\u001b[0m \u001b[39mprint\u001b[39m(\u001b[39m\"\u001b[39m\u001b[39mMann-Whitney-U test\u001b[39m\u001b[39m\"\u001b[39m)\n\u001b[1;32m    180\u001b[0m p_val_dict \u001b[39m=\u001b[39m \u001b[39mdict\u001b[39m()\n",
      "\u001b[0;31mAssertionError\u001b[0m: "
     ]
    }
   ],
   "source": [
    "#Needs at least one correct and one false sample\n",
    "data = Collection.from_json(\"med_qa_one_sample_first_gpt-3.5-turbo_gpt-3.5-turbo.json\")\n",
    "eval_reflection(data, idx_cot=1, dataset='med_qa', split='test', plot_title='GPT-4 supervises Cohere')\n",
    "predictions(data, idx_cot=1, dataset='med_qa', split='test', plot_title='GPT-4 supervises Cohere')"
   ]
  }
 ],
 "metadata": {
  "kernelspec": {
   "display_name": "Python 3",
   "language": "python",
   "name": "python3"
  },
  "language_info": {
   "codemirror_mode": {
    "name": "ipython",
    "version": 3
   },
   "file_extension": ".py",
   "mimetype": "text/x-python",
   "name": "python",
   "nbconvert_exporter": "python",
   "pygments_lexer": "ipython3",
   "version": "3.9.16"
  },
  "orig_nbformat": 4
 },
 "nbformat": 4,
 "nbformat_minor": 2
}
