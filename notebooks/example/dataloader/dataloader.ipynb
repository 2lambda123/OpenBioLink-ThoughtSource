{
 "cells": [
  {
   "cell_type": "code",
   "execution_count": 1,
   "metadata": {},
   "outputs": [
    {
     "name": "stderr",
     "output_type": "stream",
     "text": [
      "No config specified, defaulting to: worldtree_dataset/worldtree_thoughtsource\n",
      "Reusing dataset worldtree_dataset (C:\\Users\\ottsi\\.cache\\huggingface\\datasets\\worldtree_dataset\\worldtree_thoughtsource\\1.0.0\\a95446b90065f0e1246446ff2949dff7f716ecaa985b9c01121c60affc671e95)\n"
     ]
    },
    {
     "name": "stdout",
     "output_type": "stream",
     "text": [
      "{'instructions': {'1': 'Answer the following question through careful, concise step-by-step reasoning. Avoid making up wrong statements. Generate sub-questions that are required to answer the original question, answer them until you can answer the original question. If the question does not make sense or cannot be answered, write \"I cannot answer the question\". If you do not have a good answer, write \"I do not have a good answer\". If you are uncertain, write \"I am uncertain about this\".'}, 'cot-triggers': {'1': \"Let's think step by step.\", '2': \"Let's use step by step inductive reasoning, given the medical nature of the question.\"}, 'answer-extractions': {'1': 'Therefore, the answer is', '2': 'From this follows, that the answer is', '3': 'Following this reasoning, the answer is'}}\n",
      "Loading worldtree\n"
     ]
    },
    {
     "data": {
      "application/vnd.jupyter.widget-view+json": {
       "model_id": "accd6516f337428886e094a6fbf53239",
       "version_major": 2,
       "version_minor": 0
      },
      "text/plain": [
       "  0%|          | 0/3 [00:00<?, ?it/s]"
      ]
     },
     "metadata": {},
     "output_type": "display_data"
    },
    {
     "name": "stdout",
     "output_type": "stream",
     "text": [
      "| Name      |   Train |   Valid |   Test |\n",
      "|-----------|---------|---------|--------|\n",
      "| worldtree |    2207 |     496 |   1664 |\n",
      "\n",
      "Not loaded: ['aqua', 'asdiv', 'commonsense_qa', 'entailment_bank', 'gsm8k', 'mawps', 'open_book_qa', 'qed', 'strategy_qa', 'svamp']\n"
     ]
    }
   ],
   "source": [
    "from dataloader import Collection, apply_templates, TEMPLATES\n",
    "from pprint import pprint\n",
    "\n",
    "# load all available datasets\n",
    "collection = Collection([\"worldtree\"])\n",
    "print(collection)"
   ]
  },
  {
   "cell_type": "code",
   "execution_count": 2,
   "metadata": {},
   "outputs": [
    {
     "name": "stdout",
     "output_type": "stream",
     "text": [
      "{'answer-extractions': {'1': 'Therefore, the answer is',\n",
      "                        '2': 'From this follows, that the answer is',\n",
      "                        '3': 'Following this reasoning, the answer is'},\n",
      " 'cot-triggers': {'1': \"Let's think step by step.\",\n",
      "                  '2': \"Let's use step by step inductive reasoning, given the \"\n",
      "                       'medical nature of the question.'},\n",
      " 'instructions': {'1': 'Answer the following question through careful, concise '\n",
      "                       'step-by-step reasoning. Avoid making up wrong '\n",
      "                       'statements. Generate sub-questions that are required '\n",
      "                       'to answer the original question, answer them until you '\n",
      "                       'can answer the original question. If the question does '\n",
      "                       'not make sense or cannot be answered, write \"I cannot '\n",
      "                       'answer the question\". If you do not have a good '\n",
      "                       'answer, write \"I do not have a good answer\". If you '\n",
      "                       'are uncertain, write \"I am uncertain about this\".'}}\n"
     ]
    }
   ],
   "source": [
    "pprint(TEMPLATES)"
   ]
  },
  {
   "cell_type": "code",
   "execution_count": 3,
   "metadata": {},
   "outputs": [
    {
     "name": "stdout",
     "output_type": "stream",
     "text": [
      "Template combination ('instruction-1', 'cot-triggers-1')\n",
      "\n",
      "Answer the following question through careful, concise step-by-step reasoning. Avoid making up wrong statements. Generate sub-questions that are required to answer the original question, answer them until you can answer the original question. If the question does not make sense or cannot be answered, write \"I cannot answer the question\". If you do not have a good answer, write \"I do not have a good answer\". If you are uncertain, write \"I am uncertain about this\".\n",
      "\n",
      "Which of the following best explains why the Sun appears to move across the sky every day?\n",
      "A) The Sun rotates on its axis.\n",
      "B) Earth rotates on its axis.\n",
      "C) The Sun orbits around Earth.\n",
      "D) Earth orbits around the Sun.\n",
      "\n",
      "Let's think step by step.\n",
      "\n",
      "Template combination ('instruction-1', 'cot-triggers-2')\n",
      "\n",
      "Answer the following question through careful, concise step-by-step reasoning. Avoid making up wrong statements. Generate sub-questions that are required to answer the original question, answer them until you can answer the original question. If the question does not make sense or cannot be answered, write \"I cannot answer the question\". If you do not have a good answer, write \"I do not have a good answer\". If you are uncertain, write \"I am uncertain about this\".\n",
      "\n",
      "Which of the following best explains why the Sun appears to move across the sky every day?\n",
      "A) The Sun rotates on its axis.\n",
      "B) Earth rotates on its axis.\n",
      "C) The Sun orbits around Earth.\n",
      "D) Earth orbits around the Sun.\n",
      "\n",
      "Let's use step by step inductive reasoning, given the medical nature of the question.\n",
      "\n"
     ]
    }
   ],
   "source": [
    "for item in collection[\"worldtree\"][\"train\"]:\n",
    "    for key, prompt in apply_templates(item).items():\n",
    "        print(f\"Template combination {key}\")\n",
    "        print()\n",
    "        print(prompt)\n",
    "        print()\n",
    "    break"
   ]
  },
  {
   "cell_type": "code",
   "execution_count": 4,
   "metadata": {},
   "outputs": [
    {
     "name": "stdout",
     "output_type": "stream",
     "text": [
      "Template combination answer-extraction-1\n",
      "\n",
      "Which of the following best explains why the Sun appears to move across the sky every day?\n",
      "A) The Sun rotates on its axis.\n",
      "B) Earth rotates on its axis.\n",
      "C) The Sun orbits around Earth.\n",
      "D) Earth orbits around the Sun.\n",
      "\n",
      "The earth rotating on its axis causes the sun to appear to move across the sky during the day.\n",
      "The sun rises in the east.\n",
      "The sun sets in the west.\n",
      "Rising is a kind of motion.\n",
      "Setting is a kind of motion.\n",
      "If a human is on a rotating planet then other celestial bodies will appear to move from that human 's perspective due to the rotation of that planet.\n",
      "Earth is a kind of planet.\n",
      "The sun is a kind of star.\n",
      "A star is a kind of celestial object.\n",
      "The earth rotates on its tilted axis.\n",
      "Therefore, the answer is\n",
      "\n",
      "Template combination answer-extraction-2\n",
      "\n",
      "Which of the following best explains why the Sun appears to move across the sky every day?\n",
      "A) The Sun rotates on its axis.\n",
      "B) Earth rotates on its axis.\n",
      "C) The Sun orbits around Earth.\n",
      "D) Earth orbits around the Sun.\n",
      "\n",
      "The earth rotating on its axis causes the sun to appear to move across the sky during the day.\n",
      "The sun rises in the east.\n",
      "The sun sets in the west.\n",
      "Rising is a kind of motion.\n",
      "Setting is a kind of motion.\n",
      "If a human is on a rotating planet then other celestial bodies will appear to move from that human 's perspective due to the rotation of that planet.\n",
      "Earth is a kind of planet.\n",
      "The sun is a kind of star.\n",
      "A star is a kind of celestial object.\n",
      "The earth rotates on its tilted axis.\n",
      "From this follows, that the answer is\n",
      "\n",
      "Template combination answer-extraction-3\n",
      "\n",
      "Which of the following best explains why the Sun appears to move across the sky every day?\n",
      "A) The Sun rotates on its axis.\n",
      "B) Earth rotates on its axis.\n",
      "C) The Sun orbits around Earth.\n",
      "D) Earth orbits around the Sun.\n",
      "\n",
      "The earth rotating on its axis causes the sun to appear to move across the sky during the day.\n",
      "The sun rises in the east.\n",
      "The sun sets in the west.\n",
      "Rising is a kind of motion.\n",
      "Setting is a kind of motion.\n",
      "If a human is on a rotating planet then other celestial bodies will appear to move from that human 's perspective due to the rotation of that planet.\n",
      "Earth is a kind of planet.\n",
      "The sun is a kind of star.\n",
      "A star is a kind of celestial object.\n",
      "The earth rotates on its tilted axis.\n",
      "Following this reasoning, the answer is\n",
      "\n"
     ]
    }
   ],
   "source": [
    "for item in collection[\"worldtree\"][\"train\"]:\n",
    "    for key, prompt in apply_templates(item, answer_extraction=True).items():\n",
    "        print(f\"Template combination {key}\")\n",
    "        print()\n",
    "        print(prompt)\n",
    "        print()\n",
    "    break"
   ]
  }
 ],
 "metadata": {
  "kernelspec": {
   "display_name": "Python 3.7.9 ('venv': venv)",
   "language": "python",
   "name": "python3"
  },
  "language_info": {
   "codemirror_mode": {
    "name": "ipython",
    "version": 3
   },
   "file_extension": ".py",
   "mimetype": "text/x-python",
   "name": "python",
   "nbconvert_exporter": "python",
   "pygments_lexer": "ipython3",
   "version": "3.7.9"
  },
  "orig_nbformat": 4,
  "vscode": {
   "interpreter": {
    "hash": "241b41e964f632d57720da31ab5eea0b61f2aaba38c8b906c67dcfd29a03cc95"
   }
  }
 },
 "nbformat": 4,
 "nbformat_minor": 2
}
