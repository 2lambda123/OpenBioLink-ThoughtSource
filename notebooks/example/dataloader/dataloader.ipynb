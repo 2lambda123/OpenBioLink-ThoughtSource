{
 "cells": [
  {
   "cell_type": "code",
   "execution_count": 1,
   "metadata": {},
   "outputs": [],
   "source": [
    "from dataloader import Collection\n",
    "from cot import generate_and_extract, TEMPLATES, query\n",
    "from pprint import pprint"
   ]
  },
  {
   "cell_type": "markdown",
   "metadata": {},
   "source": [
    "Create collection with all datasets"
   ]
  },
  {
   "cell_type": "code",
   "execution_count": 2,
   "metadata": {},
   "outputs": [
    {
     "name": "stderr",
     "output_type": "stream",
     "text": [
      "No config specified, defaulting to: worldtree_dataset/worldtree_thoughtsource\n",
      "Reusing dataset worldtree_dataset (C:\\Users\\ottsi\\.cache\\huggingface\\datasets\\worldtree_dataset\\worldtree_thoughtsource\\1.0.0\\703581b4ccc1379874e4511884181737cd93371f9a216b7177eab3677a4d05bc)\n"
     ]
    },
    {
     "name": "stdout",
     "output_type": "stream",
     "text": [
      "Loading worldtree\n"
     ]
    },
    {
     "data": {
      "application/vnd.jupyter.widget-view+json": {
       "model_id": "c57399f21dbb42caa3cfdd114b36a09b",
       "version_major": 2,
       "version_minor": 0
      },
      "text/plain": [
       "  0%|          | 0/3 [00:00<?, ?it/s]"
      ]
     },
     "metadata": {},
     "output_type": "display_data"
    },
    {
     "name": "stdout",
     "output_type": "stream",
     "text": [
      "| Name      |   Train |   Valid |   Test |\n",
      "|-----------|---------|---------|--------|\n",
      "| worldtree |    2207 |     496 |   1664 |\n",
      "\n",
      "Not loaded: ['aqua', 'asdiv', 'commonsense_qa', 'entailment_bank', 'gsm8k', 'mawps', 'open_book_qa', 'qed', 'strategy_qa', 'svamp']\n"
     ]
    }
   ],
   "source": [
    "# load all available datasets\n",
    "collection = Collection([\"worldtree\"])\n",
    "print(collection)"
   ]
  },
  {
   "cell_type": "markdown",
   "metadata": {},
   "source": [
    "Print available templates"
   ]
  },
  {
   "cell_type": "code",
   "execution_count": 3,
   "metadata": {},
   "outputs": [
    {
     "name": "stdout",
     "output_type": "stream",
     "text": [
      "{'answer-extractions': {'1': 'Therefore, the answer is',\n",
      "                        '2': 'From this follows, that the answer is',\n",
      "                        '3': 'Following this reasoning, the answer is'},\n",
      " 'cot-triggers': {'1': \"Let's think step by step.\",\n",
      "                  '2': \"Let's use step by step inductive reasoning, given the \"\n",
      "                       'medical nature of the question.'},\n",
      " 'instructions': {'1': 'Answer the following question through careful, concise '\n",
      "                       'step-by-step reasoning. Avoid making up wrong '\n",
      "                       'statements. Generate sub-questions that are required '\n",
      "                       'to answer the original question, answer them until you '\n",
      "                       'can answer the original question. If the question does '\n",
      "                       'not make sense or cannot be answered, write \"I cannot '\n",
      "                       'answer the question\". If you do not have a good '\n",
      "                       'answer, write \"I do not have a good answer\". If you '\n",
      "                       'are uncertain, write \"I am uncertain about this\".'},\n",
      " 'version': '0.01'}\n"
     ]
    }
   ],
   "source": [
    "pprint(TEMPLATES)"
   ]
  },
  {
   "cell_type": "code",
   "execution_count": 4,
   "metadata": {},
   "outputs": [
    {
     "name": "stdout",
     "output_type": "stream",
     "text": [
      "You are about to call the openai API which produces costs.\n",
      "Due to your settings you are about to call the openai API in total 2 times.\n",
      "Do you want to continue? y/n\n",
      "\n"
     ]
    },
    {
     "name": "stderr",
     "output_type": "stream",
     "text": [
      "Parameter 'function'=<function _generate_and_extract at 0x0000015C016C2CA8> of the transform datasets.arrow_dataset.Dataset._map_single couldn't be hashed properly, a random hash was used instead. Make sure your transforms and parameters are serializable with pickle or dill for the dataset fingerprinting and caching to work. If you reuse this transform, the caching mechanism will consider it to be different from the previous calls and recompute everything. This warning is only showed once. Subsequent hashing failures won't be showed.\n"
     ]
    },
    {
     "data": {
      "application/vnd.jupyter.widget-view+json": {
       "model_id": "8f54de4f392244659d533e020ae5e45e",
       "version_major": 2,
       "version_minor": 0
      },
      "text/plain": [
       "  0%|          | 0/2207 [00:00<?, ?ex/s]"
      ]
     },
     "metadata": {},
     "output_type": "display_data"
    },
    {
     "name": "stdout",
     "output_type": "stream",
     "text": [
      "\n",
      "-------------------COT TRIGGER-------------------\n",
      "Answer the following question through careful, concise step-by-step reasoning. Avoid making up wrong statements. Generate sub-questions that are required to answer the original question, answer them until you can answer the original question. If the question does not make sense or cannot be answered, write \"I cannot answer the question\". If you do not have a good answer, write \"I do not have a good answer\". If you are uncertain, write \"I am uncertain about this\".\n",
      "\n",
      "Which of the following best explains why the Sun appears to move across the sky every day?\n",
      "A) The Sun rotates on its axis.\n",
      "B) Earth rotates on its axis.\n",
      "C) The Sun orbits around Earth.\n",
      "D) Earth orbits around the Sun.\n",
      "\n",
      "Let's think step by step.\n",
      "\n",
      "------------------GENERATED COT-------------------\n",
      " \n",
      "\n",
      "The Sun appears to move across the sky every day. \n",
      "\n",
      "Why does the Sun appear to move across the sky every day? \n",
      "\n",
      "There are a few possible explanations. \n",
      "\n",
      "A) The Sun rotates on its axis. \n",
      "B) Earth rotates on its axis. \n",
      "C) The Sun orbits around Earth. \n",
      "D) Earth orbits around the Sun. \n",
      "\n",
      "Let's consider each possibility one by one. \n",
      "\n",
      "A) The Sun rotates on its axis. \n",
      "\n",
      "If the Sun rotates on its axis, then it would rotate around a point\n",
      "\n",
      "------------------ANSWER EXTRACTION-------------------\n",
      "Therefore, the answer is\n",
      "\n",
      "------------------EXTRACTED ANSWER-------------------\n",
      " A) The Sun rotates on its axis.\n"
     ]
    },
    {
     "data": {
      "application/vnd.jupyter.widget-view+json": {
       "model_id": "fd429c57349345a5ae492f0fc8c4e713",
       "version_major": 2,
       "version_minor": 0
      },
      "text/plain": [
       "  0%|          | 0/1664 [00:00<?, ?ex/s]"
      ]
     },
     "metadata": {},
     "output_type": "display_data"
    },
    {
     "name": "stdout",
     "output_type": "stream",
     "text": [
      "\n",
      "-------------------COT TRIGGER-------------------\n",
      "Answer the following question through careful, concise step-by-step reasoning. Avoid making up wrong statements. Generate sub-questions that are required to answer the original question, answer them until you can answer the original question. If the question does not make sense or cannot be answered, write \"I cannot answer the question\". If you do not have a good answer, write \"I do not have a good answer\". If you are uncertain, write \"I am uncertain about this\".\n",
      "\n",
      "What remains in the same location in the sky of the Northern Hemisphere each night?\n",
      "A) the Sun\n",
      "B) the Little Dipper\n",
      "C) the North Star\n",
      "D) the Moon\n",
      "\n",
      "Let's think step by step.\n",
      "\n",
      "------------------GENERATED COT-------------------\n",
      " \n",
      "\n",
      "The question is asking what remains in the same location in the sky of the Northern Hemisphere each night. \n",
      "\n",
      "The Sun is not a good answer because it changes location in the sky each night. \n",
      "\n",
      "The Moon is not a good answer because it also changes location in the sky each night. \n",
      "\n",
      "The Little Dipper is not a good answer because it is not a celestial body. \n",
      "\n",
      "This leaves us with the North Star. The North Star is a good answer because it remains in the same location in the sky each night.\n",
      "\n",
      "------------------ANSWER EXTRACTION-------------------\n",
      "Therefore, the answer is\n",
      "\n",
      "------------------EXTRACTED ANSWER-------------------\n",
      " C) the North Star.\n"
     ]
    },
    {
     "data": {
      "application/vnd.jupyter.widget-view+json": {
       "model_id": "f5c4f6d8d06b421cbe5ab20366e22625",
       "version_major": 2,
       "version_minor": 0
      },
      "text/plain": [
       "  0%|          | 0/496 [00:00<?, ?ex/s]"
      ]
     },
     "metadata": {},
     "output_type": "display_data"
    },
    {
     "name": "stdout",
     "output_type": "stream",
     "text": [
      "\n",
      "-------------------COT TRIGGER-------------------\n",
      "Answer the following question through careful, concise step-by-step reasoning. Avoid making up wrong statements. Generate sub-questions that are required to answer the original question, answer them until you can answer the original question. If the question does not make sense or cannot be answered, write \"I cannot answer the question\". If you do not have a good answer, write \"I do not have a good answer\". If you are uncertain, write \"I am uncertain about this\".\n",
      "\n",
      "Students visited the Morris W. Offit telescope located at the Maryland Space Grant Observatory in Baltimore. They learned about the stars, planets, and moon. The students recorded the information below. â€¢ Star patterns stay the same, but their locations in the sky seem to change. â€¢ The sun, planets, and moon appear to move in the sky. â€¢ Proxima Centauri is the nearest star to our solar system. â€¢ Polaris is a star that is part of a pattern of stars called the Little Dipper. Which statement best explains why the sun appears to move across the sky each day?\n",
      "A) The sun revolves around Earth.\n",
      "B) Earth rotates around the sun.\n",
      "C) The sun revolves on its axis.\n",
      "D) Earth rotates on its axis.\n",
      "\n",
      "Let's think step by step.\n",
      "\n",
      "------------------GENERATED COT-------------------\n",
      " \n",
      "\n",
      "The first thing we need to do is understand what the question is asking. The question is asking us to explain why the sun appears to move across the sky each day. In order to do that, we need to understand what causes the sun to appear to move. \n",
      "\n",
      "There are two things that could cause the sun to appear to move: the sun itself could be moving, or the Earth could be moving. \n",
      "\n",
      "The sun could be moving if it were revolving around Earth or if it were revolving on its axis. However, we know from the information given in the question that the sun's patterns stay the\n",
      "\n",
      "------------------ANSWER EXTRACTION-------------------\n",
      "Therefore, the answer is\n",
      "\n",
      "------------------EXTRACTED ANSWER-------------------\n",
      " D) Earth rotates on its axis.\n"
     ]
    }
   ],
   "source": [
    "config={\n",
    "    \"idx_range\":(0,1), # Determines which indices the generate_and_extract routine is applied to, Default: None (All items are used)\n",
    "    \"debug\": False, # Determines whether the openai api is called or a mock is returned, used for debugging, Default: True (openai api is not used)\n",
    "    \"instruction_keys\": [\"1\"], # Determines which instructions are used from templates.json, Default: None (All used)\n",
    "    \"cot_trigger_keys\": [\"1\"], # Determines which cot triggers are used from templates.json, Default: None (All are used)\n",
    "    \"answer_extraction_keys\": [\"1\"], # Determines which answer extraction prompts are used from templates.json, Default: None (All are used)\n",
    "    \"author\" : \"\", # Name of the person responsible for generation, Default: \"\"\n",
    "    \"engine\": \"text-davinci-002\", # Name of the openai engine used, Default: \"text-davinci-002\"\n",
    "    \"temperature\": 0, # Name of the person responsible for generation, Default: 0\n",
    "    \"max_tokens\": 128, # Maximum lenght of output generated by openai, Default: 128\n",
    "    \"api_time_interval\": 1.0, # Pause between two api calls in seconds, Default: 1.0\n",
    "\n",
    "}\n",
    "collection[\"worldtree\"] = generate_and_extract(collection[\"worldtree\"], config=config)"
   ]
  },
  {
   "cell_type": "markdown",
   "metadata": {},
   "source": [
    "### How to save generated cots and extractions"
   ]
  },
  {
   "cell_type": "code",
   "execution_count": 13,
   "metadata": {},
   "outputs": [],
   "source": [
    "collection.save_to_disk()"
   ]
  },
  {
   "cell_type": "code",
   "execution_count": 14,
   "metadata": {},
   "outputs": [],
   "source": [
    "asdf = Collection()"
   ]
  },
  {
   "cell_type": "code",
   "execution_count": 15,
   "metadata": {},
   "outputs": [],
   "source": [
    "asdf.load_from_disk()"
   ]
  },
  {
   "cell_type": "code",
   "execution_count": 16,
   "metadata": {},
   "outputs": [
    {
     "data": {
      "text/plain": [
       "{'id': '0',\n",
       " 'question_id': '0',\n",
       " 'document_id': '0',\n",
       " 'question': 'Which of the following best explains why the Sun appears to move across the sky every day?',\n",
       " 'type': 'multiplechoice',\n",
       " 'cot_type': 'list',\n",
       " 'choices': ['The Sun rotates on its axis.',\n",
       "  'Earth rotates on its axis.',\n",
       "  'The Sun orbits around Earth.',\n",
       "  'Earth orbits around the Sun.'],\n",
       " 'context': '',\n",
       " 'cot': ['The earth rotating on its axis causes the sun to appear to move across the sky during the day.',\n",
       "  'The sun rises in the east.',\n",
       "  'The sun sets in the west.',\n",
       "  'Rising is a kind of motion.',\n",
       "  'Setting is a kind of motion.',\n",
       "  \"If a human is on a rotating planet then other celestial bodies will appear to move from that human 's perspective due to the rotation of that planet.\",\n",
       "  'Earth is a kind of planet.',\n",
       "  'The sun is a kind of star.',\n",
       "  'A star is a kind of celestial object.',\n",
       "  'The earth rotates on its tilted axis.'],\n",
       " 'answer': ['Earth rotates on its axis.'],\n",
       " 'generated_cot': [{'annotation': [],\n",
       "   'answers': [{'answer': ' A) The Sun rotates on its axis.',\n",
       "     'answer-extraction': '1'}],\n",
       "   'author': '',\n",
       "   'comment': '',\n",
       "   'cot': \" \\n\\nThe Sun appears to move across the sky every day. \\n\\nWhy does the Sun appear to move across the sky every day? \\n\\nThere are a few possible explanations. \\n\\nA) The Sun rotates on its axis. \\nB) Earth rotates on its axis. \\nC) The Sun orbits around Earth. \\nD) Earth orbits around the Sun. \\n\\nLet's consider each possibility one by one. \\n\\nA) The Sun rotates on its axis. \\n\\nIf the Sun rotates on its axis, then it would rotate around a point\",\n",
       "   'cot-trigger': '1',\n",
       "   'date': '2022/09/30 01:28:53',\n",
       "   'instruction': '1',\n",
       "   'model': {'max_tokens': 128, 'name': 'text-davinci-002', 'temperature': 0},\n",
       "   'templates_version': '0.01'}],\n",
       " 'feedback': []}"
      ]
     },
     "execution_count": 16,
     "metadata": {},
     "output_type": "execute_result"
    }
   ],
   "source": [
    "asdf[\"worldtree\"][\"train\"][0]"
   ]
  }
 ],
 "metadata": {
  "kernelspec": {
   "display_name": "Python 3.7.9 ('venv': venv)",
   "language": "python",
   "name": "python3"
  },
  "language_info": {
   "codemirror_mode": {
    "name": "ipython",
    "version": 3
   },
   "file_extension": ".py",
   "mimetype": "text/x-python",
   "name": "python",
   "nbconvert_exporter": "python",
   "pygments_lexer": "ipython3",
   "version": "3.7.9"
  },
  "orig_nbformat": 4,
  "vscode": {
   "interpreter": {
    "hash": "241b41e964f632d57720da31ab5eea0b61f2aaba38c8b906c67dcfd29a03cc95"
   }
  }
 },
 "nbformat": 4,
 "nbformat_minor": 2
}
