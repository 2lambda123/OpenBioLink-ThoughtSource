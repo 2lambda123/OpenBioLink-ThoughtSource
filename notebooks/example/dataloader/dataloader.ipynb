{
 "cells": [
  {
   "cell_type": "code",
   "execution_count": 1,
   "metadata": {},
   "outputs": [],
   "source": [
    "from dataloader import Collection, apply_templates, TEMPLATES\n",
    "from pprint import pprint"
   ]
  },
  {
   "cell_type": "markdown",
   "metadata": {},
   "source": [
    "Create collection with all datasets"
   ]
  },
  {
   "cell_type": "code",
   "execution_count": 2,
   "metadata": {},
   "outputs": [
    {
     "name": "stderr",
     "output_type": "stream",
     "text": [
      "No config specified, defaulting to: aqua_dataset/aqua_thoughtsource\n"
     ]
    },
    {
     "name": "stdout",
     "output_type": "stream",
     "text": [
      "Loading aqua\n",
      "Downloading and preparing dataset aqua_dataset/aqua_thoughtsource to C:\\Users\\ottsi\\.cache\\huggingface\\datasets\\aqua_dataset\\aqua_thoughtsource\\1.0.0\\4b6d9f48e562d058cff8bc2c18b56cfbdb202e8e27864a76fec1a87da2feb4d9...\n"
     ]
    },
    {
     "data": {
      "application/vnd.jupyter.widget-view+json": {
       "model_id": "2dd9f2acff7248abb2dfbf827e9eab3e",
       "version_major": 2,
       "version_minor": 0
      },
      "text/plain": [
       "Downloading data files:   0%|          | 0/3 [00:00<?, ?it/s]"
      ]
     },
     "metadata": {},
     "output_type": "display_data"
    },
    {
     "data": {
      "application/vnd.jupyter.widget-view+json": {
       "model_id": "5b72e14ffbbb43f9a289ef19d3ae62d5",
       "version_major": 2,
       "version_minor": 0
      },
      "text/plain": [
       "Extracting data files:   0%|          | 0/3 [00:00<?, ?it/s]"
      ]
     },
     "metadata": {},
     "output_type": "display_data"
    },
    {
     "data": {
      "application/vnd.jupyter.widget-view+json": {
       "model_id": "f0eda984b73842eeb0d234f37e857315",
       "version_major": 2,
       "version_minor": 0
      },
      "text/plain": [
       "Generating train split: 0 examples [00:00, ? examples/s]"
      ]
     },
     "metadata": {},
     "output_type": "display_data"
    },
    {
     "data": {
      "application/vnd.jupyter.widget-view+json": {
       "model_id": "4372993cde6d40af9873889160bb07b3",
       "version_major": 2,
       "version_minor": 0
      },
      "text/plain": [
       "Generating test split: 0 examples [00:00, ? examples/s]"
      ]
     },
     "metadata": {},
     "output_type": "display_data"
    },
    {
     "data": {
      "application/vnd.jupyter.widget-view+json": {
       "model_id": "b2edfe07f0ed4bc68276a3310b80db3b",
       "version_major": 2,
       "version_minor": 0
      },
      "text/plain": [
       "Generating validation split: 0 examples [00:00, ? examples/s]"
      ]
     },
     "metadata": {},
     "output_type": "display_data"
    },
    {
     "name": "stdout",
     "output_type": "stream",
     "text": [
      "Dataset aqua_dataset downloaded and prepared to C:\\Users\\ottsi\\.cache\\huggingface\\datasets\\aqua_dataset\\aqua_thoughtsource\\1.0.0\\4b6d9f48e562d058cff8bc2c18b56cfbdb202e8e27864a76fec1a87da2feb4d9. Subsequent calls will reuse this data.\n"
     ]
    },
    {
     "data": {
      "application/vnd.jupyter.widget-view+json": {
       "model_id": "0d23617656844e69930c463175b1648f",
       "version_major": 2,
       "version_minor": 0
      },
      "text/plain": [
       "  0%|          | 0/3 [00:00<?, ?it/s]"
      ]
     },
     "metadata": {},
     "output_type": "display_data"
    },
    {
     "name": "stderr",
     "output_type": "stream",
     "text": [
      "No config specified, defaulting to: asdiv_dataset/asdiv_thoughtsource\n"
     ]
    },
    {
     "name": "stdout",
     "output_type": "stream",
     "text": [
      "Loading asdiv\n",
      "Downloading and preparing dataset asdiv_dataset/asdiv_thoughtsource to C:\\Users\\ottsi\\.cache\\huggingface\\datasets\\asdiv_dataset\\asdiv_thoughtsource\\1.0.0\\baa8e5caa7c2f8576fd4fb6069e9e2bdf69bfc54e72454f3789f489f55468915...\n"
     ]
    },
    {
     "data": {
      "application/vnd.jupyter.widget-view+json": {
       "model_id": "4325293ba1104b6aa8432bf1ba65dd20",
       "version_major": 2,
       "version_minor": 0
      },
      "text/plain": [
       "Downloading data files:   0%|          | 0/6 [00:00<?, ?it/s]"
      ]
     },
     "metadata": {},
     "output_type": "display_data"
    },
    {
     "data": {
      "application/vnd.jupyter.widget-view+json": {
       "model_id": "dde85e6410744e9287c1bd6d749cc5d0",
       "version_major": 2,
       "version_minor": 0
      },
      "text/plain": [
       "Downloading data:   0%|          | 0.00/178k [00:00<?, ?B/s]"
      ]
     },
     "metadata": {},
     "output_type": "display_data"
    },
    {
     "data": {
      "application/vnd.jupyter.widget-view+json": {
       "model_id": "01891d88516b436f99bf9272d1d14260",
       "version_major": 2,
       "version_minor": 0
      },
      "text/plain": [
       "Downloading data:   0%|          | 0.00/601 [00:00<?, ?B/s]"
      ]
     },
     "metadata": {},
     "output_type": "display_data"
    },
    {
     "data": {
      "application/vnd.jupyter.widget-view+json": {
       "model_id": "5b97376ba55945dda1d5bea376829bda",
       "version_major": 2,
       "version_minor": 0
      },
      "text/plain": [
       "Downloading data:   0%|          | 0.00/599 [00:00<?, ?B/s]"
      ]
     },
     "metadata": {},
     "output_type": "display_data"
    },
    {
     "data": {
      "application/vnd.jupyter.widget-view+json": {
       "model_id": "628bb24c0854467a8d818717e4bb5cf2",
       "version_major": 2,
       "version_minor": 0
      },
      "text/plain": [
       "Downloading data:   0%|          | 0.00/577 [00:00<?, ?B/s]"
      ]
     },
     "metadata": {},
     "output_type": "display_data"
    },
    {
     "data": {
      "application/vnd.jupyter.widget-view+json": {
       "model_id": "c4a4206e9e3f47808b00dbf0c8d9e3ea",
       "version_major": 2,
       "version_minor": 0
      },
      "text/plain": [
       "Downloading data:   0%|          | 0.00/568 [00:00<?, ?B/s]"
      ]
     },
     "metadata": {},
     "output_type": "display_data"
    },
    {
     "data": {
      "application/vnd.jupyter.widget-view+json": {
       "model_id": "2e48a4f913ec415cbdf4977c565a22ba",
       "version_major": 2,
       "version_minor": 0
      },
      "text/plain": [
       "Downloading data:   0%|          | 0.00/631 [00:00<?, ?B/s]"
      ]
     },
     "metadata": {},
     "output_type": "display_data"
    },
    {
     "data": {
      "application/vnd.jupyter.widget-view+json": {
       "model_id": "91ddb17d766544a088c94ab65874efe2",
       "version_major": 2,
       "version_minor": 0
      },
      "text/plain": [
       "Extracting data files:   0%|          | 0/6 [00:00<?, ?it/s]"
      ]
     },
     "metadata": {},
     "output_type": "display_data"
    },
    {
     "data": {
      "application/vnd.jupyter.widget-view+json": {
       "model_id": "0ee1ba6c76924c2f80245e617e421e36",
       "version_major": 2,
       "version_minor": 0
      },
      "text/plain": [
       "Generating train split: 0 examples [00:00, ? examples/s]"
      ]
     },
     "metadata": {},
     "output_type": "display_data"
    },
    {
     "name": "stdout",
     "output_type": "stream",
     "text": [
      "Dataset asdiv_dataset downloaded and prepared to C:\\Users\\ottsi\\.cache\\huggingface\\datasets\\asdiv_dataset\\asdiv_thoughtsource\\1.0.0\\baa8e5caa7c2f8576fd4fb6069e9e2bdf69bfc54e72454f3789f489f55468915. Subsequent calls will reuse this data.\n"
     ]
    },
    {
     "data": {
      "application/vnd.jupyter.widget-view+json": {
       "model_id": "2d0f96a647c94002bf7249ad8cfa62cb",
       "version_major": 2,
       "version_minor": 0
      },
      "text/plain": [
       "  0%|          | 0/1 [00:00<?, ?it/s]"
      ]
     },
     "metadata": {},
     "output_type": "display_data"
    },
    {
     "name": "stdout",
     "output_type": "stream",
     "text": [
      "Loading commonsense_qa\n"
     ]
    },
    {
     "name": "stderr",
     "output_type": "stream",
     "text": [
      "[nltk_data] Downloading package punkt to\n",
      "[nltk_data]     C:\\Users\\ottsi\\AppData\\Roaming\\nltk_data...\n",
      "[nltk_data]   Package punkt is already up-to-date!\n",
      "No config specified, defaulting to: commonsense_qa_dataset/commonsense_qa_thoughtsource\n"
     ]
    },
    {
     "name": "stdout",
     "output_type": "stream",
     "text": [
      "Downloading and preparing dataset commonsense_qa_dataset/commonsense_qa_thoughtsource to C:\\Users\\ottsi\\.cache\\huggingface\\datasets\\commonsense_qa_dataset\\commonsense_qa_thoughtsource\\1.0.0\\1cc199062fa8a6035aa4375ef416cd4182f405a394f2ba62a575076cf64d2cce...\n"
     ]
    },
    {
     "data": {
      "application/vnd.jupyter.widget-view+json": {
       "model_id": "0d5ca6f460ad44c6a2ddb54ddd0eb0e7",
       "version_major": 2,
       "version_minor": 0
      },
      "text/plain": [
       "Downloading data files:   0%|          | 0/2 [00:00<?, ?it/s]"
      ]
     },
     "metadata": {},
     "output_type": "display_data"
    },
    {
     "data": {
      "application/vnd.jupyter.widget-view+json": {
       "model_id": "d99b0263d41d4ada8782312860cf0456",
       "version_major": 2,
       "version_minor": 0
      },
      "text/plain": [
       "Downloading data:   0%|          | 0.00/3.79M [00:00<?, ?B/s]"
      ]
     },
     "metadata": {},
     "output_type": "display_data"
    },
    {
     "data": {
      "application/vnd.jupyter.widget-view+json": {
       "model_id": "8c1dc6c52236423e81dabf82dd6d11a7",
       "version_major": 2,
       "version_minor": 0
      },
      "text/plain": [
       "Downloading data:   0%|          | 0.00/472k [00:00<?, ?B/s]"
      ]
     },
     "metadata": {},
     "output_type": "display_data"
    },
    {
     "data": {
      "application/vnd.jupyter.widget-view+json": {
       "model_id": "feac441a0c8f4278897f94310b86b342",
       "version_major": 2,
       "version_minor": 0
      },
      "text/plain": [
       "Downloading data:   0%|          | 0.00/423k [00:00<?, ?B/s]"
      ]
     },
     "metadata": {},
     "output_type": "display_data"
    },
    {
     "data": {
      "application/vnd.jupyter.widget-view+json": {
       "model_id": "9cdc5ea09efc4ca0a5fbf6d5d2323988",
       "version_major": 2,
       "version_minor": 0
      },
      "text/plain": [
       "Downloading data:   0%|          | 0.00/1.80M [00:00<?, ?B/s]"
      ]
     },
     "metadata": {},
     "output_type": "display_data"
    },
    {
     "data": {
      "application/vnd.jupyter.widget-view+json": {
       "model_id": "18733d15bec246d0828d5aebfe24b4ef",
       "version_major": 2,
       "version_minor": 0
      },
      "text/plain": [
       "Extracting data files:   0%|          | 0/2 [00:00<?, ?it/s]"
      ]
     },
     "metadata": {},
     "output_type": "display_data"
    },
    {
     "data": {
      "application/vnd.jupyter.widget-view+json": {
       "model_id": "fd7363ff0ba34c719c1955d0409d3847",
       "version_major": 2,
       "version_minor": 0
      },
      "text/plain": [
       "Generating train split: 0 examples [00:00, ? examples/s]"
      ]
     },
     "metadata": {},
     "output_type": "display_data"
    },
    {
     "data": {
      "application/vnd.jupyter.widget-view+json": {
       "model_id": "9b06e6ccfbb74e4fb12225284d5178bf",
       "version_major": 2,
       "version_minor": 0
      },
      "text/plain": [
       "Generating test split: 0 examples [00:00, ? examples/s]"
      ]
     },
     "metadata": {},
     "output_type": "display_data"
    },
    {
     "data": {
      "application/vnd.jupyter.widget-view+json": {
       "model_id": "498a699444bb4caeaf8c9a898e0ad2cf",
       "version_major": 2,
       "version_minor": 0
      },
      "text/plain": [
       "Generating validation split: 0 examples [00:00, ? examples/s]"
      ]
     },
     "metadata": {},
     "output_type": "display_data"
    },
    {
     "name": "stdout",
     "output_type": "stream",
     "text": [
      "Dataset commonsense_qa_dataset downloaded and prepared to C:\\Users\\ottsi\\.cache\\huggingface\\datasets\\commonsense_qa_dataset\\commonsense_qa_thoughtsource\\1.0.0\\1cc199062fa8a6035aa4375ef416cd4182f405a394f2ba62a575076cf64d2cce. Subsequent calls will reuse this data.\n"
     ]
    },
    {
     "data": {
      "application/vnd.jupyter.widget-view+json": {
       "model_id": "bc22901c91ad42909fee6e38519bcbd1",
       "version_major": 2,
       "version_minor": 0
      },
      "text/plain": [
       "  0%|          | 0/3 [00:00<?, ?it/s]"
      ]
     },
     "metadata": {},
     "output_type": "display_data"
    },
    {
     "name": "stderr",
     "output_type": "stream",
     "text": [
      "No config specified, defaulting to: entailment_bank_dataset/entailment_bank_thoughtsource\n"
     ]
    },
    {
     "name": "stdout",
     "output_type": "stream",
     "text": [
      "Loading entailment_bank\n",
      "Downloading and preparing dataset entailment_bank_dataset/entailment_bank_thoughtsource to C:\\Users\\ottsi\\.cache\\huggingface\\datasets\\entailment_bank_dataset\\entailment_bank_thoughtsource\\1.0.0\\736f5b2ea4c72a32bf5478bfddeddfadb94f6c4aef02cd4532f35f7671acef68...\n"
     ]
    },
    {
     "data": {
      "application/vnd.jupyter.widget-view+json": {
       "model_id": "5a5e796e30244fecad1f4826d4c39695",
       "version_major": 2,
       "version_minor": 0
      },
      "text/plain": [
       "Downloading data:   0%|          | 0.00/7.82M [00:00<?, ?B/s]"
      ]
     },
     "metadata": {},
     "output_type": "display_data"
    },
    {
     "data": {
      "application/vnd.jupyter.widget-view+json": {
       "model_id": "647b28365b774e92b81c9d72d17f1c08",
       "version_major": 2,
       "version_minor": 0
      },
      "text/plain": [
       "Generating train split: 0 examples [00:00, ? examples/s]"
      ]
     },
     "metadata": {},
     "output_type": "display_data"
    },
    {
     "data": {
      "application/vnd.jupyter.widget-view+json": {
       "model_id": "0aed27843f5c44958bcd6e9cfa0ff866",
       "version_major": 2,
       "version_minor": 0
      },
      "text/plain": [
       "Generating test split: 0 examples [00:00, ? examples/s]"
      ]
     },
     "metadata": {},
     "output_type": "display_data"
    },
    {
     "data": {
      "application/vnd.jupyter.widget-view+json": {
       "model_id": "f0d2b0a2e2864ec1b5fc11f453fcf376",
       "version_major": 2,
       "version_minor": 0
      },
      "text/plain": [
       "Generating validation split: 0 examples [00:00, ? examples/s]"
      ]
     },
     "metadata": {},
     "output_type": "display_data"
    },
    {
     "name": "stdout",
     "output_type": "stream",
     "text": [
      "Dataset entailment_bank_dataset downloaded and prepared to C:\\Users\\ottsi\\.cache\\huggingface\\datasets\\entailment_bank_dataset\\entailment_bank_thoughtsource\\1.0.0\\736f5b2ea4c72a32bf5478bfddeddfadb94f6c4aef02cd4532f35f7671acef68. Subsequent calls will reuse this data.\n"
     ]
    },
    {
     "data": {
      "application/vnd.jupyter.widget-view+json": {
       "model_id": "91360dd0c5cb4390b9b00ce2513a7149",
       "version_major": 2,
       "version_minor": 0
      },
      "text/plain": [
       "  0%|          | 0/3 [00:00<?, ?it/s]"
      ]
     },
     "metadata": {},
     "output_type": "display_data"
    },
    {
     "name": "stderr",
     "output_type": "stream",
     "text": [
      "No config specified, defaulting to: gsm8k_dataset/gsm8k_thoughtsource\n"
     ]
    },
    {
     "name": "stdout",
     "output_type": "stream",
     "text": [
      "Loading gsm8k\n",
      "Downloading and preparing dataset gsm8k_dataset/gsm8k_thoughtsource to C:\\Users\\ottsi\\.cache\\huggingface\\datasets\\gsm8k_dataset\\gsm8k_thoughtsource\\1.0.0\\46aaf0abb206c284538c0b70ffe806fc761c3a91bbe3c77e4d2f53cda73710e5...\n"
     ]
    },
    {
     "data": {
      "application/vnd.jupyter.widget-view+json": {
       "model_id": "1dd8e66ec4ff41a2be5f2b51edf40594",
       "version_major": 2,
       "version_minor": 0
      },
      "text/plain": [
       "Downloading data files:   0%|          | 0/2 [00:00<?, ?it/s]"
      ]
     },
     "metadata": {},
     "output_type": "display_data"
    },
    {
     "data": {
      "application/vnd.jupyter.widget-view+json": {
       "model_id": "b5dbe1b86b204c20920bba687696ca5c",
       "version_major": 2,
       "version_minor": 0
      },
      "text/plain": [
       "Downloading data:   0%|          | 0.00/1.34M [00:00<?, ?B/s]"
      ]
     },
     "metadata": {},
     "output_type": "display_data"
    },
    {
     "data": {
      "application/vnd.jupyter.widget-view+json": {
       "model_id": "71cf6f0c02af4e69bde09a9696ebe1d6",
       "version_major": 2,
       "version_minor": 0
      },
      "text/plain": [
       "Downloading data:   0%|          | 0.00/242k [00:00<?, ?B/s]"
      ]
     },
     "metadata": {},
     "output_type": "display_data"
    },
    {
     "data": {
      "application/vnd.jupyter.widget-view+json": {
       "model_id": "c9945d5828064bce8292f623c035161d",
       "version_major": 2,
       "version_minor": 0
      },
      "text/plain": [
       "Extracting data files:   0%|          | 0/2 [00:00<?, ?it/s]"
      ]
     },
     "metadata": {},
     "output_type": "display_data"
    },
    {
     "data": {
      "application/vnd.jupyter.widget-view+json": {
       "model_id": "ec0872c79b9943dc9133e61dae4c8590",
       "version_major": 2,
       "version_minor": 0
      },
      "text/plain": [
       "Generating train split: 0 examples [00:00, ? examples/s]"
      ]
     },
     "metadata": {},
     "output_type": "display_data"
    },
    {
     "data": {
      "application/vnd.jupyter.widget-view+json": {
       "model_id": "8b156550a7244b6fb6621dc101faaf98",
       "version_major": 2,
       "version_minor": 0
      },
      "text/plain": [
       "Generating test split: 0 examples [00:00, ? examples/s]"
      ]
     },
     "metadata": {},
     "output_type": "display_data"
    },
    {
     "name": "stdout",
     "output_type": "stream",
     "text": [
      "Dataset gsm8k_dataset downloaded and prepared to C:\\Users\\ottsi\\.cache\\huggingface\\datasets\\gsm8k_dataset\\gsm8k_thoughtsource\\1.0.0\\46aaf0abb206c284538c0b70ffe806fc761c3a91bbe3c77e4d2f53cda73710e5. Subsequent calls will reuse this data.\n"
     ]
    },
    {
     "data": {
      "application/vnd.jupyter.widget-view+json": {
       "model_id": "31b9a3d892d149bbba1c82ab67d3146b",
       "version_major": 2,
       "version_minor": 0
      },
      "text/plain": [
       "  0%|          | 0/2 [00:00<?, ?it/s]"
      ]
     },
     "metadata": {},
     "output_type": "display_data"
    },
    {
     "name": "stderr",
     "output_type": "stream",
     "text": [
      "No config specified, defaulting to: mawps_dataset/mawps_thoughtsource\n"
     ]
    },
    {
     "name": "stdout",
     "output_type": "stream",
     "text": [
      "Loading mawps\n",
      "Downloading and preparing dataset mawps_dataset/mawps_thoughtsource to C:\\Users\\ottsi\\.cache\\huggingface\\datasets\\mawps_dataset\\mawps_thoughtsource\\1.0.0\\a80e283613882f977b6084b927db2a95a18b8122117c197b7a2354f5b8e171a0...\n"
     ]
    },
    {
     "data": {
      "application/vnd.jupyter.widget-view+json": {
       "model_id": "eae3918435f340a391cf4f40a6fa0cd0",
       "version_major": 2,
       "version_minor": 0
      },
      "text/plain": [
       "Downloading data files:   0%|          | 0/2 [00:00<?, ?it/s]"
      ]
     },
     "metadata": {},
     "output_type": "display_data"
    },
    {
     "data": {
      "application/vnd.jupyter.widget-view+json": {
       "model_id": "638f6d75692c432593d51d8863d341bc",
       "version_major": 2,
       "version_minor": 0
      },
      "text/plain": [
       "Downloading data:   0%|          | 0.00/109k [00:00<?, ?B/s]"
      ]
     },
     "metadata": {},
     "output_type": "display_data"
    },
    {
     "data": {
      "application/vnd.jupyter.widget-view+json": {
       "model_id": "c53c84f131f74f63a3743d28e4f9768b",
       "version_major": 2,
       "version_minor": 0
      },
      "text/plain": [
       "Downloading data:   0%|          | 0.00/27.8k [00:00<?, ?B/s]"
      ]
     },
     "metadata": {},
     "output_type": "display_data"
    },
    {
     "data": {
      "application/vnd.jupyter.widget-view+json": {
       "model_id": "6ee12d374e9a45669ed91314489c452f",
       "version_major": 2,
       "version_minor": 0
      },
      "text/plain": [
       "Extracting data files:   0%|          | 0/2 [00:00<?, ?it/s]"
      ]
     },
     "metadata": {},
     "output_type": "display_data"
    },
    {
     "data": {
      "application/vnd.jupyter.widget-view+json": {
       "model_id": "954c5f34a32246c792e95dcef2a40ff1",
       "version_major": 2,
       "version_minor": 0
      },
      "text/plain": [
       "Generating train split: 0 examples [00:00, ? examples/s]"
      ]
     },
     "metadata": {},
     "output_type": "display_data"
    },
    {
     "name": "stdout",
     "output_type": "stream",
     "text": [
      "Dataset mawps_dataset downloaded and prepared to C:\\Users\\ottsi\\.cache\\huggingface\\datasets\\mawps_dataset\\mawps_thoughtsource\\1.0.0\\a80e283613882f977b6084b927db2a95a18b8122117c197b7a2354f5b8e171a0. Subsequent calls will reuse this data.\n"
     ]
    },
    {
     "data": {
      "application/vnd.jupyter.widget-view+json": {
       "model_id": "e57b12b410f94b91b6e78829903009f0",
       "version_major": 2,
       "version_minor": 0
      },
      "text/plain": [
       "  0%|          | 0/1 [00:00<?, ?it/s]"
      ]
     },
     "metadata": {},
     "output_type": "display_data"
    },
    {
     "name": "stderr",
     "output_type": "stream",
     "text": [
      "No config specified, defaulting to: open_book_qa_dataset/open_book_qa_thoughtsource\n"
     ]
    },
    {
     "name": "stdout",
     "output_type": "stream",
     "text": [
      "Loading open_book_qa\n",
      "Downloading and preparing dataset open_book_qa_dataset/open_book_qa_thoughtsource to C:\\Users\\ottsi\\.cache\\huggingface\\datasets\\open_book_qa_dataset\\open_book_qa_thoughtsource\\1.0.0\\ba27b01afa32959931d0c4c8bd9b01fb00a08c312031ab20358460558b4a166f...\n"
     ]
    },
    {
     "data": {
      "application/vnd.jupyter.widget-view+json": {
       "model_id": "76d49c3473e944ddbe8c029f8164088d",
       "version_major": 2,
       "version_minor": 0
      },
      "text/plain": [
       "Downloading data:   0%|          | 0.00/1.45M [00:00<?, ?B/s]"
      ]
     },
     "metadata": {},
     "output_type": "display_data"
    },
    {
     "data": {
      "application/vnd.jupyter.widget-view+json": {
       "model_id": "3cb741d1b47648b49f28199923f24789",
       "version_major": 2,
       "version_minor": 0
      },
      "text/plain": [
       "Generating train split: 0 examples [00:00, ? examples/s]"
      ]
     },
     "metadata": {},
     "output_type": "display_data"
    },
    {
     "data": {
      "application/vnd.jupyter.widget-view+json": {
       "model_id": "4f5e5f91bdf84ff68869de16facd79bf",
       "version_major": 2,
       "version_minor": 0
      },
      "text/plain": [
       "Generating test split: 0 examples [00:00, ? examples/s]"
      ]
     },
     "metadata": {},
     "output_type": "display_data"
    },
    {
     "data": {
      "application/vnd.jupyter.widget-view+json": {
       "model_id": "8b25ec325eef44609102866fb0a2f733",
       "version_major": 2,
       "version_minor": 0
      },
      "text/plain": [
       "Generating validation split: 0 examples [00:00, ? examples/s]"
      ]
     },
     "metadata": {},
     "output_type": "display_data"
    },
    {
     "name": "stdout",
     "output_type": "stream",
     "text": [
      "Dataset open_book_qa_dataset downloaded and prepared to C:\\Users\\ottsi\\.cache\\huggingface\\datasets\\open_book_qa_dataset\\open_book_qa_thoughtsource\\1.0.0\\ba27b01afa32959931d0c4c8bd9b01fb00a08c312031ab20358460558b4a166f. Subsequent calls will reuse this data.\n"
     ]
    },
    {
     "data": {
      "application/vnd.jupyter.widget-view+json": {
       "model_id": "1b80897ace1649d4952ec7d026eceb20",
       "version_major": 2,
       "version_minor": 0
      },
      "text/plain": [
       "  0%|          | 0/3 [00:00<?, ?it/s]"
      ]
     },
     "metadata": {},
     "output_type": "display_data"
    },
    {
     "name": "stderr",
     "output_type": "stream",
     "text": [
      "No config specified, defaulting to: qed_dataset/qed_thoughtsource\n"
     ]
    },
    {
     "name": "stdout",
     "output_type": "stream",
     "text": [
      "Loading qed\n",
      "Downloading and preparing dataset qed_dataset/qed_thoughtsource to C:\\Users\\ottsi\\.cache\\huggingface\\datasets\\qed_dataset\\qed_thoughtsource\\1.0.0\\35d98701d63a4c5847f9a609484dacc3bf36a412b6f99b87f05995f7da8f292d...\n"
     ]
    },
    {
     "data": {
      "application/vnd.jupyter.widget-view+json": {
       "model_id": "ee854278666e4601bf89cf52852a41c7",
       "version_major": 2,
       "version_minor": 0
      },
      "text/plain": [
       "Downloading data files:   0%|          | 0/2 [00:00<?, ?it/s]"
      ]
     },
     "metadata": {},
     "output_type": "display_data"
    },
    {
     "data": {
      "application/vnd.jupyter.widget-view+json": {
       "model_id": "c4bdceed535340ef900e099f5c9bf95e",
       "version_major": 2,
       "version_minor": 0
      },
      "text/plain": [
       "Downloading data:   0%|          | 0.00/3.05M [00:00<?, ?B/s]"
      ]
     },
     "metadata": {},
     "output_type": "display_data"
    },
    {
     "data": {
      "application/vnd.jupyter.widget-view+json": {
       "model_id": "0bc94de9e4704c11bdd8b61707fd6764",
       "version_major": 2,
       "version_minor": 0
      },
      "text/plain": [
       "Downloading data:   0%|          | 0.00/553k [00:00<?, ?B/s]"
      ]
     },
     "metadata": {},
     "output_type": "display_data"
    },
    {
     "data": {
      "application/vnd.jupyter.widget-view+json": {
       "model_id": "ee87ec1ed47e469d880034f5f304cc8c",
       "version_major": 2,
       "version_minor": 0
      },
      "text/plain": [
       "Extracting data files:   0%|          | 0/2 [00:00<?, ?it/s]"
      ]
     },
     "metadata": {},
     "output_type": "display_data"
    },
    {
     "data": {
      "application/vnd.jupyter.widget-view+json": {
       "model_id": "96ecab57a8ce4453bbcc29994f1448bf",
       "version_major": 2,
       "version_minor": 0
      },
      "text/plain": [
       "Generating train split: 0 examples [00:00, ? examples/s]"
      ]
     },
     "metadata": {},
     "output_type": "display_data"
    },
    {
     "data": {
      "application/vnd.jupyter.widget-view+json": {
       "model_id": "0faab770dde747759d00941c9000af34",
       "version_major": 2,
       "version_minor": 0
      },
      "text/plain": [
       "Generating validation split: 0 examples [00:00, ? examples/s]"
      ]
     },
     "metadata": {},
     "output_type": "display_data"
    },
    {
     "name": "stdout",
     "output_type": "stream",
     "text": [
      "Dataset qed_dataset downloaded and prepared to C:\\Users\\ottsi\\.cache\\huggingface\\datasets\\qed_dataset\\qed_thoughtsource\\1.0.0\\35d98701d63a4c5847f9a609484dacc3bf36a412b6f99b87f05995f7da8f292d. Subsequent calls will reuse this data.\n"
     ]
    },
    {
     "data": {
      "application/vnd.jupyter.widget-view+json": {
       "model_id": "8d087ab24de740808f8dc71938b33415",
       "version_major": 2,
       "version_minor": 0
      },
      "text/plain": [
       "  0%|          | 0/2 [00:00<?, ?it/s]"
      ]
     },
     "metadata": {},
     "output_type": "display_data"
    },
    {
     "name": "stderr",
     "output_type": "stream",
     "text": [
      "No config specified, defaulting to: strategy_qa_dataset/strategy_qa_thoughtsource\n"
     ]
    },
    {
     "name": "stdout",
     "output_type": "stream",
     "text": [
      "Loading strategy_qa\n",
      "Downloading and preparing dataset strategy_qa_dataset/strategy_qa_thoughtsource to C:\\Users\\ottsi\\.cache\\huggingface\\datasets\\strategy_qa_dataset\\strategy_qa_thoughtsource\\1.0.0\\23d6a36f0eeb86c8049e53444da99f62daac1e9062bb151f45f8e0272770bfc6...\n"
     ]
    },
    {
     "data": {
      "application/vnd.jupyter.widget-view+json": {
       "model_id": "94ee63459f684a2f9bce69c870b28687",
       "version_major": 2,
       "version_minor": 0
      },
      "text/plain": [
       "Downloading data:   0%|          | 0.00/3.43M [00:00<?, ?B/s]"
      ]
     },
     "metadata": {},
     "output_type": "display_data"
    },
    {
     "data": {
      "application/vnd.jupyter.widget-view+json": {
       "model_id": "364976d5047a4da7b3f132b71493f947",
       "version_major": 2,
       "version_minor": 0
      },
      "text/plain": [
       "Generating train split: 0 examples [00:00, ? examples/s]"
      ]
     },
     "metadata": {},
     "output_type": "display_data"
    },
    {
     "data": {
      "application/vnd.jupyter.widget-view+json": {
       "model_id": "6fd0c6f8e89f4307a64013359e21245b",
       "version_major": 2,
       "version_minor": 0
      },
      "text/plain": [
       "Generating test split: 0 examples [00:00, ? examples/s]"
      ]
     },
     "metadata": {},
     "output_type": "display_data"
    },
    {
     "name": "stdout",
     "output_type": "stream",
     "text": [
      "Dataset strategy_qa_dataset downloaded and prepared to C:\\Users\\ottsi\\.cache\\huggingface\\datasets\\strategy_qa_dataset\\strategy_qa_thoughtsource\\1.0.0\\23d6a36f0eeb86c8049e53444da99f62daac1e9062bb151f45f8e0272770bfc6. Subsequent calls will reuse this data.\n"
     ]
    },
    {
     "data": {
      "application/vnd.jupyter.widget-view+json": {
       "model_id": "5b39ca4f27a346c7b1dedbcb2adbb3e7",
       "version_major": 2,
       "version_minor": 0
      },
      "text/plain": [
       "  0%|          | 0/2 [00:00<?, ?it/s]"
      ]
     },
     "metadata": {},
     "output_type": "display_data"
    },
    {
     "name": "stderr",
     "output_type": "stream",
     "text": [
      "No config specified, defaulting to: svamp_dataset/svamp_thoughtsource\n"
     ]
    },
    {
     "name": "stdout",
     "output_type": "stream",
     "text": [
      "Loading svamp\n",
      "Downloading and preparing dataset svamp_dataset/svamp_thoughtsource to C:\\Users\\ottsi\\.cache\\huggingface\\datasets\\svamp_dataset\\svamp_thoughtsource\\1.0.0\\7b2758744b45ebc2375e9ec4c14e14d778839dbc886aa23f7993384328bced8a...\n"
     ]
    },
    {
     "data": {
      "application/vnd.jupyter.widget-view+json": {
       "model_id": "43fd09b3e001418eb0e4fd445f443bf1",
       "version_major": 2,
       "version_minor": 0
      },
      "text/plain": [
       "Downloading data:   0%|          | 0.00/56.4k [00:00<?, ?B/s]"
      ]
     },
     "metadata": {},
     "output_type": "display_data"
    },
    {
     "data": {
      "application/vnd.jupyter.widget-view+json": {
       "model_id": "fe5ad63d96354662957fc52f39d4e184",
       "version_major": 2,
       "version_minor": 0
      },
      "text/plain": [
       "Generating train split: 0 examples [00:00, ? examples/s]"
      ]
     },
     "metadata": {},
     "output_type": "display_data"
    },
    {
     "name": "stdout",
     "output_type": "stream",
     "text": [
      "Dataset svamp_dataset downloaded and prepared to C:\\Users\\ottsi\\.cache\\huggingface\\datasets\\svamp_dataset\\svamp_thoughtsource\\1.0.0\\7b2758744b45ebc2375e9ec4c14e14d778839dbc886aa23f7993384328bced8a. Subsequent calls will reuse this data.\n"
     ]
    },
    {
     "data": {
      "application/vnd.jupyter.widget-view+json": {
       "model_id": "31a4dec8cf7c489ea1b6b50ac3d498cf",
       "version_major": 2,
       "version_minor": 0
      },
      "text/plain": [
       "  0%|          | 0/1 [00:00<?, ?it/s]"
      ]
     },
     "metadata": {},
     "output_type": "display_data"
    },
    {
     "name": "stderr",
     "output_type": "stream",
     "text": [
      "No config specified, defaulting to: worldtree_dataset/worldtree_thoughtsource\n"
     ]
    },
    {
     "name": "stdout",
     "output_type": "stream",
     "text": [
      "Loading worldtree\n",
      "Downloading and preparing dataset worldtree_dataset/worldtree_thoughtsource to C:\\Users\\ottsi\\.cache\\huggingface\\datasets\\worldtree_dataset\\worldtree_thoughtsource\\1.0.0\\703581b4ccc1379874e4511884181737cd93371f9a216b7177eab3677a4d05bc...\n"
     ]
    },
    {
     "data": {
      "application/vnd.jupyter.widget-view+json": {
       "model_id": "ae701c82dc854e43a7c040ce85541031",
       "version_major": 2,
       "version_minor": 0
      },
      "text/plain": [
       "Downloading data:   0%|          | 0.00/83.7M [00:00<?, ?B/s]"
      ]
     },
     "metadata": {},
     "output_type": "display_data"
    },
    {
     "data": {
      "application/vnd.jupyter.widget-view+json": {
       "model_id": "40d918b5a20e4ff4aab9e1f7d0980500",
       "version_major": 2,
       "version_minor": 0
      },
      "text/plain": [
       "Generating train split: 0 examples [00:00, ? examples/s]"
      ]
     },
     "metadata": {},
     "output_type": "display_data"
    },
    {
     "data": {
      "application/vnd.jupyter.widget-view+json": {
       "model_id": "15ffeb79d79b42228c442815f91b2b46",
       "version_major": 2,
       "version_minor": 0
      },
      "text/plain": [
       "Generating test split: 0 examples [00:00, ? examples/s]"
      ]
     },
     "metadata": {},
     "output_type": "display_data"
    },
    {
     "data": {
      "application/vnd.jupyter.widget-view+json": {
       "model_id": "2f07acfdfef241a490d148275abfca09",
       "version_major": 2,
       "version_minor": 0
      },
      "text/plain": [
       "Generating validation split: 0 examples [00:00, ? examples/s]"
      ]
     },
     "metadata": {},
     "output_type": "display_data"
    },
    {
     "name": "stdout",
     "output_type": "stream",
     "text": [
      "Dataset worldtree_dataset downloaded and prepared to C:\\Users\\ottsi\\.cache\\huggingface\\datasets\\worldtree_dataset\\worldtree_thoughtsource\\1.0.0\\703581b4ccc1379874e4511884181737cd93371f9a216b7177eab3677a4d05bc. Subsequent calls will reuse this data.\n"
     ]
    },
    {
     "data": {
      "application/vnd.jupyter.widget-view+json": {
       "model_id": "c6aa33237aed4f2a8009bfaec1b76bf3",
       "version_major": 2,
       "version_minor": 0
      },
      "text/plain": [
       "  0%|          | 0/3 [00:00<?, ?it/s]"
      ]
     },
     "metadata": {},
     "output_type": "display_data"
    },
    {
     "name": "stdout",
     "output_type": "stream",
     "text": [
      "| Name            |   Train | Valid   | Test   |\n",
      "|-----------------|---------|---------|--------|\n",
      "| aqua            |   97467 | 254     | 254    |\n",
      "| asdiv           |    1218 | -       | -      |\n",
      "| commonsense_qa  |    9741 | 1221    | 1140   |\n",
      "| entailment_bank |    1313 | 187     | 340    |\n",
      "| gsm8k           |    7473 | -       | 1319   |\n",
      "| mawps           |    1921 | -       | -      |\n",
      "| open_book_qa    |    4957 | 500     | 500    |\n",
      "| qed             |    5154 | 1021    | -      |\n",
      "| strategy_qa     |    2290 | -       | 490    |\n",
      "| svamp           |    1000 | -       | -      |\n",
      "| worldtree       |    2207 | 496     | 1664   |\n",
      "\n",
      "Not loaded: []\n"
     ]
    }
   ],
   "source": [
    "# load all available datasets\n",
    "collection = Collection('all')\n",
    "print(collection)"
   ]
  },
  {
   "cell_type": "code",
   "execution_count": 19,
   "metadata": {},
   "outputs": [
    {
     "data": {
      "text/plain": [
       "{'id': '0',\n",
       " 'question_id': '0',\n",
       " 'document_id': '0',\n",
       " 'question': 'A car is being driven, in a straight line and at a uniform speed, towards the base of a vertical tower. The top of the tower is observed from the car and, in the process, it takes 10 minutes for the angle of elevation to change from 45° to 60°. After how much more time will this car reach the base of the tower?',\n",
       " 'type': 'multiplechoice',\n",
       " 'cot_type': 'list',\n",
       " 'choices': ['5(√3 + 1', '6(√3 + √2', '7(√3 – 1', '8(√3 – 2', 'None of these'],\n",
       " 'context': '',\n",
       " 'cot': ['Explanation :',\n",
       "  'Let the height of the building be h. Initially, he was at an angle of 450. tan 45 = h\\\\/distance between car and tower. h = distance between car and tower (since tan 45 = 1).',\n",
       "  'Now, after 10 minutes, it travelled a certain distance, and angle changed to 600.',\n",
       "  'tan 60 = h\\\\/x x = h\\\\/√3',\n",
       "  'So, in 10 minutes, it has travelled a distance of h – x = h - h\\\\/√3.',\n",
       "  '10 minutes = h *( 1 – 1√3)',\n",
       "  'h can be travelled in 10 \\\\/ (1 – 1√3).',\n",
       "  'To travel a distance of x, which is h\\\\/√3, it takes :',\n",
       "  'h = 10 \\\\/ (1 – 1\\\\/√3)',\n",
       "  'h \\\\/ √3 = 10\\\\/ √3 * (1 – 1\\\\/√3). Multiply numerator and denominator by 1 + √3 ( conjugate of 1 - √3). We get, x = h\\\\/√3 = 10 (1 + √3) \\\\/ 2 = 5* (1 + √3)',\n",
       "  'So, it takes 5(1 + √3) minutes to reach the base of the tower.',\n",
       "  'Answer : A'],\n",
       " 'answer': ['5(√3 + 1'],\n",
       " 'generated_cot': [],\n",
       " 'feedback': []}"
      ]
     },
     "execution_count": 19,
     "metadata": {},
     "output_type": "execute_result"
    }
   ],
   "source": [
    "\n",
    "from dataloader.utils import schemas\n",
    "\n",
    "a = schemas.cot_features\n",
    "\n",
    "b = {\"generated_cot\": [], \"id\":\"0\",\"question_id\":\"0\",\"document_id\":\"0\",\"question\":\"A car is being driven, in a straight line and at a uniform speed, towards the base of a vertical tower. The top of the tower is observed from the car and, in the process, it takes 10 minutes for the angle of elevation to change from 45\\u00b0 to 60\\u00b0. After how much more time will this car reach the base of the tower?\",\"type\":\"multiplechoice\",\"cot_type\":\"list\",\"choices\":[\"5(\\u221a3 + 1\",\"6(\\u221a3 + \\u221a2\",\"7(\\u221a3 \\u2013 1\",\"8(\\u221a3 \\u2013 2\",\"None of these\"],\"context\":\"\",\"answer\":[\"5(\\u221a3 + 1\"],\"cot\":[\"Explanation :\",\"Let the height of the building be h. Initially, he was at an angle of 450. tan 45 = h\\/distance between car and tower. h = distance between car and tower (since tan 45 = 1).\",\"Now, after 10 minutes, it travelled a certain distance, and angle changed to 600.\",\"tan 60 = h\\/x x = h\\/\\u221a3\",\"So, in 10 minutes, it has travelled a distance of h \\u2013 x = h - h\\/\\u221a3.\",\"10 minutes = h *( 1 \\u2013 1\\u221a3)\",\"h can be travelled in 10 \\/ (1 \\u2013 1\\u221a3).\",\"To travel a distance of x, which is h\\/\\u221a3, it takes :\",\"h = 10 \\/ (1 \\u2013 1\\/\\u221a3)\",\"h \\/ \\u221a3 = 10\\/ \\u221a3 * (1 \\u2013 1\\/\\u221a3). Multiply numerator and denominator by 1 + \\u221a3 ( conjugate of 1 - \\u221a3). We get, x = h\\/\\u221a3 = 10 (1 + \\u221a3) \\/ 2 = 5* (1 + \\u221a3)\",\"So, it takes 5(1 + \\u221a3) minutes to reach the base of the tower.\",\"Answer : A\"],\"feedback\":[]}\n",
    "\n",
    "a.encode_example(b)"
   ]
  },
  {
   "cell_type": "markdown",
   "metadata": {},
   "source": [
    "Dump everything in a json"
   ]
  },
  {
   "cell_type": "code",
   "execution_count": 10,
   "metadata": {},
   "outputs": [
    {
     "data": {
      "text/plain": [
       "dict"
      ]
     },
     "execution_count": 10,
     "metadata": {},
     "output_type": "execute_result"
    }
   ],
   "source": [
    "type(a[\"generated_cot\"][0])"
   ]
  },
  {
   "cell_type": "code",
   "execution_count": 15,
   "metadata": {},
   "outputs": [
    {
     "ename": "NameError",
     "evalue": "name 'collection' is not defined",
     "output_type": "error",
     "traceback": [
      "\u001b[1;31m---------------------------------------------------------------------------\u001b[0m",
      "\u001b[1;31mNameError\u001b[0m                                 Traceback (most recent call last)",
      "\u001b[1;32m~\\AppData\\Local\\Temp\\ipykernel_19504\\309958448.py\u001b[0m in \u001b[0;36m<module>\u001b[1;34m\u001b[0m\n\u001b[1;32m----> 1\u001b[1;33m \u001b[0mcollection\u001b[0m\u001b[1;33m[\u001b[0m\u001b[1;34m\"aqua\"\u001b[0m\u001b[1;33m]\u001b[0m\u001b[1;33m[\u001b[0m\u001b[1;34m\"train\"\u001b[0m\u001b[1;33m]\u001b[0m\u001b[1;33m[\u001b[0m\u001b[1;36m0\u001b[0m\u001b[1;33m]\u001b[0m\u001b[1;33m\u001b[0m\u001b[1;33m\u001b[0m\u001b[0m\n\u001b[0m",
      "\u001b[1;31mNameError\u001b[0m: name 'collection' is not defined"
     ]
    }
   ],
   "source": [
    "collection[\"aqua\"][\"train\"][0]"
   ]
  },
  {
   "cell_type": "code",
   "execution_count": null,
   "metadata": {},
   "outputs": [],
   "source": [
    "collection.dump(single_file=True)"
   ]
  },
  {
   "cell_type": "code",
   "execution_count": null,
   "metadata": {},
   "outputs": [],
   "source": [
    "import json\n",
    "import io\n",
    "from collections import defaultdict"
   ]
  },
  {
   "cell_type": "code",
   "execution_count": null,
   "metadata": {},
   "outputs": [],
   "source": [
    "name = \"entailment_bank\"\n",
    "dataset_dict__ = collection[\"entailment_bank\"][\"train\"].to_pandas()\n",
    "dataset_dict__"
   ]
  },
  {
   "cell_type": "code",
   "execution_count": null,
   "metadata": {},
   "outputs": [],
   "source": [
    "with open(\"test.json\", \"wb\") as outfile:\n",
    "    outfile.write(f.getbuffer())"
   ]
  },
  {
   "cell_type": "code",
   "execution_count": null,
   "metadata": {},
   "outputs": [],
   "source": [
    "with open(f\"all.json\", \"w\") as outfile:\n",
    "    # use json library to prettify output\n",
    "    json.dump(json.load(f), outfile, indent = 4)"
   ]
  },
  {
   "cell_type": "code",
   "execution_count": null,
   "metadata": {},
   "outputs": [],
   "source": [
    "print(f.read())"
   ]
  },
  {
   "cell_type": "code",
   "execution_count": null,
   "metadata": {},
   "outputs": [],
   "source": [
    "import json"
   ]
  },
  {
   "cell_type": "code",
   "execution_count": null,
   "metadata": {},
   "outputs": [],
   "source": [
    "print(f.read().decode())"
   ]
  },
  {
   "cell_type": "code",
   "execution_count": null,
   "metadata": {},
   "outputs": [],
   "source": [
    "json.load(f)"
   ]
  },
  {
   "cell_type": "code",
   "execution_count": null,
   "metadata": {},
   "outputs": [],
   "source": [
    "with open(f\"all.json\", \"w\") as outfile:\n",
    "    # use json library to prettify output\n",
    "    json.dump(json.load(f), outfile, indent = 4)"
   ]
  },
  {
   "cell_type": "code",
   "execution_count": null,
   "metadata": {},
   "outputs": [],
   "source": [
    "f.getbuffer().tolist()"
   ]
  },
  {
   "cell_type": "code",
   "execution_count": null,
   "metadata": {},
   "outputs": [],
   "source": [
    "import io\n",
    "f = io.BytesIO()\n",
    "f.write(b\"{\\\"1\\\": 2}\")"
   ]
  },
  {
   "cell_type": "code",
   "execution_count": null,
   "metadata": {},
   "outputs": [],
   "source": [
    "\n"
   ]
  },
  {
   "cell_type": "code",
   "execution_count": null,
   "metadata": {},
   "outputs": [],
   "source": [
    "import json\n",
    "json.dumps(collection[\"entailment_bank\"][\"test\"])"
   ]
  },
  {
   "cell_type": "markdown",
   "metadata": {},
   "source": [
    "Print available prompt templates"
   ]
  },
  {
   "cell_type": "code",
   "execution_count": null,
   "metadata": {},
   "outputs": [],
   "source": [
    "pprint(TEMPLATES)"
   ]
  },
  {
   "cell_type": "code",
   "execution_count": null,
   "metadata": {},
   "outputs": [],
   "source": [
    "for item in collection[\"worldtree\"][\"train\"]:\n",
    "    for key, prompt in apply_templates(item).items():\n",
    "        print(f\"Template combination {key}\")\n",
    "        print()\n",
    "        print(prompt)\n",
    "        print()\n",
    "    break"
   ]
  },
  {
   "cell_type": "code",
   "execution_count": null,
   "metadata": {},
   "outputs": [],
   "source": [
    "for item in collection[\"worldtree\"][\"train\"]:\n",
    "    for key, prompt in apply_templates(item, answer_extraction=True).items():\n",
    "        print(f\"Template combination {key}\")\n",
    "        print()\n",
    "        print(prompt)\n",
    "        print()\n",
    "    break"
   ]
  }
 ],
 "metadata": {
  "kernelspec": {
   "display_name": "Python 3.7.9 ('venv': venv)",
   "language": "python",
   "name": "python3"
  },
  "language_info": {
   "codemirror_mode": {
    "name": "ipython",
    "version": 3
   },
   "file_extension": ".py",
   "mimetype": "text/x-python",
   "name": "python",
   "nbconvert_exporter": "python",
   "pygments_lexer": "ipython3",
   "version": "3.7.9"
  },
  "orig_nbformat": 4,
  "vscode": {
   "interpreter": {
    "hash": "241b41e964f632d57720da31ab5eea0b61f2aaba38c8b906c67dcfd29a03cc95"
   }
  }
 },
 "nbformat": 4,
 "nbformat_minor": 2
}
