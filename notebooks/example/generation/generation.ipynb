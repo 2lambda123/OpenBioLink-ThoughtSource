{
 "cells": [
  {
   "cell_type": "code",
   "execution_count": 2,
   "id": "0b410b12-370e-48f5-9a93-9f7821ed847e",
   "metadata": {},
   "outputs": [],
   "source": [
    "from cot import Collection, stats\n",
    "from pprint import pprint"
   ]
  },
  {
   "cell_type": "markdown",
   "id": "bb5ec6ef-31a1-41f6-98df-ca1df05a5a25",
   "metadata": {},
   "source": [
    "# Random Sampling from Datasets"
   ]
  },
  {
   "cell_type": "code",
   "execution_count": 5,
   "id": "6a3bc2e7-f4f6-434b-8722-609b55fe0c0f",
   "metadata": {},
   "outputs": [
    {
     "name": "stdout",
     "output_type": "stream",
     "text": [
      "Loading worldtree...\n",
      "| Name      |   Train |   Valid |   Test |\n",
      "|-----------|---------|---------|--------|\n",
      "| worldtree |    2207 |     496 |   1664 |\n",
      "\n",
      "Not loaded: ['aqua', 'asdiv', 'commonsense_qa', 'entailment_bank', 'gsm8k', 'mawps', 'open_book_qa', 'qed', 'strategy_qa', 'svamp']\n"
     ]
    }
   ],
   "source": [
    "# load datasets to sample from\n",
    "collection = Collection([\"worldtree\"], verbose=False)\n",
    "print(collection)"
   ]
  },
  {
   "cell_type": "code",
   "execution_count": 4,
   "id": "ea911fae",
   "metadata": {},
   "outputs": [
    {
     "name": "stderr",
     "output_type": "stream",
     "text": [
      "No config specified, defaulting to: worldtree_dataset/worldtree_thoughtsource\n"
     ]
    }
   ],
   "source": [
    "# you can also extend an existing json\n",
    "# collection = Collection.from_json(\"generation.json\")"
   ]
  },
  {
   "cell_type": "code",
   "execution_count": 6,
   "id": "379dde04-6d68-4ca0-a7b2-0a2eb552686a",
   "metadata": {},
   "outputs": [],
   "source": [
    "# define number of random samples per dataset\n",
    "number_of_samples = 100\n",
    "\n",
    "# define subset to sample from (train/validation/test)\n",
    "subset_name = 'train'\n",
    "\n",
    "# set seed for reproducibility\n",
    "seed = True"
   ]
  },
  {
   "cell_type": "code",
   "execution_count": 7,
   "id": "cb5cd82e-7072-4e3c-90a3-6f1136383741",
   "metadata": {},
   "outputs": [],
   "source": [
    "import random\n",
    "import copy\n",
    "\n",
    "random_sampled_collection = copy.deepcopy(collection)\n",
    "\n",
    "for dataset in random_sampled_collection:\n",
    "    _ , dataset_dict = dataset\n",
    "    subset = copy.deepcopy(dataset_dict[subset_name])\n",
    "    #get number of samples in subset\n",
    "    samples_count = subset.num_rows\n",
    "    # set seed for reproducibility\n",
    "    if seed:\n",
    "        random.seed(0)\n",
    "    random_ids = random.sample(range(samples_count), number_of_samples)\n",
    "    # sample from subset\n",
    "    random_subset = subset.select(random_ids)\n",
    "    # clear original dictionary\n",
    "    dataset_dict.clear()\n",
    "    # reinsert selected samples\n",
    "    dataset_dict[subset_name] = random_subset\n",
    "    "
   ]
  },
  {
   "cell_type": "code",
   "execution_count": 8,
   "id": "b3295f79-9422-4060-b0bc-79b511523e4f",
   "metadata": {},
   "outputs": [
    {
     "data": {
      "text/plain": [
       "| Name      |   Train | Valid   | Test   |\n",
       "|-----------|---------|---------|--------|\n",
       "| worldtree |     100 | -       | -      |\n",
       "\n",
       "Not loaded: ['aqua', 'asdiv', 'commonsense_qa', 'entailment_bank', 'gsm8k', 'mawps', 'open_book_qa', 'qed', 'strategy_qa', 'svamp']"
      ]
     },
     "execution_count": 8,
     "metadata": {},
     "output_type": "execute_result"
    }
   ],
   "source": [
    "random_sampled_collection"
   ]
  },
  {
   "cell_type": "markdown",
   "id": "4f57e102",
   "metadata": {},
   "source": [
    "# Generate CoT"
   ]
  },
  {
   "cell_type": "code",
   "execution_count": 9,
   "id": "0444b5ef",
   "metadata": {},
   "outputs": [
    {
     "name": "stdout",
     "output_type": "stream",
     "text": [
      "You are about to call the openai API which produces costs.\n",
      "Due to your settings you are about to call the openai API in total 200 times.\n",
      "Number API calls for CoT generation: n_samples * n_instruction_keys * n_cot_trigger_keys\n",
      "Number API calls for answer extraction: n_samples * n_instruction_keys * n_cot_trigger_keys * n_answer_extraction_keys\n",
      "Do you want to continue? y/n\n",
      "\n"
     ]
    }
   ],
   "source": [
    "config={\n",
    "    \"debug\": True,\n",
    "    \"instruction_keys\": [None],\n",
    "    \"cot_trigger_keys\": [\n",
    "        'kojima-01'\n",
    "    ],\n",
    "    \"answer_extraction_keys\": [\n",
    "        'kojima-01'\n",
    "    ],\n",
    "    \"author\" : \"simon\",\n",
    "    \"engine\": \"text-davinci-002\",\n",
    "    \"temperature\": 0,\n",
    "    \"max_tokens\": 512,\n",
    "    \"api_time_interval\": 1.0,\n",
    "    \"verbose\": False\n",
    "}\n",
    "random_sampled_collection.generate(name=\"worldtree\", config=config)"
   ]
  },
  {
   "cell_type": "code",
   "execution_count": 10,
   "id": "e4474723",
   "metadata": {},
   "outputs": [],
   "source": [
    "random_sampled_collection.dump(\"asdf.json\")"
   ]
  },
  {
   "cell_type": "code",
   "execution_count": 11,
   "id": "f0dbfdb9",
   "metadata": {},
   "outputs": [
    {
     "data": {
      "text/plain": [
       "{'id': '1577',\n",
       " 'question_id': '1577',\n",
       " 'document_id': '1577',\n",
       " 'question': 'A parent and a child share several characteristics. Both individuals are tall, have curly hair, are good cooks, and have freckles. Which of these characteristics is a learned behavior?',\n",
       " 'type': 'multiplechoice',\n",
       " 'cot_type': 'list',\n",
       " 'choices': ['being tall',\n",
       "  'having curly hair',\n",
       "  'being a good cook',\n",
       "  'having freckles'],\n",
       " 'context': '',\n",
       " 'cot': ['Skills are learned characteristics.',\n",
       "  'A behavior is a kind of characteristic.',\n",
       "  'Cooking is a kind of skill for preparing food.'],\n",
       " 'answer': ['being a good cook'],\n",
       " 'generated_cot': [{'annotation': [],\n",
       "   'answers': [{'answer': 'test',\n",
       "     'answer-extraction': 'kojima-01',\n",
       "     'correct_answer': None}],\n",
       "   'author': 'simon',\n",
       "   'comment': '',\n",
       "   'cot': 'test',\n",
       "   'cot-trigger': 'kojima-01',\n",
       "   'date': '2022/11/03 15:52:01',\n",
       "   'instruction': None,\n",
       "   'model': {'max_tokens': 512, 'name': 'text-davinci-002', 'temperature': 0},\n",
       "   'templates_version': '0.01'}],\n",
       " 'feedback': []}"
      ]
     },
     "execution_count": 11,
     "metadata": {},
     "output_type": "execute_result"
    }
   ],
   "source": [
    "random_sampled_collection[\"worldtree\"][\"train\"][0]"
   ]
  }
 ],
 "metadata": {
  "kernelspec": {
   "display_name": "Python 3.7.9 ('venv': venv)",
   "language": "python",
   "name": "python3"
  },
  "language_info": {
   "codemirror_mode": {
    "name": "ipython",
    "version": 3
   },
   "file_extension": ".py",
   "mimetype": "text/x-python",
   "name": "python",
   "nbconvert_exporter": "python",
   "pygments_lexer": "ipython3",
   "version": "3.7.9"
  },
  "vscode": {
   "interpreter": {
    "hash": "241b41e964f632d57720da31ab5eea0b61f2aaba38c8b906c67dcfd29a03cc95"
   }
  }
 },
 "nbformat": 4,
 "nbformat_minor": 5
}
