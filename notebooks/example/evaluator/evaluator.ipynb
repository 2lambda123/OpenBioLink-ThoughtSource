{
 "cells": [
  {
   "cell_type": "code",
   "execution_count": 1,
   "metadata": {},
   "outputs": [],
   "source": [
    "from dataloader import Collection\n",
    "from cot.evaluate import evaluate\n",
    "from pprint import pprint"
   ]
  },
  {
   "cell_type": "code",
   "execution_count": 2,
   "metadata": {},
   "outputs": [
    {
     "name": "stderr",
     "output_type": "stream",
     "text": [
      "No config specified, defaulting to: worldtree_dataset/worldtree_thoughtsource\n"
     ]
    },
    {
     "name": "stdout",
     "output_type": "stream",
     "text": [
      "{'accuracy': {'None_kojima-01_kojima-01': 0.84}}\n"
     ]
    }
   ],
   "source": [
    "collection = Collection.from_json(r\"C:\\Users\\ottsi\\ThoughtSource\\notebooks\\example\\generation\\generation.json\")\n",
    "evaluation = evaluate(collection[\"worldtree\"][\"train\"])\n",
    "pprint(evaluation)"
   ]
  },
  {
   "cell_type": "code",
   "execution_count": null,
   "metadata": {},
   "outputs": [],
   "source": []
  }
 ],
 "metadata": {
  "kernelspec": {
   "display_name": "Python 3.7.9 ('venv': venv)",
   "language": "python",
   "name": "python3"
  },
  "language_info": {
   "codemirror_mode": {
    "name": "ipython",
    "version": 3
   },
   "file_extension": ".py",
   "mimetype": "text/x-python",
   "name": "python",
   "nbconvert_exporter": "python",
   "pygments_lexer": "ipython3",
   "version": "3.7.9"
  },
  "orig_nbformat": 4,
  "vscode": {
   "interpreter": {
    "hash": "241b41e964f632d57720da31ab5eea0b61f2aaba38c8b906c67dcfd29a03cc95"
   }
  }
 },
 "nbformat": 4,
 "nbformat_minor": 2
}
