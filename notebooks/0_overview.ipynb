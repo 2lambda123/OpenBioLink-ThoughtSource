{
 "cells": [
  {
   "cell_type": "code",
   "execution_count": 1,
   "metadata": {},
   "outputs": [],
   "source": [
    "%load_ext autoreload\n",
    "%autoreload 2\n",
    "\n",
    "import datetime\n",
    "import json\n",
    "import os\n",
    "import pkgutil\n",
    "import time\n",
    "import uuid\n",
    "import pydantic\n",
    "from langchain.prompts import BasePromptTemplate\n",
    "from pydantic import BaseModel\n",
    "\n",
    "from langchain.chains import LLMChain\n",
    "from langchain.prompts import PromptTemplate\n",
    "\n",
    "import datasets as ds\n",
    "\n",
    "TEMPLATES = json.loads(pkgutil.get_data(\"cot\", \"templates.json\"))"
   ]
  },
  {
   "cell_type": "code",
   "execution_count": 2,
   "metadata": {},
   "outputs": [],
   "source": [
    "from cot.config import Config\n",
    "from cot import Collection\n",
    "from cot.generate import multiple_choice_answer_formatting\n",
    "from dataclasses import asdict"
   ]
  },
  {
   "cell_type": "code",
   "execution_count": 3,
   "metadata": {},
   "outputs": [],
   "source": [
    "config={\n",
    "    \"debug\": True,\n",
    "    \"multiple_choice_answer_format\": \"Letters\",\n",
    "    \"instruction_keys\": ['qa-01'],\n",
    "    \"cot_trigger_keys\": ['kojima-01'],\n",
    "    \"answer_extraction_keys\": ['kojima-A-D'],\n",
    "    \"warn\": False,\n",
    "    \"verbose\": False,\n",
    "}"
   ]
  },
  {
   "cell_type": "code",
   "execution_count": 4,
   "metadata": {},
   "outputs": [],
   "source": [
    "config[\"template_cot_generation\"] = \"\"\"Does this work?\"\"\"\n",
    "config[\"template_answer_extraction\"] = \"\"\"Does this work?\"\"\""
   ]
  },
  {
   "cell_type": "code",
   "execution_count": 4,
   "metadata": {},
   "outputs": [
    {
     "data": {
      "text/plain": [
       "Config(idx_range='all', multiple_choice_answer_format='Letters', instruction_keys=['qa-01'], cot_trigger_keys=['kojima-01'], answer_extraction_keys=['kojima-A-D'], template_cot_generation='\\n{instruction}\\n\\n{question}\\n{answer_choices}\\n\\n{cot_trigger}\\n', template_answer_extraction='\\n{instruction}\\n\\n{question}\\n{answer_choices}\\n\\n{cot_trigger}\\n{cot}\\n{answer_extraction}\\n', author='', api_service='huggingface_hub', engine='google/flan-t5-xl', temperature=0.0, max_tokens=128, api_time_interval=1.0, debug=True, verbose=False, warn=False)"
      ]
     },
     "execution_count": 4,
     "metadata": {},
     "output_type": "execute_result"
    }
   ],
   "source": [
    "Config.from_dict(config)"
   ]
  },
  {
   "cell_type": "code",
   "execution_count": 31,
   "metadata": {},
   "outputs": [
    {
     "name": "stdout",
     "output_type": "stream",
     "text": [
      "Loading worldtree...\n"
     ]
    }
   ],
   "source": [
    "# 1) Dataset load and selecting random sample\n",
    "collection = Collection([\"worldtree\"], verbose=False)\n",
    "collection = collection.select(split=\"train\", number_samples=1, random_samples=True, seed=False)"
   ]
  },
  {
   "cell_type": "code",
   "execution_count": 6,
   "metadata": {},
   "outputs": [
    {
     "name": "stderr",
     "output_type": "stream",
     "text": [
      "[nltk_data] Downloading package punkt to /home/kon/nltk_data...\n",
      "[nltk_data]   Package punkt is already up-to-date!\n"
     ]
    }
   ],
   "source": [
    "collection = Collection.from_json(\"../libs/cot/tests/unit_tests/data/test_1_dataset.json\")"
   ]
  },
  {
   "cell_type": "code",
   "execution_count": 7,
   "metadata": {},
   "outputs": [
    {
     "data": {
      "application/vnd.jupyter.widget-view+json": {
       "model_id": "63182dc9d7054bf986523c0e6dc45365",
       "version_major": 2,
       "version_minor": 0
      },
      "text/plain": [
       "  0%|          | 0/1 [00:00<?, ?ex/s]"
      ]
     },
     "metadata": {},
     "output_type": "display_data"
    }
   ],
   "source": [
    "collection.generate(config=config)"
   ]
  },
  {
   "cell_type": "code",
   "execution_count": 10,
   "metadata": {},
   "outputs": [
    {
     "data": {
      "text/plain": [
       "| Name           |   Train | Valid   | Test   |\n",
       "|----------------|---------|---------|--------|\n",
       "| commonsense_qa |       1 | -       | -      |\n",
       "| worldtree      |    2207 | 496     | 1664   |\n",
       "\n",
       "Not loaded: ['aqua', 'asdiv', 'entailment_bank', 'gsm8k', 'mawps', 'med_qa', 'medmc_qa', 'open_book_qa', 'pubmed_qa', 'qed', 'strategy_qa', 'svamp']"
      ]
     },
     "execution_count": 10,
     "metadata": {},
     "output_type": "execute_result"
    }
   ],
   "source": [
    "collection"
   ]
  },
  {
   "cell_type": "code",
   "execution_count": 9,
   "metadata": {},
   "outputs": [
    {
     "data": {
      "text/plain": [
       "{'id': '12345',\n",
       " 'ref_id': '',\n",
       " 'question': 'Question',\n",
       " 'type': 'multiplechoice',\n",
       " 'choices': ['choice A', 'choice B', 'choice C', 'choice D'],\n",
       " 'context': '',\n",
       " 'cot': ['Given cot line 1', 'Given cot line 2', 'Given cot line 3'],\n",
       " 'answer': ['choice 3'],\n",
       " 'generated_cot': [{'id': '92e31eb8-04ee-4ff7-b81a-e4e69a86246c',\n",
       "   'templates_version': '0.01',\n",
       "   'instruction': 'qa-01',\n",
       "   'cot_trigger': 'kojima-01',\n",
       "   'prompt_text': 'Does this work?',\n",
       "   'answers': [{'id': 'c04f5109-edae-4d33-821a-f84c33d6b8e8',\n",
       "     'answer_extraction': 'kojima-A-D',\n",
       "     'answer_extraction_text': 'Does this work?',\n",
       "     'answer': 'test',\n",
       "     'correct_answer': None}],\n",
       "   'cot': 'test',\n",
       "   'author': '',\n",
       "   'date': '2022/12/09 15:51:48',\n",
       "   'api_service': 'huggingface_hub',\n",
       "   'model': \"{'name': 'google/flan-t5-xl', 'temperature': 0.0, 'max_tokens': 128}\",\n",
       "   'comment': '',\n",
       "   'annotation': []}],\n",
       " 'feedback': []}"
      ]
     },
     "execution_count": 9,
     "metadata": {},
     "output_type": "execute_result"
    }
   ],
   "source": [
    "collection[\"commonsense_qa\"][\"train\"][0]"
   ]
  },
  {
   "cell_type": "code",
   "execution_count": 44,
   "metadata": {},
   "outputs": [
    {
     "name": "stdout",
     "output_type": "stream",
     "text": [
      "Does this work?\n",
      "Does this work?\n"
     ]
    }
   ],
   "source": [
    "print(collection[\"worldtree\"][\"train\"][0][\"generated_cot\"][0][\"prompt_text\"])\n",
    "print(collection[\"worldtree\"][\"train\"][0][\"generated_cot\"][0][\"answers\"][0][\"answer_extraction_text\"])"
   ]
  },
  {
   "cell_type": "code",
   "execution_count": 6,
   "metadata": {},
   "outputs": [
    {
     "name": "stdout",
     "output_type": "stream",
     "text": [
      "Loading worldtree...\n",
      "{'accuracy': {'qa-01_kojima-01_kojima-A-D': 0.0}}\n"
     ]
    }
   ],
   "source": [
    "\n",
    "# 1) Dataset load and selecting random sample\n",
    "collection = Collection([\"worldtree\"], verbose=False)\n",
    "collection = collection.select(split=\"train\", number_samples=1, random_samples=True, seed=False)\n",
    "\n",
    "# 2) Language Model generates chains of thought and then extracts answers\n",
    "config={\n",
    "    \"debug\": True,\n",
    "    \"multiple_choice_answer_format\": \"Letters\",\n",
    "    \"instruction_keys\": ['qa-01'],\n",
    "    \"cot_trigger_keys\": ['kojima-01'],\n",
    "    \"answer_extraction_keys\": ['kojima-A-D'],\n",
    "    \"warn\": False,\n",
    "    \"verbose\": False,\n",
    "}\n",
    "collection.generate(config=config)\n",
    "\n",
    "# 3) Performance evaluation\n",
    "collection.evaluate()\n"
   ]
  },
  {
   "cell_type": "code",
   "execution_count": 17,
   "metadata": {},
   "outputs": [],
   "source": [
    "template_cot_generation =\"\\n{instruction}\\n\\n{question}\\n{answer_choices}\\n\\n{cot_trigger}\"\n",
    "template_answer_extraction=\"\\n{instruction}\\n\\n{question}\\n{answer_choices}\\n\\n{cot_trigger}\\n{cot}\\n{answer_extraction}\\n\""
   ]
  },
  {
   "cell_type": "code",
   "execution_count": 58,
   "metadata": {},
   "outputs": [],
   "source": [
    "instruction_key = 'qa-01'\n",
    "cot_trigger_key = 'kojima-01'\n",
    "answer_extraction_key = 'kojima-A-D'\n",
    "multiple_choice_answer_format = \"Letters\"\n",
    "cot = None"
   ]
  },
  {
   "cell_type": "code",
   "execution_count": 59,
   "metadata": {},
   "outputs": [],
   "source": [
    "template_dict = {\n",
    "    \"instruction\" : TEMPLATES[\"instructions\"][instruction_key],\n",
    "    \"question\" : item[\"question\"],\n",
    "    \"answer_choices\" : multiple_choice_answer_formatting(multiple_choice_answer_format, item[\"choices\"]),\n",
    "    \"cot_trigger\" : TEMPLATES[\"cot_triggers\"][cot_trigger_key],\n",
    "    \"cot\" : cot,\n",
    "    \"answer_extraction\" : TEMPLATES[\"answer_extractions\"][answer_extraction_key],\n",
    "}"
   ]
  },
  {
   "cell_type": "code",
   "execution_count": 12,
   "metadata": {},
   "outputs": [],
   "source": [
    "input_variables = [\"instruction\", \"question\", \"answer_choices\", \"cot_trigger\", \"cot\", \"answer_extraction\"]\n",
    "template_dict_keys = [\"instruction\", \"question\", \"answer_choices\", \"cot_trigger\", \"cot\", \"answer_extraction\"]\n",
    "# assert all([for var in input_variables: var is in template_dict_keys])"
   ]
  }
 ],
 "metadata": {
  "kernelspec": {
   "display_name": "venv",
   "language": "python",
   "name": "python3"
  },
  "language_info": {
   "codemirror_mode": {
    "name": "ipython",
    "version": 3
   },
   "file_extension": ".py",
   "mimetype": "text/x-python",
   "name": "python",
   "nbconvert_exporter": "python",
   "pygments_lexer": "ipython3",
   "version": "3.8.10"
  },
  "orig_nbformat": 4,
  "vscode": {
   "interpreter": {
    "hash": "a19cb823e24c98ee05a9cfa4a3a579b5d56d4c1a735f2a12456750b95a1e155e"
   }
  }
 },
 "nbformat": 4,
 "nbformat_minor": 2
}
