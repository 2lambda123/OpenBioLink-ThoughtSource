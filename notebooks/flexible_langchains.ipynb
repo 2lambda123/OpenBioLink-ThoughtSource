{
 "cells": [
  {
   "attachments": {},
   "cell_type": "markdown",
   "metadata": {},
   "source": [
    "## Data"
   ]
  },
  {
   "cell_type": "code",
   "execution_count": 44,
   "metadata": {},
   "outputs": [],
   "source": [
    "\"\"\"Example dataset with one sample for two datasets\"\"\"\n",
    "\n",
    "from cot import Collection\n",
    "coll = Collection.load_thoughtsource_100(names=['worldtree'],load_pregenerated_cots=True) #random_sample=False?\n",
    "coll = coll.select(split=\"all\", number_samples=1)\n",
    "coll.select_generated_cots(cot_trigger = \"kojima-01\", api_service='cohere') #have one\n"
   ]
  },
  {
   "cell_type": "code",
   "execution_count": 10,
   "metadata": {},
   "outputs": [
    {
     "data": {
      "text/plain": [
       "{'id': 'worldtree_test_906',\n",
       " 'ref_id': '',\n",
       " 'question': 'Gravity on Earth is caused by',\n",
       " 'type': 'multiplechoice',\n",
       " 'choices': ['the mass of Earth.',\n",
       "  'the rotation of Earth.',\n",
       "  'the revolution of Earth.',\n",
       "  'weather patterns on Earth.'],\n",
       " 'context': '',\n",
       " 'cot': ['The mass of a planet causes the pull of gravity on that planet.',\n",
       "  'Earth is a kind of planet.'],\n",
       " 'answer': ['the mass of Earth.'],\n",
       " 'generated_cot': [{'id': '301fe39a-cc43-4771-9694-eda6bddfc1c2',\n",
       "   'fragments_version': '0.01',\n",
       "   'instruction': None,\n",
       "   'cot_trigger': 'kojima-01',\n",
       "   'cot_trigger_template': '{instruction}\\n\\n{question}\\n{answer_choices}\\n\\n{cot_trigger}',\n",
       "   'prompt_text': '',\n",
       "   'cot': \"\\n1. The mass of Earth causes a gravitational attraction between Earth and you.\\n2. The rotation of Earth causes centrifugal force, which is a pseudo-force that appears to be a reaction force in a rotating reference frame.\\n3. The revolution of Earth around the Sun causes Earth to be pulled by the Sun's gravity.\\n4. Weather patterns on Earth do not cause gravity.\\nThe correct answer is A) the mass of Earth.\",\n",
       "   'answers': [{'id': '9c164896-01c5-4ca6-bc3a-3aac08811931',\n",
       "     'answer_extraction': 'kojima-A-D',\n",
       "     'answer_extraction_template': '{instruction}\\n\\n{question}\\n{answer_choices}\\n\\n{cot_trigger}{cot}\\n{answer_extraction}',\n",
       "     'answer_extraction_text': '',\n",
       "     'answer': ' A.',\n",
       "     'correct_answer': True}],\n",
       "   'author': 'thoughtsource',\n",
       "   'date': '2023/02/16 11:58:13',\n",
       "   'api_service': 'cohere',\n",
       "   'model': \"{'name': 'command-xlarge-nightly', 'temperature': 0, 'max_tokens': 512}\",\n",
       "   'comment': '',\n",
       "   'annotations': []},\n",
       "  {'id': 'f9f791d6-3e6b-4722-80b6-5f56ad19742e',\n",
       "   'fragments_version': '0.01',\n",
       "   'instruction': None,\n",
       "   'cot_trigger': 'kojima-01',\n",
       "   'cot_trigger_template': '{instruction}\\n\\n{question}\\n{answer_choices}\\n\\n{cot_trigger}',\n",
       "   'prompt_text': '',\n",
       "   'cot': ' Gravity is a force that pulls objects towards each other. On Earth, the force of gravity is caused by the mass of Earth. Therefore, the correct answer is A) the mass of Earth.',\n",
       "   'answers': [{'id': 'dd13819c-b076-4392-9428-0c8d005c262f',\n",
       "     'answer_extraction': 'kojima-A-D',\n",
       "     'answer_extraction_template': '{instruction}\\n\\n{question}\\n{answer_choices}\\n\\n{cot_trigger}{cot}\\n{answer_extraction}',\n",
       "     'answer_extraction_text': '',\n",
       "     'answer': ' A.',\n",
       "     'correct_answer': True}],\n",
       "   'author': 'thoughtsource',\n",
       "   'date': '2023/02/10 19:28:57',\n",
       "   'api_service': 'openai',\n",
       "   'model': \"{'name': 'text-davinci-003', 'temperature': 0, 'max_tokens': 512}\",\n",
       "   'comment': '',\n",
       "   'annotations': []},\n",
       "  {'id': '55241f5d-cee4-4285-a464-e229d2b00373',\n",
       "   'fragments_version': '0.01',\n",
       "   'instruction': None,\n",
       "   'cot_trigger': None,\n",
       "   'cot_trigger_template': '{instruction}\\n\\n{question}\\n{answer_choices}\\n\\n{cot_trigger}',\n",
       "   'prompt_text': '',\n",
       "   'cot': 'The correct answer is A) the mass of Earth.',\n",
       "   'answers': [{'id': '904eb768-21e0-4b6f-bbe5-38b95581e4b3',\n",
       "     'answer_extraction': 'kojima-A-D',\n",
       "     'answer_extraction_template': '{instruction}\\n\\n{question}\\n{answer_choices}\\n\\n{cot_trigger}{cot}\\n{answer_extraction}',\n",
       "     'answer_extraction_text': '',\n",
       "     'answer': '',\n",
       "     'correct_answer': False}],\n",
       "   'author': 'thoughtsource',\n",
       "   'date': '2023/02/16 10:32:28',\n",
       "   'api_service': 'cohere',\n",
       "   'model': \"{'name': 'command-xlarge-nightly', 'temperature': 0, 'max_tokens': 512}\",\n",
       "   'comment': '',\n",
       "   'annotations': []},\n",
       "  {'id': 'c8215add-8f7a-4761-8306-a290666693e1',\n",
       "   'fragments_version': '0.01',\n",
       "   'instruction': None,\n",
       "   'cot_trigger': None,\n",
       "   'cot_trigger_template': '{instruction}\\n\\n{question}\\n{answer_choices}\\n\\n{cot_trigger}',\n",
       "   'prompt_text': '',\n",
       "   'cot': 'A) the mass of Earth.',\n",
       "   'answers': [{'id': 'd69428c4-daf8-470f-a5f8-d2aace0207e7',\n",
       "     'answer_extraction': 'kojima-A-D',\n",
       "     'answer_extraction_template': '{instruction}\\n\\n{question}\\n{answer_choices}\\n\\n{cot_trigger}{cot}\\n{answer_extraction}',\n",
       "     'answer_extraction_text': '',\n",
       "     'answer': ' A.',\n",
       "     'correct_answer': True}],\n",
       "   'author': 'thoughtsource',\n",
       "   'date': '2023/02/13 15:08:45',\n",
       "   'api_service': 'openai',\n",
       "   'model': \"{'name': 'text-davinci-003', 'temperature': 0, 'max_tokens': 512}\",\n",
       "   'comment': '',\n",
       "   'annotations': []},\n",
       "  {'id': '17c4991d-4014-4fdf-8f51-9837ea994706',\n",
       "   'fragments_version': '0.01',\n",
       "   'instruction': None,\n",
       "   'cot_trigger': None,\n",
       "   'cot_trigger_template': '{instruction}\\n\\n{question}\\n{answer_choices}\\n\\n{cot_trigger}',\n",
       "   'prompt_text': '',\n",
       "   'cot': 'A',\n",
       "   'answers': [{'id': '103ee1d8-c1fe-44d3-ac85-cfdf9cef1b3f',\n",
       "     'answer_extraction': 'kojima-A-D',\n",
       "     'answer_extraction_template': '{instruction}\\n\\n{question}\\n{answer_choices}\\n\\n{cot_trigger}{cot}\\n{answer_extraction}',\n",
       "     'answer_extraction_text': '',\n",
       "     'answer': 'A',\n",
       "     'correct_answer': True}],\n",
       "   'author': 'thoughtsource',\n",
       "   'date': '2023/02/21 17:26:30',\n",
       "   'api_service': 'huggingface_endpoint',\n",
       "   'model': \"{'name': 'flan-T5-xxl', 'temperature': 0, 'max_tokens': 512}\",\n",
       "   'comment': '',\n",
       "   'annotations': []},\n",
       "  {'id': '4a130ba3-46c6-4420-b081-9e074161b122',\n",
       "   'fragments_version': '0.01',\n",
       "   'instruction': None,\n",
       "   'cot_trigger': 'kojima-01',\n",
       "   'cot_trigger_template': '{instruction}\\n\\n{question}\\n{answer_choices}\\n\\n{cot_trigger}',\n",
       "   'prompt_text': '',\n",
       "   'cot': 'Gravity is a force that pulls objects together. The mass of the Earth is a large mass. The mass of the Earth causes gravity. So, the answer is A.',\n",
       "   'answers': [{'id': '665d10d8-cb93-4dde-86c5-8107411aa8de',\n",
       "     'answer_extraction': 'kojima-A-D',\n",
       "     'answer_extraction_template': '{instruction}\\n\\n{question}\\n{answer_choices}\\n\\n{cot_trigger}{cot}\\n{answer_extraction}',\n",
       "     'answer_extraction_text': '',\n",
       "     'answer': 'A.',\n",
       "     'correct_answer': True}],\n",
       "   'author': 'thoughtsource',\n",
       "   'date': '2023/02/21 17:26:37',\n",
       "   'api_service': 'huggingface_endpoint',\n",
       "   'model': \"{'name': 'flan-T5-xxl', 'temperature': 0, 'max_tokens': 512}\",\n",
       "   'comment': '',\n",
       "   'annotations': []},\n",
       "  {'id': 'a6b3baf2-6d0f-4383-8946-31e9ae17c06c',\n",
       "   'fragments_version': '0.01',\n",
       "   'instruction': None,\n",
       "   'cot_trigger': None,\n",
       "   'cot_trigger_template': '{instruction}\\n\\n{question}\\n{answer_choices}\\n\\n{cot_trigger}',\n",
       "   'prompt_text': '',\n",
       "   'cot': '\\n\\nA) the mass of Earth.',\n",
       "   'answers': [{'id': '4daad9be-be80-4b0d-9305-9c181a5fa0d1',\n",
       "     'answer_extraction': 'kojima-A-D',\n",
       "     'answer_extraction_template': '{instruction}\\n\\n{question}\\n{answer_choices}\\n\\n{cot_trigger}{cot}\\n{answer_extraction}',\n",
       "     'answer_extraction_text': '',\n",
       "     'answer': 'A.',\n",
       "     'correct_answer': True}],\n",
       "   'author': 'thoughtsource',\n",
       "   'date': '2023/03/11 02:36:38',\n",
       "   'api_service': 'openai_chat',\n",
       "   'model': \"{'name': 'gpt-3.5-turbo', 'temperature': 0, 'max_tokens': 512}\",\n",
       "   'comment': '',\n",
       "   'annotations': []},\n",
       "  {'id': 'f6ab6135-3b2d-4066-8227-e9710752c29b',\n",
       "   'fragments_version': '0.01',\n",
       "   'instruction': None,\n",
       "   'cot_trigger': 'kojima-01',\n",
       "   'cot_trigger_template': '{instruction}\\n\\n{question}\\n{answer_choices}\\n\\n{cot_trigger}',\n",
       "   'prompt_text': '',\n",
       "   'cot': \"\\n\\nA) The mass of Earth: This is correct. Gravity is directly proportional to the mass of an object, so the more massive an object is, the stronger its gravitational pull. Earth's mass is what causes objects to be attracted towards it.\\n\\nB) The rotation of Earth: This is not correct. The rotation of Earth causes the Coriolis effect, which affects the movement of air and water, but it does not directly affect gravity.\\n\\nC) The revolution of Earth: This is not correct. The revolution of Earth around the sun affects the seasons and the length of the day, but it does not directly affect gravity.\\n\\nD) Weather patterns on Earth: This is not correct. Weather patterns are caused by atmospheric conditions and do not directly affect gravity.\\n\\nTherefore, the correct answer is A) the mass of Earth.\",\n",
       "   'answers': [{'id': '9e65be18-4614-4316-a629-c102781c2eb4',\n",
       "     'answer_extraction': 'kojima-A-D',\n",
       "     'answer_extraction_template': '{instruction}\\n\\n{question}\\n{answer_choices}\\n\\n{cot_trigger}{cot}\\n{answer_extraction}',\n",
       "     'answer_extraction_text': '',\n",
       "     'answer': 'A) the mass of Earth.',\n",
       "     'correct_answer': True}],\n",
       "   'author': 'thoughtsource',\n",
       "   'date': '2023/03/11 02:36:48',\n",
       "   'api_service': 'openai_chat',\n",
       "   'model': \"{'name': 'gpt-3.5-turbo', 'temperature': 0, 'max_tokens': 512}\",\n",
       "   'comment': '',\n",
       "   'annotations': []},\n",
       "  {'id': '2d331bba-1f3b-4d43-ab22-916f1271fccd',\n",
       "   'fragments_version': '0.01',\n",
       "   'instruction': None,\n",
       "   'cot_trigger': 'zhou-01',\n",
       "   'cot_trigger_template': '{instruction}\\n\\n{question}\\n{answer_choices}\\n\\n{cot_trigger}',\n",
       "   'prompt_text': '',\n",
       "   'cot': '\\n\\nStep 1: What is gravity?\\nGravity is the force that attracts two objects with mass towards each other.\\n\\nStep 2: What causes gravity on Earth?\\nGravity on Earth is caused by the mass of Earth. The more massive an object is, the stronger its gravitational pull.\\n\\nTherefore, the correct answer is A) the mass of Earth.',\n",
       "   'answers': [{'id': 'a2e4ddbd-bcc4-4b52-a4dd-058b1d240016',\n",
       "     'answer_extraction': 'kojima-A-D',\n",
       "     'answer_extraction_template': '{instruction}\\n\\n{question}\\n{answer_choices}\\n\\n{cot_trigger}{cot}\\n{answer_extraction}',\n",
       "     'answer_extraction_text': '',\n",
       "     'answer': 'A) the mass of Earth.',\n",
       "     'correct_answer': True}],\n",
       "   'author': 'thoughtsource',\n",
       "   'date': '2023/03/13 19:55:05',\n",
       "   'api_service': 'openai_chat',\n",
       "   'model': \"{'name': 'gpt-3.5-turbo', 'temperature': 0, 'max_tokens': 512}\",\n",
       "   'comment': '',\n",
       "   'annotations': []},\n",
       "  {'id': 'e173e814-2c07-400f-aedc-5754492e3ff3',\n",
       "   'fragments_version': '0.01',\n",
       "   'instruction': None,\n",
       "   'cot_trigger': None,\n",
       "   'cot_trigger_template': '{instruction}\\n\\n{question}\\n{answer_choices}\\n\\n{cot_trigger}',\n",
       "   'prompt_text': '',\n",
       "   'cot': '\\nA) the mass of Earth.',\n",
       "   'answers': [{'id': '6918afe1-2b65-4325-92a6-947051d3f276',\n",
       "     'answer_extraction': 'kojima-A-D',\n",
       "     'answer_extraction_template': '{instruction}\\n\\n{question}\\n{answer_choices}\\n\\n{cot_trigger}{cot}\\n{answer_extraction}',\n",
       "     'answer_extraction_text': '',\n",
       "     'answer': ' A.',\n",
       "     'correct_answer': True}],\n",
       "   'author': 'thoughtsource',\n",
       "   'date': '2023/02/27 14:51:39',\n",
       "   'api_service': 'openai',\n",
       "   'model': \"{'name': 'text-davinci-002', 'temperature': 0, 'max_tokens': 512}\",\n",
       "   'comment': '',\n",
       "   'annotations': []},\n",
       "  {'id': 'bf0b58a2-d01b-4580-87ca-43e70bcf6133',\n",
       "   'fragments_version': '0.01',\n",
       "   'instruction': None,\n",
       "   'cot_trigger': 'kojima-01',\n",
       "   'cot_trigger_template': '{instruction}\\n\\n{question}\\n{answer_choices}\\n\\n{cot_trigger}',\n",
       "   'prompt_text': '',\n",
       "   'cot': ' \\n\\nThe first thing we need to do is identify what we are looking for. In this case, we are looking for what causes gravity on Earth. \\n\\nThe second thing we need to do is look at our options and see if any of them match what we are looking for. \\n\\nA) the mass of Earth. \\nB) the rotation of Earth. \\nC) the revolution of Earth. \\nD) weather patterns on Earth. \\n\\nThe third thing we need to do is eliminate any options that do not match what we are looking for. \\n\\nA) the mass of Earth. \\nB) the rotation of Earth. \\nC) the revolution of Earth. \\nD) weather patterns on Earth. \\n\\nThe fourth thing we need to do is choose the option that best matches what we are looking for. \\n\\nA) the mass of Earth.',\n",
       "   'answers': [{'id': '854d4627-fe6d-4e77-a085-021159b5d8db',\n",
       "     'answer_extraction': 'kojima-A-D',\n",
       "     'answer_extraction_template': '{instruction}\\n\\n{question}\\n{answer_choices}\\n\\n{cot_trigger}{cot}\\n{answer_extraction}',\n",
       "     'answer_extraction_text': '',\n",
       "     'answer': ' A.',\n",
       "     'correct_answer': True}],\n",
       "   'author': 'thoughtsource',\n",
       "   'date': '2023/02/27 14:51:46',\n",
       "   'api_service': 'openai',\n",
       "   'model': \"{'name': 'text-davinci-002', 'temperature': 0, 'max_tokens': 512}\",\n",
       "   'comment': '',\n",
       "   'annotations': []},\n",
       "  {'id': '4270fa8f-18be-4c43-b828-03765abf1412',\n",
       "   'fragments_version': '0.01',\n",
       "   'instruction': 'qa-01',\n",
       "   'cot_trigger': None,\n",
       "   'cot_trigger_template': '{instruction}\\n\\n{question}\\n{answer_choices}\\n\\n{cot_trigger}',\n",
       "   'prompt_text': '',\n",
       "   'cot': '\\n\\nStep 1: Understand the concept of gravity\\nGravity is the force that attracts two objects towards each other. It is a fundamental force of nature that exists between any two objects in the universe.\\n\\nStep 2: Identify the options\\nThe question provides four options as possible causes of gravity on Earth. They are:\\nA) the mass of Earth.\\nB) the rotation of Earth.\\nC) the revolution of Earth.\\nD) weather patterns on Earth.\\n\\nStep 3: Eliminate irrelevant options\\nOption D, weather patterns on Earth, can be eliminated as it has no relation to the concept of gravity.\\n\\nStep 4: Analyze the remaining options\\nOption B, the rotation of Earth, and option C, the revolution of Earth, are both movements of the Earth. However, these movements do not cause gravity. They may affect the strength and direction of gravity, but they are not the cause of it.\\n\\nStep 5: Choose the correct option\\nOption A, the mass of Earth, is the correct answer. The mass of an object determines the strength of its gravitational force. The greater the mass of an object, the stronger its gravitational force. Therefore, the mass of Earth is the cause of gravity on Earth.',\n",
       "   'answers': [{'id': 'b593518e-05ba-48c5-8e39-f58eab7ca583',\n",
       "     'answer_extraction': 'kojima-A-D',\n",
       "     'answer_extraction_template': '{instruction}\\n\\n{question}\\n{answer_choices}\\n\\n{cot_trigger}{cot}\\n{answer_extraction}',\n",
       "     'answer_extraction_text': '',\n",
       "     'answer': 'A) the mass of Earth.',\n",
       "     'correct_answer': True}],\n",
       "   'author': 'thoughtsource',\n",
       "   'date': '2023/03/14 18:35:50',\n",
       "   'api_service': 'openai_chat',\n",
       "   'model': \"{'name': 'gpt-3.5-turbo', 'temperature': 0, 'max_tokens': 512}\",\n",
       "   'comment': '',\n",
       "   'annotations': []},\n",
       "  {'id': '2e91db9a-662e-42fb-a82e-03ef1914ef0c',\n",
       "   'fragments_version': '0.01',\n",
       "   'instruction': None,\n",
       "   'cot_trigger': 'kojima-03',\n",
       "   'cot_trigger_template': '{instruction}\\n\\n{question}\\n{answer_choices}\\n\\n{cot_trigger}',\n",
       "   'prompt_text': '',\n",
       "   'cot': 'A) the mass of Earth.',\n",
       "   'answers': [{'id': '858bd06a-a96d-49bb-9a75-9ba7e8d92aba',\n",
       "     'answer_extraction': 'kojima-A-D',\n",
       "     'answer_extraction_template': '{instruction}\\n\\n{question}\\n{answer_choices}\\n\\n{cot_trigger}{cot}\\n{answer_extraction}',\n",
       "     'answer_extraction_text': '',\n",
       "     'answer': 'A) the mass of Earth.',\n",
       "     'correct_answer': True}],\n",
       "   'author': 'thoughtsource',\n",
       "   'date': '2023/03/16 18:44:20',\n",
       "   'api_service': 'openai_chat',\n",
       "   'model': \"{'name': 'gpt-3.5-turbo', 'temperature': 0, 'max_tokens': 512}\",\n",
       "   'comment': '',\n",
       "   'annotations': []},\n",
       "  {'id': 'ff83e678-0e16-4eaa-bb56-7c0890bc6f11',\n",
       "   'fragments_version': '0.01',\n",
       "   'instruction': None,\n",
       "   'cot_trigger': 'kojima-09',\n",
       "   'cot_trigger_template': '{instruction}\\n\\n{question}\\n{answer_choices}\\n\\n{cot_trigger}',\n",
       "   'prompt_text': '',\n",
       "   'cot': '\\n\\nA) the mass of Earth.\\n\\nGravity is a force that attracts objects with mass towards each other. The more massive an object is, the stronger its gravitational pull. Therefore, the mass of Earth is the main cause of gravity on Earth. Option A is the correct answer. \\n\\nB) the rotation of Earth.\\n\\nThe rotation of Earth causes day and night, but it does not directly affect gravity. \\n\\nC) the revolution of Earth.\\n\\nThe revolution of Earth around the sun causes the seasons, but it does not directly affect gravity. \\n\\nD) weather patterns on Earth.\\n\\nWeather patterns are caused by atmospheric conditions and do not directly affect gravity.',\n",
       "   'answers': [{'id': 'db376093-3ffd-448a-a955-b48431592d29',\n",
       "     'answer_extraction': 'kojima-A-D',\n",
       "     'answer_extraction_template': '{instruction}\\n\\n{question}\\n{answer_choices}\\n\\n{cot_trigger}{cot}\\n{answer_extraction}',\n",
       "     'answer_extraction_text': '',\n",
       "     'answer': 'A) the mass of Earth.',\n",
       "     'correct_answer': True}],\n",
       "   'author': 'thoughtsource',\n",
       "   'date': '2023/03/16 20:17:28',\n",
       "   'api_service': 'openai_chat',\n",
       "   'model': \"{'name': 'gpt-3.5-turbo', 'temperature': 0, 'max_tokens': 512}\",\n",
       "   'comment': '',\n",
       "   'annotations': []},\n",
       "  {'id': '8faf6fe9-fe04-4d9d-be83-1b4d2b2287f9',\n",
       "   'fragments_version': '0.01',\n",
       "   'instruction': None,\n",
       "   'cot_trigger': 'zhou-01',\n",
       "   'cot_trigger_template': '{instruction}\\n\\n{question}\\n{answer_choices}\\n\\n{cot_trigger}',\n",
       "   'prompt_text': '',\n",
       "   'cot': 'Gravity is the force that attracts two bodies towards each other, and it depends on the mass of the objects and the distance between them. In the case of Earth, gravity is caused by its mass, which attracts objects towards its center.\\n\\nSo, the correct answer is:\\nA) the mass of Earth.',\n",
       "   'answers': [{'id': '05b66829-e5a8-4182-97ff-49dc61737817',\n",
       "     'answer_extraction': 'kojima-A-D',\n",
       "     'answer_extraction_template': '{instruction}\\n\\n{question}\\n{answer_choices}\\n\\n{cot_trigger}{cot}\\n{answer_extraction}',\n",
       "     'answer_extraction_text': '',\n",
       "     'answer': 'A) the mass of Earth.',\n",
       "     'correct_answer': True}],\n",
       "   'author': 'thoughtsource',\n",
       "   'date': '2023/03/17 13:20:55',\n",
       "   'api_service': 'openai_chat',\n",
       "   'model': \"{'name': 'gpt-4', 'temperature': 0, 'max_tokens': 512}\",\n",
       "   'comment': '',\n",
       "   'annotations': []},\n",
       "  {'id': '0363f0bb-903a-47d0-889d-93489d5ae29d',\n",
       "   'fragments_version': '0.01',\n",
       "   'instruction': None,\n",
       "   'cot_trigger': None,\n",
       "   'cot_trigger_template': '{instruction}\\n\\n{question}\\n{answer_choices}\\n\\n{cot_trigger}',\n",
       "   'prompt_text': '',\n",
       "   'cot': 'A) the mass of Earth.',\n",
       "   'answers': [{'id': '1ef1cad6-0503-461d-9c46-12e08bc88158',\n",
       "     'answer_extraction': 'kojima-A-D',\n",
       "     'answer_extraction_template': '{instruction}\\n\\n{question}\\n{answer_choices}\\n\\n{cot_trigger}{cot}\\n{answer_extraction}',\n",
       "     'answer_extraction_text': '',\n",
       "     'answer': 'A) the mass of Earth.',\n",
       "     'correct_answer': True}],\n",
       "   'author': 'thoughtsource',\n",
       "   'date': '2023/03/17 15:33:43',\n",
       "   'api_service': 'openai_chat',\n",
       "   'model': \"{'name': 'gpt-4', 'temperature': 0, 'max_tokens': 512}\",\n",
       "   'comment': '',\n",
       "   'annotations': []},\n",
       "  {'id': '917ff93c-6935-4755-81aa-53134cf5d0d3',\n",
       "   'fragments_version': '0.01',\n",
       "   'instruction': None,\n",
       "   'cot_trigger': 'zhou-01',\n",
       "   'cot_trigger_template': '{instruction}\\n\\n{question}\\n{answer_choices}\\n\\n{cot_trigger}',\n",
       "   'prompt_text': '',\n",
       "   'cot': 'Gravity is a force that pulls all matter together. The mass of the Earth is the main component of gravity. The mass of the Earth is caused by the rotation of Earth. So the final answer is B.',\n",
       "   'answers': [{'id': '6262efb2-3958-40bb-a3cc-29a152c7b2a2',\n",
       "     'answer_extraction': 'kojima-A-D',\n",
       "     'answer_extraction_template': '{instruction}\\n\\n{question}\\n{answer_choices}\\n\\n{cot_trigger}{cot}\\n{answer_extraction}',\n",
       "     'answer_extraction_text': '',\n",
       "     'answer': 'B.',\n",
       "     'correct_answer': False}],\n",
       "   'author': 'thoughtsource',\n",
       "   'date': '2023/03/21 14:50:55',\n",
       "   'api_service': 'huggingface_endpoint',\n",
       "   'model': \"{'name': 'flan-T5-xxl', 'temperature': 0, 'max_tokens': 512}\",\n",
       "   'comment': '',\n",
       "   'annotations': []},\n",
       "  {'id': '0464dc9c-6269-46c0-b413-b57f32b5c145',\n",
       "   'fragments_version': '0.01',\n",
       "   'instruction': 'qa-09',\n",
       "   'cot_trigger': None,\n",
       "   'cot_trigger_template': '{instruction}\\n\\n{question}\\n{answer_choices}\\n\\n{cot_trigger}',\n",
       "   'prompt_text': '',\n",
       "   'cot': 'Step-by-step procedure:\\n1. Identify the cause of gravity on Earth.\\n2. Evaluate each answer choice to determine if it matches the cause of gravity on Earth.\\n3. Select the answer choice that matches the cause of gravity on Earth.\\n\\nGoing through each step:\\n1. The cause of gravity on Earth is the mass of Earth.\\n2. \\nA) The mass of Earth matches the cause of gravity on Earth. \\nB) The rotation of Earth does not match the cause of gravity on Earth. \\nC) The revolution of Earth does not match the cause of gravity on Earth. \\nD) Weather patterns on Earth do not match the cause of gravity on Earth.\\n3. Therefore, the correct answer is A) the mass of Earth.',\n",
       "   'answers': [{'id': '55bb5cd7-1d91-4244-8ffd-13da6dbc7d25',\n",
       "     'answer_extraction': 'kojima-A-D',\n",
       "     'answer_extraction_template': '{instruction}\\n\\n{question}\\n{answer_choices}\\n\\n{cot_trigger}{cot}\\n{answer_extraction}',\n",
       "     'answer_extraction_text': '',\n",
       "     'answer': 'A) the mass of Earth.',\n",
       "     'correct_answer': True}],\n",
       "   'author': 'thoughtsource',\n",
       "   'date': '2023/03/29 20:49:12',\n",
       "   'api_service': 'openai_chat',\n",
       "   'model': \"{'name': 'gpt-3.5-turbo', 'temperature': 0, 'max_tokens': 512}\",\n",
       "   'comment': '',\n",
       "   'annotations': []},\n",
       "  {'id': 'b4da4953-381b-445b-b1db-6af9f2a4ca6f',\n",
       "   'fragments_version': '0.01',\n",
       "   'instruction': 'qa-08',\n",
       "   'cot_trigger': None,\n",
       "   'cot_trigger_template': '{instruction}\\n\\n{question}\\n{answer_choices}\\n\\n{cot_trigger}',\n",
       "   'prompt_text': '',\n",
       "   'cot': 'A) the mass of Earth. This is correct. Gravity is a force that is directly proportional to the mass of the objects involved. The greater the mass, the greater the force of gravity.\\n\\nB) the rotation of Earth. This is not correct. The rotation of Earth causes day and night, but it does not cause gravity.\\n\\nC) the revolution of Earth. This is not correct. The revolution of Earth around the sun causes the seasons, but it does not cause gravity.\\n\\nD) weather patterns on Earth. This is not correct. Weather patterns are caused by a variety of factors, but they do not cause gravity.\\n\\nBased on the clues given, the correct answer is A) the mass of Earth.',\n",
       "   'answers': [{'id': 'cdd46203-dc3f-4c25-ac36-65c5eb99e449',\n",
       "     'answer_extraction': 'kojima-A-D',\n",
       "     'answer_extraction_template': '{instruction}\\n\\n{question}\\n{answer_choices}\\n\\n{cot_trigger}{cot}\\n{answer_extraction}',\n",
       "     'answer_extraction_text': '',\n",
       "     'answer': 'A) the mass of Earth.',\n",
       "     'correct_answer': True}],\n",
       "   'author': 'thoughtsource',\n",
       "   'date': '2023/03/29 22:51:28',\n",
       "   'api_service': 'openai_chat',\n",
       "   'model': \"{'name': 'gpt-3.5-turbo', 'temperature': 0, 'max_tokens': 512}\",\n",
       "   'comment': '',\n",
       "   'annotations': []},\n",
       "  {'id': '578a40a6-fe90-4946-9771-31dd62c2f904',\n",
       "   'fragments_version': '0.01',\n",
       "   'instruction': 'qa-10',\n",
       "   'cot_trigger': None,\n",
       "   'cot_trigger_template': '{instruction}\\n\\n{question}\\n{answer_choices}\\n\\n{cot_trigger}',\n",
       "   'prompt_text': '',\n",
       "   'cot': 'Plan:\\n1. Identify the definition of gravity.\\n2. Understand the factors that contribute to gravity.\\n3. Eliminate the options that do not contribute to gravity.\\n4. Choose the option that is responsible for gravity on Earth.\\n\\nAnswer: A) the mass of Earth.\\n\\nExplanation:\\n1. Gravity is the force that attracts two objects towards each other.\\n2. The factors that contribute to gravity are mass and distance.\\n3. Option B and C, rotation and revolution, do not contribute to gravity as they are related to the movement of Earth and not its mass. Option D, weather patterns, is also not related to gravity.\\n4. Therefore, the correct option is A, the mass of Earth, as it is responsible for the gravitational force that attracts objects towards it.',\n",
       "   'answers': [{'id': '625bd2f0-e3e1-482d-9642-aa6a16a82f34',\n",
       "     'answer_extraction': 'kojima-A-D',\n",
       "     'answer_extraction_template': '{instruction}\\n\\n{question}\\n{answer_choices}\\n\\n{cot_trigger}{cot}\\n{answer_extraction}',\n",
       "     'answer_extraction_text': '',\n",
       "     'answer': 'A) the mass of Earth.',\n",
       "     'correct_answer': True}],\n",
       "   'author': 'thoughtsource',\n",
       "   'date': '2023/03/30 00:24:00',\n",
       "   'api_service': 'openai_chat',\n",
       "   'model': \"{'name': 'gpt-3.5-turbo', 'temperature': 0, 'max_tokens': 512}\",\n",
       "   'comment': '',\n",
       "   'annotations': []},\n",
       "  {'id': '2c4a2098-117a-432e-bbdb-429183b95065',\n",
       "   'fragments_version': '0.01',\n",
       "   'instruction': 'qa-12',\n",
       "   'cot_trigger': None,\n",
       "   'cot_trigger_template': '{instruction}\\n\\n{question}\\n{answer_choices}\\n\\n{cot_trigger}',\n",
       "   'prompt_text': '',\n",
       "   'cot': 'The correct answer is A) the mass of Earth.\\n\\nExplanation:\\n\\nGravity is a force that attracts objects towards each other. On Earth, gravity is what keeps us on the ground and what causes objects to fall when dropped. The force of gravity on Earth is caused by the mass of the Earth. The more massive an object is, the stronger its gravitational pull. The rotation and revolution of Earth do not directly cause gravity, although they can affect the strength of gravity in certain areas. Weather patterns on Earth also do not cause gravity. Therefore, the correct answer is A) the mass of Earth.',\n",
       "   'answers': [{'id': '6deb2543-2eae-431d-b488-4343feaf99bd',\n",
       "     'answer_extraction': 'kojima-A-D',\n",
       "     'answer_extraction_template': '{instruction}\\n\\n{question}\\n{answer_choices}\\n\\n{cot_trigger}{cot}\\n{answer_extraction}',\n",
       "     'answer_extraction_text': '',\n",
       "     'answer': 'A) the mass of Earth.',\n",
       "     'correct_answer': True}],\n",
       "   'author': 'thoughtsource',\n",
       "   'date': '2023/03/30 01:46:48',\n",
       "   'api_service': 'openai_chat',\n",
       "   'model': \"{'name': 'gpt-3.5-turbo', 'temperature': 0, 'max_tokens': 512}\",\n",
       "   'comment': '',\n",
       "   'annotations': []},\n",
       "  {'id': 'd93dc223-cac4-4377-9653-ca0e72ae63be',\n",
       "   'fragments_version': '0.01',\n",
       "   'instruction': 'qa-13',\n",
       "   'cot_trigger': None,\n",
       "   'cot_trigger_template': '{instruction}\\n\\n{question}\\n{answer_choices}\\n\\n{cot_trigger}',\n",
       "   'prompt_text': '',\n",
       "   'cot': 'What is the cause of gravity on Earth?\\n\\nStep-by-step reasoning:\\n\\n- Gravity is the force that attracts objects towards each other.\\n- On Earth, everything is attracted towards the center of the planet.\\n- Therefore, there must be something at the center of the planet that causes this attraction.\\n- The most likely candidate is the mass of Earth, which creates a gravitational field that affects everything around it.\\n- The rotation and revolution of Earth may affect the strength and direction of gravity in different locations, but they are not the primary cause of gravity itself.\\n- Weather patterns on Earth have no direct influence on gravity.\\n\\nTherefore, the correct answer is A) the mass of Earth.',\n",
       "   'answers': [{'id': '22541417-cd35-4ed9-abc6-53b0b4ba6781',\n",
       "     'answer_extraction': 'kojima-A-D',\n",
       "     'answer_extraction_template': '{instruction}\\n\\n{question}\\n{answer_choices}\\n\\n{cot_trigger}{cot}\\n{answer_extraction}',\n",
       "     'answer_extraction_text': '',\n",
       "     'answer': 'A) the mass of Earth.',\n",
       "     'correct_answer': True}],\n",
       "   'author': 'thoughtsource',\n",
       "   'date': '2023/03/30 03:26:15',\n",
       "   'api_service': 'openai_chat',\n",
       "   'model': \"{'name': 'gpt-3.5-turbo', 'temperature': 0, 'max_tokens': 512}\",\n",
       "   'comment': '',\n",
       "   'annotations': []},\n",
       "  {'id': '933971b7-9f8a-4e3e-819c-9171a8ed94d1',\n",
       "   'fragments_version': '0.01',\n",
       "   'instruction': 'qa-16',\n",
       "   'cot_trigger': None,\n",
       "   'cot_trigger_template': '{instruction}\\n\\n{question}\\n{answer_choices}\\n\\n{cot_trigger}',\n",
       "   'prompt_text': '',\n",
       "   'cot': 'Helpful knowledge: Gravity is a force that attracts objects with mass towards each other. The strength of the gravitational force depends on the mass of the objects and the distance between them.\\n\\nAdditional facts: The force of gravity on Earth is what keeps objects on the surface and causes objects to fall towards the ground. It also affects the tides and the orbit of the moon around Earth.\\n\\nSub-questions:\\n1. What is the definition of gravity?\\nAnswer: Gravity is a force that attracts objects with mass towards each other.\\n\\n2. What factors affect the strength of the gravitational force?\\nAnswer: The strength of the gravitational force depends on the mass of the objects and the distance between them.\\n\\n3. What is the force of gravity on Earth responsible for?\\nAnswer: The force of gravity on Earth is what keeps objects on the surface and causes objects to fall towards the ground. It also affects the tides and the orbit of the moon around Earth.\\n\\n4. What causes gravity on Earth?\\nAnswer: Gravity on Earth is caused by the mass of Earth.\\n\\nAnswer to original question: Gravity on Earth is caused by the mass of Earth.',\n",
       "   'answers': [{'id': '7df1e718-78c3-452e-a791-7d17e39bed95',\n",
       "     'answer_extraction': 'kojima-A-D',\n",
       "     'answer_extraction_template': '{instruction}\\n\\n{question}\\n{answer_choices}\\n\\n{cot_trigger}{cot}\\n{answer_extraction}',\n",
       "     'answer_extraction_text': '',\n",
       "     'answer': 'A) the mass of Earth.',\n",
       "     'correct_answer': True}],\n",
       "   'author': 'thoughtsource',\n",
       "   'date': '2023/03/30 05:24:11',\n",
       "   'api_service': 'openai_chat',\n",
       "   'model': \"{'name': 'gpt-3.5-turbo', 'temperature': 0, 'max_tokens': 512}\",\n",
       "   'comment': '',\n",
       "   'annotations': []},\n",
       "  {'id': 'a3757abf-d5b8-4f2a-b945-803e3d5b83f2',\n",
       "   'fragments_version': '0.01',\n",
       "   'instruction': 'qa-17',\n",
       "   'cot_trigger': None,\n",
       "   'cot_trigger_template': '{instruction}\\n\\n{question}\\n{answer_choices}\\n\\n{cot_trigger}',\n",
       "   'prompt_text': '',\n",
       "   'cot': 'Student: Professor, can you explain to me what causes gravity on Earth?\\n\\nProfessor: Sure, gravity on Earth is caused by one of these four options: the mass of Earth, the rotation of Earth, the revolution of Earth, or weather patterns on Earth.\\n\\nStudent: So, which one is the correct answer?\\n\\nProfessor: The correct answer is A) the mass of Earth. The more mass an object has, the stronger its gravitational pull.\\n\\nStudent: How does the mass of Earth create gravity?\\n\\nProfessor: Well, every object with mass has a gravitational force that attracts other objects with mass. The larger the mass, the stronger the gravitational force. So, the mass of Earth creates a gravitational force that pulls objects towards its center.\\n\\nStudent: Does the rotation or revolution of Earth have any effect on gravity?\\n\\nProfessor: The rotation and revolution of Earth do not directly affect gravity. However, they do affect the distribution of mass on Earth, which can affect the strength of gravity in different locations.\\n\\nStudent: What about weather patterns on Earth? How do they relate to gravity?\\n\\nProfessor: Weather patterns on Earth do not directly affect gravity either. However, they can affect the distribution of mass on Earth, which can affect the strength of gravity in different locations. For example, a large storm can cause a temporary shift in mass, which can affect the strength of gravity in that area.',\n",
       "   'answers': [{'id': '252b2a1e-8124-40e3-9e82-09d697783b3e',\n",
       "     'answer_extraction': 'kojima-A-D',\n",
       "     'answer_extraction_template': '{instruction}\\n\\n{question}\\n{answer_choices}\\n\\n{cot_trigger}{cot}\\n{answer_extraction}',\n",
       "     'answer_extraction_text': '',\n",
       "     'answer': 'A) the mass of Earth.',\n",
       "     'correct_answer': True}],\n",
       "   'author': 'thoughtsource',\n",
       "   'date': '2023/03/30 07:27:51',\n",
       "   'api_service': 'openai_chat',\n",
       "   'model': \"{'name': 'gpt-3.5-turbo', 'temperature': 0, 'max_tokens': 512}\",\n",
       "   'comment': '',\n",
       "   'annotations': []},\n",
       "  {'id': 'f444c5e1-9a29-4e9f-9169-e1e5e0f792db',\n",
       "   'fragments_version': '0.01',\n",
       "   'instruction': 'qa-05',\n",
       "   'cot_trigger': None,\n",
       "   'cot_trigger_template': '{instruction}\\n\\n{question}\\n{answer_choices}\\n\\n{cot_trigger}',\n",
       "   'prompt_text': '',\n",
       "   'cot': '\\n\\nAnswer: A) the mass of Earth.',\n",
       "   'answers': [{'id': '32131b74-0bab-4450-94db-92d90b76a25c',\n",
       "     'answer_extraction': 'kojima-A-D',\n",
       "     'answer_extraction_template': '{instruction}\\n\\n{question}\\n{answer_choices}\\n\\n{cot_trigger}{cot}\\n{answer_extraction}',\n",
       "     'answer_extraction_text': '',\n",
       "     'answer': 'easy.',\n",
       "     'correct_answer': False}],\n",
       "   'author': 'thoughtsource',\n",
       "   'date': '2023/03/15 21:36:35',\n",
       "   'api_service': 'openai_chat',\n",
       "   'model': \"{'name': 'gpt-3.5-turbo', 'temperature': 0, 'max_tokens': 512}\",\n",
       "   'comment': '',\n",
       "   'annotations': []},\n",
       "  {'id': '73c0d879-eba0-4a7c-bca2-3c044e01a539',\n",
       "   'fragments_version': '0.01',\n",
       "   'instruction': 'zhou-01-ins',\n",
       "   'cot_trigger': None,\n",
       "   'cot_trigger_template': '{instruction}\\n\\n{question}\\n{answer_choices}\\n\\n{cot_trigger}',\n",
       "   'prompt_text': '',\n",
       "   'cot': '\\n\\nStep 1: Read the question and the answer choices carefully.\\n\\nStep 2: Eliminate answer choices that are obviously incorrect. In this case, we can eliminate B, C, and D because they do not relate to gravity.\\n\\nStep 3: Consider the remaining answer choice, A, and ask ourselves if it makes sense. We know that gravity is a force that pulls objects towards each other, and we also know that the more massive an object is, the stronger its gravitational pull. Therefore, it makes sense that the mass of Earth is what causes gravity on Earth.\\n\\nStep 4: Double-check our answer to make sure it is the best choice. In this case, we can be confident that A is the correct answer because it is the only answer choice that relates to gravity and makes logical sense.\\n\\nAnswer: A) the mass of Earth.',\n",
       "   'answers': [{'id': '3599e744-ae54-46ba-84bf-db06d8ee215a',\n",
       "     'answer_extraction': 'kojima-A-D',\n",
       "     'answer_extraction_template': '{instruction}\\n\\n{question}\\n{answer_choices}\\n\\n{cot_trigger}{cot}\\n{answer_extraction}',\n",
       "     'answer_extraction_text': '',\n",
       "     'answer': 'A) the mass of Earth.',\n",
       "     'correct_answer': True}],\n",
       "   'author': 'thoughtsource',\n",
       "   'date': '2023/03/15 20:29:39',\n",
       "   'api_service': 'openai_chat',\n",
       "   'model': \"{'name': 'gpt-3.5-turbo', 'temperature': 0, 'max_tokens': 512}\",\n",
       "   'comment': '',\n",
       "   'annotations': []},\n",
       "  {'id': '4a4afd57-8bd6-44e5-85f6-ac8a80fb6563',\n",
       "   'fragments_version': '0.01',\n",
       "   'instruction': 'zhou-01-ins',\n",
       "   'cot_trigger': 'zhou-01',\n",
       "   'cot_trigger_template': '{instruction}\\n\\n{question}\\n{answer_choices}\\n\\n{cot_trigger}',\n",
       "   'prompt_text': '',\n",
       "   'cot': '\\n\\nStep 1: Identify the question and the answer choices.\\nQuestion: What causes gravity on Earth?\\nAnswer choices: A) the mass of Earth, B) the rotation of Earth, C) the revolution of Earth, D) weather patterns on Earth.\\n\\nStep 2: Eliminate obviously incorrect answer choices.\\nAnswer choice D, weather patterns on Earth, is not a plausible explanation for gravity, so we can eliminate it.\\n\\nStep 3: Consider the remaining answer choices and their plausibility.\\nAnswer choice B, the rotation of Earth, is not a direct cause of gravity, so we can eliminate it. Answer choice C, the revolution of Earth, is also not a direct cause of gravity, so we can eliminate it as well.\\n\\nStep 4: Choose the best answer.\\nThe only remaining answer choice is A, the mass of Earth. This is the correct answer, as the mass of an object is directly related to its gravitational force. Therefore, the mass of Earth is what causes gravity on Earth.\\n\\nFinal answer: A) the mass of Earth.',\n",
       "   'answers': [{'id': '99b42397-62a4-47ab-bbaa-8073664fe7d1',\n",
       "     'answer_extraction': 'kojima-A-D',\n",
       "     'answer_extraction_template': '{instruction}\\n\\n{question}\\n{answer_choices}\\n\\n{cot_trigger}{cot}\\n{answer_extraction}',\n",
       "     'answer_extraction_text': '',\n",
       "     'answer': 'A) the mass of Earth.',\n",
       "     'correct_answer': True}],\n",
       "   'author': 'thoughtsource',\n",
       "   'date': '2023/03/16 22:16:10',\n",
       "   'api_service': 'openai_chat',\n",
       "   'model': \"{'name': 'gpt-3.5-turbo', 'temperature': 0, 'max_tokens': 512}\",\n",
       "   'comment': '',\n",
       "   'annotations': []}],\n",
       " 'feedback': []}"
      ]
     },
     "execution_count": 10,
     "metadata": {},
     "output_type": "execute_result"
    }
   ],
   "source": [
    "coll['worldtree']['test'][0]"
   ]
  },
  {
   "attachments": {},
   "cell_type": "markdown",
   "metadata": {},
   "source": [
    "## Generate and extract"
   ]
  },
  {
   "cell_type": "code",
   "execution_count": 11,
   "metadata": {},
   "outputs": [],
   "source": [
    "from langchain.llms import OpenAI \n",
    "from langchain.prompts import PromptTemplate \n",
    "from langchain.chains.llm import LLMChain\n",
    "import json\n",
    "from langchain.chat_models import ChatOpenAI\n"
   ]
  },
  {
   "cell_type": "code",
   "execution_count": 12,
   "metadata": {},
   "outputs": [],
   "source": [
    "\"\"\"CoT Chain\"\"\"\n",
    "\n",
    "llm = ChatOpenAI(temperature=.0,model_name=\"gpt-3.5-turbo\") #ADA #for chat: gpt-3.5-turbo\n",
    "\n",
    "\n",
    "\n",
    "\n",
    "template = \"\"\"{instruction}\n",
    "\n",
    "Question: {question}\n",
    "Answer_choices: {answer_choices}\n",
    "\n",
    "{cot_trigger}\n",
    "\"\"\"\n",
    "\n",
    "prompt_template = PromptTemplate(input_variables=[\"instruction\",\"question\",\"answer_choices\",\"cot_trigger\"], template=template)\n",
    "cot_chain = LLMChain(llm=llm, prompt=prompt_template,output_key=\"cot\")"
   ]
  },
  {
   "cell_type": "code",
   "execution_count": 13,
   "metadata": {},
   "outputs": [],
   "source": [
    "\"\"\"answer extraction chain\"\"\"\n",
    "\n",
    "extraction_template = \"\"\"{instruction}\n",
    "\n",
    "Question: {question}\n",
    "Answer_choices: {answer_choices}\n",
    "\n",
    "Cot: {cot_trigger}{cot}\n",
    "{answer_extraction}\n",
    "\"\"\"\n",
    "\n",
    "prompt_template = PromptTemplate(input_variables=[\"instruction\",\"question\",\"answer_choices\",\"cot_trigger\",\"cot\",\"answer_extraction\"], template=extraction_template)\n",
    "answer_chain = LLMChain(llm=llm, prompt=prompt_template,output_key=\"predicted_answer\")\n"
   ]
  },
  {
   "cell_type": "code",
   "execution_count": 14,
   "metadata": {},
   "outputs": [],
   "source": [
    "\"\"\"CoT-Ans_extraction chain\"\"\"\n",
    "\n",
    "from langchain.chains import SequentialChain\n",
    "overall_chain = SequentialChain(chains=[cot_chain, answer_chain],\n",
    "                                input_variables=[\"instruction\",\"question\",\"answer_choices\",\"cot_trigger\",\"answer_extraction\"],\n",
    "                                output_variables=[\"cot\", \"predicted_answer\"],\n",
    "                                verbose=True)"
   ]
  },
  {
   "cell_type": "code",
   "execution_count": 18,
   "metadata": {},
   "outputs": [
    {
     "name": "stdout",
     "output_type": "stream",
     "text": [
      "Generating worldtree...\n",
      "\n",
      "\n",
      "\u001b[1m> Entering new SequentialChain chain...\u001b[0m\n",
      "\n",
      "\u001b[1m> Finished chain.\u001b[0m\n"
     ]
    }
   ],
   "source": [
    "\"\"\"Generate CoT with use of TS-schema\"\"\"\n",
    "#compare with config used before; what about max tokens?\n",
    "#config contains what the chain needs\n",
    "input_dict = {\n",
    "    \"instruction\": \"Be faithful and a little hopeful\",\n",
    "    \"cot_trigger\": \"Answer: Let's think step by step.\",\n",
    "    \"answer_extraction\": \"Therefore, among A through D, the answer is\",\n",
    "    'model':\"gpt-3.5-turbo\",\n",
    "    'temperature': 0,\n",
    "    'max_tokens': 800 \n",
    "}\n",
    "coll.generate_extract_flexible(chain=overall_chain,input_dict=input_dict)\n",
    "\n",
    "\n"
   ]
  },
  {
   "cell_type": "code",
   "execution_count": 29,
   "metadata": {},
   "outputs": [
    {
     "data": {
      "text/plain": [
       "{'id': '2763c9a3-0b71-45ce-b5e3-33c9334559c0',\n",
       " 'fragments_version': '0.01',\n",
       " 'instruction': 'Be faithful and a little hopeful',\n",
       " 'cot_trigger': \"Answer: Let's think step by step.\",\n",
       " 'cot_trigger_template': '',\n",
       " 'prompt_text': '',\n",
       " 'cot': 'A) Is the mass of Earth a factor in causing gravity on Earth? Yes, it is. The more massive an object, the stronger its gravitational pull. So, option A is a possible answer.\\n\\nB) Is the rotation of Earth a factor in causing gravity on Earth? No, it is not. The rotation of Earth affects other phenomena, such as day and night, but not gravity. So, option B is not a correct answer.\\n\\nC) Is the revolution of Earth a factor in causing gravity on Earth? No, it is not. The revolution of Earth around the Sun affects the seasons, but not gravity. So, option C is not a correct answer.\\n\\nD) Are weather patterns on Earth a factor in causing gravity on Earth? No, they are not. Weather patterns are caused by atmospheric conditions, but they do not affect gravity. So, option D is not a correct answer.\\n\\nTherefore, the correct answer is A) the mass of Earth.',\n",
       " 'answers': [{'id': '1d11219a-5bb4-4cba-bc98-88eaa3121217',\n",
       "   'answer_extraction': 'Therefore, among A through D, the answer is',\n",
       "   'answer_extraction_template': '',\n",
       "   'answer_extraction_text': '',\n",
       "   'answer': 'A) the mass of Earth.',\n",
       "   'correct_answer': None}],\n",
       " 'author': '',\n",
       " 'date': '2023/04/12 10:59:06',\n",
       " 'api_service': '',\n",
       " 'model': \"{'name': 'gpt-3.5-turbo', 'temperature': 0, 'max_tokens': 800}\",\n",
       " 'comment': 'generated and extracted',\n",
       " 'annotations': []}"
      ]
     },
     "execution_count": 29,
     "metadata": {},
     "output_type": "execute_result"
    }
   ],
   "source": [
    "coll['worldtree']['test'][0]['generated_cot'][27]"
   ]
  },
  {
   "attachments": {},
   "cell_type": "markdown",
   "metadata": {},
   "source": [
    "## Generate or extract"
   ]
  },
  {
   "cell_type": "code",
   "execution_count": 2,
   "metadata": {},
   "outputs": [],
   "source": [
    "#from langchain.llms.openai import OpenAIChat\n",
    "\n",
    "from langchain.llms import OpenAI \n",
    "from langchain.prompts import PromptTemplate \n",
    "from langchain.chains.llm import LLMChain\n",
    "from cot import Collection\n",
    "import json"
   ]
  },
  {
   "cell_type": "code",
   "execution_count": 36,
   "metadata": {},
   "outputs": [
    {
     "name": "stdout",
     "output_type": "stream",
     "text": [
      "Generating worldtree...\n"
     ]
    }
   ],
   "source": [
    "\"\"\"Extract script: Assumes there are CoTs in the dataset already\"\"\"\n",
    "\n",
    "input_dict = {\n",
    "    'instruction': None,\n",
    "    \"answer_extraction\": \"Be faithful and a little hopeful\",\n",
    "    \"cot_trigger\": \"Answer: Let's think step by step.\",\n",
    "    'api_service': \"chat_openai\",\n",
    "    'model':\"gpt-3.5-turbo\",\n",
    "    'temperature': 0,\n",
    "    'max_tokens': 800 \n",
    "}\n",
    "coll.extract_flexible(chain=answer_chain,input_dict=input_dict)"
   ]
  },
  {
   "cell_type": "code",
   "execution_count": null,
   "metadata": {},
   "outputs": [],
   "source": [
    "coll['strategy_qa']['train'][0]['generated_cot']"
   ]
  },
  {
   "cell_type": "code",
   "execution_count": 38,
   "metadata": {},
   "outputs": [
    {
     "data": {
      "text/plain": [
       "{'id': '6b3d0b3b-bc87-4ecb-a271-ee7d181cc2a2',\n",
       " 'fragments_version': '0.01',\n",
       " 'instruction': None,\n",
       " 'cot_trigger': \"Answer: Let's think step by step.\",\n",
       " 'cot_trigger_template': '',\n",
       " 'prompt_text': '',\n",
       " 'cot': \"\\n1. The mass of Earth causes a gravitational attraction between Earth and you.\\n2. The rotation of Earth causes centrifugal force, which is a pseudo-force that appears to be a reaction force in a rotating reference frame.\\n3. The revolution of Earth around the Sun causes Earth to be pulled by the Sun's gravity.\\n4. Weather patterns on Earth do not cause gravity.\\nThe correct answer is A) the mass of Earth.\",\n",
       " 'answers': [{'id': '65a672ce-5b05-4c74-aaac-5a05051c66a2',\n",
       "   'answer_extraction': 'Be faithful and a little hopeful',\n",
       "   'answer_extraction_template': '',\n",
       "   'answer_extraction_text': '',\n",
       "   'answer': 'as you approach each question, and use logical reasoning to eliminate incorrect answer choices.',\n",
       "   'correct_answer': None}],\n",
       " 'author': '',\n",
       " 'date': '2023/04/12 11:06:02',\n",
       " 'api_service': 'chat_openai',\n",
       " 'model': \"{'name': 'gpt-3.5-turbo', 'temperature': 0, 'max_tokens': 800}\",\n",
       " 'comment': 'answer_extraction cot',\n",
       " 'annotations': []}"
      ]
     },
     "execution_count": 38,
     "metadata": {},
     "output_type": "execute_result"
    }
   ],
   "source": [
    "coll['worldtree']['test'][0]['generated_cot'][1]"
   ]
  },
  {
   "cell_type": "code",
   "execution_count": 40,
   "metadata": {},
   "outputs": [
    {
     "name": "stdout",
     "output_type": "stream",
     "text": [
      "Generating worldtree...\n"
     ]
    }
   ],
   "source": [
    "\"\"\"Generate only\"\"\"\n",
    "input_dict = {\n",
    "    \"instruction\": \"Be faithful and a little hopeful\",\n",
    "    \"cot_trigger\": \"Answer: Let's think step by step.\",\n",
    "    'api_service': \"chat_openai\",\n",
    "    'model': \"gpt-3.5-turbo\",\n",
    "    \"answer_extraction\": \"Therefore, among A through D, the answer is\",\n",
    "    'temperature': 0,\n",
    "    'max_tokens': 800  \n",
    "}\n",
    "\n",
    "coll.generate_flexible(chain=cot_chain,input_dict=input_dict)"
   ]
  },
  {
   "cell_type": "code",
   "execution_count": null,
   "metadata": {},
   "outputs": [],
   "source": [
    "coll['worldtree']['test'][0]['generated_cot'][2]"
   ]
  },
  {
   "attachments": {},
   "cell_type": "markdown",
   "metadata": {},
   "source": [
    "## Reflection"
   ]
  },
  {
   "cell_type": "code",
   "execution_count": 42,
   "metadata": {},
   "outputs": [],
   "source": [
    "llm = ChatOpenAI(temperature=.0,model_name=\"gpt-3.5-turbo\")\n",
    "\n",
    "reflect_template = \"\"\"\n",
    "    Question: {question}\n",
    "    Answer_choices: {answer_choices}\n",
    "\n",
    "    Cot: {cot_trigger}{cot}\n",
    "    {answer_extraction}\n",
    "    Answer: {answer}\n",
    "    \n",
    "    {reflection_prompt}\n",
    "    \"\"\"\n",
    "prompt_template = PromptTemplate(input_variables=[\"question\",\"answer_choices\",\"cot_trigger\",\"cot\",\"answer_extraction\",'answer','reflection_prompt'], template=reflect_template)\n",
    "reflect_chain = LLMChain(llm=llm, prompt=prompt_template,output_key=\"reflection\")\n",
    "\n",
    "extraction_template = \"\"\"{instruction}\n",
    "\n",
    "    Question: {question}\n",
    "    Answer_choices: {answer_choices}\n",
    "\n",
    "    Cot: {cot_trigger}{cot}\n",
    "    {answer_extraction}{answer}\n",
    "    {reflection_prompt}{reflection}\n",
    "\n",
    "    {reflect_answer_extraction}\n",
    "    \"\"\"\n",
    "    #Get reflection\n",
    "prompt_template = PromptTemplate(input_variables=[\"instruction\",\"question\",\"answer_choices\",\"cot_trigger\",\"cot\",\"answer_extraction\",'answer','reflection_prompt','reflection','reflect_answer_extraction'], template=extraction_template)\n",
    "reflect_answer_chain = LLMChain(llm=llm, prompt=prompt_template,output_key=\"reflection_answer\")\n",
    "\n",
    "    # This is the overall chain where we run these two chains in sequence.\n",
    "from langchain.chains import SequentialChain\n",
    "reflect_overall_chain = SequentialChain(chains=[reflect_chain, reflect_answer_chain],input_variables=[\"instruction\",\"question\",\"answer_choices\",\"cot_trigger\",\"answer_extraction\",'cot','answer','reflection_prompt','reflect_answer_extraction'],\n",
    "        output_variables=[\"reflection\", \"reflection_answer\"],\n",
    "        verbose=True)\n",
    "\n",
    "\n"
   ]
  },
  {
   "cell_type": "code",
   "execution_count": 45,
   "metadata": {},
   "outputs": [
    {
     "name": "stdout",
     "output_type": "stream",
     "text": [
      "Generating worldtree...\n",
      "\n",
      "\n",
      "\u001b[1m> Entering new SequentialChain chain...\u001b[0m\n",
      "\n",
      "\u001b[1m> Finished chain.\u001b[0m\n"
     ]
    }
   ],
   "source": [
    "#check for what is already in item\n",
    "input_dict = {\n",
    "    'cot_trigger':\"\", \n",
    "    'answer':\"\", \n",
    "    'answer_extraction': \"\", \n",
    "    'cot': \"\", \n",
    "    'instruction': \"\",\n",
    "    'api_service': \"chat_openai\", \n",
    "    'model': \"gpt-3.5-turbo\",\n",
    "    'reflection_prompt':\"Double check this\",\n",
    "    'reflect_answer_extraction':'Based on the reflection, what is the definite answer?',\n",
    "    'temperature': 0,\n",
    "    'max_tokens': 800 \n",
    "\n",
    "}\n",
    "coll.metareason_flexible(chain=reflect_overall_chain,input_dict=input_dict)"
   ]
  },
  {
   "cell_type": "code",
   "execution_count": 46,
   "metadata": {},
   "outputs": [
    {
     "data": {
      "text/plain": [
       "{'id': 'ddbcca69-1ded-4593-a80f-03f3644190db',\n",
       " 'fragments_version': '0.01',\n",
       " 'instruction': '',\n",
       " 'cot_trigger': 'Double check this',\n",
       " 'cot_trigger_template': '',\n",
       " 'prompt_text': '',\n",
       " 'cot': 'Confirmed, the correct answer is A) the mass of Earth.',\n",
       " 'answers': [{'id': 'ea0f47f5-c8f8-41ee-ada0-f59618e8748f',\n",
       "   'answer_extraction': 'Based on the reflection, what is the definite answer?',\n",
       "   'answer_extraction_template': '',\n",
       "   'answer_extraction_text': 'self_reflection',\n",
       "   'answer': 'The definite answer is A) the mass of Earth.',\n",
       "   'correct_answer': None}],\n",
       " 'author': '',\n",
       " 'date': '2023/04/12 11:09:03',\n",
       " 'api_service': 'chat_openai',\n",
       " 'model': \"{'name': 'gpt-3.5-turbo', 'temperature': 0, 'max_tokens': 800}\",\n",
       " 'comment': 'self_reflection cot',\n",
       " 'annotations': []}"
      ]
     },
     "execution_count": 46,
     "metadata": {},
     "output_type": "execute_result"
    }
   ],
   "source": [
    "coll['worldtree']['test'][0]['generated_cot'][1]"
   ]
  },
  {
   "attachments": {},
   "cell_type": "markdown",
   "metadata": {},
   "source": [
    "## Experiments"
   ]
  },
  {
   "cell_type": "code",
   "execution_count": 7,
   "metadata": {},
   "outputs": [
    {
     "name": "stderr",
     "output_type": "stream",
     "text": [
      "[nltk_data] Downloading package punkt to\n",
      "[nltk_data]     /Users/robertpraas/nltk_data...\n",
      "[nltk_data]   Package punkt is already up-to-date!\n"
     ]
    },
    {
     "data": {
      "application/vnd.jupyter.widget-view+json": {
       "model_id": "596f335bc7d949fa8676578db54fc2f2",
       "version_major": 2,
       "version_minor": 0
      },
      "text/plain": [
       "  0%|          | 0/100 [00:00<?, ?ex/s]"
      ]
     },
     "metadata": {},
     "output_type": "display_data"
    },
    {
     "data": {
      "application/vnd.jupyter.widget-view+json": {
       "model_id": "9dba05b2b8444a87898d624756961926",
       "version_major": 2,
       "version_minor": 0
      },
      "text/plain": [
       "  0%|          | 0/100 [00:00<?, ?ex/s]"
      ]
     },
     "metadata": {},
     "output_type": "display_data"
    },
    {
     "data": {
      "application/vnd.jupyter.widget-view+json": {
       "model_id": "c4cbe9a0e23748f6a85ff07924a1b824",
       "version_major": 2,
       "version_minor": 0
      },
      "text/plain": [
       "  0%|          | 0/100 [00:00<?, ?ex/s]"
      ]
     },
     "metadata": {},
     "output_type": "display_data"
    },
    {
     "data": {
      "application/vnd.jupyter.widget-view+json": {
       "model_id": "72f11c3da40d49b9ba696a4cac958c71",
       "version_major": 2,
       "version_minor": 0
      },
      "text/plain": [
       "  0%|          | 0/100 [00:00<?, ?ex/s]"
      ]
     },
     "metadata": {},
     "output_type": "display_data"
    },
    {
     "data": {
      "application/vnd.jupyter.widget-view+json": {
       "model_id": "e79e70986cd541c8860a3c6b06d4bf39",
       "version_major": 2,
       "version_minor": 0
      },
      "text/plain": [
       "  0%|          | 0/100 [00:00<?, ?ex/s]"
      ]
     },
     "metadata": {},
     "output_type": "display_data"
    },
    {
     "data": {
      "application/vnd.jupyter.widget-view+json": {
       "model_id": "8f4be95380ce42f7b2dab2e280bf01dd",
       "version_major": 2,
       "version_minor": 0
      },
      "text/plain": [
       "  0%|          | 0/100 [00:00<?, ?ex/s]"
      ]
     },
     "metadata": {},
     "output_type": "display_data"
    }
   ],
   "source": [
    "from cot import Collection\n",
    "col = Collection.load_thoughtsource_100(load_pregenerated_cots=True)\n",
    "col.select_generated_cots(author='thoughtsource', cot_trigger='kojima-01')\n",
    "dataset = col['worldtree']\n"
   ]
  },
  {
   "cell_type": "code",
   "execution_count": 8,
   "metadata": {},
   "outputs": [
    {
     "name": "stdout",
     "output_type": "stream",
     "text": [
      "Loading worldtree...\n"
     ]
    }
   ],
   "source": [
    "worldtree = Collection([\"worldtree\"], verbose=False)\n",
    "worldtree_1 = worldtree.select(split=\"train\", number_samples=1, random_samples=True, seed=0)"
   ]
  },
  {
   "cell_type": "code",
   "execution_count": 55,
   "metadata": {},
   "outputs": [
    {
     "data": {
      "text/plain": [
       "{'id': '1577',\n",
       " 'ref_id': '',\n",
       " 'question': 'A parent and a child share several characteristics. Both individuals are tall, have curly hair, are good cooks, and have freckles. Which of these characteristics is a learned behavior?',\n",
       " 'type': 'multiplechoice',\n",
       " 'choices': ['being tall',\n",
       "  'having curly hair',\n",
       "  'being a good cook',\n",
       "  'having freckles'],\n",
       " 'context': '',\n",
       " 'cot': ['Skills are learned characteristics.',\n",
       "  'A behavior is a kind of characteristic.',\n",
       "  'Cooking is a kind of skill for preparing food.'],\n",
       " 'answer': ['being a good cook'],\n",
       " 'generated_cot': [],\n",
       " 'feedback': []}"
      ]
     },
     "execution_count": 55,
     "metadata": {},
     "output_type": "execute_result"
    }
   ],
   "source": [
    "worldtree_1['worldtree']['train'][0]"
   ]
  },
  {
   "attachments": {},
   "cell_type": "markdown",
   "metadata": {},
   "source": [
    "Reflect"
   ]
  },
  {
   "attachments": {},
   "cell_type": "markdown",
   "metadata": {},
   "source": [
    "Generate and extract"
   ]
  },
  {
   "cell_type": "code",
   "execution_count": 9,
   "metadata": {},
   "outputs": [],
   "source": [
    "input_dict = {\n",
    "    \"instruction\": \"Be faithful and a little hopeful\",\n",
    "    \"cot_trigger\": \"Answer: Let's think step by step.\",\n",
    "    \"answer_extraction\": \"Therefore, among A through D, the answer is\" \n",
    "}"
   ]
  },
  {
   "cell_type": "code",
   "execution_count": 10,
   "metadata": {},
   "outputs": [
    {
     "name": "stdout",
     "output_type": "stream",
     "text": [
      "Generating worldtree...\n",
      "\n",
      "\n",
      "\u001b[1m> Entering new SequentialChain chain...\u001b[0m\n",
      "\n",
      "\u001b[1m> Finished chain.\u001b[0m\n",
      "processed_example:\n",
      "{'id': '1577', 'ref_id': '', 'question': 'A parent and a child share several characteristics. Both individuals are tall, have curly hair, are good cooks, and have freckles. Which of these characteristics is a learned behavior?', 'type': 'multiplechoice', 'choices': ['being tall', 'having curly hair', 'being a good cook', 'having freckles'], 'context': '', 'cot': ['Skills are learned characteristics.', 'A behavior is a kind of characteristic.', 'Cooking is a kind of skill for preparing food.'], 'answer': ['being a good cook'], 'generated_cot': [{'id': '2db4a9e4-301c-4197-8796-b40931fd7d6f', 'fragments_version': '0.01', 'instruction': 'Be faithful and a little hopeful', 'cot_trigger': \"Answer: Let's think step by step.\", 'cot_trigger_template': '', 'prompt_text': '', 'cot': '\\n1. A) is a learned behavior.\\n\\n2. B) is a learned behavior.\\n\\n3. C) is a learned behavior.\\n\\n4. D) is a learned behavior.\\n\\n5. E) is a learned behavior.\\n\\n6. F) is a learned behavior.\\n\\n7. G) is a learned behavior.\\n\\n8. H) is a learned behavior.\\n\\n9. I) is a learned behavior.\\n\\n10. J) is a learned behavior.\\n\\n11. K) is a learned behavior.\\n\\n12. L) is a learned behavior.\\n\\n13. M) is a learned behavior.\\n\\n14. N) is a learned behavior.\\n\\n15. O) is a learned behavior.\\n\\n16. P) is a learned behavior.\\n\\n17. Q) is a learned behavior.\\n\\n18. R) is a learned behavior.\\n\\n19. S) is a learned behavior.\\n\\n20. T) is a learned behavior.\\n\\n21. U) is a learned behavior.\\n\\n22. V) is a learned behavior.\\n\\n23. W) is a learned behavior.\\n\\n24.', 'answers': [{'id': '926544be-60ef-435f-9692-994aa8f738b3', 'answer_extraction': 'Therefore, among A through D, the answer is', 'answer_extraction_template': '', 'answer_extraction_text': '', 'answer': '\\nA) is a learned behavior.\\n\\nB) is a learned behavior.\\n\\nC) is a learned behavior.\\n\\nD) is a learned behavior.\\n\\nE) is a learned behavior.\\n\\nF) is a learned behavior.\\n\\nG) is a learned behavior.\\n\\nH) is a learned behavior.\\n\\nI) is a learned behavior.\\n\\nJ) is a learned behavior.\\n\\nK) is a learned behavior.\\n\\nL) is a learned behavior.\\n\\nM) is a learned behavior.\\n\\nN) is a learned behavior.\\n\\nO) is a learned behavior.\\n\\nP) is a learned behavior.\\n\\nQ) is a learned behavior.\\n\\nR) is a learned behavior.\\n\\nS) is a learned behavior.\\n\\nT) is a learned behavior.\\n\\nU) is a learned behavior.\\n\\nV) is a learned behavior.\\n\\nW) is a learned behavior.\\n\\nTherefore, among A through F, the answer is\\n\\nA) is a learned behavior.\\n\\nB) is a learned behavior.\\n\\nC) is a learned behavior.\\n\\nD) is a learned behavior.\\n\\n', 'correct_answer': None}], 'author': '', 'date': '2023/03/14 07:38:05', 'api_service': '', 'model': \"{'name': '', 'temperature': 0, 'max_tokens': 800}\", 'comment': '', 'annotations': []}], 'feedback': []}\n"
     ]
    }
   ],
   "source": [
    "generate_test = worldtree_1.generate_extract_flexibly(chain=overall_chain,input_dict=input_dict)"
   ]
  },
  {
   "cell_type": "code",
   "execution_count": 14,
   "metadata": {},
   "outputs": [
    {
     "data": {
      "text/plain": [
       "[[{'id': '2db4a9e4-301c-4197-8796-b40931fd7d6f',\n",
       "   'fragments_version': '0.01',\n",
       "   'instruction': 'Be faithful and a little hopeful',\n",
       "   'cot_trigger': \"Answer: Let's think step by step.\",\n",
       "   'cot_trigger_template': '',\n",
       "   'prompt_text': '',\n",
       "   'cot': '\\n1. A) is a learned behavior.\\n\\n2. B) is a learned behavior.\\n\\n3. C) is a learned behavior.\\n\\n4. D) is a learned behavior.\\n\\n5. E) is a learned behavior.\\n\\n6. F) is a learned behavior.\\n\\n7. G) is a learned behavior.\\n\\n8. H) is a learned behavior.\\n\\n9. I) is a learned behavior.\\n\\n10. J) is a learned behavior.\\n\\n11. K) is a learned behavior.\\n\\n12. L) is a learned behavior.\\n\\n13. M) is a learned behavior.\\n\\n14. N) is a learned behavior.\\n\\n15. O) is a learned behavior.\\n\\n16. P) is a learned behavior.\\n\\n17. Q) is a learned behavior.\\n\\n18. R) is a learned behavior.\\n\\n19. S) is a learned behavior.\\n\\n20. T) is a learned behavior.\\n\\n21. U) is a learned behavior.\\n\\n22. V) is a learned behavior.\\n\\n23. W) is a learned behavior.\\n\\n24.',\n",
       "   'answers': [{'id': '926544be-60ef-435f-9692-994aa8f738b3',\n",
       "     'answer_extraction': 'Therefore, among A through D, the answer is',\n",
       "     'answer_extraction_template': '',\n",
       "     'answer_extraction_text': '',\n",
       "     'answer': '\\nA) is a learned behavior.\\n\\nB) is a learned behavior.\\n\\nC) is a learned behavior.\\n\\nD) is a learned behavior.\\n\\nE) is a learned behavior.\\n\\nF) is a learned behavior.\\n\\nG) is a learned behavior.\\n\\nH) is a learned behavior.\\n\\nI) is a learned behavior.\\n\\nJ) is a learned behavior.\\n\\nK) is a learned behavior.\\n\\nL) is a learned behavior.\\n\\nM) is a learned behavior.\\n\\nN) is a learned behavior.\\n\\nO) is a learned behavior.\\n\\nP) is a learned behavior.\\n\\nQ) is a learned behavior.\\n\\nR) is a learned behavior.\\n\\nS) is a learned behavior.\\n\\nT) is a learned behavior.\\n\\nU) is a learned behavior.\\n\\nV) is a learned behavior.\\n\\nW) is a learned behavior.\\n\\nTherefore, among A through F, the answer is\\n\\nA) is a learned behavior.\\n\\nB) is a learned behavior.\\n\\nC) is a learned behavior.\\n\\nD) is a learned behavior.\\n\\n',\n",
       "     'correct_answer': None}],\n",
       "   'author': '',\n",
       "   'date': '2023/03/14 07:38:05',\n",
       "   'api_service': '',\n",
       "   'model': \"{'name': '', 'temperature': 0, 'max_tokens': 800}\",\n",
       "   'comment': '',\n",
       "   'annotations': []}]]"
      ]
     },
     "execution_count": 14,
     "metadata": {},
     "output_type": "execute_result"
    }
   ],
   "source": [
    "#Force langchain into TS structure \n",
    "worldtree_new = {'worldtree':{'train':generate_test}}\n",
    "\n",
    "#create and collect a json to make collection\n",
    "with open(\"sample.json\", \"w\") as outfile:\n",
    "    json.dump(worldtree_new, outfile)\n",
    "collect = Collection.from_json('sample.json')\n",
    "\n",
    "collect['worldtree']['train']['generated_cot']"
   ]
  },
  {
   "attachments": {},
   "cell_type": "markdown",
   "metadata": {},
   "source": [
    "Generate"
   ]
  },
  {
   "cell_type": "code",
   "execution_count": 17,
   "metadata": {},
   "outputs": [
    {
     "name": "stdout",
     "output_type": "stream",
     "text": [
      "Generating worldtree...\n",
      "processed_example:\n",
      "{'id': '1577', 'ref_id': '', 'question': 'A parent and a child share several characteristics. Both individuals are tall, have curly hair, are good cooks, and have freckles. Which of these characteristics is a learned behavior?', 'type': 'multiplechoice', 'choices': ['being tall', 'having curly hair', 'being a good cook', 'having freckles'], 'context': '', 'cot': ['Skills are learned characteristics.', 'A behavior is a kind of characteristic.', 'Cooking is a kind of skill for preparing food.'], 'answer': ['being a good cook'], 'generated_cot': [{'id': '7d977578-5359-49d9-bd26-c373911bf3c9', 'fragments_version': '0.01', 'instruction': 'Be faithful and a little hopeful', 'cot_trigger': \"Answer: Let's think step by step.\", 'cot_trigger_template': '', 'prompt_text': '', 'cot': '\\n1. A) is a learned behavior.\\n\\n2. B) is a learned behavior.\\n\\n3. C) is a learned behavior.\\n\\n4. D) is a learned behavior.\\n\\n5. E) is a learned behavior.\\n\\n6. F) is a learned behavior.\\n\\n7. G) is a learned behavior.\\n\\n8. H) is a learned behavior.\\n\\n9. I) is a learned behavior.\\n\\n10. J) is a learned behavior.\\n\\n11. K) is a learned behavior.\\n\\n12. L) is a learned behavior.\\n\\n13. M) is a learned behavior.\\n\\n14. N) is a learned behavior.\\n\\n15. O) is a learned behavior.\\n\\n16. P) is a learned behavior.\\n\\n17. Q) is a learned behavior.\\n\\n18. R) is a learned behavior.\\n\\n19. S) is a learned behavior.\\n\\n20. T) is a learned behavior.\\n\\n21. U) is a learned behavior.\\n\\n22. V) is a learned behavior.\\n\\n23. W) is a learned behavior.\\n\\n24.', 'answers': [], 'author': '', 'date': '2023/03/14 08:00:42', 'api_service': '', 'model': \"{'name': '', 'temperature': 0, 'max_tokens': 800}\", 'comment': '', 'annotations': []}], 'feedback': []}\n"
     ]
    },
    {
     "data": {
      "text/plain": [
       "[{'id': '1577',\n",
       "  'ref_id': '',\n",
       "  'question': 'A parent and a child share several characteristics. Both individuals are tall, have curly hair, are good cooks, and have freckles. Which of these characteristics is a learned behavior?',\n",
       "  'type': 'multiplechoice',\n",
       "  'choices': ['being tall',\n",
       "   'having curly hair',\n",
       "   'being a good cook',\n",
       "   'having freckles'],\n",
       "  'context': '',\n",
       "  'cot': ['Skills are learned characteristics.',\n",
       "   'A behavior is a kind of characteristic.',\n",
       "   'Cooking is a kind of skill for preparing food.'],\n",
       "  'answer': ['being a good cook'],\n",
       "  'generated_cot': [{'id': '7d977578-5359-49d9-bd26-c373911bf3c9',\n",
       "    'fragments_version': '0.01',\n",
       "    'instruction': 'Be faithful and a little hopeful',\n",
       "    'cot_trigger': \"Answer: Let's think step by step.\",\n",
       "    'cot_trigger_template': '',\n",
       "    'prompt_text': '',\n",
       "    'cot': '\\n1. A) is a learned behavior.\\n\\n2. B) is a learned behavior.\\n\\n3. C) is a learned behavior.\\n\\n4. D) is a learned behavior.\\n\\n5. E) is a learned behavior.\\n\\n6. F) is a learned behavior.\\n\\n7. G) is a learned behavior.\\n\\n8. H) is a learned behavior.\\n\\n9. I) is a learned behavior.\\n\\n10. J) is a learned behavior.\\n\\n11. K) is a learned behavior.\\n\\n12. L) is a learned behavior.\\n\\n13. M) is a learned behavior.\\n\\n14. N) is a learned behavior.\\n\\n15. O) is a learned behavior.\\n\\n16. P) is a learned behavior.\\n\\n17. Q) is a learned behavior.\\n\\n18. R) is a learned behavior.\\n\\n19. S) is a learned behavior.\\n\\n20. T) is a learned behavior.\\n\\n21. U) is a learned behavior.\\n\\n22. V) is a learned behavior.\\n\\n23. W) is a learned behavior.\\n\\n24.',\n",
       "    'answers': [],\n",
       "    'author': '',\n",
       "    'date': '2023/03/14 08:00:42',\n",
       "    'api_service': '',\n",
       "    'model': \"{'name': '', 'temperature': 0, 'max_tokens': 800}\",\n",
       "    'comment': '',\n",
       "    'annotations': []}],\n",
       "  'feedback': []}]"
      ]
     },
     "execution_count": 17,
     "metadata": {},
     "output_type": "execute_result"
    }
   ],
   "source": [
    "generate_only = worldtree_1.generate_flexible(chain=cot_chain,input_dict=input_dict)\n",
    "generate_only"
   ]
  },
  {
   "attachments": {},
   "cell_type": "markdown",
   "metadata": {},
   "source": [
    "Extract"
   ]
  },
  {
   "cell_type": "code",
   "execution_count": 18,
   "metadata": {},
   "outputs": [],
   "source": [
    "#Force langchain into TS structure -- from geneate\n",
    "worldtree_new = {'worldtree':{'train':generate_only}}\n",
    "\n",
    "#create and collect a json to make collection\n",
    "with open(\"sample.json\", \"w\") as outfile:\n",
    "    json.dump(worldtree_new, outfile)\n",
    "collect = Collection.from_json('sample.json')"
   ]
  },
  {
   "cell_type": "code",
   "execution_count": 23,
   "metadata": {},
   "outputs": [
    {
     "name": "stdout",
     "output_type": "stream",
     "text": [
      "Generating worldtree...\n",
      "processed_example:\n",
      "{'id': '1577', 'ref_id': '', 'question': 'A parent and a child share several characteristics. Both individuals are tall, have curly hair, are good cooks, and have freckles. Which of these characteristics is a learned behavior?', 'type': 'multiplechoice', 'choices': ['being tall', 'having curly hair', 'being a good cook', 'having freckles'], 'context': '', 'cot': ['Skills are learned characteristics.', 'A behavior is a kind of characteristic.', 'Cooking is a kind of skill for preparing food.'], 'answer': ['being a good cook'], 'generated_cot': [{'id': '7d977578-5359-49d9-bd26-c373911bf3c9', 'fragments_version': '0.01', 'instruction': 'Be faithful and a little hopeful', 'cot_trigger': \"Answer: Let's think step by step.\", 'cot_trigger_template': '', 'prompt_text': '', 'cot': '\\n1. A) is a learned behavior.\\n\\n2. B) is a learned behavior.\\n\\n3. C) is a learned behavior.\\n\\n4. D) is a learned behavior.\\n\\n5. E) is a learned behavior.\\n\\n6. F) is a learned behavior.\\n\\n7. G) is a learned behavior.\\n\\n8. H) is a learned behavior.\\n\\n9. I) is a learned behavior.\\n\\n10. J) is a learned behavior.\\n\\n11. K) is a learned behavior.\\n\\n12. L) is a learned behavior.\\n\\n13. M) is a learned behavior.\\n\\n14. N) is a learned behavior.\\n\\n15. O) is a learned behavior.\\n\\n16. P) is a learned behavior.\\n\\n17. Q) is a learned behavior.\\n\\n18. R) is a learned behavior.\\n\\n19. S) is a learned behavior.\\n\\n20. T) is a learned behavior.\\n\\n21. U) is a learned behavior.\\n\\n22. V) is a learned behavior.\\n\\n23. W) is a learned behavior.\\n\\n24.', 'answers': [{'id': 'e1ecd70e-51f4-4ade-a153-7110946750b9', 'answer_extraction': 'Therefore, among A through D, the answer is', 'answer_extraction_template': '', 'answer_extraction_text': '', 'answer': '\\nA) is a learned behavior.\\n\\nB) is a learned behavior.\\n\\nC) is a learned behavior.\\n\\nD) is a learned behavior.\\n\\nE) is a learned behavior.\\n\\nF) is a learned behavior.\\n\\nG) is a learned behavior.\\n\\nH) is a learned behavior.\\n\\nI) is a learned behavior.\\n\\nJ) is a learned behavior.\\n\\nK) is a learned behavior.\\n\\nL) is a learned behavior.\\n\\nM) is a learned behavior.\\n\\nN) is a learned behavior.\\n\\nO) is a learned behavior.\\n\\nP) is a learned behavior.\\n\\nQ) is a learned behavior.\\n\\nR) is a learned behavior.\\n\\nS) is a learned behavior.\\n\\nT) is a learned behavior.\\n\\nU) is a learned behavior.\\n\\nV) is a learned behavior.\\n\\nW) is a learned behavior.\\n\\nTherefore, among A through F, the answer is\\n\\nA) is a learned behavior.\\n\\nB) is a learned behavior.\\n\\nC) is a learned behavior.\\n\\nD) is a learned behavior.\\n\\n', 'correct_answer': None}], 'author': '', 'date': '2023/03/14 08:00:42', 'api_service': '', 'model': \"{'name': '', 'temperature': 0, 'max_tokens': 800}\", 'comment': '', 'annotations': []}, {'id': '654f07a6-6104-495d-b328-e8c067af2322', 'fragments_version': '0.01', 'instruction': 'Be faithful and a little hopeful', 'cot_trigger': \"Answer: Let's think step by step.\", 'cot_trigger_template': '', 'prompt_text': '', 'cot': '\\n1. A) is a learned behavior.\\n\\n2. B) is a learned behavior.\\n\\n3. C) is a learned behavior.\\n\\n4. D) is a learned behavior.\\n\\n5. E) is a learned behavior.\\n\\n6. F) is a learned behavior.\\n\\n7. G) is a learned behavior.\\n\\n8. H) is a learned behavior.\\n\\n9. I) is a learned behavior.\\n\\n10. J) is a learned behavior.\\n\\n11. K) is a learned behavior.\\n\\n12. L) is a learned behavior.\\n\\n13. M) is a learned behavior.\\n\\n14. N) is a learned behavior.\\n\\n15. O) is a learned behavior.\\n\\n16. P) is a learned behavior.\\n\\n17. Q) is a learned behavior.\\n\\n18. R) is a learned behavior.\\n\\n19. S) is a learned behavior.\\n\\n20. T) is a learned behavior.\\n\\n21. U) is a learned behavior.\\n\\n22. V) is a learned behavior.\\n\\n23. W) is a learned behavior.\\n\\n24.', 'answers': [], 'author': '', 'date': '2023/03/14 08:03:54', 'api_service': '', 'model': \"{'name': '', 'temperature': 0, 'max_tokens': 800}\", 'comment': 'self_reflection cot', 'annotations': []}], 'feedback': []}\n"
     ]
    }
   ],
   "source": [
    "extract = collect.extract_flexible(chain=answer_chain,input_dict=input_dict)"
   ]
  },
  {
   "cell_type": "code",
   "execution_count": 33,
   "metadata": {},
   "outputs": [],
   "source": [
    "coll = Collection.load_thoughtsource_100(names='worldtree',load_pregenerated_cots=True)\n",
    "coll = coll.select(split=\"all\", number_samples=1)\n",
    "coll.select_generated_cots(author='thoughtsource',cot_trigger = None)"
   ]
  }
 ],
 "metadata": {
  "kernelspec": {
   "display_name": "base",
   "language": "python",
   "name": "python3"
  },
  "language_info": {
   "codemirror_mode": {
    "name": "ipython",
    "version": 3
   },
   "file_extension": ".py",
   "mimetype": "text/x-python",
   "name": "python",
   "nbconvert_exporter": "python",
   "pygments_lexer": "ipython3",
   "version": "3.9.12"
  },
  "vscode": {
   "interpreter": {
    "hash": "40d3a090f54c6569ab1632332b64b2c03c39dcf918b08424e98f38b5ae0af88f"
   }
  }
 },
 "nbformat": 4,
 "nbformat_minor": 0
}
