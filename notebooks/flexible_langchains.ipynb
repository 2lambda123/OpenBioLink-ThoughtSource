{
 "cells": [
  {
   "attachments": {},
   "cell_type": "markdown",
   "metadata": {},
   "source": [
    "## Data"
   ]
  },
  {
   "cell_type": "code",
   "execution_count": null,
   "metadata": {},
   "outputs": [],
   "source": [
    "\"\"\"Example dataset with one sample for two datasets\"\"\"\n",
    "\n",
    "\n",
    "from cot import Collection\n",
    "coll = Collection.load_thoughtsource_100(names=['strategy_qa','worldtree'],load_pregenerated_cots=True) #random_sample=False?\n",
    "coll = coll.select(split=\"all\", number_samples=1)\n",
    "coll.select_generated_cots(cot_trigger = \"kojima-01\", api_service='cohere') #have one"
   ]
  },
  {
   "cell_type": "code",
   "execution_count": 16,
   "metadata": {},
   "outputs": [
    {
     "name": "stdout",
     "output_type": "stream",
     "text": [
      "Loading worldtree...\n",
      "| Name      | Train   | Valid   |   Test |\n",
      "|-----------|---------|---------|--------|\n",
      "| worldtree | -       | -       |      1 |\n",
      "\n",
      "Not loaded: ['aqua', 'asdiv', 'commonsense_qa', 'entailment_bank', 'gsm8k', 'mawps', 'med_qa', 'medmc_qa', 'open_book_qa', 'pubmed_qa', 'qed', 'strategy_qa', 'svamp']\n"
     ]
    }
   ],
   "source": [
    "from cot import Collection\n",
    "worldtree = Collection([\"worldtree\"], verbose=False)\n",
    "worldtree = worldtree.select(split=\"test\", number_samples=1, random_samples=True, seed=0)\n",
    "print(worldtree)"
   ]
  },
  {
   "cell_type": "code",
   "execution_count": 4,
   "metadata": {},
   "outputs": [
    {
     "data": {
      "text/plain": [
       "{'id': 'worldtree_test_788',\n",
       " 'ref_id': '',\n",
       " 'question': 'When light hits a mirror, most of the light is',\n",
       " 'type': 'multiplechoice',\n",
       " 'choices': ['refracted.', 'reflected.', 'absorbed.', 'transmitted.'],\n",
       " 'context': '',\n",
       " 'cot': ['A mirror reflects light.',\n",
       "  'Reflection is when a wave bounces off a surface and travels in the opposite direction relative to the angle of incidence.',\n",
       "  'Light is a kind of wave.',\n",
       "  'When light hits a reflective object , that light bounces off that object.',\n",
       "  'A mirror is a kind of reflective object.'],\n",
       " 'answer': ['reflected.'],\n",
       " 'generated_cot': [],\n",
       " 'feedback': []}"
      ]
     },
     "execution_count": 4,
     "metadata": {},
     "output_type": "execute_result"
    }
   ],
   "source": [
    "worldtree['worldtree']['test'][0]"
   ]
  },
  {
   "attachments": {},
   "cell_type": "markdown",
   "metadata": {},
   "source": [
    "## Generate and extract"
   ]
  },
  {
   "cell_type": "code",
   "execution_count": 17,
   "metadata": {},
   "outputs": [],
   "source": [
    "from langchain.llms import OpenAI \n",
    "from langchain.prompts import PromptTemplate \n",
    "from langchain.chains.llm import LLMChain\n",
    "import json\n",
    "from langchain.chat_models import ChatOpenAI\n"
   ]
  },
  {
   "cell_type": "code",
   "execution_count": 18,
   "metadata": {},
   "outputs": [],
   "source": [
    "\"\"\"CoT Chain\"\"\"\n",
    "\n",
    "llm = ChatOpenAI(temperature=.0,model_name=\"gpt-3.5-turbo\") #ADA #for chat: gpt-3.5-turbo\n",
    "\n",
    "\n",
    "\n",
    "\n",
    "template = \"\"\"{instruction}\n",
    "\n",
    "Question: {question}\n",
    "Answer_choices: {answer_choices}\n",
    "\n",
    "{cot_trigger}\n",
    "\"\"\"\n",
    "\n",
    "prompt_template = PromptTemplate(input_variables=[\"instruction\",\"question\",\"answer_choices\",\"cot_trigger\"], template=template)\n",
    "cot_chain = LLMChain(llm=llm, prompt=prompt_template,output_key=\"cot\")"
   ]
  },
  {
   "cell_type": "code",
   "execution_count": 19,
   "metadata": {},
   "outputs": [],
   "source": [
    "\"\"\"answer extraction chain\"\"\"\n",
    "\n",
    "extraction_template = \"\"\"{instruction}\n",
    "\n",
    "Question: {question}\n",
    "Answer_choices: {answer_choices}\n",
    "\n",
    "Cot: {cot_trigger}{cot}\n",
    "{answer_extraction}\n",
    "\"\"\"\n",
    "\n",
    "prompt_template = PromptTemplate(input_variables=[\"instruction\",\"question\",\"answer_choices\",\"cot_trigger\",\"cot\",\"answer_extraction\"], template=extraction_template)\n",
    "answer_chain = LLMChain(llm=llm, prompt=prompt_template,output_key=\"predicted_answer\")\n"
   ]
  },
  {
   "cell_type": "code",
   "execution_count": 20,
   "metadata": {},
   "outputs": [],
   "source": [
    "\"\"\"CoT-Ans_extraction chain\"\"\"\n",
    "\n",
    "from langchain.chains import SequentialChain\n",
    "overall_chain = SequentialChain(chains=[cot_chain, answer_chain],\n",
    "                                input_variables=[\"instruction\",\"question\",\"answer_choices\",\"cot_trigger\",\"answer_extraction\"],\n",
    "                                output_variables=[\"cot\", \"predicted_answer\"],\n",
    "                                verbose=True)"
   ]
  },
  {
   "cell_type": "code",
   "execution_count": 26,
   "metadata": {},
   "outputs": [
    {
     "name": "stdout",
     "output_type": "stream",
     "text": [
      "Generating worldtree...\n",
      "\n",
      "\n",
      "\u001b[1m> Entering new SequentialChain chain...\u001b[0m\n",
      "\n",
      "\u001b[1m> Finished chain.\u001b[0m\n",
      "processed_example:\n",
      "{'id': '788', 'ref_id': '', 'question': 'When light hits a mirror, most of the light is', 'type': 'multiplechoice', 'choices': ['refracted.', 'reflected.', 'absorbed.', 'transmitted.'], 'context': '', 'cot': ['A mirror reflects light.', 'Reflection is when a wave bounces off a surface and travels in the opposite direction relative to the angle of incidence.', 'Light is a kind of wave.', 'When light hits a reflective object , that light bounces off that object.', 'A mirror is a kind of reflective object.'], 'answer': ['reflected.'], 'generated_cot': [{'id': 'ba4c1e5c-f2d2-48de-b059-fe581df62857', 'fragments_version': '0.01', 'instruction': 'Be faithful and a little hopeful', 'cot_trigger': \"Answer: Let's think step by step.\", 'cot_trigger_template': '', 'prompt_text': '', 'cot': 'When light hits a mirror, it bounces back off the surface of the mirror. This process is called reflection. Therefore, the correct answer is B) reflected.', 'answers': [{'id': '7c5b87c7-fa53-445f-9a18-b19a8ab3c23b', 'answer_extraction': 'Therefore, among A through D, the answer is', 'answer_extraction_template': '', 'answer_extraction_text': '', 'answer': 'B) reflected.', 'correct_answer': None}], 'author': '', 'date': '2023/05/07 13:01:09', 'api_service': '', 'model': \"{'name': 'test', 'temperature': 0, 'max_tokens': 800}\", 'comment': '', 'annotations': []}], 'feedback': []}\n"
     ]
    }
   ],
   "source": [
    "\"\"\"Generate CoT with use of TS-schema\"\"\"\n",
    "#compare with config used before; what about max tokens?\n",
    "#config contains what the chain needs\n",
    "input_dict = {\n",
    "    \"instruction\": \"Be faithful and a little hopeful\",\n",
    "    \"cot_trigger\": \"Answer: Let's think step by step.\",\n",
    "    \"answer_extraction\": \"Therefore, among A through D, the answer is\",\n",
    "    'model_name':'test',\n",
    "    'temperature':0,\n",
    "    'max_tokens':400 \n",
    "}\n",
    "worldtree = worldtree.generate_extract_flexibly(chain=overall_chain,input_dict=input_dict)\n",
    "\n",
    "\n"
   ]
  },
  {
   "cell_type": "code",
   "execution_count": 29,
   "metadata": {},
   "outputs": [],
   "source": [
    "worldtree_2 = {'worldtree':{'test':worldtree}}"
   ]
  },
  {
   "cell_type": "code",
   "execution_count": 30,
   "metadata": {},
   "outputs": [
    {
     "data": {
      "text/plain": [
       "{'worldtree': {'test': [{'id': '788',\n",
       "    'ref_id': '',\n",
       "    'question': 'When light hits a mirror, most of the light is',\n",
       "    'type': 'multiplechoice',\n",
       "    'choices': ['refracted.', 'reflected.', 'absorbed.', 'transmitted.'],\n",
       "    'context': '',\n",
       "    'cot': ['A mirror reflects light.',\n",
       "     'Reflection is when a wave bounces off a surface and travels in the opposite direction relative to the angle of incidence.',\n",
       "     'Light is a kind of wave.',\n",
       "     'When light hits a reflective object , that light bounces off that object.',\n",
       "     'A mirror is a kind of reflective object.'],\n",
       "    'answer': ['reflected.'],\n",
       "    'generated_cot': [{'id': 'ba4c1e5c-f2d2-48de-b059-fe581df62857',\n",
       "      'fragments_version': '0.01',\n",
       "      'instruction': 'Be faithful and a little hopeful',\n",
       "      'cot_trigger': \"Answer: Let's think step by step.\",\n",
       "      'cot_trigger_template': '',\n",
       "      'prompt_text': '',\n",
       "      'cot': 'When light hits a mirror, it bounces back off the surface of the mirror. This process is called reflection. Therefore, the correct answer is B) reflected.',\n",
       "      'answers': [{'id': '7c5b87c7-fa53-445f-9a18-b19a8ab3c23b',\n",
       "        'answer_extraction': 'Therefore, among A through D, the answer is',\n",
       "        'answer_extraction_template': '',\n",
       "        'answer_extraction_text': '',\n",
       "        'answer': 'B) reflected.',\n",
       "        'correct_answer': None}],\n",
       "      'author': '',\n",
       "      'date': '2023/05/07 13:01:09',\n",
       "      'api_service': '',\n",
       "      'model': \"{'name': 'test', 'temperature': 0, 'max_tokens': 800}\",\n",
       "      'comment': '',\n",
       "      'annotations': []}],\n",
       "    'feedback': []}]}}"
      ]
     },
     "execution_count": 30,
     "metadata": {},
     "output_type": "execute_result"
    }
   ],
   "source": [
    "worldtree_2"
   ]
  },
  {
   "cell_type": "code",
   "execution_count": 31,
   "metadata": {},
   "outputs": [
    {
     "data": {
      "text/plain": [
       "[[{'id': 'ba4c1e5c-f2d2-48de-b059-fe581df62857',\n",
       "   'fragments_version': '0.01',\n",
       "   'instruction': 'Be faithful and a little hopeful',\n",
       "   'cot_trigger': \"Answer: Let's think step by step.\",\n",
       "   'cot_trigger_template': '',\n",
       "   'prompt_text': '',\n",
       "   'cot': 'When light hits a mirror, it bounces back off the surface of the mirror. This process is called reflection. Therefore, the correct answer is B) reflected.',\n",
       "   'answers': [{'id': '7c5b87c7-fa53-445f-9a18-b19a8ab3c23b',\n",
       "     'answer_extraction': 'Therefore, among A through D, the answer is',\n",
       "     'answer_extraction_template': '',\n",
       "     'answer_extraction_text': '',\n",
       "     'answer': 'B) reflected.',\n",
       "     'correct_answer': None}],\n",
       "   'author': '',\n",
       "   'date': '2023/05/07 13:01:09',\n",
       "   'api_service': '',\n",
       "   'model': \"{'name': 'test', 'temperature': 0, 'max_tokens': 800}\",\n",
       "   'comment': '',\n",
       "   'annotations': []}]]"
      ]
     },
     "execution_count": 31,
     "metadata": {},
     "output_type": "execute_result"
    }
   ],
   "source": [
    "\n",
    "\n",
    "#create and collect a json to make collection\n",
    "with open(\"sample.json\", \"w\") as outfile:\n",
    "    json.dump(worldtree_2, outfile)\n",
    "collect = Collection.from_json('sample.json')\n",
    "\n",
    "collect['worldtree']['test']['generated_cot']"
   ]
  },
  {
   "cell_type": "code",
   "execution_count": 32,
   "metadata": {},
   "outputs": [
    {
     "data": {
      "application/vnd.jupyter.widget-view+json": {
       "model_id": "fa33d0ab03f34faeabbbb1f8687ce93a",
       "version_major": 2,
       "version_minor": 0
      },
      "text/plain": [
       "  0%|          | 0/1 [00:00<?, ?ex/s]"
      ]
     },
     "metadata": {},
     "output_type": "display_data"
    },
    {
     "data": {
      "text/plain": [
       "{'worldtree': {'test': {'accuracy': {'test': {\"Be faithful and a little hopeful_Answer: Let's think step by step._Therefore, among A through D, the answer is\": 1.0}}}}}"
      ]
     },
     "execution_count": 32,
     "metadata": {},
     "output_type": "execute_result"
    }
   ],
   "source": [
    "collect.evaluate()"
   ]
  },
  {
   "attachments": {},
   "cell_type": "markdown",
   "metadata": {},
   "source": [
    "## Generate or extract"
   ]
  },
  {
   "cell_type": "code",
   "execution_count": 2,
   "metadata": {},
   "outputs": [],
   "source": [
    "#from langchain.llms.openai import OpenAIChat\n",
    "\n",
    "from langchain.llms import OpenAI \n",
    "from langchain.prompts import PromptTemplate \n",
    "from langchain.chains.llm import LLMChain\n",
    "from cot import Collection\n",
    "import json"
   ]
  },
  {
   "cell_type": "code",
   "execution_count": 35,
   "metadata": {},
   "outputs": [
    {
     "name": "stdout",
     "output_type": "stream",
     "text": [
      "Generating strategy_qa...\n",
      "Generating worldtree...\n"
     ]
    }
   ],
   "source": [
    "\"\"\"Extract script: Assumes there are CoTs in the dataset already\"\"\"\n",
    "\n",
    "input_dict = {\n",
    "    \"instruction\": \"Be faithful and a little hopeful\",\n",
    "    \"cot_trigger\": \"Answer: Let's think step by step.\",\n",
    "    'api_service': \"chat_openai\",\n",
    "    'model': \"gpt-3.5-turbo\",\n",
    "    \"answer_extraction\": \"Therefore, among A through D, the answer is\" \n",
    "}\n",
    "coll.extract_flexible(chain=answer_chain,input_dict=input_dict)"
   ]
  },
  {
   "cell_type": "code",
   "execution_count": null,
   "metadata": {},
   "outputs": [],
   "source": [
    "coll['strategy_qa']['train'][0]['generated_cot']"
   ]
  },
  {
   "cell_type": "code",
   "execution_count": 29,
   "metadata": {},
   "outputs": [
    {
     "name": "stdout",
     "output_type": "stream",
     "text": [
      "this is happening\n",
      "Generating strategy_qa...\n",
      "processed_example:\n",
      "{'id': 'cc266a3e29a3b8442b14', 'ref_id': '', 'question': 'Would a 900,000 pound net worth person be an American billionaire if they exchange currency June 2020?', 'type': 'bool', 'choices': ['True', 'False'], 'context': '', 'cot': ['The exchange rate in June of 2020 between dollars and pounds is 1 Euro= 1.23 dollar.', '900000 pounds is equal to about 1,107,000.00'], 'answer': ['True'], 'generated_cot': [{'id': 'f85eab54-fc67-43e3-9e0e-3a5bc0206070', 'fragments_version': '0.01', 'instruction': None, 'cot_trigger': 'kojima-01', 'cot_trigger_template': '{instruction}\\n\\n{question}\\n{answer_choices}\\n\\n{cot_trigger}', 'prompt_text': '', 'cot': '\\nNo. They would need to have at least 1 billion USD.\\nNot quite. They would need to have at least 1 billion USD.', 'answers': [{'id': '02aab9b4-e88e-45c1-8dad-b5f2db2d507b', 'answer_extraction': 'kojima-yes-no', 'answer_extraction_template': '{instruction}\\n\\n{question}\\n{answer_choices}\\n\\n{cot_trigger}{cot}\\n{answer_extraction}', 'answer_extraction_text': '', 'answer': ' \"No\".\\n\\nThey would need to have at least 1 billion USD.\\nTherefore, the answer (Yes or No) is \"No\".', 'correct_answer': False}], 'author': 'thoughtsource', 'date': '2023/02/14 18:30:54', 'api_service': 'cohere', 'model': \"{'name': 'command-xlarge-nightly', 'temperature': 0, 'max_tokens': 512}\", 'comment': '', 'annotations': []}, {'id': '3078741b-8304-4d49-a907-4082c32f7b6e', 'fragments_version': '0.01', 'instruction': 'Be faithful and a little hopeful', 'cot_trigger': \"Answer: Let's think step by step.\", 'cot_trigger_template': '', 'prompt_text': '', 'cot': 'First, we need to convert 900,000 pounds to US dollars. As of June 2020, the exchange rate was approximately 1.23 US dollars to 1 British pound. Therefore, 900,000 pounds would be equivalent to approximately $1,107,000 US dollars.\\n\\nNext, we need to determine if a net worth of $1,107,000 would make someone a billionaire in the United States. According to Forbes, as of 2020, a person needs a net worth of at least $2.1 billion to be considered a billionaire in the United States.\\n\\nTherefore, the answer is B) False. A person with a net worth of $1,107,000 would not be considered a billionaire in the United States, even if they exchanged currency from pounds to dollars.', 'answers': [], 'author': '', 'date': '2023/03/31 15:45:22', 'api_service': 'chat_openai', 'model': \"{'name': 'gpt-3.5-turbo', 'temperature': 0, 'max_tokens': 800}\", 'comment': '', 'annotations': []}, {'id': '62d5b3fb-1f82-4ca1-a6c6-cc7a4fcf89b8', 'fragments_version': '0.01', 'instruction': 'Be faithful and a little hopeful', 'cot_trigger': \"Answer: Let's think step by step.\", 'cot_trigger_template': '', 'prompt_text': '', 'cot': '\\nNo. They would need to have at least 1 billion USD.\\nNot quite. They would need to have at least 1 billion USD.', 'answers': [{'id': '31e06f02-617c-4896-be82-b59355906c06', 'answer_extraction': 'Therefore, among A through D, the answer is', 'answer_extraction_template': '', 'answer_extraction_text': '', 'answer': 'B) False.', 'correct_answer': None}], 'author': '', 'date': '2023/03/31 15:51:51', 'api_service': 'chat_openai', 'model': \"{'name': 'gpt-3.5-turbo', 'temperature': 0, 'max_tokens': 800}\", 'comment': 'self_reflection cot', 'annotations': []}, {'id': 'cf8cb1fd-effb-46fb-9049-39d4e912a047', 'fragments_version': '0.01', 'instruction': 'Be faithful and a little hopeful', 'cot_trigger': \"Answer: Let's think step by step.\", 'cot_trigger_template': '', 'prompt_text': '', 'cot': '\\nNo. They would need to have at least 1 billion USD.\\nNot quite. They would need to have at least 1 billion USD.', 'answers': [{'id': 'b1687fa1-7b25-433a-957b-5d4fc5cce205', 'answer_extraction': 'Therefore, among A through D, the answer is', 'answer_extraction_template': '', 'answer_extraction_text': '', 'answer': 'B) False.', 'correct_answer': None}], 'author': '', 'date': '2023/03/31 16:00:53', 'api_service': 'chat_openai', 'model': \"{'name': 'gpt-3.5-turbo', 'temperature': 0, 'max_tokens': 800}\", 'comment': 'self_reflection cot', 'annotations': []}, {'id': 'ae94b27c-52f8-4c72-908d-8706788b3b79', 'fragments_version': '0.01', 'instruction': 'Be faithful and a little hopeful', 'cot_trigger': \"Answer: Let's think step by step.\", 'cot_trigger_template': '', 'prompt_text': '', 'cot': 'First, we need to convert 900,000 pounds to US dollars. As of June 2020, the exchange rate was approximately 1.23 US dollars to 1 British pound. Therefore, 900,000 pounds would be equivalent to approximately $1,107,000 US dollars.\\n\\nNext, we need to determine if a net worth of $1,107,000 would make someone a billionaire in the United States. According to Forbes, as of 2020, a person needs a net worth of at least $2.1 billion to be considered a billionaire in the United States.\\n\\nTherefore, the answer is B) False. A person with a net worth of $1,107,000 would not be considered a billionaire in the United States, even if they exchanged currency from pounds to dollars.', 'answers': [], 'author': '', 'date': '2023/03/31 16:02:32', 'api_service': 'chat_openai', 'model': \"{'name': 'gpt-3.5-turbo', 'temperature': 0, 'max_tokens': 800}\", 'comment': '', 'annotations': []}], 'feedback': None}\n",
      "this is happening\n",
      "Generating worldtree...\n",
      "processed_example:\n",
      "{'id': '906', 'ref_id': '', 'question': 'Gravity on Earth is caused by', 'type': 'multiplechoice', 'choices': ['the mass of Earth.', 'the rotation of Earth.', 'the revolution of Earth.', 'weather patterns on Earth.'], 'context': '', 'cot': ['The mass of a planet causes the pull of gravity on that planet.', 'Earth is a kind of planet.'], 'answer': ['the mass of Earth.'], 'generated_cot': [{'id': '301fe39a-cc43-4771-9694-eda6bddfc1c2', 'fragments_version': '0.01', 'instruction': None, 'cot_trigger': 'kojima-01', 'cot_trigger_template': '{instruction}\\n\\n{question}\\n{answer_choices}\\n\\n{cot_trigger}', 'prompt_text': '', 'cot': \"\\n1. The mass of Earth causes a gravitational attraction between Earth and you.\\n2. The rotation of Earth causes centrifugal force, which is a pseudo-force that appears to be a reaction force in a rotating reference frame.\\n3. The revolution of Earth around the Sun causes Earth to be pulled by the Sun's gravity.\\n4. Weather patterns on Earth do not cause gravity.\\nThe correct answer is A) the mass of Earth.\", 'answers': [{'id': '9c164896-01c5-4ca6-bc3a-3aac08811931', 'answer_extraction': 'kojima-A-D', 'answer_extraction_template': '{instruction}\\n\\n{question}\\n{answer_choices}\\n\\n{cot_trigger}{cot}\\n{answer_extraction}', 'answer_extraction_text': '', 'answer': ' A.', 'correct_answer': True}], 'author': 'thoughtsource', 'date': '2023/02/16 11:58:13', 'api_service': 'cohere', 'model': \"{'name': 'command-xlarge-nightly', 'temperature': 0, 'max_tokens': 512}\", 'comment': '', 'annotations': []}, {'id': 'd732b7a8-5c18-4e8f-b130-538190633350', 'fragments_version': '0.01', 'instruction': 'Be faithful and a little hopeful', 'cot_trigger': \"Answer: Let's think step by step.\", 'cot_trigger_template': '', 'prompt_text': '', 'cot': 'A) Is the mass of Earth a factor in causing gravity on Earth? Yes, it is. The more massive an object, the stronger its gravitational pull. So, option A is a possible answer.\\n\\nB) Is the rotation of Earth a factor in causing gravity on Earth? No, it is not. The rotation of Earth affects other phenomena, such as day and night, but not gravity. So, option B is not a correct answer.\\n\\nC) Is the revolution of Earth a factor in causing gravity on Earth? No, it is not. The revolution of Earth around the Sun affects the seasons, but not gravity. So, option C is not a correct answer.\\n\\nD) Are weather patterns on Earth a factor in causing gravity on Earth? No, they are not. Weather patterns are caused by atmospheric conditions, but they do not affect gravity. So, option D is not a correct answer.\\n\\nTherefore, the correct answer is A) the mass of Earth.', 'answers': [], 'author': '', 'date': '2023/03/31 15:45:30', 'api_service': 'chat_openai', 'model': \"{'name': 'gpt-3.5-turbo', 'temperature': 0, 'max_tokens': 800}\", 'comment': '', 'annotations': []}, {'id': 'abebd597-cd7f-40d5-9275-582603537a5c', 'fragments_version': '0.01', 'instruction': 'Be faithful and a little hopeful', 'cot_trigger': \"Answer: Let's think step by step.\", 'cot_trigger_template': '', 'prompt_text': '', 'cot': \"\\n1. The mass of Earth causes a gravitational attraction between Earth and you.\\n2. The rotation of Earth causes centrifugal force, which is a pseudo-force that appears to be a reaction force in a rotating reference frame.\\n3. The revolution of Earth around the Sun causes Earth to be pulled by the Sun's gravity.\\n4. Weather patterns on Earth do not cause gravity.\\nThe correct answer is A) the mass of Earth.\", 'answers': [{'id': '1824a258-ba20-4eb0-beca-1779a8d19f7f', 'answer_extraction': 'Therefore, among A through D, the answer is', 'answer_extraction_template': '', 'answer_extraction_text': '', 'answer': 'A) the mass of Earth.', 'correct_answer': None}], 'author': '', 'date': '2023/03/31 15:51:51', 'api_service': 'chat_openai', 'model': \"{'name': 'gpt-3.5-turbo', 'temperature': 0, 'max_tokens': 800}\", 'comment': 'self_reflection cot', 'annotations': []}, {'id': '14e73748-5fc0-4773-b7b6-8f643916120f', 'fragments_version': '0.01', 'instruction': 'Be faithful and a little hopeful', 'cot_trigger': \"Answer: Let's think step by step.\", 'cot_trigger_template': '', 'prompt_text': '', 'cot': \"\\n1. The mass of Earth causes a gravitational attraction between Earth and you.\\n2. The rotation of Earth causes centrifugal force, which is a pseudo-force that appears to be a reaction force in a rotating reference frame.\\n3. The revolution of Earth around the Sun causes Earth to be pulled by the Sun's gravity.\\n4. Weather patterns on Earth do not cause gravity.\\nThe correct answer is A) the mass of Earth.\", 'answers': [{'id': '3cf77bcb-d20a-4b47-b2f1-3c281a0b421a', 'answer_extraction': 'Therefore, among A through D, the answer is', 'answer_extraction_template': '', 'answer_extraction_text': '', 'answer': 'A) the mass of Earth.', 'correct_answer': None}], 'author': '', 'date': '2023/03/31 16:00:53', 'api_service': 'chat_openai', 'model': \"{'name': 'gpt-3.5-turbo', 'temperature': 0, 'max_tokens': 800}\", 'comment': 'self_reflection cot', 'annotations': []}, {'id': 'b69b4172-8177-4f0b-8e1e-124e1f553867', 'fragments_version': '0.01', 'instruction': 'Be faithful and a little hopeful', 'cot_trigger': \"Answer: Let's think step by step.\", 'cot_trigger_template': '', 'prompt_text': '', 'cot': 'A) Is the mass of Earth a factor in causing gravity on Earth? Yes, it is. The more massive an object, the stronger its gravitational pull. So, option A is a possible answer.\\n\\nB) Is the rotation of Earth a factor in causing gravity on Earth? No, it is not. The rotation of Earth affects other phenomena, such as day and night, but not gravity. So, option B is not a correct answer.\\n\\nC) Is the revolution of Earth a factor in causing gravity on Earth? No, it is not. The revolution of Earth around the Sun affects the seasons, but not gravity. So, option C is not a correct answer.\\n\\nD) Are weather patterns on Earth a factor in causing gravity on Earth? No, they are not. Weather patterns are caused by atmospheric conditions, but they do not affect gravity. So, option D is not a correct answer.\\n\\nTherefore, the correct answer is A) the mass of Earth.', 'answers': [], 'author': '', 'date': '2023/03/31 16:02:40', 'api_service': 'chat_openai', 'model': \"{'name': 'gpt-3.5-turbo', 'temperature': 0, 'max_tokens': 800}\", 'comment': '', 'annotations': []}], 'feedback': []}\n"
     ]
    }
   ],
   "source": [
    "\"\"\"Generate only\"\"\"\n",
    "input_dict = {\n",
    "    \"instruction\": \"Be faithful and a little hopeful\",\n",
    "    \"cot_trigger\": \"Answer: Let's think step by step.\",\n",
    "    'api_service': \"chat_openai\",\n",
    "    'model': \"gpt-3.5-turbo\",\n",
    "    \"answer_extraction\": \"Therefore, among A through D, the answer is\" \n",
    "}\n",
    "\n",
    "coll.generate_flexible(chain=cot_chain,input_dict=input_dict)"
   ]
  },
  {
   "cell_type": "code",
   "execution_count": null,
   "metadata": {},
   "outputs": [],
   "source": [
    "coll['worldtree']['test'][0]['generated_cot']"
   ]
  },
  {
   "attachments": {},
   "cell_type": "markdown",
   "metadata": {},
   "source": [
    "## Reflection"
   ]
  },
  {
   "cell_type": "code",
   "execution_count": 32,
   "metadata": {},
   "outputs": [],
   "source": [
    "llm = ChatOpenAI(temperature=.0,model_name=\"gpt-3.5-turbo\")\n",
    "\n",
    "reflect_template = \"\"\"\n",
    "    Question: {question}\n",
    "    Answer_choices: {answer_choices}\n",
    "\n",
    "    Cot: {cot_trigger}{cot}\n",
    "    {answer_extraction}\n",
    "    Answer: {answer}\n",
    "    \n",
    "    {reflection_prompt}\n",
    "    \"\"\"\n",
    "prompt_template = PromptTemplate(input_variables=[\"question\",\"answer_choices\",\"cot_trigger\",\"cot\",\"answer_extraction\",'answer','reflection_prompt'], template=reflect_template)\n",
    "reflect_chain = LLMChain(llm=llm, prompt=prompt_template,output_key=\"reflection\")\n",
    "\n",
    "extraction_template = \"\"\"{instruction}\n",
    "\n",
    "    Question: {question}\n",
    "    Answer_choices: {answer_choices}\n",
    "\n",
    "    Cot: {cot_trigger}{cot}\n",
    "    {answer_extraction}{answer}\n",
    "    {reflection_prompt}{reflection}\n",
    "\n",
    "    {reflect_answer_extraction}\n",
    "    \"\"\"\n",
    "    #Get reflection\n",
    "prompt_template = PromptTemplate(input_variables=[\"instruction\",\"question\",\"answer_choices\",\"cot_trigger\",\"cot\",\"answer_extraction\",'answer','reflection_prompt','reflection','reflect_answer_extraction'], template=extraction_template)\n",
    "reflect_answer_chain = LLMChain(llm=llm, prompt=prompt_template,output_key=\"reflection_answer\")\n",
    "\n",
    "    # This is the overall chain where we run these two chains in sequence.\n",
    "from langchain.chains import SequentialChain\n",
    "reflect_overall_chain = SequentialChain(chains=[reflect_chain, reflect_answer_chain],input_variables=[\"instruction\",\"question\",\"answer_choices\",\"cot_trigger\",\"answer_extraction\",'cot','answer','reflection_prompt','reflect_answer_extraction'],\n",
    "        output_variables=[\"reflection\", \"reflection_answer\"],\n",
    "        verbose=True)\n",
    "\n",
    "\n"
   ]
  },
  {
   "cell_type": "code",
   "execution_count": 33,
   "metadata": {},
   "outputs": [
    {
     "name": "stdout",
     "output_type": "stream",
     "text": [
      "Generating strategy_qa...\n",
      "\n",
      "\n",
      "\u001b[1m> Entering new SequentialChain chain...\u001b[0m\n",
      "\n",
      "\u001b[1m> Finished chain.\u001b[0m\n",
      "Generating worldtree...\n",
      "\n",
      "\n",
      "\u001b[1m> Entering new SequentialChain chain...\u001b[0m\n",
      "\n",
      "\u001b[1m> Finished chain.\u001b[0m\n"
     ]
    }
   ],
   "source": [
    "#check for what is already in item\n",
    "input_dict = {\n",
    "    'cot_trigger':\"\", \n",
    "    'answer':\"\", \n",
    "    'answer_extraction': \"\", \n",
    "    'cot': \"\", \n",
    "    'instruction': \"\",\n",
    "    'api_service': \"chat_openai\", \n",
    "    'model': \"gpt-3.5-turbo\",\n",
    "    'reflection_prompt':\"Double check this\",\n",
    "    'reflect_answer_extraction':'Based on the reflection, what is the definite answer?'\n",
    "}\n",
    "coll.metareason_flexible(chain=reflect_overall_chain,input_dict=input_dict)"
   ]
  },
  {
   "cell_type": "code",
   "execution_count": 34,
   "metadata": {},
   "outputs": [
    {
     "data": {
      "text/plain": [
       "[{'id': '301fe39a-cc43-4771-9694-eda6bddfc1c2',\n",
       "  'fragments_version': '0.01',\n",
       "  'instruction': None,\n",
       "  'cot_trigger': 'kojima-01',\n",
       "  'cot_trigger_template': '{instruction}\\n\\n{question}\\n{answer_choices}\\n\\n{cot_trigger}',\n",
       "  'prompt_text': '',\n",
       "  'cot': \"\\n1. The mass of Earth causes a gravitational attraction between Earth and you.\\n2. The rotation of Earth causes centrifugal force, which is a pseudo-force that appears to be a reaction force in a rotating reference frame.\\n3. The revolution of Earth around the Sun causes Earth to be pulled by the Sun's gravity.\\n4. Weather patterns on Earth do not cause gravity.\\nThe correct answer is A) the mass of Earth.\",\n",
       "  'answers': [{'id': '9c164896-01c5-4ca6-bc3a-3aac08811931',\n",
       "    'answer_extraction': 'kojima-A-D',\n",
       "    'answer_extraction_template': '{instruction}\\n\\n{question}\\n{answer_choices}\\n\\n{cot_trigger}{cot}\\n{answer_extraction}',\n",
       "    'answer_extraction_text': '',\n",
       "    'answer': ' A.',\n",
       "    'correct_answer': True}],\n",
       "  'author': 'thoughtsource',\n",
       "  'date': '2023/02/16 11:58:13',\n",
       "  'api_service': 'cohere',\n",
       "  'model': \"{'name': 'command-xlarge-nightly', 'temperature': 0, 'max_tokens': 512}\",\n",
       "  'comment': '',\n",
       "  'annotations': []},\n",
       " {'id': '598cbc26-6e49-4b84-a63d-a15aaecd48ff',\n",
       "  'fragments_version': '0.01',\n",
       "  'instruction': '',\n",
       "  'cot_trigger': 'Double check this',\n",
       "  'cot_trigger_template': '',\n",
       "  'prompt_text': '',\n",
       "  'cot': 'Confirmed, the correct answer is A) the mass of Earth.',\n",
       "  'answers': [{'id': '71f208ef-62e8-4488-bc35-bc4eae84c3fc',\n",
       "    'answer_extraction': 'Based on the reflection, what is the definite answer?',\n",
       "    'answer_extraction_template': '',\n",
       "    'answer_extraction_text': 'self_reflection',\n",
       "    'answer': 'The definite answer is A) the mass of Earth.',\n",
       "    'correct_answer': None}],\n",
       "  'author': '',\n",
       "  'date': '2023/03/31 16:05:12',\n",
       "  'api_service': 'chat_openai',\n",
       "  'model': \"{'name': 'gpt-3.5-turbo', 'temperature': 0, 'max_tokens': 800}\",\n",
       "  'comment': 'self_reflection cot',\n",
       "  'annotations': []}]"
      ]
     },
     "execution_count": 34,
     "metadata": {},
     "output_type": "execute_result"
    }
   ],
   "source": [
    "coll['worldtree']['test'][0]['generated_cot']"
   ]
  },
  {
   "attachments": {},
   "cell_type": "markdown",
   "metadata": {},
   "source": [
    "## Experiments"
   ]
  },
  {
   "cell_type": "code",
   "execution_count": 7,
   "metadata": {},
   "outputs": [
    {
     "name": "stderr",
     "output_type": "stream",
     "text": [
      "[nltk_data] Downloading package punkt to\n",
      "[nltk_data]     /Users/robertpraas/nltk_data...\n",
      "[nltk_data]   Package punkt is already up-to-date!\n"
     ]
    },
    {
     "data": {
      "application/vnd.jupyter.widget-view+json": {
       "model_id": "596f335bc7d949fa8676578db54fc2f2",
       "version_major": 2,
       "version_minor": 0
      },
      "text/plain": [
       "  0%|          | 0/100 [00:00<?, ?ex/s]"
      ]
     },
     "metadata": {},
     "output_type": "display_data"
    },
    {
     "data": {
      "application/vnd.jupyter.widget-view+json": {
       "model_id": "9dba05b2b8444a87898d624756961926",
       "version_major": 2,
       "version_minor": 0
      },
      "text/plain": [
       "  0%|          | 0/100 [00:00<?, ?ex/s]"
      ]
     },
     "metadata": {},
     "output_type": "display_data"
    },
    {
     "data": {
      "application/vnd.jupyter.widget-view+json": {
       "model_id": "c4cbe9a0e23748f6a85ff07924a1b824",
       "version_major": 2,
       "version_minor": 0
      },
      "text/plain": [
       "  0%|          | 0/100 [00:00<?, ?ex/s]"
      ]
     },
     "metadata": {},
     "output_type": "display_data"
    },
    {
     "data": {
      "application/vnd.jupyter.widget-view+json": {
       "model_id": "72f11c3da40d49b9ba696a4cac958c71",
       "version_major": 2,
       "version_minor": 0
      },
      "text/plain": [
       "  0%|          | 0/100 [00:00<?, ?ex/s]"
      ]
     },
     "metadata": {},
     "output_type": "display_data"
    },
    {
     "data": {
      "application/vnd.jupyter.widget-view+json": {
       "model_id": "e79e70986cd541c8860a3c6b06d4bf39",
       "version_major": 2,
       "version_minor": 0
      },
      "text/plain": [
       "  0%|          | 0/100 [00:00<?, ?ex/s]"
      ]
     },
     "metadata": {},
     "output_type": "display_data"
    },
    {
     "data": {
      "application/vnd.jupyter.widget-view+json": {
       "model_id": "8f4be95380ce42f7b2dab2e280bf01dd",
       "version_major": 2,
       "version_minor": 0
      },
      "text/plain": [
       "  0%|          | 0/100 [00:00<?, ?ex/s]"
      ]
     },
     "metadata": {},
     "output_type": "display_data"
    }
   ],
   "source": [
    "from cot import Collection\n",
    "col = Collection.load_thoughtsource_100(load_pregenerated_cots=True)\n",
    "col.select_generated_cots(author='thoughtsource', cot_trigger='kojima-01')\n",
    "dataset = col['worldtree']\n"
   ]
  },
  {
   "cell_type": "code",
   "execution_count": 8,
   "metadata": {},
   "outputs": [
    {
     "name": "stdout",
     "output_type": "stream",
     "text": [
      "Loading worldtree...\n"
     ]
    }
   ],
   "source": [
    "worldtree = Collection([\"worldtree\"], verbose=False)\n",
    "worldtree_1 = worldtree.select(split=\"train\", number_samples=1, random_samples=True, seed=0)"
   ]
  },
  {
   "cell_type": "code",
   "execution_count": 55,
   "metadata": {},
   "outputs": [
    {
     "data": {
      "text/plain": [
       "{'id': '1577',\n",
       " 'ref_id': '',\n",
       " 'question': 'A parent and a child share several characteristics. Both individuals are tall, have curly hair, are good cooks, and have freckles. Which of these characteristics is a learned behavior?',\n",
       " 'type': 'multiplechoice',\n",
       " 'choices': ['being tall',\n",
       "  'having curly hair',\n",
       "  'being a good cook',\n",
       "  'having freckles'],\n",
       " 'context': '',\n",
       " 'cot': ['Skills are learned characteristics.',\n",
       "  'A behavior is a kind of characteristic.',\n",
       "  'Cooking is a kind of skill for preparing food.'],\n",
       " 'answer': ['being a good cook'],\n",
       " 'generated_cot': [],\n",
       " 'feedback': []}"
      ]
     },
     "execution_count": 55,
     "metadata": {},
     "output_type": "execute_result"
    }
   ],
   "source": [
    "worldtree_1['worldtree']['train'][0]"
   ]
  },
  {
   "attachments": {},
   "cell_type": "markdown",
   "metadata": {},
   "source": [
    "Reflect"
   ]
  },
  {
   "attachments": {},
   "cell_type": "markdown",
   "metadata": {},
   "source": [
    "Generate and extract"
   ]
  },
  {
   "cell_type": "code",
   "execution_count": 9,
   "metadata": {},
   "outputs": [],
   "source": [
    "input_dict = {\n",
    "    \"instruction\": \"Be faithful and a little hopeful\",\n",
    "    \"cot_trigger\": \"Answer: Let's think step by step.\",\n",
    "    \"answer_extraction\": \"Therefore, among A through D, the answer is\" \n",
    "}"
   ]
  },
  {
   "cell_type": "code",
   "execution_count": 10,
   "metadata": {},
   "outputs": [
    {
     "name": "stdout",
     "output_type": "stream",
     "text": [
      "Generating worldtree...\n",
      "\n",
      "\n",
      "\u001b[1m> Entering new SequentialChain chain...\u001b[0m\n",
      "\n",
      "\u001b[1m> Finished chain.\u001b[0m\n",
      "processed_example:\n",
      "{'id': '1577', 'ref_id': '', 'question': 'A parent and a child share several characteristics. Both individuals are tall, have curly hair, are good cooks, and have freckles. Which of these characteristics is a learned behavior?', 'type': 'multiplechoice', 'choices': ['being tall', 'having curly hair', 'being a good cook', 'having freckles'], 'context': '', 'cot': ['Skills are learned characteristics.', 'A behavior is a kind of characteristic.', 'Cooking is a kind of skill for preparing food.'], 'answer': ['being a good cook'], 'generated_cot': [{'id': '2db4a9e4-301c-4197-8796-b40931fd7d6f', 'fragments_version': '0.01', 'instruction': 'Be faithful and a little hopeful', 'cot_trigger': \"Answer: Let's think step by step.\", 'cot_trigger_template': '', 'prompt_text': '', 'cot': '\\n1. A) is a learned behavior.\\n\\n2. B) is a learned behavior.\\n\\n3. C) is a learned behavior.\\n\\n4. D) is a learned behavior.\\n\\n5. E) is a learned behavior.\\n\\n6. F) is a learned behavior.\\n\\n7. G) is a learned behavior.\\n\\n8. H) is a learned behavior.\\n\\n9. I) is a learned behavior.\\n\\n10. J) is a learned behavior.\\n\\n11. K) is a learned behavior.\\n\\n12. L) is a learned behavior.\\n\\n13. M) is a learned behavior.\\n\\n14. N) is a learned behavior.\\n\\n15. O) is a learned behavior.\\n\\n16. P) is a learned behavior.\\n\\n17. Q) is a learned behavior.\\n\\n18. R) is a learned behavior.\\n\\n19. S) is a learned behavior.\\n\\n20. T) is a learned behavior.\\n\\n21. U) is a learned behavior.\\n\\n22. V) is a learned behavior.\\n\\n23. W) is a learned behavior.\\n\\n24.', 'answers': [{'id': '926544be-60ef-435f-9692-994aa8f738b3', 'answer_extraction': 'Therefore, among A through D, the answer is', 'answer_extraction_template': '', 'answer_extraction_text': '', 'answer': '\\nA) is a learned behavior.\\n\\nB) is a learned behavior.\\n\\nC) is a learned behavior.\\n\\nD) is a learned behavior.\\n\\nE) is a learned behavior.\\n\\nF) is a learned behavior.\\n\\nG) is a learned behavior.\\n\\nH) is a learned behavior.\\n\\nI) is a learned behavior.\\n\\nJ) is a learned behavior.\\n\\nK) is a learned behavior.\\n\\nL) is a learned behavior.\\n\\nM) is a learned behavior.\\n\\nN) is a learned behavior.\\n\\nO) is a learned behavior.\\n\\nP) is a learned behavior.\\n\\nQ) is a learned behavior.\\n\\nR) is a learned behavior.\\n\\nS) is a learned behavior.\\n\\nT) is a learned behavior.\\n\\nU) is a learned behavior.\\n\\nV) is a learned behavior.\\n\\nW) is a learned behavior.\\n\\nTherefore, among A through F, the answer is\\n\\nA) is a learned behavior.\\n\\nB) is a learned behavior.\\n\\nC) is a learned behavior.\\n\\nD) is a learned behavior.\\n\\n', 'correct_answer': None}], 'author': '', 'date': '2023/03/14 07:38:05', 'api_service': '', 'model': \"{'name': '', 'temperature': 0, 'max_tokens': 800}\", 'comment': '', 'annotations': []}], 'feedback': []}\n"
     ]
    }
   ],
   "source": [
    "generate_test = worldtree_1.generate_extract_flexibly(chain=overall_chain,input_dict=input_dict)"
   ]
  },
  {
   "cell_type": "code",
   "execution_count": 14,
   "metadata": {},
   "outputs": [
    {
     "data": {
      "text/plain": [
       "[[{'id': '2db4a9e4-301c-4197-8796-b40931fd7d6f',\n",
       "   'fragments_version': '0.01',\n",
       "   'instruction': 'Be faithful and a little hopeful',\n",
       "   'cot_trigger': \"Answer: Let's think step by step.\",\n",
       "   'cot_trigger_template': '',\n",
       "   'prompt_text': '',\n",
       "   'cot': '\\n1. A) is a learned behavior.\\n\\n2. B) is a learned behavior.\\n\\n3. C) is a learned behavior.\\n\\n4. D) is a learned behavior.\\n\\n5. E) is a learned behavior.\\n\\n6. F) is a learned behavior.\\n\\n7. G) is a learned behavior.\\n\\n8. H) is a learned behavior.\\n\\n9. I) is a learned behavior.\\n\\n10. J) is a learned behavior.\\n\\n11. K) is a learned behavior.\\n\\n12. L) is a learned behavior.\\n\\n13. M) is a learned behavior.\\n\\n14. N) is a learned behavior.\\n\\n15. O) is a learned behavior.\\n\\n16. P) is a learned behavior.\\n\\n17. Q) is a learned behavior.\\n\\n18. R) is a learned behavior.\\n\\n19. S) is a learned behavior.\\n\\n20. T) is a learned behavior.\\n\\n21. U) is a learned behavior.\\n\\n22. V) is a learned behavior.\\n\\n23. W) is a learned behavior.\\n\\n24.',\n",
       "   'answers': [{'id': '926544be-60ef-435f-9692-994aa8f738b3',\n",
       "     'answer_extraction': 'Therefore, among A through D, the answer is',\n",
       "     'answer_extraction_template': '',\n",
       "     'answer_extraction_text': '',\n",
       "     'answer': '\\nA) is a learned behavior.\\n\\nB) is a learned behavior.\\n\\nC) is a learned behavior.\\n\\nD) is a learned behavior.\\n\\nE) is a learned behavior.\\n\\nF) is a learned behavior.\\n\\nG) is a learned behavior.\\n\\nH) is a learned behavior.\\n\\nI) is a learned behavior.\\n\\nJ) is a learned behavior.\\n\\nK) is a learned behavior.\\n\\nL) is a learned behavior.\\n\\nM) is a learned behavior.\\n\\nN) is a learned behavior.\\n\\nO) is a learned behavior.\\n\\nP) is a learned behavior.\\n\\nQ) is a learned behavior.\\n\\nR) is a learned behavior.\\n\\nS) is a learned behavior.\\n\\nT) is a learned behavior.\\n\\nU) is a learned behavior.\\n\\nV) is a learned behavior.\\n\\nW) is a learned behavior.\\n\\nTherefore, among A through F, the answer is\\n\\nA) is a learned behavior.\\n\\nB) is a learned behavior.\\n\\nC) is a learned behavior.\\n\\nD) is a learned behavior.\\n\\n',\n",
       "     'correct_answer': None}],\n",
       "   'author': '',\n",
       "   'date': '2023/03/14 07:38:05',\n",
       "   'api_service': '',\n",
       "   'model': \"{'name': '', 'temperature': 0, 'max_tokens': 800}\",\n",
       "   'comment': '',\n",
       "   'annotations': []}]]"
      ]
     },
     "execution_count": 14,
     "metadata": {},
     "output_type": "execute_result"
    }
   ],
   "source": [
    "#Force langchain into TS structure \n",
    "worldtree_new = {'worldtree':{'train':generate_test}}\n",
    "\n",
    "#create and collect a json to make collection\n",
    "with open(\"sample.json\", \"w\") as outfile:\n",
    "    json.dump(worldtree_new, outfile)\n",
    "collect = Collection.from_json('sample.json')\n",
    "\n",
    "collect['worldtree']['train']['generated_cot']"
   ]
  },
  {
   "attachments": {},
   "cell_type": "markdown",
   "metadata": {},
   "source": [
    "Generate"
   ]
  },
  {
   "cell_type": "code",
   "execution_count": 17,
   "metadata": {},
   "outputs": [
    {
     "name": "stdout",
     "output_type": "stream",
     "text": [
      "Generating worldtree...\n",
      "processed_example:\n",
      "{'id': '1577', 'ref_id': '', 'question': 'A parent and a child share several characteristics. Both individuals are tall, have curly hair, are good cooks, and have freckles. Which of these characteristics is a learned behavior?', 'type': 'multiplechoice', 'choices': ['being tall', 'having curly hair', 'being a good cook', 'having freckles'], 'context': '', 'cot': ['Skills are learned characteristics.', 'A behavior is a kind of characteristic.', 'Cooking is a kind of skill for preparing food.'], 'answer': ['being a good cook'], 'generated_cot': [{'id': '7d977578-5359-49d9-bd26-c373911bf3c9', 'fragments_version': '0.01', 'instruction': 'Be faithful and a little hopeful', 'cot_trigger': \"Answer: Let's think step by step.\", 'cot_trigger_template': '', 'prompt_text': '', 'cot': '\\n1. A) is a learned behavior.\\n\\n2. B) is a learned behavior.\\n\\n3. C) is a learned behavior.\\n\\n4. D) is a learned behavior.\\n\\n5. E) is a learned behavior.\\n\\n6. F) is a learned behavior.\\n\\n7. G) is a learned behavior.\\n\\n8. H) is a learned behavior.\\n\\n9. I) is a learned behavior.\\n\\n10. J) is a learned behavior.\\n\\n11. K) is a learned behavior.\\n\\n12. L) is a learned behavior.\\n\\n13. M) is a learned behavior.\\n\\n14. N) is a learned behavior.\\n\\n15. O) is a learned behavior.\\n\\n16. P) is a learned behavior.\\n\\n17. Q) is a learned behavior.\\n\\n18. R) is a learned behavior.\\n\\n19. S) is a learned behavior.\\n\\n20. T) is a learned behavior.\\n\\n21. U) is a learned behavior.\\n\\n22. V) is a learned behavior.\\n\\n23. W) is a learned behavior.\\n\\n24.', 'answers': [], 'author': '', 'date': '2023/03/14 08:00:42', 'api_service': '', 'model': \"{'name': '', 'temperature': 0, 'max_tokens': 800}\", 'comment': '', 'annotations': []}], 'feedback': []}\n"
     ]
    },
    {
     "data": {
      "text/plain": [
       "[{'id': '1577',\n",
       "  'ref_id': '',\n",
       "  'question': 'A parent and a child share several characteristics. Both individuals are tall, have curly hair, are good cooks, and have freckles. Which of these characteristics is a learned behavior?',\n",
       "  'type': 'multiplechoice',\n",
       "  'choices': ['being tall',\n",
       "   'having curly hair',\n",
       "   'being a good cook',\n",
       "   'having freckles'],\n",
       "  'context': '',\n",
       "  'cot': ['Skills are learned characteristics.',\n",
       "   'A behavior is a kind of characteristic.',\n",
       "   'Cooking is a kind of skill for preparing food.'],\n",
       "  'answer': ['being a good cook'],\n",
       "  'generated_cot': [{'id': '7d977578-5359-49d9-bd26-c373911bf3c9',\n",
       "    'fragments_version': '0.01',\n",
       "    'instruction': 'Be faithful and a little hopeful',\n",
       "    'cot_trigger': \"Answer: Let's think step by step.\",\n",
       "    'cot_trigger_template': '',\n",
       "    'prompt_text': '',\n",
       "    'cot': '\\n1. A) is a learned behavior.\\n\\n2. B) is a learned behavior.\\n\\n3. C) is a learned behavior.\\n\\n4. D) is a learned behavior.\\n\\n5. E) is a learned behavior.\\n\\n6. F) is a learned behavior.\\n\\n7. G) is a learned behavior.\\n\\n8. H) is a learned behavior.\\n\\n9. I) is a learned behavior.\\n\\n10. J) is a learned behavior.\\n\\n11. K) is a learned behavior.\\n\\n12. L) is a learned behavior.\\n\\n13. M) is a learned behavior.\\n\\n14. N) is a learned behavior.\\n\\n15. O) is a learned behavior.\\n\\n16. P) is a learned behavior.\\n\\n17. Q) is a learned behavior.\\n\\n18. R) is a learned behavior.\\n\\n19. S) is a learned behavior.\\n\\n20. T) is a learned behavior.\\n\\n21. U) is a learned behavior.\\n\\n22. V) is a learned behavior.\\n\\n23. W) is a learned behavior.\\n\\n24.',\n",
       "    'answers': [],\n",
       "    'author': '',\n",
       "    'date': '2023/03/14 08:00:42',\n",
       "    'api_service': '',\n",
       "    'model': \"{'name': '', 'temperature': 0, 'max_tokens': 800}\",\n",
       "    'comment': '',\n",
       "    'annotations': []}],\n",
       "  'feedback': []}]"
      ]
     },
     "execution_count": 17,
     "metadata": {},
     "output_type": "execute_result"
    }
   ],
   "source": [
    "generate_only = worldtree_1.generate_flexible(chain=cot_chain,input_dict=input_dict)\n",
    "generate_only"
   ]
  },
  {
   "attachments": {},
   "cell_type": "markdown",
   "metadata": {},
   "source": [
    "Extract"
   ]
  },
  {
   "cell_type": "code",
   "execution_count": 18,
   "metadata": {},
   "outputs": [],
   "source": [
    "#Force langchain into TS structure -- from geneate\n",
    "worldtree_new = {'worldtree':{'train':generate_only}}\n",
    "\n",
    "#create and collect a json to make collection\n",
    "with open(\"sample.json\", \"w\") as outfile:\n",
    "    json.dump(worldtree_new, outfile)\n",
    "collect = Collection.from_json('sample.json')"
   ]
  },
  {
   "cell_type": "code",
   "execution_count": 23,
   "metadata": {},
   "outputs": [
    {
     "name": "stdout",
     "output_type": "stream",
     "text": [
      "Generating worldtree...\n",
      "processed_example:\n",
      "{'id': '1577', 'ref_id': '', 'question': 'A parent and a child share several characteristics. Both individuals are tall, have curly hair, are good cooks, and have freckles. Which of these characteristics is a learned behavior?', 'type': 'multiplechoice', 'choices': ['being tall', 'having curly hair', 'being a good cook', 'having freckles'], 'context': '', 'cot': ['Skills are learned characteristics.', 'A behavior is a kind of characteristic.', 'Cooking is a kind of skill for preparing food.'], 'answer': ['being a good cook'], 'generated_cot': [{'id': '7d977578-5359-49d9-bd26-c373911bf3c9', 'fragments_version': '0.01', 'instruction': 'Be faithful and a little hopeful', 'cot_trigger': \"Answer: Let's think step by step.\", 'cot_trigger_template': '', 'prompt_text': '', 'cot': '\\n1. A) is a learned behavior.\\n\\n2. B) is a learned behavior.\\n\\n3. C) is a learned behavior.\\n\\n4. D) is a learned behavior.\\n\\n5. E) is a learned behavior.\\n\\n6. F) is a learned behavior.\\n\\n7. G) is a learned behavior.\\n\\n8. H) is a learned behavior.\\n\\n9. I) is a learned behavior.\\n\\n10. J) is a learned behavior.\\n\\n11. K) is a learned behavior.\\n\\n12. L) is a learned behavior.\\n\\n13. M) is a learned behavior.\\n\\n14. N) is a learned behavior.\\n\\n15. O) is a learned behavior.\\n\\n16. P) is a learned behavior.\\n\\n17. Q) is a learned behavior.\\n\\n18. R) is a learned behavior.\\n\\n19. S) is a learned behavior.\\n\\n20. T) is a learned behavior.\\n\\n21. U) is a learned behavior.\\n\\n22. V) is a learned behavior.\\n\\n23. W) is a learned behavior.\\n\\n24.', 'answers': [{'id': 'e1ecd70e-51f4-4ade-a153-7110946750b9', 'answer_extraction': 'Therefore, among A through D, the answer is', 'answer_extraction_template': '', 'answer_extraction_text': '', 'answer': '\\nA) is a learned behavior.\\n\\nB) is a learned behavior.\\n\\nC) is a learned behavior.\\n\\nD) is a learned behavior.\\n\\nE) is a learned behavior.\\n\\nF) is a learned behavior.\\n\\nG) is a learned behavior.\\n\\nH) is a learned behavior.\\n\\nI) is a learned behavior.\\n\\nJ) is a learned behavior.\\n\\nK) is a learned behavior.\\n\\nL) is a learned behavior.\\n\\nM) is a learned behavior.\\n\\nN) is a learned behavior.\\n\\nO) is a learned behavior.\\n\\nP) is a learned behavior.\\n\\nQ) is a learned behavior.\\n\\nR) is a learned behavior.\\n\\nS) is a learned behavior.\\n\\nT) is a learned behavior.\\n\\nU) is a learned behavior.\\n\\nV) is a learned behavior.\\n\\nW) is a learned behavior.\\n\\nTherefore, among A through F, the answer is\\n\\nA) is a learned behavior.\\n\\nB) is a learned behavior.\\n\\nC) is a learned behavior.\\n\\nD) is a learned behavior.\\n\\n', 'correct_answer': None}], 'author': '', 'date': '2023/03/14 08:00:42', 'api_service': '', 'model': \"{'name': '', 'temperature': 0, 'max_tokens': 800}\", 'comment': '', 'annotations': []}, {'id': '654f07a6-6104-495d-b328-e8c067af2322', 'fragments_version': '0.01', 'instruction': 'Be faithful and a little hopeful', 'cot_trigger': \"Answer: Let's think step by step.\", 'cot_trigger_template': '', 'prompt_text': '', 'cot': '\\n1. A) is a learned behavior.\\n\\n2. B) is a learned behavior.\\n\\n3. C) is a learned behavior.\\n\\n4. D) is a learned behavior.\\n\\n5. E) is a learned behavior.\\n\\n6. F) is a learned behavior.\\n\\n7. G) is a learned behavior.\\n\\n8. H) is a learned behavior.\\n\\n9. I) is a learned behavior.\\n\\n10. J) is a learned behavior.\\n\\n11. K) is a learned behavior.\\n\\n12. L) is a learned behavior.\\n\\n13. M) is a learned behavior.\\n\\n14. N) is a learned behavior.\\n\\n15. O) is a learned behavior.\\n\\n16. P) is a learned behavior.\\n\\n17. Q) is a learned behavior.\\n\\n18. R) is a learned behavior.\\n\\n19. S) is a learned behavior.\\n\\n20. T) is a learned behavior.\\n\\n21. U) is a learned behavior.\\n\\n22. V) is a learned behavior.\\n\\n23. W) is a learned behavior.\\n\\n24.', 'answers': [], 'author': '', 'date': '2023/03/14 08:03:54', 'api_service': '', 'model': \"{'name': '', 'temperature': 0, 'max_tokens': 800}\", 'comment': 'self_reflection cot', 'annotations': []}], 'feedback': []}\n"
     ]
    }
   ],
   "source": [
    "extract = collect.extract_flexible(chain=answer_chain,input_dict=input_dict)"
   ]
  },
  {
   "cell_type": "code",
   "execution_count": 33,
   "metadata": {},
   "outputs": [],
   "source": [
    "coll = Collection.load_thoughtsource_100(names='worldtree',load_pregenerated_cots=True)\n",
    "coll = coll.select(split=\"all\", number_samples=1)\n",
    "coll.select_generated_cots(author='thoughtsource',cot_trigger = None)"
   ]
  }
 ],
 "metadata": {
  "kernelspec": {
   "display_name": "base",
   "language": "python",
   "name": "python3"
  },
  "language_info": {
   "codemirror_mode": {
    "name": "ipython",
    "version": 3
   },
   "file_extension": ".py",
   "mimetype": "text/x-python",
   "name": "python",
   "nbconvert_exporter": "python",
   "pygments_lexer": "ipython3",
   "version": "3.9.12"
  },
  "vscode": {
   "interpreter": {
    "hash": "40d3a090f54c6569ab1632332b64b2c03c39dcf918b08424e98f38b5ae0af88f"
   }
  }
 },
 "nbformat": 4,
 "nbformat_minor": 0
}
