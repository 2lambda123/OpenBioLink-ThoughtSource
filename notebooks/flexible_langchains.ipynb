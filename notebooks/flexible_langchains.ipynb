{
 "cells": [
  {
   "attachments": {},
   "cell_type": "markdown",
   "metadata": {},
   "source": [
    "## Generate and extract"
   ]
  },
  {
   "cell_type": "code",
   "execution_count": 9,
   "metadata": {},
   "outputs": [],
   "source": [
    "from langchain.llms import OpenAI \n",
    "from langchain.prompts import PromptTemplate \n",
    "from langchain.chains.llm import LLMChain\n",
    "from cot import Collection\n",
    "import json\n",
    "from langchain.chat_models import ChatOpenAI\n"
   ]
  },
  {
   "cell_type": "code",
   "execution_count": 10,
   "metadata": {},
   "outputs": [],
   "source": [
    "\"\"\"CoT Chain\"\"\"\n",
    "\n",
    "llm = ChatOpenAI(temperature=.0,model_name=\"gpt-3.5-turbo\") #ADA #for chat: gpt-3.5-turbo\n",
    "\n",
    "\n",
    "\n",
    "\n",
    "template = \"\"\"{instruction}\n",
    "\n",
    "Question: {question}\n",
    "Answer_choices: {answer_choices}\n",
    "\n",
    "{cot_trigger}\n",
    "\"\"\"\n",
    "\n",
    "prompt_template = PromptTemplate(input_variables=[\"instruction\",\"question\",\"answer_choices\",\"cot_trigger\"], template=template)\n",
    "cot_chain = LLMChain(llm=llm, prompt=prompt_template,output_key=\"cot\")"
   ]
  },
  {
   "cell_type": "code",
   "execution_count": 11,
   "metadata": {},
   "outputs": [],
   "source": [
    "\"\"\"answer extraction chain\"\"\"\n",
    "\n",
    "extraction_template = \"\"\"{instruction}\n",
    "\n",
    "Question: {question}\n",
    "Answer_choices: {answer_choices}\n",
    "\n",
    "Cot: {cot_trigger}{cot}\n",
    "{answer_extraction}\n",
    "\"\"\"\n",
    "\n",
    "prompt_template = PromptTemplate(input_variables=[\"instruction\",\"question\",\"answer_choices\",\"cot_trigger\",\"cot\",\"answer_extraction\"], template=extraction_template)\n",
    "answer_chain = LLMChain(llm=llm, prompt=prompt_template,output_key=\"predicted_answer\")\n"
   ]
  },
  {
   "cell_type": "code",
   "execution_count": 12,
   "metadata": {},
   "outputs": [],
   "source": [
    "\"\"\"CoT-Ans_extraction chain\"\"\"\n",
    "\n",
    "from langchain.chains import SequentialChain\n",
    "overall_chain = SequentialChain(chains=[cot_chain, answer_chain],\n",
    "                                input_variables=[\"instruction\",\"question\",\"answer_choices\",\"cot_trigger\",\"answer_extraction\"],\n",
    "                                output_variables=[\"cot\", \"predicted_answer\"],\n",
    "                                verbose=True)"
   ]
  },
  {
   "cell_type": "code",
   "execution_count": 13,
   "metadata": {},
   "outputs": [
    {
     "name": "stdout",
     "output_type": "stream",
     "text": [
      "Loading worldtree...\n"
     ]
    }
   ],
   "source": [
    "\"\"\"Generate CoT with use of TS-schema\"\"\"\n",
    "#compare with config used before; what about max tokens?\n",
    "#config contains what the chain needs\n",
    "input_dict = {\n",
    "    \"instruction\": \"Be faithful and a little hopeful\",\n",
    "    \"cot_trigger\": \"Answer: Let's think step by step.\",\n",
    "    \"answer_extraction\": \"Therefore, among A through D, the answer is\" \n",
    "}\n",
    "\n",
    "worldtree = Collection([\"worldtree\"], verbose=False)\n",
    "worldtree_1 = worldtree.select(split=\"train\", number_samples=1, random_samples=True, seed=0)\n",
    "\n"
   ]
  },
  {
   "cell_type": "code",
   "execution_count": 14,
   "metadata": {},
   "outputs": [
    {
     "name": "stdout",
     "output_type": "stream",
     "text": [
      "Generating worldtree...\n",
      "\n",
      "\n",
      "\u001b[1m> Entering new SequentialChain chain...\u001b[0m\n",
      "\n",
      "\u001b[1m> Finished chain.\u001b[0m\n",
      "processed_example:\n",
      "{'id': '1577', 'ref_id': '', 'question': 'A parent and a child share several characteristics. Both individuals are tall, have curly hair, are good cooks, and have freckles. Which of these characteristics is a learned behavior?', 'type': 'multiplechoice', 'choices': ['being tall', 'having curly hair', 'being a good cook', 'having freckles'], 'context': '', 'cot': ['Skills are learned characteristics.', 'A behavior is a kind of characteristic.', 'Cooking is a kind of skill for preparing food.'], 'answer': ['being a good cook'], 'generated_cot': [{'id': '21f570c1-b403-41a6-a792-e2f56bc80007', 'fragments_version': '0.01', 'instruction': 'Be faithful and a little hopeful', 'cot_trigger': \"Answer: Let's think step by step.\", 'cot_trigger_template': '', 'prompt_text': '', 'cot': '\\n\\nA) Being tall: This characteristic is mostly determined by genetics and is not a learned behavior.\\n\\nB) Having curly hair: This characteristic is also determined by genetics and is not a learned behavior.\\n\\nC) Being a good cook: This characteristic can be learned through practice and experience, so it is a learned behavior.\\n\\nD) Having freckles: This characteristic is determined by genetics and is not a learned behavior.\\n\\nTherefore, the correct answer is C) being a good cook.', 'answers': [{'id': 'e9d0b785-54c0-4afb-a22e-0753f33b4df3', 'answer_extraction': 'Therefore, among A through D, the answer is', 'answer_extraction_template': '', 'answer_extraction_text': '', 'answer': 'C) being a good cook.', 'correct_answer': None}], 'author': '', 'date': '2023/03/14 10:51:07', 'api_service': '', 'model': \"{'name': '', 'temperature': 0, 'max_tokens': 800}\", 'comment': '', 'annotations': []}], 'feedback': []}\n"
     ]
    }
   ],
   "source": [
    "test = worldtree_1.generate_extract_flexibly(chain=overall_chain,input_dict=input_dict)\n",
    "#test"
   ]
  },
  {
   "cell_type": "code",
   "execution_count": 15,
   "metadata": {},
   "outputs": [
    {
     "data": {
      "text/plain": [
       "| Name      |   Train | Valid   | Test   |\n",
       "|-----------|---------|---------|--------|\n",
       "| worldtree |       1 | -       | -      |\n",
       "\n",
       "Not loaded: ['aqua', 'asdiv', 'commonsense_qa', 'entailment_bank', 'gsm8k', 'mawps', 'med_qa', 'medmc_qa', 'open_book_qa', 'pubmed_qa', 'qed', 'strategy_qa', 'svamp']"
      ]
     },
     "execution_count": 15,
     "metadata": {},
     "output_type": "execute_result"
    }
   ],
   "source": [
    "#Force langchain into TS structure \n",
    "worldtree_new = {'worldtree':{'train':test}}\n",
    "\n",
    "#create and collect a json to make collection\n",
    "with open(\"sample.json\", \"w\") as outfile:\n",
    "    json.dump(worldtree_new, outfile)\n",
    "collect = Collection.from_json('sample.json')\n",
    "\n",
    "collect"
   ]
  },
  {
   "attachments": {},
   "cell_type": "markdown",
   "metadata": {},
   "source": [
    "## Generate or extract"
   ]
  },
  {
   "cell_type": "code",
   "execution_count": 17,
   "metadata": {},
   "outputs": [],
   "source": [
    "#from langchain.llms.openai import OpenAIChat\n",
    "\n",
    "from langchain.llms import OpenAI \n",
    "from langchain.prompts import PromptTemplate \n",
    "from langchain.chains.llm import LLMChain\n",
    "from cot import Collection\n",
    "import json"
   ]
  },
  {
   "cell_type": "code",
   "execution_count": 23,
   "metadata": {},
   "outputs": [
    {
     "name": "stdout",
     "output_type": "stream",
     "text": [
      "Generating worldtree...\n",
      "processed_example:\n",
      "{'id': '1722', 'ref_id': '', 'question': 'Sharpening a pencil and tearing paper are examples of physical changes. Which statement describes why these are physical changes?', 'type': 'multiplechoice', 'choices': ['There is a change in how the objects are used.', 'There is a change in the appearance of the objects.', 'There is a change in the materials from which the objects are made.', 'There is a change in both the appearance of the objects and the materials from which they are made.'], 'context': '', 'cot': ['Shape is a property of the appearance of an object.', 'If something undergoes physical change then the chemical properties of that something will remain unchanged.', 'Material composition is a kind of chemical property.', 'Changed is the opposite of unchanged.', 'Composed of means made of.', 'If something undergoes a physical change then the physical properties of that something will change.', 'Appearance is a kind of physical property.', 'Sharpening an object causes that object to change shape.', 'A pencil is a kind of object.', \"Tearing an object changes that object 's shape.\", 'A paper is a kind of object.'], 'answer': ['There is a change in the appearance of the objects.'], 'generated_cot': [{'id': '8a1b6bdc-4c0a-4a93-be8e-46ff33b8aa31', 'fragments_version': '0.01', 'instruction': None, 'cot_trigger': 'kojima-01', 'cot_trigger_template': '{instruction}\\n\\n{question}\\n{answer_choices}\\n\\n{cot_trigger}', 'prompt_text': '', 'cot': ' When you sharpen a pencil, the appearance of the pencil changes, but the materials from which it is made remain the same. When you tear paper, the appearance of the paper changes, but the materials from which it is made remain the same. Therefore, the correct answer is B) There is a change in the appearance of the objects.', 'answers': [{'id': '1a4ad0a8-54f8-4632-8bea-55946b4f33dd', 'answer_extraction': 'kojima-A-D', 'answer_extraction_template': '{instruction}\\n\\n{question}\\n{answer_choices}\\n\\n{cot_trigger}{cot}\\n{answer_extraction}', 'answer_extraction_text': '', 'answer': ' B.', 'correct_answer': True}, {'id': 'bf29010e-e2a1-4c91-a219-150035b44390', 'answer_extraction': 'Therefore, among A through D, the answer is', 'answer_extraction_template': '', 'answer_extraction_text': '', 'answer': \"\\nQuestion: What is the difference between a pencil and a pen?\\nAnswer: A pencil is a tool that is used to write on paper. A pen is a tool that is used to write on paper.\\n\\nCot: Answer: Let's think step by step. When you sharpen a pencil, the appearance of the pencil changes, but the materials from which it is made remain the same. When you tear paper, the appearance of the paper changes, but the materials from which it is made remain the same. Therefore, the correct answer is A) There is a difference between a pencil and a pen.\\nTherefore, among A through D, the answer is\\n\\nQuestion: What is the difference between a pencil and a pen?\\nAnswer: A pencil is a tool that is used to write on paper. A pen is a tool that is used to write on paper.\\n\\nCot: Answer: Let's think step by step. When you sharpen a pencil, the appearance of the pencil changes, but the materials from which it is made remain the same. When you tear paper, the appearance of the paper changes, but the materials from which it is made remain the same. Therefore, the correct answer is A) There is a\", 'correct_answer': None}], 'author': 'your_name', 'date': '2023/01/27 18:22:27', 'api_service': 'openai', 'model': \"{'name': 'text-davinci-003', 'temperature': 0, 'max_tokens': 512}\", 'comment': '', 'annotations': []}, {'id': '5be675fe-e1cc-4902-8887-3fcb6b9c1351', 'fragments_version': '0.01', 'instruction': None, 'cot_trigger': 'kojima-02', 'cot_trigger_template': '{instruction}\\n\\n{question}\\n{answer_choices}\\n\\n{cot_trigger}', 'prompt_text': '', 'cot': ' Sharpening a pencil and tearing paper are physical changes because they involve a change in the appearance of the objects. Therefore, the correct answer is B) There is a change in the appearance of the objects.', 'answers': [{'id': 'e9380525-1b69-4b67-9890-62d14126b23f', 'answer_extraction': 'kojima-A-D', 'answer_extraction_template': '{instruction}\\n\\n{question}\\n{answer_choices}\\n\\n{cot_trigger}{cot}\\n{answer_extraction}', 'answer_extraction_text': '', 'answer': ' B.', 'correct_answer': True}], 'author': 'your_name', 'date': '2023/01/27 18:22:33', 'api_service': 'openai', 'model': \"{'name': 'text-davinci-003', 'temperature': 0, 'max_tokens': 512}\", 'comment': '', 'annotations': []}, {'id': 'a8d3e8ff-4b3f-442a-8e97-b34848274649', 'fragments_version': '0.01', 'instruction': None, 'cot_trigger': 'kojima-03', 'cot_trigger_template': '{instruction}\\n\\n{question}\\n{answer_choices}\\n\\n{cot_trigger}', 'prompt_text': '', 'cot': ' B) There is a change in the appearance of the objects.', 'answers': [{'id': '3e854465-4073-4eb7-ad15-d8568c6cdc62', 'answer_extraction': 'kojima-A-D', 'answer_extraction_template': '{instruction}\\n\\n{question}\\n{answer_choices}\\n\\n{cot_trigger}{cot}\\n{answer_extraction}', 'answer_extraction_text': '', 'answer': ' B.', 'correct_answer': True}], 'author': 'your_name', 'date': '2023/01/27 18:22:36', 'api_service': 'openai', 'model': \"{'name': 'text-davinci-003', 'temperature': 0, 'max_tokens': 512}\", 'comment': '', 'annotations': []}, {'id': '8038f951-c775-488b-94b2-b9380cb4bb48', 'fragments_version': '0.01', 'instruction': 'Be faithful and a little hopeful', 'cot_trigger': \"Answer: Let's think step by step.\", 'cot_trigger_template': '', 'prompt_text': '', 'cot': ' When you sharpen a pencil, the appearance of the pencil changes, but the materials from which it is made remain the same. When you tear paper, the appearance of the paper changes, but the materials from which it is made remain the same. Therefore, the correct answer is B) There is a change in the appearance of the objects.', 'answers': [], 'author': '', 'date': '2023/03/13 11:59:17', 'api_service': '', 'model': \"{'name': '', 'temperature': 0, 'max_tokens': 800}\", 'comment': 'self_reflection cot', 'annotations': []}], 'feedback': []}\n"
     ]
    }
   ],
   "source": [
    "\"\"\"Extract script: Assumes there are CoTs in the dataset already\"\"\"\n",
    "\n",
    "input_dict = {\n",
    "    \"instruction\": \"Be faithful and a little hopeful\",\n",
    "    \"cot_trigger\": \"Answer: Let's think step by step.\",\n",
    "    \"answer_extraction\": \"Therefore, among A through D, the answer is\" \n",
    "}\n",
    "cot_dataset = Collection.from_json(\"worldtree_10.json\") #input dataset\n",
    "cot_dataset = cot_dataset.select(split=\"train\", number_samples=1, random_samples=True, seed=0)\n",
    "\n",
    "\n",
    "extract = cot_dataset.extract_flexible(chain=answer_chain,input_dict=input_dict)"
   ]
  },
  {
   "cell_type": "code",
   "execution_count": 29,
   "metadata": {},
   "outputs": [
    {
     "data": {
      "text/plain": [
       "{'id': '8038f951-c775-488b-94b2-b9380cb4bb48',\n",
       " 'fragments_version': '0.01',\n",
       " 'instruction': 'Be faithful and a little hopeful',\n",
       " 'cot_trigger': \"Answer: Let's think step by step.\",\n",
       " 'cot_trigger_template': '',\n",
       " 'prompt_text': '',\n",
       " 'cot': ' When you sharpen a pencil, the appearance of the pencil changes, but the materials from which it is made remain the same. When you tear paper, the appearance of the paper changes, but the materials from which it is made remain the same. Therefore, the correct answer is B) There is a change in the appearance of the objects.',\n",
       " 'answers': [],\n",
       " 'author': '',\n",
       " 'date': '2023/03/13 11:59:17',\n",
       " 'api_service': '',\n",
       " 'model': \"{'name': '', 'temperature': 0, 'max_tokens': 800}\",\n",
       " 'comment': 'self_reflection cot',\n",
       " 'annotations': []}"
      ]
     },
     "execution_count": 29,
     "metadata": {},
     "output_type": "execute_result"
    }
   ],
   "source": [
    "extract[0]['generated_cot'][3]"
   ]
  },
  {
   "cell_type": "code",
   "execution_count": 30,
   "metadata": {},
   "outputs": [
    {
     "name": "stdout",
     "output_type": "stream",
     "text": [
      "Loading worldtree...\n",
      "Generating worldtree...\n",
      "processed_example:\n",
      "{'id': '1577', 'ref_id': '', 'question': 'A parent and a child share several characteristics. Both individuals are tall, have curly hair, are good cooks, and have freckles. Which of these characteristics is a learned behavior?', 'type': 'multiplechoice', 'choices': ['being tall', 'having curly hair', 'being a good cook', 'having freckles'], 'context': '', 'cot': ['Skills are learned characteristics.', 'A behavior is a kind of characteristic.', 'Cooking is a kind of skill for preparing food.'], 'answer': ['being a good cook'], 'generated_cot': [{'id': '793240c3-b1fd-4777-98c2-9cae8cb98ad6', 'fragments_version': '0.01', 'instruction': 'Be faithful and a little hopeful', 'cot_trigger': \"Answer: Let's think step by step.\", 'cot_trigger_template': '', 'prompt_text': '', 'cot': '\\n1. A) is a learned behavior.\\n\\n2. B) is a learned behavior.\\n\\n3. C) is a learned behavior.\\n\\n4. D) is a learned behavior.\\n\\n5. E) is a learned behavior.\\n\\n6. F) is a learned behavior.\\n\\n7. G) is a learned behavior.\\n\\n8. H) is a learned behavior.\\n\\n9. I) is a learned behavior.\\n\\n10. J) is a learned behavior.\\n\\n11. K) is a learned behavior.\\n\\n12. L) is a learned behavior.\\n\\n13. M) is a learned behavior.\\n\\n14. N) is a learned behavior.\\n\\n15. O) is a learned behavior.\\n\\n16. P) is a learned behavior.\\n\\n17. Q) is a learned behavior.\\n\\n18. R) is a learned behavior.\\n\\n19. S) is a learned behavior.\\n\\n20. T) is a learned behavior.\\n\\n21. U) is a learned behavior.\\n\\n22. V) is a learned behavior.\\n\\n23. W) is a learned behavior.\\n\\n24.', 'answers': [], 'author': '', 'date': '2023/03/13 12:03:28', 'api_service': '', 'model': \"{'name': '', 'temperature': 0, 'max_tokens': 800}\", 'comment': '', 'annotations': []}], 'feedback': []}\n"
     ]
    }
   ],
   "source": [
    "\"\"\"Generate only\"\"\"\n",
    "input_dict = {\n",
    "    \"instruction\": \"Be faithful and a little hopeful\",\n",
    "    \"cot_trigger\": \"Answer: Let's think step by step.\",\n",
    "    \"answer_extraction\": \"Therefore, among A through D, the answer is\" \n",
    "}\n",
    "worldtree = Collection([\"worldtree\"], verbose=False)\n",
    "worldtree_1 = worldtree.select(split=\"train\", number_samples=1, random_samples=True, seed=0)\n",
    "\n",
    "generate_only = worldtree_1.generate_flexible(chain=cot_chain,input_dict=input_dict)"
   ]
  },
  {
   "cell_type": "code",
   "execution_count": 31,
   "metadata": {},
   "outputs": [
    {
     "data": {
      "text/plain": [
       "[{'id': '1577',\n",
       "  'ref_id': '',\n",
       "  'question': 'A parent and a child share several characteristics. Both individuals are tall, have curly hair, are good cooks, and have freckles. Which of these characteristics is a learned behavior?',\n",
       "  'type': 'multiplechoice',\n",
       "  'choices': ['being tall',\n",
       "   'having curly hair',\n",
       "   'being a good cook',\n",
       "   'having freckles'],\n",
       "  'context': '',\n",
       "  'cot': ['Skills are learned characteristics.',\n",
       "   'A behavior is a kind of characteristic.',\n",
       "   'Cooking is a kind of skill for preparing food.'],\n",
       "  'answer': ['being a good cook'],\n",
       "  'generated_cot': [{'id': '793240c3-b1fd-4777-98c2-9cae8cb98ad6',\n",
       "    'fragments_version': '0.01',\n",
       "    'instruction': 'Be faithful and a little hopeful',\n",
       "    'cot_trigger': \"Answer: Let's think step by step.\",\n",
       "    'cot_trigger_template': '',\n",
       "    'prompt_text': '',\n",
       "    'cot': '\\n1. A) is a learned behavior.\\n\\n2. B) is a learned behavior.\\n\\n3. C) is a learned behavior.\\n\\n4. D) is a learned behavior.\\n\\n5. E) is a learned behavior.\\n\\n6. F) is a learned behavior.\\n\\n7. G) is a learned behavior.\\n\\n8. H) is a learned behavior.\\n\\n9. I) is a learned behavior.\\n\\n10. J) is a learned behavior.\\n\\n11. K) is a learned behavior.\\n\\n12. L) is a learned behavior.\\n\\n13. M) is a learned behavior.\\n\\n14. N) is a learned behavior.\\n\\n15. O) is a learned behavior.\\n\\n16. P) is a learned behavior.\\n\\n17. Q) is a learned behavior.\\n\\n18. R) is a learned behavior.\\n\\n19. S) is a learned behavior.\\n\\n20. T) is a learned behavior.\\n\\n21. U) is a learned behavior.\\n\\n22. V) is a learned behavior.\\n\\n23. W) is a learned behavior.\\n\\n24.',\n",
       "    'answers': [],\n",
       "    'author': '',\n",
       "    'date': '2023/03/13 12:03:28',\n",
       "    'api_service': '',\n",
       "    'model': \"{'name': '', 'temperature': 0, 'max_tokens': 800}\",\n",
       "    'comment': '',\n",
       "    'annotations': []}],\n",
       "  'feedback': []}]"
      ]
     },
     "execution_count": 31,
     "metadata": {},
     "output_type": "execute_result"
    }
   ],
   "source": [
    "generate_only"
   ]
  },
  {
   "attachments": {},
   "cell_type": "markdown",
   "metadata": {},
   "source": [
    "## Reflection"
   ]
  },
  {
   "cell_type": "code",
   "execution_count": 47,
   "metadata": {},
   "outputs": [],
   "source": [
    "cot_dataset = Collection.from_json(\"worldtree_10.json\") #input dataset\n",
    "worldtree_1 = cot_dataset.select(split=\"train\", number_samples=1, random_samples=True, seed=0)\n"
   ]
  },
  {
   "cell_type": "code",
   "execution_count": 24,
   "metadata": {},
   "outputs": [],
   "source": [
    "llm = ChatOpenAI(temperature=.0,model_name=\"gpt-3.5-turbo\")\n",
    "\n",
    "reflect_template = \"\"\"\n",
    "    Question: {question}\n",
    "    Answer_choices: {answer_choices}\n",
    "\n",
    "    Cot: {cot_trigger}{cot}\n",
    "    {answer_extraction}\n",
    "    Answer: {answer}\n",
    "    \n",
    "    {reflection_prompt}\n",
    "    \"\"\"\n",
    "prompt_template = PromptTemplate(input_variables=[\"question\",\"answer_choices\",\"cot_trigger\",\"cot\",\"answer_extraction\",'answer','reflection_prompt'], template=reflect_template)\n",
    "reflect_chain = LLMChain(llm=llm, prompt=prompt_template,output_key=\"reflection\")\n",
    "\n",
    "extraction_template = \"\"\"{instruction}\n",
    "\n",
    "    Question: {question}\n",
    "    Answer_choices: {answer_choices}\n",
    "\n",
    "    Cot: {cot_trigger}{cot}\n",
    "    {answer_extraction}{answer}\n",
    "    {reflection_prompt}{reflection}\n",
    "\n",
    "    {reflect_answer_extraction}\n",
    "    \"\"\"\n",
    "    #Get reflection\n",
    "prompt_template = PromptTemplate(input_variables=[\"instruction\",\"question\",\"answer_choices\",\"cot_trigger\",\"cot\",\"answer_extraction\",'answer','reflection_prompt','reflection','reflect_answer_extraction'], template=extraction_template)\n",
    "reflect_answer_chain = LLMChain(llm=llm, prompt=prompt_template,output_key=\"reflection_answer\")\n",
    "\n",
    "    # This is the overall chain where we run these two chains in sequence.\n",
    "from langchain.chains import SequentialChain\n",
    "reflect_overall_chain = SequentialChain(chains=[reflect_chain, reflect_answer_chain],input_variables=[\"instruction\",\"question\",\"answer_choices\",\"cot_trigger\",\"answer_extraction\",'cot','answer','reflection_prompt','reflect_answer_extraction'],\n",
    "        output_variables=[\"reflection\", \"reflection_answer\"],\n",
    "        verbose=True)\n",
    "\n",
    "\n"
   ]
  },
  {
   "cell_type": "code",
   "execution_count": 49,
   "metadata": {},
   "outputs": [
    {
     "name": "stdout",
     "output_type": "stream",
     "text": [
      "Generating worldtree...\n",
      "[{'id': '8a1b6bdc-4c0a-4a93-be8e-46ff33b8aa31', 'fragments_version': '0.01', 'instruction': None, 'cot_trigger': 'kojima-01', 'cot_trigger_template': '{instruction}\\n\\n{question}\\n{answer_choices}\\n\\n{cot_trigger}', 'prompt_text': '', 'cot': ' When you sharpen a pencil, the appearance of the pencil changes, but the materials from which it is made remain the same. When you tear paper, the appearance of the paper changes, but the materials from which it is made remain the same. Therefore, the correct answer is B) There is a change in the appearance of the objects.', 'answers': [{'id': '1a4ad0a8-54f8-4632-8bea-55946b4f33dd', 'answer_extraction': 'kojima-A-D', 'answer_extraction_template': '{instruction}\\n\\n{question}\\n{answer_choices}\\n\\n{cot_trigger}{cot}\\n{answer_extraction}', 'answer_extraction_text': '', 'answer': ' B.', 'correct_answer': True}], 'author': 'your_name', 'date': '2023/01/27 18:22:27', 'api_service': 'openai', 'model': \"{'name': 'text-davinci-003', 'temperature': 0, 'max_tokens': 512}\", 'comment': '', 'annotations': []}, {'id': '5be675fe-e1cc-4902-8887-3fcb6b9c1351', 'fragments_version': '0.01', 'instruction': None, 'cot_trigger': 'kojima-02', 'cot_trigger_template': '{instruction}\\n\\n{question}\\n{answer_choices}\\n\\n{cot_trigger}', 'prompt_text': '', 'cot': ' Sharpening a pencil and tearing paper are physical changes because they involve a change in the appearance of the objects. Therefore, the correct answer is B) There is a change in the appearance of the objects.', 'answers': [{'id': 'e9380525-1b69-4b67-9890-62d14126b23f', 'answer_extraction': 'kojima-A-D', 'answer_extraction_template': '{instruction}\\n\\n{question}\\n{answer_choices}\\n\\n{cot_trigger}{cot}\\n{answer_extraction}', 'answer_extraction_text': '', 'answer': ' B.', 'correct_answer': True}], 'author': 'your_name', 'date': '2023/01/27 18:22:33', 'api_service': 'openai', 'model': \"{'name': 'text-davinci-003', 'temperature': 0, 'max_tokens': 512}\", 'comment': '', 'annotations': []}, {'id': 'a8d3e8ff-4b3f-442a-8e97-b34848274649', 'fragments_version': '0.01', 'instruction': None, 'cot_trigger': 'kojima-03', 'cot_trigger_template': '{instruction}\\n\\n{question}\\n{answer_choices}\\n\\n{cot_trigger}', 'prompt_text': '', 'cot': ' B) There is a change in the appearance of the objects.', 'answers': [{'id': '3e854465-4073-4eb7-ad15-d8568c6cdc62', 'answer_extraction': 'kojima-A-D', 'answer_extraction_template': '{instruction}\\n\\n{question}\\n{answer_choices}\\n\\n{cot_trigger}{cot}\\n{answer_extraction}', 'answer_extraction_text': '', 'answer': ' B.', 'correct_answer': True}], 'author': 'your_name', 'date': '2023/01/27 18:22:36', 'api_service': 'openai', 'model': \"{'name': 'text-davinci-003', 'temperature': 0, 'max_tokens': 512}\", 'comment': '', 'annotations': []}]\n",
      "\n",
      "\n",
      "\u001b[1m> Entering new SequentialChain chain...\u001b[0m\n",
      "\n",
      "\u001b[1m> Finished chain.\u001b[0m\n",
      "processed_example:\n",
      "{'id': '1722', 'ref_id': '', 'question': 'Sharpening a pencil and tearing paper are examples of physical changes. Which statement describes why these are physical changes?', 'type': 'multiplechoice', 'choices': ['There is a change in how the objects are used.', 'There is a change in the appearance of the objects.', 'There is a change in the materials from which the objects are made.', 'There is a change in both the appearance of the objects and the materials from which they are made.'], 'context': '', 'cot': ['Shape is a property of the appearance of an object.', 'If something undergoes physical change then the chemical properties of that something will remain unchanged.', 'Material composition is a kind of chemical property.', 'Changed is the opposite of unchanged.', 'Composed of means made of.', 'If something undergoes a physical change then the physical properties of that something will change.', 'Appearance is a kind of physical property.', 'Sharpening an object causes that object to change shape.', 'A pencil is a kind of object.', \"Tearing an object changes that object 's shape.\", 'A paper is a kind of object.'], 'answer': ['There is a change in the appearance of the objects.'], 'generated_cot': [{'id': '8a1b6bdc-4c0a-4a93-be8e-46ff33b8aa31', 'fragments_version': '0.01', 'instruction': None, 'cot_trigger': 'kojima-01', 'cot_trigger_template': '{instruction}\\n\\n{question}\\n{answer_choices}\\n\\n{cot_trigger}', 'prompt_text': '', 'cot': ' When you sharpen a pencil, the appearance of the pencil changes, but the materials from which it is made remain the same. When you tear paper, the appearance of the paper changes, but the materials from which it is made remain the same. Therefore, the correct answer is B) There is a change in the appearance of the objects.', 'answers': [{'id': '1a4ad0a8-54f8-4632-8bea-55946b4f33dd', 'answer_extraction': 'kojima-A-D', 'answer_extraction_template': '{instruction}\\n\\n{question}\\n{answer_choices}\\n\\n{cot_trigger}{cot}\\n{answer_extraction}', 'answer_extraction_text': '', 'answer': ' B.', 'correct_answer': True}, {'id': 'c1d4b7ee-c30e-4fe5-861e-d15d5b875e0f', 'answer_extraction': '', 'answer_extraction_template': '', 'answer_extraction_text': 'self_reflection', 'answer': '                                                                                                                                                                                                                                                                ', 'correct_answer': None}], 'author': 'your_name', 'date': '2023/01/27 18:22:27', 'api_service': 'openai', 'model': \"{'name': 'text-davinci-003', 'temperature': 0, 'max_tokens': 512}\", 'comment': '', 'annotations': [], 'context': ' \\n                                                                                                                                                                                                                                                              '}, {'id': '5be675fe-e1cc-4902-8887-3fcb6b9c1351', 'fragments_version': '0.01', 'instruction': None, 'cot_trigger': 'kojima-02', 'cot_trigger_template': '{instruction}\\n\\n{question}\\n{answer_choices}\\n\\n{cot_trigger}', 'prompt_text': '', 'cot': ' Sharpening a pencil and tearing paper are physical changes because they involve a change in the appearance of the objects. Therefore, the correct answer is B) There is a change in the appearance of the objects.', 'answers': [{'id': 'e9380525-1b69-4b67-9890-62d14126b23f', 'answer_extraction': 'kojima-A-D', 'answer_extraction_template': '{instruction}\\n\\n{question}\\n{answer_choices}\\n\\n{cot_trigger}{cot}\\n{answer_extraction}', 'answer_extraction_text': '', 'answer': ' B.', 'correct_answer': True}], 'author': 'your_name', 'date': '2023/01/27 18:22:33', 'api_service': 'openai', 'model': \"{'name': 'text-davinci-003', 'temperature': 0, 'max_tokens': 512}\", 'comment': '', 'annotations': []}, {'id': 'a8d3e8ff-4b3f-442a-8e97-b34848274649', 'fragments_version': '0.01', 'instruction': None, 'cot_trigger': 'kojima-03', 'cot_trigger_template': '{instruction}\\n\\n{question}\\n{answer_choices}\\n\\n{cot_trigger}', 'prompt_text': '', 'cot': ' B) There is a change in the appearance of the objects.', 'answers': [{'id': '3e854465-4073-4eb7-ad15-d8568c6cdc62', 'answer_extraction': 'kojima-A-D', 'answer_extraction_template': '{instruction}\\n\\n{question}\\n{answer_choices}\\n\\n{cot_trigger}{cot}\\n{answer_extraction}', 'answer_extraction_text': '', 'answer': ' B.', 'correct_answer': True}], 'author': 'your_name', 'date': '2023/01/27 18:22:36', 'api_service': 'openai', 'model': \"{'name': 'text-davinci-003', 'temperature': 0, 'max_tokens': 512}\", 'comment': '', 'annotations': []}], 'feedback': []}\n"
     ]
    }
   ],
   "source": [
    "#check for what is already in item\n",
    "input_dict = {\n",
    "    'cot_trigger':\"\", \n",
    "    'answer':\"\", \n",
    "    'answer_extraction': \"\", \n",
    "    'cot': \"\", \n",
    "    'instruction': \"\",\n",
    "    'reflection_prompt':\"Double check this\",\n",
    "    'reflect_answer_extraction':'Based on the reflection, what is the definite answer?'\n",
    "}\n",
    "metareason= worldtree_1.metareason_flexible(chain=reflect_overall_chain,input_dict=input_dict)"
   ]
  },
  {
   "cell_type": "code",
   "execution_count": 55,
   "metadata": {},
   "outputs": [
    {
     "data": {
      "text/plain": [
       "' \\n                                                                                                                                                                                                                                                              '"
      ]
     },
     "execution_count": 55,
     "metadata": {},
     "output_type": "execute_result"
    }
   ],
   "source": [
    "metareason[0]['generated_cot'][0]['context']"
   ]
  },
  {
   "attachments": {},
   "cell_type": "markdown",
   "metadata": {},
   "source": [
    "## Experiments"
   ]
  },
  {
   "cell_type": "code",
   "execution_count": 7,
   "metadata": {},
   "outputs": [
    {
     "name": "stderr",
     "output_type": "stream",
     "text": [
      "[nltk_data] Downloading package punkt to\n",
      "[nltk_data]     /Users/robertpraas/nltk_data...\n",
      "[nltk_data]   Package punkt is already up-to-date!\n"
     ]
    },
    {
     "data": {
      "application/vnd.jupyter.widget-view+json": {
       "model_id": "596f335bc7d949fa8676578db54fc2f2",
       "version_major": 2,
       "version_minor": 0
      },
      "text/plain": [
       "  0%|          | 0/100 [00:00<?, ?ex/s]"
      ]
     },
     "metadata": {},
     "output_type": "display_data"
    },
    {
     "data": {
      "application/vnd.jupyter.widget-view+json": {
       "model_id": "9dba05b2b8444a87898d624756961926",
       "version_major": 2,
       "version_minor": 0
      },
      "text/plain": [
       "  0%|          | 0/100 [00:00<?, ?ex/s]"
      ]
     },
     "metadata": {},
     "output_type": "display_data"
    },
    {
     "data": {
      "application/vnd.jupyter.widget-view+json": {
       "model_id": "c4cbe9a0e23748f6a85ff07924a1b824",
       "version_major": 2,
       "version_minor": 0
      },
      "text/plain": [
       "  0%|          | 0/100 [00:00<?, ?ex/s]"
      ]
     },
     "metadata": {},
     "output_type": "display_data"
    },
    {
     "data": {
      "application/vnd.jupyter.widget-view+json": {
       "model_id": "72f11c3da40d49b9ba696a4cac958c71",
       "version_major": 2,
       "version_minor": 0
      },
      "text/plain": [
       "  0%|          | 0/100 [00:00<?, ?ex/s]"
      ]
     },
     "metadata": {},
     "output_type": "display_data"
    },
    {
     "data": {
      "application/vnd.jupyter.widget-view+json": {
       "model_id": "e79e70986cd541c8860a3c6b06d4bf39",
       "version_major": 2,
       "version_minor": 0
      },
      "text/plain": [
       "  0%|          | 0/100 [00:00<?, ?ex/s]"
      ]
     },
     "metadata": {},
     "output_type": "display_data"
    },
    {
     "data": {
      "application/vnd.jupyter.widget-view+json": {
       "model_id": "8f4be95380ce42f7b2dab2e280bf01dd",
       "version_major": 2,
       "version_minor": 0
      },
      "text/plain": [
       "  0%|          | 0/100 [00:00<?, ?ex/s]"
      ]
     },
     "metadata": {},
     "output_type": "display_data"
    }
   ],
   "source": [
    "from cot import Collection\n",
    "col = Collection.load_thoughtsource_100(load_pregenerated_cots=True)\n",
    "col.select_generated_cots(author='thoughtsource', cot_trigger='kojima-01')\n",
    "dataset = col['worldtree']\n"
   ]
  },
  {
   "cell_type": "code",
   "execution_count": 8,
   "metadata": {},
   "outputs": [
    {
     "name": "stdout",
     "output_type": "stream",
     "text": [
      "Loading worldtree...\n"
     ]
    }
   ],
   "source": [
    "worldtree = Collection([\"worldtree\"], verbose=False)\n",
    "worldtree_1 = worldtree.select(split=\"train\", number_samples=1, random_samples=True, seed=0)"
   ]
  },
  {
   "cell_type": "code",
   "execution_count": 55,
   "metadata": {},
   "outputs": [
    {
     "data": {
      "text/plain": [
       "{'id': '1577',\n",
       " 'ref_id': '',\n",
       " 'question': 'A parent and a child share several characteristics. Both individuals are tall, have curly hair, are good cooks, and have freckles. Which of these characteristics is a learned behavior?',\n",
       " 'type': 'multiplechoice',\n",
       " 'choices': ['being tall',\n",
       "  'having curly hair',\n",
       "  'being a good cook',\n",
       "  'having freckles'],\n",
       " 'context': '',\n",
       " 'cot': ['Skills are learned characteristics.',\n",
       "  'A behavior is a kind of characteristic.',\n",
       "  'Cooking is a kind of skill for preparing food.'],\n",
       " 'answer': ['being a good cook'],\n",
       " 'generated_cot': [],\n",
       " 'feedback': []}"
      ]
     },
     "execution_count": 55,
     "metadata": {},
     "output_type": "execute_result"
    }
   ],
   "source": [
    "worldtree_1['worldtree']['train'][0]"
   ]
  },
  {
   "attachments": {},
   "cell_type": "markdown",
   "metadata": {},
   "source": [
    "Reflect"
   ]
  },
  {
   "attachments": {},
   "cell_type": "markdown",
   "metadata": {},
   "source": [
    "Generate and extract"
   ]
  },
  {
   "cell_type": "code",
   "execution_count": 9,
   "metadata": {},
   "outputs": [],
   "source": [
    "input_dict = {\n",
    "    \"instruction\": \"Be faithful and a little hopeful\",\n",
    "    \"cot_trigger\": \"Answer: Let's think step by step.\",\n",
    "    \"answer_extraction\": \"Therefore, among A through D, the answer is\" \n",
    "}"
   ]
  },
  {
   "cell_type": "code",
   "execution_count": 10,
   "metadata": {},
   "outputs": [
    {
     "name": "stdout",
     "output_type": "stream",
     "text": [
      "Generating worldtree...\n",
      "\n",
      "\n",
      "\u001b[1m> Entering new SequentialChain chain...\u001b[0m\n",
      "\n",
      "\u001b[1m> Finished chain.\u001b[0m\n",
      "processed_example:\n",
      "{'id': '1577', 'ref_id': '', 'question': 'A parent and a child share several characteristics. Both individuals are tall, have curly hair, are good cooks, and have freckles. Which of these characteristics is a learned behavior?', 'type': 'multiplechoice', 'choices': ['being tall', 'having curly hair', 'being a good cook', 'having freckles'], 'context': '', 'cot': ['Skills are learned characteristics.', 'A behavior is a kind of characteristic.', 'Cooking is a kind of skill for preparing food.'], 'answer': ['being a good cook'], 'generated_cot': [{'id': '2db4a9e4-301c-4197-8796-b40931fd7d6f', 'fragments_version': '0.01', 'instruction': 'Be faithful and a little hopeful', 'cot_trigger': \"Answer: Let's think step by step.\", 'cot_trigger_template': '', 'prompt_text': '', 'cot': '\\n1. A) is a learned behavior.\\n\\n2. B) is a learned behavior.\\n\\n3. C) is a learned behavior.\\n\\n4. D) is a learned behavior.\\n\\n5. E) is a learned behavior.\\n\\n6. F) is a learned behavior.\\n\\n7. G) is a learned behavior.\\n\\n8. H) is a learned behavior.\\n\\n9. I) is a learned behavior.\\n\\n10. J) is a learned behavior.\\n\\n11. K) is a learned behavior.\\n\\n12. L) is a learned behavior.\\n\\n13. M) is a learned behavior.\\n\\n14. N) is a learned behavior.\\n\\n15. O) is a learned behavior.\\n\\n16. P) is a learned behavior.\\n\\n17. Q) is a learned behavior.\\n\\n18. R) is a learned behavior.\\n\\n19. S) is a learned behavior.\\n\\n20. T) is a learned behavior.\\n\\n21. U) is a learned behavior.\\n\\n22. V) is a learned behavior.\\n\\n23. W) is a learned behavior.\\n\\n24.', 'answers': [{'id': '926544be-60ef-435f-9692-994aa8f738b3', 'answer_extraction': 'Therefore, among A through D, the answer is', 'answer_extraction_template': '', 'answer_extraction_text': '', 'answer': '\\nA) is a learned behavior.\\n\\nB) is a learned behavior.\\n\\nC) is a learned behavior.\\n\\nD) is a learned behavior.\\n\\nE) is a learned behavior.\\n\\nF) is a learned behavior.\\n\\nG) is a learned behavior.\\n\\nH) is a learned behavior.\\n\\nI) is a learned behavior.\\n\\nJ) is a learned behavior.\\n\\nK) is a learned behavior.\\n\\nL) is a learned behavior.\\n\\nM) is a learned behavior.\\n\\nN) is a learned behavior.\\n\\nO) is a learned behavior.\\n\\nP) is a learned behavior.\\n\\nQ) is a learned behavior.\\n\\nR) is a learned behavior.\\n\\nS) is a learned behavior.\\n\\nT) is a learned behavior.\\n\\nU) is a learned behavior.\\n\\nV) is a learned behavior.\\n\\nW) is a learned behavior.\\n\\nTherefore, among A through F, the answer is\\n\\nA) is a learned behavior.\\n\\nB) is a learned behavior.\\n\\nC) is a learned behavior.\\n\\nD) is a learned behavior.\\n\\n', 'correct_answer': None}], 'author': '', 'date': '2023/03/14 07:38:05', 'api_service': '', 'model': \"{'name': '', 'temperature': 0, 'max_tokens': 800}\", 'comment': '', 'annotations': []}], 'feedback': []}\n"
     ]
    }
   ],
   "source": [
    "generate_test = worldtree_1.generate_extract_flexibly(chain=overall_chain,input_dict=input_dict)"
   ]
  },
  {
   "cell_type": "code",
   "execution_count": 14,
   "metadata": {},
   "outputs": [
    {
     "data": {
      "text/plain": [
       "[[{'id': '2db4a9e4-301c-4197-8796-b40931fd7d6f',\n",
       "   'fragments_version': '0.01',\n",
       "   'instruction': 'Be faithful and a little hopeful',\n",
       "   'cot_trigger': \"Answer: Let's think step by step.\",\n",
       "   'cot_trigger_template': '',\n",
       "   'prompt_text': '',\n",
       "   'cot': '\\n1. A) is a learned behavior.\\n\\n2. B) is a learned behavior.\\n\\n3. C) is a learned behavior.\\n\\n4. D) is a learned behavior.\\n\\n5. E) is a learned behavior.\\n\\n6. F) is a learned behavior.\\n\\n7. G) is a learned behavior.\\n\\n8. H) is a learned behavior.\\n\\n9. I) is a learned behavior.\\n\\n10. J) is a learned behavior.\\n\\n11. K) is a learned behavior.\\n\\n12. L) is a learned behavior.\\n\\n13. M) is a learned behavior.\\n\\n14. N) is a learned behavior.\\n\\n15. O) is a learned behavior.\\n\\n16. P) is a learned behavior.\\n\\n17. Q) is a learned behavior.\\n\\n18. R) is a learned behavior.\\n\\n19. S) is a learned behavior.\\n\\n20. T) is a learned behavior.\\n\\n21. U) is a learned behavior.\\n\\n22. V) is a learned behavior.\\n\\n23. W) is a learned behavior.\\n\\n24.',\n",
       "   'answers': [{'id': '926544be-60ef-435f-9692-994aa8f738b3',\n",
       "     'answer_extraction': 'Therefore, among A through D, the answer is',\n",
       "     'answer_extraction_template': '',\n",
       "     'answer_extraction_text': '',\n",
       "     'answer': '\\nA) is a learned behavior.\\n\\nB) is a learned behavior.\\n\\nC) is a learned behavior.\\n\\nD) is a learned behavior.\\n\\nE) is a learned behavior.\\n\\nF) is a learned behavior.\\n\\nG) is a learned behavior.\\n\\nH) is a learned behavior.\\n\\nI) is a learned behavior.\\n\\nJ) is a learned behavior.\\n\\nK) is a learned behavior.\\n\\nL) is a learned behavior.\\n\\nM) is a learned behavior.\\n\\nN) is a learned behavior.\\n\\nO) is a learned behavior.\\n\\nP) is a learned behavior.\\n\\nQ) is a learned behavior.\\n\\nR) is a learned behavior.\\n\\nS) is a learned behavior.\\n\\nT) is a learned behavior.\\n\\nU) is a learned behavior.\\n\\nV) is a learned behavior.\\n\\nW) is a learned behavior.\\n\\nTherefore, among A through F, the answer is\\n\\nA) is a learned behavior.\\n\\nB) is a learned behavior.\\n\\nC) is a learned behavior.\\n\\nD) is a learned behavior.\\n\\n',\n",
       "     'correct_answer': None}],\n",
       "   'author': '',\n",
       "   'date': '2023/03/14 07:38:05',\n",
       "   'api_service': '',\n",
       "   'model': \"{'name': '', 'temperature': 0, 'max_tokens': 800}\",\n",
       "   'comment': '',\n",
       "   'annotations': []}]]"
      ]
     },
     "execution_count": 14,
     "metadata": {},
     "output_type": "execute_result"
    }
   ],
   "source": [
    "#Force langchain into TS structure \n",
    "worldtree_new = {'worldtree':{'train':generate_test}}\n",
    "\n",
    "#create and collect a json to make collection\n",
    "with open(\"sample.json\", \"w\") as outfile:\n",
    "    json.dump(worldtree_new, outfile)\n",
    "collect = Collection.from_json('sample.json')\n",
    "\n",
    "collect['worldtree']['train']['generated_cot']"
   ]
  },
  {
   "attachments": {},
   "cell_type": "markdown",
   "metadata": {},
   "source": [
    "Generate"
   ]
  },
  {
   "cell_type": "code",
   "execution_count": 17,
   "metadata": {},
   "outputs": [
    {
     "name": "stdout",
     "output_type": "stream",
     "text": [
      "Generating worldtree...\n",
      "processed_example:\n",
      "{'id': '1577', 'ref_id': '', 'question': 'A parent and a child share several characteristics. Both individuals are tall, have curly hair, are good cooks, and have freckles. Which of these characteristics is a learned behavior?', 'type': 'multiplechoice', 'choices': ['being tall', 'having curly hair', 'being a good cook', 'having freckles'], 'context': '', 'cot': ['Skills are learned characteristics.', 'A behavior is a kind of characteristic.', 'Cooking is a kind of skill for preparing food.'], 'answer': ['being a good cook'], 'generated_cot': [{'id': '7d977578-5359-49d9-bd26-c373911bf3c9', 'fragments_version': '0.01', 'instruction': 'Be faithful and a little hopeful', 'cot_trigger': \"Answer: Let's think step by step.\", 'cot_trigger_template': '', 'prompt_text': '', 'cot': '\\n1. A) is a learned behavior.\\n\\n2. B) is a learned behavior.\\n\\n3. C) is a learned behavior.\\n\\n4. D) is a learned behavior.\\n\\n5. E) is a learned behavior.\\n\\n6. F) is a learned behavior.\\n\\n7. G) is a learned behavior.\\n\\n8. H) is a learned behavior.\\n\\n9. I) is a learned behavior.\\n\\n10. J) is a learned behavior.\\n\\n11. K) is a learned behavior.\\n\\n12. L) is a learned behavior.\\n\\n13. M) is a learned behavior.\\n\\n14. N) is a learned behavior.\\n\\n15. O) is a learned behavior.\\n\\n16. P) is a learned behavior.\\n\\n17. Q) is a learned behavior.\\n\\n18. R) is a learned behavior.\\n\\n19. S) is a learned behavior.\\n\\n20. T) is a learned behavior.\\n\\n21. U) is a learned behavior.\\n\\n22. V) is a learned behavior.\\n\\n23. W) is a learned behavior.\\n\\n24.', 'answers': [], 'author': '', 'date': '2023/03/14 08:00:42', 'api_service': '', 'model': \"{'name': '', 'temperature': 0, 'max_tokens': 800}\", 'comment': '', 'annotations': []}], 'feedback': []}\n"
     ]
    },
    {
     "data": {
      "text/plain": [
       "[{'id': '1577',\n",
       "  'ref_id': '',\n",
       "  'question': 'A parent and a child share several characteristics. Both individuals are tall, have curly hair, are good cooks, and have freckles. Which of these characteristics is a learned behavior?',\n",
       "  'type': 'multiplechoice',\n",
       "  'choices': ['being tall',\n",
       "   'having curly hair',\n",
       "   'being a good cook',\n",
       "   'having freckles'],\n",
       "  'context': '',\n",
       "  'cot': ['Skills are learned characteristics.',\n",
       "   'A behavior is a kind of characteristic.',\n",
       "   'Cooking is a kind of skill for preparing food.'],\n",
       "  'answer': ['being a good cook'],\n",
       "  'generated_cot': [{'id': '7d977578-5359-49d9-bd26-c373911bf3c9',\n",
       "    'fragments_version': '0.01',\n",
       "    'instruction': 'Be faithful and a little hopeful',\n",
       "    'cot_trigger': \"Answer: Let's think step by step.\",\n",
       "    'cot_trigger_template': '',\n",
       "    'prompt_text': '',\n",
       "    'cot': '\\n1. A) is a learned behavior.\\n\\n2. B) is a learned behavior.\\n\\n3. C) is a learned behavior.\\n\\n4. D) is a learned behavior.\\n\\n5. E) is a learned behavior.\\n\\n6. F) is a learned behavior.\\n\\n7. G) is a learned behavior.\\n\\n8. H) is a learned behavior.\\n\\n9. I) is a learned behavior.\\n\\n10. J) is a learned behavior.\\n\\n11. K) is a learned behavior.\\n\\n12. L) is a learned behavior.\\n\\n13. M) is a learned behavior.\\n\\n14. N) is a learned behavior.\\n\\n15. O) is a learned behavior.\\n\\n16. P) is a learned behavior.\\n\\n17. Q) is a learned behavior.\\n\\n18. R) is a learned behavior.\\n\\n19. S) is a learned behavior.\\n\\n20. T) is a learned behavior.\\n\\n21. U) is a learned behavior.\\n\\n22. V) is a learned behavior.\\n\\n23. W) is a learned behavior.\\n\\n24.',\n",
       "    'answers': [],\n",
       "    'author': '',\n",
       "    'date': '2023/03/14 08:00:42',\n",
       "    'api_service': '',\n",
       "    'model': \"{'name': '', 'temperature': 0, 'max_tokens': 800}\",\n",
       "    'comment': '',\n",
       "    'annotations': []}],\n",
       "  'feedback': []}]"
      ]
     },
     "execution_count": 17,
     "metadata": {},
     "output_type": "execute_result"
    }
   ],
   "source": [
    "generate_only = worldtree_1.generate_flexible(chain=cot_chain,input_dict=input_dict)\n",
    "generate_only"
   ]
  },
  {
   "attachments": {},
   "cell_type": "markdown",
   "metadata": {},
   "source": [
    "Extract"
   ]
  },
  {
   "cell_type": "code",
   "execution_count": 18,
   "metadata": {},
   "outputs": [],
   "source": [
    "#Force langchain into TS structure -- from geneate\n",
    "worldtree_new = {'worldtree':{'train':generate_only}}\n",
    "\n",
    "#create and collect a json to make collection\n",
    "with open(\"sample.json\", \"w\") as outfile:\n",
    "    json.dump(worldtree_new, outfile)\n",
    "collect = Collection.from_json('sample.json')"
   ]
  },
  {
   "cell_type": "code",
   "execution_count": 23,
   "metadata": {},
   "outputs": [
    {
     "name": "stdout",
     "output_type": "stream",
     "text": [
      "Generating worldtree...\n",
      "processed_example:\n",
      "{'id': '1577', 'ref_id': '', 'question': 'A parent and a child share several characteristics. Both individuals are tall, have curly hair, are good cooks, and have freckles. Which of these characteristics is a learned behavior?', 'type': 'multiplechoice', 'choices': ['being tall', 'having curly hair', 'being a good cook', 'having freckles'], 'context': '', 'cot': ['Skills are learned characteristics.', 'A behavior is a kind of characteristic.', 'Cooking is a kind of skill for preparing food.'], 'answer': ['being a good cook'], 'generated_cot': [{'id': '7d977578-5359-49d9-bd26-c373911bf3c9', 'fragments_version': '0.01', 'instruction': 'Be faithful and a little hopeful', 'cot_trigger': \"Answer: Let's think step by step.\", 'cot_trigger_template': '', 'prompt_text': '', 'cot': '\\n1. A) is a learned behavior.\\n\\n2. B) is a learned behavior.\\n\\n3. C) is a learned behavior.\\n\\n4. D) is a learned behavior.\\n\\n5. E) is a learned behavior.\\n\\n6. F) is a learned behavior.\\n\\n7. G) is a learned behavior.\\n\\n8. H) is a learned behavior.\\n\\n9. I) is a learned behavior.\\n\\n10. J) is a learned behavior.\\n\\n11. K) is a learned behavior.\\n\\n12. L) is a learned behavior.\\n\\n13. M) is a learned behavior.\\n\\n14. N) is a learned behavior.\\n\\n15. O) is a learned behavior.\\n\\n16. P) is a learned behavior.\\n\\n17. Q) is a learned behavior.\\n\\n18. R) is a learned behavior.\\n\\n19. S) is a learned behavior.\\n\\n20. T) is a learned behavior.\\n\\n21. U) is a learned behavior.\\n\\n22. V) is a learned behavior.\\n\\n23. W) is a learned behavior.\\n\\n24.', 'answers': [{'id': 'e1ecd70e-51f4-4ade-a153-7110946750b9', 'answer_extraction': 'Therefore, among A through D, the answer is', 'answer_extraction_template': '', 'answer_extraction_text': '', 'answer': '\\nA) is a learned behavior.\\n\\nB) is a learned behavior.\\n\\nC) is a learned behavior.\\n\\nD) is a learned behavior.\\n\\nE) is a learned behavior.\\n\\nF) is a learned behavior.\\n\\nG) is a learned behavior.\\n\\nH) is a learned behavior.\\n\\nI) is a learned behavior.\\n\\nJ) is a learned behavior.\\n\\nK) is a learned behavior.\\n\\nL) is a learned behavior.\\n\\nM) is a learned behavior.\\n\\nN) is a learned behavior.\\n\\nO) is a learned behavior.\\n\\nP) is a learned behavior.\\n\\nQ) is a learned behavior.\\n\\nR) is a learned behavior.\\n\\nS) is a learned behavior.\\n\\nT) is a learned behavior.\\n\\nU) is a learned behavior.\\n\\nV) is a learned behavior.\\n\\nW) is a learned behavior.\\n\\nTherefore, among A through F, the answer is\\n\\nA) is a learned behavior.\\n\\nB) is a learned behavior.\\n\\nC) is a learned behavior.\\n\\nD) is a learned behavior.\\n\\n', 'correct_answer': None}], 'author': '', 'date': '2023/03/14 08:00:42', 'api_service': '', 'model': \"{'name': '', 'temperature': 0, 'max_tokens': 800}\", 'comment': '', 'annotations': []}, {'id': '654f07a6-6104-495d-b328-e8c067af2322', 'fragments_version': '0.01', 'instruction': 'Be faithful and a little hopeful', 'cot_trigger': \"Answer: Let's think step by step.\", 'cot_trigger_template': '', 'prompt_text': '', 'cot': '\\n1. A) is a learned behavior.\\n\\n2. B) is a learned behavior.\\n\\n3. C) is a learned behavior.\\n\\n4. D) is a learned behavior.\\n\\n5. E) is a learned behavior.\\n\\n6. F) is a learned behavior.\\n\\n7. G) is a learned behavior.\\n\\n8. H) is a learned behavior.\\n\\n9. I) is a learned behavior.\\n\\n10. J) is a learned behavior.\\n\\n11. K) is a learned behavior.\\n\\n12. L) is a learned behavior.\\n\\n13. M) is a learned behavior.\\n\\n14. N) is a learned behavior.\\n\\n15. O) is a learned behavior.\\n\\n16. P) is a learned behavior.\\n\\n17. Q) is a learned behavior.\\n\\n18. R) is a learned behavior.\\n\\n19. S) is a learned behavior.\\n\\n20. T) is a learned behavior.\\n\\n21. U) is a learned behavior.\\n\\n22. V) is a learned behavior.\\n\\n23. W) is a learned behavior.\\n\\n24.', 'answers': [], 'author': '', 'date': '2023/03/14 08:03:54', 'api_service': '', 'model': \"{'name': '', 'temperature': 0, 'max_tokens': 800}\", 'comment': 'self_reflection cot', 'annotations': []}], 'feedback': []}\n"
     ]
    }
   ],
   "source": [
    "extract = collect.extract_flexible(chain=answer_chain,input_dict=input_dict)"
   ]
  },
  {
   "cell_type": "code",
   "execution_count": 33,
   "metadata": {},
   "outputs": [],
   "source": [
    "coll = Collection.load_thoughtsource_100(names='worldtree',load_pregenerated_cots=True)\n",
    "coll = coll.select(split=\"all\", number_samples=1)\n",
    "coll.select_generated_cots(author='thoughtsource',cot_trigger = None)"
   ]
  }
 ],
 "metadata": {
  "kernelspec": {
   "display_name": "base",
   "language": "python",
   "name": "python3"
  },
  "language_info": {
   "codemirror_mode": {
    "name": "ipython",
    "version": 3
   },
   "file_extension": ".py",
   "mimetype": "text/x-python",
   "name": "python",
   "nbconvert_exporter": "python",
   "pygments_lexer": "ipython3",
   "version": "3.9.12"
  },
  "vscode": {
   "interpreter": {
    "hash": "40d3a090f54c6569ab1632332b64b2c03c39dcf918b08424e98f38b5ae0af88f"
   }
  }
 },
 "nbformat": 4,
 "nbformat_minor": 0
}
