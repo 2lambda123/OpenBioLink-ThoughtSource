{
 "cells": [
  {
   "attachments": {},
   "cell_type": "markdown",
   "metadata": {},
   "source": [
    "## Helper functions"
   ]
  },
  {
   "cell_type": "code",
   "execution_count": 1,
   "metadata": {},
   "outputs": [],
   "source": [
    "from cot import Collection"
   ]
  },
  {
   "cell_type": "code",
   "execution_count": 2,
   "metadata": {},
   "outputs": [],
   "source": [
    "\"\"\"Imports\"\"\"\n",
    "from langchain.chat_models import ChatOpenAI\n",
    "from langchain.prompts.chat import (\n",
    "    ChatPromptTemplate,\n",
    "    SystemMessagePromptTemplate,\n",
    "    AIMessagePromptTemplate,\n",
    "    HumanMessagePromptTemplate,\n",
    ")\n",
    "from langchain.schema import (\n",
    "    AIMessage,\n",
    "    HumanMessage,\n",
    "    SystemMessage\n",
    ")\n",
    "\n",
    "from cot import Collection\n",
    "import yaml"
   ]
  },
  {
   "cell_type": "code",
   "execution_count": 3,
   "metadata": {},
   "outputs": [],
   "source": [
    "# Helper functions to call OpenAI model, system also generates reasoning\n",
    "# this function lets the model reason (less frequently used than system_evaluate)\n",
    "\n",
    "def system_experiment(data,model, path_system_template):\n",
    "    chat = ChatOpenAI(\n",
    "        temperature=0,\n",
    "        model_name=model,\n",
    "        request_timeout=600,\n",
    "        max_retries=1,\n",
    "    )\n",
    "\n",
    "    human_template=\"\"\"Answer the question:{question}\\nwith the following answer options:{answer_options}\"\"\"\n",
    "    human_message_prompt = HumanMessagePromptTemplate.from_template(human_template)\n",
    "    \n",
    "    with open(path_system_template, 'r') as file:\n",
    "        template = file.read()\n",
    "    system_message_prompt = SystemMessagePromptTemplate.from_template(template)\n",
    "    \n",
    "    chat_prompt = ChatPromptTemplate.from_messages([system_message_prompt, human_message_prompt])  \n",
    "    input_dict = {'chat':chat,'chat_prompt':chat_prompt, \"api_time_interval\": 1} \n",
    "    \n",
    "    return data.system_generate(input_dict)\n",
    "\n",
    "def save_as_yaml(data, filepath):\n",
    "    with open(filepath, 'w') as file:\n",
    "        yaml.dump(data, file)"
   ]
  },
  {
   "cell_type": "code",
   "execution_count": 4,
   "metadata": {},
   "outputs": [],
   "source": [
    "def system_evaluate(data,model, path_system_template):\n",
    "    chat = ChatOpenAI(\n",
    "        temperature=0,\n",
    "        model_name=model,\n",
    "        request_timeout=600,\n",
    "        max_retries=1,\n",
    "    )\n",
    "\n",
    "    human_template=\"\"\"Answer the question:{question}\\n\n",
    "    with the following answer options:{answer_options}\\n\n",
    "    Reasoning: {reasoning}\\n\n",
    "    Answer: {answer}\"\"\"\n",
    "    human_message_prompt = HumanMessagePromptTemplate.from_template(human_template)\n",
    "    \n",
    "    with open(path_system_template, 'r') as file:\n",
    "        template = file.read()\n",
    "    system_message_prompt = SystemMessagePromptTemplate.from_template(template)\n",
    "    \n",
    "    chat_prompt = ChatPromptTemplate.from_messages([system_message_prompt, human_message_prompt])  \n",
    "    input_dict = {'chat':chat,'chat_prompt':chat_prompt, \"api_time_interval\": 1} \n",
    "    \n",
    "    return data.system_evals(input_dict)"
   ]
  },
  {
   "cell_type": "code",
   "execution_count": 28,
   "metadata": {},
   "outputs": [],
   "source": [
    "import pandas as pd\n",
    "import yaml\n",
    "\n",
    "def process_new_data(new_data,idx_cot,dataset,split):\n",
    "    scores_per_item = []\n",
    "    for item in new_data[dataset][split]:\n",
    "        try:\n",
    "            scores_per_item.append(yaml.load(item['generated_cot'][idx_cot]['cot'], Loader=yaml.FullLoader))\n",
    "        except:\n",
    "            print(\"wrong output found\")\n",
    "            continue\n",
    "\n",
    "    # Get unique keys from all dictionaries\n",
    "    keys = set().union(*scores_per_item)\n",
    "\n",
    "    # Create lists of values for each key\n",
    "    scores_per_objective = {key: [d.get(key) for d in scores_per_item] for key in keys if key != \"critique\"} #added critique\n",
    "\n",
    "    # #check values for nonetype\n",
    "    # for key, value in scores_per_objective.items():\n",
    "    #     if value is not str:\n",
    "    #         print(key,value)\n",
    "\n",
    "\n",
    "    # Calculate the average of each list\n",
    "    averaged_data = {key: sum(value) / len(value) for key, value in scores_per_objective.items() if key!=\"critique\"} #added critique\n",
    "\n",
    "    # Convert the averaged data dictionary to a Pandas DataFrame\n",
    "    df = pd.DataFrame.from_dict(averaged_data, orient='index', columns=['Average'])\n",
    "\n",
    "    # Sort the DataFrame by the index (row labels)\n",
    "    df = df.loc[['obj_1', 'obj_2', 'obj_3', 'obj_4', 'obj_5', 'obj_6', 'obj_7', 'obj_8', 'obj_9', 'obj_10', 'obj_11']]\n",
    "\n",
    "    return scores_per_item, scores_per_objective, df"
   ]
  },
  {
   "cell_type": "code",
   "execution_count": 6,
   "metadata": {},
   "outputs": [],
   "source": [
    "def parse_data(new_data,idx_cot,dataset,split):\n",
    "    scores_per_item = []\n",
    "    variables_per_item = []\n",
    "    for item in new_data[dataset][split]:\n",
    "        try:\n",
    "            data = yaml.load(item['generated_cot'][idx_cot]['cot'], Loader=yaml.FullLoader)\n",
    "            if any(isinstance(v, str) for v in data.values()):\n",
    "                new_dict = {k: v for k, v in data.items() if k.startswith('obj')}\n",
    "                scores_per_item.append(new_dict)\n",
    "                variables_per_item.append(data)\n",
    "            else:\n",
    "                scores_per_item.append(data)\n",
    "        except:\n",
    "            print(\"wrong output found\")\n",
    "            continue\n",
    "    return scores_per_item, variables_per_item"
   ]
  },
  {
   "cell_type": "code",
   "execution_count": 7,
   "metadata": {},
   "outputs": [],
   "source": [
    "def parse_lst_data(new_data,idx_cot,dataset,split):\n",
    "    scores_per_item = []\n",
    "    variables_per_item = []\n",
    "    statements_per_item = []\n",
    "    for item in new_data[dataset][split]:\n",
    "        try:\n",
    "            data = yaml.load(item['generated_cot'][idx_cot]['cot'], Loader=yaml.FullLoader)\n",
    "            #if any(isinstance(v, str) for v in data.values()):\n",
    "            new_dict = {k: v[1] for k, v in data.items() if k.startswith('obj')}\n",
    "            statement_dict = {k: v[0] for k, v in data.items() if k.startswith('obj')}\n",
    "            statements_per_item.append(statement_dict)\n",
    "            scores_per_item.append(new_dict)\n",
    "            variables_per_item.append(data)\n",
    "            # else:\n",
    "            #     scores_per_item.append(data)\n",
    "        except:\n",
    "        \n",
    "            print(\"wrong output found\")\n",
    "            continue\n",
    "    return scores_per_item, variables_per_item, statements_per_item\n"
   ]
  },
  {
   "cell_type": "code",
   "execution_count": 8,
   "metadata": {},
   "outputs": [],
   "source": [
    "def get_further_data(scores_per_item):\n",
    "# Get unique keys from all dictionaries\n",
    "    keys = set().union(*scores_per_item)\n",
    "\n",
    "    # Create lists of values for each key\n",
    "    scores_per_objective = {key: [d.get(key) for d in scores_per_item] for key in keys}\n",
    "    # scores_per_objective = {k: v for k, v in scores_per_objective.items() if not isinstance(v, str)}\n",
    "    # print(scores_per_objective)\n",
    "\n",
    "    # #check values for nonetype\n",
    "    # for key, value in scores_per_objective.items():\n",
    "    #     if value is not str:\n",
    "    #         #print(key,value)\n",
    "    #         continue\n",
    "\n",
    "\n",
    "    # Calculate the average of each list\n",
    "    #averaged_data = {key: sum(value) / len(value) for key, value in scores_per_objective.items()} \n",
    "    averaged_data = {key: (sum(v for v in value if v is not None) / len([v for v in value if v is not None])) for key, value in scores_per_objective.items() if len([v for v in value if v is not None]) > 0}\n",
    "\n",
    "    # Convert the averaged data dictionary to a Pandas DataFrame\n",
    "    df = pd.DataFrame.from_dict(averaged_data, orient='index', columns=['Average'])\n",
    "\n",
    "    # Sort the DataFrame by the index (row labels)\n",
    "    df = df.loc[['obj_1', 'obj_2', 'obj_3', 'obj_4', 'obj_5', 'obj_6', 'obj_7', 'obj_8', 'obj_9', 'obj_10', 'obj_11']]\n",
    "\n",
    "    return scores_per_objective, df"
   ]
  },
  {
   "cell_type": "code",
   "execution_count": 9,
   "metadata": {},
   "outputs": [],
   "source": [
    "def fix_none_score(scores_per_item):\n",
    "    for i,element in enumerate(scores_per_item):\n",
    "        for inner_key, value in element.items():\n",
    "            if value is None:\n",
    "                scores_per_item[i][inner_key] = 5\n",
    "    return scores_per_item\n",
    "    "
   ]
  },
  {
   "cell_type": "code",
   "execution_count": 10,
   "metadata": {},
   "outputs": [],
   "source": [
    "def fix_str_score(scores_per_item):\n",
    "    for i,element in enumerate(scores_per_item):\n",
    "        for inner_key, value in element.items():\n",
    "            if isinstance(value,str):\n",
    "                scores_per_item.pop(i)\n",
    "    return scores_per_item"
   ]
  },
  {
   "cell_type": "code",
   "execution_count": 11,
   "metadata": {},
   "outputs": [],
   "source": [
    "#helper functions for results\n",
    "import matplotlib.pyplot as plt\n",
    "from scipy.stats import ttest_ind\n",
    "import statistics\n",
    "\n",
    "def freq_bar_plot(scores_per_item): #later better axes\n",
    "    average_per_item = [sum(d.values()) / len(d) for d in scores_per_item]\n",
    "    # Create a histogram\n",
    "    plt.hist(average_per_item, bins='auto', alpha=0.7)\n",
    "    plt.xlabel('Values')\n",
    "    plt.ylabel('Frequency')\n",
    "    plt.title('Frequency of average score per item')\n",
    "    plt.show()\n",
    "\n",
    "def avg_item_plot(scores_per_objective):  #later better axes\n",
    " \n",
    "    data = scores_per_objective\n",
    "    averaged_data = {key: sum(value) / len(value) for key, value in data.items() if key!=\"critique\"} #added \"critique\"\n",
    "    sorted_data = {k: v for k, v in sorted(averaged_data.items())}\n",
    "\n",
    "    # Extract the keys (objectives) and values (averages) from the sorted dictionary\n",
    "    keys = sorted_data.keys()\n",
    "    values = sorted_data.values()\n",
    "\n",
    "    # Create a bar plot\n",
    "    plt.bar(keys, values)\n",
    "    plt.xlabel('Objectives')\n",
    "    plt.ylabel('Average')\n",
    "    # plt.ylim(7,10)\n",
    "    plt.title('Average per Objective')\n",
    "    plt.xticks(rotation=45)\n",
    "    plt.show()\n",
    "\n",
    "def avg_true_false(data,average_per_item,dataset,split):\n",
    "    item_correct = []\n",
    "    for item in data[dataset][split]:\n",
    "        item_correct.append(item['generated_cot'][0]['answers'][0]['correct_answer'])\n",
    "\n",
    "    # Example lists of scores and indicators\n",
    "    scores = average_per_item\n",
    "    indicators = item_correct\n",
    "\n",
    "    # Separate scores based on indicators\n",
    "    scores_true = [score for score, indicator in zip(scores, indicators) if indicator]\n",
    "    scores_false = [score for score, indicator in zip(scores, indicators) if not indicator]\n",
    "\n",
    "    print(\"scores true:\", statistics.mean(scores_true))\n",
    "    print(\"scores false:\", statistics.mean(scores_false))"
   ]
  },
  {
   "cell_type": "code",
   "execution_count": 12,
   "metadata": {},
   "outputs": [],
   "source": [
    "import math\n",
    "\n",
    "def standard_deviation(data):\n",
    "    # First, compute the mean for each key.\n",
    "    mean_data = {key: sum(value) / len(value) for key, value in data.items()}\n",
    "    \n",
    "    # Then, for each key, compute the sum of the squared differences from the mean.\n",
    "    variance_data = {}\n",
    "    for key, value in data.items():\n",
    "        variance_data[key] = sum((x - mean_data[key]) ** 2 for x in value) / (len(value)-1)\n",
    "    \n",
    "    # Finally, compute the standard deviation for each key.\n",
    "    standard_deviation_data = {key: math.sqrt(value) for key, value in variance_data.items()}\n",
    "    \n",
    "    return standard_deviation_data"
   ]
  },
  {
   "cell_type": "code",
   "execution_count": 13,
   "metadata": {},
   "outputs": [],
   "source": [
    "def t_test(data,scores_per_item,dataset,split):\n",
    "# find which items are correct\n",
    "    item_correct = []\n",
    "    for item in data[dataset][split]:\n",
    "        item_correct.append(item['generated_cot'][0]['answers'][0]['correct_answer'])\n",
    "\n",
    "    # Example lists of scores and indicators\n",
    "    scores = scores_per_item\n",
    "    indicators = item_correct\n",
    "\n",
    "    # Separate scores based on indicators\n",
    "    scores_true = [score for score, indicator in zip(scores, indicators) if indicator]\n",
    "    scores_false = [score for score, indicator in zip(scores, indicators) if not indicator]\n",
    "\n",
    "    keys = set().union(*scores_true)\n",
    "        # Create lists of values for each key\n",
    "    scores_per_objective_true = {key: [d.get(key) for d in scores_true] for key in keys if key != \"critique\"} \n",
    "\n",
    "    keys = set().union(*scores_false)\n",
    "        # Create lists of values for each key\n",
    "    scores_per_objective_false = {key: [d.get(key) for d in scores_false] for key in keys if key != \"critique\"} \n",
    "\n",
    "    dict_1 = scores_per_objective_true\n",
    "    dict_2 = scores_per_objective_false\n",
    "\n",
    "    # make sure both dictionaries have the same keys\n",
    "    assert dict_1.keys() == dict_2.keys()\n",
    "\n",
    "    for key in dict_1.keys():\n",
    "        t_stat, p_val = ttest_ind(dict_1[key], dict_2[key])\n",
    "        print(f\"For {key}, t-statistic is {t_stat:.2f} and the p-value is {p_val:.2f}\")"
   ]
  },
  {
   "cell_type": "code",
   "execution_count": 14,
   "metadata": {},
   "outputs": [],
   "source": [
    "from scipy.stats import mannwhitneyu\n",
    "\n",
    "def u_test(data,scores_per_item,dataset,split):\n",
    "# find which items are correct\n",
    "    item_correct = []\n",
    "    for item in data[dataset][split]:\n",
    "        item_correct.append(item['generated_cot'][0]['answers'][0]['correct_answer'])\n",
    "\n",
    "    # Example lists of scores and indicators\n",
    "    scores = scores_per_item\n",
    "    indicators = item_correct\n",
    "\n",
    "    # Separate scores based on indicators\n",
    "    scores_true = [score for score, indicator in zip(scores, indicators) if indicator]\n",
    "    scores_false = [score for score, indicator in zip(scores, indicators) if not indicator]\n",
    "\n",
    "    keys = set().union(*scores_true)\n",
    "        # Create lists of values for each key\n",
    "    scores_per_objective_true = {key: [d.get(key) for d in scores_true] for key in keys if key != \"critique\"} \n",
    "\n",
    "    keys = set().union(*scores_false)\n",
    "        # Create lists of values for each key\n",
    "    scores_per_objective_false = {key: [d.get(key) for d in scores_false] for key in keys if key != \"critique\"} \n",
    "\n",
    "    dict_1 = scores_per_objective_true\n",
    "    dict_2 = scores_per_objective_false\n",
    "\n",
    "    # make sure both dictionaries have the same keys\n",
    "    assert dict_1.keys() == dict_2.keys()\n",
    "\n",
    "    for key in dict_1.keys():\n",
    "        u_stat, p_val = mannwhitneyu(dict_1[key], dict_2[key])\n",
    "        print(f\"For {key}, U-statistic is {u_stat:.2f} and the p-value is {p_val:.2f}\")\n",
    "    return scores_per_objective_true,scores_per_objective_false"
   ]
  },
  {
   "attachments": {},
   "cell_type": "markdown",
   "metadata": {},
   "source": [
    "## Data"
   ]
  },
  {
   "cell_type": "code",
   "execution_count": 21,
   "metadata": {},
   "outputs": [
    {
     "data": {
      "application/vnd.jupyter.widget-view+json": {
       "model_id": "dd17fcd940b44ca7b334b1f6f9946e3a",
       "version_major": 2,
       "version_minor": 0
      },
      "text/plain": [
       "Creating json from Arrow format:   0%|          | 0/1 [00:00<?, ?ba/s]"
      ]
     },
     "metadata": {},
     "output_type": "display_data"
    },
    {
     "data": {
      "application/vnd.jupyter.widget-view+json": {
       "model_id": "253e3f258ea34e84ab6c8bfed85de318",
       "version_major": 2,
       "version_minor": 0
      },
      "text/plain": [
       "Creating json from Arrow format:   0%|          | 0/1 [00:00<?, ?ba/s]"
      ]
     },
     "metadata": {},
     "output_type": "display_data"
    },
    {
     "data": {
      "text/plain": [
       "| Name   | Train   | Valid   |   Test |\n",
       "|--------|---------|---------|--------|\n",
       "| med_qa | -       | -       |    500 |\n",
       "\n",
       "Not loaded: ['aqua', 'asdiv', 'commonsense_qa', 'entailment_bank', 'gsm8k', 'mawps', 'med_qa_open', 'medmc_qa', '_init_', 'mmlu_clinical_knowledge', 'mmlu_college_biology', 'mmlu_college_medicine', 'mmlu_medical_genetics', 'mmlu_professional_medicine', '_init_', 'mmlu_anatomy', 'open_book_qa', 'pubmed_qa', 'qed', 'strategy_qa', 'svamp', 'worldtree']"
      ]
     },
     "execution_count": 21,
     "metadata": {},
     "output_type": "execute_result"
    }
   ],
   "source": [
    "from cot import Collection\n",
    "med_qa_100 = Collection.from_json(\"./med_qa_100_first_gpt-3.5-turbo_gpt-3.5-turbo.json\")\n",
    "med_qa_400 = Collection.from_json(\"./med_qa_400_first_gpt-3.5-turbo_gpt-3.5-turbo.json\")\n",
    "med_qa_500 = med_qa_100.merge(med_qa_400)\n",
    "med_qa_500"
   ]
  },
  {
   "cell_type": "code",
   "execution_count": 22,
   "metadata": {},
   "outputs": [
    {
     "data": {
      "text/plain": [
       "2"
      ]
     },
     "execution_count": 22,
     "metadata": {},
     "output_type": "execute_result"
    }
   ],
   "source": [
    "# len(med_qa_400['med_qa']['test'][0]['generated_cot'])"
   ]
  },
  {
   "cell_type": "code",
   "execution_count": 24,
   "metadata": {},
   "outputs": [
    {
     "data": {
      "text/plain": [
       "| Name   | Train   | Valid   |   Test |\n",
       "|--------|---------|---------|--------|\n",
       "| med_qa | -       | -       |    500 |\n",
       "\n",
       "Not loaded: ['aqua', 'asdiv', 'commonsense_qa', 'entailment_bank', 'gsm8k', 'mawps', 'med_qa_open', 'medmc_qa', '_init_', 'mmlu_clinical_knowledge', 'mmlu_college_biology', 'mmlu_college_medicine', 'mmlu_medical_genetics', 'mmlu_professional_medicine', '_init_', 'mmlu_anatomy', 'open_book_qa', 'pubmed_qa', 'qed', 'strategy_qa', 'svamp', 'worldtree']"
      ]
     },
     "execution_count": 24,
     "metadata": {},
     "output_type": "execute_result"
    }
   ],
   "source": [
    "med_qa_500"
   ]
  },
  {
   "cell_type": "code",
   "execution_count": 39,
   "metadata": {},
   "outputs": [
    {
     "name": "stdout",
     "output_type": "stream",
     "text": [
      "58\n",
      "37\n"
     ]
    }
   ],
   "source": [
    "dataset = 'med_qa'\n",
    "split = 'test'\n",
    "item_correct = []\n",
    "for item in med_qa_100[dataset][split]:\n",
    "    item_correct.append(item['generated_cot'][0]['answers'][0]['correct_answer'])\n",
    "len(item_correct)\n",
    "print(item_correct.count(True))\n",
    "print(item_correct.count(False))\n"
   ]
  },
  {
   "cell_type": "code",
   "execution_count": 40,
   "metadata": {},
   "outputs": [
    {
     "name": "stdout",
     "output_type": "stream",
     "text": [
      "236\n",
      "141\n"
     ]
    }
   ],
   "source": [
    "dataset = 'med_qa'\n",
    "split = 'test'\n",
    "item_correct = []\n",
    "for item in med_qa_400[dataset][split]:\n",
    "    item_correct.append(item['generated_cot'][0]['answers'][0]['correct_answer'])\n",
    "len(item_correct)\n",
    "print(item_correct.count(True))\n",
    "print(item_correct.count(False))"
   ]
  },
  {
   "cell_type": "code",
   "execution_count": 51,
   "metadata": {},
   "outputs": [
    {
     "name": "stdout",
     "output_type": "stream",
     "text": [
      "294\n",
      "178\n",
      "None\n",
      "None\n",
      "None\n",
      "None\n",
      "None\n",
      "None\n",
      "None\n",
      "None\n",
      "None\n",
      "None\n",
      "None\n",
      "None\n",
      "None\n",
      "None\n",
      "None\n",
      "None\n",
      "None\n",
      "None\n",
      "None\n",
      "None\n",
      "None\n",
      "None\n",
      "None\n",
      "None\n",
      "None\n",
      "None\n",
      "None\n",
      "None\n"
     ]
    }
   ],
   "source": [
    "dataset = 'med_qa'\n",
    "split = 'test'\n",
    "item_correct = []\n",
    "for item in med_qa_500[dataset][split]:\n",
    "    item_correct.append(item['generated_cot'][0]['answers'][0]['correct_answer'])\n",
    "len(item_correct)\n",
    "for item in item_correct:\n",
    "    if item != True and item != False:\n",
    "        print(item)"
   ]
  },
  {
   "cell_type": "code",
   "execution_count": 52,
   "metadata": {},
   "outputs": [
    {
     "name": "stdout",
     "output_type": "stream",
     "text": [
      "294\n",
      "178\n"
     ]
    }
   ],
   "source": [
    "print(item_correct.count(True))\n",
    "print(item_correct.count(False))"
   ]
  },
  {
   "cell_type": "code",
   "execution_count": 42,
   "metadata": {},
   "outputs": [
    {
     "data": {
      "application/vnd.jupyter.widget-view+json": {
       "model_id": "ee3aefde96654c4c940fb8496b06fc1d",
       "version_major": 2,
       "version_minor": 0
      },
      "text/plain": [
       "  0%|          | 0/1 [00:00<?, ?ba/s]"
      ]
     },
     "metadata": {},
     "output_type": "display_data"
    }
   ],
   "source": [
    "med_qa_400 = med_qa_400.filter(lambda ex: ex['id'] not in med_qa_100)"
   ]
  },
  {
   "cell_type": "code",
   "execution_count": 43,
   "metadata": {},
   "outputs": [
    {
     "data": {
      "text/plain": [
       "| Name   | Train   | Valid   |   Test |\n",
       "|--------|---------|---------|--------|\n",
       "| med_qa | -       | -       |    400 |\n",
       "\n",
       "Not loaded: ['aqua', 'asdiv', 'commonsense_qa', 'entailment_bank', 'gsm8k', 'mawps', 'med_qa_open', 'medmc_qa', '_init_', 'mmlu_clinical_knowledge', 'mmlu_college_biology', 'mmlu_college_medicine', 'mmlu_medical_genetics', 'mmlu_professional_medicine', '_init_', 'mmlu_anatomy', 'open_book_qa', 'pubmed_qa', 'qed', 'strategy_qa', 'svamp', 'worldtree']"
      ]
     },
     "execution_count": 43,
     "metadata": {},
     "output_type": "execute_result"
    }
   ],
   "source": [
    "med_qa_400"
   ]
  },
  {
   "cell_type": "code",
   "execution_count": 46,
   "metadata": {},
   "outputs": [
    {
     "data": {
      "text/plain": [
       "True"
      ]
     },
     "execution_count": 46,
     "metadata": {},
     "output_type": "execute_result"
    }
   ],
   "source": [
    "med_qa_100['med_qa']['test'][0]['generated_cot'][0]['answers'][0]['correct_answer']"
   ]
  },
  {
   "cell_type": "code",
   "execution_count": 47,
   "metadata": {},
   "outputs": [
    {
     "data": {
      "text/plain": [
       "True"
      ]
     },
     "execution_count": 47,
     "metadata": {},
     "output_type": "execute_result"
    }
   ],
   "source": [
    "med_qa_400['med_qa']['test'][0]['generated_cot'][0]['answers'][0]['correct_answer']"
   ]
  },
  {
   "attachments": {},
   "cell_type": "markdown",
   "metadata": {},
   "source": [
    "## Evaluate Reflection"
   ]
  },
  {
   "cell_type": "code",
   "execution_count": 29,
   "metadata": {},
   "outputs": [
    {
     "name": "stdout",
     "output_type": "stream",
     "text": [
      "          Average\n",
      "obj_1   90.454545\n",
      "obj_2   96.262626\n",
      "obj_3   91.262626\n",
      "obj_4   90.050505\n",
      "obj_5   84.343434\n",
      "obj_6   86.767677\n",
      "obj_7   86.161616\n",
      "obj_8   92.373737\n",
      "obj_9   78.181818\n",
      "obj_10  88.080808\n",
      "obj_11  94.949495\n",
      "scores true: 89.78056426332289\n",
      "scores false: 87.87139689578714\n"
     ]
    },
    {
     "data": {
      "image/png": "[encoded data removed]",
      "text/plain": [
       "<Figure size 640x480 with 1 Axes>"
      ]
     },
     "metadata": {},
     "output_type": "display_data"
    },
    {
     "data": {
      "image/png": "[encoded data removed]",
      "text/plain": [
       "<Figure size 640x480 with 1 Axes>"
      ]
     },
     "metadata": {},
     "output_type": "display_data"
    },
    {
     "name": "stdout",
     "output_type": "stream",
     "text": [
      "{'obj_7': (50, 100), 'obj_1': (50, 100), 'obj_9': (40, 100), 'obj_10': (50, 100), 'obj_4': (50, 100), 'obj_8': (60, 100), 'obj_3': (50, 100), 'obj_6': (50, 100), 'obj_2': (60, 100), 'obj_11': (0, 100), 'obj_5': (50, 100)}\n",
      "{'obj_7': 11.754900906453967, 'obj_1': 10.103820985932504, 'obj_9': 12.62598845301168, 'obj_10': 9.441200165489128, 'obj_4': 9.271828890074005, 'obj_8': 7.770412037752322, 'obj_3': 9.485311801471786, 'obj_6': 9.982462461357615, 'obj_2': 5.9907852004623585, 'obj_11': 12.807343028770916, 'obj_5': 12.17739761093177}\n",
      "For obj_7, U-statistic is 1392.00 and the p-value is 0.13\n",
      "For obj_1, U-statistic is 1175.00 and the p-value is 0.92\n",
      "For obj_9, U-statistic is 1282.50 and the p-value is 0.49\n",
      "For obj_10, U-statistic is 1295.50 and the p-value is 0.43\n",
      "For obj_4, U-statistic is 1209.00 and the p-value is 0.88\n",
      "For obj_8, U-statistic is 1383.50 and the p-value is 0.14\n",
      "For obj_3, U-statistic is 1416.50 and the p-value is 0.09\n",
      "For obj_6, U-statistic is 1224.00 and the p-value is 0.80\n",
      "For obj_2, U-statistic is 1244.00 and the p-value is 0.64\n",
      "For obj_11, U-statistic is 1223.00 and the p-value is 0.77\n",
      "For obj_5, U-statistic is 1293.00 and the p-value is 0.45\n"
     ]
    }
   ],
   "source": [
    "data = med_qa_100\n",
    "scores_per_item, variables_per_item = parse_data(data,idx_cot=1,dataset='med_qa',split='test')\n",
    "scores_per_item = fix_str_score(scores_per_item)\n",
    "scores_per_objective, df = get_further_data(scores_per_item)\n",
    "average_per_item = [sum(d.values()) / len(d) for d in scores_per_item]\n",
    "\n",
    "print(df)\n",
    "\n",
    "avg_true_false(data,average_per_item,'med_qa','test')\n",
    "freq_bar_plot(scores_per_item)\n",
    "avg_item_plot(scores_per_objective)\n",
    "\n",
    "range_data = {key: (min(value),max(value)) for key, value in scores_per_objective.items()}\n",
    "print(range_data)\n",
    "\n",
    "print(standard_deviation(scores_per_objective))\n",
    "\n",
    "scores_per_objective_true,scores_per_objective_false = u_test(data,scores_per_item,'med_qa','test')"
   ]
  },
  {
   "cell_type": "code",
   "execution_count": 33,
   "metadata": {},
   "outputs": [
    {
     "name": "stdout",
     "output_type": "stream",
     "text": [
      "wrong output found\n",
      "          Average\n",
      "obj_1   88.878866\n",
      "obj_2   95.399485\n",
      "obj_3   90.244845\n",
      "obj_4   87.641753\n",
      "obj_5   82.074742\n",
      "obj_6   85.141753\n",
      "obj_7   84.033505\n",
      "obj_8   91.481959\n",
      "obj_9   77.010309\n",
      "obj_10  86.881443\n",
      "obj_11  94.948454\n",
      "scores true: 88.2939787485242\n",
      "scores false: 86.60972785176607\n"
     ]
    },
    {
     "data": {
      "image/png": "[encoded data removed]",
      "text/plain": [
       "<Figure size 640x480 with 1 Axes>"
      ]
     },
     "metadata": {},
     "output_type": "display_data"
    },
    {
     "data": {
      "image/png": "[encoded data removed]",
      "text/plain": [
       "<Figure size 640x480 with 1 Axes>"
      ]
     },
     "metadata": {},
     "output_type": "display_data"
    },
    {
     "name": "stdout",
     "output_type": "stream",
     "text": [
      "{'obj_7': (50, 100), 'obj_1': (50, 100), 'obj_9': (0, 100), 'obj_10': (50, 100), 'obj_4': (0, 100), 'obj_8': (0, 100), 'obj_3': (50, 100), 'obj_6': (50, 100), 'obj_2': (50, 100), 'obj_11': (0, 100), 'obj_5': (50, 100)}\n",
      "{'obj_7': 12.385137841854249, 'obj_1': 9.689935467105503, 'obj_9': 13.160896465276684, 'obj_10': 9.28678124658062, 'obj_4': 10.524636239793159, 'obj_8': 8.659936819287815, 'obj_3': 9.711835089358658, 'obj_6': 10.00222244144176, 'obj_2': 6.01743373686309, 'obj_11': 9.078891819614393, 'obj_5': 12.237405324687476}\n",
      "For obj_7, U-statistic is 18679.00 and the p-value is 0.60\n",
      "For obj_1, U-statistic is 20060.50 and the p-value is 0.06\n",
      "For obj_9, U-statistic is 18831.50 and the p-value is 0.50\n",
      "For obj_10, U-statistic is 19441.50 and the p-value is 0.20\n",
      "For obj_4, U-statistic is 20207.00 and the p-value is 0.04\n",
      "For obj_8, U-statistic is 20166.50 and the p-value is 0.04\n",
      "For obj_3, U-statistic is 20019.00 and the p-value is 0.07\n",
      "For obj_6, U-statistic is 18943.00 and the p-value is 0.43\n",
      "For obj_2, U-statistic is 19469.00 and the p-value is 0.15\n",
      "For obj_11, U-statistic is 19450.50 and the p-value is 0.16\n",
      "For obj_5, U-statistic is 19566.50 and the p-value is 0.17\n"
     ]
    }
   ],
   "source": [
    "data = med_qa_400\n",
    "scores_per_item, variables_per_item = parse_data(data,idx_cot=1,dataset='med_qa',split='test')\n",
    "scores_per_item = fix_str_score(scores_per_item)\n",
    "scores_per_objective, df = get_further_data(scores_per_item)\n",
    "average_per_item = [sum(d.values()) / len(d) for d in scores_per_item]\n",
    "\n",
    "print(df)\n",
    "\n",
    "avg_true_false(data,average_per_item,'med_qa','test')\n",
    "freq_bar_plot(scores_per_item)\n",
    "avg_item_plot(scores_per_objective)\n",
    "\n",
    "range_data = {key: (min(value),max(value)) for key, value in scores_per_objective.items()}\n",
    "print(range_data)\n",
    "\n",
    "print(standard_deviation(scores_per_objective))\n",
    "\n",
    "scores_per_objective_true,scores_per_objective_false = u_test(data,scores_per_item,'med_qa','test')"
   ]
  },
  {
   "cell_type": "code",
   "execution_count": 50,
   "metadata": {},
   "outputs": [
    {
     "name": "stdout",
     "output_type": "stream",
     "text": [
      "wrong output found\n",
      "          Average\n",
      "obj_1   89.199179\n",
      "obj_2   95.574949\n",
      "obj_3   90.451745\n",
      "obj_4   88.131417\n",
      "obj_5   82.535934\n",
      "obj_6   85.472279\n",
      "obj_7   84.466119\n",
      "obj_8   91.663244\n",
      "obj_9   77.248460\n",
      "obj_10  87.125257\n",
      "obj_11  94.948665\n",
      "scores true: 87.85827020202021\n",
      "scores false: 87.9419826404751\n"
     ]
    },
    {
     "data": {
      "image/png": "[encoded data removed]",
      "text/plain": [
       "<Figure size 640x480 with 1 Axes>"
      ]
     },
     "metadata": {},
     "output_type": "display_data"
    },
    {
     "data": {
      "image/png": "[encoded data removed]",
      "text/plain": [
       "<Figure size 640x480 with 1 Axes>"
      ]
     },
     "metadata": {},
     "output_type": "display_data"
    },
    {
     "name": "stdout",
     "output_type": "stream",
     "text": [
      "{'obj_7': (50, 100), 'obj_1': (50, 100), 'obj_9': (0, 100), 'obj_10': (50, 100), 'obj_4': (0, 100), 'obj_8': (0, 100), 'obj_3': (50, 100), 'obj_6': (50, 100), 'obj_2': (50, 100), 'obj_11': (0, 100), 'obj_5': (50, 100)}\n",
      "{'obj_7': 12.277751882417183, 'obj_1': 9.785527197543535, 'obj_9': 13.049678452195582, 'obj_10': 9.321129515144495, 'obj_4': 10.318945511330442, 'obj_8': 8.486587344813966, 'obj_3': 9.66524212752038, 'obj_6': 10.009396384782459, 'obj_2': 6.015927825384887, 'obj_11': 9.935358629438705, 'obj_5': 12.246870865141155}\n",
      "For obj_7, U-statistic is 29647.50 and the p-value is 0.50\n",
      "For obj_1, U-statistic is 26733.50 and the p-value is 0.18\n",
      "For obj_9, U-statistic is 29405.00 and the p-value is 0.61\n",
      "For obj_10, U-statistic is 29019.00 and the p-value is 0.80\n",
      "For obj_4, U-statistic is 27594.00 and the p-value is 0.47\n",
      "For obj_8, U-statistic is 29112.50 and the p-value is 0.75\n",
      "For obj_3, U-statistic is 29522.00 and the p-value is 0.55\n",
      "For obj_6, U-statistic is 28672.00 and the p-value is 0.99\n",
      "For obj_2, U-statistic is 26732.00 and the p-value is 0.14\n",
      "For obj_11, U-statistic is 27333.50 and the p-value is 0.31\n",
      "For obj_5, U-statistic is 27888.00 and the p-value is 0.60\n"
     ]
    }
   ],
   "source": [
    "data = med_qa_500\n",
    "scores_per_item, variables_per_item = parse_data(data,idx_cot=1,dataset='med_qa',split='test')\n",
    "scores_per_item = fix_str_score(scores_per_item)\n",
    "scores_per_objective, df = get_further_data(scores_per_item)\n",
    "average_per_item = [sum(d.values()) / len(d) for d in scores_per_item]\n",
    "\n",
    "print(df)\n",
    "\n",
    "avg_true_false(data,average_per_item,'med_qa','test')\n",
    "freq_bar_plot(scores_per_item)\n",
    "avg_item_plot(scores_per_objective)\n",
    "\n",
    "range_data = {key: (min(value),max(value)) for key, value in scores_per_objective.items()}\n",
    "print(range_data)\n",
    "\n",
    "print(standard_deviation(scores_per_objective))\n",
    "\n",
    "scores_per_objective_true,scores_per_objective_false = u_test(data,scores_per_item,'med_qa','test')"
   ]
  },
  {
   "cell_type": "code",
   "execution_count": 72,
   "metadata": {},
   "outputs": [
    {
     "name": "stdout",
     "output_type": "stream",
     "text": [
      "          Average\n",
      "obj_1   90.454545\n",
      "obj_2   96.262626\n",
      "obj_3   91.262626\n",
      "obj_4   90.050505\n",
      "obj_5   84.343434\n",
      "obj_6   86.767677\n",
      "obj_7   86.161616\n",
      "obj_8   92.373737\n",
      "obj_9   78.181818\n",
      "obj_10  88.080808\n",
      "obj_11  94.949495\n",
      "scores true: 89.78056426332289\n",
      "scores false: 87.87139689578714\n"
     ]
    },
    {
     "data": {
      "image/png": "[encoded data removed]",
      "text/plain": [
       "<Figure size 432x288 with 1 Axes>"
      ]
     },
     "metadata": {
      "needs_background": "light"
     },
     "output_type": "display_data"
    },
    {
     "data": {
      "image/png": "[encoded data removed]",
      "text/plain": [
       "<Figure size 432x288 with 1 Axes>"
      ]
     },
     "metadata": {
      "needs_background": "light"
     },
     "output_type": "display_data"
    },
    {
     "name": "stdout",
     "output_type": "stream",
     "text": [
      "{'obj_6': (50, 100), 'obj_8': (60, 100), 'obj_4': (50, 100), 'obj_2': (60, 100), 'obj_9': (40, 100), 'obj_5': (50, 100), 'obj_7': (50, 100), 'obj_10': (50, 100), 'obj_1': (50, 100), 'obj_11': (0, 100), 'obj_3': (50, 100)}\n",
      "{'obj_6': 9.982462461357615, 'obj_8': 7.770412037752322, 'obj_4': 9.271828890074005, 'obj_2': 5.9907852004623585, 'obj_9': 12.62598845301168, 'obj_5': 12.17739761093177, 'obj_7': 11.754900906453967, 'obj_10': 9.441200165489128, 'obj_1': 10.103820985932504, 'obj_11': 12.807343028770916, 'obj_3': 9.485311801471786}\n",
      "For obj_6, t-statistic is 0.46 and the p-value is 0.65\n",
      "For obj_8, t-statistic is 1.38 and the p-value is 0.17\n",
      "For obj_4, t-statistic is 0.59 and the p-value is 0.55\n",
      "For obj_2, t-statistic is 0.91 and the p-value is 0.36\n",
      "For obj_9, t-statistic is 0.73 and the p-value is 0.47\n",
      "For obj_5, t-statistic is 0.97 and the p-value is 0.33\n",
      "For obj_7, t-statistic is 1.80 and the p-value is 0.07\n",
      "For obj_10, t-statistic is 1.11 and the p-value is 0.27\n",
      "For obj_1, t-statistic is 0.17 and the p-value is 0.86\n",
      "For obj_11, t-statistic is 0.52 and the p-value is 0.60\n",
      "For obj_3, t-statistic is 1.67 and the p-value is 0.10\n"
     ]
    }
   ],
   "source": [
    "data = Collection.from_json(\"./med_qa_first_gpt-3.5-turbo_gpt-3.5-turbo.json\")\n",
    "scores_per_item, variables_per_item = parse_data(data,idx_cot=1,dataset='med_qa',split='test')\n",
    "scores_per_item = fix_str_score(scores_per_item)\n",
    "scores_per_objective, df = get_further_data(scores_per_item)\n",
    "average_per_item = [sum(d.values()) / len(d) for d in scores_per_item]\n",
    "\n",
    "print(df)\n",
    "\n",
    "avg_true_false(data,average_per_item,'med_qa','test')\n",
    "freq_bar_plot(scores_per_item)\n",
    "avg_item_plot(scores_per_objective)\n",
    "\n",
    "range_data = {key: (min(value),max(value)) for key, value in scores_per_objective.items()}\n",
    "print(range_data)\n",
    "\n",
    "print(standard_deviation(scores_per_objective))\n",
    "\n",
    "t_test(data,scores_per_item,'med_qa','test')"
   ]
  },
  {
   "cell_type": "code",
   "execution_count": 142,
   "metadata": {},
   "outputs": [
    {
     "name": "stdout",
     "output_type": "stream",
     "text": [
      "        Average\n",
      "obj_1     96.60\n",
      "obj_2     92.40\n",
      "obj_3     98.70\n",
      "obj_4     92.00\n",
      "obj_5     95.90\n",
      "obj_6     94.10\n",
      "obj_7     85.70\n",
      "obj_8     88.60\n",
      "obj_9     89.80\n",
      "obj_10    94.75\n",
      "obj_11    84.40\n",
      "scores true: 96.40282131661442\n",
      "scores false: 86.12554112554113\n"
     ]
    },
    {
     "data": {
      "image/png": "[encoded data removed]",
      "text/plain": [
       "<Figure size 432x288 with 1 Axes>"
      ]
     },
     "metadata": {
      "needs_background": "light"
     },
     "output_type": "display_data"
    },
    {
     "data": {
      "image/png": "[encoded data removed]",
      "text/plain": [
       "<Figure size 432x288 with 1 Axes>"
      ]
     },
     "metadata": {
      "needs_background": "light"
     },
     "output_type": "display_data"
    },
    {
     "name": "stdout",
     "output_type": "stream",
     "text": [
      "{'obj_6': (30, 100), 'obj_8': (20, 100), 'obj_4': (40, 100), 'obj_2': (40, 100), 'obj_9': (0, 100), 'obj_5': (60, 100), 'obj_7': (30, 100), 'obj_10': (40, 100), 'obj_1': (50, 100), 'obj_11': (0, 100), 'obj_3': (0, 100)}\n",
      "{'obj_6': 11.200198410940953, 'obj_8': 17.131104677595868, 'obj_4': 12.949006435891816, 'obj_2': 11.730991501836568, 'obj_9': 13.1794146189036, 'obj_5': 8.052228501376751, 'obj_7': 12.165109904554864, 'obj_10': 9.933490948515654, 'obj_1': 8.067893720848657, 'obj_11': 32.76238296238138, 'obj_3': 10.215357818184128}\n",
      "For obj_6, t-statistic is 4.37 and the p-value is 0.00\n",
      "For obj_8, t-statistic is 6.10 and the p-value is 0.00\n",
      "For obj_4, t-statistic is 5.16 and the p-value is 0.00\n",
      "For obj_2, t-statistic is 5.03 and the p-value is 0.00\n",
      "For obj_9, t-statistic is 1.26 and the p-value is 0.21\n",
      "For obj_5, t-statistic is 2.80 and the p-value is 0.01\n",
      "For obj_7, t-statistic is 3.70 and the p-value is 0.00\n",
      "For obj_10, t-statistic is 3.92 and the p-value is 0.00\n",
      "For obj_1, t-statistic is 3.36 and the p-value is 0.00\n",
      "For obj_11, t-statistic is 5.44 and the p-value is 0.00\n",
      "For obj_3, t-statistic is 1.10 and the p-value is 0.27\n"
     ]
    }
   ],
   "source": [
    "#note idx-2 \n",
    "data = Collection.from_json(\"./med_qa_first_gpt-3.5-turbo_gpt-4.json\")\n",
    "scores_per_item, variables_per_item = parse_data(data,idx_cot=2,dataset='med_qa',split='test')\n",
    "scores_per_item = fix_str_score(scores_per_item)\n",
    "scores_per_objective, df = get_further_data(scores_per_item)\n",
    "average_per_item = [sum(d.values()) / len(d) for d in scores_per_item]\n",
    "\n",
    "print(df)\n",
    "\n",
    "avg_true_false(data,average_per_item,'med_qa','test')\n",
    "freq_bar_plot(scores_per_item)\n",
    "avg_item_plot(scores_per_objective)\n",
    "\n",
    "range_data = {key: (min(value),max(value)) for key, value in scores_per_objective.items()}\n",
    "print(range_data)\n",
    "\n",
    "print(standard_deviation(scores_per_objective))\n",
    "\n",
    "t_test(data,scores_per_item,'med_qa','test')"
   ]
  },
  {
   "cell_type": "code",
   "execution_count": 74,
   "metadata": {},
   "outputs": [
    {
     "name": "stdout",
     "output_type": "stream",
     "text": [
      "        Average\n",
      "obj_1     99.45\n",
      "obj_2     98.30\n",
      "obj_3    100.00\n",
      "obj_4     98.20\n",
      "obj_5     99.50\n",
      "obj_6     98.30\n",
      "obj_7     90.50\n",
      "obj_8     97.95\n",
      "obj_9     93.90\n",
      "obj_10    99.15\n",
      "obj_11    98.50\n",
      "scores true: 97.96857463524131\n",
      "scores false: 96.10047846889952\n"
     ]
    },
    {
     "data": {
      "image/png": "[encoded data removed]",
      "text/plain": [
       "<Figure size 432x288 with 1 Axes>"
      ]
     },
     "metadata": {
      "needs_background": "light"
     },
     "output_type": "display_data"
    },
    {
     "data": {
      "image/png": "[encoded data removed]",
      "text/plain": [
       "<Figure size 432x288 with 1 Axes>"
      ]
     },
     "metadata": {
      "needs_background": "light"
     },
     "output_type": "display_data"
    },
    {
     "name": "stdout",
     "output_type": "stream",
     "text": [
      "{'obj_6': (70, 100), 'obj_8': (70, 100), 'obj_4': (70, 100), 'obj_2': (70, 100), 'obj_9': (70, 100), 'obj_5': (90, 100), 'obj_7': (60, 100), 'obj_10': (80, 100), 'obj_1': (90, 100), 'obj_11': (50, 100), 'obj_3': (100, 100)}\n",
      "{'obj_6': 5.135536717202729, 'obj_8': 5.90732296784801, 'obj_4': 5.389852043470677, 'obj_2': 5.135536717202729, 'obj_9': 5.84220105194208, 'obj_5': 2.190429135575903, 'obj_7': 7.571210756756962, 'obj_10': 3.557251804980975, 'obj_1': 2.2355032425551866, 'obj_11': 7.571210756756962, 'obj_3': 0.0}\n",
      "For obj_6, t-statistic is 2.98 and the p-value is 0.00\n",
      "For obj_8, t-statistic is 1.79 and the p-value is 0.08\n",
      "For obj_4, t-statistic is 2.21 and the p-value is 0.03\n",
      "For obj_2, t-statistic is 2.43 and the p-value is 0.02\n",
      "For obj_9, t-statistic is 0.18 and the p-value is 0.86\n",
      "For obj_5, t-statistic is 2.44 and the p-value is 0.02\n",
      "For obj_7, t-statistic is 2.40 and the p-value is 0.02\n",
      "For obj_10, t-statistic is 2.10 and the p-value is 0.04\n",
      "For obj_1, t-statistic is 2.28 and the p-value is 0.03\n",
      "For obj_11, t-statistic is -0.62 and the p-value is 0.54\n",
      "For obj_3, t-statistic is nan and the p-value is nan\n"
     ]
    }
   ],
   "source": [
    "# Very low p-values - what is going on? Either mistake in code or a real difference?\n",
    "data = Collection.from_json(\"./med_qa_first_gpt-4_gpt-4.json\")\n",
    "scores_per_item, variables_per_item = parse_data(data,idx_cot=1,dataset='med_qa',split='test')\n",
    "scores_per_item = fix_str_score(scores_per_item)\n",
    "scores_per_objective, df = get_further_data(scores_per_item)\n",
    "average_per_item = [sum(d.values()) / len(d) for d in scores_per_item]\n",
    "\n",
    "print(df)\n",
    "\n",
    "avg_true_false(data,average_per_item,'med_qa','test')\n",
    "freq_bar_plot(scores_per_item)\n",
    "avg_item_plot(scores_per_objective)\n",
    "\n",
    "range_data = {key: (min(value),max(value)) for key, value in scores_per_objective.items()}\n",
    "print(range_data)\n",
    "\n",
    "print(standard_deviation(scores_per_objective))\n",
    "\n",
    "t_test(data,scores_per_item,'med_qa','test')"
   ]
  },
  {
   "cell_type": "code",
   "execution_count": 78,
   "metadata": {},
   "outputs": [
    {
     "name": "stdout",
     "output_type": "stream",
     "text": [
      "        Average\n",
      "obj_1     59.00\n",
      "obj_2     75.50\n",
      "obj_3     59.10\n",
      "obj_4     52.15\n",
      "obj_5     55.70\n",
      "obj_6     55.05\n",
      "obj_7     52.05\n",
      "obj_8     60.00\n",
      "obj_9     36.60\n",
      "obj_10    58.70\n",
      "obj_11    63.50\n",
      "scores true: 61.81818181818182\n",
      "scores false: 54.779411764705884\n"
     ]
    },
    {
     "data": {
      "image/png": "[encoded data removed]",
      "text/plain": [
       "<Figure size 432x288 with 1 Axes>"
      ]
     },
     "metadata": {
      "needs_background": "light"
     },
     "output_type": "display_data"
    },
    {
     "data": {
      "image/png": "[encoded data removed]",
      "text/plain": [
       "<Figure size 432x288 with 1 Axes>"
      ]
     },
     "metadata": {
      "needs_background": "light"
     },
     "output_type": "display_data"
    },
    {
     "name": "stdout",
     "output_type": "stream",
     "text": [
      "{'obj_6': (0, 100), 'obj_8': (0, 100), 'obj_4': (0, 100), 'obj_2': (25, 100), 'obj_9': (0, 80), 'obj_5': (0, 100), 'obj_7': (0, 100), 'obj_10': (0, 100), 'obj_1': (0, 100), 'obj_11': (0, 100), 'obj_3': (0, 100)}\n",
      "{'obj_6': 22.24172755080965, 'obj_8': 25.34608929251695, 'obj_4': 23.871023387692382, 'obj_2': 18.16729217716567, 'obj_9': 25.848040779161803, 'obj_5': 19.18832768096062, 'obj_7': 21.20242743869034, 'obj_10': 21.551207517318968, 'obj_1': 23.148619523820116, 'obj_11': 35.230123703467406, 'obj_3': 27.278770374254627}\n",
      "For obj_6, t-statistic is 1.24 and the p-value is 0.22\n",
      "For obj_8, t-statistic is 1.97 and the p-value is 0.05\n",
      "For obj_4, t-statistic is 1.59 and the p-value is 0.11\n",
      "For obj_2, t-statistic is 0.81 and the p-value is 0.42\n",
      "For obj_9, t-statistic is 1.24 and the p-value is 0.22\n",
      "For obj_5, t-statistic is 0.75 and the p-value is 0.45\n",
      "For obj_7, t-statistic is 1.16 and the p-value is 0.25\n",
      "For obj_10, t-statistic is 1.42 and the p-value is 0.16\n",
      "For obj_1, t-statistic is 1.41 and the p-value is 0.16\n",
      "For obj_11, t-statistic is 2.09 and the p-value is 0.04\n",
      "For obj_3, t-statistic is 0.93 and the p-value is 0.35\n"
     ]
    }
   ],
   "source": [
    "data = Collection.from_json(\"./med_qa_second_cohere_gpt-3.5-turbo.json\")\n",
    "scores_per_item, variables_per_item = parse_data(data,idx_cot=1,dataset='med_qa',split='test')\n",
    "scores_per_item = fix_str_score(scores_per_item)\n",
    "scores_per_objective, df = get_further_data(scores_per_item)\n",
    "average_per_item = [sum(d.values()) / len(d) for d in scores_per_item]\n",
    "\n",
    "print(df)\n",
    "\n",
    "avg_true_false(data,average_per_item,'med_qa','test')\n",
    "freq_bar_plot(scores_per_item)\n",
    "avg_item_plot(scores_per_objective)\n",
    "\n",
    "range_data = {key: (min(value),max(value)) for key, value in scores_per_objective.items()}\n",
    "print(range_data)\n",
    "\n",
    "print(standard_deviation(scores_per_objective))\n",
    "\n",
    "t_test(data,scores_per_item,'med_qa','test')"
   ]
  },
  {
   "cell_type": "code",
   "execution_count": 75,
   "metadata": {},
   "outputs": [
    {
     "name": "stdout",
     "output_type": "stream",
     "text": [
      "          Average\n",
      "obj_1   90.454545\n",
      "obj_2   96.262626\n",
      "obj_3   91.262626\n",
      "obj_4   90.050505\n",
      "obj_5   84.343434\n",
      "obj_6   86.767677\n",
      "obj_7   86.161616\n",
      "obj_8   92.373737\n",
      "obj_9   78.181818\n",
      "obj_10  88.080808\n",
      "obj_11  94.949495\n",
      "scores true: 89.78056426332289\n",
      "scores false: 87.87139689578714\n"
     ]
    },
    {
     "data": {
      "image/png": "[encoded data removed]",
      "text/plain": [
       "<Figure size 432x288 with 1 Axes>"
      ]
     },
     "metadata": {
      "needs_background": "light"
     },
     "output_type": "display_data"
    },
    {
     "data": {
      "image/png": "[encoded data removed]",
      "text/plain": [
       "<Figure size 432x288 with 1 Axes>"
      ]
     },
     "metadata": {
      "needs_background": "light"
     },
     "output_type": "display_data"
    },
    {
     "name": "stdout",
     "output_type": "stream",
     "text": [
      "{'obj_6': (50, 100), 'obj_8': (60, 100), 'obj_4': (50, 100), 'obj_2': (60, 100), 'obj_9': (40, 100), 'obj_5': (50, 100), 'obj_7': (50, 100), 'obj_10': (50, 100), 'obj_1': (50, 100), 'obj_11': (0, 100), 'obj_3': (50, 100)}\n",
      "{'obj_6': 9.982462461357615, 'obj_8': 7.770412037752322, 'obj_4': 9.271828890074005, 'obj_2': 5.9907852004623585, 'obj_9': 12.62598845301168, 'obj_5': 12.17739761093177, 'obj_7': 11.754900906453967, 'obj_10': 9.441200165489128, 'obj_1': 10.103820985932504, 'obj_11': 12.807343028770916, 'obj_3': 9.485311801471786}\n",
      "For obj_6, t-statistic is 0.46 and the p-value is 0.65\n",
      "For obj_8, t-statistic is 1.38 and the p-value is 0.17\n",
      "For obj_4, t-statistic is 0.59 and the p-value is 0.55\n",
      "For obj_2, t-statistic is 0.91 and the p-value is 0.36\n",
      "For obj_9, t-statistic is 0.73 and the p-value is 0.47\n",
      "For obj_5, t-statistic is 0.97 and the p-value is 0.33\n",
      "For obj_7, t-statistic is 1.80 and the p-value is 0.07\n",
      "For obj_10, t-statistic is 1.11 and the p-value is 0.27\n",
      "For obj_1, t-statistic is 0.17 and the p-value is 0.86\n",
      "For obj_11, t-statistic is 0.52 and the p-value is 0.60\n",
      "For obj_3, t-statistic is 1.67 and the p-value is 0.10\n"
     ]
    }
   ],
   "source": [
    "data = Collection.from_json(\"./med_qa_second_gpt-3.5-turbo_gpt-3.5-turbo.json\")\n",
    "scores_per_item, variables_per_item = parse_data(data,idx_cot=1,dataset='med_qa',split='test')\n",
    "scores_per_item = fix_str_score(scores_per_item)\n",
    "scores_per_objective, df = get_further_data(scores_per_item)\n",
    "average_per_item = [sum(d.values()) / len(d) for d in scores_per_item]\n",
    "\n",
    "print(df)\n",
    "\n",
    "avg_true_false(data,average_per_item,'med_qa','test')\n",
    "freq_bar_plot(scores_per_item)\n",
    "avg_item_plot(scores_per_objective)\n",
    "\n",
    "range_data = {key: (min(value),max(value)) for key, value in scores_per_objective.items()}\n",
    "print(range_data)\n",
    "\n",
    "print(standard_deviation(scores_per_objective))\n",
    "\n",
    "t_test(data,scores_per_item,'med_qa','test')"
   ]
  },
  {
   "cell_type": "code",
   "execution_count": 143,
   "metadata": {},
   "outputs": [
    {
     "name": "stdout",
     "output_type": "stream",
     "text": [
      "        Average\n",
      "obj_1     96.60\n",
      "obj_2     92.40\n",
      "obj_3     98.70\n",
      "obj_4     92.00\n",
      "obj_5     95.90\n",
      "obj_6     94.10\n",
      "obj_7     85.70\n",
      "obj_8     88.60\n",
      "obj_9     89.80\n",
      "obj_10    94.75\n",
      "obj_11    84.40\n",
      "scores true: 96.40282131661442\n",
      "scores false: 86.12554112554113\n"
     ]
    },
    {
     "data": {
      "image/png": "[encoded data removed]",
      "text/plain": [
       "<Figure size 432x288 with 1 Axes>"
      ]
     },
     "metadata": {
      "needs_background": "light"
     },
     "output_type": "display_data"
    },
    {
     "data": {
      "image/png": "[encoded data removed]",
      "text/plain": [
       "<Figure size 432x288 with 1 Axes>"
      ]
     },
     "metadata": {
      "needs_background": "light"
     },
     "output_type": "display_data"
    },
    {
     "name": "stdout",
     "output_type": "stream",
     "text": [
      "{'obj_6': (30, 100), 'obj_8': (20, 100), 'obj_4': (40, 100), 'obj_2': (40, 100), 'obj_9': (0, 100), 'obj_5': (60, 100), 'obj_7': (30, 100), 'obj_10': (40, 100), 'obj_1': (50, 100), 'obj_11': (0, 100), 'obj_3': (0, 100)}\n",
      "{'obj_6': 11.200198410940953, 'obj_8': 17.131104677595868, 'obj_4': 12.949006435891816, 'obj_2': 11.730991501836568, 'obj_9': 13.1794146189036, 'obj_5': 8.052228501376751, 'obj_7': 12.165109904554864, 'obj_10': 9.933490948515654, 'obj_1': 8.067893720848657, 'obj_11': 32.76238296238138, 'obj_3': 10.215357818184128}\n",
      "For obj_6, t-statistic is 4.37 and the p-value is 0.00\n",
      "For obj_8, t-statistic is 6.10 and the p-value is 0.00\n",
      "For obj_4, t-statistic is 5.16 and the p-value is 0.00\n",
      "For obj_2, t-statistic is 5.03 and the p-value is 0.00\n",
      "For obj_9, t-statistic is 1.26 and the p-value is 0.21\n",
      "For obj_5, t-statistic is 2.80 and the p-value is 0.01\n",
      "For obj_7, t-statistic is 3.70 and the p-value is 0.00\n",
      "For obj_10, t-statistic is 3.92 and the p-value is 0.00\n",
      "For obj_1, t-statistic is 3.36 and the p-value is 0.00\n",
      "For obj_11, t-statistic is 5.44 and the p-value is 0.00\n",
      "For obj_3, t-statistic is 1.10 and the p-value is 0.27\n"
     ]
    }
   ],
   "source": [
    "#note idx_cot\n",
    "data = Collection.from_json(\"./med_qa_second_gpt-3.5-turbo_gpt-4.json\")\n",
    "scores_per_item, variables_per_item = parse_data(data,idx_cot=2,dataset='med_qa',split='test')\n",
    "scores_per_item = fix_str_score(scores_per_item)\n",
    "scores_per_objective, df = get_further_data(scores_per_item)\n",
    "average_per_item = [sum(d.values()) / len(d) for d in scores_per_item]\n",
    "\n",
    "print(df)\n",
    "\n",
    "avg_true_false(data,average_per_item,'med_qa','test')\n",
    "freq_bar_plot(scores_per_item)\n",
    "avg_item_plot(scores_per_objective)\n",
    "\n",
    "range_data = {key: (min(value),max(value)) for key, value in scores_per_objective.items()}\n",
    "print(range_data)\n",
    "\n",
    "print(standard_deviation(scores_per_objective))\n",
    "\n",
    "t_test(data,scores_per_item,'med_qa','test')"
   ]
  },
  {
   "cell_type": "code",
   "execution_count": 139,
   "metadata": {},
   "outputs": [
    {
     "name": "stdout",
     "output_type": "stream",
     "text": [
      "        Average\n",
      "obj_1      5.19\n",
      "obj_2      6.48\n",
      "obj_3      5.61\n",
      "obj_4      4.29\n",
      "obj_5      4.81\n",
      "obj_6      5.08\n",
      "obj_7      4.47\n",
      "obj_8      5.46\n",
      "obj_9      3.28\n",
      "obj_10     5.04\n",
      "obj_11     5.50\n",
      "scores true: 5.3352272727272725\n",
      "scores false: 4.870320855614973\n"
     ]
    },
    {
     "data": {
      "image/png": "[encoded data removed]",
      "text/plain": [
       "<Figure size 432x288 with 1 Axes>"
      ]
     },
     "metadata": {
      "needs_background": "light"
     },
     "output_type": "display_data"
    },
    {
     "data": {
      "image/png": "[encoded data removed]",
      "text/plain": [
       "<Figure size 432x288 with 1 Axes>"
      ]
     },
     "metadata": {
      "needs_background": "light"
     },
     "output_type": "display_data"
    },
    {
     "name": "stdout",
     "output_type": "stream",
     "text": [
      "{'obj_6': (2, 8), 'obj_8': (1, 9), 'obj_4': (1, 9), 'obj_2': (2, 10), 'obj_9': (0, 7), 'obj_5': (1, 8), 'obj_7': (1, 8), 'obj_10': (1, 8), 'obj_1': (2, 8), 'obj_11': (0, 10), 'obj_3': (0, 9)}\n",
      "{'obj_6': 1.6798268309019782, 'obj_8': 2.2175607675046374, 'obj_4': 1.881837700577054, 'obj_2': 2.1200343050397685, 'obj_9': 1.7001485377769348, 'obj_5': 1.4612503294276875, 'obj_7': 1.6603212540549697, 'obj_10': 1.8744426781140449, 'obj_1': 2.0631201240995747, 'obj_11': 2.886751345948129, 'obj_3': 2.1456792383623875}\n",
      "For obj_6, t-statistic is 0.69 and the p-value is 0.49\n",
      "For obj_8, t-statistic is 1.69 and the p-value is 0.09\n",
      "For obj_4, t-statistic is 0.88 and the p-value is 0.38\n",
      "For obj_2, t-statistic is 1.08 and the p-value is 0.28\n",
      "For obj_9, t-statistic is 1.14 and the p-value is 0.26\n",
      "For obj_5, t-statistic is 0.30 and the p-value is 0.76\n",
      "For obj_7, t-statistic is 0.51 and the p-value is 0.61\n",
      "For obj_10, t-statistic is 1.00 and the p-value is 0.32\n",
      "For obj_1, t-statistic is 0.61 and the p-value is 0.54\n",
      "For obj_11, t-statistic is 2.04 and the p-value is 0.04\n",
      "For obj_3, t-statistic is 1.35 and the p-value is 0.18\n"
     ]
    }
   ],
   "source": [
    "data = Collection.from_json(\"./med_qa_third_cohere_gpt-3.5-turbo.json\")\n",
    "scores_per_item, variables_per_item = parse_data(data,idx_cot=5,dataset='med_qa',split='test')\n",
    "scores_per_item = fix_str_score(scores_per_item)\n",
    "scores_per_objective, df = get_further_data(scores_per_item)\n",
    "average_per_item = [sum(d.values()) / len(d) for d in scores_per_item]\n",
    "\n",
    "print(df)\n",
    "\n",
    "avg_true_false(data,average_per_item,'med_qa','test')\n",
    "freq_bar_plot(scores_per_item)\n",
    "avg_item_plot(scores_per_objective)\n",
    "\n",
    "range_data = {key: (min(value),max(value)) for key, value in scores_per_objective.items()}\n",
    "print(range_data)\n",
    "\n",
    "print(standard_deviation(scores_per_objective))\n",
    "\n",
    "t_test(data,scores_per_item,'med_qa','test')"
   ]
  },
  {
   "cell_type": "code",
   "execution_count": 141,
   "metadata": {},
   "outputs": [
    {
     "name": "stdout",
     "output_type": "stream",
     "text": [
      "        Average\n",
      "obj_1      8.11\n",
      "obj_2      9.32\n",
      "obj_3      8.44\n",
      "obj_4      8.34\n",
      "obj_5      7.47\n",
      "obj_6      8.09\n",
      "obj_7      7.90\n",
      "obj_8      8.95\n",
      "obj_9      7.06\n",
      "obj_10     8.19\n",
      "obj_11     9.09\n",
      "scores true: 8.33228840125392\n",
      "scores false: 8.181818181818182\n"
     ]
    },
    {
     "data": {
      "image/png": "[encoded data removed]",
      "text/plain": [
       "<Figure size 432x288 with 1 Axes>"
      ]
     },
     "metadata": {
      "needs_background": "light"
     },
     "output_type": "display_data"
    },
    {
     "data": {
      "image/png": "[encoded data removed]",
      "text/plain": [
       "<Figure size 432x288 with 1 Axes>"
      ]
     },
     "metadata": {
      "needs_background": "light"
     },
     "output_type": "display_data"
    },
    {
     "name": "stdout",
     "output_type": "stream",
     "text": [
      "{'obj_6': (4, 10), 'obj_8': (5, 10), 'obj_4': (5, 10), 'obj_2': (6, 10), 'obj_9': (2, 10), 'obj_5': (4, 10), 'obj_7': (4, 10), 'obj_10': (3, 10), 'obj_1': (4, 10), 'obj_11': (5, 10), 'obj_3': (3, 10)}\n",
      "{'obj_6': 0.888705789222721, 'obj_8': 0.7571210756756955, 'obj_4': 0.9235417115264979, 'obj_2': 0.6798692684790385, 'obj_9': 1.2294369245777328, 'obj_5': 1.0679443105822752, 'obj_7': 1.077782984471439, 'obj_10': 0.960797227895311, 'obj_1': 0.8027100562117262, 'obj_11': 0.9111542241585777, 'obj_3': 0.9777318630174611}\n",
      "For obj_6, t-statistic is 1.32 and the p-value is 0.19\n",
      "For obj_8, t-statistic is -0.03 and the p-value is 0.98\n",
      "For obj_4, t-statistic is 0.72 and the p-value is 0.47\n",
      "For obj_2, t-statistic is 1.33 and the p-value is 0.19\n",
      "For obj_9, t-statistic is 0.41 and the p-value is 0.68\n",
      "For obj_5, t-statistic is 0.71 and the p-value is 0.48\n",
      "For obj_7, t-statistic is 1.47 and the p-value is 0.14\n",
      "For obj_10, t-statistic is -0.00 and the p-value is 1.00\n",
      "For obj_1, t-statistic is 0.41 and the p-value is 0.68\n",
      "For obj_11, t-statistic is 1.29 and the p-value is 0.20\n",
      "For obj_3, t-statistic is 1.14 and the p-value is 0.26\n"
     ]
    }
   ],
   "source": [
    "data = Collection.from_json(\"./med_qa_third_gpt-3.5-turbo_gpt-3.5-turbo.json\")\n",
    "scores_per_item, variables_per_item = parse_data(data,idx_cot=6,dataset='med_qa',split='test')\n",
    "scores_per_item = fix_str_score(scores_per_item)\n",
    "scores_per_objective, df = get_further_data(scores_per_item)\n",
    "average_per_item = [sum(d.values()) / len(d) for d in scores_per_item]\n",
    "\n",
    "print(df)\n",
    "\n",
    "avg_true_false(data,average_per_item,'med_qa','test')\n",
    "freq_bar_plot(scores_per_item)\n",
    "avg_item_plot(scores_per_objective)\n",
    "\n",
    "range_data = {key: (min(value),max(value)) for key, value in scores_per_objective.items()}\n",
    "print(range_data)\n",
    "\n",
    "print(standard_deviation(scores_per_objective))\n",
    "\n",
    "t_test(data,scores_per_item,'med_qa','test')"
   ]
  },
  {
   "cell_type": "code",
   "execution_count": 100,
   "metadata": {},
   "outputs": [
    {
     "data": {
      "text/plain": [
       "164.84701057007064"
      ]
     },
     "execution_count": 100,
     "metadata": {},
     "output_type": "execute_result"
    }
   ],
   "source": [
    "import scipy.stats\n",
    "import statsmodels.stats.power as smp\n",
    "import matplotlib.pyplot as plt\n",
    "\n",
    "power_analysis = smp.TTestIndPower()\n",
    "sample_size = power_analysis.solve_power(effect_size=.4, power=0.9, alpha=0.05,ratio=0.67)\n",
    "sample_size"
   ]
  },
  {
   "cell_type": "code",
   "execution_count": 88,
   "metadata": {},
   "outputs": [
    {
     "name": "stdout",
     "output_type": "stream",
     "text": [
      "          Average\n",
      "obj_1   90.454545\n",
      "obj_2   96.262626\n",
      "obj_3   91.262626\n",
      "obj_4   90.050505\n",
      "obj_5   84.343434\n",
      "obj_6   86.767677\n",
      "obj_7   86.161616\n",
      "obj_8   92.373737\n",
      "obj_9   78.181818\n",
      "obj_10  88.080808\n",
      "obj_11  94.949495\n",
      "scores true: 89.78056426332289\n",
      "scores false: 87.87139689578714\n"
     ]
    },
    {
     "data": {
      "image/png": "[encoded data removed]",
      "text/plain": [
       "<Figure size 432x288 with 1 Axes>"
      ]
     },
     "metadata": {
      "needs_background": "light"
     },
     "output_type": "display_data"
    },
    {
     "data": {
      "image/png": "[encoded data removed]",
      "text/plain": [
       "<Figure size 432x288 with 1 Axes>"
      ]
     },
     "metadata": {
      "needs_background": "light"
     },
     "output_type": "display_data"
    },
    {
     "name": "stdout",
     "output_type": "stream",
     "text": [
      "{'obj_6': (50, 100), 'obj_8': (60, 100), 'obj_4': (50, 100), 'obj_2': (60, 100), 'obj_9': (40, 100), 'obj_5': (50, 100), 'obj_7': (50, 100), 'obj_10': (50, 100), 'obj_1': (50, 100), 'obj_11': (0, 100), 'obj_3': (50, 100)}\n",
      "{'obj_6': 9.982462461357615, 'obj_8': 7.770412037752322, 'obj_4': 9.271828890074005, 'obj_2': 5.9907852004623585, 'obj_9': 12.62598845301168, 'obj_5': 12.17739761093177, 'obj_7': 11.754900906453967, 'obj_10': 9.441200165489128, 'obj_1': 10.103820985932504, 'obj_11': 12.807343028770916, 'obj_3': 9.485311801471786}\n",
      "For obj_6, t-statistic is 0.46 and the p-value is 0.65\n",
      "For obj_8, t-statistic is 1.38 and the p-value is 0.17\n",
      "For obj_4, t-statistic is 0.59 and the p-value is 0.55\n",
      "For obj_2, t-statistic is 0.91 and the p-value is 0.36\n",
      "For obj_9, t-statistic is 0.73 and the p-value is 0.47\n",
      "For obj_5, t-statistic is 0.97 and the p-value is 0.33\n",
      "For obj_7, t-statistic is 1.80 and the p-value is 0.07\n",
      "For obj_10, t-statistic is 1.11 and the p-value is 0.27\n",
      "For obj_1, t-statistic is 0.17 and the p-value is 0.86\n",
      "For obj_11, t-statistic is 0.52 and the p-value is 0.60\n",
      "For obj_3, t-statistic is 1.67 and the p-value is 0.10\n"
     ]
    }
   ],
   "source": [
    "data = Collection.from_json(\"./med_qa_third_gpt-3.5-turbo_gpt-3.5-turbo.json\")\n",
    "scores_per_item, variables_per_item = parse_data(data,idx_cot=1,dataset='med_qa',split='test')\n",
    "scores_per_item = fix_str_score(scores_per_item)\n",
    "scores_per_objective, df = get_further_data(scores_per_item)\n",
    "average_per_item = [sum(d.values()) / len(d) for d in scores_per_item]\n",
    "\n",
    "print(df)\n",
    "\n",
    "avg_true_false(data,average_per_item,'med_qa','test')\n",
    "freq_bar_plot(scores_per_item)\n",
    "avg_item_plot(scores_per_objective)\n",
    "\n",
    "range_data = {key: (min(value),max(value)) for key, value in scores_per_objective.items()}\n",
    "print(range_data)\n",
    "\n",
    "print(standard_deviation(scores_per_objective))\n",
    "\n",
    "t_test(data,scores_per_item,'med_qa','test')"
   ]
  },
  {
   "cell_type": "code",
   "execution_count": null,
   "metadata": {},
   "outputs": [],
   "source": [
    "# Average objective score\n",
    "# Average item score (variance,span) - finding outliers?\n",
    "# average objectives/item scores per true and false answers\n",
    "# split range up for true, false?"
   ]
  },
  {
   "attachments": {},
   "cell_type": "markdown",
   "metadata": {},
   "source": [
    "## GPT-SW3"
   ]
  },
  {
   "cell_type": "code",
   "execution_count": 61,
   "metadata": {},
   "outputs": [],
   "source": [
    "import requests\n",
    "import os\n",
    "\n",
    "API_URL = \"https://api-inference.huggingface.co/models/AI-Sweden-Models/gpt-sw3-1.3b-instruct\"\n",
    "headers = {\"Authorization\": \"Bearer \"+os.environ[\"HUGGINGFACEHUB_API_TOKEN\"]}\n",
    "\n",
    "\n",
    "def query(payload):\n",
    "\tresponse = requests.post(API_URL, headers=headers, json=payload)\n",
    "\treturn response.json()\n",
    "\t\n",
    "output = query({\n",
    "\t\"inputs\": \"Can you please let us know more details about your \",\n",
    "})"
   ]
  },
  {
   "cell_type": "code",
   "execution_count": 62,
   "metadata": {},
   "outputs": [
    {
     "data": {
      "text/plain": [
       "{'error': 'Model AI-Sweden-Models/gpt-sw3-1.3b-instruct is currently loading',\n",
       " 'estimated_time': 20.0}"
      ]
     },
     "execution_count": 62,
     "metadata": {},
     "output_type": "execute_result"
    }
   ],
   "source": [
    "output"
   ]
  },
  {
   "cell_type": "code",
   "execution_count": 63,
   "metadata": {},
   "outputs": [
    {
     "ename": "ModuleNotFoundError",
     "evalue": "No module named 'torch'",
     "output_type": "error",
     "traceback": [
      "\u001b[0;31m---------------------------------------------------------------------------\u001b[0m",
      "\u001b[0;31mModuleNotFoundError\u001b[0m                       Traceback (most recent call last)",
      "Cell \u001b[0;32mIn[63], line 1\u001b[0m\n\u001b[0;32m----> 1\u001b[0m \u001b[39mimport\u001b[39;00m \u001b[39mtorch\u001b[39;00m\n\u001b[1;32m      2\u001b[0m \u001b[39mfrom\u001b[39;00m \u001b[39mtransformers\u001b[39;00m \u001b[39mimport\u001b[39;00m pipeline, AutoTokenizer, AutoModelForCausalLM\n\u001b[1;32m      4\u001b[0m \u001b[39m# Initialize Variables\u001b[39;00m\n",
      "\u001b[0;31mModuleNotFoundError\u001b[0m: No module named 'torch'"
     ]
    }
   ],
   "source": [
    "import torch\n",
    "from transformers import pipeline, AutoTokenizer, AutoModelForCausalLM\n",
    "\n",
    "# Initialize Variables\n",
    "model_name = \"AI-Sweden-Models/gpt-sw3-1.3b-instruct\"\n",
    "device = \"cuda:0\" if torch.cuda.is_available() else \"cpu\"\n",
    "prompt = \"Träd är fina för att\"\n",
    "\n",
    "# Initialize Tokenizer & Model\n",
    "tokenizer = AutoTokenizer.from_pretrained(model_name)\n",
    "model = AutoModelForCausalLM.from_pretrained(model_name)\n",
    "model.eval()\n",
    "model.to(device)"
   ]
  }
 ],
 "metadata": {
  "kernelspec": {
   "display_name": "base",
   "language": "python",
   "name": "python3"
  },
  "language_info": {
   "codemirror_mode": {
    "name": "ipython",
    "version": 3
   },
   "file_extension": ".py",
   "mimetype": "text/x-python",
   "name": "python",
   "nbconvert_exporter": "python",
   "pygments_lexer": "ipython3",
   "version": "3.9.16"
  },
  "orig_nbformat": 4
 },
 "nbformat": 4,
 "nbformat_minor": 2
}
