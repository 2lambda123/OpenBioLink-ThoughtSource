{
 "cells": [
  {
   "attachments": {},
   "cell_type": "markdown",
   "metadata": {},
   "source": [
    "## Helper functions"
   ]
  },
  {
   "cell_type": "code",
   "execution_count": 1,
   "metadata": {},
   "outputs": [],
   "source": [
    "from cot import Collection"
   ]
  },
  {
   "cell_type": "code",
   "execution_count": 2,
   "metadata": {},
   "outputs": [],
   "source": [
    "\"\"\"Imports\"\"\"\n",
    "from langchain.chat_models import ChatOpenAI\n",
    "from langchain.prompts.chat import (\n",
    "    ChatPromptTemplate,\n",
    "    SystemMessagePromptTemplate,\n",
    "    AIMessagePromptTemplate,\n",
    "    HumanMessagePromptTemplate,\n",
    ")\n",
    "from langchain.schema import (\n",
    "    AIMessage,\n",
    "    HumanMessage,\n",
    "    SystemMessage\n",
    ")\n",
    "\n",
    "from cot import Collection\n",
    "import yaml"
   ]
  },
  {
   "cell_type": "code",
   "execution_count": 3,
   "metadata": {},
   "outputs": [],
   "source": [
    "# Helper functions to call OpenAI model, system also generates reasoning\n",
    "# this function lets the model reason (less frequently used than system_evaluate)\n",
    "\n",
    "def system_experiment(data,model, path_system_template):\n",
    "    chat = ChatOpenAI(\n",
    "        temperature=0,\n",
    "        model_name=model,\n",
    "        request_timeout=600,\n",
    "        max_retries=1,\n",
    "    )\n",
    "\n",
    "    human_template=\"\"\"Answer the question:{question}\\nwith the following answer options:{answer_options}\"\"\"\n",
    "    human_message_prompt = HumanMessagePromptTemplate.from_template(human_template)\n",
    "    \n",
    "    with open(path_system_template, 'r') as file:\n",
    "        template = file.read()\n",
    "    system_message_prompt = SystemMessagePromptTemplate.from_template(template)\n",
    "    \n",
    "    chat_prompt = ChatPromptTemplate.from_messages([system_message_prompt, human_message_prompt])  \n",
    "    input_dict = {'chat':chat,'chat_prompt':chat_prompt, \"api_time_interval\": 1} \n",
    "    \n",
    "    return data.system_generate(input_dict)\n",
    "\n",
    "def save_as_yaml(data, filepath):\n",
    "    with open(filepath, 'w') as file:\n",
    "        yaml.dump(data, file)"
   ]
  },
  {
   "cell_type": "code",
   "execution_count": 4,
   "metadata": {},
   "outputs": [],
   "source": [
    "def system_evaluate(data,model, path_system_template):\n",
    "    chat = ChatOpenAI(\n",
    "        temperature=0,\n",
    "        model_name=model,\n",
    "        request_timeout=600,\n",
    "        max_retries=1,\n",
    "    )\n",
    "\n",
    "    human_template=\"\"\"Answer the question:{question}\\n\n",
    "    with the following answer options:{answer_options}\\n\n",
    "    Reasoning: {reasoning}\\n\n",
    "    Answer: {answer}\"\"\"\n",
    "    human_message_prompt = HumanMessagePromptTemplate.from_template(human_template)\n",
    "    \n",
    "    with open(path_system_template, 'r') as file:\n",
    "        template = file.read()\n",
    "    system_message_prompt = SystemMessagePromptTemplate.from_template(template)\n",
    "    \n",
    "    chat_prompt = ChatPromptTemplate.from_messages([system_message_prompt, human_message_prompt])  \n",
    "    input_dict = {'chat':chat,'chat_prompt':chat_prompt, \"api_time_interval\": 1} \n",
    "    \n",
    "    return data.system_evals(input_dict)"
   ]
  },
  {
   "cell_type": "code",
   "execution_count": 5,
   "metadata": {},
   "outputs": [],
   "source": [
    "import pandas as pd\n",
    "import yaml\n",
    "\n",
    "def process_new_data(new_data,idx_cot,dataset,split):\n",
    "    scores_per_item = []\n",
    "    for item in new_data[dataset][split]:\n",
    "        try:\n",
    "            scores_per_item.append(yaml.load(item['generated_cot'][idx_cot]['cot'], Loader=yaml.FullLoader))\n",
    "        except:\n",
    "            print(\"wrong output found\")\n",
    "            continue\n",
    "\n",
    "    # Get unique keys from all dictionaries\n",
    "    keys = set().union(*scores_per_item)\n",
    "\n",
    "    # Create lists of values for each key\n",
    "    scores_per_objective = {key: [d.get(key) for d in scores_per_item] for key in keys if key != \"critique\"} #added critique\n",
    "\n",
    "    #check values for nonetype\n",
    "    for key, value in scores_per_objective.items():\n",
    "        if value is not str:\n",
    "            print(key,value)\n",
    "\n",
    "\n",
    "    # Calculate the average of each list\n",
    "    averaged_data = {key: sum(value) / len(value) for key, value in scores_per_objective.items() if key!=\"critique\"} #added critique\n",
    "\n",
    "    # Convert the averaged data dictionary to a Pandas DataFrame\n",
    "    df = pd.DataFrame.from_dict(averaged_data, orient='index', columns=['Average'])\n",
    "\n",
    "    # Sort the DataFrame by the index (row labels)\n",
    "    df = df.loc[['obj_1', 'obj_2', 'obj_3', 'obj_4', 'obj_5', 'obj_6', 'obj_7', 'obj_8', 'obj_9', 'obj_10', 'obj_11']]\n",
    "\n",
    "    return scores_per_item, scores_per_objective, df"
   ]
  },
  {
   "cell_type": "code",
   "execution_count": 6,
   "metadata": {},
   "outputs": [],
   "source": [
    "def parse_data(new_data,idx_cot,dataset,split):\n",
    "    scores_per_item = []\n",
    "    variables_per_item = []\n",
    "    for item in new_data[dataset][split]:\n",
    "        try:\n",
    "            data = yaml.load(item['generated_cot'][idx_cot]['cot'], Loader=yaml.FullLoader)\n",
    "            if any(isinstance(v, str) for v in data.values()):\n",
    "                new_dict = {k: v for k, v in data.items() if k.startswith('obj')}\n",
    "                scores_per_item.append(new_dict)\n",
    "                variables_per_item.append(data)\n",
    "            else:\n",
    "                scores_per_item.append(data)\n",
    "        except:\n",
    "        \n",
    "            print(\"wrong output found\")\n",
    "            continue\n",
    "    return scores_per_item, variables_per_item"
   ]
  },
  {
   "cell_type": "code",
   "execution_count": 7,
   "metadata": {},
   "outputs": [],
   "source": [
    "#Add minimal value and average value\n",
    "def parse_data(new_data,idx_cot,dataset,split):\n",
    "    scores_per_item = []\n",
    "    variables_per_item = []\n",
    "    lowest_obj = []\n",
    "    for item in new_data[dataset][split]:\n",
    "        flag = False\n",
    "        try:\n",
    "            data = yaml.load(item['generated_cot'][idx_cot]['cot'], Loader=yaml.FullLoader)\n",
    "            if any(isinstance(v, str) for v in data.values()):\n",
    "                new_dict = {k: v for k, v in data.items() if k.startswith('obj')}\n",
    "                #scores_per_item.append(new_dict)\n",
    "                flag = True\n",
    "                variables_per_item.append(data)\n",
    "        except:\n",
    "            print(\"wrong output found\")\n",
    "            continue\n",
    "        if flag == True:\n",
    "\n",
    "            data = new_dict\n",
    "\n",
    "            # Find the lowest value\n",
    "            lowest_value = min(data.values())\n",
    "\n",
    "            # Calculate the average value\n",
    "            average_value = sum(data.values()) / len(data)\n",
    "\n",
    "            # Find the key(s) of the lowest value\n",
    "            lowest_keys = [key for key, value in data.items() if value == lowest_value]     \n",
    "            lowest_obj.append(lowest_keys)\n",
    "\n",
    "            # Add lowest and average values to the dictionary\n",
    "            data['lowest'] = lowest_value\n",
    "            data['average'] = average_value\n",
    "\n",
    "            scores_per_item.append(data)\n",
    "\n",
    "    #get lowest keys split for true and false\n",
    "    item_correct = []\n",
    "\n",
    "    for item in new_data[dataset][split]:\n",
    "        item_correct.append(item['generated_cot'][0]['answers'][0]['correct_answer'])\n",
    "\n",
    "    # Example lists of scores and indicators\n",
    "    scores = lowest_obj\n",
    "    indicators = item_correct\n",
    "\n",
    "    # Separate scores based on indicators\n",
    "    scores_true = [score for score, indicator in zip(scores, indicators) if indicator]\n",
    "    scores_false = [score for score, indicator in zip(scores, indicators) if not indicator]\n",
    "         \n",
    "    return scores_per_item, variables_per_item, [scores_true,scores_false]\n",
    "\n",
    "def count_keys(lst):\n",
    "\n",
    "    counts = {}\n",
    "    for item in lst:\n",
    "        if isinstance(item, list):\n",
    "            sub_counts = count_keys(item)\n",
    "            for key, value in sub_counts.items():\n",
    "                counts[key] = counts.get(key, 0) + value\n",
    "        else:\n",
    "            counts[item] = counts.get(item, 0) + 1\n",
    "    return counts"
   ]
  },
  {
   "cell_type": "code",
   "execution_count": 8,
   "metadata": {},
   "outputs": [],
   "source": [
    "def parse_lst_data(new_data,idx_cot,dataset,split):\n",
    "    scores_per_item = []\n",
    "    variables_per_item = []\n",
    "    statements_per_item = []\n",
    "    for item in new_data[dataset][split]:\n",
    "        try:\n",
    "            data = yaml.load(item['generated_cot'][idx_cot]['cot'], Loader=yaml.FullLoader)\n",
    "            #if any(isinstance(v, str) for v in data.values()):\n",
    "            new_dict = {k: v[1] for k, v in data.items() if k.startswith('obj')}\n",
    "            statement_dict = {k: v[0] for k, v in data.items() if k.startswith('obj')}\n",
    "            statements_per_item.append(statement_dict)\n",
    "            scores_per_item.append(new_dict)\n",
    "            variables_per_item.append(data)\n",
    "            # else:\n",
    "            #     scores_per_item.append(data)\n",
    "        except:\n",
    "        \n",
    "            print(\"wrong output found\")\n",
    "            continue\n",
    "    return scores_per_item, variables_per_item, statements_per_item\n"
   ]
  },
  {
   "cell_type": "code",
   "execution_count": 9,
   "metadata": {},
   "outputs": [],
   "source": [
    "def get_further_data(scores_per_item):\n",
    "# Get unique keys from all dictionaries\n",
    "    keys = set().union(*scores_per_item)\n",
    "\n",
    "    # Create lists of values for each key\n",
    "    scores_per_objective = {key: [d.get(key) for d in scores_per_item] for key in keys}\n",
    "    # scores_per_objective = {k: v for k, v in scores_per_objective.items() if not isinstance(v, str)}\n",
    "    # print(scores_per_objective)\n",
    "\n",
    "    # #check values for nonetype\n",
    "    # for key, value in scores_per_objective.items():\n",
    "    #     if value is not str:\n",
    "    #         #print(key,value)\n",
    "    #         continue\n",
    "\n",
    "\n",
    "    # Calculate the average of each list\n",
    "    #averaged_data = {key: sum(value) / len(value) for key, value in scores_per_objective.items()} \n",
    "    averaged_data = {key: (sum(v for v in value if v is not None) / len([v for v in value if v is not None])) for key, value in scores_per_objective.items() if len([v for v in value if v is not None]) > 0}\n",
    "\n",
    "    # Convert the averaged data dictionary to a Pandas DataFrame\n",
    "    df = pd.DataFrame.from_dict(averaged_data, orient='index', columns=['Average'])\n",
    "\n",
    "    # Sort the DataFrame by the index (row labels)\n",
    "    df = df.loc[['obj_1', 'obj_2', 'obj_3', 'obj_4', 'obj_5', 'obj_6', 'obj_7', 'obj_8', 'obj_9', 'obj_10', 'obj_11']]\n",
    "\n",
    "    return scores_per_objective, df"
   ]
  },
  {
   "cell_type": "code",
   "execution_count": 10,
   "metadata": {},
   "outputs": [],
   "source": [
    "def fix_none_score(scores_per_item):\n",
    "    for i,element in enumerate(scores_per_item):\n",
    "        for inner_key, value in element.items():\n",
    "            if value is None:\n",
    "                scores_per_item[i][inner_key] = 5\n",
    "    return scores_per_item\n",
    "    "
   ]
  },
  {
   "cell_type": "code",
   "execution_count": 11,
   "metadata": {},
   "outputs": [],
   "source": [
    "def fix_str_score(scores_per_item):\n",
    "    for i,element in enumerate(scores_per_item):\n",
    "        for inner_key, value in element.items():\n",
    "            if isinstance(value,str):\n",
    "                scores_per_item.pop(i)\n",
    "    return scores_per_item"
   ]
  },
  {
   "cell_type": "code",
   "execution_count": 12,
   "metadata": {},
   "outputs": [],
   "source": [
    "#helper functions for results\n",
    "import matplotlib.pyplot as plt\n",
    "from scipy.stats import ttest_ind\n",
    "import statistics\n",
    "\n",
    "def freq_bar_plot(scores_per_item): #later better axes\n",
    "    average_per_item = [sum(d.values()) / len(d) for d in scores_per_item]\n",
    "    # Create a histogram\n",
    "    plt.hist(average_per_item, bins='auto', alpha=0.7)\n",
    "    plt.xlabel('Values')\n",
    "    plt.ylabel('Frequency')\n",
    "    plt.title('Frequency of average score per item')\n",
    "    plt.show()\n",
    "\n",
    "# def avg_item_plot(scores_per_objective):  #later better axes\n",
    " \n",
    "#     data = scores_per_objective\n",
    "#     averaged_data = {key: sum(value) / len(value) for key, value in data.items() if key!=\"critique\"} #added \"critique\"\n",
    "#     sorted_data = {k: v for k, v in sorted(averaged_data.items())}\n",
    "\n",
    "#     # Extract the keys (objectives) and values (averages) from the sorted dictionary\n",
    "#     keys = sorted_data.keys()\n",
    "#     values = sorted_data.values()\n",
    "\n",
    "#     # Create a bar plot\n",
    "#     plt.bar(keys, values)\n",
    "#     plt.xlabel('Objectives')\n",
    "#     plt.ylabel('Average')\n",
    "#     # plt.ylim(7,10)\n",
    "#     plt.title('Average per Objective')\n",
    "#     plt.xticks(rotation=45)\n",
    "#     plt.show()\n",
    "\n",
    "def avg_true_false(data,average_per_item,dataset,split):\n",
    "    item_correct = []\n",
    "    for item in data[dataset][split]:\n",
    "        item_correct.append(item['generated_cot'][0]['answers'][0]['correct_answer'])\n",
    "\n",
    "    # Example lists of scores and indicators\n",
    "    scores = average_per_item\n",
    "    indicators = item_correct\n",
    "\n",
    "    # Separate scores based on indicators\n",
    "    scores_true = [score for score, indicator in zip(scores, indicators) if indicator]\n",
    "    scores_false = [score for score, indicator in zip(scores, indicators) if not indicator]\n",
    "\n",
    "    print(\"scores true:\", statistics.mean(scores_true))\n",
    "    print(\"scores false:\", statistics.mean(scores_false))\n",
    "\n",
    "\n",
    "# def lowest_obj_true_false(data,dataset,split):\n",
    "#     # Find the key(s) of the lowest value\n",
    "#     lowest_obj = []\n",
    "#     lowest_keys = [key for key, value in data.items() if value == ]     \n",
    "#     lowest_obj.append(lowest_keys)\n",
    "\n",
    "#     item_correct = []\n",
    "#     for item in data[dataset][split]:\n",
    "#         item_correct.append(item['generated_cot'][0]['answers'][0]['correct_answer'])\n",
    "\n",
    "#     # Example lists of scores and indicators\n",
    "#     scores = average_per_item\n",
    "#     indicators = item_correct\n",
    "\n",
    "#     # Separate scores based on indicators\n",
    "#     scores_true = [score for score, indicator in zip(scores, indicators) if indicator]\n",
    "#     scores_false = [score for score, indicator in zip(scores, indicators) if not indicator]\n",
    "\n",
    "#     print(\"scores true:\", statistics.mean(scores_true))\n",
    "#     print(\"scores false:\", statistics.mean(scores_false))"
   ]
  },
  {
   "cell_type": "code",
   "execution_count": 13,
   "metadata": {},
   "outputs": [],
   "source": [
    "import math\n",
    "\n",
    "def standard_deviation(data):\n",
    "    # First, compute the mean for each key.\n",
    "    mean_data = {key: sum(value) / len(value) for key, value in data.items()}\n",
    "    \n",
    "    # Then, for each key, compute the sum of the squared differences from the mean.\n",
    "    variance_data = {}\n",
    "    for key, value in data.items():\n",
    "        variance_data[key] = sum((x - mean_data[key]) ** 2 for x in value) / (len(value)-1)\n",
    "    \n",
    "    # Finally, compute the standard deviation for each key.\n",
    "    standard_deviation_data = {key: math.sqrt(value) for key, value in variance_data.items()}\n",
    "    \n",
    "    return standard_deviation_data"
   ]
  },
  {
   "cell_type": "code",
   "execution_count": 14,
   "metadata": {},
   "outputs": [],
   "source": [
    "def t_test(data,scores_per_item,dataset,split):\n",
    "# find which items are correct\n",
    "    item_correct = []\n",
    "    for item in data[dataset][split]:\n",
    "        item_correct.append(item['generated_cot'][0]['answers'][0]['correct_answer'])\n",
    "\n",
    "    # Example lists of scores and indicators\n",
    "    scores = scores_per_item\n",
    "    indicators = item_correct\n",
    "\n",
    "    # Separate scores based on indicators\n",
    "    scores_true = [score for score, indicator in zip(scores, indicators) if indicator]\n",
    "    scores_false = [score for score, indicator in zip(scores, indicators) if not indicator]\n",
    "\n",
    "    keys = set().union(*scores_true)\n",
    "        # Create lists of values for each key\n",
    "    scores_per_objective_true = {key: [d.get(key) for d in scores_true] for key in keys if key != \"critique\"} \n",
    "\n",
    "    keys = set().union(*scores_false)\n",
    "        # Create lists of values for each key\n",
    "    scores_per_objective_false = {key: [d.get(key) for d in scores_false] for key in keys if key != \"critique\"} \n",
    "\n",
    "    dict_1 = scores_per_objective_true\n",
    "    dict_2 = scores_per_objective_false\n",
    "\n",
    "    # make sure both dictionaries have the same keys\n",
    "    assert dict_1.keys() == dict_2.keys()\n",
    "\n",
    "    for key in dict_1.keys():\n",
    "        t_stat, p_val = ttest_ind(dict_1[key], dict_2[key])\n",
    "        print(f\"For {key}, t-statistic is {t_stat:.2f} and the p-value is {p_val:.2f}\")"
   ]
  },
  {
   "cell_type": "code",
   "execution_count": 15,
   "metadata": {},
   "outputs": [],
   "source": [
    "from scipy.stats import mannwhitneyu\n",
    "\n",
    "def u_test(data,scores_per_item,dataset,split):\n",
    "# find which items are correct\n",
    "    item_correct = []\n",
    "    for item in data[dataset][split]:\n",
    "        item_correct.append(item['generated_cot'][0]['answers'][0]['correct_answer'])\n",
    "\n",
    "    # Example lists of scores and indicators\n",
    "    scores = scores_per_item\n",
    "    indicators = item_correct\n",
    "\n",
    "    # Separate scores based on indicators\n",
    "    scores_true = [score for score, indicator in zip(scores, indicators) if indicator]\n",
    "    scores_false = [score for score, indicator in zip(scores, indicators) if not indicator]\n",
    "\n",
    "    keys = set().union(*scores_true)\n",
    "        # Create lists of values for each key\n",
    "    scores_per_objective_true = {key: [d.get(key) for d in scores_true] for key in keys if key != \"critique\"} \n",
    "\n",
    "    keys = set().union(*scores_false)\n",
    "        # Create lists of values for each key\n",
    "    scores_per_objective_false = {key: [d.get(key) for d in scores_false] for key in keys if key != \"critique\"} \n",
    "\n",
    "    dict_1 = scores_per_objective_true\n",
    "    dict_2 = scores_per_objective_false\n",
    "\n",
    "    # make sure both dictionaries have the same keys\n",
    "    assert dict_1.keys() == dict_2.keys()\n",
    "\n",
    "    for key in dict_1.keys():\n",
    "        u_stat, p_val = mannwhitneyu(dict_1[key], dict_2[key])\n",
    "        print(f\"For {key}, U-statistic is {u_stat:.2f} and the p-value is {p_val:.2f}\")\n",
    "    return scores_per_objective_true,scores_per_objective_false"
   ]
  },
  {
   "attachments": {},
   "cell_type": "markdown",
   "metadata": {},
   "source": [
    "## Data"
   ]
  },
  {
   "cell_type": "code",
   "execution_count": 28,
   "metadata": {},
   "outputs": [
    {
     "name": "stdout",
     "output_type": "stream",
     "text": [
      "Loading med_qa...\n"
     ]
    }
   ],
   "source": [
    "from cot import Collection\n",
    "med_qa = Collection([\"med_qa\"], verbose=False)"
   ]
  },
  {
   "cell_type": "code",
   "execution_count": 29,
   "metadata": {},
   "outputs": [],
   "source": [
    "# Determine sample size \n",
    "med_qa = med_qa.select(split=\"test\", number_samples=1, random_samples=True, seed=0)"
   ]
  },
  {
   "cell_type": "code",
   "execution_count": 41,
   "metadata": {},
   "outputs": [],
   "source": [
    "\n",
    "med_qa_turbo = Collection.from_json(\"./prelim_output/med_qa_zhou_eval_chatgpt.json\")\n",
    "med_qa_gpt_4 = Collection.from_json(\"./prelim_output/med_qa_zhou_eval_gpt4.json\")"
   ]
  },
  {
   "cell_type": "code",
   "execution_count": 5,
   "metadata": {},
   "outputs": [
    {
     "data": {
      "text/plain": [
       "| Name   | Train   | Valid   |   Test |\n",
       "|--------|---------|---------|--------|\n",
       "| med_qa | -       | -       |    100 |\n",
       "\n",
       "Not loaded: ['aqua', 'asdiv', 'commonsense_qa', 'entailment_bank', 'gsm8k', 'mawps', 'med_qa_open', 'medmc_qa', '_init_', 'mmlu_clinical_knowledge', 'mmlu_college_biology', 'mmlu_college_medicine', 'mmlu_medical_genetics', 'mmlu_professional_medicine', '_init_', 'mmlu_anatomy', 'open_book_qa', 'pubmed_qa', 'qed', 'strategy_qa', 'svamp', 'worldtree']"
      ]
     },
     "execution_count": 5,
     "metadata": {},
     "output_type": "execute_result"
    }
   ],
   "source": [
    "med_qa_cohere = Collection.from_json(\"./prelim_output/med_qa_zhou_cohere.json\")\n",
    "med_qa_cohere"
   ]
  },
  {
   "cell_type": "code",
   "execution_count": 6,
   "metadata": {},
   "outputs": [
    {
     "data": {
      "text/plain": [
       "| Name   | Train   | Valid   |   Test |\n",
       "|--------|---------|---------|--------|\n",
       "| med_qa | -       | -       |    400 |\n",
       "\n",
       "Not loaded: ['aqua', 'asdiv', 'commonsense_qa', 'entailment_bank', 'gsm8k', 'mawps', 'med_qa_open', 'medmc_qa', '_init_', 'mmlu_clinical_knowledge', 'mmlu_college_biology', 'mmlu_college_medicine', 'mmlu_medical_genetics', 'mmlu_professional_medicine', '_init_', 'mmlu_anatomy', 'open_book_qa', 'pubmed_qa', 'qed', 'strategy_qa', 'svamp', 'worldtree']"
      ]
     },
     "execution_count": 6,
     "metadata": {},
     "output_type": "execute_result"
    }
   ],
   "source": [
    "med_qa_cohere_400 = Collection.from_json(\"./med_qa_400_zhou_cohere.json\")\n",
    "med_qa_cohere_400"
   ]
  },
  {
   "cell_type": "code",
   "execution_count": 7,
   "metadata": {},
   "outputs": [
    {
     "data": {
      "application/vnd.jupyter.widget-view+json": {
       "model_id": "2facea5c263a4a33adb813dcf3cd32c1",
       "version_major": 2,
       "version_minor": 0
      },
      "text/plain": [
       "Creating json from Arrow format:   0%|          | 0/1 [00:00<?, ?ba/s]"
      ]
     },
     "metadata": {},
     "output_type": "display_data"
    },
    {
     "data": {
      "application/vnd.jupyter.widget-view+json": {
       "model_id": "ae0669cd39fb4c418384bd08ba2f170b",
       "version_major": 2,
       "version_minor": 0
      },
      "text/plain": [
       "Creating json from Arrow format:   0%|          | 0/1 [00:00<?, ?ba/s]"
      ]
     },
     "metadata": {},
     "output_type": "display_data"
    },
    {
     "data": {
      "text/plain": [
       "| Name   | Train   | Valid   |   Test |\n",
       "|--------|---------|---------|--------|\n",
       "| med_qa | -       | -       |    500 |\n",
       "\n",
       "Not loaded: ['aqua', 'asdiv', 'commonsense_qa', 'entailment_bank', 'gsm8k', 'mawps', 'med_qa_open', 'medmc_qa', '_init_', 'mmlu_clinical_knowledge', 'mmlu_college_biology', 'mmlu_college_medicine', 'mmlu_medical_genetics', 'mmlu_professional_medicine', '_init_', 'mmlu_anatomy', 'open_book_qa', 'pubmed_qa', 'qed', 'strategy_qa', 'svamp', 'worldtree']"
      ]
     },
     "execution_count": 7,
     "metadata": {},
     "output_type": "execute_result"
    }
   ],
   "source": [
    "cohere_500 = med_qa_cohere.merge(med_qa_cohere_400)\n",
    "cohere_500"
   ]
  },
  {
   "cell_type": "code",
   "execution_count": 42,
   "metadata": {},
   "outputs": [
    {
     "data": {
      "text/plain": [
       "| Name   | Train   | Valid   |   Test |\n",
       "|--------|---------|---------|--------|\n",
       "| med_qa | -       | -       |    100 |\n",
       "\n",
       "Not loaded: ['aqua', 'asdiv', 'commonsense_qa', 'entailment_bank', 'gsm8k', 'mawps', 'med_qa_open', 'medmc_qa', '_init_', 'mmlu_clinical_knowledge', 'mmlu_college_biology', 'mmlu_college_medicine', 'mmlu_medical_genetics', 'mmlu_professional_medicine', '_init_', 'mmlu_anatomy', 'open_book_qa', 'pubmed_qa', 'qed', 'strategy_qa', 'svamp', 'worldtree']"
      ]
     },
     "execution_count": 42,
     "metadata": {},
     "output_type": "execute_result"
    }
   ],
   "source": [
    "med_qa_gpt_4"
   ]
  },
  {
   "cell_type": "code",
   "execution_count": 30,
   "metadata": {},
   "outputs": [],
   "source": [
    "#med_qa_cohere = med_qa = med_qa_cohere.select(split=\"test\", number_samples=7, random_samples=True, seed=0)"
   ]
  },
  {
   "cell_type": "code",
   "execution_count": 104,
   "metadata": {},
   "outputs": [
    {
     "name": "stderr",
     "output_type": "stream",
     "text": [
      "[nltk_data] Downloading package punkt to\n",
      "[nltk_data]     /Users/robertpraas/nltk_data...\n",
      "[nltk_data]   Package punkt is already up-to-date!\n"
     ]
    },
    {
     "data": {
      "application/vnd.jupyter.widget-view+json": {
       "model_id": "fc40e3590ab043fbbd72c79e68947b72",
       "version_major": 2,
       "version_minor": 0
      },
      "text/plain": [
       "  0%|          | 0/100 [00:00<?, ?ex/s]"
      ]
     },
     "metadata": {},
     "output_type": "display_data"
    }
   ],
   "source": [
    "from cot import Collection\n",
    "med_qa_ts_100 = Collection.load_thoughtsource_100(names=['med_qa'],load_pregenerated_cots=False)"
   ]
  },
  {
   "cell_type": "code",
   "execution_count": 120,
   "metadata": {},
   "outputs": [
    {
     "name": "stdout",
     "output_type": "stream",
     "text": [
      "Loading med_qa...\n"
     ]
    }
   ],
   "source": [
    "from cot import Collection\n",
    "med_qa = Collection([\"med_qa\"], verbose=False)\n",
    "# Determine sample size \n",
    "med_qa = med_qa.select(split=\"test\", number_samples=600, random_samples=True, seed=99)\n"
   ]
  },
  {
   "cell_type": "code",
   "execution_count": 121,
   "metadata": {},
   "outputs": [
    {
     "name": "stderr",
     "output_type": "stream",
     "text": [
      "Loading cached processed dataset at /var/folders/wq/slcg80w1143270jpznm3k9hm0000gn/T/tmp4cu4rs55/cache-c12d68b3edf27cc8.arrow\n"
     ]
    }
   ],
   "source": [
    "from numpy import loadtxt, savetxt\n",
    "ts_100_ids = loadtxt(\"/Users/robertpraas/Desktop/ThoughtSource/notebooks/internal_documentation/paper_2/thoughtsource_100_ids.txt\", dtype=str, comments=\"#\", delimiter=\",\", unpack=False)\n",
    "med_qa = med_qa.filter(lambda ex: ex['id'] not in ts_100_ids)\n",
    "# then merge it\n",
    "\n"
   ]
  },
  {
   "cell_type": "code",
   "execution_count": 127,
   "metadata": {},
   "outputs": [],
   "source": [
    "med_qa = med_qa.select(split=\"test\", number_samples=400, random_samples=True, seed=1998)"
   ]
  },
  {
   "cell_type": "code",
   "execution_count": 132,
   "metadata": {},
   "outputs": [
    {
     "data": {
      "application/vnd.jupyter.widget-view+json": {
       "model_id": "00c54016e8524bdcb7638aa4d94d6f1a",
       "version_major": 2,
       "version_minor": 0
      },
      "text/plain": [
       "Creating json from Arrow format:   0%|          | 0/1 [00:00<?, ?ba/s]"
      ]
     },
     "metadata": {},
     "output_type": "display_data"
    }
   ],
   "source": [
    "med_qa.dump(\"med_qa_400\")"
   ]
  },
  {
   "cell_type": "code",
   "execution_count": 129,
   "metadata": {},
   "outputs": [
    {
     "data": {
      "text/plain": [
       "| Name   | Train   | Valid   |   Test |\n",
       "|--------|---------|---------|--------|\n",
       "| med_qa | -       | -       |    100 |\n",
       "\n",
       "Not loaded: ['aqua', 'asdiv', 'commonsense_qa', 'entailment_bank', 'gsm8k', 'mawps', 'med_qa_open', 'medmc_qa', '_init_', 'mmlu_clinical_knowledge', 'mmlu_college_biology', 'mmlu_college_medicine', 'mmlu_medical_genetics', 'mmlu_professional_medicine', '_init_', 'mmlu_anatomy', 'open_book_qa', 'pubmed_qa', 'qed', 'strategy_qa', 'svamp', 'worldtree']"
      ]
     },
     "execution_count": 129,
     "metadata": {},
     "output_type": "execute_result"
    }
   ],
   "source": [
    "med_qa_ts_100"
   ]
  },
  {
   "cell_type": "code",
   "execution_count": 130,
   "metadata": {},
   "outputs": [
    {
     "data": {
      "application/vnd.jupyter.widget-view+json": {
       "model_id": "f9c6fb409e274e1b8519babbf189523e",
       "version_major": 2,
       "version_minor": 0
      },
      "text/plain": [
       "Creating json from Arrow format:   0%|          | 0/1 [00:00<?, ?ba/s]"
      ]
     },
     "metadata": {},
     "output_type": "display_data"
    },
    {
     "data": {
      "application/vnd.jupyter.widget-view+json": {
       "model_id": "dd3ed0f0c77744bfbc238d14f774c973",
       "version_major": 2,
       "version_minor": 0
      },
      "text/plain": [
       "Creating json from Arrow format:   0%|          | 0/1 [00:00<?, ?ba/s]"
      ]
     },
     "metadata": {},
     "output_type": "display_data"
    }
   ],
   "source": [
    "test = med_qa.merge(med_qa_ts_100)"
   ]
  },
  {
   "cell_type": "code",
   "execution_count": 131,
   "metadata": {},
   "outputs": [
    {
     "data": {
      "text/plain": [
       "| Name   | Train   | Valid   |   Test |\n",
       "|--------|---------|---------|--------|\n",
       "| med_qa | -       | -       |    500 |\n",
       "\n",
       "Not loaded: ['aqua', 'asdiv', 'commonsense_qa', 'entailment_bank', 'gsm8k', 'mawps', 'med_qa_open', 'medmc_qa', '_init_', 'mmlu_clinical_knowledge', 'mmlu_college_biology', 'mmlu_college_medicine', 'mmlu_medical_genetics', 'mmlu_professional_medicine', '_init_', 'mmlu_anatomy', 'open_book_qa', 'pubmed_qa', 'qed', 'strategy_qa', 'svamp', 'worldtree']"
      ]
     },
     "execution_count": 131,
     "metadata": {},
     "output_type": "execute_result"
    }
   ],
   "source": [
    "test"
   ]
  },
  {
   "attachments": {},
   "cell_type": "markdown",
   "metadata": {},
   "source": [
    "## Generate extra data"
   ]
  },
  {
   "cell_type": "code",
   "execution_count": 29,
   "metadata": {},
   "outputs": [
    {
     "data": {
      "application/vnd.jupyter.widget-view+json": {
       "model_id": "69b78088199c424cacd379d76f04a9e6",
       "version_major": 2,
       "version_minor": 0
      },
      "text/plain": [
       "Creating json from Arrow format:   0%|          | 0/1 [00:00<?, ?ba/s]"
      ]
     },
     "metadata": {},
     "output_type": "display_data"
    },
    {
     "data": {
      "application/vnd.jupyter.widget-view+json": {
       "model_id": "6db2ec510b3b4c92a86fbf5844e8a7de",
       "version_major": 2,
       "version_minor": 0
      },
      "text/plain": [
       "Creating json from Arrow format:   0%|          | 0/1 [00:00<?, ?ba/s]"
      ]
     },
     "metadata": {},
     "output_type": "display_data"
    },
    {
     "data": {
      "text/plain": [
       "| Name   | Train   | Valid   |   Test |\n",
       "|--------|---------|---------|--------|\n",
       "| med_qa | -       | -       |    500 |\n",
       "\n",
       "Not loaded: ['aqua', 'asdiv', 'commonsense_qa', 'entailment_bank', 'gsm8k', 'mawps', 'med_qa_open', 'medmc_qa', '_init_', 'mmlu_clinical_knowledge', 'mmlu_college_biology', 'mmlu_college_medicine', 'mmlu_medical_genetics', 'mmlu_professional_medicine', '_init_', 'mmlu_anatomy', 'open_book_qa', 'pubmed_qa', 'qed', 'strategy_qa', 'svamp', 'worldtree']"
      ]
     },
     "execution_count": 29,
     "metadata": {},
     "output_type": "execute_result"
    }
   ],
   "source": [
    "from cot import Collection\n",
    "med_qa_400 = Collection.from_json(\"med_qa_400.json\")\n",
    "med_qa_100 = Collection.from_json(\"med_qa_zhou.json\")\n",
    "med_qa_500 = med_qa_400.merge(med_qa_100)\n",
    "med_qa_500\n",
    "# gpt-3.5-turbo-0613"
   ]
  },
  {
   "cell_type": "code",
   "execution_count": 31,
   "metadata": {},
   "outputs": [
    {
     "name": "stdout",
     "output_type": "stream",
     "text": [
      "Generating med_qa...\n"
     ]
    },
    {
     "data": {
      "application/vnd.jupyter.widget-view+json": {
       "model_id": "dbaee556fa6249978ab76fc41d957d78",
       "version_major": 2,
       "version_minor": 0
      },
      "text/plain": [
       "  0%|          | 0/500 [00:00<?, ?ex/s]"
      ]
     },
     "metadata": {},
     "output_type": "display_data"
    },
    {
     "name": "stderr",
     "output_type": "stream",
     "text": [
      "Retrying langchain.chat_models.openai.ChatOpenAI.completion_with_retry.<locals>._completion_with_retry in 1.0 seconds as it raised RateLimitError: That model is currently overloaded with other requests. You can retry your request, or contact us through our help center at help.openai.com if the error persists. (Please include the request ID d9c6f8bc4b53664f5cefb6ca952d7093 in your message.).\n",
      "Retrying langchain.chat_models.openai.ChatOpenAI.completion_with_retry.<locals>._completion_with_retry in 1.0 seconds as it raised RateLimitError: That model is currently overloaded with other requests. You can retry your request, or contact us through our help center at help.openai.com if the error persists. (Please include the request ID 7894dd66f9a9bfca9180656ba909060f in your message.).\n",
      "Retrying langchain.chat_models.openai.ChatOpenAI.completion_with_retry.<locals>._completion_with_retry in 1.0 seconds as it raised RateLimitError: That model is currently overloaded with other requests. You can retry your request, or contact us through our help center at help.openai.com if the error persists. (Please include the request ID d8d09ae8865b20b0bd11b677394f5527 in your message.).\n",
      "Retrying langchain.chat_models.openai.ChatOpenAI.completion_with_retry.<locals>._completion_with_retry in 1.0 seconds as it raised RateLimitError: That model is currently overloaded with other requests. You can retry your request, or contact us through our help center at help.openai.com if the error persists. (Please include the request ID 63b2c78deddd0c917dd27bd27fe57b8c in your message.).\n"
     ]
    },
    {
     "data": {
      "application/vnd.jupyter.widget-view+json": {
       "model_id": "bd51cc3f84594ffca3f9feb379091d5e",
       "version_major": 2,
       "version_minor": 0
      },
      "text/plain": [
       "Creating json from Arrow format:   0%|          | 0/1 [00:00<?, ?ba/s]"
      ]
     },
     "metadata": {},
     "output_type": "display_data"
    },
    {
     "data": {
      "application/vnd.jupyter.widget-view+json": {
       "model_id": "077b8a643cec48ad93e9360166c7fb78",
       "version_major": 2,
       "version_minor": 0
      },
      "text/plain": [
       "  0%|          | 0/500 [00:00<?, ?ex/s]"
      ]
     },
     "metadata": {},
     "output_type": "display_data"
    },
    {
     "data": {
      "application/vnd.jupyter.widget-view+json": {
       "model_id": "9cb6770e5ea640ccb28915e31b818803",
       "version_major": 2,
       "version_minor": 0
      },
      "text/plain": [
       "Creating json from Arrow format:   0%|          | 0/1 [00:00<?, ?ba/s]"
      ]
     },
     "metadata": {},
     "output_type": "display_data"
    },
    {
     "data": {
      "application/vnd.jupyter.widget-view+json": {
       "model_id": "9779f37353dc4400ae50e17a2b8c8a18",
       "version_major": 2,
       "version_minor": 0
      },
      "text/plain": [
       "  0%|          | 0/500 [00:00<?, ?ex/s]"
      ]
     },
     "metadata": {},
     "output_type": "display_data"
    },
    {
     "data": {
      "text/plain": [
       "{'med_qa': {'test': {'accuracy': {'gpt-3.5-turbo': {'None_zhou-01_kojima-A-E': 0.58},\n",
       "    'gpt-3.5-turbo-0613': {'None_zhou-01_kojima-A-E': 0.63}}}}}"
      ]
     },
     "execution_count": 31,
     "metadata": {},
     "output_type": "execute_result"
    }
   ],
   "source": [
    "med_qa = med_qa_500\n",
    "config={\n",
    "    \"instruction_keys\": None,\n",
    "    \"cot_trigger_keys\": [\"zhou-01\"],\n",
    "    \"answer_extraction_keys\": 'auto-kojima', \n",
    "    \"author\" : \"thoughtsource\",\n",
    "    \"api_service\": \"openai_chat\",\n",
    "    \"api_time_interval\": 1,\n",
    "    \"engine\": \"gpt-3.5-turbo-0613\", \n",
    "    \"temperature\": 0,\n",
    "    \"max_tokens\": 512,\n",
    "    \"verbose\": False,\n",
    "    \"warn\": False,\n",
    "}\n",
    "med_qa.generate(config=config)\n",
    "med_qa.dump(\"med_qa_500_turbo-0613\")\n",
    "med_qa.evaluate()\n",
    "med_qa.dump(\"med_qa_400_turbo-0613_eval\")\n",
    "med_qa.evaluate()"
   ]
  },
  {
   "cell_type": "code",
   "execution_count": null,
   "metadata": {},
   "outputs": [],
   "source": [
    "# generate cohere\n",
    "config={\n",
    "    \"instruction_keys\": None,\n",
    "    \"cot_trigger_keys\": [\"zhou-01\"],\n",
    "    \"answer_extraction_keys\": 'auto-kojima', \n",
    "    \"author\" : \"thoughtsource\",\n",
    "    \"api_service\": \"cohere\",\n",
    "    \"api_time_interval\": 1,\n",
    "    \"engine\": \"command-xlarge-nightly\", \n",
    "    \"temperature\": 0,\n",
    "    \"max_tokens\": 512,\n",
    "    \"verbose\": False,\n",
    "    \"warn\": False,\n",
    "}\n",
    "med_qa.generate(config=config)\n",
    "\n",
    "# med_qa.dump(\"med_qa_zhou_cohere.json\")\n",
    "# med_qa.evaluate()\n",
    "# med_qa.dump(\"med_qa_zhou_cohere.json\")"
   ]
  },
  {
   "cell_type": "code",
   "execution_count": 31,
   "metadata": {},
   "outputs": [
    {
     "name": "stdout",
     "output_type": "stream",
     "text": [
      "Generating med_qa...\n"
     ]
    }
   ],
   "source": [
    "# generate gpt-3.5-turbo\n",
    "config={\n",
    "    \"instruction_keys\": None,\n",
    "    \"cot_trigger_keys\": [\"zhou-01\"],\n",
    "    \"answer_extraction_keys\": 'auto-kojima', \n",
    "    \"author\" : \"thoughtsource\",\n",
    "    \"api_service\": \"openai_chat\",\n",
    "    \"api_time_interval\": 1,\n",
    "    \"engine\": \"gpt-3.5-turbo\", \n",
    "    \"temperature\": 0,\n",
    "    \"max_tokens\": 512,\n",
    "    \"verbose\": False,\n",
    "    \"warn\": False,\n",
    "}\n",
    "med_qa.generate(config=config)\n",
    "# med_qa.dump(\"med_qa_zhou.json\")\n",
    "# med_qa.evaluate()\n",
    "# med_qa.dump(\"med_qa_zhou_eval.json\")"
   ]
  },
  {
   "cell_type": "code",
   "execution_count": 42,
   "metadata": {},
   "outputs": [
    {
     "name": "stdout",
     "output_type": "stream",
     "text": [
      "Generating med_qa...\n"
     ]
    },
    {
     "data": {
      "application/vnd.jupyter.widget-view+json": {
       "model_id": "74b395ce1ccc42469579491b11266cfb",
       "version_major": 2,
       "version_minor": 0
      },
      "text/plain": [
       "  0%|          | 0/400 [00:00<?, ?ex/s]"
      ]
     },
     "metadata": {},
     "output_type": "display_data"
    },
    {
     "name": "stderr",
     "output_type": "stream",
     "text": [
      "Retrying langchain.chat_models.openai.ChatOpenAI.completion_with_retry.<locals>._completion_with_retry in 1.0 seconds as it raised APIError: Request failed due to server shutdown {\n",
      "  \"error\": {\n",
      "    \"message\": \"Request failed due to server shutdown\",\n",
      "    \"type\": \"server_error\",\n",
      "    \"param\": null,\n",
      "    \"code\": null\n",
      "  }\n",
      "}\n",
      " 500 {'error': {'message': 'Request failed due to server shutdown', 'type': 'server_error', 'param': None, 'code': None}} {'Date': 'Fri, 02 Jun 2023 21:49:42 GMT', 'Content-Type': 'application/json', 'Content-Length': '141', 'Connection': 'keep-alive', 'access-control-allow-origin': '*', 'openai-model': 'gpt-4-0314', 'openai-organization': 'medical-university-of-vienna', 'openai-processing-ms': '32142', 'openai-version': '2020-10-01', 'strict-transport-security': 'max-age=15724800; includeSubDomains', 'x-ratelimit-limit-requests': '200', 'x-ratelimit-limit-tokens': '40000', 'x-ratelimit-remaining-requests': '199', 'x-ratelimit-remaining-tokens': '39192', 'x-ratelimit-reset-requests': '300ms', 'x-ratelimit-reset-tokens': '1.212s', 'x-request-id': '6ec654aeae99d4f7106abc0f665ecff3', 'CF-Cache-Status': 'DYNAMIC', 'Server': 'cloudflare', 'CF-RAY': '7d12e798eb5bb912-AMS', 'alt-svc': 'h3=\":443\"; ma=86400'}.\n",
      "Retrying langchain.chat_models.openai.ChatOpenAI.completion_with_retry.<locals>._completion_with_retry in 1.0 seconds as it raised APIError: Bad gateway. {\"error\":{\"code\":502,\"message\":\"Bad gateway.\",\"param\":null,\"type\":\"cf_bad_gateway\"}} 502 {'error': {'code': 502, 'message': 'Bad gateway.', 'param': None, 'type': 'cf_bad_gateway'}} {'Date': 'Fri, 02 Jun 2023 22:06:36 GMT', 'Content-Type': 'application/json', 'Content-Length': '84', 'Connection': 'keep-alive', 'X-Frame-Options': 'SAMEORIGIN', 'Referrer-Policy': 'same-origin', 'Cache-Control': 'private, max-age=0, no-store, no-cache, must-revalidate, post-check=0, pre-check=0', 'Expires': 'Thu, 01 Jan 1970 00:00:01 GMT', 'Server': 'cloudflare', 'CF-RAY': '7d12f98cf9f4b912-AMS', 'alt-svc': 'h3=\":443\"; ma=86400'}.\n",
      "Retrying langchain.chat_models.openai.ChatOpenAI.completion_with_retry.<locals>._completion_with_retry in 1.0 seconds as it raised APIError: Bad gateway. {\"error\":{\"code\":502,\"message\":\"Bad gateway.\",\"param\":null,\"type\":\"cf_bad_gateway\"}} 502 {'error': {'code': 502, 'message': 'Bad gateway.', 'param': None, 'type': 'cf_bad_gateway'}} {'Date': 'Fri, 02 Jun 2023 22:14:43 GMT', 'Content-Type': 'application/json', 'Content-Length': '84', 'Connection': 'keep-alive', 'X-Frame-Options': 'SAMEORIGIN', 'Referrer-Policy': 'same-origin', 'Cache-Control': 'private, max-age=0, no-store, no-cache, must-revalidate, post-check=0, pre-check=0', 'Expires': 'Thu, 01 Jan 1970 00:00:01 GMT', 'Server': 'cloudflare', 'CF-RAY': '7d13056e9b02b912-AMS', 'alt-svc': 'h3=\":443\"; ma=86400'}.\n",
      "Retrying langchain.chat_models.openai.ChatOpenAI.completion_with_retry.<locals>._completion_with_retry in 1.0 seconds as it raised APIError: Bad gateway. {\"error\":{\"code\":502,\"message\":\"Bad gateway.\",\"param\":null,\"type\":\"cf_bad_gateway\"}} 502 {'error': {'code': 502, 'message': 'Bad gateway.', 'param': None, 'type': 'cf_bad_gateway'}} {'Date': 'Fri, 02 Jun 2023 22:23:50 GMT', 'Content-Type': 'application/json', 'Content-Length': '84', 'Connection': 'keep-alive', 'X-Frame-Options': 'SAMEORIGIN', 'Referrer-Policy': 'same-origin', 'Cache-Control': 'private, max-age=0, no-store, no-cache, must-revalidate, post-check=0, pre-check=0', 'Expires': 'Thu, 01 Jan 1970 00:00:01 GMT', 'Server': 'cloudflare', 'CF-RAY': '7d1312c3afb5b912-AMS', 'alt-svc': 'h3=\":443\"; ma=86400'}.\n",
      "Retrying langchain.chat_models.openai.ChatOpenAI.completion_with_retry.<locals>._completion_with_retry in 1.0 seconds as it raised Timeout: Request timed out: HTTPSConnectionPool(host='api.openai.com', port=443): Read timed out. (read timeout=600).\n"
     ]
    },
    {
     "data": {
      "application/vnd.jupyter.widget-view+json": {
       "model_id": "df3d7cf83f144bcc87ac214589cfb2c6",
       "version_major": 2,
       "version_minor": 0
      },
      "text/plain": [
       "Creating json from Arrow format:   0%|          | 0/1 [00:00<?, ?ba/s]"
      ]
     },
     "metadata": {},
     "output_type": "display_data"
    },
    {
     "data": {
      "application/vnd.jupyter.widget-view+json": {
       "model_id": "e529e8710b644e8e901ecabc2156e348",
       "version_major": 2,
       "version_minor": 0
      },
      "text/plain": [
       "  0%|          | 0/400 [00:00<?, ?ex/s]"
      ]
     },
     "metadata": {},
     "output_type": "display_data"
    },
    {
     "data": {
      "application/vnd.jupyter.widget-view+json": {
       "model_id": "e170ee4f35d4448dbb9825cc7c68b56f",
       "version_major": 2,
       "version_minor": 0
      },
      "text/plain": [
       "Creating json from Arrow format:   0%|          | 0/1 [00:00<?, ?ba/s]"
      ]
     },
     "metadata": {},
     "output_type": "display_data"
    },
    {
     "data": {
      "application/vnd.jupyter.widget-view+json": {
       "model_id": "9d6c85da1f10458480cda4012b3983cd",
       "version_major": 2,
       "version_minor": 0
      },
      "text/plain": [
       "  0%|          | 0/400 [00:00<?, ?ex/s]"
      ]
     },
     "metadata": {},
     "output_type": "display_data"
    },
    {
     "data": {
      "text/plain": [
       "{'med_qa': {'test': {'accuracy': {'gpt-4': {'None_zhou-01_kojima-A-E': 0.785}}}}}"
      ]
     },
     "execution_count": 42,
     "metadata": {},
     "output_type": "execute_result"
    }
   ],
   "source": [
    "from cot import Collection\n",
    "# med_qa = Collection.from_json(\"med_qa_400.json\")\n",
    "\n",
    "# generate gpt-4\n",
    "config={\n",
    "    \"instruction_keys\": None,\n",
    "    \"cot_trigger_keys\": [\"zhou-01\"],\n",
    "    \"answer_extraction_keys\": 'auto-kojima', \n",
    "    \"author\" : \"thoughtsource\",\n",
    "    \"api_service\": \"openai_chat\",\n",
    "    \"api_time_interval\": 1,\n",
    "    \"engine\": \"gpt-4\", \n",
    "    \"temperature\": 0,\n",
    "    \"max_tokens\": 512,\n",
    "    \"verbose\": False,\n",
    "    \"warn\": False,\n",
    "}\n",
    "med_qa.generate(config=config)\n",
    "\n",
    "med_qa.dump(\"med_qa_400_gpt4.json\")\n",
    "med_qa.evaluate()\n",
    "med_qa.dump(\"med_qa_400_eval_gpt4.json\")\n",
    "\n",
    "med_qa.evaluate()"
   ]
  },
  {
   "attachments": {},
   "cell_type": "markdown",
   "metadata": {},
   "source": [
    "## Template"
   ]
  },
  {
   "cell_type": "code",
   "execution_count": 16,
   "metadata": {},
   "outputs": [],
   "source": [
    "path = \"./final_system_messages/first_template.yaml\""
   ]
  },
  {
   "attachments": {},
   "cell_type": "markdown",
   "metadata": {},
   "source": [
    "## Run Reflection"
   ]
  },
  {
   "cell_type": "code",
   "execution_count": 19,
   "metadata": {},
   "outputs": [
    {
     "data": {
      "application/vnd.jupyter.widget-view+json": {
       "model_id": "b99868f4460847daab56cddc1cf599de",
       "version_major": 2,
       "version_minor": 0
      },
      "text/plain": [
       "Creating json from Arrow format:   0%|          | 0/1 [00:00<?, ?ba/s]"
      ]
     },
     "metadata": {},
     "output_type": "display_data"
    },
    {
     "data": {
      "application/vnd.jupyter.widget-view+json": {
       "model_id": "5a939884d4484a57aeebfd2477258016",
       "version_major": 2,
       "version_minor": 0
      },
      "text/plain": [
       "Creating json from Arrow format:   0%|          | 0/1 [00:00<?, ?ba/s]"
      ]
     },
     "metadata": {},
     "output_type": "display_data"
    },
    {
     "name": "stdout",
     "output_type": "stream",
     "text": [
      "Generating med_qa...\n"
     ]
    },
    {
     "data": {
      "application/vnd.jupyter.widget-view+json": {
       "model_id": "7be8865829a14f34ac387a1e6bfa7606",
       "version_major": 2,
       "version_minor": 0
      },
      "text/plain": [
       "  0%|          | 0/500 [00:00<?, ?ex/s]"
      ]
     },
     "metadata": {},
     "output_type": "display_data"
    },
    {
     "name": "stdout",
     "output_type": "stream",
     "text": [
      "(API-)Error in item 93: That model is currently overloaded with other requests. You can retry your request, or contact us through our help center at help.openai.com if the error persists. (Please include the request ID 27a0f22969e99c7ee3521b1e596f01f1 in your message.)\n",
      "Retrying with additional time of 10 seconds.\n",
      "(API-)Error in item 183: That model is currently overloaded with other requests. You can retry your request, or contact us through our help center at help.openai.com if the error persists. (Please include the request ID 4f94e982666644fba1c65f92c410b8c0 in your message.)\n",
      "Retrying with additional time of 10 seconds.\n",
      "(API-)Error in item 416: That model is currently overloaded with other requests. You can retry your request, or contact us through our help center at help.openai.com if the error persists. (Please include the request ID 8d03ee86f17c43f3394242560120f28a in your message.)\n",
      "Retrying with additional time of 10 seconds.\n"
     ]
    },
    {
     "data": {
      "application/vnd.jupyter.widget-view+json": {
       "model_id": "89eb7726a77a4791bafcfc43b5e1aa4e",
       "version_major": 2,
       "version_minor": 0
      },
      "text/plain": [
       "Creating json from Arrow format:   0%|          | 0/1 [00:00<?, ?ba/s]"
      ]
     },
     "metadata": {},
     "output_type": "display_data"
    }
   ],
   "source": [
    "# gpt-3.5-turbo reflects on cohere \n",
    "med_qa_cohere = Collection.from_json(\"./prelim_output/med_qa_zhou_cohere.json\")\n",
    "med_qa_cohere_400 = Collection.from_json(\"./med_qa_400_zhou_cohere.json\")\n",
    "cohere_500 = med_qa_cohere.merge(med_qa_cohere_400)\n",
    "data = cohere_500 #med_qa_cohere\n",
    "model = 'gpt-3.5-turbo-0613'\n",
    "system_evaluate(data,model,path)\n",
    "\n",
    "dataset_name = \"med_qa\"\n",
    "template = \"first\"\n",
    "base_model = \"cohere\"\n",
    "critique_model = \"gpt-3.5-turbo-0613\"\n",
    "\n",
    "dump_path = f\"{dataset_name}_{template}_{base_model}_{critique_model}\"\n",
    "data.dump(dump_path+\".json\")\n",
    "\n",
    "\n"
   ]
  },
  {
   "cell_type": "code",
   "execution_count": 22,
   "metadata": {},
   "outputs": [
    {
     "data": {
      "application/vnd.jupyter.widget-view+json": {
       "model_id": "d90df657980242e587941ab4c72590c3",
       "version_major": 2,
       "version_minor": 0
      },
      "text/plain": [
       "Creating json from Arrow format:   0%|          | 0/1 [00:00<?, ?ba/s]"
      ]
     },
     "metadata": {},
     "output_type": "display_data"
    },
    {
     "data": {
      "application/vnd.jupyter.widget-view+json": {
       "model_id": "5d03f5549dd54a5eab035138033a780a",
       "version_major": 2,
       "version_minor": 0
      },
      "text/plain": [
       "Creating json from Arrow format:   0%|          | 0/1 [00:00<?, ?ba/s]"
      ]
     },
     "metadata": {},
     "output_type": "display_data"
    },
    {
     "data": {
      "text/plain": [
       "| Name   | Train   | Valid   |   Test |\n",
       "|--------|---------|---------|--------|\n",
       "| med_qa | -       | -       |    500 |\n",
       "\n",
       "Not loaded: ['aqua', 'asdiv', 'commonsense_qa', 'entailment_bank', 'gsm8k', 'mawps', 'med_qa_open', 'medmc_qa', '_init_', 'mmlu_clinical_knowledge', 'mmlu_college_biology', 'mmlu_college_medicine', 'mmlu_medical_genetics', 'mmlu_professional_medicine', '_init_', 'mmlu_anatomy', 'open_book_qa', 'pubmed_qa', 'qed', 'strategy_qa', 'svamp', 'worldtree']"
      ]
     },
     "execution_count": 22,
     "metadata": {},
     "output_type": "execute_result"
    }
   ],
   "source": [
    "# 3.5 on 3.5\n",
    "med_qa_turbo_100 = Collection.from_json(\"./prelim_output/med_qa_zhou_eval_chatgpt.json\")\n",
    "med_qa_turbo_400 = Collection.from_json(\"./med_qa_400_turbo_eval.json\")\n",
    "\n",
    "med_qa_500 = med_qa_turbo_100.merge(med_qa_turbo_400)\n",
    "med_qa_500"
   ]
  },
  {
   "attachments": {},
   "cell_type": "markdown",
   "metadata": {},
   "source": []
  },
  {
   "cell_type": "code",
   "execution_count": 23,
   "metadata": {},
   "outputs": [
    {
     "name": "stdout",
     "output_type": "stream",
     "text": [
      "Generating med_qa...\n"
     ]
    },
    {
     "data": {
      "application/vnd.jupyter.widget-view+json": {
       "model_id": "2cbf51ff6fc94b62b4a5b1a268cd35dc",
       "version_major": 2,
       "version_minor": 0
      },
      "text/plain": [
       "  0%|          | 0/500 [00:00<?, ?ex/s]"
      ]
     },
     "metadata": {},
     "output_type": "display_data"
    },
    {
     "name": "stdout",
     "output_type": "stream",
     "text": [
      "(API-)Error in item 238: That model is currently overloaded with other requests. You can retry your request, or contact us through our help center at help.openai.com if the error persists. (Please include the request ID b9faeb6d98a870e07ab7bbaa7e300c75 in your message.)\n",
      "Retrying with additional time of 10 seconds.\n"
     ]
    },
    {
     "data": {
      "application/vnd.jupyter.widget-view+json": {
       "model_id": "4168adda19434a2a9e8278e5869e572b",
       "version_major": 2,
       "version_minor": 0
      },
      "text/plain": [
       "Creating json from Arrow format:   0%|          | 0/1 [00:00<?, ?ba/s]"
      ]
     },
     "metadata": {},
     "output_type": "display_data"
    }
   ],
   "source": [
    "# 3.5 on 3.5\n",
    "\n",
    "data = med_qa_500\n",
    "model = 'gpt-3.5-turbo-0613'\n",
    "system_evaluate(data,model,path)\n",
    "\n",
    "dataset_name = \"med_qa\"\n",
    "template = \"first\"\n",
    "base_model = \"gpt-3.5-turbo\"\n",
    "critique_model = \"gpt-3.5-turbo-0613\"\n",
    "\n",
    "dump_path = f\"{dataset_name}_{template}_{base_model}_{critique_model}\"\n",
    "data.dump(dump_path+\".json\")"
   ]
  },
  {
   "cell_type": "code",
   "execution_count": 32,
   "metadata": {},
   "outputs": [
    {
     "name": "stdout",
     "output_type": "stream",
     "text": [
      "Generating med_qa...\n"
     ]
    },
    {
     "data": {
      "application/vnd.jupyter.widget-view+json": {
       "model_id": "1224b06877a0464d93bea52b48c1b446",
       "version_major": 2,
       "version_minor": 0
      },
      "text/plain": [
       "  0%|          | 0/500 [00:00<?, ?ex/s]"
      ]
     },
     "metadata": {},
     "output_type": "display_data"
    },
    {
     "name": "stdout",
     "output_type": "stream",
     "text": [
      "(API-)Error in item 250: That model is currently overloaded with other requests. You can retry your request, or contact us through our help center at help.openai.com if the error persists. (Please include the request ID 0e4ec0fc26d8b69b3d4acf6fce3f8f05 in your message.)\n",
      "Retrying with additional time of 10 seconds.\n"
     ]
    },
    {
     "data": {
      "application/vnd.jupyter.widget-view+json": {
       "model_id": "bf1cbb9295124b2ba72e49167823ca01",
       "version_major": 2,
       "version_minor": 0
      },
      "text/plain": [
       "Creating json from Arrow format:   0%|          | 0/1 [00:00<?, ?ba/s]"
      ]
     },
     "metadata": {},
     "output_type": "display_data"
    }
   ],
   "source": [
    "# 3.5 on 3.5 both new\n",
    "data = Collection.from_json(\"./med_qa_500_turbo-0613.json\")\n",
    "model = 'gpt-3.5-turbo-0613'\n",
    "system_evaluate(data,model,path)\n",
    "\n",
    "dataset_name = \"med_qa\"\n",
    "template = \"first\"\n",
    "base_model = \"gpt-3.5-turbo-0613\"\n",
    "critique_model = \"gpt-3.5-turbo-0613\"\n",
    "\n",
    "dump_path = f\"{dataset_name}_{template}_{base_model}_{critique_model}\"\n",
    "data.dump(dump_path+\".json\")"
   ]
  },
  {
   "cell_type": "code",
   "execution_count": 24,
   "metadata": {},
   "outputs": [
    {
     "data": {
      "application/vnd.jupyter.widget-view+json": {
       "model_id": "089de2635b264670b1169da4b044b3e5",
       "version_major": 2,
       "version_minor": 0
      },
      "text/plain": [
       "Creating json from Arrow format:   0%|          | 0/1 [00:00<?, ?ba/s]"
      ]
     },
     "metadata": {},
     "output_type": "display_data"
    },
    {
     "data": {
      "application/vnd.jupyter.widget-view+json": {
       "model_id": "4502eb89e8d343f29bad6c2d2e567c85",
       "version_major": 2,
       "version_minor": 0
      },
      "text/plain": [
       "Creating json from Arrow format:   0%|          | 0/1 [00:00<?, ?ba/s]"
      ]
     },
     "metadata": {},
     "output_type": "display_data"
    }
   ],
   "source": [
    "med_qa_gpt_4 = Collection.from_json(\"./prelim_output/med_qa_zhou_eval_gpt4.json\")\n",
    "med_qa_gpt_4_400 = Collection.from_json(\"med_qa_400_eval_gpt4.json\")\n",
    "data = med_qa_gpt_4.merge(med_qa_gpt_4_400)"
   ]
  },
  {
   "cell_type": "code",
   "execution_count": 25,
   "metadata": {},
   "outputs": [
    {
     "name": "stdout",
     "output_type": "stream",
     "text": [
      "Generating med_qa...\n"
     ]
    },
    {
     "data": {
      "application/vnd.jupyter.widget-view+json": {
       "model_id": "bafd004bb8a44c73a9225a5d94eef29d",
       "version_major": 2,
       "version_minor": 0
      },
      "text/plain": [
       "  0%|          | 0/500 [00:00<?, ?ex/s]"
      ]
     },
     "metadata": {},
     "output_type": "display_data"
    },
    {
     "name": "stdout",
     "output_type": "stream",
     "text": [
      "(API-)Error in item 286: That model is currently overloaded with other requests. You can retry your request, or contact us through our help center at help.openai.com if the error persists. (Please include the request ID 0b17254b7dbc4a560c0feda93f8df637 in your message.)\n",
      "Retrying with additional time of 10 seconds.\n"
     ]
    },
    {
     "data": {
      "application/vnd.jupyter.widget-view+json": {
       "model_id": "9ecee77ffd8f4898ad9199df8d3aec71",
       "version_major": 2,
       "version_minor": 0
      },
      "text/plain": [
       "Creating json from Arrow format:   0%|          | 0/1 [00:00<?, ?ba/s]"
      ]
     },
     "metadata": {},
     "output_type": "display_data"
    }
   ],
   "source": [
    "#3.5 on 4\n",
    "model = 'gpt-3.5-turbo-0613'\n",
    "system_evaluate(data,model,path)\n",
    "\n",
    "dataset_name = \"med_qa\"\n",
    "template = \"first\"\n",
    "base_model = \"gpt-4\"\n",
    "critique_model = \"gpt-3.5-turbo-0613\"\n",
    "\n",
    "dump_path = f\"{dataset_name}_{template}_{base_model}_{critique_model}\"\n",
    "data.dump(dump_path+\".json\")"
   ]
  },
  {
   "cell_type": "code",
   "execution_count": 10,
   "metadata": {},
   "outputs": [
    {
     "name": "stdout",
     "output_type": "stream",
     "text": [
      "Generating med_qa...\n"
     ]
    },
    {
     "data": {
      "application/vnd.jupyter.widget-view+json": {
       "model_id": "8c6551aafe2046528d718412a4a358f5",
       "version_major": 2,
       "version_minor": 0
      },
      "text/plain": [
       "  0%|          | 0/500 [00:00<?, ?ex/s]"
      ]
     },
     "metadata": {},
     "output_type": "display_data"
    },
    {
     "data": {
      "application/vnd.jupyter.widget-view+json": {
       "model_id": "355574c75af34493ad3af010ea661594",
       "version_major": 2,
       "version_minor": 0
      },
      "text/plain": [
       "Creating json from Arrow format:   0%|          | 0/1 [00:00<?, ?ba/s]"
      ]
     },
     "metadata": {},
     "output_type": "display_data"
    }
   ],
   "source": [
    "# gpt-4 reflects on cohere \n",
    "data = cohere_500 #med_qa_cohere\n",
    "model = 'gpt-4'\n",
    "system_evaluate(data,model,path)\n",
    "\n",
    "dataset_name = \"med_qa\"\n",
    "template = \"first\"\n",
    "base_model = \"cohere\"\n",
    "critique_model = \"gpt-4\"\n",
    "\n",
    "dump_path = f\"{dataset_name}_{template}_{base_model}_{critique_model}\"\n",
    "data.dump(dump_path+\".json\")"
   ]
  },
  {
   "cell_type": "code",
   "execution_count": 37,
   "metadata": {},
   "outputs": [
    {
     "name": "stdout",
     "output_type": "stream",
     "text": [
      "Generating med_qa...\n"
     ]
    },
    {
     "data": {
      "application/vnd.jupyter.widget-view+json": {
       "model_id": "8838aaa02ef44c389c63d70da6471100",
       "version_major": 2,
       "version_minor": 0
      },
      "text/plain": [
       "  0%|          | 0/400 [00:00<?, ?ex/s]"
      ]
     },
     "metadata": {},
     "output_type": "display_data"
    },
    {
     "name": "stdout",
     "output_type": "stream",
     "text": [
      "(API-)Error in item 149: Error communicating with OpenAI: ('Connection aborted.', ConnectionResetError(54, 'Connection reset by peer'))\n",
      "Retrying with additional time of 10 seconds.\n"
     ]
    }
   ],
   "source": [
    "# 3.5 on 3.5\n",
    "med_qa_turbo = Collection.from_json(\"./prelim_output/med_qa_zhou_eval_chatgpt.json\")\n",
    "#/Users/robertpraas/ThoughtSource/notebooks/reflection_messages/med_qa_400_turbo_eval.json\n",
    "\n",
    "cohere_500 = med_qa_cohere.merge(med_qa_cohere_400)\n",
    "data = med_qa\n",
    "model = 'gpt-3.5-turbo'\n",
    "system_evaluate(data,model,path)\n",
    "\n",
    "dataset_name = \"med_qa\"\n",
    "template = \"first\"\n",
    "base_model = \"gpt-3.5-turbo\"\n",
    "critique_model = \"gpt-3.5-turbo\"\n",
    "\n",
    "# dump_path = f\"{dataset_name}_{template}_{base_model}_{critique_model}\"\n",
    "# data.dump(dump_path+\".json\")"
   ]
  },
  {
   "cell_type": "code",
   "execution_count": null,
   "metadata": {},
   "outputs": [],
   "source": []
  },
  {
   "cell_type": "code",
   "execution_count": 40,
   "metadata": {},
   "outputs": [
    {
     "data": {
      "application/vnd.jupyter.widget-view+json": {
       "model_id": "efdd09e96da245528f09e2d3184eef25",
       "version_major": 2,
       "version_minor": 0
      },
      "text/plain": [
       "Creating json from Arrow format:   0%|          | 0/1 [00:00<?, ?ba/s]"
      ]
     },
     "metadata": {},
     "output_type": "display_data"
    }
   ],
   "source": [
    "dump_path = f\"{dataset_name}_400_{template}_{base_model}_{critique_model}\"\n",
    "med_qa.dump(dump_path+\".json\")"
   ]
  },
  {
   "cell_type": "code",
   "execution_count": null,
   "metadata": {},
   "outputs": [],
   "source": [
    "# 4 on 3.5\n",
    "data = med_qa\n",
    "model = 'gpt-4'\n",
    "system_evaluate(data,model,path)\n",
    "\n",
    "dataset_name = \"med_qa\"\n",
    "template = \"first\"\n",
    "base_model = \"gpt-3.5-turbo\"\n",
    "critique_model = \"gpt-4\"\n",
    "\n",
    "dump_path = f\"{dataset_name}_400_{template}_{base_model}_{critique_model}\"\n",
    "data.dump(dump_path+\".json\")"
   ]
  },
  {
   "cell_type": "code",
   "execution_count": 3,
   "metadata": {},
   "outputs": [
    {
     "data": {
      "text/plain": [
       "| Name   | Train   | Valid   |   Test |\n",
       "|--------|---------|---------|--------|\n",
       "| med_qa | -       | -       |    100 |\n",
       "\n",
       "Not loaded: ['aqua', 'asdiv', 'commonsense_qa', 'entailment_bank', 'gsm8k', 'mawps', 'med_qa_open', 'medmc_qa', '_init_', 'mmlu_clinical_knowledge', 'mmlu_college_biology', 'mmlu_college_medicine', 'mmlu_medical_genetics', 'mmlu_professional_medicine', '_init_', 'mmlu_anatomy', 'open_book_qa', 'pubmed_qa', 'qed', 'strategy_qa', 'svamp', 'worldtree']"
      ]
     },
     "execution_count": 3,
     "metadata": {},
     "output_type": "execute_result"
    }
   ],
   "source": [
    "from cot import Collection\n",
    "data = Collection.from_json(\"/Users/robertpraas/ThoughtSource/notebooks/reflection_messages/prelim_output/med_qa_zhou_eval_gpt4.json\")\n",
    "data"
   ]
  },
  {
   "cell_type": "code",
   "execution_count": 10,
   "metadata": {},
   "outputs": [
    {
     "name": "stdout",
     "output_type": "stream",
     "text": [
      "Generating med_qa...\n"
     ]
    },
    {
     "data": {
      "application/vnd.jupyter.widget-view+json": {
       "model_id": "fe9d82a464964407b5727ff3430fad77",
       "version_major": 2,
       "version_minor": 0
      },
      "text/plain": [
       "  0%|          | 0/100 [00:00<?, ?ex/s]"
      ]
     },
     "metadata": {},
     "output_type": "display_data"
    },
    {
     "name": "stdout",
     "output_type": "stream",
     "text": [
      "(API-)Error in item 40: That model is currently overloaded with other requests. You can retry your request, or contact us through our help center at help.openai.com if the error persists. (Please include the request ID 8558c0df0f54fde504eddbfdc65233ec in your message.)\n",
      "Retrying with additional time of 10 seconds.\n"
     ]
    },
    {
     "data": {
      "application/vnd.jupyter.widget-view+json": {
       "model_id": "f6bc5342b35e404e987e93893911409d",
       "version_major": 2,
       "version_minor": 0
      },
      "text/plain": [
       "Creating json from Arrow format:   0%|          | 0/1 [00:00<?, ?ba/s]"
      ]
     },
     "metadata": {},
     "output_type": "display_data"
    }
   ],
   "source": [
    "#3.5 on 4 also run on 100\n",
    "med_qa_gpt_4 = Collection.from_json(\"./prelim_output/med_qa_zhou_eval_gpt4.json\")\n",
    "model = 'gpt-3.5-turbo'\n",
    "system_evaluate(data,model,path)\n",
    "\n",
    "dataset_name = \"med_qa\"\n",
    "template = \"first\"\n",
    "base_model = \"gpt-4\"\n",
    "critique_model = \"gpt-3.5-turbo\"\n",
    "\n",
    "dump_path = f\"{dataset_name}_100_{template}_{base_model}_{critique_model}\"\n",
    "data.dump(dump_path+\".json\")"
   ]
  },
  {
   "cell_type": "code",
   "execution_count": 45,
   "metadata": {},
   "outputs": [
    {
     "name": "stdout",
     "output_type": "stream",
     "text": [
      "Generating med_qa...\n"
     ]
    },
    {
     "data": {
      "application/vnd.jupyter.widget-view+json": {
       "model_id": "041495a415624cbbb285a1d7c2d7d5ec",
       "version_major": 2,
       "version_minor": 0
      },
      "text/plain": [
       "  0%|          | 0/400 [00:00<?, ?ex/s]"
      ]
     },
     "metadata": {},
     "output_type": "display_data"
    },
    {
     "name": "stdout",
     "output_type": "stream",
     "text": [
      "(API-)Error in item 76: Bad gateway. {\"error\":{\"code\":502,\"message\":\"Bad gateway.\",\"param\":null,\"type\":\"cf_bad_gateway\"}} 502 {'error': {'code': 502, 'message': 'Bad gateway.', 'param': None, 'type': 'cf_bad_gateway'}} {'Date': 'Sat, 03 Jun 2023 01:54:45 GMT', 'Content-Type': 'application/json', 'Content-Length': '84', 'Connection': 'keep-alive', 'X-Frame-Options': 'SAMEORIGIN', 'Referrer-Policy': 'same-origin', 'Cache-Control': 'private, max-age=0, no-store, no-cache, must-revalidate, post-check=0, pre-check=0', 'Expires': 'Thu, 01 Jan 1970 00:00:01 GMT', 'Server': 'cloudflare', 'CF-RAY': '7d144780de511af8-AMS', 'alt-svc': 'h3=\":443\"; ma=86400'}\n",
      "Retrying with additional time of 10 seconds.\n",
      "(API-)Error in item 157: Bad gateway. {\"error\":{\"code\":502,\"message\":\"Bad gateway.\",\"param\":null,\"type\":\"cf_bad_gateway\"}} 502 {'error': {'code': 502, 'message': 'Bad gateway.', 'param': None, 'type': 'cf_bad_gateway'}} {'Date': 'Sat, 03 Jun 2023 02:20:44 GMT', 'Content-Type': 'application/json', 'Content-Length': '84', 'Connection': 'keep-alive', 'X-Frame-Options': 'SAMEORIGIN', 'Referrer-Policy': 'same-origin', 'Cache-Control': 'private, max-age=0, no-store, no-cache, must-revalidate, post-check=0, pre-check=0', 'Expires': 'Thu, 01 Jan 1970 00:00:01 GMT', 'Server': 'cloudflare', 'CF-RAY': '7d146d8dfe861af8-AMS', 'alt-svc': 'h3=\":443\"; ma=86400'}\n",
      "Retrying with additional time of 10 seconds.\n"
     ]
    },
    {
     "data": {
      "application/vnd.jupyter.widget-view+json": {
       "model_id": "dda2107232eb46b69e5902e7fba0cacb",
       "version_major": 2,
       "version_minor": 0
      },
      "text/plain": [
       "Creating json from Arrow format:   0%|          | 0/1 [00:00<?, ?ba/s]"
      ]
     },
     "metadata": {},
     "output_type": "display_data"
    }
   ],
   "source": [
    "# 4 on 3.5\n",
    "data = Collection.from_json(\"med_qa_400_turbo_eval.json\")\n",
    "model = 'gpt-4'\n",
    "system_evaluate(data,model,path)\n",
    "\n",
    "dataset_name = \"med_qa\"\n",
    "template = \"first\"\n",
    "base_model = \"gpt-3.5-turbo\"\n",
    "critique_model = \"gpt-4\"\n",
    "\n",
    "dump_path = f\"{dataset_name}_400_{template}_{base_model}_{critique_model}\"\n",
    "data.dump(dump_path+\".json\")"
   ]
  },
  {
   "cell_type": "code",
   "execution_count": 46,
   "metadata": {},
   "outputs": [
    {
     "name": "stdout",
     "output_type": "stream",
     "text": [
      "Generating med_qa...\n"
     ]
    },
    {
     "data": {
      "application/vnd.jupyter.widget-view+json": {
       "model_id": "33f5d1a945634825965cdfed701ba918",
       "version_major": 2,
       "version_minor": 0
      },
      "text/plain": [
       "  0%|          | 0/400 [00:00<?, ?ex/s]"
      ]
     },
     "metadata": {},
     "output_type": "display_data"
    },
    {
     "data": {
      "application/vnd.jupyter.widget-view+json": {
       "model_id": "9ddc32773e624bf3a3810031b4c63611",
       "version_major": 2,
       "version_minor": 0
      },
      "text/plain": [
       "Creating json from Arrow format:   0%|          | 0/1 [00:00<?, ?ba/s]"
      ]
     },
     "metadata": {},
     "output_type": "display_data"
    }
   ],
   "source": [
    "# 4 on 4 - if costs allow\n",
    "data = Collection.from_json(\"med_qa_400_eval_gpt4.json\")\n",
    "model = \"gpt-4\"\n",
    "system_evaluate(data,model,path)\n",
    "\n",
    "dataset_name = \"med_qa\"\n",
    "template = \"first\"\n",
    "base_model = \"gpt-4\"\n",
    "critique_model = \"gpt-4\"\n",
    "\n",
    "dump_path = f\"{dataset_name}_400_{template}_{base_model}_{critique_model}\"\n",
    "data.dump(dump_path+\".json\")"
   ]
  },
  {
   "cell_type": "code",
   "execution_count": 48,
   "metadata": {},
   "outputs": [],
   "source": [
    "## second template\n",
    "path = \"./final_system_messages/first_template.yaml\""
   ]
  },
  {
   "cell_type": "code",
   "execution_count": 49,
   "metadata": {},
   "outputs": [
    {
     "name": "stdout",
     "output_type": "stream",
     "text": [
      "Generating med_qa...\n"
     ]
    },
    {
     "data": {
      "application/vnd.jupyter.widget-view+json": {
       "model_id": "d2fea8a063fa48049a6cf2841c03d22f",
       "version_major": 2,
       "version_minor": 0
      },
      "text/plain": [
       "  0%|          | 0/100 [00:00<?, ?ex/s]"
      ]
     },
     "metadata": {},
     "output_type": "display_data"
    },
    {
     "data": {
      "application/vnd.jupyter.widget-view+json": {
       "model_id": "45c0641a475041dca2c81285df7c5986",
       "version_major": 2,
       "version_minor": 0
      },
      "text/plain": [
       "Creating json from Arrow format:   0%|          | 0/1 [00:00<?, ?ba/s]"
      ]
     },
     "metadata": {},
     "output_type": "display_data"
    }
   ],
   "source": [
    "# gpt-3.5-turbo reflects on cohere \n",
    "data = med_qa_cohere\n",
    "model = 'gpt-3.5-turbo'\n",
    "system_evaluate(data,model,path)\n",
    "\n",
    "dataset_name = \"med_qa\"\n",
    "template = \"second\"\n",
    "base_model = \"cohere\"\n",
    "critique_model = \"gpt-3.5-turbo\"\n",
    "\n",
    "dump_path = f\"{dataset_name}_{template}_{base_model}_{critique_model}\"\n",
    "data.dump(dump_path+\".json\")"
   ]
  },
  {
   "attachments": {},
   "cell_type": "markdown",
   "metadata": {},
   "source": [
    "## Second"
   ]
  },
  {
   "cell_type": "code",
   "execution_count": 50,
   "metadata": {},
   "outputs": [
    {
     "name": "stdout",
     "output_type": "stream",
     "text": [
      "Generating med_qa...\n"
     ]
    },
    {
     "data": {
      "application/vnd.jupyter.widget-view+json": {
       "model_id": "006b826f7d3d47fbb69d5751b6dd95b1",
       "version_major": 2,
       "version_minor": 0
      },
      "text/plain": [
       "  0%|          | 0/100 [00:00<?, ?ex/s]"
      ]
     },
     "metadata": {},
     "output_type": "display_data"
    },
    {
     "name": "stdout",
     "output_type": "stream",
     "text": [
      "(API-)Error in item 52: HTTP code 502 from API (<html>\n",
      "<head><title>502 Bad Gateway</title></head>\n",
      "<body>\n",
      "<center><h1>502 Bad Gateway</h1></center>\n",
      "<hr><center>cloudflare</center>\n",
      "</body>\n",
      "</html>\n",
      ")\n",
      "Retrying with additional time of 10 seconds.\n"
     ]
    },
    {
     "data": {
      "application/vnd.jupyter.widget-view+json": {
       "model_id": "001bdc6b15c44fee91049b779519a751",
       "version_major": 2,
       "version_minor": 0
      },
      "text/plain": [
       "Creating json from Arrow format:   0%|          | 0/1 [00:00<?, ?ba/s]"
      ]
     },
     "metadata": {},
     "output_type": "display_data"
    }
   ],
   "source": [
    "# 3.5 on 3.5\n",
    "data = med_qa_turbo\n",
    "model = 'gpt-3.5-turbo'\n",
    "system_evaluate(data,model,path)\n",
    "\n",
    "dataset_name = \"med_qa\"\n",
    "template = \"second\"\n",
    "base_model = \"gpt-3.5-turbo\"\n",
    "critique_model = \"gpt-3.5-turbo\"\n",
    "\n",
    "dump_path = f\"{dataset_name}_{template}_{base_model}_{critique_model}\"\n",
    "data.dump(dump_path+\".json\")"
   ]
  },
  {
   "cell_type": "code",
   "execution_count": 51,
   "metadata": {},
   "outputs": [
    {
     "name": "stdout",
     "output_type": "stream",
     "text": [
      "Generating med_qa...\n"
     ]
    },
    {
     "data": {
      "application/vnd.jupyter.widget-view+json": {
       "model_id": "32308220680149f1bccb260f8ef2d71e",
       "version_major": 2,
       "version_minor": 0
      },
      "text/plain": [
       "  0%|          | 0/100 [00:00<?, ?ex/s]"
      ]
     },
     "metadata": {},
     "output_type": "display_data"
    },
    {
     "name": "stdout",
     "output_type": "stream",
     "text": [
      "(API-)Error in item 2: That model is currently overloaded with other requests. You can retry your request, or contact us through our help center at help.openai.com if the error persists. (Please include the request ID 6fdf52136ded5e058c274272f987da5a in your message.)\n",
      "Retrying with additional time of 10 seconds.\n",
      "(API-)Error in item 2: The server had an error while processing your request. Sorry about that!\n",
      "Retrying with additional time of 20 seconds.\n",
      "(API-)Error in item 5: The server had an error while processing your request. Sorry about that!\n",
      "Retrying with additional time of 10 seconds.\n",
      "(API-)Error in item 5: The server had an error while processing your request. Sorry about that!\n",
      "Retrying with additional time of 20 seconds.\n",
      "(API-)Error in item 14: The server had an error while processing your request. Sorry about that!\n",
      "Retrying with additional time of 10 seconds.\n",
      "(API-)Error in item 14: The server had an error while processing your request. Sorry about that!\n",
      "Retrying with additional time of 20 seconds.\n",
      "(API-)Error in item 16: The server had an error while processing your request. Sorry about that!\n",
      "Retrying with additional time of 10 seconds.\n",
      "(API-)Error in item 18: The server had an error while processing your request. Sorry about that!\n",
      "Retrying with additional time of 10 seconds.\n",
      "(API-)Error in item 24: The server had an error while processing your request. Sorry about that!\n",
      "Retrying with additional time of 10 seconds.\n",
      "(API-)Error in item 27: That model is currently overloaded with other requests. You can retry your request, or contact us through our help center at help.openai.com if the error persists. (Please include the request ID 8be57ea616f3b670c76e5dfa437561b2 in your message.)\n",
      "Retrying with additional time of 10 seconds.\n",
      "(API-)Error in item 35: The server had an error while processing your request. Sorry about that!\n",
      "Retrying with additional time of 10 seconds.\n",
      "(API-)Error in item 64: The server had an error while processing your request. Sorry about that!\n",
      "Retrying with additional time of 10 seconds.\n",
      "(API-)Error in item 73: Bad gateway. {\"error\":{\"code\":502,\"message\":\"Bad gateway.\",\"param\":null,\"type\":\"cf_bad_gateway\"}} 502 {'error': {'code': 502, 'message': 'Bad gateway.', 'param': None, 'type': 'cf_bad_gateway'}} {'Date': 'Thu, 01 Jun 2023 01:00:43 GMT', 'Content-Type': 'application/json', 'Content-Length': '84', 'Connection': 'keep-alive', 'X-Frame-Options': 'SAMEORIGIN', 'Referrer-Policy': 'same-origin', 'Cache-Control': 'private, max-age=0, no-store, no-cache, must-revalidate, post-check=0, pre-check=0', 'Expires': 'Thu, 01 Jan 1970 00:00:01 GMT', 'Server': 'cloudflare', 'CF-RAY': '7d037d2e4dedc251-VIE', 'alt-svc': 'h3=\":443\"; ma=86400'}\n",
      "Retrying with additional time of 10 seconds.\n"
     ]
    },
    {
     "data": {
      "application/vnd.jupyter.widget-view+json": {
       "model_id": "edf2857ff3b7476788b564df2ef6c268",
       "version_major": 2,
       "version_minor": 0
      },
      "text/plain": [
       "Creating json from Arrow format:   0%|          | 0/1 [00:00<?, ?ba/s]"
      ]
     },
     "metadata": {},
     "output_type": "display_data"
    }
   ],
   "source": [
    "# 4 on 3.5\n",
    "#data = med_qa_turbo\n",
    "model = 'gpt-4'\n",
    "system_evaluate(data,model,path)\n",
    "\n",
    "dataset_name = \"med_qa\"\n",
    "template = \"second\"\n",
    "base_model = \"gpt-3.5-turbo\"\n",
    "critique_model = \"gpt-4\"\n",
    "\n",
    "dump_path = f\"{dataset_name}_{template}_{base_model}_{critique_model}\"\n",
    "data.dump(dump_path+\".json\")"
   ]
  },
  {
   "attachments": {},
   "cell_type": "markdown",
   "metadata": {},
   "source": [
    "## third template"
   ]
  },
  {
   "cell_type": "code",
   "execution_count": 84,
   "metadata": {},
   "outputs": [
    {
     "name": "stdout",
     "output_type": "stream",
     "text": [
      "Generating med_qa...\n"
     ]
    },
    {
     "data": {
      "application/vnd.jupyter.widget-view+json": {
       "model_id": "618779ae28884ad9ac776f10b07d4950",
       "version_major": 2,
       "version_minor": 0
      },
      "text/plain": [
       "  0%|          | 0/100 [00:00<?, ?ex/s]"
      ]
     },
     "metadata": {},
     "output_type": "display_data"
    },
    {
     "name": "stdout",
     "output_type": "stream",
     "text": [
      "(API-)Error in item 13: That model is currently overloaded with other requests. You can retry your request, or contact us through our help center at help.openai.com if the error persists. (Please include the request ID 11821c37defb8249cbc6380a23584c90 in your message.)\n",
      "Retrying with additional time of 10 seconds.\n",
      "(API-)Error in item 85: That model is currently overloaded with other requests. You can retry your request, or contact us through our help center at help.openai.com if the error persists. (Please include the request ID bfb19e08df1f5fcc4caf5fc23ee6898a in your message.)\n",
      "Retrying with additional time of 10 seconds.\n"
     ]
    },
    {
     "data": {
      "application/vnd.jupyter.widget-view+json": {
       "model_id": "a0dc788d2c8b47fd96b26b14357ba85f",
       "version_major": 2,
       "version_minor": 0
      },
      "text/plain": [
       "Creating json from Arrow format:   0%|          | 0/1 [00:00<?, ?ba/s]"
      ]
     },
     "metadata": {},
     "output_type": "display_data"
    }
   ],
   "source": [
    "# gpt-3.5-turbo reflects on cohere \n",
    "data = med_qa_cohere\n",
    "model = 'gpt-3.5-turbo'\n",
    "system_evaluate(data,model,path)\n",
    "\n",
    "dataset_name = \"med_qa\"\n",
    "template = \"third\"\n",
    "base_model = \"cohere\"\n",
    "critique_model = \"gpt-3.5-turbo\"\n",
    "\n",
    "dump_path = f\"{dataset_name}_{template}_{base_model}_{critique_model}\"\n",
    "data.dump(dump_path+\".json\")"
   ]
  },
  {
   "cell_type": "code",
   "execution_count": 85,
   "metadata": {},
   "outputs": [
    {
     "name": "stdout",
     "output_type": "stream",
     "text": [
      "Generating med_qa...\n"
     ]
    },
    {
     "data": {
      "application/vnd.jupyter.widget-view+json": {
       "model_id": "5a97344f7f364772a0fc27690a77ba73",
       "version_major": 2,
       "version_minor": 0
      },
      "text/plain": [
       "  0%|          | 0/100 [00:00<?, ?ex/s]"
      ]
     },
     "metadata": {},
     "output_type": "display_data"
    },
    {
     "data": {
      "application/vnd.jupyter.widget-view+json": {
       "model_id": "bb0b1dc1c23b4bffa5cce7a56473914e",
       "version_major": 2,
       "version_minor": 0
      },
      "text/plain": [
       "Creating json from Arrow format:   0%|          | 0/1 [00:00<?, ?ba/s]"
      ]
     },
     "metadata": {},
     "output_type": "display_data"
    }
   ],
   "source": [
    "# 3.5 on 3.5\n",
    "data = med_qa_turbo\n",
    "model = 'gpt-3.5-turbo'\n",
    "system_evaluate(data,model,path)\n",
    "\n",
    "dataset_name = \"med_qa\"\n",
    "template = \"third\"\n",
    "base_model = \"gpt-3.5-turbo\"\n",
    "critique_model = \"gpt-3.5-turbo\"\n",
    "\n",
    "dump_path = f\"{dataset_name}_{template}_{base_model}_{critique_model}\"\n",
    "data.dump(dump_path+\".json\")"
   ]
  },
  {
   "attachments": {},
   "cell_type": "markdown",
   "metadata": {},
   "source": [
    "## Evaluate Reflection"
   ]
  },
  {
   "cell_type": "code",
   "execution_count": 71,
   "metadata": {},
   "outputs": [
    {
     "name": "stdout",
     "output_type": "stream",
     "text": [
      "        Average\n",
      "obj_1     59.00\n",
      "obj_2     75.50\n",
      "obj_3     59.10\n",
      "obj_4     52.15\n",
      "obj_5     55.70\n",
      "obj_6     55.05\n",
      "obj_7     52.05\n",
      "obj_8     60.00\n",
      "obj_9     36.60\n",
      "obj_10    58.70\n",
      "obj_11    63.50\n",
      "scores true: 61.81818181818182\n",
      "scores false: 54.779411764705884\n"
     ]
    },
    {
     "data": {
      "image/png": "[encoded data removed]",
      "text/plain": [
       "<Figure size 432x288 with 1 Axes>"
      ]
     },
     "metadata": {
      "needs_background": "light"
     },
     "output_type": "display_data"
    },
    {
     "data": {
      "image/png": "[encoded data removed]",
      "text/plain": [
       "<Figure size 432x288 with 1 Axes>"
      ]
     },
     "metadata": {
      "needs_background": "light"
     },
     "output_type": "display_data"
    },
    {
     "name": "stdout",
     "output_type": "stream",
     "text": [
      "{'obj_6': (0, 100), 'obj_8': (0, 100), 'obj_4': (0, 100), 'obj_2': (25, 100), 'obj_9': (0, 80), 'obj_5': (0, 100), 'obj_7': (0, 100), 'obj_10': (0, 100), 'obj_1': (0, 100), 'obj_11': (0, 100), 'obj_3': (0, 100)}\n",
      "{'obj_6': 22.24172755080965, 'obj_8': 25.34608929251695, 'obj_4': 23.871023387692382, 'obj_2': 18.16729217716567, 'obj_9': 25.848040779161803, 'obj_5': 19.18832768096062, 'obj_7': 21.20242743869034, 'obj_10': 21.551207517318968, 'obj_1': 23.148619523820116, 'obj_11': 35.230123703467406, 'obj_3': 27.278770374254627}\n",
      "For obj_6, t-statistic is 1.24 and the p-value is 0.22\n",
      "For obj_8, t-statistic is 1.97 and the p-value is 0.05\n",
      "For obj_4, t-statistic is 1.59 and the p-value is 0.11\n",
      "For obj_2, t-statistic is 0.81 and the p-value is 0.42\n",
      "For obj_9, t-statistic is 1.24 and the p-value is 0.22\n",
      "For obj_5, t-statistic is 0.75 and the p-value is 0.45\n",
      "For obj_7, t-statistic is 1.16 and the p-value is 0.25\n",
      "For obj_10, t-statistic is 1.42 and the p-value is 0.16\n",
      "For obj_1, t-statistic is 1.41 and the p-value is 0.16\n",
      "For obj_11, t-statistic is 2.09 and the p-value is 0.04\n",
      "For obj_3, t-statistic is 0.93 and the p-value is 0.35\n"
     ]
    }
   ],
   "source": [
    "data = Collection.from_json(\"./med_qa_first_cohere_gpt-3.5-turbo.json\")\n",
    "scores_per_item, variables_per_item = parse_data(data,idx_cot=1,dataset='med_qa',split='test')\n",
    "scores_per_item = fix_str_score(scores_per_item)\n",
    "scores_per_objective, df = get_further_data(scores_per_item)\n",
    "average_per_item = [sum(d.values()) / len(d) for d in scores_per_item]\n",
    "\n",
    "print(df)\n",
    "\n",
    "avg_true_false(data,average_per_item,'med_qa','test')\n",
    "freq_bar_plot(scores_per_item)\n",
    "avg_item_plot(scores_per_objective)\n",
    "\n",
    "range_data = {key: (min(value),max(value)) for key, value in scores_per_objective.items()}\n",
    "print(range_data)\n",
    "\n",
    "print(standard_deviation(scores_per_objective))\n",
    "\n",
    "t_test(data,scores_per_item,'med_qa','test')"
   ]
  },
  {
   "cell_type": "code",
   "execution_count": 72,
   "metadata": {},
   "outputs": [
    {
     "name": "stdout",
     "output_type": "stream",
     "text": [
      "          Average\n",
      "obj_1   90.454545\n",
      "obj_2   96.262626\n",
      "obj_3   91.262626\n",
      "obj_4   90.050505\n",
      "obj_5   84.343434\n",
      "obj_6   86.767677\n",
      "obj_7   86.161616\n",
      "obj_8   92.373737\n",
      "obj_9   78.181818\n",
      "obj_10  88.080808\n",
      "obj_11  94.949495\n",
      "scores true: 89.78056426332289\n",
      "scores false: 87.87139689578714\n"
     ]
    },
    {
     "data": {
      "image/png": "[encoded data removed]",
      "text/plain": [
       "<Figure size 432x288 with 1 Axes>"
      ]
     },
     "metadata": {
      "needs_background": "light"
     },
     "output_type": "display_data"
    },
    {
     "data": {
      "image/png": "[encoded data removed]",
      "text/plain": [
       "<Figure size 432x288 with 1 Axes>"
      ]
     },
     "metadata": {
      "needs_background": "light"
     },
     "output_type": "display_data"
    },
    {
     "name": "stdout",
     "output_type": "stream",
     "text": [
      "{'obj_6': (50, 100), 'obj_8': (60, 100), 'obj_4': (50, 100), 'obj_2': (60, 100), 'obj_9': (40, 100), 'obj_5': (50, 100), 'obj_7': (50, 100), 'obj_10': (50, 100), 'obj_1': (50, 100), 'obj_11': (0, 100), 'obj_3': (50, 100)}\n",
      "{'obj_6': 9.982462461357615, 'obj_8': 7.770412037752322, 'obj_4': 9.271828890074005, 'obj_2': 5.9907852004623585, 'obj_9': 12.62598845301168, 'obj_5': 12.17739761093177, 'obj_7': 11.754900906453967, 'obj_10': 9.441200165489128, 'obj_1': 10.103820985932504, 'obj_11': 12.807343028770916, 'obj_3': 9.485311801471786}\n",
      "For obj_6, t-statistic is 0.46 and the p-value is 0.65\n",
      "For obj_8, t-statistic is 1.38 and the p-value is 0.17\n",
      "For obj_4, t-statistic is 0.59 and the p-value is 0.55\n",
      "For obj_2, t-statistic is 0.91 and the p-value is 0.36\n",
      "For obj_9, t-statistic is 0.73 and the p-value is 0.47\n",
      "For obj_5, t-statistic is 0.97 and the p-value is 0.33\n",
      "For obj_7, t-statistic is 1.80 and the p-value is 0.07\n",
      "For obj_10, t-statistic is 1.11 and the p-value is 0.27\n",
      "For obj_1, t-statistic is 0.17 and the p-value is 0.86\n",
      "For obj_11, t-statistic is 0.52 and the p-value is 0.60\n",
      "For obj_3, t-statistic is 1.67 and the p-value is 0.10\n"
     ]
    }
   ],
   "source": [
    "data = Collection.from_json(\"./med_qa_first_gpt-3.5-turbo_gpt-3.5-turbo.json\")\n",
    "scores_per_item, variables_per_item = parse_data(data,idx_cot=1,dataset='med_qa',split='test')\n",
    "scores_per_item = fix_str_score(scores_per_item)\n",
    "scores_per_objective, df = get_further_data(scores_per_item)\n",
    "average_per_item = [sum(d.values()) / len(d) for d in scores_per_item]\n",
    "\n",
    "print(df)\n",
    "\n",
    "avg_true_false(data,average_per_item,'med_qa','test')\n",
    "freq_bar_plot(scores_per_item)\n",
    "avg_item_plot(scores_per_objective)\n",
    "\n",
    "range_data = {key: (min(value),max(value)) for key, value in scores_per_objective.items()}\n",
    "print(range_data)\n",
    "\n",
    "print(standard_deviation(scores_per_objective))\n",
    "\n",
    "t_test(data,scores_per_item,'med_qa','test')"
   ]
  },
  {
   "cell_type": "code",
   "execution_count": 142,
   "metadata": {},
   "outputs": [
    {
     "name": "stdout",
     "output_type": "stream",
     "text": [
      "        Average\n",
      "obj_1     96.60\n",
      "obj_2     92.40\n",
      "obj_3     98.70\n",
      "obj_4     92.00\n",
      "obj_5     95.90\n",
      "obj_6     94.10\n",
      "obj_7     85.70\n",
      "obj_8     88.60\n",
      "obj_9     89.80\n",
      "obj_10    94.75\n",
      "obj_11    84.40\n",
      "scores true: 96.40282131661442\n",
      "scores false: 86.12554112554113\n"
     ]
    },
    {
     "data": {
      "image/png": "[encoded data removed]",
      "text/plain": [
       "<Figure size 432x288 with 1 Axes>"
      ]
     },
     "metadata": {
      "needs_background": "light"
     },
     "output_type": "display_data"
    },
    {
     "data": {
      "image/png": "[encoded data removed]",
      "text/plain": [
       "<Figure size 432x288 with 1 Axes>"
      ]
     },
     "metadata": {
      "needs_background": "light"
     },
     "output_type": "display_data"
    },
    {
     "name": "stdout",
     "output_type": "stream",
     "text": [
      "{'obj_6': (30, 100), 'obj_8': (20, 100), 'obj_4': (40, 100), 'obj_2': (40, 100), 'obj_9': (0, 100), 'obj_5': (60, 100), 'obj_7': (30, 100), 'obj_10': (40, 100), 'obj_1': (50, 100), 'obj_11': (0, 100), 'obj_3': (0, 100)}\n",
      "{'obj_6': 11.200198410940953, 'obj_8': 17.131104677595868, 'obj_4': 12.949006435891816, 'obj_2': 11.730991501836568, 'obj_9': 13.1794146189036, 'obj_5': 8.052228501376751, 'obj_7': 12.165109904554864, 'obj_10': 9.933490948515654, 'obj_1': 8.067893720848657, 'obj_11': 32.76238296238138, 'obj_3': 10.215357818184128}\n",
      "For obj_6, t-statistic is 4.37 and the p-value is 0.00\n",
      "For obj_8, t-statistic is 6.10 and the p-value is 0.00\n",
      "For obj_4, t-statistic is 5.16 and the p-value is 0.00\n",
      "For obj_2, t-statistic is 5.03 and the p-value is 0.00\n",
      "For obj_9, t-statistic is 1.26 and the p-value is 0.21\n",
      "For obj_5, t-statistic is 2.80 and the p-value is 0.01\n",
      "For obj_7, t-statistic is 3.70 and the p-value is 0.00\n",
      "For obj_10, t-statistic is 3.92 and the p-value is 0.00\n",
      "For obj_1, t-statistic is 3.36 and the p-value is 0.00\n",
      "For obj_11, t-statistic is 5.44 and the p-value is 0.00\n",
      "For obj_3, t-statistic is 1.10 and the p-value is 0.27\n"
     ]
    }
   ],
   "source": [
    "#note idx-2 \n",
    "data = Collection.from_json(\"./med_qa_first_gpt-3.5-turbo_gpt-4.json\")\n",
    "scores_per_item, variables_per_item = parse_data(data,idx_cot=2,dataset='med_qa',split='test')\n",
    "scores_per_item = fix_str_score(scores_per_item)\n",
    "scores_per_objective, df = get_further_data(scores_per_item)\n",
    "average_per_item = [sum(d.values()) / len(d) for d in scores_per_item]\n",
    "\n",
    "print(df)\n",
    "\n",
    "avg_true_false(data,average_per_item,'med_qa','test')\n",
    "freq_bar_plot(scores_per_item)\n",
    "avg_item_plot(scores_per_objective)\n",
    "\n",
    "range_data = {key: (min(value),max(value)) for key, value in scores_per_objective.items()}\n",
    "print(range_data)\n",
    "\n",
    "print(standard_deviation(scores_per_objective))\n",
    "\n",
    "t_test(data,scores_per_item,'med_qa','test')"
   ]
  },
  {
   "cell_type": "code",
   "execution_count": 74,
   "metadata": {},
   "outputs": [
    {
     "name": "stdout",
     "output_type": "stream",
     "text": [
      "        Average\n",
      "obj_1     99.45\n",
      "obj_2     98.30\n",
      "obj_3    100.00\n",
      "obj_4     98.20\n",
      "obj_5     99.50\n",
      "obj_6     98.30\n",
      "obj_7     90.50\n",
      "obj_8     97.95\n",
      "obj_9     93.90\n",
      "obj_10    99.15\n",
      "obj_11    98.50\n",
      "scores true: 97.96857463524131\n",
      "scores false: 96.10047846889952\n"
     ]
    },
    {
     "data": {
      "image/png": "[encoded data removed]",
      "text/plain": [
       "<Figure size 432x288 with 1 Axes>"
      ]
     },
     "metadata": {
      "needs_background": "light"
     },
     "output_type": "display_data"
    },
    {
     "data": {
      "image/png": "[encoded data removed]",
      "text/plain": [
       "<Figure size 432x288 with 1 Axes>"
      ]
     },
     "metadata": {
      "needs_background": "light"
     },
     "output_type": "display_data"
    },
    {
     "name": "stdout",
     "output_type": "stream",
     "text": [
      "{'obj_6': (70, 100), 'obj_8': (70, 100), 'obj_4': (70, 100), 'obj_2': (70, 100), 'obj_9': (70, 100), 'obj_5': (90, 100), 'obj_7': (60, 100), 'obj_10': (80, 100), 'obj_1': (90, 100), 'obj_11': (50, 100), 'obj_3': (100, 100)}\n",
      "{'obj_6': 5.135536717202729, 'obj_8': 5.90732296784801, 'obj_4': 5.389852043470677, 'obj_2': 5.135536717202729, 'obj_9': 5.84220105194208, 'obj_5': 2.190429135575903, 'obj_7': 7.571210756756962, 'obj_10': 3.557251804980975, 'obj_1': 2.2355032425551866, 'obj_11': 7.571210756756962, 'obj_3': 0.0}\n",
      "For obj_6, t-statistic is 2.98 and the p-value is 0.00\n",
      "For obj_8, t-statistic is 1.79 and the p-value is 0.08\n",
      "For obj_4, t-statistic is 2.21 and the p-value is 0.03\n",
      "For obj_2, t-statistic is 2.43 and the p-value is 0.02\n",
      "For obj_9, t-statistic is 0.18 and the p-value is 0.86\n",
      "For obj_5, t-statistic is 2.44 and the p-value is 0.02\n",
      "For obj_7, t-statistic is 2.40 and the p-value is 0.02\n",
      "For obj_10, t-statistic is 2.10 and the p-value is 0.04\n",
      "For obj_1, t-statistic is 2.28 and the p-value is 0.03\n",
      "For obj_11, t-statistic is -0.62 and the p-value is 0.54\n",
      "For obj_3, t-statistic is nan and the p-value is nan\n"
     ]
    }
   ],
   "source": [
    "# Very low p-values - what is going on? Either mistake in code or a real difference?\n",
    "data = Collection.from_json(\"./med_qa_first_gpt-4_gpt-4.json\")\n",
    "scores_per_item, variables_per_item = parse_data(data,idx_cot=1,dataset='med_qa',split='test')\n",
    "scores_per_item = fix_str_score(scores_per_item)\n",
    "scores_per_objective, df = get_further_data(scores_per_item)\n",
    "average_per_item = [sum(d.values()) / len(d) for d in scores_per_item]\n",
    "\n",
    "print(df)\n",
    "\n",
    "avg_true_false(data,average_per_item,'med_qa','test')\n",
    "freq_bar_plot(scores_per_item)\n",
    "avg_item_plot(scores_per_objective)\n",
    "\n",
    "range_data = {key: (min(value),max(value)) for key, value in scores_per_objective.items()}\n",
    "print(range_data)\n",
    "\n",
    "print(standard_deviation(scores_per_objective))\n",
    "\n",
    "t_test(data,scores_per_item,'med_qa','test')"
   ]
  },
  {
   "cell_type": "code",
   "execution_count": 78,
   "metadata": {},
   "outputs": [
    {
     "name": "stdout",
     "output_type": "stream",
     "text": [
      "        Average\n",
      "obj_1     59.00\n",
      "obj_2     75.50\n",
      "obj_3     59.10\n",
      "obj_4     52.15\n",
      "obj_5     55.70\n",
      "obj_6     55.05\n",
      "obj_7     52.05\n",
      "obj_8     60.00\n",
      "obj_9     36.60\n",
      "obj_10    58.70\n",
      "obj_11    63.50\n",
      "scores true: 61.81818181818182\n",
      "scores false: 54.779411764705884\n"
     ]
    },
    {
     "data": {
      "image/png": "[encoded data removed]",
      "text/plain": [
       "<Figure size 432x288 with 1 Axes>"
      ]
     },
     "metadata": {
      "needs_background": "light"
     },
     "output_type": "display_data"
    },
    {
     "data": {
      "image/png": "[encoded data removed]",
      "text/plain": [
       "<Figure size 432x288 with 1 Axes>"
      ]
     },
     "metadata": {
      "needs_background": "light"
     },
     "output_type": "display_data"
    },
    {
     "name": "stdout",
     "output_type": "stream",
     "text": [
      "{'obj_6': (0, 100), 'obj_8': (0, 100), 'obj_4': (0, 100), 'obj_2': (25, 100), 'obj_9': (0, 80), 'obj_5': (0, 100), 'obj_7': (0, 100), 'obj_10': (0, 100), 'obj_1': (0, 100), 'obj_11': (0, 100), 'obj_3': (0, 100)}\n",
      "{'obj_6': 22.24172755080965, 'obj_8': 25.34608929251695, 'obj_4': 23.871023387692382, 'obj_2': 18.16729217716567, 'obj_9': 25.848040779161803, 'obj_5': 19.18832768096062, 'obj_7': 21.20242743869034, 'obj_10': 21.551207517318968, 'obj_1': 23.148619523820116, 'obj_11': 35.230123703467406, 'obj_3': 27.278770374254627}\n",
      "For obj_6, t-statistic is 1.24 and the p-value is 0.22\n",
      "For obj_8, t-statistic is 1.97 and the p-value is 0.05\n",
      "For obj_4, t-statistic is 1.59 and the p-value is 0.11\n",
      "For obj_2, t-statistic is 0.81 and the p-value is 0.42\n",
      "For obj_9, t-statistic is 1.24 and the p-value is 0.22\n",
      "For obj_5, t-statistic is 0.75 and the p-value is 0.45\n",
      "For obj_7, t-statistic is 1.16 and the p-value is 0.25\n",
      "For obj_10, t-statistic is 1.42 and the p-value is 0.16\n",
      "For obj_1, t-statistic is 1.41 and the p-value is 0.16\n",
      "For obj_11, t-statistic is 2.09 and the p-value is 0.04\n",
      "For obj_3, t-statistic is 0.93 and the p-value is 0.35\n"
     ]
    }
   ],
   "source": [
    "data = Collection.from_json(\"./med_qa_second_cohere_gpt-3.5-turbo.json\")\n",
    "scores_per_item, variables_per_item = parse_data(data,idx_cot=1,dataset='med_qa',split='test')\n",
    "scores_per_item = fix_str_score(scores_per_item)\n",
    "scores_per_objective, df = get_further_data(scores_per_item)\n",
    "average_per_item = [sum(d.values()) / len(d) for d in scores_per_item]\n",
    "\n",
    "print(df)\n",
    "\n",
    "avg_true_false(data,average_per_item,'med_qa','test')\n",
    "freq_bar_plot(scores_per_item)\n",
    "avg_item_plot(scores_per_objective)\n",
    "\n",
    "range_data = {key: (min(value),max(value)) for key, value in scores_per_objective.items()}\n",
    "print(range_data)\n",
    "\n",
    "print(standard_deviation(scores_per_objective))\n",
    "\n",
    "t_test(data,scores_per_item,'med_qa','test')"
   ]
  },
  {
   "cell_type": "code",
   "execution_count": 75,
   "metadata": {},
   "outputs": [
    {
     "name": "stdout",
     "output_type": "stream",
     "text": [
      "          Average\n",
      "obj_1   90.454545\n",
      "obj_2   96.262626\n",
      "obj_3   91.262626\n",
      "obj_4   90.050505\n",
      "obj_5   84.343434\n",
      "obj_6   86.767677\n",
      "obj_7   86.161616\n",
      "obj_8   92.373737\n",
      "obj_9   78.181818\n",
      "obj_10  88.080808\n",
      "obj_11  94.949495\n",
      "scores true: 89.78056426332289\n",
      "scores false: 87.87139689578714\n"
     ]
    },
    {
     "data": {
      "image/png": "[encoded data removed]",
      "text/plain": [
       "<Figure size 432x288 with 1 Axes>"
      ]
     },
     "metadata": {
      "needs_background": "light"
     },
     "output_type": "display_data"
    },
    {
     "data": {
      "image/png": "[encoded data removed]",
      "text/plain": [
       "<Figure size 432x288 with 1 Axes>"
      ]
     },
     "metadata": {
      "needs_background": "light"
     },
     "output_type": "display_data"
    },
    {
     "name": "stdout",
     "output_type": "stream",
     "text": [
      "{'obj_6': (50, 100), 'obj_8': (60, 100), 'obj_4': (50, 100), 'obj_2': (60, 100), 'obj_9': (40, 100), 'obj_5': (50, 100), 'obj_7': (50, 100), 'obj_10': (50, 100), 'obj_1': (50, 100), 'obj_11': (0, 100), 'obj_3': (50, 100)}\n",
      "{'obj_6': 9.982462461357615, 'obj_8': 7.770412037752322, 'obj_4': 9.271828890074005, 'obj_2': 5.9907852004623585, 'obj_9': 12.62598845301168, 'obj_5': 12.17739761093177, 'obj_7': 11.754900906453967, 'obj_10': 9.441200165489128, 'obj_1': 10.103820985932504, 'obj_11': 12.807343028770916, 'obj_3': 9.485311801471786}\n",
      "For obj_6, t-statistic is 0.46 and the p-value is 0.65\n",
      "For obj_8, t-statistic is 1.38 and the p-value is 0.17\n",
      "For obj_4, t-statistic is 0.59 and the p-value is 0.55\n",
      "For obj_2, t-statistic is 0.91 and the p-value is 0.36\n",
      "For obj_9, t-statistic is 0.73 and the p-value is 0.47\n",
      "For obj_5, t-statistic is 0.97 and the p-value is 0.33\n",
      "For obj_7, t-statistic is 1.80 and the p-value is 0.07\n",
      "For obj_10, t-statistic is 1.11 and the p-value is 0.27\n",
      "For obj_1, t-statistic is 0.17 and the p-value is 0.86\n",
      "For obj_11, t-statistic is 0.52 and the p-value is 0.60\n",
      "For obj_3, t-statistic is 1.67 and the p-value is 0.10\n"
     ]
    }
   ],
   "source": [
    "data = Collection.from_json(\"./med_qa_second_gpt-3.5-turbo_gpt-3.5-turbo.json\")\n",
    "scores_per_item, variables_per_item = parse_data(data,idx_cot=1,dataset='med_qa',split='test')\n",
    "scores_per_item = fix_str_score(scores_per_item)\n",
    "scores_per_objective, df = get_further_data(scores_per_item)\n",
    "average_per_item = [sum(d.values()) / len(d) for d in scores_per_item]\n",
    "\n",
    "print(df)\n",
    "\n",
    "avg_true_false(data,average_per_item,'med_qa','test')\n",
    "freq_bar_plot(scores_per_item)\n",
    "avg_item_plot(scores_per_objective)\n",
    "\n",
    "range_data = {key: (min(value),max(value)) for key, value in scores_per_objective.items()}\n",
    "print(range_data)\n",
    "\n",
    "print(standard_deviation(scores_per_objective))\n",
    "\n",
    "t_test(data,scores_per_item,'med_qa','test')"
   ]
  },
  {
   "cell_type": "code",
   "execution_count": 143,
   "metadata": {},
   "outputs": [
    {
     "name": "stdout",
     "output_type": "stream",
     "text": [
      "        Average\n",
      "obj_1     96.60\n",
      "obj_2     92.40\n",
      "obj_3     98.70\n",
      "obj_4     92.00\n",
      "obj_5     95.90\n",
      "obj_6     94.10\n",
      "obj_7     85.70\n",
      "obj_8     88.60\n",
      "obj_9     89.80\n",
      "obj_10    94.75\n",
      "obj_11    84.40\n",
      "scores true: 96.40282131661442\n",
      "scores false: 86.12554112554113\n"
     ]
    },
    {
     "data": {
      "image/png": "[encoded data removed]",
      "text/plain": [
       "<Figure size 432x288 with 1 Axes>"
      ]
     },
     "metadata": {
      "needs_background": "light"
     },
     "output_type": "display_data"
    },
    {
     "data": {
      "image/png": "[encoded data removed]",
      "text/plain": [
       "<Figure size 432x288 with 1 Axes>"
      ]
     },
     "metadata": {
      "needs_background": "light"
     },
     "output_type": "display_data"
    },
    {
     "name": "stdout",
     "output_type": "stream",
     "text": [
      "{'obj_6': (30, 100), 'obj_8': (20, 100), 'obj_4': (40, 100), 'obj_2': (40, 100), 'obj_9': (0, 100), 'obj_5': (60, 100), 'obj_7': (30, 100), 'obj_10': (40, 100), 'obj_1': (50, 100), 'obj_11': (0, 100), 'obj_3': (0, 100)}\n",
      "{'obj_6': 11.200198410940953, 'obj_8': 17.131104677595868, 'obj_4': 12.949006435891816, 'obj_2': 11.730991501836568, 'obj_9': 13.1794146189036, 'obj_5': 8.052228501376751, 'obj_7': 12.165109904554864, 'obj_10': 9.933490948515654, 'obj_1': 8.067893720848657, 'obj_11': 32.76238296238138, 'obj_3': 10.215357818184128}\n",
      "For obj_6, t-statistic is 4.37 and the p-value is 0.00\n",
      "For obj_8, t-statistic is 6.10 and the p-value is 0.00\n",
      "For obj_4, t-statistic is 5.16 and the p-value is 0.00\n",
      "For obj_2, t-statistic is 5.03 and the p-value is 0.00\n",
      "For obj_9, t-statistic is 1.26 and the p-value is 0.21\n",
      "For obj_5, t-statistic is 2.80 and the p-value is 0.01\n",
      "For obj_7, t-statistic is 3.70 and the p-value is 0.00\n",
      "For obj_10, t-statistic is 3.92 and the p-value is 0.00\n",
      "For obj_1, t-statistic is 3.36 and the p-value is 0.00\n",
      "For obj_11, t-statistic is 5.44 and the p-value is 0.00\n",
      "For obj_3, t-statistic is 1.10 and the p-value is 0.27\n"
     ]
    }
   ],
   "source": [
    "#note idx_cot\n",
    "data = Collection.from_json(\"./med_qa_second_gpt-3.5-turbo_gpt-4.json\")\n",
    "scores_per_item, variables_per_item = parse_data(data,idx_cot=2,dataset='med_qa',split='test')\n",
    "scores_per_item = fix_str_score(scores_per_item)\n",
    "scores_per_objective, df = get_further_data(scores_per_item)\n",
    "average_per_item = [sum(d.values()) / len(d) for d in scores_per_item]\n",
    "\n",
    "print(df)\n",
    "\n",
    "avg_true_false(data,average_per_item,'med_qa','test')\n",
    "freq_bar_plot(scores_per_item)\n",
    "avg_item_plot(scores_per_objective)\n",
    "\n",
    "range_data = {key: (min(value),max(value)) for key, value in scores_per_objective.items()}\n",
    "print(range_data)\n",
    "\n",
    "print(standard_deviation(scores_per_objective))\n",
    "\n",
    "t_test(data,scores_per_item,'med_qa','test')"
   ]
  },
  {
   "cell_type": "code",
   "execution_count": 139,
   "metadata": {},
   "outputs": [
    {
     "name": "stdout",
     "output_type": "stream",
     "text": [
      "        Average\n",
      "obj_1      5.19\n",
      "obj_2      6.48\n",
      "obj_3      5.61\n",
      "obj_4      4.29\n",
      "obj_5      4.81\n",
      "obj_6      5.08\n",
      "obj_7      4.47\n",
      "obj_8      5.46\n",
      "obj_9      3.28\n",
      "obj_10     5.04\n",
      "obj_11     5.50\n",
      "scores true: 5.3352272727272725\n",
      "scores false: 4.870320855614973\n"
     ]
    },
    {
     "data": {
      "image/png": "[encoded data removed]",
      "text/plain": [
       "<Figure size 432x288 with 1 Axes>"
      ]
     },
     "metadata": {
      "needs_background": "light"
     },
     "output_type": "display_data"
    },
    {
     "data": {
      "image/png": "[encoded data removed]",
      "text/plain": [
       "<Figure size 432x288 with 1 Axes>"
      ]
     },
     "metadata": {
      "needs_background": "light"
     },
     "output_type": "display_data"
    },
    {
     "name": "stdout",
     "output_type": "stream",
     "text": [
      "{'obj_6': (2, 8), 'obj_8': (1, 9), 'obj_4': (1, 9), 'obj_2': (2, 10), 'obj_9': (0, 7), 'obj_5': (1, 8), 'obj_7': (1, 8), 'obj_10': (1, 8), 'obj_1': (2, 8), 'obj_11': (0, 10), 'obj_3': (0, 9)}\n",
      "{'obj_6': 1.6798268309019782, 'obj_8': 2.2175607675046374, 'obj_4': 1.881837700577054, 'obj_2': 2.1200343050397685, 'obj_9': 1.7001485377769348, 'obj_5': 1.4612503294276875, 'obj_7': 1.6603212540549697, 'obj_10': 1.8744426781140449, 'obj_1': 2.0631201240995747, 'obj_11': 2.886751345948129, 'obj_3': 2.1456792383623875}\n",
      "For obj_6, t-statistic is 0.69 and the p-value is 0.49\n",
      "For obj_8, t-statistic is 1.69 and the p-value is 0.09\n",
      "For obj_4, t-statistic is 0.88 and the p-value is 0.38\n",
      "For obj_2, t-statistic is 1.08 and the p-value is 0.28\n",
      "For obj_9, t-statistic is 1.14 and the p-value is 0.26\n",
      "For obj_5, t-statistic is 0.30 and the p-value is 0.76\n",
      "For obj_7, t-statistic is 0.51 and the p-value is 0.61\n",
      "For obj_10, t-statistic is 1.00 and the p-value is 0.32\n",
      "For obj_1, t-statistic is 0.61 and the p-value is 0.54\n",
      "For obj_11, t-statistic is 2.04 and the p-value is 0.04\n",
      "For obj_3, t-statistic is 1.35 and the p-value is 0.18\n"
     ]
    }
   ],
   "source": [
    "data = Collection.from_json(\"./med_qa_third_cohere_gpt-3.5-turbo.json\")\n",
    "scores_per_item, variables_per_item = parse_data(data,idx_cot=5,dataset='med_qa',split='test')\n",
    "scores_per_item = fix_str_score(scores_per_item)\n",
    "scores_per_objective, df = get_further_data(scores_per_item)\n",
    "average_per_item = [sum(d.values()) / len(d) for d in scores_per_item]\n",
    "\n",
    "print(df)\n",
    "\n",
    "avg_true_false(data,average_per_item,'med_qa','test')\n",
    "freq_bar_plot(scores_per_item)\n",
    "avg_item_plot(scores_per_objective)\n",
    "\n",
    "range_data = {key: (min(value),max(value)) for key, value in scores_per_objective.items()}\n",
    "print(range_data)\n",
    "\n",
    "print(standard_deviation(scores_per_objective))\n",
    "\n",
    "t_test(data,scores_per_item,'med_qa','test')"
   ]
  },
  {
   "cell_type": "code",
   "execution_count": 141,
   "metadata": {},
   "outputs": [
    {
     "name": "stdout",
     "output_type": "stream",
     "text": [
      "        Average\n",
      "obj_1      8.11\n",
      "obj_2      9.32\n",
      "obj_3      8.44\n",
      "obj_4      8.34\n",
      "obj_5      7.47\n",
      "obj_6      8.09\n",
      "obj_7      7.90\n",
      "obj_8      8.95\n",
      "obj_9      7.06\n",
      "obj_10     8.19\n",
      "obj_11     9.09\n",
      "scores true: 8.33228840125392\n",
      "scores false: 8.181818181818182\n"
     ]
    },
    {
     "data": {
      "image/png": "[encoded data removed]",
      "text/plain": [
       "<Figure size 432x288 with 1 Axes>"
      ]
     },
     "metadata": {
      "needs_background": "light"
     },
     "output_type": "display_data"
    },
    {
     "data": {
      "image/png": "[encoded data removed]",
      "text/plain": [
       "<Figure size 432x288 with 1 Axes>"
      ]
     },
     "metadata": {
      "needs_background": "light"
     },
     "output_type": "display_data"
    },
    {
     "name": "stdout",
     "output_type": "stream",
     "text": [
      "{'obj_6': (4, 10), 'obj_8': (5, 10), 'obj_4': (5, 10), 'obj_2': (6, 10), 'obj_9': (2, 10), 'obj_5': (4, 10), 'obj_7': (4, 10), 'obj_10': (3, 10), 'obj_1': (4, 10), 'obj_11': (5, 10), 'obj_3': (3, 10)}\n",
      "{'obj_6': 0.888705789222721, 'obj_8': 0.7571210756756955, 'obj_4': 0.9235417115264979, 'obj_2': 0.6798692684790385, 'obj_9': 1.2294369245777328, 'obj_5': 1.0679443105822752, 'obj_7': 1.077782984471439, 'obj_10': 0.960797227895311, 'obj_1': 0.8027100562117262, 'obj_11': 0.9111542241585777, 'obj_3': 0.9777318630174611}\n",
      "For obj_6, t-statistic is 1.32 and the p-value is 0.19\n",
      "For obj_8, t-statistic is -0.03 and the p-value is 0.98\n",
      "For obj_4, t-statistic is 0.72 and the p-value is 0.47\n",
      "For obj_2, t-statistic is 1.33 and the p-value is 0.19\n",
      "For obj_9, t-statistic is 0.41 and the p-value is 0.68\n",
      "For obj_5, t-statistic is 0.71 and the p-value is 0.48\n",
      "For obj_7, t-statistic is 1.47 and the p-value is 0.14\n",
      "For obj_10, t-statistic is -0.00 and the p-value is 1.00\n",
      "For obj_1, t-statistic is 0.41 and the p-value is 0.68\n",
      "For obj_11, t-statistic is 1.29 and the p-value is 0.20\n",
      "For obj_3, t-statistic is 1.14 and the p-value is 0.26\n"
     ]
    }
   ],
   "source": [
    "data = Collection.from_json(\"./med_qa_third_gpt-3.5-turbo_gpt-3.5-turbo.json\")\n",
    "scores_per_item, variables_per_item = parse_data(data,idx_cot=6,dataset='med_qa',split='test')\n",
    "scores_per_item = fix_str_score(scores_per_item)\n",
    "scores_per_objective, df = get_further_data(scores_per_item)\n",
    "average_per_item = [sum(d.values()) / len(d) for d in scores_per_item]\n",
    "\n",
    "print(df)\n",
    "\n",
    "avg_true_false(data,average_per_item,'med_qa','test')\n",
    "freq_bar_plot(scores_per_item)\n",
    "avg_item_plot(scores_per_objective)\n",
    "\n",
    "range_data = {key: (min(value),max(value)) for key, value in scores_per_objective.items()}\n",
    "print(range_data)\n",
    "\n",
    "print(standard_deviation(scores_per_objective))\n",
    "\n",
    "t_test(data,scores_per_item,'med_qa','test')"
   ]
  },
  {
   "cell_type": "code",
   "execution_count": 100,
   "metadata": {},
   "outputs": [
    {
     "data": {
      "text/plain": [
       "164.84701057007064"
      ]
     },
     "execution_count": 100,
     "metadata": {},
     "output_type": "execute_result"
    }
   ],
   "source": [
    "import scipy.stats\n",
    "import statsmodels.stats.power as smp\n",
    "import matplotlib.pyplot as plt\n",
    "\n",
    "power_analysis = smp.TTestIndPower()\n",
    "sample_size = power_analysis.solve_power(effect_size=.4, power=0.9, alpha=0.05,ratio=0.67)\n",
    "sample_size"
   ]
  },
  {
   "cell_type": "code",
   "execution_count": 88,
   "metadata": {},
   "outputs": [
    {
     "name": "stdout",
     "output_type": "stream",
     "text": [
      "          Average\n",
      "obj_1   90.454545\n",
      "obj_2   96.262626\n",
      "obj_3   91.262626\n",
      "obj_4   90.050505\n",
      "obj_5   84.343434\n",
      "obj_6   86.767677\n",
      "obj_7   86.161616\n",
      "obj_8   92.373737\n",
      "obj_9   78.181818\n",
      "obj_10  88.080808\n",
      "obj_11  94.949495\n",
      "scores true: 89.78056426332289\n",
      "scores false: 87.87139689578714\n"
     ]
    },
    {
     "data": {
      "image/png": "[encoded data removed]",
      "text/plain": [
       "<Figure size 432x288 with 1 Axes>"
      ]
     },
     "metadata": {
      "needs_background": "light"
     },
     "output_type": "display_data"
    },
    {
     "data": {
      "image/png": "[encoded data removed]",
      "text/plain": [
       "<Figure size 432x288 with 1 Axes>"
      ]
     },
     "metadata": {
      "needs_background": "light"
     },
     "output_type": "display_data"
    },
    {
     "name": "stdout",
     "output_type": "stream",
     "text": [
      "{'obj_6': (50, 100), 'obj_8': (60, 100), 'obj_4': (50, 100), 'obj_2': (60, 100), 'obj_9': (40, 100), 'obj_5': (50, 100), 'obj_7': (50, 100), 'obj_10': (50, 100), 'obj_1': (50, 100), 'obj_11': (0, 100), 'obj_3': (50, 100)}\n",
      "{'obj_6': 9.982462461357615, 'obj_8': 7.770412037752322, 'obj_4': 9.271828890074005, 'obj_2': 5.9907852004623585, 'obj_9': 12.62598845301168, 'obj_5': 12.17739761093177, 'obj_7': 11.754900906453967, 'obj_10': 9.441200165489128, 'obj_1': 10.103820985932504, 'obj_11': 12.807343028770916, 'obj_3': 9.485311801471786}\n",
      "For obj_6, t-statistic is 0.46 and the p-value is 0.65\n",
      "For obj_8, t-statistic is 1.38 and the p-value is 0.17\n",
      "For obj_4, t-statistic is 0.59 and the p-value is 0.55\n",
      "For obj_2, t-statistic is 0.91 and the p-value is 0.36\n",
      "For obj_9, t-statistic is 0.73 and the p-value is 0.47\n",
      "For obj_5, t-statistic is 0.97 and the p-value is 0.33\n",
      "For obj_7, t-statistic is 1.80 and the p-value is 0.07\n",
      "For obj_10, t-statistic is 1.11 and the p-value is 0.27\n",
      "For obj_1, t-statistic is 0.17 and the p-value is 0.86\n",
      "For obj_11, t-statistic is 0.52 and the p-value is 0.60\n",
      "For obj_3, t-statistic is 1.67 and the p-value is 0.10\n"
     ]
    }
   ],
   "source": [
    "data = Collection.from_json(\"./med_qa_third_gpt-3.5-turbo_gpt-3.5-turbo.json\")\n",
    "scores_per_item, variables_per_item = parse_data(data,idx_cot=1,dataset='med_qa',split='test')\n",
    "scores_per_item = fix_str_score(scores_per_item)\n",
    "scores_per_objective, df = get_further_data(scores_per_item)\n",
    "average_per_item = [sum(d.values()) / len(d) for d in scores_per_item]\n",
    "\n",
    "print(df)\n",
    "\n",
    "avg_true_false(data,average_per_item,'med_qa','test')\n",
    "freq_bar_plot(scores_per_item)\n",
    "avg_item_plot(scores_per_objective)\n",
    "\n",
    "range_data = {key: (min(value),max(value)) for key, value in scores_per_objective.items()}\n",
    "print(range_data)\n",
    "\n",
    "print(standard_deviation(scores_per_objective))\n",
    "\n",
    "t_test(data,scores_per_item,'med_qa','test')"
   ]
  },
  {
   "cell_type": "code",
   "execution_count": null,
   "metadata": {},
   "outputs": [],
   "source": [
    "# Average objective score\n",
    "# Average item score (variance,span) - finding outliers?\n",
    "# average objectives/item scores per true and false answers\n",
    "# split range up for true, false?"
   ]
  },
  {
   "cell_type": "code",
   "execution_count": 17,
   "metadata": {},
   "outputs": [
    {
     "name": "stdout",
     "output_type": "stream",
     "text": [
      "        Average\n",
      "obj_1   97.2000\n",
      "obj_2   90.1750\n",
      "obj_3   98.7000\n",
      "obj_4   90.5125\n",
      "obj_5   94.2875\n",
      "obj_6   92.0000\n",
      "obj_7   83.4250\n",
      "obj_8   88.2750\n",
      "obj_9   88.1000\n",
      "obj_10  93.1000\n",
      "obj_11  88.1500\n",
      "scores true: 95.80123266563945\n",
      "scores false: 84.73946784922394\n"
     ]
    },
    {
     "data": {
      "image/png": "[encoded data removed]",
      "text/plain": [
       "<Figure size 640x480 with 1 Axes>"
      ]
     },
     "metadata": {},
     "output_type": "display_data"
    },
    {
     "data": {
      "image/png": "[encoded data removed]",
      "text/plain": [
       "<Figure size 640x480 with 1 Axes>"
      ]
     },
     "metadata": {},
     "output_type": "display_data"
    },
    {
     "name": "stdout",
     "output_type": "stream",
     "text": [
      "{'obj_11': (0, 100), 'obj_3': (0, 100), 'obj_10': (0, 100), 'obj_4': (0, 100), 'obj_1': (50, 100), 'obj_8': (0, 100), 'obj_7': (0, 100), 'obj_2': (0, 100), 'obj_5': (0, 100), 'obj_6': (0, 100), 'obj_9': (0, 100)}\n",
      "{'obj_11': 27.703722504412585, 'obj_3': 7.935201229103485, 'obj_10': 12.476142646601405, 'obj_4': 14.511246826553243, 'obj_1': 6.144459778118202, 'obj_8': 17.270496522257712, 'obj_7': 14.510194324969202, 'obj_2': 13.010286079085606, 'obj_5': 10.763106191393751, 'obj_6': 12.738944295128462, 'obj_9': 15.394234509723157}\n",
      "For obj_11, t-statistic is 9.23 and the p-value is 0.00\n",
      "For obj_3, t-statistic is 2.54 and the p-value is 0.01\n",
      "For obj_10, t-statistic is 9.60 and the p-value is 0.00\n",
      "For obj_4, t-statistic is 10.61 and the p-value is 0.00\n",
      "For obj_1, t-statistic is 7.62 and the p-value is 0.00\n",
      "For obj_8, t-statistic is 12.50 and the p-value is 0.00\n",
      "For obj_7, t-statistic is 8.00 and the p-value is 0.00\n",
      "For obj_2, t-statistic is 10.65 and the p-value is 0.00\n",
      "For obj_5, t-statistic is 7.03 and the p-value is 0.00\n",
      "For obj_6, t-statistic is 8.78 and the p-value is 0.00\n",
      "For obj_9, t-statistic is 4.59 and the p-value is 0.00\n"
     ]
    }
   ],
   "source": [
    "from cot import Collection\n",
    "data = Collection.from_json(\"./med_qa_400_first_gpt-3.5-turbo_gpt-4.json\")\n",
    "scores_per_item, variables_per_item = parse_data(data,idx_cot=1,dataset='med_qa',split='test')\n",
    "scores_per_item = fix_str_score(scores_per_item)\n",
    "scores_per_objective, df = get_further_data(scores_per_item)\n",
    "average_per_item = [sum(d.values()) / len(d) for d in scores_per_item]\n",
    "\n",
    "print(df)\n",
    "\n",
    "avg_true_false(data,average_per_item,'med_qa','test')\n",
    "freq_bar_plot(scores_per_item)\n",
    "avg_item_plot(scores_per_objective)\n",
    "\n",
    "range_data = {key: (min(value),max(value)) for key, value in scores_per_objective.items()}\n",
    "print(range_data)\n",
    "\n",
    "print(standard_deviation(scores_per_objective))\n",
    "\n",
    "t_test(data,scores_per_item,'med_qa','test')"
   ]
  },
  {
   "cell_type": "code",
   "execution_count": 18,
   "metadata": {},
   "outputs": [
    {
     "name": "stdout",
     "output_type": "stream",
     "text": [
      "          Average\n",
      "obj_1   90.388471\n",
      "obj_2   96.328321\n",
      "obj_3   92.431078\n",
      "obj_4   89.498747\n",
      "obj_5   83.972431\n",
      "obj_6   86.102757\n",
      "obj_7   85.463659\n",
      "obj_8   92.481203\n",
      "obj_9   76.566416\n",
      "obj_10  87.719298\n",
      "obj_11  96.027569\n",
      "scores true: 88.87955993051534\n",
      "scores false: 88.58288770053476\n"
     ]
    },
    {
     "data": {
      "image/png": "[encoded data removed]",
      "text/plain": [
       "<Figure size 640x480 with 1 Axes>"
      ]
     },
     "metadata": {},
     "output_type": "display_data"
    },
    {
     "data": {
      "image/png": "[encoded data removed]",
      "text/plain": [
       "<Figure size 640x480 with 1 Axes>"
      ]
     },
     "metadata": {},
     "output_type": "display_data"
    },
    {
     "name": "stdout",
     "output_type": "stream",
     "text": [
      "{'obj_11': (0, 100), 'obj_3': (0, 100), 'obj_10': (50, 100), 'obj_4': (20, 100), 'obj_1': (30, 100), 'obj_8': (20, 100), 'obj_7': (30, 100), 'obj_2': (40, 100), 'obj_5': (40, 100), 'obj_6': (20, 100), 'obj_9': (0, 100)}\n",
      "{'obj_11': 8.872165375311182, 'obj_3': 9.336244636417469, 'obj_10': 9.225614522913844, 'obj_4': 10.278746840771332, 'obj_1': 10.256115587946198, 'obj_8': 8.15114891901078, 'obj_7': 12.348501328884316, 'obj_2': 6.148495337227046, 'obj_5': 11.848997237416278, 'obj_6': 10.365771244146554, 'obj_9': 13.421649612807991}\n",
      "For obj_11, t-statistic is -0.24 and the p-value is 0.81\n",
      "For obj_3, t-statistic is 0.35 and the p-value is 0.73\n",
      "For obj_10, t-statistic is 0.61 and the p-value is 0.54\n",
      "For obj_4, t-statistic is 0.62 and the p-value is 0.53\n",
      "For obj_1, t-statistic is -0.74 and the p-value is 0.46\n",
      "For obj_8, t-statistic is 0.09 and the p-value is 0.93\n",
      "For obj_7, t-statistic is 0.49 and the p-value is 0.63\n",
      "For obj_2, t-statistic is 0.16 and the p-value is 0.88\n",
      "For obj_5, t-statistic is 0.44 and the p-value is 0.66\n",
      "For obj_6, t-statistic is 0.46 and the p-value is 0.65\n",
      "For obj_9, t-statistic is 0.26 and the p-value is 0.80\n"
     ]
    }
   ],
   "source": [
    "data = Collection.from_json(\"./med_qa_400_first_gpt-4_gpt-3.5-turbo.json\")\n",
    "scores_per_item, variables_per_item = parse_data(data,idx_cot=1,dataset='med_qa',split='test')\n",
    "scores_per_item = fix_str_score(scores_per_item)\n",
    "scores_per_objective, df = get_further_data(scores_per_item)\n",
    "average_per_item = [sum(d.values()) / len(d) for d in scores_per_item]\n",
    "\n",
    "print(df)\n",
    "\n",
    "avg_true_false(data,average_per_item,'med_qa','test')\n",
    "freq_bar_plot(scores_per_item)\n",
    "avg_item_plot(scores_per_objective)\n",
    "\n",
    "range_data = {key: (min(value),max(value)) for key, value in scores_per_objective.items()}\n",
    "print(range_data)\n",
    "\n",
    "print(standard_deviation(scores_per_objective))\n",
    "\n",
    "t_test(data,scores_per_item,'med_qa','test')"
   ]
  },
  {
   "cell_type": "code",
   "execution_count": 19,
   "metadata": {},
   "outputs": [
    {
     "name": "stdout",
     "output_type": "stream",
     "text": [
      "        Average\n",
      "obj_1   99.4500\n",
      "obj_2   97.4875\n",
      "obj_3   99.7750\n",
      "obj_4   98.2500\n",
      "obj_5   98.9875\n",
      "obj_6   98.4375\n",
      "obj_7   89.7500\n",
      "obj_8   97.7375\n",
      "obj_9   92.7375\n",
      "obj_10  98.9125\n",
      "obj_11  97.6000\n",
      "scores true: 97.78807180081066\n",
      "scores false: 95.02114164904863\n"
     ]
    },
    {
     "data": {
      "image/png": "[encoded data removed]",
      "text/plain": [
       "<Figure size 640x480 with 1 Axes>"
      ]
     },
     "metadata": {},
     "output_type": "display_data"
    },
    {
     "data": {
      "image/png": "[encoded data removed]",
      "text/plain": [
       "<Figure size 640x480 with 1 Axes>"
      ]
     },
     "metadata": {},
     "output_type": "display_data"
    },
    {
     "name": "stdout",
     "output_type": "stream",
     "text": [
      "{'obj_11': (0, 100), 'obj_3': (40, 100), 'obj_10': (80, 100), 'obj_4': (70, 100), 'obj_1': (80, 100), 'obj_8': (50, 100), 'obj_7': (50, 100), 'obj_2': (70, 100), 'obj_5': (70, 100), 'obj_6': (80, 100), 'obj_9': (60, 100)}\n",
      "{'obj_11': 13.025519582765266, 'obj_3': 3.3507377708532387, 'obj_10': 3.5933444115684763, 'obj_4': 5.443949988629281, 'obj_1': 2.3899329381013064, 'obj_8': 6.923759083736537, 'obj_7': 7.719227044556568, 'obj_2': 5.88101262741457, 'obj_5': 3.882657766056732, 'obj_6': 4.788362432707806, 'obj_9': 6.197953720851292}\n",
      "For obj_11, t-statistic is 5.14 and the p-value is 0.00\n",
      "For obj_3, t-statistic is 1.48 and the p-value is 0.14\n",
      "For obj_10, t-statistic is 4.20 and the p-value is 0.00\n",
      "For obj_4, t-statistic is 5.18 and the p-value is 0.00\n",
      "For obj_1, t-statistic is 3.23 and the p-value is 0.00\n",
      "For obj_8, t-statistic is 5.86 and the p-value is 0.00\n",
      "For obj_7, t-statistic is 3.99 and the p-value is 0.00\n",
      "For obj_2, t-statistic is 4.87 and the p-value is 0.00\n",
      "For obj_5, t-statistic is 2.14 and the p-value is 0.03\n",
      "For obj_6, t-statistic is 4.71 and the p-value is 0.00\n",
      "For obj_9, t-statistic is 0.50 and the p-value is 0.62\n"
     ]
    }
   ],
   "source": [
    "data = Collection.from_json(\"./med_qa_400_first_gpt-4_gpt-4.json\")\n",
    "scores_per_item, variables_per_item = parse_data(data,idx_cot=1,dataset='med_qa',split='test')\n",
    "scores_per_item = fix_str_score(scores_per_item)\n",
    "scores_per_objective, df = get_further_data(scores_per_item)\n",
    "average_per_item = [sum(d.values()) / len(d) for d in scores_per_item]\n",
    "\n",
    "print(df)\n",
    "\n",
    "avg_true_false(data,average_per_item,'med_qa','test')\n",
    "freq_bar_plot(scores_per_item)\n",
    "avg_item_plot(scores_per_objective)\n",
    "\n",
    "range_data = {key: (min(value),max(value)) for key, value in scores_per_objective.items()}\n",
    "print(range_data)\n",
    "\n",
    "print(standard_deviation(scores_per_objective))\n",
    "\n",
    "t_test(data,scores_per_item,'med_qa','test')"
   ]
  },
  {
   "attachments": {},
   "cell_type": "markdown",
   "metadata": {},
   "source": [
    "## 500 samples dataset"
   ]
  },
  {
   "cell_type": "code",
   "execution_count": 29,
   "metadata": {},
   "outputs": [
    {
     "name": "stdout",
     "output_type": "stream",
     "text": [
      "          Average\n",
      "obj_1   90.388471\n",
      "obj_2   96.328321\n",
      "obj_3   92.431078\n",
      "obj_4   89.498747\n",
      "obj_5   83.972431\n",
      "obj_6   86.102757\n",
      "obj_7   85.463659\n",
      "obj_8   92.481203\n",
      "obj_9   76.566416\n",
      "obj_10  87.719298\n",
      "obj_11  96.027569\n",
      "scores true: 88.87955993051534\n",
      "scores false: 88.58288770053476\n"
     ]
    },
    {
     "data": {
      "image/png": "[encoded data removed]",
      "text/plain": [
       "<Figure size 640x480 with 1 Axes>"
      ]
     },
     "metadata": {},
     "output_type": "display_data"
    },
    {
     "data": {
      "image/png": "[encoded data removed]",
      "text/plain": [
       "<Figure size 640x480 with 1 Axes>"
      ]
     },
     "metadata": {},
     "output_type": "display_data"
    },
    {
     "name": "stdout",
     "output_type": "stream",
     "text": [
      "{'obj_3': (0, 100), 'obj_1': (30, 100), 'obj_11': (0, 100), 'obj_9': (0, 100), 'obj_6': (20, 100), 'obj_8': (20, 100), 'obj_4': (20, 100), 'obj_7': (30, 100), 'obj_10': (50, 100), 'obj_2': (40, 100), 'obj_5': (40, 100)}\n",
      "{'obj_3': 9.336244636417469, 'obj_1': 10.256115587946198, 'obj_11': 8.872165375311182, 'obj_9': 13.421649612807991, 'obj_6': 10.365771244146554, 'obj_8': 8.15114891901078, 'obj_4': 10.278746840771332, 'obj_7': 12.348501328884316, 'obj_10': 9.225614522913844, 'obj_2': 6.148495337227046, 'obj_5': 11.848997237416278}\n",
      "For obj_3, U-statistic is 13604.50 and the p-value is 0.77\n",
      "For obj_1, U-statistic is 12891.50 and the p-value is 0.61\n",
      "For obj_11, U-statistic is 14026.00 and the p-value is 0.37\n",
      "For obj_9, U-statistic is 13974.50 and the p-value is 0.48\n",
      "For obj_6, U-statistic is 13857.00 and the p-value is 0.57\n",
      "For obj_8, U-statistic is 13692.00 and the p-value is 0.69\n",
      "For obj_4, U-statistic is 14296.50 and the p-value is 0.29\n",
      "For obj_7, U-statistic is 14019.00 and the p-value is 0.46\n",
      "For obj_10, U-statistic is 13905.50 and the p-value is 0.53\n",
      "For obj_2, U-statistic is 13444.50 and the p-value is 0.90\n",
      "For obj_5, U-statistic is 13697.00 and the p-value is 0.70\n"
     ]
    }
   ],
   "source": [
    "#GPT-4: GPT-3.5\n",
    "\n",
    "data_400 = Collection.from_json(\"./med_qa_400_first_gpt-4_gpt-3.5-turbo.json\")\n",
    "#data_100 = Collection.from_json(\"./med_qa_first_gpt-4_gpt-3.5-turbo.json\")\n",
    "#data_500 = data_400.merge(data_100)\n",
    "data = data_400 #data_500\n",
    "\n",
    "scores_per_item, variables_per_item = parse_data(data,idx_cot=1,dataset='med_qa',split='test')\n",
    "scores_per_item = fix_str_score(scores_per_item)\n",
    "scores_per_objective, df = get_further_data(scores_per_item)\n",
    "average_per_item = [sum(d.values()) / len(d) for d in scores_per_item]\n",
    "\n",
    "print(df)\n",
    "\n",
    "avg_true_false(data,average_per_item,'med_qa','test')\n",
    "freq_bar_plot(scores_per_item)\n",
    "avg_item_plot(scores_per_objective)\n",
    "\n",
    "range_data = {key: (min(value),max(value)) for key, value in scores_per_objective.items()}\n",
    "print(range_data)\n",
    "\n",
    "print(standard_deviation(scores_per_objective))\n",
    "\n",
    "scores_per_objective_true,scores_per_objective_false = u_test(data,scores_per_item,'med_qa','test')"
   ]
  },
  {
   "cell_type": "code",
   "execution_count": 26,
   "metadata": {},
   "outputs": [
    {
     "data": {
      "application/vnd.jupyter.widget-view+json": {
       "model_id": "5e8de92dd3a34d5689a2ca7a73e48850",
       "version_major": 2,
       "version_minor": 0
      },
      "text/plain": [
       "Creating json from Arrow format:   0%|          | 0/1 [00:00<?, ?ba/s]"
      ]
     },
     "metadata": {},
     "output_type": "display_data"
    },
    {
     "data": {
      "application/vnd.jupyter.widget-view+json": {
       "model_id": "c7542356a3554c158bb2537ba8436362",
       "version_major": 2,
       "version_minor": 0
      },
      "text/plain": [
       "Creating json from Arrow format:   0%|          | 0/1 [00:00<?, ?ba/s]"
      ]
     },
     "metadata": {},
     "output_type": "display_data"
    },
    {
     "name": "stdout",
     "output_type": "stream",
     "text": [
      "          Average\n",
      "obj_1   95.861723\n",
      "obj_2   91.382766\n",
      "obj_3   97.224449\n",
      "obj_4   90.420842\n",
      "obj_5   92.314629\n",
      "obj_6   90.961924\n",
      "obj_7   83.967936\n",
      "obj_8   89.088176\n",
      "obj_9   86.132265\n",
      "obj_10  92.104208\n",
      "obj_11  89.498998\n",
      "scores true: 94.6134817563389\n",
      "scores false: 85.36585365853658\n"
     ]
    },
    {
     "data": {
      "image/png": "[encoded data removed]",
      "text/plain": [
       "<Figure size 640x480 with 1 Axes>"
      ]
     },
     "metadata": {},
     "output_type": "display_data"
    },
    {
     "data": {
      "image/png": "[encoded data removed]",
      "text/plain": [
       "<Figure size 640x480 with 1 Axes>"
      ]
     },
     "metadata": {},
     "output_type": "display_data"
    },
    {
     "name": "stdout",
     "output_type": "stream",
     "text": [
      "{'obj_3': (0, 100), 'obj_1': (50, 100), 'obj_11': (0, 100), 'obj_9': (0, 100), 'obj_6': (0, 100), 'obj_8': (0, 100), 'obj_4': (0, 100), 'obj_7': (0, 100), 'obj_10': (0, 100), 'obj_2': (0, 100), 'obj_5': (0, 100)}\n",
      "{'obj_3': 8.773232121305732, 'obj_1': 7.588759775840389, 'obj_11': 25.58452208031851, 'obj_9': 15.392147801327658, 'obj_6': 12.409372393437476, 'obj_8': 15.922762888171556, 'obj_4': 13.625927863214256, 'obj_7': 14.03835015406326, 'obj_10': 12.094057517375338, 'obj_2': 12.189590972606567, 'obj_5': 11.736874511813202}\n",
      "For obj_3, U-statistic is 32299.00 and the p-value is 0.03\n",
      "For obj_1, U-statistic is 38099.50 and the p-value is 0.00\n",
      "For obj_11, U-statistic is 40116.00 and the p-value is 0.00\n",
      "For obj_9, U-statistic is 34992.50 and the p-value is 0.00\n",
      "For obj_6, U-statistic is 41815.50 and the p-value is 0.00\n",
      "For obj_8, U-statistic is 48145.00 and the p-value is 0.00\n",
      "For obj_4, U-statistic is 44255.50 and the p-value is 0.00\n",
      "For obj_7, U-statistic is 41448.50 and the p-value is 0.00\n",
      "For obj_10, U-statistic is 43424.50 and the p-value is 0.00\n",
      "For obj_2, U-statistic is 44421.50 and the p-value is 0.00\n",
      "For obj_5, U-statistic is 39804.00 and the p-value is 0.00\n"
     ]
    }
   ],
   "source": [
    "#GPT-3.5: GPT-4\n",
    "\n",
    "data_400 = Collection.from_json(\"./med_qa_400_first_gpt-3.5-turbo_gpt-4.json\")\n",
    "data_100 = Collection.from_json(\"./med_qa_first_gpt-3.5-turbo_gpt-4.json\")\n",
    "data_500 = data_400.merge(data_100)\n",
    "data = data_500\n",
    "\n",
    "scores_per_item, variables_per_item = parse_data(data,idx_cot=1,dataset='med_qa',split='test')\n",
    "scores_per_item = fix_str_score(scores_per_item)\n",
    "scores_per_objective, df = get_further_data(scores_per_item)\n",
    "average_per_item = [sum(d.values()) / len(d) for d in scores_per_item]\n",
    "\n",
    "print(df)\n",
    "\n",
    "avg_true_false(data,average_per_item,'med_qa','test')\n",
    "freq_bar_plot(scores_per_item)\n",
    "avg_item_plot(scores_per_objective)\n",
    "\n",
    "range_data = {key: (min(value),max(value)) for key, value in scores_per_objective.items()}\n",
    "print(range_data)\n",
    "\n",
    "print(standard_deviation(scores_per_objective))\n",
    "\n",
    "scores_per_objective_true,scores_per_objective_false = u_test(data,scores_per_item,'med_qa','test')"
   ]
  },
  {
   "cell_type": "code",
   "execution_count": 27,
   "metadata": {},
   "outputs": [
    {
     "data": {
      "application/vnd.jupyter.widget-view+json": {
       "model_id": "9b4d27575e5c474eacbffac2ac7737be",
       "version_major": 2,
       "version_minor": 0
      },
      "text/plain": [
       "Creating json from Arrow format:   0%|          | 0/1 [00:00<?, ?ba/s]"
      ]
     },
     "metadata": {},
     "output_type": "display_data"
    },
    {
     "data": {
      "application/vnd.jupyter.widget-view+json": {
       "model_id": "c464302a59244363862906b8c7010b78",
       "version_major": 2,
       "version_minor": 0
      },
      "text/plain": [
       "Creating json from Arrow format:   0%|          | 0/1 [00:00<?, ?ba/s]"
      ]
     },
     "metadata": {},
     "output_type": "display_data"
    },
    {
     "name": "stdout",
     "output_type": "stream",
     "text": [
      "wrong output found\n",
      "          Average\n",
      "obj_1   88.878866\n",
      "obj_2   95.399485\n",
      "obj_3   90.244845\n",
      "obj_4   87.641753\n",
      "obj_5   82.074742\n",
      "obj_6   85.141753\n",
      "obj_7   84.033505\n",
      "obj_8   91.481959\n",
      "obj_9   77.010309\n",
      "obj_10  86.881443\n",
      "obj_11  94.948454\n",
      "scores true: 88.2939787485242\n",
      "scores false: 86.60972785176607\n"
     ]
    },
    {
     "data": {
      "image/png": "[encoded data removed]",
      "text/plain": [
       "<Figure size 640x480 with 1 Axes>"
      ]
     },
     "metadata": {},
     "output_type": "display_data"
    },
    {
     "data": {
      "image/png": "[encoded data removed]",
      "text/plain": [
       "<Figure size 640x480 with 1 Axes>"
      ]
     },
     "metadata": {},
     "output_type": "display_data"
    },
    {
     "name": "stdout",
     "output_type": "stream",
     "text": [
      "{'obj_3': (50, 100), 'obj_1': (50, 100), 'obj_11': (0, 100), 'obj_9': (0, 100), 'obj_6': (50, 100), 'obj_8': (0, 100), 'obj_4': (0, 100), 'obj_7': (50, 100), 'obj_10': (50, 100), 'obj_2': (50, 100), 'obj_5': (50, 100)}\n",
      "{'obj_3': 9.711835089358658, 'obj_1': 9.689935467105503, 'obj_11': 9.078891819614393, 'obj_9': 13.160896465276684, 'obj_6': 10.00222244144176, 'obj_8': 8.659936819287815, 'obj_4': 10.524636239793159, 'obj_7': 12.385137841854249, 'obj_10': 9.28678124658062, 'obj_2': 6.01743373686309, 'obj_5': 12.237405324687476}\n",
      "For obj_3, U-statistic is 20019.00 and the p-value is 0.07\n",
      "For obj_1, U-statistic is 20060.50 and the p-value is 0.06\n",
      "For obj_11, U-statistic is 19450.50 and the p-value is 0.16\n",
      "For obj_9, U-statistic is 18831.50 and the p-value is 0.50\n",
      "For obj_6, U-statistic is 18943.00 and the p-value is 0.43\n",
      "For obj_8, U-statistic is 20166.50 and the p-value is 0.04\n",
      "For obj_4, U-statistic is 20207.00 and the p-value is 0.04\n",
      "For obj_7, U-statistic is 18679.00 and the p-value is 0.60\n",
      "For obj_10, U-statistic is 19441.50 and the p-value is 0.20\n",
      "For obj_2, U-statistic is 19469.00 and the p-value is 0.15\n",
      "For obj_5, U-statistic is 19566.50 and the p-value is 0.17\n"
     ]
    }
   ],
   "source": [
    "#GPT-3.5: GPT-3.5\n",
    "\n",
    "data_400 = Collection.from_json(\"./med_qa_400_first_gpt-3.5-turbo_gpt-3.5-turbo.json\")\n",
    "data_100 = Collection.from_json(\"./med_qa_first_gpt-3.5-turbo_gpt-3.5-turbo.json\")\n",
    "data_500 = data_400.merge(data_100)\n",
    "data = data_500\n",
    "\n",
    "scores_per_item, variables_per_item = parse_data(data,idx_cot=1,dataset='med_qa',split='test')\n",
    "scores_per_item = fix_str_score(scores_per_item)\n",
    "scores_per_objective, df = get_further_data(scores_per_item)\n",
    "average_per_item = [sum(d.values()) / len(d) for d in scores_per_item]\n",
    "\n",
    "print(df)\n",
    "\n",
    "avg_true_false(data,average_per_item,'med_qa','test')\n",
    "freq_bar_plot(scores_per_item)\n",
    "avg_item_plot(scores_per_objective)\n",
    "\n",
    "range_data = {key: (min(value),max(value)) for key, value in scores_per_objective.items()}\n",
    "print(range_data)\n",
    "\n",
    "print(standard_deviation(scores_per_objective))\n",
    "\n",
    "scores_per_objective_true,scores_per_objective_false = u_test(data,scores_per_item,'med_qa','test')"
   ]
  },
  {
   "cell_type": "code",
   "execution_count": 101,
   "metadata": {},
   "outputs": [
    {
     "data": {
      "application/vnd.jupyter.widget-view+json": {
       "model_id": "e83b18f5e98e42baaccf735799109b40",
       "version_major": 2,
       "version_minor": 0
      },
      "text/plain": [
       "Creating json from Arrow format:   0%|          | 0/1 [00:00<?, ?ba/s]"
      ]
     },
     "metadata": {},
     "output_type": "display_data"
    },
    {
     "data": {
      "application/vnd.jupyter.widget-view+json": {
       "model_id": "ea04eab5912e4c31a75982ea8afa04dc",
       "version_major": 2,
       "version_minor": 0
      },
      "text/plain": [
       "Creating json from Arrow format:   0%|          | 0/1 [00:00<?, ?ba/s]"
      ]
     },
     "metadata": {},
     "output_type": "display_data"
    },
    {
     "name": "stdout",
     "output_type": "stream",
     "text": [
      "Average over objectives for all items\n",
      "        Average\n",
      "obj_1     99.45\n",
      "obj_2     97.65\n",
      "obj_3     99.82\n",
      "obj_4     98.24\n",
      "obj_5     99.09\n",
      "obj_6     98.41\n",
      "obj_7     89.90\n",
      "obj_8     97.78\n",
      "obj_9     92.97\n",
      "obj_10    98.96\n",
      "obj_11    97.78\n",
      "\n",
      "\n",
      "Average over objectives separated by items with correct / incorrect answers\n",
      "scores true: 97.20173497388687\n",
      "scores false: 94.15584415584416\n"
     ]
    },
    {
     "data": {
      "image/png": "[encoded data removed]",
      "text/plain": [
       "<Figure size 640x480 with 1 Axes>"
      ]
     },
     "metadata": {},
     "output_type": "display_data"
    },
    {
     "name": "stdout",
     "output_type": "stream",
     "text": [
      "Mann-Whitney-U test\n",
      "For obj_3, U-statistic is 20883.00 and the p-value is 0.31\n",
      "For obj_1, U-statistic is 22583.00 and the p-value is 0.00\n",
      "For obj_11, U-statistic is 22806.00 and the p-value is 0.00\n",
      "For obj_9, U-statistic is 20835.50 and the p-value is 0.93\n",
      "For obj_6, U-statistic is 24844.00 and the p-value is 0.00\n",
      "For average, U-statistic is 26231.50 and the p-value is 0.00\n",
      "For obj_8, U-statistic is 25495.50 and the p-value is 0.00\n",
      "For obj_4, U-statistic is 24507.50 and the p-value is 0.00\n",
      "For obj_7, U-statistic is 25066.50 and the p-value is 0.00\n",
      "For obj_10, U-statistic is 23527.50 and the p-value is 0.00\n",
      "For lowest, U-statistic is 25841.50 and the p-value is 0.00\n",
      "For obj_2, U-statistic is 24847.50 and the p-value is 0.00\n",
      "For obj_5, U-statistic is 22624.50 and the p-value is 0.00\n",
      "\n",
      "\n",
      "Frequency where objective is lowest scored for items with false answer\n",
      "{'obj_7': 92, 'obj_9': 60, 'obj_11': 24, 'obj_2': 18, 'obj_8': 17, 'obj_6': 16, 'obj_5': 15, 'obj_4': 14, 'obj_3': 13, 'obj_10': 13, 'obj_1': 12}\n",
      "\n",
      "\n",
      "Frequency where objective is lowest scored for items with correct answer\n",
      "{'obj_7': 377, 'obj_9': 309, 'obj_2': 87, 'obj_11': 84, 'obj_5': 83, 'obj_8': 82, 'obj_10': 79, 'obj_1': 77, 'obj_3': 77, 'obj_6': 77, 'obj_4': 76}\n",
      "\n",
      "\n",
      "range of scores\n",
      "{'obj_3': (40, 100), 'obj_1': (80, 100), 'obj_11': (0, 100), 'obj_9': (60, 100), 'obj_6': (70, 100), 'average': (71.81818181818181, 100.0), 'obj_8': (50, 100), 'obj_4': (70, 100), 'obj_7': (50, 100), 'obj_10': (80, 100), 'lowest': (0, 100), 'obj_2': (70, 100), 'obj_5': (70, 100)}\n",
      "\n",
      "\n",
      "Standard dev. of scores\n",
      "{'obj_3': 2.997594225755812, 'obj_1': 2.3576719946737486, 'obj_11': 12.131196637748836, 'obj_9': 6.140399744156404, 'obj_6': 4.854795369132702, 'average': 3.8750968667453844, 'obj_8': 6.727713151472592, 'obj_4': 5.4278285386782725, 'obj_7': 7.6881868104817235, 'obj_10': 3.583864977416535, 'lowest': 12.808110531642937, 'obj_2': 5.74399573241029, 'obj_5': 3.612200989976044}\n"
     ]
    }
   ],
   "source": [
    "# GPT-4:GPT-4\n",
    "data_400 = Collection.from_json(\"./med_qa_400_first_gpt-4_gpt-4.json\")\n",
    "data_100 = Collection.from_json(\"./med_qa_first_gpt-4_gpt-4.json\")\n",
    "data_500 = data_400.merge(data_100)\n",
    "data = data_500\n",
    "\n",
    "scores_per_item, variables_per_item, [scores_true,scores_false] = parse_data(data,idx_cot=1,dataset='med_qa',split='test')\n",
    "scores_per_item = fix_str_score(scores_per_item)\n",
    "scores_per_objective, df = get_further_data(scores_per_item)\n",
    "average_per_item = [sum(d.values()) / len(d) for d in scores_per_item]\n",
    "\n",
    "print(\"Average over objectives for all items\")\n",
    "print(df)\n",
    "print(\"\\n\")\n",
    "\n",
    "print(\"Average over objectives separated by items with correct / incorrect answers\")\n",
    "avg_true_false(data,average_per_item,'med_qa','test')\n",
    "freq_bar_plot(scores_per_item)\n",
    "# avg_item_plot(scores_per_objective)\n",
    "\n",
    "print(\"Mann-Whitney-U test\")\n",
    "scores_per_objective_true,scores_per_objective_false = u_test(data,scores_per_item,'med_qa','test')\n",
    "print(\"\\n\")\n",
    "print(\"Frequency where objective is lowest scored for items with false answer\")\n",
    "print(dict(sorted(count_keys(scores_false).items(), key=lambda x: -x[1])))\n",
    "print(\"\\n\")\n",
    "print(\"Frequency where objective is lowest scored for items with correct answer\")\n",
    "print(dict(sorted(count_keys(scores_true).items(), key=lambda x: -x[1])))\n",
    "print(\"\\n\")\n",
    "\n",
    "range_data = {key: (min(value),max(value)) for key, value in scores_per_objective.items()}\n",
    "print(\"range of scores\")\n",
    "print(range_data)\n",
    "print(\"\\n\")\n",
    "print(\"Standard dev. of scores\")\n",
    "print(standard_deviation(scores_per_objective))"
   ]
  }
 ],
 "metadata": {
  "kernelspec": {
   "display_name": "base",
   "language": "python",
   "name": "python3"
  },
  "language_info": {
   "codemirror_mode": {
    "name": "ipython",
    "version": 3
   },
   "file_extension": ".py",
   "mimetype": "text/x-python",
   "name": "python",
   "nbconvert_exporter": "python",
   "pygments_lexer": "ipython3",
   "version": "3.9.16"
  },
  "orig_nbformat": 4
 },
 "nbformat": 4,
 "nbformat_minor": 2
}
