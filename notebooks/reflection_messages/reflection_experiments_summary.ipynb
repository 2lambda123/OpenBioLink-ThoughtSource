{
 "cells": [
  {
   "attachments": {},
   "cell_type": "markdown",
   "metadata": {},
   "source": [
    "## Helper functions"
   ]
  },
  {
   "cell_type": "code",
   "execution_count": 1,
   "metadata": {},
   "outputs": [],
   "source": [
    "\"\"\"Imports\"\"\"\n",
    "from langchain.chat_models import ChatOpenAI\n",
    "from langchain.prompts.chat import (\n",
    "    ChatPromptTemplate,\n",
    "    SystemMessagePromptTemplate,\n",
    "    AIMessagePromptTemplate,\n",
    "    HumanMessagePromptTemplate,\n",
    ")\n",
    "from langchain.schema import (\n",
    "    AIMessage,\n",
    "    HumanMessage,\n",
    "    SystemMessage\n",
    ")\n",
    "\n",
    "from cot import Collection\n",
    "import yaml"
   ]
  },
  {
   "cell_type": "code",
   "execution_count": 2,
   "metadata": {},
   "outputs": [],
   "source": [
    "# Helper functions to call OpenAI model, system also generates reasoning\n",
    "# this function lets the model reason (less frequently used than system_evaluate)\n",
    "\n",
    "def system_experiment(data,model, path_system_template):\n",
    "    chat = ChatOpenAI(\n",
    "        temperature=0,\n",
    "        model_name=model,\n",
    "        request_timeout=600,\n",
    "        max_retries=1,\n",
    "    )\n",
    "\n",
    "    human_template=\"\"\"Answer the question:{question}\\nwith the following answer options:{answer_options}\"\"\"\n",
    "    human_message_prompt = HumanMessagePromptTemplate.from_template(human_template)\n",
    "    \n",
    "    with open(path_system_template, 'r') as file:\n",
    "        template = file.read()\n",
    "    system_message_prompt = SystemMessagePromptTemplate.from_template(template)\n",
    "    \n",
    "    chat_prompt = ChatPromptTemplate.from_messages([system_message_prompt, human_message_prompt])  \n",
    "    input_dict = {'chat':chat,'chat_prompt':chat_prompt, \"api_time_interval\": 1} \n",
    "    \n",
    "    return data.system_generate(input_dict)\n",
    "\n",
    "def save_as_yaml(data, filepath):\n",
    "    with open(filepath, 'w') as file:\n",
    "        yaml.dump(data, file)"
   ]
  },
  {
   "cell_type": "code",
   "execution_count": 3,
   "metadata": {},
   "outputs": [],
   "source": [
    "def system_evaluate(data,model, path_system_template):\n",
    "    chat = ChatOpenAI(\n",
    "        temperature=0,\n",
    "        model_name=model,\n",
    "        request_timeout=600,\n",
    "        max_retries=1,\n",
    "    )\n",
    "\n",
    "    human_template=\"\"\"Answer the question:{question}\\n\n",
    "    with the following answer options:{answer_options}\\n\n",
    "    Reasoning: {reasoning}\\n\n",
    "    Answer: {answer}\"\"\"\n",
    "    human_message_prompt = HumanMessagePromptTemplate.from_template(human_template)\n",
    "    \n",
    "    with open(path_system_template, 'r') as file:\n",
    "        template = file.read()\n",
    "    system_message_prompt = SystemMessagePromptTemplate.from_template(template)\n",
    "    \n",
    "    chat_prompt = ChatPromptTemplate.from_messages([system_message_prompt, human_message_prompt])  \n",
    "    input_dict = {'chat':chat,'chat_prompt':chat_prompt, \"api_time_interval\": 1} \n",
    "    \n",
    "    return data.system_eval(input_dict)"
   ]
  },
  {
   "cell_type": "code",
   "execution_count": 4,
   "metadata": {},
   "outputs": [],
   "source": [
    "import pandas as pd\n",
    "import yaml\n",
    "\n",
    "def process_new_data(new_data,idx_cot,dataset,split):\n",
    "    scores_per_item = []\n",
    "    for item in new_data[dataset][split]:\n",
    "        try:\n",
    "            scores_per_item.append(yaml.load(item['generated_cot'][idx_cot]['cot'], Loader=yaml.FullLoader))\n",
    "        except:\n",
    "            print(\"wrong output found\")\n",
    "            continue\n",
    "\n",
    "    # Get unique keys from all dictionaries\n",
    "    keys = set().union(*scores_per_item)\n",
    "\n",
    "    # Create lists of values for each key\n",
    "    scores_per_objective = {key: [d.get(key) for d in scores_per_item] for key in keys if key != \"critique\"} #added critique\n",
    "\n",
    "    #check values for nonetype\n",
    "    for key, value in scores_per_objective.items():\n",
    "        if value is not str:\n",
    "            print(key,value)\n",
    "\n",
    "\n",
    "    # Calculate the average of each list\n",
    "    averaged_data = {key: sum(value) / len(value) for key, value in scores_per_objective.items() if key!=\"critique\"} #added critique\n",
    "\n",
    "    # Convert the averaged data dictionary to a Pandas DataFrame\n",
    "    df = pd.DataFrame.from_dict(averaged_data, orient='index', columns=['Average'])\n",
    "\n",
    "    # Sort the DataFrame by the index (row labels)\n",
    "    df = df.loc[['obj_1', 'obj_2', 'obj_3', 'obj_4', 'obj_5', 'obj_6', 'obj_7', 'obj_8', 'obj_9', 'obj_10', 'obj_11']]\n",
    "\n",
    "    return scores_per_item, scores_per_objective, df"
   ]
  },
  {
   "cell_type": "code",
   "execution_count": 5,
   "metadata": {},
   "outputs": [],
   "source": [
    "def parse_data(new_data,idx_cot,dataset,split):\n",
    "    scores_per_item = []\n",
    "    variables_per_item = []\n",
    "    for item in new_data[dataset][split]:\n",
    "        try:\n",
    "            data = yaml.load(item['generated_cot'][idx_cot]['cot'], Loader=yaml.FullLoader)\n",
    "            if any(isinstance(v, str) for v in data.values()):\n",
    "                new_dict = {k: v for k, v in data.items() if k.startswith('obj')}\n",
    "                scores_per_item.append(new_dict)\n",
    "                variables_per_item.append(data)\n",
    "            else:\n",
    "                scores_per_item.append(data)\n",
    "        except:\n",
    "        \n",
    "            print(\"wrong output found\")\n",
    "            continue\n",
    "    return scores_per_item, variables_per_item"
   ]
  },
  {
   "cell_type": "code",
   "execution_count": 6,
   "metadata": {},
   "outputs": [],
   "source": [
    "def parse_lst_data(new_data,idx_cot,dataset,split):\n",
    "    scores_per_item = []\n",
    "    variables_per_item = []\n",
    "    statements_per_item = []\n",
    "    for item in new_data[dataset][split]:\n",
    "        try:\n",
    "            data = yaml.load(item['generated_cot'][idx_cot]['cot'], Loader=yaml.FullLoader)\n",
    "            #if any(isinstance(v, str) for v in data.values()):\n",
    "            new_dict = {k: v[1] for k, v in data.items() if k.startswith('obj')}\n",
    "            statement_dict = {k: v[0] for k, v in data.items() if k.startswith('obj')}\n",
    "            statements_per_item.append(statement_dict)\n",
    "            scores_per_item.append(new_dict)\n",
    "            variables_per_item.append(data)\n",
    "            # else:\n",
    "            #     scores_per_item.append(data)\n",
    "        except:\n",
    "        \n",
    "            print(\"wrong output found\")\n",
    "            continue\n",
    "    return scores_per_item, variables_per_item, statements_per_item\n"
   ]
  },
  {
   "cell_type": "code",
   "execution_count": 7,
   "metadata": {},
   "outputs": [],
   "source": [
    "def get_further_data(scores_per_item):\n",
    "# Get unique keys from all dictionaries\n",
    "    keys = set().union(*scores_per_item)\n",
    "\n",
    "    # Create lists of values for each key\n",
    "    scores_per_objective = {key: [d.get(key) for d in scores_per_item] for key in keys}\n",
    "    # scores_per_objective = {k: v for k, v in scores_per_objective.items() if not isinstance(v, str)}\n",
    "    # print(scores_per_objective)\n",
    "\n",
    "    # #check values for nonetype\n",
    "    # for key, value in scores_per_objective.items():\n",
    "    #     if value is not str:\n",
    "    #         #print(key,value)\n",
    "    #         continue\n",
    "\n",
    "\n",
    "    # Calculate the average of each list\n",
    "    #averaged_data = {key: sum(value) / len(value) for key, value in scores_per_objective.items()} \n",
    "    averaged_data = {key: (sum(v for v in value if v is not None) / len([v for v in value if v is not None])) for key, value in scores_per_objective.items() if len([v for v in value if v is not None]) > 0}\n",
    "\n",
    "    # Convert the averaged data dictionary to a Pandas DataFrame\n",
    "    df = pd.DataFrame.from_dict(averaged_data, orient='index', columns=['Average'])\n",
    "\n",
    "    # Sort the DataFrame by the index (row labels)\n",
    "    df = df.loc[['obj_1', 'obj_2', 'obj_3', 'obj_4', 'obj_5', 'obj_6', 'obj_7', 'obj_8', 'obj_9', 'obj_10', 'obj_11']]\n",
    "\n",
    "    return scores_per_objective, df"
   ]
  },
  {
   "cell_type": "code",
   "execution_count": 8,
   "metadata": {},
   "outputs": [],
   "source": [
    "def fix_none_score(scores_per_item):\n",
    "    for i,element in enumerate(scores_per_item):\n",
    "        for inner_key, value in element.items():\n",
    "            if value is None:\n",
    "                scores_per_item[i][inner_key] = 5\n",
    "    return scores_per_item\n",
    "    "
   ]
  },
  {
   "cell_type": "code",
   "execution_count": 9,
   "metadata": {},
   "outputs": [],
   "source": [
    "def fix_str_score(scores_per_item):\n",
    "    for i,element in enumerate(scores_per_item):\n",
    "        for inner_key, value in element.items():\n",
    "            if isinstance(value,str):\n",
    "                scores_per_item.pop(i)\n",
    "    return scores_per_item"
   ]
  },
  {
   "cell_type": "code",
   "execution_count": 10,
   "metadata": {},
   "outputs": [
    {
     "name": "stderr",
     "output_type": "stream",
     "text": [
      "/opt/anaconda3/lib/python3.9/site-packages/scipy/__init__.py:146: UserWarning: A NumPy version >=1.16.5 and <1.23.0 is required for this version of SciPy (detected version 1.24.2\n",
      "  warnings.warn(f\"A NumPy version >={np_minversion} and <{np_maxversion}\"\n"
     ]
    }
   ],
   "source": [
    "#helper functions for results\n",
    "import matplotlib.pyplot as plt\n",
    "from scipy.stats import ttest_ind\n",
    "import statistics\n",
    "\n",
    "def freq_bar_plot(scores_per_item): #later better axes\n",
    "    average_per_item = [sum(d.values()) / len(d) for d in scores_per_item]\n",
    "    # Create a histogram\n",
    "    plt.hist(average_per_item, bins='auto', alpha=0.7)\n",
    "    plt.xlabel('Values')\n",
    "    plt.ylabel('Frequency')\n",
    "    plt.title('Frequency of average score per item')\n",
    "    plt.show()\n",
    "\n",
    "def avg_item_plot(scores_per_objective):  #later better axes\n",
    " \n",
    "    data = scores_per_objective\n",
    "    averaged_data = {key: sum(value) / len(value) for key, value in data.items() if key!=\"critique\"} #added \"critique\"\n",
    "    sorted_data = {k: v for k, v in sorted(averaged_data.items())}\n",
    "\n",
    "    # Extract the keys (objectives) and values (averages) from the sorted dictionary\n",
    "    keys = sorted_data.keys()\n",
    "    values = sorted_data.values()\n",
    "\n",
    "    # Create a bar plot\n",
    "    plt.bar(keys, values)\n",
    "    plt.xlabel('Objectives')\n",
    "    plt.ylabel('Average')\n",
    "    # plt.ylim(7,10)\n",
    "    plt.title('Average per Objective')\n",
    "    plt.xticks(rotation=45)\n",
    "    plt.show()\n",
    "\n",
    "def avg_true_false(data,average_per_item,dataset,split):\n",
    "    item_correct = []\n",
    "    for item in data[dataset][split]:\n",
    "        item_correct.append(item['generated_cot'][0]['answers'][0]['correct_answer'])\n",
    "\n",
    "    # Example lists of scores and indicators\n",
    "    scores = average_per_item\n",
    "    indicators = item_correct\n",
    "\n",
    "    # Separate scores based on indicators\n",
    "    scores_true = [score for score, indicator in zip(scores, indicators) if indicator]\n",
    "    scores_false = [score for score, indicator in zip(scores, indicators) if not indicator]\n",
    "\n",
    "    print(\"scores true:\", statistics.mean(scores_true))\n",
    "    print(\"scores false:\", statistics.mean(scores_false))"
   ]
  },
  {
   "attachments": {},
   "cell_type": "markdown",
   "metadata": {},
   "source": [
    "## Prompts with simple grading do not work "
   ]
  },
  {
   "cell_type": "code",
   "execution_count": 86,
   "metadata": {},
   "outputs": [],
   "source": [
    "med_zhou = Collection.from_json(\"med_qa_zhou_eval.json\")\n"
   ]
  },
  {
   "cell_type": "code",
   "execution_count": 95,
   "metadata": {},
   "outputs": [
    {
     "name": "stdout",
     "output_type": "stream",
     "text": [
      "Generating med_qa...\n"
     ]
    },
    {
     "data": {
      "application/vnd.jupyter.widget-view+json": {
       "model_id": "8ae7a8f9b8e24dbcb5fa06073b21b2f7",
       "version_major": 2,
       "version_minor": 0
      },
      "text/plain": [
       "  0%|          | 0/100 [00:00<?, ?ex/s]"
      ]
     },
     "metadata": {},
     "output_type": "display_data"
    },
    {
     "name": "stdout",
     "output_type": "stream",
     "text": [
      "(API-)Error in item 63: That model is currently overloaded with other requests. You can retry your request, or contact us through our help center at help.openai.com if the error persists. (Please include the request ID c6cc1cdfbeec9baabfe3f7008406cf6f in your message.)\n",
      "Retrying with additional time of 10 seconds.\n",
      "wrong output found\n",
      "wrong output found\n",
      "         Average\n",
      "obj_1   9.122449\n",
      "obj_2   9.836735\n",
      "obj_3   9.000000\n",
      "obj_4   9.500000\n",
      "obj_5   8.836735\n",
      "obj_6   9.295918\n",
      "obj_7   9.234694\n",
      "obj_8   9.724490\n",
      "obj_9   8.918367\n",
      "obj_10  9.285714\n",
      "obj_11  9.683673\n"
     ]
    }
   ],
   "source": [
    "#for template 13 \"There is room for improvement prompt\"\n",
    "absolute_path = \"./reflection_messages/input_system/system_template_13_eval.yaml\"\n",
    "system_evaluate(med_zhou,'gpt-3.5-turbo',absolute_path)\n",
    "med_zhou.dump(\"med_qa_template_13\")\n",
    "output = process_new_data(med_zhou,idx_cot=1)\n",
    "print(output)"
   ]
  },
  {
   "cell_type": "code",
   "execution_count": 100,
   "metadata": {},
   "outputs": [
    {
     "name": "stdout",
     "output_type": "stream",
     "text": [
      "Generating med_qa...\n"
     ]
    },
    {
     "data": {
      "application/vnd.jupyter.widget-view+json": {
       "model_id": "dc83e6a1fbbe46a795aecf5a20c7e3d0",
       "version_major": 2,
       "version_minor": 0
      },
      "text/plain": [
       "  0%|          | 0/100 [00:00<?, ?ex/s]"
      ]
     },
     "metadata": {},
     "output_type": "display_data"
    },
    {
     "name": "stdout",
     "output_type": "stream",
     "text": [
      "(API-)Error in item 88: That model is currently overloaded with other requests. You can retry your request, or contact us through our help center at help.openai.com if the error persists. (Please include the request ID d334e30cbc2755eaf79a8e06d350a18e in your message.)\n",
      "Retrying with additional time of 10 seconds.\n"
     ]
    },
    {
     "data": {
      "application/vnd.jupyter.widget-view+json": {
       "model_id": "6613dcbcabbf437a9814781ca7bc4e9b",
       "version_major": 2,
       "version_minor": 0
      },
      "text/plain": [
       "Creating json from Arrow format:   0%|          | 0/1 [00:00<?, ?ba/s]"
      ]
     },
     "metadata": {},
     "output_type": "display_data"
    },
    {
     "name": "stdout",
     "output_type": "stream",
     "text": [
      "wrong output found\n",
      "         Average\n",
      "obj_1   8.242424\n",
      "obj_2   9.141414\n",
      "obj_3   8.202020\n",
      "obj_4   8.747475\n",
      "obj_5   7.787879\n",
      "obj_6   8.141414\n",
      "obj_7   8.252525\n",
      "obj_8   9.070707\n",
      "obj_9   7.757576\n",
      "obj_10  8.141414\n",
      "obj_11  9.000000\n"
     ]
    }
   ],
   "source": [
    "#template 12 \"the average score of the objectives should usually be at most 7-8.\"\n",
    "absolute_path = \"./reflection_messages/input_system/system_template_12_eval.yaml\"\n",
    "system_evaluate(med_zhou,'gpt-3.5-turbo',absolute_path)\n",
    "med_zhou.dump(\"med_qa_template_12\")\n",
    "output = process_new_data(med_zhou,idx_cot=1)\n",
    "print(output)"
   ]
  },
  {
   "cell_type": "code",
   "execution_count": null,
   "metadata": {},
   "outputs": [],
   "source": [
    "#Generate with template 14\n",
    "\n",
    "absolute_path = \"/Users/robertpraas/Desktop/ThoughtSource/notebooks/reflection_messages/input_system/system_template_14_eval.yaml\"\n",
    "system_evaluate(medqa_total,'gpt-4',absolute_path)\n",
    "medqa_total.dump(\"med_qa_gpt_4_template_14\") \n",
    "scores_per_item, scores_per_objective, df = process_new_data(medqa_total,idx_cot=1)\n"
   ]
  },
  {
   "cell_type": "code",
   "execution_count": 23,
   "metadata": {},
   "outputs": [
    {
     "data": {
      "text/html": [
       "<div>\n",
       "<style scoped>\n",
       "    .dataframe tbody tr th:only-of-type {\n",
       "        vertical-align: middle;\n",
       "    }\n",
       "\n",
       "    .dataframe tbody tr th {\n",
       "        vertical-align: top;\n",
       "    }\n",
       "\n",
       "    .dataframe thead th {\n",
       "        text-align: right;\n",
       "    }\n",
       "</style>\n",
       "<table border=\"1\" class=\"dataframe\">\n",
       "  <thead>\n",
       "    <tr style=\"text-align: right;\">\n",
       "      <th></th>\n",
       "      <th>Average</th>\n",
       "    </tr>\n",
       "  </thead>\n",
       "  <tbody>\n",
       "    <tr>\n",
       "      <th>obj_1</th>\n",
       "      <td>10.000000</td>\n",
       "    </tr>\n",
       "    <tr>\n",
       "      <th>obj_2</th>\n",
       "      <td>9.710526</td>\n",
       "    </tr>\n",
       "    <tr>\n",
       "      <th>obj_3</th>\n",
       "      <td>9.973684</td>\n",
       "    </tr>\n",
       "    <tr>\n",
       "      <th>obj_4</th>\n",
       "      <td>9.736842</td>\n",
       "    </tr>\n",
       "    <tr>\n",
       "      <th>obj_5</th>\n",
       "      <td>9.947368</td>\n",
       "    </tr>\n",
       "    <tr>\n",
       "      <th>obj_6</th>\n",
       "      <td>9.710526</td>\n",
       "    </tr>\n",
       "    <tr>\n",
       "      <th>obj_7</th>\n",
       "      <td>8.710526</td>\n",
       "    </tr>\n",
       "    <tr>\n",
       "      <th>obj_8</th>\n",
       "      <td>10.000000</td>\n",
       "    </tr>\n",
       "    <tr>\n",
       "      <th>obj_9</th>\n",
       "      <td>9.131579</td>\n",
       "    </tr>\n",
       "    <tr>\n",
       "      <th>obj_10</th>\n",
       "      <td>9.973684</td>\n",
       "    </tr>\n",
       "    <tr>\n",
       "      <th>obj_11</th>\n",
       "      <td>10.000000</td>\n",
       "    </tr>\n",
       "  </tbody>\n",
       "</table>\n",
       "</div>"
      ],
      "text/plain": [
       "          Average\n",
       "obj_1   10.000000\n",
       "obj_2    9.710526\n",
       "obj_3    9.973684\n",
       "obj_4    9.736842\n",
       "obj_5    9.947368\n",
       "obj_6    9.710526\n",
       "obj_7    8.710526\n",
       "obj_8   10.000000\n",
       "obj_9    9.131579\n",
       "obj_10   9.973684\n",
       "obj_11  10.000000"
      ]
     },
     "execution_count": 23,
     "metadata": {},
     "output_type": "execute_result"
    }
   ],
   "source": [
    "df"
   ]
  },
  {
   "attachments": {},
   "cell_type": "markdown",
   "metadata": {},
   "source": [
    "## Writing about statements makes AI more critical"
   ]
  },
  {
   "cell_type": "code",
   "execution_count": 94,
   "metadata": {},
   "outputs": [
    {
     "data": {
      "text/plain": [
       "| Name   | Train   | Valid   |   Test |\n",
       "|--------|---------|---------|--------|\n",
       "| med_qa | -       | -       |     15 |\n",
       "\n",
       "Not loaded: ['aqua', 'asdiv', 'commonsense_qa', 'entailment_bank', 'gsm8k', 'mawps', 'med_qa_open', 'medmc_qa', '_init_', 'mmlu_clinical_knowledge', 'mmlu_college_biology', 'mmlu_college_medicine', 'mmlu_medical_genetics', 'mmlu_professional_medicine', '_init_', 'mmlu_anatomy', 'open_book_qa', 'pubmed_qa', 'qed', 'strategy_qa', 'svamp', 'worldtree']"
      ]
     },
     "execution_count": 94,
     "metadata": {},
     "output_type": "execute_result"
    }
   ],
   "source": [
    "#test for bigger dataset\n",
    "from cot import Collection\n",
    "cohere = Collection.from_json(\"./med_qa_zhou_cohere.json\")\n",
    "cohere.select_generated_cots(answer=False)\n",
    "cohere_false = cohere.filter(lambda x: len(x[\"generated_cot\"])==1)\n",
    "cohere_false = cohere_false.select(split=\"test\", number_samples=15, random_samples=True, seed=0)\n",
    "\n",
    "cohere_false\n"
   ]
  },
  {
   "cell_type": "code",
   "execution_count": 100,
   "metadata": {},
   "outputs": [
    {
     "name": "stdout",
     "output_type": "stream",
     "text": [
      "Generating med_qa...\n"
     ]
    }
   ],
   "source": [
    "absolute_path = \"./input_system/system_template_15_eval.yaml\"\n",
    "system_evaluate(cohere_false,'gpt-3.5-turbo',absolute_path)"
   ]
  },
  {
   "cell_type": "code",
   "execution_count": null,
   "metadata": {},
   "outputs": [],
   "source": [
    "cohere_false.dump(\"cohere_false_check\")"
   ]
  },
  {
   "cell_type": "code",
   "execution_count": 117,
   "metadata": {},
   "outputs": [],
   "source": [
    "#which data here?\n",
    "scores_per_item, variables_per_item = parse_data(data,idx_cot=1,dataset='med_qa',split='test')\n",
    "scores_per_item = fix_str_score(scores_per_item)\n",
    "scores_per_objective, df = get_further_data(scores_per_item)"
   ]
  },
  {
   "cell_type": "code",
   "execution_count": 128,
   "metadata": {},
   "outputs": [
    {
     "name": "stdout",
     "output_type": "stream",
     "text": [
      "         Average\n",
      "obj_1   5.771739\n",
      "obj_2   7.347826\n",
      "obj_3   5.978261\n",
      "obj_4   5.347826\n",
      "obj_5   5.239130\n",
      "obj_6   5.923913\n",
      "obj_7   5.467391\n",
      "obj_8   6.260870\n",
      "obj_9   4.271739\n",
      "obj_10  5.673913\n",
      "obj_11  5.782609\n"
     ]
    },
    {
     "data": {
      "image/png": "[encoded data removed]",
      "text/plain": [
       "<Figure size 432x288 with 1 Axes>"
      ]
     },
     "metadata": {
      "needs_background": "light"
     },
     "output_type": "display_data"
    },
    {
     "data": {
      "image/png": "[encoded data removed]",
      "text/plain": [
       "<Figure size 432x288 with 1 Axes>"
      ]
     },
     "metadata": {
      "needs_background": "light"
     },
     "output_type": "display_data"
    }
   ],
   "source": [
    "# Low score: critical on datasets with bad samples\n",
    "print(df)\n",
    "average_per_item = [sum(d.values()) / len(d) for d in scores_per_item]\n",
    "freq_bar_plot(scores_per_item)\n",
    "avg_item_plot(scores_per_objective)"
   ]
  },
  {
   "cell_type": "code",
   "execution_count": 129,
   "metadata": {},
   "outputs": [
    {
     "name": "stdout",
     "output_type": "stream",
     "text": [
      "Generating med_qa...\n"
     ]
    }
   ],
   "source": [
    "# try the same without writing context\n",
    "\n",
    "absolute_path = \"./input_system/system_template_14_eval.yaml\"\n",
    "system_evaluate(cohere_false,'gpt-3.5-turbo',absolute_path)\n"
   ]
  },
  {
   "cell_type": "code",
   "execution_count": 132,
   "metadata": {},
   "outputs": [],
   "source": [
    "scores_per_item, variables_per_item = parse_data(cohere_false,idx_cot=2,dataset='med_qa',split='test')\n",
    "scores_per_item = fix_str_score(scores_per_item)\n",
    "scores_per_objective, df = get_further_data(scores_per_item)"
   ]
  },
  {
   "cell_type": "code",
   "execution_count": 133,
   "metadata": {},
   "outputs": [
    {
     "name": "stdout",
     "output_type": "stream",
     "text": [
      "         Average\n",
      "obj_1   9.066667\n",
      "obj_2   9.600000\n",
      "obj_3   8.066667\n",
      "obj_4   9.000000\n",
      "obj_5   7.933333\n",
      "obj_6   8.733333\n",
      "obj_7   8.733333\n",
      "obj_8   9.466667\n",
      "obj_9   7.933333\n",
      "obj_10  8.866667\n",
      "obj_11  9.533333\n"
     ]
    },
    {
     "data": {
      "image/png": "[encoded data removed]",
      "text/plain": [
       "<Figure size 432x288 with 1 Axes>"
      ]
     },
     "metadata": {
      "needs_background": "light"
     },
     "output_type": "display_data"
    },
    {
     "data": {
      "image/png": "[encoded data removed]",
      "text/plain": [
       "<Figure size 432x288 with 1 Axes>"
      ]
     },
     "metadata": {
      "needs_background": "light"
     },
     "output_type": "display_data"
    }
   ],
   "source": [
    "# That model gives way too high scores\n",
    "print(df)\n",
    "average_per_item = [sum(d.values()) / len(d) for d in scores_per_item]\n",
    "freq_bar_plot(scores_per_item)\n",
    "avg_item_plot(scores_per_objective)"
   ]
  },
  {
   "cell_type": "code",
   "execution_count": null,
   "metadata": {},
   "outputs": [],
   "source": [
    "#Now test if giving a legend of grades works as well"
   ]
  },
  {
   "cell_type": "code",
   "execution_count": 134,
   "metadata": {},
   "outputs": [
    {
     "name": "stdout",
     "output_type": "stream",
     "text": [
      "Generating med_qa...\n"
     ]
    }
   ],
   "source": [
    "absolute_path = \"./input_system/system_template_18.yaml\"\n",
    "system_evaluate(cohere_false,'gpt-3.5-turbo',absolute_path)\n",
    "cohere_false.dump(\"medqa_cohere_template_15_14_18\")"
   ]
  },
  {
   "cell_type": "code",
   "execution_count": 135,
   "metadata": {},
   "outputs": [],
   "source": [
    "scores_per_item, variables_per_item = parse_data(cohere_false,idx_cot=3,dataset='med_qa',split='test')\n",
    "scores_per_item = fix_str_score(scores_per_item)\n",
    "scores_per_objective, df = get_further_data(scores_per_item)"
   ]
  },
  {
   "cell_type": "code",
   "execution_count": 136,
   "metadata": {},
   "outputs": [
    {
     "name": "stdout",
     "output_type": "stream",
     "text": [
      "         Average\n",
      "obj_1   8.600000\n",
      "obj_2   9.266667\n",
      "obj_3   7.733333\n",
      "obj_4   8.400000\n",
      "obj_5   7.333333\n",
      "obj_6   8.066667\n",
      "obj_7   7.600000\n",
      "obj_8   8.933333\n",
      "obj_9   7.466667\n",
      "obj_10  8.333333\n",
      "obj_11  9.333333\n"
     ]
    },
    {
     "data": {
      "image/png": "[encoded data removed]",
      "text/plain": [
       "<Figure size 432x288 with 1 Axes>"
      ]
     },
     "metadata": {
      "needs_background": "light"
     },
     "output_type": "display_data"
    },
    {
     "data": {
      "image/png": "[encoded data removed]",
      "text/plain": [
       "<Figure size 432x288 with 1 Axes>"
      ]
     },
     "metadata": {
      "needs_background": "light"
     },
     "output_type": "display_data"
    }
   ],
   "source": [
    "#(Partially)\n",
    "print(df)\n",
    "average_per_item = [sum(d.values()) / len(d) for d in scores_per_item]\n",
    "freq_bar_plot(scores_per_item)\n",
    "avg_item_plot(scores_per_objective)"
   ]
  },
  {
   "cell_type": "code",
   "execution_count": null,
   "metadata": {},
   "outputs": [],
   "source": [
    "\"\"\"This setting:\n",
    "\n",
    "critique: <Write a short critique about the reasoning>\n",
    "obj_1: <1-10>\n",
    "obj_2: <1-10>\"\"\""
   ]
  },
  {
   "cell_type": "code",
   "execution_count": 149,
   "metadata": {},
   "outputs": [
    {
     "name": "stdout",
     "output_type": "stream",
     "text": [
      "Generating med_qa...\n"
     ]
    }
   ],
   "source": [
    "absolute_path = \"./input_system/system_template_20.yaml\"\n",
    "system_evaluate(cohere_false,'gpt-3.5-turbo',absolute_path)\n"
   ]
  },
  {
   "cell_type": "code",
   "execution_count": 150,
   "metadata": {},
   "outputs": [],
   "source": [
    "scores_per_item, variables_per_item = parse_data(cohere_false,idx_cot=5,dataset='med_qa',split='test')\n",
    "scores_per_item = fix_str_score(scores_per_item)\n",
    "scores_per_objective, df = get_further_data(scores_per_item)"
   ]
  },
  {
   "cell_type": "code",
   "execution_count": 151,
   "metadata": {},
   "outputs": [
    {
     "name": "stdout",
     "output_type": "stream",
     "text": [
      "         Average\n",
      "obj_1   6.400000\n",
      "obj_2   8.066667\n",
      "obj_3   6.266667\n",
      "obj_4   6.066667\n",
      "obj_5   5.466667\n",
      "obj_6   6.400000\n",
      "obj_7   5.800000\n",
      "obj_8   6.733333\n",
      "obj_9   4.866667\n",
      "obj_10  6.333333\n",
      "obj_11  6.400000\n"
     ]
    },
    {
     "data": {
      "image/png": "[encoded data removed]",
      "text/plain": [
       "<Figure size 432x288 with 1 Axes>"
      ]
     },
     "metadata": {
      "needs_background": "light"
     },
     "output_type": "display_data"
    },
    {
     "data": {
      "image/png": "[encoded data removed]",
      "text/plain": [
       "<Figure size 432x288 with 1 Axes>"
      ]
     },
     "metadata": {
      "needs_background": "light"
     },
     "output_type": "display_data"
    }
   ],
   "source": [
    "print(df)\n",
    "average_per_item = [sum(d.values()) / len(d) for d in scores_per_item]\n",
    "freq_bar_plot(scores_per_item)\n",
    "avg_item_plot(scores_per_objective)"
   ]
  },
  {
   "cell_type": "code",
   "execution_count": 30,
   "metadata": {},
   "outputs": [],
   "source": [
    "data = Collection.from_json(\"cohere_false_check\")\n",
    "absolute_path = \"./input_system/system_template_20b.yaml\"\n",
    "system_evaluate(cohere_false,'gpt-3.5-turbo',absolute_path)"
   ]
  },
  {
   "attachments": {},
   "cell_type": "markdown",
   "metadata": {},
   "source": [
    "## GPT-4 assess itself"
   ]
  },
  {
   "cell_type": "code",
   "execution_count": 21,
   "metadata": {},
   "outputs": [
    {
     "name": "stdout",
     "output_type": "stream",
     "text": [
      "Generating med_qa...\n"
     ]
    },
    {
     "data": {
      "application/vnd.jupyter.widget-view+json": {
       "model_id": "619b2cca73f14fa0ab1ac78a04fddee1",
       "version_major": 2,
       "version_minor": 0
      },
      "text/plain": [
       "  0%|          | 0/10 [00:00<?, ?ex/s]"
      ]
     },
     "metadata": {},
     "output_type": "display_data"
    },
    {
     "data": {
      "application/vnd.jupyter.widget-view+json": {
       "model_id": "86c99b3570dd4ca5bb6aacbb1b64ea3e",
       "version_major": 2,
       "version_minor": 0
      },
      "text/plain": [
       "Creating json from Arrow format:   0%|          | 0/1 [00:00<?, ?ba/s]"
      ]
     },
     "metadata": {},
     "output_type": "display_data"
    }
   ],
   "source": [
    "data = Collection.from_json(\"medqa_false_gpt_4.json\")\n",
    "absolute_path = \"./input_system/system_template_20.yaml\"\n",
    "data = data.select(split=\"test\", number_samples=10, random_samples=True, seed=0)\n",
    "system_evaluate(data,'gpt-4',absolute_path)\n",
    "data.dump(\"gpt_4_false_critique\")"
   ]
  },
  {
   "cell_type": "code",
   "execution_count": 22,
   "metadata": {},
   "outputs": [],
   "source": [
    "data = Collection.from_json(\"gpt_4_false_critique\")"
   ]
  },
  {
   "cell_type": "code",
   "execution_count": 28,
   "metadata": {},
   "outputs": [
    {
     "data": {
      "image/png": "[encoded data removed]",
      "text/plain": [
       "<Figure size 432x288 with 1 Axes>"
      ]
     },
     "metadata": {
      "needs_background": "light"
     },
     "output_type": "display_data"
    },
    {
     "data": {
      "image/png": "[encoded data removed]",
      "text/plain": [
       "<Figure size 432x288 with 1 Axes>"
      ]
     },
     "metadata": {
      "needs_background": "light"
     },
     "output_type": "display_data"
    }
   ],
   "source": [
    "# How to translate subtle differences to better output?\n",
    "\n",
    "scores_per_item, variables_per_item = parse_data(data,idx_cot=1,dataset='med_qa',split='test')\n",
    "scores_per_item = fix_str_score(scores_per_item)\n",
    "scores_per_objective, df = get_further_data(scores_per_item)\n",
    "average_per_item = [sum(d.values()) / len(d) for d in scores_per_item]\n",
    "freq_bar_plot(scores_per_item)\n",
    "avg_item_plot(scores_per_objective)"
   ]
  },
  {
   "cell_type": "code",
   "execution_count": 10,
   "metadata": {},
   "outputs": [],
   "source": [
    "med_qa_true = Collection.from_json(\"/Users/robertpraas/Desktop/ThoughtSource/notebooks/reflection_messages/med_qa_zhou_eval_gpt4.json\")\n",
    "med_qa_true.select_generated_cots(answer=True)\n",
    "med_qa_true = med_qa_true.filter(lambda x: len(x[\"generated_cot\"])==1)"
   ]
  },
  {
   "cell_type": "code",
   "execution_count": 12,
   "metadata": {},
   "outputs": [
    {
     "name": "stdout",
     "output_type": "stream",
     "text": [
      "Generating med_qa...\n"
     ]
    }
   ],
   "source": [
    "absolute_path = \"./input_system/system_template_20.yaml\"\n",
    "med_qa_true = med_qa_true.select(split=\"test\", number_samples=10, random_samples=True, seed=0)\n",
    "system_evaluate(med_qa_true,'gpt-4',absolute_path)\n",
    "med_qa_true.dump(\"gpt_4_true_critique\")"
   ]
  },
  {
   "cell_type": "code",
   "execution_count": 24,
   "metadata": {},
   "outputs": [],
   "source": [
    "med_qa_true = Collection.from_json(\"gpt_4_true_critique\")"
   ]
  },
  {
   "cell_type": "code",
   "execution_count": 29,
   "metadata": {},
   "outputs": [
    {
     "data": {
      "image/png": "[encoded data removed]",
      "text/plain": [
       "<Figure size 432x288 with 1 Axes>"
      ]
     },
     "metadata": {
      "needs_background": "light"
     },
     "output_type": "display_data"
    },
    {
     "data": {
      "image/png": "[encoded data removed]",
      "text/plain": [
       "<Figure size 432x288 with 1 Axes>"
      ]
     },
     "metadata": {
      "needs_background": "light"
     },
     "output_type": "display_data"
    }
   ],
   "source": [
    "scores_per_item, variables_per_item = parse_data(med_qa_true,idx_cot=1,dataset='med_qa',split='test')\n",
    "scores_per_item = fix_str_score(scores_per_item)\n",
    "scores_per_objective, df_2 = get_further_data(scores_per_item)\n",
    "average_per_item = [sum(d.values()) / len(d) for d in scores_per_item]\n",
    "freq_bar_plot(scores_per_item)\n",
    "avg_item_plot(scores_per_objective)"
   ]
  },
  {
   "cell_type": "code",
   "execution_count": 27,
   "metadata": {},
   "outputs": [
    {
     "data": {
      "text/html": [
       "<table style=\"display:inline\" border=\"1\" class=\"dataframe\">\n",
       "  <thead>\n",
       "    <tr style=\"text-align: right;\">\n",
       "      <th></th>\n",
       "      <th>Average</th>\n",
       "    </tr>\n",
       "  </thead>\n",
       "  <tbody>\n",
       "    <tr>\n",
       "      <th>obj_1</th>\n",
       "      <td>9.7</td>\n",
       "    </tr>\n",
       "    <tr>\n",
       "      <th>obj_2</th>\n",
       "      <td>8.6</td>\n",
       "    </tr>\n",
       "    <tr>\n",
       "      <th>obj_3</th>\n",
       "      <td>9.7</td>\n",
       "    </tr>\n",
       "    <tr>\n",
       "      <th>obj_4</th>\n",
       "      <td>8.9</td>\n",
       "    </tr>\n",
       "    <tr>\n",
       "      <th>obj_5</th>\n",
       "      <td>9.2</td>\n",
       "    </tr>\n",
       "    <tr>\n",
       "      <th>obj_6</th>\n",
       "      <td>8.5</td>\n",
       "    </tr>\n",
       "    <tr>\n",
       "      <th>obj_7</th>\n",
       "      <td>7.6</td>\n",
       "    </tr>\n",
       "    <tr>\n",
       "      <th>obj_8</th>\n",
       "      <td>9.2</td>\n",
       "    </tr>\n",
       "    <tr>\n",
       "      <th>obj_9</th>\n",
       "      <td>8.2</td>\n",
       "    </tr>\n",
       "    <tr>\n",
       "      <th>obj_10</th>\n",
       "      <td>9.1</td>\n",
       "    </tr>\n",
       "    <tr>\n",
       "      <th>obj_11</th>\n",
       "      <td>9.8</td>\n",
       "    </tr>\n",
       "  </tbody>\n",
       "</table style=\"display:inline\"><table style=\"display:inline\" border=\"1\" class=\"dataframe\">\n",
       "  <thead>\n",
       "    <tr style=\"text-align: right;\">\n",
       "      <th></th>\n",
       "      <th>Average</th>\n",
       "    </tr>\n",
       "  </thead>\n",
       "  <tbody>\n",
       "    <tr>\n",
       "      <th>obj_1</th>\n",
       "      <td>9.9</td>\n",
       "    </tr>\n",
       "    <tr>\n",
       "      <th>obj_2</th>\n",
       "      <td>9.5</td>\n",
       "    </tr>\n",
       "    <tr>\n",
       "      <th>obj_3</th>\n",
       "      <td>9.9</td>\n",
       "    </tr>\n",
       "    <tr>\n",
       "      <th>obj_4</th>\n",
       "      <td>9.5</td>\n",
       "    </tr>\n",
       "    <tr>\n",
       "      <th>obj_5</th>\n",
       "      <td>9.7</td>\n",
       "    </tr>\n",
       "    <tr>\n",
       "      <th>obj_6</th>\n",
       "      <td>9.4</td>\n",
       "    </tr>\n",
       "    <tr>\n",
       "      <th>obj_7</th>\n",
       "      <td>8.5</td>\n",
       "    </tr>\n",
       "    <tr>\n",
       "      <th>obj_8</th>\n",
       "      <td>9.6</td>\n",
       "    </tr>\n",
       "    <tr>\n",
       "      <th>obj_9</th>\n",
       "      <td>8.9</td>\n",
       "    </tr>\n",
       "    <tr>\n",
       "      <th>obj_10</th>\n",
       "      <td>9.7</td>\n",
       "    </tr>\n",
       "    <tr>\n",
       "      <th>obj_11</th>\n",
       "      <td>9.5</td>\n",
       "    </tr>\n",
       "  </tbody>\n",
       "</table style=\"display:inline\">"
      ]
     },
     "metadata": {},
     "output_type": "display_data"
    }
   ],
   "source": [
    "from IPython.display import display_html\n",
    "\n",
    "def display_side_by_side(*args):\n",
    "    html_str = ''\n",
    "    for df in args:\n",
    "        html_str += df.to_html()\n",
    "    display_html(html_str.replace('table', 'table style=\"display:inline\"'), raw=True)\n",
    "\n",
    "# Assuming df1 and df2 are your dataframes\n",
    "display_side_by_side(df, df_2)\n",
    "\n",
    "#False, Correct"
   ]
  },
  {
   "cell_type": "code",
   "execution_count": null,
   "metadata": {},
   "outputs": [],
   "source": [
    "# GPT-4 on GPT-4\n",
    "data = Collection.from_json(\"medqa_false_gpt_4.json\")\n",
    "absolute_path = \"./input_system/system_template_23.yaml\"\n",
    "system_evaluate(data,'gpt-4',absolute_path)\n",
    "data.dump(\"gpt_4_false_critique_indicator\")"
   ]
  },
  {
   "cell_type": "code",
   "execution_count": null,
   "metadata": {},
   "outputs": [
    {
     "name": "stdout",
     "output_type": "stream",
     "text": [
      "         Average\n",
      "obj_1   9.473684\n",
      "obj_2   8.421053\n",
      "obj_3   9.526316\n",
      "obj_4   8.736842\n",
      "obj_5   9.263158\n",
      "obj_6   8.578947\n",
      "obj_7   7.578947\n",
      "obj_8   9.052632\n",
      "obj_9   8.052632\n",
      "obj_10  9.105263\n",
      "obj_11  9.736842\n"
     ]
    },
    {
     "data": {
      "image/png": "[encoded data removed]",
      "text/plain": [
       "<Figure size 432x288 with 1 Axes>"
      ]
     },
     "metadata": {
      "needs_background": "light"
     },
     "output_type": "display_data"
    },
    {
     "data": {
      "image/png": "[encoded data removed]",
      "text/plain": [
       "<Figure size 432x288 with 1 Axes>"
      ]
     },
     "metadata": {
      "needs_background": "light"
     },
     "output_type": "display_data"
    }
   ],
   "source": [
    "# GPT-4 cannot say answer should be changed (annotator)\n",
    "\n",
    "data = Collection.from_json(\"gpt_4_false_critique_indicator\")\n",
    "# How to translate subtle differences to better output?\n",
    "\n",
    "scores_per_item, variables_per_item = parse_data(data,idx_cot=1,dataset='med_qa',split='test')\n",
    "scores_per_item = fix_str_score(scores_per_item)\n",
    "scores_per_objective, df = get_further_data(scores_per_item)\n",
    "print(df)\n",
    "average_per_item = [sum(d.values()) / len(d) for d in scores_per_item]\n",
    "freq_bar_plot(scores_per_item)\n",
    "avg_item_plot(scores_per_objective)"
   ]
  },
  {
   "attachments": {},
   "cell_type": "markdown",
   "metadata": {},
   "source": [
    "## 3.5 corrects Cohere: shows 12,14,16 does not work"
   ]
  },
  {
   "cell_type": "code",
   "execution_count": 30,
   "metadata": {},
   "outputs": [
    {
     "name": "stdout",
     "output_type": "stream",
     "text": [
      "         Average\n",
      "obj_1   9.030928\n",
      "obj_2   9.556701\n",
      "obj_3   8.061856\n",
      "obj_4   8.865979\n",
      "obj_5   7.948454\n",
      "obj_6   8.690722\n",
      "obj_7   8.628866\n",
      "obj_8   9.237113\n",
      "obj_9   7.927835\n",
      "obj_10  8.680412\n",
      "obj_11  9.298969\n",
      "scores true: 8.733333333333333\n",
      "scores false: 8.71506105834464\n"
     ]
    },
    {
     "data": {
      "image/png": "[encoded data removed]",
      "text/plain": [
       "<Figure size 432x288 with 1 Axes>"
      ]
     },
     "metadata": {
      "needs_background": "light"
     },
     "output_type": "display_data"
    },
    {
     "data": {
      "image/png": "[encoded data removed]",
      "text/plain": [
       "<Figure size 432x288 with 1 Axes>"
      ]
     },
     "metadata": {
      "needs_background": "light"
     },
     "output_type": "display_data"
    }
   ],
   "source": [
    "# This way ChatGPT does not correct cohere in anyway, need to ask it to dig deeper/more concrete\n",
    "print(df)\n",
    "average_per_item = [sum(d.values()) / len(d) for d in scores_per_item]\n",
    "avg_true_false(med_co,average_per_item,'med_qa','test')\n",
    "freq_bar_plot(scores_per_item)\n",
    "avg_item_plot(scores_per_objective)"
   ]
  },
  {
   "attachments": {},
   "cell_type": "markdown",
   "metadata": {},
   "source": [
    "## Let system generate and rate itself"
   ]
  },
  {
   "cell_type": "code",
   "execution_count": null,
   "metadata": {},
   "outputs": [],
   "source": [
    "#system experiment\n",
    "#rate error!!\n",
    "\n",
    "path = \"./input_system/system_template_17.yaml\"\n",
    "data = Collection.load_thoughtsource_100(names = ['medmc_qa'],load_pregenerated_cots=False)\n",
    "system_experiment(data,'gpt-3.5-turbo', path)\n",
    "data.dump(\"medmc_template_17\")\n",
    "\n",
    "# GPT-4 scores high on questions it has wrong\n",
    "\n",
    "data = Collection.from_json(\"medmc_template_17\")\n",
    "# How to translate subtle differences to better output?\n",
    "\n",
    "scores_per_item, variables_per_item = parse_data(data,idx_cot=1,dataset='med_qa',split='test')\n",
    "scores_per_item = fix_str_score(scores_per_item)\n",
    "scores_per_objective, df = get_further_data(scores_per_item)\n",
    "print(df)\n",
    "average_per_item = [sum(d.values()) / len(d) for d in scores_per_item]\n",
    "freq_bar_plot(scores_per_item)\n",
    "avg_item_plot(scores_per_objective)"
   ]
  },
  {
   "attachments": {},
   "cell_type": "markdown",
   "metadata": {},
   "source": [
    "## Ignore"
   ]
  },
  {
   "cell_type": "code",
   "execution_count": 39,
   "metadata": {},
   "outputs": [],
   "source": [
    "from cot import Collection\n",
    "med_co = Collection.from_json(\"med_qa_zhou_cohere.json\")\n",
    "# med_co = med_co.select(split=\"test\", number_samples=5, random_samples=True, seed=0)\n"
   ]
  },
  {
   "cell_type": "code",
   "execution_count": 32,
   "metadata": {},
   "outputs": [
    {
     "name": "stdout",
     "output_type": "stream",
     "text": [
      "Generating med_qa...\n"
     ]
    },
    {
     "data": {
      "application/vnd.jupyter.widget-view+json": {
       "model_id": "fca532391d4344f6b972bf9188c06964",
       "version_major": 2,
       "version_minor": 0
      },
      "text/plain": [
       "  0%|          | 0/5 [00:00<?, ?ex/s]"
      ]
     },
     "metadata": {},
     "output_type": "display_data"
    }
   ],
   "source": [
    "absolute_path = \"./input_system/system_template_16_improve.yaml\"\n",
    "system_evaluate(med_co,'gpt-3.5-turbo',absolute_path)\n"
   ]
  },
  {
   "cell_type": "code",
   "execution_count": 41,
   "metadata": {},
   "outputs": [
    {
     "name": "stdout",
     "output_type": "stream",
     "text": [
      "Generating med_qa...\n"
     ]
    },
    {
     "data": {
      "application/vnd.jupyter.widget-view+json": {
       "model_id": "38fe48b296ed4e7b813f1b5c54640e58",
       "version_major": 2,
       "version_minor": 0
      },
      "text/plain": [
       "  0%|          | 0/100 [00:00<?, ?ex/s]"
      ]
     },
     "metadata": {},
     "output_type": "display_data"
    },
    {
     "name": "stdout",
     "output_type": "stream",
     "text": [
      "(API-)Error in item 3: That model is currently overloaded with other requests. You can retry your request, or contact us through our help center at help.openai.com if the error persists. (Please include the request ID ec4033ca79513c56921a4c5a91dde67e in your message.)\n",
      "Retrying with additional time of 10 seconds.\n",
      "(API-)Error in item 17: That model is currently overloaded with other requests. You can retry your request, or contact us through our help center at help.openai.com if the error persists. (Please include the request ID 83d987a460cff5dcda0bf041d64a3c64 in your message.)\n",
      "Retrying with additional time of 10 seconds.\n"
     ]
    }
   ],
   "source": [
    "absolute_path = \"./input_system/system_template_16_improve.yaml\"\n",
    "system_evaluate(med_co,'gpt-3.5-turbo',absolute_path)"
   ]
  },
  {
   "cell_type": "code",
   "execution_count": 42,
   "metadata": {},
   "outputs": [
    {
     "data": {
      "application/vnd.jupyter.widget-view+json": {
       "model_id": "8966060422484fec95f097a2b19dba32",
       "version_major": 2,
       "version_minor": 0
      },
      "text/plain": [
       "Creating json from Arrow format:   0%|          | 0/1 [00:00<?, ?ba/s]"
      ]
     },
     "metadata": {},
     "output_type": "display_data"
    }
   ],
   "source": [
    "med_co.dump(\"full_chatgpt_cohere_correction\")"
   ]
  },
  {
   "cell_type": "code",
   "execution_count": 43,
   "metadata": {},
   "outputs": [
    {
     "name": "stdout",
     "output_type": "stream",
     "text": [
      "Generating med_qa...\n"
     ]
    },
    {
     "data": {
      "application/vnd.jupyter.widget-view+json": {
       "model_id": "73f75cf28c344cefac996048ef17dc75",
       "version_major": 2,
       "version_minor": 0
      },
      "text/plain": [
       "  0%|          | 0/100 [00:00<?, ?ex/s]"
      ]
     },
     "metadata": {},
     "output_type": "display_data"
    },
    {
     "name": "stdout",
     "output_type": "stream",
     "text": [
      "(API-)Error in item 31: That model is currently overloaded with other requests. You can retry your request, or contact us through our help center at help.openai.com if the error persists. (Please include the request ID f7933b7535f23c4a9629ef0929a6e0ba in your message.)\n",
      "Retrying with additional time of 10 seconds.\n",
      "(API-)Error in item 60: That model is currently overloaded with other requests. You can retry your request, or contact us through our help center at help.openai.com if the error persists. (Please include the request ID d91af4f8bc51adbb8c70853969ebf927 in your message.)\n",
      "Retrying with additional time of 10 seconds.\n",
      "(API-)Error in item 94: HTTP code 502 from API (<html>\n",
      "<head><title>502 Bad Gateway</title></head>\n",
      "<body>\n",
      "<center><h1>502 Bad Gateway</h1></center>\n",
      "<hr><center>cloudflare</center>\n",
      "</body>\n",
      "</html>\n",
      ")\n",
      "Retrying with additional time of 10 seconds.\n"
     ]
    }
   ],
   "source": [
    "absolute_path = \"./input_system/system_template_16_improve.yaml\"\n",
    "system_evaluate(med_co,'gpt-4',absolute_path)"
   ]
  },
  {
   "cell_type": "code",
   "execution_count": 44,
   "metadata": {},
   "outputs": [
    {
     "data": {
      "application/vnd.jupyter.widget-view+json": {
       "model_id": "0a306a2bfc864c6dac280027597904eb",
       "version_major": 2,
       "version_minor": 0
      },
      "text/plain": [
       "Creating json from Arrow format:   0%|          | 0/1 [00:00<?, ?ba/s]"
      ]
     },
     "metadata": {},
     "output_type": "display_data"
    }
   ],
   "source": [
    "med_co.dump(\"gpt_3_4_cohere_correction\")"
   ]
  },
  {
   "cell_type": "code",
   "execution_count": 48,
   "metadata": {},
   "outputs": [
    {
     "data": {
      "text/plain": [
       "{'id': 'med_qa_test_2',\n",
       " 'ref_id': '',\n",
       " 'question': 'Two weeks after undergoing an emergency cardiac catherization with stenting for unstable angina pectoris, a 61-year-old man has decreased urinary output and malaise. He has type 2 diabetes mellitus and osteoarthritis of the hips. Prior to admission, his medications were insulin and naproxen. He was also started on aspirin, clopidogrel, and metoprolol after the coronary intervention. His temperature is 38°C (100.4°F), pulse is 93/min, and blood pressure is 125/85 mm Hg. Examination shows mottled, reticulated purplish discoloration of the feet. Laboratory studies show:\\nHemoglobin count 14 g/dL\\nLeukocyte count 16,400/mm3\\nSegmented neutrophils 56%\\nEosinophils 11%\\nLymphocytes 31%\\nMonocytes 2%\\nPlatelet count 260,000/mm3\\nErythrocyte sedimentation rate 68 mm/h\\nSerum\\nUrea nitrogen 25 mg/dL\\nCreatinine 4.2 mg/dL\\nRenal biopsy shows intravascular spindle-shaped vacuoles. Which of the following is the most likely cause of this patient\\'s symptoms?\"',\n",
       " 'type': 'multiplechoice',\n",
       " 'choices': ['Renal papillary necrosis',\n",
       "  'Allergic interstitial nephritis',\n",
       "  'Cholesterol embolization',\n",
       "  'Eosinophilic granulomatosis with polyangiitis',\n",
       "  'Polyarteritis nodosa'],\n",
       " 'context': '',\n",
       " 'cot': [],\n",
       " 'answer': ['Cholesterol embolization'],\n",
       " 'generated_cot': [{'id': '696cfe30-f094-4a14-a903-de717284628a',\n",
       "   'fragments_version': '0.01',\n",
       "   'instruction': None,\n",
       "   'cot_trigger': 'zhou-01',\n",
       "   'cot_trigger_template': '{instruction}\\n\\n{question}\\n{answer_choices}\\n\\n{cot_trigger}',\n",
       "   'prompt_text': '',\n",
       "   'cot': \"\\nThe patient has intravascular spindle-shaped vacuoles, which is a classic finding for cholesterol embolization. The patient's history of taking aspirin and clopidogrel before admission makes cholesterol embolization even more likely.\\nSo, the answer is C.\",\n",
       "   'answers': [{'id': '62f6561c-3de5-4dae-8830-d6236d9840d4',\n",
       "     'answer_extraction': 'kojima-A-E',\n",
       "     'answer_extraction_template': '{instruction}\\n\\n{question}\\n{answer_choices}\\n\\n{cot_trigger}{cot}\\n{answer_extraction}',\n",
       "     'answer_extraction_text': '',\n",
       "     'answer': ' C.',\n",
       "     'answer_from_choices': 'C',\n",
       "     'correct_answer': True}],\n",
       "   'author': 'thoughtsource',\n",
       "   'date': '2023/05/29 08:05:57',\n",
       "   'api_service': 'cohere',\n",
       "   'model': \"{'name': 'command-xlarge-nightly', 'temperature': 0, 'max_tokens': 512}\",\n",
       "   'comment': '',\n",
       "   'annotations': []},\n",
       "  {'id': '88ab7446-7d8f-4da9-926f-0aedbe3903b0',\n",
       "   'fragments_version': '0.01',\n",
       "   'instruction': '',\n",
       "   'cot_trigger': '',\n",
       "   'cot_trigger_template': '',\n",
       "   'prompt_text': '',\n",
       "   'cot': 'corrected_reasoning: \\nThe given reasoning is correct.\\n\\nfinal_answer: C.',\n",
       "   'answers': [{'id': '45d819de-a5e5-4718-9387-542d9e6b2f96',\n",
       "     'answer_extraction': '',\n",
       "     'answer_extraction_template': '',\n",
       "     'answer_extraction_text': '',\n",
       "     'answer': '',\n",
       "     'answer_from_choices': '',\n",
       "     'correct_answer': None}],\n",
       "   'author': '',\n",
       "   'date': '2023/05/29 12:55:42',\n",
       "   'api_service': '',\n",
       "   'model': \"{'name': '', 'temperature': 0, 'max_tokens': 1600}\",\n",
       "   'comment': '',\n",
       "   'annotations': []},\n",
       "  {'id': 'e630fb93-88e1-4903-9748-7a1294cf6a6b',\n",
       "   'fragments_version': '0.01',\n",
       "   'instruction': '',\n",
       "   'cot_trigger': '',\n",
       "   'cot_trigger_template': '',\n",
       "   'prompt_text': '',\n",
       "   'cot': \"corrected_reasoning: The patient has intravascular spindle-shaped vacuoles, which is a classic finding for cholesterol embolization. The patient's history of recent cardiac catheterization with stenting for unstable angina pectoris, along with the mottled, reticulated purplish discoloration of the feet, and elevated creatinine levels, make cholesterol embolization even more likely.\\nfinal_answer: C\",\n",
       "   'answers': [{'id': 'ec4a164b-b1ac-4401-aae4-f9b2d86f166a',\n",
       "     'answer_extraction': '',\n",
       "     'answer_extraction_template': '',\n",
       "     'answer_extraction_text': '',\n",
       "     'answer': '',\n",
       "     'answer_from_choices': '',\n",
       "     'correct_answer': None}],\n",
       "   'author': '',\n",
       "   'date': '2023/05/29 13:24:33',\n",
       "   'api_service': '',\n",
       "   'model': \"{'name': '', 'temperature': 0, 'max_tokens': 1600}\",\n",
       "   'comment': '',\n",
       "   'annotations': []}],\n",
       " 'feedback': []}"
      ]
     },
     "execution_count": 48,
     "metadata": {},
     "output_type": "execute_result"
    }
   ],
   "source": [
    "med_co['med_qa']['test'][0]"
   ]
  },
  {
   "cell_type": "code",
   "execution_count": 89,
   "metadata": {},
   "outputs": [],
   "source": [
    "med_co = Collection.from_json(\"gpt_3_4_cohere_correction\")"
   ]
  },
  {
   "cell_type": "code",
   "execution_count": null,
   "metadata": {},
   "outputs": [],
   "source": [
    "#this does not work - write data.map function"
   ]
  },
  {
   "cell_type": "code",
   "execution_count": 76,
   "metadata": {},
   "outputs": [
    {
     "data": {
      "text/plain": [
       "'C.'"
      ]
     },
     "execution_count": 76,
     "metadata": {},
     "output_type": "execute_result"
    }
   ],
   "source": [
    "str = \"\"\"corrected_reasoning: \n",
    "The given reasoning is correct.\n",
    "\n",
    "final_answer: C.\"\"\"\n",
    "str = str.replace(\"corrected_reasoning: \\n\", \"corrected_reasoning: \")\n",
    "yaml_data = yaml.load(str, Loader=yaml.FullLoader)\n",
    "yaml_data['final_answer']"
   ]
  },
  {
   "cell_type": "code",
   "execution_count": null,
   "metadata": {},
   "outputs": [],
   "source": [
    "gpt_4_test = Collection.from_json(\"/Users/robertpraas/Desktop/ThoughtSource/notebooks/internal_documentation/paper_2/filtered_thoughtsource_100_gpt-4_None_false.json\")\n",
    "gpt_4_test"
   ]
  },
  {
   "attachments": {},
   "cell_type": "markdown",
   "metadata": {},
   "source": [
    "## Run / next steps"
   ]
  },
  {
   "cell_type": "code",
   "execution_count": null,
   "metadata": {},
   "outputs": [],
   "source": [
    "#Look into average objectives per true and false answers\n",
    "\n",
    "#rewrite this\n",
    "\n",
    "# assign item correct, incorrect, loop over every item 11 times to extract a specific \n",
    "def avg_true_false(data,scores_per_item,dataset,split):\n",
    "    item_correct = []\n",
    "    for item in data[dataset][split]:\n",
    "        item_correct.append(item['generated_cot'][0]['answers'][0]['correct_answer'])\n",
    "\n",
    "    # Example lists of scores and indicators\n",
    "    scores = average_per_item\n",
    "    indicators = item_correct\n",
    "\n",
    "    # Separate scores based on indicators\n",
    "    scores_true = [score for score, indicator in zip(scores, indicators) if indicator]\n",
    "    scores_false = [score for score, indicator in zip(scores, indicators) if not indicator]"
   ]
  },
  {
   "cell_type": "code",
   "execution_count": null,
   "metadata": {},
   "outputs": [],
   "source": [
    "# systematically also try open_book (medmc?)"
   ]
  },
  {
   "cell_type": "code",
   "execution_count": null,
   "metadata": {},
   "outputs": [],
   "source": [
    "# generate larger experiments with\n",
    "# Models\n",
    "# Which templates: \n",
    "# naive one - 12 /  legend -  18\n",
    "# short critique (strong), long list - 20\n",
    "# short citique, short list - 20b (uneven ones)\n",
    "\n",
    "# Data: Openbook and MedQA\n",
    "# how many data points worth it?: propose 150 each\n",
    "# 300 data points\n",
    "\n",
    "# 3600 calls - 1800 from Chatgpt (and 1800 from GPT-4 = ~64)\n",
    "\n",
    "# 3.5 on cohere \n",
    "# 3.5 on 3.5\n",
    "# 4 on 3.5\n",
    "# 4 on 4 - if costs allow\n",
    "\n",
    "# Metrics:\n",
    "\n",
    "# Average objective score\n",
    "# Average item score\n",
    "# average objectives/item scores per true and false answers\n",
    "\n",
    "\n",
    "\n",
    "\n",
    "\n",
    "\n",
    "\n"
   ]
  },
  {
   "attachments": {},
   "cell_type": "markdown",
   "metadata": {},
   "source": [
    "## GPT-4 improves GPT-3.5"
   ]
  },
  {
   "cell_type": "code",
   "execution_count": 186,
   "metadata": {},
   "outputs": [
    {
     "name": "stdout",
     "output_type": "stream",
     "text": [
      "Generating med_qa...\n"
     ]
    },
    {
     "data": {
      "application/vnd.jupyter.widget-view+json": {
       "model_id": "9da4d04a2c3b45dbb7ee265dcbdc875c",
       "version_major": 2,
       "version_minor": 0
      },
      "text/plain": [
       "  0%|          | 0/30 [00:00<?, ?ex/s]"
      ]
     },
     "metadata": {},
     "output_type": "display_data"
    }
   ],
   "source": [
    "absolute_path = \"./input_system/system_template_20.yaml\"\n",
    "system_evaluate(medqa_data,'gpt-4',absolute_path)"
   ]
  },
  {
   "cell_type": "code",
   "execution_count": 214,
   "metadata": {},
   "outputs": [
    {
     "name": "stdout",
     "output_type": "stream",
     "text": [
      "         Average\n",
      "obj_1   9.500000\n",
      "obj_2   8.966667\n",
      "obj_3   9.566667\n",
      "obj_4   8.800000\n",
      "obj_5   9.166667\n",
      "obj_6   8.866667\n",
      "obj_7   8.000000\n",
      "obj_8   8.966667\n",
      "obj_9   8.233333\n",
      "obj_10  9.033333\n",
      "obj_11  9.033333\n",
      "scores true: 9.333333333333334\n",
      "scores false: 7.95959595959596\n"
     ]
    },
    {
     "data": {
      "image/png": "[encoded data removed]",
      "text/plain": [
       "<Figure size 432x288 with 1 Axes>"
      ]
     },
     "metadata": {
      "needs_background": "light"
     },
     "output_type": "display_data"
    },
    {
     "data": {
      "image/png": "[encoded data removed]",
      "text/plain": [
       "<Figure size 432x288 with 1 Axes>"
      ]
     },
     "metadata": {
      "needs_background": "light"
     },
     "output_type": "display_data"
    }
   ],
   "source": [
    "scores_per_item, variables_per_item = parse_data(medqa_data,idx_cot=2,dataset='med_qa',split='test')\n",
    "scores_per_item = fix_str_score(scores_per_item)\n",
    "scores_per_objective, df = get_further_data(scores_per_item)\n",
    "print(df)\n",
    "average_per_item = [sum(d.values()) / len(d) for d in scores_per_item]\n",
    "avg_true_false(medqa_data,average_per_item,'med_qa','test')\n",
    "freq_bar_plot(scores_per_item)\n",
    "avg_item_plot(scores_per_objective)"
   ]
  },
  {
   "cell_type": "code",
   "execution_count": 187,
   "metadata": {},
   "outputs": [
    {
     "data": {
      "application/vnd.jupyter.widget-view+json": {
       "model_id": "6fd60c6003e348c8b2d8f51d57591f17",
       "version_major": 2,
       "version_minor": 0
      },
      "text/plain": [
       "Creating json from Arrow format:   0%|          | 0/1 [00:00<?, ?ba/s]"
      ]
     },
     "metadata": {},
     "output_type": "display_data"
    }
   ],
   "source": [
    "medqa_data.dump(\"medqa_4_on_3_template_15_20\")"
   ]
  },
  {
   "cell_type": "code",
   "execution_count": 227,
   "metadata": {},
   "outputs": [
    {
     "name": "stdout",
     "output_type": "stream",
     "text": [
      "         Average\n",
      "obj_1   9.400000\n",
      "obj_2   8.566667\n",
      "obj_3   9.833333\n",
      "obj_4   8.800000\n",
      "obj_5   9.266667\n",
      "obj_6   8.833333\n",
      "obj_7   7.766667\n",
      "obj_8   8.666667\n",
      "obj_9   8.466667\n",
      "obj_10  8.933333\n",
      "obj_11  8.966667\n",
      "scores true: 9.024793388429751\n",
      "scores false: 8.420454545454545\n"
     ]
    },
    {
     "data": {
      "image/png": "[encoded data removed]",
      "text/plain": [
       "<Figure size 432x288 with 1 Axes>"
      ]
     },
     "metadata": {
      "needs_background": "light"
     },
     "output_type": "display_data"
    },
    {
     "data": {
      "image/png": "[encoded data removed]",
      "text/plain": [
       "<Figure size 432x288 with 1 Axes>"
      ]
     },
     "metadata": {
      "needs_background": "light"
     },
     "output_type": "display_data"
    }
   ],
   "source": [
    "scores_per_item, variables_per_item = parse_data(medmc_data,idx_cot=2,dataset='open_book_qa',split='test')\n",
    "scores_per_item = fix_str_score(scores_per_item)\n",
    "scores_per_objective, df = get_further_data(scores_per_item)\n",
    "print(df)\n",
    "average_per_item = [sum(d.values()) / len(d) for d in scores_per_item]\n",
    "avg_true_false(medmc_data,average_per_item,'open_book_qa','test')\n",
    "freq_bar_plot(scores_per_item)\n",
    "avg_item_plot(scores_per_objective)"
   ]
  },
  {
   "cell_type": "code",
   "execution_count": 193,
   "metadata": {},
   "outputs": [
    {
     "data": {
      "application/vnd.jupyter.widget-view+json": {
       "model_id": "f113f867f3db4c22a3285ac7df04c5e6",
       "version_major": 2,
       "version_minor": 0
      },
      "text/plain": [
       "Creating json from Arrow format:   0%|          | 0/1 [00:00<?, ?ba/s]"
      ]
     },
     "metadata": {},
     "output_type": "display_data"
    }
   ],
   "source": [
    "medmc_data.dump(\"medmc_4_on_3_template_15_20\")"
   ]
  },
  {
   "attachments": {},
   "cell_type": "markdown",
   "metadata": {},
   "source": [
    "## Iteration likert etc"
   ]
  },
  {
   "cell_type": "code",
   "execution_count": null,
   "metadata": {},
   "outputs": [],
   "source": [
    "#- Floating point difference or percentage\n",
    "\n",
    "# - Variance & span\n",
    "# - Statistical analysis\n",
    "\n",
    "# - Meaning scores + reasoning = why messy\n",
    "# - GPT-4 comparison\n",
    "\n",
    "# - Med dataset?"
   ]
  },
  {
   "attachments": {},
   "cell_type": "markdown",
   "metadata": {},
   "source": [
    "## float vs percentage"
   ]
  },
  {
   "cell_type": "code",
   "execution_count": null,
   "metadata": {},
   "outputs": [],
   "source": [
    "#floating point number between -1 and 1 "
   ]
  },
  {
   "cell_type": "code",
   "execution_count": 32,
   "metadata": {},
   "outputs": [
    {
     "data": {
      "text/plain": [
       "0.1"
      ]
     },
     "execution_count": 32,
     "metadata": {},
     "output_type": "execute_result"
    }
   ],
   "source": [
    "\"./reflection_messages/input_system/system_template_20c.yaml\""
   ]
  },
  {
   "cell_type": "code",
   "execution_count": 77,
   "metadata": {},
   "outputs": [
    {
     "name": "stdout",
     "output_type": "stream",
     "text": [
      "Generating med_qa...\n"
     ]
    },
    {
     "data": {
      "application/vnd.jupyter.widget-view+json": {
       "model_id": "e0e7e76ff92943c2b063b38bc1185c09",
       "version_major": 2,
       "version_minor": 0
      },
      "text/plain": [
       "  0%|          | 0/10 [00:00<?, ?ex/s]"
      ]
     },
     "metadata": {},
     "output_type": "display_data"
    }
   ],
   "source": [
    "data = Collection.from_json(\"./prelim_output/med_qa_zhou_cohere.json\")\n",
    "path = \"./input_system/system_template_20d.yaml\"\n",
    "data = data.select(split=\"test\", number_samples=10, random_samples=True, seed=0)\n",
    "system_evaluate(data,'gpt-3.5-turbo',path)"
   ]
  },
  {
   "cell_type": "code",
   "execution_count": 78,
   "metadata": {},
   "outputs": [
    {
     "name": "stdout",
     "output_type": "stream",
     "text": [
      "Generating med_qa...\n"
     ]
    },
    {
     "data": {
      "application/vnd.jupyter.widget-view+json": {
       "model_id": "806d5abbd08446f68f5ae324ac64e1e4",
       "version_major": 2,
       "version_minor": 0
      },
      "text/plain": [
       "  0%|          | 0/10 [00:00<?, ?ex/s]"
      ]
     },
     "metadata": {},
     "output_type": "display_data"
    },
    {
     "data": {
      "application/vnd.jupyter.widget-view+json": {
       "model_id": "f5d03df9aeac4a968ec0178743da7175",
       "version_major": 2,
       "version_minor": 0
      },
      "text/plain": [
       "Creating json from Arrow format:   0%|          | 0/1 [00:00<?, ?ba/s]"
      ]
     },
     "metadata": {},
     "output_type": "display_data"
    }
   ],
   "source": [
    "path = \"./input_system/system_template_20e.yaml\"\n",
    "system_evaluate(data,'gpt-3.5-turbo',path)\n",
    "data.dump(\"floating_vs_percentage\")"
   ]
  },
  {
   "cell_type": "code",
   "execution_count": 51,
   "metadata": {},
   "outputs": [
    {
     "name": "stdout",
     "output_type": "stream",
     "text": [
      "Generating med_qa...\n"
     ]
    },
    {
     "data": {
      "application/vnd.jupyter.widget-view+json": {
       "model_id": "ece9c0d5e97f43b39b68192cd973f3d5",
       "version_major": 2,
       "version_minor": 0
      },
      "text/plain": [
       "  0%|          | 0/10 [00:00<?, ?ex/s]"
      ]
     },
     "metadata": {},
     "output_type": "display_data"
    },
    {
     "data": {
      "application/vnd.jupyter.widget-view+json": {
       "model_id": "0ace02d0004b432cb6f513be76afd115",
       "version_major": 2,
       "version_minor": 0
      },
      "text/plain": [
       "Creating json from Arrow format:   0%|          | 0/1 [00:00<?, ?ba/s]"
      ]
     },
     "metadata": {},
     "output_type": "display_data"
    }
   ],
   "source": [
    "path = \"./input_system/system_template_20e.yaml\"\n",
    "system_evaluate(data,'gpt-3.5-turbo',path)\n",
    "data.dump(\"20e_percentage\")"
   ]
  },
  {
   "cell_type": "code",
   "execution_count": 69,
   "metadata": {},
   "outputs": [
    {
     "data": {
      "text/plain": [
       "{'id': 'd47622ce-eae7-4aba-9358-8f509c2d8f3e',\n",
       " 'fragments_version': '0.01',\n",
       " 'instruction': '',\n",
       " 'cot_trigger': '',\n",
       " 'cot_trigger_template': '',\n",
       " 'prompt_text': '',\n",
       " 'cot': 'critique: The reasoning is concise and accurate, but it lacks detail and does not consider all relevant information.\\nobj_1: 0.8\\nobj_2: 0.7\\nobj_3: 0.8\\nobj_4: 0.7\\nobj_5: 0.8\\nobj_6: 0.6\\nobj_7: 0.7\\nobj_8: 0.8\\nobj_9: 0.7\\nobj_10: 0.8\\nobj_11: 0.9',\n",
       " 'answers': [{'id': '304772a7-8e71-4331-ae93-9584794f185a',\n",
       "   'answer_extraction': '',\n",
       "   'answer_extraction_template': '',\n",
       "   'answer_extraction_text': '',\n",
       "   'answer': '',\n",
       "   'answer_from_choices': '',\n",
       "   'correct_answer': None}],\n",
       " 'author': '',\n",
       " 'date': '2023/05/31 14:52:30',\n",
       " 'api_service': '',\n",
       " 'model': \"{'name': '', 'temperature': 0, 'max_tokens': 1600}\",\n",
       " 'comment': '',\n",
       " 'annotations': []}"
      ]
     },
     "execution_count": 69,
     "metadata": {},
     "output_type": "execute_result"
    }
   ],
   "source": [
    "data['med_qa']['test'][8]['generated_cot'][1]"
   ]
  },
  {
   "cell_type": "code",
   "execution_count": null,
   "metadata": {},
   "outputs": [],
   "source": [
    "#calculate variance of percentage and floating point\n",
    "# conversion: ((0,3 + 1) / 2) * 100"
   ]
  },
  {
   "cell_type": "code",
   "execution_count": null,
   "metadata": {},
   "outputs": [],
   "source": [
    "#data (floating point, percentage)"
   ]
  },
  {
   "cell_type": "code",
   "execution_count": 79,
   "metadata": {},
   "outputs": [
    {
     "data": {
      "text/plain": [
       "{'obj_3': 29.8561365365462,\n",
       " 'obj_8': 33.66914182320528,\n",
       " 'obj_1': 32.72783388968954,\n",
       " 'obj_6': 29.10230995031914,\n",
       " 'obj_10': 30.555050500876465,\n",
       " 'obj_4': 33.76799931559135,\n",
       " 'obj_2': 27.708803254160543,\n",
       " 'obj_7': 30.663949154956832,\n",
       " 'obj_11': 46.20004810002306,\n",
       " 'obj_5': 31.989581637360207,\n",
       " 'obj_9': 35.103022978402045}"
      ]
     },
     "execution_count": 79,
     "metadata": {},
     "output_type": "execute_result"
    }
   ],
   "source": [
    "scores_per_item, variables_per_item = parse_data(data,idx_cot=2,dataset='med_qa',split='test')\n",
    "scores_per_item = fix_str_score(scores_per_item)\n",
    "scores_per_objective, df = get_further_data(scores_per_item)\n",
    "standard_deviation(scores_per_objective)"
   ]
  },
  {
   "cell_type": "code",
   "execution_count": 81,
   "metadata": {},
   "outputs": [
    {
     "data": {
      "text/plain": [
       "{'obj_3': 23.522433736518185,\n",
       " 'obj_8': 15.69331421692407,\n",
       " 'obj_1': 15.660583925540223,\n",
       " 'obj_6': 15.647775844793053,\n",
       " 'obj_10': 15.65781310116809,\n",
       " 'obj_4': 15.667095738805225,\n",
       " 'obj_2': 23.4905300067921,\n",
       " 'obj_7': 15.6174546225974,\n",
       " 'obj_11': 23.55039277804088,\n",
       " 'obj_5': 15.65490338520171,\n",
       " 'obj_9': 15.694036376209205}"
      ]
     },
     "execution_count": 81,
     "metadata": {},
     "output_type": "execute_result"
    }
   ],
   "source": [
    "# Floating again throws out percentages once\n",
    "scores_per_item, variables_per_item = parse_data(data,idx_cot=1,dataset='med_qa',split='test')\n",
    "scores_per_item = fix_str_score(scores_per_item)\n",
    "scores_per_objective, df = get_further_data(scores_per_item)\n",
    "standard_deviation(scores_per_objective)\n",
    "#floating point outlier issue"
   ]
  },
  {
   "cell_type": "code",
   "execution_count": 75,
   "metadata": {},
   "outputs": [],
   "source": [
    "import math\n",
    "\n",
    "def standard_deviation(data):\n",
    "    # First, compute the mean for each key.\n",
    "    mean_data = {key: sum(value) / len(value) for key, value in data.items()}\n",
    "    \n",
    "    # Then, for each key, compute the sum of the squared differences from the mean.\n",
    "    variance_data = {}\n",
    "    for key, value in data.items():\n",
    "        variance_data[key] = sum((x - mean_data[key]) ** 2 for x in value) / (len(value)-1)\n",
    "    \n",
    "    # Finally, compute the standard deviation for each key.\n",
    "    standard_deviation_data = {key: math.sqrt(value) for key, value in variance_data.items()}\n",
    "    \n",
    "    return standard_deviation_data\n",
    "\n",
    "def standard_deviation_floating(data):\n",
    "    # First, compute the mean for each key.\n",
    "    #mean_data = {key: sum(((value + 1) / 2) * 100) / len(value) for key, value in data.items()}\n",
    "    #mean_data = {key: ((sum(value) / len(value) + 1) / 2) * 100 for key, value in data.items()}\n",
    "    mean_data = {key: ((sum(v) / len(v) + 1) / 2) * 100 for key, values in data.items() \n",
    "             for v in values if -1 <= v <= 1}\n",
    "    \n",
    "    # Then, for each key, compute the sum of the squared differences from the mean.\n",
    "    variance_data = {}\n",
    "    # for key, value in data.items():\n",
    "    #     try:\n",
    "    #         variance_data[key] = sum((x - mean_data[key]) ** 2 for x in value) / (len(value)-1)\n",
    "    #     except KeyError:\n",
    "    #         print(f'Key {key} not found in mean_data. Skipping.')\n",
    "            \n",
    "    # # Finally, compute the standard deviation for each key.\n",
    "    # standard_deviation_data = {key: math.sqrt(value) for key, value in variance_data.items()}\n",
    "\n",
    "    # return standard_deviation_data\n",
    "    for key, value in data.items():\n",
    "        variance_data[key] = sum((x - mean_data[key]) ** 2 for x in value) / (len(value)-1)\n",
    "    \n",
    "    # Finally, compute the standard deviation for each key.\n",
    "    standard_deviation_data = {key: math.sqrt(value) for key, value in variance_data.items()}\n",
    "    \n",
    "    return standard_deviation_data"
   ]
  },
  {
   "attachments": {},
   "cell_type": "markdown",
   "metadata": {},
   "source": [
    "## The range of certain scores"
   ]
  },
  {
   "cell_type": "code",
   "execution_count": null,
   "metadata": {},
   "outputs": [],
   "source": [
    "data = scores_per_objective\n",
    "span_data = {key: (min(value),max(value)) for key, value in data.items() \n",
    "                 if all(-1 <= v <= 1 for v in value)}"
   ]
  }
 ],
 "metadata": {
  "kernelspec": {
   "display_name": "base",
   "language": "python",
   "name": "python3"
  },
  "language_info": {
   "codemirror_mode": {
    "name": "ipython",
    "version": 3
   },
   "file_extension": ".py",
   "mimetype": "text/x-python",
   "name": "python",
   "nbconvert_exporter": "python",
   "pygments_lexer": "ipython3",
   "version": "3.9.12"
  },
  "orig_nbformat": 4
 },
 "nbformat": 4,
 "nbformat_minor": 2
}
