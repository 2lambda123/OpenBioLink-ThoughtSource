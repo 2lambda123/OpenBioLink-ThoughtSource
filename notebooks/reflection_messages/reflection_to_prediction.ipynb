{
 "cells": [
  {
   "attachments": {},
   "cell_type": "markdown",
   "metadata": {},
   "source": [
    "## Helper functions"
   ]
  },
  {
   "cell_type": "code",
   "execution_count": 1,
   "metadata": {},
   "outputs": [],
   "source": [
    "\"\"\"Imports\"\"\"\n",
    "from langchain.chat_models import ChatOpenAI\n",
    "from langchain.prompts.chat import (\n",
    "    ChatPromptTemplate,\n",
    "    SystemMessagePromptTemplate,\n",
    "    AIMessagePromptTemplate,\n",
    "    HumanMessagePromptTemplate,\n",
    ")\n",
    "from langchain.schema import (\n",
    "    AIMessage,\n",
    "    HumanMessage,\n",
    "    SystemMessage\n",
    ")\n",
    "\n",
    "from cot import Collection\n",
    "import yaml"
   ]
  },
  {
   "cell_type": "code",
   "execution_count": 2,
   "metadata": {},
   "outputs": [],
   "source": [
    "# Helper functions to call OpenAI model, system also generates reasoning\n",
    "# this function lets the model reason (less frequently used than system_evaluate)\n",
    "\n",
    "def system_experiment(data,model, path_system_template):\n",
    "    chat = ChatOpenAI(\n",
    "        temperature=0,\n",
    "        model_name=model,\n",
    "        request_timeout=600,\n",
    "        max_retries=1,\n",
    "    )\n",
    "\n",
    "    human_template=\"\"\"Answer the question:{question}\\nwith the following answer options:{answer_options}\"\"\"\n",
    "    human_message_prompt = HumanMessagePromptTemplate.from_template(human_template)\n",
    "    \n",
    "    with open(path_system_template, 'r') as file:\n",
    "        template = file.read()\n",
    "    system_message_prompt = SystemMessagePromptTemplate.from_template(template)\n",
    "    \n",
    "    chat_prompt = ChatPromptTemplate.from_messages([system_message_prompt, human_message_prompt])  \n",
    "    input_dict = {'chat':chat,'chat_prompt':chat_prompt, \"api_time_interval\": 1} \n",
    "    \n",
    "    return data.system_generate(input_dict)\n",
    "\n",
    "def save_as_yaml(data, filepath):\n",
    "    with open(filepath, 'w') as file:\n",
    "        yaml.dump(data, file)"
   ]
  },
  {
   "cell_type": "code",
   "execution_count": 3,
   "metadata": {},
   "outputs": [],
   "source": [
    "def system_evaluate(data,model, path_system_template):\n",
    "    chat = ChatOpenAI(\n",
    "        temperature=0,\n",
    "        model_name=model,\n",
    "        request_timeout=600,\n",
    "        max_retries=1,\n",
    "    )\n",
    "\n",
    "    human_template=\"\"\"Answer the question:{question}\\n\n",
    "    with the following answer options:{answer_options}\\n\n",
    "    Reasoning: {reasoning}\\n\n",
    "    Answer: {answer}\"\"\"\n",
    "    human_message_prompt = HumanMessagePromptTemplate.from_template(human_template)\n",
    "    \n",
    "    with open(path_system_template, 'r') as file:\n",
    "        template = file.read()\n",
    "    system_message_prompt = SystemMessagePromptTemplate.from_template(template)\n",
    "    \n",
    "    chat_prompt = ChatPromptTemplate.from_messages([system_message_prompt, human_message_prompt])  \n",
    "    input_dict = {'chat':chat,'chat_prompt':chat_prompt, \"api_time_interval\": 1} \n",
    "    \n",
    "    return data.system_evals(input_dict)"
   ]
  },
  {
   "cell_type": "code",
   "execution_count": 4,
   "metadata": {},
   "outputs": [],
   "source": [
    "def count_keys(lst):\n",
    "\n",
    "    counts = {}\n",
    "    for item in lst:\n",
    "        if isinstance(item, list):\n",
    "            sub_counts = count_keys(item)\n",
    "            for key, value in sub_counts.items():\n",
    "                counts[key] = counts.get(key, 0) + value\n",
    "        else:\n",
    "            counts[item] = counts.get(item, 0) + 1\n",
    "    return counts"
   ]
  },
  {
   "cell_type": "code",
   "execution_count": 5,
   "metadata": {},
   "outputs": [],
   "source": [
    "import yaml\n",
    "def parse_data(new_data,idx_cot,dataset,split):\n",
    "    scores_per_item = []\n",
    "    variables_per_item = []\n",
    "    lowest_obj = []\n",
    "    scores_with_indicator = []\n",
    "    for item in new_data[dataset][split]:\n",
    "        flag = False\n",
    "        try:\n",
    "            data = yaml.load(item['generated_cot'][idx_cot]['cot'], Loader=yaml.FullLoader)\n",
    "            if any(isinstance(v, str) for v in data.values()):\n",
    "                new_dict = {k: v for k, v in data.items() if k.startswith('obj')}\n",
    "                #scores_per_item.append(new_dict)\n",
    "                flag = True\n",
    "                variables_per_item.append(data)\n",
    "        except:\n",
    "            print(\"wrong output found\")\n",
    "            continue\n",
    "\n",
    "        if flag == True:\n",
    "            data = new_dict\n",
    "            \n",
    "            try:\n",
    "                # Find the lowest value\n",
    "                lowest_value = min(data.values())\n",
    "\n",
    "                # Calculate the average value\n",
    "                average_value = sum(data.values()) / len(data)\n",
    "\n",
    "                # Find the key(s) of the lowest value\n",
    "                lowest_keys = [key for key, value in data.items() if value == lowest_value]     \n",
    "                lowest_obj.append(lowest_keys)\n",
    "\n",
    "                # Add lowest and average values to the dictionary\n",
    "                data['lowest'] = lowest_value\n",
    "                data['average'] = average_value\n",
    "            except:\n",
    "                data['lowest'] = 'None'\n",
    "                data['average'] = 'None'\n",
    "                lowest_obj.append('None')\n",
    "                print(\"non_int data found... continue\")\n",
    "                print(data)\n",
    "\n",
    "            scores_per_item.append(data)\n",
    "            scores_with_indicator.append((data,item['generated_cot'][0]['answers'][0]['correct_answer']))\n",
    "\n",
    "    #filter for strings\n",
    "    lowest_tuples = []\n",
    "    for i in range(len(lowest_obj)):\n",
    "        lowest_tuples.append((lowest_obj[i],scores_with_indicator[i][1]))\n",
    "    print(lowest_tuples[0])\n",
    "    filtered_lowest_tuples = [score_tuple for score_tuple in lowest_tuples if not any(isinstance(value, str) for value in score_tuple[0])]\n",
    "         \n",
    "    return scores_per_item, variables_per_item, filtered_lowest_tuples, scores_with_indicator"
   ]
  },
  {
   "cell_type": "code",
   "execution_count": 6,
   "metadata": {},
   "outputs": [],
   "source": [
    "def get_further_data(scores_per_item):\n",
    "# Get unique keys from all dictionaries\n",
    "    keys = set().union(*scores_per_item)\n",
    "\n",
    "    # Create lists of values for each key\n",
    "    scores_per_objective = {key: [d.get(key) for d in scores_per_item] for key in keys}\n",
    "\n",
    "    # #check values for nonetype\n",
    "    # for key, value in scores_per_objective.items():\n",
    "    #     if value is not str:\n",
    "    #         #print(key,value)\n",
    "    #         continue\n",
    "\n",
    "    averaged_data = {key: (sum(v for v in value if v is not None) / len([v for v in value if v is not None])) for key, value in scores_per_objective.items() if len([v for v in value if v is not None]) > 0}\n",
    "\n",
    "    # Convert the averaged data dictionary to a Pandas DataFrame\n",
    "    df = pd.DataFrame.from_dict(averaged_data, orient='index', columns=['Average'])\n",
    "\n",
    "    # Sort the DataFrame by the index (row labels)\n",
    "    df = df.loc[['obj_1', 'obj_2', 'obj_3', 'obj_4', 'obj_5', 'obj_6', 'obj_7', 'obj_8', 'obj_9', 'obj_10', 'obj_11']]\n",
    "\n",
    "    return scores_per_objective, df"
   ]
  },
  {
   "cell_type": "code",
   "execution_count": 7,
   "metadata": {},
   "outputs": [],
   "source": [
    "def fix_str_score(scores_per_item):\n",
    "    for i,element in enumerate(scores_per_item):\n",
    "        for inner_key, value in element.items():\n",
    "            if isinstance(value,str):\n",
    "                scores_per_item.pop(i)\n",
    "    return scores_per_item"
   ]
  },
  {
   "cell_type": "code",
   "execution_count": 8,
   "metadata": {},
   "outputs": [],
   "source": [
    "def compare_true_false(obj_scores_true,obj_scores_false):\n",
    "\n",
    "    averaged_true = {key: (sum(v for v in value if v is not None) / len([v for v in value if v is not None])) for key, value in obj_scores_true.items() if len([v for v in value if v is not None]) > 0}\n",
    "    averaged_false = {key: (sum(v for v in value if v is not None) / len([v for v in value if v is not None])) for key, value in obj_scores_false.items() if len([v for v in value if v is not None]) > 0}\n",
    "\n",
    "\n",
    "    # Convert the averaged data dictionary to a Pandas DataFrame\n",
    "    df_true = pd.DataFrame.from_dict(averaged_true, orient='index', columns=['Average'])\n",
    "    df_false = pd.DataFrame.from_dict(averaged_false, orient='index', columns=['Average'])\n",
    "\n",
    "    # Sort the DataFrame by the index (row labels)\n",
    "    df_true = df_true.loc[['obj_1', 'obj_2', 'obj_3', 'obj_4', 'obj_5', 'obj_6', 'obj_7', 'obj_8', 'obj_9', 'obj_10', 'obj_11','average']]\n",
    "    df_false = df_false.loc[['obj_1', 'obj_2', 'obj_3', 'obj_4', 'obj_5', 'obj_6', 'obj_7', 'obj_8', 'obj_9', 'obj_10', 'obj_11','average']]\n",
    "\n",
    "    # Rename the 'Average' column in each dataframe\n",
    "    df_true.rename(columns={'Average': 'Average_true'}, inplace=True)\n",
    "    df_false.rename(columns={'Average': 'Average_false'}, inplace=True)\n",
    "\n",
    "    # Concatenate the dataframes horizontally along the columns\n",
    "    merged_df = pd.concat([df_true, df_false], axis=1)\n",
    "\n",
    "    merged_df['Difference'] = merged_df['Average_true'] - merged_df['Average_false']\n",
    "\n",
    "  \n",
    "\n",
    "    return merged_df"
   ]
  },
  {
   "cell_type": "code",
   "execution_count": 9,
   "metadata": {},
   "outputs": [],
   "source": [
    "#helper functions for results\n",
    "import matplotlib.pyplot as plt\n",
    "from scipy.stats import ttest_ind\n",
    "import statistics\n",
    "\n",
    "def freq_bar_plot(scores_per_item): #later better axes\n",
    "    average_per_item = [sum(d.values()) / len(d) for d in scores_per_item]\n",
    "    # Create a histogram\n",
    "    plt.hist(average_per_item, bins='auto', alpha=0.7)\n",
    "    plt.xlabel('Values')\n",
    "    plt.ylabel('Frequency')\n",
    "    plt.title('Frequency of average score per item')\n",
    "    plt.show()\n",
    "\n",
    "# def avg_item_plot(scores_per_objective):  #later better axes\n",
    " \n",
    "#     data = scores_per_objective\n",
    "#     averaged_data = {key: sum(value) / len(value) for key, value in data.items() if key!=\"critique\"} #added \"critique\"\n",
    "#     sorted_data = {k: v for k, v in sorted(averaged_data.items())}\n",
    "\n",
    "#     # Extract the keys (objectives) and values (averages) from the sorted dictionary\n",
    "#     keys = sorted_data.keys()\n",
    "#     values = sorted_data.values()\n",
    "\n",
    "#     # Create a bar plot\n",
    "#     plt.bar(keys, values)\n",
    "#     plt.xlabel('Objectives')\n",
    "#     plt.ylabel('Average')\n",
    "#     # plt.ylim(7,10)\n",
    "#     plt.title('Average per Objective')\n",
    "#     plt.xticks(rotation=45)\n",
    "#     plt.show()\n",
    "\n",
    "def avg_true_false(data,average_per_item,dataset,split):\n",
    "    item_correct = []\n",
    "    for item in data[dataset][split]:\n",
    "        item_correct.append(item['generated_cot'][0]['answers'][0]['correct_answer'])\n",
    "\n",
    "    # Example lists of scores and indicators\n",
    "    scores = average_per_item\n",
    "    indicators = item_correct\n",
    "\n",
    "    # Separate scores based on indicators\n",
    "    scores_true = [score for score, indicator in zip(scores, indicators) if indicator]\n",
    "    scores_false = [score for score, indicator in zip(scores, indicators) if not indicator]\n",
    "\n",
    "    print(\"scores true:\", statistics.mean(scores_true))\n",
    "    print(\"scores false:\", statistics.mean(scores_false))\n"
   ]
  },
  {
   "cell_type": "code",
   "execution_count": 10,
   "metadata": {},
   "outputs": [],
   "source": [
    "import math\n",
    "\n",
    "def standard_deviation(data):\n",
    "    # First, compute the mean for each key.\n",
    "    mean_data = {key: sum(value) / len(value) for key, value in data.items()}\n",
    "    \n",
    "    # Then, for each key, compute the sum of the squared differences from the mean.\n",
    "    variance_data = {}\n",
    "    for key, value in data.items():\n",
    "        variance_data[key] = sum((x - mean_data[key]) ** 2 for x in value) / (len(value)-1)\n",
    "    \n",
    "    # Finally, compute the standard deviation for each key.\n",
    "    standard_deviation_data = {key: math.sqrt(value) for key, value in variance_data.items()}\n",
    "    \n",
    "    return standard_deviation_data"
   ]
  },
  {
   "cell_type": "code",
   "execution_count": 11,
   "metadata": {},
   "outputs": [],
   "source": [
    "from scipy.stats import mannwhitneyu\n",
    "\n",
    "def u_test(scores_with_indicator):\n",
    "\n",
    "    #filter for strings\n",
    "    filtered_scores_with_indicator = [score_tuple for score_tuple in scores_with_indicator if not any(isinstance(value, str) for value in score_tuple[0].values())]\n",
    "    \n",
    "\n",
    "    scores, indicators= zip(*filtered_scores_with_indicator)\n",
    "\n",
    "    # Separate scores based on indicators\n",
    "    scores_true = [score for score, indicator in zip(scores, indicators) if indicator]\n",
    "    scores_false = [score for score, indicator in zip(scores, indicators) if not indicator]\n",
    "\n",
    "    keys = set().union(*scores_true)\n",
    "        # Create lists of values for each key\n",
    "    scores_per_objective_true = {key: [d.get(key) for d in scores_true] for key in keys if key != \"critique\"} \n",
    "\n",
    "    keys = set().union(*scores_false)\n",
    "        # Create lists of values for each key\n",
    "    scores_per_objective_false = {key: [d.get(key) for d in scores_false] for key in keys if key != \"critique\"} \n",
    "\n",
    "    dict_1 = scores_per_objective_true\n",
    "    dict_2 = scores_per_objective_false\n",
    "\n",
    "    # make sure both dictionaries have the same keys\n",
    "    assert dict_1.keys() == dict_2.keys()\n",
    "\n",
    "    print(dict_1.keys())\n",
    "\n",
    "    for key in dict_1.keys():\n",
    "        u_stat, p_val = mannwhitneyu(dict_1[key], dict_2[key])\n",
    "        print(f\"For {key}, U-statistic is {u_stat:.2f} and the p-value is {p_val:.2f}\")\n",
    "    return scores_per_objective_true,scores_per_objective_false"
   ]
  },
  {
   "cell_type": "code",
   "execution_count": 12,
   "metadata": {},
   "outputs": [],
   "source": [
    "import copy\n",
    "\"\"\"Only use if none ans should not be false\"\"\"\n",
    "def generate_without_none_ans(data):\n",
    "    all_data = copy.deepcopy(data)\n",
    "    true_data = copy.deepcopy(data)\n",
    "    false_data = copy.deepcopy(data)\n",
    "\n",
    "\n",
    "    false_data.evaluate()\n",
    "    false_data.select_generated_cots(answer=False)\n",
    "    false_data = false_data.filter(lambda x: len(x[\"generated_cot\"])==1)\n",
    "\n",
    "    true_data.evaluate()\n",
    "    true_data.select_generated_cots(answer=True)\n",
    "    true_data = true_data.filter(lambda x: len(x[\"generated_cot\"])==1)\n",
    "\n",
    "    full_data = false_data.merge(true_data)\n",
    "\n",
    "    ids = full_data.dump_ids()\n",
    "\n",
    "    # print(len(ids))\n",
    "\n",
    "    # print(all_data)\n",
    "\n",
    "    none_data = all_data.filter(lambda ex: ex['id'] not in ids)\n",
    "\n",
    "    # print(none_data)\n",
    "\n",
    "    none_ids = none_data.dump_ids()\n",
    "\n",
    "    return all_data.filter(lambda ex: ex['id'] not in none_ids)\n",
    "\n"
   ]
  },
  {
   "attachments": {},
   "cell_type": "markdown",
   "metadata": {},
   "source": [
    "## Evaluate reflection"
   ]
  },
  {
   "cell_type": "code",
   "execution_count": 29,
   "metadata": {},
   "outputs": [
    {
     "data": {
      "application/vnd.jupyter.widget-view+json": {
       "model_id": "a50f3cd43f044ecb9dec2be7346de14c",
       "version_major": 2,
       "version_minor": 0
      },
      "text/plain": [
       "Creating json from Arrow format:   0%|          | 0/1 [00:00<?, ?ba/s]"
      ]
     },
     "metadata": {},
     "output_type": "display_data"
    },
    {
     "data": {
      "application/vnd.jupyter.widget-view+json": {
       "model_id": "491ce2537091448cac31d9ab5530a749",
       "version_major": 2,
       "version_minor": 0
      },
      "text/plain": [
       "Creating json from Arrow format:   0%|          | 0/1 [00:00<?, ?ba/s]"
      ]
     },
     "metadata": {},
     "output_type": "display_data"
    },
    {
     "name": "stdout",
     "output_type": "stream",
     "text": [
      "non_int data found... continue\n",
      "{'obj_1': 100, 'obj_2': 100, 'obj_3': 'N/A', 'obj_4': 100, 'obj_5': 100, 'obj_6': 100, 'obj_7': 100, 'obj_8': 100, 'obj_9': 100, 'obj_10': 100, 'obj_11': 100, 'lowest': 'None', 'average': 'None'}\n",
      "non_int data found... continue\n",
      "{'obj_1': 'The reasoning accurately breaks down the question into smaller parts and analyzes each possible outcome.', 'obj_2': 'The reasoning considers all relevant information and does not consider irrelevant information.', 'obj_3': 'The reasoning accurately interprets and incorporates the numerical information provided by the user.', 'obj_4': 'The reasoning considers all relevant reasoning strategies and selects the most appropriate reasoning strategy, but could benefit from more detailed explanations of the biochemical processes involved.', 'obj_5': 'The reasoning is structured through reasoning steps, but could benefit from more sub-questions to further break down the analysis.', 'obj_6': 'The reasoning gives appropriate priorities to different considerations based on their relevance and importance.', 'obj_7': 'The reasoning lists and considers all relevant underlying assumptions.', 'obj_8': 'The reasoning is plausible, logically valid, sound, consistent, and coherent.', 'obj_9': 'The reasoning could benefit from more references to evidence to support the statements made.', 'obj_10': 'The reasoning contains accurate and relevant information, but could benefit from more up-to-date information and more engaging language.', 'obj_11': 'The reasoning provides a single final answer based on the analysis and verifies whether it corresponds to one of the answer options.', 'lowest': 'None', 'average': 'None'}\n",
      "(['obj_4', 'obj_9'], False)\n",
      "\n",
      "\n",
      "Average over objectives for all items\n",
      "          Average\n",
      "obj_1   90.092975\n",
      "obj_2   96.095041\n",
      "obj_3   92.293388\n",
      "obj_4   89.328512\n",
      "obj_5   83.481405\n",
      "obj_6   85.692149\n",
      "obj_7   85.309917\n",
      "obj_8   92.293388\n",
      "obj_9   76.301653\n",
      "obj_10  87.386364\n",
      "obj_11  95.795455\n",
      "\n",
      "\n"
     ]
    },
    {
     "data": {
      "image/png": "[encoded data removed]",
      "text/plain": [
       "<Figure size 640x480 with 1 Axes>"
      ]
     },
     "metadata": {},
     "output_type": "display_data"
    },
    {
     "name": "stdout",
     "output_type": "stream",
     "text": [
      "Mann-Whitney-U test\n",
      "dict_keys(['obj_7', 'obj_1', 'obj_5', 'obj_3', 'lowest', 'obj_11', 'obj_6', 'obj_10', 'obj_8', 'average', 'obj_2', 'obj_9', 'obj_4'])\n",
      "For obj_7, U-statistic is 21946.00 and the p-value is 0.30\n",
      "For obj_1, U-statistic is 21039.50 and the p-value is 0.74\n",
      "For obj_5, U-statistic is 20001.00 and the p-value is 0.62\n",
      "For obj_3, U-statistic is 23401.00 and the p-value is 0.02\n",
      "For lowest, U-statistic is 21382.50 and the p-value is 0.55\n",
      "For obj_11, U-statistic is 23068.00 and the p-value is 0.02\n",
      "For obj_6, U-statistic is 22416.00 and the p-value is 0.16\n",
      "For obj_10, U-statistic is 21731.00 and the p-value is 0.38\n",
      "For obj_8, U-statistic is 22342.50 and the p-value is 0.16\n",
      "For average, U-statistic is 22156.00 and the p-value is 0.24\n",
      "For obj_2, U-statistic is 22698.00 and the p-value is 0.06\n",
      "For obj_9, U-statistic is 21709.00 and the p-value is 0.39\n",
      "For obj_4, U-statistic is 22771.50 and the p-value is 0.09\n",
      "range of scores\n",
      "{'obj_7': (30, 100), 'obj_1': (30, 100), 'obj_5': (40, 100), 'obj_3': (0, 100), 'lowest': (0, 100), 'obj_11': (0, 100), 'obj_6': (20, 100), 'obj_10': (50, 100), 'obj_8': (20, 100), 'average': (22.727272727272727, 100.0), 'obj_2': (40, 100), 'obj_9': (0, 100), 'obj_4': (20, 100)}\n",
      "\n",
      "\n",
      "Standard dev. of scores\n",
      "{'obj_7': 12.465564360155241, 'obj_1': 10.47730625730306, 'obj_5': 12.065112568609806, 'obj_3': 9.157505926220788, 'lowest': 13.169834145644378, 'obj_11': 8.701246906194969, 'obj_6': 10.375270224253068, 'obj_10': 9.410001947181637, 'obj_8': 8.303799280487945, 'average': 8.735115143204077, 'obj_2': 6.381525499451721, 'obj_9': 13.071705308181736, 'obj_4': 10.381617625974142}\n",
      "Compare the averages of groups with correct or incorrect answer\n"
     ]
    },
    {
     "data": {
      "text/html": [
       "<div>\n",
       "<style scoped>\n",
       "    .dataframe tbody tr th:only-of-type {\n",
       "        vertical-align: middle;\n",
       "    }\n",
       "\n",
       "    .dataframe tbody tr th {\n",
       "        vertical-align: top;\n",
       "    }\n",
       "\n",
       "    .dataframe thead th {\n",
       "        text-align: right;\n",
       "    }\n",
       "</style>\n",
       "<table border=\"1\" class=\"dataframe\">\n",
       "  <thead>\n",
       "    <tr style=\"text-align: right;\">\n",
       "      <th></th>\n",
       "      <th>Average_true</th>\n",
       "      <th>Average_false</th>\n",
       "      <th>Difference</th>\n",
       "    </tr>\n",
       "  </thead>\n",
       "  <tbody>\n",
       "    <tr>\n",
       "      <th>obj_1</th>\n",
       "      <td>90.190840</td>\n",
       "      <td>89.904762</td>\n",
       "      <td>0.286078</td>\n",
       "    </tr>\n",
       "    <tr>\n",
       "      <th>obj_2</th>\n",
       "      <td>96.335878</td>\n",
       "      <td>95.047619</td>\n",
       "      <td>1.288259</td>\n",
       "    </tr>\n",
       "    <tr>\n",
       "      <th>obj_3</th>\n",
       "      <td>92.748092</td>\n",
       "      <td>90.666667</td>\n",
       "      <td>2.081425</td>\n",
       "    </tr>\n",
       "    <tr>\n",
       "      <th>obj_4</th>\n",
       "      <td>89.592875</td>\n",
       "      <td>87.952381</td>\n",
       "      <td>1.640494</td>\n",
       "    </tr>\n",
       "    <tr>\n",
       "      <th>obj_5</th>\n",
       "      <td>83.307888</td>\n",
       "      <td>83.809524</td>\n",
       "      <td>-0.501636</td>\n",
       "    </tr>\n",
       "    <tr>\n",
       "      <th>obj_6</th>\n",
       "      <td>85.992366</td>\n",
       "      <td>84.666667</td>\n",
       "      <td>1.325700</td>\n",
       "    </tr>\n",
       "    <tr>\n",
       "      <th>obj_7</th>\n",
       "      <td>85.496183</td>\n",
       "      <td>84.190476</td>\n",
       "      <td>1.305707</td>\n",
       "    </tr>\n",
       "    <tr>\n",
       "      <th>obj_8</th>\n",
       "      <td>92.519084</td>\n",
       "      <td>91.428571</td>\n",
       "      <td>1.090513</td>\n",
       "    </tr>\n",
       "    <tr>\n",
       "      <th>obj_9</th>\n",
       "      <td>76.513995</td>\n",
       "      <td>75.523810</td>\n",
       "      <td>0.990185</td>\n",
       "    </tr>\n",
       "    <tr>\n",
       "      <th>obj_10</th>\n",
       "      <td>87.506361</td>\n",
       "      <td>86.571429</td>\n",
       "      <td>0.934933</td>\n",
       "    </tr>\n",
       "    <tr>\n",
       "      <th>obj_11</th>\n",
       "      <td>96.017812</td>\n",
       "      <td>95.047619</td>\n",
       "      <td>0.970193</td>\n",
       "    </tr>\n",
       "    <tr>\n",
       "      <th>average</th>\n",
       "      <td>88.747398</td>\n",
       "      <td>87.709957</td>\n",
       "      <td>1.037441</td>\n",
       "    </tr>\n",
       "  </tbody>\n",
       "</table>\n",
       "</div>"
      ],
      "text/plain": [
       "         Average_true  Average_false  Difference\n",
       "obj_1       90.190840      89.904762    0.286078\n",
       "obj_2       96.335878      95.047619    1.288259\n",
       "obj_3       92.748092      90.666667    2.081425\n",
       "obj_4       89.592875      87.952381    1.640494\n",
       "obj_5       83.307888      83.809524   -0.501636\n",
       "obj_6       85.992366      84.666667    1.325700\n",
       "obj_7       85.496183      84.190476    1.305707\n",
       "obj_8       92.519084      91.428571    1.090513\n",
       "obj_9       76.513995      75.523810    0.990185\n",
       "obj_10      87.506361      86.571429    0.934933\n",
       "obj_11      96.017812      95.047619    0.970193\n",
       "average     88.747398      87.709957    1.037441"
      ]
     },
     "execution_count": 29,
     "metadata": {},
     "output_type": "execute_result"
    }
   ],
   "source": [
    "#GPT-4 supervised by GPT-3.5\n",
    "import pandas as pd\n",
    "from cot import Collection\n",
    "data_400 = Collection.from_json(\"./med_qa_400_first_gpt-4_gpt-3.5-turbo.json\")\n",
    "data_100 = Collection.from_json(\"./med_qa_100_first_gpt-4_gpt-3.5-turbo.json\")\n",
    "data_500 = data_400.merge(data_100)\n",
    "data = data_500\n",
    "\n",
    "scores_per_item, variables_per_item, filtered_lowest_tuples, scores_with_indicator = parse_data(data,idx_cot=1,dataset='med_qa',split='test')\n",
    "scores_per_item = fix_str_score(scores_per_item)\n",
    "scores_per_objective, df = get_further_data(scores_per_item)\n",
    "average_per_item = [sum(d.values()) / len(d) for d in scores_per_item]\n",
    "print(\"\\n\")\n",
    "print(\"Average over objectives for all items\")\n",
    "print(df)\n",
    "print(\"\\n\")\n",
    "\n",
    "#print(\"Average over objectives separated by items with correct / incorrect answers\") #see compare_true_false\n",
    "freq_bar_plot(scores_per_item)\n",
    "# avg_item_plot(scores_per_objective)\n",
    "\n",
    "print(\"Mann-Whitney-U test\")\n",
    "scores_per_objective_true,scores_per_objective_false = u_test(scores_with_indicator)\n",
    "# print(\"\\n\")\n",
    "# print(\"Frequency where objective is lowest scored for items with false answer\")\n",
    "# print(dict(sorted(count_keys(scores_false).items(), key=lambda x: -x[1])))\n",
    "# print(\"\\n\")\n",
    "# print(\"Frequency where objective is lowest scored for items with correct answer\")\n",
    "# print(dict(sorted(count_keys(scores_true).items(), key=lambda x: -x[1])))\n",
    "# print(\"\\n\")\n",
    "\n",
    "range_data = {key: (min(value),max(value)) for key, value in scores_per_objective.items()}\n",
    "print(\"range of scores\")\n",
    "print(range_data)\n",
    "print(\"\\n\")\n",
    "print(\"Standard dev. of scores\")\n",
    "print(standard_deviation(scores_per_objective))\n",
    "print(\"Compare the averages of groups with correct or incorrect answer\")\n",
    "compare_true_false(scores_per_objective_true,scores_per_objective_false)"
   ]
  },
  {
   "cell_type": "code",
   "execution_count": 30,
   "metadata": {},
   "outputs": [
    {
     "data": {
      "application/vnd.jupyter.widget-view+json": {
       "model_id": "7106de9813f34bae9c5918caf793bae5",
       "version_major": 2,
       "version_minor": 0
      },
      "text/plain": [
       "Creating json from Arrow format:   0%|          | 0/1 [00:00<?, ?ba/s]"
      ]
     },
     "metadata": {},
     "output_type": "display_data"
    },
    {
     "data": {
      "application/vnd.jupyter.widget-view+json": {
       "model_id": "59a0770877734799b56e76a67c301cc9",
       "version_major": 2,
       "version_minor": 0
      },
      "text/plain": [
       "Creating json from Arrow format:   0%|          | 0/1 [00:00<?, ?ba/s]"
      ]
     },
     "metadata": {},
     "output_type": "display_data"
    },
    {
     "name": "stdout",
     "output_type": "stream",
     "text": [
      "non_int data found... continue\n",
      "{'obj_1': 100, 'obj_2': 100, 'obj_3': 'N/A', 'obj_4': 100, 'obj_5': 70, 'obj_6': 90, 'obj_7': 100, 'obj_8': 100, 'obj_9': 100, 'obj_10': 100, 'obj_11': 100, 'lowest': 'None', 'average': 'None'}\n",
      "(['obj_1', 'obj_2', 'obj_3', 'obj_4', 'obj_5', 'obj_6', 'obj_7', 'obj_8', 'obj_9', 'obj_10', 'obj_11'], True)\n",
      "\n",
      "\n",
      "Average over objectives for all items\n",
      "          Average\n",
      "obj_1   95.885312\n",
      "obj_2   91.348089\n",
      "obj_3   97.273642\n",
      "obj_4   90.402414\n",
      "obj_5   92.323944\n",
      "obj_6   90.965795\n",
      "obj_7   83.923541\n",
      "obj_8   89.064386\n",
      "obj_9   86.136821\n",
      "obj_10  92.092555\n",
      "obj_11  89.456740\n",
      "\n",
      "\n"
     ]
    },
    {
     "data": {
      "image/png": "[encoded data removed]",
      "text/plain": [
       "<Figure size 640x480 with 1 Axes>"
      ]
     },
     "metadata": {},
     "output_type": "display_data"
    },
    {
     "name": "stdout",
     "output_type": "stream",
     "text": [
      "Mann-Whitney-U test\n",
      "dict_keys(['obj_7', 'obj_1', 'obj_5', 'obj_3', 'lowest', 'obj_11', 'obj_6', 'obj_10', 'obj_8', 'average', 'obj_2', 'obj_9', 'obj_4'])\n",
      "For obj_7, U-statistic is 41207.50 and the p-value is 0.00\n",
      "For obj_1, U-statistic is 38070.50 and the p-value is 0.00\n",
      "For obj_5, U-statistic is 39848.50 and the p-value is 0.00\n",
      "For obj_3, U-statistic is 32294.00 and the p-value is 0.03\n",
      "For lowest, U-statistic is 47705.50 and the p-value is 0.00\n",
      "For obj_11, U-statistic is 40525.00 and the p-value is 0.00\n",
      "For obj_6, U-statistic is 41644.00 and the p-value is 0.00\n",
      "For obj_10, U-statistic is 43456.00 and the p-value is 0.00\n",
      "For obj_8, U-statistic is 48081.00 and the p-value is 0.00\n",
      "For average, U-statistic is 46411.50 and the p-value is 0.00\n",
      "For obj_2, U-statistic is 44535.00 and the p-value is 0.00\n",
      "For obj_9, U-statistic is 35154.50 and the p-value is 0.00\n",
      "For obj_4, U-statistic is 44340.50 and the p-value is 0.00\n",
      "\n",
      "\n",
      "range of scores\n",
      "{'obj_7': (0, 100), 'obj_1': (50, 100), 'obj_5': (0, 100), 'obj_3': (0, 100), 'lowest': (0, 100), 'obj_11': (0, 100), 'obj_6': (0, 100), 'obj_10': (0, 100), 'obj_8': (0, 100), 'average': (4.545454545454546, 100.0), 'obj_2': (0, 100), 'obj_9': (0, 100), 'obj_4': (0, 100)}\n",
      "\n",
      "\n",
      "Standard dev. of scores\n",
      "{'obj_7': 14.045511750645039, 'obj_1': 7.568299599243618, 'obj_5': 11.742434512789192, 'obj_3': 8.704465009714365, 'lowest': 23.41596431134878, 'obj_11': 25.62734332005925, 'obj_6': 12.417990535251747, 'obj_10': 12.112854946256425, 'obj_8': 15.947237830768744, 'average': 11.018149133981252, 'obj_2': 12.201829308592092, 'obj_9': 15.393540236155637, 'obj_4': 13.646569720125367}\n",
      "Compare the averages of groups with correct or incorrect answer\n"
     ]
    },
    {
     "data": {
      "text/html": [
       "<div>\n",
       "<style scoped>\n",
       "    .dataframe tbody tr th:only-of-type {\n",
       "        vertical-align: middle;\n",
       "    }\n",
       "\n",
       "    .dataframe tbody tr th {\n",
       "        vertical-align: top;\n",
       "    }\n",
       "\n",
       "    .dataframe thead th {\n",
       "        text-align: right;\n",
       "    }\n",
       "</style>\n",
       "<table border=\"1\" class=\"dataframe\">\n",
       "  <thead>\n",
       "    <tr style=\"text-align: right;\">\n",
       "      <th></th>\n",
       "      <th>Average_true</th>\n",
       "      <th>Average_false</th>\n",
       "      <th>Difference</th>\n",
       "    </tr>\n",
       "  </thead>\n",
       "  <tbody>\n",
       "    <tr>\n",
       "      <th>obj_1</th>\n",
       "      <td>97.354949</td>\n",
       "      <td>93.737864</td>\n",
       "      <td>3.617085</td>\n",
       "    </tr>\n",
       "    <tr>\n",
       "      <th>obj_2</th>\n",
       "      <td>95.580205</td>\n",
       "      <td>85.412621</td>\n",
       "      <td>10.167583</td>\n",
       "    </tr>\n",
       "    <tr>\n",
       "      <th>obj_3</th>\n",
       "      <td>98.122867</td>\n",
       "      <td>95.946602</td>\n",
       "      <td>2.176265</td>\n",
       "    </tr>\n",
       "    <tr>\n",
       "      <th>obj_4</th>\n",
       "      <td>95.119454</td>\n",
       "      <td>83.737864</td>\n",
       "      <td>11.381590</td>\n",
       "    </tr>\n",
       "    <tr>\n",
       "      <th>obj_5</th>\n",
       "      <td>94.897611</td>\n",
       "      <td>88.640777</td>\n",
       "      <td>6.256834</td>\n",
       "    </tr>\n",
       "    <tr>\n",
       "      <th>obj_6</th>\n",
       "      <td>94.419795</td>\n",
       "      <td>86.043689</td>\n",
       "      <td>8.376106</td>\n",
       "    </tr>\n",
       "    <tr>\n",
       "      <th>obj_7</th>\n",
       "      <td>87.849829</td>\n",
       "      <td>78.446602</td>\n",
       "      <td>9.403227</td>\n",
       "    </tr>\n",
       "    <tr>\n",
       "      <th>obj_8</th>\n",
       "      <td>95.409556</td>\n",
       "      <td>80.097087</td>\n",
       "      <td>15.312469</td>\n",
       "    </tr>\n",
       "    <tr>\n",
       "      <th>obj_9</th>\n",
       "      <td>88.634812</td>\n",
       "      <td>82.572816</td>\n",
       "      <td>6.061997</td>\n",
       "    </tr>\n",
       "    <tr>\n",
       "      <th>obj_10</th>\n",
       "      <td>95.921502</td>\n",
       "      <td>86.674757</td>\n",
       "      <td>9.246744</td>\n",
       "    </tr>\n",
       "    <tr>\n",
       "      <th>obj_11</th>\n",
       "      <td>97.440273</td>\n",
       "      <td>78.203883</td>\n",
       "      <td>19.236390</td>\n",
       "    </tr>\n",
       "    <tr>\n",
       "      <th>average</th>\n",
       "      <td>94.613714</td>\n",
       "      <td>85.410415</td>\n",
       "      <td>9.203299</td>\n",
       "    </tr>\n",
       "  </tbody>\n",
       "</table>\n",
       "</div>"
      ],
      "text/plain": [
       "         Average_true  Average_false  Difference\n",
       "obj_1       97.354949      93.737864    3.617085\n",
       "obj_2       95.580205      85.412621   10.167583\n",
       "obj_3       98.122867      95.946602    2.176265\n",
       "obj_4       95.119454      83.737864   11.381590\n",
       "obj_5       94.897611      88.640777    6.256834\n",
       "obj_6       94.419795      86.043689    8.376106\n",
       "obj_7       87.849829      78.446602    9.403227\n",
       "obj_8       95.409556      80.097087   15.312469\n",
       "obj_9       88.634812      82.572816    6.061997\n",
       "obj_10      95.921502      86.674757    9.246744\n",
       "obj_11      97.440273      78.203883   19.236390\n",
       "average     94.613714      85.410415    9.203299"
      ]
     },
     "execution_count": 30,
     "metadata": {},
     "output_type": "execute_result"
    }
   ],
   "source": [
    "#GPT-3.5 supervised by GPT-4\n",
    "\n",
    "data_400 = Collection.from_json(\"./med_qa_400_first_gpt-3.5-turbo_gpt-4.json\")\n",
    "data_100 = Collection.from_json(\"./med_qa_first_gpt-3.5-turbo_gpt-4.json\")\n",
    "data_500 = data_400.merge(data_100)\n",
    "data = data_500\n",
    "scores_per_item, variables_per_item, filtered_lowest_tuples, scores_with_indicator = parse_data(data,idx_cot=1,dataset='med_qa',split='test')\n",
    "scores_per_item = fix_str_score(scores_per_item)\n",
    "scores_per_objective, df = get_further_data(scores_per_item)\n",
    "average_per_item = [sum(d.values()) / len(d) for d in scores_per_item]\n",
    "print(\"\\n\")\n",
    "print(\"Average over objectives for all items\")\n",
    "print(df)\n",
    "print(\"\\n\")\n",
    "\n",
    "#print(\"Average over objectives separated by items with correct / incorrect answers\") #see compare_true_false\n",
    "freq_bar_plot(scores_per_item)\n",
    "# avg_item_plot(scores_per_objective)\n",
    "\n",
    "print(\"Mann-Whitney-U test\")\n",
    "scores_per_objective_true,scores_per_objective_false = u_test(scores_with_indicator)\n",
    "print(\"\\n\")\n",
    "# print(\"Frequency where objective is lowest scored for items with false answer\")\n",
    "# print(dict(sorted(count_keys(scores_false).items(), key=lambda x: -x[1])))\n",
    "# print(\"\\n\")\n",
    "# print(\"Frequency where objective is lowest scored for items with correct answer\")\n",
    "# print(dict(sorted(count_keys(scores_true).items(), key=lambda x: -x[1])))\n",
    "# print(\"\\n\")\n",
    "\n",
    "range_data = {key: (min(value),max(value)) for key, value in scores_per_objective.items()}\n",
    "print(\"range of scores\")\n",
    "print(range_data)\n",
    "print(\"\\n\")\n",
    "print(\"Standard dev. of scores\")\n",
    "print(standard_deviation(scores_per_objective))\n",
    "print(\"Compare the averages of groups with correct or incorrect answer\")\n",
    "compare_true_false(scores_per_objective_true,scores_per_objective_false)"
   ]
  },
  {
   "cell_type": "code",
   "execution_count": 31,
   "metadata": {},
   "outputs": [
    {
     "data": {
      "application/vnd.jupyter.widget-view+json": {
       "model_id": "016d69114805488f8ec7ba25d1dbf769",
       "version_major": 2,
       "version_minor": 0
      },
      "text/plain": [
       "Creating json from Arrow format:   0%|          | 0/1 [00:00<?, ?ba/s]"
      ]
     },
     "metadata": {},
     "output_type": "display_data"
    },
    {
     "data": {
      "application/vnd.jupyter.widget-view+json": {
       "model_id": "01cfc5b1185140869a3ec47e92be16e9",
       "version_major": 2,
       "version_minor": 0
      },
      "text/plain": [
       "Creating json from Arrow format:   0%|          | 0/1 [00:00<?, ?ba/s]"
      ]
     },
     "metadata": {},
     "output_type": "display_data"
    },
    {
     "data": {
      "application/vnd.jupyter.widget-view+json": {
       "model_id": "59ee976bc1d34704bebd610db6870b16",
       "version_major": 2,
       "version_minor": 0
      },
      "text/plain": [
       "  0%|          | 0/400 [00:00<?, ?ex/s]"
      ]
     },
     "metadata": {},
     "output_type": "display_data"
    },
    {
     "data": {
      "application/vnd.jupyter.widget-view+json": {
       "model_id": "a87fc249370e416c8441d796c2554e0f",
       "version_major": 2,
       "version_minor": 0
      },
      "text/plain": [
       "  0%|          | 0/1 [00:00<?, ?ba/s]"
      ]
     },
     "metadata": {},
     "output_type": "display_data"
    },
    {
     "data": {
      "application/vnd.jupyter.widget-view+json": {
       "model_id": "df72da64252c414aad3698e63ee01d5e",
       "version_major": 2,
       "version_minor": 0
      },
      "text/plain": [
       "  0%|          | 0/1 [00:00<?, ?ba/s]"
      ]
     },
     "metadata": {},
     "output_type": "display_data"
    },
    {
     "name": "stdout",
     "output_type": "stream",
     "text": [
      "wrong output found\n",
      "non_int data found... continue\n",
      "{'obj_1': '100%', 'obj_2': '100%', 'obj_3': '100%', 'obj_4': '90%', 'obj_5': '90%', 'obj_6': '90%', 'obj_7': '80%', 'obj_8': '90%', 'obj_9': '80%', 'obj_10': '90%', 'obj_11': '100%', 'lowest': 'None', 'average': 'None'}\n",
      "(['obj_4'], True)\n",
      "\n",
      "\n",
      "Average over objectives for all items\n",
      "          Average\n",
      "obj_1   88.966942\n",
      "obj_2   95.523416\n",
      "obj_3   90.399449\n",
      "obj_4   87.975207\n",
      "obj_5   82.258953\n",
      "obj_6   85.206612\n",
      "obj_7   84.159780\n",
      "obj_8   91.694215\n",
      "obj_9   77.162534\n",
      "obj_10  87.107438\n",
      "obj_11  95.730028\n",
      "\n",
      "\n"
     ]
    },
    {
     "data": {
      "image/png": "[encoded data removed]",
      "text/plain": [
       "<Figure size 640x480 with 1 Axes>"
      ]
     },
     "metadata": {},
     "output_type": "display_data"
    },
    {
     "name": "stdout",
     "output_type": "stream",
     "text": [
      "Mann-Whitney-U test\n",
      "dict_keys(['obj_7', 'obj_1', 'obj_5', 'obj_3', 'lowest', 'obj_11', 'obj_6', 'obj_10', 'obj_8', 'average', 'obj_2', 'obj_9', 'obj_4'])\n",
      "For obj_7, U-statistic is 18759.00 and the p-value is 0.02\n",
      "For obj_1, U-statistic is 18710.00 and the p-value is 0.02\n",
      "For obj_5, U-statistic is 18536.50 and the p-value is 0.03\n",
      "For obj_3, U-statistic is 18656.50 and the p-value is 0.02\n",
      "For lowest, U-statistic is 18712.50 and the p-value is 0.02\n",
      "For obj_11, U-statistic is 18908.50 and the p-value is 0.00\n",
      "For obj_6, U-statistic is 18843.50 and the p-value is 0.01\n",
      "For obj_10, U-statistic is 18866.00 and the p-value is 0.01\n",
      "For obj_8, U-statistic is 19242.00 and the p-value is 0.00\n",
      "For average, U-statistic is 19487.50 and the p-value is 0.00\n",
      "For obj_2, U-statistic is 18262.00 and the p-value is 0.04\n",
      "For obj_9, U-statistic is 18486.00 and the p-value is 0.04\n",
      "For obj_4, U-statistic is 19607.00 and the p-value is 0.00\n",
      "range of scores\n",
      "{'obj_7': (50, 100), 'obj_1': (50, 100), 'obj_5': (50, 100), 'obj_3': (50, 100), 'lowest': (50, 100), 'obj_11': (50, 100), 'obj_6': (50, 100), 'obj_10': (50, 100), 'obj_8': (50, 100), 'average': (52.27272727272727, 100.0), 'obj_2': (70, 100), 'obj_9': (50, 100), 'obj_4': (50, 100)}\n",
      "\n",
      "\n",
      "Standard dev. of scores\n",
      "{'obj_7': 12.356215335201158, 'obj_1': 9.582097041756512, 'obj_5': 12.196328856469428, 'obj_3': 9.550256698671355, 'lowest': 12.544807292523284, 'obj_11': 6.236929470962322, 'obj_6': 9.862242319558973, 'obj_10': 9.158338578451664, 'obj_8': 7.439081852996328, 'average': 8.363803736899959, 'obj_2': 5.599563658066448, 'obj_9': 12.60068954400145, 'obj_4': 9.625124934182942}\n",
      "Compare the averages of groups with correct or incorrect answer\n"
     ]
    },
    {
     "data": {
      "text/html": [
       "<div>\n",
       "<style scoped>\n",
       "    .dataframe tbody tr th:only-of-type {\n",
       "        vertical-align: middle;\n",
       "    }\n",
       "\n",
       "    .dataframe tbody tr th {\n",
       "        vertical-align: top;\n",
       "    }\n",
       "\n",
       "    .dataframe thead th {\n",
       "        text-align: right;\n",
       "    }\n",
       "</style>\n",
       "<table border=\"1\" class=\"dataframe\">\n",
       "  <thead>\n",
       "    <tr style=\"text-align: right;\">\n",
       "      <th></th>\n",
       "      <th>Average_true</th>\n",
       "      <th>Average_false</th>\n",
       "      <th>Difference</th>\n",
       "    </tr>\n",
       "  </thead>\n",
       "  <tbody>\n",
       "    <tr>\n",
       "      <th>obj_1</th>\n",
       "      <td>89.680851</td>\n",
       "      <td>87.285714</td>\n",
       "      <td>2.395137</td>\n",
       "    </tr>\n",
       "    <tr>\n",
       "      <th>obj_2</th>\n",
       "      <td>95.808511</td>\n",
       "      <td>94.785714</td>\n",
       "      <td>1.022796</td>\n",
       "    </tr>\n",
       "    <tr>\n",
       "      <th>obj_3</th>\n",
       "      <td>91.021277</td>\n",
       "      <td>88.928571</td>\n",
       "      <td>2.092705</td>\n",
       "    </tr>\n",
       "    <tr>\n",
       "      <th>obj_4</th>\n",
       "      <td>89.021277</td>\n",
       "      <td>85.892857</td>\n",
       "      <td>3.128419</td>\n",
       "    </tr>\n",
       "    <tr>\n",
       "      <th>obj_5</th>\n",
       "      <td>83.106383</td>\n",
       "      <td>80.392857</td>\n",
       "      <td>2.713526</td>\n",
       "    </tr>\n",
       "    <tr>\n",
       "      <th>obj_6</th>\n",
       "      <td>86.063830</td>\n",
       "      <td>83.464286</td>\n",
       "      <td>2.599544</td>\n",
       "    </tr>\n",
       "    <tr>\n",
       "      <th>obj_7</th>\n",
       "      <td>85.042553</td>\n",
       "      <td>82.107143</td>\n",
       "      <td>2.935410</td>\n",
       "    </tr>\n",
       "    <tr>\n",
       "      <th>obj_8</th>\n",
       "      <td>92.425532</td>\n",
       "      <td>90.285714</td>\n",
       "      <td>2.139818</td>\n",
       "    </tr>\n",
       "    <tr>\n",
       "      <th>obj_9</th>\n",
       "      <td>77.936170</td>\n",
       "      <td>75.250000</td>\n",
       "      <td>2.686170</td>\n",
       "    </tr>\n",
       "    <tr>\n",
       "      <th>obj_10</th>\n",
       "      <td>87.829787</td>\n",
       "      <td>85.500000</td>\n",
       "      <td>2.329787</td>\n",
       "    </tr>\n",
       "    <tr>\n",
       "      <th>obj_11</th>\n",
       "      <td>96.170213</td>\n",
       "      <td>94.714286</td>\n",
       "      <td>1.455927</td>\n",
       "    </tr>\n",
       "    <tr>\n",
       "      <th>average</th>\n",
       "      <td>88.555126</td>\n",
       "      <td>86.237013</td>\n",
       "      <td>2.318113</td>\n",
       "    </tr>\n",
       "  </tbody>\n",
       "</table>\n",
       "</div>"
      ],
      "text/plain": [
       "         Average_true  Average_false  Difference\n",
       "obj_1       89.680851      87.285714    2.395137\n",
       "obj_2       95.808511      94.785714    1.022796\n",
       "obj_3       91.021277      88.928571    2.092705\n",
       "obj_4       89.021277      85.892857    3.128419\n",
       "obj_5       83.106383      80.392857    2.713526\n",
       "obj_6       86.063830      83.464286    2.599544\n",
       "obj_7       85.042553      82.107143    2.935410\n",
       "obj_8       92.425532      90.285714    2.139818\n",
       "obj_9       77.936170      75.250000    2.686170\n",
       "obj_10      87.829787      85.500000    2.329787\n",
       "obj_11      96.170213      94.714286    1.455927\n",
       "average     88.555126      86.237013    2.318113"
      ]
     },
     "execution_count": 31,
     "metadata": {},
     "output_type": "execute_result"
    }
   ],
   "source": [
    "#GPT-3.5 supervised by GPT-3.5\n",
    "\n",
    "data_400 = Collection.from_json(\"./med_qa_400_first_gpt-3.5-turbo_gpt-3.5-turbo.json\")\n",
    "data_100 = Collection.from_json(\"./med_qa_first_gpt-3.5-turbo_gpt-3.5-turbo.json\")\n",
    "data_500 = data_400.merge(data_100)\n",
    "data_500 = generate_without_none_ans(data_500)\n",
    "data = data_500\n",
    "\n",
    "scores_per_item, variables_per_item, filtered_lowest_tuples, scores_with_indicator = parse_data(data,idx_cot=1,dataset='med_qa',split='test')\n",
    "scores_per_item = fix_str_score(scores_per_item)\n",
    "scores_per_objective, df = get_further_data(scores_per_item)\n",
    "average_per_item = [sum(d.values()) / len(d) for d in scores_per_item]\n",
    "print(\"\\n\")\n",
    "print(\"Average over objectives for all items\")\n",
    "print(df)\n",
    "print(\"\\n\")\n",
    "\n",
    "#print(\"Average over objectives separated by items with correct / incorrect answers\") #see compare_true_false\n",
    "freq_bar_plot(scores_per_item)\n",
    "# avg_item_plot(scores_per_objective)\n",
    "\n",
    "print(\"Mann-Whitney-U test\")\n",
    "scores_per_objective_true,scores_per_objective_false = u_test(scores_with_indicator)\n",
    "# print(\"\\n\")\n",
    "# print(\"Frequency where objective is lowest scored for items with false answer\")\n",
    "# print(dict(sorted(count_keys(scores_false).items(), key=lambda x: -x[1])))\n",
    "# print(\"\\n\")\n",
    "# print(\"Frequency where objective is lowest scored for items with correct answer\")\n",
    "# print(dict(sorted(count_keys(scores_true).items(), key=lambda x: -x[1])))\n",
    "# print(\"\\n\")\n",
    "\n",
    "range_data = {key: (min(value),max(value)) for key, value in scores_per_objective.items()}\n",
    "print(\"range of scores\")\n",
    "print(range_data)\n",
    "print(\"\\n\")\n",
    "print(\"Standard dev. of scores\")\n",
    "print(standard_deviation(scores_per_objective))\n",
    "print(\"Compare the averages of groups with correct or incorrect answer\")\n",
    "compare_true_false(scores_per_objective_true,scores_per_objective_false)"
   ]
  },
  {
   "cell_type": "code",
   "execution_count": 32,
   "metadata": {},
   "outputs": [
    {
     "data": {
      "application/vnd.jupyter.widget-view+json": {
       "model_id": "3763a966da7944e6b4773d1830717043",
       "version_major": 2,
       "version_minor": 0
      },
      "text/plain": [
       "Creating json from Arrow format:   0%|          | 0/1 [00:00<?, ?ba/s]"
      ]
     },
     "metadata": {},
     "output_type": "display_data"
    },
    {
     "data": {
      "application/vnd.jupyter.widget-view+json": {
       "model_id": "32b2a10681334476b0784dbc1786c1a8",
       "version_major": 2,
       "version_minor": 0
      },
      "text/plain": [
       "Creating json from Arrow format:   0%|          | 0/1 [00:00<?, ?ba/s]"
      ]
     },
     "metadata": {},
     "output_type": "display_data"
    },
    {
     "data": {
      "application/vnd.jupyter.widget-view+json": {
       "model_id": "b7238a720dce4650a423c450e0267ff1",
       "version_major": 2,
       "version_minor": 0
      },
      "text/plain": [
       "  0%|          | 0/500 [00:00<?, ?ex/s]"
      ]
     },
     "metadata": {},
     "output_type": "display_data"
    },
    {
     "data": {
      "application/vnd.jupyter.widget-view+json": {
       "model_id": "48e92f7ed802431fb0e49944f0416d5c",
       "version_major": 2,
       "version_minor": 0
      },
      "text/plain": [
       "  0%|          | 0/1 [00:00<?, ?ba/s]"
      ]
     },
     "metadata": {},
     "output_type": "display_data"
    },
    {
     "data": {
      "application/vnd.jupyter.widget-view+json": {
       "model_id": "aed3f6e0da0e4c1c9644bae1713e3f05",
       "version_major": 2,
       "version_minor": 0
      },
      "text/plain": [
       "  0%|          | 0/1 [00:00<?, ?ba/s]"
      ]
     },
     "metadata": {},
     "output_type": "display_data"
    },
    {
     "name": "stdout",
     "output_type": "stream",
     "text": [
      "\n",
      "\n",
      "(['obj_1', 'obj_2', 'obj_3', 'obj_4', 'obj_5', 'obj_6', 'obj_7', 'obj_8', 'obj_9', 'obj_10', 'obj_11'], False)\n",
      "Average over objectives for all items\n",
      "          Average\n",
      "obj_1   99.465726\n",
      "obj_2   97.651210\n",
      "obj_3   99.818548\n",
      "obj_4   98.356855\n",
      "obj_5   99.143145\n",
      "obj_6   98.417339\n",
      "obj_7   89.858871\n",
      "obj_8   97.872984\n",
      "obj_9   92.993952\n",
      "obj_10  98.971774\n",
      "obj_11  98.387097\n",
      "\n",
      "\n"
     ]
    },
    {
     "data": {
      "image/png": "[encoded data removed]",
      "text/plain": [
       "<Figure size 640x480 with 1 Axes>"
      ]
     },
     "metadata": {},
     "output_type": "display_data"
    },
    {
     "name": "stdout",
     "output_type": "stream",
     "text": [
      "Mann-Whitney-U test\n",
      "dict_keys(['obj_7', 'obj_1', 'obj_5', 'obj_3', 'lowest', 'obj_11', 'obj_6', 'obj_10', 'obj_8', 'average', 'obj_2', 'obj_9', 'obj_4'])\n",
      "For obj_7, U-statistic is 24568.50 and the p-value is 0.00\n",
      "For obj_1, U-statistic is 21623.00 and the p-value is 0.00\n",
      "For obj_5, U-statistic is 21667.00 and the p-value is 0.00\n",
      "For obj_3, U-statistic is 20095.00 and the p-value is 0.30\n",
      "For lowest, U-statistic is 24266.50 and the p-value is 0.00\n",
      "For obj_11, U-statistic is 21230.50 and the p-value is 0.00\n",
      "For obj_6, U-statistic is 23916.50 and the p-value is 0.00\n",
      "For obj_10, U-statistic is 22587.50 and the p-value is 0.00\n",
      "For obj_8, U-statistic is 24165.50 and the p-value is 0.00\n",
      "For average, U-statistic is 24702.50 and the p-value is 0.00\n",
      "For obj_2, U-statistic is 23967.00 and the p-value is 0.00\n",
      "For obj_9, U-statistic is 20227.50 and the p-value is 0.80\n",
      "For obj_4, U-statistic is 23153.50 and the p-value is 0.00\n",
      "range of scores\n",
      "{'obj_7': (50, 100), 'obj_1': (80, 100), 'obj_5': (80, 100), 'obj_3': (40, 100), 'lowest': (0, 100), 'obj_11': (0, 100), 'obj_6': (70, 100), 'obj_10': (80, 100), 'obj_8': (50, 100), 'average': (71.81818181818181, 100.0), 'obj_2': (70, 100), 'obj_9': (70, 100), 'obj_4': (70, 100)}\n",
      "\n",
      "\n",
      "Standard dev. of scores\n",
      "{'obj_7': 7.666023815965675, 'obj_1': 2.3283137951544246, 'obj_5': 3.381720527237619, 'obj_3': 3.009637501188996, 'lowest': 11.236301895496458, 'obj_11': 9.899462021843812, 'obj_6': 4.858110138247885, 'obj_10': 3.5747726744732864, 'obj_8': 6.618156535396535, 'average': 3.751258936630506, 'obj_2': 5.753990143728815, 'obj_9': 5.9592864217320365, 'obj_4': 5.219589498458769}\n",
      "\n",
      "\n",
      "Compare the averages of groups with correct or incorrect answer\n"
     ]
    },
    {
     "data": {
      "text/html": [
       "<div>\n",
       "<style scoped>\n",
       "    .dataframe tbody tr th:only-of-type {\n",
       "        vertical-align: middle;\n",
       "    }\n",
       "\n",
       "    .dataframe tbody tr th {\n",
       "        vertical-align: top;\n",
       "    }\n",
       "\n",
       "    .dataframe thead th {\n",
       "        text-align: right;\n",
       "    }\n",
       "</style>\n",
       "<table border=\"1\" class=\"dataframe\">\n",
       "  <thead>\n",
       "    <tr style=\"text-align: right;\">\n",
       "      <th></th>\n",
       "      <th>Average_true</th>\n",
       "      <th>Average_false</th>\n",
       "      <th>Difference</th>\n",
       "    </tr>\n",
       "  </thead>\n",
       "  <tbody>\n",
       "    <tr>\n",
       "      <th>obj_1</th>\n",
       "      <td>99.658228</td>\n",
       "      <td>98.712871</td>\n",
       "      <td>0.945357</td>\n",
       "    </tr>\n",
       "    <tr>\n",
       "      <th>obj_2</th>\n",
       "      <td>98.354430</td>\n",
       "      <td>94.900990</td>\n",
       "      <td>3.453440</td>\n",
       "    </tr>\n",
       "    <tr>\n",
       "      <th>obj_3</th>\n",
       "      <td>99.924051</td>\n",
       "      <td>99.405941</td>\n",
       "      <td>0.518110</td>\n",
       "    </tr>\n",
       "    <tr>\n",
       "      <th>obj_4</th>\n",
       "      <td>98.924051</td>\n",
       "      <td>96.138614</td>\n",
       "      <td>2.785437</td>\n",
       "    </tr>\n",
       "    <tr>\n",
       "      <th>obj_5</th>\n",
       "      <td>99.316456</td>\n",
       "      <td>98.465347</td>\n",
       "      <td>0.851109</td>\n",
       "    </tr>\n",
       "    <tr>\n",
       "      <th>obj_6</th>\n",
       "      <td>99.012658</td>\n",
       "      <td>96.089109</td>\n",
       "      <td>2.923549</td>\n",
       "    </tr>\n",
       "    <tr>\n",
       "      <th>obj_7</th>\n",
       "      <td>90.708861</td>\n",
       "      <td>86.534653</td>\n",
       "      <td>4.174207</td>\n",
       "    </tr>\n",
       "    <tr>\n",
       "      <th>obj_8</th>\n",
       "      <td>98.696203</td>\n",
       "      <td>94.653465</td>\n",
       "      <td>4.042737</td>\n",
       "    </tr>\n",
       "    <tr>\n",
       "      <th>obj_9</th>\n",
       "      <td>93.050633</td>\n",
       "      <td>92.772277</td>\n",
       "      <td>0.278356</td>\n",
       "    </tr>\n",
       "    <tr>\n",
       "      <th>obj_10</th>\n",
       "      <td>99.341772</td>\n",
       "      <td>97.524752</td>\n",
       "      <td>1.817020</td>\n",
       "    </tr>\n",
       "    <tr>\n",
       "      <th>obj_11</th>\n",
       "      <td>99.088608</td>\n",
       "      <td>95.643564</td>\n",
       "      <td>3.445043</td>\n",
       "    </tr>\n",
       "    <tr>\n",
       "      <th>average</th>\n",
       "      <td>97.825086</td>\n",
       "      <td>95.531053</td>\n",
       "      <td>2.294033</td>\n",
       "    </tr>\n",
       "  </tbody>\n",
       "</table>\n",
       "</div>"
      ],
      "text/plain": [
       "         Average_true  Average_false  Difference\n",
       "obj_1       99.658228      98.712871    0.945357\n",
       "obj_2       98.354430      94.900990    3.453440\n",
       "obj_3       99.924051      99.405941    0.518110\n",
       "obj_4       98.924051      96.138614    2.785437\n",
       "obj_5       99.316456      98.465347    0.851109\n",
       "obj_6       99.012658      96.089109    2.923549\n",
       "obj_7       90.708861      86.534653    4.174207\n",
       "obj_8       98.696203      94.653465    4.042737\n",
       "obj_9       93.050633      92.772277    0.278356\n",
       "obj_10      99.341772      97.524752    1.817020\n",
       "obj_11      99.088608      95.643564    3.445043\n",
       "average     97.825086      95.531053    2.294033"
      ]
     },
     "execution_count": 32,
     "metadata": {},
     "output_type": "execute_result"
    }
   ],
   "source": [
    "# GPT-4 supervised by GPT-4\n",
    "data_400 = Collection.from_json(\"./med_qa_400_first_gpt-4_gpt-4.json\")\n",
    "data_100 = Collection.from_json(\"./med_qa_first_gpt-4_gpt-4.json\")\n",
    "data_500 = data_400.merge(data_100)\n",
    "data_500 = generate_without_none_ans(data_500)\n",
    "data = data_500\n",
    "print(\"\\n\")\n",
    "scores_per_item, variables_per_item, filtered_lowest_tuples, scores_with_indicator = parse_data(data,idx_cot=1,dataset='med_qa',split='test')\n",
    "scores_per_item = fix_str_score(scores_per_item)\n",
    "scores_per_objective, df = get_further_data(scores_per_item)\n",
    "average_per_item = [sum(d.values()) / len(d) for d in scores_per_item]\n",
    "\n",
    "print(\"Average over objectives for all items\")\n",
    "print(df)\n",
    "print(\"\\n\")\n",
    "\n",
    "#print(\"Average over objectives separated by items with correct / incorrect answers\") #see compare_true_false\n",
    "freq_bar_plot(scores_per_item)\n",
    "# avg_item_plot(scores_per_objective)\n",
    "\n",
    "print(\"Mann-Whitney-U test\")\n",
    "scores_per_objective_true,scores_per_objective_false = u_test(scores_with_indicator)\n",
    "# print(\"\\n\")\n",
    "# print(\"Frequency where objective is lowest scored for items with false answer\")\n",
    "# print(dict(sorted(count_keys(scores_false).items(), key=lambda x: -x[1])))\n",
    "# print(\"\\n\")\n",
    "# print(\"Frequency where objective is lowest scored for items with correct answer\")\n",
    "# print(dict(sorted(count_keys(scores_true).items(), key=lambda x: -x[1])))\n",
    "# print(\"\\n\")\n",
    "\n",
    "range_data = {key: (min(value),max(value)) for key, value in scores_per_objective.items()}\n",
    "print(\"range of scores\")\n",
    "print(range_data)\n",
    "print(\"\\n\")\n",
    "print(\"Standard dev. of scores\")\n",
    "print(standard_deviation(scores_per_objective))\n",
    "print(\"\\n\")\n",
    "print(\"Compare the averages of groups with correct or incorrect answer\")\n",
    "compare_true_false(scores_per_objective_true,scores_per_objective_false)"
   ]
  },
  {
   "attachments": {},
   "cell_type": "markdown",
   "metadata": {},
   "source": [
    "## results indicative of true/false?"
   ]
  },
  {
   "cell_type": "code",
   "execution_count": 109,
   "metadata": {},
   "outputs": [
    {
     "data": {
      "application/vnd.jupyter.widget-view+json": {
       "model_id": "f1b319259f3549c19f4576ee51f4834c",
       "version_major": 2,
       "version_minor": 0
      },
      "text/plain": [
       "Creating json from Arrow format:   0%|          | 0/1 [00:00<?, ?ba/s]"
      ]
     },
     "metadata": {},
     "output_type": "display_data"
    },
    {
     "data": {
      "application/vnd.jupyter.widget-view+json": {
       "model_id": "f65ffbe57970462da9b2f9ca2a10e9e8",
       "version_major": 2,
       "version_minor": 0
      },
      "text/plain": [
       "Creating json from Arrow format:   0%|          | 0/1 [00:00<?, ?ba/s]"
      ]
     },
     "metadata": {},
     "output_type": "display_data"
    },
    {
     "name": "stdout",
     "output_type": "stream",
     "text": [
      "non_int data found... continue\n",
      "{'obj_1': 100, 'obj_2': 100, 'obj_3': 'N/A', 'obj_4': 100, 'obj_5': 70, 'obj_6': 90, 'obj_7': 100, 'obj_8': 100, 'obj_9': 100, 'obj_10': 100, 'obj_11': 100, 'lowest': 'None', 'average': 'None'}\n",
      "(['obj_1', 'obj_2', 'obj_3', 'obj_4', 'obj_5', 'obj_6', 'obj_7', 'obj_8', 'obj_9', 'obj_10', 'obj_11'], True)\n",
      "dict_keys(['obj_8', 'obj_11', 'obj_3', 'obj_2', 'average', 'obj_5', 'obj_10', 'obj_7', 'obj_6', 'obj_9', 'obj_4', 'lowest', 'obj_1'])\n",
      "For obj_8, U-statistic is 48081.00 and the p-value is 0.00\n",
      "For obj_11, U-statistic is 40525.00 and the p-value is 0.00\n",
      "For obj_3, U-statistic is 32294.00 and the p-value is 0.03\n",
      "For obj_2, U-statistic is 44535.00 and the p-value is 0.00\n",
      "For average, U-statistic is 46411.50 and the p-value is 0.00\n",
      "For obj_5, U-statistic is 39848.50 and the p-value is 0.00\n",
      "For obj_10, U-statistic is 43456.00 and the p-value is 0.00\n",
      "For obj_7, U-statistic is 41207.50 and the p-value is 0.00\n",
      "For obj_6, U-statistic is 41644.00 and the p-value is 0.00\n",
      "For obj_9, U-statistic is 35154.50 and the p-value is 0.00\n",
      "For obj_4, U-statistic is 44340.50 and the p-value is 0.00\n",
      "For lowest, U-statistic is 47705.50 and the p-value is 0.00\n",
      "For obj_1, U-statistic is 38070.50 and the p-value is 0.00\n"
     ]
    },
    {
     "data": {
      "text/html": [
       "<div>\n",
       "<style scoped>\n",
       "    .dataframe tbody tr th:only-of-type {\n",
       "        vertical-align: middle;\n",
       "    }\n",
       "\n",
       "    .dataframe tbody tr th {\n",
       "        vertical-align: top;\n",
       "    }\n",
       "\n",
       "    .dataframe thead th {\n",
       "        text-align: right;\n",
       "    }\n",
       "</style>\n",
       "<table border=\"1\" class=\"dataframe\">\n",
       "  <thead>\n",
       "    <tr style=\"text-align: right;\">\n",
       "      <th></th>\n",
       "      <th>Average_true</th>\n",
       "      <th>Average_false</th>\n",
       "      <th>Difference</th>\n",
       "    </tr>\n",
       "  </thead>\n",
       "  <tbody>\n",
       "    <tr>\n",
       "      <th>obj_1</th>\n",
       "      <td>97.354949</td>\n",
       "      <td>93.737864</td>\n",
       "      <td>3.617085</td>\n",
       "    </tr>\n",
       "    <tr>\n",
       "      <th>obj_2</th>\n",
       "      <td>95.580205</td>\n",
       "      <td>85.412621</td>\n",
       "      <td>10.167583</td>\n",
       "    </tr>\n",
       "    <tr>\n",
       "      <th>obj_3</th>\n",
       "      <td>98.122867</td>\n",
       "      <td>95.946602</td>\n",
       "      <td>2.176265</td>\n",
       "    </tr>\n",
       "    <tr>\n",
       "      <th>obj_4</th>\n",
       "      <td>95.119454</td>\n",
       "      <td>83.737864</td>\n",
       "      <td>11.381590</td>\n",
       "    </tr>\n",
       "    <tr>\n",
       "      <th>obj_5</th>\n",
       "      <td>94.897611</td>\n",
       "      <td>88.640777</td>\n",
       "      <td>6.256834</td>\n",
       "    </tr>\n",
       "    <tr>\n",
       "      <th>obj_6</th>\n",
       "      <td>94.419795</td>\n",
       "      <td>86.043689</td>\n",
       "      <td>8.376106</td>\n",
       "    </tr>\n",
       "    <tr>\n",
       "      <th>obj_7</th>\n",
       "      <td>87.849829</td>\n",
       "      <td>78.446602</td>\n",
       "      <td>9.403227</td>\n",
       "    </tr>\n",
       "    <tr>\n",
       "      <th>obj_8</th>\n",
       "      <td>95.409556</td>\n",
       "      <td>80.097087</td>\n",
       "      <td>15.312469</td>\n",
       "    </tr>\n",
       "    <tr>\n",
       "      <th>obj_9</th>\n",
       "      <td>88.634812</td>\n",
       "      <td>82.572816</td>\n",
       "      <td>6.061997</td>\n",
       "    </tr>\n",
       "    <tr>\n",
       "      <th>obj_10</th>\n",
       "      <td>95.921502</td>\n",
       "      <td>86.674757</td>\n",
       "      <td>9.246744</td>\n",
       "    </tr>\n",
       "    <tr>\n",
       "      <th>obj_11</th>\n",
       "      <td>97.440273</td>\n",
       "      <td>78.203883</td>\n",
       "      <td>19.236390</td>\n",
       "    </tr>\n",
       "    <tr>\n",
       "      <th>average</th>\n",
       "      <td>94.613714</td>\n",
       "      <td>85.410415</td>\n",
       "      <td>9.203299</td>\n",
       "    </tr>\n",
       "  </tbody>\n",
       "</table>\n",
       "</div>"
      ],
      "text/plain": [
       "         Average_true  Average_false  Difference\n",
       "obj_1       97.354949      93.737864    3.617085\n",
       "obj_2       95.580205      85.412621   10.167583\n",
       "obj_3       98.122867      95.946602    2.176265\n",
       "obj_4       95.119454      83.737864   11.381590\n",
       "obj_5       94.897611      88.640777    6.256834\n",
       "obj_6       94.419795      86.043689    8.376106\n",
       "obj_7       87.849829      78.446602    9.403227\n",
       "obj_8       95.409556      80.097087   15.312469\n",
       "obj_9       88.634812      82.572816    6.061997\n",
       "obj_10      95.921502      86.674757    9.246744\n",
       "obj_11      97.440273      78.203883   19.236390\n",
       "average     94.613714      85.410415    9.203299"
      ]
     },
     "execution_count": 109,
     "metadata": {},
     "output_type": "execute_result"
    }
   ],
   "source": [
    "#GPT-3.5 supervised by GPT-4\n",
    "import pandas as pd\n",
    "data_400 = Collection.from_json(\"./med_qa_400_first_gpt-3.5-turbo_gpt-4.json\")\n",
    "data_100 = Collection.from_json(\"./med_qa_first_gpt-3.5-turbo_gpt-4.json\")\n",
    "data_500 = data_400.merge(data_100)\n",
    "data = data_500\n",
    "scores_per_item, variables_per_item, filtered_lowest_tuples, scores_with_indicator = parse_data(data,idx_cot=1,dataset='med_qa',split='test')\n",
    "scores_per_item = fix_str_score(scores_per_item)\n",
    "scores_per_objective, df = get_further_data(scores_per_item)\n",
    "average_per_item = [sum(d.values()) / len(d) for d in scores_per_item]\n",
    "scores_per_objective_true,scores_per_objective_false = u_test(scores_with_indicator)\n",
    "range_data = {key: (min(value),max(value)) for key, value in scores_per_objective.items()}\n",
    "\n",
    "compare_true_false(scores_per_objective_true,scores_per_objective_false)"
   ]
  },
  {
   "cell_type": "code",
   "execution_count": 116,
   "metadata": {},
   "outputs": [],
   "source": [
    "data = scores_with_indicator\n",
    "data = [(t[0], False if t[1] is None else t[1]) for t in data]\n",
    "\n",
    "#average only\n",
    "df = pd.DataFrame([(t[0]['average'], t[1]) for t in data], columns=['average', 'Indicator'])\n",
    "\n",
    "#all objs\n",
    "# df = pd.DataFrame([t[0] for t in data])\n",
    "# df['Indicator'] = [t[1] for t in data]\n",
    "\n",
    "df_for_reg = copy.deepcopy(df)\n",
    "handle_string(df_for_reg,'average')\n",
    "handle_string(df,'average')\n",
    "#df = pd.DataFrame([(t[0]['average'], t[1]) for t in data], columns=['Average', 'Indicator'])"
   ]
  },
  {
   "cell_type": "code",
   "execution_count": 117,
   "metadata": {},
   "outputs": [
    {
     "data": {
      "text/html": [
       "<div>\n",
       "<style scoped>\n",
       "    .dataframe tbody tr th:only-of-type {\n",
       "        vertical-align: middle;\n",
       "    }\n",
       "\n",
       "    .dataframe tbody tr th {\n",
       "        vertical-align: top;\n",
       "    }\n",
       "\n",
       "    .dataframe thead th {\n",
       "        text-align: right;\n",
       "    }\n",
       "</style>\n",
       "<table border=\"1\" class=\"dataframe\">\n",
       "  <thead>\n",
       "    <tr style=\"text-align: right;\">\n",
       "      <th></th>\n",
       "      <th>average</th>\n",
       "      <th>Indicator</th>\n",
       "    </tr>\n",
       "  </thead>\n",
       "  <tbody>\n",
       "    <tr>\n",
       "      <th>99</th>\n",
       "      <td>4.545455</td>\n",
       "      <td>False</td>\n",
       "    </tr>\n",
       "    <tr>\n",
       "      <th>35</th>\n",
       "      <td>37.272727</td>\n",
       "      <td>False</td>\n",
       "    </tr>\n",
       "    <tr>\n",
       "      <th>80</th>\n",
       "      <td>38.181818</td>\n",
       "      <td>True</td>\n",
       "    </tr>\n",
       "    <tr>\n",
       "      <th>285</th>\n",
       "      <td>44.545455</td>\n",
       "      <td>False</td>\n",
       "    </tr>\n",
       "    <tr>\n",
       "      <th>391</th>\n",
       "      <td>45.454545</td>\n",
       "      <td>False</td>\n",
       "    </tr>\n",
       "    <tr>\n",
       "      <th>...</th>\n",
       "      <td>...</td>\n",
       "      <td>...</td>\n",
       "    </tr>\n",
       "    <tr>\n",
       "      <th>148</th>\n",
       "      <td>100.0</td>\n",
       "      <td>True</td>\n",
       "    </tr>\n",
       "    <tr>\n",
       "      <th>401</th>\n",
       "      <td>100.0</td>\n",
       "      <td>True</td>\n",
       "    </tr>\n",
       "    <tr>\n",
       "      <th>151</th>\n",
       "      <td>100.0</td>\n",
       "      <td>True</td>\n",
       "    </tr>\n",
       "    <tr>\n",
       "      <th>167</th>\n",
       "      <td>100.0</td>\n",
       "      <td>True</td>\n",
       "    </tr>\n",
       "    <tr>\n",
       "      <th>0</th>\n",
       "      <td>100.0</td>\n",
       "      <td>True</td>\n",
       "    </tr>\n",
       "  </tbody>\n",
       "</table>\n",
       "<p>499 rows × 2 columns</p>\n",
       "</div>"
      ],
      "text/plain": [
       "       average  Indicator\n",
       "99    4.545455      False\n",
       "35   37.272727      False\n",
       "80   38.181818       True\n",
       "285  44.545455      False\n",
       "391  45.454545      False\n",
       "..         ...        ...\n",
       "148      100.0       True\n",
       "401      100.0       True\n",
       "151      100.0       True\n",
       "167      100.0       True\n",
       "0        100.0       True\n",
       "\n",
       "[499 rows x 2 columns]"
      ]
     },
     "execution_count": 117,
     "metadata": {},
     "output_type": "execute_result"
    }
   ],
   "source": [
    "df = df[df['average'].notna()]\n",
    "df = df.sort_values(by='average')\n",
    "df"
   ]
  },
  {
   "cell_type": "code",
   "execution_count": 118,
   "metadata": {},
   "outputs": [],
   "source": [
    "df['Cumulative Count'] = df['Indicator'].cumsum()"
   ]
  },
  {
   "cell_type": "code",
   "execution_count": 119,
   "metadata": {},
   "outputs": [
    {
     "data": {
      "image/png": "[encoded data removed]",
      "text/plain": [
       "<Figure size 1000x600 with 1 Axes>"
      ]
     },
     "metadata": {},
     "output_type": "display_data"
    }
   ],
   "source": [
    "import matplotlib.pyplot as plt\n",
    "\n",
    "plt.figure(figsize=(10, 6))\n",
    "plt.plot(df['average'], df['Cumulative Count'])\n",
    "plt.xlabel('Average')\n",
    "plt.ylabel('Cumulative Count')\n",
    "plt.title('Cumulative Count of True Values vs Average')\n",
    "plt.grid(True)\n",
    "plt.show()"
   ]
  },
  {
   "cell_type": "code",
   "execution_count": 29,
   "metadata": {},
   "outputs": [
    {
     "data": {
      "image/png": "[encoded data removed]",
      "text/plain": [
       "<Figure size 1000x600 with 1 Axes>"
      ]
     },
     "metadata": {},
     "output_type": "display_data"
    }
   ],
   "source": [
    "# Create a new column 'Cumulative Count False' that contains the cumulative count of 'False' values\n",
    "df['Cumulative Count False'] = (~df['Indicator']).cumsum()\n",
    "\n",
    "# Plot graph with 'Average' as x-axis and 'Cumulative Count' and 'Cumulative Count False' as y-axis\n",
    "plt.figure(figsize=(10, 6))\n",
    "plt.plot(df['Average'], df['Cumulative Count'], label='True')\n",
    "plt.plot(df['Average'], df['Cumulative Count False'], label='False', color='red')\n",
    "plt.xlabel('Average')\n",
    "plt.ylabel('Cumulative Count')\n",
    "plt.title('Cumulative Count of True and False Values vs Average')\n",
    "plt.grid(True)\n",
    "plt.legend()\n",
    "plt.show()"
   ]
  },
  {
   "attachments": {},
   "cell_type": "markdown",
   "metadata": {},
   "source": [
    "## Log regression\n"
   ]
  },
  {
   "cell_type": "code",
   "execution_count": 120,
   "metadata": {},
   "outputs": [],
   "source": [
    "import pandas as pd\n",
    "from sklearn.model_selection import train_test_split\n",
    "from sklearn.linear_model import LogisticRegression\n",
    "from sklearn.metrics import accuracy_score\n"
   ]
  },
  {
   "cell_type": "code",
   "execution_count": 122,
   "metadata": {},
   "outputs": [
    {
     "data": {
      "text/html": [
       "<div>\n",
       "<style scoped>\n",
       "    .dataframe tbody tr th:only-of-type {\n",
       "        vertical-align: middle;\n",
       "    }\n",
       "\n",
       "    .dataframe tbody tr th {\n",
       "        vertical-align: top;\n",
       "    }\n",
       "\n",
       "    .dataframe thead th {\n",
       "        text-align: right;\n",
       "    }\n",
       "</style>\n",
       "<table border=\"1\" class=\"dataframe\">\n",
       "  <thead>\n",
       "    <tr style=\"text-align: right;\">\n",
       "      <th></th>\n",
       "      <th>average</th>\n",
       "      <th>Indicator</th>\n",
       "    </tr>\n",
       "  </thead>\n",
       "  <tbody>\n",
       "    <tr>\n",
       "      <th>0</th>\n",
       "      <td>100.0</td>\n",
       "      <td>True</td>\n",
       "    </tr>\n",
       "    <tr>\n",
       "      <th>1</th>\n",
       "      <td>91.818182</td>\n",
       "      <td>False</td>\n",
       "    </tr>\n",
       "    <tr>\n",
       "      <th>2</th>\n",
       "      <td>94.545455</td>\n",
       "      <td>False</td>\n",
       "    </tr>\n",
       "    <tr>\n",
       "      <th>3</th>\n",
       "      <td>100.0</td>\n",
       "      <td>True</td>\n",
       "    </tr>\n",
       "    <tr>\n",
       "      <th>4</th>\n",
       "      <td>98.181818</td>\n",
       "      <td>True</td>\n",
       "    </tr>\n",
       "    <tr>\n",
       "      <th>...</th>\n",
       "      <td>...</td>\n",
       "      <td>...</td>\n",
       "    </tr>\n",
       "    <tr>\n",
       "      <th>495</th>\n",
       "      <td>82.727273</td>\n",
       "      <td>True</td>\n",
       "    </tr>\n",
       "    <tr>\n",
       "      <th>496</th>\n",
       "      <td>96.363636</td>\n",
       "      <td>True</td>\n",
       "    </tr>\n",
       "    <tr>\n",
       "      <th>497</th>\n",
       "      <td>95.454545</td>\n",
       "      <td>True</td>\n",
       "    </tr>\n",
       "    <tr>\n",
       "      <th>498</th>\n",
       "      <td>86.363636</td>\n",
       "      <td>True</td>\n",
       "    </tr>\n",
       "    <tr>\n",
       "      <th>499</th>\n",
       "      <td>98.181818</td>\n",
       "      <td>False</td>\n",
       "    </tr>\n",
       "  </tbody>\n",
       "</table>\n",
       "<p>500 rows × 2 columns</p>\n",
       "</div>"
      ],
      "text/plain": [
       "       average  Indicator\n",
       "0        100.0       True\n",
       "1    91.818182      False\n",
       "2    94.545455      False\n",
       "3        100.0       True\n",
       "4    98.181818       True\n",
       "..         ...        ...\n",
       "495  82.727273       True\n",
       "496  96.363636       True\n",
       "497  95.454545       True\n",
       "498  86.363636       True\n",
       "499  98.181818      False\n",
       "\n",
       "[500 rows x 2 columns]"
      ]
     },
     "execution_count": 122,
     "metadata": {},
     "output_type": "execute_result"
    }
   ],
   "source": [
    "df_for_reg"
   ]
  },
  {
   "cell_type": "code",
   "execution_count": 125,
   "metadata": {},
   "outputs": [
    {
     "name": "stdout",
     "output_type": "stream",
     "text": [
      "Accuracy: 0.68\n"
     ]
    }
   ],
   "source": [
    "df_for_reg = df_for_reg[df_for_reg['average'].notna()]\n",
    "\n",
    "X = df_for_reg['average'].values.reshape(-1, 1)  # Features\n",
    "y = df_for_reg['Indicator'].values  # Target variable\n",
    "\n",
    "X_train, X_test, y_train, y_test = train_test_split(X, y, test_size=0.2, random_state=42)\n",
    "\n",
    "classifier = LogisticRegression()\n",
    "classifier.fit(X_train, y_train)\n",
    "\n",
    "y_pred = classifier.predict(X_test)\n",
    "accuracy = accuracy_score(y_test, y_pred)\n",
    "print(\"Accuracy:\", accuracy)"
   ]
  },
  {
   "cell_type": "code",
   "execution_count": 126,
   "metadata": {},
   "outputs": [
    {
     "name": "stdout",
     "output_type": "stream",
     "text": [
      "Training Accuracy: 0.687374749498998\n"
     ]
    }
   ],
   "source": [
    "classifier = LogisticRegression()\n",
    "classifier.fit(X, y)\n",
    "\n",
    "y_pred = classifier.predict(X)\n",
    "accuracy = accuracy_score(y, y_pred)\n",
    "print(\"Training Accuracy:\", accuracy)"
   ]
  },
  {
   "attachments": {},
   "cell_type": "markdown",
   "metadata": {},
   "source": [
    "## Logistic regression with all obj"
   ]
  },
  {
   "cell_type": "code",
   "execution_count": 127,
   "metadata": {},
   "outputs": [],
   "source": [
    "\n",
    "data = scores_with_indicator\n",
    "data = [(t[0], False if t[1] is None else t[1]) for t in data]\n",
    "df = pd.DataFrame([t[0] for t in data])\n",
    "df['Indicator'] = [t[1] for t in data]\n",
    "\n",
    "# Transform list of tuples into a DataFrame\n",
    "df = pd.DataFrame([t[0] for t in data])\n",
    "df['Indicator'] = [t[1] for t in data]\n",
    "\n",
    "df_for_reg = copy.deepcopy(df)"
   ]
  },
  {
   "cell_type": "code",
   "execution_count": 128,
   "metadata": {},
   "outputs": [],
   "source": [
    "# Modify the function to handle 'None' as string\n",
    "def handle_string(df, column):\n",
    "    for index, value in df[column].items():\n",
    "        if isinstance(value, str):\n",
    "            if value.lower() == 'none':\n",
    "                df.loc[index, column] = None  # or np.nan\n",
    "            else:\n",
    "                print(value)\n",
    "\n",
    "# Call the function\n",
    "handle_string(df, 'average')\n",
    "\n",
    "# Drop rows where 'Average' is None\n",
    "df = df[df['average'].notna()]\n",
    "\n",
    "# Make sure 'Average' column is of type float\n",
    "df['average'] = df['average'].astype(float)\n"
   ]
  },
  {
   "cell_type": "code",
   "execution_count": 129,
   "metadata": {},
   "outputs": [
    {
     "data": {
      "image/png": "[encoded data removed]",
      "text/plain": [
       "<Figure size 1000x600 with 1 Axes>"
      ]
     },
     "metadata": {},
     "output_type": "display_data"
    }
   ],
   "source": [
    "# Sort DataFrame based on the 'Average' column from low to high\n",
    "df = df.sort_values(by='average')\n",
    "\n",
    "# Create new columns 'Cumulative Count True' and 'Cumulative Count False' \n",
    "# that contain the cumulative counts of 'True' and 'False' values, respectively\n",
    "df['Cumulative Count True'] = (df['Indicator'] == True).cumsum()\n",
    "df['Cumulative Count False'] = (df['Indicator'] == False).cumsum()\n",
    "\n",
    "# Create the plot\n",
    "plt.figure(figsize=(10, 6))\n",
    "plt.plot(df['average'], df['Cumulative Count True'], label='True')\n",
    "plt.plot(df['average'], df['Cumulative Count False'], label='False', color='r')\n",
    "plt.xlabel('Average')\n",
    "plt.ylabel('Cumulative Count')\n",
    "plt.title('Cumulative Count of True and False Values vs Average')\n",
    "plt.legend()\n",
    "plt.grid(True)\n",
    "plt.show()\n"
   ]
  },
  {
   "cell_type": "code",
   "execution_count": 130,
   "metadata": {},
   "outputs": [],
   "source": [
    "for column in df_for_reg.columns:\n",
    "    if column.startswith('obj_'):\n",
    "        is_float = df_for_reg[column].apply(lambda x: not isinstance(x, str))\n",
    "        df_for_reg = df_for_reg[is_float]"
   ]
  },
  {
   "cell_type": "code",
   "execution_count": 102,
   "metadata": {},
   "outputs": [
    {
     "data": {
      "text/html": [
       "<div>\n",
       "<style scoped>\n",
       "    .dataframe tbody tr th:only-of-type {\n",
       "        vertical-align: middle;\n",
       "    }\n",
       "\n",
       "    .dataframe tbody tr th {\n",
       "        vertical-align: top;\n",
       "    }\n",
       "\n",
       "    .dataframe thead th {\n",
       "        text-align: right;\n",
       "    }\n",
       "</style>\n",
       "<table border=\"1\" class=\"dataframe\">\n",
       "  <thead>\n",
       "    <tr style=\"text-align: right;\">\n",
       "      <th></th>\n",
       "      <th>obj_1</th>\n",
       "      <th>obj_2</th>\n",
       "      <th>obj_3</th>\n",
       "      <th>obj_4</th>\n",
       "      <th>obj_5</th>\n",
       "      <th>obj_6</th>\n",
       "      <th>obj_7</th>\n",
       "      <th>obj_8</th>\n",
       "      <th>obj_9</th>\n",
       "      <th>obj_10</th>\n",
       "      <th>obj_11</th>\n",
       "      <th>lowest</th>\n",
       "      <th>average</th>\n",
       "      <th>Indicator</th>\n",
       "    </tr>\n",
       "  </thead>\n",
       "  <tbody>\n",
       "    <tr>\n",
       "      <th>0</th>\n",
       "      <td>100</td>\n",
       "      <td>100</td>\n",
       "      <td>100</td>\n",
       "      <td>100</td>\n",
       "      <td>100</td>\n",
       "      <td>100</td>\n",
       "      <td>100</td>\n",
       "      <td>100</td>\n",
       "      <td>100</td>\n",
       "      <td>100</td>\n",
       "      <td>100</td>\n",
       "      <td>100</td>\n",
       "      <td>100.0</td>\n",
       "      <td>True</td>\n",
       "    </tr>\n",
       "    <tr>\n",
       "      <th>1</th>\n",
       "      <td>100</td>\n",
       "      <td>90</td>\n",
       "      <td>100</td>\n",
       "      <td>80</td>\n",
       "      <td>100</td>\n",
       "      <td>90</td>\n",
       "      <td>100</td>\n",
       "      <td>80</td>\n",
       "      <td>100</td>\n",
       "      <td>90</td>\n",
       "      <td>80</td>\n",
       "      <td>80</td>\n",
       "      <td>91.818182</td>\n",
       "      <td>False</td>\n",
       "    </tr>\n",
       "    <tr>\n",
       "      <th>2</th>\n",
       "      <td>100</td>\n",
       "      <td>100</td>\n",
       "      <td>100</td>\n",
       "      <td>100</td>\n",
       "      <td>100</td>\n",
       "      <td>100</td>\n",
       "      <td>100</td>\n",
       "      <td>90</td>\n",
       "      <td>100</td>\n",
       "      <td>100</td>\n",
       "      <td>50</td>\n",
       "      <td>50</td>\n",
       "      <td>94.545455</td>\n",
       "      <td>False</td>\n",
       "    </tr>\n",
       "    <tr>\n",
       "      <th>3</th>\n",
       "      <td>100</td>\n",
       "      <td>100</td>\n",
       "      <td>100</td>\n",
       "      <td>100</td>\n",
       "      <td>100</td>\n",
       "      <td>100</td>\n",
       "      <td>100</td>\n",
       "      <td>100</td>\n",
       "      <td>100</td>\n",
       "      <td>100</td>\n",
       "      <td>100</td>\n",
       "      <td>100</td>\n",
       "      <td>100.0</td>\n",
       "      <td>True</td>\n",
       "    </tr>\n",
       "    <tr>\n",
       "      <th>4</th>\n",
       "      <td>100</td>\n",
       "      <td>100</td>\n",
       "      <td>100</td>\n",
       "      <td>100</td>\n",
       "      <td>100</td>\n",
       "      <td>100</td>\n",
       "      <td>90</td>\n",
       "      <td>100</td>\n",
       "      <td>90</td>\n",
       "      <td>100</td>\n",
       "      <td>100</td>\n",
       "      <td>90</td>\n",
       "      <td>98.181818</td>\n",
       "      <td>True</td>\n",
       "    </tr>\n",
       "    <tr>\n",
       "      <th>...</th>\n",
       "      <td>...</td>\n",
       "      <td>...</td>\n",
       "      <td>...</td>\n",
       "      <td>...</td>\n",
       "      <td>...</td>\n",
       "      <td>...</td>\n",
       "      <td>...</td>\n",
       "      <td>...</td>\n",
       "      <td>...</td>\n",
       "      <td>...</td>\n",
       "      <td>...</td>\n",
       "      <td>...</td>\n",
       "      <td>...</td>\n",
       "      <td>...</td>\n",
       "    </tr>\n",
       "    <tr>\n",
       "      <th>495</th>\n",
       "      <td>80</td>\n",
       "      <td>90</td>\n",
       "      <td>90</td>\n",
       "      <td>80</td>\n",
       "      <td>80</td>\n",
       "      <td>80</td>\n",
       "      <td>70</td>\n",
       "      <td>90</td>\n",
       "      <td>80</td>\n",
       "      <td>80</td>\n",
       "      <td>90</td>\n",
       "      <td>70</td>\n",
       "      <td>82.727273</td>\n",
       "      <td>True</td>\n",
       "    </tr>\n",
       "    <tr>\n",
       "      <th>496</th>\n",
       "      <td>100</td>\n",
       "      <td>100</td>\n",
       "      <td>100</td>\n",
       "      <td>90</td>\n",
       "      <td>100</td>\n",
       "      <td>90</td>\n",
       "      <td>100</td>\n",
       "      <td>100</td>\n",
       "      <td>80</td>\n",
       "      <td>100</td>\n",
       "      <td>100</td>\n",
       "      <td>80</td>\n",
       "      <td>96.363636</td>\n",
       "      <td>True</td>\n",
       "    </tr>\n",
       "    <tr>\n",
       "      <th>497</th>\n",
       "      <td>100</td>\n",
       "      <td>100</td>\n",
       "      <td>100</td>\n",
       "      <td>100</td>\n",
       "      <td>100</td>\n",
       "      <td>100</td>\n",
       "      <td>100</td>\n",
       "      <td>100</td>\n",
       "      <td>100</td>\n",
       "      <td>100</td>\n",
       "      <td>50</td>\n",
       "      <td>50</td>\n",
       "      <td>95.454545</td>\n",
       "      <td>True</td>\n",
       "    </tr>\n",
       "    <tr>\n",
       "      <th>498</th>\n",
       "      <td>80</td>\n",
       "      <td>100</td>\n",
       "      <td>90</td>\n",
       "      <td>90</td>\n",
       "      <td>80</td>\n",
       "      <td>80</td>\n",
       "      <td>90</td>\n",
       "      <td>90</td>\n",
       "      <td>70</td>\n",
       "      <td>80</td>\n",
       "      <td>100</td>\n",
       "      <td>70</td>\n",
       "      <td>86.363636</td>\n",
       "      <td>True</td>\n",
       "    </tr>\n",
       "    <tr>\n",
       "      <th>499</th>\n",
       "      <td>100</td>\n",
       "      <td>100</td>\n",
       "      <td>100</td>\n",
       "      <td>100</td>\n",
       "      <td>100</td>\n",
       "      <td>100</td>\n",
       "      <td>100</td>\n",
       "      <td>100</td>\n",
       "      <td>80</td>\n",
       "      <td>100</td>\n",
       "      <td>100</td>\n",
       "      <td>80</td>\n",
       "      <td>98.181818</td>\n",
       "      <td>False</td>\n",
       "    </tr>\n",
       "  </tbody>\n",
       "</table>\n",
       "<p>499 rows × 14 columns</p>\n",
       "</div>"
      ],
      "text/plain": [
       "     obj_1  obj_2 obj_3  obj_4  obj_5  obj_6  obj_7  obj_8  obj_9  obj_10  \\\n",
       "0      100    100   100    100    100    100    100    100    100     100   \n",
       "1      100     90   100     80    100     90    100     80    100      90   \n",
       "2      100    100   100    100    100    100    100     90    100     100   \n",
       "3      100    100   100    100    100    100    100    100    100     100   \n",
       "4      100    100   100    100    100    100     90    100     90     100   \n",
       "..     ...    ...   ...    ...    ...    ...    ...    ...    ...     ...   \n",
       "495     80     90    90     80     80     80     70     90     80      80   \n",
       "496    100    100   100     90    100     90    100    100     80     100   \n",
       "497    100    100   100    100    100    100    100    100    100     100   \n",
       "498     80    100    90     90     80     80     90     90     70      80   \n",
       "499    100    100   100    100    100    100    100    100     80     100   \n",
       "\n",
       "     obj_11 lowest    average  Indicator  \n",
       "0       100    100      100.0       True  \n",
       "1        80     80  91.818182      False  \n",
       "2        50     50  94.545455      False  \n",
       "3       100    100      100.0       True  \n",
       "4       100     90  98.181818       True  \n",
       "..      ...    ...        ...        ...  \n",
       "495      90     70  82.727273       True  \n",
       "496     100     80  96.363636       True  \n",
       "497      50     50  95.454545       True  \n",
       "498     100     70  86.363636       True  \n",
       "499     100     80  98.181818      False  \n",
       "\n",
       "[499 rows x 14 columns]"
      ]
     },
     "execution_count": 102,
     "metadata": {},
     "output_type": "execute_result"
    }
   ],
   "source": [
    "df_for_reg"
   ]
  },
  {
   "cell_type": "code",
   "execution_count": 149,
   "metadata": {},
   "outputs": [],
   "source": [
    "X = df_for_reg.drop('Indicator', axis=1)  # Features\n",
    "y = df_for_reg['Indicator']  # Target variable\n",
    "\n",
    "X_train, X_test, y_train, y_test = train_test_split(X, y, test_size=0.2, random_state=42)"
   ]
  },
  {
   "cell_type": "code",
   "execution_count": 150,
   "metadata": {},
   "outputs": [
    {
     "name": "stdout",
     "output_type": "stream",
     "text": [
      "Accuracy: 0.77\n"
     ]
    }
   ],
   "source": [
    "classifier = LogisticRegression(max_iter=10000)\n",
    "classifier.fit(X_train, y_train)\n",
    "\n",
    "y_pred = classifier.predict(X_test)\n",
    "accuracy = accuracy_score(y_test, y_pred)\n",
    "print(\"Accuracy:\", accuracy)"
   ]
  },
  {
   "cell_type": "code",
   "execution_count": 151,
   "metadata": {},
   "outputs": [
    {
     "name": "stdout",
     "output_type": "stream",
     "text": [
      "Training Accuracy: 0.7715430861723447\n"
     ]
    }
   ],
   "source": [
    "classifier = LogisticRegression(max_iter=10000)\n",
    "classifier.fit(X, y)\n",
    "\n",
    "y_pred = classifier.predict(X)\n",
    "accuracy = accuracy_score(y, y_pred)\n",
    "print(\"Training Accuracy:\", accuracy)"
   ]
  },
  {
   "attachments": {},
   "cell_type": "markdown",
   "metadata": {},
   "source": [
    "## GPT-4 itself"
   ]
  },
  {
   "cell_type": "code",
   "execution_count": 152,
   "metadata": {},
   "outputs": [
    {
     "data": {
      "application/vnd.jupyter.widget-view+json": {
       "model_id": "7fdff65a6e844d228604d4f15995eab0",
       "version_major": 2,
       "version_minor": 0
      },
      "text/plain": [
       "Creating json from Arrow format:   0%|          | 0/1 [00:00<?, ?ba/s]"
      ]
     },
     "metadata": {},
     "output_type": "display_data"
    },
    {
     "data": {
      "application/vnd.jupyter.widget-view+json": {
       "model_id": "383d7741de8b4fce87dab5f7da28d788",
       "version_major": 2,
       "version_minor": 0
      },
      "text/plain": [
       "Creating json from Arrow format:   0%|          | 0/1 [00:00<?, ?ba/s]"
      ]
     },
     "metadata": {},
     "output_type": "display_data"
    }
   ],
   "source": [
    "# GPT-4 supervised by GPT-4\n",
    "data_400 = Collection.from_json(\"./med_qa_400_first_gpt-4_gpt-4.json\")\n",
    "data_100 = Collection.from_json(\"./med_qa_first_gpt-4_gpt-4.json\")\n",
    "data_500 = data_400.merge(data_100)\n",
    "data = data_500\n"
   ]
  },
  {
   "cell_type": "code",
   "execution_count": 153,
   "metadata": {},
   "outputs": [
    {
     "name": "stdout",
     "output_type": "stream",
     "text": [
      "(['obj_1', 'obj_2', 'obj_3', 'obj_4', 'obj_5', 'obj_6', 'obj_7', 'obj_8', 'obj_9', 'obj_10', 'obj_11'], False)\n",
      "dict_keys(['obj_8', 'obj_11', 'obj_3', 'obj_2', 'average', 'obj_5', 'obj_10', 'obj_7', 'obj_6', 'obj_9', 'obj_4', 'lowest', 'obj_1'])\n",
      "For obj_8, U-statistic is 25495.50 and the p-value is 0.00\n",
      "For obj_11, U-statistic is 22806.00 and the p-value is 0.00\n",
      "For obj_3, U-statistic is 20883.00 and the p-value is 0.31\n",
      "For obj_2, U-statistic is 24847.50 and the p-value is 0.00\n",
      "For average, U-statistic is 26231.50 and the p-value is 0.00\n",
      "For obj_5, U-statistic is 22624.50 and the p-value is 0.00\n",
      "For obj_10, U-statistic is 23527.50 and the p-value is 0.00\n",
      "For obj_7, U-statistic is 25066.50 and the p-value is 0.00\n",
      "For obj_6, U-statistic is 24844.00 and the p-value is 0.00\n",
      "For obj_9, U-statistic is 20835.50 and the p-value is 0.93\n",
      "For obj_4, U-statistic is 24507.50 and the p-value is 0.00\n",
      "For lowest, U-statistic is 25841.50 and the p-value is 0.00\n",
      "For obj_1, U-statistic is 22583.00 and the p-value is 0.00\n"
     ]
    },
    {
     "data": {
      "text/html": [
       "<div>\n",
       "<style scoped>\n",
       "    .dataframe tbody tr th:only-of-type {\n",
       "        vertical-align: middle;\n",
       "    }\n",
       "\n",
       "    .dataframe tbody tr th {\n",
       "        vertical-align: top;\n",
       "    }\n",
       "\n",
       "    .dataframe thead th {\n",
       "        text-align: right;\n",
       "    }\n",
       "</style>\n",
       "<table border=\"1\" class=\"dataframe\">\n",
       "  <thead>\n",
       "    <tr style=\"text-align: right;\">\n",
       "      <th></th>\n",
       "      <th>Average_true</th>\n",
       "      <th>Average_false</th>\n",
       "      <th>Difference</th>\n",
       "    </tr>\n",
       "  </thead>\n",
       "  <tbody>\n",
       "    <tr>\n",
       "      <th>obj_1</th>\n",
       "      <td>99.658228</td>\n",
       "      <td>98.666667</td>\n",
       "      <td>0.991561</td>\n",
       "    </tr>\n",
       "    <tr>\n",
       "      <th>obj_2</th>\n",
       "      <td>98.354430</td>\n",
       "      <td>95.000000</td>\n",
       "      <td>3.354430</td>\n",
       "    </tr>\n",
       "    <tr>\n",
       "      <th>obj_3</th>\n",
       "      <td>99.924051</td>\n",
       "      <td>99.428571</td>\n",
       "      <td>0.495479</td>\n",
       "    </tr>\n",
       "    <tr>\n",
       "      <th>obj_4</th>\n",
       "      <td>98.924051</td>\n",
       "      <td>95.666667</td>\n",
       "      <td>3.257384</td>\n",
       "    </tr>\n",
       "    <tr>\n",
       "      <th>obj_5</th>\n",
       "      <td>99.316456</td>\n",
       "      <td>98.238095</td>\n",
       "      <td>1.078360</td>\n",
       "    </tr>\n",
       "    <tr>\n",
       "      <th>obj_6</th>\n",
       "      <td>99.012658</td>\n",
       "      <td>96.142857</td>\n",
       "      <td>2.869801</td>\n",
       "    </tr>\n",
       "    <tr>\n",
       "      <th>obj_7</th>\n",
       "      <td>90.708861</td>\n",
       "      <td>86.857143</td>\n",
       "      <td>3.851718</td>\n",
       "    </tr>\n",
       "    <tr>\n",
       "      <th>obj_8</th>\n",
       "      <td>98.696203</td>\n",
       "      <td>94.333333</td>\n",
       "      <td>4.362869</td>\n",
       "    </tr>\n",
       "    <tr>\n",
       "      <th>obj_9</th>\n",
       "      <td>93.050633</td>\n",
       "      <td>92.666667</td>\n",
       "      <td>0.383966</td>\n",
       "    </tr>\n",
       "    <tr>\n",
       "      <th>obj_10</th>\n",
       "      <td>99.341772</td>\n",
       "      <td>97.523810</td>\n",
       "      <td>1.817963</td>\n",
       "    </tr>\n",
       "    <tr>\n",
       "      <th>obj_11</th>\n",
       "      <td>99.088608</td>\n",
       "      <td>92.857143</td>\n",
       "      <td>6.231465</td>\n",
       "    </tr>\n",
       "    <tr>\n",
       "      <th>average</th>\n",
       "      <td>97.825086</td>\n",
       "      <td>95.216450</td>\n",
       "      <td>2.608636</td>\n",
       "    </tr>\n",
       "  </tbody>\n",
       "</table>\n",
       "</div>"
      ],
      "text/plain": [
       "         Average_true  Average_false  Difference\n",
       "obj_1       99.658228      98.666667    0.991561\n",
       "obj_2       98.354430      95.000000    3.354430\n",
       "obj_3       99.924051      99.428571    0.495479\n",
       "obj_4       98.924051      95.666667    3.257384\n",
       "obj_5       99.316456      98.238095    1.078360\n",
       "obj_6       99.012658      96.142857    2.869801\n",
       "obj_7       90.708861      86.857143    3.851718\n",
       "obj_8       98.696203      94.333333    4.362869\n",
       "obj_9       93.050633      92.666667    0.383966\n",
       "obj_10      99.341772      97.523810    1.817963\n",
       "obj_11      99.088608      92.857143    6.231465\n",
       "average     97.825086      95.216450    2.608636"
      ]
     },
     "execution_count": 153,
     "metadata": {},
     "output_type": "execute_result"
    }
   ],
   "source": [
    "scores_per_item, variables_per_item, filtered_lowest_tuples, scores_with_indicator = parse_data(data,idx_cot=1,dataset='med_qa',split='test')\n",
    "scores_per_item = fix_str_score(scores_per_item)\n",
    "scores_per_objective, df = get_further_data(scores_per_item)\n",
    "average_per_item = [sum(d.values()) / len(d) for d in scores_per_item]\n",
    "scores_per_objective_true,scores_per_objective_false = u_test(scores_with_indicator)\n",
    "range_data = {key: (min(value),max(value)) for key, value in scores_per_objective.items()}\n",
    "\n",
    "compare_true_false(scores_per_objective_true,scores_per_objective_false)"
   ]
  },
  {
   "cell_type": "code",
   "execution_count": 154,
   "metadata": {},
   "outputs": [
    {
     "data": {
      "image/png": "[encoded data removed]",
      "text/plain": [
       "<Figure size 1000x600 with 1 Axes>"
      ]
     },
     "metadata": {},
     "output_type": "display_data"
    }
   ],
   "source": [
    "data = scores_with_indicator\n",
    "data = [(t[0], False if t[1] is None else t[1]) for t in data]\n",
    "df = pd.DataFrame([t[0] for t in data])\n",
    "df['Indicator'] = [t[1] for t in data]\n",
    "df_for_reg = copy.deepcopy(df)\n",
    "# Sort DataFrame based on the 'Average' column from low to high\n",
    "df = df.sort_values(by='average')\n",
    "df['Cumulative Count'] = df['Indicator'].cumsum()\n",
    "df['Cumulative Count False'] = (~df['Indicator']).cumsum()\n",
    "\n",
    "\n",
    "\n",
    "\n",
    "\n",
    "# Plot graph with 'Average' as x-axis and 'Cumulative Count' and 'Cumulative Count False' as y-axis\n",
    "plt.figure(figsize=(10, 6))\n",
    "plt.plot(df['average'], df['Cumulative Count'], label='True')\n",
    "plt.plot(df['average'], df['Cumulative Count False'], label='False', color='red')\n",
    "plt.xlabel('Average')\n",
    "plt.ylabel('Cumulative Count')\n",
    "plt.title('Cumulative Count of True and False Values vs Average')\n",
    "plt.grid(True)\n",
    "plt.legend()\n",
    "plt.show()"
   ]
  },
  {
   "cell_type": "code",
   "execution_count": 155,
   "metadata": {},
   "outputs": [],
   "source": [
    "X = df_for_reg.drop('Indicator', axis=1)  # Features\n",
    "y = df_for_reg['Indicator']  # Target variable\n",
    "\n",
    "X_train, X_test, y_train, y_test = train_test_split(X, y, test_size=0.2, random_state=42)"
   ]
  },
  {
   "cell_type": "code",
   "execution_count": 156,
   "metadata": {},
   "outputs": [
    {
     "name": "stdout",
     "output_type": "stream",
     "text": [
      "Accuracy: 0.79\n"
     ]
    }
   ],
   "source": [
    "classifier = LogisticRegression(max_iter=10000)\n",
    "classifier.fit(X_train, y_train)\n",
    "\n",
    "y_pred = classifier.predict(X_test)\n",
    "accuracy = accuracy_score(y_test, y_pred)\n",
    "print(\"Accuracy:\", accuracy)"
   ]
  },
  {
   "cell_type": "code",
   "execution_count": 157,
   "metadata": {},
   "outputs": [
    {
     "name": "stdout",
     "output_type": "stream",
     "text": [
      "Training Accuracy: 0.806\n"
     ]
    }
   ],
   "source": [
    "classifier = LogisticRegression(max_iter=10000)\n",
    "classifier.fit(X, y)\n",
    "\n",
    "y_pred = classifier.predict(X)\n",
    "accuracy = accuracy_score(y, y_pred)\n",
    "print(\"Training Accuracy:\", accuracy)"
   ]
  },
  {
   "cell_type": "code",
   "execution_count": 158,
   "metadata": {},
   "outputs": [
    {
     "name": "stdout",
     "output_type": "stream",
     "text": [
      "Coefficients: [[-0.03132124  0.00437515  0.00325933 -0.04750339  0.01897088  0.06438299\n",
      "   0.04457324  0.00299101 -0.03515297  0.04234187  0.03498207 -0.00370211\n",
      "   0.00926354]]\n",
      "Intercept: [-9.00329179]\n"
     ]
    }
   ],
   "source": [
    "# Get the coefficients and intercept\n",
    "coefficients = classifier.coef_\n",
    "intercept = classifier.intercept_\n",
    "\n",
    "# Print the coefficients and intercept\n",
    "print(\"Coefficients:\", coefficients)\n",
    "print(\"Intercept:\", intercept)"
   ]
  },
  {
   "cell_type": "code",
   "execution_count": 159,
   "metadata": {},
   "outputs": [
    {
     "name": "stdout",
     "output_type": "stream",
     "text": [
      "Selected Features:\n",
      "Index(['obj_4', 'obj_5', 'obj_6', 'obj_10', 'lowest'], dtype='object')\n"
     ]
    }
   ],
   "source": [
    "#check feature selection\n",
    "from sklearn.feature_selection import SelectFromModel\n",
    "\n",
    "# Perform feature selection using L1 regularization\n",
    "selector = SelectFromModel(classifier, threshold=None)\n",
    "selector.fit(X_train, y_train)\n",
    "\n",
    "# Get selected feature indices\n",
    "selected_feature_indices = selector.get_support(indices=True)\n",
    "\n",
    "# Get selected feature names\n",
    "selected_feature_names = X_train.columns[selected_feature_indices]\n",
    "\n",
    "# Print selected feature names\n",
    "print(\"Selected Features:\")\n",
    "print(selected_feature_names)"
   ]
  },
  {
   "cell_type": "code",
   "execution_count": 160,
   "metadata": {},
   "outputs": [],
   "source": [
    "# Assuming you have already obtained the selected_feature_names list\n",
    "selected_feature_names = ['obj_1', 'obj_3', 'obj_7', 'obj_10']\n",
    "\n",
    "# Filter the original dataset to include only the selected features\n",
    "filtered_X = X[selected_feature_names]"
   ]
  },
  {
   "cell_type": "code",
   "execution_count": 161,
   "metadata": {},
   "outputs": [],
   "source": [
    "X_train, X_test, y_train, y_test = train_test_split(filtered_X, y, test_size=0.2, random_state=42)"
   ]
  },
  {
   "cell_type": "code",
   "execution_count": 162,
   "metadata": {},
   "outputs": [
    {
     "name": "stdout",
     "output_type": "stream",
     "text": [
      "Accuracy: 0.78\n"
     ]
    }
   ],
   "source": [
    "classifier = LogisticRegression(max_iter=10000)\n",
    "classifier.fit(X_train, y_train)\n",
    "\n",
    "y_pred = classifier.predict(X_test)\n",
    "accuracy = accuracy_score(y_test, y_pred)\n",
    "print(\"Accuracy:\", accuracy)"
   ]
  },
  {
   "cell_type": "code",
   "execution_count": 165,
   "metadata": {},
   "outputs": [
    {
     "name": "stdout",
     "output_type": "stream",
     "text": [
      "Training Accuracy: 0.798\n"
     ]
    }
   ],
   "source": [
    "classifier = LogisticRegression(max_iter=10000)\n",
    "classifier.fit(filtered_X, y)\n",
    "\n",
    "y_pred = classifier.predict(filtered_X)\n",
    "accuracy = accuracy_score(y, y_pred)\n",
    "print(\"Training Accuracy:\", accuracy)"
   ]
  }
 ],
 "metadata": {
  "kernelspec": {
   "display_name": "base",
   "language": "python",
   "name": "python3"
  },
  "language_info": {
   "codemirror_mode": {
    "name": "ipython",
    "version": 3
   },
   "file_extension": ".py",
   "mimetype": "text/x-python",
   "name": "python",
   "nbconvert_exporter": "python",
   "pygments_lexer": "ipython3",
   "version": "3.9.16"
  },
  "orig_nbformat": 4
 },
 "nbformat": 4,
 "nbformat_minor": 2
}
