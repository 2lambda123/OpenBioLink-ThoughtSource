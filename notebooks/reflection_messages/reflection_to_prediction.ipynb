{
 "cells": [
  {
   "attachments": {},
   "cell_type": "markdown",
   "metadata": {},
   "source": [
    "## Helper functions"
   ]
  },
  {
   "cell_type": "code",
   "execution_count": 1,
   "metadata": {},
   "outputs": [],
   "source": [
    "\"\"\"Imports\"\"\"\n",
    "from langchain.chat_models import ChatOpenAI\n",
    "from langchain.prompts.chat import (\n",
    "    ChatPromptTemplate,\n",
    "    SystemMessagePromptTemplate,\n",
    "    AIMessagePromptTemplate,\n",
    "    HumanMessagePromptTemplate,\n",
    ")\n",
    "from langchain.schema import (\n",
    "    AIMessage,\n",
    "    HumanMessage,\n",
    "    SystemMessage\n",
    ")\n",
    "\n",
    "from cot import Collection\n",
    "import yaml"
   ]
  },
  {
   "cell_type": "code",
   "execution_count": 2,
   "metadata": {},
   "outputs": [],
   "source": [
    "# Helper functions to call OpenAI model, system also generates reasoning\n",
    "# this function lets the model reason (less frequently used than system_evaluate)\n",
    "\n",
    "def system_experiment(data,model, path_system_template):\n",
    "    chat = ChatOpenAI(\n",
    "        temperature=0,\n",
    "        model_name=model,\n",
    "        request_timeout=600,\n",
    "        max_retries=1,\n",
    "    )\n",
    "\n",
    "    human_template=\"\"\"Answer the question:{question}\\nwith the following answer options:{answer_options}\"\"\"\n",
    "    human_message_prompt = HumanMessagePromptTemplate.from_template(human_template)\n",
    "    \n",
    "    with open(path_system_template, 'r') as file:\n",
    "        template = file.read()\n",
    "    system_message_prompt = SystemMessagePromptTemplate.from_template(template)\n",
    "    \n",
    "    chat_prompt = ChatPromptTemplate.from_messages([system_message_prompt, human_message_prompt])  \n",
    "    input_dict = {'chat':chat,'chat_prompt':chat_prompt, \"api_time_interval\": 1} \n",
    "    \n",
    "    return data.system_generate(input_dict)\n",
    "\n",
    "def save_as_yaml(data, filepath):\n",
    "    with open(filepath, 'w') as file:\n",
    "        yaml.dump(data, file)"
   ]
  },
  {
   "cell_type": "code",
   "execution_count": 3,
   "metadata": {},
   "outputs": [],
   "source": [
    "def system_evaluate(data,model, path_system_template):\n",
    "    chat = ChatOpenAI(\n",
    "        temperature=0,\n",
    "        model_name=model,\n",
    "        request_timeout=600,\n",
    "        max_retries=1,\n",
    "    )\n",
    "\n",
    "    human_template=\"\"\"Answer the question:{question}\\n\n",
    "    with the following answer options:{answer_options}\\n\n",
    "    Reasoning: {reasoning}\\n\n",
    "    Answer: {answer}\"\"\"\n",
    "    human_message_prompt = HumanMessagePromptTemplate.from_template(human_template)\n",
    "    \n",
    "    with open(path_system_template, 'r') as file:\n",
    "        template = file.read()\n",
    "    system_message_prompt = SystemMessagePromptTemplate.from_template(template)\n",
    "    \n",
    "    chat_prompt = ChatPromptTemplate.from_messages([system_message_prompt, human_message_prompt])  \n",
    "    input_dict = {'chat':chat,'chat_prompt':chat_prompt, \"api_time_interval\": 1} \n",
    "    \n",
    "    return data.system_evals(input_dict)"
   ]
  },
  {
   "cell_type": "code",
   "execution_count": 4,
   "metadata": {},
   "outputs": [],
   "source": [
    "def count_keys(lst):\n",
    "\n",
    "    counts = {}\n",
    "    for item in lst:\n",
    "        if isinstance(item, list):\n",
    "            sub_counts = count_keys(item)\n",
    "            for key, value in sub_counts.items():\n",
    "                counts[key] = counts.get(key, 0) + value\n",
    "        else:\n",
    "            counts[item] = counts.get(item, 0) + 1\n",
    "    return counts"
   ]
  },
  {
   "cell_type": "code",
   "execution_count": 53,
   "metadata": {},
   "outputs": [],
   "source": [
    "import yaml\n",
    "def parse_data(new_data,idx_cot,dataset,split):\n",
    "    scores_per_item = []\n",
    "    variables_per_item = []\n",
    "    lowest_obj = []\n",
    "    scores_with_indicator = []\n",
    "    for item in new_data[dataset][split]:\n",
    "        flag = False\n",
    "        try:\n",
    "            data = yaml.load(item['generated_cot'][idx_cot]['cot'], Loader=yaml.FullLoader)\n",
    "            if any(isinstance(v, str) for v in data.values()):\n",
    "                new_dict = {k: v for k, v in data.items() if k.startswith('obj')}\n",
    "                #scores_per_item.append(new_dict)\n",
    "                flag = True\n",
    "                variables_per_item.append(data)\n",
    "        except:\n",
    "            print(\"wrong output found\")\n",
    "            continue\n",
    "\n",
    "        if flag == True:\n",
    "            data = new_dict\n",
    "            \n",
    "            try:\n",
    "                # Find the lowest value\n",
    "                lowest_value = min(data.values())\n",
    "\n",
    "                # Calculate the average value\n",
    "                average_value = sum(data.values()) / len(data)\n",
    "\n",
    "                # Find the key(s) of the lowest value\n",
    "                lowest_keys = [key for key, value in data.items() if value == lowest_value]     \n",
    "                lowest_obj.append(lowest_keys)\n",
    "\n",
    "                # Add lowest and average values to the dictionary\n",
    "                data['lowest'] = lowest_value\n",
    "                data['average'] = average_value\n",
    "            except:\n",
    "                data['lowest'] = 'None'\n",
    "                data['average'] = 'None'\n",
    "                lowest_obj.append('None')\n",
    "                print(\"non_int data found... continue\")\n",
    "                # print(data)\n",
    "\n",
    "            scores_per_item.append(data)\n",
    "            scores_with_indicator.append((data,item['generated_cot'][0]['answers'][0]['correct_answer']))\n",
    "\n",
    "    #filter for strings\n",
    "    lowest_tuples = []\n",
    "    for i in range(len(lowest_obj)):\n",
    "        lowest_tuples.append((lowest_obj[i],scores_with_indicator[i][1]))\n",
    "    # print(lowest_tuples[0])\n",
    "    filtered_lowest_tuples = [score_tuple for score_tuple in lowest_tuples if not any(isinstance(value, str) for value in score_tuple[0])]\n",
    "         \n",
    "    return scores_per_item, variables_per_item, filtered_lowest_tuples, scores_with_indicator"
   ]
  },
  {
   "cell_type": "code",
   "execution_count": 6,
   "metadata": {},
   "outputs": [],
   "source": [
    "def get_further_data(scores_per_item):\n",
    "# Get unique keys from all dictionaries\n",
    "    keys = set().union(*scores_per_item)\n",
    "\n",
    "    # Create lists of values for each key\n",
    "    scores_per_objective = {key: [d.get(key) for d in scores_per_item] for key in keys}\n",
    "\n",
    "    # #check values for nonetype\n",
    "    # for key, value in scores_per_objective.items():\n",
    "    #     if value is not str:\n",
    "    #         #print(key,value)\n",
    "    #         continue\n",
    "\n",
    "    averaged_data = {key: (sum(v for v in value if v is not None) / len([v for v in value if v is not None])) for key, value in scores_per_objective.items() if len([v for v in value if v is not None]) > 0}\n",
    "\n",
    "    # Convert the averaged data dictionary to a Pandas DataFrame\n",
    "    df = pd.DataFrame.from_dict(averaged_data, orient='index', columns=['Average'])\n",
    "\n",
    "    # Sort the DataFrame by the index (row labels)\n",
    "    df = df.loc[['obj_1', 'obj_2', 'obj_3', 'obj_4', 'obj_5', 'obj_6', 'obj_7', 'obj_8', 'obj_9', 'obj_10', 'obj_11']]\n",
    "\n",
    "    return scores_per_objective, df"
   ]
  },
  {
   "cell_type": "code",
   "execution_count": 54,
   "metadata": {},
   "outputs": [],
   "source": [
    "import yaml\n",
    "def parse_data_test(new_data,idx_cot,dataset,split):\n",
    "    scores_per_item = []\n",
    "    variables_per_item = []\n",
    "    lowest_obj = []\n",
    "    scores_with_indicator = []\n",
    "    for item in new_data[dataset][split]:\n",
    "        flag = False\n",
    "        try:\n",
    "            data = yaml.load(item['generated_cot'][idx_cot]['cot'], Loader=yaml.FullLoader)\n",
    "            if any(isinstance(v, str) for v in data.values()):\n",
    "                new_dict = {k: v for k, v in data.items() if k.startswith('obj')}\n",
    "                #scores_per_item.append(new_dict)\n",
    "                flag = True\n",
    "                variables_per_item.append(data)\n",
    "        except:\n",
    "            print(\"wrong output found\")\n",
    "            continue\n",
    "\n",
    "        if flag == True:\n",
    "            data = new_dict\n",
    "            \n",
    "            try:\n",
    "                # Find the lowest value\n",
    "                lowest_value = min(data.values())\n",
    "\n",
    "                # Calculate the average value\n",
    "                average_value = sum(data.values()) / len(data)\n",
    "\n",
    "                # Find the key(s) of the lowest value\n",
    "                lowest_keys = [key for key, value in data.items() if value == lowest_value]     \n",
    "                lowest_obj.append(lowest_keys)\n",
    "\n",
    "                # Add lowest and average values to the dictionary\n",
    "                data['lowest_keys'] = lowest_keys\n",
    "                data['lowest'] = lowest_value\n",
    "                data['average'] = average_value\n",
    "            except:\n",
    "                data['lowest'] = 'None'\n",
    "                data['average'] = 'None'\n",
    "                lowest_obj.append('None')\n",
    "                print(\"non_int data found... continue\")\n",
    "                # print(data)\n",
    "\n",
    "            scores_per_item.append(data)\n",
    "            scores_with_indicator.append((data,item['generated_cot'][0]['answers'][0]['correct_answer']))\n",
    "\n",
    "    #filter for strings\n",
    "    lowest_tuples = []\n",
    "    for i in range(len(lowest_obj)):\n",
    "        lowest_tuples.append((lowest_obj[i],scores_with_indicator[i][1]))\n",
    "    # print(lowest_tuples[0])\n",
    "    filtered_lowest_tuples = [score_tuple for score_tuple in lowest_tuples if not any(isinstance(value, str) for value in score_tuple[0])]\n",
    "         \n",
    "    return scores_per_item, variables_per_item, filtered_lowest_tuples, scores_with_indicator"
   ]
  },
  {
   "cell_type": "code",
   "execution_count": 7,
   "metadata": {},
   "outputs": [],
   "source": [
    "def fix_str_score(scores_per_item):\n",
    "    for i,element in enumerate(scores_per_item):\n",
    "        for inner_key, value in element.items():\n",
    "            if isinstance(value,str):\n",
    "                scores_per_item.pop(i)\n",
    "    return scores_per_item"
   ]
  },
  {
   "cell_type": "code",
   "execution_count": 8,
   "metadata": {},
   "outputs": [],
   "source": [
    "def compare_true_false(obj_scores_true,obj_scores_false):\n",
    "\n",
    "    averaged_true = {key: (sum(v for v in value if v is not None) / len([v for v in value if v is not None])) for key, value in obj_scores_true.items() if len([v for v in value if v is not None]) > 0}\n",
    "    averaged_false = {key: (sum(v for v in value if v is not None) / len([v for v in value if v is not None])) for key, value in obj_scores_false.items() if len([v for v in value if v is not None]) > 0}\n",
    "\n",
    "\n",
    "    # Convert the averaged data dictionary to a Pandas DataFrame\n",
    "    df_true = pd.DataFrame.from_dict(averaged_true, orient='index', columns=['Average'])\n",
    "    df_false = pd.DataFrame.from_dict(averaged_false, orient='index', columns=['Average'])\n",
    "\n",
    "    # Sort the DataFrame by the index (row labels)\n",
    "    df_true = df_true.loc[['obj_1', 'obj_2', 'obj_3', 'obj_4', 'obj_5', 'obj_6', 'obj_7', 'obj_8', 'obj_9', 'obj_10', 'obj_11','average']]\n",
    "    df_false = df_false.loc[['obj_1', 'obj_2', 'obj_3', 'obj_4', 'obj_5', 'obj_6', 'obj_7', 'obj_8', 'obj_9', 'obj_10', 'obj_11','average']]\n",
    "\n",
    "    # Rename the 'Average' column in each dataframe\n",
    "    df_true.rename(columns={'Average': 'Average_true'}, inplace=True)\n",
    "    df_false.rename(columns={'Average': 'Average_false'}, inplace=True)\n",
    "\n",
    "    # Concatenate the dataframes horizontally along the columns\n",
    "    merged_df = pd.concat([df_true, df_false], axis=1)\n",
    "\n",
    "    merged_df['Difference'] = merged_df['Average_true'] - merged_df['Average_false']\n",
    "\n",
    "  \n",
    "\n",
    "    return merged_df"
   ]
  },
  {
   "cell_type": "code",
   "execution_count": 9,
   "metadata": {},
   "outputs": [],
   "source": [
    "#helper functions for results\n",
    "import matplotlib.pyplot as plt\n",
    "from scipy.stats import ttest_ind\n",
    "import statistics\n",
    "\n",
    "def freq_bar_plot(scores_per_item): #later better axes\n",
    "    average_per_item = [sum(d.values()) / len(d) for d in scores_per_item]\n",
    "    # Create a histogram\n",
    "    plt.hist(average_per_item, bins='auto', alpha=0.7)\n",
    "    plt.xlabel('Values')\n",
    "    plt.ylabel('Frequency')\n",
    "    plt.title('Frequency of average score per item')\n",
    "    plt.show()\n",
    "\n",
    "def avg_true_false(data,average_per_item,dataset,split):\n",
    "    item_correct = []\n",
    "    for item in data[dataset][split]:\n",
    "        item_correct.append(item['generated_cot'][0]['answers'][0]['correct_answer'])\n",
    "\n",
    "    # Example lists of scores and indicators\n",
    "    scores = average_per_item\n",
    "    indicators = item_correct\n",
    "\n",
    "    # Separate scores based on indicators\n",
    "    scores_true = [score for score, indicator in zip(scores, indicators) if indicator]\n",
    "    scores_false = [score for score, indicator in zip(scores, indicators) if not indicator]\n",
    "\n",
    "    print(\"scores true:\", statistics.mean(scores_true))\n",
    "    print(\"scores false:\", statistics.mean(scores_false))\n"
   ]
  },
  {
   "cell_type": "code",
   "execution_count": 10,
   "metadata": {},
   "outputs": [],
   "source": [
    "import math\n",
    "\n",
    "def standard_deviation(data):\n",
    "    # First, compute the mean for each key.\n",
    "    mean_data = {key: sum(value) / len(value) for key, value in data.items()}\n",
    "    \n",
    "    # Then, for each key, compute the sum of the squared differences from the mean.\n",
    "    variance_data = {}\n",
    "    for key, value in data.items():\n",
    "        variance_data[key] = sum((x - mean_data[key]) ** 2 for x in value) / (len(value)-1)\n",
    "    \n",
    "    # Finally, compute the standard deviation for each key.\n",
    "    standard_deviation_data = {key: math.sqrt(value) for key, value in variance_data.items()}\n",
    "    \n",
    "    return standard_deviation_data"
   ]
  },
  {
   "cell_type": "code",
   "execution_count": 11,
   "metadata": {},
   "outputs": [],
   "source": [
    "from scipy.stats import mannwhitneyu\n",
    "\n",
    "def u_test(scores_with_indicator):\n",
    "\n",
    "    #filter for strings\n",
    "    filtered_scores_with_indicator = [score_tuple for score_tuple in scores_with_indicator if not any(isinstance(value, str) for value in score_tuple[0].values())]\n",
    "    \n",
    "\n",
    "    scores, indicators= zip(*filtered_scores_with_indicator)\n",
    "\n",
    "    # Separate scores based on indicators\n",
    "    scores_true = [score for score, indicator in zip(scores, indicators) if indicator]\n",
    "    scores_false = [score for score, indicator in zip(scores, indicators) if not indicator]\n",
    "\n",
    "    keys = set().union(*scores_true)\n",
    "        # Create lists of values for each key\n",
    "    scores_per_objective_true = {key: [d.get(key) for d in scores_true] for key in keys if key != \"critique\"} \n",
    "\n",
    "    keys = set().union(*scores_false)\n",
    "        # Create lists of values for each key\n",
    "    scores_per_objective_false = {key: [d.get(key) for d in scores_false] for key in keys if key != \"critique\"} \n",
    "\n",
    "    dict_1 = scores_per_objective_true\n",
    "    dict_2 = scores_per_objective_false\n",
    "\n",
    "    # make sure both dictionaries have the same keys\n",
    "    assert dict_1.keys() == dict_2.keys()\n",
    "\n",
    "    print(dict_1.keys())\n",
    "\n",
    "    for key in dict_1.keys():\n",
    "        u_stat, p_val = mannwhitneyu(dict_1[key], dict_2[key])\n",
    "        print(f\"For {key}, U-statistic is {u_stat:.2f} and the p-value is {p_val:.2f}\")\n",
    "    return scores_per_objective_true,scores_per_objective_false"
   ]
  },
  {
   "cell_type": "code",
   "execution_count": 12,
   "metadata": {},
   "outputs": [],
   "source": [
    "import copy\n",
    "\"\"\"Only use if none ans should not be false\"\"\"\n",
    "def generate_without_none_ans(data):\n",
    "    all_data = copy.deepcopy(data)\n",
    "    true_data = copy.deepcopy(data)\n",
    "    false_data = copy.deepcopy(data)\n",
    "\n",
    "\n",
    "    false_data.evaluate()\n",
    "    false_data.select_generated_cots(answer=False)\n",
    "    false_data = false_data.filter(lambda x: len(x[\"generated_cot\"])==1)\n",
    "\n",
    "    true_data.evaluate()\n",
    "    true_data.select_generated_cots(answer=True)\n",
    "    true_data = true_data.filter(lambda x: len(x[\"generated_cot\"])==1)\n",
    "\n",
    "    full_data = false_data.merge(true_data)\n",
    "\n",
    "    ids = full_data.dump_ids()\n",
    "\n",
    "    # print(len(ids))\n",
    "\n",
    "    # print(all_data)\n",
    "\n",
    "    none_data = all_data.filter(lambda ex: ex['id'] not in ids)\n",
    "\n",
    "    # print(none_data)\n",
    "\n",
    "    none_ids = none_data.dump_ids()\n",
    "\n",
    "    return all_data.filter(lambda ex: ex['id'] not in none_ids)\n",
    "\n"
   ]
  },
  {
   "cell_type": "code",
   "execution_count": 51,
   "metadata": {},
   "outputs": [],
   "source": [
    "import pandas as df\n",
    "# Modify the function to handle 'None' as string\n",
    "def handle_string(df, column):\n",
    "    for index, value in df[column].items():\n",
    "        if isinstance(value, str):\n",
    "            if value.lower() == 'none':\n",
    "                df.loc[index, column] = None  # or np.nan\n",
    "            else:\n",
    "                continue"
   ]
  },
  {
   "cell_type": "code",
   "execution_count": 15,
   "metadata": {},
   "outputs": [],
   "source": [
    "import pandas as pd\n",
    "from sklearn.model_selection import train_test_split\n",
    "from sklearn.linear_model import LogisticRegression\n",
    "from sklearn.metrics import accuracy_score\n"
   ]
  },
  {
   "cell_type": "code",
   "execution_count": 64,
   "metadata": {},
   "outputs": [],
   "source": [
    "def practical_results(scores_with_indicator):\n",
    "    data = scores_with_indicator\n",
    "    data = [(t[0], False if t[1] is None else t[1]) for t in data]\n",
    "\n",
    "    #all objs\n",
    "    df = pd.DataFrame([t[0] for t in data])\n",
    "    df['Indicator'] = [t[1] for t in data]\n",
    "\n",
    "    #df_for_regression does not include variables created later \n",
    "    df_for_reg = copy.deepcopy(df)\n",
    "    handle_string(df_for_reg,'average')\n",
    "    handle_string(df,'average')\n",
    "\n",
    "    df = df[df['average'].notna()]\n",
    "    df = df.sort_values(by='average')\n",
    "\n",
    "    df['Cumulative Count'] = df['Indicator'].cumsum()\n",
    "\n",
    "    # Create a new column 'Cumulative Count False' that contains the cumulative count of 'False' values\n",
    "    df['Cumulative Count False'] = (~df['Indicator']).cumsum()\n",
    "\n",
    "    # Plot graph with 'Average' as x-axis and 'Cumulative Count' and 'Cumulative Count False' as y-axis\n",
    "    plt.figure(figsize=(10, 6))\n",
    "    plt.plot(df['average'], df['Cumulative Count'], label='Correct')\n",
    "    plt.plot(df['average'], df['Cumulative Count False'], label='Incorrect', color='red')\n",
    "    plt.xlabel('Average Objective Score ') #Distribution of (in)correct answers when average objective score increases\n",
    "    plt.ylabel('Cumulative Sum of Questions Evaluated')\n",
    "    plt.title('Cumulative Count of True and False Values vs Average')\n",
    "    plt.grid(True)\n",
    "    plt.legend()\n",
    "    plt.show()\n",
    "\n",
    "    df['Difference'] = df['Cumulative Count False'] - df['Cumulative Count']\n",
    "\n",
    "    # Find the maximum value in 'Difference'\n",
    "    max_diff = df['Difference'].max()\n",
    "\n",
    "    # Find the corresponding 'Cumulative Count True' and 'Cumulative Count False' values\n",
    "    # corresponding_values = df[df['Difference'] == max_diff][['Cumulative Count', 'Cumulative Count False']]\n",
    "    # print(\"Maximum difference between :\", max_diff)\n",
    "    # print(\"Corresponding Values:\")\n",
    "    # print(corresponding_values)\n",
    "\n",
    "    #out of sample accuracy\n",
    "    df_for_reg = df_for_reg[df_for_reg['average'].notna()]\n",
    "\n",
    "    for column in df_for_reg.columns:\n",
    "        if column.startswith('obj_'):\n",
    "            is_float = df_for_reg[column].apply(lambda x: not isinstance(x, str))\n",
    "            df_for_reg = df_for_reg[is_float]\n",
    "\n",
    "    X = df_for_reg.drop('Indicator', axis=1)  # Features\n",
    "    y = df_for_reg['Indicator'].values  # Target variable\n",
    "\n",
    "    X_train, X_test, y_train, y_test = train_test_split(X, y, test_size=0.2, random_state=42)\n",
    "\n",
    "    classifier = LogisticRegression(max_iter=10000)\n",
    "    classifier.fit(X_train, y_train)\n",
    "\n",
    "    y_pred = classifier.predict(X_test)\n",
    "    accuracy = accuracy_score(y_test, y_pred)\n",
    "    print(\"Accuracy with 20% test size:\", accuracy)\n",
    "\n",
    "    # training accuracy:\n",
    "    classifier = LogisticRegression(max_iter=10000)\n",
    "    classifier.fit(X, y)\n",
    "\n",
    "    y_pred = classifier.predict(X)\n",
    "    accuracy = accuracy_score(y, y_pred)\n",
    "    print(\"Training Accuracy:\", accuracy)\n",
    "\n",
    "    # Calculate the correlation matrix\n",
    "    correlation_matrix = df.corr()\n",
    "\n",
    "    # Get the correlation values with the 'Indicator' variable\n",
    "    indicator_correlation = correlation_matrix['Indicator']\n",
    "    print(\"\\nCorrelations\")\n",
    "    print(indicator_correlation)\n",
    "\n",
    "    return df_for_reg"
   ]
  },
  {
   "attachments": {},
   "cell_type": "markdown",
   "metadata": {},
   "source": [
    "## lowest test\n"
   ]
  },
  {
   "cell_type": "code",
   "execution_count": 28,
   "metadata": {},
   "outputs": [
    {
     "data": {
      "application/vnd.jupyter.widget-view+json": {
       "model_id": "b42854f181e24698aeb5999333d5840f",
       "version_major": 2,
       "version_minor": 0
      },
      "text/plain": [
       "Creating json from Arrow format:   0%|          | 0/1 [00:00<?, ?ba/s]"
      ]
     },
     "metadata": {},
     "output_type": "display_data"
    },
    {
     "data": {
      "application/vnd.jupyter.widget-view+json": {
       "model_id": "516fb230aed04e6395d2c45425aaccc1",
       "version_major": 2,
       "version_minor": 0
      },
      "text/plain": [
       "Creating json from Arrow format:   0%|          | 0/1 [00:00<?, ?ba/s]"
      ]
     },
     "metadata": {},
     "output_type": "display_data"
    },
    {
     "name": "stdout",
     "output_type": "stream",
     "text": [
      "non_int data found... continue\n",
      "{'obj_1': 100, 'obj_2': 100, 'obj_3': 'N/A', 'obj_4': 100, 'obj_5': 70, 'obj_6': 90, 'obj_7': 100, 'obj_8': 100, 'obj_9': 100, 'obj_10': 100, 'obj_11': 100, 'lowest': 'None', 'average': 'None'}\n",
      "(['obj_1', 'obj_2', 'obj_3', 'obj_4', 'obj_5', 'obj_6', 'obj_7', 'obj_8', 'obj_9', 'obj_10', 'obj_11'], True)\n"
     ]
    }
   ],
   "source": [
    "import pandas as pd\n",
    "data_400 = Collection.from_json(\"./med_qa_400_first_gpt-3.5-turbo_gpt-4.json\")\n",
    "data_100 = Collection.from_json(\"./med_qa_first_gpt-3.5-turbo_gpt-4.json\")\n",
    "data_500 = data_400.merge(data_100)\n",
    "data = data_500\n",
    "scores_per_item, variables_per_item, filtered_lowest_tuples, scores_with_indicator = parse_data_test(data,idx_cot=1,dataset='med_qa',split='test')\n"
   ]
  },
  {
   "cell_type": "code",
   "execution_count": 69,
   "metadata": {},
   "outputs": [],
   "source": [
    "def reg_with_one_hot(scores_with_indicator):\n",
    "\n",
    "    data = scores_with_indicator\n",
    "    data = [(t[0], False if t[1] is None else t[1]) for t in data]\n",
    "\n",
    "    #all objs\n",
    "    df_for_reg = pd.DataFrame([t[0] for t in data])\n",
    "    df_for_reg['Indicator'] = [t[1] for t in data]\n",
    "\n",
    "    # Create a temporary dataframe for exploding 'lowest keys'\n",
    "    df_temp = df_for_reg['lowest_keys'].explode()\n",
    "\n",
    "    # Apply one-hot encoding\n",
    "    df_temp = pd.get_dummies(df_temp, prefix='lowest_keys')\n",
    "\n",
    "    # Aggregate the data back\n",
    "    df_temp = df_temp.groupby(df_temp.index).sum()\n",
    "\n",
    "    # Now join this back with the original dataframe\n",
    "    df_for_reg = df_for_reg.join(df_temp)\n",
    "\n",
    "    df_for_reg = df_for_reg.drop('lowest_keys', axis=1)\n",
    "\n",
    "    for column in df_for_reg.columns:\n",
    "        if column.startswith('obj_'):\n",
    "            is_float = df_for_reg[column].apply(lambda x: not isinstance(x, str))\n",
    "            df_for_reg = df_for_reg[is_float]\n",
    "\n",
    "    # X = df_for_reg['average'].values.reshape(-1, 1)  # Features\n",
    "    X = df_for_reg.drop('Indicator', axis=1)  # Features\n",
    "    y = df_for_reg['Indicator'].values  # Target variable\n",
    "\n",
    "    X_train, X_test, y_train, y_test = train_test_split(X, y, test_size=0.2, random_state=42)\n",
    "\n",
    "    classifier = LogisticRegression(max_iter=10000)\n",
    "    classifier.fit(X_train, y_train)\n",
    "\n",
    "    y_pred = classifier.predict(X_test)\n",
    "    accuracy = accuracy_score(y_test, y_pred)\n",
    "    print(\"Accuracy:\", accuracy)\n",
    "\n",
    "    # training accuracy:\n",
    "    classifier = LogisticRegression(max_iter=10000)\n",
    "    classifier.fit(X, y)\n",
    "\n",
    "    y_pred = classifier.predict(X)\n",
    "    accuracy = accuracy_score(y, y_pred)\n",
    "    print(\"Training Accuracy:\", accuracy)\n",
    "\n",
    "    # Calculate the correlation matrix\n",
    "    correlation_matrix = df_for_reg.corr()\n",
    "\n",
    "    # Get the correlation values with the 'Indicator' variable\n",
    "    indicator_correlation = correlation_matrix['Indicator']\n",
    "\n",
    "    print(indicator_correlation)\n",
    "\n",
    "    # Get the coefficients and intercept\n",
    "    coefficients = classifier.coef_\n",
    "    intercept = classifier.intercept_\n",
    "\n",
    "    # Print the coefficients and intercept\n",
    "    print(\"Coefficients:\", coefficients)\n",
    "    print(\"Intercept:\", intercept)\n",
    "\n",
    "    #check feature selection\n",
    "    from sklearn.feature_selection import SelectFromModel\n",
    "\n",
    "    # Perform feature selection using L1 regularization\n",
    "    selector = SelectFromModel(classifier, threshold=None)\n",
    "    selector.fit(X_train, y_train)\n",
    "\n",
    "    # Get selected feature indices\n",
    "    selected_feature_indices = selector.get_support(indices=True)\n",
    "\n",
    "    # Get selected feature names\n",
    "    selected_feature_names = X_train.columns[selected_feature_indices]\n",
    "\n",
    "    # Print selected feature names\n",
    "    print(\"Selected Features:\")\n",
    "    print(selected_feature_names)"
   ]
  },
  {
   "attachments": {},
   "cell_type": "markdown",
   "metadata": {},
   "source": [
    "## results indicative of correct answer"
   ]
  },
  {
   "cell_type": "code",
   "execution_count": 71,
   "metadata": {},
   "outputs": [
    {
     "data": {
      "application/vnd.jupyter.widget-view+json": {
       "model_id": "b2186847faaf49418c2db274c54170fd",
       "version_major": 2,
       "version_minor": 0
      },
      "text/plain": [
       "Creating json from Arrow format:   0%|          | 0/1 [00:00<?, ?ba/s]"
      ]
     },
     "metadata": {},
     "output_type": "display_data"
    },
    {
     "data": {
      "application/vnd.jupyter.widget-view+json": {
       "model_id": "bf195d93a34b48938ce8dcd66b93100b",
       "version_major": 2,
       "version_minor": 0
      },
      "text/plain": [
       "Creating json from Arrow format:   0%|          | 0/1 [00:00<?, ?ba/s]"
      ]
     },
     "metadata": {},
     "output_type": "display_data"
    },
    {
     "name": "stdout",
     "output_type": "stream",
     "text": [
      "wrong output found\n",
      "non_int data found... continue\n"
     ]
    },
    {
     "data": {
      "image/png": "[encoded data removed]",
      "text/plain": [
       "<Figure size 1000x600 with 1 Axes>"
      ]
     },
     "metadata": {},
     "output_type": "display_data"
    },
    {
     "name": "stdout",
     "output_type": "stream",
     "text": [
      "Accuracy with 20% test size: 0.5875\n",
      "Training Accuracy: 0.628140703517588\n",
      "\n",
      "Correlations\n",
      "obj_1                     0.117501\n",
      "obj_2                     0.093427\n",
      "obj_3                     0.111022\n",
      "obj_4                     0.167537\n",
      "obj_5                     0.113342\n",
      "obj_6                     0.121151\n",
      "obj_7                     0.113241\n",
      "obj_8                     0.135372\n",
      "obj_9                     0.099160\n",
      "obj_10                    0.136002\n",
      "obj_11                    0.166411\n",
      "lowest                    0.142334\n",
      "average                   0.143391\n",
      "Indicator                 1.000000\n",
      "Cumulative Count          0.160791\n",
      "Cumulative Count False    0.145938\n",
      "Difference               -0.182317\n",
      "Name: Indicator, dtype: float64\n"
     ]
    }
   ],
   "source": [
    "# GPT-3.5 supervised by GPT-3.5\n",
    "data_400 = Collection.from_json(\"./med_qa_400_first_gpt-3.5-turbo_gpt-3.5-turbo.json\")\n",
    "data_100 = Collection.from_json(\"./med_qa_first_gpt-3.5-turbo_gpt-3.5-turbo.json\")\n",
    "data_500 = data_400.merge(data_100)\n",
    "data = data_500\n",
    "scores_per_item, variables_per_item, filtered_lowest_tuples, scores_with_indicator = parse_data(data,idx_cot=1,dataset='med_qa',split='test')\n",
    "df_for_reg = practical_results(scores_with_indicator)"
   ]
  },
  {
   "cell_type": "code",
   "execution_count": 74,
   "metadata": {},
   "outputs": [
    {
     "data": {
      "application/vnd.jupyter.widget-view+json": {
       "model_id": "b8399ed6e1eb4adaad88fa4ee161f49b",
       "version_major": 2,
       "version_minor": 0
      },
      "text/plain": [
       "Creating json from Arrow format:   0%|          | 0/1 [00:00<?, ?ba/s]"
      ]
     },
     "metadata": {},
     "output_type": "display_data"
    },
    {
     "data": {
      "application/vnd.jupyter.widget-view+json": {
       "model_id": "d93d13ba78e845d08251380c99d71bd2",
       "version_major": 2,
       "version_minor": 0
      },
      "text/plain": [
       "Creating json from Arrow format:   0%|          | 0/1 [00:00<?, ?ba/s]"
      ]
     },
     "metadata": {},
     "output_type": "display_data"
    },
    {
     "name": "stdout",
     "output_type": "stream",
     "text": [
      "wrong output found\n",
      "non_int data found... continue\n",
      "Accuracy: 0.5625\n",
      "Training Accuracy: 0.628140703517588\n",
      "obj_1                 0.117501\n",
      "obj_2                 0.093427\n",
      "obj_3                 0.111022\n",
      "obj_4                 0.167537\n",
      "obj_5                 0.113342\n",
      "obj_6                 0.121151\n",
      "obj_7                 0.113241\n",
      "obj_8                 0.135372\n",
      "obj_9                 0.099160\n",
      "obj_10                0.136002\n",
      "obj_11                0.166411\n",
      "lowest                0.142334\n",
      "average               0.143391\n",
      "Indicator             1.000000\n",
      "lowest_keys_obj_1     0.110316\n",
      "lowest_keys_obj_10    0.136698\n",
      "lowest_keys_obj_11    0.084850\n",
      "lowest_keys_obj_2     0.121087\n",
      "lowest_keys_obj_3     0.097971\n",
      "lowest_keys_obj_4     0.079404\n",
      "lowest_keys_obj_5     0.039015\n",
      "lowest_keys_obj_6     0.073508\n",
      "lowest_keys_obj_7     0.065687\n",
      "lowest_keys_obj_8     0.116594\n",
      "lowest_keys_obj_9     0.092248\n",
      "Name: Indicator, dtype: float64\n",
      "Coefficients: [[ 0.00829176 -0.0768503  -0.00199605  0.05267876 -0.01127777 -0.01198724\n",
      "   0.01180891  0.01941015 -0.05944318  0.03976893  0.04784854 -0.0028545\n",
      "   0.00165932 -0.12724943  0.95242109  0.63545116 -0.5587973  -0.21744278\n",
      "  -0.10189195  0.05630055  0.03038803  0.24552525  0.35692536 -0.02157346]]\n",
      "Intercept: [-1.87205527]\n",
      "Selected Features:\n",
      "Index(['lowest_keys_obj_1', 'lowest_keys_obj_10', 'lowest_keys_obj_11',\n",
      "       'lowest_keys_obj_4', 'lowest_keys_obj_6', 'lowest_keys_obj_7',\n",
      "       'lowest_keys_obj_9'],\n",
      "      dtype='object')\n"
     ]
    }
   ],
   "source": [
    "data_400 = Collection.from_json(\"./med_qa_400_first_gpt-3.5-turbo_gpt-3.5-turbo.json\")\n",
    "data_100 = Collection.from_json(\"./med_qa_first_gpt-3.5-turbo_gpt-3.5-turbo.json\")\n",
    "data_500 = data_400.merge(data_100)\n",
    "data = data_500\n",
    "scores_per_item, variables_per_item, filtered_lowest_tuples, scores_with_indicator = parse_data_test(data,idx_cot=1,dataset='med_qa',split='test')\n",
    "reg_with_one_hot(scores_with_indicator)"
   ]
  },
  {
   "cell_type": "code",
   "execution_count": 78,
   "metadata": {},
   "outputs": [
    {
     "name": "stdout",
     "output_type": "stream",
     "text": [
      "Accuracy: 0.5625\n",
      "Training Accuracy: 0.628140703517588\n"
     ]
    },
    {
     "name": "stderr",
     "output_type": "stream",
     "text": [
      "/Users/robertpraas/ThoughtSource/.conda/lib/python3.9/site-packages/sklearn/base.py:432: UserWarning: X has feature names, but SelectFromModel was fitted without feature names\n",
      "  warnings.warn(\n"
     ]
    }
   ],
   "source": [
    "from sklearn.feature_selection import SelectFromModel\n",
    "data = scores_with_indicator\n",
    "data = [(t[0], False if t[1] is None else t[1]) for t in data]\n",
    "\n",
    "#all objs\n",
    "df_for_reg = pd.DataFrame([t[0] for t in data])\n",
    "df_for_reg['Indicator'] = [t[1] for t in data]\n",
    "\n",
    "# Create a temporary dataframe for exploding 'lowest keys'\n",
    "df_temp = df_for_reg['lowest_keys'].explode()\n",
    "\n",
    "# Apply one-hot encoding\n",
    "df_temp = pd.get_dummies(df_temp, prefix='lowest_keys')\n",
    "\n",
    "# Aggregate the data back\n",
    "df_temp = df_temp.groupby(df_temp.index).sum()\n",
    "\n",
    "# Now join this back with the original dataframe\n",
    "df_for_reg = df_for_reg.join(df_temp)\n",
    "\n",
    "df_for_reg = df_for_reg.drop('lowest_keys', axis=1)\n",
    "\n",
    "for column in df_for_reg.columns:\n",
    "    if column.startswith('obj_'):\n",
    "        is_float = df_for_reg[column].apply(lambda x: not isinstance(x, str))\n",
    "        df_for_reg = df_for_reg[is_float]\n",
    "\n",
    "# X = df_for_reg['average'].values.reshape(-1, 1)  # Features\n",
    "X = df_for_reg.drop('Indicator', axis=1)  # Features\n",
    "y = df_for_reg['Indicator'].values  # Target variable\n",
    "\n",
    "X_train, X_test, y_train, y_test = train_test_split(X, y, test_size=0.2, random_state=42)\n",
    "\n",
    "classifier = LogisticRegression(max_iter=10000)\n",
    "classifier.fit(X_train, y_train)\n",
    "model = SelectFromModel(classifier, prefit=True)\n",
    "X_new = model.transform(X)\n",
    "X_train, X_test, y_train, y_test = train_test_split(X_new, y, test_size=0.2, random_state=42)\n",
    "\n",
    "classifier = LogisticRegression(max_iter=10000)\n",
    "classifier.fit(X_train, y_train)\n",
    "\n",
    "y_pred = classifier.predict(X_test)\n",
    "accuracy = accuracy_score(y_test, y_pred)\n",
    "print(\"Accuracy:\", accuracy)\n",
    "\n",
    "# training accuracy:\n",
    "classifier = LogisticRegression(max_iter=10000)\n",
    "classifier.fit(X, y)\n",
    "\n",
    "y_pred = classifier.predict(X)\n",
    "accuracy = accuracy_score(y, y_pred)\n",
    "print(\"Training Accuracy:\", accuracy)"
   ]
  },
  {
   "cell_type": "code",
   "execution_count": 79,
   "metadata": {},
   "outputs": [
    {
     "data": {
      "text/plain": [
       "array([[0, 0, 0, ..., 0, 0, 0],\n",
       "       [0, 0, 0, ..., 0, 0, 1],\n",
       "       [1, 1, 1, ..., 1, 1, 1],\n",
       "       ...,\n",
       "       [0, 0, 0, ..., 0, 0, 0],\n",
       "       [0, 0, 0, ..., 0, 0, 1],\n",
       "       [0, 0, 0, ..., 0, 0, 1]], dtype=object)"
      ]
     },
     "execution_count": 79,
     "metadata": {},
     "output_type": "execute_result"
    }
   ],
   "source": [
    "X_new"
   ]
  },
  {
   "cell_type": "code",
   "execution_count": null,
   "metadata": {},
   "outputs": [],
   "source": [
    "\n",
    ">>> model = SelectFromModel(lsvc, prefit=True)\n",
    ">>> X_new = model.transform(X)\n",
    ">>> X_new.shape"
   ]
  },
  {
   "cell_type": "code",
   "execution_count": null,
   "metadata": {},
   "outputs": [],
   "source": [
    "# GPT-4 supervised by GPT-3.5\n",
    "data_400 = Collection.from_json(\"./med_qa_400_first_gpt-4_gpt-3.5-turbo.json\")\n",
    "data_100 = Collection.from_json(\"./med_qa_100_first_gpt-4_gpt-3.5-turbo.json\")\n",
    "data_500 = data_400.merge(data_100)\n",
    "data = data_500\n",
    "scores_per_item, variables_per_item, filtered_lowest_tuples, scores_with_indicator = parse_data(data,idx_cot=1,dataset='med_qa',split='test')\n",
    "practical_results(scores_with_indicator)\n"
   ]
  },
  {
   "cell_type": "code",
   "execution_count": null,
   "metadata": {},
   "outputs": [],
   "source": [
    "# GPT-4 supervised by GPT-4\n",
    "data_400 = Collection.from_json(\"./med_qa_400_first_gpt-4_gpt-4.json\")\n",
    "data_100 = Collection.from_json(\"./med_qa_first_gpt-4_gpt-4.json\")\n",
    "data_500 = data_400.merge(data_100)\n",
    "data = data_500\n",
    "scores_per_item, variables_per_item, filtered_lowest_tuples, scores_with_indicator = parse_data(data,idx_cot=1,dataset='med_qa',split='test')\n",
    "practical_results(scores_with_indicator)\n",
    "\n"
   ]
  },
  {
   "cell_type": "code",
   "execution_count": null,
   "metadata": {},
   "outputs": [],
   "source": [
    "#GPT-3.5 supervised by GPT-4\n",
    "import pandas as pd\n",
    "data_400 = Collection.from_json(\"./med_qa_400_first_gpt-3.5-turbo_gpt-4.json\")\n",
    "data_100 = Collection.from_json(\"./med_qa_first_gpt-3.5-turbo_gpt-4.json\")\n",
    "data_500 = data_400.merge(data_100)\n",
    "data = data_500\n",
    "scores_per_item, variables_per_item, filtered_lowest_tuples, scores_with_indicator = parse_data(data,idx_cot=1,dataset='med_qa',split='test')\n",
    "practical_results(scores_with_indicator)\n",
    "\n"
   ]
  },
  {
   "cell_type": "code",
   "execution_count": null,
   "metadata": {},
   "outputs": [],
   "source": [
    "#Cohere supervised by GPT-3.5-turbo\n",
    "data = Collection.from_json(\"./med_qa_first_cohere_gpt-3.5-turbo.json\")\n",
    "scores_per_item, variables_per_item, filtered_lowest_tuples, scores_with_indicator = parse_data(data,idx_cot=1,dataset='med_qa',split='test')\n",
    "practical_results(scores_with_indicator)\n",
    "\n"
   ]
  },
  {
   "cell_type": "code",
   "execution_count": null,
   "metadata": {},
   "outputs": [],
   "source": [
    "#Cohere supervised by GPT-4 #IDX_COT = 2!\n",
    "data = Collection.from_json(\"./med_qa_first_cohere_gpt-4.json\")\n",
    "scores_per_item, variables_per_item, filtered_lowest_tuples, scores_with_indicator = parse_data(data,idx_cot=2,dataset='med_qa',split='test')\n",
    "practical_results(scores_with_indicator)"
   ]
  },
  {
   "cell_type": "code",
   "execution_count": 158,
   "metadata": {},
   "outputs": [
    {
     "name": "stdout",
     "output_type": "stream",
     "text": [
      "Coefficients: [[-0.03132124  0.00437515  0.00325933 -0.04750339  0.01897088  0.06438299\n",
      "   0.04457324  0.00299101 -0.03515297  0.04234187  0.03498207 -0.00370211\n",
      "   0.00926354]]\n",
      "Intercept: [-9.00329179]\n"
     ]
    }
   ],
   "source": [
    "# Extra things to consider\n",
    "\n",
    "# Get the coefficients and intercept\n",
    "coefficients = classifier.coef_\n",
    "intercept = classifier.intercept_\n",
    "\n",
    "# Print the coefficients and intercept\n",
    "print(\"Coefficients:\", coefficients)\n",
    "print(\"Intercept:\", intercept)\n",
    "\n",
    "#check feature selection\n",
    "from sklearn.feature_selection import SelectFromModel\n",
    "\n",
    "# Perform feature selection using L1 regularization\n",
    "selector = SelectFromModel(classifier, threshold=None)\n",
    "selector.fit(X_train, y_train)\n",
    "\n",
    "# Get selected feature indices\n",
    "selected_feature_indices = selector.get_support(indices=True)\n",
    "\n",
    "# Get selected feature names\n",
    "selected_feature_names = X_train.columns[selected_feature_indices]\n",
    "\n",
    "# Print selected feature names\n",
    "print(\"Selected Features:\")\n",
    "print(selected_feature_names)\n",
    "\n",
    "# Assuming you have already obtained the selected_feature_names list\n",
    "selected_feature_names = ['obj_1', 'obj_3', 'obj_7', 'obj_10']\n",
    "\n",
    "# Filter the original dataset to include only the selected features\n",
    "filtered_X = X[selected_feature_names]"
   ]
  },
  {
   "cell_type": "code",
   "execution_count": null,
   "metadata": {},
   "outputs": [],
   "source": [
    "#All 6 combinations\n",
    "\n",
    "\"\"\"\n",
    "- the graph\n",
    "- logistic regression\n",
    "- correlations\n",
    "- points 2&3 with one-hot-encoding\n",
    "\n",
    "\"\"\""
   ]
  }
 ],
 "metadata": {
  "kernelspec": {
   "display_name": "base",
   "language": "python",
   "name": "python3"
  },
  "language_info": {
   "codemirror_mode": {
    "name": "ipython",
    "version": 3
   },
   "file_extension": ".py",
   "mimetype": "text/x-python",
   "name": "python",
   "nbconvert_exporter": "python",
   "pygments_lexer": "ipython3",
   "version": "3.9.16"
  },
  "orig_nbformat": 4
 },
 "nbformat": 4,
 "nbformat_minor": 2
}
