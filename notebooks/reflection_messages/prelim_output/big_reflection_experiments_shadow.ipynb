{
 "cells": [
  {
   "attachments": {},
   "cell_type": "markdown",
   "metadata": {},
   "source": [
    "## Helper functions"
   ]
  },
  {
   "cell_type": "code",
   "execution_count": 6,
   "metadata": {},
   "outputs": [],
   "source": [
    "\"\"\"Imports\"\"\"\n",
    "from langchain.chat_models import ChatOpenAI\n",
    "from langchain.prompts.chat import (\n",
    "    ChatPromptTemplate,\n",
    "    SystemMessagePromptTemplate,\n",
    "    AIMessagePromptTemplate,\n",
    "    HumanMessagePromptTemplate,\n",
    ")\n",
    "from langchain.schema import (\n",
    "    AIMessage,\n",
    "    HumanMessage,\n",
    "    SystemMessage\n",
    ")\n",
    "\n",
    "from cot import Collection\n",
    "import yaml\n",
    "\n"
   ]
  },
  {
   "cell_type": "code",
   "execution_count": 7,
   "metadata": {},
   "outputs": [],
   "source": [
    "# Helper functions to call OpenAI model, system also generates reasoning\n",
    "# this function lets the model reason (less frequently used than system_evaluate)\n",
    "\n",
    "def system_experiment(data,model, path_system_template):\n",
    "    chat = ChatOpenAI(\n",
    "        temperature=0,\n",
    "        model_name=model,\n",
    "        request_timeout=600,\n",
    "        max_retries=1,\n",
    "    )\n",
    "\n",
    "    human_template=\"\"\"Answer the question:{question}\\nwith the following answer options:{answer_options}\"\"\"\n",
    "    human_message_prompt = HumanMessagePromptTemplate.from_template(human_template)\n",
    "    \n",
    "    with open(path_system_template, 'r') as file:\n",
    "        template = file.read()\n",
    "    system_message_prompt = SystemMessagePromptTemplate.from_template(template)\n",
    "    \n",
    "    chat_prompt = ChatPromptTemplate.from_messages([system_message_prompt, human_message_prompt])  \n",
    "    input_dict = {'chat':chat,'chat_prompt':chat_prompt, \"api_time_interval\": 1} \n",
    "    \n",
    "    return data.system_generate(input_dict)\n",
    "\n",
    "def save_as_yaml(data, filepath):\n",
    "    with open(filepath, 'w') as file:\n",
    "        yaml.dump(data, file)"
   ]
  },
  {
   "cell_type": "code",
   "execution_count": 8,
   "metadata": {},
   "outputs": [],
   "source": [
    "def system_evaluate(data,model, path_system_template):\n",
    "    chat = ChatOpenAI(\n",
    "        temperature=0,\n",
    "        model_name=model,\n",
    "        request_timeout=600,\n",
    "        max_retries=1,\n",
    "    )\n",
    "\n",
    "    human_template=\"\"\"Answer the question:{question}\\n\n",
    "    with the following answer options:{answer_options}\\n\n",
    "    Reasoning: {reasoning}\\n\n",
    "    Answer: {answer}\"\"\"\n",
    "    human_message_prompt = HumanMessagePromptTemplate.from_template(human_template)\n",
    "    \n",
    "    with open(path_system_template, 'r') as file:\n",
    "        template = file.read()\n",
    "    system_message_prompt = SystemMessagePromptTemplate.from_template(template)\n",
    "    \n",
    "    chat_prompt = ChatPromptTemplate.from_messages([system_message_prompt, human_message_prompt])  \n",
    "    input_dict = {'chat':chat,'chat_prompt':chat_prompt, \"api_time_interval\": 1} \n",
    "    \n",
    "    return data.system_eval(input_dict)"
   ]
  },
  {
   "cell_type": "code",
   "execution_count": 9,
   "metadata": {},
   "outputs": [],
   "source": [
    "import pandas as pd\n",
    "import yaml\n",
    "\n",
    "def process_new_data(new_data,idx_cot,dataset,split):\n",
    "    scores_per_item = []\n",
    "    for item in new_data[dataset][split]:\n",
    "        try:\n",
    "            scores_per_item.append(yaml.load(item['generated_cot'][idx_cot]['cot'], Loader=yaml.FullLoader))\n",
    "        except:\n",
    "            print(\"wrong output found\")\n",
    "            continue\n",
    "\n",
    "    # Get unique keys from all dictionaries\n",
    "    keys = set().union(*scores_per_item)\n",
    "\n",
    "    # Create lists of values for each key\n",
    "    scores_per_objective = {key: [d.get(key) for d in scores_per_item] for key in keys if key != \"critique\"} #added critique\n",
    "\n",
    "    #check values for nonetype\n",
    "    for key, value in scores_per_objective.items():\n",
    "        if value is not str:\n",
    "            print(key,value)\n",
    "\n",
    "\n",
    "    # Calculate the average of each list\n",
    "    averaged_data = {key: sum(value) / len(value) for key, value in scores_per_objective.items() if key!=\"critique\"} #added critique\n",
    "\n",
    "    # Convert the averaged data dictionary to a Pandas DataFrame\n",
    "    df = pd.DataFrame.from_dict(averaged_data, orient='index', columns=['Average'])\n",
    "\n",
    "    # Sort the DataFrame by the index (row labels)\n",
    "    df = df.loc[['obj_1', 'obj_2', 'obj_3', 'obj_4', 'obj_5', 'obj_6', 'obj_7', 'obj_8', 'obj_9', 'obj_10', 'obj_11']]\n",
    "\n",
    "    return scores_per_item, scores_per_objective, df"
   ]
  },
  {
   "cell_type": "code",
   "execution_count": 10,
   "metadata": {},
   "outputs": [],
   "source": [
    "def parse_data(new_data,idx_cot,dataset,split):\n",
    "    scores_per_item = []\n",
    "    variables_per_item = []\n",
    "    for item in new_data[dataset][split]:\n",
    "        try:\n",
    "            data = yaml.load(item['generated_cot'][idx_cot]['cot'], Loader=yaml.FullLoader)\n",
    "            if any(isinstance(v, str) for v in data.values()):\n",
    "                new_dict = {k: v for k, v in data.items() if k.startswith('obj')}\n",
    "                scores_per_item.append(new_dict)\n",
    "                variables_per_item.append(data)\n",
    "            else:\n",
    "                scores_per_item.append(data)\n",
    "        except:\n",
    "        \n",
    "            print(\"wrong output found\")\n",
    "            continue\n",
    "    return scores_per_item, variables_per_item"
   ]
  },
  {
   "cell_type": "code",
   "execution_count": 11,
   "metadata": {},
   "outputs": [],
   "source": [
    "def parse_lst_data(new_data,idx_cot,dataset,split):\n",
    "    scores_per_item = []\n",
    "    variables_per_item = []\n",
    "    statements_per_item = []\n",
    "    for item in new_data[dataset][split]:\n",
    "        try:\n",
    "            data = yaml.load(item['generated_cot'][idx_cot]['cot'], Loader=yaml.FullLoader)\n",
    "            #if any(isinstance(v, str) for v in data.values()):\n",
    "            new_dict = {k: v[1] for k, v in data.items() if k.startswith('obj')}\n",
    "            statement_dict = {k: v[0] for k, v in data.items() if k.startswith('obj')}\n",
    "            statements_per_item.append(statement_dict)\n",
    "            scores_per_item.append(new_dict)\n",
    "            variables_per_item.append(data)\n",
    "            # else:\n",
    "            #     scores_per_item.append(data)\n",
    "        except:\n",
    "        \n",
    "            print(\"wrong output found\")\n",
    "            continue\n",
    "    return scores_per_item, variables_per_item, statements_per_item\n"
   ]
  },
  {
   "cell_type": "code",
   "execution_count": 12,
   "metadata": {},
   "outputs": [],
   "source": [
    "def get_further_data(scores_per_item):\n",
    "# Get unique keys from all dictionaries\n",
    "    keys = set().union(*scores_per_item)\n",
    "\n",
    "    # Create lists of values for each key\n",
    "    scores_per_objective = {key: [d.get(key) for d in scores_per_item] for key in keys}\n",
    "    # scores_per_objective = {k: v for k, v in scores_per_objective.items() if not isinstance(v, str)}\n",
    "    # print(scores_per_objective)\n",
    "\n",
    "    # #check values for nonetype\n",
    "    # for key, value in scores_per_objective.items():\n",
    "    #     if value is not str:\n",
    "    #         #print(key,value)\n",
    "    #         continue\n",
    "\n",
    "\n",
    "    # Calculate the average of each list\n",
    "    #averaged_data = {key: sum(value) / len(value) for key, value in scores_per_objective.items()} \n",
    "    averaged_data = {key: (sum(v for v in value if v is not None) / len([v for v in value if v is not None])) for key, value in scores_per_objective.items() if len([v for v in value if v is not None]) > 0}\n",
    "\n",
    "    # Convert the averaged data dictionary to a Pandas DataFrame\n",
    "    df = pd.DataFrame.from_dict(averaged_data, orient='index', columns=['Average'])\n",
    "\n",
    "    # Sort the DataFrame by the index (row labels)\n",
    "    df = df.loc[['obj_1', 'obj_2', 'obj_3', 'obj_4', 'obj_5', 'obj_6', 'obj_7', 'obj_8', 'obj_9', 'obj_10', 'obj_11']]\n",
    "\n",
    "    return scores_per_objective, df"
   ]
  },
  {
   "cell_type": "code",
   "execution_count": 13,
   "metadata": {},
   "outputs": [],
   "source": [
    "def fix_none_score(scores_per_item):\n",
    "    for i,element in enumerate(scores_per_item):\n",
    "        for inner_key, value in element.items():\n",
    "            if value is None:\n",
    "                scores_per_item[i][inner_key] = 5\n",
    "    return scores_per_item\n",
    "    "
   ]
  },
  {
   "cell_type": "code",
   "execution_count": 14,
   "metadata": {},
   "outputs": [],
   "source": [
    "def fix_str_score(scores_per_item):\n",
    "    for i,element in enumerate(scores_per_item):\n",
    "        for inner_key, value in element.items():\n",
    "            if isinstance(value,str):\n",
    "                scores_per_item.pop(i)\n",
    "    return scores_per_item"
   ]
  },
  {
   "cell_type": "code",
   "execution_count": 15,
   "metadata": {},
   "outputs": [
    {
     "name": "stderr",
     "output_type": "stream",
     "text": [
      "/opt/anaconda3/lib/python3.9/site-packages/scipy/__init__.py:146: UserWarning: A NumPy version >=1.16.5 and <1.23.0 is required for this version of SciPy (detected version 1.24.2\n",
      "  warnings.warn(f\"A NumPy version >={np_minversion} and <{np_maxversion}\"\n"
     ]
    }
   ],
   "source": [
    "#helper functions for results\n",
    "import matplotlib.pyplot as plt\n",
    "from scipy.stats import ttest_ind\n",
    "import statistics\n",
    "\n",
    "def freq_bar_plot(scores_per_item): #later better axes\n",
    "    average_per_item = [sum(d.values()) / len(d) for d in scores_per_item]\n",
    "    # Create a histogram\n",
    "    plt.hist(average_per_item, bins='auto', alpha=0.7)\n",
    "    plt.xlabel('Values')\n",
    "    plt.ylabel('Frequency')\n",
    "    plt.title('Frequency of average score per item')\n",
    "    plt.show()\n",
    "\n",
    "def avg_item_plot(scores_per_objective):  #later better axes\n",
    " \n",
    "    data = scores_per_objective\n",
    "    averaged_data = {key: sum(value) / len(value) for key, value in data.items() if key!=\"critique\"} #added \"critique\"\n",
    "    sorted_data = {k: v for k, v in sorted(averaged_data.items())}\n",
    "\n",
    "    # Extract the keys (objectives) and values (averages) from the sorted dictionary\n",
    "    keys = sorted_data.keys()\n",
    "    values = sorted_data.values()\n",
    "\n",
    "    # Create a bar plot\n",
    "    plt.bar(keys, values)\n",
    "    plt.xlabel('Objectives')\n",
    "    plt.ylabel('Average')\n",
    "    # plt.ylim(7,10)\n",
    "    plt.title('Average per Objective')\n",
    "    plt.xticks(rotation=45)\n",
    "    plt.show()\n",
    "\n",
    "def avg_true_false(data,average_per_item,dataset,split):\n",
    "    item_correct = []\n",
    "    for item in data[dataset][split]:\n",
    "        item_correct.append(item['generated_cot'][0]['answers'][0]['correct_answer'])\n",
    "\n",
    "    # Example lists of scores and indicators\n",
    "    scores = average_per_item\n",
    "    indicators = item_correct\n",
    "\n",
    "    # Separate scores based on indicators\n",
    "    scores_true = [score for score, indicator in zip(scores, indicators) if indicator]\n",
    "    scores_false = [score for score, indicator in zip(scores, indicators) if not indicator]\n",
    "\n",
    "    print(\"scores true:\", statistics.mean(scores_true))\n",
    "    print(\"scores false:\", statistics.mean(scores_false))"
   ]
  },
  {
   "cell_type": "code",
   "execution_count": 16,
   "metadata": {},
   "outputs": [],
   "source": [
    "def avg_true_false_objective(data,average_per_item,dataset,split):\n",
    "    item_correct = []\n",
    "    for item in data[dataset][split]:\n",
    "        item_correct.append(item['generated_cot'][0]['answers'][0]['correct_answer'])\n",
    "\n",
    "    # Example lists of scores and indicators\n",
    "    scores = average_per_item\n",
    "    indicators = item_correct\n",
    "\n",
    "    # Separate scores based on indicators\n",
    "    scores_true = [score for score, indicator in zip(scores, indicators) if indicator]\n",
    "    scores_false = [score for score, indicator in zip(scores, indicators) if not indicator]\n",
    "\n",
    "    print(\"scores true:\", statistics.mean(scores_true))\n",
    "    print(\"scores false:\", statistics.mean(scores_false))"
   ]
  },
  {
   "cell_type": "code",
   "execution_count": 17,
   "metadata": {},
   "outputs": [],
   "source": [
    "import math\n",
    "\n",
    "def standard_deviation(data):\n",
    "    # First, compute the mean for each key.\n",
    "    mean_data = {key: sum(value) / len(value) for key, value in data.items()}\n",
    "    \n",
    "    # Then, for each key, compute the sum of the squared differences from the mean.\n",
    "    variance_data = {}\n",
    "    for key, value in data.items():\n",
    "        variance_data[key] = sum((x - mean_data[key]) ** 2 for x in value) / (len(value)-1)\n",
    "    \n",
    "    # Finally, compute the standard deviation for each key.\n",
    "    standard_deviation_data = {key: math.sqrt(value) for key, value in variance_data.items()}\n",
    "    \n",
    "    return standard_deviation_data"
   ]
  },
  {
   "cell_type": "code",
   "execution_count": 18,
   "metadata": {},
   "outputs": [],
   "source": [
    "def t_test(data,scores_per_item,dataset,split):\n",
    "# find which items are correct\n",
    "    item_correct = []\n",
    "    for item in data[dataset][split]:\n",
    "        item_correct.append(item['generated_cot'][0]['answers'][0]['correct_answer'])\n",
    "\n",
    "    # Example lists of scores and indicators\n",
    "    scores = scores_per_item\n",
    "    indicators = item_correct\n",
    "\n",
    "    # Separate scores based on indicators\n",
    "    scores_true = [score for score, indicator in zip(scores, indicators) if indicator]\n",
    "    scores_false = [score for score, indicator in zip(scores, indicators) if not indicator]\n",
    "\n",
    "    keys = set().union(*scores_true)\n",
    "        # Create lists of values for each key\n",
    "    scores_per_objective_true = {key: [d.get(key) for d in scores_true] for key in keys if key != \"critique\"} \n",
    "\n",
    "    keys = set().union(*scores_false)\n",
    "        # Create lists of values for each key\n",
    "    scores_per_objective_false = {key: [d.get(key) for d in scores_false] for key in keys if key != \"critique\"} \n",
    "\n",
    "    dict_1 = scores_per_objective_true\n",
    "    dict_2 = scores_per_objective_false\n",
    "\n",
    "    # make sure both dictionaries have the same keys\n",
    "    assert dict_1.keys() == dict_2.keys()\n",
    "\n",
    "    for key in dict_1.keys():\n",
    "        t_stat, p_val = ttest_ind(dict_1[key], dict_2[key])\n",
    "        print(f\"For {key}, t-statistic is {t_stat:.2f} and the p-value is {p_val:.2f}\")\n",
    "    return scores_per_objective_true,scores_per_objective_false"
   ]
  },
  {
   "cell_type": "code",
   "execution_count": 19,
   "metadata": {},
   "outputs": [],
   "source": [
    "def u_test(data,scores_per_item,dataset,split):\n",
    "# find which items are correct\n",
    "    item_correct = []\n",
    "    for item in data[dataset][split]:\n",
    "        item_correct.append(item['generated_cot'][0]['answers'][0]['correct_answer'])\n",
    "\n",
    "    # Example lists of scores and indicators\n",
    "    scores = scores_per_item\n",
    "    indicators = item_correct\n",
    "\n",
    "    # Separate scores based on indicators\n",
    "    scores_true = [score for score, indicator in zip(scores, indicators) if indicator]\n",
    "    scores_false = [score for score, indicator in zip(scores, indicators) if not indicator]\n",
    "\n",
    "    keys = set().union(*scores_true)\n",
    "        # Create lists of values for each key\n",
    "    scores_per_objective_true = {key: [d.get(key) for d in scores_true] for key in keys if key != \"critique\"} \n",
    "\n",
    "    keys = set().union(*scores_false)\n",
    "        # Create lists of values for each key\n",
    "    scores_per_objective_false = {key: [d.get(key) for d in scores_false] for key in keys if key != \"critique\"} \n",
    "\n",
    "    dict_1 = scores_per_objective_true\n",
    "    dict_2 = scores_per_objective_false\n",
    "\n",
    "    # make sure both dictionaries have the same keys\n",
    "    assert dict_1.keys() == dict_2.keys()\n",
    "\n",
    "    for key in dict_1.keys():\n",
    "        u_stat, p_val = mannwhitneyu(dict_1[key], dict_2[key])\n",
    "        print(f\"For {key}, U-statistic is {u_stat:.2f} and the p-value is {p_val:.2f}\")\n",
    "    return scores_per_objective_true,scores_per_objective_false\n",
    "\n"
   ]
  },
  {
   "attachments": {},
   "cell_type": "markdown",
   "metadata": {},
   "source": [
    "## Data"
   ]
  },
  {
   "cell_type": "code",
   "execution_count": 1,
   "metadata": {},
   "outputs": [
    {
     "name": "stdout",
     "output_type": "stream",
     "text": [
      "Loading med_qa...\n"
     ]
    }
   ],
   "source": [
    "from cot import Collection\n",
    "med_qa = Collection([\"med_qa\"], verbose=False)"
   ]
  },
  {
   "cell_type": "code",
   "execution_count": 2,
   "metadata": {},
   "outputs": [],
   "source": [
    "# Determine sample size \n",
    "med_qa = med_qa.select(split=\"test\", number_samples=1, random_samples=True, seed=0)"
   ]
  },
  {
   "cell_type": "code",
   "execution_count": 41,
   "metadata": {},
   "outputs": [],
   "source": [
    "med_qa_cohere = Collection.from_json(\"./prelim_output/med_qa_zhou_cohere.json\")\n",
    "med_qa_turbo = Collection.from_json(\"./prelim_output/med_qa_zhou_eval_chatgpt.json\")\n",
    "med_qa_gpt_4 = Collection.from_json(\"./prelim_output/med_qa_zhou_eval_gpt4.json\")"
   ]
  },
  {
   "cell_type": "code",
   "execution_count": 42,
   "metadata": {},
   "outputs": [
    {
     "data": {
      "text/plain": [
       "| Name   | Train   | Valid   |   Test |\n",
       "|--------|---------|---------|--------|\n",
       "| med_qa | -       | -       |    100 |\n",
       "\n",
       "Not loaded: ['aqua', 'asdiv', 'commonsense_qa', 'entailment_bank', 'gsm8k', 'mawps', 'med_qa_open', 'medmc_qa', '_init_', 'mmlu_clinical_knowledge', 'mmlu_college_biology', 'mmlu_college_medicine', 'mmlu_medical_genetics', 'mmlu_professional_medicine', '_init_', 'mmlu_anatomy', 'open_book_qa', 'pubmed_qa', 'qed', 'strategy_qa', 'svamp', 'worldtree']"
      ]
     },
     "execution_count": 42,
     "metadata": {},
     "output_type": "execute_result"
    }
   ],
   "source": [
    "med_qa_gpt_4"
   ]
  },
  {
   "cell_type": "code",
   "execution_count": 30,
   "metadata": {},
   "outputs": [],
   "source": [
    "#med_qa_cohere = med_qa = med_qa_cohere.select(split=\"test\", number_samples=7, random_samples=True, seed=0)"
   ]
  },
  {
   "attachments": {},
   "cell_type": "markdown",
   "metadata": {},
   "source": [
    "## Generate extra data"
   ]
  },
  {
   "cell_type": "code",
   "execution_count": 3,
   "metadata": {},
   "outputs": [
    {
     "name": "stdout",
     "output_type": "stream",
     "text": [
      "Generating med_qa...\n"
     ]
    }
   ],
   "source": [
    "# generate cohere\n",
    "config={\n",
    "    \"instruction_keys\": None,\n",
    "    \"cot_trigger_keys\": [\"zhou-01\"],\n",
    "    \"answer_extraction_keys\": 'auto-kojima', \n",
    "    \"author\" : \"thoughtsource\",\n",
    "    \"api_service\": \"cohere\",\n",
    "    \"api_time_interval\": 1,\n",
    "    \"engine\": \"command-xlarge-nightly\", \n",
    "    \"temperature\": 0,\n",
    "    \"max_tokens\": 512,\n",
    "    \"verbose\": False,\n",
    "    \"warn\": False,\n",
    "}\n",
    "med_qa.generate(config=config)\n",
    "\n",
    "\n",
    "# \n",
    "# med_qa.dump(\"med_qa_zhou_cohere.json\")"
   ]
  },
  {
   "cell_type": "code",
   "execution_count": 20,
   "metadata": {},
   "outputs": [
    {
     "data": {
      "text/plain": [
       "{'med_qa': {'test': {'accuracy': {'command-xlarge-nightly': {'test': 1.0}}}}}"
      ]
     },
     "execution_count": 20,
     "metadata": {},
     "output_type": "execute_result"
    }
   ],
   "source": []
  },
  {
   "cell_type": "code",
   "execution_count": 9,
   "metadata": {},
   "outputs": [
    {
     "name": "stdout",
     "output_type": "stream",
     "text": [
      "Generating med_qa...\n"
     ]
    }
   ],
   "source": [
    "# generate gpt-3.5-turbo\n",
    "config={\n",
    "    \"instruction_keys\": None,\n",
    "    \"cot_trigger_keys\": [\"zhou-01\"],\n",
    "    \"answer_extraction_keys\": 'auto-kojima', \n",
    "    \"author\" : \"thoughtsource\",\n",
    "    \"api_service\": \"openai_chat\",\n",
    "    \"api_time_interval\": 1,\n",
    "    \"engine\": \"gpt-3.5-turbo\", \n",
    "    \"temperature\": 0,\n",
    "    \"max_tokens\": 512,\n",
    "    \"verbose\": False,\n",
    "    \"warn\": False,\n",
    "}\n",
    "med_qa.generate(config=config)\n",
    "med_qa.dump(\"med_qa_zhou.json\")\n",
    "med_qa.evaluate()\n",
    "med_qa.dump(\"med_qa_zhou_eval.json\")"
   ]
  },
  {
   "cell_type": "code",
   "execution_count": null,
   "metadata": {},
   "outputs": [],
   "source": [
    "# generate gpt-4\n",
    "config={\n",
    "    \"instruction_keys\": None,\n",
    "    \"cot_trigger_keys\": [\"zhou-01\"],\n",
    "    \"answer_extraction_keys\": 'auto-kojima', \n",
    "    \"author\" : \"thoughtsource\",\n",
    "    \"api_service\": \"openai_chat\",\n",
    "    \"api_time_interval\": 1,\n",
    "    \"engine\": \"gpt-4\", \n",
    "    \"temperature\": 0,\n",
    "    \"max_tokens\": 512,\n",
    "    \"verbose\": False,\n",
    "    \"warn\": False,\n",
    "}\n",
    "med_qa.generate(config=config)\n",
    "\n",
    "med_qa.dump(\"med_qa_zhou_gpt4.json\")\n",
    "med_qa.evaluate()\n",
    "med_qa.dump(\"med_qa_zhou_eval_gpt4.json\")\n",
    "\n",
    "med_qa.evaluate()"
   ]
  },
  {
   "cell_type": "code",
   "execution_count": null,
   "metadata": {},
   "outputs": [],
   "source": []
  },
  {
   "attachments": {},
   "cell_type": "markdown",
   "metadata": {},
   "source": [
    "## Template"
   ]
  },
  {
   "cell_type": "code",
   "execution_count": 4,
   "metadata": {},
   "outputs": [],
   "source": [
    "path = \"./final_system_messages/first_template.yaml\""
   ]
  },
  {
   "cell_type": "code",
   "execution_count": 26,
   "metadata": {},
   "outputs": [
    {
     "data": {
      "text/plain": [
       "| Name   | Train   | Valid   |   Test |\n",
       "|--------|---------|---------|--------|\n",
       "| med_qa | -       | -       |      1 |\n",
       "\n",
       "Not loaded: ['aqua', 'asdiv', 'commonsense_qa', 'entailment_bank', 'gsm8k', 'mawps', 'med_qa_open', 'medmc_qa', '_init_', 'mmlu_clinical_knowledge', 'mmlu_college_biology', 'mmlu_college_medicine', 'mmlu_medical_genetics', 'mmlu_professional_medicine', '_init_', 'mmlu_anatomy', 'open_book_qa', 'pubmed_qa', 'qed', 'strategy_qa', 'svamp', 'worldtree']"
      ]
     },
     "execution_count": 26,
     "metadata": {},
     "output_type": "execute_result"
    }
   ],
   "source": [
    "med_qa"
   ]
  },
  {
   "attachments": {},
   "cell_type": "markdown",
   "metadata": {},
   "source": [
    "## Run Reflection"
   ]
  },
  {
   "cell_type": "code",
   "execution_count": 20,
   "metadata": {},
   "outputs": [
    {
     "ename": "AttributeError",
     "evalue": "'Collection' object has no attribute 'system_eval'",
     "output_type": "error",
     "traceback": [
      "\u001b[0;31m---------------------------------------------------------------------------\u001b[0m",
      "\u001b[0;31mAttributeError\u001b[0m                            Traceback (most recent call last)",
      "\u001b[1;32m/Users/robertpraas/ThoughtSource/ThoughtSource/notebooks/reflection_messages/big_reflection_experiments_shadow.ipynb Cell 32\u001b[0m in \u001b[0;36m<cell line: 4>\u001b[0;34m()\u001b[0m\n\u001b[1;32m      <a href='vscode-notebook-cell:/Users/robertpraas/ThoughtSource/ThoughtSource/notebooks/reflection_messages/big_reflection_experiments_shadow.ipynb#X43sZmlsZQ%3D%3D?line=1'>2</a>\u001b[0m data \u001b[39m=\u001b[39m med_qa\n\u001b[1;32m      <a href='vscode-notebook-cell:/Users/robertpraas/ThoughtSource/ThoughtSource/notebooks/reflection_messages/big_reflection_experiments_shadow.ipynb#X43sZmlsZQ%3D%3D?line=2'>3</a>\u001b[0m model \u001b[39m=\u001b[39m \u001b[39m'\u001b[39m\u001b[39mgpt-3.5-turbo\u001b[39m\u001b[39m'\u001b[39m\n\u001b[0;32m----> <a href='vscode-notebook-cell:/Users/robertpraas/ThoughtSource/ThoughtSource/notebooks/reflection_messages/big_reflection_experiments_shadow.ipynb#X43sZmlsZQ%3D%3D?line=3'>4</a>\u001b[0m system_evaluate(data,model,path)\n\u001b[1;32m      <a href='vscode-notebook-cell:/Users/robertpraas/ThoughtSource/ThoughtSource/notebooks/reflection_messages/big_reflection_experiments_shadow.ipynb#X43sZmlsZQ%3D%3D?line=5'>6</a>\u001b[0m dataset_name \u001b[39m=\u001b[39m \u001b[39m\"\u001b[39m\u001b[39ma\u001b[39m\u001b[39m\"\u001b[39m\n\u001b[1;32m      <a href='vscode-notebook-cell:/Users/robertpraas/ThoughtSource/ThoughtSource/notebooks/reflection_messages/big_reflection_experiments_shadow.ipynb#X43sZmlsZQ%3D%3D?line=6'>7</a>\u001b[0m template \u001b[39m=\u001b[39m \u001b[39m\"\u001b[39m\u001b[39ma\u001b[39m\u001b[39m\"\u001b[39m\n",
      "\u001b[1;32m/Users/robertpraas/ThoughtSource/ThoughtSource/notebooks/reflection_messages/big_reflection_experiments_shadow.ipynb Cell 32\u001b[0m in \u001b[0;36msystem_evaluate\u001b[0;34m(data, model, path_system_template)\u001b[0m\n\u001b[1;32m     <a href='vscode-notebook-cell:/Users/robertpraas/ThoughtSource/ThoughtSource/notebooks/reflection_messages/big_reflection_experiments_shadow.ipynb#X43sZmlsZQ%3D%3D?line=18'>19</a>\u001b[0m chat_prompt \u001b[39m=\u001b[39m ChatPromptTemplate\u001b[39m.\u001b[39mfrom_messages([system_message_prompt, human_message_prompt])  \n\u001b[1;32m     <a href='vscode-notebook-cell:/Users/robertpraas/ThoughtSource/ThoughtSource/notebooks/reflection_messages/big_reflection_experiments_shadow.ipynb#X43sZmlsZQ%3D%3D?line=19'>20</a>\u001b[0m input_dict \u001b[39m=\u001b[39m {\u001b[39m'\u001b[39m\u001b[39mchat\u001b[39m\u001b[39m'\u001b[39m:chat,\u001b[39m'\u001b[39m\u001b[39mchat_prompt\u001b[39m\u001b[39m'\u001b[39m:chat_prompt, \u001b[39m\"\u001b[39m\u001b[39mapi_time_interval\u001b[39m\u001b[39m\"\u001b[39m: \u001b[39m1\u001b[39m} \n\u001b[0;32m---> <a href='vscode-notebook-cell:/Users/robertpraas/ThoughtSource/ThoughtSource/notebooks/reflection_messages/big_reflection_experiments_shadow.ipynb#X43sZmlsZQ%3D%3D?line=21'>22</a>\u001b[0m \u001b[39mreturn\u001b[39;00m data\u001b[39m.\u001b[39;49msystem_eval(input_dict)\n",
      "\u001b[0;31mAttributeError\u001b[0m: 'Collection' object has no attribute 'system_eval'"
     ]
    }
   ],
   "source": [
    "# gpt-3.5-turbo reflects on cohere \n",
    "data = med_qa\n",
    "model = 'gpt-3.5-turbo'\n",
    "system_evaluate(data,model,path)\n",
    "\n",
    "dataset_name = \"a\"\n",
    "template = \"a\"\n",
    "base_model = \"cohere\"\n",
    "critique_model = \"gpt-3.5-turbo\"\n",
    "\n",
    "dump_path = f\"{dataset_name}_{template}_{base_model}_{critique_model}\"\n",
    "data.dump(dump_path+\".json\")\n"
   ]
  },
  {
   "cell_type": "code",
   "execution_count": 44,
   "metadata": {},
   "outputs": [
    {
     "name": "stdout",
     "output_type": "stream",
     "text": [
      "Generating med_qa...\n"
     ]
    },
    {
     "data": {
      "application/vnd.jupyter.widget-view+json": {
       "model_id": "1d6e700589724b6da410f4516dcc73e5",
       "version_major": 2,
       "version_minor": 0
      },
      "text/plain": [
       "  0%|          | 0/100 [00:00<?, ?ex/s]"
      ]
     },
     "metadata": {},
     "output_type": "display_data"
    },
    {
     "data": {
      "application/vnd.jupyter.widget-view+json": {
       "model_id": "3b9eb43dbcf3427db8be10735cde023c",
       "version_major": 2,
       "version_minor": 0
      },
      "text/plain": [
       "Creating json from Arrow format:   0%|          | 0/1 [00:00<?, ?ba/s]"
      ]
     },
     "metadata": {},
     "output_type": "display_data"
    }
   ],
   "source": [
    "# gpt-3.5-turbo reflects on cohere \n",
    "data = med_qa_cohere\n",
    "model = 'gpt-3.5-turbo'\n",
    "system_evaluate(data,model,path)\n",
    "\n",
    "dataset_name = \"med_qa\"\n",
    "template = \"first\"\n",
    "base_model = \"cohere\"\n",
    "critique_model = \"gpt-3.5-turbo\"\n",
    "\n",
    "dump_path = f\"{dataset_name}_{template}_{base_model}_{critique_model}\"\n",
    "data.dump(dump_path+\".json\")\n",
    "\n",
    "\n"
   ]
  },
  {
   "cell_type": "code",
   "execution_count": 45,
   "metadata": {},
   "outputs": [
    {
     "name": "stdout",
     "output_type": "stream",
     "text": [
      "Generating med_qa...\n"
     ]
    },
    {
     "data": {
      "application/vnd.jupyter.widget-view+json": {
       "model_id": "4b2cc66b3f8540548bd8e01e3a96923a",
       "version_major": 2,
       "version_minor": 0
      },
      "text/plain": [
       "  0%|          | 0/100 [00:00<?, ?ex/s]"
      ]
     },
     "metadata": {},
     "output_type": "display_data"
    },
    {
     "data": {
      "application/vnd.jupyter.widget-view+json": {
       "model_id": "510d1ffe1d3146d3855b7870ccdee880",
       "version_major": 2,
       "version_minor": 0
      },
      "text/plain": [
       "Creating json from Arrow format:   0%|          | 0/1 [00:00<?, ?ba/s]"
      ]
     },
     "metadata": {},
     "output_type": "display_data"
    }
   ],
   "source": [
    "# 3.5 on 3.5\n",
    "data = med_qa_turbo\n",
    "model = 'gpt-3.5-turbo'\n",
    "system_evaluate(data,model,path)\n",
    "\n",
    "dataset_name = \"med_qa\"\n",
    "template = \"first\"\n",
    "base_model = \"gpt-3.5-turbo\"\n",
    "critique_model = \"gpt-3.5-turbo\"\n",
    "\n",
    "dump_path = f\"{dataset_name}_{template}_{base_model}_{critique_model}\"\n",
    "data.dump(dump_path+\".json\")"
   ]
  },
  {
   "cell_type": "code",
   "execution_count": 46,
   "metadata": {},
   "outputs": [
    {
     "name": "stdout",
     "output_type": "stream",
     "text": [
      "Generating med_qa...\n"
     ]
    },
    {
     "data": {
      "application/vnd.jupyter.widget-view+json": {
       "model_id": "246a1b4c89264ca29c866b02158eb5a6",
       "version_major": 2,
       "version_minor": 0
      },
      "text/plain": [
       "  0%|          | 0/100 [00:00<?, ?ex/s]"
      ]
     },
     "metadata": {},
     "output_type": "display_data"
    },
    {
     "name": "stdout",
     "output_type": "stream",
     "text": [
      "(API-)Error in item 3: The server had an error while processing your request. Sorry about that!\n",
      "Retrying with additional time of 10 seconds.\n",
      "(API-)Error in item 13: The server had an error while processing your request. Sorry about that!\n",
      "Retrying with additional time of 10 seconds.\n",
      "(API-)Error in item 17: Bad gateway. {\"error\":{\"code\":502,\"message\":\"Bad gateway.\",\"param\":null,\"type\":\"cf_bad_gateway\"}} 502 {'error': {'code': 502, 'message': 'Bad gateway.', 'param': None, 'type': 'cf_bad_gateway'}} {'Date': 'Wed, 31 May 2023 22:01:34 GMT', 'Content-Type': 'application/json', 'Content-Length': '84', 'Connection': 'keep-alive', 'X-Frame-Options': 'SAMEORIGIN', 'Referrer-Policy': 'same-origin', 'Cache-Control': 'private, max-age=0, no-store, no-cache, must-revalidate, post-check=0, pre-check=0', 'Expires': 'Thu, 01 Jan 1970 00:00:01 GMT', 'Server': 'cloudflare', 'CF-RAY': '7d0276e2396fc251-VIE', 'alt-svc': 'h3=\":443\"; ma=86400'}\n",
      "Retrying with additional time of 10 seconds.\n",
      "(API-)Error in item 28: That model is currently overloaded with other requests. You can retry your request, or contact us through our help center at help.openai.com if the error persists. (Please include the request ID 99ee64e9086a05bdc241ce470d88480c in your message.)\n",
      "Retrying with additional time of 10 seconds.\n",
      "(API-)Error in item 59: That model is currently overloaded with other requests. You can retry your request, or contact us through our help center at help.openai.com if the error persists. (Please include the request ID 7fe6c189bee67bf1638c1f9f49541ac5 in your message.)\n",
      "Retrying with additional time of 10 seconds.\n",
      "(API-)Error in item 86: The server had an error while processing your request. Sorry about that!\n",
      "Retrying with additional time of 10 seconds.\n",
      "(API-)Error in item 86: The server had an error while processing your request. Sorry about that!\n",
      "Retrying with additional time of 20 seconds.\n",
      "(API-)Error in item 92: The server had an error while processing your request. Sorry about that!\n",
      "Retrying with additional time of 10 seconds.\n",
      "(API-)Error in item 93: The server had an error while processing your request. Sorry about that!\n",
      "Retrying with additional time of 10 seconds.\n",
      "(API-)Error in item 94: The server had an error while processing your request. Sorry about that!\n",
      "Retrying with additional time of 10 seconds.\n"
     ]
    },
    {
     "data": {
      "application/vnd.jupyter.widget-view+json": {
       "model_id": "9435f1020d254ed09ea7dd7f87229d72",
       "version_major": 2,
       "version_minor": 0
      },
      "text/plain": [
       "Creating json from Arrow format:   0%|          | 0/1 [00:00<?, ?ba/s]"
      ]
     },
     "metadata": {},
     "output_type": "display_data"
    }
   ],
   "source": [
    "# 4 on 3.5\n",
    "#data = med_qa_turbo\n",
    "model = 'gpt-4'\n",
    "system_evaluate(data,model,path)\n",
    "\n",
    "dataset_name = \"med_qa\"\n",
    "template = \"first\"\n",
    "base_model = \"gpt-3.5-turbo\"\n",
    "critique_model = \"gpt-4\"\n",
    "\n",
    "dump_path = f\"{dataset_name}_{template}_{base_model}_{critique_model}\"\n",
    "data.dump(dump_path+\".json\")"
   ]
  },
  {
   "cell_type": "code",
   "execution_count": 47,
   "metadata": {},
   "outputs": [
    {
     "name": "stdout",
     "output_type": "stream",
     "text": [
      "Generating med_qa...\n"
     ]
    },
    {
     "data": {
      "application/vnd.jupyter.widget-view+json": {
       "model_id": "e21b87c74c854faf9f27ebb83ce35e6d",
       "version_major": 2,
       "version_minor": 0
      },
      "text/plain": [
       "  0%|          | 0/100 [00:00<?, ?ex/s]"
      ]
     },
     "metadata": {},
     "output_type": "display_data"
    },
    {
     "name": "stdout",
     "output_type": "stream",
     "text": [
      "(API-)Error in item 16: The server had an error while processing your request. Sorry about that!\n",
      "Retrying with additional time of 10 seconds.\n",
      "(API-)Error in item 19: The server had an error while processing your request. Sorry about that!\n",
      "Retrying with additional time of 10 seconds.\n",
      "(API-)Error in item 29: That model is currently overloaded with other requests. You can retry your request, or contact us through our help center at help.openai.com if the error persists. (Please include the request ID 320e000bc87120f5ff50ae0fd64eec40 in your message.)\n",
      "Retrying with additional time of 10 seconds.\n",
      "(API-)Error in item 43: The server had an error while processing your request. Sorry about that!\n",
      "Retrying with additional time of 10 seconds.\n",
      "(API-)Error in item 43: The server had an error while processing your request. Sorry about that!\n",
      "Retrying with additional time of 20 seconds.\n",
      "(API-)Error in item 68: The server had an error while processing your request. Sorry about that!\n",
      "Retrying with additional time of 10 seconds.\n",
      "(API-)Error in item 81: The server had an error while processing your request. Sorry about that!\n",
      "Retrying with additional time of 10 seconds.\n",
      "(API-)Error in item 83: The server had an error while processing your request. Sorry about that!\n",
      "Retrying with additional time of 10 seconds.\n",
      "(API-)Error in item 83: The server had an error while processing your request. Sorry about that!\n",
      "Retrying with additional time of 20 seconds.\n",
      "(API-)Error in item 88: The server had an error while processing your request. Sorry about that!\n",
      "Retrying with additional time of 10 seconds.\n",
      "(API-)Error in item 92: The server had an error while processing your request. Sorry about that!\n",
      "Retrying with additional time of 10 seconds.\n"
     ]
    },
    {
     "data": {
      "application/vnd.jupyter.widget-view+json": {
       "model_id": "be7d9ce1bdc34142b36e575d5db81c2d",
       "version_major": 2,
       "version_minor": 0
      },
      "text/plain": [
       "Creating json from Arrow format:   0%|          | 0/1 [00:00<?, ?ba/s]"
      ]
     },
     "metadata": {},
     "output_type": "display_data"
    }
   ],
   "source": [
    "# 4 on 4 - if costs allow\n",
    "data = med_qa_gpt_4\n",
    "model = \"gpt-4\"\n",
    "system_evaluate(data,model,path)\n",
    "\n",
    "dataset_name = \"med_qa\"\n",
    "template = \"first\"\n",
    "base_model = \"gpt-4\"\n",
    "critique_model = \"gpt-4\"\n",
    "\n",
    "dump_path = f\"{dataset_name}_{template}_{base_model}_{critique_model}\"\n",
    "data.dump(dump_path+\".json\")"
   ]
  },
  {
   "cell_type": "code",
   "execution_count": 48,
   "metadata": {},
   "outputs": [],
   "source": [
    "## second template\n",
    "path = \"./final_system_messages/first_template.yaml\""
   ]
  },
  {
   "cell_type": "code",
   "execution_count": 49,
   "metadata": {},
   "outputs": [
    {
     "name": "stdout",
     "output_type": "stream",
     "text": [
      "Generating med_qa...\n"
     ]
    },
    {
     "data": {
      "application/vnd.jupyter.widget-view+json": {
       "model_id": "d2fea8a063fa48049a6cf2841c03d22f",
       "version_major": 2,
       "version_minor": 0
      },
      "text/plain": [
       "  0%|          | 0/100 [00:00<?, ?ex/s]"
      ]
     },
     "metadata": {},
     "output_type": "display_data"
    },
    {
     "data": {
      "application/vnd.jupyter.widget-view+json": {
       "model_id": "45c0641a475041dca2c81285df7c5986",
       "version_major": 2,
       "version_minor": 0
      },
      "text/plain": [
       "Creating json from Arrow format:   0%|          | 0/1 [00:00<?, ?ba/s]"
      ]
     },
     "metadata": {},
     "output_type": "display_data"
    }
   ],
   "source": [
    "# gpt-3.5-turbo reflects on cohere \n",
    "data = med_qa_cohere\n",
    "model = 'gpt-3.5-turbo'\n",
    "system_evaluate(data,model,path)\n",
    "\n",
    "dataset_name = \"med_qa\"\n",
    "template = \"second\"\n",
    "base_model = \"cohere\"\n",
    "critique_model = \"gpt-3.5-turbo\"\n",
    "\n",
    "dump_path = f\"{dataset_name}_{template}_{base_model}_{critique_model}\"\n",
    "data.dump(dump_path+\".json\")"
   ]
  },
  {
   "cell_type": "code",
   "execution_count": 50,
   "metadata": {},
   "outputs": [
    {
     "name": "stdout",
     "output_type": "stream",
     "text": [
      "Generating med_qa...\n"
     ]
    },
    {
     "data": {
      "application/vnd.jupyter.widget-view+json": {
       "model_id": "006b826f7d3d47fbb69d5751b6dd95b1",
       "version_major": 2,
       "version_minor": 0
      },
      "text/plain": [
       "  0%|          | 0/100 [00:00<?, ?ex/s]"
      ]
     },
     "metadata": {},
     "output_type": "display_data"
    },
    {
     "name": "stdout",
     "output_type": "stream",
     "text": [
      "(API-)Error in item 52: HTTP code 502 from API (<html>\n",
      "<head><title>502 Bad Gateway</title></head>\n",
      "<body>\n",
      "<center><h1>502 Bad Gateway</h1></center>\n",
      "<hr><center>cloudflare</center>\n",
      "</body>\n",
      "</html>\n",
      ")\n",
      "Retrying with additional time of 10 seconds.\n"
     ]
    },
    {
     "data": {
      "application/vnd.jupyter.widget-view+json": {
       "model_id": "001bdc6b15c44fee91049b779519a751",
       "version_major": 2,
       "version_minor": 0
      },
      "text/plain": [
       "Creating json from Arrow format:   0%|          | 0/1 [00:00<?, ?ba/s]"
      ]
     },
     "metadata": {},
     "output_type": "display_data"
    }
   ],
   "source": [
    "# 3.5 on 3.5\n",
    "data = med_qa_turbo\n",
    "model = 'gpt-3.5-turbo'\n",
    "system_evaluate(data,model,path)\n",
    "\n",
    "dataset_name = \"med_qa\"\n",
    "template = \"second\"\n",
    "base_model = \"gpt-3.5-turbo\"\n",
    "critique_model = \"gpt-3.5-turbo\"\n",
    "\n",
    "dump_path = f\"{dataset_name}_{template}_{base_model}_{critique_model}\"\n",
    "data.dump(dump_path+\".json\")"
   ]
  },
  {
   "cell_type": "code",
   "execution_count": 51,
   "metadata": {},
   "outputs": [
    {
     "name": "stdout",
     "output_type": "stream",
     "text": [
      "Generating med_qa...\n"
     ]
    },
    {
     "data": {
      "application/vnd.jupyter.widget-view+json": {
       "model_id": "32308220680149f1bccb260f8ef2d71e",
       "version_major": 2,
       "version_minor": 0
      },
      "text/plain": [
       "  0%|          | 0/100 [00:00<?, ?ex/s]"
      ]
     },
     "metadata": {},
     "output_type": "display_data"
    },
    {
     "name": "stdout",
     "output_type": "stream",
     "text": [
      "(API-)Error in item 2: That model is currently overloaded with other requests. You can retry your request, or contact us through our help center at help.openai.com if the error persists. (Please include the request ID 6fdf52136ded5e058c274272f987da5a in your message.)\n",
      "Retrying with additional time of 10 seconds.\n",
      "(API-)Error in item 2: The server had an error while processing your request. Sorry about that!\n",
      "Retrying with additional time of 20 seconds.\n",
      "(API-)Error in item 5: The server had an error while processing your request. Sorry about that!\n",
      "Retrying with additional time of 10 seconds.\n",
      "(API-)Error in item 5: The server had an error while processing your request. Sorry about that!\n",
      "Retrying with additional time of 20 seconds.\n",
      "(API-)Error in item 14: The server had an error while processing your request. Sorry about that!\n",
      "Retrying with additional time of 10 seconds.\n",
      "(API-)Error in item 14: The server had an error while processing your request. Sorry about that!\n",
      "Retrying with additional time of 20 seconds.\n",
      "(API-)Error in item 16: The server had an error while processing your request. Sorry about that!\n",
      "Retrying with additional time of 10 seconds.\n",
      "(API-)Error in item 18: The server had an error while processing your request. Sorry about that!\n",
      "Retrying with additional time of 10 seconds.\n",
      "(API-)Error in item 24: The server had an error while processing your request. Sorry about that!\n",
      "Retrying with additional time of 10 seconds.\n",
      "(API-)Error in item 27: That model is currently overloaded with other requests. You can retry your request, or contact us through our help center at help.openai.com if the error persists. (Please include the request ID 8be57ea616f3b670c76e5dfa437561b2 in your message.)\n",
      "Retrying with additional time of 10 seconds.\n",
      "(API-)Error in item 35: The server had an error while processing your request. Sorry about that!\n",
      "Retrying with additional time of 10 seconds.\n",
      "(API-)Error in item 64: The server had an error while processing your request. Sorry about that!\n",
      "Retrying with additional time of 10 seconds.\n",
      "(API-)Error in item 73: Bad gateway. {\"error\":{\"code\":502,\"message\":\"Bad gateway.\",\"param\":null,\"type\":\"cf_bad_gateway\"}} 502 {'error': {'code': 502, 'message': 'Bad gateway.', 'param': None, 'type': 'cf_bad_gateway'}} {'Date': 'Thu, 01 Jun 2023 01:00:43 GMT', 'Content-Type': 'application/json', 'Content-Length': '84', 'Connection': 'keep-alive', 'X-Frame-Options': 'SAMEORIGIN', 'Referrer-Policy': 'same-origin', 'Cache-Control': 'private, max-age=0, no-store, no-cache, must-revalidate, post-check=0, pre-check=0', 'Expires': 'Thu, 01 Jan 1970 00:00:01 GMT', 'Server': 'cloudflare', 'CF-RAY': '7d037d2e4dedc251-VIE', 'alt-svc': 'h3=\":443\"; ma=86400'}\n",
      "Retrying with additional time of 10 seconds.\n"
     ]
    },
    {
     "data": {
      "application/vnd.jupyter.widget-view+json": {
       "model_id": "edf2857ff3b7476788b564df2ef6c268",
       "version_major": 2,
       "version_minor": 0
      },
      "text/plain": [
       "Creating json from Arrow format:   0%|          | 0/1 [00:00<?, ?ba/s]"
      ]
     },
     "metadata": {},
     "output_type": "display_data"
    }
   ],
   "source": [
    "# 4 on 3.5\n",
    "#data = med_qa_turbo\n",
    "model = 'gpt-4'\n",
    "system_evaluate(data,model,path)\n",
    "\n",
    "dataset_name = \"med_qa\"\n",
    "template = \"second\"\n",
    "base_model = \"gpt-3.5-turbo\"\n",
    "critique_model = \"gpt-4\"\n",
    "\n",
    "dump_path = f\"{dataset_name}_{template}_{base_model}_{critique_model}\"\n",
    "data.dump(dump_path+\".json\")"
   ]
  },
  {
   "cell_type": "code",
   "execution_count": 66,
   "metadata": {},
   "outputs": [],
   "source": [
    "## third template\n",
    "path = \"./final_system_messages/third_template.yaml\""
   ]
  },
  {
   "cell_type": "code",
   "execution_count": 67,
   "metadata": {},
   "outputs": [
    {
     "data": {
      "text/plain": [
       "'./final_system_messages/third_template.yaml'"
      ]
     },
     "execution_count": 67,
     "metadata": {},
     "output_type": "execute_result"
    }
   ],
   "source": [
    "path"
   ]
  },
  {
   "cell_type": "code",
   "execution_count": 62,
   "metadata": {},
   "outputs": [
    {
     "name": "stdout",
     "output_type": "stream",
     "text": [
      "Generating med_qa...\n"
     ]
    },
    {
     "data": {
      "application/vnd.jupyter.widget-view+json": {
       "model_id": "75ae024dc8f44065af5433d2e1711b78",
       "version_major": 2,
       "version_minor": 0
      },
      "text/plain": [
       "  0%|          | 0/100 [00:00<?, ?ex/s]"
      ]
     },
     "metadata": {},
     "output_type": "display_data"
    },
    {
     "name": "stdout",
     "output_type": "stream",
     "text": [
      "(API-)Error in item 28: That model is currently overloaded with other requests. You can retry your request, or contact us through our help center at help.openai.com if the error persists. (Please include the request ID 75a71a0b25d0d14d88dfb749a407cfcf in your message.)\n",
      "Retrying with additional time of 10 seconds.\n",
      "(API-)Error in item 76: That model is currently overloaded with other requests. You can retry your request, or contact us through our help center at help.openai.com if the error persists. (Please include the request ID f7b717cac31025d5767ffc3e8d1bbe01 in your message.)\n",
      "Retrying with additional time of 10 seconds.\n"
     ]
    },
    {
     "data": {
      "application/vnd.jupyter.widget-view+json": {
       "model_id": "086de813b2c441a0a7408b08e05573ca",
       "version_major": 2,
       "version_minor": 0
      },
      "text/plain": [
       "Creating json from Arrow format:   0%|          | 0/1 [00:00<?, ?ba/s]"
      ]
     },
     "metadata": {},
     "output_type": "display_data"
    }
   ],
   "source": [
    "# gpt-3.5-turbo reflects on cohere \n",
    "data = med_qa_cohere\n",
    "model = 'gpt-3.5-turbo'\n",
    "system_evaluate(data,model,path)\n",
    "\n",
    "dataset_name = \"med_qa\"\n",
    "template = \"third\"\n",
    "base_model = \"cohere\"\n",
    "critique_model = \"gpt-3.5-turbo\"\n",
    "\n",
    "dump_path = f\"{dataset_name}_{template}_{base_model}_{critique_model}\"\n",
    "data.dump(dump_path+\".json\")"
   ]
  },
  {
   "cell_type": "code",
   "execution_count": 63,
   "metadata": {},
   "outputs": [
    {
     "name": "stdout",
     "output_type": "stream",
     "text": [
      "Generating med_qa...\n"
     ]
    },
    {
     "data": {
      "application/vnd.jupyter.widget-view+json": {
       "model_id": "2ca85995140b444588b43976c5eb52f2",
       "version_major": 2,
       "version_minor": 0
      },
      "text/plain": [
       "  0%|          | 0/100 [00:00<?, ?ex/s]"
      ]
     },
     "metadata": {},
     "output_type": "display_data"
    }
   ],
   "source": [
    "# 3.5 on 3.5\n",
    "data = med_qa_turbo\n",
    "model = 'gpt-3.5-turbo'\n",
    "system_evaluate(data,model,path)\n",
    "\n",
    "dataset_name = \"med_qa\"\n",
    "template = \"third\"\n",
    "base_model = \"gpt-3.5-turbo\"\n",
    "critique_model = \"gpt-3.5-turbo\"\n",
    "\n",
    "dump_path = f\"{dataset_name}_{template}_{base_model}_{critique_model}\"\n",
    "data.dump(dump_path+\".json\")"
   ]
  },
  {
   "attachments": {},
   "cell_type": "markdown",
   "metadata": {},
   "source": [
    "## Evaluate Reflection"
   ]
  },
  {
   "cell_type": "code",
   "execution_count": 25,
   "metadata": {},
   "outputs": [],
   "source": [
    "data = Collection.from_json(\"./med_qa_first_cohere_gpt-3.5-turbo.json\")\n",
    "scores_per_item, variables_per_item = parse_data(data,idx_cot=1,dataset='med_qa',split='test')\n",
    "scores_per_item = fix_str_score(scores_per_item)\n",
    "scores_per_objective, df = get_further_data(scores_per_item)\n",
    "average_per_item = [sum(d.values()) / len(d) for d in scores_per_item]\n",
    "\n",
    "# print(df)\n",
    "\n",
    "# avg_true_false(data,average_per_item,'med_qa','test')\n",
    "# freq_bar_plot(scores_per_item)\n",
    "# avg_item_plot(scores_per_objective)\n",
    "\n",
    "# range_data = {key: (min(value),max(value)) for key, value in scores_per_objective.items()}\n",
    "# print(range_data)\n",
    "\n",
    "# print(standard_deviation(scores_per_objective))"
   ]
  },
  {
   "cell_type": "code",
   "execution_count": null,
   "metadata": {},
   "outputs": [],
   "source": [
    "scores_per_objective"
   ]
  },
  {
   "cell_type": "code",
   "execution_count": 30,
   "metadata": {},
   "outputs": [],
   "source": [
    "dataset='med_qa'\n",
    "split = 'test'\n",
    "\n",
    "item_correct = []\n",
    "for item in data[dataset][split]:\n",
    "    item_correct.append(item['generated_cot'][0]['answers'][0]['correct_answer'])\n",
    "\n",
    "# Example lists of scores and indicators\n",
    "scores = scores_per_objective\n",
    "indicators = item_correct\n",
    "\n",
    "# Separate scores based on indicators\n",
    "scores_true = [score for score, indicator in zip(scores, indicators) if indicator]\n",
    "scores_false = [score for score, indicator in zip(scores, indicators) if not indicator]"
   ]
  },
  {
   "cell_type": "code",
   "execution_count": 17,
   "metadata": {},
   "outputs": [
    {
     "data": {
      "text/plain": [
       "| Name   | Train   | Valid   |   Test |\n",
       "|--------|---------|---------|--------|\n",
       "| med_qa | -       | -       |    100 |\n",
       "\n",
       "Not loaded: ['aqua', 'asdiv', 'commonsense_qa', 'entailment_bank', 'gsm8k', 'mawps', 'med_qa_open', 'medmc_qa', '_init_', 'mmlu_clinical_knowledge', 'mmlu_college_biology', 'mmlu_college_medicine', 'mmlu_medical_genetics', 'mmlu_professional_medicine', '_init_', 'mmlu_anatomy', 'open_book_qa', 'pubmed_qa', 'qed', 'strategy_qa', 'svamp', 'worldtree']"
      ]
     },
     "execution_count": 17,
     "metadata": {},
     "output_type": "execute_result"
    }
   ],
   "source": [
    "data"
   ]
  },
  {
   "cell_type": "code",
   "execution_count": 24,
   "metadata": {},
   "outputs": [
    {
     "data": {
      "text/plain": [
       "['obj_2', 'obj_8', 'obj_6', 'obj_9', 'obj_10']"
      ]
     },
     "execution_count": 24,
     "metadata": {},
     "output_type": "execute_result"
    }
   ],
   "source": [
    "scores_true"
   ]
  },
  {
   "cell_type": "code",
   "execution_count": 22,
   "metadata": {},
   "outputs": [
    {
     "name": "stdout",
     "output_type": "stream",
     "text": [
      "T-Statistic: 5.657967693898297\n",
      "P-Value: 1.2314051956542826e-06\n"
     ]
    }
   ],
   "source": [
    "from scipy import stats\n",
    "\n",
    "# Define the two lists of dictionaries\n",
    "list1 = [{'obj_1': 80, 'obj_2': 80, 'obj_3': 90, 'obj_4': 70, 'obj_5': 70, 'obj_6': 70, 'obj_7': 60, 'obj_8': 80, 'obj_9': 60, 'obj_10': 80, 'obj_11': 90},\n",
    "         {'obj_1': 70, 'obj_2': 85, 'obj_3': 95, 'obj_4': 75, 'obj_5': 75, 'obj_6': 75, 'obj_7': 65, 'obj_8': 85, 'obj_9': 65, 'obj_10': 85, 'obj_11': 95}]\n",
    "list2 = [{'obj_1': 50, 'obj_2': 75, 'obj_3': 50, 'obj_4': 50, 'obj_5': 50, 'obj_6': 50, 'obj_7': 50, 'obj_8': 50, 'obj_9': 50, 'obj_10': 50, 'obj_11': 25},\n",
    "         {'obj_1': 60, 'obj_2': 70, 'obj_3': 80, 'obj_4': 60, 'obj_5': 60, 'obj_6': 60, 'obj_7': 50, 'obj_8': 70, 'obj_9': 50, 'obj_10': 70, 'obj_11': 80}]\n",
    "\n",
    "# Extract the 'obj' values from the dictionaries in each list\n",
    "obj_values_list1 = []\n",
    "obj_values_list2 = []\n",
    "\n",
    "for dict1, dict2 in zip(list1, list2):\n",
    "    obj_values_list1.extend([dict1['obj_' + str(i)] for i in range(1, 12)])\n",
    "    obj_values_list2.extend([dict2['obj_' + str(i)] for i in range(1, 12)])\n",
    "\n",
    "# Perform the independent sample t-test\n",
    "t_statistic, p_value = stats.ttest_ind(obj_values_list1, obj_values_list2)\n",
    "\n",
    "# Print the results\n",
    "print(\"T-Statistic:\", t_statistic)\n",
    "print(\"P-Value:\", p_value)\n",
    "\n"
   ]
  },
  {
   "cell_type": "code",
   "execution_count": 48,
   "metadata": {},
   "outputs": [
    {
     "name": "stdout",
     "output_type": "stream",
     "text": [
      "        Average\n",
      "obj_1     99.45\n",
      "obj_2     98.30\n",
      "obj_3    100.00\n",
      "obj_4     98.20\n",
      "obj_5     99.50\n",
      "obj_6     98.30\n",
      "obj_7     90.50\n",
      "obj_8     97.95\n",
      "obj_9     93.90\n",
      "obj_10    99.15\n",
      "obj_11    98.50\n",
      "scores true: 97.96857463524131\n",
      "scores false: 96.10047846889952\n"
     ]
    },
    {
     "data": {
      "image/png": "[encoded data removed]",
      "text/plain": [
       "<Figure size 432x288 with 1 Axes>"
      ]
     },
     "metadata": {
      "needs_background": "light"
     },
     "output_type": "display_data"
    },
    {
     "data": {
      "image/png": "[encoded data removed]",
      "text/plain": [
       "<Figure size 432x288 with 1 Axes>"
      ]
     },
     "metadata": {
      "needs_background": "light"
     },
     "output_type": "display_data"
    },
    {
     "name": "stdout",
     "output_type": "stream",
     "text": [
      "{'obj_2': (70, 100), 'obj_8': (70, 100), 'obj_1': (90, 100), 'obj_6': (70, 100), 'obj_9': (70, 100), 'obj_10': (80, 100), 'obj_5': (90, 100), 'obj_11': (50, 100), 'obj_7': (60, 100), 'obj_4': (70, 100), 'obj_3': (100, 100)}\n",
      "{'obj_2': 5.135536717202729, 'obj_8': 5.90732296784801, 'obj_1': 2.2355032425551866, 'obj_6': 5.135536717202729, 'obj_9': 5.84220105194208, 'obj_10': 3.557251804980975, 'obj_5': 2.190429135575903, 'obj_11': 7.571210756756962, 'obj_7': 7.571210756756962, 'obj_4': 5.389852043470677, 'obj_3': 0.0}\n",
      "For obj_2, t-statistic is 2.43 and the p-value is 0.02\n",
      "For obj_8, t-statistic is 1.79 and the p-value is 0.08\n",
      "For obj_1, t-statistic is 2.28 and the p-value is 0.03\n",
      "For obj_6, t-statistic is 2.98 and the p-value is 0.00\n",
      "For obj_9, t-statistic is 0.18 and the p-value is 0.86\n",
      "For obj_10, t-statistic is 2.10 and the p-value is 0.04\n",
      "For obj_5, t-statistic is 2.44 and the p-value is 0.02\n",
      "For obj_11, t-statistic is -0.62 and the p-value is 0.54\n",
      "For obj_7, t-statistic is 2.40 and the p-value is 0.02\n",
      "For obj_4, t-statistic is 2.21 and the p-value is 0.03\n",
      "For obj_3, t-statistic is nan and the p-value is nan\n"
     ]
    }
   ],
   "source": [
    "# Very low p-values - what is going on? Either mistake in code or a real difference?\n",
    "data = Collection.from_json(\"./med_qa_first_gpt-4_gpt-4.json\")\n",
    "scores_per_item, variables_per_item = parse_data(data,idx_cot=1,dataset='med_qa',split='test')\n",
    "scores_per_item = fix_str_score(scores_per_item)\n",
    "scores_per_objective, df = get_further_data(scores_per_item)\n",
    "average_per_item = [sum(d.values()) / len(d) for d in scores_per_item]\n",
    "\n",
    "print(df)\n",
    "\n",
    "avg_true_false(data,average_per_item,'med_qa','test')\n",
    "freq_bar_plot(scores_per_item)\n",
    "avg_item_plot(scores_per_objective)\n",
    "\n",
    "range_data = {key: (min(value),max(value)) for key, value in scores_per_objective.items()}\n",
    "print(range_data)\n",
    "\n",
    "print(standard_deviation(scores_per_objective))\n",
    "\n",
    "true_lst, false_lst = t_test(data,scores_per_item,'med_qa','test')"
   ]
  },
  {
   "cell_type": "code",
   "execution_count": 60,
   "metadata": {},
   "outputs": [
    {
     "name": "stdout",
     "output_type": "stream",
     "text": [
      "For obj_2, U-statistic is 866.00 and the p-value is 0.13\n",
      "For obj_8, U-statistic is 903.00 and the p-value is 0.04\n",
      "For obj_1, U-statistic is 864.00 and the p-value is 0.04\n",
      "For obj_6, U-statistic is 914.00 and the p-value is 0.02\n",
      "For obj_9, U-statistic is 789.50 and the p-value is 0.84\n",
      "For obj_10, U-statistic is 863.50 and the p-value is 0.05\n",
      "For obj_5, U-statistic is 872.00 and the p-value is 0.02\n",
      "For obj_11, U-statistic is 770.00 and the p-value is 1.00\n",
      "For obj_7, U-statistic is 949.50 and the p-value is 0.07\n",
      "For obj_4, U-statistic is 864.50 and the p-value is 0.14\n",
      "For obj_3, U-statistic is 769.50 and the p-value is 1.00\n"
     ]
    }
   ],
   "source": [
    "true_lst, false_lst = u_test(data,scores_per_item,'med_qa','test')"
   ]
  },
  {
   "cell_type": "code",
   "execution_count": 63,
   "metadata": {},
   "outputs": [
    {
     "data": {
      "text/plain": [
       "{'obj_2': [100,\n",
       "  100,\n",
       "  100,\n",
       "  100,\n",
       "  100,\n",
       "  100,\n",
       "  90,\n",
       "  100,\n",
       "  100,\n",
       "  80,\n",
       "  80,\n",
       "  100,\n",
       "  100,\n",
       "  100,\n",
       "  100,\n",
       "  100,\n",
       "  100,\n",
       "  70,\n",
       "  100],\n",
       " 'obj_8': [100,\n",
       "  100,\n",
       "  100,\n",
       "  100,\n",
       "  100,\n",
       "  90,\n",
       "  85,\n",
       "  100,\n",
       "  100,\n",
       "  80,\n",
       "  85,\n",
       "  100,\n",
       "  100,\n",
       "  100,\n",
       "  100,\n",
       "  100,\n",
       "  100,\n",
       "  80,\n",
       "  100],\n",
       " 'obj_1': [100,\n",
       "  100,\n",
       "  100,\n",
       "  100,\n",
       "  100,\n",
       "  100,\n",
       "  90,\n",
       "  100,\n",
       "  100,\n",
       "  100,\n",
       "  90,\n",
       "  100,\n",
       "  100,\n",
       "  100,\n",
       "  100,\n",
       "  100,\n",
       "  100,\n",
       "  90,\n",
       "  100],\n",
       " 'obj_6': [100,\n",
       "  100,\n",
       "  100,\n",
       "  100,\n",
       "  100,\n",
       "  90,\n",
       "  90,\n",
       "  100,\n",
       "  100,\n",
       "  80,\n",
       "  80,\n",
       "  100,\n",
       "  100,\n",
       "  100,\n",
       "  100,\n",
       "  100,\n",
       "  100,\n",
       "  70,\n",
       "  100],\n",
       " 'obj_9': [90,\n",
       "  100,\n",
       "  90,\n",
       "  100,\n",
       "  100,\n",
       "  100,\n",
       "  90,\n",
       "  90,\n",
       "  100,\n",
       "  100,\n",
       "  100,\n",
       "  90,\n",
       "  90,\n",
       "  90,\n",
       "  90,\n",
       "  90,\n",
       "  90,\n",
       "  80,\n",
       "  100],\n",
       " 'obj_10': [100,\n",
       "  100,\n",
       "  100,\n",
       "  100,\n",
       "  100,\n",
       "  100,\n",
       "  85,\n",
       "  100,\n",
       "  100,\n",
       "  100,\n",
       "  90,\n",
       "  100,\n",
       "  100,\n",
       "  100,\n",
       "  100,\n",
       "  100,\n",
       "  100,\n",
       "  80,\n",
       "  100],\n",
       " 'obj_5': [100,\n",
       "  100,\n",
       "  100,\n",
       "  100,\n",
       "  100,\n",
       "  100,\n",
       "  90,\n",
       "  100,\n",
       "  100,\n",
       "  100,\n",
       "  90,\n",
       "  100,\n",
       "  100,\n",
       "  100,\n",
       "  100,\n",
       "  100,\n",
       "  100,\n",
       "  90,\n",
       "  100],\n",
       " 'obj_11': [100,\n",
       "  100,\n",
       "  100,\n",
       "  100,\n",
       "  100,\n",
       "  90,\n",
       "  100,\n",
       "  100,\n",
       "  100,\n",
       "  100,\n",
       "  100,\n",
       "  100,\n",
       "  100,\n",
       "  100,\n",
       "  100,\n",
       "  100,\n",
       "  100,\n",
       "  100,\n",
       "  100],\n",
       " 'obj_7': [90,\n",
       "  90,\n",
       "  90,\n",
       "  90,\n",
       "  100,\n",
       "  100,\n",
       "  80,\n",
       "  90,\n",
       "  90,\n",
       "  70,\n",
       "  70,\n",
       "  90,\n",
       "  90,\n",
       "  90,\n",
       "  90,\n",
       "  90,\n",
       "  90,\n",
       "  60,\n",
       "  90],\n",
       " 'obj_4': [100,\n",
       "  100,\n",
       "  100,\n",
       "  100,\n",
       "  100,\n",
       "  100,\n",
       "  90,\n",
       "  100,\n",
       "  100,\n",
       "  80,\n",
       "  80,\n",
       "  100,\n",
       "  100,\n",
       "  100,\n",
       "  100,\n",
       "  100,\n",
       "  100,\n",
       "  70,\n",
       "  100],\n",
       " 'obj_3': [100,\n",
       "  100,\n",
       "  100,\n",
       "  100,\n",
       "  100,\n",
       "  100,\n",
       "  100,\n",
       "  100,\n",
       "  100,\n",
       "  100,\n",
       "  100,\n",
       "  100,\n",
       "  100,\n",
       "  100,\n",
       "  100,\n",
       "  100,\n",
       "  100,\n",
       "  100,\n",
       "  100]}"
      ]
     },
     "execution_count": 63,
     "metadata": {},
     "output_type": "execute_result"
    }
   ],
   "source": [
    "false_lst"
   ]
  },
  {
   "cell_type": "code",
   "execution_count": 62,
   "metadata": {},
   "outputs": [
    {
     "data": {
      "text/plain": [
       "{'obj_2': [100,\n",
       "  100,\n",
       "  100,\n",
       "  100,\n",
       "  100,\n",
       "  100,\n",
       "  100,\n",
       "  100,\n",
       "  100,\n",
       "  100,\n",
       "  100,\n",
       "  100,\n",
       "  100,\n",
       "  100,\n",
       "  100,\n",
       "  100,\n",
       "  100,\n",
       "  100,\n",
       "  100,\n",
       "  100,\n",
       "  100,\n",
       "  100,\n",
       "  100,\n",
       "  100,\n",
       "  100,\n",
       "  100,\n",
       "  100,\n",
       "  100,\n",
       "  100,\n",
       "  100,\n",
       "  100,\n",
       "  100,\n",
       "  90,\n",
       "  100,\n",
       "  100,\n",
       "  100,\n",
       "  100,\n",
       "  100,\n",
       "  100,\n",
       "  90,\n",
       "  100,\n",
       "  100,\n",
       "  90,\n",
       "  100,\n",
       "  100,\n",
       "  100,\n",
       "  100,\n",
       "  100,\n",
       "  100,\n",
       "  90,\n",
       "  90,\n",
       "  100,\n",
       "  100,\n",
       "  80,\n",
       "  100,\n",
       "  100,\n",
       "  100,\n",
       "  100,\n",
       "  100,\n",
       "  100,\n",
       "  100,\n",
       "  100,\n",
       "  100,\n",
       "  100,\n",
       "  100,\n",
       "  100,\n",
       "  100,\n",
       "  100,\n",
       "  100,\n",
       "  100,\n",
       "  90,\n",
       "  100,\n",
       "  100,\n",
       "  100,\n",
       "  90,\n",
       "  100,\n",
       "  100,\n",
       "  100,\n",
       "  100,\n",
       "  100,\n",
       "  100],\n",
       " 'obj_8': [100,\n",
       "  100,\n",
       "  100,\n",
       "  100,\n",
       "  100,\n",
       "  100,\n",
       "  100,\n",
       "  100,\n",
       "  100,\n",
       "  100,\n",
       "  100,\n",
       "  100,\n",
       "  100,\n",
       "  100,\n",
       "  100,\n",
       "  100,\n",
       "  100,\n",
       "  100,\n",
       "  100,\n",
       "  100,\n",
       "  100,\n",
       "  80,\n",
       "  100,\n",
       "  100,\n",
       "  100,\n",
       "  100,\n",
       "  100,\n",
       "  100,\n",
       "  100,\n",
       "  100,\n",
       "  100,\n",
       "  100,\n",
       "  90,\n",
       "  100,\n",
       "  100,\n",
       "  100,\n",
       "  100,\n",
       "  100,\n",
       "  100,\n",
       "  90,\n",
       "  100,\n",
       "  100,\n",
       "  80,\n",
       "  100,\n",
       "  100,\n",
       "  100,\n",
       "  100,\n",
       "  100,\n",
       "  100,\n",
       "  85,\n",
       "  70,\n",
       "  100,\n",
       "  100,\n",
       "  80,\n",
       "  100,\n",
       "  100,\n",
       "  100,\n",
       "  100,\n",
       "  100,\n",
       "  100,\n",
       "  100,\n",
       "  100,\n",
       "  100,\n",
       "  100,\n",
       "  100,\n",
       "  100,\n",
       "  100,\n",
       "  100,\n",
       "  100,\n",
       "  100,\n",
       "  100,\n",
       "  100,\n",
       "  100,\n",
       "  100,\n",
       "  100,\n",
       "  100,\n",
       "  100,\n",
       "  100,\n",
       "  100,\n",
       "  100,\n",
       "  100],\n",
       " 'obj_1': [100,\n",
       "  100,\n",
       "  100,\n",
       "  100,\n",
       "  100,\n",
       "  100,\n",
       "  100,\n",
       "  100,\n",
       "  100,\n",
       "  100,\n",
       "  100,\n",
       "  100,\n",
       "  100,\n",
       "  100,\n",
       "  100,\n",
       "  100,\n",
       "  100,\n",
       "  100,\n",
       "  100,\n",
       "  100,\n",
       "  100,\n",
       "  100,\n",
       "  100,\n",
       "  100,\n",
       "  100,\n",
       "  100,\n",
       "  100,\n",
       "  100,\n",
       "  100,\n",
       "  100,\n",
       "  100,\n",
       "  100,\n",
       "  100,\n",
       "  100,\n",
       "  100,\n",
       "  100,\n",
       "  100,\n",
       "  100,\n",
       "  100,\n",
       "  100,\n",
       "  100,\n",
       "  100,\n",
       "  90,\n",
       "  100,\n",
       "  100,\n",
       "  100,\n",
       "  100,\n",
       "  100,\n",
       "  100,\n",
       "  95,\n",
       "  90,\n",
       "  100,\n",
       "  100,\n",
       "  100,\n",
       "  100,\n",
       "  100,\n",
       "  100,\n",
       "  100,\n",
       "  100,\n",
       "  100,\n",
       "  100,\n",
       "  100,\n",
       "  100,\n",
       "  100,\n",
       "  100,\n",
       "  100,\n",
       "  100,\n",
       "  100,\n",
       "  100,\n",
       "  100,\n",
       "  100,\n",
       "  100,\n",
       "  100,\n",
       "  100,\n",
       "  100,\n",
       "  100,\n",
       "  100,\n",
       "  100,\n",
       "  100,\n",
       "  100,\n",
       "  100],\n",
       " 'obj_6': [100,\n",
       "  100,\n",
       "  100,\n",
       "  100,\n",
       "  100,\n",
       "  100,\n",
       "  100,\n",
       "  100,\n",
       "  100,\n",
       "  100,\n",
       "  100,\n",
       "  100,\n",
       "  100,\n",
       "  100,\n",
       "  100,\n",
       "  100,\n",
       "  100,\n",
       "  100,\n",
       "  100,\n",
       "  100,\n",
       "  100,\n",
       "  100,\n",
       "  80,\n",
       "  100,\n",
       "  100,\n",
       "  100,\n",
       "  100,\n",
       "  100,\n",
       "  100,\n",
       "  100,\n",
       "  100,\n",
       "  100,\n",
       "  90,\n",
       "  100,\n",
       "  100,\n",
       "  100,\n",
       "  100,\n",
       "  100,\n",
       "  100,\n",
       "  90,\n",
       "  100,\n",
       "  100,\n",
       "  90,\n",
       "  100,\n",
       "  100,\n",
       "  100,\n",
       "  100,\n",
       "  100,\n",
       "  100,\n",
       "  90,\n",
       "  90,\n",
       "  100,\n",
       "  100,\n",
       "  100,\n",
       "  100,\n",
       "  100,\n",
       "  100,\n",
       "  100,\n",
       "  100,\n",
       "  100,\n",
       "  100,\n",
       "  100,\n",
       "  100,\n",
       "  100,\n",
       "  100,\n",
       "  100,\n",
       "  100,\n",
       "  100,\n",
       "  100,\n",
       "  100,\n",
       "  90,\n",
       "  100,\n",
       "  100,\n",
       "  100,\n",
       "  100,\n",
       "  100,\n",
       "  100,\n",
       "  100,\n",
       "  100,\n",
       "  100,\n",
       "  100],\n",
       " 'obj_9': [100,\n",
       "  100,\n",
       "  100,\n",
       "  90,\n",
       "  90,\n",
       "  100,\n",
       "  90,\n",
       "  90,\n",
       "  90,\n",
       "  90,\n",
       "  90,\n",
       "  100,\n",
       "  90,\n",
       "  90,\n",
       "  100,\n",
       "  90,\n",
       "  90,\n",
       "  90,\n",
       "  100,\n",
       "  90,\n",
       "  90,\n",
       "  90,\n",
       "  100,\n",
       "  90,\n",
       "  100,\n",
       "  90,\n",
       "  100,\n",
       "  100,\n",
       "  100,\n",
       "  100,\n",
       "  90,\n",
       "  90,\n",
       "  100,\n",
       "  100,\n",
       "  100,\n",
       "  100,\n",
       "  100,\n",
       "  90,\n",
       "  90,\n",
       "  70,\n",
       "  100,\n",
       "  100,\n",
       "  100,\n",
       "  100,\n",
       "  100,\n",
       "  90,\n",
       "  100,\n",
       "  90,\n",
       "  90,\n",
       "  80,\n",
       "  100,\n",
       "  90,\n",
       "  90,\n",
       "  100,\n",
       "  90,\n",
       "  90,\n",
       "  90,\n",
       "  90,\n",
       "  90,\n",
       "  90,\n",
       "  100,\n",
       "  90,\n",
       "  90,\n",
       "  90,\n",
       "  100,\n",
       "  90,\n",
       "  100,\n",
       "  90,\n",
       "  90,\n",
       "  90,\n",
       "  100,\n",
       "  90,\n",
       "  100,\n",
       "  100,\n",
       "  100,\n",
       "  100,\n",
       "  90,\n",
       "  100,\n",
       "  90,\n",
       "  90,\n",
       "  90],\n",
       " 'obj_10': [100,\n",
       "  100,\n",
       "  100,\n",
       "  100,\n",
       "  100,\n",
       "  100,\n",
       "  100,\n",
       "  100,\n",
       "  100,\n",
       "  100,\n",
       "  100,\n",
       "  100,\n",
       "  100,\n",
       "  100,\n",
       "  100,\n",
       "  100,\n",
       "  100,\n",
       "  100,\n",
       "  100,\n",
       "  100,\n",
       "  100,\n",
       "  100,\n",
       "  100,\n",
       "  100,\n",
       "  100,\n",
       "  100,\n",
       "  100,\n",
       "  100,\n",
       "  100,\n",
       "  100,\n",
       "  100,\n",
       "  100,\n",
       "  100,\n",
       "  100,\n",
       "  100,\n",
       "  100,\n",
       "  100,\n",
       "  100,\n",
       "  100,\n",
       "  90,\n",
       "  100,\n",
       "  100,\n",
       "  100,\n",
       "  100,\n",
       "  100,\n",
       "  100,\n",
       "  100,\n",
       "  100,\n",
       "  100,\n",
       "  90,\n",
       "  100,\n",
       "  100,\n",
       "  100,\n",
       "  80,\n",
       "  100,\n",
       "  100,\n",
       "  100,\n",
       "  100,\n",
       "  100,\n",
       "  100,\n",
       "  100,\n",
       "  100,\n",
       "  100,\n",
       "  100,\n",
       "  100,\n",
       "  100,\n",
       "  100,\n",
       "  100,\n",
       "  100,\n",
       "  100,\n",
       "  100,\n",
       "  100,\n",
       "  100,\n",
       "  100,\n",
       "  100,\n",
       "  100,\n",
       "  100,\n",
       "  100,\n",
       "  100,\n",
       "  100,\n",
       "  100],\n",
       " 'obj_5': [100,\n",
       "  100,\n",
       "  100,\n",
       "  100,\n",
       "  100,\n",
       "  100,\n",
       "  100,\n",
       "  100,\n",
       "  100,\n",
       "  100,\n",
       "  100,\n",
       "  100,\n",
       "  100,\n",
       "  100,\n",
       "  100,\n",
       "  100,\n",
       "  100,\n",
       "  100,\n",
       "  100,\n",
       "  100,\n",
       "  100,\n",
       "  100,\n",
       "  100,\n",
       "  100,\n",
       "  100,\n",
       "  100,\n",
       "  100,\n",
       "  100,\n",
       "  100,\n",
       "  100,\n",
       "  100,\n",
       "  100,\n",
       "  100,\n",
       "  100,\n",
       "  100,\n",
       "  100,\n",
       "  100,\n",
       "  100,\n",
       "  100,\n",
       "  100,\n",
       "  100,\n",
       "  100,\n",
       "  100,\n",
       "  100,\n",
       "  100,\n",
       "  100,\n",
       "  100,\n",
       "  100,\n",
       "  100,\n",
       "  90,\n",
       "  100,\n",
       "  100,\n",
       "  100,\n",
       "  100,\n",
       "  100,\n",
       "  100,\n",
       "  100,\n",
       "  100,\n",
       "  100,\n",
       "  100,\n",
       "  100,\n",
       "  100,\n",
       "  100,\n",
       "  100,\n",
       "  100,\n",
       "  100,\n",
       "  100,\n",
       "  100,\n",
       "  100,\n",
       "  100,\n",
       "  100,\n",
       "  100,\n",
       "  100,\n",
       "  100,\n",
       "  90,\n",
       "  100,\n",
       "  100,\n",
       "  100,\n",
       "  100,\n",
       "  100,\n",
       "  100],\n",
       " 'obj_11': [100,\n",
       "  100,\n",
       "  100,\n",
       "  100,\n",
       "  100,\n",
       "  100,\n",
       "  100,\n",
       "  100,\n",
       "  100,\n",
       "  100,\n",
       "  100,\n",
       "  100,\n",
       "  100,\n",
       "  100,\n",
       "  100,\n",
       "  100,\n",
       "  100,\n",
       "  100,\n",
       "  100,\n",
       "  100,\n",
       "  100,\n",
       "  80,\n",
       "  100,\n",
       "  100,\n",
       "  100,\n",
       "  100,\n",
       "  100,\n",
       "  100,\n",
       "  100,\n",
       "  100,\n",
       "  100,\n",
       "  100,\n",
       "  100,\n",
       "  100,\n",
       "  100,\n",
       "  100,\n",
       "  100,\n",
       "  100,\n",
       "  100,\n",
       "  100,\n",
       "  100,\n",
       "  100,\n",
       "  80,\n",
       "  100,\n",
       "  100,\n",
       "  100,\n",
       "  100,\n",
       "  100,\n",
       "  100,\n",
       "  100,\n",
       "  50,\n",
       "  100,\n",
       "  100,\n",
       "  50,\n",
       "  100,\n",
       "  100,\n",
       "  100,\n",
       "  100,\n",
       "  100,\n",
       "  100,\n",
       "  100,\n",
       "  100,\n",
       "  100,\n",
       "  100,\n",
       "  100,\n",
       "  100,\n",
       "  100,\n",
       "  100,\n",
       "  100,\n",
       "  100,\n",
       "  100,\n",
       "  100,\n",
       "  100,\n",
       "  100,\n",
       "  100,\n",
       "  100,\n",
       "  100,\n",
       "  100,\n",
       "  100,\n",
       "  100,\n",
       "  100],\n",
       " 'obj_7': [90,\n",
       "  100,\n",
       "  90,\n",
       "  90,\n",
       "  90,\n",
       "  100,\n",
       "  90,\n",
       "  90,\n",
       "  90,\n",
       "  90,\n",
       "  90,\n",
       "  100,\n",
       "  90,\n",
       "  90,\n",
       "  100,\n",
       "  90,\n",
       "  90,\n",
       "  90,\n",
       "  100,\n",
       "  90,\n",
       "  90,\n",
       "  100,\n",
       "  80,\n",
       "  90,\n",
       "  90,\n",
       "  90,\n",
       "  90,\n",
       "  100,\n",
       "  100,\n",
       "  100,\n",
       "  90,\n",
       "  90,\n",
       "  80,\n",
       "  90,\n",
       "  90,\n",
       "  100,\n",
       "  100,\n",
       "  90,\n",
       "  90,\n",
       "  70,\n",
       "  100,\n",
       "  100,\n",
       "  70,\n",
       "  90,\n",
       "  90,\n",
       "  90,\n",
       "  100,\n",
       "  90,\n",
       "  90,\n",
       "  80,\n",
       "  80,\n",
       "  90,\n",
       "  90,\n",
       "  100,\n",
       "  90,\n",
       "  90,\n",
       "  90,\n",
       "  90,\n",
       "  90,\n",
       "  90,\n",
       "  80,\n",
       "  90,\n",
       "  90,\n",
       "  90,\n",
       "  100,\n",
       "  90,\n",
       "  100,\n",
       "  90,\n",
       "  90,\n",
       "  90,\n",
       "  80,\n",
       "  90,\n",
       "  100,\n",
       "  100,\n",
       "  80,\n",
       "  100,\n",
       "  100,\n",
       "  100,\n",
       "  90,\n",
       "  90,\n",
       "  90],\n",
       " 'obj_4': [100,\n",
       "  100,\n",
       "  100,\n",
       "  100,\n",
       "  100,\n",
       "  100,\n",
       "  100,\n",
       "  100,\n",
       "  100,\n",
       "  100,\n",
       "  100,\n",
       "  100,\n",
       "  100,\n",
       "  100,\n",
       "  100,\n",
       "  100,\n",
       "  100,\n",
       "  100,\n",
       "  100,\n",
       "  100,\n",
       "  100,\n",
       "  90,\n",
       "  90,\n",
       "  100,\n",
       "  100,\n",
       "  100,\n",
       "  100,\n",
       "  100,\n",
       "  100,\n",
       "  100,\n",
       "  100,\n",
       "  100,\n",
       "  90,\n",
       "  100,\n",
       "  100,\n",
       "  100,\n",
       "  100,\n",
       "  100,\n",
       "  100,\n",
       "  90,\n",
       "  100,\n",
       "  100,\n",
       "  90,\n",
       "  100,\n",
       "  100,\n",
       "  100,\n",
       "  100,\n",
       "  100,\n",
       "  100,\n",
       "  90,\n",
       "  80,\n",
       "  100,\n",
       "  100,\n",
       "  80,\n",
       "  100,\n",
       "  100,\n",
       "  100,\n",
       "  100,\n",
       "  100,\n",
       "  100,\n",
       "  100,\n",
       "  100,\n",
       "  100,\n",
       "  100,\n",
       "  100,\n",
       "  100,\n",
       "  100,\n",
       "  100,\n",
       "  100,\n",
       "  100,\n",
       "  100,\n",
       "  100,\n",
       "  100,\n",
       "  100,\n",
       "  100,\n",
       "  100,\n",
       "  100,\n",
       "  100,\n",
       "  100,\n",
       "  100,\n",
       "  100],\n",
       " 'obj_3': [100,\n",
       "  100,\n",
       "  100,\n",
       "  100,\n",
       "  100,\n",
       "  100,\n",
       "  100,\n",
       "  100,\n",
       "  100,\n",
       "  100,\n",
       "  100,\n",
       "  100,\n",
       "  100,\n",
       "  100,\n",
       "  100,\n",
       "  100,\n",
       "  100,\n",
       "  100,\n",
       "  100,\n",
       "  100,\n",
       "  100,\n",
       "  100,\n",
       "  100,\n",
       "  100,\n",
       "  100,\n",
       "  100,\n",
       "  100,\n",
       "  100,\n",
       "  100,\n",
       "  100,\n",
       "  100,\n",
       "  100,\n",
       "  100,\n",
       "  100,\n",
       "  100,\n",
       "  100,\n",
       "  100,\n",
       "  100,\n",
       "  100,\n",
       "  100,\n",
       "  100,\n",
       "  100,\n",
       "  100,\n",
       "  100,\n",
       "  100,\n",
       "  100,\n",
       "  100,\n",
       "  100,\n",
       "  100,\n",
       "  100,\n",
       "  100,\n",
       "  100,\n",
       "  100,\n",
       "  100,\n",
       "  100,\n",
       "  100,\n",
       "  100,\n",
       "  100,\n",
       "  100,\n",
       "  100,\n",
       "  100,\n",
       "  100,\n",
       "  100,\n",
       "  100,\n",
       "  100,\n",
       "  100,\n",
       "  100,\n",
       "  100,\n",
       "  100,\n",
       "  100,\n",
       "  100,\n",
       "  100,\n",
       "  100,\n",
       "  100,\n",
       "  100,\n",
       "  100,\n",
       "  100,\n",
       "  100,\n",
       "  100,\n",
       "  100,\n",
       "  100]}"
      ]
     },
     "execution_count": 62,
     "metadata": {},
     "output_type": "execute_result"
    }
   ],
   "source": [
    "true_lst"
   ]
  },
  {
   "cell_type": "code",
   "execution_count": 64,
   "metadata": {},
   "outputs": [
    {
     "name": "stdout",
     "output_type": "stream",
     "text": [
      "        Average\n",
      "obj_1     59.00\n",
      "obj_2     75.50\n",
      "obj_3     59.10\n",
      "obj_4     52.15\n",
      "obj_5     55.70\n",
      "obj_6     55.05\n",
      "obj_7     52.05\n",
      "obj_8     60.00\n",
      "obj_9     36.60\n",
      "obj_10    58.70\n",
      "obj_11    63.50\n",
      "scores true: 61.81818181818182\n",
      "scores false: 54.779411764705884\n"
     ]
    },
    {
     "data": {
      "image/png": "[encoded data removed]",
      "text/plain": [
       "<Figure size 432x288 with 1 Axes>"
      ]
     },
     "metadata": {
      "needs_background": "light"
     },
     "output_type": "display_data"
    },
    {
     "data": {
      "image/png": "[encoded data removed]",
      "text/plain": [
       "<Figure size 432x288 with 1 Axes>"
      ]
     },
     "metadata": {
      "needs_background": "light"
     },
     "output_type": "display_data"
    },
    {
     "name": "stdout",
     "output_type": "stream",
     "text": [
      "{'obj_2': (25, 100), 'obj_8': (0, 100), 'obj_1': (0, 100), 'obj_6': (0, 100), 'obj_9': (0, 80), 'obj_10': (0, 100), 'obj_5': (0, 100), 'obj_11': (0, 100), 'obj_7': (0, 100), 'obj_4': (0, 100), 'obj_3': (0, 100)}\n",
      "{'obj_2': 18.16729217716567, 'obj_8': 25.34608929251695, 'obj_1': 23.148619523820116, 'obj_6': 22.24172755080965, 'obj_9': 25.848040779161803, 'obj_10': 21.551207517318968, 'obj_5': 19.18832768096062, 'obj_11': 35.230123703467406, 'obj_7': 21.20242743869034, 'obj_4': 23.871023387692382, 'obj_3': 27.278770374254627}\n",
      "For obj_2, t-statistic is 0.81 and the p-value is 0.42\n",
      "For obj_8, t-statistic is 1.97 and the p-value is 0.05\n",
      "For obj_1, t-statistic is 1.41 and the p-value is 0.16\n",
      "For obj_6, t-statistic is 1.24 and the p-value is 0.22\n",
      "For obj_9, t-statistic is 1.24 and the p-value is 0.22\n",
      "For obj_10, t-statistic is 1.42 and the p-value is 0.16\n",
      "For obj_5, t-statistic is 0.75 and the p-value is 0.45\n",
      "For obj_11, t-statistic is 2.09 and the p-value is 0.04\n",
      "For obj_7, t-statistic is 1.16 and the p-value is 0.25\n",
      "For obj_4, t-statistic is 1.59 and the p-value is 0.11\n",
      "For obj_3, t-statistic is 0.93 and the p-value is 0.35\n"
     ]
    }
   ],
   "source": [
    "#third template\n",
    "\n",
    "# Very low p-values - what is going on? Either mistake in code or a real difference?\n",
    "data = Collection.from_json(\"./med_qa_third_cohere_gpt-3.5-turbo.json\")\n",
    "scores_per_item, variables_per_item = parse_data(data,idx_cot=1,dataset='med_qa',split='test')\n",
    "scores_per_item = fix_str_score(scores_per_item)\n",
    "scores_per_objective, df = get_further_data(scores_per_item)\n",
    "average_per_item = [sum(d.values()) / len(d) for d in scores_per_item]\n",
    "\n",
    "print(df)\n",
    "\n",
    "avg_true_false(data,average_per_item,'med_qa','test')\n",
    "freq_bar_plot(scores_per_item)\n",
    "avg_item_plot(scores_per_objective)\n",
    "\n",
    "range_data = {key: (min(value),max(value)) for key, value in scores_per_objective.items()}\n",
    "print(range_data)\n",
    "\n",
    "print(standard_deviation(scores_per_objective))\n",
    "\n",
    "true_lst, false_lst = t_test(data,scores_per_item,'med_qa','test')\n"
   ]
  },
  {
   "cell_type": "code",
   "execution_count": null,
   "metadata": {},
   "outputs": [],
   "source": [
    "data = Collection.from_json(\"\")"
   ]
  }
 ],
 "metadata": {
  "kernelspec": {
   "display_name": "base",
   "language": "python",
   "name": "python3"
  },
  "language_info": {
   "codemirror_mode": {
    "name": "ipython",
    "version": 3
   },
   "file_extension": ".py",
   "mimetype": "text/x-python",
   "name": "python",
   "nbconvert_exporter": "python",
   "pygments_lexer": "ipython3",
   "version": "3.9.12"
  },
  "orig_nbformat": 4
 },
 "nbformat": 4,
 "nbformat_minor": 2
}
