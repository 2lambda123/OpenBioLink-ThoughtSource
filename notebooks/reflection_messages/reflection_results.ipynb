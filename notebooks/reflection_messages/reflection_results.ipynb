{
 "cells": [
  {
   "attachments": {},
   "cell_type": "markdown",
   "metadata": {},
   "source": [
    "## Helper functions"
   ]
  },
  {
   "cell_type": "code",
   "execution_count": 16,
   "metadata": {},
   "outputs": [],
   "source": [
    "\"\"\"Imports\"\"\"\n",
    "from langchain.chat_models import ChatOpenAI\n",
    "from langchain.prompts.chat import (\n",
    "    ChatPromptTemplate,\n",
    "    SystemMessagePromptTemplate,\n",
    "    AIMessagePromptTemplate,\n",
    "    HumanMessagePromptTemplate,\n",
    ")\n",
    "from langchain.schema import (\n",
    "    AIMessage,\n",
    "    HumanMessage,\n",
    "    SystemMessage\n",
    ")\n",
    "\n",
    "from cot import Collection\n",
    "import yaml"
   ]
  },
  {
   "cell_type": "code",
   "execution_count": 3,
   "metadata": {},
   "outputs": [],
   "source": [
    "# Helper functions to call OpenAI model, system also generates reasoning\n",
    "# this function lets the model reason (less frequently used than system_evaluate)\n",
    "\n",
    "def system_experiment(data,model, path_system_template):\n",
    "    chat = ChatOpenAI(\n",
    "        temperature=0,\n",
    "        model_name=model,\n",
    "        request_timeout=600,\n",
    "        max_retries=1,\n",
    "    )\n",
    "\n",
    "    human_template=\"\"\"Answer the question:{question}\\nwith the following answer options:{answer_options}\"\"\"\n",
    "    human_message_prompt = HumanMessagePromptTemplate.from_template(human_template)\n",
    "    \n",
    "    with open(path_system_template, 'r') as file:\n",
    "        template = file.read()\n",
    "    system_message_prompt = SystemMessagePromptTemplate.from_template(template)\n",
    "    \n",
    "    chat_prompt = ChatPromptTemplate.from_messages([system_message_prompt, human_message_prompt])  \n",
    "    input_dict = {'chat':chat,'chat_prompt':chat_prompt, \"api_time_interval\": 1} \n",
    "    \n",
    "    return data.system_generate(input_dict)\n",
    "\n",
    "def save_as_yaml(data, filepath):\n",
    "    with open(filepath, 'w') as file:\n",
    "        yaml.dump(data, file)"
   ]
  },
  {
   "cell_type": "code",
   "execution_count": 4,
   "metadata": {},
   "outputs": [],
   "source": [
    "def system_evaluate(data,model, path_system_template):\n",
    "    chat = ChatOpenAI(\n",
    "        temperature=0,\n",
    "        model_name=model,\n",
    "        request_timeout=600,\n",
    "        max_retries=1,\n",
    "    )\n",
    "\n",
    "    human_template=\"\"\"Answer the question:{question}\\n\n",
    "    with the following answer options:{answer_options}\\n\n",
    "    Reasoning: {reasoning}\\n\n",
    "    Answer: {answer}\"\"\"\n",
    "    human_message_prompt = HumanMessagePromptTemplate.from_template(human_template)\n",
    "    \n",
    "    with open(path_system_template, 'r') as file:\n",
    "        template = file.read()\n",
    "    system_message_prompt = SystemMessagePromptTemplate.from_template(template)\n",
    "    \n",
    "    chat_prompt = ChatPromptTemplate.from_messages([system_message_prompt, human_message_prompt])  \n",
    "    input_dict = {'chat':chat,'chat_prompt':chat_prompt, \"api_time_interval\": 1} \n",
    "    \n",
    "    return data.system_evals(input_dict)"
   ]
  },
  {
   "cell_type": "code",
   "execution_count": 5,
   "metadata": {},
   "outputs": [],
   "source": [
    "import pandas as pd\n",
    "import yaml\n",
    "\n",
    "def process_new_data(new_data,idx_cot,dataset,split):\n",
    "    scores_per_item = []\n",
    "    for item in new_data[dataset][split]:\n",
    "        try:\n",
    "            scores_per_item.append(yaml.load(item['generated_cot'][idx_cot]['cot'], Loader=yaml.FullLoader))\n",
    "        except:\n",
    "            print(\"wrong output found\")\n",
    "            continue\n",
    "\n",
    "    # Get unique keys from all dictionaries\n",
    "    keys = set().union(*scores_per_item)\n",
    "\n",
    "    # Create lists of values for each key\n",
    "    scores_per_objective = {key: [d.get(key) for d in scores_per_item] for key in keys if key != \"critique\"} #added critique\n",
    "\n",
    "    #check values for nonetype\n",
    "    for key, value in scores_per_objective.items():\n",
    "        if value is not str:\n",
    "            print(key,value)\n",
    "\n",
    "\n",
    "    # Calculate the average of each list\n",
    "    averaged_data = {key: sum(value) / len(value) for key, value in scores_per_objective.items() if key!=\"critique\"} #added critique\n",
    "\n",
    "    # Convert the averaged data dictionary to a Pandas DataFrame\n",
    "    df = pd.DataFrame.from_dict(averaged_data, orient='index', columns=['Average'])\n",
    "\n",
    "    # Sort the DataFrame by the index (row labels)\n",
    "    df = df.loc[['obj_1', 'obj_2', 'obj_3', 'obj_4', 'obj_5', 'obj_6', 'obj_7', 'obj_8', 'obj_9', 'obj_10', 'obj_11']]\n",
    "\n",
    "    return scores_per_item, scores_per_objective, df"
   ]
  },
  {
   "cell_type": "code",
   "execution_count": 6,
   "metadata": {},
   "outputs": [],
   "source": [
    "def parse_data(new_data,idx_cot,dataset,split):\n",
    "    scores_per_item = []\n",
    "    variables_per_item = []\n",
    "    for item in new_data[dataset][split]:\n",
    "        try:\n",
    "            data = yaml.load(item['generated_cot'][idx_cot]['cot'], Loader=yaml.FullLoader)\n",
    "            if any(isinstance(v, str) for v in data.values()):\n",
    "                new_dict = {k: v for k, v in data.items() if k.startswith('obj')}\n",
    "                scores_per_item.append(new_dict)\n",
    "                variables_per_item.append(data)\n",
    "            else:\n",
    "                scores_per_item.append(data)\n",
    "        except:\n",
    "        \n",
    "            print(\"wrong output found\")\n",
    "            continue\n",
    "    return scores_per_item, variables_per_item"
   ]
  },
  {
   "cell_type": "code",
   "execution_count": 23,
   "metadata": {},
   "outputs": [],
   "source": [
    "#Add minimal value and average value\n",
    "def parse_data(new_data,idx_cot,dataset,split):\n",
    "    scores_per_item = []\n",
    "    variables_per_item = []\n",
    "    lowest_obj = []\n",
    "    for item in new_data[dataset][split]:\n",
    "        flag = False\n",
    "        try:\n",
    "            data = yaml.load(item['generated_cot'][idx_cot]['cot'], Loader=yaml.FullLoader)\n",
    "            if any(isinstance(v, str) for v in data.values()):\n",
    "                new_dict = {k: v for k, v in data.items() if k.startswith('obj')}\n",
    "                #scores_per_item.append(new_dict)\n",
    "                flag = True\n",
    "                variables_per_item.append(data)\n",
    "        except:\n",
    "            print(\"wrong output found\")\n",
    "            continue\n",
    "        if flag == True:\n",
    "\n",
    "            data = new_dict\n",
    "            try:\n",
    "                # Find the lowest value\n",
    "                lowest_value = min(data.values())\n",
    "\n",
    "                # Calculate the average value\n",
    "                average_value = sum(data.values()) / len(data)\n",
    "\n",
    "                # Find the key(s) of the lowest value\n",
    "                lowest_keys = [key for key, value in data.items() if value == lowest_value]     \n",
    "                lowest_obj.append(lowest_keys)\n",
    "\n",
    "                # Add lowest and average values to the dictionary\n",
    "                data['lowest'] = lowest_value\n",
    "                data['average'] = average_value\n",
    "            except:\n",
    "                print(\"non_int data found... continue\")\n",
    "\n",
    "            scores_per_item.append(data)\n",
    "\n",
    "    #get lowest keys split for true and false\n",
    "    item_correct = []\n",
    "\n",
    "    for item in new_data[dataset][split]:\n",
    "        item_correct.append(item['generated_cot'][0]['answers'][0]['correct_answer'])\n",
    "\n",
    "    # Example lists of scores and indicators\n",
    "    scores = lowest_obj\n",
    "    indicators = item_correct\n",
    "\n",
    "    # Separate scores based on indicators\n",
    "    scores_true = [score for score, indicator in zip(scores, indicators) if indicator]\n",
    "    scores_false = [score for score, indicator in zip(scores, indicators) if not indicator]\n",
    "         \n",
    "    return scores_per_item, variables_per_item, [scores_true,scores_false]\n",
    "\n",
    "def count_keys(lst):\n",
    "\n",
    "    counts = {}\n",
    "    for item in lst:\n",
    "        if isinstance(item, list):\n",
    "            sub_counts = count_keys(item)\n",
    "            for key, value in sub_counts.items():\n",
    "                counts[key] = counts.get(key, 0) + value\n",
    "        else:\n",
    "            counts[item] = counts.get(item, 0) + 1\n",
    "    return counts"
   ]
  },
  {
   "cell_type": "code",
   "execution_count": 8,
   "metadata": {},
   "outputs": [],
   "source": [
    "def parse_lst_data(new_data,idx_cot,dataset,split):\n",
    "    scores_per_item = []\n",
    "    variables_per_item = []\n",
    "    statements_per_item = []\n",
    "    for item in new_data[dataset][split]:\n",
    "        try:\n",
    "            data = yaml.load(item['generated_cot'][idx_cot]['cot'], Loader=yaml.FullLoader)\n",
    "            #if any(isinstance(v, str) for v in data.values()):\n",
    "            new_dict = {k: v[1] for k, v in data.items() if k.startswith('obj')}\n",
    "            statement_dict = {k: v[0] for k, v in data.items() if k.startswith('obj')}\n",
    "            statements_per_item.append(statement_dict)\n",
    "            scores_per_item.append(new_dict)\n",
    "            variables_per_item.append(data)\n",
    "            # else:\n",
    "            #     scores_per_item.append(data)\n",
    "        except:\n",
    "        \n",
    "            print(\"wrong output found\")\n",
    "            continue\n",
    "    return scores_per_item, variables_per_item, statements_per_item\n"
   ]
  },
  {
   "cell_type": "code",
   "execution_count": 9,
   "metadata": {},
   "outputs": [],
   "source": [
    "def get_further_data(scores_per_item):\n",
    "# Get unique keys from all dictionaries\n",
    "    keys = set().union(*scores_per_item)\n",
    "\n",
    "    # Create lists of values for each key\n",
    "    scores_per_objective = {key: [d.get(key) for d in scores_per_item] for key in keys}\n",
    "    # scores_per_objective = {k: v for k, v in scores_per_objective.items() if not isinstance(v, str)}\n",
    "    # print(scores_per_objective)\n",
    "\n",
    "    # #check values for nonetype\n",
    "    # for key, value in scores_per_objective.items():\n",
    "    #     if value is not str:\n",
    "    #         #print(key,value)\n",
    "    #         continue\n",
    "\n",
    "\n",
    "    # Calculate the average of each list\n",
    "    #averaged_data = {key: sum(value) / len(value) for key, value in scores_per_objective.items()} \n",
    "    averaged_data = {key: (sum(v for v in value if v is not None) / len([v for v in value if v is not None])) for key, value in scores_per_objective.items() if len([v for v in value if v is not None]) > 0}\n",
    "\n",
    "    # Convert the averaged data dictionary to a Pandas DataFrame\n",
    "    df = pd.DataFrame.from_dict(averaged_data, orient='index', columns=['Average'])\n",
    "\n",
    "    # Sort the DataFrame by the index (row labels)\n",
    "    df = df.loc[['obj_1', 'obj_2', 'obj_3', 'obj_4', 'obj_5', 'obj_6', 'obj_7', 'obj_8', 'obj_9', 'obj_10', 'obj_11']]\n",
    "\n",
    "    return scores_per_objective, df"
   ]
  },
  {
   "cell_type": "code",
   "execution_count": 10,
   "metadata": {},
   "outputs": [],
   "source": [
    "def fix_none_score(scores_per_item):\n",
    "    for i,element in enumerate(scores_per_item):\n",
    "        for inner_key, value in element.items():\n",
    "            if value is None:\n",
    "                scores_per_item[i][inner_key] = 5\n",
    "    return scores_per_item\n",
    "    "
   ]
  },
  {
   "cell_type": "code",
   "execution_count": 11,
   "metadata": {},
   "outputs": [],
   "source": [
    "def fix_str_score(scores_per_item):\n",
    "    for i,element in enumerate(scores_per_item):\n",
    "        for inner_key, value in element.items():\n",
    "            if isinstance(value,str):\n",
    "                scores_per_item.pop(i)\n",
    "    return scores_per_item"
   ]
  },
  {
   "cell_type": "code",
   "execution_count": 12,
   "metadata": {},
   "outputs": [],
   "source": [
    "#helper functions for results\n",
    "import matplotlib.pyplot as plt\n",
    "from scipy.stats import ttest_ind\n",
    "import statistics\n",
    "\n",
    "def freq_bar_plot(scores_per_item): #later better axes\n",
    "    average_per_item = [sum(d.values()) / len(d) for d in scores_per_item]\n",
    "    # Create a histogram\n",
    "    plt.hist(average_per_item, bins='auto', alpha=0.7)\n",
    "    plt.xlabel('Values')\n",
    "    plt.ylabel('Frequency')\n",
    "    plt.title('Frequency of average score per item')\n",
    "    plt.show()\n",
    "\n",
    "# def avg_item_plot(scores_per_objective):  #later better axes\n",
    " \n",
    "#     data = scores_per_objective\n",
    "#     averaged_data = {key: sum(value) / len(value) for key, value in data.items() if key!=\"critique\"} #added \"critique\"\n",
    "#     sorted_data = {k: v for k, v in sorted(averaged_data.items())}\n",
    "\n",
    "#     # Extract the keys (objectives) and values (averages) from the sorted dictionary\n",
    "#     keys = sorted_data.keys()\n",
    "#     values = sorted_data.values()\n",
    "\n",
    "#     # Create a bar plot\n",
    "#     plt.bar(keys, values)\n",
    "#     plt.xlabel('Objectives')\n",
    "#     plt.ylabel('Average')\n",
    "#     # plt.ylim(7,10)\n",
    "#     plt.title('Average per Objective')\n",
    "#     plt.xticks(rotation=45)\n",
    "#     plt.show()\n",
    "\n",
    "def avg_true_false(data,average_per_item,dataset,split):\n",
    "    item_correct = []\n",
    "    for item in data[dataset][split]:\n",
    "        item_correct.append(item['generated_cot'][0]['answers'][0]['correct_answer'])\n",
    "\n",
    "    # Example lists of scores and indicators\n",
    "    scores = average_per_item\n",
    "    indicators = item_correct\n",
    "\n",
    "    # Separate scores based on indicators\n",
    "    scores_true = [score for score, indicator in zip(scores, indicators) if indicator]\n",
    "    scores_false = [score for score, indicator in zip(scores, indicators) if not indicator]\n",
    "\n",
    "    print(\"scores true:\", statistics.mean(scores_true))\n",
    "    print(\"scores false:\", statistics.mean(scores_false))\n"
   ]
  },
  {
   "cell_type": "code",
   "execution_count": 13,
   "metadata": {},
   "outputs": [],
   "source": [
    "import math\n",
    "\n",
    "def standard_deviation(data):\n",
    "    # First, compute the mean for each key.\n",
    "    mean_data = {key: sum(value) / len(value) for key, value in data.items()}\n",
    "    \n",
    "    # Then, for each key, compute the sum of the squared differences from the mean.\n",
    "    variance_data = {}\n",
    "    for key, value in data.items():\n",
    "        variance_data[key] = sum((x - mean_data[key]) ** 2 for x in value) / (len(value)-1)\n",
    "    \n",
    "    # Finally, compute the standard deviation for each key.\n",
    "    standard_deviation_data = {key: math.sqrt(value) for key, value in variance_data.items()}\n",
    "    \n",
    "    return standard_deviation_data"
   ]
  },
  {
   "cell_type": "code",
   "execution_count": 14,
   "metadata": {},
   "outputs": [],
   "source": [
    "def t_test(data,scores_per_item,dataset,split):\n",
    "# find which items are correct\n",
    "    item_correct = []\n",
    "    for item in data[dataset][split]:\n",
    "        item_correct.append(item['generated_cot'][0]['answers'][0]['correct_answer'])\n",
    "\n",
    "    # Example lists of scores and indicators\n",
    "    scores = scores_per_item\n",
    "    indicators = item_correct\n",
    "\n",
    "    # Separate scores based on indicators\n",
    "    scores_true = [score for score, indicator in zip(scores, indicators) if indicator]\n",
    "    scores_false = [score for score, indicator in zip(scores, indicators) if not indicator]\n",
    "\n",
    "    keys = set().union(*scores_true)\n",
    "        # Create lists of values for each key\n",
    "    scores_per_objective_true = {key: [d.get(key) for d in scores_true] for key in keys if key != \"critique\"} \n",
    "\n",
    "    keys = set().union(*scores_false)\n",
    "        # Create lists of values for each key\n",
    "    scores_per_objective_false = {key: [d.get(key) for d in scores_false] for key in keys if key != \"critique\"} \n",
    "\n",
    "    dict_1 = scores_per_objective_true\n",
    "    dict_2 = scores_per_objective_false\n",
    "\n",
    "    # make sure both dictionaries have the same keys\n",
    "    assert dict_1.keys() == dict_2.keys()\n",
    "\n",
    "    for key in dict_1.keys():\n",
    "        t_stat, p_val = ttest_ind(dict_1[key], dict_2[key])\n",
    "        print(f\"For {key}, t-statistic is {t_stat:.2f} and the p-value is {p_val:.2f}\")"
   ]
  },
  {
   "cell_type": "code",
   "execution_count": 15,
   "metadata": {},
   "outputs": [],
   "source": [
    "from scipy.stats import mannwhitneyu\n",
    "\n",
    "def u_test(data,scores_per_item,dataset,split):\n",
    "# find which items are correct\n",
    "    item_correct = []\n",
    "    for item in data[dataset][split]:\n",
    "        item_correct.append(item['generated_cot'][0]['answers'][0]['correct_answer'])\n",
    "\n",
    "    # Example lists of scores and indicators\n",
    "    scores = scores_per_item\n",
    "    indicators = item_correct\n",
    "\n",
    "    # Separate scores based on indicators\n",
    "    scores_true = [score for score, indicator in zip(scores, indicators) if indicator]\n",
    "    scores_false = [score for score, indicator in zip(scores, indicators) if not indicator]\n",
    "\n",
    "    keys = set().union(*scores_true)\n",
    "        # Create lists of values for each key\n",
    "    scores_per_objective_true = {key: [d.get(key) for d in scores_true] for key in keys if key != \"critique\"} \n",
    "\n",
    "    keys = set().union(*scores_false)\n",
    "        # Create lists of values for each key\n",
    "    scores_per_objective_false = {key: [d.get(key) for d in scores_false] for key in keys if key != \"critique\"} \n",
    "\n",
    "    dict_1 = scores_per_objective_true\n",
    "    dict_2 = scores_per_objective_false\n",
    "\n",
    "    # make sure both dictionaries have the same keys\n",
    "    assert dict_1.keys() == dict_2.keys()\n",
    "\n",
    "    for key in dict_1.keys():\n",
    "        u_stat, p_val = mannwhitneyu(dict_1[key], dict_2[key])\n",
    "        print(f\"For {key}, U-statistic is {u_stat:.2f} and the p-value is {p_val:.2f}\")\n",
    "    return scores_per_objective_true,scores_per_objective_false"
   ]
  },
  {
   "attachments": {},
   "cell_type": "markdown",
   "metadata": {},
   "source": [
    "## Run CoT"
   ]
  },
  {
   "cell_type": "code",
   "execution_count": 41,
   "metadata": {},
   "outputs": [
    {
     "data": {
      "text/plain": [
       "| Name   | Train   | Valid   |   Test |\n",
       "|--------|---------|---------|--------|\n",
       "| med_qa | -       | -       |    400 |\n",
       "\n",
       "Not loaded: ['aqua', 'asdiv', 'commonsense_qa', 'entailment_bank', 'gsm8k', 'mawps', 'med_qa_open', 'medmc_qa', '_init_', 'mmlu_clinical_knowledge', 'mmlu_college_biology', 'mmlu_college_medicine', 'mmlu_medical_genetics', 'mmlu_professional_medicine', '_init_', 'mmlu_anatomy', 'open_book_qa', 'pubmed_qa', 'qed', 'strategy_qa', 'svamp', 'worldtree']"
      ]
     },
     "execution_count": 41,
     "metadata": {},
     "output_type": "execute_result"
    }
   ],
   "source": [
    "from cot import Collection\n",
    "med_qa = Collection.from_json(\"med_qa_400.json\")\n",
    "\n",
    "med_qa"
   ]
  },
  {
   "cell_type": "code",
   "execution_count": null,
   "metadata": {},
   "outputs": [],
   "source": [
    "config={\n",
    "    \"instruction_keys\": None,\n",
    "    \"cot_trigger_keys\": [\"zhou-01\"],\n",
    "    \"answer_extraction_keys\": 'auto-kojima', \n",
    "    \"author\" : \"thoughtsource\",\n",
    "    \"api_service\": \"openai_chat\",\n",
    "    \"api_time_interval\": 1,\n",
    "    \"engine\": \"gpt-3.5-turbo\", \n",
    "    \"temperature\": 0,\n",
    "    \"max_tokens\": 512,\n",
    "    \"verbose\": False,\n",
    "    \"warn\": False,\n",
    "}\n",
    "med_qa.generate(config=config)\n",
    "med_qa.dump(\"med_qa_400_turbo\")\n",
    "med_qa.evaluate()\n",
    "med_qa.dump(\"med_qa_400_turbo_eval\")\n",
    "med_qa.evaluate()"
   ]
  },
  {
   "cell_type": "code",
   "execution_count": null,
   "metadata": {},
   "outputs": [],
   "source": [
    "# generate cohere\n",
    "config={\n",
    "    \"instruction_keys\": None,\n",
    "    \"cot_trigger_keys\": [\"zhou-01\"],\n",
    "    \"answer_extraction_keys\": 'auto-kojima', \n",
    "    \"author\" : \"thoughtsource\",\n",
    "    \"api_service\": \"cohere\",\n",
    "    \"api_time_interval\": 1,\n",
    "    \"engine\": \"command-xlarge-nightly\", \n",
    "    \"temperature\": 0,\n",
    "    \"max_tokens\": 512,\n",
    "    \"verbose\": False,\n",
    "    \"warn\": False,\n",
    "}\n",
    "med_qa.generate(config=config)\n",
    "\n",
    "# med_qa.dump(\"med_qa_zhou_cohere.json\")\n",
    "# med_qa.evaluate()\n",
    "# med_qa.dump(\"med_qa_zhou_cohere.json\")"
   ]
  },
  {
   "cell_type": "code",
   "execution_count": 31,
   "metadata": {},
   "outputs": [
    {
     "name": "stdout",
     "output_type": "stream",
     "text": [
      "Generating med_qa...\n"
     ]
    }
   ],
   "source": [
    "# generate gpt-3.5-turbo\n",
    "config={\n",
    "    \"instruction_keys\": None,\n",
    "    \"cot_trigger_keys\": [\"zhou-01\"],\n",
    "    \"answer_extraction_keys\": 'auto-kojima', \n",
    "    \"author\" : \"thoughtsource\",\n",
    "    \"api_service\": \"openai_chat\",\n",
    "    \"api_time_interval\": 1,\n",
    "    \"engine\": \"gpt-3.5-turbo\", \n",
    "    \"temperature\": 0,\n",
    "    \"max_tokens\": 512,\n",
    "    \"verbose\": False,\n",
    "    \"warn\": False,\n",
    "}\n",
    "med_qa.generate(config=config)\n",
    "# med_qa.dump(\"med_qa_zhou.json\")\n",
    "# med_qa.evaluate()\n",
    "# med_qa.dump(\"med_qa_zhou_eval.json\")"
   ]
  },
  {
   "cell_type": "code",
   "execution_count": 42,
   "metadata": {},
   "outputs": [
    {
     "name": "stdout",
     "output_type": "stream",
     "text": [
      "Generating med_qa...\n"
     ]
    },
    {
     "data": {
      "application/vnd.jupyter.widget-view+json": {
       "model_id": "74b395ce1ccc42469579491b11266cfb",
       "version_major": 2,
       "version_minor": 0
      },
      "text/plain": [
       "  0%|          | 0/400 [00:00<?, ?ex/s]"
      ]
     },
     "metadata": {},
     "output_type": "display_data"
    },
    {
     "name": "stderr",
     "output_type": "stream",
     "text": [
      "Retrying langchain.chat_models.openai.ChatOpenAI.completion_with_retry.<locals>._completion_with_retry in 1.0 seconds as it raised APIError: Request failed due to server shutdown {\n",
      "  \"error\": {\n",
      "    \"message\": \"Request failed due to server shutdown\",\n",
      "    \"type\": \"server_error\",\n",
      "    \"param\": null,\n",
      "    \"code\": null\n",
      "  }\n",
      "}\n",
      " 500 {'error': {'message': 'Request failed due to server shutdown', 'type': 'server_error', 'param': None, 'code': None}} {'Date': 'Fri, 02 Jun 2023 21:49:42 GMT', 'Content-Type': 'application/json', 'Content-Length': '141', 'Connection': 'keep-alive', 'access-control-allow-origin': '*', 'openai-model': 'gpt-4-0314', 'openai-organization': 'medical-university-of-vienna', 'openai-processing-ms': '32142', 'openai-version': '2020-10-01', 'strict-transport-security': 'max-age=15724800; includeSubDomains', 'x-ratelimit-limit-requests': '200', 'x-ratelimit-limit-tokens': '40000', 'x-ratelimit-remaining-requests': '199', 'x-ratelimit-remaining-tokens': '39192', 'x-ratelimit-reset-requests': '300ms', 'x-ratelimit-reset-tokens': '1.212s', 'x-request-id': '6ec654aeae99d4f7106abc0f665ecff3', 'CF-Cache-Status': 'DYNAMIC', 'Server': 'cloudflare', 'CF-RAY': '7d12e798eb5bb912-AMS', 'alt-svc': 'h3=\":443\"; ma=86400'}.\n",
      "Retrying langchain.chat_models.openai.ChatOpenAI.completion_with_retry.<locals>._completion_with_retry in 1.0 seconds as it raised APIError: Bad gateway. {\"error\":{\"code\":502,\"message\":\"Bad gateway.\",\"param\":null,\"type\":\"cf_bad_gateway\"}} 502 {'error': {'code': 502, 'message': 'Bad gateway.', 'param': None, 'type': 'cf_bad_gateway'}} {'Date': 'Fri, 02 Jun 2023 22:06:36 GMT', 'Content-Type': 'application/json', 'Content-Length': '84', 'Connection': 'keep-alive', 'X-Frame-Options': 'SAMEORIGIN', 'Referrer-Policy': 'same-origin', 'Cache-Control': 'private, max-age=0, no-store, no-cache, must-revalidate, post-check=0, pre-check=0', 'Expires': 'Thu, 01 Jan 1970 00:00:01 GMT', 'Server': 'cloudflare', 'CF-RAY': '7d12f98cf9f4b912-AMS', 'alt-svc': 'h3=\":443\"; ma=86400'}.\n",
      "Retrying langchain.chat_models.openai.ChatOpenAI.completion_with_retry.<locals>._completion_with_retry in 1.0 seconds as it raised APIError: Bad gateway. {\"error\":{\"code\":502,\"message\":\"Bad gateway.\",\"param\":null,\"type\":\"cf_bad_gateway\"}} 502 {'error': {'code': 502, 'message': 'Bad gateway.', 'param': None, 'type': 'cf_bad_gateway'}} {'Date': 'Fri, 02 Jun 2023 22:14:43 GMT', 'Content-Type': 'application/json', 'Content-Length': '84', 'Connection': 'keep-alive', 'X-Frame-Options': 'SAMEORIGIN', 'Referrer-Policy': 'same-origin', 'Cache-Control': 'private, max-age=0, no-store, no-cache, must-revalidate, post-check=0, pre-check=0', 'Expires': 'Thu, 01 Jan 1970 00:00:01 GMT', 'Server': 'cloudflare', 'CF-RAY': '7d13056e9b02b912-AMS', 'alt-svc': 'h3=\":443\"; ma=86400'}.\n",
      "Retrying langchain.chat_models.openai.ChatOpenAI.completion_with_retry.<locals>._completion_with_retry in 1.0 seconds as it raised APIError: Bad gateway. {\"error\":{\"code\":502,\"message\":\"Bad gateway.\",\"param\":null,\"type\":\"cf_bad_gateway\"}} 502 {'error': {'code': 502, 'message': 'Bad gateway.', 'param': None, 'type': 'cf_bad_gateway'}} {'Date': 'Fri, 02 Jun 2023 22:23:50 GMT', 'Content-Type': 'application/json', 'Content-Length': '84', 'Connection': 'keep-alive', 'X-Frame-Options': 'SAMEORIGIN', 'Referrer-Policy': 'same-origin', 'Cache-Control': 'private, max-age=0, no-store, no-cache, must-revalidate, post-check=0, pre-check=0', 'Expires': 'Thu, 01 Jan 1970 00:00:01 GMT', 'Server': 'cloudflare', 'CF-RAY': '7d1312c3afb5b912-AMS', 'alt-svc': 'h3=\":443\"; ma=86400'}.\n",
      "Retrying langchain.chat_models.openai.ChatOpenAI.completion_with_retry.<locals>._completion_with_retry in 1.0 seconds as it raised Timeout: Request timed out: HTTPSConnectionPool(host='api.openai.com', port=443): Read timed out. (read timeout=600).\n"
     ]
    },
    {
     "data": {
      "application/vnd.jupyter.widget-view+json": {
       "model_id": "df3d7cf83f144bcc87ac214589cfb2c6",
       "version_major": 2,
       "version_minor": 0
      },
      "text/plain": [
       "Creating json from Arrow format:   0%|          | 0/1 [00:00<?, ?ba/s]"
      ]
     },
     "metadata": {},
     "output_type": "display_data"
    },
    {
     "data": {
      "application/vnd.jupyter.widget-view+json": {
       "model_id": "e529e8710b644e8e901ecabc2156e348",
       "version_major": 2,
       "version_minor": 0
      },
      "text/plain": [
       "  0%|          | 0/400 [00:00<?, ?ex/s]"
      ]
     },
     "metadata": {},
     "output_type": "display_data"
    },
    {
     "data": {
      "application/vnd.jupyter.widget-view+json": {
       "model_id": "e170ee4f35d4448dbb9825cc7c68b56f",
       "version_major": 2,
       "version_minor": 0
      },
      "text/plain": [
       "Creating json from Arrow format:   0%|          | 0/1 [00:00<?, ?ba/s]"
      ]
     },
     "metadata": {},
     "output_type": "display_data"
    },
    {
     "data": {
      "application/vnd.jupyter.widget-view+json": {
       "model_id": "9d6c85da1f10458480cda4012b3983cd",
       "version_major": 2,
       "version_minor": 0
      },
      "text/plain": [
       "  0%|          | 0/400 [00:00<?, ?ex/s]"
      ]
     },
     "metadata": {},
     "output_type": "display_data"
    },
    {
     "data": {
      "text/plain": [
       "{'med_qa': {'test': {'accuracy': {'gpt-4': {'None_zhou-01_kojima-A-E': 0.785}}}}}"
      ]
     },
     "execution_count": 42,
     "metadata": {},
     "output_type": "execute_result"
    }
   ],
   "source": [
    "from cot import Collection\n",
    "# med_qa = Collection.from_json(\"med_qa_400.json\")\n",
    "\n",
    "# generate gpt-4\n",
    "config={\n",
    "    \"instruction_keys\": None,\n",
    "    \"cot_trigger_keys\": [\"zhou-01\"],\n",
    "    \"answer_extraction_keys\": 'auto-kojima', \n",
    "    \"author\" : \"thoughtsource\",\n",
    "    \"api_service\": \"openai_chat\",\n",
    "    \"api_time_interval\": 1,\n",
    "    \"engine\": \"gpt-4\", \n",
    "    \"temperature\": 0,\n",
    "    \"max_tokens\": 512,\n",
    "    \"verbose\": False,\n",
    "    \"warn\": False,\n",
    "}\n",
    "med_qa.generate(config=config)\n",
    "\n",
    "med_qa.dump(\"med_qa_400_gpt4.json\")\n",
    "med_qa.evaluate()\n",
    "med_qa.dump(\"med_qa_400_eval_gpt4.json\")\n",
    "\n",
    "med_qa.evaluate()"
   ]
  },
  {
   "attachments": {},
   "cell_type": "markdown",
   "metadata": {},
   "source": [
    "## Template"
   ]
  },
  {
   "cell_type": "code",
   "execution_count": 43,
   "metadata": {},
   "outputs": [],
   "source": [
    "path = \"./final_system_messages/first_template.yaml\""
   ]
  },
  {
   "attachments": {},
   "cell_type": "markdown",
   "metadata": {},
   "source": [
    "## Run reflection"
   ]
  },
  {
   "cell_type": "code",
   "execution_count": null,
   "metadata": {},
   "outputs": [],
   "source": [
    "# 3.5 on 3.5\n",
    "data = med_qa\n",
    "model = 'gpt-3.5-turbo'\n",
    "system_evaluate(data,model,path)\n",
    "\n",
    "dataset_name = \"med_qa\"\n",
    "template = \"first\"\n",
    "base_model = \"gpt-3.5-turbo\"\n",
    "critique_model = \"gpt-3.5-turbo\"\n",
    "\n",
    "dump_path = f\"{dataset_name}_{template}_{base_model}_{critique_model}\"\n",
    "data.dump(dump_path+\".json\")"
   ]
  },
  {
   "cell_type": "code",
   "execution_count": null,
   "metadata": {},
   "outputs": [],
   "source": [
    "#Other reflection were run in big_reflection_experiments.ipynb"
   ]
  },
  {
   "attachments": {},
   "cell_type": "markdown",
   "metadata": {},
   "source": [
    "## Evaluate reflection"
   ]
  },
  {
   "cell_type": "code",
   "execution_count": 31,
   "metadata": {},
   "outputs": [
    {
     "name": "stdout",
     "output_type": "stream",
     "text": [
      "non_int data found... continue\n",
      "\n",
      "\n",
      "Average over objectives for all items\n",
      "          Average\n",
      "obj_1   90.388471\n",
      "obj_2   96.328321\n",
      "obj_3   92.431078\n",
      "obj_4   89.498747\n",
      "obj_5   83.972431\n",
      "obj_6   86.102757\n",
      "obj_7   85.463659\n",
      "obj_8   92.481203\n",
      "obj_9   76.566416\n",
      "obj_10  87.719298\n",
      "obj_11  96.027569\n",
      "\n",
      "\n",
      "Average over objectives separated by items with correct / incorrect answers\n",
      "scores true: 87.81802592312147\n",
      "scores false: 87.57424928013164\n"
     ]
    },
    {
     "data": {
      "image/png": "[encoded data removed]",
      "text/plain": [
       "<Figure size 640x480 with 1 Axes>"
      ]
     },
     "metadata": {},
     "output_type": "display_data"
    },
    {
     "name": "stdout",
     "output_type": "stream",
     "text": [
      "Mann-Whitney-U test\n",
      "For obj_2, U-statistic is 13444.50 and the p-value is 0.90\n",
      "For obj_8, U-statistic is 13692.00 and the p-value is 0.69\n",
      "For obj_5, U-statistic is 13697.00 and the p-value is 0.70\n",
      "For obj_3, U-statistic is 13604.50 and the p-value is 0.77\n",
      "For obj_4, U-statistic is 14296.50 and the p-value is 0.29\n",
      "For average, U-statistic is 13842.00 and the p-value is 0.60\n",
      "For obj_7, U-statistic is 14019.00 and the p-value is 0.46\n",
      "For obj_10, U-statistic is 13905.50 and the p-value is 0.53\n",
      "For obj_9, U-statistic is 13974.50 and the p-value is 0.48\n",
      "For obj_11, U-statistic is 14026.00 and the p-value is 0.37\n",
      "For obj_1, U-statistic is 12891.50 and the p-value is 0.61\n",
      "For lowest, U-statistic is 13375.00 and the p-value is 0.97\n",
      "For obj_6, U-statistic is 13857.00 and the p-value is 0.57\n",
      "\n",
      "\n",
      "Frequency where objective is lowest scored for items with false answer\n",
      "{'obj_9': 80, 'obj_5': 30, 'obj_7': 20, 'obj_6': 14, 'obj_3': 11, 'obj_10': 11, 'obj_4': 10, 'obj_1': 10, 'obj_2': 9, 'obj_8': 9, 'obj_11': 9}\n",
      "\n",
      "\n",
      "Frequency where objective is lowest scored for items with correct answer\n",
      "{'obj_9': 272, 'obj_5': 120, 'obj_7': 98, 'obj_6': 54, 'obj_1': 48, 'obj_3': 47, 'obj_4': 45, 'obj_11': 44, 'obj_10': 41, 'obj_2': 38, 'obj_8': 38}\n",
      "\n",
      "\n",
      "range of scores\n",
      "{'obj_2': (40, 100), 'obj_8': (20, 100), 'obj_5': (40, 100), 'obj_3': (0, 100), 'obj_4': (20, 100), 'average': (22.727272727272727, 100.0), 'obj_7': (30, 100), 'obj_10': (50, 100), 'obj_9': (0, 100), 'obj_11': (0, 100), 'obj_1': (30, 100), 'lowest': (0, 100), 'obj_6': (20, 100)}\n",
      "\n",
      "\n",
      "Standard dev. of scores\n",
      "{'obj_2': 6.148495337227046, 'obj_8': 8.15114891901078, 'obj_5': 11.848997237416278, 'obj_3': 9.336244636417469, 'obj_4': 10.278746840771332, 'average': 8.634362778968756, 'obj_7': 12.348501328884316, 'obj_10': 9.225614522913844, 'obj_9': 13.421649612807991, 'obj_11': 8.872165375311182, 'obj_1': 10.256115587946198, 'lowest': 13.511990861978616, 'obj_6': 10.365771244146554}\n"
     ]
    }
   ],
   "source": [
    "#GPT-4 supervised by GPT-3.5\n",
    "\n",
    "data_400 = Collection.from_json(\"./med_qa_400_first_gpt-4_gpt-3.5-turbo.json\")\n",
    "#data_100 = Collection.from_json(\"./med_qa_first_gpt-4_gpt-3.5-turbo.json\")\n",
    "#data_500 = data_400.merge(data_100)\n",
    "data = data_400 #data_500 #is still running\n",
    "\n",
    "scores_per_item, variables_per_item, [scores_true,scores_false] = parse_data(data,idx_cot=1,dataset='med_qa',split='test')\n",
    "scores_per_item = fix_str_score(scores_per_item)\n",
    "scores_per_objective, df = get_further_data(scores_per_item)\n",
    "average_per_item = [sum(d.values()) / len(d) for d in scores_per_item]\n",
    "print(\"\\n\")\n",
    "print(\"Average over objectives for all items\")\n",
    "print(df)\n",
    "print(\"\\n\")\n",
    "\n",
    "print(\"Average over objectives separated by items with correct / incorrect answers\")\n",
    "avg_true_false(data,average_per_item,'med_qa','test')\n",
    "freq_bar_plot(scores_per_item)\n",
    "# avg_item_plot(scores_per_objective)\n",
    "\n",
    "print(\"Mann-Whitney-U test\")\n",
    "scores_per_objective_true,scores_per_objective_false = u_test(data,scores_per_item,'med_qa','test')\n",
    "print(\"\\n\")\n",
    "print(\"Frequency where objective is lowest scored for items with false answer\")\n",
    "print(dict(sorted(count_keys(scores_false).items(), key=lambda x: -x[1])))\n",
    "print(\"\\n\")\n",
    "print(\"Frequency where objective is lowest scored for items with correct answer\")\n",
    "print(dict(sorted(count_keys(scores_true).items(), key=lambda x: -x[1])))\n",
    "print(\"\\n\")\n",
    "\n",
    "range_data = {key: (min(value),max(value)) for key, value in scores_per_objective.items()}\n",
    "print(\"range of scores\")\n",
    "print(range_data)\n",
    "print(\"\\n\")\n",
    "print(\"Standard dev. of scores\")\n",
    "print(standard_deviation(scores_per_objective))"
   ]
  },
  {
   "cell_type": "code",
   "execution_count": 27,
   "metadata": {},
   "outputs": [
    {
     "data": {
      "application/vnd.jupyter.widget-view+json": {
       "model_id": "73be954de4244cb39243a716bab80aa5",
       "version_major": 2,
       "version_minor": 0
      },
      "text/plain": [
       "Creating json from Arrow format:   0%|          | 0/1 [00:00<?, ?ba/s]"
      ]
     },
     "metadata": {},
     "output_type": "display_data"
    },
    {
     "data": {
      "application/vnd.jupyter.widget-view+json": {
       "model_id": "6c30db43d57447cfb2ce9a036e6b9685",
       "version_major": 2,
       "version_minor": 0
      },
      "text/plain": [
       "Creating json from Arrow format:   0%|          | 0/1 [00:00<?, ?ba/s]"
      ]
     },
     "metadata": {},
     "output_type": "display_data"
    },
    {
     "name": "stdout",
     "output_type": "stream",
     "text": [
      "non_int data found... continue\n",
      "\n",
      "\n",
      "Average over objectives for all items\n",
      "          Average\n",
      "obj_1   95.861723\n",
      "obj_2   91.382766\n",
      "obj_3   97.224449\n",
      "obj_4   90.420842\n",
      "obj_5   92.314629\n",
      "obj_6   90.961924\n",
      "obj_7   83.967936\n",
      "obj_8   89.088176\n",
      "obj_9   86.132265\n",
      "obj_10  92.104208\n",
      "obj_11  89.498998\n",
      "\n",
      "\n",
      "Average over objectives separated by items with correct / incorrect answers\n",
      "scores true: 93.79025736168593\n",
      "scores false: 83.5609756097561\n"
     ]
    },
    {
     "data": {
      "image/png": "[encoded data removed]",
      "text/plain": [
       "<Figure size 640x480 with 1 Axes>"
      ]
     },
     "metadata": {},
     "output_type": "display_data"
    },
    {
     "name": "stdout",
     "output_type": "stream",
     "text": [
      "Mann-Whitney-U test\n",
      "For obj_2, U-statistic is 44421.50 and the p-value is 0.00\n",
      "For obj_8, U-statistic is 48145.00 and the p-value is 0.00\n",
      "For obj_5, U-statistic is 39804.00 and the p-value is 0.00\n",
      "For obj_3, U-statistic is 32299.00 and the p-value is 0.03\n",
      "For obj_4, U-statistic is 44255.50 and the p-value is 0.00\n",
      "For average, U-statistic is 46403.00 and the p-value is 0.00\n",
      "For obj_7, U-statistic is 41448.50 and the p-value is 0.00\n",
      "For obj_10, U-statistic is 43424.50 and the p-value is 0.00\n",
      "For obj_9, U-statistic is 34992.50 and the p-value is 0.00\n",
      "For obj_11, U-statistic is 40116.00 and the p-value is 0.00\n",
      "For obj_1, U-statistic is 38099.50 and the p-value is 0.00\n",
      "For lowest, U-statistic is 47547.00 and the p-value is 0.00\n",
      "For obj_6, U-statistic is 41815.50 and the p-value is 0.00\n",
      "\n",
      "\n",
      "Frequency where objective is lowest scored for items with false answer\n",
      "{'obj_7': 98, 'obj_9': 73, 'obj_11': 69, 'obj_8': 36, 'obj_4': 20, 'obj_5': 20, 'obj_2': 19, 'obj_10': 15, 'obj_6': 15, 'obj_3': 13, 'obj_1': 9}\n",
      "\n",
      "\n",
      "Frequency where objective is lowest scored for items with correct answer\n",
      "{'obj_7': 230, 'obj_9': 216, 'obj_5': 71, 'obj_2': 63, 'obj_4': 58, 'obj_8': 58, 'obj_11': 57, 'obj_6': 55, 'obj_3': 54, 'obj_10': 51, 'obj_1': 48}\n",
      "\n",
      "\n",
      "range of scores\n",
      "{'obj_2': (0, 100), 'obj_8': (0, 100), 'obj_5': (0, 100), 'obj_3': (0, 100), 'obj_4': (0, 100), 'average': (4.545454545454546, 100.0), 'obj_7': (0, 100), 'obj_10': (0, 100), 'obj_9': (0, 100), 'obj_11': (0, 100), 'obj_1': (50, 100), 'lowest': (0, 100), 'obj_6': (0, 100)}\n",
      "\n",
      "\n",
      "Standard dev. of scores\n",
      "{'obj_2': 12.189590972606567, 'obj_8': 15.922762888171556, 'obj_5': 11.736874511813202, 'obj_3': 8.773232121305732, 'obj_4': 13.625927863214256, 'average': 11.006327114590107, 'obj_7': 14.03835015406326, 'obj_10': 12.094057517375338, 'obj_9': 15.392147801327658, 'obj_11': 25.58452208031851, 'obj_1': 7.588759775840389, 'lowest': 23.39706727692397, 'obj_6': 12.409372393437476}\n"
     ]
    }
   ],
   "source": [
    "#GPT-3.5 supervised by GPT-4\n",
    "\n",
    "data_400 = Collection.from_json(\"./med_qa_400_first_gpt-3.5-turbo_gpt-4.json\")\n",
    "data_100 = Collection.from_json(\"./med_qa_first_gpt-3.5-turbo_gpt-4.json\")\n",
    "data_500 = data_400.merge(data_100)\n",
    "data = data_500\n",
    "\n",
    "scores_per_item, variables_per_item, [scores_true,scores_false] = parse_data(data,idx_cot=1,dataset='med_qa',split='test')\n",
    "scores_per_item = fix_str_score(scores_per_item)\n",
    "scores_per_objective, df = get_further_data(scores_per_item)\n",
    "average_per_item = [sum(d.values()) / len(d) for d in scores_per_item]\n",
    "print(\"\\n\")\n",
    "print(\"Average over objectives for all items\")\n",
    "print(df)\n",
    "print(\"\\n\")\n",
    "\n",
    "print(\"Average over objectives separated by items with correct / incorrect answers\")\n",
    "avg_true_false(data,average_per_item,'med_qa','test')\n",
    "freq_bar_plot(scores_per_item)\n",
    "# avg_item_plot(scores_per_objective)\n",
    "\n",
    "print(\"Mann-Whitney-U test\")\n",
    "scores_per_objective_true,scores_per_objective_false = u_test(data,scores_per_item,'med_qa','test')\n",
    "print(\"\\n\")\n",
    "print(\"Frequency where objective is lowest scored for items with false answer\")\n",
    "print(dict(sorted(count_keys(scores_false).items(), key=lambda x: -x[1])))\n",
    "print(\"\\n\")\n",
    "print(\"Frequency where objective is lowest scored for items with correct answer\")\n",
    "print(dict(sorted(count_keys(scores_true).items(), key=lambda x: -x[1])))\n",
    "print(\"\\n\")\n",
    "\n",
    "range_data = {key: (min(value),max(value)) for key, value in scores_per_objective.items()}\n",
    "print(\"range of scores\")\n",
    "print(range_data)\n",
    "print(\"\\n\")\n",
    "print(\"Standard dev. of scores\")\n",
    "print(standard_deviation(scores_per_objective))"
   ]
  },
  {
   "cell_type": "code",
   "execution_count": 24,
   "metadata": {},
   "outputs": [
    {
     "data": {
      "application/vnd.jupyter.widget-view+json": {
       "model_id": "4b88d129e5f941408488f1ec77dda44c",
       "version_major": 2,
       "version_minor": 0
      },
      "text/plain": [
       "Creating json from Arrow format:   0%|          | 0/1 [00:00<?, ?ba/s]"
      ]
     },
     "metadata": {},
     "output_type": "display_data"
    },
    {
     "data": {
      "application/vnd.jupyter.widget-view+json": {
       "model_id": "f1edce9e142648948c72b9e5d10e3314",
       "version_major": 2,
       "version_minor": 0
      },
      "text/plain": [
       "Creating json from Arrow format:   0%|          | 0/1 [00:00<?, ?ba/s]"
      ]
     },
     "metadata": {},
     "output_type": "display_data"
    },
    {
     "name": "stdout",
     "output_type": "stream",
     "text": [
      "wrong output found\n",
      "non_int data found... continue\n",
      "Average over objectives for all items\n",
      "          Average\n",
      "obj_1   88.878866\n",
      "obj_2   95.399485\n",
      "obj_3   90.244845\n",
      "obj_4   87.641753\n",
      "obj_5   82.074742\n",
      "obj_6   85.141753\n",
      "obj_7   84.033505\n",
      "obj_8   91.481959\n",
      "obj_9   77.010309\n",
      "obj_10  86.881443\n",
      "obj_11  94.948454\n",
      "\n",
      "\n",
      "Average over objectives separated by items with correct / incorrect answers\n",
      "scores true: 87.38292011019284\n",
      "scores false: 85.61378112333527\n"
     ]
    },
    {
     "data": {
      "image/png": "[encoded data removed]",
      "text/plain": [
       "<Figure size 640x480 with 1 Axes>"
      ]
     },
     "metadata": {},
     "output_type": "display_data"
    },
    {
     "name": "stdout",
     "output_type": "stream",
     "text": [
      "Mann-Whitney-U test\n",
      "For obj_2, U-statistic is 19469.00 and the p-value is 0.15\n",
      "For obj_8, U-statistic is 20166.50 and the p-value is 0.04\n",
      "For obj_5, U-statistic is 19566.50 and the p-value is 0.17\n",
      "For obj_3, U-statistic is 20019.00 and the p-value is 0.07\n",
      "For obj_4, U-statistic is 20207.00 and the p-value is 0.04\n",
      "For average, U-statistic is 19986.50 and the p-value is 0.09\n",
      "For obj_7, U-statistic is 18679.00 and the p-value is 0.60\n",
      "For obj_10, U-statistic is 19441.50 and the p-value is 0.20\n",
      "For obj_9, U-statistic is 18831.50 and the p-value is 0.50\n",
      "For obj_11, U-statistic is 19450.50 and the p-value is 0.16\n",
      "For obj_1, U-statistic is 20060.50 and the p-value is 0.06\n",
      "For lowest, U-statistic is 20107.50 and the p-value is 0.06\n",
      "For obj_6, U-statistic is 18943.00 and the p-value is 0.43\n",
      "\n",
      "\n",
      "Frequency where objective is lowest scored for items with false answer\n",
      "{'obj_9': 140, 'obj_5': 77, 'obj_7': 47, 'obj_6': 29, 'obj_3': 26, 'obj_4': 25, 'obj_1': 22, 'obj_11': 20, 'obj_8': 18, 'obj_10': 18, 'obj_2': 16}\n",
      "\n",
      "\n",
      "Frequency where objective is lowest scored for items with correct answer\n",
      "{'obj_9': 209, 'obj_5': 113, 'obj_7': 90, 'obj_6': 64, 'obj_1': 44, 'obj_4': 43, 'obj_3': 43, 'obj_10': 42, 'obj_11': 41, 'obj_2': 38, 'obj_8': 38}\n",
      "\n",
      "\n",
      "range of scores\n",
      "{'obj_2': (50, 100), 'obj_8': (0, 100), 'obj_5': (50, 100), 'obj_3': (50, 100), 'obj_4': (0, 100), 'average': (31.818181818181817, 100.0), 'obj_7': (50, 100), 'obj_10': (50, 100), 'obj_9': (0, 100), 'obj_11': (0, 100), 'obj_1': (50, 100), 'lowest': (0, 100), 'obj_6': (50, 100)}\n",
      "\n",
      "\n",
      "Standard dev. of scores\n",
      "{'obj_2': 6.01743373686309, 'obj_8': 8.659936819287815, 'obj_5': 12.237405324687476, 'obj_3': 9.711835089358658, 'obj_4': 10.524636239793159, 'average': 8.752914802170242, 'obj_7': 12.385137841854249, 'obj_10': 9.28678124658062, 'obj_9': 13.160896465276684, 'obj_11': 9.078891819614393, 'obj_1': 9.689935467105503, 'lowest': 13.234588753978484, 'obj_6': 10.00222244144176}\n"
     ]
    }
   ],
   "source": [
    "#GPT-3.5 supervised by GPT-3.5\n",
    "\n",
    "data_400 = Collection.from_json(\"./med_qa_400_first_gpt-3.5-turbo_gpt-3.5-turbo.json\")\n",
    "data_100 = Collection.from_json(\"./med_qa_first_gpt-3.5-turbo_gpt-3.5-turbo.json\")\n",
    "data_500 = data_400.merge(data_100)\n",
    "data = data_500\n",
    "\n",
    "scores_per_item, variables_per_item, [scores_true,scores_false] = parse_data(data,idx_cot=1,dataset='med_qa',split='test')\n",
    "scores_per_item = fix_str_score(scores_per_item)\n",
    "scores_per_objective, df = get_further_data(scores_per_item)\n",
    "average_per_item = [sum(d.values()) / len(d) for d in scores_per_item]\n",
    "print(\"\\n\")\n",
    "print(\"Average over objectives for all items\")\n",
    "print(df)\n",
    "print(\"\\n\")\n",
    "\n",
    "print(\"Average over objectives separated by items with correct / incorrect answers\")\n",
    "avg_true_false(data,average_per_item,'med_qa','test')\n",
    "freq_bar_plot(scores_per_item)\n",
    "# avg_item_plot(scores_per_objective)\n",
    "\n",
    "print(\"Mann-Whitney-U test\")\n",
    "scores_per_objective_true,scores_per_objective_false = u_test(data,scores_per_item,'med_qa','test')\n",
    "print(\"\\n\")\n",
    "print(\"Frequency where objective is lowest scored for items with false answer\")\n",
    "print(dict(sorted(count_keys(scores_false).items(), key=lambda x: -x[1])))\n",
    "print(\"\\n\")\n",
    "print(\"Frequency where objective is lowest scored for items with correct answer\")\n",
    "print(dict(sorted(count_keys(scores_true).items(), key=lambda x: -x[1])))\n",
    "print(\"\\n\")\n",
    "\n",
    "range_data = {key: (min(value),max(value)) for key, value in scores_per_objective.items()}\n",
    "print(\"range of scores\")\n",
    "print(range_data)\n",
    "print(\"\\n\")\n",
    "print(\"Standard dev. of scores\")\n",
    "print(standard_deviation(scores_per_objective))"
   ]
  },
  {
   "cell_type": "code",
   "execution_count": 19,
   "metadata": {},
   "outputs": [
    {
     "data": {
      "application/vnd.jupyter.widget-view+json": {
       "model_id": "323987d2963d43ffb43dfcc436255527",
       "version_major": 2,
       "version_minor": 0
      },
      "text/plain": [
       "Creating json from Arrow format:   0%|          | 0/1 [00:00<?, ?ba/s]"
      ]
     },
     "metadata": {},
     "output_type": "display_data"
    },
    {
     "data": {
      "application/vnd.jupyter.widget-view+json": {
       "model_id": "277e05f4a42447a7bef052fcfb26ffe1",
       "version_major": 2,
       "version_minor": 0
      },
      "text/plain": [
       "Creating json from Arrow format:   0%|          | 0/1 [00:00<?, ?ba/s]"
      ]
     },
     "metadata": {},
     "output_type": "display_data"
    },
    {
     "name": "stdout",
     "output_type": "stream",
     "text": [
      "Average over objectives for all items\n",
      "        Average\n",
      "obj_1     99.45\n",
      "obj_2     97.65\n",
      "obj_3     99.82\n",
      "obj_4     98.24\n",
      "obj_5     99.09\n",
      "obj_6     98.41\n",
      "obj_7     89.90\n",
      "obj_8     97.78\n",
      "obj_9     92.97\n",
      "obj_10    98.96\n",
      "obj_11    97.78\n",
      "\n",
      "\n",
      "Average over objectives separated by items with correct / incorrect answers\n",
      "scores true: 97.20173497388687\n",
      "scores false: 94.15584415584416\n"
     ]
    },
    {
     "data": {
      "image/png": "[encoded data removed]",
      "text/plain": [
       "<Figure size 640x480 with 1 Axes>"
      ]
     },
     "metadata": {},
     "output_type": "display_data"
    },
    {
     "name": "stdout",
     "output_type": "stream",
     "text": [
      "Mann-Whitney-U test\n",
      "For obj_2, U-statistic is 24847.50 and the p-value is 0.00\n",
      "For obj_8, U-statistic is 25495.50 and the p-value is 0.00\n",
      "For obj_5, U-statistic is 22624.50 and the p-value is 0.00\n",
      "For obj_3, U-statistic is 20883.00 and the p-value is 0.31\n",
      "For obj_4, U-statistic is 24507.50 and the p-value is 0.00\n",
      "For average, U-statistic is 26231.50 and the p-value is 0.00\n",
      "For obj_7, U-statistic is 25066.50 and the p-value is 0.00\n",
      "For obj_10, U-statistic is 23527.50 and the p-value is 0.00\n",
      "For obj_9, U-statistic is 20835.50 and the p-value is 0.93\n",
      "For obj_11, U-statistic is 22806.00 and the p-value is 0.00\n",
      "For obj_1, U-statistic is 22583.00 and the p-value is 0.00\n",
      "For lowest, U-statistic is 25841.50 and the p-value is 0.00\n",
      "For obj_6, U-statistic is 24844.00 and the p-value is 0.00\n",
      "\n",
      "\n",
      "Frequency where objective is lowest scored for items with false answer\n",
      "{'obj_7': 92, 'obj_9': 60, 'obj_11': 24, 'obj_2': 18, 'obj_8': 17, 'obj_6': 16, 'obj_5': 15, 'obj_4': 14, 'obj_3': 13, 'obj_10': 13, 'obj_1': 12}\n",
      "\n",
      "\n",
      "Frequency where objective is lowest scored for items with correct answer\n",
      "{'obj_7': 377, 'obj_9': 309, 'obj_2': 87, 'obj_11': 84, 'obj_5': 83, 'obj_8': 82, 'obj_10': 79, 'obj_1': 77, 'obj_3': 77, 'obj_6': 77, 'obj_4': 76}\n",
      "\n",
      "\n",
      "range of scores\n",
      "{'obj_2': (70, 100), 'obj_8': (50, 100), 'obj_5': (70, 100), 'obj_3': (40, 100), 'obj_4': (70, 100), 'average': (71.81818181818181, 100.0), 'obj_7': (50, 100), 'obj_10': (80, 100), 'obj_9': (60, 100), 'obj_11': (0, 100), 'obj_1': (80, 100), 'lowest': (0, 100), 'obj_6': (70, 100)}\n",
      "\n",
      "\n",
      "Standard dev. of scores\n",
      "{'obj_2': 5.74399573241029, 'obj_8': 6.727713151472592, 'obj_5': 3.612200989976044, 'obj_3': 2.997594225755812, 'obj_4': 5.4278285386782725, 'average': 3.8750968667453844, 'obj_7': 7.6881868104817235, 'obj_10': 3.583864977416535, 'obj_9': 6.140399744156404, 'obj_11': 12.131196637748836, 'obj_1': 2.3576719946737486, 'lowest': 12.808110531642937, 'obj_6': 4.854795369132702}\n"
     ]
    }
   ],
   "source": [
    "# GPT-4 supervised by GPT-4\n",
    "data_400 = Collection.from_json(\"./med_qa_400_first_gpt-4_gpt-4.json\")\n",
    "data_100 = Collection.from_json(\"./med_qa_first_gpt-4_gpt-4.json\")\n",
    "data_500 = data_400.merge(data_100)\n",
    "data = data_500\n",
    "print(\"\\n\")\n",
    "scores_per_item, variables_per_item, [scores_true,scores_false] = parse_data(data,idx_cot=1,dataset='med_qa',split='test')\n",
    "scores_per_item = fix_str_score(scores_per_item)\n",
    "scores_per_objective, df = get_further_data(scores_per_item)\n",
    "average_per_item = [sum(d.values()) / len(d) for d in scores_per_item]\n",
    "\n",
    "print(\"Average over objectives for all items\")\n",
    "print(df)\n",
    "print(\"\\n\")\n",
    "\n",
    "print(\"Average over objectives separated by items with correct / incorrect answers\")\n",
    "avg_true_false(data,average_per_item,'med_qa','test')\n",
    "freq_bar_plot(scores_per_item)\n",
    "# avg_item_plot(scores_per_objective)\n",
    "\n",
    "print(\"Mann-Whitney-U test\")\n",
    "scores_per_objective_true,scores_per_objective_false = u_test(data,scores_per_item,'med_qa','test')\n",
    "print(\"\\n\")\n",
    "print(\"Frequency where objective is lowest scored for items with false answer\")\n",
    "print(dict(sorted(count_keys(scores_false).items(), key=lambda x: -x[1])))\n",
    "print(\"\\n\")\n",
    "print(\"Frequency where objective is lowest scored for items with correct answer\")\n",
    "print(dict(sorted(count_keys(scores_true).items(), key=lambda x: -x[1])))\n",
    "print(\"\\n\")\n",
    "\n",
    "range_data = {key: (min(value),max(value)) for key, value in scores_per_objective.items()}\n",
    "print(\"range of scores\")\n",
    "print(range_data)\n",
    "print(\"\\n\")\n",
    "print(\"Standard dev. of scores\")\n",
    "print(standard_deviation(scores_per_objective))"
   ]
  }
 ],
 "metadata": {
  "kernelspec": {
   "display_name": "base",
   "language": "python",
   "name": "python3"
  },
  "language_info": {
   "codemirror_mode": {
    "name": "ipython",
    "version": 3
   },
   "file_extension": ".py",
   "mimetype": "text/x-python",
   "name": "python",
   "nbconvert_exporter": "python",
   "pygments_lexer": "ipython3",
   "version": "3.9.16"
  },
  "orig_nbformat": 4
 },
 "nbformat": 4,
 "nbformat_minor": 2
}
