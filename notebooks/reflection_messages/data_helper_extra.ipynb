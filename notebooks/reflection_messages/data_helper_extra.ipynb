{
 "cells": [
  {
   "attachments": {},
   "cell_type": "markdown",
   "metadata": {},
   "source": [
    "## Else"
   ]
  },
  {
   "cell_type": "code",
   "execution_count": 1,
   "metadata": {},
   "outputs": [
    {
     "name": "stderr",
     "output_type": "stream",
     "text": [
      "/opt/anaconda3/lib/python3.9/site-packages/scipy/__init__.py:146: UserWarning: A NumPy version >=1.16.5 and <1.23.0 is required for this version of SciPy (detected version 1.24.2\n",
      "  warnings.warn(f\"A NumPy version >={np_minversion} and <{np_maxversion}\"\n",
      "[nltk_data] Downloading package punkt to\n",
      "[nltk_data]     /Users/robertpraas/nltk_data...\n",
      "[nltk_data]   Package punkt is already up-to-date!\n"
     ]
    },
    {
     "data": {
      "application/vnd.jupyter.widget-view+json": {
       "model_id": "6da33f775bd54719936de687490478d9",
       "version_major": 2,
       "version_minor": 0
      },
      "text/plain": [
       "  0%|          | 0/100 [00:00<?, ?ex/s]"
      ]
     },
     "metadata": {},
     "output_type": "display_data"
    }
   ],
   "source": [
    "from cot import Collection\n",
    "med_qa = Collection.load_thoughtsource_100(names=['med_qa'],load_pregenerated_cots=False)"
   ]
  },
  {
   "cell_type": "code",
   "execution_count": 2,
   "metadata": {},
   "outputs": [
    {
     "name": "stdout",
     "output_type": "stream",
     "text": [
      "Generating med_qa...\n"
     ]
    },
    {
     "data": {
      "application/vnd.jupyter.widget-view+json": {
       "model_id": "d0dd04e8263b4e0981123e2405bb3934",
       "version_major": 2,
       "version_minor": 0
      },
      "text/plain": [
       "  0%|          | 0/100 [00:00<?, ?ex/s]"
      ]
     },
     "metadata": {},
     "output_type": "display_data"
    },
    {
     "name": "stdout",
     "output_type": "stream",
     "text": [
      "(API-)Error in item 2: HTTPSConnectionPool(host='api.cohere.ai', port=443): Max retries exceeded with url: /generate (Caused by ResponseError('too many 429 error responses'))\n",
      "Retrying with additional time of 10 seconds.\n",
      "(API-)Error in item 4: HTTPSConnectionPool(host='api.cohere.ai', port=443): Max retries exceeded with url: /generate (Caused by ResponseError('too many 429 error responses'))\n",
      "Retrying with additional time of 10 seconds.\n",
      "(API-)Error in item 4: HTTPSConnectionPool(host='api.cohere.ai', port=443): Max retries exceeded with url: /generate (Caused by ResponseError('too many 429 error responses'))\n",
      "Retrying with additional time of 20 seconds.\n",
      "(API-)Error in item 6: HTTPSConnectionPool(host='api.cohere.ai', port=443): Max retries exceeded with url: /generate (Caused by ResponseError('too many 429 error responses'))\n",
      "Retrying with additional time of 10 seconds.\n",
      "(API-)Error in item 8: HTTPSConnectionPool(host='api.cohere.ai', port=443): Max retries exceeded with url: /generate (Caused by ResponseError('too many 429 error responses'))\n",
      "Retrying with additional time of 10 seconds.\n",
      "(API-)Error in item 8: HTTPSConnectionPool(host='api.cohere.ai', port=443): Max retries exceeded with url: /generate (Caused by ResponseError('too many 429 error responses'))\n",
      "Retrying with additional time of 20 seconds.\n",
      "(API-)Error in item 10: HTTPSConnectionPool(host='api.cohere.ai', port=443): Max retries exceeded with url: /generate (Caused by ResponseError('too many 429 error responses'))\n",
      "Retrying with additional time of 10 seconds.\n",
      "(API-)Error in item 12: HTTPSConnectionPool(host='api.cohere.ai', port=443): Max retries exceeded with url: /generate (Caused by ResponseError('too many 429 error responses'))\n",
      "Retrying with additional time of 10 seconds.\n",
      "(API-)Error in item 14: HTTPSConnectionPool(host='api.cohere.ai', port=443): Max retries exceeded with url: /generate (Caused by ResponseError('too many 429 error responses'))\n",
      "Retrying with additional time of 10 seconds.\n",
      "(API-)Error in item 14: HTTPSConnectionPool(host='api.cohere.ai', port=443): Max retries exceeded with url: /generate (Caused by ResponseError('too many 429 error responses'))\n",
      "Retrying with additional time of 20 seconds.\n",
      "(API-)Error in item 16: HTTPSConnectionPool(host='api.cohere.ai', port=443): Max retries exceeded with url: /generate (Caused by ResponseError('too many 429 error responses'))\n",
      "Retrying with additional time of 10 seconds.\n",
      "(API-)Error in item 18: HTTPSConnectionPool(host='api.cohere.ai', port=443): Max retries exceeded with url: /generate (Caused by ResponseError('too many 429 error responses'))\n",
      "Retrying with additional time of 10 seconds.\n",
      "(API-)Error in item 18: HTTPSConnectionPool(host='api.cohere.ai', port=443): Max retries exceeded with url: /generate (Caused by ResponseError('too many 429 error responses'))\n",
      "Retrying with additional time of 20 seconds.\n",
      "(API-)Error in item 23: HTTPSConnectionPool(host='api.cohere.ai', port=443): Max retries exceeded with url: /generate (Caused by ResponseError('too many 429 error responses'))\n",
      "Retrying with additional time of 10 seconds.\n",
      "(API-)Error in item 23: HTTPSConnectionPool(host='api.cohere.ai', port=443): Max retries exceeded with url: /generate (Caused by ResponseError('too many 429 error responses'))\n",
      "Retrying with additional time of 20 seconds.\n",
      "(API-)Error in item 25: HTTPSConnectionPool(host='api.cohere.ai', port=443): Max retries exceeded with url: /generate (Caused by ResponseError('too many 429 error responses'))\n",
      "Retrying with additional time of 10 seconds.\n",
      "(API-)Error in item 27: HTTPSConnectionPool(host='api.cohere.ai', port=443): Max retries exceeded with url: /generate (Caused by ResponseError('too many 429 error responses'))\n",
      "Retrying with additional time of 10 seconds.\n",
      "(API-)Error in item 27: HTTPSConnectionPool(host='api.cohere.ai', port=443): Max retries exceeded with url: /generate (Caused by ResponseError('too many 429 error responses'))\n",
      "Retrying with additional time of 20 seconds.\n",
      "(API-)Error in item 29: HTTPSConnectionPool(host='api.cohere.ai', port=443): Max retries exceeded with url: /generate (Caused by ResponseError('too many 429 error responses'))\n",
      "Retrying with additional time of 10 seconds.\n",
      "(API-)Error in item 31: HTTPSConnectionPool(host='api.cohere.ai', port=443): Max retries exceeded with url: /generate (Caused by ResponseError('too many 429 error responses'))\n",
      "Retrying with additional time of 10 seconds.\n",
      "(API-)Error in item 31: HTTPSConnectionPool(host='api.cohere.ai', port=443): Max retries exceeded with url: /generate (Caused by ResponseError('too many 429 error responses'))\n",
      "Retrying with additional time of 20 seconds.\n",
      "(API-)Error in item 33: HTTPSConnectionPool(host='api.cohere.ai', port=443): Max retries exceeded with url: /generate (Caused by ResponseError('too many 429 error responses'))\n",
      "Retrying with additional time of 10 seconds.\n",
      "(API-)Error in item 35: HTTPSConnectionPool(host='api.cohere.ai', port=443): Max retries exceeded with url: /generate (Caused by ResponseError('too many 429 error responses'))\n",
      "Retrying with additional time of 10 seconds.\n",
      "(API-)Error in item 35: HTTPSConnectionPool(host='api.cohere.ai', port=443): Max retries exceeded with url: /generate (Caused by ResponseError('too many 429 error responses'))\n",
      "Retrying with additional time of 20 seconds.\n",
      "(API-)Error in item 37: HTTPSConnectionPool(host='api.cohere.ai', port=443): Max retries exceeded with url: /generate (Caused by ResponseError('too many 429 error responses'))\n",
      "Retrying with additional time of 10 seconds.\n",
      "(API-)Error in item 39: HTTPSConnectionPool(host='api.cohere.ai', port=443): Max retries exceeded with url: /generate (Caused by ResponseError('too many 429 error responses'))\n",
      "Retrying with additional time of 10 seconds.\n",
      "(API-)Error in item 39: HTTPSConnectionPool(host='api.cohere.ai', port=443): Max retries exceeded with url: /generate (Caused by ResponseError('too many 429 error responses'))\n",
      "Retrying with additional time of 20 seconds.\n",
      "(API-)Error in item 41: HTTPSConnectionPool(host='api.cohere.ai', port=443): Max retries exceeded with url: /generate (Caused by ResponseError('too many 429 error responses'))\n",
      "Retrying with additional time of 10 seconds.\n",
      "(API-)Error in item 43: HTTPSConnectionPool(host='api.cohere.ai', port=443): Max retries exceeded with url: /generate (Caused by ResponseError('too many 429 error responses'))\n",
      "Retrying with additional time of 10 seconds.\n",
      "(API-)Error in item 43: HTTPSConnectionPool(host='api.cohere.ai', port=443): Max retries exceeded with url: /generate (Caused by ResponseError('too many 429 error responses'))\n",
      "Retrying with additional time of 20 seconds.\n",
      "(API-)Error in item 45: HTTPSConnectionPool(host='api.cohere.ai', port=443): Max retries exceeded with url: /generate (Caused by ResponseError('too many 429 error responses'))\n",
      "Retrying with additional time of 10 seconds.\n",
      "(API-)Error in item 47: HTTPSConnectionPool(host='api.cohere.ai', port=443): Max retries exceeded with url: /generate (Caused by ResponseError('too many 429 error responses'))\n",
      "Retrying with additional time of 10 seconds.\n",
      "(API-)Error in item 47: HTTPSConnectionPool(host='api.cohere.ai', port=443): Max retries exceeded with url: /generate (Caused by ResponseError('too many 429 error responses'))\n",
      "Retrying with additional time of 20 seconds.\n",
      "(API-)Error in item 49: HTTPSConnectionPool(host='api.cohere.ai', port=443): Max retries exceeded with url: /generate (Caused by ResponseError('too many 429 error responses'))\n",
      "Retrying with additional time of 10 seconds.\n",
      "(API-)Error in item 51: HTTPSConnectionPool(host='api.cohere.ai', port=443): Max retries exceeded with url: /generate (Caused by ResponseError('too many 429 error responses'))\n",
      "Retrying with additional time of 10 seconds.\n",
      "(API-)Error in item 53: HTTPSConnectionPool(host='api.cohere.ai', port=443): Max retries exceeded with url: /generate (Caused by ResponseError('too many 429 error responses'))\n",
      "Retrying with additional time of 10 seconds.\n",
      "(API-)Error in item 53: HTTPSConnectionPool(host='api.cohere.ai', port=443): Max retries exceeded with url: /generate (Caused by ResponseError('too many 429 error responses'))\n",
      "Retrying with additional time of 20 seconds.\n",
      "(API-)Error in item 55: HTTPSConnectionPool(host='api.cohere.ai', port=443): Max retries exceeded with url: /generate (Caused by ResponseError('too many 429 error responses'))\n",
      "Retrying with additional time of 10 seconds.\n",
      "(API-)Error in item 57: HTTPSConnectionPool(host='api.cohere.ai', port=443): Max retries exceeded with url: /generate (Caused by ResponseError('too many 429 error responses'))\n",
      "Retrying with additional time of 10 seconds.\n",
      "(API-)Error in item 57: HTTPSConnectionPool(host='api.cohere.ai', port=443): Max retries exceeded with url: /generate (Caused by ResponseError('too many 429 error responses'))\n",
      "Retrying with additional time of 20 seconds.\n",
      "(API-)Error in item 59: HTTPSConnectionPool(host='api.cohere.ai', port=443): Max retries exceeded with url: /generate (Caused by ResponseError('too many 429 error responses'))\n",
      "Retrying with additional time of 10 seconds.\n",
      "(API-)Error in item 61: HTTPSConnectionPool(host='api.cohere.ai', port=443): Max retries exceeded with url: /generate (Caused by ResponseError('too many 429 error responses'))\n",
      "Retrying with additional time of 10 seconds.\n",
      "(API-)Error in item 61: HTTPSConnectionPool(host='api.cohere.ai', port=443): Max retries exceeded with url: /generate (Caused by ResponseError('too many 429 error responses'))\n",
      "Retrying with additional time of 20 seconds.\n",
      "(API-)Error in item 63: HTTPSConnectionPool(host='api.cohere.ai', port=443): Max retries exceeded with url: /generate (Caused by ResponseError('too many 429 error responses'))\n",
      "Retrying with additional time of 10 seconds.\n",
      "(API-)Error in item 65: HTTPSConnectionPool(host='api.cohere.ai', port=443): Max retries exceeded with url: /generate (Caused by ResponseError('too many 429 error responses'))\n",
      "Retrying with additional time of 10 seconds.\n",
      "(API-)Error in item 65: HTTPSConnectionPool(host='api.cohere.ai', port=443): Max retries exceeded with url: /generate (Caused by ResponseError('too many 429 error responses'))\n",
      "Retrying with additional time of 20 seconds.\n",
      "(API-)Error in item 70: HTTPSConnectionPool(host='api.cohere.ai', port=443): Max retries exceeded with url: /generate (Caused by ResponseError('too many 429 error responses'))\n",
      "Retrying with additional time of 10 seconds.\n",
      "(API-)Error in item 70: HTTPSConnectionPool(host='api.cohere.ai', port=443): Max retries exceeded with url: /generate (Caused by ResponseError('too many 429 error responses'))\n",
      "Retrying with additional time of 20 seconds.\n",
      "(API-)Error in item 72: HTTPSConnectionPool(host='api.cohere.ai', port=443): Max retries exceeded with url: /generate (Caused by ResponseError('too many 429 error responses'))\n",
      "Retrying with additional time of 10 seconds.\n",
      "(API-)Error in item 74: HTTPSConnectionPool(host='api.cohere.ai', port=443): Max retries exceeded with url: /generate (Caused by ResponseError('too many 429 error responses'))\n",
      "Retrying with additional time of 10 seconds.\n",
      "(API-)Error in item 74: HTTPSConnectionPool(host='api.cohere.ai', port=443): Max retries exceeded with url: /generate (Caused by ResponseError('too many 429 error responses'))\n",
      "Retrying with additional time of 20 seconds.\n",
      "(API-)Error in item 79: HTTPSConnectionPool(host='api.cohere.ai', port=443): Max retries exceeded with url: /generate (Caused by ResponseError('too many 429 error responses'))\n",
      "Retrying with additional time of 10 seconds.\n",
      "(API-)Error in item 79: HTTPSConnectionPool(host='api.cohere.ai', port=443): Max retries exceeded with url: /generate (Caused by ResponseError('too many 429 error responses'))\n",
      "Retrying with additional time of 20 seconds.\n",
      "(API-)Error in item 81: HTTPSConnectionPool(host='api.cohere.ai', port=443): Max retries exceeded with url: /generate (Caused by ResponseError('too many 429 error responses'))\n",
      "Retrying with additional time of 10 seconds.\n",
      "(API-)Error in item 83: HTTPSConnectionPool(host='api.cohere.ai', port=443): Max retries exceeded with url: /generate (Caused by ResponseError('too many 429 error responses'))\n",
      "Retrying with additional time of 10 seconds.\n",
      "(API-)Error in item 83: HTTPSConnectionPool(host='api.cohere.ai', port=443): Max retries exceeded with url: /generate (Caused by ResponseError('too many 429 error responses'))\n",
      "Retrying with additional time of 20 seconds.\n",
      "(API-)Error in item 85: HTTPSConnectionPool(host='api.cohere.ai', port=443): Max retries exceeded with url: /generate (Caused by ResponseError('too many 429 error responses'))\n",
      "Retrying with additional time of 10 seconds.\n",
      "(API-)Error in item 87: HTTPSConnectionPool(host='api.cohere.ai', port=443): Max retries exceeded with url: /generate (Caused by ResponseError('too many 429 error responses'))\n",
      "Retrying with additional time of 10 seconds.\n",
      "(API-)Error in item 87: HTTPSConnectionPool(host='api.cohere.ai', port=443): Max retries exceeded with url: /generate (Caused by ResponseError('too many 429 error responses'))\n",
      "Retrying with additional time of 20 seconds.\n",
      "(API-)Error in item 92: HTTPSConnectionPool(host='api.cohere.ai', port=443): Max retries exceeded with url: /generate (Caused by ResponseError('too many 429 error responses'))\n",
      "Retrying with additional time of 10 seconds.\n",
      "(API-)Error in item 92: HTTPSConnectionPool(host='api.cohere.ai', port=443): Max retries exceeded with url: /generate (Caused by ResponseError('too many 429 error responses'))\n",
      "Retrying with additional time of 20 seconds.\n",
      "(API-)Error in item 94: HTTPSConnectionPool(host='api.cohere.ai', port=443): Max retries exceeded with url: /generate (Caused by ResponseError('too many 429 error responses'))\n",
      "Retrying with additional time of 10 seconds.\n",
      "(API-)Error in item 96: HTTPSConnectionPool(host='api.cohere.ai', port=443): Max retries exceeded with url: /generate (Caused by ResponseError('too many 429 error responses'))\n",
      "Retrying with additional time of 10 seconds.\n",
      "(API-)Error in item 96: HTTPSConnectionPool(host='api.cohere.ai', port=443): Max retries exceeded with url: /generate (Caused by ResponseError('too many 429 error responses'))\n",
      "Retrying with additional time of 20 seconds.\n",
      "(API-)Error in item 98: HTTPSConnectionPool(host='api.cohere.ai', port=443): Max retries exceeded with url: /generate (Caused by ResponseError('too many 429 error responses'))\n",
      "Retrying with additional time of 10 seconds.\n"
     ]
    },
    {
     "data": {
      "application/vnd.jupyter.widget-view+json": {
       "model_id": "cbe64ae6a4f54529836d383234cff310",
       "version_major": 2,
       "version_minor": 0
      },
      "text/plain": [
       "Creating json from Arrow format:   0%|          | 0/1 [00:00<?, ?ba/s]"
      ]
     },
     "metadata": {},
     "output_type": "display_data"
    }
   ],
   "source": [
    "config={\n",
    "    \"instruction_keys\": None,\n",
    "    \"cot_trigger_keys\": [\"zhou-01\"],\n",
    "    \"answer_extraction_keys\": 'auto-kojima', \n",
    "    \"author\" : \"thoughtsource\",\n",
    "    \"api_service\": \"cohere\",\n",
    "    \"api_time_interval\": 1,\n",
    "    \"engine\": \"command-xlarge-nightly\", \n",
    "    \"temperature\": 0,\n",
    "    \"max_tokens\": 512,\n",
    "    \"verbose\": False,\n",
    "    \"warn\": False,\n",
    "}\n",
    "med_qa.generate(config=config)\n",
    "\n",
    "med_qa.dump(\"med_qa_zhou_cohere.json\")\n",
    "med_qa.evaluate()\n",
    "med_qa.dump(\"med_qa_zhou_cohere.json\")\n"
   ]
  },
  {
   "cell_type": "code",
   "execution_count": 4,
   "metadata": {},
   "outputs": [
    {
     "data": {
      "application/vnd.jupyter.widget-view+json": {
       "model_id": "e2da1d3e32d6483eaf017cd852104023",
       "version_major": 2,
       "version_minor": 0
      },
      "text/plain": [
       "  0%|          | 0/100 [00:00<?, ?ex/s]"
      ]
     },
     "metadata": {},
     "output_type": "display_data"
    },
    {
     "data": {
      "application/vnd.jupyter.widget-view+json": {
       "model_id": "2326d0ef20fd4022a4734c8743f14c9b",
       "version_major": 2,
       "version_minor": 0
      },
      "text/plain": [
       "Creating json from Arrow format:   0%|          | 0/1 [00:00<?, ?ba/s]"
      ]
     },
     "metadata": {},
     "output_type": "display_data"
    }
   ],
   "source": [
    "med_qa.evaluate()\n",
    "med_qa.dump(\"med_qa_zhou_cohere.json\")"
   ]
  },
  {
   "attachments": {},
   "cell_type": "markdown",
   "metadata": {},
   "source": [
    "## GPT-4"
   ]
  }
 ],
 "metadata": {
  "kernelspec": {
   "display_name": "base",
   "language": "python",
   "name": "python3"
  },
  "language_info": {
   "codemirror_mode": {
    "name": "ipython",
    "version": 3
   },
   "file_extension": ".py",
   "mimetype": "text/x-python",
   "name": "python",
   "nbconvert_exporter": "python",
   "pygments_lexer": "ipython3",
   "version": "3.9.12"
  },
  "orig_nbformat": 4
 },
 "nbformat": 4,
 "nbformat_minor": 2
}
