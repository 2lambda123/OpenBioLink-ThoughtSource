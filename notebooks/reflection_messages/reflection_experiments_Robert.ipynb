{
 "cells": [
  {
   "attachments": {},
   "cell_type": "markdown",
   "metadata": {},
   "source": [
    "## Helper functions & Example experiment"
   ]
  },
  {
   "cell_type": "code",
   "execution_count": 1,
   "metadata": {},
   "outputs": [],
   "source": [
    "\"\"\"Imports\"\"\"\n",
    "from langchain.chat_models import ChatOpenAI\n",
    "from langchain.prompts.chat import (\n",
    "    ChatPromptTemplate,\n",
    "    SystemMessagePromptTemplate,\n",
    "    AIMessagePromptTemplate,\n",
    "    HumanMessagePromptTemplate,\n",
    ")\n",
    "from langchain.schema import (\n",
    "    AIMessage,\n",
    "    HumanMessage,\n",
    "    SystemMessage\n",
    ")\n",
    "\n",
    "from cot import Collection\n",
    "import yaml"
   ]
  },
  {
   "cell_type": "code",
   "execution_count": 2,
   "metadata": {},
   "outputs": [],
   "source": [
    "# Helper functions to call OpenAI model, system also generates reasoning\n",
    "def system_experiment(data,model, path_system_template):\n",
    "    chat = ChatOpenAI(\n",
    "        temperature=0,\n",
    "        model_name=model,\n",
    "        request_timeout=600,\n",
    "        max_retries=1,\n",
    "    )\n",
    "\n",
    "    human_template=\"\"\"Answer the question:{question}\\nwith the following answer options:{answer_options}\"\"\"\n",
    "    human_message_prompt = HumanMessagePromptTemplate.from_template(human_template)\n",
    "    \n",
    "    with open(path_system_template, 'r') as file:\n",
    "        template = file.read()\n",
    "    system_message_prompt = SystemMessagePromptTemplate.from_template(template)\n",
    "    \n",
    "    chat_prompt = ChatPromptTemplate.from_messages([system_message_prompt, human_message_prompt])  \n",
    "    input_dict = {'chat':chat,'chat_prompt':chat_prompt} \n",
    "    \n",
    "    return data.system_generate(input_dict)\n",
    "\n",
    "def save_as_yaml(data, filepath):\n",
    "    with open(filepath, 'w') as file:\n",
    "        yaml.dump(data, file)"
   ]
  },
  {
   "cell_type": "code",
   "execution_count": 3,
   "metadata": {},
   "outputs": [],
   "source": [
    "def system_evaluate(data,model, path_system_template):\n",
    "    chat = ChatOpenAI(\n",
    "        temperature=0,\n",
    "        model_name=model,\n",
    "        request_timeout=600,\n",
    "        max_retries=1,\n",
    "    )\n",
    "\n",
    "    human_template=\"\"\"Answer the question:{question}\\n\n",
    "    with the following answer options:{answer_options}\\n\n",
    "    Reasoning: {reasoning}\\n\n",
    "    Answer: {answer}\"\"\"\n",
    "    human_message_prompt = HumanMessagePromptTemplate.from_template(human_template)\n",
    "    \n",
    "    with open(path_system_template, 'r') as file:\n",
    "        template = file.read()\n",
    "    system_message_prompt = SystemMessagePromptTemplate.from_template(template)\n",
    "    \n",
    "    chat_prompt = ChatPromptTemplate.from_messages([system_message_prompt, human_message_prompt])  \n",
    "    input_dict = {'chat':chat,'chat_prompt':chat_prompt, \"api_time_interval\": 1} \n",
    "    \n",
    "    return data.system_eval(input_dict)"
   ]
  },
  {
   "cell_type": "code",
   "execution_count": 4,
   "metadata": {},
   "outputs": [],
   "source": [
    "#process new data old\n",
    "import pandas as pd\n",
    "import yaml\n",
    "\n",
    "def process_new_data(new_data,idx_cot,dataset,split):\n",
    "    scores_per_item = []\n",
    "    for item in new_data[dataset][split]:\n",
    "        try:\n",
    "            scores_per_item.append(yaml.load(item['generated_cot'][idx_cot]['cot'], Loader=yaml.FullLoader))\n",
    "        except:\n",
    "            print(\"wrong output found\")\n",
    "            continue\n",
    "\n",
    "    # Get unique keys from all dictionaries\n",
    "    keys = set().union(*scores_per_item)\n",
    "\n",
    "    # Create lists of values for each key\n",
    "    scores_per_objective = {key: [d.get(key) for d in scores_per_item] for key in keys if key != \"critique\"} #added critique\n",
    "\n",
    "    #check values for nonetype\n",
    "    for key, value in scores_per_objective.items():\n",
    "        if value is not str:\n",
    "            print(key,value)\n",
    "\n",
    "\n",
    "    # Calculate the average of each list\n",
    "    averaged_data = {key: sum(value) / len(value) for key, value in scores_per_objective.items() if key!=\"critique\"} #added critique\n",
    "\n",
    "    # Convert the averaged data dictionary to a Pandas DataFrame\n",
    "    df = pd.DataFrame.from_dict(averaged_data, orient='index', columns=['Average'])\n",
    "\n",
    "    # Sort the DataFrame by the index (row labels)\n",
    "    df = df.loc[['obj_1', 'obj_2', 'obj_3', 'obj_4', 'obj_5', 'obj_6', 'obj_7', 'obj_8', 'obj_9', 'obj_10', 'obj_11']]\n",
    "\n",
    "    return scores_per_item, scores_per_objective, df"
   ]
  },
  {
   "cell_type": "code",
   "execution_count": 69,
   "metadata": {},
   "outputs": [],
   "source": [
    "def parse_data(new_data,idx_cot,dataset,split):\n",
    "    scores_per_item = []\n",
    "    variables_per_item = []\n",
    "    for item in new_data[dataset][split]:\n",
    "        try:\n",
    "            data = yaml.load(item['generated_cot'][idx_cot]['cot'], Loader=yaml.FullLoader)\n",
    "            if any(isinstance(v, str) for v in data.values()):\n",
    "                new_dict = {k: v for k, v in data.items() if k.startswith('obj')}\n",
    "                scores_per_item.append(new_dict)\n",
    "                variables_per_item.append(data)\n",
    "            else:\n",
    "                scores_per_item.append(data)\n",
    "        except:\n",
    "        \n",
    "            print(\"wrong output found\")\n",
    "            continue\n",
    "    return scores_per_item, variables_per_item"
   ]
  },
  {
   "cell_type": "code",
   "execution_count": 244,
   "metadata": {},
   "outputs": [],
   "source": [
    "def parse_lst_data(new_data,idx_cot,dataset,split):\n",
    "    scores_per_item = []\n",
    "    variables_per_item = []\n",
    "    statements_per_item = []\n",
    "    for item in new_data[dataset][split]:\n",
    "        try:\n",
    "            data = yaml.load(item['generated_cot'][idx_cot]['cot'], Loader=yaml.FullLoader)\n",
    "            #if any(isinstance(v, str) for v in data.values()):\n",
    "            new_dict = {k: v[1] for k, v in data.items() if k.startswith('obj')}\n",
    "            statement_dict = {k: v[0] for k, v in data.items() if k.startswith('obj')}\n",
    "            statements_per_item.append(statement_dict)\n",
    "            scores_per_item.append(new_dict)\n",
    "            variables_per_item.append(data)\n",
    "            # else:\n",
    "            #     scores_per_item.append(data)\n",
    "        except:\n",
    "        \n",
    "            print(\"wrong output found\")\n",
    "            continue\n",
    "    return scores_per_item, variables_per_item, statements_per_item\n"
   ]
  },
  {
   "cell_type": "code",
   "execution_count": null,
   "metadata": {},
   "outputs": [],
   "source": [
    "def get_further_data(scores_per_item):\n",
    "# Get unique keys from all dictionaries\n",
    "    keys = set().union(*scores_per_item)\n",
    "\n",
    "    # Create lists of values for each key\n",
    "    scores_per_objective = {key: [d.get(key) for d in scores_per_item] for key in keys}\n",
    "    # scores_per_objective = {k: v for k, v in scores_per_objective.items() if not isinstance(v, str)}\n",
    "    # print(scores_per_objective)\n",
    "\n",
    "    # #check values for nonetype\n",
    "    # for key, value in scores_per_objective.items():\n",
    "    #     if value is not str:\n",
    "    #         #print(key,value)\n",
    "    #         continue\n",
    "\n",
    "\n",
    "    # Calculate the average of each list\n",
    "    #averaged_data = {key: sum(value) / len(value) for key, value in scores_per_objective.items()} \n",
    "    averaged_data = {key: (sum(v for v in value if v is not None) / len([v for v in value if v is not None])) for key, value in scores_per_objective.items() if len([v for v in value if v is not None]) > 0}\n",
    "\n",
    "    # Convert the averaged data dictionary to a Pandas DataFrame\n",
    "    df = pd.DataFrame.from_dict(averaged_data, orient='index', columns=['Average'])\n",
    "\n",
    "    # Sort the DataFrame by the index (row labels)\n",
    "    df = df.loc[['obj_1', 'obj_2', 'obj_3', 'obj_4', 'obj_5', 'obj_6', 'obj_7', 'obj_8', 'obj_9', 'obj_10', 'obj_11']]\n",
    "\n",
    "    return scores_per_objective, df"
   ]
  },
  {
   "cell_type": "code",
   "execution_count": 87,
   "metadata": {},
   "outputs": [],
   "source": [
    "def fix_none_score(scores_per_item):\n",
    "    for i,element in enumerate(scores_per_item):\n",
    "        for inner_key, value in element.items():\n",
    "            if value is None:\n",
    "                scores_per_item[i][inner_key] = 5\n",
    "    return scores_per_item\n",
    "    "
   ]
  },
  {
   "cell_type": "code",
   "execution_count": 97,
   "metadata": {},
   "outputs": [],
   "source": [
    "def fix_str_score(scores_per_item):\n",
    "    for i,element in enumerate(scores_per_item):\n",
    "        for inner_key, value in element.items():\n",
    "            if isinstance(value,str):\n",
    "                scores_per_item.pop(i)\n",
    "    return scores_per_item"
   ]
  },
  {
   "cell_type": "code",
   "execution_count": null,
   "metadata": {},
   "outputs": [],
   "source": [
    "#helper functions for results\n",
    "import matplotlib.pyplot as plt\n",
    "from scipy.stats import ttest_ind\n",
    "import statistics\n",
    "\n",
    "def freq_bar_plot(scores_per_item): #later better axes\n",
    "    average_per_item = [sum(d.values()) / len(d) for d in scores_per_item]\n",
    "    # Create a histogram\n",
    "    plt.hist(average_per_item, bins='auto', alpha=0.7)\n",
    "    plt.xlabel('Values')\n",
    "    plt.ylabel('Frequency')\n",
    "    plt.title('Frequency of average score per item')\n",
    "    plt.show()\n",
    "\n",
    "def avg_item_plot(scores_per_objective):  #later better axes\n",
    " \n",
    "    data = scores_per_objective\n",
    "    averaged_data = {key: sum(value) / len(value) for key, value in data.items() if key!=\"critique\"} #added \"critique\"\n",
    "    sorted_data = {k: v for k, v in sorted(averaged_data.items())}\n",
    "\n",
    "    # Extract the keys (objectives) and values (averages) from the sorted dictionary\n",
    "    keys = sorted_data.keys()\n",
    "    values = sorted_data.values()\n",
    "\n",
    "    # Create a bar plot\n",
    "    plt.bar(keys, values)\n",
    "    plt.xlabel('Objectives')\n",
    "    plt.ylabel('Average')\n",
    "    # plt.ylim(7,10)\n",
    "    plt.title('Average per Objective')\n",
    "    plt.xticks(rotation=45)\n",
    "    plt.show()\n",
    "\n",
    "def avg_true_false(data,average_per_item,dataset,split):\n",
    "    item_correct = []\n",
    "    for item in data[dataset][split]:\n",
    "        item_correct.append(item['generated_cot'][0]['answers'][0]['correct_answer'])\n",
    "\n",
    "    # Example lists of scores and indicators\n",
    "    scores = average_per_item\n",
    "    indicators = item_correct\n",
    "\n",
    "    # Separate scores based on indicators\n",
    "    scores_true = [score for score, indicator in zip(scores, indicators) if indicator]\n",
    "    scores_false = [score for score, indicator in zip(scores, indicators) if not indicator]\n",
    "\n",
    "    print(\"scores true:\", statistics.mean(scores_true))\n",
    "    print(\"scores false:\", statistics.mean(scores_false))"
   ]
  },
  {
   "attachments": {},
   "cell_type": "markdown",
   "metadata": {},
   "source": [
    "## //"
   ]
  },
  {
   "cell_type": "code",
   "execution_count": 88,
   "metadata": {},
   "outputs": [],
   "source": [
    "scores_per_item = fix_none_score(scores_per_item)"
   ]
  },
  {
   "cell_type": "code",
   "execution_count": 92,
   "metadata": {},
   "outputs": [
    {
     "name": "stdout",
     "output_type": "stream",
     "text": [
      "{'obj_1': 'The response accurately interprets the question and breaks it down.', 'obj_2': 'The response considers the relevant information but does not avoid considering irrelevant information.', 'obj_3': 'The response is sensitive to the numerical information provided by the user but does not incorporate it into the response.', 'obj_4': 'The response does not consider all relevant reasoning strategies and does not select the most appropriate reasoning strategy.', 'obj_5': 'The reasoning in the response is not structured at an appropriate level of detail.', 'obj_6': 'The response does not give appropriate priorities to different considerations based on their relevance and importance.', 'obj_7': 'The response does not list and consider all relevant underlying assumptions.', 'obj_8': 'The response is plausible, logically valid, sound, consistent, and coherent.', 'obj_9': 5, 'obj_10': 6, 'obj_11': 8, 'inner_key': 7}\n",
      "{'obj_1': 'The response accurately interprets the question and breaks it down.', 'obj_2': 'The response considers the relevant information but does not avoid considering irrelevant information.', 'obj_3': 'The response is sensitive to the numerical information provided by the user but does not incorporate it into the response.', 'obj_4': 'The response does not consider all relevant reasoning strategies and does not select the most appropriate reasoning strategy.', 'obj_5': 'The reasoning in the response is not structured at an appropriate level of detail.', 'obj_6': 'The response does not give appropriate priorities to different considerations based on their relevance and importance.', 'obj_7': 'The response does not list and consider all relevant underlying assumptions.', 'obj_8': 'The response is plausible, logically valid, sound, consistent, and coherent.', 'obj_9': 5, 'obj_10': 6, 'obj_11': 8, 'inner_key': 7}\n",
      "{'obj_1': 'The response accurately interprets the question and breaks it down.', 'obj_2': 'The response considers the relevant information but does not avoid considering irrelevant information.', 'obj_3': 'The response is sensitive to the numerical information provided by the user but does not incorporate it into the response.', 'obj_4': 'The response does not consider all relevant reasoning strategies and does not select the most appropriate reasoning strategy.', 'obj_5': 'The reasoning in the response is not structured at an appropriate level of detail.', 'obj_6': 'The response does not give appropriate priorities to different considerations based on their relevance and importance.', 'obj_7': 'The response does not list and consider all relevant underlying assumptions.', 'obj_8': 'The response is plausible, logically valid, sound, consistent, and coherent.', 'obj_9': 5, 'obj_10': 6, 'obj_11': 8, 'inner_key': 7}\n",
      "{'obj_1': 'The response accurately interprets the question and breaks it down.', 'obj_2': 'The response considers the relevant information but does not avoid considering irrelevant information.', 'obj_3': 'The response is sensitive to the numerical information provided by the user but does not incorporate it into the response.', 'obj_4': 'The response does not consider all relevant reasoning strategies and does not select the most appropriate reasoning strategy.', 'obj_5': 'The reasoning in the response is not structured at an appropriate level of detail.', 'obj_6': 'The response does not give appropriate priorities to different considerations based on their relevance and importance.', 'obj_7': 'The response does not list and consider all relevant underlying assumptions.', 'obj_8': 'The response is plausible, logically valid, sound, consistent, and coherent.', 'obj_9': 5, 'obj_10': 6, 'obj_11': 8, 'inner_key': 7}\n",
      "{'obj_1': 'The response accurately interprets the question and breaks it down.', 'obj_2': 'The response considers the relevant information but does not avoid considering irrelevant information.', 'obj_3': 'The response is sensitive to the numerical information provided by the user but does not incorporate it into the response.', 'obj_4': 'The response does not consider all relevant reasoning strategies and does not select the most appropriate reasoning strategy.', 'obj_5': 'The reasoning in the response is not structured at an appropriate level of detail.', 'obj_6': 'The response does not give appropriate priorities to different considerations based on their relevance and importance.', 'obj_7': 'The response does not list and consider all relevant underlying assumptions.', 'obj_8': 'The response is plausible, logically valid, sound, consistent, and coherent.', 'obj_9': 5, 'obj_10': 6, 'obj_11': 8, 'inner_key': 7}\n",
      "{'obj_1': 'The response accurately interprets the question and breaks it down.', 'obj_2': 'The response considers the relevant information but does not avoid considering irrelevant information.', 'obj_3': 'The response is sensitive to the numerical information provided by the user but does not incorporate it into the response.', 'obj_4': 'The response does not consider all relevant reasoning strategies and does not select the most appropriate reasoning strategy.', 'obj_5': 'The reasoning in the response is not structured at an appropriate level of detail.', 'obj_6': 'The response does not give appropriate priorities to different considerations based on their relevance and importance.', 'obj_7': 'The response does not list and consider all relevant underlying assumptions.', 'obj_8': 'The response is plausible, logically valid, sound, consistent, and coherent.', 'obj_9': 5, 'obj_10': 6, 'obj_11': 8, 'inner_key': 7}\n",
      "{'obj_1': 'The response accurately interprets the question and breaks it down.', 'obj_2': 'The response considers the relevant information but does not avoid considering irrelevant information.', 'obj_3': 'The response is sensitive to the numerical information provided by the user but does not incorporate it into the response.', 'obj_4': 'The response does not consider all relevant reasoning strategies and does not select the most appropriate reasoning strategy.', 'obj_5': 'The reasoning in the response is not structured at an appropriate level of detail.', 'obj_6': 'The response does not give appropriate priorities to different considerations based on their relevance and importance.', 'obj_7': 'The response does not list and consider all relevant underlying assumptions.', 'obj_8': 'The response is plausible, logically valid, sound, consistent, and coherent.', 'obj_9': 5, 'obj_10': 6, 'obj_11': 8, 'inner_key': 7}\n",
      "{'obj_1': 'The response accurately interprets the question and breaks it down.', 'obj_2': 'The response considers the relevant information but does not avoid considering irrelevant information.', 'obj_3': 'The response is sensitive to the numerical information provided by the user but does not incorporate it into the response.', 'obj_4': 'The response does not consider all relevant reasoning strategies and does not select the most appropriate reasoning strategy.', 'obj_5': 'The reasoning in the response is not structured at an appropriate level of detail.', 'obj_6': 'The response does not give appropriate priorities to different considerations based on their relevance and importance.', 'obj_7': 'The response does not list and consider all relevant underlying assumptions.', 'obj_8': 'The response is plausible, logically valid, sound, consistent, and coherent.', 'obj_9': 5, 'obj_10': 6, 'obj_11': 8, 'inner_key': 7}\n"
     ]
    }
   ],
   "source": [
    "for i,element in enumerate(scores_per_item):\n",
    "        for inner_key, value in element.items():\n",
    "            if isinstance(value,str):\n",
    "                print(element)"
   ]
  },
  {
   "cell_type": "code",
   "execution_count": 70,
   "metadata": {},
   "outputs": [],
   "source": [
    "data = Collection.from_json(\"medqa_cohere_template_20\")"
   ]
  },
  {
   "cell_type": "code",
   "execution_count": 77,
   "metadata": {},
   "outputs": [],
   "source": [
    "new_dict = scores_per_item\n",
    "for i,inner_dict in enumerate(new_dict):\n",
    "    for inner_key, value in inner_dict.items():\n",
    "        if value is None:\n",
    "            new_dict[i]['inner_key'] = 7"
   ]
  },
  {
   "cell_type": "code",
   "execution_count": 116,
   "metadata": {},
   "outputs": [],
   "source": [
    "scores_per_item, variables_per_item = parse_data(data,idx_cot=1,dataset='med_qa',split='test')\n",
    "#scores_per_item = fix_str_score(scores_per_item)\n",
    "scores_per_objective, df = get_further_data(scores_per_item)\n"
   ]
  },
  {
   "cell_type": "code",
   "execution_count": 8,
   "metadata": {},
   "outputs": [
    {
     "data": {
      "text/plain": [
       "{'obj_1': 8,\n",
       " 'obj_2': 9,\n",
       " 'obj_3': 8,\n",
       " 'obj_4': 8,\n",
       " 'obj_5': 7,\n",
       " 'obj_6': 8,\n",
       " 'obj_7': 8,\n",
       " 'obj_8': 9,\n",
       " 'obj_9': 7,\n",
       " 'obj_10': 8,\n",
       " 'obj_11': 9}"
      ]
     },
     "execution_count": 8,
     "metadata": {},
     "output_type": "execute_result"
    }
   ],
   "source": [
    "#{k: v for k, v in test.items() if not isinstance(v, str)}\n",
    "new_dict = {k: v for k, v in test.items() if not isinstance(v, str)}\n",
    "new_dict"
   ]
  },
  {
   "cell_type": "code",
   "execution_count": 9,
   "metadata": {},
   "outputs": [
    {
     "data": {
      "text/plain": [
       "False"
      ]
     },
     "execution_count": 9,
     "metadata": {},
     "output_type": "execute_result"
    }
   ],
   "source": [
    "any(isinstance(v, str) for v in new_dict.values())"
   ]
  },
  {
   "cell_type": "code",
   "execution_count": 10,
   "metadata": {},
   "outputs": [
    {
     "data": {
      "text/plain": [
       "True"
      ]
     },
     "execution_count": 10,
     "metadata": {},
     "output_type": "execute_result"
    }
   ],
   "source": [
    "any(isinstance(v, str) for v in test.values())"
   ]
  },
  {
   "cell_type": "code",
   "execution_count": 99,
   "metadata": {},
   "outputs": [],
   "source": [
    "scores_per_item = fix_str_score(scores_per_item)\n",
    "scores_per_objective, df = get_further_data(scores_per_item)\n",
    "\n"
   ]
  },
  {
   "cell_type": "code",
   "execution_count": 106,
   "metadata": {},
   "outputs": [],
   "source": [
    "med_qa = Collection.load_thoughtsource_100(names=['med_qa'],load_pregenerated_cots=True)"
   ]
  },
  {
   "cell_type": "code",
   "execution_count": 107,
   "metadata": {},
   "outputs": [
    {
     "name": "stdout",
     "output_type": "stream",
     "text": [
      "med_qa {32}\n"
     ]
    }
   ],
   "source": [
    "med_qa.number_generated_cots()"
   ]
  },
  {
   "cell_type": "code",
   "execution_count": 108,
   "metadata": {},
   "outputs": [],
   "source": [
    "med_qa.select_generated_cots(\n",
    "    model=[\n",
    "        # 'gpt-3.5-turbo',\n",
    "        'gpt-4',\n",
    "        # 'flan-T5-xxl',\n",
    "    ],\n",
    "    cot_trigger=[\n",
    "        # None, \n",
    "        'zhou-01'\n",
    "    ],\n",
    "    instruction=[\n",
    "        None\n",
    "    ]\n",
    "    # answer= False\n",
    "    )"
   ]
  },
  {
   "cell_type": "code",
   "execution_count": 111,
   "metadata": {},
   "outputs": [],
   "source": [
    "med_qa.select_generated_cots(\n",
    "    model=[\n",
    "        # 'gpt-3.5-turbo',\n",
    "        'gpt-4',\n",
    "        # 'flan-T5-xxl',\n",
    "    ]\n",
    "    )"
   ]
  },
  {
   "cell_type": "code",
   "execution_count": 114,
   "metadata": {},
   "outputs": [],
   "source": [
    "med_qa.select_generated_cots(\n",
    "   \n",
    "    cot_trigger=[\n",
    "        # None, \n",
    "        'zhou-01']\n",
    "    \n",
    "    )"
   ]
  },
  {
   "cell_type": "code",
   "execution_count": 115,
   "metadata": {},
   "outputs": [
    {
     "name": "stdout",
     "output_type": "stream",
     "text": [
      "med_qa {1}\n"
     ]
    }
   ],
   "source": [
    "med_qa.number_generated_cots()"
   ]
  },
  {
   "cell_type": "code",
   "execution_count": 113,
   "metadata": {},
   "outputs": [
    {
     "data": {
      "text/plain": [
       "{'id': 'med_qa_test_2',\n",
       " 'ref_id': '',\n",
       " 'question': 'Two weeks after undergoing an emergency cardiac catherization with stenting for unstable angina pectoris, a 61-year-old man has decreased urinary output and malaise. He has type 2 diabetes mellitus and osteoarthritis of the hips. Prior to admission, his medications were insulin and naproxen. He was also started on aspirin, clopidogrel, and metoprolol after the coronary intervention. His temperature is 38°C (100.4°F), pulse is 93/min, and blood pressure is 125/85 mm Hg. Examination shows mottled, reticulated purplish discoloration of the feet. Laboratory studies show:\\nHemoglobin count 14 g/dL\\nLeukocyte count 16,400/mm3\\nSegmented neutrophils 56%\\nEosinophils 11%\\nLymphocytes 31%\\nMonocytes 2%\\nPlatelet count 260,000/mm3\\nErythrocyte sedimentation rate 68 mm/h\\nSerum\\nUrea nitrogen 25 mg/dL\\nCreatinine 4.2 mg/dL\\nRenal biopsy shows intravascular spindle-shaped vacuoles. Which of the following is the most likely cause of this patient\\'s symptoms?\"',\n",
       " 'type': 'multiplechoice',\n",
       " 'choices': ['Renal papillary necrosis',\n",
       "  'Allergic interstitial nephritis',\n",
       "  'Cholesterol embolization',\n",
       "  'Eosinophilic granulomatosis with polyangiitis',\n",
       "  'Polyarteritis nodosa'],\n",
       " 'context': '',\n",
       " 'cot': [],\n",
       " 'answer': ['Cholesterol embolization'],\n",
       " 'generated_cot': [{'id': 'fa4aaf6d-2c03-481e-93b7-1066f390aaf9',\n",
       "   'fragments_version': '0.01',\n",
       "   'instruction': None,\n",
       "   'cot_trigger': 'zhou-01',\n",
       "   'cot_trigger_template': '{instruction}\\n\\n{question}\\n{answer_choices}\\n\\n{cot_trigger}',\n",
       "   'prompt_text': '',\n",
       "   'cot': \"First, let's analyze the patient's symptoms and laboratory findings:\\n\\n1. Decreased urinary output and malaise - these symptoms suggest a possible kidney issue.\\n2. Elevated leukocyte count and eosinophils - this indicates an inflammatory or allergic response.\\n3. Elevated erythrocyte sedimentation rate - this also indicates inflammation.\\n4. Elevated serum urea nitrogen and creatinine - these are markers of impaired kidney function.\\n5. Renal biopsy showing intravascular spindle-shaped vacuoles - this is a key finding that will help us differentiate between the answer choices.\\n\\nNow let's go through the answer choices:\\n\\nA) Renal papillary necrosis - This condition is usually associated with analgesic abuse, sickle cell disease, or diabetes. However, the renal biopsy finding of intravascular spindle-shaped vacuoles is not typical for this condition.\\n\\nB) Allergic interstitial nephritis - This is a possibility given the elevated eosinophils and the patient's recent addition of new medications. However, the renal biopsy finding does not match this condition.\\n\\nC) Cholesterol embolization - This condition can cause kidney damage and is associated with the purplish discoloration of the feet (livedo reticularis) seen in this patient. The renal biopsy finding of intravascular spindle-shaped vacuoles is consistent with cholesterol emboli.\\n\\nD) Eosinophilic granulomatosis with polyangiitis - This condition can cause kidney damage and is associated with elevated eosinophils. However, the renal biopsy finding does not match this condition.\\n\\nE) Polyarteritis nodosa - This condition can cause kidney damage and is associated with inflammation. However, the renal biopsy finding does not match this condition.\\n\\nBased on the patient's symptoms, laboratory findings, and renal biopsy results, the most likely cause of this patient's symptoms is:\\n\\nC) Cholesterol embolization\",\n",
       "   'answers': [{'id': '955a9374-65f5-49ad-902a-d09fca522e35',\n",
       "     'answer_extraction': 'kojima-A-E',\n",
       "     'answer_extraction_template': '{instruction}\\n\\n{question}\\n{answer_choices}\\n\\n{cot_trigger}{cot}\\n{answer_extraction}',\n",
       "     'answer_extraction_text': '',\n",
       "     'answer': 'C) Cholesterol embolization.',\n",
       "     'answer_from_choices': 'C',\n",
       "     'correct_answer': True}],\n",
       "   'author': 'thoughtsource',\n",
       "   'date': '2023/03/17 10:56:08',\n",
       "   'api_service': 'openai_chat',\n",
       "   'model': \"{'name': 'gpt-4', 'temperature': 0, 'max_tokens': 512}\",\n",
       "   'comment': '',\n",
       "   'annotations': []},\n",
       "  {'id': '3b672cfc-4e6c-4051-9494-bc0e290242e1',\n",
       "   'fragments_version': '0.01',\n",
       "   'instruction': None,\n",
       "   'cot_trigger': None,\n",
       "   'cot_trigger_template': '{instruction}\\n\\n{question}\\n{answer_choices}\\n\\n{cot_trigger}',\n",
       "   'prompt_text': '',\n",
       "   'cot': 'C) Cholesterol embolization',\n",
       "   'answers': [{'id': '646c7bcd-fc06-4282-818b-0a37be43c103',\n",
       "     'answer_extraction': 'kojima-A-E',\n",
       "     'answer_extraction_template': '{instruction}\\n\\n{question}\\n{answer_choices}\\n\\n{cot_trigger}{cot}\\n{answer_extraction}',\n",
       "     'answer_extraction_text': '',\n",
       "     'answer': 'C) Cholesterol embolization',\n",
       "     'answer_from_choices': 'C',\n",
       "     'correct_answer': True}],\n",
       "   'author': 'thoughtsource',\n",
       "   'date': '2023/03/17 13:47:38',\n",
       "   'api_service': 'openai_chat',\n",
       "   'model': \"{'name': 'gpt-4', 'temperature': 0, 'max_tokens': 512}\",\n",
       "   'comment': '',\n",
       "   'annotations': []}],\n",
       " 'feedback': []}"
      ]
     },
     "execution_count": 113,
     "metadata": {},
     "output_type": "execute_result"
    }
   ],
   "source": [
    "med_qa['med_qa']['test'][0]"
   ]
  },
  {
   "attachments": {},
   "cell_type": "markdown",
   "metadata": {},
   "source": [
    "## GPT-3.5 evaluates itself with 3 different promps"
   ]
  },
  {
   "cell_type": "code",
   "execution_count": 86,
   "metadata": {},
   "outputs": [],
   "source": [
    "med_zhou = Collection.from_json(\"med_qa_zhou_eval.json\")\n"
   ]
  },
  {
   "cell_type": "code",
   "execution_count": 87,
   "metadata": {},
   "outputs": [
    {
     "data": {
      "text/plain": [
       "| Name   | Train   | Valid   |   Test |\n",
       "|--------|---------|---------|--------|\n",
       "| med_qa | -       | -       |    100 |\n",
       "\n",
       "Not loaded: ['aqua', 'asdiv', 'commonsense_qa', 'entailment_bank', 'gsm8k', 'mawps', 'med_qa_open', 'medmc_qa', '_init_', 'mmlu_clinical_knowledge', 'mmlu_college_biology', 'mmlu_college_medicine', 'mmlu_medical_genetics', 'mmlu_professional_medicine', '_init_', 'mmlu_anatomy', 'open_book_qa', 'pubmed_qa', 'qed', 'strategy_qa', 'svamp', 'worldtree']"
      ]
     },
     "execution_count": 87,
     "metadata": {},
     "output_type": "execute_result"
    }
   ],
   "source": [
    "med_zhou"
   ]
  },
  {
   "cell_type": "code",
   "execution_count": 95,
   "metadata": {},
   "outputs": [
    {
     "name": "stdout",
     "output_type": "stream",
     "text": [
      "Generating med_qa...\n"
     ]
    },
    {
     "data": {
      "application/vnd.jupyter.widget-view+json": {
       "model_id": "8ae7a8f9b8e24dbcb5fa06073b21b2f7",
       "version_major": 2,
       "version_minor": 0
      },
      "text/plain": [
       "  0%|          | 0/100 [00:00<?, ?ex/s]"
      ]
     },
     "metadata": {},
     "output_type": "display_data"
    },
    {
     "name": "stdout",
     "output_type": "stream",
     "text": [
      "(API-)Error in item 63: That model is currently overloaded with other requests. You can retry your request, or contact us through our help center at help.openai.com if the error persists. (Please include the request ID c6cc1cdfbeec9baabfe3f7008406cf6f in your message.)\n",
      "Retrying with additional time of 10 seconds.\n",
      "wrong output found\n",
      "wrong output found\n",
      "         Average\n",
      "obj_1   9.122449\n",
      "obj_2   9.836735\n",
      "obj_3   9.000000\n",
      "obj_4   9.500000\n",
      "obj_5   8.836735\n",
      "obj_6   9.295918\n",
      "obj_7   9.234694\n",
      "obj_8   9.724490\n",
      "obj_9   8.918367\n",
      "obj_10  9.285714\n",
      "obj_11  9.683673\n"
     ]
    }
   ],
   "source": [
    "#for template 13 \"There is room for improvement prompt\"\n",
    "absolute_path = \"./reflection_messages/input_system/system_template_13_eval.yaml\"\n",
    "system_evaluate(med_zhou,'gpt-3.5-turbo',absolute_path)\n",
    "med_zhou.dump(\"med_qa_template_13\")\n",
    "output = process_new_data(med_zhou,idx_cot=1)\n",
    "print(output)"
   ]
  },
  {
   "cell_type": "code",
   "execution_count": 100,
   "metadata": {},
   "outputs": [
    {
     "name": "stdout",
     "output_type": "stream",
     "text": [
      "Generating med_qa...\n"
     ]
    },
    {
     "data": {
      "application/vnd.jupyter.widget-view+json": {
       "model_id": "dc83e6a1fbbe46a795aecf5a20c7e3d0",
       "version_major": 2,
       "version_minor": 0
      },
      "text/plain": [
       "  0%|          | 0/100 [00:00<?, ?ex/s]"
      ]
     },
     "metadata": {},
     "output_type": "display_data"
    },
    {
     "name": "stdout",
     "output_type": "stream",
     "text": [
      "(API-)Error in item 88: That model is currently overloaded with other requests. You can retry your request, or contact us through our help center at help.openai.com if the error persists. (Please include the request ID d334e30cbc2755eaf79a8e06d350a18e in your message.)\n",
      "Retrying with additional time of 10 seconds.\n"
     ]
    },
    {
     "data": {
      "application/vnd.jupyter.widget-view+json": {
       "model_id": "6613dcbcabbf437a9814781ca7bc4e9b",
       "version_major": 2,
       "version_minor": 0
      },
      "text/plain": [
       "Creating json from Arrow format:   0%|          | 0/1 [00:00<?, ?ba/s]"
      ]
     },
     "metadata": {},
     "output_type": "display_data"
    },
    {
     "name": "stdout",
     "output_type": "stream",
     "text": [
      "wrong output found\n",
      "         Average\n",
      "obj_1   8.242424\n",
      "obj_2   9.141414\n",
      "obj_3   8.202020\n",
      "obj_4   8.747475\n",
      "obj_5   7.787879\n",
      "obj_6   8.141414\n",
      "obj_7   8.252525\n",
      "obj_8   9.070707\n",
      "obj_9   7.757576\n",
      "obj_10  8.141414\n",
      "obj_11  9.000000\n"
     ]
    }
   ],
   "source": [
    "#template 12 \"the average score of the objectives should usually be at most 7-8.\"\n",
    "absolute_path = \"./reflection_messages/input_system/system_template_12_eval.yaml\"\n",
    "system_evaluate(med_zhou,'gpt-3.5-turbo',absolute_path)\n",
    "med_zhou.dump(\"med_qa_template_12\")\n",
    "output = process_new_data(med_zhou,idx_cot=1)\n",
    "print(output)"
   ]
  },
  {
   "cell_type": "code",
   "execution_count": 105,
   "metadata": {},
   "outputs": [
    {
     "name": "stdout",
     "output_type": "stream",
     "text": [
      "[8.272727272727273, 8.545454545454545, 8.181818181818182, 8.363636363636363, 8.363636363636363, 9.090909090909092, 8.363636363636363, 8.545454545454545, 8.272727272727273, 8.454545454545455, 8.363636363636363, 8.090909090909092, 9.090909090909092, 8.454545454545455, 8.363636363636363, 8.181818181818182, 8.363636363636363, 8.363636363636363, 8.272727272727273, 8.181818181818182, 8.363636363636363, 8.545454545454545, 8.545454545454545, 8.090909090909092, 8.181818181818182, 8.090909090909092, 8.363636363636363, 8.363636363636363, 8.545454545454545, 8.545454545454545, 8.545454545454545, 8.090909090909092, 8.545454545454545, 9.090909090909092, 8.181818181818182, 9.181818181818182, 7.545454545454546, 8.090909090909092, 8.636363636363637, 8.272727272727273, 8.363636363636363, 8.363636363636363, 8.363636363636363, 8.454545454545455, 8.363636363636363, 8.363636363636363, 8.363636363636363, 8.090909090909092, 8.272727272727273, 8.454545454545455, 9.272727272727273, 8.454545454545455, 8.0, 8.363636363636363, 9.181818181818182, 8.181818181818182, 8.545454545454545, 8.363636363636363, 9.181818181818182, 8.454545454545455, 8.363636363636363, 8.363636363636363, 8.363636363636363, 8.454545454545455, 8.454545454545455, 8.090909090909092, 8.818181818181818, 8.636363636363637, 7.818181818181818, 8.636363636363637, 8.272727272727273, 8.090909090909092, 8.545454545454545, 8.363636363636363, 8.363636363636363, 8.363636363636363, 8.818181818181818, 8.454545454545455, 8.272727272727273, 7.818181818181818, 8.363636363636363, 8.363636363636363, 8.181818181818182, 9.0, 8.545454545454545, 8.363636363636363, 7.909090909090909, 8.272727272727273, 8.545454545454545, 8.818181818181818, 8.454545454545455, 8.363636363636363, 8.181818181818182, 8.181818181818182, 8.545454545454545, 8.090909090909092, 8.636363636363637, 8.636363636363637, 8.090909090909092]\n"
     ]
    }
   ],
   "source": [
    "scores_per_item, scores_per_objective, df = process_new_data(med_zhou,idx_cot=1)\n",
    "average_per_item = [sum(d.values()) / len(d) for d in scores_per_item]\n",
    "print(average_per_item)"
   ]
  },
  {
   "cell_type": "code",
   "execution_count": null,
   "metadata": {},
   "outputs": [],
   "source": [
    "#for template 14 \"Be critical: a higher variation in rating scores can lead to more insight.\"\n",
    "med_zhou_14 = Collection.from_json(\"med_qa_zhou_eval.json\")\n",
    "absolute_path = \"/Users/robertpraas/Desktop/ThoughtSource/notebooks/reflection_messages/input_system/system_template_14_eval.yaml\"\n",
    "system_evaluate(med_zhou_14,'gpt-3.5-turbo',absolute_path)\n",
    "med_zhou.dump(\"med_qa_template_14\") \n",
    "scores_per_item, scores_per_objective, df = process_new_data(med_zhou,idx_cot=1)"
   ]
  },
  {
   "cell_type": "code",
   "execution_count": 149,
   "metadata": {},
   "outputs": [],
   "source": [
    "scores_per_item, scores_per_objective, df = process_new_data(med_zhou_14,idx_cot=1)"
   ]
  },
  {
   "attachments": {},
   "cell_type": "markdown",
   "metadata": {},
   "source": [
    "## GPT-4 correct GPT-3.5?"
   ]
  },
  {
   "cell_type": "code",
   "execution_count": 10,
   "metadata": {},
   "outputs": [],
   "source": [
    "#create a balanced dataset\n",
    "\n",
    "import copy\n",
    "med_qa = Collection.from_json(\"/Users/robertpraas/Desktop/ThoughtSource/notebooks/reflection_messages/med_qa_zhou_eval_gpt4.json\")\n",
    "med_qa_correct = copy.deepcopy(med_qa)\n",
    "med_qa_false = copy.deepcopy(med_qa)\n",
    "med_qa_correct.select_generated_cots(answer=True)\n",
    "med_qa_correct = med_qa_correct.filter(lambda x: len(x[\"generated_cot\"])==1)\n",
    "\n",
    "med_qa_false.select_generated_cots(answer=False)\n",
    "med_qa_false = med_qa_false.filter(lambda x: len(x[\"generated_cot\"])==1)"
   ]
  },
  {
   "cell_type": "code",
   "execution_count": 15,
   "metadata": {},
   "outputs": [
    {
     "data": {
      "text/plain": [
       "| Name   | Train   | Valid   |   Test |\n",
       "|--------|---------|---------|--------|\n",
       "| med_qa | -       | -       |     19 |\n",
       "\n",
       "Not loaded: ['aqua', 'asdiv', 'commonsense_qa', 'entailment_bank', 'gsm8k', 'mawps', 'med_qa_open', 'medmc_qa', '_init_', 'mmlu_clinical_knowledge', 'mmlu_college_biology', 'mmlu_college_medicine', 'mmlu_medical_genetics', 'mmlu_professional_medicine', '_init_', 'mmlu_anatomy', 'open_book_qa', 'pubmed_qa', 'qed', 'strategy_qa', 'svamp', 'worldtree']"
      ]
     },
     "execution_count": 15,
     "metadata": {},
     "output_type": "execute_result"
    }
   ],
   "source": [
    "med_qa_correct = med_qa_correct.select(split=\"test\", number_samples=19, random_samples=True, seed=0)\n",
    "med_qa_correct.dump(\"medqa_correct_gpt_4_sample_of_19\")\n",
    "med_qa_correct"
   ]
  },
  {
   "cell_type": "code",
   "execution_count": null,
   "metadata": {},
   "outputs": [],
   "source": [
    "#Generate with template 14\n",
    "\n",
    "absolute_path = \"/Users/robertpraas/Desktop/ThoughtSource/notebooks/reflection_messages/input_system/system_template_14_eval.yaml\"\n",
    "system_evaluate(medqa_total,'gpt-4',absolute_path)\n",
    "medqa_total.dump(\"med_qa_gpt_4_template_14\") \n",
    "scores_per_item, scores_per_objective, df = process_new_data(medqa_total,idx_cot=1)\n"
   ]
  },
  {
   "cell_type": "code",
   "execution_count": 23,
   "metadata": {},
   "outputs": [
    {
     "data": {
      "text/html": [
       "<div>\n",
       "<style scoped>\n",
       "    .dataframe tbody tr th:only-of-type {\n",
       "        vertical-align: middle;\n",
       "    }\n",
       "\n",
       "    .dataframe tbody tr th {\n",
       "        vertical-align: top;\n",
       "    }\n",
       "\n",
       "    .dataframe thead th {\n",
       "        text-align: right;\n",
       "    }\n",
       "</style>\n",
       "<table border=\"1\" class=\"dataframe\">\n",
       "  <thead>\n",
       "    <tr style=\"text-align: right;\">\n",
       "      <th></th>\n",
       "      <th>Average</th>\n",
       "    </tr>\n",
       "  </thead>\n",
       "  <tbody>\n",
       "    <tr>\n",
       "      <th>obj_1</th>\n",
       "      <td>10.000000</td>\n",
       "    </tr>\n",
       "    <tr>\n",
       "      <th>obj_2</th>\n",
       "      <td>9.710526</td>\n",
       "    </tr>\n",
       "    <tr>\n",
       "      <th>obj_3</th>\n",
       "      <td>9.973684</td>\n",
       "    </tr>\n",
       "    <tr>\n",
       "      <th>obj_4</th>\n",
       "      <td>9.736842</td>\n",
       "    </tr>\n",
       "    <tr>\n",
       "      <th>obj_5</th>\n",
       "      <td>9.947368</td>\n",
       "    </tr>\n",
       "    <tr>\n",
       "      <th>obj_6</th>\n",
       "      <td>9.710526</td>\n",
       "    </tr>\n",
       "    <tr>\n",
       "      <th>obj_7</th>\n",
       "      <td>8.710526</td>\n",
       "    </tr>\n",
       "    <tr>\n",
       "      <th>obj_8</th>\n",
       "      <td>10.000000</td>\n",
       "    </tr>\n",
       "    <tr>\n",
       "      <th>obj_9</th>\n",
       "      <td>9.131579</td>\n",
       "    </tr>\n",
       "    <tr>\n",
       "      <th>obj_10</th>\n",
       "      <td>9.973684</td>\n",
       "    </tr>\n",
       "    <tr>\n",
       "      <th>obj_11</th>\n",
       "      <td>10.000000</td>\n",
       "    </tr>\n",
       "  </tbody>\n",
       "</table>\n",
       "</div>"
      ],
      "text/plain": [
       "          Average\n",
       "obj_1   10.000000\n",
       "obj_2    9.710526\n",
       "obj_3    9.973684\n",
       "obj_4    9.736842\n",
       "obj_5    9.947368\n",
       "obj_6    9.710526\n",
       "obj_7    8.710526\n",
       "obj_8   10.000000\n",
       "obj_9    9.131579\n",
       "obj_10   9.973684\n",
       "obj_11  10.000000"
      ]
     },
     "execution_count": 23,
     "metadata": {},
     "output_type": "execute_result"
    }
   ],
   "source": [
    "df"
   ]
  },
  {
   "cell_type": "code",
   "execution_count": 30,
   "metadata": {},
   "outputs": [
    {
     "data": {
      "application/vnd.jupyter.widget-view+json": {
       "model_id": "d9fc7990e6674545b2d6df8e2a219fd9",
       "version_major": 2,
       "version_minor": 0
      },
      "text/plain": [
       "Creating json from Arrow format:   0%|          | 0/1 [00:00<?, ?ba/s]"
      ]
     },
     "metadata": {},
     "output_type": "display_data"
    },
    {
     "data": {
      "application/vnd.jupyter.widget-view+json": {
       "model_id": "4d8a9ed661b54ec79a0d3fc5fbb495c2",
       "version_major": 2,
       "version_minor": 0
      },
      "text/plain": [
       "Creating json from Arrow format:   0%|          | 0/1 [00:00<?, ?ba/s]"
      ]
     },
     "metadata": {},
     "output_type": "display_data"
    },
    {
     "data": {
      "text/plain": [
       "| Name   | Train   | Valid   |   Test |\n",
       "|--------|---------|---------|--------|\n",
       "| med_qa | -       | -       |     38 |\n",
       "\n",
       "Not loaded: ['aqua', 'asdiv', 'commonsense_qa', 'entailment_bank', 'gsm8k', 'mawps', 'med_qa_open', 'medmc_qa', '_init_', 'mmlu_clinical_knowledge', 'mmlu_college_biology', 'mmlu_college_medicine', 'mmlu_medical_genetics', 'mmlu_professional_medicine', '_init_', 'mmlu_anatomy', 'open_book_qa', 'pubmed_qa', 'qed', 'strategy_qa', 'svamp', 'worldtree']"
      ]
     },
     "execution_count": 30,
     "metadata": {},
     "output_type": "execute_result"
    }
   ],
   "source": [
    "medqa_total = med_qa_false.merge(med_qa_correct)\n",
    "medqa_total"
   ]
  },
  {
   "cell_type": "code",
   "execution_count": 31,
   "metadata": {},
   "outputs": [
    {
     "name": "stdout",
     "output_type": "stream",
     "text": [
      "Generating med_qa...\n"
     ]
    },
    {
     "data": {
      "application/vnd.jupyter.widget-view+json": {
       "model_id": "7a2539e97c1842f88b3cc29347d1f112",
       "version_major": 2,
       "version_minor": 0
      },
      "text/plain": [
       "  0%|          | 0/38 [00:00<?, ?ex/s]"
      ]
     },
     "metadata": {},
     "output_type": "display_data"
    },
    {
     "data": {
      "application/vnd.jupyter.widget-view+json": {
       "model_id": "6703e1ce1cc94186b13c3e1f9ab2d91f",
       "version_major": 2,
       "version_minor": 0
      },
      "text/plain": [
       "Creating json from Arrow format:   0%|          | 0/1 [00:00<?, ?ba/s]"
      ]
     },
     "metadata": {},
     "output_type": "display_data"
    }
   ],
   "source": [
    "#Generate with template 12\n",
    "\n",
    "absolute_path = \"/Users/robertpraas/Desktop/ThoughtSource/notebooks/reflection_messages/input_system/system_template_12_eval.yaml\"\n",
    "system_evaluate(medqa_total,'gpt-4',absolute_path)\n",
    "medqa_total.dump(\"med_qa_gpt_4_template_12\") \n",
    "scores_per_item, scores_per_objective, df = process_new_data(medqa_total,idx_cot=1)\n"
   ]
  },
  {
   "cell_type": "code",
   "execution_count": 32,
   "metadata": {},
   "outputs": [
    {
     "data": {
      "text/html": [
       "<div>\n",
       "<style scoped>\n",
       "    .dataframe tbody tr th:only-of-type {\n",
       "        vertical-align: middle;\n",
       "    }\n",
       "\n",
       "    .dataframe tbody tr th {\n",
       "        vertical-align: top;\n",
       "    }\n",
       "\n",
       "    .dataframe thead th {\n",
       "        text-align: right;\n",
       "    }\n",
       "</style>\n",
       "<table border=\"1\" class=\"dataframe\">\n",
       "  <thead>\n",
       "    <tr style=\"text-align: right;\">\n",
       "      <th></th>\n",
       "      <th>Average</th>\n",
       "    </tr>\n",
       "  </thead>\n",
       "  <tbody>\n",
       "    <tr>\n",
       "      <th>obj_1</th>\n",
       "      <td>10.000000</td>\n",
       "    </tr>\n",
       "    <tr>\n",
       "      <th>obj_2</th>\n",
       "      <td>9.447368</td>\n",
       "    </tr>\n",
       "    <tr>\n",
       "      <th>obj_3</th>\n",
       "      <td>10.000000</td>\n",
       "    </tr>\n",
       "    <tr>\n",
       "      <th>obj_4</th>\n",
       "      <td>9.394737</td>\n",
       "    </tr>\n",
       "    <tr>\n",
       "      <th>obj_5</th>\n",
       "      <td>9.789474</td>\n",
       "    </tr>\n",
       "    <tr>\n",
       "      <th>obj_6</th>\n",
       "      <td>9.447368</td>\n",
       "    </tr>\n",
       "    <tr>\n",
       "      <th>obj_7</th>\n",
       "      <td>8.368421</td>\n",
       "    </tr>\n",
       "    <tr>\n",
       "      <th>obj_8</th>\n",
       "      <td>9.973684</td>\n",
       "    </tr>\n",
       "    <tr>\n",
       "      <th>obj_9</th>\n",
       "      <td>8.868421</td>\n",
       "    </tr>\n",
       "    <tr>\n",
       "      <th>obj_10</th>\n",
       "      <td>9.842105</td>\n",
       "    </tr>\n",
       "    <tr>\n",
       "      <th>obj_11</th>\n",
       "      <td>10.000000</td>\n",
       "    </tr>\n",
       "  </tbody>\n",
       "</table>\n",
       "</div>"
      ],
      "text/plain": [
       "          Average\n",
       "obj_1   10.000000\n",
       "obj_2    9.447368\n",
       "obj_3   10.000000\n",
       "obj_4    9.394737\n",
       "obj_5    9.789474\n",
       "obj_6    9.447368\n",
       "obj_7    8.368421\n",
       "obj_8    9.973684\n",
       "obj_9    8.868421\n",
       "obj_10   9.842105\n",
       "obj_11  10.000000"
      ]
     },
     "execution_count": 32,
     "metadata": {},
     "output_type": "execute_result"
    }
   ],
   "source": [
    "df\n"
   ]
  },
  {
   "attachments": {},
   "cell_type": "markdown",
   "metadata": {},
   "source": [
    "## Openbook, Medmc for gpt-3.5"
   ]
  },
  {
   "cell_type": "code",
   "execution_count": null,
   "metadata": {},
   "outputs": [],
   "source": [
    "#template 12\n",
    "\n",
    "ob_zhou_12 = Collection.from_json(\"openbook_zhou_eval_chatgpt.json\")\n",
    "absolute_path = \"/Users/robertpraas/Desktop/ThoughtSource/notebooks/reflection_messages/input_system/system_template_12_eval.yaml\"\n",
    "system_evaluate(ob_zhou_12,'gpt-3.5-turbo',absolute_path)\n",
    "ob_zhou_12.dump(\"ob_template_12_chatgpt\")\n",
    "\n"
   ]
  },
  {
   "cell_type": "code",
   "execution_count": 25,
   "metadata": {},
   "outputs": [],
   "source": [
    "ob_zhou_12 = Collection.from_json(\"ob_template_12_chatgpt\")"
   ]
  },
  {
   "cell_type": "code",
   "execution_count": null,
   "metadata": {},
   "outputs": [],
   "source": [
    "scores_per_item, scores_per_objective, df = process_new_data(ob_zhou_12,idx_cot=1,dataset='open_book_qa',split='test')"
   ]
  },
  {
   "cell_type": "code",
   "execution_count": null,
   "metadata": {},
   "outputs": [],
   "source": [
    "#for template 14\n",
    "from cot import Collection\n",
    "ob_zhou_14 = Collection.from_json(\"openbook_zhou_eval_chatgpt.json\")\n",
    "absolute_path = \"/Users/robertpraas/Desktop/ThoughtSource/notebooks/reflection_messages/input_system/system_template_14_eval.yaml\"\n",
    "system_evaluate(ob_zhou_14,'gpt-3.5-turbo',absolute_path)\n",
    "ob_zhou_14.dump(\"ob_template_14_chatgpt\") \n"
   ]
  },
  {
   "cell_type": "code",
   "execution_count": 28,
   "metadata": {},
   "outputs": [
    {
     "name": "stdout",
     "output_type": "stream",
     "text": [
      "wrong output found\n",
      "wrong output found\n",
      "wrong output found\n",
      "wrong output found\n",
      "wrong output found\n",
      "wrong output found\n",
      "wrong output found\n",
      "obj_11 [10, 9, 10, 10, 10, 10, 10, 10, 10, 9, 10, 9, 10, 10, 10, 10, 10, 9, 10, 9, 10, 10, 10, 10, 10, 10, 10, 10, 10, 10, 10, 1, 10, 9, 10, 10, 10, 10, 9, 10, 10, 9, 10, 9, 10, 10, 10, 10, 10, 10, 10, 10, 10, 10, 10, 10, 10, 9, 10, 10, 10, 10, 10, 10, 10, 10, 10, 10, 10, 10, 10, 10, 9, 10, 10, 10, 10, 9, 10, 10, 10, 10, 10, 10, 10, 10, 10, 10, 10, 10, 10, 9, 10]\n",
      "obj_6 [9, 9, 9, 10, 10, 9, 10, 9, 9, 8, 10, 8, 10, 9, 9, 9, 8, 8, 10, 9, 10, 10, 10, 10, 10, 10, 10, 9, 9, 10, 10, 10, 10, 8, 9, 10, 9, 10, 9, 10, 9, 9, 10, 9, 10, 9, 10, 10, 9, 9, 9, 9, 10, 10, 9, 10, 10, 8, 9, 10, 9, 9, 10, 10, 10, 10, 10, 9, 10, 9, 9, 10, 8, 10, 10, 9, 9, 8, 10, 10, 8, 10, 10, 10, 9, 9, 10, 9, 10, 9, 10, 8, 10]\n",
      "obj_4 [10, 9, 10, 10, 10, 10, 10, 10, 10, 8, 10, 8, 10, 10, 10, 10, 8, 7, 10, 9, 10, 10, 10, 10, 10, 10, 10, 10, 10, 10, 10, 10, 10, 8, 10, 10, 10, 10, 9, 10, 10, 9, 10, 8, 10, 10, 10, 10, 10, 10, 10, 10, 10, 10, 9, 10, 10, 8, 10, 10, 8, 10, 10, 10, 10, 10, 10, 10, 10, 10, 10, 10, 8, 10, 10, 10, 10, 8, 10, 10, 8, 10, 10, 10, 10, 10, 10, 9, 10, 10, 10, 8, 10]\n",
      "obj_9 [7, 7, 8, 1, 9, 8, 10, 8, 8, 6, 8, 7, 10, 8, 7, 8, 6, 6, 9, 7, 10, 10, 10, 10, 9, 10, 8, 8, 8, 10, 9, 10, 7, 7, 9, 10, 8, 9, 7, 9, 8, 7, 10, 7, 10, 8, 10, 8, 8, 8, 8, 8, 8, 10, 8, 10, 10, 7, 8, 8, 6, 8, 8, 9, 10, 8, 8, 7, 9, 8, 9, 10, 7, 10, 10, 8, 8, 6, 10, 10, 6, 10, 10, 10, 8, 8, 9, 8, 10, 8, 10, 6, 9]\n",
      "obj_2 [10, 10, 10, 10, 10, 10, 10, 10, 10, 10, 10, 9, 10, 10, 10, 10, 10, 10, 10, 10, 10, 10, 10, 10, 10, 10, 10, 10, 10, 10, 10, 10, 10, 10, 10, 10, 10, 10, 10, 10, 10, 10, 10, 10, 10, 10, 10, 10, 10, 10, 10, 10, 10, 10, 10, 10, 10, 9, 10, 10, 10, 10, 10, 10, 10, 10, 10, 10, 10, 10, 10, 10, 9, 10, 10, 10, 10, 10, 10, 10, 10, 10, 10, 10, 10, 10, 10, 10, 10, 10, 10, 9, 10]\n",
      "obj_3 [8, 8, 8, 1, 9, 10, 10, 8, 8, 7, 9, 7, 8, 8, 8, 8, 5, 5, 10, 8, 10, 10, 10, 10, 8, 10, 8, 8, 9, 10, 9, 10, 8, 7, 8, 10, 8, 10, 7, 9, 9, 8, 10, 7, 10, 8, 10, 8, 8, 8, 8, 8, 9, 10, 8, 10, 10, 7, 8, 9, 7, 8, 8, 9, 10, 9, 9, 8, 9, 9, 8, 10, 8, 10, 10, 8, 8, 7, 10, 10, 7, 10, 10, 10, 8, 8, 9, 8, 10, 8, 10, 7, 9]\n",
      "obj_10 [8, 8, 9, 10, 10, 9, 10, 9, 10, 7, 9, 8, 10, 9, 8, 10, 8, 7, 9, 8, 10, 10, 10, 10, 10, 10, 10, 9, 9, 10, 10, 10, 9, 8, 10, 10, 9, 10, 8, 10, 9, 8, 10, 8, 10, 10, 10, 9, 10, 9, 9, 9, 9, 10, 9, 10, 10, 8, 9, 9, 7, 9, 10, 10, 10, 10, 9, 8, 10, 8, 9, 10, 8, 10, 10, 9, 10, 8, 10, 10, 8, 10, 10, 10, 9, 10, 9, 9, 10, 10, 10, 8, 10]\n",
      "obj_5 [9, 8, 9, 10, 9, 8, 10, 9, 9, 7, 9, 8, 9, 9, 9, 9, 7, 6, 9, 8, 10, 10, 10, 10, 9, 10, 9, 9, 9, 9, 9, 10, 9, 7, 9, 10, 9, 9, 8, 9, 9, 8, 10, 8, 10, 9, 10, 9, 9, 9, 9, 9, 9, 10, 9, 10, 10, 7, 9, 9, 8, 9, 9, 10, 10, 9, 9, 9, 9, 9, 9, 10, 7, 10, 10, 9, 9, 8, 10, 10, 7, 10, 10, 10, 9, 9, 9, 8, 10, 9, 10, 7, 10]\n",
      "obj_8 [10, 9, 10, 10, 10, 10, 10, 10, 10, 9, 10, 9, 10, 10, 10, 10, 9, 9, 10, 9, 10, 10, 10, 10, 10, 10, 10, 10, 10, 10, 10, 10, 10, 9, 10, 10, 10, 10, 9, 10, 10, 9, 10, 9, 10, 10, 10, 10, 10, 10, 10, 10, 10, 10, 10, 10, 10, 9, 10, 10, 9, 10, 10, 10, 10, 10, 10, 10, 10, 10, 10, 10, 9, 10, 10, 10, 10, 9, 10, 10, 9, 10, 10, 10, 10, 10, 10, 10, 10, 10, 10, 9, 10]\n",
      "obj_7 [9, 8, 9, 10, 10, 9, 10, 9, 9, 8, 9, 8, 10, 9, 9, 9, 8, 7, 10, 8, 10, 10, 10, 10, 10, 10, 10, 9, 10, 10, 10, 10, 10, 8, 9, 10, 9, 10, 8, 10, 9, 8, 10, 8, 10, 9, 10, 9, 9, 9, 9, 9, 10, 10, 9, 10, 10, 8, 9, 10, 8, 9, 9, 10, 10, 9, 10, 10, 10, 9, 10, 10, 8, 10, 10, 9, 9, 8, 10, 10, 8, 10, 10, 10, 9, 9, 10, 9, 10, 9, 10, 7, 10]\n",
      "obj_1 [10, 9, 9, 10, 10, 9, 10, 10, 10, 8, 10, 9, 10, 10, 10, 10, 8, 8, 10, 9, 10, 10, 10, 10, 10, 10, 10, 10, 10, 10, 10, 10, 10, 8, 10, 10, 10, 10, 8, 10, 10, 9, 10, 9, 10, 10, 10, 10, 10, 10, 10, 10, 10, 10, 10, 10, 10, 8, 10, 10, 8, 10, 10, 10, 10, 10, 10, 10, 10, 10, 10, 10, 8, 10, 10, 9, 10, 9, 10, 10, 8, 10, 10, 10, 10, 10, 10, 9, 10, 10, 10, 8, 10]\n"
     ]
    }
   ],
   "source": [
    "scores_per_item, scores_per_objective, df = process_new_data(ob_zhou_14,idx_cot=1,dataset='open_book_qa',split='test')"
   ]
  },
  {
   "cell_type": "code",
   "execution_count": 45,
   "metadata": {},
   "outputs": [
    {
     "name": "stdout",
     "output_type": "stream",
     "text": [
      "         Average\n",
      "obj_1   9.677419\n",
      "obj_2   9.956989\n",
      "obj_3   8.537634\n",
      "obj_4   9.666667\n",
      "obj_5   9.010753\n",
      "obj_6   9.397849\n",
      "obj_7   9.301075\n",
      "obj_8   9.827957\n",
      "obj_9   8.344086\n",
      "obj_10  9.258065\n",
      "obj_11  9.763441\n",
      "scores true: 9.269972451790634\n",
      "scores false: 9.511784511784512\n"
     ]
    },
    {
     "data": {
      "image/png": "[encoded data removed]",
      "text/plain": [
       "<Figure size 432x288 with 1 Axes>"
      ]
     },
     "metadata": {
      "needs_background": "light"
     },
     "output_type": "display_data"
    },
    {
     "data": {
      "image/png": "[encoded data removed]",
      "text/plain": [
       "<Figure size 432x288 with 1 Axes>"
      ]
     },
     "metadata": {
      "needs_background": "light"
     },
     "output_type": "display_data"
    }
   ],
   "source": [
    "print(df)\n",
    "avg_true_false(ob_zhou_14,'open_book_qa','test')\n",
    "freq_bar_plot(scores_per_item)\n",
    "avg_item_plot(scores_per_objective)"
   ]
  },
  {
   "attachments": {},
   "cell_type": "markdown",
   "metadata": {},
   "source": [
    "## Writing about statements makes AI more critical"
   ]
  },
  {
   "cell_type": "code",
   "execution_count": 94,
   "metadata": {},
   "outputs": [
    {
     "data": {
      "text/plain": [
       "| Name   | Train   | Valid   |   Test |\n",
       "|--------|---------|---------|--------|\n",
       "| med_qa | -       | -       |     15 |\n",
       "\n",
       "Not loaded: ['aqua', 'asdiv', 'commonsense_qa', 'entailment_bank', 'gsm8k', 'mawps', 'med_qa_open', 'medmc_qa', '_init_', 'mmlu_clinical_knowledge', 'mmlu_college_biology', 'mmlu_college_medicine', 'mmlu_medical_genetics', 'mmlu_professional_medicine', '_init_', 'mmlu_anatomy', 'open_book_qa', 'pubmed_qa', 'qed', 'strategy_qa', 'svamp', 'worldtree']"
      ]
     },
     "execution_count": 94,
     "metadata": {},
     "output_type": "execute_result"
    }
   ],
   "source": [
    "#test for bigger dataset\n",
    "from cot import Collection\n",
    "cohere = Collection.from_json(\"./med_qa_zhou_cohere.json\")\n",
    "cohere.select_generated_cots(answer=False)\n",
    "cohere_false = cohere.filter(lambda x: len(x[\"generated_cot\"])==1)\n",
    "cohere_false = cohere_false.select(split=\"test\", number_samples=15, random_samples=True, seed=0)\n",
    "\n",
    "cohere_false\n"
   ]
  },
  {
   "cell_type": "code",
   "execution_count": 100,
   "metadata": {},
   "outputs": [
    {
     "name": "stdout",
     "output_type": "stream",
     "text": [
      "Generating med_qa...\n"
     ]
    }
   ],
   "source": [
    "absolute_path = \"./input_system/system_template_15_eval.yaml\"\n",
    "system_evaluate(cohere_false,'gpt-3.5-turbo',absolute_path)"
   ]
  },
  {
   "cell_type": "code",
   "execution_count": 102,
   "metadata": {},
   "outputs": [
    {
     "data": {
      "text/plain": [
       "\"obj_1: The response accurately interprets the question and breaks it down by providing relevant information from the patient's history, examination, and investigations.\\n- [9]\\n\\nobj_2: The response considers all relevant information and specifically avoids considering irrelevant information.\\n- [9]\\n\\nobj_3: The response is sensitive to the numerical information provided by the user, accurately interpreting and incorporating it into the response by mentioning the patient's age and the fact that she had a similar episode affecting the opposite leg one year ago.\\n- [8]\\n\\nobj_4: The response considers all relevant reasoning strategies and selects the most appropriate reasoning strategy by identifying the most likely pathophysiology of the patient's condition based on her history, examination, and investigations.\\n- [9]\\n\\nobj_5: The reasoning in the response is structured at an appropriate level of detail by providing a clear and concise explanation of the most likely pathophysiology of the patient's condition.\\n- [8]\\n\\nobj_6: The response gives appropriate priorities to different considerations based on their relevance and importance by identifying the most likely pathophysiology of the patient's condition and explaining why it is the most likely cause.\\n- [9]\\n\\nobj_7: The response lists and considers all relevant underlying assumptions by mentioning that the patient\""
      ]
     },
     "execution_count": 102,
     "metadata": {},
     "output_type": "execute_result"
    }
   ],
   "source": [
    "cohere_false['med_qa']['test'][0]['generated_cot'][1]['cot']"
   ]
  },
  {
   "cell_type": "code",
   "execution_count": 103,
   "metadata": {},
   "outputs": [],
   "source": [
    "cohere_false.dump(\"cohere_false_check\")"
   ]
  },
  {
   "cell_type": "code",
   "execution_count": 94,
   "metadata": {},
   "outputs": [
    {
     "data": {
      "text/plain": [
       "| Name   | Train   | Valid   |   Test |\n",
       "|--------|---------|---------|--------|\n",
       "| med_qa | -       | -       |     15 |\n",
       "\n",
       "Not loaded: ['aqua', 'asdiv', 'commonsense_qa', 'entailment_bank', 'gsm8k', 'mawps', 'med_qa_open', 'medmc_qa', '_init_', 'mmlu_clinical_knowledge', 'mmlu_college_biology', 'mmlu_college_medicine', 'mmlu_medical_genetics', 'mmlu_professional_medicine', '_init_', 'mmlu_anatomy', 'open_book_qa', 'pubmed_qa', 'qed', 'strategy_qa', 'svamp', 'worldtree']"
      ]
     },
     "execution_count": 94,
     "metadata": {},
     "output_type": "execute_result"
    }
   ],
   "source": [
    "cohere_false = Collection.from_json(\"cohere_false_check\")\n",
    "cohere_false"
   ]
  },
  {
   "cell_type": "code",
   "execution_count": null,
   "metadata": {},
   "outputs": [],
   "source": [
    "# TEMPLATE 15"
   ]
  },
  {
   "cell_type": "code",
   "execution_count": 117,
   "metadata": {},
   "outputs": [],
   "source": [
    "scores_per_item, variables_per_item = parse_data(data,idx_cot=1,dataset='med_qa',split='test')\n",
    "scores_per_item = fix_str_score(scores_per_item)\n",
    "scores_per_objective, df = get_further_data(scores_per_item)"
   ]
  },
  {
   "cell_type": "code",
   "execution_count": 128,
   "metadata": {},
   "outputs": [
    {
     "name": "stdout",
     "output_type": "stream",
     "text": [
      "         Average\n",
      "obj_1   5.771739\n",
      "obj_2   7.347826\n",
      "obj_3   5.978261\n",
      "obj_4   5.347826\n",
      "obj_5   5.239130\n",
      "obj_6   5.923913\n",
      "obj_7   5.467391\n",
      "obj_8   6.260870\n",
      "obj_9   4.271739\n",
      "obj_10  5.673913\n",
      "obj_11  5.782609\n"
     ]
    },
    {
     "data": {
      "image/png": "[encoded data removed]",
      "text/plain": [
       "<Figure size 432x288 with 1 Axes>"
      ]
     },
     "metadata": {
      "needs_background": "light"
     },
     "output_type": "display_data"
    },
    {
     "data": {
      "image/png": "[encoded data removed]",
      "text/plain": [
       "<Figure size 432x288 with 1 Axes>"
      ]
     },
     "metadata": {
      "needs_background": "light"
     },
     "output_type": "display_data"
    }
   ],
   "source": [
    "# parse yaml first\n",
    "print(df)\n",
    "average_per_item = [sum(d.values()) / len(d) for d in scores_per_item]\n",
    "#avg_true_false(cohere_false,average_per_item,'med_qa','test')\n",
    "freq_bar_plot(scores_per_item)\n",
    "avg_item_plot(scores_per_objective)"
   ]
  },
  {
   "cell_type": "code",
   "execution_count": null,
   "metadata": {},
   "outputs": [],
   "source": [
    "#compare template 15 with 14, does it matter wether you write output?"
   ]
  },
  {
   "cell_type": "code",
   "execution_count": 129,
   "metadata": {},
   "outputs": [
    {
     "name": "stdout",
     "output_type": "stream",
     "text": [
      "Generating med_qa...\n"
     ]
    }
   ],
   "source": [
    "absolute_path = \"./input_system/system_template_14_eval.yaml\"\n",
    "system_evaluate(cohere_false,'gpt-3.5-turbo',absolute_path)\n"
   ]
  },
  {
   "cell_type": "code",
   "execution_count": 132,
   "metadata": {},
   "outputs": [],
   "source": [
    "#scores_per_item, scores_per_objective, df = process_new_data(med_co,idx_cot=2,dataset='med_qa',split='test')\n",
    "\n",
    "scores_per_item, variables_per_item = parse_data(cohere_false,idx_cot=2,dataset='med_qa',split='test')\n",
    "scores_per_item = fix_str_score(scores_per_item)\n",
    "scores_per_objective, df = get_further_data(scores_per_item)"
   ]
  },
  {
   "cell_type": "code",
   "execution_count": 133,
   "metadata": {},
   "outputs": [
    {
     "name": "stdout",
     "output_type": "stream",
     "text": [
      "         Average\n",
      "obj_1   9.066667\n",
      "obj_2   9.600000\n",
      "obj_3   8.066667\n",
      "obj_4   9.000000\n",
      "obj_5   7.933333\n",
      "obj_6   8.733333\n",
      "obj_7   8.733333\n",
      "obj_8   9.466667\n",
      "obj_9   7.933333\n",
      "obj_10  8.866667\n",
      "obj_11  9.533333\n"
     ]
    },
    {
     "data": {
      "image/png": "[encoded data removed]",
      "text/plain": [
       "<Figure size 432x288 with 1 Axes>"
      ]
     },
     "metadata": {
      "needs_background": "light"
     },
     "output_type": "display_data"
    },
    {
     "data": {
      "image/png": "[encoded data removed]",
      "text/plain": [
       "<Figure size 432x288 with 1 Axes>"
      ]
     },
     "metadata": {
      "needs_background": "light"
     },
     "output_type": "display_data"
    }
   ],
   "source": [
    "# parse yaml first\n",
    "print(df)\n",
    "average_per_item = [sum(d.values()) / len(d) for d in scores_per_item]\n",
    "freq_bar_plot(scores_per_item)\n",
    "avg_item_plot(scores_per_objective)"
   ]
  },
  {
   "cell_type": "code",
   "execution_count": null,
   "metadata": {},
   "outputs": [],
   "source": [
    "#Now test if giving a legend works as well"
   ]
  },
  {
   "cell_type": "code",
   "execution_count": 134,
   "metadata": {},
   "outputs": [
    {
     "name": "stdout",
     "output_type": "stream",
     "text": [
      "Generating med_qa...\n"
     ]
    }
   ],
   "source": [
    "absolute_path = \"./input_system/system_template_18.yaml\"\n",
    "system_evaluate(cohere_false,'gpt-3.5-turbo',absolute_path)\n",
    "cohere_false.dump(\"medqa_cohere_template_15_14_18\")"
   ]
  },
  {
   "cell_type": "code",
   "execution_count": 135,
   "metadata": {},
   "outputs": [],
   "source": [
    "scores_per_item, variables_per_item = parse_data(cohere_false,idx_cot=3,dataset='med_qa',split='test')\n",
    "scores_per_item = fix_str_score(scores_per_item)\n",
    "scores_per_objective, df = get_further_data(scores_per_item)"
   ]
  },
  {
   "cell_type": "code",
   "execution_count": 136,
   "metadata": {},
   "outputs": [
    {
     "name": "stdout",
     "output_type": "stream",
     "text": [
      "         Average\n",
      "obj_1   8.600000\n",
      "obj_2   9.266667\n",
      "obj_3   7.733333\n",
      "obj_4   8.400000\n",
      "obj_5   7.333333\n",
      "obj_6   8.066667\n",
      "obj_7   7.600000\n",
      "obj_8   8.933333\n",
      "obj_9   7.466667\n",
      "obj_10  8.333333\n",
      "obj_11  9.333333\n"
     ]
    },
    {
     "data": {
      "image/png": "[encoded data removed]",
      "text/plain": [
       "<Figure size 432x288 with 1 Axes>"
      ]
     },
     "metadata": {
      "needs_background": "light"
     },
     "output_type": "display_data"
    },
    {
     "data": {
      "image/png": "[encoded data removed]",
      "text/plain": [
       "<Figure size 432x288 with 1 Axes>"
      ]
     },
     "metadata": {
      "needs_background": "light"
     },
     "output_type": "display_data"
    }
   ],
   "source": [
    "print(df)\n",
    "average_per_item = [sum(d.values()) / len(d) for d in scores_per_item]\n",
    "freq_bar_plot(scores_per_item)\n",
    "avg_item_plot(scores_per_objective)"
   ]
  },
  {
   "cell_type": "code",
   "execution_count": 137,
   "metadata": {},
   "outputs": [
    {
     "name": "stdout",
     "output_type": "stream",
     "text": [
      "Generating med_qa...\n"
     ]
    }
   ],
   "source": [
    "#template 15 +18 -> 22 \"\"\"Does not seem to work and rather confuse\"\"\"\n",
    "absolute_path = \"./input_system/system_template_22.yaml\"\n",
    "system_evaluate(cohere_false,'gpt-3.5-turbo',absolute_path)\n",
    "cohere_false.dump(\"medqa_cohere_template_15_14_18_22\")"
   ]
  },
  {
   "cell_type": "code",
   "execution_count": 148,
   "metadata": {},
   "outputs": [
    {
     "data": {
      "text/plain": [
       "\"obj_1: The response accurately interprets the question and breaks it down by providing relevant information from the patient's history and examination.\\n- Good\\nobj_2: The response considers all relevant information and specifically avoids considering irrelevant information.\\n- Good\\nobj_3: The response is sensitive to the numerical information provided by the user and accurately incorporates it into the response by mentioning the patient's history of thrombus in the right femoral vein and a genetic workup revealing an inherited condition.\\n- Good\\nobj_4: The response considers all relevant reasoning strategies and selects the most appropriate reasoning strategy by identifying protein C deficiency as a natural anticoagulant.\\n- Good\\nobj_5: The reasoning in the response is structured at an appropriate level of detail by providing a clear explanation of the patient's condition and the role of protein C deficiency in it.\\n- Good\\nobj_6: The response gives appropriate priorities to different considerations based on their relevance and importance by identifying protein C deficiency as the most likely pathophysiology of the patient's condition.\\n- Good\\nobj_7: The response lists and considers all relevant underlying assumptions by mentioning that the patient has an inherited condition and that protein C is a natural anticoagulant.\\n- Good\\nobj_8: The\""
      ]
     },
     "execution_count": 148,
     "metadata": {},
     "output_type": "execute_result"
    }
   ],
   "source": [
    "cohere_false['med_qa']['test'][0]['generated_cot'][4]['cot']"
   ]
  },
  {
   "cell_type": "code",
   "execution_count": null,
   "metadata": {},
   "outputs": [],
   "source": [
    "\"\"\"many wrong outputs\"\"\"\n",
    "scores_per_item, variables_per_item = parse_data(cohere_false,idx_cot=4,dataset='med_qa',split='test')\n",
    "scores_per_item = fix_str_score(scores_per_item)\n",
    "scores_per_objective, df = get_further_data(scores_per_item)"
   ]
  },
  {
   "cell_type": "code",
   "execution_count": null,
   "metadata": {},
   "outputs": [],
   "source": [
    "print(df)\n",
    "average_per_item = [sum(d.values()) / len(d) for d in scores_per_item]\n",
    "freq_bar_plot(scores_per_item)\n",
    "avg_item_plot(scores_per_objective)"
   ]
  },
  {
   "cell_type": "code",
   "execution_count": 149,
   "metadata": {},
   "outputs": [
    {
     "name": "stdout",
     "output_type": "stream",
     "text": [
      "Generating med_qa...\n"
     ]
    }
   ],
   "source": [
    "absolute_path = \"./input_system/system_template_20.yaml\"\n",
    "system_evaluate(cohere_false,'gpt-3.5-turbo',absolute_path)\n"
   ]
  },
  {
   "cell_type": "code",
   "execution_count": 150,
   "metadata": {},
   "outputs": [],
   "source": [
    "scores_per_item, variables_per_item = parse_data(cohere_false,idx_cot=5,dataset='med_qa',split='test')\n",
    "scores_per_item = fix_str_score(scores_per_item)\n",
    "scores_per_objective, df = get_further_data(scores_per_item)"
   ]
  },
  {
   "cell_type": "code",
   "execution_count": 151,
   "metadata": {},
   "outputs": [
    {
     "name": "stdout",
     "output_type": "stream",
     "text": [
      "         Average\n",
      "obj_1   6.400000\n",
      "obj_2   8.066667\n",
      "obj_3   6.266667\n",
      "obj_4   6.066667\n",
      "obj_5   5.466667\n",
      "obj_6   6.400000\n",
      "obj_7   5.800000\n",
      "obj_8   6.733333\n",
      "obj_9   4.866667\n",
      "obj_10  6.333333\n",
      "obj_11  6.400000\n"
     ]
    },
    {
     "data": {
      "image/png": "[encoded data removed]",
      "text/plain": [
       "<Figure size 432x288 with 1 Axes>"
      ]
     },
     "metadata": {
      "needs_background": "light"
     },
     "output_type": "display_data"
    },
    {
     "data": {
      "image/png": "[encoded data removed]",
      "text/plain": [
       "<Figure size 432x288 with 1 Axes>"
      ]
     },
     "metadata": {
      "needs_background": "light"
     },
     "output_type": "display_data"
    }
   ],
   "source": [
    "print(df)\n",
    "average_per_item = [sum(d.values()) / len(d) for d in scores_per_item]\n",
    "freq_bar_plot(scores_per_item)\n",
    "avg_item_plot(scores_per_objective)"
   ]
  },
  {
   "attachments": {},
   "cell_type": "markdown",
   "metadata": {},
   "source": [
    "## GPT-4 assess GPT-3.5"
   ]
  },
  {
   "cell_type": "code",
   "execution_count": 76,
   "metadata": {},
   "outputs": [
    {
     "data": {
      "text/plain": [
       "| Name   | Train   | Valid   |   Test |\n",
       "|--------|---------|---------|--------|\n",
       "| med_qa | -       | -       |      5 |\n",
       "\n",
       "Not loaded: ['aqua', 'asdiv', 'commonsense_qa', 'entailment_bank', 'gsm8k', 'mawps', 'med_qa_open', 'medmc_qa', '_init_', 'mmlu_clinical_knowledge', 'mmlu_college_biology', 'mmlu_college_medicine', 'mmlu_medical_genetics', 'mmlu_professional_medicine', '_init_', 'mmlu_anatomy', 'open_book_qa', 'pubmed_qa', 'qed', 'strategy_qa', 'svamp', 'worldtree']"
      ]
     },
     "execution_count": 76,
     "metadata": {},
     "output_type": "execute_result"
    }
   ],
   "source": [
    "data = Collection.from_json(\"med_qa_zhou_eval.json\")\n",
    "data = data.select(split=\"test\", number_samples=5, random_samples=True, seed=0)\n",
    "data\n"
   ]
  },
  {
   "cell_type": "code",
   "execution_count": null,
   "metadata": {},
   "outputs": [],
   "source": [
    "absolute_path = \"./input_system/system_template_14_eval.yaml\"\n",
    "system_evaluate(data,'gpt-4',absolute_path)\n",
    "# medqa_total.dump(\"med_qa_gpt_4_template_12\") \n"
   ]
  },
  {
   "cell_type": "code",
   "execution_count": 79,
   "metadata": {},
   "outputs": [
    {
     "name": "stdout",
     "output_type": "stream",
     "text": [
      "obj_11 [10, 6, 10, 10, 10]\n",
      "obj_6 [10, 8, 9, 8, 10]\n",
      "obj_4 [10, 8, 9, 8, 10]\n",
      "obj_9 [9, 7, 9, 7, 9]\n",
      "obj_2 [10, 8, 9, 8, 10]\n",
      "obj_3 [10, 8, 10, 10, 10]\n",
      "obj_10 [10, 9, 10, 9, 10]\n",
      "obj_5 [10, 9, 9, 9, 10]\n",
      "obj_8 [10, 8, 10, 9, 10]\n",
      "obj_7 [9, 7, 8, 7, 9]\n",
      "obj_1 [10, 9, 10, 9, 10]\n"
     ]
    }
   ],
   "source": [
    "scores_per_item, scores_per_objective, df = process_new_data(data,idx_cot=1,dataset='med_qa',split='test')"
   ]
  },
  {
   "cell_type": "code",
   "execution_count": 80,
   "metadata": {},
   "outputs": [
    {
     "data": {
      "application/vnd.jupyter.widget-view+json": {
       "model_id": "da662b32096745b7b4098fab44a6b6b8",
       "version_major": 2,
       "version_minor": 0
      },
      "text/plain": [
       "Creating json from Arrow format:   0%|          | 0/1 [00:00<?, ?ba/s]"
      ]
     },
     "metadata": {},
     "output_type": "display_data"
    }
   ],
   "source": [
    "data.dump(\"test_gpt4_on_3_14\")"
   ]
  },
  {
   "cell_type": "code",
   "execution_count": 74,
   "metadata": {},
   "outputs": [
    {
     "name": "stdout",
     "output_type": "stream",
     "text": [
      "Generating med_qa...\n"
     ]
    },
    {
     "data": {
      "application/vnd.jupyter.widget-view+json": {
       "model_id": "f9e59049e6d9473dac0bd5197fda73bf",
       "version_major": 2,
       "version_minor": 0
      },
      "text/plain": [
       "  0%|          | 0/1 [00:00<?, ?ex/s]"
      ]
     },
     "metadata": {},
     "output_type": "display_data"
    }
   ],
   "source": [
    "absolute_path = \"./input_system/system_template_12_eval.yaml\"\n",
    "system_evaluate(data,'gpt-4',absolute_path)\n",
    "# medqa_total.dump(\"med_qa_gpt_4_template_12\") \n",
    "scores_per_item, scores_per_objective, df = process_new_data(medqa_total,idx_cot=1)"
   ]
  },
  {
   "cell_type": "code",
   "execution_count": 75,
   "metadata": {},
   "outputs": [
    {
     "data": {
      "text/plain": [
       "'obj_1: 10\\nobj_2: 9\\nobj_3: 10\\nobj_4: 9\\nobj_5: 9\\nobj_6: 9\\nobj_7: 8\\nobj_8: 9\\nobj_9: 9\\nobj_10: 9\\nobj_11: 10'"
      ]
     },
     "execution_count": 75,
     "metadata": {},
     "output_type": "execute_result"
    }
   ],
   "source": [
    "data['med_qa']['test'][0]['generated_cot'][2]['cot']"
   ]
  },
  {
   "cell_type": "code",
   "execution_count": null,
   "metadata": {},
   "outputs": [],
   "source": [
    "absolute_path = \"./input_system/system_template_16_eval.yaml\"\n",
    "system_evaluate(med_zhou,'gpt-3.5-turbo',absolute_path)"
   ]
  },
  {
   "cell_type": "code",
   "execution_count": null,
   "metadata": {},
   "outputs": [],
   "source": [
    "#new"
   ]
  },
  {
   "cell_type": "code",
   "execution_count": 142,
   "metadata": {},
   "outputs": [
    {
     "name": "stdout",
     "output_type": "stream",
     "text": [
      "Generating med_qa...\n"
     ]
    },
    {
     "data": {
      "application/vnd.jupyter.widget-view+json": {
       "model_id": "82a4d7afe12f41ae964352f272daff44",
       "version_major": 2,
       "version_minor": 0
      },
      "text/plain": [
       "  0%|          | 0/10 [00:00<?, ?ex/s]"
      ]
     },
     "metadata": {},
     "output_type": "display_data"
    },
    {
     "data": {
      "application/vnd.jupyter.widget-view+json": {
       "model_id": "33467df3ebe24154b9ac4802c9a30d3a",
       "version_major": 2,
       "version_minor": 0
      },
      "text/plain": [
       "Creating json from Arrow format:   0%|          | 0/1 [00:00<?, ?ba/s]"
      ]
     },
     "metadata": {},
     "output_type": "display_data"
    }
   ],
   "source": [
    "data = Collection.from_json(\"medqa_false_gpt_4.json\")\n",
    "absolute_path = \"./input_system/system_template_20.yaml\"\n",
    "data = data.select(split=\"test\", number_samples=10, random_samples=True, seed=0)\n",
    "system_evaluate(data,'gpt-4',absolute_path)\n",
    "data.dump(\"gpt_4_false_critique\")"
   ]
  },
  {
   "cell_type": "code",
   "execution_count": 152,
   "metadata": {},
   "outputs": [],
   "source": [
    "data = Collection.from_json(\"gpt_4_false_critique\")"
   ]
  },
  {
   "cell_type": "code",
   "execution_count": 155,
   "metadata": {},
   "outputs": [
    {
     "name": "stdout",
     "output_type": "stream",
     "text": [
      "        Average\n",
      "obj_1       9.7\n",
      "obj_2       8.7\n",
      "obj_3       9.9\n",
      "obj_4       8.9\n",
      "obj_5       9.4\n",
      "obj_6       8.6\n",
      "obj_7       7.9\n",
      "obj_8       9.2\n",
      "obj_9       8.3\n",
      "obj_10      8.9\n",
      "obj_11      9.6\n"
     ]
    },
    {
     "data": {
      "image/png": "[encoded data removed]",
      "text/plain": [
       "<Figure size 432x288 with 1 Axes>"
      ]
     },
     "metadata": {
      "needs_background": "light"
     },
     "output_type": "display_data"
    },
    {
     "data": {
      "image/png": "[encoded data removed]",
      "text/plain": [
       "<Figure size 432x288 with 1 Axes>"
      ]
     },
     "metadata": {
      "needs_background": "light"
     },
     "output_type": "display_data"
    }
   ],
   "source": [
    "scores_per_item, variables_per_item = parse_data(data,idx_cot=1,dataset='med_qa',split='test')\n",
    "scores_per_item = fix_str_score(scores_per_item)\n",
    "scores_per_objective, df = get_further_data(scores_per_item)\n",
    "print(df)\n",
    "average_per_item = [sum(d.values()) / len(d) for d in scores_per_item]\n",
    "#avg_true_false(cohere_false,average_per_item,'med_qa','test')\n",
    "freq_bar_plot(scores_per_item)\n",
    "avg_item_plot(scores_per_objective)"
   ]
  },
  {
   "cell_type": "code",
   "execution_count": 157,
   "metadata": {},
   "outputs": [
    {
     "name": "stdout",
     "output_type": "stream",
     "text": [
      "Generating med_qa...\n"
     ]
    },
    {
     "data": {
      "application/vnd.jupyter.widget-view+json": {
       "model_id": "c9ab1fa9e8864e959d96545e550c2c01",
       "version_major": 2,
       "version_minor": 0
      },
      "text/plain": [
       "  0%|          | 0/10 [00:00<?, ?ex/s]"
      ]
     },
     "metadata": {},
     "output_type": "display_data"
    },
    {
     "name": "stdout",
     "output_type": "stream",
     "text": [
      "(API-)Error in item 9: Bad gateway. {\"error\":{\"code\":502,\"message\":\"Bad gateway.\",\"param\":null,\"type\":\"cf_bad_gateway\"}} 502 {'error': {'code': 502, 'message': 'Bad gateway.', 'param': None, 'type': 'cf_bad_gateway'}} {'Date': 'Tue, 30 May 2023 14:15:39 GMT', 'Content-Type': 'application/json', 'Content-Length': '84', 'Connection': 'keep-alive', 'X-Frame-Options': 'SAMEORIGIN', 'Referrer-Policy': 'same-origin', 'Cache-Control': 'private, max-age=0, no-store, no-cache, must-revalidate, post-check=0, pre-check=0', 'Expires': 'Thu, 01 Jan 1970 00:00:01 GMT', 'Server': 'cloudflare', 'CF-RAY': '7cf78daebd53c2e6-VIE', 'alt-svc': 'h3=\":443\"; ma=86400'}\n",
      "Retrying with additional time of 10 seconds.\n"
     ]
    }
   ],
   "source": [
    "absolute_path = \"./input_system/system_template_15_eval.yaml\"\n",
    "system_evaluate(data,'gpt-4',absolute_path)"
   ]
  },
  {
   "cell_type": "code",
   "execution_count": 167,
   "metadata": {},
   "outputs": [
    {
     "data": {
      "text/plain": [
       "{'obj_1': ['Accurately interprets the question and breaks it down into relevant steps.',\n",
       "  10],\n",
       " 'obj_2': ['Considers all relevant information and avoids irrelevant information.',\n",
       "  10],\n",
       " 'obj_3': ['N/A (no numerical information provided)', 'N/A'],\n",
       " 'obj_4': ['Considers the lymphatic route and selects the most appropriate reasoning strategy.',\n",
       "  10],\n",
       " 'obj_5': ['Reasoning is structured through steps and provides an appropriate level of detail.',\n",
       "  10],\n",
       " 'obj_6': ['Gives appropriate priorities to different considerations based on their relevance and importance.',\n",
       "  10],\n",
       " 'obj_7': [\"Considers relevant underlying assumptions, such as the patient's ethnicity and the location of the sentinel nodes.\",\n",
       "  10],\n",
       " 'obj_8': ['The response is plausible, logically valid, sound, consistent, and coherent.',\n",
       "  10],\n",
       " 'obj_9': ['Statements are supported by the reasoning provided, but no external evidence is referenced.',\n",
       "  7],\n",
       " 'obj_10': ['Contains accurate and relevant information, but could be more engaging.',\n",
       "  8],\n",
       " 'obj_11': ['Provides a single final answer based on the reasoning and verifies that it corresponds']}"
      ]
     },
     "execution_count": 167,
     "metadata": {},
     "output_type": "execute_result"
    }
   ],
   "source": [
    "scores_per_item[7]"
   ]
  },
  {
   "cell_type": "code",
   "execution_count": 158,
   "metadata": {},
   "outputs": [
    {
     "data": {
      "application/vnd.jupyter.widget-view+json": {
       "model_id": "5dc1d6da0066484e94ef2ffb2b68d24c",
       "version_major": 2,
       "version_minor": 0
      },
      "text/plain": [
       "Creating json from Arrow format:   0%|          | 0/1 [00:00<?, ?ba/s]"
      ]
     },
     "metadata": {},
     "output_type": "display_data"
    },
    {
     "name": "stdout",
     "output_type": "stream",
     "text": [
      "wrong output found\n",
      "wrong output found\n"
     ]
    },
    {
     "ename": "TypeError",
     "evalue": "unsupported operand type(s) for +: 'int' and 'list'",
     "output_type": "error",
     "traceback": [
      "\u001b[0;31m---------------------------------------------------------------------------\u001b[0m",
      "\u001b[0;31mTypeError\u001b[0m                                 Traceback (most recent call last)",
      "\u001b[1;32m/Users/robertpraas/Desktop/ThoughtSource/notebooks/reflection_messages/reflection_experiments_Robert.ipynb Cell 90\u001b[0m in \u001b[0;36m<cell line: 4>\u001b[0;34m()\u001b[0m\n\u001b[1;32m      <a href='vscode-notebook-cell:/Users/robertpraas/Desktop/ThoughtSource/notebooks/reflection_messages/reflection_experiments_Robert.ipynb#Y661sZmlsZQ%3D%3D?line=1'>2</a>\u001b[0m scores_per_item, variables_per_item \u001b[39m=\u001b[39m parse_data(data,idx_cot\u001b[39m=\u001b[39m\u001b[39m2\u001b[39m,dataset\u001b[39m=\u001b[39m\u001b[39m'\u001b[39m\u001b[39mmed_qa\u001b[39m\u001b[39m'\u001b[39m,split\u001b[39m=\u001b[39m\u001b[39m'\u001b[39m\u001b[39mtest\u001b[39m\u001b[39m'\u001b[39m)\n\u001b[1;32m      <a href='vscode-notebook-cell:/Users/robertpraas/Desktop/ThoughtSource/notebooks/reflection_messages/reflection_experiments_Robert.ipynb#Y661sZmlsZQ%3D%3D?line=2'>3</a>\u001b[0m scores_per_item \u001b[39m=\u001b[39m fix_str_score(scores_per_item)\n\u001b[0;32m----> <a href='vscode-notebook-cell:/Users/robertpraas/Desktop/ThoughtSource/notebooks/reflection_messages/reflection_experiments_Robert.ipynb#Y661sZmlsZQ%3D%3D?line=3'>4</a>\u001b[0m scores_per_objective, df \u001b[39m=\u001b[39m get_further_data(scores_per_item)\n\u001b[1;32m      <a href='vscode-notebook-cell:/Users/robertpraas/Desktop/ThoughtSource/notebooks/reflection_messages/reflection_experiments_Robert.ipynb#Y661sZmlsZQ%3D%3D?line=4'>5</a>\u001b[0m \u001b[39mprint\u001b[39m(df)\n\u001b[1;32m      <a href='vscode-notebook-cell:/Users/robertpraas/Desktop/ThoughtSource/notebooks/reflection_messages/reflection_experiments_Robert.ipynb#Y661sZmlsZQ%3D%3D?line=5'>6</a>\u001b[0m average_per_item \u001b[39m=\u001b[39m [\u001b[39msum\u001b[39m(d\u001b[39m.\u001b[39mvalues()) \u001b[39m/\u001b[39m \u001b[39mlen\u001b[39m(d) \u001b[39mfor\u001b[39;00m d \u001b[39min\u001b[39;00m scores_per_item]\n",
      "\u001b[1;32m/Users/robertpraas/Desktop/ThoughtSource/notebooks/reflection_messages/reflection_experiments_Robert.ipynb Cell 90\u001b[0m in \u001b[0;36mget_further_data\u001b[0;34m(scores_per_item)\u001b[0m\n\u001b[1;32m      <a href='vscode-notebook-cell:/Users/robertpraas/Desktop/ThoughtSource/notebooks/reflection_messages/reflection_experiments_Robert.ipynb#Y661sZmlsZQ%3D%3D?line=5'>6</a>\u001b[0m scores_per_objective \u001b[39m=\u001b[39m {key: [d\u001b[39m.\u001b[39mget(key) \u001b[39mfor\u001b[39;00m d \u001b[39min\u001b[39;00m scores_per_item] \u001b[39mfor\u001b[39;00m key \u001b[39min\u001b[39;00m keys}\n\u001b[1;32m      <a href='vscode-notebook-cell:/Users/robertpraas/Desktop/ThoughtSource/notebooks/reflection_messages/reflection_experiments_Robert.ipynb#Y661sZmlsZQ%3D%3D?line=6'>7</a>\u001b[0m \u001b[39m# scores_per_objective = {k: v for k, v in scores_per_objective.items() if not isinstance(v, str)}\u001b[39;00m\n\u001b[1;32m      <a href='vscode-notebook-cell:/Users/robertpraas/Desktop/ThoughtSource/notebooks/reflection_messages/reflection_experiments_Robert.ipynb#Y661sZmlsZQ%3D%3D?line=7'>8</a>\u001b[0m \u001b[39m# print(scores_per_objective)\u001b[39;00m\n\u001b[1;32m      <a href='vscode-notebook-cell:/Users/robertpraas/Desktop/ThoughtSource/notebooks/reflection_messages/reflection_experiments_Robert.ipynb#Y661sZmlsZQ%3D%3D?line=8'>9</a>\u001b[0m \n\u001b[0;32m   (...)\u001b[0m\n\u001b[1;32m     <a href='vscode-notebook-cell:/Users/robertpraas/Desktop/ThoughtSource/notebooks/reflection_messages/reflection_experiments_Robert.ipynb#Y661sZmlsZQ%3D%3D?line=16'>17</a>\u001b[0m \u001b[39m# Calculate the average of each list\u001b[39;00m\n\u001b[1;32m     <a href='vscode-notebook-cell:/Users/robertpraas/Desktop/ThoughtSource/notebooks/reflection_messages/reflection_experiments_Robert.ipynb#Y661sZmlsZQ%3D%3D?line=17'>18</a>\u001b[0m \u001b[39m#averaged_data = {key: sum(value) / len(value) for key, value in scores_per_objective.items()} \u001b[39;00m\n\u001b[0;32m---> <a href='vscode-notebook-cell:/Users/robertpraas/Desktop/ThoughtSource/notebooks/reflection_messages/reflection_experiments_Robert.ipynb#Y661sZmlsZQ%3D%3D?line=18'>19</a>\u001b[0m averaged_data \u001b[39m=\u001b[39m {key: (\u001b[39msum\u001b[39m(v \u001b[39mfor\u001b[39;00m v \u001b[39min\u001b[39;00m value \u001b[39mif\u001b[39;00m v \u001b[39mis\u001b[39;00m \u001b[39mnot\u001b[39;00m \u001b[39mNone\u001b[39;00m) \u001b[39m/\u001b[39m \u001b[39mlen\u001b[39m([v \u001b[39mfor\u001b[39;00m v \u001b[39min\u001b[39;00m value \u001b[39mif\u001b[39;00m v \u001b[39mis\u001b[39;00m \u001b[39mnot\u001b[39;00m \u001b[39mNone\u001b[39;00m])) \u001b[39mfor\u001b[39;00m key, value \u001b[39min\u001b[39;00m scores_per_objective\u001b[39m.\u001b[39mitems() \u001b[39mif\u001b[39;00m \u001b[39mlen\u001b[39m([v \u001b[39mfor\u001b[39;00m v \u001b[39min\u001b[39;00m value \u001b[39mif\u001b[39;00m v \u001b[39mis\u001b[39;00m \u001b[39mnot\u001b[39;00m \u001b[39mNone\u001b[39;00m]) \u001b[39m>\u001b[39m \u001b[39m0\u001b[39m}\n\u001b[1;32m     <a href='vscode-notebook-cell:/Users/robertpraas/Desktop/ThoughtSource/notebooks/reflection_messages/reflection_experiments_Robert.ipynb#Y661sZmlsZQ%3D%3D?line=20'>21</a>\u001b[0m \u001b[39m# Convert the averaged data dictionary to a Pandas DataFrame\u001b[39;00m\n\u001b[1;32m     <a href='vscode-notebook-cell:/Users/robertpraas/Desktop/ThoughtSource/notebooks/reflection_messages/reflection_experiments_Robert.ipynb#Y661sZmlsZQ%3D%3D?line=21'>22</a>\u001b[0m df \u001b[39m=\u001b[39m pd\u001b[39m.\u001b[39mDataFrame\u001b[39m.\u001b[39mfrom_dict(averaged_data, orient\u001b[39m=\u001b[39m\u001b[39m'\u001b[39m\u001b[39mindex\u001b[39m\u001b[39m'\u001b[39m, columns\u001b[39m=\u001b[39m[\u001b[39m'\u001b[39m\u001b[39mAverage\u001b[39m\u001b[39m'\u001b[39m])\n",
      "\u001b[1;32m/Users/robertpraas/Desktop/ThoughtSource/notebooks/reflection_messages/reflection_experiments_Robert.ipynb Cell 90\u001b[0m in \u001b[0;36m<dictcomp>\u001b[0;34m(.0)\u001b[0m\n\u001b[1;32m      <a href='vscode-notebook-cell:/Users/robertpraas/Desktop/ThoughtSource/notebooks/reflection_messages/reflection_experiments_Robert.ipynb#Y661sZmlsZQ%3D%3D?line=5'>6</a>\u001b[0m scores_per_objective \u001b[39m=\u001b[39m {key: [d\u001b[39m.\u001b[39mget(key) \u001b[39mfor\u001b[39;00m d \u001b[39min\u001b[39;00m scores_per_item] \u001b[39mfor\u001b[39;00m key \u001b[39min\u001b[39;00m keys}\n\u001b[1;32m      <a href='vscode-notebook-cell:/Users/robertpraas/Desktop/ThoughtSource/notebooks/reflection_messages/reflection_experiments_Robert.ipynb#Y661sZmlsZQ%3D%3D?line=6'>7</a>\u001b[0m \u001b[39m# scores_per_objective = {k: v for k, v in scores_per_objective.items() if not isinstance(v, str)}\u001b[39;00m\n\u001b[1;32m      <a href='vscode-notebook-cell:/Users/robertpraas/Desktop/ThoughtSource/notebooks/reflection_messages/reflection_experiments_Robert.ipynb#Y661sZmlsZQ%3D%3D?line=7'>8</a>\u001b[0m \u001b[39m# print(scores_per_objective)\u001b[39;00m\n\u001b[1;32m      <a href='vscode-notebook-cell:/Users/robertpraas/Desktop/ThoughtSource/notebooks/reflection_messages/reflection_experiments_Robert.ipynb#Y661sZmlsZQ%3D%3D?line=8'>9</a>\u001b[0m \n\u001b[0;32m   (...)\u001b[0m\n\u001b[1;32m     <a href='vscode-notebook-cell:/Users/robertpraas/Desktop/ThoughtSource/notebooks/reflection_messages/reflection_experiments_Robert.ipynb#Y661sZmlsZQ%3D%3D?line=16'>17</a>\u001b[0m \u001b[39m# Calculate the average of each list\u001b[39;00m\n\u001b[1;32m     <a href='vscode-notebook-cell:/Users/robertpraas/Desktop/ThoughtSource/notebooks/reflection_messages/reflection_experiments_Robert.ipynb#Y661sZmlsZQ%3D%3D?line=17'>18</a>\u001b[0m \u001b[39m#averaged_data = {key: sum(value) / len(value) for key, value in scores_per_objective.items()} \u001b[39;00m\n\u001b[0;32m---> <a href='vscode-notebook-cell:/Users/robertpraas/Desktop/ThoughtSource/notebooks/reflection_messages/reflection_experiments_Robert.ipynb#Y661sZmlsZQ%3D%3D?line=18'>19</a>\u001b[0m averaged_data \u001b[39m=\u001b[39m {key: (\u001b[39msum\u001b[39;49m(v \u001b[39mfor\u001b[39;49;00m v \u001b[39min\u001b[39;49;00m value \u001b[39mif\u001b[39;49;00m v \u001b[39mis\u001b[39;49;00m \u001b[39mnot\u001b[39;49;00m \u001b[39mNone\u001b[39;49;00m) \u001b[39m/\u001b[39m \u001b[39mlen\u001b[39m([v \u001b[39mfor\u001b[39;00m v \u001b[39min\u001b[39;00m value \u001b[39mif\u001b[39;00m v \u001b[39mis\u001b[39;00m \u001b[39mnot\u001b[39;00m \u001b[39mNone\u001b[39;00m])) \u001b[39mfor\u001b[39;00m key, value \u001b[39min\u001b[39;00m scores_per_objective\u001b[39m.\u001b[39mitems() \u001b[39mif\u001b[39;00m \u001b[39mlen\u001b[39m([v \u001b[39mfor\u001b[39;00m v \u001b[39min\u001b[39;00m value \u001b[39mif\u001b[39;00m v \u001b[39mis\u001b[39;00m \u001b[39mnot\u001b[39;00m \u001b[39mNone\u001b[39;00m]) \u001b[39m>\u001b[39m \u001b[39m0\u001b[39m}\n\u001b[1;32m     <a href='vscode-notebook-cell:/Users/robertpraas/Desktop/ThoughtSource/notebooks/reflection_messages/reflection_experiments_Robert.ipynb#Y661sZmlsZQ%3D%3D?line=20'>21</a>\u001b[0m \u001b[39m# Convert the averaged data dictionary to a Pandas DataFrame\u001b[39;00m\n\u001b[1;32m     <a href='vscode-notebook-cell:/Users/robertpraas/Desktop/ThoughtSource/notebooks/reflection_messages/reflection_experiments_Robert.ipynb#Y661sZmlsZQ%3D%3D?line=21'>22</a>\u001b[0m df \u001b[39m=\u001b[39m pd\u001b[39m.\u001b[39mDataFrame\u001b[39m.\u001b[39mfrom_dict(averaged_data, orient\u001b[39m=\u001b[39m\u001b[39m'\u001b[39m\u001b[39mindex\u001b[39m\u001b[39m'\u001b[39m, columns\u001b[39m=\u001b[39m[\u001b[39m'\u001b[39m\u001b[39mAverage\u001b[39m\u001b[39m'\u001b[39m])\n",
      "\u001b[0;31mTypeError\u001b[0m: unsupported operand type(s) for +: 'int' and 'list'"
     ]
    }
   ],
   "source": [
    "data.dump(\"gpt_4_false_critique_20_15\")\n",
    "scores_per_item, variables_per_item = parse_data(data,idx_cot=2,dataset='med_qa',split='test')\n",
    "#scores_per_item = fix_str_score(scores_per_item)\n",
    "\n",
    "scores_per_objective, df = get_further_data(scores_per_item)\n",
    "print(df)\n",
    "average_per_item = [sum(d.values()) / len(d) for d in scores_per_item]\n",
    "#avg_true_false(cohere_false,average_per_item,'med_qa','test')\n",
    "freq_bar_plot(scores_per_item)\n",
    "avg_item_plot(scores_per_objective)"
   ]
  },
  {
   "attachments": {},
   "cell_type": "markdown",
   "metadata": {},
   "source": [
    "## 3.5 corrects Cohere: shows 12,14,16 does not work"
   ]
  },
  {
   "cell_type": "code",
   "execution_count": 22,
   "metadata": {},
   "outputs": [],
   "source": [
    "from cot import Collection\n",
    "med_co = Collection.from_json(\"med_qa_zhou_cohere.json\")\n",
    "#med_co = med_co.select(split=\"test\", number_samples=1, random_samples=True, seed=0)\n"
   ]
  },
  {
   "cell_type": "code",
   "execution_count": 23,
   "metadata": {},
   "outputs": [
    {
     "data": {
      "text/plain": [
       "| Name   | Train   | Valid   |   Test |\n",
       "|--------|---------|---------|--------|\n",
       "| med_qa | -       | -       |    100 |\n",
       "\n",
       "Not loaded: ['aqua', 'asdiv', 'commonsense_qa', 'entailment_bank', 'gsm8k', 'mawps', 'med_qa_open', 'medmc_qa', '_init_', 'mmlu_clinical_knowledge', 'mmlu_college_biology', 'mmlu_college_medicine', 'mmlu_medical_genetics', 'mmlu_professional_medicine', '_init_', 'mmlu_anatomy', 'open_book_qa', 'pubmed_qa', 'qed', 'strategy_qa', 'svamp', 'worldtree']"
      ]
     },
     "execution_count": 23,
     "metadata": {},
     "output_type": "execute_result"
    }
   ],
   "source": [
    "med_co"
   ]
  },
  {
   "cell_type": "code",
   "execution_count": 24,
   "metadata": {},
   "outputs": [
    {
     "name": "stdout",
     "output_type": "stream",
     "text": [
      "Generating med_qa...\n"
     ]
    },
    {
     "data": {
      "application/vnd.jupyter.widget-view+json": {
       "model_id": "40ca13551b1643ca9a2874d3a7af02ba",
       "version_major": 2,
       "version_minor": 0
      },
      "text/plain": [
       "  0%|          | 0/100 [00:00<?, ?ex/s]"
      ]
     },
     "metadata": {},
     "output_type": "display_data"
    },
    {
     "name": "stdout",
     "output_type": "stream",
     "text": [
      "(API-)Error in item 30: That model is currently overloaded with other requests. You can retry your request, or contact us through our help center at help.openai.com if the error persists. (Please include the request ID 2b797b87820009fba581ccdd214e8a7c in your message.)\n",
      "Retrying with additional time of 10 seconds.\n"
     ]
    },
    {
     "data": {
      "application/vnd.jupyter.widget-view+json": {
       "model_id": "ffd7238626784334a2b8f8d7fd522169",
       "version_major": 2,
       "version_minor": 0
      },
      "text/plain": [
       "Creating json from Arrow format:   0%|          | 0/1 [00:00<?, ?ba/s]"
      ]
     },
     "metadata": {},
     "output_type": "display_data"
    }
   ],
   "source": [
    "absolute_path = \"./input_system/system_template_14_eval.yaml\"\n",
    "system_evaluate(med_co,'gpt-3.5-turbo',absolute_path)\n",
    "med_co.dump(\"chatgpt_judges_cohere\")"
   ]
  },
  {
   "cell_type": "code",
   "execution_count": 26,
   "metadata": {},
   "outputs": [
    {
     "name": "stdout",
     "output_type": "stream",
     "text": [
      "wrong output found\n",
      "wrong output found\n",
      "wrong output found\n",
      "obj_4 [10, 9, 8, 10, 10, 10, 10, 9, 10, 10, 10, 9, 10, 8, 8, 8, 10, 7, 10, 10, 9, 8, 10, 10, 4, 10, 7, 8, 9, 10, 10, 10, 7, 8, 8, 6, 8, 4, 8, 6, 8, 9, 6, 8, 10, 10, 8, 10, 10, 10, 5, 8, 10, 9, 10, 9, 10, 8, 8, 10, 10, 8, 10, 8, 10, 10, 7, 10, 6, 8, 10, 10, 10, 8, 10, 8, 10, 6, 9, 8, 10, 8, 10, 10, 9, 10, 10, 10, 10, 8, 10, 10, 10, 10, 10, 10, 7]\n",
      "obj_8 [10, 9, 9, 10, 10, 10, 10, 9, 10, 10, 10, 9, 10, 9, 9, 9, 10, 8, 10, 10, 9, 9, 10, 10, 6, 10, 8, 9, 10, 10, 10, 10, 7, 9, 9, 8, 8, 4, 8, 8, 8, 9, 8, 9, 10, 10, 9, 10, 10, 10, 6, 9, 10, 9, 10, 9, 10, 9, 9, 10, 10, 9, 10, 9, 10, 10, 8, 10, 8, 8, 10, 10, 10, 9, 10, 9, 10, 8, 9, 8, 10, 9, 10, 10, 9, 10, 10, 10, 10, 8, 10, 10, 10, 10, 10, 10, 8]\n",
      "obj_2 [10, 9, 9, 10, 10, 10, 10, 10, 10, 10, 10, 9, 10, 9, 9, 9, 10, 9, 10, 10, 9, 9, 10, 10, 9, 10, 9, 9, 10, 10, 10, 10, 9, 9, 9, 9, 9, 9, 9, 9, 9, 9, 9, 9, 10, 10, 9, 10, 10, 10, 9, 10, 10, 9, 10, 9, 10, 10, 9, 10, 10, 9, 10, 9, 10, 10, 9, 10, 9, 9, 10, 10, 10, 9, 10, 9, 10, 9, 9, 9, 10, 9, 10, 10, 9, 10, 10, 10, 10, 9, 10, 10, 10, 10, 10, 10, 9]\n",
      "obj_6 [9, 9, 8, 10, 9, 10, 9, 9, 10, 10, 10, 8, 9, 8, 8, 8, 9, 8, 10, 9, 9, 8, 10, 9, 7, 10, 7, 8, 9, 9, 10, 9, 7, 8, 7, 7, 8, 6, 7, 7, 8, 9, 7, 8, 9, 9, 8, 10, 9, 10, 7, 8, 9, 8, 10, 8, 10, 8, 8, 9, 10, 8, 10, 8, 10, 10, 7, 10, 7, 8, 10, 9, 10, 8, 9, 8, 10, 7, 8, 8, 9, 8, 9, 9, 8, 10, 10, 10, 9, 8, 9, 9, 10, 9, 10, 10, 7]\n",
      "obj_9 [10, 8, 8, 10, 8, 9, 9, 8, 10, 9, 9, 7, 8, 8, 8, 8, 8, 6, 9, 9, 8, 9, 9, 8, 3, 10, 6, 7, 8, 8, 10, 8, 5, 7, 6, 6, 7, 3, 6, 6, 6, 8, 6, 7, 8, 9, 7, 9, 9, 10, 3, 6, 9, 8, 10, 8, 10, 7, 7, 8, 10, 7, 10, 8, 10, 10, 6, 10, 5, 6, 9, 9, 9, 8, 8, 6, 10, 4, 7, 7, 9, 7, 9, 8, 8, 9, 10, 9, 9, 6, 8, 10, 10, 9, 10, 10, 5]\n",
      "obj_3 [8, 7, 7, 9, 8, 9, 8, 8, 10, 8, 9, 7, 9, 7, 9, 7, 9, 6, 10, 10, 8, 9, 9, 8, 6, 9, 7, 7, 8, 8, 10, 9, 7, 7, 6, 7, 7, 6, 6, 7, 7, 8, 7, 7, 8, 8, 7, 9, 8, 9, 6, 7, 8, 8, 10, 8, 10, 8, 7, 8, 10, 7, 10, 7, 10, 10, 6, 9, 7, 7, 9, 9, 9, 8, 8, 7, 10, 5, 8, 7, 9, 7, 8, 8, 8, 8, 10, 9, 8, 7, 8, 10, 10, 8, 10, 10, 7]\n",
      "obj_5 [9, 8, 7, 9, 9, 8, 9, 8, 9, 9, 9, 8, 8, 7, 7, 7, 8, 7, 9, 9, 8, 7, 9, 9, 6, 9, 6, 7, 8, 9, 9, 8, 6, 7, 7, 5, 7, 5, 7, 6, 7, 8, 5, 7, 8, 9, 7, 9, 9, 9, 4, 7, 9, 8, 10, 8, 9, 7, 7, 9, 9, 7, 10, 7, 10, 10, 7, 9, 5, 7, 10, 8, 9, 8, 9, 7, 9, 6, 8, 7, 8, 7, 9, 9, 8, 9, 9, 9, 9, 7, 9, 8, 9, 9, 10, 9, 6]\n",
      "obj_1 [9, 8, 8, 10, 10, 10, 9, 9, 10, 10, 10, 8, 10, 8, 8, 8, 8, 8, 10, 10, 9, 8, 10, 10, 8, 10, 8, 8, 9, 10, 10, 10, 8, 8, 8, 8, 8, 8, 8, 8, 8, 9, 8, 8, 9, 10, 8, 10, 10, 10, 8, 8, 10, 8, 10, 8, 10, 10, 8, 10, 10, 8, 10, 8, 10, 10, 8, 10, 8, 8, 10, 10, 10, 9, 10, 8, 10, 8, 9, 8, 10, 8, 10, 10, 8, 10, 9, 10, 10, 8, 10, 10, 8, 10, 10, 10, 8]\n",
      "obj_10 [9, 8, 8, 10, 10, 10, 10, 9, 10, 10, 10, 8, 9, 8, 8, 8, 8, 7, 10, 10, 9, 8, 10, 9, 7, 10, 7, 8, 8, 9, 10, 9, 6, 8, 8, 7, 8, 5, 7, 7, 8, 9, 7, 8, 9, 10, 8, 10, 10, 10, 4, 7, 10, 8, 10, 8, 10, 8, 8, 9, 10, 8, 10, 8, 10, 10, 7, 10, 7, 7, 10, 9, 10, 9, 9, 8, 10, 7, 8, 8, 9, 8, 10, 9, 8, 10, 10, 10, 10, 7, 9, 10, 10, 10, 10, 10, 6]\n",
      "obj_7 [9, 8, 8, 10, 9, 10, 10, 9, 10, 10, 10, 8, 9, 8, 8, 8, 9, 7, 10, 10, 9, 8, 10, 9, 5, 10, 7, 8, 9, 9, 10, 9, 6, 8, 8, 8, 7, 6, 7, 7, 7, 8, 7, 8, 9, 10, 8, 10, 10, 10, 6, 8, 10, 9, 10, 8, 10, 8, 8, 9, 10, 8, 10, 8, 10, 10, 8, 10, 6, 7, 10, 9, 9, 8, 9, 7, 10, 6, 8, 8, 9, 8, 9, 9, 8, 10, 10, 10, 9, 7, 9, 10, 10, 9, 10, 10, 6]\n",
      "obj_11 [10, 9, 9, 10, 10, 10, 10, 10, 10, 10, 10, 9, 10, 9, 9, 9, 10, 9, 10, 10, 9, 9, 10, 10, 2, 10, 8, 9, 10, 10, 10, 10, 8, 9, 9, 9, 9, 2, 9, 8, 9, 9, 9, 9, 10, 10, 9, 10, 10, 10, 8, 9, 10, 9, 10, 9, 10, 10, 9, 10, 10, 9, 10, 9, 10, 10, 8, 10, 8, 8, 10, 10, 10, 9, 10, 9, 10, 8, 9, 9, 10, 9, 10, 10, 9, 10, 10, 10, 10, 8, 10, 10, 10, 10, 10, 10, 8]\n"
     ]
    }
   ],
   "source": [
    "scores_per_item, scores_per_objective, df = process_new_data(med_co,idx_cot=1,dataset='med_qa',split='test')\n"
   ]
  },
  {
   "cell_type": "code",
   "execution_count": 30,
   "metadata": {},
   "outputs": [
    {
     "name": "stdout",
     "output_type": "stream",
     "text": [
      "         Average\n",
      "obj_1   9.030928\n",
      "obj_2   9.556701\n",
      "obj_3   8.061856\n",
      "obj_4   8.865979\n",
      "obj_5   7.948454\n",
      "obj_6   8.690722\n",
      "obj_7   8.628866\n",
      "obj_8   9.237113\n",
      "obj_9   7.927835\n",
      "obj_10  8.680412\n",
      "obj_11  9.298969\n",
      "scores true: 8.733333333333333\n",
      "scores false: 8.71506105834464\n"
     ]
    },
    {
     "data": {
      "image/png": "[encoded data removed]",
      "text/plain": [
       "<Figure size 432x288 with 1 Axes>"
      ]
     },
     "metadata": {
      "needs_background": "light"
     },
     "output_type": "display_data"
    },
    {
     "data": {
      "image/png": "[encoded data removed]",
      "text/plain": [
       "<Figure size 432x288 with 1 Axes>"
      ]
     },
     "metadata": {
      "needs_background": "light"
     },
     "output_type": "display_data"
    }
   ],
   "source": [
    "# This way ChatGPT does not correct cohere in anyway, need to ask it to dig deeper/more concrete\n",
    "print(df)\n",
    "average_per_item = [sum(d.values()) / len(d) for d in scores_per_item]\n",
    "avg_true_false(med_co,average_per_item,'med_qa','test')\n",
    "freq_bar_plot(scores_per_item)\n",
    "avg_item_plot(scores_per_objective)"
   ]
  },
  {
   "cell_type": "code",
   "execution_count": 39,
   "metadata": {},
   "outputs": [],
   "source": [
    "from cot import Collection\n",
    "med_co = Collection.from_json(\"med_qa_zhou_cohere.json\")\n",
    "# med_co = med_co.select(split=\"test\", number_samples=5, random_samples=True, seed=0)\n"
   ]
  },
  {
   "cell_type": "code",
   "execution_count": 32,
   "metadata": {},
   "outputs": [
    {
     "name": "stdout",
     "output_type": "stream",
     "text": [
      "Generating med_qa...\n"
     ]
    },
    {
     "data": {
      "application/vnd.jupyter.widget-view+json": {
       "model_id": "fca532391d4344f6b972bf9188c06964",
       "version_major": 2,
       "version_minor": 0
      },
      "text/plain": [
       "  0%|          | 0/5 [00:00<?, ?ex/s]"
      ]
     },
     "metadata": {},
     "output_type": "display_data"
    }
   ],
   "source": [
    "absolute_path = \"./input_system/system_template_16_improve.yaml\"\n",
    "system_evaluate(med_co,'gpt-3.5-turbo',absolute_path)\n"
   ]
  },
  {
   "cell_type": "code",
   "execution_count": 33,
   "metadata": {},
   "outputs": [
    {
     "data": {
      "application/vnd.jupyter.widget-view+json": {
       "model_id": "adeb545c13db419ba359f1777a287f19",
       "version_major": 2,
       "version_minor": 0
      },
      "text/plain": [
       "Creating json from Arrow format:   0%|          | 0/1 [00:00<?, ?ba/s]"
      ]
     },
     "metadata": {},
     "output_type": "display_data"
    }
   ],
   "source": [
    "med_co.dump(\"correction_test\")"
   ]
  },
  {
   "cell_type": "code",
   "execution_count": 40,
   "metadata": {},
   "outputs": [
    {
     "data": {
      "application/vnd.jupyter.widget-view+json": {
       "model_id": "01579180390a49599bacd94fcf7a6b54",
       "version_major": 2,
       "version_minor": 0
      },
      "text/plain": [
       "  0%|          | 0/100 [00:00<?, ?ex/s]"
      ]
     },
     "metadata": {},
     "output_type": "display_data"
    },
    {
     "data": {
      "text/plain": [
       "{'med_qa': {'test': {'accuracy': {'command-xlarge-nightly': {'None_zhou-01_kojima-A-E': 0.32}}}}}"
      ]
     },
     "execution_count": 40,
     "metadata": {},
     "output_type": "execute_result"
    }
   ],
   "source": [
    "med_co.evaluate()"
   ]
  },
  {
   "cell_type": "code",
   "execution_count": 36,
   "metadata": {},
   "outputs": [],
   "source": [
    "med_co.select_generated_cots(answer=False)\n",
    "med_co_false = med_co.filter(lambda x: len(x[\"generated_cot\"])==1)"
   ]
  },
  {
   "cell_type": "code",
   "execution_count": 37,
   "metadata": {},
   "outputs": [
    {
     "data": {
      "text/plain": [
       "| Name   | Train   | Valid   |   Test |\n",
       "|--------|---------|---------|--------|\n",
       "| med_qa | -       | -       |     68 |\n",
       "\n",
       "Not loaded: ['aqua', 'asdiv', 'commonsense_qa', 'entailment_bank', 'gsm8k', 'mawps', 'med_qa_open', 'medmc_qa', '_init_', 'mmlu_clinical_knowledge', 'mmlu_college_biology', 'mmlu_college_medicine', 'mmlu_medical_genetics', 'mmlu_professional_medicine', '_init_', 'mmlu_anatomy', 'open_book_qa', 'pubmed_qa', 'qed', 'strategy_qa', 'svamp', 'worldtree']"
      ]
     },
     "execution_count": 37,
     "metadata": {},
     "output_type": "execute_result"
    }
   ],
   "source": [
    "med_co_false"
   ]
  },
  {
   "cell_type": "code",
   "execution_count": 41,
   "metadata": {},
   "outputs": [
    {
     "name": "stdout",
     "output_type": "stream",
     "text": [
      "Generating med_qa...\n"
     ]
    },
    {
     "data": {
      "application/vnd.jupyter.widget-view+json": {
       "model_id": "38fe48b296ed4e7b813f1b5c54640e58",
       "version_major": 2,
       "version_minor": 0
      },
      "text/plain": [
       "  0%|          | 0/100 [00:00<?, ?ex/s]"
      ]
     },
     "metadata": {},
     "output_type": "display_data"
    },
    {
     "name": "stdout",
     "output_type": "stream",
     "text": [
      "(API-)Error in item 3: That model is currently overloaded with other requests. You can retry your request, or contact us through our help center at help.openai.com if the error persists. (Please include the request ID ec4033ca79513c56921a4c5a91dde67e in your message.)\n",
      "Retrying with additional time of 10 seconds.\n",
      "(API-)Error in item 17: That model is currently overloaded with other requests. You can retry your request, or contact us through our help center at help.openai.com if the error persists. (Please include the request ID 83d987a460cff5dcda0bf041d64a3c64 in your message.)\n",
      "Retrying with additional time of 10 seconds.\n"
     ]
    }
   ],
   "source": [
    "absolute_path = \"./input_system/system_template_16_improve.yaml\"\n",
    "system_evaluate(med_co,'gpt-3.5-turbo',absolute_path)"
   ]
  },
  {
   "cell_type": "code",
   "execution_count": 42,
   "metadata": {},
   "outputs": [
    {
     "data": {
      "application/vnd.jupyter.widget-view+json": {
       "model_id": "8966060422484fec95f097a2b19dba32",
       "version_major": 2,
       "version_minor": 0
      },
      "text/plain": [
       "Creating json from Arrow format:   0%|          | 0/1 [00:00<?, ?ba/s]"
      ]
     },
     "metadata": {},
     "output_type": "display_data"
    }
   ],
   "source": [
    "med_co.dump(\"full_chatgpt_cohere_correction\")"
   ]
  },
  {
   "cell_type": "code",
   "execution_count": 43,
   "metadata": {},
   "outputs": [
    {
     "name": "stdout",
     "output_type": "stream",
     "text": [
      "Generating med_qa...\n"
     ]
    },
    {
     "data": {
      "application/vnd.jupyter.widget-view+json": {
       "model_id": "73f75cf28c344cefac996048ef17dc75",
       "version_major": 2,
       "version_minor": 0
      },
      "text/plain": [
       "  0%|          | 0/100 [00:00<?, ?ex/s]"
      ]
     },
     "metadata": {},
     "output_type": "display_data"
    },
    {
     "name": "stdout",
     "output_type": "stream",
     "text": [
      "(API-)Error in item 31: That model is currently overloaded with other requests. You can retry your request, or contact us through our help center at help.openai.com if the error persists. (Please include the request ID f7933b7535f23c4a9629ef0929a6e0ba in your message.)\n",
      "Retrying with additional time of 10 seconds.\n",
      "(API-)Error in item 60: That model is currently overloaded with other requests. You can retry your request, or contact us through our help center at help.openai.com if the error persists. (Please include the request ID d91af4f8bc51adbb8c70853969ebf927 in your message.)\n",
      "Retrying with additional time of 10 seconds.\n",
      "(API-)Error in item 94: HTTP code 502 from API (<html>\n",
      "<head><title>502 Bad Gateway</title></head>\n",
      "<body>\n",
      "<center><h1>502 Bad Gateway</h1></center>\n",
      "<hr><center>cloudflare</center>\n",
      "</body>\n",
      "</html>\n",
      ")\n",
      "Retrying with additional time of 10 seconds.\n"
     ]
    }
   ],
   "source": [
    "absolute_path = \"./input_system/system_template_16_improve.yaml\"\n",
    "system_evaluate(med_co,'gpt-4',absolute_path)"
   ]
  },
  {
   "cell_type": "code",
   "execution_count": 44,
   "metadata": {},
   "outputs": [
    {
     "data": {
      "application/vnd.jupyter.widget-view+json": {
       "model_id": "0a306a2bfc864c6dac280027597904eb",
       "version_major": 2,
       "version_minor": 0
      },
      "text/plain": [
       "Creating json from Arrow format:   0%|          | 0/1 [00:00<?, ?ba/s]"
      ]
     },
     "metadata": {},
     "output_type": "display_data"
    }
   ],
   "source": [
    "med_co.dump(\"gpt_3_4_cohere_correction\")"
   ]
  },
  {
   "cell_type": "code",
   "execution_count": 48,
   "metadata": {},
   "outputs": [
    {
     "data": {
      "text/plain": [
       "{'id': 'med_qa_test_2',\n",
       " 'ref_id': '',\n",
       " 'question': 'Two weeks after undergoing an emergency cardiac catherization with stenting for unstable angina pectoris, a 61-year-old man has decreased urinary output and malaise. He has type 2 diabetes mellitus and osteoarthritis of the hips. Prior to admission, his medications were insulin and naproxen. He was also started on aspirin, clopidogrel, and metoprolol after the coronary intervention. His temperature is 38°C (100.4°F), pulse is 93/min, and blood pressure is 125/85 mm Hg. Examination shows mottled, reticulated purplish discoloration of the feet. Laboratory studies show:\\nHemoglobin count 14 g/dL\\nLeukocyte count 16,400/mm3\\nSegmented neutrophils 56%\\nEosinophils 11%\\nLymphocytes 31%\\nMonocytes 2%\\nPlatelet count 260,000/mm3\\nErythrocyte sedimentation rate 68 mm/h\\nSerum\\nUrea nitrogen 25 mg/dL\\nCreatinine 4.2 mg/dL\\nRenal biopsy shows intravascular spindle-shaped vacuoles. Which of the following is the most likely cause of this patient\\'s symptoms?\"',\n",
       " 'type': 'multiplechoice',\n",
       " 'choices': ['Renal papillary necrosis',\n",
       "  'Allergic interstitial nephritis',\n",
       "  'Cholesterol embolization',\n",
       "  'Eosinophilic granulomatosis with polyangiitis',\n",
       "  'Polyarteritis nodosa'],\n",
       " 'context': '',\n",
       " 'cot': [],\n",
       " 'answer': ['Cholesterol embolization'],\n",
       " 'generated_cot': [{'id': '696cfe30-f094-4a14-a903-de717284628a',\n",
       "   'fragments_version': '0.01',\n",
       "   'instruction': None,\n",
       "   'cot_trigger': 'zhou-01',\n",
       "   'cot_trigger_template': '{instruction}\\n\\n{question}\\n{answer_choices}\\n\\n{cot_trigger}',\n",
       "   'prompt_text': '',\n",
       "   'cot': \"\\nThe patient has intravascular spindle-shaped vacuoles, which is a classic finding for cholesterol embolization. The patient's history of taking aspirin and clopidogrel before admission makes cholesterol embolization even more likely.\\nSo, the answer is C.\",\n",
       "   'answers': [{'id': '62f6561c-3de5-4dae-8830-d6236d9840d4',\n",
       "     'answer_extraction': 'kojima-A-E',\n",
       "     'answer_extraction_template': '{instruction}\\n\\n{question}\\n{answer_choices}\\n\\n{cot_trigger}{cot}\\n{answer_extraction}',\n",
       "     'answer_extraction_text': '',\n",
       "     'answer': ' C.',\n",
       "     'answer_from_choices': 'C',\n",
       "     'correct_answer': True}],\n",
       "   'author': 'thoughtsource',\n",
       "   'date': '2023/05/29 08:05:57',\n",
       "   'api_service': 'cohere',\n",
       "   'model': \"{'name': 'command-xlarge-nightly', 'temperature': 0, 'max_tokens': 512}\",\n",
       "   'comment': '',\n",
       "   'annotations': []},\n",
       "  {'id': '88ab7446-7d8f-4da9-926f-0aedbe3903b0',\n",
       "   'fragments_version': '0.01',\n",
       "   'instruction': '',\n",
       "   'cot_trigger': '',\n",
       "   'cot_trigger_template': '',\n",
       "   'prompt_text': '',\n",
       "   'cot': 'corrected_reasoning: \\nThe given reasoning is correct.\\n\\nfinal_answer: C.',\n",
       "   'answers': [{'id': '45d819de-a5e5-4718-9387-542d9e6b2f96',\n",
       "     'answer_extraction': '',\n",
       "     'answer_extraction_template': '',\n",
       "     'answer_extraction_text': '',\n",
       "     'answer': '',\n",
       "     'answer_from_choices': '',\n",
       "     'correct_answer': None}],\n",
       "   'author': '',\n",
       "   'date': '2023/05/29 12:55:42',\n",
       "   'api_service': '',\n",
       "   'model': \"{'name': '', 'temperature': 0, 'max_tokens': 1600}\",\n",
       "   'comment': '',\n",
       "   'annotations': []},\n",
       "  {'id': 'e630fb93-88e1-4903-9748-7a1294cf6a6b',\n",
       "   'fragments_version': '0.01',\n",
       "   'instruction': '',\n",
       "   'cot_trigger': '',\n",
       "   'cot_trigger_template': '',\n",
       "   'prompt_text': '',\n",
       "   'cot': \"corrected_reasoning: The patient has intravascular spindle-shaped vacuoles, which is a classic finding for cholesterol embolization. The patient's history of recent cardiac catheterization with stenting for unstable angina pectoris, along with the mottled, reticulated purplish discoloration of the feet, and elevated creatinine levels, make cholesterol embolization even more likely.\\nfinal_answer: C\",\n",
       "   'answers': [{'id': 'ec4a164b-b1ac-4401-aae4-f9b2d86f166a',\n",
       "     'answer_extraction': '',\n",
       "     'answer_extraction_template': '',\n",
       "     'answer_extraction_text': '',\n",
       "     'answer': '',\n",
       "     'answer_from_choices': '',\n",
       "     'correct_answer': None}],\n",
       "   'author': '',\n",
       "   'date': '2023/05/29 13:24:33',\n",
       "   'api_service': '',\n",
       "   'model': \"{'name': '', 'temperature': 0, 'max_tokens': 1600}\",\n",
       "   'comment': '',\n",
       "   'annotations': []}],\n",
       " 'feedback': []}"
      ]
     },
     "execution_count": 48,
     "metadata": {},
     "output_type": "execute_result"
    }
   ],
   "source": [
    "med_co['med_qa']['test'][0]"
   ]
  },
  {
   "cell_type": "code",
   "execution_count": 89,
   "metadata": {},
   "outputs": [],
   "source": [
    "med_co = Collection.from_json(\"gpt_3_4_cohere_correction\")"
   ]
  },
  {
   "cell_type": "code",
   "execution_count": 90,
   "metadata": {},
   "outputs": [
    {
     "name": "stdout",
     "output_type": "stream",
     "text": [
      "1\n",
      "wrong output found\n"
     ]
    },
    {
     "ename": "TypeError",
     "evalue": "'Dataset' object does not support item assignment",
     "output_type": "error",
     "traceback": [
      "\u001b[0;31m---------------------------------------------------------------------------\u001b[0m",
      "\u001b[0;31mTypeError\u001b[0m                                 Traceback (most recent call last)",
      "\u001b[1;32m/Users/robertpraas/Desktop/ThoughtSource/notebooks/reflection_messages/reflection_experiments_Robert.ipynb Cell 99\u001b[0m in \u001b[0;36m<cell line: 4>\u001b[0;34m()\u001b[0m\n\u001b[1;32m     <a href='vscode-notebook-cell:/Users/robertpraas/Desktop/ThoughtSource/notebooks/reflection_messages/reflection_experiments_Robert.ipynb#Y236sZmlsZQ%3D%3D?line=27'>28</a>\u001b[0m                 count \u001b[39m+\u001b[39m\u001b[39m=\u001b[39m\u001b[39m1\u001b[39m\n\u001b[1;32m     <a href='vscode-notebook-cell:/Users/robertpraas/Desktop/ThoughtSource/notebooks/reflection_messages/reflection_experiments_Robert.ipynb#Y236sZmlsZQ%3D%3D?line=28'>29</a>\u001b[0m                 \u001b[39mcontinue\u001b[39;00m\n\u001b[0;32m---> <a href='vscode-notebook-cell:/Users/robertpraas/Desktop/ThoughtSource/notebooks/reflection_messages/reflection_experiments_Robert.ipynb#Y236sZmlsZQ%3D%3D?line=29'>30</a>\u001b[0m     med_co[\u001b[39m'\u001b[39m\u001b[39mmed_qa\u001b[39m\u001b[39m'\u001b[39m][\u001b[39m'\u001b[39m\u001b[39mtest\u001b[39m\u001b[39m'\u001b[39m][j] \u001b[39m=\u001b[39m element\n\u001b[1;32m     <a href='vscode-notebook-cell:/Users/robertpraas/Desktop/ThoughtSource/notebooks/reflection_messages/reflection_experiments_Robert.ipynb#Y236sZmlsZQ%3D%3D?line=30'>31</a>\u001b[0m \u001b[39mprint\u001b[39m(count)\n\u001b[1;32m     <a href='vscode-notebook-cell:/Users/robertpraas/Desktop/ThoughtSource/notebooks/reflection_messages/reflection_experiments_Robert.ipynb#Y236sZmlsZQ%3D%3D?line=31'>32</a>\u001b[0m med_co\u001b[39m.\u001b[39mevaluate()\n",
      "\u001b[0;31mTypeError\u001b[0m: 'Dataset' object does not support item assignment"
     ]
    }
   ],
   "source": [
    "import yaml\n",
    "import re\n",
    "count = 0\n",
    "for j,element in enumerate(med_co['med_qa']['test']):\n",
    "    for i in range(1,3):\n",
    "        yaml_content = element['generated_cot'][i]['cot']\n",
    "        try:\n",
    "        #print(yaml_content)\n",
    "            yaml_data = yaml.load(yaml_content, Loader=yaml.FullLoader)\n",
    "            final_answer = yaml_data['final_answer']\n",
    "            cot = yaml_data['corrected_reasoning']\n",
    "            element['generated_cot'][i]['cot'] = cot\n",
    "            element['generated_cot'][i]['answers'][0]['answer'] = final_answer   \n",
    "        except:\n",
    "            try:\n",
    "                yaml_content = yaml_content.replace(\"corrected_reasoning: \\n\", \"corrected_reasoning: \")\n",
    "                #yaml_content = re.sub(r'([^:\\n]+):\\n', r'\\n\\1: ', yaml_content)\n",
    "                yaml_data = yaml.load(yaml_content, Loader=yaml.FullLoader)\n",
    "                final_answer = yaml_data['final_answer']\n",
    "                cot = yaml_data['corrected_reasoning']\n",
    "                element['generated_cot'][i]['cot'] = cot\n",
    "                element['generated_cot'][i]['answers'][0]['answer'] = final_answer\n",
    "                med_co['med_qa']['test'][j] = element\n",
    "            except:\n",
    "                print(i)\n",
    "                print(\"wrong output found\")\n",
    "                # print(yaml_content)\n",
    "                count +=1\n",
    "                continue\n",
    "    med_co['med_qa']['test'][j] = element\n",
    "print(count)\n",
    "med_co.evaluate()    \n",
    "        \n",
    "\n",
    "\n",
    "\n",
    "\n",
    "\n",
    "\n",
    "        #     yaml_content = yaml_content.replace('\\n', ' ')\n",
    "        #     try:\n",
    "        #         yaml_data = yaml.load(yaml_content, Loader=yaml.FullLoader)\n",
    "        #         final_answer = yaml_data['final_answer']\n",
    "        #         cot = yaml_data['corrected_reasoning']\n",
    "        #         element['generated_cot'][i]['cot'] = cot\n",
    "        #         element['generated_cot'][i]['answers'][0]['answer'] = final_answer\n",
    "        #     except:\n",
    "        #         print(\"wrong output found\")\n",
    "        #         print(yaml_content)\n",
    "        #         count +=1\n",
    "        #         continue\n",
    "        #yaml_data = yaml.safe_load(yaml_content)\n",
    "\n",
    "\n",
    "\n",
    "\n",
    "\n",
    "# import yaml\n",
    "\n",
    "# # Assuming the YAML content is stored in a string variable called 'yaml_content'\n",
    "# yaml_data = yaml.safe_load(yaml_content)\n",
    "\n",
    "# # Extracting the final_answer\n",
    "# final_answer = yaml_data['final_answer']"
   ]
  },
  {
   "cell_type": "code",
   "execution_count": null,
   "metadata": {},
   "outputs": [],
   "source": [
    "#this does not work - write data.map function"
   ]
  },
  {
   "cell_type": "code",
   "execution_count": 88,
   "metadata": {},
   "outputs": [
    {
     "data": {
      "text/plain": [
       "10"
      ]
     },
     "execution_count": 88,
     "metadata": {},
     "output_type": "execute_result"
    }
   ],
   "source": [
    "len(med_co['med_qa']['test'][99])"
   ]
  },
  {
   "cell_type": "code",
   "execution_count": 76,
   "metadata": {},
   "outputs": [
    {
     "data": {
      "text/plain": [
       "'C.'"
      ]
     },
     "execution_count": 76,
     "metadata": {},
     "output_type": "execute_result"
    }
   ],
   "source": [
    "str = \"\"\"corrected_reasoning: \n",
    "The given reasoning is correct.\n",
    "\n",
    "final_answer: C.\"\"\"\n",
    "str = str.replace(\"corrected_reasoning: \\n\", \"corrected_reasoning: \")\n",
    "yaml_data = yaml.load(str, Loader=yaml.FullLoader)\n",
    "yaml_data['final_answer']"
   ]
  },
  {
   "cell_type": "code",
   "execution_count": null,
   "metadata": {},
   "outputs": [],
   "source": [
    "#####"
   ]
  },
  {
   "cell_type": "code",
   "execution_count": 9,
   "metadata": {},
   "outputs": [
    {
     "name": "stdout",
     "output_type": "stream",
     "text": [
      "Generating med_qa...\n"
     ]
    }
   ],
   "source": [
    "absolute_path = \"./input_system/system_template_12_eval.yaml\"\n",
    "system_evaluate(med_co,'gpt-3.5-turbo',absolute_path)"
   ]
  },
  {
   "cell_type": "code",
   "execution_count": 10,
   "metadata": {},
   "outputs": [
    {
     "name": "stdout",
     "output_type": "stream",
     "text": [
      "Generating med_qa...\n",
      "(API-)Error in item 0: HTTP code 502 from API (<html>\n",
      "<head><title>502 Bad Gateway</title></head>\n",
      "<body>\n",
      "<center><h1>502 Bad Gateway</h1></center>\n",
      "<hr><center>cloudflare</center>\n",
      "</body>\n",
      "</html>\n",
      ")\n",
      "Retrying with additional time of 10 seconds.\n"
     ]
    }
   ],
   "source": [
    "absolute_path = \"./input_system/system_template_16_eval.yaml\"\n",
    "system_evaluate(med_co,'gpt-3.5-turbo',absolute_path)"
   ]
  },
  {
   "cell_type": "code",
   "execution_count": 16,
   "metadata": {},
   "outputs": [
    {
     "name": "stdout",
     "output_type": "stream",
     "text": [
      "Generating med_qa...\n"
     ]
    }
   ],
   "source": [
    "absolute_path = \"./input_system/system_template_17.yaml\"\n",
    "system_evaluate(med_co,'gpt-3.5-turbo',absolute_path)"
   ]
  },
  {
   "cell_type": "code",
   "execution_count": 21,
   "metadata": {},
   "outputs": [
    {
     "data": {
      "text/plain": [
       "'obj_1: 8\\nobj_2: 10\\nobj_3: 8\\nobj_4: 8\\nobj_5: 7\\nobj_6: 8\\nobj_7: 8\\nobj_8: 9\\nobj_9: 7\\nobj_10: 8\\nobj_11: 10'"
      ]
     },
     "execution_count": 21,
     "metadata": {},
     "output_type": "execute_result"
    }
   ],
   "source": [
    "med_co['med_qa']['test'][0]['generated_cot'][1]['cot']"
   ]
  },
  {
   "cell_type": "code",
   "execution_count": null,
   "metadata": {},
   "outputs": [],
   "source": [
    "scores_per_item, scores_per_objective, df = process_new_data(data,idx_cot=1,dataset='med_qa',split='test')"
   ]
  },
  {
   "cell_type": "code",
   "execution_count": null,
   "metadata": {},
   "outputs": [],
   "source": [
    "\n"
   ]
  },
  {
   "attachments": {},
   "cell_type": "markdown",
   "metadata": {},
   "source": [
    "## more 3.5, 4 correct cohere"
   ]
  },
  {
   "cell_type": "code",
   "execution_count": 110,
   "metadata": {},
   "outputs": [
    {
     "name": "stdout",
     "output_type": "stream",
     "text": [
      "Generating med_qa...\n"
     ]
    },
    {
     "data": {
      "application/vnd.jupyter.widget-view+json": {
       "model_id": "ea98f23569c24a1a9ce18961a7e28f18",
       "version_major": 2,
       "version_minor": 0
      },
      "text/plain": [
       "  0%|          | 0/100 [00:00<?, ?ex/s]"
      ]
     },
     "metadata": {},
     "output_type": "display_data"
    },
    {
     "name": "stdout",
     "output_type": "stream",
     "text": [
      "(API-)Error in item 4: That model is currently overloaded with other requests. You can retry your request, or contact us through our help center at help.openai.com if the error persists. (Please include the request ID 3eacec5e4f6e3ca5d027c7fbcf1ec33a in your message.)\n",
      "Retrying with additional time of 10 seconds.\n"
     ]
    },
    {
     "data": {
      "application/vnd.jupyter.widget-view+json": {
       "model_id": "1bef59cfa6894d1ab2442007bed30818",
       "version_major": 2,
       "version_minor": 0
      },
      "text/plain": [
       "Creating json from Arrow format:   0%|          | 0/1 [00:00<?, ?ba/s]"
      ]
     },
     "metadata": {},
     "output_type": "display_data"
    }
   ],
   "source": [
    "\"\"\"Write a short critique really important for contexts - \"\"\"\n",
    "#this was gpt-3.5, can still try gpt-4\n",
    "\n",
    "data = Collection.from_json(\"med_qa_zhou_cohere.json\")\n",
    "absolute_path = \"./input_system/system_template_20.yaml\"\n",
    "system_evaluate(data,'gpt-3.5-turbo',absolute_path)\n",
    "data.dump(\"medqa_cohere_template_20\")\n",
    "\n",
    "\n",
    "\n"
   ]
  },
  {
   "cell_type": "code",
   "execution_count": 170,
   "metadata": {},
   "outputs": [
    {
     "name": "stdout",
     "output_type": "stream",
     "text": [
      "         Average\n",
      "obj_1   5.771739\n",
      "obj_2   7.347826\n",
      "obj_3   5.978261\n",
      "obj_4   5.347826\n",
      "obj_5   5.239130\n",
      "obj_6   5.923913\n",
      "obj_7   5.467391\n",
      "obj_8   6.260870\n",
      "obj_9   4.271739\n",
      "obj_10  5.673913\n",
      "obj_11  5.782609\n"
     ]
    },
    {
     "data": {
      "image/png": "[encoded data removed]",
      "text/plain": [
       "<Figure size 432x288 with 1 Axes>"
      ]
     },
     "metadata": {
      "needs_background": "light"
     },
     "output_type": "display_data"
    },
    {
     "data": {
      "image/png": "[encoded data removed]",
      "text/plain": [
       "<Figure size 432x288 with 1 Axes>"
      ]
     },
     "metadata": {
      "needs_background": "light"
     },
     "output_type": "display_data"
    }
   ],
   "source": [
    "data = Collection.from_json(\"medqa_cohere_template_20\")\n",
    "scores_per_item, variables_per_item = parse_data(data,idx_cot=1,dataset='med_qa',split='test')\n",
    "scores_per_item = fix_str_score(scores_per_item)\n",
    "scores_per_objective, df = get_further_data(scores_per_item)\n",
    "print(df)\n",
    "average_per_item = [sum(d.values()) / len(d) for d in scores_per_item]\n",
    "#avg_true_false(cohere_false,average_per_item,'med_qa','test')\n",
    "freq_bar_plot(scores_per_item)\n",
    "avg_item_plot(scores_per_objective)"
   ]
  },
  {
   "cell_type": "code",
   "execution_count": 111,
   "metadata": {},
   "outputs": [
    {
     "name": "stdout",
     "output_type": "stream",
     "text": [
      "Generating med_qa...\n"
     ]
    },
    {
     "data": {
      "application/vnd.jupyter.widget-view+json": {
       "model_id": "9537f5f369e54719b5d905078df8df3a",
       "version_major": 2,
       "version_minor": 0
      },
      "text/plain": [
       "  0%|          | 0/30 [00:00<?, ?ex/s]"
      ]
     },
     "metadata": {},
     "output_type": "display_data"
    },
    {
     "data": {
      "application/vnd.jupyter.widget-view+json": {
       "model_id": "1e2073cb2d0e43ba9d6a4de407b6ebe3",
       "version_major": 2,
       "version_minor": 0
      },
      "text/plain": [
       "Creating json from Arrow format:   0%|          | 0/1 [00:00<?, ?ba/s]"
      ]
     },
     "metadata": {},
     "output_type": "display_data"
    }
   ],
   "source": [
    "#GPT-4 really helps cohere\n",
    "#Can cohere learn from GPT-4 and change it?\n",
    "\n",
    "data = Collection.from_json(\"med_qa_zhou_cohere.json\")\n",
    "data = data.select(split=\"test\", number_samples=30, random_samples=True, seed=0)\n",
    "system_evaluate(data,'gpt-4',absolute_path)\n",
    "data.dump(\"medqa_cohere_template_20_gpt_4\")"
   ]
  },
  {
   "cell_type": "code",
   "execution_count": 140,
   "metadata": {},
   "outputs": [
    {
     "name": "stdout",
     "output_type": "stream",
     "text": [
      "obj_4 [7, 4, 10, 3, 7, 3, 3, 8, 4, 2, 4, 5, 5, 9, 2, 5, 5, 5, 8, 4, 6, 4, 4, 6, 4, 6, 6, 7, 3, 8]\n",
      "obj_8 [9, 3, 10, 3, 8, 3, 3, 9, 4, 2, 5, 6, 6, 9, 1, 5, 3, 6, 9, 3, 7, 4, 3, 6, 4, 3, 6, 8, 3, 9]\n",
      "obj_2 [7, 5, 10, 4, 7, 4, 3, 8, 4, 3, 4, 5, 5, 8, 2, 5, 5, 5, 9, 4, 6, 7, 5, 6, 5, 6, 5, 7, 4, 7]\n",
      "obj_6 [8, 5, 10, 4, 8, 4, 2, 8, 4, 3, 4, 5, 6, 8, 2, 5, 6, 5, 8, 5, 6, 7, 5, 6, 5, 6, 6, 8, 4, 7]\n",
      "obj_9 [10, 1, 9, 2, 6, 3, 1, 7, 3, 1, 3, 6, 5, 7, 1, 4, 4, 6, 8, 3, 6, 6, 5, 5, 3, 6, 6, 7, 3, 7]\n",
      "obj_3 [10, 7, 10, 6, 10, 6, 1, 10, 6, 6, 6, 7, 8, 10, 1, 6, 10, 8, 10, 6, 10, 10, 7, 5, 8, 10, 6, 10, 6, 10]\n",
      "obj_5 [8, 2, 9, 3, 6, 4, 2, 7, 4, 3, 4, 6, 4, 7, 1, 5, 6, 6, 7, 5, 7, 6, 6, 6, 4, 6, 6, 7, 5, 7]\n",
      "obj_1 [10, 9, 10, 8, 9, 8, 5, 10, 8, 5, 7, 9, 9, 9, 5, 8, 10, 9, 9, 7, 9, 9, 9, 7, 7, 10, 7, 9, 8, 10]\n",
      "obj_10 [10, 4, 10, 4, 7, 5, 3, 8, 5, 2, 5, 7, 7, 9, 2, 6, 4, 7, 9, 4, 8, 8, 6, 6, 6, 6, 6, 8, 4, 8]\n",
      "obj_7 [8, 5, 8, 5, 6, 5, 2, 7, 3, 3, 3, 6, 5, 7, 2, 5, 7, 6, 8, 5, 7, 7, 6, 5, 3, 7, 4, 6, 5, 7]\n",
      "obj_11 [10, 3, 10, 1, 10, 3, 5, 10, 6, 1, 7, 7, 9, 10, 5, 6, 1, 6, 10, 1, 7, 1, 3, 7, 6, 1, 9, 10, 2, 10]\n",
      "         Average\n",
      "obj_1   8.300000\n",
      "obj_2   5.500000\n",
      "obj_3   7.533333\n",
      "obj_4   5.233333\n",
      "obj_5   5.300000\n",
      "obj_6   5.666667\n",
      "obj_7   5.433333\n",
      "obj_8   5.333333\n",
      "obj_9   4.800000\n",
      "obj_10  6.133333\n",
      "obj_11  5.900000\n",
      "scores true: 7.263636363636364\n",
      "scores false: 5.25\n"
     ]
    },
    {
     "data": {
      "image/png": "[encoded data removed]",
      "text/plain": [
       "<Figure size 432x288 with 1 Axes>"
      ]
     },
     "metadata": {
      "needs_background": "light"
     },
     "output_type": "display_data"
    }
   ],
   "source": [
    "scores_per_item, scores_per_objective, df = process_new_data(test,idx_cot=1,dataset='med_qa',split='test')\n",
    "print(df)\n",
    "#average_per_item = [sum(d.values()) / len(d) for d in scores_per_item]\n",
    "\n",
    "#values are summed within dict\n",
    "#average_per_item = [sum(d.values()) / len(d) for d in scores_per_item]\n",
    "average_per_item = [sum(v for v in d.values() if isinstance(v, int)) / len([v for v in d.values() if isinstance(v, int)]) for d in scores_per_item]\n",
    "#.items()\n",
    "avg_true_false(test,average_per_item,'med_qa','test')\n",
    "#freq_bar_plot(scores_per_item)\n",
    "avg_item_plot(scores_per_objective)"
   ]
  },
  {
   "cell_type": "code",
   "execution_count": 138,
   "metadata": {},
   "outputs": [
    {
     "data": {
      "text/plain": [
       "{'critique': 'The response accurately interprets the question and provides a clear and concise reasoning for the answer. However, it only considers two of the answer options in the reasoning, leaving out the other three options.',\n",
       " 'obj_1': 10,\n",
       " 'obj_2': 7,\n",
       " 'obj_3': 10,\n",
       " 'obj_4': 7,\n",
       " 'obj_5': 8,\n",
       " 'obj_6': 8,\n",
       " 'obj_7': 8,\n",
       " 'obj_8': 9,\n",
       " 'obj_9': 10,\n",
       " 'obj_10': 10,\n",
       " 'obj_11': 10}"
      ]
     },
     "execution_count": 138,
     "metadata": {},
     "output_type": "execute_result"
    }
   ],
   "source": [
    "scores_per_item[0]"
   ]
  },
  {
   "attachments": {},
   "cell_type": "markdown",
   "metadata": {},
   "source": [
    "## Still need to look at this data"
   ]
  },
  {
   "cell_type": "code",
   "execution_count": 112,
   "metadata": {},
   "outputs": [
    {
     "name": "stdout",
     "output_type": "stream",
     "text": [
      "Generating med_qa...\n"
     ]
    },
    {
     "data": {
      "application/vnd.jupyter.widget-view+json": {
       "model_id": "bc451579faec4eafac3c6c1ce0dedd85",
       "version_major": 2,
       "version_minor": 0
      },
      "text/plain": [
       "  0%|          | 0/100 [00:00<?, ?ex/s]"
      ]
     },
     "metadata": {},
     "output_type": "display_data"
    },
    {
     "data": {
      "application/vnd.jupyter.widget-view+json": {
       "model_id": "1da21eeefec346ae84aebb408c940bcd",
       "version_major": 2,
       "version_minor": 0
      },
      "text/plain": [
       "Creating json from Arrow format:   0%|          | 0/1 [00:00<?, ?ba/s]"
      ]
     },
     "metadata": {},
     "output_type": "display_data"
    },
    {
     "name": "stdout",
     "output_type": "stream",
     "text": [
      "Generating open_book_qa...\n"
     ]
    },
    {
     "data": {
      "application/vnd.jupyter.widget-view+json": {
       "model_id": "8061709d02d84ecf8b5c2c2fd971c966",
       "version_major": 2,
       "version_minor": 0
      },
      "text/plain": [
       "  0%|          | 0/100 [00:00<?, ?ex/s]"
      ]
     },
     "metadata": {},
     "output_type": "display_data"
    },
    {
     "name": "stdout",
     "output_type": "stream",
     "text": [
      "(API-)Error in item 87: That model is currently overloaded with other requests. You can retry your request, or contact us through our help center at help.openai.com if the error persists. (Please include the request ID 22e93d4630dee62e8b3c85e4df998b48 in your message.)\n",
      "Retrying with additional time of 10 seconds.\n",
      "(API-)Error in item 99: That model is currently overloaded with other requests. You can retry your request, or contact us through our help center at help.openai.com if the error persists. (Please include the request ID a1dc321a84ea4d1226e2241477ed1497 in your message.)\n",
      "Retrying with additional time of 10 seconds.\n"
     ]
    },
    {
     "data": {
      "application/vnd.jupyter.widget-view+json": {
       "model_id": "64bca1dd7dbf4c869ad8c1442d7a458e",
       "version_major": 2,
       "version_minor": 0
      },
      "text/plain": [
       "Creating json from Arrow format:   0%|          | 0/1 [00:00<?, ?ba/s]"
      ]
     },
     "metadata": {},
     "output_type": "display_data"
    }
   ],
   "source": [
    "data_1 = Collection.from_json(\"med_qa_zhou_cohere.json\")\n",
    "data_2 = Collection.from_json(\"openbook_zhou_eval_chatgpt.json\")\n",
    "\n",
    "absolute_path = \"./input_system/system_template_18.yaml\"\n",
    "system_evaluate(data_1,'gpt-3.5-turbo',absolute_path)\n",
    "data_1.dump(\"medqa_cohere_template_18\")\n",
    "\n",
    "system_evaluate(data_2,'gpt-3.5-turbo',absolute_path)\n",
    "data_2.dump(\"ob_template_18\")"
   ]
  },
  {
   "cell_type": "code",
   "execution_count": 113,
   "metadata": {},
   "outputs": [
    {
     "name": "stdout",
     "output_type": "stream",
     "text": [
      "Generating med_qa...\n"
     ]
    },
    {
     "data": {
      "application/vnd.jupyter.widget-view+json": {
       "model_id": "909492831470432d9e9565baaa7ae312",
       "version_major": 2,
       "version_minor": 0
      },
      "text/plain": [
       "  0%|          | 0/100 [00:00<?, ?ex/s]"
      ]
     },
     "metadata": {},
     "output_type": "display_data"
    },
    {
     "name": "stdout",
     "output_type": "stream",
     "text": [
      "(API-)Error in item 16: That model is currently overloaded with other requests. You can retry your request, or contact us through our help center at help.openai.com if the error persists. (Please include the request ID 34d1ae31deb0db81b693b398113be3bb in your message.)\n",
      "Retrying with additional time of 10 seconds.\n",
      "(API-)Error in item 24: That model is currently overloaded with other requests. You can retry your request, or contact us through our help center at help.openai.com if the error persists. (Please include the request ID 69a4d35e82daaeb8e3e7114def4d8d9c in your message.)\n",
      "Retrying with additional time of 10 seconds.\n",
      "(API-)Error in item 35: That model is currently overloaded with other requests. You can retry your request, or contact us through our help center at help.openai.com if the error persists. (Please include the request ID 04b1fe586beabd4858c64aec195df8ff in your message.)\n",
      "Retrying with additional time of 10 seconds.\n",
      "(API-)Error in item 57: That model is currently overloaded with other requests. You can retry your request, or contact us through our help center at help.openai.com if the error persists. (Please include the request ID c837e9f754a8ca456cae695ef7761069 in your message.)\n",
      "Retrying with additional time of 10 seconds.\n",
      "(API-)Error in item 77: That model is currently overloaded with other requests. You can retry your request, or contact us through our help center at help.openai.com if the error persists. (Please include the request ID 48f7e34a7e40eea6dee7c1fb9caef12b in your message.)\n",
      "Retrying with additional time of 10 seconds.\n"
     ]
    },
    {
     "data": {
      "application/vnd.jupyter.widget-view+json": {
       "model_id": "3f774558693d4f59b13ae1f99574ea18",
       "version_major": 2,
       "version_minor": 0
      },
      "text/plain": [
       "Creating json from Arrow format:   0%|          | 0/1 [00:00<?, ?ba/s]"
      ]
     },
     "metadata": {},
     "output_type": "display_data"
    }
   ],
   "source": [
    "data = Collection.from_json(\"med_qa_zhou_cohere.json\")\n",
    "absolute_path = \"./input_system/system_template_21.yaml\"\n",
    "system_evaluate(data,'gpt-3.5-turbo',absolute_path)\n",
    "data.dump(\"medqa_cohere_template_21\")"
   ]
  },
  {
   "cell_type": "code",
   "execution_count": 114,
   "metadata": {},
   "outputs": [
    {
     "name": "stdout",
     "output_type": "stream",
     "text": [
      "Generating med_qa...\n"
     ]
    },
    {
     "data": {
      "application/vnd.jupyter.widget-view+json": {
       "model_id": "5cc237d8ef204027979b23575cca002b",
       "version_major": 2,
       "version_minor": 0
      },
      "text/plain": [
       "  0%|          | 0/30 [00:00<?, ?ex/s]"
      ]
     },
     "metadata": {},
     "output_type": "display_data"
    },
    {
     "name": "stdout",
     "output_type": "stream",
     "text": [
      "(API-)Error in item 24: Bad gateway. {\"error\":{\"code\":502,\"message\":\"Bad gateway.\",\"param\":null,\"type\":\"cf_bad_gateway\"}} 502 {'error': {'code': 502, 'message': 'Bad gateway.', 'param': None, 'type': 'cf_bad_gateway'}} {'Date': 'Tue, 30 May 2023 00:11:05 GMT', 'Content-Type': 'application/json', 'Content-Length': '84', 'Connection': 'keep-alive', 'X-Frame-Options': 'SAMEORIGIN', 'Referrer-Policy': 'same-origin', 'Cache-Control': 'private, max-age=0, no-store, no-cache, must-revalidate, post-check=0, pre-check=0', 'Expires': 'Thu, 01 Jan 1970 00:00:01 GMT', 'Server': 'cloudflare', 'CF-RAY': '7cf2c1d59abec22b-VIE'}\n",
      "Retrying with additional time of 10 seconds.\n",
      "(API-)Error in item 27: Bad gateway. {\"error\":{\"code\":502,\"message\":\"Bad gateway.\",\"param\":null,\"type\":\"cf_bad_gateway\"}} 502 {'error': {'code': 502, 'message': 'Bad gateway.', 'param': None, 'type': 'cf_bad_gateway'}} {'Date': 'Tue, 30 May 2023 00:13:43 GMT', 'Content-Type': 'application/json', 'Content-Length': '84', 'Connection': 'keep-alive', 'X-Frame-Options': 'SAMEORIGIN', 'Referrer-Policy': 'same-origin', 'Cache-Control': 'private, max-age=0, no-store, no-cache, must-revalidate, post-check=0, pre-check=0', 'Expires': 'Thu, 01 Jan 1970 00:00:01 GMT', 'Server': 'cloudflare', 'CF-RAY': '7cf2c5342973c22b-VIE'}\n",
      "Retrying with additional time of 10 seconds.\n"
     ]
    },
    {
     "data": {
      "application/vnd.jupyter.widget-view+json": {
       "model_id": "b74329ffc3574e6fa6e9ec51874930f8",
       "version_major": 2,
       "version_minor": 0
      },
      "text/plain": [
       "Creating json from Arrow format:   0%|          | 0/1 [00:00<?, ?ba/s]"
      ]
     },
     "metadata": {},
     "output_type": "display_data"
    }
   ],
   "source": [
    "data = Collection.from_json(\"med_qa_zhou_cohere.json\")\n",
    "data = data.select(split=\"test\", number_samples=30, random_samples=True, seed=0)\n",
    "system_evaluate(data,'gpt-4',absolute_path)\n",
    "data.dump(\"medqa_cohere_template_21_gpt_4\")\n"
   ]
  },
  {
   "cell_type": "code",
   "execution_count": 119,
   "metadata": {},
   "outputs": [
    {
     "name": "stdout",
     "output_type": "stream",
     "text": [
      "Generating med_qa...\n"
     ]
    },
    {
     "data": {
      "application/vnd.jupyter.widget-view+json": {
       "model_id": "f1a9db7ccd0c4d06978aeb157fd0797f",
       "version_major": 2,
       "version_minor": 0
      },
      "text/plain": [
       "  0%|          | 0/30 [00:00<?, ?ex/s]"
      ]
     },
     "metadata": {},
     "output_type": "display_data"
    },
    {
     "data": {
      "application/vnd.jupyter.widget-view+json": {
       "model_id": "898ce108f76e4dd28120fb6268f10293",
       "version_major": 2,
       "version_minor": 0
      },
      "text/plain": [
       "Creating json from Arrow format:   0%|          | 0/1 [00:00<?, ?ba/s]"
      ]
     },
     "metadata": {},
     "output_type": "display_data"
    }
   ],
   "source": [
    "absolute_path = \"./input_system/system_template_18.yaml\"\n",
    "system_evaluate(data_1,'gpt-4',absolute_path)\n",
    "data_1.dump(\"medqa_cohere_template_18_gpt4\")\n"
   ]
  },
  {
   "cell_type": "code",
   "execution_count": 131,
   "metadata": {},
   "outputs": [
    {
     "name": "stdout",
     "output_type": "stream",
     "text": [
      "obj_4 [9, 8, 10, 6, 8, 8, 7, 8, 7, 5, 8, 9, 9, 9, 6, 8, 8, 8, 9, 10, 8, 8, 8, 9, 8, 8, 5, 8, 8, 10]\n",
      "obj_8 [9, 9, 10, 8, 9, 9, 8, 9, 8, 7, 9, 9, 9, 9, 7, 9, 9, 8, 9, 10, 9, 9, 9, 9, 9, 9, 8, 9, 9, 10]\n",
      "obj_2 [9, 9, 10, 9, 9, 9, 9, 9, 9, 9, 9, 9, 9, 10, 9, 9, 9, 9, 9, 10, 9, 9, 9, 9, 9, 9, 9, 9, 9, 10]\n",
      "obj_6 [8, 8, 9, 7, 8, 8, 7, 8, 7, 6, 8, 8, 8, 9, 7, 8, 8, 8, 8, 9, 7, 7, 7, 8, 8, 8, 7, 8, 8, 9]\n",
      "obj_9 [8, 7, 8, 5, 8, 7, 5, 8, 5, 3, 7, 8, 8, 8, 3, 7, 8, 7, 8, 9, 8, 6, 6, 8, 8, 7, 1, 8, 8, 9]\n",
      "obj_3 [8, 7, 9, 7, 8, 7, 7, 8, 7, 6, 7, 8, 7, 8, 5, 7, 7, 7, 8, 9, 7, 6, 7, 8, 8, 8, 1, 8, 7, 9]\n",
      "obj_5 [8, 7, 8, 6, 7, 7, 6, 7, 6, 4, 7, 8, 8, 8, 4, 7, 7, 7, 8, 8, 7, 7, 6, 8, 7, 7, 4, 7, 7, 9]\n",
      "obj_1 [9, 8, 10, 8, 9, 8, 8, 8, 8, 8, 8, 9, 8, 10, 8, 8, 8, 8, 9, 10, 8, 8, 8, 9, 9, 9, 8, 9, 8, 10]\n",
      "obj_10 [8, 8, 9, 7, 9, 8, 6, 8, 7, 6, 8, 8, 8, 9, 5, 8, 8, 8, 9, 10, 8, 8, 7, 8, 9, 8, 6, 8, 8, 10]\n",
      "obj_7 [8, 8, 9, 6, 8, 8, 6, 7, 6, 5, 7, 8, 8, 9, 6, 8, 8, 7, 8, 9, 7, 8, 6, 8, 8, 8, 6, 8, 8, 9]\n",
      "obj_11 [9, 9, 10, 9, 9, 9, 9, 9, 9, 1, 9, 9, 9, 10, 9, 9, 9, 9, 9, 10, 9, 9, 9, 9, 9, 10, 10, 9, 9, 10]\n",
      "         Average\n",
      "obj_1   8.533333\n",
      "obj_2   9.133333\n",
      "obj_3   7.200000\n",
      "obj_4   8.000000\n",
      "obj_5   6.900000\n",
      "obj_6   7.800000\n",
      "obj_7   7.500000\n",
      "obj_8   8.800000\n",
      "obj_9   6.866667\n",
      "obj_10  7.900000\n",
      "obj_11  8.933333\n"
     ]
    },
    {
     "ename": "AttributeError",
     "evalue": "'list' object has no attribute 'items'",
     "output_type": "error",
     "traceback": [
      "\u001b[0;31m---------------------------------------------------------------------------\u001b[0m",
      "\u001b[0;31mAttributeError\u001b[0m                            Traceback (most recent call last)",
      "\u001b[1;32m/Users/robertpraas/Desktop/ThoughtSource/notebooks/reflection_messages/reflection_experiments_Robert.ipynb Cell 101\u001b[0m in \u001b[0;36m<cell line: 4>\u001b[0;34m()\u001b[0m\n\u001b[1;32m      <a href='vscode-notebook-cell:/Users/robertpraas/Desktop/ThoughtSource/notebooks/reflection_messages/reflection_experiments_Robert.ipynb#Y535sZmlsZQ%3D%3D?line=1'>2</a>\u001b[0m scores_per_item, scores_per_objective, df \u001b[39m=\u001b[39m process_new_data(data_1,idx_cot\u001b[39m=\u001b[39m\u001b[39m1\u001b[39m,dataset\u001b[39m=\u001b[39m\u001b[39m'\u001b[39m\u001b[39mmed_qa\u001b[39m\u001b[39m'\u001b[39m,split\u001b[39m=\u001b[39m\u001b[39m'\u001b[39m\u001b[39mtest\u001b[39m\u001b[39m'\u001b[39m)\n\u001b[1;32m      <a href='vscode-notebook-cell:/Users/robertpraas/Desktop/ThoughtSource/notebooks/reflection_messages/reflection_experiments_Robert.ipynb#Y535sZmlsZQ%3D%3D?line=2'>3</a>\u001b[0m \u001b[39mprint\u001b[39m(df)\n\u001b[0;32m----> <a href='vscode-notebook-cell:/Users/robertpraas/Desktop/ThoughtSource/notebooks/reflection_messages/reflection_experiments_Robert.ipynb#Y535sZmlsZQ%3D%3D?line=3'>4</a>\u001b[0m average_per_item \u001b[39m=\u001b[39m [\u001b[39msum\u001b[39m(d\u001b[39m.\u001b[39mvalues()) \u001b[39m/\u001b[39m \u001b[39mlen\u001b[39m(d) \u001b[39mfor\u001b[39;00m k,d \u001b[39min\u001b[39;00m scores_per_item\u001b[39m.\u001b[39;49mitems() \u001b[39mif\u001b[39;00m k\u001b[39m!=\u001b[39m\u001b[39m\"\u001b[39m\u001b[39mcritique\u001b[39m\u001b[39m\"\u001b[39m]\n\u001b[1;32m      <a href='vscode-notebook-cell:/Users/robertpraas/Desktop/ThoughtSource/notebooks/reflection_messages/reflection_experiments_Robert.ipynb#Y535sZmlsZQ%3D%3D?line=4'>5</a>\u001b[0m \u001b[39m# average_per_item = [sum(d.values()) / len(d) for k,d in scores_per_item if k!=\"critique\"]\u001b[39;00m\n\u001b[1;32m      <a href='vscode-notebook-cell:/Users/robertpraas/Desktop/ThoughtSource/notebooks/reflection_messages/reflection_experiments_Robert.ipynb#Y535sZmlsZQ%3D%3D?line=5'>6</a>\u001b[0m avg_true_false(data_1,average_per_item,\u001b[39m'\u001b[39m\u001b[39mmed_qa\u001b[39m\u001b[39m'\u001b[39m,\u001b[39m'\u001b[39m\u001b[39mtest\u001b[39m\u001b[39m'\u001b[39m)\n",
      "\u001b[0;31mAttributeError\u001b[0m: 'list' object has no attribute 'items'"
     ]
    }
   ],
   "source": [
    "#chatgpt\n",
    "scores_per_item, scores_per_objective, df = process_new_data(data_1,idx_cot=1,dataset='med_qa',split='test')\n",
    "print(df)\n",
    "average_per_item = [sum(d.values()) / len(d) for k,d in scores_per_item.items() if k!=\"critique\"]\n",
    "# average_per_item = [sum(d.values()) / len(d) for k,d in scores_per_item if k!=\"critique\"]\n",
    "avg_true_false(data_1,average_per_item,'med_qa','test')\n",
    "freq_bar_plot(scores_per_item)\n",
    "avg_item_plot(scores_per_objective)"
   ]
  },
  {
   "cell_type": "code",
   "execution_count": 123,
   "metadata": {},
   "outputs": [
    {
     "name": "stdout",
     "output_type": "stream",
     "text": [
      "obj_4 [10, 6, 10, 6, 8, 6, 3, 10, 6, 6, 7, 8, 8, 9, 3, 7, 7, 7, 8, 7, 9, 7, 7, 8, 8, 7, 8, 9, 7, 9]\n",
      "obj_8 [10, 6, 10, 6, 9, 6, 3, 10, 6, 6, 8, 9, 9, 9, 3, 8, 7, 8, 9, 7, 10, 9, 7, 9, 8, 7, 9, 9, 7, 10]\n",
      "obj_2 [10, 6, 10, 6, 8, 6, 4, 10, 6, 6, 8, 8, 8, 9, 3, 8, 7, 7, 8, 7, 9, 9, 7, 8, 8, 8, 8, 9, 6, 9]\n",
      "obj_6 [10, 7, 10, 6, 8, 7, 3, 10, 6, 6, 8, 8, 8, 9, 3, 8, 8, 7, 8, 7, 9, 9, 7, 8, 8, 8, 8, 9, 7, 9]\n",
      "obj_9 [9, 5, 9, 5, 7, 5, 1, 9, 5, 5, 6, 7, 7, 7, 1, 5, 6, 6, 7, 6, 8, 6, 5, 7, 7, 6, 7, 8, 5, 8]\n",
      "obj_3 [10, 9, 10, 8, 10, 9, 1, 10, 5, 7, 9, 8, 9, 10, 1, 10, 9, 9, 9, 9, 10, 10, 6, 9, 9, 6, 10, 10, 8, 10]\n",
      "obj_5 [9, 7, 9, 6, 8, 7, 2, 9, 6, 6, 7, 8, 8, 9, 2, 7, 7, 7, 8, 7, 9, 7, 7, 8, 8, 7, 8, 9, 7, 9]\n",
      "obj_1 [10, 8, 10, 7, 9, 7, 5, 10, 7, 6, 9, 9, 9, 10, 3, 9, 8, 8, 9, 8, 10, 8, 8, 9, 9, 7, 9, 10, 7, 10]\n",
      "obj_10 [10, 7, 10, 7, 9, 7, 3, 10, 6, 6, 8, 9, 9, 9, 3, 8, 8, 8, 8, 7, 10, 9, 7, 9, 8, 8, 9, 10, 7, 9]\n",
      "obj_7 [9, 6, 9, 5, 7, 5, 2, 9, 5, 5, 7, 7, 7, 8, 3, 6, 6, 6, 7, 6, 8, 8, 6, 7, 7, 6, 7, 8, 6, 8]\n",
      "obj_11 [10, 4, 10, 6, 10, 8, 6, 10, 9, 6, 10, 10, 10, 10, 3, 10, 9, 10, 10, 8, 10, 10, 9, 10, 9, 3, 10, 10, 9, 10]\n",
      "         Average\n",
      "obj_1   8.266667\n",
      "obj_2   7.533333\n",
      "obj_3   8.333333\n",
      "obj_4   7.366667\n",
      "obj_5   7.266667\n",
      "obj_6   7.633333\n",
      "obj_7   6.533333\n",
      "obj_8   7.800000\n",
      "obj_9   6.166667\n",
      "obj_10  7.933333\n",
      "obj_11  8.633333\n",
      "scores true: 8.8\n",
      "scores false: 6.9818181818181815\n"
     ]
    },
    {
     "data": {
      "image/png": "[encoded data removed]",
      "text/plain": [
       "<Figure size 432x288 with 1 Axes>"
      ]
     },
     "metadata": {
      "needs_background": "light"
     },
     "output_type": "display_data"
    },
    {
     "data": {
      "image/png": "[encoded data removed]",
      "text/plain": [
       "<Figure size 432x288 with 1 Axes>"
      ]
     },
     "metadata": {
      "needs_background": "light"
     },
     "output_type": "display_data"
    }
   ],
   "source": [
    "#gpt-4\n",
    "scores_per_item, scores_per_objective, df = process_new_data(data_1,idx_cot=3,dataset='med_qa',split='test')\n",
    "print(df)\n",
    "average_per_item = [sum(d.values()) / len(d) for d in scores_per_item]\n",
    "avg_true_false(data_1,average_per_item,'med_qa','test')\n",
    "freq_bar_plot(scores_per_item)\n",
    "avg_item_plot(scores_per_objective)"
   ]
  },
  {
   "cell_type": "code",
   "execution_count": 117,
   "metadata": {},
   "outputs": [
    {
     "name": "stdout",
     "output_type": "stream",
     "text": [
      "Generating open_book_qa...\n"
     ]
    },
    {
     "data": {
      "application/vnd.jupyter.widget-view+json": {
       "model_id": "5eef4d967edc40e1b94a83d5bfc48871",
       "version_major": 2,
       "version_minor": 0
      },
      "text/plain": [
       "  0%|          | 0/30 [00:00<?, ?ex/s]"
      ]
     },
     "metadata": {},
     "output_type": "display_data"
    },
    {
     "data": {
      "application/vnd.jupyter.widget-view+json": {
       "model_id": "5de133a7d3cb442e9a2d7e5a7e37a998",
       "version_major": 2,
       "version_minor": 0
      },
      "text/plain": [
       "Creating json from Arrow format:   0%|          | 0/1 [00:00<?, ?ba/s]"
      ]
     },
     "metadata": {},
     "output_type": "display_data"
    }
   ],
   "source": [
    "#absolute_path = \"./input_system/system_template_21.yaml\"\n",
    "data_2 = data_2.select(split=\"test\", number_samples=30, random_samples=True, seed=0)\n",
    "system_evaluate(data_2,'gpt-4',absolute_path)\n",
    "data_2.dump(\"ob_template_18_gpt4\")"
   ]
  },
  {
   "cell_type": "code",
   "execution_count": 172,
   "metadata": {},
   "outputs": [
    {
     "name": "stderr",
     "output_type": "stream",
     "text": [
      "Reusing dataset med_qa_dataset (/Users/robertpraas/.cache/huggingface/datasets/med_qa_dataset/thoughtsource/1.0.0/80feaf4e24940034debbd30deb9eeac25df0c6d1dfe2d8fb0cb497c9f549a35c)\n"
     ]
    },
    {
     "name": "stdout",
     "output_type": "stream",
     "text": [
      "Loading med_qa...\n"
     ]
    },
    {
     "data": {
      "application/vnd.jupyter.widget-view+json": {
       "model_id": "6cd5ac398c0d4a8ba8448b87bd51b1bf",
       "version_major": 2,
       "version_minor": 0
      },
      "text/plain": [
       "  0%|          | 0/3 [00:00<?, ?it/s]"
      ]
     },
     "metadata": {},
     "output_type": "display_data"
    },
    {
     "name": "stdout",
     "output_type": "stream",
     "text": [
      "wrong output found\n",
      "wrong output found\n",
      "wrong output found\n",
      "wrong output found\n",
      "wrong output found\n",
      "wrong output found\n",
      "wrong output found\n",
      "wrong output found\n",
      "wrong output found\n",
      "wrong output found\n",
      "wrong output found\n",
      "wrong output found\n",
      "wrong output found\n",
      "wrong output found\n",
      "wrong output found\n",
      "wrong output found\n",
      "wrong output found\n",
      "wrong output found\n",
      "wrong output found\n",
      "wrong output found\n",
      "wrong output found\n",
      "wrong output found\n"
     ]
    },
    {
     "ename": "KeyboardInterrupt",
     "evalue": "",
     "output_type": "error",
     "traceback": [
      "\u001b[0;31m---------------------------------------------------------------------------\u001b[0m",
      "\u001b[0;31mKeyboardInterrupt\u001b[0m                         Traceback (most recent call last)",
      "\u001b[1;32m/Users/robertpraas/Desktop/ThoughtSource/notebooks/reflection_messages/reflection_experiments_Robert.ipynb Cell 141\u001b[0m in \u001b[0;36m<cell line: 3>\u001b[0;34m()\u001b[0m\n\u001b[1;32m      <a href='vscode-notebook-cell:/Users/robertpraas/Desktop/ThoughtSource/notebooks/reflection_messages/reflection_experiments_Robert.ipynb#Z1002sZmlsZQ%3D%3D?line=0'>1</a>\u001b[0m \u001b[39m#template 18 did not work with formatting\u001b[39;00m\n\u001b[1;32m      <a href='vscode-notebook-cell:/Users/robertpraas/Desktop/ThoughtSource/notebooks/reflection_messages/reflection_experiments_Robert.ipynb#Z1002sZmlsZQ%3D%3D?line=1'>2</a>\u001b[0m data \u001b[39m=\u001b[39m Collection\u001b[39m.\u001b[39mfrom_json(\u001b[39m\"\u001b[39m\u001b[39mob_template_18_gpt4\u001b[39m\u001b[39m\"\u001b[39m)\n\u001b[0;32m----> <a href='vscode-notebook-cell:/Users/robertpraas/Desktop/ThoughtSource/notebooks/reflection_messages/reflection_experiments_Robert.ipynb#Z1002sZmlsZQ%3D%3D?line=2'>3</a>\u001b[0m scores_per_item, variables_per_item \u001b[39m=\u001b[39m parse_data(data,idx_cot\u001b[39m=\u001b[39;49m\u001b[39m1\u001b[39;49m,dataset\u001b[39m=\u001b[39;49m\u001b[39m'\u001b[39;49m\u001b[39mmed_qa\u001b[39;49m\u001b[39m'\u001b[39;49m,split\u001b[39m=\u001b[39;49m\u001b[39m'\u001b[39;49m\u001b[39mtest\u001b[39;49m\u001b[39m'\u001b[39;49m)\n\u001b[1;32m      <a href='vscode-notebook-cell:/Users/robertpraas/Desktop/ThoughtSource/notebooks/reflection_messages/reflection_experiments_Robert.ipynb#Z1002sZmlsZQ%3D%3D?line=3'>4</a>\u001b[0m scores_per_item \u001b[39m=\u001b[39m fix_str_score(scores_per_item)\n\u001b[1;32m      <a href='vscode-notebook-cell:/Users/robertpraas/Desktop/ThoughtSource/notebooks/reflection_messages/reflection_experiments_Robert.ipynb#Z1002sZmlsZQ%3D%3D?line=4'>5</a>\u001b[0m scores_per_objective, df \u001b[39m=\u001b[39m get_further_data(scores_per_item)\n",
      "\u001b[1;32m/Users/robertpraas/Desktop/ThoughtSource/notebooks/reflection_messages/reflection_experiments_Robert.ipynb Cell 141\u001b[0m in \u001b[0;36mparse_data\u001b[0;34m(new_data, idx_cot, dataset, split)\u001b[0m\n\u001b[1;32m      <a href='vscode-notebook-cell:/Users/robertpraas/Desktop/ThoughtSource/notebooks/reflection_messages/reflection_experiments_Robert.ipynb#Z1002sZmlsZQ%3D%3D?line=1'>2</a>\u001b[0m scores_per_item \u001b[39m=\u001b[39m []\n\u001b[1;32m      <a href='vscode-notebook-cell:/Users/robertpraas/Desktop/ThoughtSource/notebooks/reflection_messages/reflection_experiments_Robert.ipynb#Z1002sZmlsZQ%3D%3D?line=2'>3</a>\u001b[0m variables_per_item \u001b[39m=\u001b[39m []\n\u001b[0;32m----> <a href='vscode-notebook-cell:/Users/robertpraas/Desktop/ThoughtSource/notebooks/reflection_messages/reflection_experiments_Robert.ipynb#Z1002sZmlsZQ%3D%3D?line=3'>4</a>\u001b[0m \u001b[39mfor\u001b[39;00m item \u001b[39min\u001b[39;00m new_data[dataset][split]:\n\u001b[1;32m      <a href='vscode-notebook-cell:/Users/robertpraas/Desktop/ThoughtSource/notebooks/reflection_messages/reflection_experiments_Robert.ipynb#Z1002sZmlsZQ%3D%3D?line=4'>5</a>\u001b[0m     \u001b[39mtry\u001b[39;00m:\n\u001b[1;32m      <a href='vscode-notebook-cell:/Users/robertpraas/Desktop/ThoughtSource/notebooks/reflection_messages/reflection_experiments_Robert.ipynb#Z1002sZmlsZQ%3D%3D?line=5'>6</a>\u001b[0m         data \u001b[39m=\u001b[39m yaml\u001b[39m.\u001b[39mload(item[\u001b[39m'\u001b[39m\u001b[39mgenerated_cot\u001b[39m\u001b[39m'\u001b[39m][idx_cot][\u001b[39m'\u001b[39m\u001b[39mcot\u001b[39m\u001b[39m'\u001b[39m], Loader\u001b[39m=\u001b[39myaml\u001b[39m.\u001b[39mFullLoader)\n",
      "File \u001b[0;32m/opt/anaconda3/lib/python3.9/site-packages/datasets/arrow_dataset.py:1497\u001b[0m, in \u001b[0;36mDataset._iter\u001b[0;34m(self, decoded)\u001b[0m\n\u001b[1;32m   1491\u001b[0m \u001b[39m\"\"\"Iterate through the examples.\u001b[39;00m\n\u001b[1;32m   1492\u001b[0m \n\u001b[1;32m   1493\u001b[0m \u001b[39mIf a formatting is set with :meth:`Dataset.set_format` rows will be returned with the\u001b[39;00m\n\u001b[1;32m   1494\u001b[0m \u001b[39mselected format.\u001b[39;00m\n\u001b[1;32m   1495\u001b[0m \u001b[39m\"\"\"\u001b[39;00m\n\u001b[1;32m   1496\u001b[0m \u001b[39mfor\u001b[39;00m index \u001b[39min\u001b[39;00m \u001b[39mrange\u001b[39m(\u001b[39mself\u001b[39m\u001b[39m.\u001b[39mnum_rows):\n\u001b[0;32m-> 1497\u001b[0m     \u001b[39myield\u001b[39;00m \u001b[39mself\u001b[39;49m\u001b[39m.\u001b[39;49m_getitem(\n\u001b[1;32m   1498\u001b[0m         index,\n\u001b[1;32m   1499\u001b[0m         decoded\u001b[39m=\u001b[39;49mdecoded,\n\u001b[1;32m   1500\u001b[0m     )\n",
      "File \u001b[0;32m/opt/anaconda3/lib/python3.9/site-packages/datasets/arrow_dataset.py:1749\u001b[0m, in \u001b[0;36mDataset._getitem\u001b[0;34m(self, key, decoded, **kwargs)\u001b[0m\n\u001b[1;32m   1747\u001b[0m formatter \u001b[39m=\u001b[39m get_formatter(format_type, features\u001b[39m=\u001b[39m\u001b[39mself\u001b[39m\u001b[39m.\u001b[39mfeatures, decoded\u001b[39m=\u001b[39mdecoded, \u001b[39m*\u001b[39m\u001b[39m*\u001b[39mformat_kwargs)\n\u001b[1;32m   1748\u001b[0m pa_subtable \u001b[39m=\u001b[39m query_table(\u001b[39mself\u001b[39m\u001b[39m.\u001b[39m_data, key, indices\u001b[39m=\u001b[39m\u001b[39mself\u001b[39m\u001b[39m.\u001b[39m_indices \u001b[39mif\u001b[39;00m \u001b[39mself\u001b[39m\u001b[39m.\u001b[39m_indices \u001b[39mis\u001b[39;00m \u001b[39mnot\u001b[39;00m \u001b[39mNone\u001b[39;00m \u001b[39melse\u001b[39;00m \u001b[39mNone\u001b[39;00m)\n\u001b[0;32m-> 1749\u001b[0m formatted_output \u001b[39m=\u001b[39m format_table(\n\u001b[1;32m   1750\u001b[0m     pa_subtable, key, formatter\u001b[39m=\u001b[39;49mformatter, format_columns\u001b[39m=\u001b[39;49mformat_columns, output_all_columns\u001b[39m=\u001b[39;49moutput_all_columns\n\u001b[1;32m   1751\u001b[0m )\n\u001b[1;32m   1752\u001b[0m \u001b[39mreturn\u001b[39;00m formatted_output\n",
      "File \u001b[0;32m/opt/anaconda3/lib/python3.9/site-packages/datasets/formatting/formatting.py:532\u001b[0m, in \u001b[0;36mformat_table\u001b[0;34m(table, key, formatter, format_columns, output_all_columns)\u001b[0m\n\u001b[1;32m    530\u001b[0m python_formatter \u001b[39m=\u001b[39m PythonFormatter(features\u001b[39m=\u001b[39m\u001b[39mNone\u001b[39;00m)\n\u001b[1;32m    531\u001b[0m \u001b[39mif\u001b[39;00m format_columns \u001b[39mis\u001b[39;00m \u001b[39mNone\u001b[39;00m:\n\u001b[0;32m--> 532\u001b[0m     \u001b[39mreturn\u001b[39;00m formatter(pa_table, query_type\u001b[39m=\u001b[39;49mquery_type)\n\u001b[1;32m    533\u001b[0m \u001b[39melif\u001b[39;00m query_type \u001b[39m==\u001b[39m \u001b[39m\"\u001b[39m\u001b[39mcolumn\u001b[39m\u001b[39m\"\u001b[39m:\n\u001b[1;32m    534\u001b[0m     \u001b[39mif\u001b[39;00m key \u001b[39min\u001b[39;00m format_columns:\n",
      "File \u001b[0;32m/opt/anaconda3/lib/python3.9/site-packages/datasets/formatting/formatting.py:281\u001b[0m, in \u001b[0;36mFormatter.__call__\u001b[0;34m(self, pa_table, query_type)\u001b[0m\n\u001b[1;32m    279\u001b[0m \u001b[39mdef\u001b[39;00m \u001b[39m__call__\u001b[39m(\u001b[39mself\u001b[39m, pa_table: pa\u001b[39m.\u001b[39mTable, query_type: \u001b[39mstr\u001b[39m) \u001b[39m-\u001b[39m\u001b[39m>\u001b[39m Union[RowFormat, ColumnFormat, BatchFormat]:\n\u001b[1;32m    280\u001b[0m     \u001b[39mif\u001b[39;00m query_type \u001b[39m==\u001b[39m \u001b[39m\"\u001b[39m\u001b[39mrow\u001b[39m\u001b[39m\"\u001b[39m:\n\u001b[0;32m--> 281\u001b[0m         \u001b[39mreturn\u001b[39;00m \u001b[39mself\u001b[39;49m\u001b[39m.\u001b[39;49mformat_row(pa_table)\n\u001b[1;32m    282\u001b[0m     \u001b[39melif\u001b[39;00m query_type \u001b[39m==\u001b[39m \u001b[39m\"\u001b[39m\u001b[39mcolumn\u001b[39m\u001b[39m\"\u001b[39m:\n\u001b[1;32m    283\u001b[0m         \u001b[39mreturn\u001b[39;00m \u001b[39mself\u001b[39m\u001b[39m.\u001b[39mformat_column(pa_table)\n",
      "File \u001b[0;32m/opt/anaconda3/lib/python3.9/site-packages/datasets/formatting/formatting.py:310\u001b[0m, in \u001b[0;36mPythonFormatter.format_row\u001b[0;34m(self, pa_table)\u001b[0m\n\u001b[1;32m    309\u001b[0m \u001b[39mdef\u001b[39;00m \u001b[39mformat_row\u001b[39m(\u001b[39mself\u001b[39m, pa_table: pa\u001b[39m.\u001b[39mTable) \u001b[39m-\u001b[39m\u001b[39m>\u001b[39m \u001b[39mdict\u001b[39m:\n\u001b[0;32m--> 310\u001b[0m     row \u001b[39m=\u001b[39m \u001b[39mself\u001b[39;49m\u001b[39m.\u001b[39;49mpython_arrow_extractor()\u001b[39m.\u001b[39;49mextract_row(pa_table)\n\u001b[1;32m    311\u001b[0m     \u001b[39mif\u001b[39;00m \u001b[39mself\u001b[39m\u001b[39m.\u001b[39mdecoded:\n\u001b[1;32m    312\u001b[0m         row \u001b[39m=\u001b[39m \u001b[39mself\u001b[39m\u001b[39m.\u001b[39mpython_features_decoder\u001b[39m.\u001b[39mdecode_row(row)\n",
      "File \u001b[0;32m/opt/anaconda3/lib/python3.9/site-packages/datasets/formatting/formatting.py:140\u001b[0m, in \u001b[0;36mPythonArrowExtractor.extract_row\u001b[0;34m(self, pa_table)\u001b[0m\n\u001b[1;32m    139\u001b[0m \u001b[39mdef\u001b[39;00m \u001b[39mextract_row\u001b[39m(\u001b[39mself\u001b[39m, pa_table: pa\u001b[39m.\u001b[39mTable) \u001b[39m-\u001b[39m\u001b[39m>\u001b[39m \u001b[39mdict\u001b[39m:\n\u001b[0;32m--> 140\u001b[0m     \u001b[39mreturn\u001b[39;00m _unnest(pa_table\u001b[39m.\u001b[39;49mto_pydict())\n",
      "File \u001b[0;32m/opt/anaconda3/lib/python3.9/site-packages/pyarrow/table.pxi:3921\u001b[0m, in \u001b[0;36mpyarrow.lib.Table.to_pydict\u001b[0;34m()\u001b[0m\n",
      "File \u001b[0;32m/opt/anaconda3/lib/python3.9/site-packages/pyarrow/table.pxi:1258\u001b[0m, in \u001b[0;36mpyarrow.lib.ChunkedArray.to_pylist\u001b[0;34m()\u001b[0m\n",
      "File \u001b[0;32m/opt/anaconda3/lib/python3.9/site-packages/pyarrow/array.pxi:1464\u001b[0m, in \u001b[0;36mpyarrow.lib.Array.to_pylist\u001b[0;34m()\u001b[0m\n",
      "File \u001b[0;32m/opt/anaconda3/lib/python3.9/site-packages/pyarrow/scalar.pxi:632\u001b[0m, in \u001b[0;36mpyarrow.lib.ListScalar.as_py\u001b[0;34m()\u001b[0m\n",
      "File \u001b[0;32m/opt/anaconda3/lib/python3.9/site-packages/pyarrow/array.pxi:1464\u001b[0m, in \u001b[0;36mpyarrow.lib.Array.to_pylist\u001b[0;34m()\u001b[0m\n",
      "File \u001b[0;32m/opt/anaconda3/lib/python3.9/site-packages/pyarrow/scalar.pxi:705\u001b[0m, in \u001b[0;36mpyarrow.lib.StructScalar.as_py\u001b[0;34m()\u001b[0m\n",
      "File \u001b[0;32m/opt/anaconda3/lib/python3.9/site-packages/pyarrow/scalar.pxi:632\u001b[0m, in \u001b[0;36mpyarrow.lib.ListScalar.as_py\u001b[0;34m()\u001b[0m\n",
      "File \u001b[0;32m/opt/anaconda3/lib/python3.9/site-packages/pyarrow/array.pxi:1464\u001b[0m, in \u001b[0;36mpyarrow.lib.Array.to_pylist\u001b[0;34m()\u001b[0m\n",
      "File \u001b[0;32m/opt/anaconda3/lib/python3.9/site-packages/pyarrow/scalar.pxi:705\u001b[0m, in \u001b[0;36mpyarrow.lib.StructScalar.as_py\u001b[0;34m()\u001b[0m\n",
      "File \u001b[0;32m/opt/anaconda3/lib/python3.9/_collections_abc.py:826\u001b[0m, in \u001b[0;36mKeysView.__iter__\u001b[0;34m(self)\u001b[0m\n\u001b[1;32m    825\u001b[0m \u001b[39mdef\u001b[39;00m \u001b[39m__iter__\u001b[39m(\u001b[39mself\u001b[39m):\n\u001b[0;32m--> 826\u001b[0m     \u001b[39myield from\u001b[39;00m \u001b[39mself\u001b[39m\u001b[39m.\u001b[39m_mapping\n",
      "\u001b[0;31mKeyboardInterrupt\u001b[0m: "
     ]
    }
   ],
   "source": [
    "#template 18 did not work with formatting\n",
    "data = Collection.from_json(\"ob_template_18_gpt4\")\n",
    "scores_per_item, variables_per_item = parse_data(data,idx_cot=1,dataset='med_qa',split='test')\n",
    "scores_per_item = fix_str_score(scores_per_item)\n",
    "scores_per_objective, df = get_further_data(scores_per_item)\n",
    "print(df)\n",
    "average_per_item = [sum(d.values()) / len(d) for d in scores_per_item]\n",
    "#avg_true_false(cohere_false,average_per_item,'med_qa','test')\n",
    "freq_bar_plot(scores_per_item)\n",
    "avg_item_plot(scores_per_objective)"
   ]
  },
  {
   "attachments": {},
   "cell_type": "markdown",
   "metadata": {},
   "source": [
    "## System experiment"
   ]
  },
  {
   "cell_type": "code",
   "execution_count": null,
   "metadata": {},
   "outputs": [],
   "source": [
    "#system experiment\n",
    "#rate error!!\n",
    "\n",
    "path = \"./input_system/system_template_17.yaml\"\n",
    "data = Collection.load_thoughtsource_100(names = ['medmc_qa'],load_pregenerated_cots=False)\n",
    "system_experiment(data,'gpt-3.5-turbo', path)\n",
    "data.dump(\"medmc_template_17\")\n"
   ]
  },
  {
   "cell_type": "code",
   "execution_count": null,
   "metadata": {},
   "outputs": [],
   "source": [
    "gpt_4_test = Collection.from_json(\"/Users/robertpraas/Desktop/ThoughtSource/notebooks/internal_documentation/paper_2/filtered_thoughtsource_100_gpt-4_None_false.json\")\n",
    "gpt_4_test"
   ]
  },
  {
   "attachments": {},
   "cell_type": "markdown",
   "metadata": {},
   "source": [
    "## TO run"
   ]
  },
  {
   "cell_type": "code",
   "execution_count": null,
   "metadata": {},
   "outputs": [],
   "source": [
    "# Can GPT-4 improve GPT-3.5?\n",
    "\n",
    "#best candidates templ 15, (18) 20 (21)\n",
    "\n",
    "# If so, how can GPT-4 help itself?\n",
    "# What can we do with the objectives? look at obj scores of true and false"
   ]
  },
  {
   "cell_type": "code",
   "execution_count": 184,
   "metadata": {},
   "outputs": [],
   "source": [
    "medqa_data = Collection.from_json(\"med_qa_zhou_eval.json\")\n",
    "ob_data = Collection.from_json(\"medmc_zhou_eval_chatgpt.json\")\n",
    "medmc_data = Collection.from_json(\"openbook_zhou_eval_chatgpt.json\")\n",
    "\n"
   ]
  },
  {
   "cell_type": "code",
   "execution_count": 185,
   "metadata": {},
   "outputs": [
    {
     "name": "stdout",
     "output_type": "stream",
     "text": [
      "Generating med_qa...\n"
     ]
    },
    {
     "data": {
      "application/vnd.jupyter.widget-view+json": {
       "model_id": "94379c3a417b4c9bb70e943cfddf5baf",
       "version_major": 2,
       "version_minor": 0
      },
      "text/plain": [
       "  0%|          | 0/30 [00:00<?, ?ex/s]"
      ]
     },
     "metadata": {},
     "output_type": "display_data"
    }
   ],
   "source": [
    "medqa_data = medqa_data.select(split=\"test\", number_samples=30, random_samples=False, seed=0)\n",
    "absolute_path = \"./input_system/system_template_15_eval.yaml\"\n",
    "system_evaluate(medqa_data,'gpt-4',absolute_path)\n"
   ]
  },
  {
   "cell_type": "code",
   "execution_count": 245,
   "metadata": {},
   "outputs": [
    {
     "name": "stdout",
     "output_type": "stream",
     "text": [
      "wrong output found\n",
      "wrong output found\n",
      "wrong output found\n",
      "wrong output found\n",
      "wrong output found\n",
      "wrong output found\n",
      "wrong output found\n",
      "wrong output found\n",
      "wrong output found\n",
      "wrong output found\n",
      "wrong output found\n",
      "wrong output found\n",
      "wrong output found\n",
      "wrong output found\n",
      "wrong output found\n",
      "wrong output found\n",
      "wrong output found\n",
      "wrong output found\n"
     ]
    },
    {
     "data": {
      "text/plain": [
       "[{'obj_1': 10,\n",
       "  'obj_2': 10,\n",
       "  'obj_3': 9,\n",
       "  'obj_4': 10,\n",
       "  'obj_5': 10,\n",
       "  'obj_6': 10,\n",
       "  'obj_7': 10,\n",
       "  'obj_8': 10,\n",
       "  'obj_9': 8,\n",
       "  'obj_10': 10,\n",
       "  'obj_11': 10},\n",
       " {'obj_1': 10,\n",
       "  'obj_2': 10,\n",
       "  'obj_3': 10,\n",
       "  'obj_4': 10,\n",
       "  'obj_5': 10,\n",
       "  'obj_6': 10,\n",
       "  'obj_7': 10,\n",
       "  'obj_8': None},\n",
       " {'obj_1': 10,\n",
       "  'obj_2': 10,\n",
       "  'obj_3': 'N/A',\n",
       "  'obj_4': 10,\n",
       "  'obj_5': 10,\n",
       "  'obj_6': 10,\n",
       "  'obj_7': 10,\n",
       "  'obj_8': 10,\n",
       "  'obj_9': 8,\n",
       "  'obj_10': 10,\n",
       "  'obj_11': 10},\n",
       " {'obj_1': 10,\n",
       "  'obj_2': 10,\n",
       "  'obj_3': 10,\n",
       "  'obj_4': 10,\n",
       "  'obj_5': 10,\n",
       "  'obj_6': 10,\n",
       "  'obj_7': 9,\n",
       "  'obj_8': 10,\n",
       "  'obj_9': 10,\n",
       "  'obj_10': 10,\n",
       "  'obj_11': 10},\n",
       " {'obj_1': 10,\n",
       "  'obj_2': 10,\n",
       "  'obj_3': 10,\n",
       "  'obj_4': 10,\n",
       "  'obj_5': 10,\n",
       "  'obj_6': 10,\n",
       "  'obj_7': 9,\n",
       "  'obj_8': 10,\n",
       "  'obj_9': 10,\n",
       "  'obj_10': 10,\n",
       "  'obj_11': 10},\n",
       " {'obj_1': 10,\n",
       "  'obj_2': 10,\n",
       "  'obj_3': 9,\n",
       "  'obj_4': 10,\n",
       "  'obj_5': 10,\n",
       "  'obj_6': 10,\n",
       "  'obj_7': 9,\n",
       "  'obj_8': 10,\n",
       "  'obj_9': 10,\n",
       "  'obj_10': 10,\n",
       "  'obj_11': 10},\n",
       " {'obj_1': 10,\n",
       "  'obj_2': 10,\n",
       "  'obj_3': 'N/A',\n",
       "  'obj_4': 10,\n",
       "  'obj_5': 10,\n",
       "  'obj_6': 10,\n",
       "  'obj_7': 10,\n",
       "  'obj_8': 10,\n",
       "  'obj_9': 'N/A',\n",
       "  'obj_10': 10,\n",
       "  'obj_11': 10},\n",
       " {'obj_1': 10,\n",
       "  'obj_2': 10,\n",
       "  'obj_3': 10,\n",
       "  'obj_4': 10,\n",
       "  'obj_5': 10,\n",
       "  'obj_6': 10,\n",
       "  'obj_7': 10,\n",
       "  'obj_8': 10,\n",
       "  'obj_9': 9,\n",
       "  'obj_10': 10,\n",
       "  'obj_11': 10},\n",
       " {'obj_1': 10,\n",
       "  'obj_2': 10,\n",
       "  'obj_3': 10,\n",
       "  'obj_4': 10,\n",
       "  'obj_5': 10,\n",
       "  'obj_6': 10,\n",
       "  'obj_7': 10,\n",
       "  'obj_8': 10,\n",
       "  'obj_9': None},\n",
       " {'obj_1': 10,\n",
       "  'obj_2': 10,\n",
       "  'obj_3': 'N/A',\n",
       "  'obj_4': 10,\n",
       "  'obj_5': 10,\n",
       "  'obj_6': 10,\n",
       "  'obj_7': 10,\n",
       "  'obj_8': 10,\n",
       "  'obj_9': 8,\n",
       "  'obj_10': 10,\n",
       "  'obj_11': 10},\n",
       " {'obj_1': 10,\n",
       "  'obj_2': 7,\n",
       "  'obj_3': 10,\n",
       "  'obj_4': 6,\n",
       "  'obj_5': 10,\n",
       "  'obj_6': 6,\n",
       "  'obj_7': 6,\n",
       "  'obj_8': None},\n",
       " {'obj_1': 10,\n",
       "  'obj_2': 10,\n",
       "  'obj_3': 9,\n",
       "  'obj_4': 10,\n",
       "  'obj_5': 10,\n",
       "  'obj_6': 10,\n",
       "  'obj_7': 10,\n",
       "  'obj_8': 10,\n",
       "  'obj_9': 8,\n",
       "  'obj_10': None}]"
      ]
     },
     "execution_count": 245,
     "metadata": {},
     "output_type": "execute_result"
    }
   ],
   "source": [
    "scores_per_item, variables_per_item, statements = parse_lst_data(medqa_data,idx_cot=1,dataset='med_qa',split='test')\n",
    "scores_per_item"
   ]
  },
  {
   "cell_type": "code",
   "execution_count": null,
   "metadata": {},
   "outputs": [
    {
     "name": "stdout",
     "output_type": "stream",
     "text": [
      "wrong output found\n",
      "wrong output found\n",
      "wrong output found\n",
      "wrong output found\n",
      "wrong output found\n",
      "wrong output found\n",
      "wrong output found\n",
      "wrong output found\n",
      "wrong output found\n",
      "wrong output found\n",
      "wrong output found\n",
      "wrong output found\n",
      "wrong output found\n",
      "wrong output found\n",
      "wrong output found\n",
      "wrong output found\n",
      "wrong output found\n",
      "wrong output found\n"
     ]
    },
    {
     "data": {
      "text/plain": [
       "[{'obj_1': 10,\n",
       "  'obj_2': 10,\n",
       "  'obj_3': 9,\n",
       "  'obj_4': 10,\n",
       "  'obj_5': 10,\n",
       "  'obj_6': 10,\n",
       "  'obj_7': 10,\n",
       "  'obj_8': 10,\n",
       "  'obj_9': 8,\n",
       "  'obj_10': 10,\n",
       "  'obj_11': 10},\n",
       " {'obj_1': 10,\n",
       "  'obj_2': 10,\n",
       "  'obj_3': 10,\n",
       "  'obj_4': 10,\n",
       "  'obj_5': 10,\n",
       "  'obj_6': 10,\n",
       "  'obj_7': 10,\n",
       "  'obj_8': None},\n",
       " {'obj_1': 10,\n",
       "  'obj_2': 10,\n",
       "  'obj_3': 'N/A',\n",
       "  'obj_4': 10,\n",
       "  'obj_5': 10,\n",
       "  'obj_6': 10,\n",
       "  'obj_7': 10,\n",
       "  'obj_8': 10,\n",
       "  'obj_9': 8,\n",
       "  'obj_10': 10,\n",
       "  'obj_11': 10},\n",
       " {'obj_1': 10,\n",
       "  'obj_2': 10,\n",
       "  'obj_3': 10,\n",
       "  'obj_4': 10,\n",
       "  'obj_5': 10,\n",
       "  'obj_6': 10,\n",
       "  'obj_7': 9,\n",
       "  'obj_8': 10,\n",
       "  'obj_9': 10,\n",
       "  'obj_10': 10,\n",
       "  'obj_11': 10},\n",
       " {'obj_1': 10,\n",
       "  'obj_2': 10,\n",
       "  'obj_3': 10,\n",
       "  'obj_4': 10,\n",
       "  'obj_5': 10,\n",
       "  'obj_6': 10,\n",
       "  'obj_7': 9,\n",
       "  'obj_8': 10,\n",
       "  'obj_9': 10,\n",
       "  'obj_10': 10,\n",
       "  'obj_11': 10},\n",
       " {'obj_1': 10,\n",
       "  'obj_2': 10,\n",
       "  'obj_3': 9,\n",
       "  'obj_4': 10,\n",
       "  'obj_5': 10,\n",
       "  'obj_6': 10,\n",
       "  'obj_7': 9,\n",
       "  'obj_8': 10,\n",
       "  'obj_9': 10,\n",
       "  'obj_10': 10,\n",
       "  'obj_11': 10},\n",
       " {'obj_1': 10,\n",
       "  'obj_2': 10,\n",
       "  'obj_3': 'N/A',\n",
       "  'obj_4': 10,\n",
       "  'obj_5': 10,\n",
       "  'obj_6': 10,\n",
       "  'obj_7': 10,\n",
       "  'obj_8': 10,\n",
       "  'obj_9': 'N/A',\n",
       "  'obj_10': 10,\n",
       "  'obj_11': 10},\n",
       " {'obj_1': 10,\n",
       "  'obj_2': 10,\n",
       "  'obj_3': 10,\n",
       "  'obj_4': 10,\n",
       "  'obj_5': 10,\n",
       "  'obj_6': 10,\n",
       "  'obj_7': 10,\n",
       "  'obj_8': 10,\n",
       "  'obj_9': 9,\n",
       "  'obj_10': 10,\n",
       "  'obj_11': 10},\n",
       " {'obj_1': 10,\n",
       "  'obj_2': 10,\n",
       "  'obj_3': 10,\n",
       "  'obj_4': 10,\n",
       "  'obj_5': 10,\n",
       "  'obj_6': 10,\n",
       "  'obj_7': 10,\n",
       "  'obj_8': 10,\n",
       "  'obj_9': None},\n",
       " {'obj_1': 10,\n",
       "  'obj_2': 10,\n",
       "  'obj_3': 'N/A',\n",
       "  'obj_4': 10,\n",
       "  'obj_5': 10,\n",
       "  'obj_6': 10,\n",
       "  'obj_7': 10,\n",
       "  'obj_8': 10,\n",
       "  'obj_9': 8,\n",
       "  'obj_10': 10,\n",
       "  'obj_11': 10},\n",
       " {'obj_1': 10,\n",
       "  'obj_2': 7,\n",
       "  'obj_3': 10,\n",
       "  'obj_4': 6,\n",
       "  'obj_5': 10,\n",
       "  'obj_6': 6,\n",
       "  'obj_7': 6,\n",
       "  'obj_8': None},\n",
       " {'obj_1': 10,\n",
       "  'obj_2': 10,\n",
       "  'obj_3': 9,\n",
       "  'obj_4': 10,\n",
       "  'obj_5': 10,\n",
       "  'obj_6': 10,\n",
       "  'obj_7': 10,\n",
       "  'obj_8': 10,\n",
       "  'obj_9': 8,\n",
       "  'obj_10': None}]"
      ]
     },
     "metadata": {},
     "output_type": "display_data"
    }
   ],
   "source": [
    "scores_per_item, variables_per_item, statements = parse_lst_data(medqa_data,idx_cot=1,dataset='med_qa',split='test')\n",
    "scores_per_item"
   ]
  },
  {
   "cell_type": "code",
   "execution_count": 238,
   "metadata": {},
   "outputs": [
    {
     "name": "stdout",
     "output_type": "stream",
     "text": [
      "wrong output found\n",
      "wrong output found\n",
      "wrong output found\n"
     ]
    },
    {
     "ename": "TypeError",
     "evalue": "unsupported operand type(s) for +: 'int' and 'list'",
     "output_type": "error",
     "traceback": [
      "\u001b[0;31m---------------------------------------------------------------------------\u001b[0m",
      "\u001b[0;31mTypeError\u001b[0m                                 Traceback (most recent call last)",
      "\u001b[1;32m/Users/robertpraas/Desktop/ThoughtSource/notebooks/reflection_messages/reflection_experiments_Robert.ipynb Cell 142\u001b[0m in \u001b[0;36m<cell line: 3>\u001b[0;34m()\u001b[0m\n\u001b[1;32m      <a href='vscode-notebook-cell:/Users/robertpraas/Desktop/ThoughtSource/notebooks/reflection_messages/reflection_experiments_Robert.ipynb#Z1033sZmlsZQ%3D%3D?line=0'>1</a>\u001b[0m scores_per_item, variables_per_item, statements \u001b[39m=\u001b[39m parse_lst_data(medqa_data,idx_cot\u001b[39m=\u001b[39m\u001b[39m1\u001b[39m,dataset\u001b[39m=\u001b[39m\u001b[39m'\u001b[39m\u001b[39mmed_qa\u001b[39m\u001b[39m'\u001b[39m,split\u001b[39m=\u001b[39m\u001b[39m'\u001b[39m\u001b[39mtest\u001b[39m\u001b[39m'\u001b[39m)\n\u001b[1;32m      <a href='vscode-notebook-cell:/Users/robertpraas/Desktop/ThoughtSource/notebooks/reflection_messages/reflection_experiments_Robert.ipynb#Z1033sZmlsZQ%3D%3D?line=1'>2</a>\u001b[0m scores_per_item \u001b[39m=\u001b[39m fix_str_score(scores_per_item)\n\u001b[0;32m----> <a href='vscode-notebook-cell:/Users/robertpraas/Desktop/ThoughtSource/notebooks/reflection_messages/reflection_experiments_Robert.ipynb#Z1033sZmlsZQ%3D%3D?line=2'>3</a>\u001b[0m scores_per_objective, df \u001b[39m=\u001b[39m get_further_data(scores_per_item)\n\u001b[1;32m      <a href='vscode-notebook-cell:/Users/robertpraas/Desktop/ThoughtSource/notebooks/reflection_messages/reflection_experiments_Robert.ipynb#Z1033sZmlsZQ%3D%3D?line=3'>4</a>\u001b[0m \u001b[39mprint\u001b[39m(df)\n\u001b[1;32m      <a href='vscode-notebook-cell:/Users/robertpraas/Desktop/ThoughtSource/notebooks/reflection_messages/reflection_experiments_Robert.ipynb#Z1033sZmlsZQ%3D%3D?line=4'>5</a>\u001b[0m average_per_item \u001b[39m=\u001b[39m [\u001b[39msum\u001b[39m(d\u001b[39m.\u001b[39mvalues()) \u001b[39m/\u001b[39m \u001b[39mlen\u001b[39m(d) \u001b[39mfor\u001b[39;00m d \u001b[39min\u001b[39;00m scores_per_item]\n",
      "\u001b[1;32m/Users/robertpraas/Desktop/ThoughtSource/notebooks/reflection_messages/reflection_experiments_Robert.ipynb Cell 142\u001b[0m in \u001b[0;36mget_further_data\u001b[0;34m(scores_per_item)\u001b[0m\n\u001b[1;32m      <a href='vscode-notebook-cell:/Users/robertpraas/Desktop/ThoughtSource/notebooks/reflection_messages/reflection_experiments_Robert.ipynb#Z1033sZmlsZQ%3D%3D?line=5'>6</a>\u001b[0m scores_per_objective \u001b[39m=\u001b[39m {key: [d\u001b[39m.\u001b[39mget(key) \u001b[39mfor\u001b[39;00m d \u001b[39min\u001b[39;00m scores_per_item] \u001b[39mfor\u001b[39;00m key \u001b[39min\u001b[39;00m keys}\n\u001b[1;32m      <a href='vscode-notebook-cell:/Users/robertpraas/Desktop/ThoughtSource/notebooks/reflection_messages/reflection_experiments_Robert.ipynb#Z1033sZmlsZQ%3D%3D?line=6'>7</a>\u001b[0m \u001b[39m# scores_per_objective = {k: v for k, v in scores_per_objective.items() if not isinstance(v, str)}\u001b[39;00m\n\u001b[1;32m      <a href='vscode-notebook-cell:/Users/robertpraas/Desktop/ThoughtSource/notebooks/reflection_messages/reflection_experiments_Robert.ipynb#Z1033sZmlsZQ%3D%3D?line=7'>8</a>\u001b[0m \u001b[39m# print(scores_per_objective)\u001b[39;00m\n\u001b[1;32m      <a href='vscode-notebook-cell:/Users/robertpraas/Desktop/ThoughtSource/notebooks/reflection_messages/reflection_experiments_Robert.ipynb#Z1033sZmlsZQ%3D%3D?line=8'>9</a>\u001b[0m \n\u001b[0;32m   (...)\u001b[0m\n\u001b[1;32m     <a href='vscode-notebook-cell:/Users/robertpraas/Desktop/ThoughtSource/notebooks/reflection_messages/reflection_experiments_Robert.ipynb#Z1033sZmlsZQ%3D%3D?line=16'>17</a>\u001b[0m \u001b[39m# Calculate the average of each list\u001b[39;00m\n\u001b[1;32m     <a href='vscode-notebook-cell:/Users/robertpraas/Desktop/ThoughtSource/notebooks/reflection_messages/reflection_experiments_Robert.ipynb#Z1033sZmlsZQ%3D%3D?line=17'>18</a>\u001b[0m \u001b[39m#averaged_data = {key: sum(value) / len(value) for key, value in scores_per_objective.items()} \u001b[39;00m\n\u001b[0;32m---> <a href='vscode-notebook-cell:/Users/robertpraas/Desktop/ThoughtSource/notebooks/reflection_messages/reflection_experiments_Robert.ipynb#Z1033sZmlsZQ%3D%3D?line=18'>19</a>\u001b[0m averaged_data \u001b[39m=\u001b[39m {key: (\u001b[39msum\u001b[39m(v \u001b[39mfor\u001b[39;00m v \u001b[39min\u001b[39;00m value \u001b[39mif\u001b[39;00m v \u001b[39mis\u001b[39;00m \u001b[39mnot\u001b[39;00m \u001b[39mNone\u001b[39;00m) \u001b[39m/\u001b[39m \u001b[39mlen\u001b[39m([v \u001b[39mfor\u001b[39;00m v \u001b[39min\u001b[39;00m value \u001b[39mif\u001b[39;00m v \u001b[39mis\u001b[39;00m \u001b[39mnot\u001b[39;00m \u001b[39mNone\u001b[39;00m])) \u001b[39mfor\u001b[39;00m key, value \u001b[39min\u001b[39;00m scores_per_objective\u001b[39m.\u001b[39mitems() \u001b[39mif\u001b[39;00m \u001b[39mlen\u001b[39m([v \u001b[39mfor\u001b[39;00m v \u001b[39min\u001b[39;00m value \u001b[39mif\u001b[39;00m v \u001b[39mis\u001b[39;00m \u001b[39mnot\u001b[39;00m \u001b[39mNone\u001b[39;00m]) \u001b[39m>\u001b[39m \u001b[39m0\u001b[39m}\n\u001b[1;32m     <a href='vscode-notebook-cell:/Users/robertpraas/Desktop/ThoughtSource/notebooks/reflection_messages/reflection_experiments_Robert.ipynb#Z1033sZmlsZQ%3D%3D?line=20'>21</a>\u001b[0m \u001b[39m# Convert the averaged data dictionary to a Pandas DataFrame\u001b[39;00m\n\u001b[1;32m     <a href='vscode-notebook-cell:/Users/robertpraas/Desktop/ThoughtSource/notebooks/reflection_messages/reflection_experiments_Robert.ipynb#Z1033sZmlsZQ%3D%3D?line=21'>22</a>\u001b[0m df \u001b[39m=\u001b[39m pd\u001b[39m.\u001b[39mDataFrame\u001b[39m.\u001b[39mfrom_dict(averaged_data, orient\u001b[39m=\u001b[39m\u001b[39m'\u001b[39m\u001b[39mindex\u001b[39m\u001b[39m'\u001b[39m, columns\u001b[39m=\u001b[39m[\u001b[39m'\u001b[39m\u001b[39mAverage\u001b[39m\u001b[39m'\u001b[39m])\n",
      "\u001b[1;32m/Users/robertpraas/Desktop/ThoughtSource/notebooks/reflection_messages/reflection_experiments_Robert.ipynb Cell 142\u001b[0m in \u001b[0;36m<dictcomp>\u001b[0;34m(.0)\u001b[0m\n\u001b[1;32m      <a href='vscode-notebook-cell:/Users/robertpraas/Desktop/ThoughtSource/notebooks/reflection_messages/reflection_experiments_Robert.ipynb#Z1033sZmlsZQ%3D%3D?line=5'>6</a>\u001b[0m scores_per_objective \u001b[39m=\u001b[39m {key: [d\u001b[39m.\u001b[39mget(key) \u001b[39mfor\u001b[39;00m d \u001b[39min\u001b[39;00m scores_per_item] \u001b[39mfor\u001b[39;00m key \u001b[39min\u001b[39;00m keys}\n\u001b[1;32m      <a href='vscode-notebook-cell:/Users/robertpraas/Desktop/ThoughtSource/notebooks/reflection_messages/reflection_experiments_Robert.ipynb#Z1033sZmlsZQ%3D%3D?line=6'>7</a>\u001b[0m \u001b[39m# scores_per_objective = {k: v for k, v in scores_per_objective.items() if not isinstance(v, str)}\u001b[39;00m\n\u001b[1;32m      <a href='vscode-notebook-cell:/Users/robertpraas/Desktop/ThoughtSource/notebooks/reflection_messages/reflection_experiments_Robert.ipynb#Z1033sZmlsZQ%3D%3D?line=7'>8</a>\u001b[0m \u001b[39m# print(scores_per_objective)\u001b[39;00m\n\u001b[1;32m      <a href='vscode-notebook-cell:/Users/robertpraas/Desktop/ThoughtSource/notebooks/reflection_messages/reflection_experiments_Robert.ipynb#Z1033sZmlsZQ%3D%3D?line=8'>9</a>\u001b[0m \n\u001b[0;32m   (...)\u001b[0m\n\u001b[1;32m     <a href='vscode-notebook-cell:/Users/robertpraas/Desktop/ThoughtSource/notebooks/reflection_messages/reflection_experiments_Robert.ipynb#Z1033sZmlsZQ%3D%3D?line=16'>17</a>\u001b[0m \u001b[39m# Calculate the average of each list\u001b[39;00m\n\u001b[1;32m     <a href='vscode-notebook-cell:/Users/robertpraas/Desktop/ThoughtSource/notebooks/reflection_messages/reflection_experiments_Robert.ipynb#Z1033sZmlsZQ%3D%3D?line=17'>18</a>\u001b[0m \u001b[39m#averaged_data = {key: sum(value) / len(value) for key, value in scores_per_objective.items()} \u001b[39;00m\n\u001b[0;32m---> <a href='vscode-notebook-cell:/Users/robertpraas/Desktop/ThoughtSource/notebooks/reflection_messages/reflection_experiments_Robert.ipynb#Z1033sZmlsZQ%3D%3D?line=18'>19</a>\u001b[0m averaged_data \u001b[39m=\u001b[39m {key: (\u001b[39msum\u001b[39;49m(v \u001b[39mfor\u001b[39;49;00m v \u001b[39min\u001b[39;49;00m value \u001b[39mif\u001b[39;49;00m v \u001b[39mis\u001b[39;49;00m \u001b[39mnot\u001b[39;49;00m \u001b[39mNone\u001b[39;49;00m) \u001b[39m/\u001b[39m \u001b[39mlen\u001b[39m([v \u001b[39mfor\u001b[39;00m v \u001b[39min\u001b[39;00m value \u001b[39mif\u001b[39;00m v \u001b[39mis\u001b[39;00m \u001b[39mnot\u001b[39;00m \u001b[39mNone\u001b[39;00m])) \u001b[39mfor\u001b[39;00m key, value \u001b[39min\u001b[39;00m scores_per_objective\u001b[39m.\u001b[39mitems() \u001b[39mif\u001b[39;00m \u001b[39mlen\u001b[39m([v \u001b[39mfor\u001b[39;00m v \u001b[39min\u001b[39;00m value \u001b[39mif\u001b[39;00m v \u001b[39mis\u001b[39;00m \u001b[39mnot\u001b[39;00m \u001b[39mNone\u001b[39;00m]) \u001b[39m>\u001b[39m \u001b[39m0\u001b[39m}\n\u001b[1;32m     <a href='vscode-notebook-cell:/Users/robertpraas/Desktop/ThoughtSource/notebooks/reflection_messages/reflection_experiments_Robert.ipynb#Z1033sZmlsZQ%3D%3D?line=20'>21</a>\u001b[0m \u001b[39m# Convert the averaged data dictionary to a Pandas DataFrame\u001b[39;00m\n\u001b[1;32m     <a href='vscode-notebook-cell:/Users/robertpraas/Desktop/ThoughtSource/notebooks/reflection_messages/reflection_experiments_Robert.ipynb#Z1033sZmlsZQ%3D%3D?line=21'>22</a>\u001b[0m df \u001b[39m=\u001b[39m pd\u001b[39m.\u001b[39mDataFrame\u001b[39m.\u001b[39mfrom_dict(averaged_data, orient\u001b[39m=\u001b[39m\u001b[39m'\u001b[39m\u001b[39mindex\u001b[39m\u001b[39m'\u001b[39m, columns\u001b[39m=\u001b[39m[\u001b[39m'\u001b[39m\u001b[39mAverage\u001b[39m\u001b[39m'\u001b[39m])\n",
      "\u001b[0;31mTypeError\u001b[0m: unsupported operand type(s) for +: 'int' and 'list'"
     ]
    }
   ],
   "source": [
    "scores_per_item, variables_per_item, statements = parse_lst_data(medqa_data,idx_cot=1,dataset='med_qa',split='test')\n",
    "scores_per_item = fix_str_score(scores_per_item)\n",
    "scores_per_objective, df = get_further_data(scores_per_item)\n",
    "print(df)\n",
    "average_per_item = [sum(d.values()) / len(d) for d in scores_per_item]\n",
    "avg_true_false(medqa_data,average_per_item,'med_qa','test')\n",
    "freq_bar_plot(scores_per_item)\n",
    "avg_item_plot(scores_per_objective)"
   ]
  },
  {
   "cell_type": "code",
   "execution_count": 239,
   "metadata": {},
   "outputs": [
    {
     "data": {
      "text/plain": [
       "dict_items([('obj_9', [10, 8, 9, 8, 10, 8, 6, 9, 8, 7, 10, 9, 9, 9, 8, 6, 9, 9, 10, 9, 9, 7, 9, 9, 8, 9, 9, 8, 7, 8]), ('obj_2', [10, 8, 10, 9, 9, 8, 6, 10, 9, 8, 7, 9, 7, 7, 9, 7, 9, 10, 8, 10, 9, 9, 10, 10, 8, 10, 8, 7, 7, 9]), ('obj_3', [10, 10, 10, 10, 10, 10, 10, 10, 10, 10, 10, 8, 10, 10, 10, 8, 10, 10, 10, 10, 10, 9, 10, 10, 10, 10, 10, 10, 10, 10]), ('obj_8', [10, 8, 10, 10, 9, 7, 6, 10, 10, 9, 8, 6, 8, 7, 10, 7, 9, 10, 7, 10, 10, 9, 10, 10, 8, 10, 8, 7, 7, 10]), ('obj_4', [10, 8, 10, 9, 10, 8, 7, 10, 9, 8, 8, 8, 9, 7, 9, 8, 9, 10, 8, 10, 9, 8, 10, 10, 8, 10, 9, 8, 8, 9]), ('obj_1', [10, 9, 10, 10, 10, 9, 9, 10, 10, 9, 9, 9, 9, 8, 10, 9, 9, 10, 9, 10, 10, 8, 10, 10, 9, 10, 9, 9, 9, 10]), ('obj_6', [10, 9, 10, 9, 10, 8, 7, 10, 9, 9, 7, 9, 8, 8, 9, 7, 9, 10, 8, 10, 9, 9, 10, 10, 8, 10, 9, 7, 8, 9]), ('obj_10', [10, 7, 10, 10, 10, 8, 6, 10, 9, 8, 10, 9, 9, 9, 10, 7, 8, 10, 9, 10, 9, 8, 10, 10, 9, 10, 8, 8, 8, 9]), ('obj_11', [10, 9, 10, 10, 10, 7, 6, 10, 10, 10, 10, 4, 10, 5, 10, 6, 10, 10, 5, 10, 10, 10, 10, 10, 10, 10, 9, 9, 9, 10]), ('obj_5', [10, 8, 10, 10, 10, 9, 8, 10, 9, 8, 9, 8, 9, 9, 10, 9, 10, 10, 8, 10, 10, 9, 10, 10, 9, 10, 9, 9, 9, 9]), ('obj_7', [9, 7, 8, 8, 9, 7, 7, 9, 8, 7, 6, 8, 9, 6, 8, 6, 8, 8, 7, 9, 8, 7, 9, 9, 7, 9, 8, 8, 6, 8])])"
      ]
     },
     "execution_count": 239,
     "metadata": {},
     "output_type": "execute_result"
    }
   ],
   "source": [
    "scores_per_objective.items()"
   ]
  },
  {
   "cell_type": "code",
   "execution_count": 231,
   "metadata": {},
   "outputs": [
    {
     "data": {
      "text/plain": [
       "{'obj_1': ['The response interprets the question accurately and identifies the key information needed to answer the question.',\n",
       "  10],\n",
       " 'obj_2': ['The response considers relevant information from the question and avoids considering irrelevant information.',\n",
       "  10],\n",
       " 'obj_3': ['The response does not involve numerical information, so this objective is not applicable.',\n",
       "  'N/A'],\n",
       " 'obj_4': ['The response considers the relevant reasoning strategies by comparing the characteristics of the immune cells and selecting the most appropriate one.',\n",
       "  10],\n",
       " 'obj_5': ['The reasoning in the response is structured by comparing the characteristics of the immune cells and providing a brief explanation for the chosen answer.',\n",
       "  9],\n",
       " 'obj_6': ['The response gives appropriate priorities to the characteristics of the immune cells and their ability to lyse abnormal cells without the need for opsonization, priming, or prior activation.',\n",
       "  10],\n",
       " 'obj_7': ['The response does not explicitly list underlying assumptions, but it does consider the information provided in the question.',\n",
       "  8],\n",
       " 'obj_8': ['The response is plausible, logically valid, sound, consistent, and coherent.',\n",
       "  10],\n",
       " 'obj_9': ['The statements in the response are']}"
      ]
     },
     "execution_count": 231,
     "metadata": {},
     "output_type": "execute_result"
    }
   ],
   "source": [
    "scores_per_item[0] #['obj_1'][1]"
   ]
  },
  {
   "cell_type": "code",
   "execution_count": 186,
   "metadata": {},
   "outputs": [
    {
     "name": "stdout",
     "output_type": "stream",
     "text": [
      "Generating med_qa...\n"
     ]
    },
    {
     "data": {
      "application/vnd.jupyter.widget-view+json": {
       "model_id": "9da4d04a2c3b45dbb7ee265dcbdc875c",
       "version_major": 2,
       "version_minor": 0
      },
      "text/plain": [
       "  0%|          | 0/30 [00:00<?, ?ex/s]"
      ]
     },
     "metadata": {},
     "output_type": "display_data"
    }
   ],
   "source": [
    "absolute_path = \"./input_system/system_template_20.yaml\"\n",
    "system_evaluate(medqa_data,'gpt-4',absolute_path)"
   ]
  },
  {
   "cell_type": "code",
   "execution_count": 207,
   "metadata": {},
   "outputs": [
    {
     "data": {
      "text/plain": [
       "'critique: The response accurately interprets the question, considers relevant information, and provides a well-structured reasoning. The final answer is based on the reasoning and corresponds to one of the answer options.\\nobj_1: 10\\nobj_2: 10\\nobj_3: 10\\nobj_4: 10\\nobj_5: 10\\nobj_6: 10\\nobj_7: 9\\nobj_8: 10\\nobj_9: 9\\nobj_10: 10\\nobj_11: 10'"
      ]
     },
     "execution_count": 207,
     "metadata": {},
     "output_type": "execute_result"
    }
   ],
   "source": [
    "medqa_data['med_qa']['test'][2]['generated_cot'][2]['cot']"
   ]
  },
  {
   "cell_type": "code",
   "execution_count": 212,
   "metadata": {},
   "outputs": [
    {
     "data": {
      "application/vnd.jupyter.widget-view+json": {
       "model_id": "0a82c058d1664590882722e37418cfb0",
       "version_major": 2,
       "version_minor": 0
      },
      "text/plain": [
       "  0%|          | 0/30 [00:00<?, ?ex/s]"
      ]
     },
     "metadata": {},
     "output_type": "display_data"
    },
    {
     "data": {
      "text/plain": [
       "{'med_qa': {'test': {'accuracy': {'': {'__': 0.0},\n",
       "    'gpt-3.5-turbo': {'None_zhou-01_kojima-A-E': 0.7}}}}}"
      ]
     },
     "execution_count": 212,
     "metadata": {},
     "output_type": "execute_result"
    }
   ],
   "source": [
    "medqa_data.evaluate()"
   ]
  },
  {
   "cell_type": "code",
   "execution_count": 214,
   "metadata": {},
   "outputs": [
    {
     "name": "stdout",
     "output_type": "stream",
     "text": [
      "         Average\n",
      "obj_1   9.500000\n",
      "obj_2   8.966667\n",
      "obj_3   9.566667\n",
      "obj_4   8.800000\n",
      "obj_5   9.166667\n",
      "obj_6   8.866667\n",
      "obj_7   8.000000\n",
      "obj_8   8.966667\n",
      "obj_9   8.233333\n",
      "obj_10  9.033333\n",
      "obj_11  9.033333\n",
      "scores true: 9.333333333333334\n",
      "scores false: 7.95959595959596\n"
     ]
    },
    {
     "data": {
      "image/png": "[encoded data removed]",
      "text/plain": [
       "<Figure size 432x288 with 1 Axes>"
      ]
     },
     "metadata": {
      "needs_background": "light"
     },
     "output_type": "display_data"
    },
    {
     "data": {
      "image/png": "[encoded data removed]",
      "text/plain": [
       "<Figure size 432x288 with 1 Axes>"
      ]
     },
     "metadata": {
      "needs_background": "light"
     },
     "output_type": "display_data"
    }
   ],
   "source": [
    "scores_per_item, variables_per_item = parse_data(medqa_data,idx_cot=2,dataset='med_qa',split='test')\n",
    "scores_per_item = fix_str_score(scores_per_item)\n",
    "scores_per_objective, df = get_further_data(scores_per_item)\n",
    "print(df)\n",
    "average_per_item = [sum(d.values()) / len(d) for d in scores_per_item]\n",
    "avg_true_false(medqa_data,average_per_item,'med_qa','test')\n",
    "freq_bar_plot(scores_per_item)\n",
    "avg_item_plot(scores_per_objective)"
   ]
  },
  {
   "cell_type": "code",
   "execution_count": 187,
   "metadata": {},
   "outputs": [
    {
     "data": {
      "application/vnd.jupyter.widget-view+json": {
       "model_id": "6fd60c6003e348c8b2d8f51d57591f17",
       "version_major": 2,
       "version_minor": 0
      },
      "text/plain": [
       "Creating json from Arrow format:   0%|          | 0/1 [00:00<?, ?ba/s]"
      ]
     },
     "metadata": {},
     "output_type": "display_data"
    }
   ],
   "source": [
    "medqa_data.dump(\"medqa_4_on_3_template_15_20\")"
   ]
  },
  {
   "cell_type": "code",
   "execution_count": 188,
   "metadata": {},
   "outputs": [],
   "source": [
    "ob_data = ob_data.select(split=\"test\", number_samples=30, random_samples=False, seed=0)\n",
    "absolute_path = \"./input_system/system_template_15_eval.yaml\"\n",
    "system_evaluate(ob_data,'gpt-4',absolute_path)"
   ]
  },
  {
   "cell_type": "code",
   "execution_count": 189,
   "metadata": {},
   "outputs": [],
   "source": [
    "absolute_path = \"./input_system/system_template_20.yaml\"\n",
    "system_evaluate(ob_data,'gpt-4',absolute_path)"
   ]
  },
  {
   "cell_type": "code",
   "execution_count": 222,
   "metadata": {},
   "outputs": [
    {
     "data": {
      "text/plain": [
       "| Name         | Train   | Valid   |   Test |\n",
       "|--------------|---------|---------|--------|\n",
       "| open_book_qa | -       | -       |     30 |\n",
       "\n",
       "Not loaded: ['aqua', 'asdiv', 'commonsense_qa', 'entailment_bank', 'gsm8k', 'mawps', 'med_qa', 'med_qa_open', 'medmc_qa', '_init_', 'mmlu_clinical_knowledge', 'mmlu_college_biology', 'mmlu_college_medicine', 'mmlu_medical_genetics', 'mmlu_professional_medicine', '_init_', 'mmlu_anatomy', 'pubmed_qa', 'qed', 'strategy_qa', 'svamp', 'worldtree']"
      ]
     },
     "execution_count": 222,
     "metadata": {},
     "output_type": "execute_result"
    }
   ],
   "source": [
    "#what happened?"
   ]
  },
  {
   "cell_type": "code",
   "execution_count": null,
   "metadata": {},
   "outputs": [],
   "source": [
    "scores_per_item, variables_per_item = parse_data(ob_data,idx_cot=2,dataset='open_book_qa',split='test')\n",
    "scores_per_item = fix_str_score(scores_per_item)\n",
    "scores_per_objective, df = get_further_data(scores_per_item)\n",
    "print(df)\n",
    "average_per_item = [sum(d.values()) / len(d) for d in scores_per_item]\n",
    "avg_true_false(medqa_data,average_per_item,'open_book_qa','test')\n",
    "freq_bar_plot(scores_per_item)\n",
    "avg_item_plot(scores_per_objective)"
   ]
  },
  {
   "cell_type": "code",
   "execution_count": 190,
   "metadata": {},
   "outputs": [],
   "source": [
    "ob_data.dump(\"ob_4_on_3_template_15_20\")"
   ]
  },
  {
   "cell_type": "code",
   "execution_count": 191,
   "metadata": {},
   "outputs": [
    {
     "name": "stdout",
     "output_type": "stream",
     "text": [
      "Generating open_book_qa...\n"
     ]
    },
    {
     "data": {
      "application/vnd.jupyter.widget-view+json": {
       "model_id": "347b2581fe9b48fa96848c53fd9f5739",
       "version_major": 2,
       "version_minor": 0
      },
      "text/plain": [
       "  0%|          | 0/30 [00:00<?, ?ex/s]"
      ]
     },
     "metadata": {},
     "output_type": "display_data"
    }
   ],
   "source": [
    "medmc_data = medmc_data.select(split=\"test\", number_samples=30, random_samples=False, seed=0)\n",
    "absolute_path = \"./input_system/system_template_15_eval.yaml\"\n",
    "system_evaluate(medmc_data,'gpt-4',absolute_path)"
   ]
  },
  {
   "cell_type": "code",
   "execution_count": 192,
   "metadata": {},
   "outputs": [
    {
     "name": "stdout",
     "output_type": "stream",
     "text": [
      "Generating open_book_qa...\n"
     ]
    },
    {
     "data": {
      "application/vnd.jupyter.widget-view+json": {
       "model_id": "01aa26825f32430896a2507c62c73247",
       "version_major": 2,
       "version_minor": 0
      },
      "text/plain": [
       "  0%|          | 0/30 [00:00<?, ?ex/s]"
      ]
     },
     "metadata": {},
     "output_type": "display_data"
    },
    {
     "name": "stdout",
     "output_type": "stream",
     "text": [
      "(API-)Error in item 7: Bad gateway. {\"error\":{\"code\":502,\"message\":\"Bad gateway.\",\"param\":null,\"type\":\"cf_bad_gateway\"}} 502 {'error': {'code': 502, 'message': 'Bad gateway.', 'param': None, 'type': 'cf_bad_gateway'}} {'Date': 'Tue, 30 May 2023 16:38:29 GMT', 'Content-Type': 'application/json', 'Content-Length': '84', 'Connection': 'keep-alive', 'X-Frame-Options': 'SAMEORIGIN', 'Referrer-Policy': 'same-origin', 'Cache-Control': 'private, max-age=0, no-store, no-cache, must-revalidate, post-check=0, pre-check=0', 'Expires': 'Thu, 01 Jan 1970 00:00:01 GMT', 'Server': 'cloudflare', 'CF-RAY': '7cf867e97d00c316-VIE', 'alt-svc': 'h3=\":443\"; ma=86400'}\n",
      "Retrying with additional time of 10 seconds.\n",
      "(API-)Error in item 18: Bad gateway. {\"error\":{\"code\":502,\"message\":\"Bad gateway.\",\"param\":null,\"type\":\"cf_bad_gateway\"}} 502 {'error': {'code': 502, 'message': 'Bad gateway.', 'param': None, 'type': 'cf_bad_gateway'}} {'Date': 'Tue, 30 May 2023 16:49:44 GMT', 'Content-Type': 'application/json', 'Content-Length': '84', 'Connection': 'keep-alive', 'X-Frame-Options': 'SAMEORIGIN', 'Referrer-Policy': 'same-origin', 'Cache-Control': 'private, max-age=0, no-store, no-cache, must-revalidate, post-check=0, pre-check=0', 'Expires': 'Thu, 01 Jan 1970 00:00:01 GMT', 'Server': 'cloudflare', 'CF-RAY': '7cf8707d4c61c316-VIE', 'alt-svc': 'h3=\":443\"; ma=86400'}\n",
      "Retrying with additional time of 10 seconds.\n",
      "(API-)Error in item 18: Bad gateway. {\"error\":{\"code\":502,\"message\":\"Bad gateway.\",\"param\":null,\"type\":\"cf_bad_gateway\"}} 502 {'error': {'code': 502, 'message': 'Bad gateway.', 'param': None, 'type': 'cf_bad_gateway'}} {'Date': 'Tue, 30 May 2023 16:55:24 GMT', 'Content-Type': 'application/json', 'Content-Length': '84', 'Connection': 'keep-alive', 'X-Frame-Options': 'SAMEORIGIN', 'Referrer-Policy': 'same-origin', 'Cache-Control': 'private, max-age=0, no-store, no-cache, must-revalidate, post-check=0, pre-check=0', 'Expires': 'Thu, 01 Jan 1970 00:00:01 GMT', 'Server': 'cloudflare', 'CF-RAY': '7cf878de4f3dc316-VIE', 'alt-svc': 'h3=\":443\"; ma=86400'}\n",
      "Retrying with additional time of 20 seconds.\n"
     ]
    }
   ],
   "source": [
    "absolute_path = \"./input_system/system_template_20.yaml\"\n",
    "system_evaluate(medmc_data,'gpt-4',absolute_path)"
   ]
  },
  {
   "cell_type": "code",
   "execution_count": 225,
   "metadata": {},
   "outputs": [
    {
     "data": {
      "text/plain": [
       "| Name         | Train   | Valid   |   Test |\n",
       "|--------------|---------|---------|--------|\n",
       "| open_book_qa | -       | -       |     30 |\n",
       "| medmc_qa     | 182822  | 4183    |   6150 |\n",
       "\n",
       "Not loaded: ['aqua', 'asdiv', 'commonsense_qa', 'entailment_bank', 'gsm8k', 'mawps', 'med_qa', 'med_qa_open', '_init_', 'mmlu_clinical_knowledge', 'mmlu_college_biology', 'mmlu_college_medicine', 'mmlu_medical_genetics', 'mmlu_professional_medicine', '_init_', 'mmlu_anatomy', 'pubmed_qa', 'qed', 'strategy_qa', 'svamp', 'worldtree']"
      ]
     },
     "execution_count": 225,
     "metadata": {},
     "output_type": "execute_result"
    }
   ],
   "source": [
    "medmc_data"
   ]
  },
  {
   "cell_type": "code",
   "execution_count": 227,
   "metadata": {},
   "outputs": [
    {
     "name": "stdout",
     "output_type": "stream",
     "text": [
      "         Average\n",
      "obj_1   9.400000\n",
      "obj_2   8.566667\n",
      "obj_3   9.833333\n",
      "obj_4   8.800000\n",
      "obj_5   9.266667\n",
      "obj_6   8.833333\n",
      "obj_7   7.766667\n",
      "obj_8   8.666667\n",
      "obj_9   8.466667\n",
      "obj_10  8.933333\n",
      "obj_11  8.966667\n",
      "scores true: 9.024793388429751\n",
      "scores false: 8.420454545454545\n"
     ]
    },
    {
     "data": {
      "image/png": "[encoded data removed]",
      "text/plain": [
       "<Figure size 432x288 with 1 Axes>"
      ]
     },
     "metadata": {
      "needs_background": "light"
     },
     "output_type": "display_data"
    },
    {
     "data": {
      "image/png": "[encoded data removed]",
      "text/plain": [
       "<Figure size 432x288 with 1 Axes>"
      ]
     },
     "metadata": {
      "needs_background": "light"
     },
     "output_type": "display_data"
    }
   ],
   "source": [
    "scores_per_item, variables_per_item = parse_data(medmc_data,idx_cot=2,dataset='open_book_qa',split='test')\n",
    "scores_per_item = fix_str_score(scores_per_item)\n",
    "scores_per_objective, df = get_further_data(scores_per_item)\n",
    "print(df)\n",
    "average_per_item = [sum(d.values()) / len(d) for d in scores_per_item]\n",
    "avg_true_false(medmc_data,average_per_item,'open_book_qa','test')\n",
    "freq_bar_plot(scores_per_item)\n",
    "avg_item_plot(scores_per_objective)"
   ]
  },
  {
   "cell_type": "code",
   "execution_count": 193,
   "metadata": {},
   "outputs": [
    {
     "data": {
      "application/vnd.jupyter.widget-view+json": {
       "model_id": "f113f867f3db4c22a3285ac7df04c5e6",
       "version_major": 2,
       "version_minor": 0
      },
      "text/plain": [
       "Creating json from Arrow format:   0%|          | 0/1 [00:00<?, ?ba/s]"
      ]
     },
     "metadata": {},
     "output_type": "display_data"
    }
   ],
   "source": [
    "medmc_data.dump(\"medmc_4_on_3_template_15_20\")"
   ]
  },
  {
   "cell_type": "code",
   "execution_count": 229,
   "metadata": {},
   "outputs": [
    {
     "name": "stdout",
     "output_type": "stream",
     "text": [
      "wrong output found\n",
      "wrong output found\n"
     ]
    },
    {
     "ename": "TypeError",
     "evalue": "unsupported operand type(s) for +: 'int' and 'list'",
     "output_type": "error",
     "traceback": [
      "\u001b[0;31m---------------------------------------------------------------------------\u001b[0m",
      "\u001b[0;31mTypeError\u001b[0m                                 Traceback (most recent call last)",
      "\u001b[1;32m/Users/robertpraas/Desktop/ThoughtSource/notebooks/reflection_messages/reflection_experiments_Robert.ipynb Cell 161\u001b[0m in \u001b[0;36m<cell line: 3>\u001b[0;34m()\u001b[0m\n\u001b[1;32m      <a href='vscode-notebook-cell:/Users/robertpraas/Desktop/ThoughtSource/notebooks/reflection_messages/reflection_experiments_Robert.ipynb#Z1020sZmlsZQ%3D%3D?line=0'>1</a>\u001b[0m scores_per_item, variables_per_item, statements \u001b[39m=\u001b[39m parse_lst_data(data,idx_cot\u001b[39m=\u001b[39m\u001b[39m1\u001b[39m,dataset\u001b[39m=\u001b[39m\u001b[39m'\u001b[39m\u001b[39mmed_qa\u001b[39m\u001b[39m'\u001b[39m,split\u001b[39m=\u001b[39m\u001b[39m'\u001b[39m\u001b[39mtest\u001b[39m\u001b[39m'\u001b[39m)\n\u001b[1;32m      <a href='vscode-notebook-cell:/Users/robertpraas/Desktop/ThoughtSource/notebooks/reflection_messages/reflection_experiments_Robert.ipynb#Z1020sZmlsZQ%3D%3D?line=1'>2</a>\u001b[0m scores_per_item \u001b[39m=\u001b[39m fix_str_score(scores_per_item)\n\u001b[0;32m----> <a href='vscode-notebook-cell:/Users/robertpraas/Desktop/ThoughtSource/notebooks/reflection_messages/reflection_experiments_Robert.ipynb#Z1020sZmlsZQ%3D%3D?line=2'>3</a>\u001b[0m scores_per_objective, df \u001b[39m=\u001b[39m get_further_data(scores_per_item)\n\u001b[1;32m      <a href='vscode-notebook-cell:/Users/robertpraas/Desktop/ThoughtSource/notebooks/reflection_messages/reflection_experiments_Robert.ipynb#Z1020sZmlsZQ%3D%3D?line=3'>4</a>\u001b[0m \u001b[39mprint\u001b[39m(df)\n\u001b[1;32m      <a href='vscode-notebook-cell:/Users/robertpraas/Desktop/ThoughtSource/notebooks/reflection_messages/reflection_experiments_Robert.ipynb#Z1020sZmlsZQ%3D%3D?line=4'>5</a>\u001b[0m average_per_item \u001b[39m=\u001b[39m [\u001b[39msum\u001b[39m(d\u001b[39m.\u001b[39mvalues()) \u001b[39m/\u001b[39m \u001b[39mlen\u001b[39m(d) \u001b[39mfor\u001b[39;00m d \u001b[39min\u001b[39;00m scores_per_item]\n",
      "\u001b[1;32m/Users/robertpraas/Desktop/ThoughtSource/notebooks/reflection_messages/reflection_experiments_Robert.ipynb Cell 161\u001b[0m in \u001b[0;36mget_further_data\u001b[0;34m(scores_per_item)\u001b[0m\n\u001b[1;32m      <a href='vscode-notebook-cell:/Users/robertpraas/Desktop/ThoughtSource/notebooks/reflection_messages/reflection_experiments_Robert.ipynb#Z1020sZmlsZQ%3D%3D?line=5'>6</a>\u001b[0m scores_per_objective \u001b[39m=\u001b[39m {key: [d\u001b[39m.\u001b[39mget(key) \u001b[39mfor\u001b[39;00m d \u001b[39min\u001b[39;00m scores_per_item] \u001b[39mfor\u001b[39;00m key \u001b[39min\u001b[39;00m keys}\n\u001b[1;32m      <a href='vscode-notebook-cell:/Users/robertpraas/Desktop/ThoughtSource/notebooks/reflection_messages/reflection_experiments_Robert.ipynb#Z1020sZmlsZQ%3D%3D?line=6'>7</a>\u001b[0m \u001b[39m# scores_per_objective = {k: v for k, v in scores_per_objective.items() if not isinstance(v, str)}\u001b[39;00m\n\u001b[1;32m      <a href='vscode-notebook-cell:/Users/robertpraas/Desktop/ThoughtSource/notebooks/reflection_messages/reflection_experiments_Robert.ipynb#Z1020sZmlsZQ%3D%3D?line=7'>8</a>\u001b[0m \u001b[39m# print(scores_per_objective)\u001b[39;00m\n\u001b[1;32m      <a href='vscode-notebook-cell:/Users/robertpraas/Desktop/ThoughtSource/notebooks/reflection_messages/reflection_experiments_Robert.ipynb#Z1020sZmlsZQ%3D%3D?line=8'>9</a>\u001b[0m \n\u001b[0;32m   (...)\u001b[0m\n\u001b[1;32m     <a href='vscode-notebook-cell:/Users/robertpraas/Desktop/ThoughtSource/notebooks/reflection_messages/reflection_experiments_Robert.ipynb#Z1020sZmlsZQ%3D%3D?line=16'>17</a>\u001b[0m \u001b[39m# Calculate the average of each list\u001b[39;00m\n\u001b[1;32m     <a href='vscode-notebook-cell:/Users/robertpraas/Desktop/ThoughtSource/notebooks/reflection_messages/reflection_experiments_Robert.ipynb#Z1020sZmlsZQ%3D%3D?line=17'>18</a>\u001b[0m \u001b[39m#averaged_data = {key: sum(value) / len(value) for key, value in scores_per_objective.items()} \u001b[39;00m\n\u001b[0;32m---> <a href='vscode-notebook-cell:/Users/robertpraas/Desktop/ThoughtSource/notebooks/reflection_messages/reflection_experiments_Robert.ipynb#Z1020sZmlsZQ%3D%3D?line=18'>19</a>\u001b[0m averaged_data \u001b[39m=\u001b[39m {key: (\u001b[39msum\u001b[39m(v \u001b[39mfor\u001b[39;00m v \u001b[39min\u001b[39;00m value \u001b[39mif\u001b[39;00m v \u001b[39mis\u001b[39;00m \u001b[39mnot\u001b[39;00m \u001b[39mNone\u001b[39;00m) \u001b[39m/\u001b[39m \u001b[39mlen\u001b[39m([v \u001b[39mfor\u001b[39;00m v \u001b[39min\u001b[39;00m value \u001b[39mif\u001b[39;00m v \u001b[39mis\u001b[39;00m \u001b[39mnot\u001b[39;00m \u001b[39mNone\u001b[39;00m])) \u001b[39mfor\u001b[39;00m key, value \u001b[39min\u001b[39;00m scores_per_objective\u001b[39m.\u001b[39mitems() \u001b[39mif\u001b[39;00m \u001b[39mlen\u001b[39m([v \u001b[39mfor\u001b[39;00m v \u001b[39min\u001b[39;00m value \u001b[39mif\u001b[39;00m v \u001b[39mis\u001b[39;00m \u001b[39mnot\u001b[39;00m \u001b[39mNone\u001b[39;00m]) \u001b[39m>\u001b[39m \u001b[39m0\u001b[39m}\n\u001b[1;32m     <a href='vscode-notebook-cell:/Users/robertpraas/Desktop/ThoughtSource/notebooks/reflection_messages/reflection_experiments_Robert.ipynb#Z1020sZmlsZQ%3D%3D?line=20'>21</a>\u001b[0m \u001b[39m# Convert the averaged data dictionary to a Pandas DataFrame\u001b[39;00m\n\u001b[1;32m     <a href='vscode-notebook-cell:/Users/robertpraas/Desktop/ThoughtSource/notebooks/reflection_messages/reflection_experiments_Robert.ipynb#Z1020sZmlsZQ%3D%3D?line=21'>22</a>\u001b[0m df \u001b[39m=\u001b[39m pd\u001b[39m.\u001b[39mDataFrame\u001b[39m.\u001b[39mfrom_dict(averaged_data, orient\u001b[39m=\u001b[39m\u001b[39m'\u001b[39m\u001b[39mindex\u001b[39m\u001b[39m'\u001b[39m, columns\u001b[39m=\u001b[39m[\u001b[39m'\u001b[39m\u001b[39mAverage\u001b[39m\u001b[39m'\u001b[39m])\n",
      "\u001b[1;32m/Users/robertpraas/Desktop/ThoughtSource/notebooks/reflection_messages/reflection_experiments_Robert.ipynb Cell 161\u001b[0m in \u001b[0;36m<dictcomp>\u001b[0;34m(.0)\u001b[0m\n\u001b[1;32m      <a href='vscode-notebook-cell:/Users/robertpraas/Desktop/ThoughtSource/notebooks/reflection_messages/reflection_experiments_Robert.ipynb#Z1020sZmlsZQ%3D%3D?line=5'>6</a>\u001b[0m scores_per_objective \u001b[39m=\u001b[39m {key: [d\u001b[39m.\u001b[39mget(key) \u001b[39mfor\u001b[39;00m d \u001b[39min\u001b[39;00m scores_per_item] \u001b[39mfor\u001b[39;00m key \u001b[39min\u001b[39;00m keys}\n\u001b[1;32m      <a href='vscode-notebook-cell:/Users/robertpraas/Desktop/ThoughtSource/notebooks/reflection_messages/reflection_experiments_Robert.ipynb#Z1020sZmlsZQ%3D%3D?line=6'>7</a>\u001b[0m \u001b[39m# scores_per_objective = {k: v for k, v in scores_per_objective.items() if not isinstance(v, str)}\u001b[39;00m\n\u001b[1;32m      <a href='vscode-notebook-cell:/Users/robertpraas/Desktop/ThoughtSource/notebooks/reflection_messages/reflection_experiments_Robert.ipynb#Z1020sZmlsZQ%3D%3D?line=7'>8</a>\u001b[0m \u001b[39m# print(scores_per_objective)\u001b[39;00m\n\u001b[1;32m      <a href='vscode-notebook-cell:/Users/robertpraas/Desktop/ThoughtSource/notebooks/reflection_messages/reflection_experiments_Robert.ipynb#Z1020sZmlsZQ%3D%3D?line=8'>9</a>\u001b[0m \n\u001b[0;32m   (...)\u001b[0m\n\u001b[1;32m     <a href='vscode-notebook-cell:/Users/robertpraas/Desktop/ThoughtSource/notebooks/reflection_messages/reflection_experiments_Robert.ipynb#Z1020sZmlsZQ%3D%3D?line=16'>17</a>\u001b[0m \u001b[39m# Calculate the average of each list\u001b[39;00m\n\u001b[1;32m     <a href='vscode-notebook-cell:/Users/robertpraas/Desktop/ThoughtSource/notebooks/reflection_messages/reflection_experiments_Robert.ipynb#Z1020sZmlsZQ%3D%3D?line=17'>18</a>\u001b[0m \u001b[39m#averaged_data = {key: sum(value) / len(value) for key, value in scores_per_objective.items()} \u001b[39;00m\n\u001b[0;32m---> <a href='vscode-notebook-cell:/Users/robertpraas/Desktop/ThoughtSource/notebooks/reflection_messages/reflection_experiments_Robert.ipynb#Z1020sZmlsZQ%3D%3D?line=18'>19</a>\u001b[0m averaged_data \u001b[39m=\u001b[39m {key: (\u001b[39msum\u001b[39;49m(v \u001b[39mfor\u001b[39;49;00m v \u001b[39min\u001b[39;49;00m value \u001b[39mif\u001b[39;49;00m v \u001b[39mis\u001b[39;49;00m \u001b[39mnot\u001b[39;49;00m \u001b[39mNone\u001b[39;49;00m) \u001b[39m/\u001b[39m \u001b[39mlen\u001b[39m([v \u001b[39mfor\u001b[39;00m v \u001b[39min\u001b[39;00m value \u001b[39mif\u001b[39;00m v \u001b[39mis\u001b[39;00m \u001b[39mnot\u001b[39;00m \u001b[39mNone\u001b[39;00m])) \u001b[39mfor\u001b[39;00m key, value \u001b[39min\u001b[39;00m scores_per_objective\u001b[39m.\u001b[39mitems() \u001b[39mif\u001b[39;00m \u001b[39mlen\u001b[39m([v \u001b[39mfor\u001b[39;00m v \u001b[39min\u001b[39;00m value \u001b[39mif\u001b[39;00m v \u001b[39mis\u001b[39;00m \u001b[39mnot\u001b[39;00m \u001b[39mNone\u001b[39;00m]) \u001b[39m>\u001b[39m \u001b[39m0\u001b[39m}\n\u001b[1;32m     <a href='vscode-notebook-cell:/Users/robertpraas/Desktop/ThoughtSource/notebooks/reflection_messages/reflection_experiments_Robert.ipynb#Z1020sZmlsZQ%3D%3D?line=20'>21</a>\u001b[0m \u001b[39m# Convert the averaged data dictionary to a Pandas DataFrame\u001b[39;00m\n\u001b[1;32m     <a href='vscode-notebook-cell:/Users/robertpraas/Desktop/ThoughtSource/notebooks/reflection_messages/reflection_experiments_Robert.ipynb#Z1020sZmlsZQ%3D%3D?line=21'>22</a>\u001b[0m df \u001b[39m=\u001b[39m pd\u001b[39m.\u001b[39mDataFrame\u001b[39m.\u001b[39mfrom_dict(averaged_data, orient\u001b[39m=\u001b[39m\u001b[39m'\u001b[39m\u001b[39mindex\u001b[39m\u001b[39m'\u001b[39m, columns\u001b[39m=\u001b[39m[\u001b[39m'\u001b[39m\u001b[39mAverage\u001b[39m\u001b[39m'\u001b[39m])\n",
      "\u001b[0;31mTypeError\u001b[0m: unsupported operand type(s) for +: 'int' and 'list'"
     ]
    }
   ],
   "source": [
    "scores_per_item, variables_per_item, statements = parse_lst_data(data,idx_cot=1,dataset='med_qa',split='test')\n",
    "scores_per_item = fix_str_score(scores_per_item)\n",
    "scores_per_objective, df = get_further_data(scores_per_item)\n",
    "print(df)\n",
    "average_per_item = [sum(d.values()) / len(d) for d in scores_per_item]\n",
    "#avg_true_false(cohere_false,average_per_item,'med_qa','test')\n",
    "freq_bar_plot(scores_per_item)\n",
    "avg_item_plot(scores_per_objective)"
   ]
  },
  {
   "cell_type": "code",
   "execution_count": null,
   "metadata": {},
   "outputs": [],
   "source": [
    "#fix this\n",
    "data_2 = Collection.from_json(\"openbook_zhou_eval_chatgpt.json\")\n",
    "\n",
    "absolute_path = \"./input_system/system_template_21.yaml\"\n",
    "data_2 = data_2.select(split=\"test\", number_samples=30, random_samples=True, seed=0)\n",
    "system_evaluate(data_2,'gpt-4',absolute_path)\n",
    "data_2.dump(\"ob_template_18_gpt4\")\n",
    "\n",
    "system_evaluate(data,'gpt-3.5-turbo',absolute_path)\n",
    "data.dump(\"ob_template_21\")"
   ]
  },
  {
   "cell_type": "code",
   "execution_count": null,
   "metadata": {},
   "outputs": [],
   "source": [
    "#Data:\n",
    "Collection.from_json(\"med_qa_zhou_cohere.json\")\n",
    "Collection.from_json(\"openbook_zhou_eval_chatgpt.json\")\n",
    "Collection.from_json(\"medmc_zhou_eval_chatgpt.json\")\n",
    "\n",
    "# Can we improve accuracy?\n",
    "\"\"\"fix system_experiment api error for this\"\"\"\n",
    "system_template_19.yaml --> run reasoning and then score #17 vs 19\n",
    "\n",
    "# TODO\n",
    "# give a final grade\n",
    "# Experiment if this goes well and then add\n"
   ]
  }
 ],
 "metadata": {
  "kernelspec": {
   "display_name": "base",
   "language": "python",
   "name": "python3"
  },
  "language_info": {
   "codemirror_mode": {
    "name": "ipython",
    "version": 3
   },
   "file_extension": ".py",
   "mimetype": "text/x-python",
   "name": "python",
   "nbconvert_exporter": "python",
   "pygments_lexer": "ipython3",
   "version": "3.9.12"
  },
  "orig_nbformat": 4
 },
 "nbformat": 4,
 "nbformat_minor": 2
}
