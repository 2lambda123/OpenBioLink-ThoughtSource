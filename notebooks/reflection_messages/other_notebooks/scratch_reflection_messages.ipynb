{
 "cells": [
  {
   "attachments": {},
   "cell_type": "markdown",
   "metadata": {},
   "source": [
    "## Imports, data and model setup"
   ]
  },
  {
   "cell_type": "code",
   "execution_count": 1,
   "metadata": {},
   "outputs": [],
   "source": [
    "\"\"\"Imports\"\"\"\n",
    "from langchain.chat_models import ChatOpenAI\n",
    "from langchain.prompts.chat import (\n",
    "    ChatPromptTemplate,\n",
    "    SystemMessagePromptTemplate,\n",
    "    AIMessagePromptTemplate,\n",
    "    HumanMessagePromptTemplate,\n",
    ")\n",
    "from langchain.schema import (\n",
    "    AIMessage,\n",
    "    HumanMessage,\n",
    "    SystemMessage\n",
    ")\n",
    "\n",
    "from cot import Collection\n",
    "import yaml"
   ]
  },
  {
   "cell_type": "code",
   "execution_count": 4,
   "metadata": {},
   "outputs": [
    {
     "name": "stdout",
     "output_type": "stream",
     "text": [
      "Loading worldtree...\n",
      "Loading med_qa...\n"
     ]
    }
   ],
   "source": [
    "\"\"\"data\"\"\"\n",
    "\n",
    "worldtree = Collection([\"worldtree\"], verbose=False)\n",
    "worldtree = worldtree.select(split=\"train\", number_samples=1, random_samples=True, seed=0)\n",
    "\n",
    "medqa = Collection([\"med_qa\"], verbose=False)\n",
    "medqa = medqa.select(split=\"test\", number_samples=1, random_samples=True, seed=0)"
   ]
  },
  {
   "cell_type": "code",
   "execution_count": 5,
   "metadata": {},
   "outputs": [],
   "source": [
    "\"\"\"Chat model\"\"\"\n",
    "model = 'gpt-3.5-turbo'\n",
    "# model = 'gpt-4'\n",
    "chat = ChatOpenAI(\n",
    "        temperature=0,\n",
    "        model_name=model,\n",
    "        request_timeout=600,\n",
    "        max_retries=1,\n",
    "    )"
   ]
  },
  {
   "attachments": {},
   "cell_type": "markdown",
   "metadata": {},
   "source": [
    "## Initial experimentation"
   ]
  },
  {
   "cell_type": "code",
   "execution_count": 16,
   "metadata": {},
   "outputs": [],
   "source": [
    "\"\"\"Templates\"\"\"\n",
    "\n",
    "with open('../reflection_messages/input_system/sytem_short_list.yaml', 'r') as file:\n",
    "    template = file.read()\n",
    "system_message_prompt = SystemMessagePromptTemplate.from_template(template)\n",
    "\n",
    "human_template=\"\"\"Answer the question:{question}\\nwith the following answer options:{answer_options}\"\"\"\n",
    "human_message_prompt = HumanMessagePromptTemplate.from_template(human_template)"
   ]
  },
  {
   "cell_type": "code",
   "execution_count": 7,
   "metadata": {},
   "outputs": [
    {
     "data": {
      "text/plain": [
       "AIMessage(content='Reasoning:\\nThe patient is a 77-year-old woman who presents with fever, malaise, and night sweats. She has a history of breast cancer in her 60s that was treated with radiation and chemotherapy. She also reports a history of extensive travel to Africa and a 30-pack-year history of smoking. On physical exam, several axillary lymph nodes are palpable with a large non-tender palpable mass in her right axilla measuring 10 x 8 cm. Fine-needle aspiration demonstrates what the pathologist describes as \"a centroblastic and immunoblastic cell presence, suspicious for non-Hodgkin’s lymphoma (NHL)–diffuse large B cell variant\". We are asked to determine which of the following risk factors is responsible for this patient\\'s condition.\\n\\nAnswer:\\nE: Previous breast cancer\\n\\nRule check:\\nRule 1: The reasoning is accurate and breaks down the question to determine which risk factor is responsible for the patient\\'s condition.\\nRule 2: The response considers all relevant information, including the patient\\'s history of breast cancer, extensive travel to Africa, and smoking history, as well as the physical exam findings and fine-needle aspiration results.\\nRule 3: The response is sensitive to the numerical information provided', additional_kwargs={})"
      ]
     },
     "execution_count": 7,
     "metadata": {},
     "output_type": "execute_result"
    }
   ],
   "source": [
    "chat_prompt = ChatPromptTemplate.from_messages([system_message_prompt, human_message_prompt])\n",
    "\n",
    "# get a chat completion from the formatted messages\n",
    "chat(chat_prompt.format_prompt(answer_options=\"\"\"\n",
    "A: Travel to Africa\n",
    "B: Axillary lymph node involvement\n",
    "C: Previous radiation therapy\n",
    "D: Female gender\n",
    "E: Previous breast cancer\"\"\", question=\"A 77-year-old woman presents to the emergency room with the complaints of fever, malaise, and night sweats. She recently observed an enlargement of her axillary lymph nodes, which she examines on a weekly basis. She has a remote history of breast cancer in her 60s that was treated with radiation and chemotherapy. She also reports a history of extensive travel to Africa and a 30-pack-year history of smoking. On physical exam, several axillary lymph nodes are palpable with a large non-tender palpable mass in her right axilla measuring 10 x 8 cm. Fine-needle aspiration demonstrates what the pathologist describes as \\\"a centroblastic and immunoblastic cell presence, suspicious for non-Hodgkin’s lymphoma (NHL)–diffuse large B cell variant\\\". Which of the following risk factors is responsible for this patient’s condition?\").to_messages())"
   ]
  },
  {
   "cell_type": "code",
   "execution_count": null,
   "metadata": {},
   "outputs": [],
   "source": [
    "# observe that GPT-3.5 gives no explanation\n",
    "\n",
    "\"\"\"content='Reasoning:\\nThe patient is a 77-year-old woman who presents with fever, malaise, and night sweats. \n",
    "She has a history of breast cancer in her 60s that was treated with radiation and chemotherapy. \n",
    "She also reports a history of extensive travel to Africa and a 30-pack-year history of smoking. \n",
    "On physical exam, several axillary lymph nodes are palpable with a large non-tender palpable mass \n",
    "in her right axilla measuring 10 x 8 cm. Fine-needle aspiration demonstrates what the pathologist \n",
    "describes as \"a centroblastic and immunoblastic cell presence, suspicious for non-Hodgkin’s lymphoma \n",
    "(NHL)–diffuse large B cell variant\". We are asked to determine which of the following risk factors is \n",
    "responsible for this patient\\'s condition.\\n\\nAnswer:\\nE: Previous breast cancer\\n\\n\n",
    "Rule check:\\nRule 1: The reasoning is accurate and breaks down the question to determine which risk factor\n",
    " is responsible for the patient\\'s condition.\\nRule 2: The response considers all relevant information, \n",
    " including the patient\\'s history of breast cancer, extensive travel to Africa, and smoking history, \n",
    " as well as the physical exam findings and fine-needle aspiration results.\n",
    " \\nRule 3: The response is sensitive to the numerical information provided'\n",
    "\"\"\""
   ]
  },
  {
   "attachments": {},
   "cell_type": "markdown",
   "metadata": {},
   "source": [
    "### new prompt with answer at the end"
   ]
  },
  {
   "cell_type": "code",
   "execution_count": 8,
   "metadata": {},
   "outputs": [],
   "source": [
    "system_template=\"\"\"You are a scientific problem solver.\n",
    "\n",
    "Your input consist of multiple choice questions. Based on the input, reason about the question and determine which of the answer options is the <final answer>.\n",
    "\n",
    "Analyse the reasoning and answer conform the following rules, judging whether the reasoning and answer adhere to it.\n",
    "\n",
    "Based on the judgment, change the reasoning and answer if needed.\n",
    "\n",
    "Rules:\n",
    "\n",
    "1. The response interprets the question accurately and breaks it down if necessary. <judgment>\n",
    "2. The response considers all relevant information, and does not consider irrelevant information. <judgment>\n",
    "3. The response is sensitive to the numerical information provided by the user, accurately interpreting and incorporating it into the response. <judgment>\n",
    "\n",
    "Aim for an informative level of detail. Ensure that every step logically follows up on all previous steps and that processes in subsequent steps are informed by previous steps. Format your response in YAML, following this schema:\n",
    "\n",
    "Reasoning:\n",
    "<Reasoning about the question>\n",
    "\n",
    "Rule check:\n",
    "Rule 1: <judgment>\n",
    "Rule 2: <judgment>\n",
    "Rule 3: <judgment>\n",
    "\n",
    "Final answer:\n",
    "<final answer based on the reasoning and the judgment>\n",
    "\"\"\"\n",
    "system_message_prompt = SystemMessagePromptTemplate.from_template(system_template)"
   ]
  },
  {
   "cell_type": "code",
   "execution_count": 9,
   "metadata": {},
   "outputs": [
    {
     "data": {
      "text/plain": [
       "AIMessage(content='Reasoning:\\nThe patient is a 77-year-old woman who presents with fever, malaise, and night sweats. She has a history of breast cancer in her 60s that was treated with radiation and chemotherapy. She also reports a history of extensive travel to Africa and a 30-pack-year history of smoking. On physical exam, several axillary lymph nodes are palpable with a large non-tender palpable mass in her right axilla measuring 10 x 8 cm. Fine-needle aspiration demonstrates what the pathologist describes as \"a centroblastic and immunoblastic cell presence, suspicious for non-Hodgkin’s lymphoma (NHL)–diffuse large B cell variant\". We are asked to determine which of the following risk factors is responsible for this patient\\'s condition.\\n\\nRule check:\\nRule 1: The question is interpreted accurately and broken down if necessary.\\nRule 2: All relevant information is considered, and irrelevant information is not considered.\\nRule 3: There is numerical information provided, but it is not relevant to this question.\\n\\nFinal answer:\\nThe patient\\'s history of previous breast cancer is a risk factor for developing non-Hodgkin\\'s lymphoma. Therefore, the correct answer is E: Previous breast cancer.', additional_kwargs={})"
      ]
     },
     "execution_count": 9,
     "metadata": {},
     "output_type": "execute_result"
    }
   ],
   "source": [
    "model = 'gpt-3.5-turbo'\n",
    "chat = ChatOpenAI(\n",
    "        temperature=0,\n",
    "        model_name=model,\n",
    "        request_timeout=600,\n",
    "        max_retries=1,\n",
    "    )\n",
    "chat_prompt = ChatPromptTemplate.from_messages([system_message_prompt, human_message_prompt])\n",
    "\n",
    "# get a chat completion from the formatted messages\n",
    "chat(chat_prompt.format_prompt(answer_options=\"\"\"\n",
    "A: Travel to Africa\n",
    "B: Axillary lymph node involvement\n",
    "C: Previous radiation therapy\n",
    "D: Female gender\n",
    "E: Previous breast cancer\"\"\", question=\"A 77-year-old woman presents to the emergency room with the complaints of fever, malaise, and night sweats. She recently observed an enlargement of her axillary lymph nodes, which she examines on a weekly basis. She has a remote history of breast cancer in her 60s that was treated with radiation and chemotherapy. She also reports a history of extensive travel to Africa and a 30-pack-year history of smoking. On physical exam, several axillary lymph nodes are palpable with a large non-tender palpable mass in her right axilla measuring 10 x 8 cm. Fine-needle aspiration demonstrates what the pathologist describes as \\\"a centroblastic and immunoblastic cell presence, suspicious for non-Hodgkin’s lymphoma (NHL)–diffuse large B cell variant\\\". Which of the following risk factors is responsible for this patient’s condition?\").to_messages())"
   ]
  },
  {
   "cell_type": "code",
   "execution_count": null,
   "metadata": {},
   "outputs": [],
   "source": [
    "#gpt-3 listens actually better than gpt-4 in the next section\n",
    "\"\"\"content='Reasoning:\\nThe patient is a 77-year-old woman who presents with fever, malaise, and night sweats. \n",
    "She has a history of breast cancer in her 60s that was treated with radiation and chemotherapy. \n",
    "She also reports a history of extensive travel to Africa and a 30-pack-year history of smoking.\n",
    " On physical exam, several axillary lymph nodes are palpable with a large non-tender palpable mass in her right axilla\n",
    "   measuring 10 x 8 cm. Fine-needle aspiration demonstrates what the pathologist describes as \"a centroblastic\n",
    "     and immunoblastic cell presence, suspicious for non-Hodgkin’s lymphoma (NHL)–diffuse large B cell variant\".\n",
    "       We are asked to determine which of the following risk factors is responsible for this patient\\'s condition.\n",
    "       \\n\\nRule check:\\nRule 1: The question is interpreted accurately and broken down if necessary.\n",
    "       \\nRule 2: All relevant information is considered, and irrelevant information is not considered.\n",
    "       \\nRule 3: There is numerical information provided, but it is not relevant to this question.\\n\\n\n",
    "       Final answer:\\nThe patient\\'s history of previous breast cancer is a risk factor for developing \n",
    "       non-Hodgkin\\'s lymphoma. Therefore, the correct answer is E: Previous breast cancer.'\"\"\""
   ]
  },
  {
   "cell_type": "code",
   "execution_count": 10,
   "metadata": {},
   "outputs": [
    {
     "data": {
      "text/plain": [
       "AIMessage(content=\"Reasoning:\\nThe question asks us to identify the risk factor responsible for the patient's condition, which is suspected to be non-Hodgkin's lymphoma (NHL)–diffuse large B cell variant. We need to consider the risk factors mentioned in the question and determine which one is most likely to be responsible for the patient's condition.\\n\\nA: Travel to Africa - While travel to Africa may expose a person to various health risks, it is not a known risk factor for NHL.\\nB: Axillary lymph node involvement - This is a symptom of the patient's condition, not a risk factor.\\nC: Previous radiation therapy - Radiation therapy is a known risk factor for developing NHL, as it can cause DNA damage and increase the risk of developing cancer.\\nD: Female gender - Gender is not a significant risk factor for NHL.\\nE: Previous breast cancer - While having a history of cancer may increase the risk of developing another cancer, the radiation therapy used to treat the breast cancer is a more direct risk factor for NHL.\\n\\nRule check:\\nRule 1: Accurate interpretation and breakdown of the question. (Pass)\\nRule 2: Consideration of all relevant information and exclusion of irrelevant information. (Pass)\\nRule 3: Sensitivity to the numerical information\", additional_kwargs={})"
      ]
     },
     "execution_count": 10,
     "metadata": {},
     "output_type": "execute_result"
    }
   ],
   "source": [
    "model = 'gpt-4'\n",
    "chat = ChatOpenAI(\n",
    "        temperature=0,\n",
    "        model_name=model,\n",
    "        request_timeout=600,\n",
    "        max_retries=1,\n",
    "    )\n",
    "\n",
    "chat_prompt = ChatPromptTemplate.from_messages([system_message_prompt, human_message_prompt])\n",
    "\n",
    "# get a chat completion from the formatted messages\n",
    "chat(chat_prompt.format_prompt(answer_options=\"\"\"\n",
    "A: Travel to Africa\n",
    "B: Axillary lymph node involvement\n",
    "C: Previous radiation therapy\n",
    "D: Female gender\n",
    "E: Previous breast cancer\"\"\", question=\"A 77-year-old woman presents to the emergency room with the complaints of fever, malaise, and night sweats. She recently observed an enlargement of her axillary lymph nodes, which she examines on a weekly basis. She has a remote history of breast cancer in her 60s that was treated with radiation and chemotherapy. She also reports a history of extensive travel to Africa and a 30-pack-year history of smoking. On physical exam, several axillary lymph nodes are palpable with a large non-tender palpable mass in her right axilla measuring 10 x 8 cm. Fine-needle aspiration demonstrates what the pathologist describes as \\\"a centroblastic and immunoblastic cell presence, suspicious for non-Hodgkin’s lymphoma (NHL)–diffuse large B cell variant\\\". Which of the following risk factors is responsible for this patient’s condition?\").to_messages())"
   ]
  },
  {
   "cell_type": "code",
   "execution_count": null,
   "metadata": {},
   "outputs": [],
   "source": [
    "#gpt-4 does not adhere to answer format\n",
    "\n",
    "\"\"\"content=\"Reasoning:\\nThe question asks us to identify the risk factor responsible for the patient's condition,\n",
    " which is suspected to be non-Hodgkin's lymphoma (NHL)–diffuse large B cell variant. We need to consider the risk \n",
    " factors mentioned in the question and determine which one is most likely to be responsible for the patient's condition\n",
    " .\\n\\nA: Travel to Africa - While travel to Africa may expose a person to various health risks, it is not a known risk \n",
    " factor for NHL.\\nB: Axillary lymph node involvement - This is a symptom of the patient's condition, not a risk factor.\n",
    " \\nC: Previous radiation therapy - Radiation therapy is a known risk factor for developing NHL, as it can cause DNA \n",
    " damage and increase the risk of developing cancer.\\nD: Female gender - Gender is not a significant risk factor for NHL.\n",
    " \\nE: Previous breast cancer - While having a history of cancer may increase the risk of developing another cancer, the \n",
    " radiation therapy used to treat the breast cancer is a more direct risk factor for NHL.\\n\\nRule check:\\n\n",
    " Rule 1: Accurate interpretation and breakdown of the question. (Pass)\\n\n",
    " Rule 2: Consideration of all relevant information and exclusion of irrelevant information. (Pass)\\n\n",
    " Rule 3: Sensitivity to the numerical information\"\n",
    " \"\"\""
   ]
  },
  {
   "attachments": {},
   "cell_type": "markdown",
   "metadata": {},
   "source": [
    "## Define templates"
   ]
  },
  {
   "cell_type": "code",
   "execution_count": null,
   "metadata": {},
   "outputs": [],
   "source": [
    "#call different templates from a json/python file"
   ]
  },
  {
   "cell_type": "code",
   "execution_count": 25,
   "metadata": {},
   "outputs": [],
   "source": [
    "#1 system template\n",
    "system_template=\"\"\"You are a scientific problem solver.\n",
    "\n",
    "Your input consist of multiple choice questions. Based on the input, reason about the question and determine which of the answer options is the <final answer>.\n",
    "\n",
    "\n",
    "\"\"\"\n",
    "system_message_prompt = SystemMessagePromptTemplate.from_template(system_template)"
   ]
  },
  {
   "cell_type": "code",
   "execution_count": 36,
   "metadata": {},
   "outputs": [],
   "source": [
    "#2 system template\n",
    "\n",
    "system_template=\"\"\"You are a scientific problem solver.\n",
    "\n",
    "Your input consist of multiple choice questions. Based on the input, reason about the question and determine which of the answer options is the <final answer>.\n",
    "\n",
    "Analyse the reasoning and answer conform the following rules, judging whether the reasoning and answer adhere to it.\n",
    "\n",
    "Based on the judgment, change the reasoning and answer if needed.\n",
    "\n",
    "<final answer based on the reasoning and the judgment>\n",
    "\"\"\"\n",
    "system_message_prompt = SystemMessagePromptTemplate.from_template(system_template)"
   ]
  },
  {
   "cell_type": "code",
   "execution_count": 7,
   "metadata": {},
   "outputs": [],
   "source": [
    "#3 system template\n",
    "\n",
    "system_template=\"\"\"You are a scientific problem solver. Your input consists of multiple choice questions. Based on the input, reason about the question and determine which of the answer options is the <answer>.\n",
    "\n",
    "Analyze the reasoning and answer conform to the defined rules, judging whether the reasoning and answer adhere to it.\n",
    "\n",
    "Based on the judgment, change the reasoning and answer if needed.\n",
    "\n",
    "Rules:\n",
    "\n",
    "1. The response interprets the question accurately and breaks it down if necessary. <judge whether the question could mean somethings else>\n",
    "2. The response considers all relevant information, and does not consider irrelevant information. <judge whether more or  less information should be considered>\n",
    "3. The response picks the most logical answer option based on common sense. <judge whether the chosen answer is logical and whether another answer option could be more logical>\n",
    "\n",
    "Aim for an informative level of detail. Ensure that every step logically follows up on all previous steps and that processes in subsequent steps are informed by previous steps. Format your response following this schema:\n",
    "\n",
    "Reasoning:\n",
    "<Reasoning about the question>\n",
    "\n",
    "Rule check:\n",
    "Rule 1: <judgment>\n",
    "Rule 2: <judgment>\n",
    "Rule 3: <judgment>\n",
    "\n",
    "Final answer:\n",
    "<final answer based on the reasoning and the judgment>\n",
    "\"\"\"\n",
    "system_message_prompt = SystemMessagePromptTemplate.from_template(system_template)"
   ]
  },
  {
   "cell_type": "code",
   "execution_count": 18,
   "metadata": {},
   "outputs": [],
   "source": [
    "#4 system template\n",
    "\n",
    "system_template=\"\"\"You are a scientific problem solver. Your input consists of multiple choice questions. Based on the input, reason about the question and determine which of the answer options is the <answer>.\n",
    "\n",
    "Then, act as a critical evaluator and judge whether the reasoning and answer adhere to the given rules.\n",
    "\n",
    "Based on the judgment, change the reasoning and answer if needed.\n",
    "\n",
    "Rules:\n",
    "\n",
    "1. The response interprets the question accurately and breaks it down if necessary. <judge whether the question could mean somethings else>\n",
    "2. The response considers all relevant information, and does not consider irrelevant information. <judge whether more or  less information should be considered>\n",
    "3. The response picks the most logical answer option based on common sense. <judge whether the chosen answer is logical and whether another answer option could be more logical>\n",
    "\n",
    "Aim for an informative level of detail. Ensure that every step logically follows up on all previous steps and that processes in subsequent steps are informed by previous steps. Format your response following this schema:\n",
    "\n",
    "Reasoning:\n",
    "<Reasoning about the question>\n",
    "\n",
    "Rule check:\n",
    "Rule 1: <judgment>\n",
    "Rule 2: <judgment>\n",
    "Rule 3: <judgment>\n",
    "\n",
    "Final answer:\n",
    "<final answer based on the reasoning and the judgment>\n",
    "\"\"\"\n",
    "system_message_prompt = SystemMessagePromptTemplate.from_template(system_template)\n",
    "\n"
   ]
  },
  {
   "cell_type": "code",
   "execution_count": 9,
   "metadata": {},
   "outputs": [],
   "source": [
    "#human template (json formatting) + gpt 4\n",
    "human_template=\"\"\"Answer the question:{question}\\nwith the following answer options:{answer_options}\\nProvide the final answer as a single letter (A-D)'\"\"\"\n",
    "#in json format with the key 'final_answer\n",
    "human_message_prompt = HumanMessagePromptTemplate.from_template(human_template)"
   ]
  },
  {
   "cell_type": "code",
   "execution_count": 19,
   "metadata": {},
   "outputs": [],
   "source": [
    "chat_prompt = ChatPromptTemplate.from_messages([system_message_prompt, human_message_prompt])"
   ]
  },
  {
   "cell_type": "code",
   "execution_count": 15,
   "metadata": {},
   "outputs": [],
   "source": [
    "import json\n",
    "input_dict = {'chat':chat,'chat_prompt':chat_prompt}"
   ]
  },
  {
   "attachments": {},
   "cell_type": "markdown",
   "metadata": {},
   "source": [
    "## Generate reasoning with system prompt"
   ]
  },
  {
   "cell_type": "code",
   "execution_count": 16,
   "metadata": {},
   "outputs": [
    {
     "name": "stdout",
     "output_type": "stream",
     "text": [
      "Generating worldtree...\n"
     ]
    }
   ],
   "source": [
    "worldtree.system_generate(input_dict,name='worldtree', split='train')"
   ]
  },
  {
   "cell_type": "code",
   "execution_count": null,
   "metadata": {},
   "outputs": [],
   "source": [
    "#chatgpt system template 3\n",
    "\n",
    "\"\"\"The question asks which of the given characteristics is a learned behavior. \n",
    "Being tall and having curly hair are genetic traits and not learned behaviors. \n",
    "Having freckles is also a genetic trait and not a learned behavior. \n",
    "Being a good cook, on the other hand, is a skill that can be learned through practice and experience.\\n\\n\n",
    "Rule check:\\nRule 1: The question is straightforward and does not require any further breakdown.\\n\n",
    "Rule 2: All the given characteristics are considered, and only the relevant information is used to determine the answer.\\n\n",
    "Rule 3: The most logical answer based on common sense is C) being a good cook.\\n\\n\n",
    "Final answer:\\nC) being a good cook.\n",
    "\"\"\""
   ]
  },
  {
   "cell_type": "code",
   "execution_count": null,
   "metadata": {},
   "outputs": [],
   "source": [
    "#gpt-4 system template 4\n",
    "\n",
    "\"\"\"A learned behavior is a behavior that is acquired through experience or learning, rather than being inherited \n",
    "genetically. In this case, we can analyze each characteristic to determine if it is a learned behavior or not:\n",
    "\\nA) Being tall - This is a genetic trait, not a learned behavior.\\nB) Having curly hair - This is also a genetic trait,\n",
    " not a learned behavior.\\nC) Being a good cook - This is a skill that can be learned and improved through practice,\n",
    "   making it a learned behavior.\\nD) Having freckles - This is a genetic trait, not a learned behavior.\\n\\n\n",
    "   Rule check:\\nRule 1: The question is interpreted accurately and broken down as necessary.\\\n",
    "    nRule 2: All relevant information is considered, and no irrelevant information is considered.\\n\n",
    "    Rule 3: The most logical answer option based on common sense is chosen.\\n\\n\n",
    "    Final answer:\\nC) being a good cook.\n",
    "\"\"\""
   ]
  },
  {
   "cell_type": "code",
   "execution_count": 17,
   "metadata": {},
   "outputs": [
    {
     "data": {
      "text/plain": [
       "{'id': 'worldtree_train_1577',\n",
       " 'ref_id': '',\n",
       " 'question': 'A parent and a child share several characteristics. Both individuals are tall, have curly hair, are good cooks, and have freckles. Which of these characteristics is a learned behavior?',\n",
       " 'type': 'multiplechoice',\n",
       " 'choices': ['being tall',\n",
       "  'having curly hair',\n",
       "  'being a good cook',\n",
       "  'having freckles'],\n",
       " 'context': '',\n",
       " 'cot': ['Skills are learned characteristics.',\n",
       "  'A behavior is a kind of characteristic.',\n",
       "  'Cooking is a kind of skill for preparing food.'],\n",
       " 'answer': ['being a good cook'],\n",
       " 'generated_cot': [{'id': '90fc13ba-0bd0-4b5e-b848-4845cb9565c3',\n",
       "   'fragments_version': '0.01',\n",
       "   'instruction': '',\n",
       "   'cot_trigger': '',\n",
       "   'cot_trigger_template': '',\n",
       "   'prompt_text': '',\n",
       "   'cot': 'Reasoning: \\nThe question asks which of the given characteristics is a learned behavior. Being tall and having curly hair are genetic traits and not learned behaviors. Having freckles is also a genetic trait and not a learned behavior. Being a good cook, on the other hand, is a skill that can be learned through practice and experience.\\n\\nRule check:\\nRule 1: The question is straightforward and does not require any further breakdown.\\nRule 2: All the given characteristics are considered, and only the relevant information is used to determine the answer.\\nRule 3: The most logical answer based on common sense is C) being a good cook.\\n\\nFinal answer:\\nC) being a good cook.',\n",
       "   'answers': [],\n",
       "   'author': '',\n",
       "   'date': '2023/05/11 14:47:54',\n",
       "   'api_service': '',\n",
       "   'model': \"{'name': '', 'temperature': 0, 'max_tokens': 1600}\",\n",
       "   'comment': '',\n",
       "   'annotations': []},\n",
       "  {'id': 'd8568abe-d5c4-41b0-b3cd-1846e21fe237',\n",
       "   'fragments_version': '0.01',\n",
       "   'instruction': '',\n",
       "   'cot_trigger': '',\n",
       "   'cot_trigger_template': '',\n",
       "   'prompt_text': '',\n",
       "   'cot': 'Reasoning:\\nA learned behavior is a behavior that is acquired through experience or learning, rather than being inherited genetically. In this case, we can analyze each characteristic to determine if it is a learned behavior or not:\\nA) Being tall - This is a genetic trait, not a learned behavior.\\nB) Having curly hair - This is also a genetic trait, not a learned behavior.\\nC) Being a good cook - This is a skill that can be learned and improved through practice, making it a learned behavior.\\nD) Having freckles - This is a genetic trait, not a learned behavior.\\n\\nRule check:\\nRule 1: The question is interpreted accurately and broken down as necessary.\\nRule 2: All relevant information is considered, and no irrelevant information is considered.\\nRule 3: The most logical answer option based on common sense is chosen.\\n\\nFinal answer:\\nC) being a good cook',\n",
       "   'answers': [],\n",
       "   'author': '',\n",
       "   'date': '2023/05/11 14:50:10',\n",
       "   'api_service': '',\n",
       "   'model': \"{'name': '', 'temperature': 0, 'max_tokens': 1600}\",\n",
       "   'comment': '',\n",
       "   'annotations': []}],\n",
       " 'feedback': []}"
      ]
     },
     "execution_count": 17,
     "metadata": {},
     "output_type": "execute_result"
    }
   ],
   "source": [
    "worldtree['worldtree']['train'][0]"
   ]
  },
  {
   "cell_type": "code",
   "execution_count": 32,
   "metadata": {},
   "outputs": [
    {
     "name": "stdout",
     "output_type": "stream",
     "text": [
      "Generating med_qa...\n"
     ]
    }
   ],
   "source": [
    "#system prompt 4\n",
    "medqa.system_generate(input_dict,name='med_qa', split='test')"
   ]
  },
  {
   "cell_type": "code",
   "execution_count": 33,
   "metadata": {},
   "outputs": [
    {
     "data": {
      "text/plain": [
       "{'id': 'med_qa_test_788',\n",
       " 'ref_id': '',\n",
       " 'question': 'A 26-year-old gravida 2 para 1 at 24 weeks gestation is admitted to the labor and delivery suite with mild abdominal cramps, uterine contractions, and a watery vaginal discharge. She has a history of preterm birth. The vital signs are as follows: blood pressure 125/80 mm Hg; heart rate 100/min; respiratory rate 13/min; and temperature 36.6℃ (97.9℉). The pelvic examination reveals cervical softening and shortening. Transvaginal ultrasound shows a cervical length of 12 mm, which is consistent with preterm labor. A tocolytic and a single dose of betamethasone are administered. Betamethasone stimulates which fetal cells?',\n",
       " 'type': 'multiplechoice',\n",
       " 'choices': ['Type I pneumocytes',\n",
       "  'Goblet cells',\n",
       "  'Bronchial epithelial cells',\n",
       "  'Type II pneumocytes',\n",
       "  'Vascular smooth myocytes'],\n",
       " 'context': '',\n",
       " 'cot': [],\n",
       " 'answer': ['Type II pneumocytes'],\n",
       " 'generated_cot': [{'id': 'fbe571bb-7b03-4997-95d1-f02debd9a5af',\n",
       "   'fragments_version': '0.01',\n",
       "   'instruction': '',\n",
       "   'cot_trigger': '',\n",
       "   'cot_trigger_template': '',\n",
       "   'prompt_text': '',\n",
       "   'cot': 'Reasoning:\\nBetamethasone is a corticosteroid that is administered to pregnant women at risk of preterm labor to help accelerate fetal lung maturation. The primary target of betamethasone in the fetal lungs is the Type II pneumocytes. These cells are responsible for producing and secreting surfactant, a substance that reduces surface tension in the alveoli and prevents lung collapse. By stimulating Type II pneumocytes, betamethasone helps to increase surfactant production, which improves the chances of the preterm infant being able to breathe effectively after birth.\\n\\nRule check:\\nRule 1: The question is interpreted accurately and focuses on the fetal cells stimulated by betamethasone.\\nRule 2: The relevant information is considered, and no irrelevant information is included.\\nRule 3: The most logical answer option based on common sense and medical knowledge is chosen.\\n\\nFinal answer:\\nD) Type II pneumocytes',\n",
       "   'answers': [],\n",
       "   'author': '',\n",
       "   'date': '2023/05/11 15:13:14',\n",
       "   'api_service': '',\n",
       "   'model': \"{'name': '', 'temperature': 0, 'max_tokens': 1600}\",\n",
       "   'comment': '',\n",
       "   'annotations': []}],\n",
       " 'feedback': []}"
      ]
     },
     "execution_count": 33,
     "metadata": {},
     "output_type": "execute_result"
    }
   ],
   "source": [
    "medqa['med_qa']['test'][0]"
   ]
  },
  {
   "cell_type": "code",
   "execution_count": null,
   "metadata": {},
   "outputs": [],
   "source": [
    "\"\"\"\"\n",
    "Betamethasone is a corticosteroid that is administered to pregnant women at risk of preterm labor to help \n",
    "accelerate fetal lung maturation. The primary target of betamethasone in the fetal lungs is the Type II pneumocytes.\n",
    " These cells are responsible for producing and secreting surfactant, a substance that reduces surface tension in \n",
    " the alveoli and prevents lung collapse. By stimulating Type II pneumocytes, betamethasone helps to increase \n",
    " surfactant production, which improves the chances of the preterm infant being able to breathe effectively \n",
    " after birth.\\n\\nRule check:\\nRule 1: The question is interpreted accurately and focuses on the fetal cells \n",
    " stimulated by betamethasone.\\nRule 2: The relevant information is considered, and no irrelevant information is \n",
    " included.\\nRule 3: The most logical answer option based on common sense and medical knowledge is chosen.\n",
    " \\n\\nFinal answer:\\nD) Type II pneumocytes'\n",
    "\n",
    "\n",
    "\"\"\""
   ]
  },
  {
   "attachments": {},
   "cell_type": "markdown",
   "metadata": {},
   "source": [
    "## Templates from Biosimulator\n"
   ]
  },
  {
   "cell_type": "code",
   "execution_count": null,
   "metadata": {},
   "outputs": [],
   "source": [
    "#question template\n",
    "\"\"\"\n",
    "Given the scientific context in the paragraph below, \n",
    "simulate the following experiment with at least 5 steps and increased novelty: \n",
    "\"{experiment}\". As the final outcome provide an answer to the following question: \"{question}\"\n",
    "\n",
    "Scientific context:\n",
    "{introduction_truncated}\"\"\"\n"
   ]
  },
  {
   "cell_type": "code",
   "execution_count": null,
   "metadata": {},
   "outputs": [],
   "source": [
    "#system template:\n",
    "\n",
    "\"\"\"\n",
    "You are a science-based, comprehensive and mechanistic simulator of biomedical processes across all levels of biology: molecular, cellular, organ, and organism.\n",
    "\n",
    "Your input consists of simulation parameters. Based on the input, you simulate all relevant processes that unfold step-by-step until a final outcome can be directly inferred from the simulation\n",
    "\n",
    "Simulation rules:\n",
    "- Begin the simulation at the level of biology matching the input best.\n",
    "- Ensure that each step logically informs the next step.\n",
    "- Use as many steps as necessary.\n",
    "- Conclude the simulation with a final outcome, once it can be directly inferred from the simulation steps.\n",
    "\n",
    "Aim for an informative level of detail. Ensure that every step logically follows up on all previous steps and that processes in subsequent steps are informed by previous steps. Format your response in YAML, following this schema:\n",
    "\n",
    "parameters:\n",
    "  - <first relevant parameter for simulation>\n",
    "  - <second relevant parameter for simulation>\n",
    "  - ...\n",
    "simulation:\n",
    "  - step: 1\n",
    "    level: <Indicate the level of biology of this step.>\n",
    "    facts: <Provide a comprehensive overview of facts about the entities and processes you are considering, including facts that are not stated in the query. Attempt to include gene regulation, protein interactions, cell types, tissue functions, and organ functions that might influence the step and its consequences. Avoid repeating any facts that you already provided. Mention facts that might become relevant later. Provide references for all facts you list at the end only using the provided structure and indicate it using [1].>\n",
    "    consequence: <Generate the most probable consequence, given the facts and any previously generated consequences. Given the level of biology of this step, provide fitting specifics like different types of entities (e.g. small molecules, RNA, DNA, proteins, metabolites, cell types, tissues, organs) and processes (e.g., interactions, pathways, biological processes, biochemical reactions, tissue function, organ function). For example: decreased <gene X> expression by <cell type X>, increased <metabolite X> levels in the blood, changed <morphology X> in <tissue X>, increased <organ X> function, systemic <phenotype X>, etc.>\n",
    "    probability: <The probability of the consequence happening on a scale of 0 to 100.>\n",
    "    explanation: <Offer a good explanation as evidence that supports the listed consequence.>\n",
    "    novelty: <How novel or unconventional is your reasoning on a scale of 0 to 100.>\n",
    "  - step: 2\n",
    "  ...\n",
    "conclusion:\n",
    "  outcome: <Infer the final outcome from the last simulation step.>\n",
    "  explanation: <Offer a good explanation as evidence that supports the final outcome.>\n",
    "\n",
    "references:\n",
    "  \"[1]\": \"<authors> <year> <journal> <title of the publication>\"\n",
    "  \"[2]\": \"<authors> <year> <journal> <title of the publication>\"\n",
    "  ...\n",
    "\n",
    "\n",
    "\n",
    "\"\"\""
   ]
  },
  {
   "attachments": {},
   "cell_type": "markdown",
   "metadata": {},
   "source": [
    "## Extra"
   ]
  },
  {
   "cell_type": "code",
   "execution_count": null,
   "metadata": {},
   "outputs": [],
   "source": [
    "from cot import Collection\n"
   ]
  }
 ],
 "metadata": {
  "kernelspec": {
   "display_name": "base",
   "language": "python",
   "name": "python3"
  },
  "language_info": {
   "codemirror_mode": {
    "name": "ipython",
    "version": 3
   },
   "file_extension": ".py",
   "mimetype": "text/x-python",
   "name": "python",
   "nbconvert_exporter": "python",
   "pygments_lexer": "ipython3",
   "version": "3.9.12"
  },
  "orig_nbformat": 4
 },
 "nbformat": 4,
 "nbformat_minor": 2
}
