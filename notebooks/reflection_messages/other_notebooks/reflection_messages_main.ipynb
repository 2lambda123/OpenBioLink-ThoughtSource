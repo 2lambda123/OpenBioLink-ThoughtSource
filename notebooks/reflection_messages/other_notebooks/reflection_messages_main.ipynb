{
 "cells": [
  {
   "attachments": {},
   "cell_type": "markdown",
   "metadata": {},
   "source": [
    "## Imports, data and model setup"
   ]
  },
  {
   "cell_type": "code",
   "execution_count": 2,
   "metadata": {},
   "outputs": [],
   "source": [
    "\"\"\"Imports\"\"\"\n",
    "from langchain.chat_models import ChatOpenAI\n",
    "from langchain.prompts.chat import (\n",
    "    ChatPromptTemplate,\n",
    "    SystemMessagePromptTemplate,\n",
    "    AIMessagePromptTemplate,\n",
    "    HumanMessagePromptTemplate,\n",
    ")\n",
    "from langchain.schema import (\n",
    "    AIMessage,\n",
    "    HumanMessage,\n",
    "    SystemMessage\n",
    ")\n",
    "\n",
    "from cot import Collection\n",
    "import yaml"
   ]
  },
  {
   "cell_type": "code",
   "execution_count": 24,
   "metadata": {},
   "outputs": [
    {
     "name": "stdout",
     "output_type": "stream",
     "text": [
      "Loading worldtree...\n",
      "Loading med_qa...\n"
     ]
    }
   ],
   "source": [
    "\"\"\"data\"\"\"\n",
    "\n",
    "worldtree = Collection([\"worldtree\"], verbose=False)\n",
    "worldtree = worldtree.select(split=\"train\", number_samples=1, random_samples=True, seed=0)\n",
    "\n",
    "medqa = Collection([\"med_qa\"], verbose=False)\n",
    "medqa = medqa.select(split=\"test\", number_samples=1, random_samples=True, seed=0)"
   ]
  },
  {
   "cell_type": "code",
   "execution_count": 5,
   "metadata": {},
   "outputs": [],
   "source": [
    "\"\"\"Chat model\"\"\"\n",
    "model = 'gpt-3.5-turbo'\n",
    "# model = 'gpt-4'\n",
    "chat = ChatOpenAI(\n",
    "        temperature=0,\n",
    "        model_name=model,\n",
    "        request_timeout=600,\n",
    "        max_retries=1,\n",
    "    )"
   ]
  },
  {
   "attachments": {},
   "cell_type": "markdown",
   "metadata": {},
   "source": [
    "## Initial experimentation"
   ]
  },
  {
   "cell_type": "code",
   "execution_count": 16,
   "metadata": {},
   "outputs": [],
   "source": [
    "\"\"\"Templates\"\"\"\n",
    "\n",
    "with open('../reflection_messages/input_system/sytem_short_list.yaml', 'r') as file:\n",
    "    template = file.read()\n",
    "system_message_prompt = SystemMessagePromptTemplate.from_template(template)\n",
    "\n",
    "human_template=\"\"\"Answer the question:{question}\\nwith the following answer options:{answer_options}\"\"\"\n",
    "human_message_prompt = HumanMessagePromptTemplate.from_template(human_template)\n",
    "\n",
    "chat_prompt = ChatPromptTemplate.from_messages([system_message_prompt, human_message_prompt])"
   ]
  },
  {
   "cell_type": "code",
   "execution_count": 7,
   "metadata": {},
   "outputs": [
    {
     "data": {
      "text/plain": [
       "AIMessage(content='Reasoning:\\nThe patient is a 77-year-old woman who presents with fever, malaise, and night sweats. She has a history of breast cancer in her 60s that was treated with radiation and chemotherapy. She also reports a history of extensive travel to Africa and a 30-pack-year history of smoking. On physical exam, several axillary lymph nodes are palpable with a large non-tender palpable mass in her right axilla measuring 10 x 8 cm. Fine-needle aspiration demonstrates what the pathologist describes as \"a centroblastic and immunoblastic cell presence, suspicious for non-Hodgkin’s lymphoma (NHL)–diffuse large B cell variant\". We are asked to determine which of the following risk factors is responsible for this patient\\'s condition.\\n\\nAnswer:\\nE: Previous breast cancer\\n\\nRule check:\\nRule 1: The reasoning is accurate and breaks down the question to determine which risk factor is responsible for the patient\\'s condition.\\nRule 2: The response considers all relevant information, including the patient\\'s history of breast cancer, extensive travel to Africa, and smoking history, as well as the physical exam findings and fine-needle aspiration results.\\nRule 3: The response is sensitive to the numerical information provided', additional_kwargs={})"
      ]
     },
     "execution_count": 7,
     "metadata": {},
     "output_type": "execute_result"
    }
   ],
   "source": [
    "# get a chat completion from the formatted messages\n",
    "chat(chat_prompt.format_prompt(answer_options=\"\"\"\n",
    "A: Travel to Africa\n",
    "B: Axillary lymph node involvement\n",
    "C: Previous radiation therapy\n",
    "D: Female gender\n",
    "E: Previous breast cancer\"\"\", question=\"A 77-year-old woman presents to the emergency room with the complaints of fever, malaise, and night sweats. She recently observed an enlargement of her axillary lymph nodes, which she examines on a weekly basis. She has a remote history of breast cancer in her 60s that was treated with radiation and chemotherapy. She also reports a history of extensive travel to Africa and a 30-pack-year history of smoking. On physical exam, several axillary lymph nodes are palpable with a large non-tender palpable mass in her right axilla measuring 10 x 8 cm. Fine-needle aspiration demonstrates what the pathologist describes as \\\"a centroblastic and immunoblastic cell presence, suspicious for non-Hodgkin’s lymphoma (NHL)–diffuse large B cell variant\\\". Which of the following risk factors is responsible for this patient’s condition?\").to_messages())"
   ]
  },
  {
   "cell_type": "code",
   "execution_count": null,
   "metadata": {},
   "outputs": [],
   "source": [
    "# observe that GPT-3.5 gives no explanation\n",
    "\n",
    "\"\"\"content='Reasoning:\\nThe patient is a 77-year-old woman who presents with fever, malaise, and night sweats. \n",
    "She has a history of breast cancer in her 60s that was treated with radiation and chemotherapy. \n",
    "She also reports a history of extensive travel to Africa and a 30-pack-year history of smoking. \n",
    "On physical exam, several axillary lymph nodes are palpable with a large non-tender palpable mass \n",
    "in her right axilla measuring 10 x 8 cm. Fine-needle aspiration demonstrates what the pathologist \n",
    "describes as \"a centroblastic and immunoblastic cell presence, suspicious for non-Hodgkin’s lymphoma \n",
    "(NHL)–diffuse large B cell variant\". We are asked to determine which of the following risk factors is \n",
    "responsible for this patient\\'s condition.\\n\\nAnswer:\\nE: Previous breast cancer\\n\\n\n",
    "Rule check:\\nRule 1: The reasoning is accurate and breaks down the question to determine which risk factor\n",
    " is responsible for the patient\\'s condition.\\nRule 2: The response considers all relevant information, \n",
    " including the patient\\'s history of breast cancer, extensive travel to Africa, and smoking history, \n",
    " as well as the physical exam findings and fine-needle aspiration results.\n",
    " \\nRule 3: The response is sensitive to the numerical information provided'\n",
    "\"\"\""
   ]
  },
  {
   "cell_type": "code",
   "execution_count": 8,
   "metadata": {},
   "outputs": [],
   "source": [
    "with open('../reflection_messages/input_system/sytem_template_0.yaml', 'r') as file:\n",
    "    template = file.read()\n",
    "system_message_prompt = SystemMessagePromptTemplate.from_template(template)"
   ]
  },
  {
   "cell_type": "code",
   "execution_count": null,
   "metadata": {},
   "outputs": [],
   "source": [
    "#gpt-3 listens actually better than gpt-4 in the next section\n",
    "\n",
    "#gpt-3.5\n",
    "\"\"\"content='Reasoning:\\nThe patient is a 77-year-old woman who presents with fever, malaise, and night sweats. \n",
    "She has a history of breast cancer in her 60s that was treated with radiation and chemotherapy. \n",
    "She also reports a history of extensive travel to Africa and a 30-pack-year history of smoking.\n",
    " On physical exam, several axillary lymph nodes are palpable with a large non-tender palpable mass in her right axilla\n",
    "   measuring 10 x 8 cm. Fine-needle aspiration demonstrates what the pathologist describes as \"a centroblastic\n",
    "     and immunoblastic cell presence, suspicious for non-Hodgkin’s lymphoma (NHL)–diffuse large B cell variant\".\n",
    "       We are asked to determine which of the following risk factors is responsible for this patient\\'s condition.\n",
    "       \\n\\nRule check:\\nRule 1: The question is interpreted accurately and broken down if necessary.\n",
    "       \\nRule 2: All relevant information is considered, and irrelevant information is not considered.\n",
    "       \\nRule 3: There is numerical information provided, but it is not relevant to this question.\\n\\n\n",
    "       Final answer:\\nThe patient\\'s history of previous breast cancer is a risk factor for developing \n",
    "       non-Hodgkin\\'s lymphoma. Therefore, the correct answer is E: Previous breast cancer.'\"\"\""
   ]
  },
  {
   "cell_type": "code",
   "execution_count": null,
   "metadata": {},
   "outputs": [],
   "source": [
    "#gpt-4 does not adhere to answer format\n",
    "\n",
    "\"\"\"content=\"Reasoning:\\nThe question asks us to identify the risk factor responsible for the patient's condition,\n",
    " which is suspected to be non-Hodgkin's lymphoma (NHL)–diffuse large B cell variant. We need to consider the risk \n",
    " factors mentioned in the question and determine which one is most likely to be responsible for the patient's condition\n",
    " .\\n\\nA: Travel to Africa - While travel to Africa may expose a person to various health risks, it is not a known risk \n",
    " factor for NHL.\\nB: Axillary lymph node involvement - This is a symptom of the patient's condition, not a risk factor.\n",
    " \\nC: Previous radiation therapy - Radiation therapy is a known risk factor for developing NHL, as it can cause DNA \n",
    " damage and increase the risk of developing cancer.\\nD: Female gender - Gender is not a significant risk factor for NHL.\n",
    " \\nE: Previous breast cancer - While having a history of cancer may increase the risk of developing another cancer, the \n",
    " radiation therapy used to treat the breast cancer is a more direct risk factor for NHL.\\n\\nRule check:\\n\n",
    " Rule 1: Accurate interpretation and breakdown of the question. (Pass)\\n\n",
    " Rule 2: Consideration of all relevant information and exclusion of irrelevant information. (Pass)\\n\n",
    " Rule 3: Sensitivity to the numerical information\"\n",
    " \"\"\""
   ]
  },
  {
   "cell_type": "code",
   "execution_count": 15,
   "metadata": {},
   "outputs": [],
   "source": [
    "import json\n",
    "input_dict = {'chat':chat,'chat_prompt':chat_prompt}"
   ]
  },
  {
   "cell_type": "code",
   "execution_count": 16,
   "metadata": {},
   "outputs": [
    {
     "name": "stdout",
     "output_type": "stream",
     "text": [
      "Generating worldtree...\n"
     ]
    }
   ],
   "source": [
    "worldtree.system_generate(input_dict,name='worldtree', split='train')"
   ]
  },
  {
   "cell_type": "code",
   "execution_count": null,
   "metadata": {},
   "outputs": [],
   "source": [
    "#chatgpt system template 3\n",
    "\n",
    "\"\"\"The question asks which of the given characteristics is a learned behavior. \n",
    "Being tall and having curly hair are genetic traits and not learned behaviors. \n",
    "Having freckles is also a genetic trait and not a learned behavior. \n",
    "Being a good cook, on the other hand, is a skill that can be learned through practice and experience.\\n\\n\n",
    "Rule check:\\nRule 1: The question is straightforward and does not require any further breakdown.\\n\n",
    "Rule 2: All the given characteristics are considered, and only the relevant information is used to determine the answer.\\n\n",
    "Rule 3: The most logical answer based on common sense is C) being a good cook.\\n\\n\n",
    "Final answer:\\nC) being a good cook.\n",
    "\"\"\""
   ]
  },
  {
   "cell_type": "code",
   "execution_count": null,
   "metadata": {},
   "outputs": [],
   "source": [
    "#gpt-4 system template 4\n",
    "\n",
    "\"\"\"A learned behavior is a behavior that is acquired through experience or learning, rather than being inherited \n",
    "genetically. In this case, we can analyze each characteristic to determine if it is a learned behavior or not:\n",
    "\\nA) Being tall - This is a genetic trait, not a learned behavior.\\nB) Having curly hair - This is also a genetic trait,\n",
    " not a learned behavior.\\nC) Being a good cook - This is a skill that can be learned and improved through practice,\n",
    "   making it a learned behavior.\\nD) Having freckles - This is a genetic trait, not a learned behavior.\\n\\n\n",
    "   Rule check:\\nRule 1: The question is interpreted accurately and broken down as necessary.\\\n",
    "    nRule 2: All relevant information is considered, and no irrelevant information is considered.\\n\n",
    "    Rule 3: The most logical answer option based on common sense is chosen.\\n\\n\n",
    "    Final answer:\\nC) being a good cook.\n",
    "\"\"\""
   ]
  },
  {
   "cell_type": "code",
   "execution_count": null,
   "metadata": {},
   "outputs": [],
   "source": [
    "medqa.system_generate(input_dict)\n",
    "\"\"\"\"\n",
    "Betamethasone is a corticosteroid that is administered to pregnant women at risk of preterm labor to help \n",
    "accelerate fetal lung maturation. The primary target of betamethasone in the fetal lungs is the Type II pneumocytes.\n",
    " These cells are responsible for producing and secreting surfactant, a substance that reduces surface tension in \n",
    " the alveoli and prevents lung collapse. By stimulating Type II pneumocytes, betamethasone helps to increase \n",
    " surfactant production, which improves the chances of the preterm infant being able to breathe effectively \n",
    " after birth.\\n\\nRule check:\\nRule 1: The question is interpreted accurately and focuses on the fetal cells \n",
    " stimulated by betamethasone.\\nRule 2: The relevant information is considered, and no irrelevant information is \n",
    " included.\\nRule 3: The most logical answer option based on common sense and medical knowledge is chosen.\n",
    " \\n\\nFinal answer:\\nD) Type II pneumocytes'\n",
    "\n",
    "\n",
    "\"\"\""
   ]
  },
  {
   "attachments": {},
   "cell_type": "markdown",
   "metadata": {},
   "source": [
    "## Experiment template"
   ]
  },
  {
   "cell_type": "code",
   "execution_count": null,
   "metadata": {},
   "outputs": [],
   "source": [
    "#select a data sample\n",
    "medqa = Collection([\"med_qa\"], verbose=False)\n",
    "medqa = medqa.select(split=\"test\", number_samples=1, random_samples=True, seed=0)"
   ]
  },
  {
   "cell_type": "code",
   "execution_count": null,
   "metadata": {},
   "outputs": [],
   "source": [
    "#Choose a chat model\n",
    "model = 'gpt-3.5-turbo'\n",
    "\n",
    "chat = ChatOpenAI(\n",
    "        temperature=0,\n",
    "        model_name=model,\n",
    "        request_timeout=600,\n",
    "        max_retries=1,\n",
    "    )"
   ]
  },
  {
   "cell_type": "code",
   "execution_count": null,
   "metadata": {},
   "outputs": [],
   "source": [
    "#choose a system template\n",
    "\n",
    "with open('../reflection_messages/input_system/sytem_short_list.yaml', 'r') as file:\n",
    "    template = file.read()\n",
    "system_message_prompt = SystemMessagePromptTemplate.from_template(template)\n",
    "chat_prompt = ChatPromptTemplate.from_messages([system_message_prompt, human_message_prompt])"
   ]
  },
  {
   "cell_type": "code",
   "execution_count": null,
   "metadata": {},
   "outputs": [],
   "source": [
    "#run\n",
    "\n",
    "import json\n",
    "input_dict = {'chat':chat,'chat_prompt':chat_prompt}\n",
    "worldtree.system_generate(input_dict,name='worldtree', split='train')"
   ]
  },
  {
   "cell_type": "code",
   "execution_count": 32,
   "metadata": {},
   "outputs": [],
   "source": [
    "# Helper function to call OpenAI model\n",
    "\n",
    "def system_experiment(data,model, path_system_template):\n",
    "    chat = ChatOpenAI(\n",
    "        temperature=0,\n",
    "        model_name=model,\n",
    "        request_timeout=600,\n",
    "        max_retries=1,\n",
    "    )\n",
    "\n",
    "    human_template=\"\"\"Answer the question:{question}\\nwith the following answer options:{answer_options}\"\"\"\n",
    "    human_message_prompt = HumanMessagePromptTemplate.from_template(human_template)\n",
    "    \n",
    "    with open(path_system_template, 'r') as file:\n",
    "        template = file.read()\n",
    "    system_message_prompt = SystemMessagePromptTemplate.from_template(template)\n",
    "    \n",
    "    chat_prompt = ChatPromptTemplate.from_messages([system_message_prompt, human_message_prompt])  \n",
    "    input_dict = {'chat':chat,'chat_prompt':chat_prompt} \n",
    "    \n",
    "    return data.system_generate(input_dict)\n",
    "\n"
   ]
  },
  {
   "cell_type": "code",
   "execution_count": 33,
   "metadata": {},
   "outputs": [
    {
     "name": "stdout",
     "output_type": "stream",
     "text": [
      "test\n",
      "\n",
      "Generating med_qa...\n"
     ]
    }
   ],
   "source": [
    "absolute_path = \"/Users/robertpraas/Desktop/ThoughtSource/notebooks/reflection_messages/input_system/system_short_list.yaml\"\n",
    "system_experiment(medqa,'gpt-3.5-turbo',absolute_path)"
   ]
  },
  {
   "cell_type": "code",
   "execution_count": null,
   "metadata": {},
   "outputs": [],
   "source": []
  }
 ],
 "metadata": {
  "kernelspec": {
   "display_name": "base",
   "language": "python",
   "name": "python3"
  },
  "language_info": {
   "codemirror_mode": {
    "name": "ipython",
    "version": 3
   },
   "file_extension": ".py",
   "mimetype": "text/x-python",
   "name": "python",
   "nbconvert_exporter": "python",
   "pygments_lexer": "ipython3",
   "version": "3.9.12"
  },
  "orig_nbformat": 4
 },
 "nbformat": 4,
 "nbformat_minor": 2
}
