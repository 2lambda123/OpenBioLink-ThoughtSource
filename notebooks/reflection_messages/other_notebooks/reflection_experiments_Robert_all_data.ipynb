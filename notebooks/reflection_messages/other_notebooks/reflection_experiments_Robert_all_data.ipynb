{
 "cells": [
  {
   "attachments": {},
   "cell_type": "markdown",
   "metadata": {},
   "source": [
    "## Helper functions & Example experiment"
   ]
  },
  {
   "cell_type": "code",
   "execution_count": 3,
   "metadata": {},
   "outputs": [],
   "source": [
    "\"\"\"Imports\"\"\"\n",
    "from langchain.chat_models import ChatOpenAI\n",
    "from langchain.prompts.chat import (\n",
    "    ChatPromptTemplate,\n",
    "    SystemMessagePromptTemplate,\n",
    "    AIMessagePromptTemplate,\n",
    "    HumanMessagePromptTemplate,\n",
    ")\n",
    "from langchain.schema import (\n",
    "    AIMessage,\n",
    "    HumanMessage,\n",
    "    SystemMessage\n",
    ")\n",
    "\n",
    "from cot import Collection\n",
    "import yaml"
   ]
  },
  {
   "cell_type": "code",
   "execution_count": 4,
   "metadata": {},
   "outputs": [],
   "source": [
    "# Helper functions to call OpenAI model, system also generates reasoning\n",
    "def system_experiment(data,model, path_system_template):\n",
    "    chat = ChatOpenAI(\n",
    "        temperature=0,\n",
    "        model_name=model,\n",
    "        request_timeout=600,\n",
    "        max_retries=1,\n",
    "    )\n",
    "\n",
    "    human_template=\"\"\"Answer the question:{question}\\nwith the following answer options:{answer_options}\"\"\"\n",
    "    human_message_prompt = HumanMessagePromptTemplate.from_template(human_template)\n",
    "    \n",
    "    with open(path_system_template, 'r') as file:\n",
    "        template = file.read()\n",
    "    system_message_prompt = SystemMessagePromptTemplate.from_template(template)\n",
    "    \n",
    "    chat_prompt = ChatPromptTemplate.from_messages([system_message_prompt, human_message_prompt])  \n",
    "    input_dict = {'chat':chat,'chat_prompt':chat_prompt} \n",
    "    \n",
    "    return data.system_generate(input_dict)\n",
    "\n",
    "def save_as_yaml(data, filepath):\n",
    "    with open(filepath, 'w') as file:\n",
    "        yaml.dump(data, file)"
   ]
  },
  {
   "cell_type": "code",
   "execution_count": 6,
   "metadata": {},
   "outputs": [],
   "source": [
    "import pandas as pd\n",
    "import yaml\n",
    "\n",
    "def process_new_data(new_data,idx_cot,dataset,split):\n",
    "    scores_per_item = []\n",
    "    for item in new_data[dataset][split]:\n",
    "        try:\n",
    "            scores_per_item.append(yaml.load(item['generated_cot'][idx_cot]['cot'], Loader=yaml.FullLoader))\n",
    "        except:\n",
    "            print(\"wrong output found\")\n",
    "            continue\n",
    "\n",
    "    # Get unique keys from all dictionaries\n",
    "    keys = set().union(*scores_per_item)\n",
    "\n",
    "    # Create lists of values for each key\n",
    "    scores_per_objective = {key: [d.get(key) for d in scores_per_item] for key in keys}\n",
    "\n",
    "    #check values for nonetype\n",
    "    for key, value in scores_per_objective.items():\n",
    "        if value is not str:\n",
    "            print(key,value)\n",
    "\n",
    "\n",
    "    # Calculate the average of each list\n",
    "    averaged_data = {key: sum(value) / len(value) for key, value in scores_per_objective.items()}\n",
    "\n",
    "    # Convert the averaged data dictionary to a Pandas DataFrame\n",
    "    df = pd.DataFrame.from_dict(averaged_data, orient='index', columns=['Average'])\n",
    "\n",
    "    # Sort the DataFrame by the index (row labels)\n",
    "    df = df.loc[['obj_1', 'obj_2', 'obj_3', 'obj_4', 'obj_5', 'obj_6', 'obj_7', 'obj_8', 'obj_9', 'obj_10', 'obj_11']]\n",
    "\n",
    "    return scores_per_item, scores_per_objective, df"
   ]
  },
  {
   "cell_type": "code",
   "execution_count": 7,
   "metadata": {},
   "outputs": [],
   "source": [
    "def system_evaluate(data,model, path_system_template):\n",
    "    chat = ChatOpenAI(\n",
    "        temperature=0,\n",
    "        model_name=model,\n",
    "        request_timeout=600,\n",
    "        max_retries=1,\n",
    "    )\n",
    "\n",
    "    human_template=\"\"\"Answer the question:{question}\\n\n",
    "    with the following answer options:{answer_options}\\n\n",
    "    Reasoning: {reasoning}\\n\n",
    "    Answer: {answer}\"\"\"\n",
    "    human_message_prompt = HumanMessagePromptTemplate.from_template(human_template)\n",
    "    \n",
    "    with open(path_system_template, 'r') as file:\n",
    "        template = file.read()\n",
    "    system_message_prompt = SystemMessagePromptTemplate.from_template(template)\n",
    "    \n",
    "    chat_prompt = ChatPromptTemplate.from_messages([system_message_prompt, human_message_prompt])  \n",
    "    input_dict = {'chat':chat,'chat_prompt':chat_prompt, \"api_time_interval\": 1} \n",
    "    \n",
    "    return data.system_eval(input_dict)"
   ]
  },
  {
   "cell_type": "code",
   "execution_count": 29,
   "metadata": {},
   "outputs": [],
   "source": [
    "#helper functions for results\n",
    "import matplotlib.pyplot as plt\n",
    "from scipy.stats import ttest_ind\n",
    "import statistics\n",
    "\n",
    "def freq_bar_plot(scores_per_item): #later better axes\n",
    "    average_per_item = [sum(d.values()) / len(d) for d in scores_per_item]\n",
    "    # Create a histogram\n",
    "    plt.hist(average_per_item, bins='auto', alpha=0.7)\n",
    "    plt.xlabel('Values')\n",
    "    plt.ylabel('Frequency')\n",
    "    plt.title('Frequency of average score per item')\n",
    "    plt.show()\n",
    "\n",
    "def avg_item_plot(scores_per_objective):  #later better axes\n",
    " \n",
    "    data = scores_per_objective\n",
    "    averaged_data = {key: sum(value) / len(value) for key, value in data.items()}\n",
    "    sorted_data = {k: v for k, v in sorted(averaged_data.items())}\n",
    "\n",
    "    # Extract the keys (objectives) and values (averages) from the sorted dictionary\n",
    "    keys = sorted_data.keys()\n",
    "    values = sorted_data.values()\n",
    "\n",
    "    # Create a bar plot\n",
    "    plt.bar(keys, values)\n",
    "    plt.xlabel('Objectives')\n",
    "    plt.ylabel('Average')\n",
    "    plt.ylim(7,10)\n",
    "    plt.title('Average per Objective')\n",
    "    plt.xticks(rotation=45)\n",
    "    plt.show()\n",
    "\n",
    "def avg_true_false(data,average_per_item,dataset,split):\n",
    "    item_correct = []\n",
    "    for item in data[dataset][split]:\n",
    "        item_correct.append(item['generated_cot'][0]['answers'][0]['correct_answer'])\n",
    "\n",
    "    # Example lists of scores and indicators\n",
    "    scores = average_per_item\n",
    "    indicators = item_correct\n",
    "\n",
    "    # Separate scores based on indicators\n",
    "    scores_true = [score for score, indicator in zip(scores, indicators) if indicator]\n",
    "    scores_false = [score for score, indicator in zip(scores, indicators) if not indicator]\n",
    "\n",
    "    print(\"scores true:\", statistics.mean(scores_true))\n",
    "    print(\"scores false:\", statistics.mean(scores_false))"
   ]
  },
  {
   "attachments": {},
   "cell_type": "markdown",
   "metadata": {},
   "source": [
    "## Experiments"
   ]
  },
  {
   "cell_type": "code",
   "execution_count": 86,
   "metadata": {},
   "outputs": [],
   "source": [
    "med_zhou = Collection.from_json(\"med_qa_zhou_eval.json\")\n"
   ]
  },
  {
   "cell_type": "code",
   "execution_count": 87,
   "metadata": {},
   "outputs": [
    {
     "data": {
      "text/plain": [
       "| Name   | Train   | Valid   |   Test |\n",
       "|--------|---------|---------|--------|\n",
       "| med_qa | -       | -       |    100 |\n",
       "\n",
       "Not loaded: ['aqua', 'asdiv', 'commonsense_qa', 'entailment_bank', 'gsm8k', 'mawps', 'med_qa_open', 'medmc_qa', '_init_', 'mmlu_clinical_knowledge', 'mmlu_college_biology', 'mmlu_college_medicine', 'mmlu_medical_genetics', 'mmlu_professional_medicine', '_init_', 'mmlu_anatomy', 'open_book_qa', 'pubmed_qa', 'qed', 'strategy_qa', 'svamp', 'worldtree']"
      ]
     },
     "execution_count": 87,
     "metadata": {},
     "output_type": "execute_result"
    }
   ],
   "source": [
    "med_zhou"
   ]
  },
  {
   "cell_type": "code",
   "execution_count": 95,
   "metadata": {},
   "outputs": [
    {
     "name": "stdout",
     "output_type": "stream",
     "text": [
      "Generating med_qa...\n"
     ]
    },
    {
     "data": {
      "application/vnd.jupyter.widget-view+json": {
       "model_id": "8ae7a8f9b8e24dbcb5fa06073b21b2f7",
       "version_major": 2,
       "version_minor": 0
      },
      "text/plain": [
       "  0%|          | 0/100 [00:00<?, ?ex/s]"
      ]
     },
     "metadata": {},
     "output_type": "display_data"
    },
    {
     "name": "stdout",
     "output_type": "stream",
     "text": [
      "(API-)Error in item 63: That model is currently overloaded with other requests. You can retry your request, or contact us through our help center at help.openai.com if the error persists. (Please include the request ID c6cc1cdfbeec9baabfe3f7008406cf6f in your message.)\n",
      "Retrying with additional time of 10 seconds.\n",
      "wrong output found\n",
      "wrong output found\n",
      "         Average\n",
      "obj_1   9.122449\n",
      "obj_2   9.836735\n",
      "obj_3   9.000000\n",
      "obj_4   9.500000\n",
      "obj_5   8.836735\n",
      "obj_6   9.295918\n",
      "obj_7   9.234694\n",
      "obj_8   9.724490\n",
      "obj_9   8.918367\n",
      "obj_10  9.285714\n",
      "obj_11  9.683673\n"
     ]
    }
   ],
   "source": [
    "#for template 13 \"There is room for improvement prompt\"\n",
    "absolute_path = \"./reflection_messages/input_system/system_template_13_eval.yaml\"\n",
    "system_evaluate(med_zhou,'gpt-3.5-turbo',absolute_path)\n",
    "med_zhou.dump(\"med_qa_template_13\")\n",
    "output = process_new_data(med_zhou,idx_cot=1)\n",
    "print(output)"
   ]
  },
  {
   "cell_type": "code",
   "execution_count": 100,
   "metadata": {},
   "outputs": [
    {
     "name": "stdout",
     "output_type": "stream",
     "text": [
      "Generating med_qa...\n"
     ]
    },
    {
     "data": {
      "application/vnd.jupyter.widget-view+json": {
       "model_id": "dc83e6a1fbbe46a795aecf5a20c7e3d0",
       "version_major": 2,
       "version_minor": 0
      },
      "text/plain": [
       "  0%|          | 0/100 [00:00<?, ?ex/s]"
      ]
     },
     "metadata": {},
     "output_type": "display_data"
    },
    {
     "name": "stdout",
     "output_type": "stream",
     "text": [
      "(API-)Error in item 88: That model is currently overloaded with other requests. You can retry your request, or contact us through our help center at help.openai.com if the error persists. (Please include the request ID d334e30cbc2755eaf79a8e06d350a18e in your message.)\n",
      "Retrying with additional time of 10 seconds.\n"
     ]
    },
    {
     "data": {
      "application/vnd.jupyter.widget-view+json": {
       "model_id": "6613dcbcabbf437a9814781ca7bc4e9b",
       "version_major": 2,
       "version_minor": 0
      },
      "text/plain": [
       "Creating json from Arrow format:   0%|          | 0/1 [00:00<?, ?ba/s]"
      ]
     },
     "metadata": {},
     "output_type": "display_data"
    },
    {
     "name": "stdout",
     "output_type": "stream",
     "text": [
      "wrong output found\n",
      "         Average\n",
      "obj_1   8.242424\n",
      "obj_2   9.141414\n",
      "obj_3   8.202020\n",
      "obj_4   8.747475\n",
      "obj_5   7.787879\n",
      "obj_6   8.141414\n",
      "obj_7   8.252525\n",
      "obj_8   9.070707\n",
      "obj_9   7.757576\n",
      "obj_10  8.141414\n",
      "obj_11  9.000000\n"
     ]
    }
   ],
   "source": [
    "#template 12 \"the average score of the objectives should usually be at most 7-8.\"\n",
    "absolute_path = \"./reflection_messages/input_system/system_template_12_eval.yaml\"\n",
    "system_evaluate(med_zhou,'gpt-3.5-turbo',absolute_path)\n",
    "med_zhou.dump(\"med_qa_template_12\")\n",
    "output = process_new_data(med_zhou,idx_cot=1)\n",
    "print(output)"
   ]
  },
  {
   "cell_type": "code",
   "execution_count": 102,
   "metadata": {},
   "outputs": [
    {
     "name": "stdout",
     "output_type": "stream",
     "text": [
      "wrong output found\n"
     ]
    }
   ],
   "source": [
    "scores_per_item, scores_per_objective, df = process_new_data(med_zhou,idx_cot=1)"
   ]
  },
  {
   "cell_type": "code",
   "execution_count": 105,
   "metadata": {},
   "outputs": [
    {
     "name": "stdout",
     "output_type": "stream",
     "text": [
      "[8.272727272727273, 8.545454545454545, 8.181818181818182, 8.363636363636363, 8.363636363636363, 9.090909090909092, 8.363636363636363, 8.545454545454545, 8.272727272727273, 8.454545454545455, 8.363636363636363, 8.090909090909092, 9.090909090909092, 8.454545454545455, 8.363636363636363, 8.181818181818182, 8.363636363636363, 8.363636363636363, 8.272727272727273, 8.181818181818182, 8.363636363636363, 8.545454545454545, 8.545454545454545, 8.090909090909092, 8.181818181818182, 8.090909090909092, 8.363636363636363, 8.363636363636363, 8.545454545454545, 8.545454545454545, 8.545454545454545, 8.090909090909092, 8.545454545454545, 9.090909090909092, 8.181818181818182, 9.181818181818182, 7.545454545454546, 8.090909090909092, 8.636363636363637, 8.272727272727273, 8.363636363636363, 8.363636363636363, 8.363636363636363, 8.454545454545455, 8.363636363636363, 8.363636363636363, 8.363636363636363, 8.090909090909092, 8.272727272727273, 8.454545454545455, 9.272727272727273, 8.454545454545455, 8.0, 8.363636363636363, 9.181818181818182, 8.181818181818182, 8.545454545454545, 8.363636363636363, 9.181818181818182, 8.454545454545455, 8.363636363636363, 8.363636363636363, 8.363636363636363, 8.454545454545455, 8.454545454545455, 8.090909090909092, 8.818181818181818, 8.636363636363637, 7.818181818181818, 8.636363636363637, 8.272727272727273, 8.090909090909092, 8.545454545454545, 8.363636363636363, 8.363636363636363, 8.363636363636363, 8.818181818181818, 8.454545454545455, 8.272727272727273, 7.818181818181818, 8.363636363636363, 8.363636363636363, 8.181818181818182, 9.0, 8.545454545454545, 8.363636363636363, 7.909090909090909, 8.272727272727273, 8.545454545454545, 8.818181818181818, 8.454545454545455, 8.363636363636363, 8.181818181818182, 8.181818181818182, 8.545454545454545, 8.090909090909092, 8.636363636363637, 8.636363636363637, 8.090909090909092]\n"
     ]
    }
   ],
   "source": [
    "average_per_item = [sum(d.values()) / len(d) for d in scores_per_item]\n",
    "\n",
    "print(average_per_item)"
   ]
  },
  {
   "cell_type": "code",
   "execution_count": 107,
   "metadata": {},
   "outputs": [
    {
     "data": {
      "image/png": "[encoded data removed]",
      "text/plain": [
       "<Figure size 432x288 with 1 Axes>"
      ]
     },
     "metadata": {
      "needs_background": "light"
     },
     "output_type": "display_data"
    }
   ],
   "source": [
    "import matplotlib.pyplot as plt\n",
    "\n",
    "# Create a histogram\n",
    "plt.hist(average_per_item, bins='auto', alpha=0.7)\n",
    "plt.xlabel('Values')\n",
    "plt.ylabel('Frequency')\n",
    "plt.title('Frequency of average score per item')\n",
    "plt.show()"
   ]
  },
  {
   "cell_type": "code",
   "execution_count": 113,
   "metadata": {},
   "outputs": [
    {
     "data": {
      "text/plain": [
       "{'obj_3': 8.202020202020202,\n",
       " 'obj_8': 9.070707070707071,\n",
       " 'obj_7': 8.252525252525253,\n",
       " 'obj_6': 8.141414141414142,\n",
       " 'obj_2': 9.141414141414142,\n",
       " 'obj_10': 8.141414141414142,\n",
       " 'obj_9': 7.757575757575758,\n",
       " 'obj_1': 8.242424242424242,\n",
       " 'obj_5': 7.787878787878788,\n",
       " 'obj_11': 9.0,\n",
       " 'obj_4': 8.747474747474747}"
      ]
     },
     "execution_count": 113,
     "metadata": {},
     "output_type": "execute_result"
    }
   ],
   "source": [
    "averaged_data"
   ]
  },
  {
   "cell_type": "code",
   "execution_count": 116,
   "metadata": {},
   "outputs": [
    {
     "name": "stdout",
     "output_type": "stream",
     "text": [
      "{'obj_3': 8.202020202020202, 'obj_8': 9.070707070707071, 'obj_7': 8.252525252525253, 'obj_6': 8.141414141414142, 'obj_2': 9.141414141414142, 'obj_10': 8.141414141414142, 'obj_9': 7.757575757575758, 'obj_1': 8.242424242424242, 'obj_5': 7.787878787878788, 'obj_11': 9.0, 'obj_4': 8.747474747474747}\n"
     ]
    },
    {
     "data": {
      "image/png": "[encoded data removed]",
      "text/plain": [
       "<Figure size 432x288 with 1 Axes>"
      ]
     },
     "metadata": {
      "needs_background": "light"
     },
     "output_type": "display_data"
    }
   ],
   "source": [
    "# Calculate the average per scores_per_objective\n",
    "data = scores_per_objective\n",
    "averaged_data = {key: sum(value) / len(value) for key, value in data.items()}\n",
    "\n",
    "print(averaged_data)\n",
    "\n",
    "\n",
    "sorted_data = {k: v for k, v in sorted(averaged_data.items())}\n",
    "\n",
    "# Extract the keys (objectives) and values (averages) from the sorted dictionary\n",
    "keys = sorted_data.keys()\n",
    "values = sorted_data.values()\n",
    "\n",
    "# Create a bar plot\n",
    "plt.bar(keys, values)\n",
    "plt.xlabel('Objectives')\n",
    "plt.ylabel('Average')\n",
    "plt.ylim(7,10)\n",
    "plt.title('Average per Objective')\n",
    "plt.xticks(rotation=45)\n",
    "plt.show()"
   ]
  },
  {
   "cell_type": "code",
   "execution_count": 138,
   "metadata": {},
   "outputs": [
    {
     "name": "stdout",
     "output_type": "stream",
     "text": [
      "scores true: 8.415360501567399\n",
      "scores false: 8.39689578713969\n"
     ]
    }
   ],
   "source": [
    "from scipy.stats import ttest_ind\n",
    "import statistics\n",
    "\n",
    "# Example lists of scores and indicators\n",
    "scores = average_per_item\n",
    "indicators = item_correct\n",
    "\n",
    "# Separate scores based on indicators\n",
    "scores_true = [score for score, indicator in zip(scores, indicators) if indicator]\n",
    "scores_false = [score for score, indicator in zip(scores, indicators) if not indicator]\n",
    "\n",
    "# Perform t-test\n",
    "t_statistic, p_value = ttest_ind(scores_true, scores_false)\n",
    "\n",
    "# Print the t-statistic and p-value\n",
    "# print(\"T-Statistic:\", t_statistic)\n",
    "# print(\"P-Value:\", p_value)\n",
    "\n",
    "print(\"scores true:\", statistics.mean(scores_true))\n",
    "print(\"scores false:\", statistics.mean(scores_false))"
   ]
  },
  {
   "cell_type": "code",
   "execution_count": 128,
   "metadata": {},
   "outputs": [
    {
     "name": "stdout",
     "output_type": "stream",
     "text": [
      "True: 58\n",
      "False: 37\n",
      "None: 5\n"
     ]
    }
   ],
   "source": [
    "from collections import Counter\n",
    "\n",
    "# Example list of values\n",
    "\n",
    "# Calculate the frequencies of values\n",
    "frequency = Counter(item_correct)\n",
    "\n",
    "# Print the frequencies\n",
    "for value, count in frequency.items():\n",
    "    print(f\"{value}: {count}\")\n"
   ]
  },
  {
   "attachments": {},
   "cell_type": "markdown",
   "metadata": {},
   "source": [
    "## Template 14"
   ]
  },
  {
   "cell_type": "code",
   "execution_count": 140,
   "metadata": {},
   "outputs": [
    {
     "name": "stdout",
     "output_type": "stream",
     "text": [
      "Generating med_qa...\n"
     ]
    },
    {
     "data": {
      "application/vnd.jupyter.widget-view+json": {
       "model_id": "df2b1575c1354b7793a37dfec21612aa",
       "version_major": 2,
       "version_minor": 0
      },
      "text/plain": [
       "  0%|          | 0/100 [00:00<?, ?ex/s]"
      ]
     },
     "metadata": {},
     "output_type": "display_data"
    },
    {
     "name": "stdout",
     "output_type": "stream",
     "text": [
      "(API-)Error in item 1: That model is currently overloaded with other requests. You can retry your request, or contact us through our help center at help.openai.com if the error persists. (Please include the request ID 6bdfea77d053684ddb43890188cc3c7b in your message.)\n",
      "Retrying with additional time of 10 seconds.\n",
      "(API-)Error in item 11: Bad gateway. {\"error\":{\"code\":502,\"message\":\"Bad gateway.\",\"param\":null,\"type\":\"cf_bad_gateway\"}} 502 {'error': {'code': 502, 'message': 'Bad gateway.', 'param': None, 'type': 'cf_bad_gateway'}} {'Date': 'Fri, 26 May 2023 14:07:14 GMT', 'Content-Type': 'application/json', 'Content-Length': '84', 'Connection': 'keep-alive', 'X-Frame-Options': 'SAMEORIGIN', 'Referrer-Policy': 'same-origin', 'Cache-Control': 'private, max-age=0, no-store, no-cache, must-revalidate, post-check=0, pre-check=0', 'Expires': 'Thu, 01 Jan 1970 00:00:01 GMT', 'Server': 'cloudflare', 'CF-RAY': '7cd68d8e5ab13257-VIE', 'alt-svc': 'h3=\":443\"; ma=86400'}\n",
      "Retrying with additional time of 10 seconds.\n",
      "(API-)Error in item 11: That model is currently overloaded with other requests. You can retry your request, or contact us through our help center at help.openai.com if the error persists. (Please include the request ID 2dec3dc6b429903181e96c59f15d9d10 in your message.)\n",
      "Retrying with additional time of 20 seconds.\n",
      "(API-)Error in item 26: That model is currently overloaded with other requests. You can retry your request, or contact us through our help center at help.openai.com if the error persists. (Please include the request ID 91c35c5713584bf0e7cfb40b21cb00b9 in your message.)\n",
      "Retrying with additional time of 10 seconds.\n",
      "(API-)Error in item 31: That model is currently overloaded with other requests. You can retry your request, or contact us through our help center at help.openai.com if the error persists. (Please include the request ID 92d5290d353cbb321146bf92edb86dec in your message.)\n",
      "Retrying with additional time of 10 seconds.\n",
      "(API-)Error in item 35: That model is currently overloaded with other requests. You can retry your request, or contact us through our help center at help.openai.com if the error persists. (Please include the request ID 88f6655b9ef33a41aecc7b50b3882eed in your message.)\n",
      "Retrying with additional time of 10 seconds.\n",
      "(API-)Error in item 36: That model is currently overloaded with other requests. You can retry your request, or contact us through our help center at help.openai.com if the error persists. (Please include the request ID 2cc2f31ecd9705400a08c1b105f1c3af in your message.)\n",
      "Retrying with additional time of 10 seconds.\n",
      "(API-)Error in item 37: That model is currently overloaded with other requests. You can retry your request, or contact us through our help center at help.openai.com if the error persists. (Please include the request ID 1add37d9b42aaebd5197c528b3d01bdd in your message.)\n",
      "Retrying with additional time of 10 seconds.\n",
      "(API-)Error in item 37: That model is currently overloaded with other requests. You can retry your request, or contact us through our help center at help.openai.com if the error persists. (Please include the request ID 6cd7f51bca2f8ebb32f82738e14cb56c in your message.)\n",
      "Retrying with additional time of 20 seconds.\n",
      "(API-)Error in item 37: That model is currently overloaded with other requests. You can retry your request, or contact us through our help center at help.openai.com if the error persists. (Please include the request ID a7426ac89a808826e68d18d08270f7e5 in your message.)\n",
      "Retrying with additional time of 30 seconds.\n",
      "(API-)Error in item 40: That model is currently overloaded with other requests. You can retry your request, or contact us through our help center at help.openai.com if the error persists. (Please include the request ID 24d74df76a020fc37159ae8aa30e7e01 in your message.)\n",
      "Retrying with additional time of 10 seconds.\n",
      "(API-)Error in item 43: That model is currently overloaded with other requests. You can retry your request, or contact us through our help center at help.openai.com if the error persists. (Please include the request ID 3fca72997dcbc3fa9be9965affa6d999 in your message.)\n",
      "Retrying with additional time of 10 seconds.\n",
      "(API-)Error in item 58: That model is currently overloaded with other requests. You can retry your request, or contact us through our help center at help.openai.com if the error persists. (Please include the request ID 75f4e917fcb70982b5f728f3bd4b1fab in your message.)\n",
      "Retrying with additional time of 10 seconds.\n",
      "(API-)Error in item 79: That model is currently overloaded with other requests. You can retry your request, or contact us through our help center at help.openai.com if the error persists. (Please include the request ID 10ad7aa55011aff8378ac9003f2deeec in your message.)\n",
      "Retrying with additional time of 10 seconds.\n",
      "(API-)Error in item 79: That model is currently overloaded with other requests. You can retry your request, or contact us through our help center at help.openai.com if the error persists. (Please include the request ID f1e6008e0404851f0a4965cac71e0a24 in your message.)\n",
      "Retrying with additional time of 20 seconds.\n"
     ]
    },
    {
     "data": {
      "application/vnd.jupyter.widget-view+json": {
       "model_id": "4c0e3fb6977b4065a8d2c253b25d89d7",
       "version_major": 2,
       "version_minor": 0
      },
      "text/plain": [
       "Creating json from Arrow format:   0%|          | 0/1 [00:00<?, ?ba/s]"
      ]
     },
     "metadata": {},
     "output_type": "display_data"
    },
    {
     "name": "stdout",
     "output_type": "stream",
     "text": [
      "wrong output found\n"
     ]
    }
   ],
   "source": [
    "#for template 14\n",
    "med_zhou_14 = Collection.from_json(\"med_qa_zhou_eval.json\")\n",
    "absolute_path = \"/Users/robertpraas/Desktop/ThoughtSource/notebooks/reflection_messages/input_system/system_template_14_eval.yaml\"\n",
    "system_evaluate(med_zhou_14,'gpt-3.5-turbo',absolute_path)\n",
    "med_zhou.dump(\"med_qa_template_14\") \n",
    "scores_per_item, scores_per_objective, df = process_new_data(med_zhou,idx_cot=1)"
   ]
  },
  {
   "cell_type": "code",
   "execution_count": 149,
   "metadata": {},
   "outputs": [],
   "source": [
    "scores_per_item, scores_per_objective, df = process_new_data(med_zhou_14,idx_cot=1)"
   ]
  },
  {
   "cell_type": "code",
   "execution_count": 150,
   "metadata": {},
   "outputs": [
    {
     "data": {
      "text/html": [
       "<div>\n",
       "<style scoped>\n",
       "    .dataframe tbody tr th:only-of-type {\n",
       "        vertical-align: middle;\n",
       "    }\n",
       "\n",
       "    .dataframe tbody tr th {\n",
       "        vertical-align: top;\n",
       "    }\n",
       "\n",
       "    .dataframe thead th {\n",
       "        text-align: right;\n",
       "    }\n",
       "</style>\n",
       "<table border=\"1\" class=\"dataframe\">\n",
       "  <thead>\n",
       "    <tr style=\"text-align: right;\">\n",
       "      <th></th>\n",
       "      <th>Average</th>\n",
       "    </tr>\n",
       "  </thead>\n",
       "  <tbody>\n",
       "    <tr>\n",
       "      <th>obj_1</th>\n",
       "      <td>9.18</td>\n",
       "    </tr>\n",
       "    <tr>\n",
       "      <th>obj_2</th>\n",
       "      <td>9.72</td>\n",
       "    </tr>\n",
       "    <tr>\n",
       "      <th>obj_3</th>\n",
       "      <td>8.74</td>\n",
       "    </tr>\n",
       "    <tr>\n",
       "      <th>obj_4</th>\n",
       "      <td>9.46</td>\n",
       "    </tr>\n",
       "    <tr>\n",
       "      <th>obj_5</th>\n",
       "      <td>8.79</td>\n",
       "    </tr>\n",
       "    <tr>\n",
       "      <th>obj_6</th>\n",
       "      <td>9.20</td>\n",
       "    </tr>\n",
       "    <tr>\n",
       "      <th>obj_7</th>\n",
       "      <td>9.14</td>\n",
       "    </tr>\n",
       "    <tr>\n",
       "      <th>obj_8</th>\n",
       "      <td>9.60</td>\n",
       "    </tr>\n",
       "    <tr>\n",
       "      <th>obj_9</th>\n",
       "      <td>8.81</td>\n",
       "    </tr>\n",
       "    <tr>\n",
       "      <th>obj_10</th>\n",
       "      <td>9.17</td>\n",
       "    </tr>\n",
       "    <tr>\n",
       "      <th>obj_11</th>\n",
       "      <td>9.61</td>\n",
       "    </tr>\n",
       "  </tbody>\n",
       "</table>\n",
       "</div>"
      ],
      "text/plain": [
       "        Average\n",
       "obj_1      9.18\n",
       "obj_2      9.72\n",
       "obj_3      8.74\n",
       "obj_4      9.46\n",
       "obj_5      8.79\n",
       "obj_6      9.20\n",
       "obj_7      9.14\n",
       "obj_8      9.60\n",
       "obj_9      8.81\n",
       "obj_10     9.17\n",
       "obj_11     9.61"
      ]
     },
     "execution_count": 150,
     "metadata": {},
     "output_type": "execute_result"
    }
   ],
   "source": [
    "df"
   ]
  },
  {
   "cell_type": "code",
   "execution_count": 151,
   "metadata": {},
   "outputs": [
    {
     "data": {
      "image/png": "[encoded data removed]",
      "text/plain": [
       "<Figure size 432x288 with 1 Axes>"
      ]
     },
     "metadata": {
      "needs_background": "light"
     },
     "output_type": "display_data"
    }
   ],
   "source": [
    "average_per_item = [sum(d.values()) / len(d) for d in scores_per_item]\n",
    "\n",
    "import matplotlib.pyplot as plt\n",
    "\n",
    "# Create a histogram\n",
    "plt.hist(average_per_item, bins='auto', alpha=0.7)\n",
    "plt.xlabel('Values')\n",
    "plt.ylabel('Frequency')\n",
    "plt.title('Frequency of average score per item')\n",
    "plt.show()"
   ]
  },
  {
   "cell_type": "code",
   "execution_count": 152,
   "metadata": {},
   "outputs": [
    {
     "name": "stdout",
     "output_type": "stream",
     "text": [
      "{'obj_3': 8.74, 'obj_8': 9.6, 'obj_7': 9.14, 'obj_6': 9.2, 'obj_2': 9.72, 'obj_10': 9.17, 'obj_9': 8.81, 'obj_1': 9.18, 'obj_5': 8.79, 'obj_11': 9.61, 'obj_4': 9.46}\n"
     ]
    },
    {
     "data": {
      "image/png": "[encoded data removed]",
      "text/plain": [
       "<Figure size 432x288 with 1 Axes>"
      ]
     },
     "metadata": {
      "needs_background": "light"
     },
     "output_type": "display_data"
    }
   ],
   "source": [
    "# Calculate the average per scores_per_objective\n",
    "data = scores_per_objective\n",
    "averaged_data = {key: sum(value) / len(value) for key, value in data.items()}\n",
    "\n",
    "print(averaged_data)\n",
    "\n",
    "\n",
    "sorted_data = {k: v for k, v in sorted(averaged_data.items())}\n",
    "\n",
    "# Extract the keys (objectives) and values (averages) from the sorted dictionary\n",
    "keys = sorted_data.keys()\n",
    "values = sorted_data.values()\n",
    "\n",
    "# Create a bar plot\n",
    "plt.bar(keys, values)\n",
    "plt.xlabel('Objectives')\n",
    "plt.ylabel('Average')\n",
    "plt.ylim(7,10)\n",
    "plt.title('Average per Objective')\n",
    "plt.xticks(rotation=45)\n",
    "plt.show()"
   ]
  },
  {
   "cell_type": "code",
   "execution_count": 153,
   "metadata": {},
   "outputs": [
    {
     "name": "stdout",
     "output_type": "stream",
     "text": [
      "scores true: 9.304075235109718\n",
      "scores false: 9.103896103896103\n"
     ]
    }
   ],
   "source": [
    "item_correct = []\n",
    "for item in med_zhou['med_qa']['test']:\n",
    "    item_correct.append(item['generated_cot'][0]['answers'][0]['correct_answer'])\n",
    "\n",
    "\n",
    "from scipy.stats import ttest_ind\n",
    "import statistics\n",
    "\n",
    "# Example lists of scores and indicators\n",
    "scores = average_per_item\n",
    "indicators = item_correct\n",
    "\n",
    "# Separate scores based on indicators\n",
    "scores_true = [score for score, indicator in zip(scores, indicators) if indicator]\n",
    "scores_false = [score for score, indicator in zip(scores, indicators) if not indicator]\n",
    "\n",
    "# Perform t-test\n",
    "t_statistic, p_value = ttest_ind(scores_true, scores_false)\n",
    "\n",
    "# Print the t-statistic and p-value\n",
    "# print(\"T-Statistic:\", t_statistic)\n",
    "# print(\"P-Value:\", p_value)\n",
    "\n",
    "print(\"scores true:\", statistics.mean(scores_true))\n",
    "print(\"scores false:\", statistics.mean(scores_false))"
   ]
  },
  {
   "attachments": {},
   "cell_type": "markdown",
   "metadata": {},
   "source": [
    "## Next: GPT-4"
   ]
  },
  {
   "cell_type": "code",
   "execution_count": 10,
   "metadata": {},
   "outputs": [],
   "source": [
    "import copy\n",
    "med_qa = Collection.from_json(\"/Users/robertpraas/Desktop/ThoughtSource/notebooks/reflection_messages/med_qa_zhou_eval_gpt4.json\")\n",
    "med_qa_correct = copy.deepcopy(med_qa)\n",
    "med_qa_false = copy.deepcopy(med_qa)\n",
    "med_qa_correct.select_generated_cots(answer=True)\n",
    "med_qa_correct = med_qa_correct.filter(lambda x: len(x[\"generated_cot\"])==1)\n",
    "\n",
    "med_qa_false.select_generated_cots(answer=False)\n",
    "med_qa_false = med_qa_false.filter(lambda x: len(x[\"generated_cot\"])==1)"
   ]
  },
  {
   "cell_type": "code",
   "execution_count": null,
   "metadata": {},
   "outputs": [],
   "source": []
  },
  {
   "cell_type": "code",
   "execution_count": 11,
   "metadata": {},
   "outputs": [
    {
     "data": {
      "text/plain": [
       "| Name   | Train   | Valid   |   Test |\n",
       "|--------|---------|---------|--------|\n",
       "| med_qa | -       | -       |     81 |\n",
       "\n",
       "Not loaded: ['aqua', 'asdiv', 'commonsense_qa', 'entailment_bank', 'gsm8k', 'mawps', 'med_qa_open', 'medmc_qa', '_init_', 'mmlu_clinical_knowledge', 'mmlu_college_biology', 'mmlu_college_medicine', 'mmlu_medical_genetics', 'mmlu_professional_medicine', '_init_', 'mmlu_anatomy', 'open_book_qa', 'pubmed_qa', 'qed', 'strategy_qa', 'svamp', 'worldtree']"
      ]
     },
     "execution_count": 11,
     "metadata": {},
     "output_type": "execute_result"
    }
   ],
   "source": [
    "med_qa_correct\n"
   ]
  },
  {
   "cell_type": "code",
   "execution_count": 15,
   "metadata": {},
   "outputs": [
    {
     "data": {
      "text/plain": [
       "| Name   | Train   | Valid   |   Test |\n",
       "|--------|---------|---------|--------|\n",
       "| med_qa | -       | -       |     19 |\n",
       "\n",
       "Not loaded: ['aqua', 'asdiv', 'commonsense_qa', 'entailment_bank', 'gsm8k', 'mawps', 'med_qa_open', 'medmc_qa', '_init_', 'mmlu_clinical_knowledge', 'mmlu_college_biology', 'mmlu_college_medicine', 'mmlu_medical_genetics', 'mmlu_professional_medicine', '_init_', 'mmlu_anatomy', 'open_book_qa', 'pubmed_qa', 'qed', 'strategy_qa', 'svamp', 'worldtree']"
      ]
     },
     "execution_count": 15,
     "metadata": {},
     "output_type": "execute_result"
    }
   ],
   "source": [
    "med_qa_correct = med_qa_correct.select(split=\"test\", number_samples=19, random_samples=True, seed=0)\n",
    "med_qa_correct.dump(\"medqa_correct_gpt_4_sample_of_19\")\n",
    "med_qa_correct"
   ]
  },
  {
   "cell_type": "code",
   "execution_count": 12,
   "metadata": {},
   "outputs": [
    {
     "data": {
      "text/plain": [
       "| Name   | Train   | Valid   |   Test |\n",
       "|--------|---------|---------|--------|\n",
       "| med_qa | -       | -       |     19 |\n",
       "\n",
       "Not loaded: ['aqua', 'asdiv', 'commonsense_qa', 'entailment_bank', 'gsm8k', 'mawps', 'med_qa_open', 'medmc_qa', '_init_', 'mmlu_clinical_knowledge', 'mmlu_college_biology', 'mmlu_college_medicine', 'mmlu_medical_genetics', 'mmlu_professional_medicine', '_init_', 'mmlu_anatomy', 'open_book_qa', 'pubmed_qa', 'qed', 'strategy_qa', 'svamp', 'worldtree']"
      ]
     },
     "execution_count": 12,
     "metadata": {},
     "output_type": "execute_result"
    }
   ],
   "source": [
    "med_qa_false"
   ]
  },
  {
   "cell_type": "code",
   "execution_count": 16,
   "metadata": {},
   "outputs": [],
   "source": [
    "medqa_total = copy.deepcopy(med_qa_false)"
   ]
  },
  {
   "cell_type": "code",
   "execution_count": 19,
   "metadata": {},
   "outputs": [
    {
     "data": {
      "application/vnd.jupyter.widget-view+json": {
       "model_id": "b0247b7e427f4f2e90e16c52669cc0f5",
       "version_major": 2,
       "version_minor": 0
      },
      "text/plain": [
       "Creating json from Arrow format:   0%|          | 0/1 [00:00<?, ?ba/s]"
      ]
     },
     "metadata": {},
     "output_type": "display_data"
    },
    {
     "data": {
      "application/vnd.jupyter.widget-view+json": {
       "model_id": "9deea83c93f5426ebf2bda2de92fe802",
       "version_major": 2,
       "version_minor": 0
      },
      "text/plain": [
       "Creating json from Arrow format:   0%|          | 0/1 [00:00<?, ?ba/s]"
      ]
     },
     "metadata": {},
     "output_type": "display_data"
    }
   ],
   "source": [
    "medqa_total = medqa_total.merge(med_qa_correct)"
   ]
  },
  {
   "cell_type": "code",
   "execution_count": 21,
   "metadata": {},
   "outputs": [
    {
     "data": {
      "application/vnd.jupyter.widget-view+json": {
       "model_id": "510ca56823ec4bfb9fc169a82ec92ce0",
       "version_major": 2,
       "version_minor": 0
      },
      "text/plain": [
       "  0%|          | 0/38 [00:00<?, ?ex/s]"
      ]
     },
     "metadata": {},
     "output_type": "display_data"
    },
    {
     "data": {
      "text/plain": [
       "{'med_qa': {'test': {'accuracy': {'gpt-4': {'None_zhou-01_kojima-A-E': 0.5}}}}}"
      ]
     },
     "execution_count": 21,
     "metadata": {},
     "output_type": "execute_result"
    }
   ],
   "source": [
    "medqa_total.evaluate()"
   ]
  },
  {
   "cell_type": "code",
   "execution_count": 22,
   "metadata": {},
   "outputs": [
    {
     "name": "stdout",
     "output_type": "stream",
     "text": [
      "Generating med_qa...\n"
     ]
    },
    {
     "data": {
      "application/vnd.jupyter.widget-view+json": {
       "model_id": "afc9725efbed49a386b109a988b54be2",
       "version_major": 2,
       "version_minor": 0
      },
      "text/plain": [
       "  0%|          | 0/38 [00:00<?, ?ex/s]"
      ]
     },
     "metadata": {},
     "output_type": "display_data"
    },
    {
     "data": {
      "application/vnd.jupyter.widget-view+json": {
       "model_id": "a5c79dbe613941b894a477f44654dd1b",
       "version_major": 2,
       "version_minor": 0
      },
      "text/plain": [
       "Creating json from Arrow format:   0%|          | 0/1 [00:00<?, ?ba/s]"
      ]
     },
     "metadata": {},
     "output_type": "display_data"
    }
   ],
   "source": [
    "absolute_path = \"/Users/robertpraas/Desktop/ThoughtSource/notebooks/reflection_messages/input_system/system_template_14_eval.yaml\"\n",
    "system_evaluate(medqa_total,'gpt-4',absolute_path)\n",
    "medqa_total.dump(\"med_qa_gpt_4_template_14\") \n",
    "scores_per_item, scores_per_objective, df = process_new_data(medqa_total,idx_cot=1)\n"
   ]
  },
  {
   "cell_type": "code",
   "execution_count": 23,
   "metadata": {},
   "outputs": [
    {
     "data": {
      "text/html": [
       "<div>\n",
       "<style scoped>\n",
       "    .dataframe tbody tr th:only-of-type {\n",
       "        vertical-align: middle;\n",
       "    }\n",
       "\n",
       "    .dataframe tbody tr th {\n",
       "        vertical-align: top;\n",
       "    }\n",
       "\n",
       "    .dataframe thead th {\n",
       "        text-align: right;\n",
       "    }\n",
       "</style>\n",
       "<table border=\"1\" class=\"dataframe\">\n",
       "  <thead>\n",
       "    <tr style=\"text-align: right;\">\n",
       "      <th></th>\n",
       "      <th>Average</th>\n",
       "    </tr>\n",
       "  </thead>\n",
       "  <tbody>\n",
       "    <tr>\n",
       "      <th>obj_1</th>\n",
       "      <td>10.000000</td>\n",
       "    </tr>\n",
       "    <tr>\n",
       "      <th>obj_2</th>\n",
       "      <td>9.710526</td>\n",
       "    </tr>\n",
       "    <tr>\n",
       "      <th>obj_3</th>\n",
       "      <td>9.973684</td>\n",
       "    </tr>\n",
       "    <tr>\n",
       "      <th>obj_4</th>\n",
       "      <td>9.736842</td>\n",
       "    </tr>\n",
       "    <tr>\n",
       "      <th>obj_5</th>\n",
       "      <td>9.947368</td>\n",
       "    </tr>\n",
       "    <tr>\n",
       "      <th>obj_6</th>\n",
       "      <td>9.710526</td>\n",
       "    </tr>\n",
       "    <tr>\n",
       "      <th>obj_7</th>\n",
       "      <td>8.710526</td>\n",
       "    </tr>\n",
       "    <tr>\n",
       "      <th>obj_8</th>\n",
       "      <td>10.000000</td>\n",
       "    </tr>\n",
       "    <tr>\n",
       "      <th>obj_9</th>\n",
       "      <td>9.131579</td>\n",
       "    </tr>\n",
       "    <tr>\n",
       "      <th>obj_10</th>\n",
       "      <td>9.973684</td>\n",
       "    </tr>\n",
       "    <tr>\n",
       "      <th>obj_11</th>\n",
       "      <td>10.000000</td>\n",
       "    </tr>\n",
       "  </tbody>\n",
       "</table>\n",
       "</div>"
      ],
      "text/plain": [
       "          Average\n",
       "obj_1   10.000000\n",
       "obj_2    9.710526\n",
       "obj_3    9.973684\n",
       "obj_4    9.736842\n",
       "obj_5    9.947368\n",
       "obj_6    9.710526\n",
       "obj_7    8.710526\n",
       "obj_8   10.000000\n",
       "obj_9    9.131579\n",
       "obj_10   9.973684\n",
       "obj_11  10.000000"
      ]
     },
     "execution_count": 23,
     "metadata": {},
     "output_type": "execute_result"
    }
   ],
   "source": [
    "df"
   ]
  },
  {
   "cell_type": "code",
   "execution_count": 24,
   "metadata": {},
   "outputs": [
    {
     "data": {
      "image/png": "[encoded data removed]",
      "text/plain": [
       "<Figure size 432x288 with 1 Axes>"
      ]
     },
     "metadata": {
      "needs_background": "light"
     },
     "output_type": "display_data"
    }
   ],
   "source": [
    "average_per_item = [sum(d.values()) / len(d) for d in scores_per_item]\n",
    "\n",
    "import matplotlib.pyplot as plt\n",
    "\n",
    "# Create a histogram\n",
    "plt.hist(average_per_item, bins='auto', alpha=0.7)\n",
    "plt.xlabel('Values')\n",
    "plt.ylabel('Frequency')\n",
    "plt.title('Frequency of average score per item')\n",
    "plt.show()"
   ]
  },
  {
   "cell_type": "code",
   "execution_count": 25,
   "metadata": {},
   "outputs": [
    {
     "name": "stdout",
     "output_type": "stream",
     "text": [
      "{'obj_6': 9.710526315789474, 'obj_3': 9.973684210526315, 'obj_9': 9.131578947368421, 'obj_4': 9.736842105263158, 'obj_8': 10.0, 'obj_5': 9.947368421052632, 'obj_1': 10.0, 'obj_2': 9.710526315789474, 'obj_11': 10.0, 'obj_7': 8.710526315789474, 'obj_10': 9.973684210526315}\n"
     ]
    },
    {
     "data": {
      "image/png": "[encoded data removed]",
      "text/plain": [
       "<Figure size 432x288 with 1 Axes>"
      ]
     },
     "metadata": {
      "needs_background": "light"
     },
     "output_type": "display_data"
    }
   ],
   "source": [
    "# Calculate the average per scores_per_objective\n",
    "data = scores_per_objective\n",
    "averaged_data = {key: sum(value) / len(value) for key, value in data.items()}\n",
    "\n",
    "print(averaged_data)\n",
    "\n",
    "\n",
    "sorted_data = {k: v for k, v in sorted(averaged_data.items())}\n",
    "\n",
    "# Extract the keys (objectives) and values (averages) from the sorted dictionary\n",
    "keys = sorted_data.keys()\n",
    "values = sorted_data.values()\n",
    "\n",
    "# Create a bar plot\n",
    "plt.bar(keys, values)\n",
    "plt.xlabel('Objectives')\n",
    "plt.ylabel('Average')\n",
    "plt.ylim(7,10)\n",
    "plt.title('Average per Objective')\n",
    "plt.xticks(rotation=45)\n",
    "plt.show()"
   ]
  },
  {
   "cell_type": "code",
   "execution_count": 28,
   "metadata": {},
   "outputs": [
    {
     "name": "stdout",
     "output_type": "stream",
     "text": [
      "scores true: 9.794258373205741\n",
      "scores false: 9.641148325358852\n"
     ]
    }
   ],
   "source": [
    "item_correct = []\n",
    "for item in medqa_total['med_qa']['test']:\n",
    "    item_correct.append(item['generated_cot'][0]['answers'][0]['correct_answer'])\n",
    "\n",
    "\n",
    "from scipy.stats import ttest_ind\n",
    "import statistics\n",
    "\n",
    "# Example lists of scores and indicators\n",
    "scores = average_per_item\n",
    "indicators = item_correct\n",
    "\n",
    "# Separate scores based on indicators\n",
    "scores_true = [score for score, indicator in zip(scores, indicators) if indicator]\n",
    "scores_false = [score for score, indicator in zip(scores, indicators) if not indicator]\n",
    "\n",
    "# Perform t-test\n",
    "t_statistic, p_value = ttest_ind(scores_true, scores_false)\n",
    "\n",
    "# Print the t-statistic and p-value\n",
    "# print(\"T-Statistic:\", t_statistic)\n",
    "# print(\"P-Value:\", p_value)\n",
    "\n",
    "print(\"scores true:\", statistics.mean(scores_true))\n",
    "print(\"scores false:\", statistics.mean(scores_false))"
   ]
  },
  {
   "cell_type": "code",
   "execution_count": 29,
   "metadata": {},
   "outputs": [
    {
     "data": {
      "text/plain": [
       "0.009352153218818883"
      ]
     },
     "execution_count": 29,
     "metadata": {},
     "output_type": "execute_result"
    }
   ],
   "source": [
    "p_value"
   ]
  },
  {
   "cell_type": "code",
   "execution_count": 30,
   "metadata": {},
   "outputs": [
    {
     "data": {
      "application/vnd.jupyter.widget-view+json": {
       "model_id": "d9fc7990e6674545b2d6df8e2a219fd9",
       "version_major": 2,
       "version_minor": 0
      },
      "text/plain": [
       "Creating json from Arrow format:   0%|          | 0/1 [00:00<?, ?ba/s]"
      ]
     },
     "metadata": {},
     "output_type": "display_data"
    },
    {
     "data": {
      "application/vnd.jupyter.widget-view+json": {
       "model_id": "4d8a9ed661b54ec79a0d3fc5fbb495c2",
       "version_major": 2,
       "version_minor": 0
      },
      "text/plain": [
       "Creating json from Arrow format:   0%|          | 0/1 [00:00<?, ?ba/s]"
      ]
     },
     "metadata": {},
     "output_type": "display_data"
    },
    {
     "data": {
      "text/plain": [
       "| Name   | Train   | Valid   |   Test |\n",
       "|--------|---------|---------|--------|\n",
       "| med_qa | -       | -       |     38 |\n",
       "\n",
       "Not loaded: ['aqua', 'asdiv', 'commonsense_qa', 'entailment_bank', 'gsm8k', 'mawps', 'med_qa_open', 'medmc_qa', '_init_', 'mmlu_clinical_knowledge', 'mmlu_college_biology', 'mmlu_college_medicine', 'mmlu_medical_genetics', 'mmlu_professional_medicine', '_init_', 'mmlu_anatomy', 'open_book_qa', 'pubmed_qa', 'qed', 'strategy_qa', 'svamp', 'worldtree']"
      ]
     },
     "execution_count": 30,
     "metadata": {},
     "output_type": "execute_result"
    }
   ],
   "source": [
    "medqa_total = med_qa_false.merge(med_qa_correct)\n",
    "medqa_total"
   ]
  },
  {
   "cell_type": "code",
   "execution_count": 31,
   "metadata": {},
   "outputs": [
    {
     "name": "stdout",
     "output_type": "stream",
     "text": [
      "Generating med_qa...\n"
     ]
    },
    {
     "data": {
      "application/vnd.jupyter.widget-view+json": {
       "model_id": "7a2539e97c1842f88b3cc29347d1f112",
       "version_major": 2,
       "version_minor": 0
      },
      "text/plain": [
       "  0%|          | 0/38 [00:00<?, ?ex/s]"
      ]
     },
     "metadata": {},
     "output_type": "display_data"
    },
    {
     "data": {
      "application/vnd.jupyter.widget-view+json": {
       "model_id": "6703e1ce1cc94186b13c3e1f9ab2d91f",
       "version_major": 2,
       "version_minor": 0
      },
      "text/plain": [
       "Creating json from Arrow format:   0%|          | 0/1 [00:00<?, ?ba/s]"
      ]
     },
     "metadata": {},
     "output_type": "display_data"
    }
   ],
   "source": [
    "absolute_path = \"/Users/robertpraas/Desktop/ThoughtSource/notebooks/reflection_messages/input_system/system_template_12_eval.yaml\"\n",
    "system_evaluate(medqa_total,'gpt-4',absolute_path)\n",
    "medqa_total.dump(\"med_qa_gpt_4_template_12\") \n",
    "scores_per_item, scores_per_objective, df = process_new_data(medqa_total,idx_cot=1)\n"
   ]
  },
  {
   "cell_type": "code",
   "execution_count": 32,
   "metadata": {},
   "outputs": [
    {
     "data": {
      "text/html": [
       "<div>\n",
       "<style scoped>\n",
       "    .dataframe tbody tr th:only-of-type {\n",
       "        vertical-align: middle;\n",
       "    }\n",
       "\n",
       "    .dataframe tbody tr th {\n",
       "        vertical-align: top;\n",
       "    }\n",
       "\n",
       "    .dataframe thead th {\n",
       "        text-align: right;\n",
       "    }\n",
       "</style>\n",
       "<table border=\"1\" class=\"dataframe\">\n",
       "  <thead>\n",
       "    <tr style=\"text-align: right;\">\n",
       "      <th></th>\n",
       "      <th>Average</th>\n",
       "    </tr>\n",
       "  </thead>\n",
       "  <tbody>\n",
       "    <tr>\n",
       "      <th>obj_1</th>\n",
       "      <td>10.000000</td>\n",
       "    </tr>\n",
       "    <tr>\n",
       "      <th>obj_2</th>\n",
       "      <td>9.447368</td>\n",
       "    </tr>\n",
       "    <tr>\n",
       "      <th>obj_3</th>\n",
       "      <td>10.000000</td>\n",
       "    </tr>\n",
       "    <tr>\n",
       "      <th>obj_4</th>\n",
       "      <td>9.394737</td>\n",
       "    </tr>\n",
       "    <tr>\n",
       "      <th>obj_5</th>\n",
       "      <td>9.789474</td>\n",
       "    </tr>\n",
       "    <tr>\n",
       "      <th>obj_6</th>\n",
       "      <td>9.447368</td>\n",
       "    </tr>\n",
       "    <tr>\n",
       "      <th>obj_7</th>\n",
       "      <td>8.368421</td>\n",
       "    </tr>\n",
       "    <tr>\n",
       "      <th>obj_8</th>\n",
       "      <td>9.973684</td>\n",
       "    </tr>\n",
       "    <tr>\n",
       "      <th>obj_9</th>\n",
       "      <td>8.868421</td>\n",
       "    </tr>\n",
       "    <tr>\n",
       "      <th>obj_10</th>\n",
       "      <td>9.842105</td>\n",
       "    </tr>\n",
       "    <tr>\n",
       "      <th>obj_11</th>\n",
       "      <td>10.000000</td>\n",
       "    </tr>\n",
       "  </tbody>\n",
       "</table>\n",
       "</div>"
      ],
      "text/plain": [
       "          Average\n",
       "obj_1   10.000000\n",
       "obj_2    9.447368\n",
       "obj_3   10.000000\n",
       "obj_4    9.394737\n",
       "obj_5    9.789474\n",
       "obj_6    9.447368\n",
       "obj_7    8.368421\n",
       "obj_8    9.973684\n",
       "obj_9    8.868421\n",
       "obj_10   9.842105\n",
       "obj_11  10.000000"
      ]
     },
     "execution_count": 32,
     "metadata": {},
     "output_type": "execute_result"
    }
   ],
   "source": [
    "df\n"
   ]
  },
  {
   "cell_type": "code",
   "execution_count": 33,
   "metadata": {},
   "outputs": [
    {
     "data": {
      "image/png": "[encoded data removed]",
      "text/plain": [
       "<Figure size 432x288 with 1 Axes>"
      ]
     },
     "metadata": {
      "needs_background": "light"
     },
     "output_type": "display_data"
    }
   ],
   "source": [
    "average_per_item = [sum(d.values()) / len(d) for d in scores_per_item]\n",
    "\n",
    "import matplotlib.pyplot as plt\n",
    "\n",
    "# Create a histogram\n",
    "plt.hist(average_per_item, bins='auto', alpha=0.7)\n",
    "plt.xlabel('Values')\n",
    "plt.ylabel('Frequency')\n",
    "plt.title('Frequency of average score per item')\n",
    "plt.show()\n"
   ]
  },
  {
   "cell_type": "code",
   "execution_count": 34,
   "metadata": {},
   "outputs": [
    {
     "name": "stdout",
     "output_type": "stream",
     "text": [
      "{'obj_6': 9.447368421052632, 'obj_3': 10.0, 'obj_9': 8.868421052631579, 'obj_4': 9.394736842105264, 'obj_8': 9.973684210526315, 'obj_5': 9.789473684210526, 'obj_1': 10.0, 'obj_2': 9.447368421052632, 'obj_11': 10.0, 'obj_7': 8.368421052631579, 'obj_10': 9.842105263157896}\n"
     ]
    },
    {
     "data": {
      "image/png": "[encoded data removed]",
      "text/plain": [
       "<Figure size 432x288 with 1 Axes>"
      ]
     },
     "metadata": {
      "needs_background": "light"
     },
     "output_type": "display_data"
    }
   ],
   "source": [
    "# Calculate the average per scores_per_objective\n",
    "data = scores_per_objective\n",
    "averaged_data = {key: sum(value) / len(value) for key, value in data.items()}\n",
    "\n",
    "print(averaged_data)\n",
    "\n",
    "\n",
    "sorted_data = {k: v for k, v in sorted(averaged_data.items())}\n",
    "\n",
    "# Extract the keys (objectives) and values (averages) from the sorted dictionary\n",
    "keys = sorted_data.keys()\n",
    "values = sorted_data.values()\n",
    "\n",
    "# Create a bar plot\n",
    "plt.bar(keys, values)\n",
    "plt.xlabel('Objectives')\n",
    "plt.ylabel('Average')\n",
    "plt.ylim(7,10)\n",
    "plt.title('Average per Objective')\n",
    "plt.xticks(rotation=45)\n",
    "plt.show()\n"
   ]
  },
  {
   "cell_type": "code",
   "execution_count": 35,
   "metadata": {},
   "outputs": [
    {
     "name": "stdout",
     "output_type": "stream",
     "text": [
      "scores true: 9.68421052631579\n",
      "scores false: 9.430622009569378\n"
     ]
    },
    {
     "data": {
      "text/plain": [
       "0.0033949304251114903"
      ]
     },
     "execution_count": 35,
     "metadata": {},
     "output_type": "execute_result"
    }
   ],
   "source": [
    "item_correct = []\n",
    "for item in medqa_total['med_qa']['test']:\n",
    "    item_correct.append(item['generated_cot'][0]['answers'][0]['correct_answer'])\n",
    "\n",
    "\n",
    "from scipy.stats import ttest_ind\n",
    "import statistics\n",
    "\n",
    "# Example lists of scores and indicators\n",
    "scores = average_per_item\n",
    "indicators = item_correct\n",
    "\n",
    "# Separate scores based on indicators\n",
    "scores_true = [score for score, indicator in zip(scores, indicators) if indicator]\n",
    "scores_false = [score for score, indicator in zip(scores, indicators) if not indicator]\n",
    "\n",
    "# Perform t-test\n",
    "t_statistic, p_value = ttest_ind(scores_true, scores_false)\n",
    "\n",
    "# Print the t-statistic and p-value\n",
    "# print(\"T-Statistic:\", t_statistic)\n",
    "# print(\"P-Value:\", p_value)\n",
    "\n",
    "print(\"scores true:\", statistics.mean(scores_true))\n",
    "print(\"scores false:\", statistics.mean(scores_false))\n",
    "p_value"
   ]
  },
  {
   "cell_type": "code",
   "execution_count": null,
   "metadata": {},
   "outputs": [],
   "source": [
    "\"\"\"\n",
    "For every objective, write a short judgment and rate the value of the response for all of the objectives (score between 1-10). Be critical: a higher variation in rating scores can lead to more insight.\n",
    "\n",
    "Make sure to only output ratings of the objections. Format your response into YAML following this schema:\n",
    "\n",
    "obj_1: \n",
    "- <Short explanation of judgment>\n",
    "- [1-10 rating]\n",
    "obj_2: \n",
    "- <Short explanation of judgment>\n",
    "- [1-10 rating]\n",
    "...\n",
    "\"\"\""
   ]
  },
  {
   "attachments": {},
   "cell_type": "markdown",
   "metadata": {},
   "source": [
    "## Openbook, Medmc for gpt-3"
   ]
  },
  {
   "cell_type": "code",
   "execution_count": 36,
   "metadata": {},
   "outputs": [
    {
     "name": "stdout",
     "output_type": "stream",
     "text": [
      "Generating open_book_qa...\n"
     ]
    },
    {
     "data": {
      "application/vnd.jupyter.widget-view+json": {
       "model_id": "6dc8043de678499fbb10ff0537999bda",
       "version_major": 2,
       "version_minor": 0
      },
      "text/plain": [
       "  0%|          | 0/100 [00:00<?, ?ex/s]"
      ]
     },
     "metadata": {},
     "output_type": "display_data"
    },
    {
     "name": "stdout",
     "output_type": "stream",
     "text": [
      "(API-)Error in item 12: Bad gateway. {\"error\":{\"code\":502,\"message\":\"Bad gateway.\",\"param\":null,\"type\":\"cf_bad_gateway\"}} 502 {'error': {'code': 502, 'message': 'Bad gateway.', 'param': None, 'type': 'cf_bad_gateway'}} {'Date': 'Sat, 27 May 2023 15:13:56 GMT', 'Content-Type': 'application/json', 'Content-Length': '84', 'Connection': 'keep-alive', 'X-Frame-Options': 'SAMEORIGIN', 'Referrer-Policy': 'same-origin', 'Cache-Control': 'private, max-age=0, no-store, no-cache, must-revalidate, post-check=0, pre-check=0', 'Expires': 'Thu, 01 Jan 1970 00:00:01 GMT', 'Server': 'cloudflare', 'CF-RAY': '7cdf2cbb18a2c2f2-VIE', 'alt-svc': 'h3=\":443\"; ma=86400'}\n",
      "Retrying with additional time of 10 seconds.\n",
      "(API-)Error in item 37: Bad gateway. {\"error\":{\"code\":502,\"message\":\"Bad gateway.\",\"param\":null,\"type\":\"cf_bad_gateway\"}} 502 {'error': {'code': 502, 'message': 'Bad gateway.', 'param': None, 'type': 'cf_bad_gateway'}} {'Date': 'Sat, 27 May 2023 15:26:23 GMT', 'Content-Type': 'application/json', 'Content-Length': '84', 'Connection': 'keep-alive', 'X-Frame-Options': 'SAMEORIGIN', 'Referrer-Policy': 'same-origin', 'Cache-Control': 'private, max-age=0, no-store, no-cache, must-revalidate, post-check=0, pre-check=0', 'Expires': 'Thu, 01 Jan 1970 00:00:01 GMT', 'Server': 'cloudflare', 'CF-RAY': '7cdf3ef03c7bc2f2-VIE', 'alt-svc': 'h3=\":443\"; ma=86400'}\n",
      "Retrying with additional time of 10 seconds.\n",
      "(API-)Error in item 50: That model is currently overloaded with other requests. You can retry your request, or contact us through our help center at help.openai.com if the error persists. (Please include the request ID c8ee62193febe4ca11990002b4d3e80d in your message.)\n",
      "Retrying with additional time of 10 seconds.\n",
      "(API-)Error in item 66: That model is currently overloaded with other requests. You can retry your request, or contact us through our help center at help.openai.com if the error persists. (Please include the request ID b71bf47bb415fc0cfe641579b768c943 in your message.)\n",
      "Retrying with additional time of 10 seconds.\n",
      "(API-)Error in item 72: That model is currently overloaded with other requests. You can retry your request, or contact us through our help center at help.openai.com if the error persists. (Please include the request ID f62bed56bb70c90301d8339cf30e02c6 in your message.)\n",
      "Retrying with additional time of 10 seconds.\n",
      "(API-)Error in item 96: That model is currently overloaded with other requests. You can retry your request, or contact us through our help center at help.openai.com if the error persists. (Please include the request ID 716e8193cc2f30cf6de338f07bbb54d4 in your message.)\n",
      "Retrying with additional time of 10 seconds.\n"
     ]
    },
    {
     "ename": "NameError",
     "evalue": "name 'med_zhou' is not defined",
     "output_type": "error",
     "traceback": [
      "\u001b[0;31m---------------------------------------------------------------------------\u001b[0m",
      "\u001b[0;31mNameError\u001b[0m                                 Traceback (most recent call last)",
      "\u001b[1;32m/Users/robertpraas/Desktop/ThoughtSource/notebooks/reflection_messages/reflection_experiments_Robert.ipynb Cell 52\u001b[0m in \u001b[0;36m<cell line: 4>\u001b[0;34m()\u001b[0m\n\u001b[1;32m      <a href='vscode-notebook-cell:/Users/robertpraas/Desktop/ThoughtSource/notebooks/reflection_messages/reflection_experiments_Robert.ipynb#Y140sZmlsZQ%3D%3D?line=1'>2</a>\u001b[0m absolute_path \u001b[39m=\u001b[39m \u001b[39m\"\u001b[39m\u001b[39m/Users/robertpraas/Desktop/ThoughtSource/notebooks/reflection_messages/input_system/system_template_12_eval.yaml\u001b[39m\u001b[39m\"\u001b[39m\n\u001b[1;32m      <a href='vscode-notebook-cell:/Users/robertpraas/Desktop/ThoughtSource/notebooks/reflection_messages/reflection_experiments_Robert.ipynb#Y140sZmlsZQ%3D%3D?line=2'>3</a>\u001b[0m system_evaluate(ob_zhou_12,\u001b[39m'\u001b[39m\u001b[39mgpt-3.5-turbo\u001b[39m\u001b[39m'\u001b[39m,absolute_path)\n\u001b[0;32m----> <a href='vscode-notebook-cell:/Users/robertpraas/Desktop/ThoughtSource/notebooks/reflection_messages/reflection_experiments_Robert.ipynb#Y140sZmlsZQ%3D%3D?line=3'>4</a>\u001b[0m med_zhou\u001b[39m.\u001b[39mdump(\u001b[39m\"\u001b[39m\u001b[39mob_template_12_chatgpt\u001b[39m\u001b[39m\"\u001b[39m)\n",
      "\u001b[0;31mNameError\u001b[0m: name 'med_zhou' is not defined"
     ]
    }
   ],
   "source": [
    "ob_zhou_12 = Collection.from_json(\"openbook_zhou_eval_chatgpt.json\")\n",
    "absolute_path = \"/Users/robertpraas/Desktop/ThoughtSource/notebooks/reflection_messages/input_system/system_template_12_eval.yaml\"\n",
    "system_evaluate(ob_zhou_12,'gpt-3.5-turbo',absolute_path)\n",
    "ob_zhou_12.dump(\"ob_template_12_chatgpt\")\n",
    "\n"
   ]
  },
  {
   "cell_type": "code",
   "execution_count": 25,
   "metadata": {},
   "outputs": [],
   "source": [
    "ob_zhou_12 = Collection.from_json(\"ob_template_12_chatgpt\")"
   ]
  },
  {
   "cell_type": "code",
   "execution_count": 26,
   "metadata": {},
   "outputs": [
    {
     "name": "stdout",
     "output_type": "stream",
     "text": [
      "wrong output found\n",
      "wrong output found\n",
      "wrong output found\n",
      "wrong output found\n",
      "wrong output found\n",
      "obj_11 [9, 9, 9, 9, 10, 10, 10, 10, 9, 9, 10, 9, 10, 8, 9, 9, 9, 9, 9, 9, 9, 9, 10, 10, 10, 10, 10, 8, 9, 10, 9, 10, 9, 9, 9, 10, 10, 9, 9, 9, 9, 9, 10, 9, 10, 9, 10, 9, 10, 9, 9, 9, 9, 10, 9, 9, 9, 10, 9, 9, 9, 9, 10, 9, 10, 10, 10, 10, 9, 9, 10, 9, 9, 10, 8, 10, 10, 10, 9, 9, 10, 10, 9, 10, 10, 10, 10, 9, 9, 10, 10, 9, 10, 9, 10]\n",
      "obj_6 [8, 9, 8, 8, 10, 9, 9, 9, 8, 8, 9, 7, 9, 7, 7, 8, 8, 7, 8, 8, 8, 8, 9, 10, 9, 10, 8, 7, 8, 8, 8, 10, 9, 8, 8, 8, 9, 9, 8, 8, 8, 9, 10, 8, 10, 8, 10, 8, 9, 8, 8, 8, 8, 9, 8, 8, 8, 9, 8, 9, 8, 8, 9, 8, 9, 9, 9, 9, 8, 8, 9, 8, 8, 9, 7, 9, 9, 9, 8, 8, 9, 10, 8, 9, 9, 9, 9, 8, 8, 9, 10, 8, 10, 8, 9]\n",
      "Overall score [None, None, None, None, None, None, None, None, None, None, None, None, None, None, None, None, None, None, None, None, None, None, None, None, None, None, None, None, None, None, None, None, None, None, None, None, None, None, None, None, None, None, None, None, None, None, None, None, None, 7.9, None, None, None, None, None, None, None, None, None, None, None, None, None, None, None, None, None, None, None, None, None, None, None, None, None, None, None, None, None, None, None, None, None, None, None, None, None, None, None, None, None, None, None, None, None]\n",
      "Comments [None, None, None, None, None, None, None, None, None, None, 'The response accurately interprets the question and provides a clear and concise answer. The reasoning is sound and takes into account all relevant information. The response is sensitive to the numerical information provided and accurately incorporates it into the answer. The response considers all relevant reasoning strategies and selects the most appropriate one. The reasoning is structured and provides a clear explanation of the equinox. The response gives appropriate priorities to different considerations based on their relevance and importance. The response lists and considers all relevant underlying assumptions. The response is plausible, logically valid, sound, consistent, and coherent. The statements in the response are appropriately supported by references to evidence. The response contains accurate, relevant, and up-to-date information, ensuring that the content is both educational and engaging. The response provides a single final answer based on the reasoning and verifies whether it corresponds to one of the answer', None, None, None, None, None, None, None, None, None, None, None, None, None, None, None, None, None, None, None, None, None, None, None, None, None, None, None, None, None, None, None, None, None, None, None, None, None, None, None, None, None, None, None, None, None, None, None, None, None, None, None, None, None, None, None, 'The response accurately interprets the question and provides a clear and concise answer. The reasoning is sound and supported by evidence. The response considers all relevant information and avoids irrelevant information. The numerical information provided is accurately interpreted and incorporated into the response. The response considers all relevant reasoning strategies and selects the most appropriate one. The reasoning is structured and at an appropriate level of detail. The response gives appropriate priorities to different considerations based on their relevance and importance. The response lists and considers all relevant underlying assumptions. The response is plausible, logically valid, sound, consistent, and coherent. The statements in the response are appropriately supported by references to evidence. The response contains accurate, relevant, and up-to-date information, ensuring that the content is both educational and engaging. The response provides a single final answer based on the reasoning and verifies whether it corresponds to one of', None, None, None, None, None, None, None, None, None, None, None, None, None, None, None, None, None, None, ['The response accurately interprets the question and breaks it down if necessary.', 'The response considers all relevant information and specifically avoids considering irrelevant information.', 'The response is sensitive to the numerical information provided by the user, accurately interpreting and incorporating it into the response.', 'The response considers all relevant reasoning strategies and selects the most appropriate reasoning strategy.', 'The reasoning in the response is structured at an appropriate level of detail, but could benefit from more explicit sub-questions or reasoning steps.', 'The response gives appropriate priorities to different considerations based on their relevance and importance.', 'The response lists and considers all relevant underlying assumptions.', 'The response is plausible, logically valid, sound, consistent, and coherent.', 'The statements in the response are appropriately supported by references to evidence.', 'The response contains accurate, relevant, and up-to-date information, ensuring'], None, None, None, None, None, None, None, None, None]\n",
      "obj_4 [8, 9, 8, 9, 10, 10, 10, 10, 8, 8, 10, 7, 10, 7, 7, 8, 8, 7, 8, 8, 8, 9, 10, 10, 10, 10, 9, 7, 8, 7, 8, 10, 8, 7, 8, 9, 10, 9, 8, 8, 8, 9, 10, 7, 10, 8, 10, 8, 10, 8, 8, 8, 8, 10, 8, 7, 9, 8, 8, 9, 8, 8, 10, 8, 10, 10, 10, 10, 8, 8, 8, 8, 8, 10, 7, 10, 9, 9, 8, 8, 9, 10, 8, 10, 10, 10, 10, 8, 8, 9, 10, 9, 10, 8, 10]\n",
      "obj_9 [6, 7, 6, 8, 10, 7, 7, 8, 6, 6, 8, 6, 8, 5, 5, 7, 6, 4, 6, 6, 6, 7, 8, 10, 8, 10, 6, 5, 7, 7, 6, 10, 7, 6, 8, 7, 7, 7, 6, 7, 7, 7, 7, 6, 8, 7, 10, 6, 7, 6, 6, 6, 7, 8, 6, 6, 7, 9, 7, 7, 5, 6, 7, 6, 8, 7, 9, 8, 6, 6, 7, 6, 7, 7, 6, 8, 8, 7, 6, 6, 7, 10, 6, 7, 8, 8, 7, 6, 6, 8, 10, 7, 10, 6, 8]\n",
      "obj_2 [9, 10, 9, 9, 10, 10, 10, 10, 10, 9, 10, 9, 10, 9, 10, 10, 10, 10, 10, 9, 10, 9, 10, 10, 10, 10, 10, 9, 9, 10, 9, 10, 10, 9, 10, 10, 10, 10, 9, 9, 10, 10, 10, 10, 10, 9, 10, 10, 10, 10, 10, 10, 9, 10, 10, 9, 9, 10, 9, 10, 10, 10, 10, 9, 10, 10, 10, 10, 10, 10, 10, 10, 9, 10, 9, 10, 10, 10, 10, 9, 10, 10, 10, 10, 10, 10, 10, 9, 9, 10, 10, 10, 10, 9, 10]\n",
      "obj_3 [7, 8, 7, 9, 10, 9, 9, 9, 8, 7, 10, 7, 7, 7, 7, 8, 7, 5, 9, 7, 9, 8, 9, 10, 9, 10, 8, 7, 8, 9, 7, 10, 8, 7, 8, 9, 8, 9, 7, 8, 9, 8, 10, 6, 8, 7, 10, 8, 8, 7, 7, 7, 8, 9, 7, 7, 9, 9, 8, 9, 8, 8, 8, 7, 8, 9, 10, 9, 8, 7, 9, 8, 7, 9, 8, 9, 9, 9, 8, 7, 9, 10, 8, 9, 9, 10, 9, 7, 7, 9, 10, 7, 10, 7, 8]\n",
      "obj_10 [7, 8, 8, 8, 10, 8, 8, 9, 7, 8, 10, 8, 9, 6, 6, 8, 7, 7, 7, 8, 7, 8, 9, 10, 8, 10, 8, 6, 8, 8, 7, 10, 8, 7, 9, 7, 8, 8, 8, 8, 8, 8, 8, 8, 8, 8, 10, 7, 8, 8, 7, 7, 8, 9, 8, 8, 8, 9, 8, 8, 6, 7, 8, 8, 9, 8, 10, 9, 7, 7, 8, 7, 8, 8, 7, 9, 9, 8, 7, 8, 8, 10, 7, 8, 9, 8, 8, 7, 8, 9, 10, 8, 10, 7, 9]\n",
      "Overall Score [None, None, None, None, None, None, None, None, None, None, 9.2, None, None, None, None, None, None, None, None, None, None, None, None, None, None, None, None, None, None, None, None, None, None, None, None, None, None, None, None, None, None, None, None, None, None, None, None, None, None, None, None, None, None, None, 7.9, None, None, None, None, None, None, None, None, None, None, None, 9.4, None, None, None, None, None, None, None, None, None, None, None, None, None, None, None, None, None, None, 9.1, None, None, None, None, None, None, None, None, None]\n",
      "obj_5 [7, 8, 7, 8, 10, 8, 8, 8, 7, 7, 8, 7, 9, 6, 6, 7, 7, 6, 7, 7, 7, 8, 8, 10, 8, 10, 7, 6, 7, 6, 7, 10, 8, 6, 7, 8, 9, 8, 7, 8, 7, 8, 8, 8, 8, 7, 10, 7, 8, 7, 7, 7, 7, 8, 7, 7, 8, 8, 7, 8, 7, 7, 8, 7, 9, 8, 8, 9, 7, 7, 8, 7, 7, 8, 6, 8, 8, 8, 7, 7, 8, 10, 7, 8, 8, 8, 8, 7, 7, 8, 10, 8, 8, 7, 9]\n",
      "obj_8 [9, 10, 9, 9, 10, 10, 10, 10, 9, 9, 10, 9, 10, 8, 8, 9, 9, 9, 9, 9, 9, 9, 10, 10, 10, 10, 10, 8, 9, 9, 9, 10, 9, 8, 10, 10, 10, 10, 9, 9, 9, 9, 10, 9, 10, 9, 10, 9, 10, 9, 9, 9, 9, 10, 9, 9, 9, 10, 9, 10, 9, 9, 9, 9, 10, 10, 10, 10, 9, 9, 9, 9, 9, 10, 9, 10, 10, 10, 9, 9, 10, 10, 9, 10, 10, 10, 10, 9, 9, 10, 10, 9, 10, 9, 10]\n",
      "obj_7 [7, 8, 7, 9, 10, 8, 9, 8, 7, 7, 9, 7, 9, 6, 6, 8, 8, 6, 7, 7, 8, 8, 9, 10, 9, 10, 8, 6, 8, 7, 8, 10, 8, 7, 8, 8, 9, 9, 8, 8, 8, 8, 10, 7, 10, 8, 10, 8, 9, 7, 8, 7, 8, 10, 7, 7, 8, 8, 8, 8, 7, 8, 8, 8, 9, 9, 9, 9, 8, 8, 8, 8, 8, 9, 7, 9, 9, 9, 8, 7, 8, 10, 8, 9, 9, 9, 9, 7, 7, 9, 10, 8, 10, 7, 8]\n",
      "obj_1 [8, 9, 8, 8, 10, 8, 8, 9, 8, 8, 10, 8, 8, 8, 8, 8, 8, 8, 8, 8, 8, 8, 9, 10, 10, 10, 8, 8, 8, 8, 8, 10, 9, 8, 8, 8, 10, 8, 8, 8, 8, 8, 8, 8, 8, 8, 10, 8, 9, 8, 8, 8, 8, 9, 8, 8, 9, 8, 8, 8, 8, 8, 8, 8, 9, 8, 10, 10, 8, 8, 8, 8, 8, 8, 8, 8, 8, 8, 8, 8, 8, 10, 8, 8, 9, 10, 8, 8, 8, 8, 10, 8, 10, 8, 9]\n"
     ]
    },
    {
     "ename": "TypeError",
     "evalue": "unsupported operand type(s) for +: 'int' and 'NoneType'",
     "output_type": "error",
     "traceback": [
      "\u001b[0;31m---------------------------------------------------------------------------\u001b[0m",
      "\u001b[0;31mTypeError\u001b[0m                                 Traceback (most recent call last)",
      "\u001b[1;32m/Users/robertpraas/Desktop/ThoughtSource/notebooks/reflection_messages/reflection_experiments_Robert.ipynb Cell 54\u001b[0m in \u001b[0;36m<cell line: 1>\u001b[0;34m()\u001b[0m\n\u001b[0;32m----> <a href='vscode-notebook-cell:/Users/robertpraas/Desktop/ThoughtSource/notebooks/reflection_messages/reflection_experiments_Robert.ipynb#Y141sZmlsZQ%3D%3D?line=0'>1</a>\u001b[0m scores_per_item, scores_per_objective, df \u001b[39m=\u001b[39m process_new_data(ob_zhou_12,idx_cot\u001b[39m=\u001b[39;49m\u001b[39m1\u001b[39;49m,dataset\u001b[39m=\u001b[39;49m\u001b[39m'\u001b[39;49m\u001b[39mopen_book_qa\u001b[39;49m\u001b[39m'\u001b[39;49m,split\u001b[39m=\u001b[39;49m\u001b[39m'\u001b[39;49m\u001b[39mtest\u001b[39;49m\u001b[39m'\u001b[39;49m)\n",
      "\u001b[1;32m/Users/robertpraas/Desktop/ThoughtSource/notebooks/reflection_messages/reflection_experiments_Robert.ipynb Cell 54\u001b[0m in \u001b[0;36mprocess_new_data\u001b[0;34m(new_data, idx_cot, dataset, split)\u001b[0m\n\u001b[1;32m     <a href='vscode-notebook-cell:/Users/robertpraas/Desktop/ThoughtSource/notebooks/reflection_messages/reflection_experiments_Robert.ipynb#Y141sZmlsZQ%3D%3D?line=21'>22</a>\u001b[0m         \u001b[39mprint\u001b[39m(key,value)\n\u001b[1;32m     <a href='vscode-notebook-cell:/Users/robertpraas/Desktop/ThoughtSource/notebooks/reflection_messages/reflection_experiments_Robert.ipynb#Y141sZmlsZQ%3D%3D?line=24'>25</a>\u001b[0m \u001b[39m# Calculate the average of each list\u001b[39;00m\n\u001b[0;32m---> <a href='vscode-notebook-cell:/Users/robertpraas/Desktop/ThoughtSource/notebooks/reflection_messages/reflection_experiments_Robert.ipynb#Y141sZmlsZQ%3D%3D?line=25'>26</a>\u001b[0m averaged_data \u001b[39m=\u001b[39m {key: \u001b[39msum\u001b[39m(value) \u001b[39m/\u001b[39m \u001b[39mlen\u001b[39m(value) \u001b[39mfor\u001b[39;00m key, value \u001b[39min\u001b[39;00m scores_per_objective\u001b[39m.\u001b[39mitems()}\n\u001b[1;32m     <a href='vscode-notebook-cell:/Users/robertpraas/Desktop/ThoughtSource/notebooks/reflection_messages/reflection_experiments_Robert.ipynb#Y141sZmlsZQ%3D%3D?line=27'>28</a>\u001b[0m \u001b[39m# Convert the averaged data dictionary to a Pandas DataFrame\u001b[39;00m\n\u001b[1;32m     <a href='vscode-notebook-cell:/Users/robertpraas/Desktop/ThoughtSource/notebooks/reflection_messages/reflection_experiments_Robert.ipynb#Y141sZmlsZQ%3D%3D?line=28'>29</a>\u001b[0m df \u001b[39m=\u001b[39m pd\u001b[39m.\u001b[39mDataFrame\u001b[39m.\u001b[39mfrom_dict(averaged_data, orient\u001b[39m=\u001b[39m\u001b[39m'\u001b[39m\u001b[39mindex\u001b[39m\u001b[39m'\u001b[39m, columns\u001b[39m=\u001b[39m[\u001b[39m'\u001b[39m\u001b[39mAverage\u001b[39m\u001b[39m'\u001b[39m])\n",
      "\u001b[1;32m/Users/robertpraas/Desktop/ThoughtSource/notebooks/reflection_messages/reflection_experiments_Robert.ipynb Cell 54\u001b[0m in \u001b[0;36m<dictcomp>\u001b[0;34m(.0)\u001b[0m\n\u001b[1;32m     <a href='vscode-notebook-cell:/Users/robertpraas/Desktop/ThoughtSource/notebooks/reflection_messages/reflection_experiments_Robert.ipynb#Y141sZmlsZQ%3D%3D?line=21'>22</a>\u001b[0m         \u001b[39mprint\u001b[39m(key,value)\n\u001b[1;32m     <a href='vscode-notebook-cell:/Users/robertpraas/Desktop/ThoughtSource/notebooks/reflection_messages/reflection_experiments_Robert.ipynb#Y141sZmlsZQ%3D%3D?line=24'>25</a>\u001b[0m \u001b[39m# Calculate the average of each list\u001b[39;00m\n\u001b[0;32m---> <a href='vscode-notebook-cell:/Users/robertpraas/Desktop/ThoughtSource/notebooks/reflection_messages/reflection_experiments_Robert.ipynb#Y141sZmlsZQ%3D%3D?line=25'>26</a>\u001b[0m averaged_data \u001b[39m=\u001b[39m {key: \u001b[39msum\u001b[39;49m(value) \u001b[39m/\u001b[39m \u001b[39mlen\u001b[39m(value) \u001b[39mfor\u001b[39;00m key, value \u001b[39min\u001b[39;00m scores_per_objective\u001b[39m.\u001b[39mitems()}\n\u001b[1;32m     <a href='vscode-notebook-cell:/Users/robertpraas/Desktop/ThoughtSource/notebooks/reflection_messages/reflection_experiments_Robert.ipynb#Y141sZmlsZQ%3D%3D?line=27'>28</a>\u001b[0m \u001b[39m# Convert the averaged data dictionary to a Pandas DataFrame\u001b[39;00m\n\u001b[1;32m     <a href='vscode-notebook-cell:/Users/robertpraas/Desktop/ThoughtSource/notebooks/reflection_messages/reflection_experiments_Robert.ipynb#Y141sZmlsZQ%3D%3D?line=28'>29</a>\u001b[0m df \u001b[39m=\u001b[39m pd\u001b[39m.\u001b[39mDataFrame\u001b[39m.\u001b[39mfrom_dict(averaged_data, orient\u001b[39m=\u001b[39m\u001b[39m'\u001b[39m\u001b[39mindex\u001b[39m\u001b[39m'\u001b[39m, columns\u001b[39m=\u001b[39m[\u001b[39m'\u001b[39m\u001b[39mAverage\u001b[39m\u001b[39m'\u001b[39m])\n",
      "\u001b[0;31mTypeError\u001b[0m: unsupported operand type(s) for +: 'int' and 'NoneType'"
     ]
    }
   ],
   "source": [
    "scores_per_item, scores_per_objective, df = process_new_data(ob_zhou_12,idx_cot=1,dataset='open_book_qa',split='test')"
   ]
  },
  {
   "cell_type": "code",
   "execution_count": null,
   "metadata": {},
   "outputs": [],
   "source": [
    "# to be ran\n",
    "#for template 14\n",
    "from cot import Collection\n",
    "ob_zhou_14 = Collection.from_json(\"openbook_zhou_eval_chatgpt.json\")\n",
    "absolute_path = \"/Users/robertpraas/Desktop/ThoughtSource/notebooks/reflection_messages/input_system/system_template_14_eval.yaml\"\n",
    "system_evaluate(ob_zhou_14,'gpt-3.5-turbo',absolute_path)\n",
    "ob_zhou_14.dump(\"ob_template_14_chatgpt\") \n"
   ]
  },
  {
   "cell_type": "code",
   "execution_count": 28,
   "metadata": {},
   "outputs": [
    {
     "name": "stdout",
     "output_type": "stream",
     "text": [
      "wrong output found\n",
      "wrong output found\n",
      "wrong output found\n",
      "wrong output found\n",
      "wrong output found\n",
      "wrong output found\n",
      "wrong output found\n",
      "obj_11 [10, 9, 10, 10, 10, 10, 10, 10, 10, 9, 10, 9, 10, 10, 10, 10, 10, 9, 10, 9, 10, 10, 10, 10, 10, 10, 10, 10, 10, 10, 10, 1, 10, 9, 10, 10, 10, 10, 9, 10, 10, 9, 10, 9, 10, 10, 10, 10, 10, 10, 10, 10, 10, 10, 10, 10, 10, 9, 10, 10, 10, 10, 10, 10, 10, 10, 10, 10, 10, 10, 10, 10, 9, 10, 10, 10, 10, 9, 10, 10, 10, 10, 10, 10, 10, 10, 10, 10, 10, 10, 10, 9, 10]\n",
      "obj_6 [9, 9, 9, 10, 10, 9, 10, 9, 9, 8, 10, 8, 10, 9, 9, 9, 8, 8, 10, 9, 10, 10, 10, 10, 10, 10, 10, 9, 9, 10, 10, 10, 10, 8, 9, 10, 9, 10, 9, 10, 9, 9, 10, 9, 10, 9, 10, 10, 9, 9, 9, 9, 10, 10, 9, 10, 10, 8, 9, 10, 9, 9, 10, 10, 10, 10, 10, 9, 10, 9, 9, 10, 8, 10, 10, 9, 9, 8, 10, 10, 8, 10, 10, 10, 9, 9, 10, 9, 10, 9, 10, 8, 10]\n",
      "obj_4 [10, 9, 10, 10, 10, 10, 10, 10, 10, 8, 10, 8, 10, 10, 10, 10, 8, 7, 10, 9, 10, 10, 10, 10, 10, 10, 10, 10, 10, 10, 10, 10, 10, 8, 10, 10, 10, 10, 9, 10, 10, 9, 10, 8, 10, 10, 10, 10, 10, 10, 10, 10, 10, 10, 9, 10, 10, 8, 10, 10, 8, 10, 10, 10, 10, 10, 10, 10, 10, 10, 10, 10, 8, 10, 10, 10, 10, 8, 10, 10, 8, 10, 10, 10, 10, 10, 10, 9, 10, 10, 10, 8, 10]\n",
      "obj_9 [7, 7, 8, 1, 9, 8, 10, 8, 8, 6, 8, 7, 10, 8, 7, 8, 6, 6, 9, 7, 10, 10, 10, 10, 9, 10, 8, 8, 8, 10, 9, 10, 7, 7, 9, 10, 8, 9, 7, 9, 8, 7, 10, 7, 10, 8, 10, 8, 8, 8, 8, 8, 8, 10, 8, 10, 10, 7, 8, 8, 6, 8, 8, 9, 10, 8, 8, 7, 9, 8, 9, 10, 7, 10, 10, 8, 8, 6, 10, 10, 6, 10, 10, 10, 8, 8, 9, 8, 10, 8, 10, 6, 9]\n",
      "obj_2 [10, 10, 10, 10, 10, 10, 10, 10, 10, 10, 10, 9, 10, 10, 10, 10, 10, 10, 10, 10, 10, 10, 10, 10, 10, 10, 10, 10, 10, 10, 10, 10, 10, 10, 10, 10, 10, 10, 10, 10, 10, 10, 10, 10, 10, 10, 10, 10, 10, 10, 10, 10, 10, 10, 10, 10, 10, 9, 10, 10, 10, 10, 10, 10, 10, 10, 10, 10, 10, 10, 10, 10, 9, 10, 10, 10, 10, 10, 10, 10, 10, 10, 10, 10, 10, 10, 10, 10, 10, 10, 10, 9, 10]\n",
      "obj_3 [8, 8, 8, 1, 9, 10, 10, 8, 8, 7, 9, 7, 8, 8, 8, 8, 5, 5, 10, 8, 10, 10, 10, 10, 8, 10, 8, 8, 9, 10, 9, 10, 8, 7, 8, 10, 8, 10, 7, 9, 9, 8, 10, 7, 10, 8, 10, 8, 8, 8, 8, 8, 9, 10, 8, 10, 10, 7, 8, 9, 7, 8, 8, 9, 10, 9, 9, 8, 9, 9, 8, 10, 8, 10, 10, 8, 8, 7, 10, 10, 7, 10, 10, 10, 8, 8, 9, 8, 10, 8, 10, 7, 9]\n",
      "obj_10 [8, 8, 9, 10, 10, 9, 10, 9, 10, 7, 9, 8, 10, 9, 8, 10, 8, 7, 9, 8, 10, 10, 10, 10, 10, 10, 10, 9, 9, 10, 10, 10, 9, 8, 10, 10, 9, 10, 8, 10, 9, 8, 10, 8, 10, 10, 10, 9, 10, 9, 9, 9, 9, 10, 9, 10, 10, 8, 9, 9, 7, 9, 10, 10, 10, 10, 9, 8, 10, 8, 9, 10, 8, 10, 10, 9, 10, 8, 10, 10, 8, 10, 10, 10, 9, 10, 9, 9, 10, 10, 10, 8, 10]\n",
      "obj_5 [9, 8, 9, 10, 9, 8, 10, 9, 9, 7, 9, 8, 9, 9, 9, 9, 7, 6, 9, 8, 10, 10, 10, 10, 9, 10, 9, 9, 9, 9, 9, 10, 9, 7, 9, 10, 9, 9, 8, 9, 9, 8, 10, 8, 10, 9, 10, 9, 9, 9, 9, 9, 9, 10, 9, 10, 10, 7, 9, 9, 8, 9, 9, 10, 10, 9, 9, 9, 9, 9, 9, 10, 7, 10, 10, 9, 9, 8, 10, 10, 7, 10, 10, 10, 9, 9, 9, 8, 10, 9, 10, 7, 10]\n",
      "obj_8 [10, 9, 10, 10, 10, 10, 10, 10, 10, 9, 10, 9, 10, 10, 10, 10, 9, 9, 10, 9, 10, 10, 10, 10, 10, 10, 10, 10, 10, 10, 10, 10, 10, 9, 10, 10, 10, 10, 9, 10, 10, 9, 10, 9, 10, 10, 10, 10, 10, 10, 10, 10, 10, 10, 10, 10, 10, 9, 10, 10, 9, 10, 10, 10, 10, 10, 10, 10, 10, 10, 10, 10, 9, 10, 10, 10, 10, 9, 10, 10, 9, 10, 10, 10, 10, 10, 10, 10, 10, 10, 10, 9, 10]\n",
      "obj_7 [9, 8, 9, 10, 10, 9, 10, 9, 9, 8, 9, 8, 10, 9, 9, 9, 8, 7, 10, 8, 10, 10, 10, 10, 10, 10, 10, 9, 10, 10, 10, 10, 10, 8, 9, 10, 9, 10, 8, 10, 9, 8, 10, 8, 10, 9, 10, 9, 9, 9, 9, 9, 10, 10, 9, 10, 10, 8, 9, 10, 8, 9, 9, 10, 10, 9, 10, 10, 10, 9, 10, 10, 8, 10, 10, 9, 9, 8, 10, 10, 8, 10, 10, 10, 9, 9, 10, 9, 10, 9, 10, 7, 10]\n",
      "obj_1 [10, 9, 9, 10, 10, 9, 10, 10, 10, 8, 10, 9, 10, 10, 10, 10, 8, 8, 10, 9, 10, 10, 10, 10, 10, 10, 10, 10, 10, 10, 10, 10, 10, 8, 10, 10, 10, 10, 8, 10, 10, 9, 10, 9, 10, 10, 10, 10, 10, 10, 10, 10, 10, 10, 10, 10, 10, 8, 10, 10, 8, 10, 10, 10, 10, 10, 10, 10, 10, 10, 10, 10, 8, 10, 10, 9, 10, 9, 10, 10, 8, 10, 10, 10, 10, 10, 10, 9, 10, 10, 10, 8, 10]\n"
     ]
    }
   ],
   "source": [
    "scores_per_item, scores_per_objective, df = process_new_data(ob_zhou_14,idx_cot=1,dataset='open_book_qa',split='test')"
   ]
  },
  {
   "cell_type": "code",
   "execution_count": 45,
   "metadata": {},
   "outputs": [
    {
     "name": "stdout",
     "output_type": "stream",
     "text": [
      "         Average\n",
      "obj_1   9.677419\n",
      "obj_2   9.956989\n",
      "obj_3   8.537634\n",
      "obj_4   9.666667\n",
      "obj_5   9.010753\n",
      "obj_6   9.397849\n",
      "obj_7   9.301075\n",
      "obj_8   9.827957\n",
      "obj_9   8.344086\n",
      "obj_10  9.258065\n",
      "obj_11  9.763441\n",
      "scores true: 9.269972451790634\n",
      "scores false: 9.511784511784512\n"
     ]
    },
    {
     "data": {
      "image/png": "[encoded data removed]",
      "text/plain": [
       "<Figure size 432x288 with 1 Axes>"
      ]
     },
     "metadata": {
      "needs_background": "light"
     },
     "output_type": "display_data"
    },
    {
     "data": {
      "image/png": "[encoded data removed]",
      "text/plain": [
       "<Figure size 432x288 with 1 Axes>"
      ]
     },
     "metadata": {
      "needs_background": "light"
     },
     "output_type": "display_data"
    }
   ],
   "source": [
    "print(df)\n",
    "avg_true_false(ob_zhou_14,'open_book_qa','test')\n",
    "freq_bar_plot(scores_per_item)\n",
    "avg_item_plot(scores_per_objective)"
   ]
  },
  {
   "attachments": {},
   "cell_type": "markdown",
   "metadata": {},
   "source": [
    "## try written feedback"
   ]
  },
  {
   "cell_type": "code",
   "execution_count": 46,
   "metadata": {},
   "outputs": [],
   "source": [
    "med_zhou = Collection.from_json(\"med_qa_zhou_eval.json\")\n",
    "med_zhou = med_zhou.select(split=\"test\", number_samples=1, random_samples=True, seed=0)\n"
   ]
  },
  {
   "cell_type": "code",
   "execution_count": 56,
   "metadata": {},
   "outputs": [
    {
     "data": {
      "text/plain": [
       "| Name   | Train   | Valid   |   Test |\n",
       "|--------|---------|---------|--------|\n",
       "| med_qa | -       | -       |      1 |\n",
       "\n",
       "Not loaded: ['aqua', 'asdiv', 'commonsense_qa', 'entailment_bank', 'gsm8k', 'mawps', 'med_qa_open', 'medmc_qa', '_init_', 'mmlu_clinical_knowledge', 'mmlu_college_biology', 'mmlu_college_medicine', 'mmlu_medical_genetics', 'mmlu_professional_medicine', '_init_', 'mmlu_anatomy', 'open_book_qa', 'pubmed_qa', 'qed', 'strategy_qa', 'svamp', 'worldtree']"
      ]
     },
     "execution_count": 56,
     "metadata": {},
     "output_type": "execute_result"
    }
   ],
   "source": [
    "med_zhou"
   ]
  },
  {
   "cell_type": "code",
   "execution_count": 50,
   "metadata": {},
   "outputs": [
    {
     "name": "stdout",
     "output_type": "stream",
     "text": [
      "Generating med_qa...\n"
     ]
    },
    {
     "data": {
      "application/vnd.jupyter.widget-view+json": {
       "model_id": "9a8ed0169db74d42bbe9442ab8a71496",
       "version_major": 2,
       "version_minor": 0
      },
      "text/plain": [
       "  0%|          | 0/1 [00:00<?, ?ex/s]"
      ]
     },
     "metadata": {},
     "output_type": "display_data"
    }
   ],
   "source": [
    "absolute_path = \"./input_system/system_template_15_eval.yaml\"\n",
    "system_evaluate(med_zhou,'gpt-3.5-turbo',absolute_path)\n",
    "\n"
   ]
  },
  {
   "cell_type": "code",
   "execution_count": 54,
   "metadata": {},
   "outputs": [
    {
     "data": {
      "text/plain": [
       "\"obj_1: The response accurately interprets the question and breaks it down into relevant components, including the patient's symptoms, the findings on workup, and the answer options.\\n- 10\\n\\nobj_2: The response considers all relevant information, including the patient's symptoms, the findings on workup, and the characteristics of each answer option. The response specifically avoids considering irrelevant information.\\n- 10\\n\\nobj_3: The response is sensitive to the numerical information provided by the user, accurately interpreting and incorporating it into the response. The response notes the absence of germinal centers in the lymph node biopsy, which suggests a T-cell deficiency.\\n- 10\\n\\nobj_4: The response considers all relevant reasoning strategies, including the characteristics of each answer option and the patient's symptoms and findings on workup. The response selects the most appropriate reasoning strategy by focusing on the T-cell deficiency suggested by the lymph node biopsy.\\n- 10\\n\\nobj_5: The reasoning in the response is structured through a clear and concise analysis of each answer option, with a focus on the T-cell deficiency suggested by the lymph node biopsy. The response is structured at an appropriate level of detail.\\n- 10\\n\\nobj_6: The response gives appropriate priorities to different considerations based\""
      ]
     },
     "execution_count": 54,
     "metadata": {},
     "output_type": "execute_result"
    }
   ],
   "source": [
    "med_zhou['med_qa']['test'][0]['generated_cot'][1]['cot']"
   ]
  },
  {
   "cell_type": "code",
   "execution_count": 55,
   "metadata": {},
   "outputs": [
    {
     "data": {
      "text/plain": [
       "\"obj_1: The response accurately interprets the question and breaks it down into relevant components, including the patient's symptoms, the findings on workup, and the answer options.\\n- 10\\n\\nobj_2: The response considers all relevant information, including the patient's symptoms, the findings on workup, and the characteristics of each answer option. The response specifically avoids considering irrelevant information.\\n- 10\\n\\nobj_3: The response is sensitive to the numerical information provided by the user, accurately interpreting and incorporating it into the response. The response notes the absence of germinal centers in the lymph node biopsy, which suggests a T-cell deficiency.\\n- 10\\n\\nobj_4: The response considers all relevant reasoning strategies, including the characteristics of each answer option and the patient's symptoms and findings on workup. The response selects the most appropriate reasoning strategy by focusing on the T-cell deficiency suggested by the lymph node biopsy.\\n- 10\\n\\nobj_5: The reasoning in the response is structured through a clear and concise analysis of each answer option, with a focus on the T-cell deficiency suggested by the lymph node biopsy. The response is structured at an appropriate level of detail.\\n- 10\\n\\nobj_6: The response gives appropriate priorities to different considerations based\""
      ]
     },
     "execution_count": 55,
     "metadata": {},
     "output_type": "execute_result"
    }
   ],
   "source": [
    "\"obj_1: The response accurately interprets the question and breaks it down into relevant components, including the patient's symptoms, the findings on workup, and the answer options.\\n- 10\\n\\nobj_2: The response considers all relevant information, including the patient's symptoms, the findings on workup, and the characteristics of each answer option. The response specifically avoids considering irrelevant information.\\n- 10\\n\\nobj_3: The response is sensitive to the numerical information provided by the user, accurately interpreting and incorporating it into the response. The response notes the absence of germinal centers in the lymph node biopsy, which suggests a T-cell deficiency.\\n- 10\\n\\nobj_4: The response considers all relevant reasoning strategies, including the characteristics of each answer option and the patient's symptoms and findings on workup. The response selects the most appropriate reasoning strategy by focusing on the T-cell deficiency suggested by the lymph node biopsy.\\n- 10\\n\\nobj_5: The reasoning in the response is structured through a clear and concise analysis of each answer option, with a focus on the T-cell deficiency suggested by the lymph node biopsy. The response is structured at an appropriate level of detail.\\n- 10\\n\\nobj_6: The response gives appropriate priorities to different considerations based\"\n"
   ]
  },
  {
   "cell_type": "code",
   "execution_count": 57,
   "metadata": {},
   "outputs": [
    {
     "name": "stdout",
     "output_type": "stream",
     "text": [
      "Generating med_qa...\n"
     ]
    },
    {
     "data": {
      "application/vnd.jupyter.widget-view+json": {
       "model_id": "69cb4c9cdc114ed2bc98eb69fddd7a2a",
       "version_major": 2,
       "version_minor": 0
      },
      "text/plain": [
       "  0%|          | 0/1 [00:00<?, ?ex/s]"
      ]
     },
     "metadata": {},
     "output_type": "display_data"
    }
   ],
   "source": [
    "absolute_path = \"./input_system/system_template_15_eval.yaml\"\n",
    "system_evaluate(med_zhou,'gpt-4',absolute_path)"
   ]
  },
  {
   "cell_type": "code",
   "execution_count": 59,
   "metadata": {},
   "outputs": [
    {
     "data": {
      "text/plain": [
       "'obj_1: \\n- Accurately interprets the question and breaks it down\\n- 10\\nobj_2: \\n- Considers all relevant information and avoids irrelevant information\\n- 10\\nobj_3: \\n- N/A (no numerical information provided)\\n- N/A\\nobj_4: \\n- Considers all relevant reasoning strategies and selects the most appropriate one\\n- 10\\nobj_5: \\n- Reasoning is structured through reasoning steps and sub-questions\\n- 10\\nobj_6: \\n- Gives appropriate priorities to different considerations based on their relevance and importance\\n- 10\\nobj_7: \\n- Lists and considers all relevant underlying assumptions\\n- 10\\nobj_8: \\n- Response is plausible, logically valid, sound, consistent, and coherent\\n- 10\\nobj_9: \\n- Statements are supported by references to evidence (symptoms, gene associations, and biopsy findings)\\n- 10\\nobj_10: \\n- Contains accurate, relevant, and up-to-date information\\n- 10\\nobj_11: \\n- Provides a single final answer based on the reasoning and verifies that it corresponds to one of the answer options\\n- 10'"
      ]
     },
     "execution_count": 59,
     "metadata": {},
     "output_type": "execute_result"
    }
   ],
   "source": [
    "med_zhou['med_qa']['test'][0]['generated_cot'][2]['cot']"
   ]
  },
  {
   "cell_type": "code",
   "execution_count": 64,
   "metadata": {},
   "outputs": [
    {
     "name": "stdout",
     "output_type": "stream",
     "text": [
      "Generating med_qa...\n"
     ]
    },
    {
     "data": {
      "application/vnd.jupyter.widget-view+json": {
       "model_id": "7ef3a63aa29f450ba063544997a22d6a",
       "version_major": 2,
       "version_minor": 0
      },
      "text/plain": [
       "  0%|          | 0/1 [00:00<?, ?ex/s]"
      ]
     },
     "metadata": {},
     "output_type": "display_data"
    }
   ],
   "source": [
    "absolute_path = \"./input_system/system_template_16_eval.yaml\"\n",
    "system_evaluate(med_zhou,'gpt-3.5-turbo',absolute_path)"
   ]
  },
  {
   "cell_type": "code",
   "execution_count": 65,
   "metadata": {},
   "outputs": [
    {
     "data": {
      "text/plain": [
       "\"obj_1: The response accurately interprets the question and breaks it down into relevant components, including the patient's symptoms, diagnostic findings, and potential causes.\\n- 10\\n\\nobj_2: The response considers all relevant information, including the patient's symptoms, diagnostic findings, and potential causes, while avoiding irrelevant information.\\n- 10\\n\\nobj_3: The response is sensitive to the numerical information provided by the user, accurately interpreting and incorporating it into the response by considering the absence of germinal centers in the lymph node biopsy as indicative of a T-cell deficiency.\\n- 9\\n\\nobj_4: The response considers all relevant reasoning strategies, including the use of the patient's symptoms and diagnostic findings to narrow down potential causes, and selects the most appropriate reasoning strategy by focusing on the absence of germinal centers in the lymph node biopsy as indicative of a T-cell deficiency.\\n- 9\\n\\nobj_5: The reasoning in the response is structured through a clear and concise analysis of each potential cause, with a focus on the patient's symptoms and diagnostic findings, and a logical progression towards the most likely cause.\\n- 9\\n\\nobj_6: The response gives appropriate priorities to different considerations based on their relevance and importance, with a focus on the absence of germ\""
      ]
     },
     "execution_count": 65,
     "metadata": {},
     "output_type": "execute_result"
    }
   ],
   "source": [
    "med_zhou['med_qa']['test'][0]['generated_cot'][5]['cot']"
   ]
  },
  {
   "cell_type": "code",
   "execution_count": 66,
   "metadata": {},
   "outputs": [
    {
     "name": "stdout",
     "output_type": "stream",
     "text": [
      "Generating med_qa...\n"
     ]
    },
    {
     "data": {
      "application/vnd.jupyter.widget-view+json": {
       "model_id": "07ae355b491b46249c38c3b12ad1a0bb",
       "version_major": 2,
       "version_minor": 0
      },
      "text/plain": [
       "  0%|          | 0/1 [00:00<?, ?ex/s]"
      ]
     },
     "metadata": {},
     "output_type": "display_data"
    }
   ],
   "source": [
    "absolute_path = \"./input_system/system_template_16_eval.yaml\"\n",
    "system_evaluate(med_zhou,'gpt-4',absolute_path)"
   ]
  },
  {
   "cell_type": "code",
   "execution_count": 69,
   "metadata": {},
   "outputs": [
    {
     "data": {
      "text/plain": [
       "'obj_1: \\n- The response interprets the question accurately and breaks it down by considering the symptoms and the possible causes.\\n- 10\\nobj_2: \\n- The response considers all relevant information from the question and answer options, and avoids considering irrelevant information.\\n- 10\\nobj_3: \\n- The response does not involve numerical information, so this objective is not applicable.\\n- N/A\\nobj_4: \\n- The response considers all relevant reasoning strategies by evaluating each answer option and selecting the most appropriate one based on the symptoms and findings.\\n- 10\\nobj_5: \\n- The reasoning in the response is structured through reasoning steps, evaluating each answer option and providing explanations for why they are less likely.\\n- 10\\nobj_6: \\n- The response gives appropriate priorities to different considerations based on their relevance and importance, focusing on the symptoms and findings.\\n- 10\\nobj_7: \\n- The response lists and considers the relevant underlying assumptions, such as the association between the genes and the disorders they cause.\\n- 10\\nobj_8: \\n- The response is plausible, logically valid, sound, consistent, and coherent.\\n- 10\\nobj_9: \\n- The statements in the response are'"
      ]
     },
     "execution_count": 69,
     "metadata": {},
     "output_type": "execute_result"
    }
   ],
   "source": [
    "med_zhou['med_qa']['test'][0]['generated_cot'][6]['cot']"
   ]
  },
  {
   "cell_type": "code",
   "execution_count": null,
   "metadata": {},
   "outputs": [],
   "source": [
    "#does not seem to work: tweak prompt"
   ]
  },
  {
   "attachments": {},
   "cell_type": "markdown",
   "metadata": {},
   "source": [
    "## GPT-4 assess GPT-3.5"
   ]
  },
  {
   "cell_type": "code",
   "execution_count": 76,
   "metadata": {},
   "outputs": [
    {
     "data": {
      "text/plain": [
       "| Name   | Train   | Valid   |   Test |\n",
       "|--------|---------|---------|--------|\n",
       "| med_qa | -       | -       |      5 |\n",
       "\n",
       "Not loaded: ['aqua', 'asdiv', 'commonsense_qa', 'entailment_bank', 'gsm8k', 'mawps', 'med_qa_open', 'medmc_qa', '_init_', 'mmlu_clinical_knowledge', 'mmlu_college_biology', 'mmlu_college_medicine', 'mmlu_medical_genetics', 'mmlu_professional_medicine', '_init_', 'mmlu_anatomy', 'open_book_qa', 'pubmed_qa', 'qed', 'strategy_qa', 'svamp', 'worldtree']"
      ]
     },
     "execution_count": 76,
     "metadata": {},
     "output_type": "execute_result"
    }
   ],
   "source": [
    "data = Collection.from_json(\"med_qa_zhou_eval.json\")\n",
    "data = data.select(split=\"test\", number_samples=5, random_samples=True, seed=0)\n",
    "data\n"
   ]
  },
  {
   "cell_type": "code",
   "execution_count": 77,
   "metadata": {},
   "outputs": [
    {
     "name": "stdout",
     "output_type": "stream",
     "text": [
      "Generating med_qa...\n"
     ]
    },
    {
     "data": {
      "application/vnd.jupyter.widget-view+json": {
       "model_id": "98344472b7214868b4b05301ebde8e65",
       "version_major": 2,
       "version_minor": 0
      },
      "text/plain": [
       "  0%|          | 0/5 [00:00<?, ?ex/s]"
      ]
     },
     "metadata": {},
     "output_type": "display_data"
    },
    {
     "ename": "TypeError",
     "evalue": "process_new_data() missing 2 required positional arguments: 'dataset' and 'split'",
     "output_type": "error",
     "traceback": [
      "\u001b[0;31m---------------------------------------------------------------------------\u001b[0m",
      "\u001b[0;31mTypeError\u001b[0m                                 Traceback (most recent call last)",
      "\u001b[1;32m/Users/robertpraas/Desktop/ThoughtSource/notebooks/reflection_messages/reflection_experiments_Robert.ipynb Cell 74\u001b[0m in \u001b[0;36m<cell line: 4>\u001b[0;34m()\u001b[0m\n\u001b[1;32m      <a href='vscode-notebook-cell:/Users/robertpraas/Desktop/ThoughtSource/notebooks/reflection_messages/reflection_experiments_Robert.ipynb#Y211sZmlsZQ%3D%3D?line=1'>2</a>\u001b[0m system_evaluate(data,\u001b[39m'\u001b[39m\u001b[39mgpt-4\u001b[39m\u001b[39m'\u001b[39m,absolute_path)\n\u001b[1;32m      <a href='vscode-notebook-cell:/Users/robertpraas/Desktop/ThoughtSource/notebooks/reflection_messages/reflection_experiments_Robert.ipynb#Y211sZmlsZQ%3D%3D?line=2'>3</a>\u001b[0m \u001b[39m# medqa_total.dump(\"med_qa_gpt_4_template_12\") \u001b[39;00m\n\u001b[0;32m----> <a href='vscode-notebook-cell:/Users/robertpraas/Desktop/ThoughtSource/notebooks/reflection_messages/reflection_experiments_Robert.ipynb#Y211sZmlsZQ%3D%3D?line=3'>4</a>\u001b[0m scores_per_item, scores_per_objective, df \u001b[39m=\u001b[39m process_new_data(data,idx_cot\u001b[39m=\u001b[39;49m\u001b[39m1\u001b[39;49m)\n",
      "\u001b[0;31mTypeError\u001b[0m: process_new_data() missing 2 required positional arguments: 'dataset' and 'split'"
     ]
    }
   ],
   "source": [
    "absolute_path = \"./input_system/system_template_14_eval.yaml\"\n",
    "system_evaluate(data,'gpt-4',absolute_path)\n",
    "# medqa_total.dump(\"med_qa_gpt_4_template_12\") \n"
   ]
  },
  {
   "cell_type": "code",
   "execution_count": 79,
   "metadata": {},
   "outputs": [
    {
     "name": "stdout",
     "output_type": "stream",
     "text": [
      "obj_11 [10, 6, 10, 10, 10]\n",
      "obj_6 [10, 8, 9, 8, 10]\n",
      "obj_4 [10, 8, 9, 8, 10]\n",
      "obj_9 [9, 7, 9, 7, 9]\n",
      "obj_2 [10, 8, 9, 8, 10]\n",
      "obj_3 [10, 8, 10, 10, 10]\n",
      "obj_10 [10, 9, 10, 9, 10]\n",
      "obj_5 [10, 9, 9, 9, 10]\n",
      "obj_8 [10, 8, 10, 9, 10]\n",
      "obj_7 [9, 7, 8, 7, 9]\n",
      "obj_1 [10, 9, 10, 9, 10]\n"
     ]
    }
   ],
   "source": [
    "scores_per_item, scores_per_objective, df = process_new_data(data,idx_cot=1,dataset='med_qa',split='test')"
   ]
  },
  {
   "cell_type": "code",
   "execution_count": 80,
   "metadata": {},
   "outputs": [
    {
     "data": {
      "application/vnd.jupyter.widget-view+json": {
       "model_id": "da662b32096745b7b4098fab44a6b6b8",
       "version_major": 2,
       "version_minor": 0
      },
      "text/plain": [
       "Creating json from Arrow format:   0%|          | 0/1 [00:00<?, ?ba/s]"
      ]
     },
     "metadata": {},
     "output_type": "display_data"
    }
   ],
   "source": [
    "data.dump(\"test_gpt4_on_3_14\")"
   ]
  },
  {
   "cell_type": "code",
   "execution_count": 74,
   "metadata": {},
   "outputs": [
    {
     "name": "stdout",
     "output_type": "stream",
     "text": [
      "Generating med_qa...\n"
     ]
    },
    {
     "data": {
      "application/vnd.jupyter.widget-view+json": {
       "model_id": "f9e59049e6d9473dac0bd5197fda73bf",
       "version_major": 2,
       "version_minor": 0
      },
      "text/plain": [
       "  0%|          | 0/1 [00:00<?, ?ex/s]"
      ]
     },
     "metadata": {},
     "output_type": "display_data"
    }
   ],
   "source": [
    "absolute_path = \"./input_system/system_template_12_eval.yaml\"\n",
    "system_evaluate(data,'gpt-4',absolute_path)\n",
    "# medqa_total.dump(\"med_qa_gpt_4_template_12\") \n",
    "scores_per_item, scores_per_objective, df = process_new_data(medqa_total,idx_cot=1)"
   ]
  },
  {
   "cell_type": "code",
   "execution_count": 75,
   "metadata": {},
   "outputs": [
    {
     "data": {
      "text/plain": [
       "'obj_1: 10\\nobj_2: 9\\nobj_3: 10\\nobj_4: 9\\nobj_5: 9\\nobj_6: 9\\nobj_7: 8\\nobj_8: 9\\nobj_9: 9\\nobj_10: 9\\nobj_11: 10'"
      ]
     },
     "execution_count": 75,
     "metadata": {},
     "output_type": "execute_result"
    }
   ],
   "source": [
    "data['med_qa']['test'][0]['generated_cot'][2]['cot']"
   ]
  },
  {
   "cell_type": "code",
   "execution_count": null,
   "metadata": {},
   "outputs": [],
   "source": [
    "absolute_path = \"./input_system/system_template_16_eval.yaml\"\n",
    "system_evaluate(med_zhou,'gpt-3.5-turbo',absolute_path)"
   ]
  },
  {
   "attachments": {},
   "cell_type": "markdown",
   "metadata": {},
   "source": [
    "## 3.5 corrects Cohere"
   ]
  },
  {
   "cell_type": "code",
   "execution_count": 22,
   "metadata": {},
   "outputs": [],
   "source": [
    "from cot import Collection\n",
    "med_co = Collection.from_json(\"med_qa_zhou_cohere.json\")\n",
    "#med_co = med_co.select(split=\"test\", number_samples=1, random_samples=True, seed=0)\n"
   ]
  },
  {
   "cell_type": "code",
   "execution_count": null,
   "metadata": {},
   "outputs": [],
   "source": [
    "from cot import Collection\n",
    "med_co = Collection.from_json(\"med_qa_zhou_cohere.json\")\n",
    "#med_co = med_co.select(split=\"test\", number_samples=1, random_samples=True, seed=0)"
   ]
  },
  {
   "cell_type": "code",
   "execution_count": 23,
   "metadata": {},
   "outputs": [
    {
     "data": {
      "text/plain": [
       "| Name   | Train   | Valid   |   Test |\n",
       "|--------|---------|---------|--------|\n",
       "| med_qa | -       | -       |    100 |\n",
       "\n",
       "Not loaded: ['aqua', 'asdiv', 'commonsense_qa', 'entailment_bank', 'gsm8k', 'mawps', 'med_qa_open', 'medmc_qa', '_init_', 'mmlu_clinical_knowledge', 'mmlu_college_biology', 'mmlu_college_medicine', 'mmlu_medical_genetics', 'mmlu_professional_medicine', '_init_', 'mmlu_anatomy', 'open_book_qa', 'pubmed_qa', 'qed', 'strategy_qa', 'svamp', 'worldtree']"
      ]
     },
     "execution_count": 23,
     "metadata": {},
     "output_type": "execute_result"
    }
   ],
   "source": [
    "med_co"
   ]
  },
  {
   "cell_type": "code",
   "execution_count": 24,
   "metadata": {},
   "outputs": [
    {
     "name": "stdout",
     "output_type": "stream",
     "text": [
      "Generating med_qa...\n"
     ]
    },
    {
     "data": {
      "application/vnd.jupyter.widget-view+json": {
       "model_id": "40ca13551b1643ca9a2874d3a7af02ba",
       "version_major": 2,
       "version_minor": 0
      },
      "text/plain": [
       "  0%|          | 0/100 [00:00<?, ?ex/s]"
      ]
     },
     "metadata": {},
     "output_type": "display_data"
    },
    {
     "name": "stdout",
     "output_type": "stream",
     "text": [
      "(API-)Error in item 30: That model is currently overloaded with other requests. You can retry your request, or contact us through our help center at help.openai.com if the error persists. (Please include the request ID 2b797b87820009fba581ccdd214e8a7c in your message.)\n",
      "Retrying with additional time of 10 seconds.\n"
     ]
    },
    {
     "data": {
      "application/vnd.jupyter.widget-view+json": {
       "model_id": "ffd7238626784334a2b8f8d7fd522169",
       "version_major": 2,
       "version_minor": 0
      },
      "text/plain": [
       "Creating json from Arrow format:   0%|          | 0/1 [00:00<?, ?ba/s]"
      ]
     },
     "metadata": {},
     "output_type": "display_data"
    }
   ],
   "source": [
    "absolute_path = \"./input_system/system_template_14_eval.yaml\"\n",
    "system_evaluate(med_co,'gpt-3.5-turbo',absolute_path)\n",
    "med_co.dump(\"chatgpt_judges_cohere\")"
   ]
  },
  {
   "cell_type": "code",
   "execution_count": 26,
   "metadata": {},
   "outputs": [
    {
     "name": "stdout",
     "output_type": "stream",
     "text": [
      "wrong output found\n",
      "wrong output found\n",
      "wrong output found\n",
      "obj_4 [10, 9, 8, 10, 10, 10, 10, 9, 10, 10, 10, 9, 10, 8, 8, 8, 10, 7, 10, 10, 9, 8, 10, 10, 4, 10, 7, 8, 9, 10, 10, 10, 7, 8, 8, 6, 8, 4, 8, 6, 8, 9, 6, 8, 10, 10, 8, 10, 10, 10, 5, 8, 10, 9, 10, 9, 10, 8, 8, 10, 10, 8, 10, 8, 10, 10, 7, 10, 6, 8, 10, 10, 10, 8, 10, 8, 10, 6, 9, 8, 10, 8, 10, 10, 9, 10, 10, 10, 10, 8, 10, 10, 10, 10, 10, 10, 7]\n",
      "obj_8 [10, 9, 9, 10, 10, 10, 10, 9, 10, 10, 10, 9, 10, 9, 9, 9, 10, 8, 10, 10, 9, 9, 10, 10, 6, 10, 8, 9, 10, 10, 10, 10, 7, 9, 9, 8, 8, 4, 8, 8, 8, 9, 8, 9, 10, 10, 9, 10, 10, 10, 6, 9, 10, 9, 10, 9, 10, 9, 9, 10, 10, 9, 10, 9, 10, 10, 8, 10, 8, 8, 10, 10, 10, 9, 10, 9, 10, 8, 9, 8, 10, 9, 10, 10, 9, 10, 10, 10, 10, 8, 10, 10, 10, 10, 10, 10, 8]\n",
      "obj_2 [10, 9, 9, 10, 10, 10, 10, 10, 10, 10, 10, 9, 10, 9, 9, 9, 10, 9, 10, 10, 9, 9, 10, 10, 9, 10, 9, 9, 10, 10, 10, 10, 9, 9, 9, 9, 9, 9, 9, 9, 9, 9, 9, 9, 10, 10, 9, 10, 10, 10, 9, 10, 10, 9, 10, 9, 10, 10, 9, 10, 10, 9, 10, 9, 10, 10, 9, 10, 9, 9, 10, 10, 10, 9, 10, 9, 10, 9, 9, 9, 10, 9, 10, 10, 9, 10, 10, 10, 10, 9, 10, 10, 10, 10, 10, 10, 9]\n",
      "obj_6 [9, 9, 8, 10, 9, 10, 9, 9, 10, 10, 10, 8, 9, 8, 8, 8, 9, 8, 10, 9, 9, 8, 10, 9, 7, 10, 7, 8, 9, 9, 10, 9, 7, 8, 7, 7, 8, 6, 7, 7, 8, 9, 7, 8, 9, 9, 8, 10, 9, 10, 7, 8, 9, 8, 10, 8, 10, 8, 8, 9, 10, 8, 10, 8, 10, 10, 7, 10, 7, 8, 10, 9, 10, 8, 9, 8, 10, 7, 8, 8, 9, 8, 9, 9, 8, 10, 10, 10, 9, 8, 9, 9, 10, 9, 10, 10, 7]\n",
      "obj_9 [10, 8, 8, 10, 8, 9, 9, 8, 10, 9, 9, 7, 8, 8, 8, 8, 8, 6, 9, 9, 8, 9, 9, 8, 3, 10, 6, 7, 8, 8, 10, 8, 5, 7, 6, 6, 7, 3, 6, 6, 6, 8, 6, 7, 8, 9, 7, 9, 9, 10, 3, 6, 9, 8, 10, 8, 10, 7, 7, 8, 10, 7, 10, 8, 10, 10, 6, 10, 5, 6, 9, 9, 9, 8, 8, 6, 10, 4, 7, 7, 9, 7, 9, 8, 8, 9, 10, 9, 9, 6, 8, 10, 10, 9, 10, 10, 5]\n",
      "obj_3 [8, 7, 7, 9, 8, 9, 8, 8, 10, 8, 9, 7, 9, 7, 9, 7, 9, 6, 10, 10, 8, 9, 9, 8, 6, 9, 7, 7, 8, 8, 10, 9, 7, 7, 6, 7, 7, 6, 6, 7, 7, 8, 7, 7, 8, 8, 7, 9, 8, 9, 6, 7, 8, 8, 10, 8, 10, 8, 7, 8, 10, 7, 10, 7, 10, 10, 6, 9, 7, 7, 9, 9, 9, 8, 8, 7, 10, 5, 8, 7, 9, 7, 8, 8, 8, 8, 10, 9, 8, 7, 8, 10, 10, 8, 10, 10, 7]\n",
      "obj_5 [9, 8, 7, 9, 9, 8, 9, 8, 9, 9, 9, 8, 8, 7, 7, 7, 8, 7, 9, 9, 8, 7, 9, 9, 6, 9, 6, 7, 8, 9, 9, 8, 6, 7, 7, 5, 7, 5, 7, 6, 7, 8, 5, 7, 8, 9, 7, 9, 9, 9, 4, 7, 9, 8, 10, 8, 9, 7, 7, 9, 9, 7, 10, 7, 10, 10, 7, 9, 5, 7, 10, 8, 9, 8, 9, 7, 9, 6, 8, 7, 8, 7, 9, 9, 8, 9, 9, 9, 9, 7, 9, 8, 9, 9, 10, 9, 6]\n",
      "obj_1 [9, 8, 8, 10, 10, 10, 9, 9, 10, 10, 10, 8, 10, 8, 8, 8, 8, 8, 10, 10, 9, 8, 10, 10, 8, 10, 8, 8, 9, 10, 10, 10, 8, 8, 8, 8, 8, 8, 8, 8, 8, 9, 8, 8, 9, 10, 8, 10, 10, 10, 8, 8, 10, 8, 10, 8, 10, 10, 8, 10, 10, 8, 10, 8, 10, 10, 8, 10, 8, 8, 10, 10, 10, 9, 10, 8, 10, 8, 9, 8, 10, 8, 10, 10, 8, 10, 9, 10, 10, 8, 10, 10, 8, 10, 10, 10, 8]\n",
      "obj_10 [9, 8, 8, 10, 10, 10, 10, 9, 10, 10, 10, 8, 9, 8, 8, 8, 8, 7, 10, 10, 9, 8, 10, 9, 7, 10, 7, 8, 8, 9, 10, 9, 6, 8, 8, 7, 8, 5, 7, 7, 8, 9, 7, 8, 9, 10, 8, 10, 10, 10, 4, 7, 10, 8, 10, 8, 10, 8, 8, 9, 10, 8, 10, 8, 10, 10, 7, 10, 7, 7, 10, 9, 10, 9, 9, 8, 10, 7, 8, 8, 9, 8, 10, 9, 8, 10, 10, 10, 10, 7, 9, 10, 10, 10, 10, 10, 6]\n",
      "obj_7 [9, 8, 8, 10, 9, 10, 10, 9, 10, 10, 10, 8, 9, 8, 8, 8, 9, 7, 10, 10, 9, 8, 10, 9, 5, 10, 7, 8, 9, 9, 10, 9, 6, 8, 8, 8, 7, 6, 7, 7, 7, 8, 7, 8, 9, 10, 8, 10, 10, 10, 6, 8, 10, 9, 10, 8, 10, 8, 8, 9, 10, 8, 10, 8, 10, 10, 8, 10, 6, 7, 10, 9, 9, 8, 9, 7, 10, 6, 8, 8, 9, 8, 9, 9, 8, 10, 10, 10, 9, 7, 9, 10, 10, 9, 10, 10, 6]\n",
      "obj_11 [10, 9, 9, 10, 10, 10, 10, 10, 10, 10, 10, 9, 10, 9, 9, 9, 10, 9, 10, 10, 9, 9, 10, 10, 2, 10, 8, 9, 10, 10, 10, 10, 8, 9, 9, 9, 9, 2, 9, 8, 9, 9, 9, 9, 10, 10, 9, 10, 10, 10, 8, 9, 10, 9, 10, 9, 10, 10, 9, 10, 10, 9, 10, 9, 10, 10, 8, 10, 8, 8, 10, 10, 10, 9, 10, 9, 10, 8, 9, 9, 10, 9, 10, 10, 9, 10, 10, 10, 10, 8, 10, 10, 10, 10, 10, 10, 8]\n"
     ]
    }
   ],
   "source": [
    "scores_per_item, scores_per_objective, df = process_new_data(med_co,idx_cot=1,dataset='med_qa',split='test')"
   ]
  },
  {
   "cell_type": "code",
   "execution_count": 30,
   "metadata": {},
   "outputs": [
    {
     "name": "stdout",
     "output_type": "stream",
     "text": [
      "         Average\n",
      "obj_1   9.030928\n",
      "obj_2   9.556701\n",
      "obj_3   8.061856\n",
      "obj_4   8.865979\n",
      "obj_5   7.948454\n",
      "obj_6   8.690722\n",
      "obj_7   8.628866\n",
      "obj_8   9.237113\n",
      "obj_9   7.927835\n",
      "obj_10  8.680412\n",
      "obj_11  9.298969\n",
      "scores true: 8.733333333333333\n",
      "scores false: 8.71506105834464\n"
     ]
    },
    {
     "data": {
      "image/png": "[encoded data removed]",
      "text/plain": [
       "<Figure size 432x288 with 1 Axes>"
      ]
     },
     "metadata": {
      "needs_background": "light"
     },
     "output_type": "display_data"
    },
    {
     "data": {
      "image/png": "[encoded data removed]",
      "text/plain": [
       "<Figure size 432x288 with 1 Axes>"
      ]
     },
     "metadata": {
      "needs_background": "light"
     },
     "output_type": "display_data"
    }
   ],
   "source": [
    "# This way ChatGPT does not correct cohere in anyway, need to ask it to dig deeper/more concrete\n",
    "\n",
    "print(df)\n",
    "average_per_item = [sum(d.values()) / len(d) for d in scores_per_item]\n",
    "avg_true_false(med_co,average_per_item,'med_qa','test')\n",
    "freq_bar_plot(scores_per_item)\n",
    "avg_item_plot(scores_per_objective)"
   ]
  },
  {
   "cell_type": "code",
   "execution_count": 39,
   "metadata": {},
   "outputs": [],
   "source": [
    "from cot import Collection\n",
    "med_co = Collection.from_json(\"med_qa_zhou_cohere.json\")\n",
    "# med_co = med_co.select(split=\"test\", number_samples=5, random_samples=True, seed=0)\n"
   ]
  },
  {
   "cell_type": "code",
   "execution_count": 32,
   "metadata": {},
   "outputs": [
    {
     "name": "stdout",
     "output_type": "stream",
     "text": [
      "Generating med_qa...\n"
     ]
    },
    {
     "data": {
      "application/vnd.jupyter.widget-view+json": {
       "model_id": "fca532391d4344f6b972bf9188c06964",
       "version_major": 2,
       "version_minor": 0
      },
      "text/plain": [
       "  0%|          | 0/5 [00:00<?, ?ex/s]"
      ]
     },
     "metadata": {},
     "output_type": "display_data"
    }
   ],
   "source": [
    "absolute_path = \"./input_system/system_template_16_improve.yaml\"\n",
    "system_evaluate(med_co,'gpt-3.5-turbo',absolute_path)\n"
   ]
  },
  {
   "cell_type": "code",
   "execution_count": 33,
   "metadata": {},
   "outputs": [
    {
     "data": {
      "application/vnd.jupyter.widget-view+json": {
       "model_id": "adeb545c13db419ba359f1777a287f19",
       "version_major": 2,
       "version_minor": 0
      },
      "text/plain": [
       "Creating json from Arrow format:   0%|          | 0/1 [00:00<?, ?ba/s]"
      ]
     },
     "metadata": {},
     "output_type": "display_data"
    }
   ],
   "source": [
    "med_co.dump(\"correction_test\")"
   ]
  },
  {
   "cell_type": "code",
   "execution_count": 40,
   "metadata": {},
   "outputs": [
    {
     "data": {
      "application/vnd.jupyter.widget-view+json": {
       "model_id": "01579180390a49599bacd94fcf7a6b54",
       "version_major": 2,
       "version_minor": 0
      },
      "text/plain": [
       "  0%|          | 0/100 [00:00<?, ?ex/s]"
      ]
     },
     "metadata": {},
     "output_type": "display_data"
    },
    {
     "data": {
      "text/plain": [
       "{'med_qa': {'test': {'accuracy': {'command-xlarge-nightly': {'None_zhou-01_kojima-A-E': 0.32}}}}}"
      ]
     },
     "execution_count": 40,
     "metadata": {},
     "output_type": "execute_result"
    }
   ],
   "source": [
    "med_co.evaluate()"
   ]
  },
  {
   "cell_type": "code",
   "execution_count": 36,
   "metadata": {},
   "outputs": [],
   "source": [
    "med_co.select_generated_cots(answer=False)\n",
    "med_co_false = med_co.filter(lambda x: len(x[\"generated_cot\"])==1)"
   ]
  },
  {
   "cell_type": "code",
   "execution_count": 37,
   "metadata": {},
   "outputs": [
    {
     "data": {
      "text/plain": [
       "| Name   | Train   | Valid   |   Test |\n",
       "|--------|---------|---------|--------|\n",
       "| med_qa | -       | -       |     68 |\n",
       "\n",
       "Not loaded: ['aqua', 'asdiv', 'commonsense_qa', 'entailment_bank', 'gsm8k', 'mawps', 'med_qa_open', 'medmc_qa', '_init_', 'mmlu_clinical_knowledge', 'mmlu_college_biology', 'mmlu_college_medicine', 'mmlu_medical_genetics', 'mmlu_professional_medicine', '_init_', 'mmlu_anatomy', 'open_book_qa', 'pubmed_qa', 'qed', 'strategy_qa', 'svamp', 'worldtree']"
      ]
     },
     "execution_count": 37,
     "metadata": {},
     "output_type": "execute_result"
    }
   ],
   "source": [
    "med_co_false"
   ]
  },
  {
   "cell_type": "code",
   "execution_count": 41,
   "metadata": {},
   "outputs": [
    {
     "name": "stdout",
     "output_type": "stream",
     "text": [
      "Generating med_qa...\n"
     ]
    },
    {
     "data": {
      "application/vnd.jupyter.widget-view+json": {
       "model_id": "38fe48b296ed4e7b813f1b5c54640e58",
       "version_major": 2,
       "version_minor": 0
      },
      "text/plain": [
       "  0%|          | 0/100 [00:00<?, ?ex/s]"
      ]
     },
     "metadata": {},
     "output_type": "display_data"
    },
    {
     "name": "stdout",
     "output_type": "stream",
     "text": [
      "(API-)Error in item 3: That model is currently overloaded with other requests. You can retry your request, or contact us through our help center at help.openai.com if the error persists. (Please include the request ID ec4033ca79513c56921a4c5a91dde67e in your message.)\n",
      "Retrying with additional time of 10 seconds.\n",
      "(API-)Error in item 17: That model is currently overloaded with other requests. You can retry your request, or contact us through our help center at help.openai.com if the error persists. (Please include the request ID 83d987a460cff5dcda0bf041d64a3c64 in your message.)\n",
      "Retrying with additional time of 10 seconds.\n"
     ]
    }
   ],
   "source": [
    "absolute_path = \"./input_system/system_template_16_improve.yaml\"\n",
    "system_evaluate(med_co,'gpt-3.5-turbo',absolute_path)"
   ]
  },
  {
   "cell_type": "code",
   "execution_count": 42,
   "metadata": {},
   "outputs": [
    {
     "data": {
      "application/vnd.jupyter.widget-view+json": {
       "model_id": "8966060422484fec95f097a2b19dba32",
       "version_major": 2,
       "version_minor": 0
      },
      "text/plain": [
       "Creating json from Arrow format:   0%|          | 0/1 [00:00<?, ?ba/s]"
      ]
     },
     "metadata": {},
     "output_type": "display_data"
    }
   ],
   "source": [
    "med_co.dump(\"full_chatgpt_cohere_correction\")"
   ]
  },
  {
   "cell_type": "code",
   "execution_count": 43,
   "metadata": {},
   "outputs": [
    {
     "name": "stdout",
     "output_type": "stream",
     "text": [
      "Generating med_qa...\n"
     ]
    },
    {
     "data": {
      "application/vnd.jupyter.widget-view+json": {
       "model_id": "73f75cf28c344cefac996048ef17dc75",
       "version_major": 2,
       "version_minor": 0
      },
      "text/plain": [
       "  0%|          | 0/100 [00:00<?, ?ex/s]"
      ]
     },
     "metadata": {},
     "output_type": "display_data"
    },
    {
     "name": "stdout",
     "output_type": "stream",
     "text": [
      "(API-)Error in item 31: That model is currently overloaded with other requests. You can retry your request, or contact us through our help center at help.openai.com if the error persists. (Please include the request ID f7933b7535f23c4a9629ef0929a6e0ba in your message.)\n",
      "Retrying with additional time of 10 seconds.\n",
      "(API-)Error in item 60: That model is currently overloaded with other requests. You can retry your request, or contact us through our help center at help.openai.com if the error persists. (Please include the request ID d91af4f8bc51adbb8c70853969ebf927 in your message.)\n",
      "Retrying with additional time of 10 seconds.\n",
      "(API-)Error in item 94: HTTP code 502 from API (<html>\n",
      "<head><title>502 Bad Gateway</title></head>\n",
      "<body>\n",
      "<center><h1>502 Bad Gateway</h1></center>\n",
      "<hr><center>cloudflare</center>\n",
      "</body>\n",
      "</html>\n",
      ")\n",
      "Retrying with additional time of 10 seconds.\n"
     ]
    }
   ],
   "source": [
    "absolute_path = \"./input_system/system_template_16_improve.yaml\"\n",
    "system_evaluate(med_co,'gpt-4',absolute_path)"
   ]
  },
  {
   "cell_type": "code",
   "execution_count": 44,
   "metadata": {},
   "outputs": [
    {
     "data": {
      "application/vnd.jupyter.widget-view+json": {
       "model_id": "0a306a2bfc864c6dac280027597904eb",
       "version_major": 2,
       "version_minor": 0
      },
      "text/plain": [
       "Creating json from Arrow format:   0%|          | 0/1 [00:00<?, ?ba/s]"
      ]
     },
     "metadata": {},
     "output_type": "display_data"
    }
   ],
   "source": [
    "med_co.dump(\"gpt_3_4_cohere_correction\")"
   ]
  },
  {
   "cell_type": "code",
   "execution_count": 48,
   "metadata": {},
   "outputs": [
    {
     "data": {
      "text/plain": [
       "{'id': 'med_qa_test_2',\n",
       " 'ref_id': '',\n",
       " 'question': 'Two weeks after undergoing an emergency cardiac catherization with stenting for unstable angina pectoris, a 61-year-old man has decreased urinary output and malaise. He has type 2 diabetes mellitus and osteoarthritis of the hips. Prior to admission, his medications were insulin and naproxen. He was also started on aspirin, clopidogrel, and metoprolol after the coronary intervention. His temperature is 38°C (100.4°F), pulse is 93/min, and blood pressure is 125/85 mm Hg. Examination shows mottled, reticulated purplish discoloration of the feet. Laboratory studies show:\\nHemoglobin count 14 g/dL\\nLeukocyte count 16,400/mm3\\nSegmented neutrophils 56%\\nEosinophils 11%\\nLymphocytes 31%\\nMonocytes 2%\\nPlatelet count 260,000/mm3\\nErythrocyte sedimentation rate 68 mm/h\\nSerum\\nUrea nitrogen 25 mg/dL\\nCreatinine 4.2 mg/dL\\nRenal biopsy shows intravascular spindle-shaped vacuoles. Which of the following is the most likely cause of this patient\\'s symptoms?\"',\n",
       " 'type': 'multiplechoice',\n",
       " 'choices': ['Renal papillary necrosis',\n",
       "  'Allergic interstitial nephritis',\n",
       "  'Cholesterol embolization',\n",
       "  'Eosinophilic granulomatosis with polyangiitis',\n",
       "  'Polyarteritis nodosa'],\n",
       " 'context': '',\n",
       " 'cot': [],\n",
       " 'answer': ['Cholesterol embolization'],\n",
       " 'generated_cot': [{'id': '696cfe30-f094-4a14-a903-de717284628a',\n",
       "   'fragments_version': '0.01',\n",
       "   'instruction': None,\n",
       "   'cot_trigger': 'zhou-01',\n",
       "   'cot_trigger_template': '{instruction}\\n\\n{question}\\n{answer_choices}\\n\\n{cot_trigger}',\n",
       "   'prompt_text': '',\n",
       "   'cot': \"\\nThe patient has intravascular spindle-shaped vacuoles, which is a classic finding for cholesterol embolization. The patient's history of taking aspirin and clopidogrel before admission makes cholesterol embolization even more likely.\\nSo, the answer is C.\",\n",
       "   'answers': [{'id': '62f6561c-3de5-4dae-8830-d6236d9840d4',\n",
       "     'answer_extraction': 'kojima-A-E',\n",
       "     'answer_extraction_template': '{instruction}\\n\\n{question}\\n{answer_choices}\\n\\n{cot_trigger}{cot}\\n{answer_extraction}',\n",
       "     'answer_extraction_text': '',\n",
       "     'answer': ' C.',\n",
       "     'answer_from_choices': 'C',\n",
       "     'correct_answer': True}],\n",
       "   'author': 'thoughtsource',\n",
       "   'date': '2023/05/29 08:05:57',\n",
       "   'api_service': 'cohere',\n",
       "   'model': \"{'name': 'command-xlarge-nightly', 'temperature': 0, 'max_tokens': 512}\",\n",
       "   'comment': '',\n",
       "   'annotations': []},\n",
       "  {'id': '88ab7446-7d8f-4da9-926f-0aedbe3903b0',\n",
       "   'fragments_version': '0.01',\n",
       "   'instruction': '',\n",
       "   'cot_trigger': '',\n",
       "   'cot_trigger_template': '',\n",
       "   'prompt_text': '',\n",
       "   'cot': 'corrected_reasoning: \\nThe given reasoning is correct.\\n\\nfinal_answer: C.',\n",
       "   'answers': [{'id': '45d819de-a5e5-4718-9387-542d9e6b2f96',\n",
       "     'answer_extraction': '',\n",
       "     'answer_extraction_template': '',\n",
       "     'answer_extraction_text': '',\n",
       "     'answer': '',\n",
       "     'answer_from_choices': '',\n",
       "     'correct_answer': None}],\n",
       "   'author': '',\n",
       "   'date': '2023/05/29 12:55:42',\n",
       "   'api_service': '',\n",
       "   'model': \"{'name': '', 'temperature': 0, 'max_tokens': 1600}\",\n",
       "   'comment': '',\n",
       "   'annotations': []},\n",
       "  {'id': 'e630fb93-88e1-4903-9748-7a1294cf6a6b',\n",
       "   'fragments_version': '0.01',\n",
       "   'instruction': '',\n",
       "   'cot_trigger': '',\n",
       "   'cot_trigger_template': '',\n",
       "   'prompt_text': '',\n",
       "   'cot': \"corrected_reasoning: The patient has intravascular spindle-shaped vacuoles, which is a classic finding for cholesterol embolization. The patient's history of recent cardiac catheterization with stenting for unstable angina pectoris, along with the mottled, reticulated purplish discoloration of the feet, and elevated creatinine levels, make cholesterol embolization even more likely.\\nfinal_answer: C\",\n",
       "   'answers': [{'id': 'ec4a164b-b1ac-4401-aae4-f9b2d86f166a',\n",
       "     'answer_extraction': '',\n",
       "     'answer_extraction_template': '',\n",
       "     'answer_extraction_text': '',\n",
       "     'answer': '',\n",
       "     'answer_from_choices': '',\n",
       "     'correct_answer': None}],\n",
       "   'author': '',\n",
       "   'date': '2023/05/29 13:24:33',\n",
       "   'api_service': '',\n",
       "   'model': \"{'name': '', 'temperature': 0, 'max_tokens': 1600}\",\n",
       "   'comment': '',\n",
       "   'annotations': []}],\n",
       " 'feedback': []}"
      ]
     },
     "execution_count": 48,
     "metadata": {},
     "output_type": "execute_result"
    }
   ],
   "source": [
    "med_co['med_qa']['test'][0]"
   ]
  },
  {
   "cell_type": "code",
   "execution_count": 89,
   "metadata": {},
   "outputs": [],
   "source": [
    "med_co = Collection.from_json(\"gpt_3_4_cohere_correction\")"
   ]
  },
  {
   "cell_type": "code",
   "execution_count": 90,
   "metadata": {},
   "outputs": [
    {
     "name": "stdout",
     "output_type": "stream",
     "text": [
      "1\n",
      "wrong output found\n"
     ]
    },
    {
     "ename": "TypeError",
     "evalue": "'Dataset' object does not support item assignment",
     "output_type": "error",
     "traceback": [
      "\u001b[0;31m---------------------------------------------------------------------------\u001b[0m",
      "\u001b[0;31mTypeError\u001b[0m                                 Traceback (most recent call last)",
      "\u001b[1;32m/Users/robertpraas/Desktop/ThoughtSource/notebooks/reflection_messages/reflection_experiments_Robert.ipynb Cell 99\u001b[0m in \u001b[0;36m<cell line: 4>\u001b[0;34m()\u001b[0m\n\u001b[1;32m     <a href='vscode-notebook-cell:/Users/robertpraas/Desktop/ThoughtSource/notebooks/reflection_messages/reflection_experiments_Robert.ipynb#Y236sZmlsZQ%3D%3D?line=27'>28</a>\u001b[0m                 count \u001b[39m+\u001b[39m\u001b[39m=\u001b[39m\u001b[39m1\u001b[39m\n\u001b[1;32m     <a href='vscode-notebook-cell:/Users/robertpraas/Desktop/ThoughtSource/notebooks/reflection_messages/reflection_experiments_Robert.ipynb#Y236sZmlsZQ%3D%3D?line=28'>29</a>\u001b[0m                 \u001b[39mcontinue\u001b[39;00m\n\u001b[0;32m---> <a href='vscode-notebook-cell:/Users/robertpraas/Desktop/ThoughtSource/notebooks/reflection_messages/reflection_experiments_Robert.ipynb#Y236sZmlsZQ%3D%3D?line=29'>30</a>\u001b[0m     med_co[\u001b[39m'\u001b[39m\u001b[39mmed_qa\u001b[39m\u001b[39m'\u001b[39m][\u001b[39m'\u001b[39m\u001b[39mtest\u001b[39m\u001b[39m'\u001b[39m][j] \u001b[39m=\u001b[39m element\n\u001b[1;32m     <a href='vscode-notebook-cell:/Users/robertpraas/Desktop/ThoughtSource/notebooks/reflection_messages/reflection_experiments_Robert.ipynb#Y236sZmlsZQ%3D%3D?line=30'>31</a>\u001b[0m \u001b[39mprint\u001b[39m(count)\n\u001b[1;32m     <a href='vscode-notebook-cell:/Users/robertpraas/Desktop/ThoughtSource/notebooks/reflection_messages/reflection_experiments_Robert.ipynb#Y236sZmlsZQ%3D%3D?line=31'>32</a>\u001b[0m med_co\u001b[39m.\u001b[39mevaluate()\n",
      "\u001b[0;31mTypeError\u001b[0m: 'Dataset' object does not support item assignment"
     ]
    }
   ],
   "source": [
    "import yaml\n",
    "import re\n",
    "count = 0\n",
    "for j,element in enumerate(med_co['med_qa']['test']):\n",
    "    for i in range(1,3):\n",
    "        yaml_content = element['generated_cot'][i]['cot']\n",
    "        try:\n",
    "        #print(yaml_content)\n",
    "            yaml_data = yaml.load(yaml_content, Loader=yaml.FullLoader)\n",
    "            final_answer = yaml_data['final_answer']\n",
    "            cot = yaml_data['corrected_reasoning']\n",
    "            element['generated_cot'][i]['cot'] = cot\n",
    "            element['generated_cot'][i]['answers'][0]['answer'] = final_answer   \n",
    "        except:\n",
    "            try:\n",
    "                yaml_content = yaml_content.replace(\"corrected_reasoning: \\n\", \"corrected_reasoning: \")\n",
    "                #yaml_content = re.sub(r'([^:\\n]+):\\n', r'\\n\\1: ', yaml_content)\n",
    "                yaml_data = yaml.load(yaml_content, Loader=yaml.FullLoader)\n",
    "                final_answer = yaml_data['final_answer']\n",
    "                cot = yaml_data['corrected_reasoning']\n",
    "                element['generated_cot'][i]['cot'] = cot\n",
    "                element['generated_cot'][i]['answers'][0]['answer'] = final_answer\n",
    "                med_co['med_qa']['test'][j] = element\n",
    "            except:\n",
    "                print(i)\n",
    "                print(\"wrong output found\")\n",
    "                # print(yaml_content)\n",
    "                count +=1\n",
    "                continue\n",
    "    med_co['med_qa']['test'][j] = element\n",
    "print(count)\n",
    "med_co.evaluate()    \n",
    "        \n",
    "\n",
    "\n",
    "\n",
    "\n",
    "\n",
    "\n",
    "        #     yaml_content = yaml_content.replace('\\n', ' ')\n",
    "        #     try:\n",
    "        #         yaml_data = yaml.load(yaml_content, Loader=yaml.FullLoader)\n",
    "        #         final_answer = yaml_data['final_answer']\n",
    "        #         cot = yaml_data['corrected_reasoning']\n",
    "        #         element['generated_cot'][i]['cot'] = cot\n",
    "        #         element['generated_cot'][i]['answers'][0]['answer'] = final_answer\n",
    "        #     except:\n",
    "        #         print(\"wrong output found\")\n",
    "        #         print(yaml_content)\n",
    "        #         count +=1\n",
    "        #         continue\n",
    "        #yaml_data = yaml.safe_load(yaml_content)\n",
    "\n",
    "\n",
    "\n",
    "\n",
    "\n",
    "# import yaml\n",
    "\n",
    "# # Assuming the YAML content is stored in a string variable called 'yaml_content'\n",
    "# yaml_data = yaml.safe_load(yaml_content)\n",
    "\n",
    "# # Extracting the final_answer\n",
    "# final_answer = yaml_data['final_answer']"
   ]
  },
  {
   "cell_type": "code",
   "execution_count": null,
   "metadata": {},
   "outputs": [],
   "source": [
    "#this does not work - write data.map function"
   ]
  },
  {
   "cell_type": "code",
   "execution_count": 88,
   "metadata": {},
   "outputs": [
    {
     "data": {
      "text/plain": [
       "10"
      ]
     },
     "execution_count": 88,
     "metadata": {},
     "output_type": "execute_result"
    }
   ],
   "source": [
    "len(med_co['med_qa']['test'][99])"
   ]
  },
  {
   "cell_type": "code",
   "execution_count": 76,
   "metadata": {},
   "outputs": [
    {
     "data": {
      "text/plain": [
       "'C.'"
      ]
     },
     "execution_count": 76,
     "metadata": {},
     "output_type": "execute_result"
    }
   ],
   "source": [
    "str = \"\"\"corrected_reasoning: \n",
    "The given reasoning is correct.\n",
    "\n",
    "final_answer: C.\"\"\"\n",
    "str = str.replace(\"corrected_reasoning: \\n\", \"corrected_reasoning: \")\n",
    "yaml_data = yaml.load(str, Loader=yaml.FullLoader)\n",
    "yaml_data['final_answer']"
   ]
  },
  {
   "cell_type": "code",
   "execution_count": null,
   "metadata": {},
   "outputs": [],
   "source": [
    "#####"
   ]
  },
  {
   "cell_type": "code",
   "execution_count": 9,
   "metadata": {},
   "outputs": [
    {
     "name": "stdout",
     "output_type": "stream",
     "text": [
      "Generating med_qa...\n"
     ]
    }
   ],
   "source": [
    "absolute_path = \"./input_system/system_template_12_eval.yaml\"\n",
    "system_evaluate(med_co,'gpt-3.5-turbo',absolute_path)"
   ]
  },
  {
   "cell_type": "code",
   "execution_count": 10,
   "metadata": {},
   "outputs": [
    {
     "name": "stdout",
     "output_type": "stream",
     "text": [
      "Generating med_qa...\n",
      "(API-)Error in item 0: HTTP code 502 from API (<html>\n",
      "<head><title>502 Bad Gateway</title></head>\n",
      "<body>\n",
      "<center><h1>502 Bad Gateway</h1></center>\n",
      "<hr><center>cloudflare</center>\n",
      "</body>\n",
      "</html>\n",
      ")\n",
      "Retrying with additional time of 10 seconds.\n"
     ]
    }
   ],
   "source": [
    "absolute_path = \"./input_system/system_template_16_eval.yaml\"\n",
    "system_evaluate(med_co,'gpt-3.5-turbo',absolute_path)"
   ]
  },
  {
   "cell_type": "code",
   "execution_count": 16,
   "metadata": {},
   "outputs": [
    {
     "name": "stdout",
     "output_type": "stream",
     "text": [
      "Generating med_qa...\n"
     ]
    }
   ],
   "source": [
    "absolute_path = \"./input_system/system_template_17.yaml\"\n",
    "system_evaluate(med_co,'gpt-3.5-turbo',absolute_path)"
   ]
  },
  {
   "cell_type": "code",
   "execution_count": 21,
   "metadata": {},
   "outputs": [
    {
     "data": {
      "text/plain": [
       "'obj_1: 8\\nobj_2: 10\\nobj_3: 8\\nobj_4: 8\\nobj_5: 7\\nobj_6: 8\\nobj_7: 8\\nobj_8: 9\\nobj_9: 7\\nobj_10: 8\\nobj_11: 10'"
      ]
     },
     "execution_count": 21,
     "metadata": {},
     "output_type": "execute_result"
    }
   ],
   "source": [
    "med_co['med_qa']['test'][0]['generated_cot'][1]['cot']"
   ]
  },
  {
   "cell_type": "code",
   "execution_count": null,
   "metadata": {},
   "outputs": [],
   "source": [
    "scores_per_item, scores_per_objective, df = process_new_data(data,idx_cot=1,dataset='med_qa',split='test')"
   ]
  }
 ],
 "metadata": {
  "kernelspec": {
   "display_name": "base",
   "language": "python",
   "name": "python3"
  },
  "language_info": {
   "codemirror_mode": {
    "name": "ipython",
    "version": 3
   },
   "file_extension": ".py",
   "mimetype": "text/x-python",
   "name": "python",
   "nbconvert_exporter": "python",
   "pygments_lexer": "ipython3",
   "version": "3.9.12"
  },
  "orig_nbformat": 4
 },
 "nbformat": 4,
 "nbformat_minor": 2
}
