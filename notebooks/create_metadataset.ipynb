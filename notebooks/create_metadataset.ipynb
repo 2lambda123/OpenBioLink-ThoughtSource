{
 "cells": [
  {
   "attachments": {},
   "cell_type": "markdown",
   "metadata": {},
   "source": [
    "## Dataset manipulation function"
   ]
  },
  {
   "cell_type": "code",
   "execution_count": 1,
   "metadata": {},
   "outputs": [],
   "source": [
    "import os\n",
    "from cot import Collection\n",
    "from cot.generate import FRAGMENTS\n",
    "from rich.pretty import pprint\n",
    "import json"
   ]
  },
  {
   "cell_type": "code",
   "execution_count": 4,
   "metadata": {},
   "outputs": [
    {
     "data": {
      "application/vnd.jupyter.widget-view+json": {
       "model_id": "e513deafa5d7492ab7c8ae6736331add",
       "version_major": 2,
       "version_minor": 0
      },
      "text/plain": [
       "  0%|          | 0/1 [00:00<?, ?ex/s]"
      ]
     },
     "metadata": {},
     "output_type": "display_data"
    }
   ],
   "source": [
    "\"\"\"From collection to changed collection\"\"\"\n",
    "def cot_to_context(example):\n",
    "    example['context'] = example['generated_cot'][0]['cot']\n",
    "    example ['generated_cot'] = list()\n",
    "    return example\n",
    "\n",
    "cot_dataset = Collection.from_json(\"worldtree_10.json\") #input dataset\n",
    "cot_dataset = cot_dataset.select(split=\"train\", number_samples=1, random_samples=True, seed=0) #input # samples,seed\n",
    "updated_dataset = cot_dataset['worldtree'].map(cot_to_context) #input dataset name\n",
    "\n",
    "#force dataset into the right format\n",
    "dataset = {\"train\":[updated_dataset['train'][0]]}\n",
    "dict_dataset = {\"worldtree\":dataset} \n",
    "\n",
    "#create and collect a json to make collection\n",
    "with open(\"sample.json\", \"w\") as outfile:\n",
    "    json.dump(dict_dataset, outfile)\n",
    "collect = Collection.from_json('sample.json')"
   ]
  },
  {
   "cell_type": "code",
   "execution_count": 5,
   "metadata": {},
   "outputs": [
    {
     "data": {
      "text/plain": [
       "| Name      |   Train | Valid   | Test   |\n",
       "|-----------|---------|---------|--------|\n",
       "| worldtree |       1 | -       | -      |\n",
       "\n",
       "Not loaded: ['aqua', 'asdiv', 'commonsense_qa', 'entailment_bank', 'gsm8k', 'mawps', 'med_qa', 'medmc_qa', 'open_book_qa', 'pubmed_qa', 'qed', 'strategy_qa', 'svamp']"
      ]
     },
     "execution_count": 5,
     "metadata": {},
     "output_type": "execute_result"
    }
   ],
   "source": [
    "collect"
   ]
  },
  {
   "cell_type": "code",
   "execution_count": null,
   "metadata": {},
   "outputs": [],
   "source": [
    "\"\"\"Write function that it works for Thoughtsource_100\"\"\""
   ]
  },
  {
   "attachments": {},
   "cell_type": "markdown",
   "metadata": {},
   "source": [
    "## Langchain Implementation"
   ]
  },
  {
   "cell_type": "code",
   "execution_count": 3,
   "metadata": {},
   "outputs": [],
   "source": [
    "\"\"\"Upgrades\"\"\"\n",
    "#langchain.__version__ #old 0.0.14\n",
    "#!pip install --upgrade langchain #langchain-0.0.92\n",
    "#!pip install -U openai"
   ]
  },
  {
   "cell_type": "code",
   "execution_count": 6,
   "metadata": {},
   "outputs": [],
   "source": [
    "from langchain.llms import OpenAI\n",
    "from langchain.prompts import PromptTemplate \n",
    "from langchain.chains.llm import LLMChain\n",
    "from langchain.chains.constitutional_ai.base import ConstitutionalChain\n",
    "from langchain.chains.constitutional_ai.models import ConstitutionalPrinciple\n",
    "\n",
    "# Example data:\n",
    "instruction = \"Answer the following question through step-by-step reasoning.\"\n",
    "question = \"Animals may fight, make threatening sounds, and act aggressively toward members of the same species. These behaviors usually occur as the result of\",\n",
    "answer_choices = [\n",
    "                    \"competition\",\n",
    "                    \"conservation\",\n",
    "                    \"decomposition\",\n",
    "                    \"pollution\"\n",
    "                ]\n",
    "cot_trigger = \"Answer: Let's think step by step.\"\n",
    "answer_extraction = \"Therefore, the answer is\""
   ]
  },
  {
   "cell_type": "code",
   "execution_count": 7,
   "metadata": {},
   "outputs": [],
   "source": [
    "# This is an LLMChain to write a synopsis given a title of a play.\n",
    "llm = OpenAI(temperature=.0)\n",
    "template = \"\"\"{instruction}\n",
    "\n",
    "Question: {question}\n",
    "Answer_choices: {answer_choices}\n",
    "\n",
    "{cot_trigger}\n",
    "\"\"\"\n",
    "\n",
    "\n",
    "prompt_template = PromptTemplate(input_variables=[\"instruction\",\"question\",\"answer_choices\",\"cot_trigger\"], template=template)\n",
    "cot_chain = LLMChain(llm=llm, prompt=prompt_template,output_key=\"cot\")"
   ]
  },
  {
   "cell_type": "code",
   "execution_count": 8,
   "metadata": {},
   "outputs": [],
   "source": [
    "cot = cot_chain.run({\"instruction\":instruction,\"question\":question,\"answer_choices\":answer_choices,\"cot_trigger\":cot_trigger})"
   ]
  },
  {
   "cell_type": "code",
   "execution_count": 13,
   "metadata": {},
   "outputs": [
    {
     "data": {
      "text/plain": [
       "\"\\n1. Competition: Animals may fight, make threatening sounds, and act aggressively toward members of the same species as a result of competition. Competition can occur when animals are competing for resources such as food, water, or mates.\\n\\n2. Conservation: Conservation is the protection of natural resources and ecosystems. It does not directly relate to animals fighting, making threatening sounds, or acting aggressively toward members of the same species.\\n\\n3. Decomposition: Decomposition is the process by which organic matter is broken down into simpler forms of matter. It does not directly relate to animals fighting, making threatening sounds, or acting aggressively toward members of the same species.\\n\\n4. Pollution: Pollution is the introduction of contaminants into the environment. It does not directly relate to animals fighting, making threatening sounds, or acting aggressively toward members of the same species.\\n\\nTherefore, the correct answer is 'competition'.\""
      ]
     },
     "execution_count": 13,
     "metadata": {},
     "output_type": "execute_result"
    }
   ],
   "source": [
    "cot"
   ]
  },
  {
   "cell_type": "code",
   "execution_count": 29,
   "metadata": {},
   "outputs": [],
   "source": [
    "\"\"\"This chain tries answer extraction and supervision at once\"\"\"\n",
    "supervision_template = \"\"\"{instruction}\n",
    "\n",
    "Question: {question}\n",
    "Answer_choices: {answer_choices}\n",
    "\n",
    "Cot: {cot_trigger}{cot}\n",
    "{answer_extraction}\n",
    "{supervision}\n",
    "\"\"\"\n",
    "\n",
    "supervision = \"Double check this idea, are the reasoning and answer sound yes/no?\"\n",
    "\n",
    "prompt_template = PromptTemplate(input_variables=[\"instruction\",\"question\",\"answer_choices\",\"cot_trigger\",\"cot\",\"answer_extraction\",\"supervision\"], template=supervision_template)\n",
    "supervision_chain = LLMChain(llm=llm, prompt=prompt_template,output_key=\"self_supervision\")"
   ]
  },
  {
   "cell_type": "code",
   "execution_count": 21,
   "metadata": {},
   "outputs": [],
   "source": [
    "self_supervision = supervision_chain.run({\"instruction\":instruction,\"question\":question,\"answer_choices\":answer_choices,\"cot_trigger\":cot_trigger,\"cot\":cot,\"answer_extraction\":answer_extraction,\"supervision\":supervision})"
   ]
  },
  {
   "cell_type": "code",
   "execution_count": 30,
   "metadata": {},
   "outputs": [
    {
     "data": {
      "text/plain": [
       "'\\nYes, the reasoning and answer are sound.'"
      ]
     },
     "execution_count": 30,
     "metadata": {},
     "output_type": "execute_result"
    }
   ],
   "source": [
    "self_supervision"
   ]
  },
  {
   "cell_type": "code",
   "execution_count": 34,
   "metadata": {},
   "outputs": [
    {
     "name": "stdout",
     "output_type": "stream",
     "text": [
      "\n",
      "\n",
      "\u001b[1m> Entering new SequentialChain chain...\u001b[0m\n",
      "\n",
      "\u001b[1m> Finished chain.\u001b[0m\n"
     ]
    }
   ],
   "source": [
    "\"\"\"TODO double check cot input here, which does not correspond to documentation\n",
    "https://langchain.readthedocs.io/en/latest/modules/chains/generic/sequential_chains.html\"\"\"\n",
    "\n",
    "# This is the overall chain where we run these two chains in sequence.\n",
    "from langchain.chains import SequentialChain\n",
    "overall_chain = SequentialChain(chains=[cot_chain, supervision_chain],input_variables=[\"instruction\",\"question\",\"answer_choices\",\"cot_trigger\",'cot',\"answer_extraction\",\"supervision\"],\n",
    "    # Here we return multiple variables\n",
    "    output_variables=[\"cot\", \"self_supervision\"],\n",
    "    verbose=True)\n",
    "overall_supervision = overall_chain({\"instruction\":instruction,\"question\":question,\"answer_choices\":answer_choices,\"cot_trigger\":cot_trigger,\"cot\":cot,\"answer_extraction\":answer_extraction,\"supervision\":supervision})"
   ]
  },
  {
   "cell_type": "code",
   "execution_count": 35,
   "metadata": {},
   "outputs": [
    {
     "data": {
      "text/plain": [
       "{'instruction': 'Answer the following question through step-by-step reasoning.',\n",
       " 'question': ('Animals may fight, make threatening sounds, and act aggressively toward members of the same species. These behaviors usually occur as the result of',),\n",
       " 'answer_choices': ['competition',\n",
       "  'conservation',\n",
       "  'decomposition',\n",
       "  'pollution'],\n",
       " 'cot_trigger': \"Answer: Let's think step by step.\",\n",
       " 'cot': \"\\n1. Competition: Animals may fight, make threatening sounds, and act aggressively toward members of the same species as a result of competition. Competition can occur when animals are competing for resources such as food, water, or mates.\\n\\n2. Conservation: Conservation is the protection of natural resources and ecosystems. It does not directly relate to animals fighting, making threatening sounds, or acting aggressively toward members of the same species.\\n\\n3. Decomposition: Decomposition is the process by which organic matter is broken down into simpler forms of matter. It does not directly relate to animals fighting, making threatening sounds, or acting aggressively toward members of the same species.\\n\\n4. Pollution: Pollution is the introduction of contaminants into the environment. It does not directly relate to animals fighting, making threatening sounds, or acting aggressively toward members of the same species.\\n\\nTherefore, the correct answer is 'competition'.\",\n",
       " 'answer_extraction': 'Therefore, the answer is',\n",
       " 'supervision': 'Double check this idea, are the reasoning and answer sound yes/no?',\n",
       " 'self_supervision': '\\nYes, the reasoning and answer are sound.'}"
      ]
     },
     "execution_count": 35,
     "metadata": {},
     "output_type": "execute_result"
    }
   ],
   "source": [
    "overall_supervision"
   ]
  }
 ],
 "metadata": {
  "kernelspec": {
   "display_name": "base",
   "language": "python",
   "name": "python3"
  },
  "language_info": {
   "codemirror_mode": {
    "name": "ipython",
    "version": 3
   },
   "file_extension": ".py",
   "mimetype": "text/x-python",
   "name": "python",
   "nbconvert_exporter": "python",
   "pygments_lexer": "ipython3",
   "version": "3.9.12"
  },
  "vscode": {
   "interpreter": {
    "hash": "40d3a090f54c6569ab1632332b64b2c03c39dcf918b08424e98f38b5ae0af88f"
   }
  }
 },
 "nbformat": 4,
 "nbformat_minor": 0
}
