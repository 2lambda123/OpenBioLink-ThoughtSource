{
 "cells": [
  {
   "cell_type": "code",
   "execution_count": 2,
   "metadata": {},
   "outputs": [
    {
     "name": "stdout",
     "output_type": "stream",
     "text": [
      "Loading worldtree...\n",
      "n_samples: 100, n_instruction_keys: 1, n_cot_trigger_keys: 1, n_answer_extraction_keys: 1\n",
      "You are about to call the openai API which produces costs.\n",
      "Due to your settings you are about to call the openai API in total 200 times.\n",
      "Number API calls for CoT generation: n_samples * n_instruction_keys * n_cot_trigger_keys\n",
      "Number API calls for answer extraction: n_samples * n_instruction_keys * n_cot_trigger_keys * n_answer_extraction_keys\n",
      "Do you want to continue? y/n\n",
      "\n"
     ]
    },
    {
     "name": "stderr",
     "output_type": "stream",
     "text": [
      "No config specified, defaulting to: worldtree_dataset/worldtree_thoughtsource\n"
     ]
    },
    {
     "name": "stdout",
     "output_type": "stream",
     "text": [
      "{'accuracy': {'None_kojima-01_kojima-01': 0.84}}\n"
     ]
    }
   ],
   "source": [
    "from cot import Collection\n",
    "\n",
    "# 1) Dataset load and selecting random sample\n",
    "collection = Collection([\"worldtree\"], verbose=False)\n",
    "collection_worldtree_100 = collection.select(split=\"train\", number_samples=100)\n",
    "\n",
    "# 2) Language Model generates chains of thought and extracts answers\n",
    "config={\n",
    "    \"debug\": False,\n",
    "    \"instruction_keys\": [None],\n",
    "    \"cot_trigger_keys\": ['kojima-01'],\n",
    "    \"answer_extraction_keys\": ['kojima-01']\n",
    "}\n",
    "collection_worldtree_100.generate(config=config)\n",
    "\n",
    "# 3) Performance evaluation\n",
    "collection_worldtree_100.evaluate()"
   ]
  }
 ],
 "metadata": {
  "kernelspec": {
   "display_name": "Python 3.8.10 ('venv': venv)",
   "language": "python",
   "name": "python3"
  },
  "language_info": {
   "codemirror_mode": {
    "name": "ipython",
    "version": 3
   },
   "file_extension": ".py",
   "mimetype": "text/x-python",
   "name": "python",
   "nbconvert_exporter": "python",
   "pygments_lexer": "ipython3",
   "version": "3.8.10"
  },
  "orig_nbformat": 4,
  "vscode": {
   "interpreter": {
    "hash": "a19cb823e24c98ee05a9cfa4a3a579b5d56d4c1a735f2a12456750b95a1e155e"
   }
  }
 },
 "nbformat": 4,
 "nbformat_minor": 2
}
