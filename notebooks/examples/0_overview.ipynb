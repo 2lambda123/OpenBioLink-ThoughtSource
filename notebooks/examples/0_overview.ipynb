{
 "cells": [
  {
   "cell_type": "code",
   "execution_count": 1,
   "metadata": {},
   "outputs": [
    {
     "name": "stdout",
     "output_type": "stream",
     "text": [
      "Loading worldtree...\n",
      "\n",
      "            You are about to \u001b[1m call an external API \u001b[0m in total 20 times, which \u001b[1m may produce costs \u001b[0m.\n",
      "            Number API calls for CoT generation: n_samples 10 * n_instruction_keys 1 * n_cot_trigger_keys 1\n",
      "            Number API calls for answer extraction: n_samples 10 * n_instruction_keys 1 * n_cot_trigger_keys 1 * n_answer_extraction_keys 1\n",
      "            Do you want to continue? y/n\n",
      "            \n",
      "{'accuracy': {'qa-01_kojima-01_kojima-A-D': 0.8}}\n"
     ]
    }
   ],
   "source": [
    "from cot import Collection\n",
    "\n",
    "# 1) Dataset load and selecting random sample\n",
    "collection = Collection([\"worldtree\"], verbose=False)\n",
    "collection_worldtree_10 = collection.select(split=\"train\", number_samples=10)\n",
    "\n",
    "# 2) Language Model generates chains of thought and then extracts answers\n",
    "config={\n",
    "    \"debug\": False,\n",
    "    \"instruction_keys\": ['qa-01'],\n",
    "    \"cot_trigger_keys\": ['kojima-01'],\n",
    "    \"answer_extraction_keys\": ['kojima-A-D']\n",
    "}\n",
    "collection_worldtree_10.generate(config=config)\n",
    "\n",
    "# 3) Performance evaluation\n",
    "collection_worldtree_10.evaluate()\n"
   ]
  }
 ],
 "metadata": {
  "kernelspec": {
   "display_name": "Python 3.8.10 ('venv': venv)",
   "language": "python",
   "name": "python3"
  },
  "language_info": {
   "codemirror_mode": {
    "name": "ipython",
    "version": 3
   },
   "file_extension": ".py",
   "mimetype": "text/x-python",
   "name": "python",
   "nbconvert_exporter": "python",
   "pygments_lexer": "ipython3",
   "version": "3.8.10"
  },
  "orig_nbformat": 4,
  "vscode": {
   "interpreter": {
    "hash": "a19cb823e24c98ee05a9cfa4a3a579b5d56d4c1a735f2a12456750b95a1e155e"
   }
  }
 },
 "nbformat": 4,
 "nbformat_minor": 2
}
