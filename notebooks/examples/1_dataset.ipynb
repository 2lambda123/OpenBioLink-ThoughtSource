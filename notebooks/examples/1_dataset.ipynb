{
 "cells": [
  {
   "cell_type": "code",
   "execution_count": 1,
   "id": "0b410b12-370e-48f5-9a93-9f7821ed847e",
   "metadata": {},
   "outputs": [],
   "source": [
    "from cot import Collection"
   ]
  },
  {
   "cell_type": "markdown",
   "id": "bb5ec6ef-31a1-41f6-98df-ca1df05a5a25",
   "metadata": {},
   "source": [
    "## Loading dataset and generate random sample"
   ]
  },
  {
   "cell_type": "code",
   "execution_count": 2,
   "id": "6a3bc2e7-f4f6-434b-8722-609b55fe0c0f",
   "metadata": {},
   "outputs": [
    {
     "name": "stdout",
     "output_type": "stream",
     "text": [
      "Loading worldtree...\n",
      "| Name      |   Train |   Valid |   Test |\n",
      "|-----------|---------|---------|--------|\n",
      "| worldtree |    2207 |     496 |   1664 |\n",
      "\n",
      "Not loaded: ['aqua', 'asdiv', 'commonsense_qa', 'entailment_bank', 'gsm8k', 'mawps', 'open_book_qa', 'qed', 'strategy_qa', 'svamp']\n"
     ]
    }
   ],
   "source": [
    "# load datasets to sample from \n",
    "collection_worldtree = Collection([\"worldtree\"], verbose=False)\n",
    "print(collection_worldtree)"
   ]
  },
  {
   "cell_type": "code",
   "execution_count": 3,
   "id": "2f2ec5ce",
   "metadata": {},
   "outputs": [
    {
     "data": {
      "text/plain": [
       "| Name      |   Train | Valid   | Test   |\n",
       "|-----------|---------|---------|--------|\n",
       "| worldtree |    2207 | -       | -      |\n",
       "\n",
       "Not loaded: ['aqua', 'asdiv', 'commonsense_qa', 'entailment_bank', 'gsm8k', 'mawps', 'open_book_qa', 'qed', 'strategy_qa', 'svamp']"
      ]
     },
     "execution_count": 3,
     "metadata": {},
     "output_type": "execute_result"
    }
   ],
   "source": [
    "# example: selecting the train split\n",
    "collection_worldtree.select(split=\"train\")"
   ]
  },
  {
   "cell_type": "code",
   "execution_count": 4,
   "id": "1c1c6dcc",
   "metadata": {},
   "outputs": [
    {
     "data": {
      "text/plain": [
       "| Name      |   Train | Valid   | Test   |\n",
       "|-----------|---------|---------|--------|\n",
       "| worldtree |     100 | -       | -      |\n",
       "\n",
       "Not loaded: ['aqua', 'asdiv', 'commonsense_qa', 'entailment_bank', 'gsm8k', 'mawps', 'open_book_qa', 'qed', 'strategy_qa', 'svamp']"
      ]
     },
     "execution_count": 4,
     "metadata": {},
     "output_type": "execute_result"
    }
   ],
   "source": [
    "# selecting random 100 rows of train split\n",
    "collection_worldtree_100 = collection_worldtree.select(split=\"train\", number_samples=100, random_samples=True, seed=0)\n",
    "collection_worldtree_100"
   ]
  },
  {
   "cell_type": "code",
   "execution_count": 5,
   "id": "19e1b279",
   "metadata": {},
   "outputs": [],
   "source": [
    "collection_worldtree_100.dump(\"worldtree_100_dataset.json\")"
   ]
  },
  {
   "cell_type": "markdown",
   "id": "bb5ec6ef-31a1-41f6-98df-ca1df05a5a25",
   "metadata": {},
   "source": [
    "### Additional Example: generate random samples of all datasets"
   ]
  },
  {
   "cell_type": "code",
   "execution_count": 6,
   "id": "6a3bc2e7-f4f6-434b-8722-609b55fe0c0f",
   "metadata": {},
   "outputs": [
    {
     "name": "stdout",
     "output_type": "stream",
     "text": [
      "Loading aqua...\n",
      "Loading asdiv...\n",
      "Loading commonsense_qa...\n",
      "Loading entailment_bank...\n",
      "Loading gsm8k...\n",
      "Loading mawps...\n",
      "Loading open_book_qa...\n",
      "Loading qed...\n",
      "Loading strategy_qa...\n",
      "Loading svamp...\n",
      "Loading worldtree...\n",
      "| Name            |   Train | Valid   | Test   |\n",
      "|-----------------|---------|---------|--------|\n",
      "| aqua            |   97467 | 254     | 254    |\n",
      "| asdiv           |    1218 | -       | -      |\n",
      "| commonsense_qa  |    9741 | 1221    | 1140   |\n",
      "| entailment_bank |    1313 | 187     | 340    |\n",
      "| gsm8k           |    7473 | -       | 1319   |\n",
      "| mawps           |    1921 | -       | -      |\n",
      "| open_book_qa    |    4957 | 500     | 500    |\n",
      "| qed             |    5154 | 1021    | -      |\n",
      "| strategy_qa     |    2290 | -       | 490    |\n",
      "| svamp           |    1000 | -       | -      |\n",
      "| worldtree       |    2207 | 496     | 1664   |\n",
      "\n",
      "Not loaded: []\n"
     ]
    }
   ],
   "source": [
    "# load datasets to sample from\n",
    "collection = Collection(\"all\", verbose=False)\n",
    "print(collection)"
   ]
  },
  {
   "cell_type": "code",
   "execution_count": 7,
   "id": "23efa77c",
   "metadata": {},
   "outputs": [
    {
     "data": {
      "text/plain": [
       "| Name            |   Train | Valid   | Test   |\n",
       "|-----------------|---------|---------|--------|\n",
       "| aqua            |     100 | -       | -      |\n",
       "| asdiv           |     100 | -       | -      |\n",
       "| commonsense_qa  |     100 | -       | -      |\n",
       "| entailment_bank |     100 | -       | -      |\n",
       "| gsm8k           |     100 | -       | -      |\n",
       "| mawps           |     100 | -       | -      |\n",
       "| open_book_qa    |     100 | -       | -      |\n",
       "| qed             |     100 | -       | -      |\n",
       "| strategy_qa     |     100 | -       | -      |\n",
       "| svamp           |     100 | -       | -      |\n",
       "| worldtree       |     100 | -       | -      |\n",
       "\n",
       "Not loaded: []"
      ]
     },
     "execution_count": 7,
     "metadata": {},
     "output_type": "execute_result"
    }
   ],
   "source": [
    "collection_train_random_100 = collection.select(split=\"train\", number_samples=100, random_samples=True, seed=0)\n",
    "collection_train_random_100"
   ]
  }
 ],
 "metadata": {
  "kernelspec": {
   "display_name": "Python 3.8.10 ('venv': venv)",
   "language": "python",
   "name": "python3"
  },
  "language_info": {
   "codemirror_mode": {
    "name": "ipython",
    "version": 3
   },
   "file_extension": ".py",
   "mimetype": "text/x-python",
   "name": "python",
   "nbconvert_exporter": "python",
   "pygments_lexer": "ipython3",
   "version": "3.8.10"
  },
  "vscode": {
   "interpreter": {
    "hash": "a19cb823e24c98ee05a9cfa4a3a579b5d56d4c1a735f2a12456750b95a1e155e"
   }
  }
 },
 "nbformat": 4,
 "nbformat_minor": 5
}
