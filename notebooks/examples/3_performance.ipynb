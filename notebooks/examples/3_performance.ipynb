{
 "cells": [
  {
   "cell_type": "code",
<<<<<<< HEAD
   "execution_count": 1,
=======
   "execution_count": 14,
>>>>>>> first version to give overview, not everything working yet
   "metadata": {},
   "outputs": [],
   "source": [
    "from cot import Collection\n",
    "from pprint import pprint"
   ]
  },
  {
   "cell_type": "markdown",
   "id": "4f57e102",
   "metadata": {},
   "source": [
    "# Performance Evaluation of model outputs"
   ]
  },
  {
   "cell_type": "code",
<<<<<<< HEAD
   "execution_count": 2,
=======
   "execution_count": 15,
>>>>>>> first version to give overview, not everything working yet
   "metadata": {},
   "outputs": [
    {
     "name": "stderr",
     "output_type": "stream",
     "text": [
      "No config specified, defaulting to: worldtree_dataset/worldtree_thoughtsource\n"
     ]
    }
   ],
   "source": [
<<<<<<< HEAD
    "# Loading collection with model answers\n",
=======
>>>>>>> first version to give overview, not everything working yet
    "collection = Collection.from_json(\"worldtree_100_model.json\")"
   ]
  },
  {
   "cell_type": "code",
<<<<<<< HEAD
   "execution_count": 3,
=======
   "execution_count": 17,
>>>>>>> first version to give overview, not everything working yet
   "metadata": {},
   "outputs": [
    {
     "data": {
      "text/plain": [
       "{'answer-extraction': 'kojima-01',\n",
       " 'answer': ' C) being a good cook.',\n",
       " 'correct_answer': None}"
      ]
     },
<<<<<<< HEAD
     "execution_count": 3,
=======
     "execution_count": 17,
>>>>>>> first version to give overview, not everything working yet
     "metadata": {},
     "output_type": "execute_result"
    }
   ],
   "source": [
<<<<<<< HEAD
    "# Before the evaluation step the collection does not include if the answer is correct\n",
=======
    "# The collection does not include information about if the answer is correct yet\n",
>>>>>>> first version to give overview, not everything working yet
    "# 'correct_answer': None\n",
    "collection[\"worldtree\"][\"train\"][0]['generated_cot'][0][\"answers\"][0]"
   ]
  },
  {
   "cell_type": "code",
<<<<<<< HEAD
   "execution_count": 4,
=======
   "execution_count": 21,
>>>>>>> first version to give overview, not everything working yet
   "metadata": {},
   "outputs": [
    {
     "data": {
      "application/vnd.jupyter.widget-view+json": {
<<<<<<< HEAD
       "model_id": "7f6c824e597341ff8ae2702548f55d49",
=======
       "model_id": "415e2941987b4651a5588d76cb123aa2",
>>>>>>> first version to give overview, not everything working yet
       "version_major": 2,
       "version_minor": 0
      },
      "text/plain": [
       "  0%|          | 0/100 [00:00<?, ?ex/s]"
      ]
     },
     "metadata": {},
     "output_type": "display_data"
    },
    {
     "name": "stdout",
     "output_type": "stream",
     "text": [
      "{'accuracy': {'None_kojima-01_kojima-01': 0.84}}\n"
     ]
    }
   ],
   "source": [
    "# Evaluate the accuracy of the model predictions\n",
    "collection.evaluate(\"worldtree\",\"train\")"
   ]
  },
  {
   "cell_type": "code",
<<<<<<< HEAD
   "execution_count": 5,
=======
   "execution_count": 19,
>>>>>>> first version to give overview, not everything working yet
   "metadata": {},
   "outputs": [
    {
     "data": {
      "text/plain": [
       "{'answer-extraction': 'kojima-01',\n",
       " 'answer': ' C) being a good cook.',\n",
       " 'correct_answer': True}"
      ]
     },
<<<<<<< HEAD
     "execution_count": 5,
=======
     "execution_count": 19,
>>>>>>> first version to give overview, not everything working yet
     "metadata": {},
     "output_type": "execute_result"
    }
   ],
   "source": [
    "# Now the collection includes if the answer is correct\n",
    "# 'correct_answer': True\n",
    "collection[\"worldtree\"][\"train\"][0]['generated_cot'][0][\"answers\"][0]"
   ]
  },
  {
   "cell_type": "code",
<<<<<<< HEAD
   "execution_count": 6,
=======
   "execution_count": 22,
>>>>>>> first version to give overview, not everything working yet
   "metadata": {},
   "outputs": [
    {
     "data": {
      "application/vnd.jupyter.widget-view+json": {
<<<<<<< HEAD
       "model_id": "02e6dc2d163e49d997ce64d2a61a25cf",
=======
       "model_id": "4acafd365d554237abea716020531488",
>>>>>>> first version to give overview, not everything working yet
       "version_major": 2,
       "version_minor": 0
      },
      "text/plain": [
       "Creating json from Arrow format:   0%|          | 0/1 [00:00<?, ?ba/s]"
      ]
     },
     "metadata": {},
     "output_type": "display_data"
    }
   ],
   "source": [
    "collection.dump(\"worldtree_100_performance.json\")"
   ]
  }
 ],
 "metadata": {
  "kernelspec": {
   "display_name": "Python 3.8.10 ('venv': venv)",
   "language": "python",
   "name": "python3"
  },
  "language_info": {
   "codemirror_mode": {
    "name": "ipython",
    "version": 3
   },
   "file_extension": ".py",
   "mimetype": "text/x-python",
   "name": "python",
   "nbconvert_exporter": "python",
   "pygments_lexer": "ipython3",
   "version": "3.8.10"
  },
  "orig_nbformat": 4,
  "vscode": {
   "interpreter": {
    "hash": "a19cb823e24c98ee05a9cfa4a3a579b5d56d4c1a735f2a12456750b95a1e155e"
   }
  }
 },
 "nbformat": 4,
 "nbformat_minor": 2
}
