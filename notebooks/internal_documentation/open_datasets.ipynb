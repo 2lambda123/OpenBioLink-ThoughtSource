{
 "cells": [
  {
   "cell_type": "code",
   "execution_count": 11,
   "metadata": {},
   "outputs": [
    {
     "data": {
      "application/vnd.jupyter.widget-view+json": {
       "model_id": "3fbd39541f754755864f40722523684a",
       "version_major": 2,
       "version_minor": 0
      },
      "text/plain": [
       "Downloading builder script:   0%|          | 0.00/5.20k [00:00<?, ?B/s]"
      ]
     },
     "metadata": {},
     "output_type": "display_data"
    },
    {
     "name": "stderr",
     "output_type": "stream",
     "text": [
      "Reusing dataset hendrycks_test (/home/kon/.cache/huggingface/datasets/tasksource___hendrycks_test/anatomy/1.0.0/da17f13c624cfbd07e63769c1c8e13be5dec4a17238a116a13e74bca5d0b4b04)\n"
     ]
    },
    {
     "data": {
      "application/vnd.jupyter.widget-view+json": {
       "model_id": "74bad5193ede45ba951f6c8e1e3c069c",
       "version_major": 2,
       "version_minor": 0
      },
      "text/plain": [
       "  0%|          | 0/3 [00:00<?, ?it/s]"
      ]
     },
     "metadata": {},
     "output_type": "display_data"
    }
   ],
   "source": [
    "from datasets import load_dataset\n",
    "\n",
    "dataset = load_dataset(\"tasksource/mmlu\", \"anatomy\")"
   ]
  },
  {
   "cell_type": "code",
   "execution_count": 16,
   "metadata": {},
   "outputs": [
    {
     "data": {
      "text/plain": [
       "{'question': 'Which of the following structures travel through the substance of the parotid gland?',\n",
       " 'choices': ['The maxillary artery',\n",
       "  'The maxillary artery and retromandibular vein',\n",
       "  'The maxillary artery, retromandibular vein and facial artery',\n",
       "  'The maxillary artery, retromandibular vein, facial artery and buccal branch of the mandibular nerve'],\n",
       " 'answer': 1}"
      ]
     },
     "execution_count": 16,
     "metadata": {},
     "output_type": "execute_result"
    }
   ],
   "source": [
    "dataset[\"validation\"][1]"
   ]
  },
  {
   "cell_type": "code",
   "execution_count": 18,
   "metadata": {},
   "outputs": [
    {
     "data": {
      "text/plain": [
       "{'question': 'Which of the following is the commonest cause of dementia in the UK?',\n",
       " 'choices': [\"Alzheimer's disease.\",\n",
       "  'Cerebrovascular (stroke) disease.',\n",
       "  'Lewy body dementia.',\n",
       "  'HIV infection.'],\n",
       " 'answer': 0}"
      ]
     },
     "execution_count": 18,
     "metadata": {},
     "output_type": "execute_result"
    }
   ],
   "source": [
    "dataset[\"test\"][2]"
   ]
  }
 ],
 "metadata": {
  "kernelspec": {
   "display_name": "venv",
   "language": "python",
   "name": "python3"
  },
  "language_info": {
   "codemirror_mode": {
    "name": "ipython",
    "version": 3
   },
   "file_extension": ".py",
   "mimetype": "text/x-python",
   "name": "python",
   "nbconvert_exporter": "python",
   "pygments_lexer": "ipython3",
   "version": "3.10.6"
  },
  "orig_nbformat": 4
 },
 "nbformat": 4,
 "nbformat_minor": 2
}
