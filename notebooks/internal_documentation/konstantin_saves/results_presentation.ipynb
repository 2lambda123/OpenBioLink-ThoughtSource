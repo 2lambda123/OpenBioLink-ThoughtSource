{
 "cells": [
  {
   "cell_type": "code",
   "execution_count": 43,
   "metadata": {},
   "outputs": [],
   "source": [
    "from cot import Collection\n",
    "from cot.stats import evaluation_as_table\n",
    "from cot.stats import highlight_max"
   ]
  },
  {
   "attachments": {},
   "cell_type": "markdown",
   "metadata": {},
   "source": [
    "## filtering datasets"
   ]
  },
  {
   "attachments": {},
   "cell_type": "markdown",
   "metadata": {},
   "source": [
    "First selecting the generated cots, then filter samples for samples with generated cots left."
   ]
  },
  {
   "cell_type": "code",
   "execution_count": 45,
   "metadata": {},
   "outputs": [],
   "source": [
    "coll = Collection.load_thoughtsource_100()"
   ]
  },
  {
   "cell_type": "code",
   "execution_count": 46,
   "metadata": {},
   "outputs": [],
   "source": [
    "coll.select_generated_cots(\n",
    "    author=\n",
    "        'thoughtsource',\n",
    "    model=[\n",
    "        # 'text-davinci-002',\n",
    "        # 'text-davinci-003',\n",
    "        # 'gpt-3.5-turbo',\n",
    "        'gpt-4',\n",
    "        # 'flan-T5-xxl',\n",
    "    ],\n",
    "    cot_trigger=[\n",
    "        None, \n",
    "        'zhou-01'\n",
    "    ],\n",
    "    instruction=[\n",
    "        None\n",
    "    ]\n",
    "    # answer= False\n",
    "    )"
   ]
  },
  {
   "cell_type": "code",
   "execution_count": 47,
   "metadata": {},
   "outputs": [],
   "source": [
    "# length_table = len(df.columns)\n",
    "# coll.select_generated_cots(answer=False)\n",
    "# coll = coll.filter(lambda x: len(x[\"generated_cot\"])==length_table)\n",
    "# coll"
   ]
  },
  {
   "attachments": {},
   "cell_type": "markdown",
   "metadata": {},
   "source": [
    "## simple tables"
   ]
  },
  {
   "cell_type": "code",
   "execution_count": 48,
   "metadata": {},
   "outputs": [
    {
     "data": {
      "text/html": [
       "<style type=\"text/css\">\n",
       "#T_a7931_row0_col0, #T_a7931_row1_col1, #T_a7931_row2_col1, #T_a7931_row3_col1, #T_a7931_row4_col1, #T_a7931_row5_col0, #T_a7931_row6_col1 {\n",
       "  font-weight: bold;\n",
       "}\n",
       "</style>\n",
       "<table id=\"T_a7931\">\n",
       "  <thead>\n",
       "    <tr>\n",
       "      <th class=\"blank level0\" >&nbsp;</th>\n",
       "      <th id=\"T_a7931_level0_col0\" class=\"col_heading level0 col0\" >None_None</th>\n",
       "      <th id=\"T_a7931_level0_col1\" class=\"col_heading level0 col1\" >None_zhou-01</th>\n",
       "    </tr>\n",
       "    <tr>\n",
       "      <th class=\"blank level1\" >&nbsp;</th>\n",
       "      <th id=\"T_a7931_level1_col0\" class=\"col_heading level1 col0\" >gpt-4</th>\n",
       "      <th id=\"T_a7931_level1_col1\" class=\"col_heading level1 col1\" >gpt-4</th>\n",
       "    </tr>\n",
       "  </thead>\n",
       "  <tbody>\n",
       "    <tr>\n",
       "      <th id=\"T_a7931_level0_row0\" class=\"row_heading level0 row0\" >commonsense_qa</th>\n",
       "      <td id=\"T_a7931_row0_col0\" class=\"data row0 col0\" >0.75</td>\n",
       "      <td id=\"T_a7931_row0_col1\" class=\"data row0 col1\" >0.72</td>\n",
       "    </tr>\n",
       "    <tr>\n",
       "      <th id=\"T_a7931_level0_row1\" class=\"row_heading level0 row1\" >med_qa</th>\n",
       "      <td id=\"T_a7931_row1_col0\" class=\"data row1 col0\" >0.73</td>\n",
       "      <td id=\"T_a7931_row1_col1\" class=\"data row1 col1\" >0.76</td>\n",
       "    </tr>\n",
       "    <tr>\n",
       "      <th id=\"T_a7931_level0_row2\" class=\"row_heading level0 row2\" >medmc_qa</th>\n",
       "      <td id=\"T_a7931_row2_col0\" class=\"data row2 col0\" >0.69</td>\n",
       "      <td id=\"T_a7931_row2_col1\" class=\"data row2 col1\" >0.70</td>\n",
       "    </tr>\n",
       "    <tr>\n",
       "      <th id=\"T_a7931_level0_row3\" class=\"row_heading level0 row3\" >open_book_qa</th>\n",
       "      <td id=\"T_a7931_row3_col0\" class=\"data row3 col0\" >0.92</td>\n",
       "      <td id=\"T_a7931_row3_col1\" class=\"data row3 col1\" >0.95</td>\n",
       "    </tr>\n",
       "    <tr>\n",
       "      <th id=\"T_a7931_level0_row4\" class=\"row_heading level0 row4\" >strategy_qa</th>\n",
       "      <td id=\"T_a7931_row4_col0\" class=\"data row4 col0\" >0.71</td>\n",
       "      <td id=\"T_a7931_row4_col1\" class=\"data row4 col1\" >0.80</td>\n",
       "    </tr>\n",
       "    <tr>\n",
       "      <th id=\"T_a7931_level0_row5\" class=\"row_heading level0 row5\" >worldtree</th>\n",
       "      <td id=\"T_a7931_row5_col0\" class=\"data row5 col0\" >0.99</td>\n",
       "      <td id=\"T_a7931_row5_col1\" class=\"data row5 col1\" >0.99</td>\n",
       "    </tr>\n",
       "    <tr>\n",
       "      <th id=\"T_a7931_level0_row6\" class=\"row_heading level0 row6\" >Average</th>\n",
       "      <td id=\"T_a7931_row6_col0\" class=\"data row6 col0\" >0.80</td>\n",
       "      <td id=\"T_a7931_row6_col1\" class=\"data row6 col1\" >0.82</td>\n",
       "    </tr>\n",
       "  </tbody>\n",
       "</table>\n"
      ],
      "text/plain": [
       "<pandas.io.formats.style.Styler at 0x7efdc3f22e60>"
      ]
     },
     "execution_count": 48,
     "metadata": {},
     "output_type": "execute_result"
    }
   ],
   "source": [
    "eval = coll.evaluate()\n",
    "df = evaluation_as_table(eval)\n",
    "df"
   ]
  },
  {
   "cell_type": "code",
   "execution_count": 49,
   "metadata": {},
   "outputs": [],
   "source": [
    "df = df.data"
   ]
  },
  {
   "cell_type": "code",
   "execution_count": null,
   "metadata": {},
   "outputs": [],
   "source": [
    "df = df[\"None_None\"]"
   ]
  },
  {
   "cell_type": "code",
   "execution_count": 41,
   "metadata": {},
   "outputs": [],
   "source": [
    "df = df[['text-davinci-002', 'text-davinci-003', 'gpt-3.5-turbo', 'gpt-4']]"
   ]
  },
  {
   "cell_type": "code",
   "execution_count": 50,
   "metadata": {},
   "outputs": [
    {
     "data": {
      "text/html": [
       "<style type=\"text/css\">\n",
       "#T_5bf65_row0_col0, #T_5bf65_row1_col1, #T_5bf65_row2_col1, #T_5bf65_row3_col1, #T_5bf65_row4_col1, #T_5bf65_row5_col0, #T_5bf65_row6_col1 {\n",
       "  font-weight: bold;\n",
       "}\n",
       "</style>\n",
       "<table id=\"T_5bf65\">\n",
       "  <thead>\n",
       "    <tr>\n",
       "      <th class=\"blank level0\" >&nbsp;</th>\n",
       "      <th id=\"T_5bf65_level0_col0\" class=\"col_heading level0 col0\" >None_None</th>\n",
       "      <th id=\"T_5bf65_level0_col1\" class=\"col_heading level0 col1\" >None_zhou-01</th>\n",
       "    </tr>\n",
       "    <tr>\n",
       "      <th class=\"blank level1\" >&nbsp;</th>\n",
       "      <th id=\"T_5bf65_level1_col0\" class=\"col_heading level1 col0\" >gpt-4</th>\n",
       "      <th id=\"T_5bf65_level1_col1\" class=\"col_heading level1 col1\" >gpt-4</th>\n",
       "    </tr>\n",
       "  </thead>\n",
       "  <tbody>\n",
       "    <tr>\n",
       "      <th id=\"T_5bf65_level0_row0\" class=\"row_heading level0 row0\" >commonsense_qa</th>\n",
       "      <td id=\"T_5bf65_row0_col0\" class=\"data row0 col0\" >0.75</td>\n",
       "      <td id=\"T_5bf65_row0_col1\" class=\"data row0 col1\" >0.72</td>\n",
       "    </tr>\n",
       "    <tr>\n",
       "      <th id=\"T_5bf65_level0_row1\" class=\"row_heading level0 row1\" >med_qa</th>\n",
       "      <td id=\"T_5bf65_row1_col0\" class=\"data row1 col0\" >0.73</td>\n",
       "      <td id=\"T_5bf65_row1_col1\" class=\"data row1 col1\" >0.76</td>\n",
       "    </tr>\n",
       "    <tr>\n",
       "      <th id=\"T_5bf65_level0_row2\" class=\"row_heading level0 row2\" >medmc_qa</th>\n",
       "      <td id=\"T_5bf65_row2_col0\" class=\"data row2 col0\" >0.69</td>\n",
       "      <td id=\"T_5bf65_row2_col1\" class=\"data row2 col1\" >0.70</td>\n",
       "    </tr>\n",
       "    <tr>\n",
       "      <th id=\"T_5bf65_level0_row3\" class=\"row_heading level0 row3\" >open_book_qa</th>\n",
       "      <td id=\"T_5bf65_row3_col0\" class=\"data row3 col0\" >0.92</td>\n",
       "      <td id=\"T_5bf65_row3_col1\" class=\"data row3 col1\" >0.95</td>\n",
       "    </tr>\n",
       "    <tr>\n",
       "      <th id=\"T_5bf65_level0_row4\" class=\"row_heading level0 row4\" >strategy_qa</th>\n",
       "      <td id=\"T_5bf65_row4_col0\" class=\"data row4 col0\" >0.71</td>\n",
       "      <td id=\"T_5bf65_row4_col1\" class=\"data row4 col1\" >0.80</td>\n",
       "    </tr>\n",
       "    <tr>\n",
       "      <th id=\"T_5bf65_level0_row5\" class=\"row_heading level0 row5\" >worldtree</th>\n",
       "      <td id=\"T_5bf65_row5_col0\" class=\"data row5 col0\" >0.99</td>\n",
       "      <td id=\"T_5bf65_row5_col1\" class=\"data row5 col1\" >0.99</td>\n",
       "    </tr>\n",
       "    <tr>\n",
       "      <th id=\"T_5bf65_level0_row6\" class=\"row_heading level0 row6\" >Average</th>\n",
       "      <td id=\"T_5bf65_row6_col0\" class=\"data row6 col0\" >0.80</td>\n",
       "      <td id=\"T_5bf65_row6_col1\" class=\"data row6 col1\" >0.82</td>\n",
       "    </tr>\n",
       "  </tbody>\n",
       "</table>\n"
      ],
      "text/plain": [
       "<pandas.io.formats.style.Styler at 0x7efdc3f00df0>"
      ]
     },
     "execution_count": 50,
     "metadata": {},
     "output_type": "execute_result"
    }
   ],
   "source": [
    "# make the biggest value bold\n",
    "df.style.apply(highlight_max, axis=1).format(precision=2)"
   ]
  },
  {
   "attachments": {},
   "cell_type": "markdown",
   "metadata": {},
   "source": [
    "## making nice tables"
   ]
  },
  {
   "cell_type": "code",
   "execution_count": null,
   "metadata": {},
   "outputs": [],
   "source": [
    "eval = coll.evaluate()\n",
    "df = evaluation_as_table(eval)\n",
    "df"
   ]
  },
  {
   "cell_type": "code",
   "execution_count": null,
   "metadata": {},
   "outputs": [],
   "source": [
    "df.to_excel(\"thoughtsource_100_T5.xlsx\")"
   ]
  },
  {
   "cell_type": "code",
   "execution_count": null,
   "metadata": {},
   "outputs": [],
   "source": [
    "import pandas as pd"
   ]
  },
  {
   "cell_type": "code",
   "execution_count": null,
   "metadata": {},
   "outputs": [],
   "source": [
    "# read excel file and convert to dataframe without index\n",
    "df = pd.read_excel(\"thoughtsource_100.xlsx\", index_col=0)"
   ]
  },
  {
   "cell_type": "code",
   "execution_count": null,
   "metadata": {},
   "outputs": [],
   "source": [
    "df"
   ]
  },
  {
   "cell_type": "code",
   "execution_count": null,
   "metadata": {},
   "outputs": [],
   "source": [
    "# make column improvement as percentage\n",
    "df['Improvement'] = df['Improvement'].apply(lambda x: '+' + str(x) + '%')"
   ]
  },
  {
   "cell_type": "code",
   "execution_count": null,
   "metadata": {},
   "outputs": [],
   "source": [
    "# make one column bold\n",
    "df.style.set_properties(**{'font-weight': 'bold'}, subset=['GPT-4']).format(precision=2)"
   ]
  },
  {
   "cell_type": "code",
   "execution_count": null,
   "metadata": {},
   "outputs": [],
   "source": [
    "df.to_html(\"ChatGpt-vs-gpt4\")"
   ]
  },
  {
   "cell_type": "code",
   "execution_count": null,
   "metadata": {},
   "outputs": [],
   "source": [
    "# plot the dataframe as a df\n",
    "fig, ax = plt.subplots(figsize=(10, 5))\n",
    "ax.axis('off')\n",
    "ax.axis('tight')\n",
    "ax.df(cellText=df.values, colLabels=df.columns, loc='center')\n",
    "\n",
    "# save the plot as an image\n",
    "plt.savefig('dataframe.png')"
   ]
  },
  {
   "cell_type": "code",
   "execution_count": null,
   "metadata": {},
   "outputs": [],
   "source": [
    "# read excel file and convert to dataframe without index\n",
    "df = pd.read_excel(\"thoughtsource_100_T5.xlsx\", index_col=0)"
   ]
  },
  {
   "cell_type": "code",
   "execution_count": null,
   "metadata": {},
   "outputs": [],
   "source": [
    "df"
   ]
  },
  {
   "cell_type": "code",
   "execution_count": null,
   "metadata": {},
   "outputs": [],
   "source": [
    "# make the biggest value bold\n",
    "df.style.apply(highlight_max, axis=1).format(precision=2)"
   ]
  }
 ],
 "metadata": {
  "kernelspec": {
   "display_name": "venv",
   "language": "python",
   "name": "python3"
  },
  "language_info": {
   "codemirror_mode": {
    "name": "ipython",
    "version": 3
   },
   "file_extension": ".py",
   "mimetype": "text/x-python",
   "name": "python",
   "nbconvert_exporter": "python",
   "pygments_lexer": "ipython3",
   "version": "3.10.6"
  },
  "orig_nbformat": 4
 },
 "nbformat": 4,
 "nbformat_minor": 2
}
