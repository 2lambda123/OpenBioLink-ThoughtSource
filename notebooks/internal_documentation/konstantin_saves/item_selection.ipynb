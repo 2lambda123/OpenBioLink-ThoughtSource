{
 "cells": [
  {
   "cell_type": "code",
   "execution_count": 2,
   "metadata": {},
   "outputs": [],
   "source": [
    "from cot import Collection\n",
    "from cot.stats import evaluation_as_table\n",
    "from cot.create import create_thoughtsource"
   ]
  },
  {
   "cell_type": "code",
   "execution_count": 2,
   "metadata": {},
   "outputs": [
    {
     "name": "stderr",
     "output_type": "stream",
     "text": [
      "[nltk_data] Downloading package punkt to /home/kon/nltk_data...\n",
      "[nltk_data]   Package punkt is already up-to-date!\n"
     ]
    },
    {
     "data": {
      "application/vnd.jupyter.widget-view+json": {
       "model_id": "72ca837304f0441c983142c596c5d866",
       "version_major": 2,
       "version_minor": 0
      },
      "text/plain": [
       "  0%|          | 0/100 [00:00<?, ?ex/s]"
      ]
     },
     "metadata": {},
     "output_type": "display_data"
    },
    {
     "data": {
      "application/vnd.jupyter.widget-view+json": {
       "model_id": "f34ff641f1d04fe18dde4e84719c7df5",
       "version_major": 2,
       "version_minor": 0
      },
      "text/plain": [
       "  0%|          | 0/100 [00:00<?, ?ex/s]"
      ]
     },
     "metadata": {},
     "output_type": "display_data"
    },
    {
     "data": {
      "application/vnd.jupyter.widget-view+json": {
       "model_id": "5c5f71c864e8457883931130a9b1ea1e",
       "version_major": 2,
       "version_minor": 0
      },
      "text/plain": [
       "  0%|          | 0/100 [00:00<?, ?ex/s]"
      ]
     },
     "metadata": {},
     "output_type": "display_data"
    },
    {
     "data": {
      "application/vnd.jupyter.widget-view+json": {
       "model_id": "1d35167c991c464c9367f3401312a1c9",
       "version_major": 2,
       "version_minor": 0
      },
      "text/plain": [
       "  0%|          | 0/100 [00:00<?, ?ex/s]"
      ]
     },
     "metadata": {},
     "output_type": "display_data"
    },
    {
     "data": {
      "application/vnd.jupyter.widget-view+json": {
       "model_id": "cd7fcdda0b664bc1bd3c15679a18388b",
       "version_major": 2,
       "version_minor": 0
      },
      "text/plain": [
       "  0%|          | 0/100 [00:00<?, ?ex/s]"
      ]
     },
     "metadata": {},
     "output_type": "display_data"
    },
    {
     "data": {
      "application/vnd.jupyter.widget-view+json": {
       "model_id": "fddaa2cff0f3402e90fdd8a47c712cff",
       "version_major": 2,
       "version_minor": 0
      },
      "text/plain": [
       "  0%|          | 0/100 [00:00<?, ?ex/s]"
      ]
     },
     "metadata": {},
     "output_type": "display_data"
    }
   ],
   "source": [
    "ts_100 = Collection.load_thoughtsource_100(load_pregenerated_cots=False)"
   ]
  },
  {
   "cell_type": "code",
   "execution_count": 9,
   "metadata": {},
   "outputs": [],
   "source": [
    "# ts_100.dump_ids(\"ts_100_ids.txt\")"
   ]
  },
  {
   "cell_type": "code",
   "execution_count": 10,
   "metadata": {},
   "outputs": [],
   "source": [
    "from numpy import loadtxt, savetxt\n",
    "ts_100_ids = loadtxt(\"ts_100_ids.txt\", dtype=str, comments=\"#\", delimiter=\",\", unpack=False)"
   ]
  },
  {
   "cell_type": "code",
   "execution_count": 80,
   "metadata": {},
   "outputs": [
    {
     "name": "stdout",
     "output_type": "stream",
     "text": [
      "Loading commonsense_qa...\n",
      "Loading med_qa...\n",
      "Loading medmc_qa...\n",
      "Loading medmc_qa...\n",
      "Loading open_book_qa...\n",
      "Loading strategy_qa...\n",
      "Loading worldtree...\n"
     ]
    }
   ],
   "source": [
    "ts_167 = create_thoughtsource(167, load_pregenerated_cots=False)"
   ]
  },
  {
   "cell_type": "code",
   "execution_count": 83,
   "metadata": {},
   "outputs": [
    {
     "data": {
      "text/plain": [
       "| Name           | Train   | Valid   | Test   |\n",
       "|----------------|---------|---------|--------|\n",
       "| commonsense_qa | -       | 167     | -      |\n",
       "| med_qa         | -       | -       | 167    |\n",
       "| medmc_qa       | -       | 167     | -      |\n",
       "| open_book_qa   | -       | -       | 167    |\n",
       "| strategy_qa    | 167     | -       | -      |\n",
       "| worldtree      | -       | -       | 167    |\n",
       "\n",
       "Not loaded: ['aqua', 'asdiv', 'entailment_bank', 'gsm8k', 'mawps', 'pubmed_qa', 'qed', 'svamp']"
      ]
     },
     "execution_count": 83,
     "metadata": {},
     "output_type": "execute_result"
    }
   ],
   "source": [
    "ts_167"
   ]
  },
  {
   "cell_type": "code",
   "execution_count": 84,
   "metadata": {},
   "outputs": [
    {
     "data": {
      "text/plain": [
       "| Name           | Train   | Valid   | Test   |\n",
       "|----------------|---------|---------|--------|\n",
       "| commonsense_qa | -       | 100     | -      |\n",
       "| med_qa         | -       | -       | 100    |\n",
       "| medmc_qa       | -       | 100     | -      |\n",
       "| open_book_qa   | -       | -       | 100    |\n",
       "| strategy_qa    | 100     | -       | -      |\n",
       "| worldtree      | -       | -       | 100    |\n",
       "\n",
       "Not loaded: ['aqua', 'asdiv', 'entailment_bank', 'gsm8k', 'mawps', 'pubmed_qa', 'qed', 'svamp']"
      ]
     },
     "execution_count": 84,
     "metadata": {},
     "output_type": "execute_result"
    }
   ],
   "source": [
    "ts_100"
   ]
  },
  {
   "cell_type": "code",
   "execution_count": 90,
   "metadata": {},
   "outputs": [],
   "source": [
    "# sometimes this works and sometimes it throws an error\n",
    "# if it throws an error, just run it again with ts_100.filter() and then again with ts_167.filter()\n",
    "ts_67 = ts_167.filter(lambda ex: ex['id'] not in ts_100_ids)"
   ]
  },
  {
   "cell_type": "code",
   "execution_count": 91,
   "metadata": {},
   "outputs": [
    {
     "data": {
      "text/plain": [
       "| Name           | Train   | Valid   | Test   |\n",
       "|----------------|---------|---------|--------|\n",
       "| commonsense_qa | -       | 67      | -      |\n",
       "| med_qa         | -       | -       | 67     |\n",
       "| medmc_qa       | -       | 67      | -      |\n",
       "| open_book_qa   | -       | -       | 67     |\n",
       "| strategy_qa    | 67      | -       | -      |\n",
       "| worldtree      | -       | -       | 67     |\n",
       "\n",
       "Not loaded: ['aqua', 'asdiv', 'entailment_bank', 'gsm8k', 'mawps', 'pubmed_qa', 'qed', 'svamp']"
      ]
     },
     "execution_count": 91,
     "metadata": {},
     "output_type": "execute_result"
    }
   ],
   "source": [
    "ts_67"
   ]
  },
  {
   "cell_type": "code",
   "execution_count": 92,
   "metadata": {},
   "outputs": [],
   "source": [
    "ts_67.dump(\"ts_67_empty\")"
   ]
  },
  {
   "cell_type": "code",
   "execution_count": 3,
   "metadata": {},
   "outputs": [
    {
     "name": "stderr",
     "output_type": "stream",
     "text": [
      "[nltk_data] Downloading package punkt to /home/kon/nltk_data...\n",
      "[nltk_data]   Package punkt is already up-to-date!\n"
     ]
    }
   ],
   "source": [
    "# thoughtsource 100 index renaming\n",
    "ts_100 = Collection.load_thoughtsource_100(load_pregenerated_cots=True)"
   ]
  },
  {
   "cell_type": "code",
   "execution_count": 5,
   "metadata": {},
   "outputs": [],
   "source": [
    "ts_100.select_generated_cots(author=\"thoughtsource\")"
   ]
  },
  {
   "cell_type": "code",
   "execution_count": 6,
   "metadata": {},
   "outputs": [
    {
     "name": "stderr",
     "output_type": "stream",
     "text": [
      "/home/kon/work/ThoughtSource/libs/cot/cot/stats.py:406: PerformanceWarning: indexing past lexsort depth may impact performance.\n",
      "  df.loc[dataset, (instruction + \"_\" + cot_trigger, model)] = v\n"
     ]
    },
    {
     "data": {
      "text/html": [
       "<style type=\"text/css\">\n",
       "#T_a9ae5_row0_col1, #T_a9ae5_row1_col15, #T_a9ae5_row2_col15, #T_a9ae5_row3_col15, #T_a9ae5_row4_col15, #T_a9ae5_row5_col3, #T_a9ae5_row6_col15 {\n",
       "  font-weight: bold;\n",
       "}\n",
       "</style>\n",
       "<table id=\"T_a9ae5\">\n",
       "  <thead>\n",
       "    <tr>\n",
       "      <th class=\"blank level0\" >&nbsp;</th>\n",
       "      <th id=\"T_a9ae5_level0_col0\" class=\"col_heading level0 col0\" colspan=\"6\">None_None</th>\n",
       "      <th id=\"T_a9ae5_level0_col6\" class=\"col_heading level0 col6\" colspan=\"5\">None_kojima-01</th>\n",
       "      <th id=\"T_a9ae5_level0_col11\" class=\"col_heading level0 col11\" >None_kojima-03</th>\n",
       "      <th id=\"T_a9ae5_level0_col12\" class=\"col_heading level0 col12\" >None_kojima-09</th>\n",
       "      <th id=\"T_a9ae5_level0_col13\" class=\"col_heading level0 col13\" colspan=\"3\">None_zhou-01</th>\n",
       "      <th id=\"T_a9ae5_level0_col16\" class=\"col_heading level0 col16\" >qa-01_None</th>\n",
       "      <th id=\"T_a9ae5_level0_col17\" class=\"col_heading level0 col17\" >qa-05_None</th>\n",
       "      <th id=\"T_a9ae5_level0_col18\" class=\"col_heading level0 col18\" >qa-08_None</th>\n",
       "      <th id=\"T_a9ae5_level0_col19\" class=\"col_heading level0 col19\" >qa-09_None</th>\n",
       "      <th id=\"T_a9ae5_level0_col20\" class=\"col_heading level0 col20\" >qa-10_None</th>\n",
       "      <th id=\"T_a9ae5_level0_col21\" class=\"col_heading level0 col21\" >qa-12_None</th>\n",
       "      <th id=\"T_a9ae5_level0_col22\" class=\"col_heading level0 col22\" >qa-13_None</th>\n",
       "      <th id=\"T_a9ae5_level0_col23\" class=\"col_heading level0 col23\" >qa-16_None</th>\n",
       "      <th id=\"T_a9ae5_level0_col24\" class=\"col_heading level0 col24\" >qa-17_None</th>\n",
       "      <th id=\"T_a9ae5_level0_col25\" class=\"col_heading level0 col25\" >zhou-01-ins_None</th>\n",
       "      <th id=\"T_a9ae5_level0_col26\" class=\"col_heading level0 col26\" >zhou-01-ins_zhou-01</th>\n",
       "    </tr>\n",
       "    <tr>\n",
       "      <th class=\"blank level1\" >&nbsp;</th>\n",
       "      <th id=\"T_a9ae5_level1_col0\" class=\"col_heading level1 col0\" >command-xlarge-nightly</th>\n",
       "      <th id=\"T_a9ae5_level1_col1\" class=\"col_heading level1 col1\" >flan-T5-xxl</th>\n",
       "      <th id=\"T_a9ae5_level1_col2\" class=\"col_heading level1 col2\" >gpt-3.5-turbo</th>\n",
       "      <th id=\"T_a9ae5_level1_col3\" class=\"col_heading level1 col3\" >gpt-4</th>\n",
       "      <th id=\"T_a9ae5_level1_col4\" class=\"col_heading level1 col4\" >text-davinci-002</th>\n",
       "      <th id=\"T_a9ae5_level1_col5\" class=\"col_heading level1 col5\" >text-davinci-003</th>\n",
       "      <th id=\"T_a9ae5_level1_col6\" class=\"col_heading level1 col6\" >command-xlarge-nightly</th>\n",
       "      <th id=\"T_a9ae5_level1_col7\" class=\"col_heading level1 col7\" >flan-T5-xxl</th>\n",
       "      <th id=\"T_a9ae5_level1_col8\" class=\"col_heading level1 col8\" >gpt-3.5-turbo</th>\n",
       "      <th id=\"T_a9ae5_level1_col9\" class=\"col_heading level1 col9\" >text-davinci-002</th>\n",
       "      <th id=\"T_a9ae5_level1_col10\" class=\"col_heading level1 col10\" >text-davinci-003</th>\n",
       "      <th id=\"T_a9ae5_level1_col11\" class=\"col_heading level1 col11\" >gpt-3.5-turbo</th>\n",
       "      <th id=\"T_a9ae5_level1_col12\" class=\"col_heading level1 col12\" >gpt-3.5-turbo</th>\n",
       "      <th id=\"T_a9ae5_level1_col13\" class=\"col_heading level1 col13\" >flan-T5-xxl</th>\n",
       "      <th id=\"T_a9ae5_level1_col14\" class=\"col_heading level1 col14\" >gpt-3.5-turbo</th>\n",
       "      <th id=\"T_a9ae5_level1_col15\" class=\"col_heading level1 col15\" >gpt-4</th>\n",
       "      <th id=\"T_a9ae5_level1_col16\" class=\"col_heading level1 col16\" >gpt-3.5-turbo</th>\n",
       "      <th id=\"T_a9ae5_level1_col17\" class=\"col_heading level1 col17\" >gpt-3.5-turbo</th>\n",
       "      <th id=\"T_a9ae5_level1_col18\" class=\"col_heading level1 col18\" >gpt-3.5-turbo</th>\n",
       "      <th id=\"T_a9ae5_level1_col19\" class=\"col_heading level1 col19\" >gpt-3.5-turbo</th>\n",
       "      <th id=\"T_a9ae5_level1_col20\" class=\"col_heading level1 col20\" >gpt-3.5-turbo</th>\n",
       "      <th id=\"T_a9ae5_level1_col21\" class=\"col_heading level1 col21\" >gpt-3.5-turbo</th>\n",
       "      <th id=\"T_a9ae5_level1_col22\" class=\"col_heading level1 col22\" >gpt-3.5-turbo</th>\n",
       "      <th id=\"T_a9ae5_level1_col23\" class=\"col_heading level1 col23\" >gpt-3.5-turbo</th>\n",
       "      <th id=\"T_a9ae5_level1_col24\" class=\"col_heading level1 col24\" >gpt-3.5-turbo</th>\n",
       "      <th id=\"T_a9ae5_level1_col25\" class=\"col_heading level1 col25\" >gpt-3.5-turbo</th>\n",
       "      <th id=\"T_a9ae5_level1_col26\" class=\"col_heading level1 col26\" >gpt-3.5-turbo</th>\n",
       "    </tr>\n",
       "  </thead>\n",
       "  <tbody>\n",
       "    <tr>\n",
       "      <th id=\"T_a9ae5_level0_row0\" class=\"row_heading level0 row0\" >commonsense_qa</th>\n",
       "      <td id=\"T_a9ae5_row0_col0\" class=\"data row0 col0\" >0.51</td>\n",
       "      <td id=\"T_a9ae5_row0_col1\" class=\"data row0 col1\" >0.87</td>\n",
       "      <td id=\"T_a9ae5_row0_col2\" class=\"data row0 col2\" >0.72</td>\n",
       "      <td id=\"T_a9ae5_row0_col3\" class=\"data row0 col3\" >0.75</td>\n",
       "      <td id=\"T_a9ae5_row0_col4\" class=\"data row0 col4\" >0.76</td>\n",
       "      <td id=\"T_a9ae5_row0_col5\" class=\"data row0 col5\" >0.72</td>\n",
       "      <td id=\"T_a9ae5_row0_col6\" class=\"data row0 col6\" >0.53</td>\n",
       "      <td id=\"T_a9ae5_row0_col7\" class=\"data row0 col7\" >0.81</td>\n",
       "      <td id=\"T_a9ae5_row0_col8\" class=\"data row0 col8\" >0.67</td>\n",
       "      <td id=\"T_a9ae5_row0_col9\" class=\"data row0 col9\" >0.62</td>\n",
       "      <td id=\"T_a9ae5_row0_col10\" class=\"data row0 col10\" >0.65</td>\n",
       "      <td id=\"T_a9ae5_row0_col11\" class=\"data row0 col11\" >0.63</td>\n",
       "      <td id=\"T_a9ae5_row0_col12\" class=\"data row0 col12\" >0.70</td>\n",
       "      <td id=\"T_a9ae5_row0_col13\" class=\"data row0 col13\" >0.83</td>\n",
       "      <td id=\"T_a9ae5_row0_col14\" class=\"data row0 col14\" >0.66</td>\n",
       "      <td id=\"T_a9ae5_row0_col15\" class=\"data row0 col15\" >0.72</td>\n",
       "      <td id=\"T_a9ae5_row0_col16\" class=\"data row0 col16\" >0.66</td>\n",
       "      <td id=\"T_a9ae5_row0_col17\" class=\"data row0 col17\" >0.69</td>\n",
       "      <td id=\"T_a9ae5_row0_col18\" class=\"data row0 col18\" >0.62</td>\n",
       "      <td id=\"T_a9ae5_row0_col19\" class=\"data row0 col19\" >0.64</td>\n",
       "      <td id=\"T_a9ae5_row0_col20\" class=\"data row0 col20\" >0.68</td>\n",
       "      <td id=\"T_a9ae5_row0_col21\" class=\"data row0 col21\" >0.63</td>\n",
       "      <td id=\"T_a9ae5_row0_col22\" class=\"data row0 col22\" >0.61</td>\n",
       "      <td id=\"T_a9ae5_row0_col23\" class=\"data row0 col23\" >0.58</td>\n",
       "      <td id=\"T_a9ae5_row0_col24\" class=\"data row0 col24\" >0.66</td>\n",
       "      <td id=\"T_a9ae5_row0_col25\" class=\"data row0 col25\" >0.72</td>\n",
       "      <td id=\"T_a9ae5_row0_col26\" class=\"data row0 col26\" >0.65</td>\n",
       "    </tr>\n",
       "    <tr>\n",
       "      <th id=\"T_a9ae5_level0_row1\" class=\"row_heading level0 row1\" >med_qa</th>\n",
       "      <td id=\"T_a9ae5_row1_col0\" class=\"data row1 col0\" >0.23</td>\n",
       "      <td id=\"T_a9ae5_row1_col1\" class=\"data row1 col1\" >0.32</td>\n",
       "      <td id=\"T_a9ae5_row1_col2\" class=\"data row1 col2\" >0.58</td>\n",
       "      <td id=\"T_a9ae5_row1_col3\" class=\"data row1 col3\" >0.73</td>\n",
       "      <td id=\"T_a9ae5_row1_col4\" class=\"data row1 col4\" >0.41</td>\n",
       "      <td id=\"T_a9ae5_row1_col5\" class=\"data row1 col5\" >0.43</td>\n",
       "      <td id=\"T_a9ae5_row1_col6\" class=\"data row1 col6\" >0.31</td>\n",
       "      <td id=\"T_a9ae5_row1_col7\" class=\"data row1 col7\" >0.34</td>\n",
       "      <td id=\"T_a9ae5_row1_col8\" class=\"data row1 col8\" >0.59</td>\n",
       "      <td id=\"T_a9ae5_row1_col9\" class=\"data row1 col9\" >0.34</td>\n",
       "      <td id=\"T_a9ae5_row1_col10\" class=\"data row1 col10\" >0.43</td>\n",
       "      <td id=\"T_a9ae5_row1_col11\" class=\"data row1 col11\" >0.59</td>\n",
       "      <td id=\"T_a9ae5_row1_col12\" class=\"data row1 col12\" >0.51</td>\n",
       "      <td id=\"T_a9ae5_row1_col13\" class=\"data row1 col13\" >0.27</td>\n",
       "      <td id=\"T_a9ae5_row1_col14\" class=\"data row1 col14\" >0.65</td>\n",
       "      <td id=\"T_a9ae5_row1_col15\" class=\"data row1 col15\" >0.76</td>\n",
       "      <td id=\"T_a9ae5_row1_col16\" class=\"data row1 col16\" >0.54</td>\n",
       "      <td id=\"T_a9ae5_row1_col17\" class=\"data row1 col17\" >0.53</td>\n",
       "      <td id=\"T_a9ae5_row1_col18\" class=\"data row1 col18\" >0.46</td>\n",
       "      <td id=\"T_a9ae5_row1_col19\" class=\"data row1 col19\" >0.55</td>\n",
       "      <td id=\"T_a9ae5_row1_col20\" class=\"data row1 col20\" >0.56</td>\n",
       "      <td id=\"T_a9ae5_row1_col21\" class=\"data row1 col21\" >0.59</td>\n",
       "      <td id=\"T_a9ae5_row1_col22\" class=\"data row1 col22\" >0.49</td>\n",
       "      <td id=\"T_a9ae5_row1_col23\" class=\"data row1 col23\" >0.60</td>\n",
       "      <td id=\"T_a9ae5_row1_col24\" class=\"data row1 col24\" >0.56</td>\n",
       "      <td id=\"T_a9ae5_row1_col25\" class=\"data row1 col25\" >0.54</td>\n",
       "      <td id=\"T_a9ae5_row1_col26\" class=\"data row1 col26\" >0.52</td>\n",
       "    </tr>\n",
       "    <tr>\n",
       "      <th id=\"T_a9ae5_level0_row2\" class=\"row_heading level0 row2\" >medmc_qa</th>\n",
       "      <td id=\"T_a9ae5_row2_col0\" class=\"data row2 col0\" >0.25</td>\n",
       "      <td id=\"T_a9ae5_row2_col1\" class=\"data row2 col1\" >0.34</td>\n",
       "      <td id=\"T_a9ae5_row2_col2\" class=\"data row2 col2\" >0.58</td>\n",
       "      <td id=\"T_a9ae5_row2_col3\" class=\"data row2 col3\" >0.69</td>\n",
       "      <td id=\"T_a9ae5_row2_col4\" class=\"data row2 col4\" >0.34</td>\n",
       "      <td id=\"T_a9ae5_row2_col5\" class=\"data row2 col5\" >0.40</td>\n",
       "      <td id=\"T_a9ae5_row2_col6\" class=\"data row2 col6\" >0.22</td>\n",
       "      <td id=\"T_a9ae5_row2_col7\" class=\"data row2 col7\" >0.35</td>\n",
       "      <td id=\"T_a9ae5_row2_col8\" class=\"data row2 col8\" >0.47</td>\n",
       "      <td id=\"T_a9ae5_row2_col9\" class=\"data row2 col9\" >0.34</td>\n",
       "      <td id=\"T_a9ae5_row2_col10\" class=\"data row2 col10\" >0.36</td>\n",
       "      <td id=\"T_a9ae5_row2_col11\" class=\"data row2 col11\" >0.50</td>\n",
       "      <td id=\"T_a9ae5_row2_col12\" class=\"data row2 col12\" >0.50</td>\n",
       "      <td id=\"T_a9ae5_row2_col13\" class=\"data row2 col13\" >0.31</td>\n",
       "      <td id=\"T_a9ae5_row2_col14\" class=\"data row2 col14\" >0.48</td>\n",
       "      <td id=\"T_a9ae5_row2_col15\" class=\"data row2 col15\" >0.70</td>\n",
       "      <td id=\"T_a9ae5_row2_col16\" class=\"data row2 col16\" >0.47</td>\n",
       "      <td id=\"T_a9ae5_row2_col17\" class=\"data row2 col17\" >0.42</td>\n",
       "      <td id=\"T_a9ae5_row2_col18\" class=\"data row2 col18\" >0.45</td>\n",
       "      <td id=\"T_a9ae5_row2_col19\" class=\"data row2 col19\" >0.47</td>\n",
       "      <td id=\"T_a9ae5_row2_col20\" class=\"data row2 col20\" >0.49</td>\n",
       "      <td id=\"T_a9ae5_row2_col21\" class=\"data row2 col21\" >0.53</td>\n",
       "      <td id=\"T_a9ae5_row2_col22\" class=\"data row2 col22\" >0.41</td>\n",
       "      <td id=\"T_a9ae5_row2_col23\" class=\"data row2 col23\" >0.48</td>\n",
       "      <td id=\"T_a9ae5_row2_col24\" class=\"data row2 col24\" >0.53</td>\n",
       "      <td id=\"T_a9ae5_row2_col25\" class=\"data row2 col25\" >0.44</td>\n",
       "      <td id=\"T_a9ae5_row2_col26\" class=\"data row2 col26\" >0.40</td>\n",
       "    </tr>\n",
       "    <tr>\n",
       "      <th id=\"T_a9ae5_level0_row3\" class=\"row_heading level0 row3\" >open_book_qa</th>\n",
       "      <td id=\"T_a9ae5_row3_col0\" class=\"data row3 col0\" >0.59</td>\n",
       "      <td id=\"T_a9ae5_row3_col1\" class=\"data row3 col1\" >0.82</td>\n",
       "      <td id=\"T_a9ae5_row3_col2\" class=\"data row3 col2\" >0.77</td>\n",
       "      <td id=\"T_a9ae5_row3_col3\" class=\"data row3 col3\" >0.92</td>\n",
       "      <td id=\"T_a9ae5_row3_col4\" class=\"data row3 col4\" >0.67</td>\n",
       "      <td id=\"T_a9ae5_row3_col5\" class=\"data row3 col5\" >0.70</td>\n",
       "      <td id=\"T_a9ae5_row3_col6\" class=\"data row3 col6\" >0.38</td>\n",
       "      <td id=\"T_a9ae5_row3_col7\" class=\"data row3 col7\" >0.79</td>\n",
       "      <td id=\"T_a9ae5_row3_col8\" class=\"data row3 col8\" >0.77</td>\n",
       "      <td id=\"T_a9ae5_row3_col9\" class=\"data row3 col9\" >0.57</td>\n",
       "      <td id=\"T_a9ae5_row3_col10\" class=\"data row3 col10\" >0.67</td>\n",
       "      <td id=\"T_a9ae5_row3_col11\" class=\"data row3 col11\" >0.73</td>\n",
       "      <td id=\"T_a9ae5_row3_col12\" class=\"data row3 col12\" >0.73</td>\n",
       "      <td id=\"T_a9ae5_row3_col13\" class=\"data row3 col13\" >0.81</td>\n",
       "      <td id=\"T_a9ae5_row3_col14\" class=\"data row3 col14\" >0.81</td>\n",
       "      <td id=\"T_a9ae5_row3_col15\" class=\"data row3 col15\" >0.95</td>\n",
       "      <td id=\"T_a9ae5_row3_col16\" class=\"data row3 col16\" >0.73</td>\n",
       "      <td id=\"T_a9ae5_row3_col17\" class=\"data row3 col17\" >0.65</td>\n",
       "      <td id=\"T_a9ae5_row3_col18\" class=\"data row3 col18\" >0.73</td>\n",
       "      <td id=\"T_a9ae5_row3_col19\" class=\"data row3 col19\" >0.71</td>\n",
       "      <td id=\"T_a9ae5_row3_col20\" class=\"data row3 col20\" >0.73</td>\n",
       "      <td id=\"T_a9ae5_row3_col21\" class=\"data row3 col21\" >0.80</td>\n",
       "      <td id=\"T_a9ae5_row3_col22\" class=\"data row3 col22\" >0.72</td>\n",
       "      <td id=\"T_a9ae5_row3_col23\" class=\"data row3 col23\" >0.69</td>\n",
       "      <td id=\"T_a9ae5_row3_col24\" class=\"data row3 col24\" >0.69</td>\n",
       "      <td id=\"T_a9ae5_row3_col25\" class=\"data row3 col25\" >0.76</td>\n",
       "      <td id=\"T_a9ae5_row3_col26\" class=\"data row3 col26\" >0.74</td>\n",
       "    </tr>\n",
       "    <tr>\n",
       "      <th id=\"T_a9ae5_level0_row4\" class=\"row_heading level0 row4\" >strategy_qa</th>\n",
       "      <td id=\"T_a9ae5_row4_col0\" class=\"data row4 col0\" >0.52</td>\n",
       "      <td id=\"T_a9ae5_row4_col1\" class=\"data row4 col1\" >0.61</td>\n",
       "      <td id=\"T_a9ae5_row4_col2\" class=\"data row4 col2\" >0.57</td>\n",
       "      <td id=\"T_a9ae5_row4_col3\" class=\"data row4 col3\" >0.71</td>\n",
       "      <td id=\"T_a9ae5_row4_col4\" class=\"data row4 col4\" >0.36</td>\n",
       "      <td id=\"T_a9ae5_row4_col5\" class=\"data row4 col5\" >0.53</td>\n",
       "      <td id=\"T_a9ae5_row4_col6\" class=\"data row4 col6\" >0.59</td>\n",
       "      <td id=\"T_a9ae5_row4_col7\" class=\"data row4 col7\" >0.69</td>\n",
       "      <td id=\"T_a9ae5_row4_col8\" class=\"data row4 col8\" >0.56</td>\n",
       "      <td id=\"T_a9ae5_row4_col9\" class=\"data row4 col9\" >0.38</td>\n",
       "      <td id=\"T_a9ae5_row4_col10\" class=\"data row4 col10\" >0.54</td>\n",
       "      <td id=\"T_a9ae5_row4_col11\" class=\"data row4 col11\" >0.52</td>\n",
       "      <td id=\"T_a9ae5_row4_col12\" class=\"data row4 col12\" >0.58</td>\n",
       "      <td id=\"T_a9ae5_row4_col13\" class=\"data row4 col13\" >0.59</td>\n",
       "      <td id=\"T_a9ae5_row4_col14\" class=\"data row4 col14\" >0.59</td>\n",
       "      <td id=\"T_a9ae5_row4_col15\" class=\"data row4 col15\" >0.80</td>\n",
       "      <td id=\"T_a9ae5_row4_col16\" class=\"data row4 col16\" >0.44</td>\n",
       "      <td id=\"T_a9ae5_row4_col17\" class=\"data row4 col17\" >0.43</td>\n",
       "      <td id=\"T_a9ae5_row4_col18\" class=\"data row4 col18\" >0.58</td>\n",
       "      <td id=\"T_a9ae5_row4_col19\" class=\"data row4 col19\" >0.62</td>\n",
       "      <td id=\"T_a9ae5_row4_col20\" class=\"data row4 col20\" >0.56</td>\n",
       "      <td id=\"T_a9ae5_row4_col21\" class=\"data row4 col21\" >0.50</td>\n",
       "      <td id=\"T_a9ae5_row4_col22\" class=\"data row4 col22\" >0.64</td>\n",
       "      <td id=\"T_a9ae5_row4_col23\" class=\"data row4 col23\" >0.63</td>\n",
       "      <td id=\"T_a9ae5_row4_col24\" class=\"data row4 col24\" >0.58</td>\n",
       "      <td id=\"T_a9ae5_row4_col25\" class=\"data row4 col25\" >0.52</td>\n",
       "      <td id=\"T_a9ae5_row4_col26\" class=\"data row4 col26\" >0.57</td>\n",
       "    </tr>\n",
       "    <tr>\n",
       "      <th id=\"T_a9ae5_level0_row5\" class=\"row_heading level0 row5\" >worldtree</th>\n",
       "      <td id=\"T_a9ae5_row5_col0\" class=\"data row5 col0\" >0.63</td>\n",
       "      <td id=\"T_a9ae5_row5_col1\" class=\"data row5 col1\" >0.85</td>\n",
       "      <td id=\"T_a9ae5_row5_col2\" class=\"data row5 col2\" >0.96</td>\n",
       "      <td id=\"T_a9ae5_row5_col3\" class=\"data row5 col3\" >0.99</td>\n",
       "      <td id=\"T_a9ae5_row5_col4\" class=\"data row5 col4\" >0.88</td>\n",
       "      <td id=\"T_a9ae5_row5_col5\" class=\"data row5 col5\" >0.91</td>\n",
       "      <td id=\"T_a9ae5_row5_col6\" class=\"data row5 col6\" >0.58</td>\n",
       "      <td id=\"T_a9ae5_row5_col7\" class=\"data row5 col7\" >0.80</td>\n",
       "      <td id=\"T_a9ae5_row5_col8\" class=\"data row5 col8\" >0.93</td>\n",
       "      <td id=\"T_a9ae5_row5_col9\" class=\"data row5 col9\" >0.78</td>\n",
       "      <td id=\"T_a9ae5_row5_col10\" class=\"data row5 col10\" >0.89</td>\n",
       "      <td id=\"T_a9ae5_row5_col11\" class=\"data row5 col11\" >0.95</td>\n",
       "      <td id=\"T_a9ae5_row5_col12\" class=\"data row5 col12\" >0.95</td>\n",
       "      <td id=\"T_a9ae5_row5_col13\" class=\"data row5 col13\" >0.83</td>\n",
       "      <td id=\"T_a9ae5_row5_col14\" class=\"data row5 col14\" >0.92</td>\n",
       "      <td id=\"T_a9ae5_row5_col15\" class=\"data row5 col15\" >0.99</td>\n",
       "      <td id=\"T_a9ae5_row5_col16\" class=\"data row5 col16\" >0.95</td>\n",
       "      <td id=\"T_a9ae5_row5_col17\" class=\"data row5 col17\" >0.74</td>\n",
       "      <td id=\"T_a9ae5_row5_col18\" class=\"data row5 col18\" >0.92</td>\n",
       "      <td id=\"T_a9ae5_row5_col19\" class=\"data row5 col19\" >0.91</td>\n",
       "      <td id=\"T_a9ae5_row5_col20\" class=\"data row5 col20\" >0.95</td>\n",
       "      <td id=\"T_a9ae5_row5_col21\" class=\"data row5 col21\" >0.92</td>\n",
       "      <td id=\"T_a9ae5_row5_col22\" class=\"data row5 col22\" >0.96</td>\n",
       "      <td id=\"T_a9ae5_row5_col23\" class=\"data row5 col23\" >0.91</td>\n",
       "      <td id=\"T_a9ae5_row5_col24\" class=\"data row5 col24\" >0.92</td>\n",
       "      <td id=\"T_a9ae5_row5_col25\" class=\"data row5 col25\" >0.96</td>\n",
       "      <td id=\"T_a9ae5_row5_col26\" class=\"data row5 col26\" >0.96</td>\n",
       "    </tr>\n",
       "    <tr>\n",
       "      <th id=\"T_a9ae5_level0_row6\" class=\"row_heading level0 row6\" >Average</th>\n",
       "      <td id=\"T_a9ae5_row6_col0\" class=\"data row6 col0\" >0.46</td>\n",
       "      <td id=\"T_a9ae5_row6_col1\" class=\"data row6 col1\" >0.64</td>\n",
       "      <td id=\"T_a9ae5_row6_col2\" class=\"data row6 col2\" >0.70</td>\n",
       "      <td id=\"T_a9ae5_row6_col3\" class=\"data row6 col3\" >0.80</td>\n",
       "      <td id=\"T_a9ae5_row6_col4\" class=\"data row6 col4\" >0.57</td>\n",
       "      <td id=\"T_a9ae5_row6_col5\" class=\"data row6 col5\" >0.62</td>\n",
       "      <td id=\"T_a9ae5_row6_col6\" class=\"data row6 col6\" >0.44</td>\n",
       "      <td id=\"T_a9ae5_row6_col7\" class=\"data row6 col7\" >0.63</td>\n",
       "      <td id=\"T_a9ae5_row6_col8\" class=\"data row6 col8\" >0.66</td>\n",
       "      <td id=\"T_a9ae5_row6_col9\" class=\"data row6 col9\" >0.50</td>\n",
       "      <td id=\"T_a9ae5_row6_col10\" class=\"data row6 col10\" >0.59</td>\n",
       "      <td id=\"T_a9ae5_row6_col11\" class=\"data row6 col11\" >0.65</td>\n",
       "      <td id=\"T_a9ae5_row6_col12\" class=\"data row6 col12\" >0.66</td>\n",
       "      <td id=\"T_a9ae5_row6_col13\" class=\"data row6 col13\" >0.61</td>\n",
       "      <td id=\"T_a9ae5_row6_col14\" class=\"data row6 col14\" >0.68</td>\n",
       "      <td id=\"T_a9ae5_row6_col15\" class=\"data row6 col15\" >0.82</td>\n",
       "      <td id=\"T_a9ae5_row6_col16\" class=\"data row6 col16\" >0.63</td>\n",
       "      <td id=\"T_a9ae5_row6_col17\" class=\"data row6 col17\" >0.58</td>\n",
       "      <td id=\"T_a9ae5_row6_col18\" class=\"data row6 col18\" >0.63</td>\n",
       "      <td id=\"T_a9ae5_row6_col19\" class=\"data row6 col19\" >0.65</td>\n",
       "      <td id=\"T_a9ae5_row6_col20\" class=\"data row6 col20\" >0.66</td>\n",
       "      <td id=\"T_a9ae5_row6_col21\" class=\"data row6 col21\" >0.66</td>\n",
       "      <td id=\"T_a9ae5_row6_col22\" class=\"data row6 col22\" >0.64</td>\n",
       "      <td id=\"T_a9ae5_row6_col23\" class=\"data row6 col23\" >0.65</td>\n",
       "      <td id=\"T_a9ae5_row6_col24\" class=\"data row6 col24\" >0.66</td>\n",
       "      <td id=\"T_a9ae5_row6_col25\" class=\"data row6 col25\" >0.66</td>\n",
       "      <td id=\"T_a9ae5_row6_col26\" class=\"data row6 col26\" >0.64</td>\n",
       "    </tr>\n",
       "  </tbody>\n",
       "</table>\n"
      ],
      "text/plain": [
       "<pandas.io.formats.style.Styler at 0x7f3139302e30>"
      ]
     },
     "execution_count": 6,
     "metadata": {},
     "output_type": "execute_result"
    }
   ],
   "source": [
    "eval = ts_100.evaluate()\n",
    "table = evaluation_as_table(eval)\n",
    "table"
   ]
  },
  {
   "cell_type": "code",
   "execution_count": 109,
   "metadata": {},
   "outputs": [],
   "source": [
    "ts_100_all = Collection.from_json(\"thoughtsource_100.json\")"
   ]
  },
  {
   "cell_type": "code",
   "execution_count": 110,
   "metadata": {},
   "outputs": [
    {
     "data": {
      "application/vnd.jupyter.widget-view+json": {
       "model_id": "9f4ff5e53dba4cd6837575c97db0d30a",
       "version_major": 2,
       "version_minor": 0
      },
      "text/plain": [
       "  0%|          | 0/100 [00:00<?, ?ex/s]"
      ]
     },
     "metadata": {},
     "output_type": "display_data"
    },
    {
     "data": {
      "application/vnd.jupyter.widget-view+json": {
       "model_id": "96019e07413e4852b8515d61bb4bae39",
       "version_major": 2,
       "version_minor": 0
      },
      "text/plain": [
       "  0%|          | 0/100 [00:00<?, ?ex/s]"
      ]
     },
     "metadata": {},
     "output_type": "display_data"
    },
    {
     "data": {
      "application/vnd.jupyter.widget-view+json": {
       "model_id": "ada1058b8495475aac22458fbbbf7f77",
       "version_major": 2,
       "version_minor": 0
      },
      "text/plain": [
       "  0%|          | 0/100 [00:00<?, ?ex/s]"
      ]
     },
     "metadata": {},
     "output_type": "display_data"
    },
    {
     "data": {
      "application/vnd.jupyter.widget-view+json": {
       "model_id": "f12537188a964387a4e7022aa44f38a1",
       "version_major": 2,
       "version_minor": 0
      },
      "text/plain": [
       "  0%|          | 0/100 [00:00<?, ?ex/s]"
      ]
     },
     "metadata": {},
     "output_type": "display_data"
    },
    {
     "data": {
      "application/vnd.jupyter.widget-view+json": {
       "model_id": "44e820193f654ce885a8677a8de648c8",
       "version_major": 2,
       "version_minor": 0
      },
      "text/plain": [
       "  0%|          | 0/100 [00:00<?, ?ex/s]"
      ]
     },
     "metadata": {},
     "output_type": "display_data"
    },
    {
     "data": {
      "application/vnd.jupyter.widget-view+json": {
       "model_id": "724bb672ef92418dbbf2b34ea64e76ea",
       "version_major": 2,
       "version_minor": 0
      },
      "text/plain": [
       "  0%|          | 0/100 [00:00<?, ?ex/s]"
      ]
     },
     "metadata": {},
     "output_type": "display_data"
    },
    {
     "name": "stderr",
     "output_type": "stream",
     "text": [
      "/home/kon/work/ThoughtSource/libs/cot/cot/stats.py:406: PerformanceWarning: indexing past lexsort depth may impact performance.\n",
      "  df.loc[dataset, (instruction + \"_\" + cot_trigger, model)] = v\n"
     ]
    },
    {
     "data": {
      "text/html": [
       "<style type=\"text/css\">\n",
       "#T_e7dd0_row0_col1, #T_e7dd0_row1_col19, #T_e7dd0_row2_col19, #T_e7dd0_row3_col19, #T_e7dd0_row4_col19, #T_e7dd0_row5_col3, #T_e7dd0_row6_col19 {\n",
       "  font-weight: bold;\n",
       "}\n",
       "</style>\n",
       "<table id=\"T_e7dd0\">\n",
       "  <thead>\n",
       "    <tr>\n",
       "      <th class=\"blank level0\" >&nbsp;</th>\n",
       "      <th id=\"T_e7dd0_level0_col0\" class=\"col_heading level0 col0\" colspan=\"6\">None_None</th>\n",
       "      <th id=\"T_e7dd0_level0_col6\" class=\"col_heading level0 col6\" colspan=\"5\">None_kojima-01</th>\n",
       "      <th id=\"T_e7dd0_level0_col11\" class=\"col_heading level0 col11\" >None_kojima-03</th>\n",
       "      <th id=\"T_e7dd0_level0_col12\" class=\"col_heading level0 col12\" >None_kojima-09</th>\n",
       "      <th id=\"T_e7dd0_level0_col13\" class=\"col_heading level0 col13\" >None_lievin-01</th>\n",
       "      <th id=\"T_e7dd0_level0_col14\" class=\"col_heading level0 col14\" >None_lievin-02</th>\n",
       "      <th id=\"T_e7dd0_level0_col15\" class=\"col_heading level0 col15\" >None_lievin-03</th>\n",
       "      <th id=\"T_e7dd0_level0_col16\" class=\"col_heading level0 col16\" >None_lievin-10</th>\n",
       "      <th id=\"T_e7dd0_level0_col17\" class=\"col_heading level0 col17\" colspan=\"3\">None_zhou-01</th>\n",
       "      <th id=\"T_e7dd0_level0_col20\" class=\"col_heading level0 col20\" >qa-01_None</th>\n",
       "      <th id=\"T_e7dd0_level0_col21\" class=\"col_heading level0 col21\" >qa-05_None</th>\n",
       "      <th id=\"T_e7dd0_level0_col22\" class=\"col_heading level0 col22\" >qa-08_None</th>\n",
       "      <th id=\"T_e7dd0_level0_col23\" class=\"col_heading level0 col23\" >qa-09_None</th>\n",
       "      <th id=\"T_e7dd0_level0_col24\" class=\"col_heading level0 col24\" >qa-10_None</th>\n",
       "      <th id=\"T_e7dd0_level0_col25\" class=\"col_heading level0 col25\" >qa-12_None</th>\n",
       "      <th id=\"T_e7dd0_level0_col26\" class=\"col_heading level0 col26\" >qa-13_None</th>\n",
       "      <th id=\"T_e7dd0_level0_col27\" class=\"col_heading level0 col27\" >qa-16_None</th>\n",
       "      <th id=\"T_e7dd0_level0_col28\" class=\"col_heading level0 col28\" >qa-17_None</th>\n",
       "      <th id=\"T_e7dd0_level0_col29\" class=\"col_heading level0 col29\" >zhou-01-ins_None</th>\n",
       "      <th id=\"T_e7dd0_level0_col30\" class=\"col_heading level0 col30\" >zhou-01-ins_zhou-01</th>\n",
       "    </tr>\n",
       "    <tr>\n",
       "      <th class=\"blank level1\" >&nbsp;</th>\n",
       "      <th id=\"T_e7dd0_level1_col0\" class=\"col_heading level1 col0\" >command-xlarge-nightly</th>\n",
       "      <th id=\"T_e7dd0_level1_col1\" class=\"col_heading level1 col1\" >flan-T5-xxl</th>\n",
       "      <th id=\"T_e7dd0_level1_col2\" class=\"col_heading level1 col2\" >gpt-3.5-turbo</th>\n",
       "      <th id=\"T_e7dd0_level1_col3\" class=\"col_heading level1 col3\" >gpt-4</th>\n",
       "      <th id=\"T_e7dd0_level1_col4\" class=\"col_heading level1 col4\" >text-davinci-002</th>\n",
       "      <th id=\"T_e7dd0_level1_col5\" class=\"col_heading level1 col5\" >text-davinci-003</th>\n",
       "      <th id=\"T_e7dd0_level1_col6\" class=\"col_heading level1 col6\" >command-xlarge-nightly</th>\n",
       "      <th id=\"T_e7dd0_level1_col7\" class=\"col_heading level1 col7\" >flan-T5-xxl</th>\n",
       "      <th id=\"T_e7dd0_level1_col8\" class=\"col_heading level1 col8\" >gpt-3.5-turbo</th>\n",
       "      <th id=\"T_e7dd0_level1_col9\" class=\"col_heading level1 col9\" >text-davinci-002</th>\n",
       "      <th id=\"T_e7dd0_level1_col10\" class=\"col_heading level1 col10\" >text-davinci-003</th>\n",
       "      <th id=\"T_e7dd0_level1_col11\" class=\"col_heading level1 col11\" >gpt-3.5-turbo</th>\n",
       "      <th id=\"T_e7dd0_level1_col12\" class=\"col_heading level1 col12\" >gpt-3.5-turbo</th>\n",
       "      <th id=\"T_e7dd0_level1_col13\" class=\"col_heading level1 col13\" >text-davinci-002</th>\n",
       "      <th id=\"T_e7dd0_level1_col14\" class=\"col_heading level1 col14\" >text-davinci-002</th>\n",
       "      <th id=\"T_e7dd0_level1_col15\" class=\"col_heading level1 col15\" >text-davinci-002</th>\n",
       "      <th id=\"T_e7dd0_level1_col16\" class=\"col_heading level1 col16\" >text-davinci-002</th>\n",
       "      <th id=\"T_e7dd0_level1_col17\" class=\"col_heading level1 col17\" >flan-T5-xxl</th>\n",
       "      <th id=\"T_e7dd0_level1_col18\" class=\"col_heading level1 col18\" >gpt-3.5-turbo</th>\n",
       "      <th id=\"T_e7dd0_level1_col19\" class=\"col_heading level1 col19\" >gpt-4</th>\n",
       "      <th id=\"T_e7dd0_level1_col20\" class=\"col_heading level1 col20\" >gpt-3.5-turbo</th>\n",
       "      <th id=\"T_e7dd0_level1_col21\" class=\"col_heading level1 col21\" >gpt-3.5-turbo</th>\n",
       "      <th id=\"T_e7dd0_level1_col22\" class=\"col_heading level1 col22\" >gpt-3.5-turbo</th>\n",
       "      <th id=\"T_e7dd0_level1_col23\" class=\"col_heading level1 col23\" >gpt-3.5-turbo</th>\n",
       "      <th id=\"T_e7dd0_level1_col24\" class=\"col_heading level1 col24\" >gpt-3.5-turbo</th>\n",
       "      <th id=\"T_e7dd0_level1_col25\" class=\"col_heading level1 col25\" >gpt-3.5-turbo</th>\n",
       "      <th id=\"T_e7dd0_level1_col26\" class=\"col_heading level1 col26\" >gpt-3.5-turbo</th>\n",
       "      <th id=\"T_e7dd0_level1_col27\" class=\"col_heading level1 col27\" >gpt-3.5-turbo</th>\n",
       "      <th id=\"T_e7dd0_level1_col28\" class=\"col_heading level1 col28\" >gpt-3.5-turbo</th>\n",
       "      <th id=\"T_e7dd0_level1_col29\" class=\"col_heading level1 col29\" >gpt-3.5-turbo</th>\n",
       "      <th id=\"T_e7dd0_level1_col30\" class=\"col_heading level1 col30\" >gpt-3.5-turbo</th>\n",
       "    </tr>\n",
       "  </thead>\n",
       "  <tbody>\n",
       "    <tr>\n",
       "      <th id=\"T_e7dd0_level0_row0\" class=\"row_heading level0 row0\" >commonsense_qa</th>\n",
       "      <td id=\"T_e7dd0_row0_col0\" class=\"data row0 col0\" >0.51</td>\n",
       "      <td id=\"T_e7dd0_row0_col1\" class=\"data row0 col1\" >0.87</td>\n",
       "      <td id=\"T_e7dd0_row0_col2\" class=\"data row0 col2\" >0.72</td>\n",
       "      <td id=\"T_e7dd0_row0_col3\" class=\"data row0 col3\" >0.75</td>\n",
       "      <td id=\"T_e7dd0_row0_col4\" class=\"data row0 col4\" >0.69</td>\n",
       "      <td id=\"T_e7dd0_row0_col5\" class=\"data row0 col5\" >0.72</td>\n",
       "      <td id=\"T_e7dd0_row0_col6\" class=\"data row0 col6\" >0.53</td>\n",
       "      <td id=\"T_e7dd0_row0_col7\" class=\"data row0 col7\" >0.81</td>\n",
       "      <td id=\"T_e7dd0_row0_col8\" class=\"data row0 col8\" >0.67</td>\n",
       "      <td id=\"T_e7dd0_row0_col9\" class=\"data row0 col9\" >0.66</td>\n",
       "      <td id=\"T_e7dd0_row0_col10\" class=\"data row0 col10\" >0.65</td>\n",
       "      <td id=\"T_e7dd0_row0_col11\" class=\"data row0 col11\" >0.63</td>\n",
       "      <td id=\"T_e7dd0_row0_col12\" class=\"data row0 col12\" >0.70</td>\n",
       "      <td id=\"T_e7dd0_row0_col13\" class=\"data row0 col13\" >nan</td>\n",
       "      <td id=\"T_e7dd0_row0_col14\" class=\"data row0 col14\" >nan</td>\n",
       "      <td id=\"T_e7dd0_row0_col15\" class=\"data row0 col15\" >nan</td>\n",
       "      <td id=\"T_e7dd0_row0_col16\" class=\"data row0 col16\" >nan</td>\n",
       "      <td id=\"T_e7dd0_row0_col17\" class=\"data row0 col17\" >0.83</td>\n",
       "      <td id=\"T_e7dd0_row0_col18\" class=\"data row0 col18\" >0.66</td>\n",
       "      <td id=\"T_e7dd0_row0_col19\" class=\"data row0 col19\" >0.72</td>\n",
       "      <td id=\"T_e7dd0_row0_col20\" class=\"data row0 col20\" >0.66</td>\n",
       "      <td id=\"T_e7dd0_row0_col21\" class=\"data row0 col21\" >0.69</td>\n",
       "      <td id=\"T_e7dd0_row0_col22\" class=\"data row0 col22\" >0.62</td>\n",
       "      <td id=\"T_e7dd0_row0_col23\" class=\"data row0 col23\" >0.64</td>\n",
       "      <td id=\"T_e7dd0_row0_col24\" class=\"data row0 col24\" >0.68</td>\n",
       "      <td id=\"T_e7dd0_row0_col25\" class=\"data row0 col25\" >0.63</td>\n",
       "      <td id=\"T_e7dd0_row0_col26\" class=\"data row0 col26\" >0.61</td>\n",
       "      <td id=\"T_e7dd0_row0_col27\" class=\"data row0 col27\" >0.58</td>\n",
       "      <td id=\"T_e7dd0_row0_col28\" class=\"data row0 col28\" >0.66</td>\n",
       "      <td id=\"T_e7dd0_row0_col29\" class=\"data row0 col29\" >0.72</td>\n",
       "      <td id=\"T_e7dd0_row0_col30\" class=\"data row0 col30\" >0.65</td>\n",
       "    </tr>\n",
       "    <tr>\n",
       "      <th id=\"T_e7dd0_level0_row1\" class=\"row_heading level0 row1\" >med_qa</th>\n",
       "      <td id=\"T_e7dd0_row1_col0\" class=\"data row1 col0\" >0.23</td>\n",
       "      <td id=\"T_e7dd0_row1_col1\" class=\"data row1 col1\" >0.32</td>\n",
       "      <td id=\"T_e7dd0_row1_col2\" class=\"data row1 col2\" >0.58</td>\n",
       "      <td id=\"T_e7dd0_row1_col3\" class=\"data row1 col3\" >0.73</td>\n",
       "      <td id=\"T_e7dd0_row1_col4\" class=\"data row1 col4\" >0.41</td>\n",
       "      <td id=\"T_e7dd0_row1_col5\" class=\"data row1 col5\" >0.43</td>\n",
       "      <td id=\"T_e7dd0_row1_col6\" class=\"data row1 col6\" >0.31</td>\n",
       "      <td id=\"T_e7dd0_row1_col7\" class=\"data row1 col7\" >0.34</td>\n",
       "      <td id=\"T_e7dd0_row1_col8\" class=\"data row1 col8\" >0.59</td>\n",
       "      <td id=\"T_e7dd0_row1_col9\" class=\"data row1 col9\" >0.34</td>\n",
       "      <td id=\"T_e7dd0_row1_col10\" class=\"data row1 col10\" >0.43</td>\n",
       "      <td id=\"T_e7dd0_row1_col11\" class=\"data row1 col11\" >0.59</td>\n",
       "      <td id=\"T_e7dd0_row1_col12\" class=\"data row1 col12\" >0.51</td>\n",
       "      <td id=\"T_e7dd0_row1_col13\" class=\"data row1 col13\" >0.44</td>\n",
       "      <td id=\"T_e7dd0_row1_col14\" class=\"data row1 col14\" >0.50</td>\n",
       "      <td id=\"T_e7dd0_row1_col15\" class=\"data row1 col15\" >0.49</td>\n",
       "      <td id=\"T_e7dd0_row1_col16\" class=\"data row1 col16\" >0.45</td>\n",
       "      <td id=\"T_e7dd0_row1_col17\" class=\"data row1 col17\" >0.27</td>\n",
       "      <td id=\"T_e7dd0_row1_col18\" class=\"data row1 col18\" >0.65</td>\n",
       "      <td id=\"T_e7dd0_row1_col19\" class=\"data row1 col19\" >0.76</td>\n",
       "      <td id=\"T_e7dd0_row1_col20\" class=\"data row1 col20\" >0.54</td>\n",
       "      <td id=\"T_e7dd0_row1_col21\" class=\"data row1 col21\" >0.53</td>\n",
       "      <td id=\"T_e7dd0_row1_col22\" class=\"data row1 col22\" >0.46</td>\n",
       "      <td id=\"T_e7dd0_row1_col23\" class=\"data row1 col23\" >0.55</td>\n",
       "      <td id=\"T_e7dd0_row1_col24\" class=\"data row1 col24\" >0.56</td>\n",
       "      <td id=\"T_e7dd0_row1_col25\" class=\"data row1 col25\" >0.59</td>\n",
       "      <td id=\"T_e7dd0_row1_col26\" class=\"data row1 col26\" >0.49</td>\n",
       "      <td id=\"T_e7dd0_row1_col27\" class=\"data row1 col27\" >0.60</td>\n",
       "      <td id=\"T_e7dd0_row1_col28\" class=\"data row1 col28\" >0.56</td>\n",
       "      <td id=\"T_e7dd0_row1_col29\" class=\"data row1 col29\" >0.54</td>\n",
       "      <td id=\"T_e7dd0_row1_col30\" class=\"data row1 col30\" >0.52</td>\n",
       "    </tr>\n",
       "    <tr>\n",
       "      <th id=\"T_e7dd0_level0_row2\" class=\"row_heading level0 row2\" >medmc_qa</th>\n",
       "      <td id=\"T_e7dd0_row2_col0\" class=\"data row2 col0\" >0.25</td>\n",
       "      <td id=\"T_e7dd0_row2_col1\" class=\"data row2 col1\" >0.34</td>\n",
       "      <td id=\"T_e7dd0_row2_col2\" class=\"data row2 col2\" >0.58</td>\n",
       "      <td id=\"T_e7dd0_row2_col3\" class=\"data row2 col3\" >0.69</td>\n",
       "      <td id=\"T_e7dd0_row2_col4\" class=\"data row2 col4\" >0.34</td>\n",
       "      <td id=\"T_e7dd0_row2_col5\" class=\"data row2 col5\" >0.40</td>\n",
       "      <td id=\"T_e7dd0_row2_col6\" class=\"data row2 col6\" >0.22</td>\n",
       "      <td id=\"T_e7dd0_row2_col7\" class=\"data row2 col7\" >0.35</td>\n",
       "      <td id=\"T_e7dd0_row2_col8\" class=\"data row2 col8\" >0.47</td>\n",
       "      <td id=\"T_e7dd0_row2_col9\" class=\"data row2 col9\" >0.36</td>\n",
       "      <td id=\"T_e7dd0_row2_col10\" class=\"data row2 col10\" >0.36</td>\n",
       "      <td id=\"T_e7dd0_row2_col11\" class=\"data row2 col11\" >0.50</td>\n",
       "      <td id=\"T_e7dd0_row2_col12\" class=\"data row2 col12\" >0.50</td>\n",
       "      <td id=\"T_e7dd0_row2_col13\" class=\"data row2 col13\" >0.45</td>\n",
       "      <td id=\"T_e7dd0_row2_col14\" class=\"data row2 col14\" >0.41</td>\n",
       "      <td id=\"T_e7dd0_row2_col15\" class=\"data row2 col15\" >0.40</td>\n",
       "      <td id=\"T_e7dd0_row2_col16\" class=\"data row2 col16\" >0.42</td>\n",
       "      <td id=\"T_e7dd0_row2_col17\" class=\"data row2 col17\" >0.31</td>\n",
       "      <td id=\"T_e7dd0_row2_col18\" class=\"data row2 col18\" >0.48</td>\n",
       "      <td id=\"T_e7dd0_row2_col19\" class=\"data row2 col19\" >0.70</td>\n",
       "      <td id=\"T_e7dd0_row2_col20\" class=\"data row2 col20\" >0.47</td>\n",
       "      <td id=\"T_e7dd0_row2_col21\" class=\"data row2 col21\" >0.42</td>\n",
       "      <td id=\"T_e7dd0_row2_col22\" class=\"data row2 col22\" >0.45</td>\n",
       "      <td id=\"T_e7dd0_row2_col23\" class=\"data row2 col23\" >0.47</td>\n",
       "      <td id=\"T_e7dd0_row2_col24\" class=\"data row2 col24\" >0.49</td>\n",
       "      <td id=\"T_e7dd0_row2_col25\" class=\"data row2 col25\" >0.53</td>\n",
       "      <td id=\"T_e7dd0_row2_col26\" class=\"data row2 col26\" >0.41</td>\n",
       "      <td id=\"T_e7dd0_row2_col27\" class=\"data row2 col27\" >0.48</td>\n",
       "      <td id=\"T_e7dd0_row2_col28\" class=\"data row2 col28\" >0.53</td>\n",
       "      <td id=\"T_e7dd0_row2_col29\" class=\"data row2 col29\" >0.44</td>\n",
       "      <td id=\"T_e7dd0_row2_col30\" class=\"data row2 col30\" >0.40</td>\n",
       "    </tr>\n",
       "    <tr>\n",
       "      <th id=\"T_e7dd0_level0_row3\" class=\"row_heading level0 row3\" >open_book_qa</th>\n",
       "      <td id=\"T_e7dd0_row3_col0\" class=\"data row3 col0\" >0.59</td>\n",
       "      <td id=\"T_e7dd0_row3_col1\" class=\"data row3 col1\" >0.82</td>\n",
       "      <td id=\"T_e7dd0_row3_col2\" class=\"data row3 col2\" >0.77</td>\n",
       "      <td id=\"T_e7dd0_row3_col3\" class=\"data row3 col3\" >0.92</td>\n",
       "      <td id=\"T_e7dd0_row3_col4\" class=\"data row3 col4\" >0.67</td>\n",
       "      <td id=\"T_e7dd0_row3_col5\" class=\"data row3 col5\" >0.70</td>\n",
       "      <td id=\"T_e7dd0_row3_col6\" class=\"data row3 col6\" >0.38</td>\n",
       "      <td id=\"T_e7dd0_row3_col7\" class=\"data row3 col7\" >0.79</td>\n",
       "      <td id=\"T_e7dd0_row3_col8\" class=\"data row3 col8\" >0.77</td>\n",
       "      <td id=\"T_e7dd0_row3_col9\" class=\"data row3 col9\" >0.57</td>\n",
       "      <td id=\"T_e7dd0_row3_col10\" class=\"data row3 col10\" >0.67</td>\n",
       "      <td id=\"T_e7dd0_row3_col11\" class=\"data row3 col11\" >0.73</td>\n",
       "      <td id=\"T_e7dd0_row3_col12\" class=\"data row3 col12\" >0.73</td>\n",
       "      <td id=\"T_e7dd0_row3_col13\" class=\"data row3 col13\" >nan</td>\n",
       "      <td id=\"T_e7dd0_row3_col14\" class=\"data row3 col14\" >nan</td>\n",
       "      <td id=\"T_e7dd0_row3_col15\" class=\"data row3 col15\" >nan</td>\n",
       "      <td id=\"T_e7dd0_row3_col16\" class=\"data row3 col16\" >nan</td>\n",
       "      <td id=\"T_e7dd0_row3_col17\" class=\"data row3 col17\" >0.81</td>\n",
       "      <td id=\"T_e7dd0_row3_col18\" class=\"data row3 col18\" >0.81</td>\n",
       "      <td id=\"T_e7dd0_row3_col19\" class=\"data row3 col19\" >0.95</td>\n",
       "      <td id=\"T_e7dd0_row3_col20\" class=\"data row3 col20\" >0.73</td>\n",
       "      <td id=\"T_e7dd0_row3_col21\" class=\"data row3 col21\" >0.65</td>\n",
       "      <td id=\"T_e7dd0_row3_col22\" class=\"data row3 col22\" >0.73</td>\n",
       "      <td id=\"T_e7dd0_row3_col23\" class=\"data row3 col23\" >0.71</td>\n",
       "      <td id=\"T_e7dd0_row3_col24\" class=\"data row3 col24\" >0.73</td>\n",
       "      <td id=\"T_e7dd0_row3_col25\" class=\"data row3 col25\" >0.80</td>\n",
       "      <td id=\"T_e7dd0_row3_col26\" class=\"data row3 col26\" >0.72</td>\n",
       "      <td id=\"T_e7dd0_row3_col27\" class=\"data row3 col27\" >0.69</td>\n",
       "      <td id=\"T_e7dd0_row3_col28\" class=\"data row3 col28\" >0.69</td>\n",
       "      <td id=\"T_e7dd0_row3_col29\" class=\"data row3 col29\" >0.76</td>\n",
       "      <td id=\"T_e7dd0_row3_col30\" class=\"data row3 col30\" >0.74</td>\n",
       "    </tr>\n",
       "    <tr>\n",
       "      <th id=\"T_e7dd0_level0_row4\" class=\"row_heading level0 row4\" >strategy_qa</th>\n",
       "      <td id=\"T_e7dd0_row4_col0\" class=\"data row4 col0\" >0.52</td>\n",
       "      <td id=\"T_e7dd0_row4_col1\" class=\"data row4 col1\" >0.61</td>\n",
       "      <td id=\"T_e7dd0_row4_col2\" class=\"data row4 col2\" >0.57</td>\n",
       "      <td id=\"T_e7dd0_row4_col3\" class=\"data row4 col3\" >0.71</td>\n",
       "      <td id=\"T_e7dd0_row4_col4\" class=\"data row4 col4\" >0.59</td>\n",
       "      <td id=\"T_e7dd0_row4_col5\" class=\"data row4 col5\" >0.53</td>\n",
       "      <td id=\"T_e7dd0_row4_col6\" class=\"data row4 col6\" >0.59</td>\n",
       "      <td id=\"T_e7dd0_row4_col7\" class=\"data row4 col7\" >0.69</td>\n",
       "      <td id=\"T_e7dd0_row4_col8\" class=\"data row4 col8\" >0.56</td>\n",
       "      <td id=\"T_e7dd0_row4_col9\" class=\"data row4 col9\" >0.46</td>\n",
       "      <td id=\"T_e7dd0_row4_col10\" class=\"data row4 col10\" >0.54</td>\n",
       "      <td id=\"T_e7dd0_row4_col11\" class=\"data row4 col11\" >0.52</td>\n",
       "      <td id=\"T_e7dd0_row4_col12\" class=\"data row4 col12\" >0.58</td>\n",
       "      <td id=\"T_e7dd0_row4_col13\" class=\"data row4 col13\" >nan</td>\n",
       "      <td id=\"T_e7dd0_row4_col14\" class=\"data row4 col14\" >nan</td>\n",
       "      <td id=\"T_e7dd0_row4_col15\" class=\"data row4 col15\" >nan</td>\n",
       "      <td id=\"T_e7dd0_row4_col16\" class=\"data row4 col16\" >nan</td>\n",
       "      <td id=\"T_e7dd0_row4_col17\" class=\"data row4 col17\" >0.59</td>\n",
       "      <td id=\"T_e7dd0_row4_col18\" class=\"data row4 col18\" >0.59</td>\n",
       "      <td id=\"T_e7dd0_row4_col19\" class=\"data row4 col19\" >0.80</td>\n",
       "      <td id=\"T_e7dd0_row4_col20\" class=\"data row4 col20\" >0.44</td>\n",
       "      <td id=\"T_e7dd0_row4_col21\" class=\"data row4 col21\" >0.43</td>\n",
       "      <td id=\"T_e7dd0_row4_col22\" class=\"data row4 col22\" >0.58</td>\n",
       "      <td id=\"T_e7dd0_row4_col23\" class=\"data row4 col23\" >0.62</td>\n",
       "      <td id=\"T_e7dd0_row4_col24\" class=\"data row4 col24\" >0.56</td>\n",
       "      <td id=\"T_e7dd0_row4_col25\" class=\"data row4 col25\" >0.50</td>\n",
       "      <td id=\"T_e7dd0_row4_col26\" class=\"data row4 col26\" >0.64</td>\n",
       "      <td id=\"T_e7dd0_row4_col27\" class=\"data row4 col27\" >0.63</td>\n",
       "      <td id=\"T_e7dd0_row4_col28\" class=\"data row4 col28\" >0.58</td>\n",
       "      <td id=\"T_e7dd0_row4_col29\" class=\"data row4 col29\" >0.52</td>\n",
       "      <td id=\"T_e7dd0_row4_col30\" class=\"data row4 col30\" >0.57</td>\n",
       "    </tr>\n",
       "    <tr>\n",
       "      <th id=\"T_e7dd0_level0_row5\" class=\"row_heading level0 row5\" >worldtree</th>\n",
       "      <td id=\"T_e7dd0_row5_col0\" class=\"data row5 col0\" >0.63</td>\n",
       "      <td id=\"T_e7dd0_row5_col1\" class=\"data row5 col1\" >0.85</td>\n",
       "      <td id=\"T_e7dd0_row5_col2\" class=\"data row5 col2\" >0.96</td>\n",
       "      <td id=\"T_e7dd0_row5_col3\" class=\"data row5 col3\" >0.99</td>\n",
       "      <td id=\"T_e7dd0_row5_col4\" class=\"data row5 col4\" >0.88</td>\n",
       "      <td id=\"T_e7dd0_row5_col5\" class=\"data row5 col5\" >0.91</td>\n",
       "      <td id=\"T_e7dd0_row5_col6\" class=\"data row5 col6\" >0.58</td>\n",
       "      <td id=\"T_e7dd0_row5_col7\" class=\"data row5 col7\" >0.80</td>\n",
       "      <td id=\"T_e7dd0_row5_col8\" class=\"data row5 col8\" >0.93</td>\n",
       "      <td id=\"T_e7dd0_row5_col9\" class=\"data row5 col9\" >0.78</td>\n",
       "      <td id=\"T_e7dd0_row5_col10\" class=\"data row5 col10\" >0.89</td>\n",
       "      <td id=\"T_e7dd0_row5_col11\" class=\"data row5 col11\" >0.95</td>\n",
       "      <td id=\"T_e7dd0_row5_col12\" class=\"data row5 col12\" >0.95</td>\n",
       "      <td id=\"T_e7dd0_row5_col13\" class=\"data row5 col13\" >nan</td>\n",
       "      <td id=\"T_e7dd0_row5_col14\" class=\"data row5 col14\" >nan</td>\n",
       "      <td id=\"T_e7dd0_row5_col15\" class=\"data row5 col15\" >nan</td>\n",
       "      <td id=\"T_e7dd0_row5_col16\" class=\"data row5 col16\" >nan</td>\n",
       "      <td id=\"T_e7dd0_row5_col17\" class=\"data row5 col17\" >0.83</td>\n",
       "      <td id=\"T_e7dd0_row5_col18\" class=\"data row5 col18\" >0.92</td>\n",
       "      <td id=\"T_e7dd0_row5_col19\" class=\"data row5 col19\" >0.99</td>\n",
       "      <td id=\"T_e7dd0_row5_col20\" class=\"data row5 col20\" >0.95</td>\n",
       "      <td id=\"T_e7dd0_row5_col21\" class=\"data row5 col21\" >0.74</td>\n",
       "      <td id=\"T_e7dd0_row5_col22\" class=\"data row5 col22\" >0.92</td>\n",
       "      <td id=\"T_e7dd0_row5_col23\" class=\"data row5 col23\" >0.91</td>\n",
       "      <td id=\"T_e7dd0_row5_col24\" class=\"data row5 col24\" >0.95</td>\n",
       "      <td id=\"T_e7dd0_row5_col25\" class=\"data row5 col25\" >0.92</td>\n",
       "      <td id=\"T_e7dd0_row5_col26\" class=\"data row5 col26\" >0.96</td>\n",
       "      <td id=\"T_e7dd0_row5_col27\" class=\"data row5 col27\" >0.91</td>\n",
       "      <td id=\"T_e7dd0_row5_col28\" class=\"data row5 col28\" >0.92</td>\n",
       "      <td id=\"T_e7dd0_row5_col29\" class=\"data row5 col29\" >0.96</td>\n",
       "      <td id=\"T_e7dd0_row5_col30\" class=\"data row5 col30\" >0.96</td>\n",
       "    </tr>\n",
       "    <tr>\n",
       "      <th id=\"T_e7dd0_level0_row6\" class=\"row_heading level0 row6\" >Average</th>\n",
       "      <td id=\"T_e7dd0_row6_col0\" class=\"data row6 col0\" >0.46</td>\n",
       "      <td id=\"T_e7dd0_row6_col1\" class=\"data row6 col1\" >0.64</td>\n",
       "      <td id=\"T_e7dd0_row6_col2\" class=\"data row6 col2\" >0.70</td>\n",
       "      <td id=\"T_e7dd0_row6_col3\" class=\"data row6 col3\" >0.80</td>\n",
       "      <td id=\"T_e7dd0_row6_col4\" class=\"data row6 col4\" >0.60</td>\n",
       "      <td id=\"T_e7dd0_row6_col5\" class=\"data row6 col5\" >0.62</td>\n",
       "      <td id=\"T_e7dd0_row6_col6\" class=\"data row6 col6\" >0.44</td>\n",
       "      <td id=\"T_e7dd0_row6_col7\" class=\"data row6 col7\" >0.63</td>\n",
       "      <td id=\"T_e7dd0_row6_col8\" class=\"data row6 col8\" >0.66</td>\n",
       "      <td id=\"T_e7dd0_row6_col9\" class=\"data row6 col9\" >0.53</td>\n",
       "      <td id=\"T_e7dd0_row6_col10\" class=\"data row6 col10\" >0.59</td>\n",
       "      <td id=\"T_e7dd0_row6_col11\" class=\"data row6 col11\" >0.65</td>\n",
       "      <td id=\"T_e7dd0_row6_col12\" class=\"data row6 col12\" >0.66</td>\n",
       "      <td id=\"T_e7dd0_row6_col13\" class=\"data row6 col13\" >0.44</td>\n",
       "      <td id=\"T_e7dd0_row6_col14\" class=\"data row6 col14\" >0.45</td>\n",
       "      <td id=\"T_e7dd0_row6_col15\" class=\"data row6 col15\" >0.44</td>\n",
       "      <td id=\"T_e7dd0_row6_col16\" class=\"data row6 col16\" >0.44</td>\n",
       "      <td id=\"T_e7dd0_row6_col17\" class=\"data row6 col17\" >0.61</td>\n",
       "      <td id=\"T_e7dd0_row6_col18\" class=\"data row6 col18\" >0.68</td>\n",
       "      <td id=\"T_e7dd0_row6_col19\" class=\"data row6 col19\" >0.82</td>\n",
       "      <td id=\"T_e7dd0_row6_col20\" class=\"data row6 col20\" >0.63</td>\n",
       "      <td id=\"T_e7dd0_row6_col21\" class=\"data row6 col21\" >0.58</td>\n",
       "      <td id=\"T_e7dd0_row6_col22\" class=\"data row6 col22\" >0.63</td>\n",
       "      <td id=\"T_e7dd0_row6_col23\" class=\"data row6 col23\" >0.65</td>\n",
       "      <td id=\"T_e7dd0_row6_col24\" class=\"data row6 col24\" >0.66</td>\n",
       "      <td id=\"T_e7dd0_row6_col25\" class=\"data row6 col25\" >0.66</td>\n",
       "      <td id=\"T_e7dd0_row6_col26\" class=\"data row6 col26\" >0.64</td>\n",
       "      <td id=\"T_e7dd0_row6_col27\" class=\"data row6 col27\" >0.65</td>\n",
       "      <td id=\"T_e7dd0_row6_col28\" class=\"data row6 col28\" >0.66</td>\n",
       "      <td id=\"T_e7dd0_row6_col29\" class=\"data row6 col29\" >0.66</td>\n",
       "      <td id=\"T_e7dd0_row6_col30\" class=\"data row6 col30\" >0.64</td>\n",
       "    </tr>\n",
       "  </tbody>\n",
       "</table>\n"
      ],
      "text/plain": [
       "<pandas.io.formats.style.Styler at 0x7fab381a73a0>"
      ]
     },
     "execution_count": 110,
     "metadata": {},
     "output_type": "execute_result"
    }
   ],
   "source": [
    "eval = ts_100_all.evaluate()\n",
    "evaluation_as_table(eval)"
   ]
  },
  {
   "cell_type": "code",
   "execution_count": 95,
   "metadata": {},
   "outputs": [
    {
     "data": {
      "application/vnd.jupyter.widget-view+json": {
       "model_id": "35374e1251334bfb83c150a9fdfd0a0d",
       "version_major": 2,
       "version_minor": 0
      },
      "text/plain": [
       "Creating json from Arrow format:   0%|          | 0/1 [00:00<?, ?ba/s]"
      ]
     },
     "metadata": {},
     "output_type": "display_data"
    },
    {
     "data": {
      "application/vnd.jupyter.widget-view+json": {
       "model_id": "3cd799b40b2a490b86812f8c5635412d",
       "version_major": 2,
       "version_minor": 0
      },
      "text/plain": [
       "Creating json from Arrow format:   0%|          | 0/1 [00:00<?, ?ba/s]"
      ]
     },
     "metadata": {},
     "output_type": "display_data"
    },
    {
     "data": {
      "application/vnd.jupyter.widget-view+json": {
       "model_id": "9c79389f04a54960886788a4146feed8",
       "version_major": 2,
       "version_minor": 0
      },
      "text/plain": [
       "Creating json from Arrow format:   0%|          | 0/1 [00:00<?, ?ba/s]"
      ]
     },
     "metadata": {},
     "output_type": "display_data"
    },
    {
     "data": {
      "application/vnd.jupyter.widget-view+json": {
       "model_id": "cc6e19189b764a148fe0be9de9fd76cc",
       "version_major": 2,
       "version_minor": 0
      },
      "text/plain": [
       "Creating json from Arrow format:   0%|          | 0/1 [00:00<?, ?ba/s]"
      ]
     },
     "metadata": {},
     "output_type": "display_data"
    },
    {
     "data": {
      "application/vnd.jupyter.widget-view+json": {
       "model_id": "543e8f246d924705925730fd45725530",
       "version_major": 2,
       "version_minor": 0
      },
      "text/plain": [
       "Creating json from Arrow format:   0%|          | 0/1 [00:00<?, ?ba/s]"
      ]
     },
     "metadata": {},
     "output_type": "display_data"
    },
    {
     "data": {
      "application/vnd.jupyter.widget-view+json": {
       "model_id": "9e58abad186740eba0be62d4eab3c0b1",
       "version_major": 2,
       "version_minor": 0
      },
      "text/plain": [
       "Creating json from Arrow format:   0%|          | 0/1 [00:00<?, ?ba/s]"
      ]
     },
     "metadata": {},
     "output_type": "display_data"
    },
    {
     "data": {
      "application/vnd.jupyter.widget-view+json": {
       "model_id": "c11a9ab020764ca0a2aec52df526e067",
       "version_major": 2,
       "version_minor": 0
      },
      "text/plain": [
       "Creating json from Arrow format:   0%|          | 0/1 [00:00<?, ?ba/s]"
      ]
     },
     "metadata": {},
     "output_type": "display_data"
    },
    {
     "data": {
      "application/vnd.jupyter.widget-view+json": {
       "model_id": "322b3fc317de407ebe21252cae98d8db",
       "version_major": 2,
       "version_minor": 0
      },
      "text/plain": [
       "Creating json from Arrow format:   0%|          | 0/1 [00:00<?, ?ba/s]"
      ]
     },
     "metadata": {},
     "output_type": "display_data"
    },
    {
     "data": {
      "application/vnd.jupyter.widget-view+json": {
       "model_id": "f352dfe2abd64605bfc657e4e235ed30",
       "version_major": 2,
       "version_minor": 0
      },
      "text/plain": [
       "Creating json from Arrow format:   0%|          | 0/1 [00:00<?, ?ba/s]"
      ]
     },
     "metadata": {},
     "output_type": "display_data"
    },
    {
     "data": {
      "application/vnd.jupyter.widget-view+json": {
       "model_id": "f946dc053052497b80cb5adb76f531c3",
       "version_major": 2,
       "version_minor": 0
      },
      "text/plain": [
       "Creating json from Arrow format:   0%|          | 0/1 [00:00<?, ?ba/s]"
      ]
     },
     "metadata": {},
     "output_type": "display_data"
    },
    {
     "data": {
      "application/vnd.jupyter.widget-view+json": {
       "model_id": "57214b67dba14d11a799d8a0fd536040",
       "version_major": 2,
       "version_minor": 0
      },
      "text/plain": [
       "Creating json from Arrow format:   0%|          | 0/1 [00:00<?, ?ba/s]"
      ]
     },
     "metadata": {},
     "output_type": "display_data"
    },
    {
     "data": {
      "application/vnd.jupyter.widget-view+json": {
       "model_id": "44388e2428bf4191b6dd4b6624340437",
       "version_major": 2,
       "version_minor": 0
      },
      "text/plain": [
       "Creating json from Arrow format:   0%|          | 0/1 [00:00<?, ?ba/s]"
      ]
     },
     "metadata": {},
     "output_type": "display_data"
    }
   ],
   "source": [
    "ts_100 = ts_100.merge(ts_100_all)"
   ]
  },
  {
   "cell_type": "code",
   "execution_count": 96,
   "metadata": {},
   "outputs": [
    {
     "data": {
      "application/vnd.jupyter.widget-view+json": {
       "model_id": "aeb669028dd040d283b84901a7c4e9c5",
       "version_major": 2,
       "version_minor": 0
      },
      "text/plain": [
       "Creating json from Arrow format:   0%|          | 0/1 [00:00<?, ?ba/s]"
      ]
     },
     "metadata": {},
     "output_type": "display_data"
    },
    {
     "data": {
      "application/vnd.jupyter.widget-view+json": {
       "model_id": "4538277bbb184814bce01cb20571956b",
       "version_major": 2,
       "version_minor": 0
      },
      "text/plain": [
       "Creating json from Arrow format:   0%|          | 0/1 [00:00<?, ?ba/s]"
      ]
     },
     "metadata": {},
     "output_type": "display_data"
    },
    {
     "data": {
      "application/vnd.jupyter.widget-view+json": {
       "model_id": "9a856ced135542c4a8eb5f6c2b6afc0a",
       "version_major": 2,
       "version_minor": 0
      },
      "text/plain": [
       "Creating json from Arrow format:   0%|          | 0/1 [00:00<?, ?ba/s]"
      ]
     },
     "metadata": {},
     "output_type": "display_data"
    },
    {
     "data": {
      "application/vnd.jupyter.widget-view+json": {
       "model_id": "9c73f3da9f2549f5ac4524a2393c2602",
       "version_major": 2,
       "version_minor": 0
      },
      "text/plain": [
       "Creating json from Arrow format:   0%|          | 0/1 [00:00<?, ?ba/s]"
      ]
     },
     "metadata": {},
     "output_type": "display_data"
    },
    {
     "data": {
      "application/vnd.jupyter.widget-view+json": {
       "model_id": "0856416cd1a3437f9a5b9c4df7e3ba1f",
       "version_major": 2,
       "version_minor": 0
      },
      "text/plain": [
       "Creating json from Arrow format:   0%|          | 0/1 [00:00<?, ?ba/s]"
      ]
     },
     "metadata": {},
     "output_type": "display_data"
    },
    {
     "data": {
      "application/vnd.jupyter.widget-view+json": {
       "model_id": "d53b2b3c3c5a412c92e756e4c126b726",
       "version_major": 2,
       "version_minor": 0
      },
      "text/plain": [
       "Creating json from Arrow format:   0%|          | 0/1 [00:00<?, ?ba/s]"
      ]
     },
     "metadata": {},
     "output_type": "display_data"
    }
   ],
   "source": [
    "ts_100.dump(\"thoughtsource_100\")"
   ]
  },
  {
   "cell_type": "code",
   "execution_count": null,
   "metadata": {},
   "outputs": [],
   "source": [
    "ts_100 = unique_index_correction(ts_100)"
   ]
  },
  {
   "cell_type": "code",
   "execution_count": 38,
   "metadata": {},
   "outputs": [
    {
     "data": {
      "application/vnd.jupyter.widget-view+json": {
       "model_id": "38e804d3c187489ca749fbd72795d608",
       "version_major": 2,
       "version_minor": 0
      },
      "text/plain": [
       "Creating json from Arrow format:   0%|          | 0/1 [00:00<?, ?ba/s]"
      ]
     },
     "metadata": {},
     "output_type": "display_data"
    },
    {
     "data": {
      "application/vnd.jupyter.widget-view+json": {
       "model_id": "d6ff8fd20070422fb9276d2b9ec8a46f",
       "version_major": 2,
       "version_minor": 0
      },
      "text/plain": [
       "Creating json from Arrow format:   0%|          | 0/1 [00:00<?, ?ba/s]"
      ]
     },
     "metadata": {},
     "output_type": "display_data"
    },
    {
     "data": {
      "application/vnd.jupyter.widget-view+json": {
       "model_id": "571c906e7ca949cb9d4daf31a934c0b8",
       "version_major": 2,
       "version_minor": 0
      },
      "text/plain": [
       "Creating json from Arrow format:   0%|          | 0/1 [00:00<?, ?ba/s]"
      ]
     },
     "metadata": {},
     "output_type": "display_data"
    },
    {
     "data": {
      "application/vnd.jupyter.widget-view+json": {
       "model_id": "c0860090979b4fc7a92258aac6978bd2",
       "version_major": 2,
       "version_minor": 0
      },
      "text/plain": [
       "Creating json from Arrow format:   0%|          | 0/1 [00:00<?, ?ba/s]"
      ]
     },
     "metadata": {},
     "output_type": "display_data"
    },
    {
     "data": {
      "application/vnd.jupyter.widget-view+json": {
       "model_id": "f9ebfaa6039a4445826c94aa7e5605f7",
       "version_major": 2,
       "version_minor": 0
      },
      "text/plain": [
       "Creating json from Arrow format:   0%|          | 0/1 [00:00<?, ?ba/s]"
      ]
     },
     "metadata": {},
     "output_type": "display_data"
    },
    {
     "data": {
      "application/vnd.jupyter.widget-view+json": {
       "model_id": "d7cd05d7669142c58ed1db962ff89477",
       "version_major": 2,
       "version_minor": 0
      },
      "text/plain": [
       "Creating json from Arrow format:   0%|          | 0/1 [00:00<?, ?ba/s]"
      ]
     },
     "metadata": {},
     "output_type": "display_data"
    }
   ],
   "source": [
    "ts_100.dump(\"thoughtsource_100_corrected_idx\")"
   ]
  },
  {
   "cell_type": "code",
   "execution_count": null,
   "metadata": {},
   "outputs": [],
   "source": [
    "# import yaml file\n",
    "import yaml\n",
    "with open(\"/home/kon/work/ThoughtSource/notebooks/internal_documentation/problematic_items_TS100.yaml\", 'r') as file:\n",
    "    items = yaml.safe_load(file)"
   ]
  },
  {
   "cell_type": "code",
   "execution_count": null,
   "metadata": {},
   "outputs": [
    {
     "data": {
      "text/plain": [
       "{'commonsense_qa': None,\n",
       " 'med_qa': ['454'],\n",
       " 'medmc_qa': ['9a29cd2c-e0d3-4d1e-82a7-32af10b47c9b'],\n",
       " 'open_book_qa': None,\n",
       " 'strategy_qa': ['cc266a3e29a3b8442b14'],\n",
       " 'worldtree': None}"
      ]
     },
     "metadata": {},
     "output_type": "display_data"
    }
   ],
   "source": [
    "items[\"wrong\"]"
   ]
  },
  {
   "cell_type": "code",
   "execution_count": 2,
   "metadata": {},
   "outputs": [
    {
     "name": "stderr",
     "output_type": "stream",
     "text": [
      "[nltk_data] Downloading package punkt to /home/kon/nltk_data...\n",
      "[nltk_data]   Package punkt is already up-to-date!\n"
     ]
    }
   ],
   "source": [
    "empty = Collection.from_json(\"foo_empty\")"
   ]
  },
  {
   "cell_type": "code",
   "execution_count": 15,
   "metadata": {},
   "outputs": [],
   "source": [
    "empty[\"commonsense_qa\"] = empty[\"med_qa\"]"
   ]
  },
  {
   "cell_type": "code",
   "execution_count": 17,
   "metadata": {},
   "outputs": [
    {
     "data": {
      "application/vnd.jupyter.widget-view+json": {
       "model_id": "213bd91782c44ae6b7d81151624a22e3",
       "version_major": 2,
       "version_minor": 0
      },
      "text/plain": [
       "Creating json from Arrow format:   0%|          | 0/1 [00:00<?, ?ba/s]"
      ]
     },
     "metadata": {},
     "output_type": "display_data"
    },
    {
     "data": {
      "application/vnd.jupyter.widget-view+json": {
       "model_id": "9e55e124eb304bf2bcd7a5eb853c6298",
       "version_major": 2,
       "version_minor": 0
      },
      "text/plain": [
       "Creating json from Arrow format:   0%|          | 0/1 [00:00<?, ?ba/s]"
      ]
     },
     "metadata": {},
     "output_type": "display_data"
    },
    {
     "data": {
      "application/vnd.jupyter.widget-view+json": {
       "model_id": "60b2f68d29484bcebbe010c0c63bb824",
       "version_major": 2,
       "version_minor": 0
      },
      "text/plain": [
       "Creating json from Arrow format:   0%|          | 0/1 [00:00<?, ?ba/s]"
      ]
     },
     "metadata": {},
     "output_type": "display_data"
    },
    {
     "data": {
      "application/vnd.jupyter.widget-view+json": {
       "model_id": "ffa266d0bccc49e4a42abc47b1cf607b",
       "version_major": 2,
       "version_minor": 0
      },
      "text/plain": [
       "Creating json from Arrow format:   0%|          | 0/1 [00:00<?, ?ba/s]"
      ]
     },
     "metadata": {},
     "output_type": "display_data"
    },
    {
     "data": {
      "application/vnd.jupyter.widget-view+json": {
       "model_id": "1f4ad95d748d4815b368c4cf1c5104a0",
       "version_major": 2,
       "version_minor": 0
      },
      "text/plain": [
       "Creating json from Arrow format:   0%|          | 0/1 [00:00<?, ?ba/s]"
      ]
     },
     "metadata": {},
     "output_type": "display_data"
    },
    {
     "data": {
      "application/vnd.jupyter.widget-view+json": {
       "model_id": "a15f288ac1234e5fa38d18a74922e143",
       "version_major": 2,
       "version_minor": 0
      },
      "text/plain": [
       "Creating json from Arrow format:   0%|          | 0/1 [00:00<?, ?ba/s]"
      ]
     },
     "metadata": {},
     "output_type": "display_data"
    }
   ],
   "source": [
    "empty.dump(\"foo_empty_namechange\")"
   ]
  },
  {
   "cell_type": "code",
   "execution_count": 11,
   "metadata": {},
   "outputs": [
    {
     "ename": "ValueError",
     "evalue": "Column mismatch between batch {'generated_cot', 'id', 'feedback'} and features {'ref_id', 'type', 'context', 'generated_cot', 'answer', 'question', 'feedback', 'id', 'cot', 'choices'}",
     "output_type": "error",
     "traceback": [
      "\u001b[0;31m---------------------------------------------------------------------------\u001b[0m",
      "\u001b[0;31mValueError\u001b[0m                                Traceback (most recent call last)",
      "Cell \u001b[0;32mIn[11], line 1\u001b[0m\n\u001b[0;32m----> 1\u001b[0m only_cot \u001b[39m=\u001b[39m Collection\u001b[39m.\u001b[39;49mfrom_json(\u001b[39m\"\u001b[39;49m\u001b[39mfoo_only_gen_cot\u001b[39;49m\u001b[39m\"\u001b[39;49m)\n",
      "File \u001b[0;32m~/work/ThoughtSource/libs/cot/cot/dataloader.py:317\u001b[0m, in \u001b[0;36mCollection.from_json\u001b[0;34m(path_or_json, download_mode, source)\u001b[0m\n\u001b[1;32m    314\u001b[0m             \u001b[39mif\u001b[39;00m key \u001b[39min\u001b[39;00m dic:\n\u001b[1;32m    315\u001b[0m                 \u001b[39mdel\u001b[39;00m dic[key]\n\u001b[0;32m--> 317\u001b[0m         dataset_dict[split_name] \u001b[39m=\u001b[39m ds\u001b[39m.\u001b[39;49mDataset\u001b[39m.\u001b[39;49mfrom_dict(dic, info\u001b[39m.\u001b[39;49mfeatures, info, split)\n\u001b[1;32m    318\u001b[0m     collection[dataset_name] \u001b[39m=\u001b[39m ds\u001b[39m.\u001b[39mDatasetDict(dataset_dict)\n\u001b[1;32m    319\u001b[0m \u001b[39mreturn\u001b[39;00m collection\n",
      "File \u001b[0;32m~/work/ThoughtSource/venv/lib/python3.10/site-packages/datasets/arrow_dataset.py:817\u001b[0m, in \u001b[0;36mDataset.from_dict\u001b[0;34m(cls, mapping, features, info, split)\u001b[0m\n\u001b[1;32m    815\u001b[0m info\u001b[39m.\u001b[39mfeatures \u001b[39m=\u001b[39m features\n\u001b[1;32m    816\u001b[0m \u001b[39mif\u001b[39;00m features \u001b[39mis\u001b[39;00m \u001b[39mnot\u001b[39;00m \u001b[39mNone\u001b[39;00m:\n\u001b[0;32m--> 817\u001b[0m     mapping \u001b[39m=\u001b[39m features\u001b[39m.\u001b[39;49mencode_batch(mapping)\n\u001b[1;32m    818\u001b[0m mapping \u001b[39m=\u001b[39m {\n\u001b[1;32m    819\u001b[0m     col: OptimizedTypedSequence(data, \u001b[39mtype\u001b[39m\u001b[39m=\u001b[39mfeatures[col] \u001b[39mif\u001b[39;00m features \u001b[39mis\u001b[39;00m \u001b[39mnot\u001b[39;00m \u001b[39mNone\u001b[39;00m \u001b[39melse\u001b[39;00m \u001b[39mNone\u001b[39;00m, col\u001b[39m=\u001b[39mcol)\n\u001b[1;32m    820\u001b[0m     \u001b[39mfor\u001b[39;00m col, data \u001b[39min\u001b[39;00m mapping\u001b[39m.\u001b[39mitems()\n\u001b[1;32m    821\u001b[0m }\n\u001b[1;32m    822\u001b[0m pa_table \u001b[39m=\u001b[39m InMemoryTable\u001b[39m.\u001b[39mfrom_pydict(mapping\u001b[39m=\u001b[39mmapping)\n",
      "File \u001b[0;32m~/work/ThoughtSource/venv/lib/python3.10/site-packages/datasets/features/features.py:1370\u001b[0m, in \u001b[0;36mFeatures.encode_batch\u001b[0;34m(self, batch)\u001b[0m\n\u001b[1;32m   1368\u001b[0m encoded_batch \u001b[39m=\u001b[39m {}\n\u001b[1;32m   1369\u001b[0m \u001b[39mif\u001b[39;00m \u001b[39mset\u001b[39m(batch) \u001b[39m!=\u001b[39m \u001b[39mset\u001b[39m(\u001b[39mself\u001b[39m):\n\u001b[0;32m-> 1370\u001b[0m     \u001b[39mraise\u001b[39;00m \u001b[39mValueError\u001b[39;00m(\u001b[39mf\u001b[39m\u001b[39m\"\u001b[39m\u001b[39mColumn mismatch between batch \u001b[39m\u001b[39m{\u001b[39;00m\u001b[39mset\u001b[39m(batch)\u001b[39m}\u001b[39;00m\u001b[39m and features \u001b[39m\u001b[39m{\u001b[39;00m\u001b[39mset\u001b[39m(\u001b[39mself\u001b[39m)\u001b[39m}\u001b[39;00m\u001b[39m\"\u001b[39m)\n\u001b[1;32m   1371\u001b[0m \u001b[39mfor\u001b[39;00m key, column \u001b[39min\u001b[39;00m batch\u001b[39m.\u001b[39mitems():\n\u001b[1;32m   1372\u001b[0m     column \u001b[39m=\u001b[39m cast_to_python_objects(column)\n",
      "\u001b[0;31mValueError\u001b[0m: Column mismatch between batch {'generated_cot', 'id', 'feedback'} and features {'ref_id', 'type', 'context', 'generated_cot', 'answer', 'question', 'feedback', 'id', 'cot', 'choices'}"
     ]
    }
   ],
   "source": [
    "only_cot = Collection.from_json(\"foo_only_gen_cot\")"
   ]
  },
  {
   "cell_type": "code",
   "execution_count": 8,
   "metadata": {},
   "outputs": [],
   "source": [
    "\n",
    "only_cot.select_generated_cots(instruction=\"qa-01\")"
   ]
  },
  {
   "cell_type": "code",
   "execution_count": 10,
   "metadata": {},
   "outputs": [],
   "source": [
    "only_cot.dump(\"foo_only_gen_cot.json\")"
   ]
  },
  {
   "cell_type": "code",
   "execution_count": null,
   "metadata": {},
   "outputs": [],
   "source": [
    "empty.merge()"
   ]
  }
 ],
 "metadata": {
  "kernelspec": {
   "display_name": "venv",
   "language": "python",
   "name": "python3"
  },
  "language_info": {
   "codemirror_mode": {
    "name": "ipython",
    "version": 3
   },
   "file_extension": ".py",
   "mimetype": "text/x-python",
   "name": "python",
   "nbconvert_exporter": "python",
   "pygments_lexer": "ipython3",
   "version": "3.10.6"
  },
  "orig_nbformat": 4
 },
 "nbformat": 4,
 "nbformat_minor": 2
}
