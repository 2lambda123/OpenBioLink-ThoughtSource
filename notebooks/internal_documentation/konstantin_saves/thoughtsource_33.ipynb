{
 "cells": [
  {
   "cell_type": "code",
   "execution_count": 1,
   "metadata": {},
   "outputs": [],
   "source": [
    "from cot import Collection\n",
    "from cot.stats import evaluation_as_table\n",
    "from numpy import loadtxt"
   ]
  },
  {
   "cell_type": "code",
   "execution_count": 2,
   "metadata": {},
   "outputs": [
    {
     "name": "stderr",
     "output_type": "stream",
     "text": [
      "[nltk_data] Downloading package punkt to /home/kon/nltk_data...\n",
      "[nltk_data]   Package punkt is already up-to-date!\n"
     ]
    }
   ],
   "source": [
    "ts_33 = Collection.load_thoughtsource_33()\n",
    "# ts_100 = Collection.load_thoughtsource_100()"
   ]
  },
  {
   "cell_type": "code",
   "execution_count": 3,
   "metadata": {},
   "outputs": [
    {
     "data": {
      "text/plain": [
       "| Name           | Train   | Valid   | Test   |\n",
       "|----------------|---------|---------|--------|\n",
       "| commonsense_qa | -       | 33      | -      |\n",
       "| med_qa         | -       | -       | 33     |\n",
       "| medmc_qa       | -       | 33      | -      |\n",
       "| open_book_qa   | -       | -       | 33     |\n",
       "| strategy_qa    | 33      | -       | -      |\n",
       "| worldtree      | -       | -       | 33     |\n",
       "\n",
       "Not loaded: ['aqua', 'asdiv', 'entailment_bank', 'gsm8k', 'mawps', 'pubmed_qa', 'qed', 'svamp']"
      ]
     },
     "execution_count": 3,
     "metadata": {},
     "output_type": "execute_result"
    }
   ],
   "source": [
    "ts_33"
   ]
  },
  {
   "cell_type": "code",
   "execution_count": 4,
   "metadata": {},
   "outputs": [],
   "source": [
    "ts_merge = Collection.from_json(\"thoughtsource_33_cohere_command-xlarge-nightly_zhou-01-ins-qa-10-qa-12-qa-13-qa-16-qa-17_None\")"
   ]
  },
  {
   "cell_type": "code",
   "execution_count": 9,
   "metadata": {},
   "outputs": [],
   "source": [
    "ts_merge = Collection.from_json(\"thoughtsource_33_openai_text-davinci-002_zhou-01-ins-qa-10-qa-12-qa-13-qa-16-qa-17_None\")"
   ]
  },
  {
   "cell_type": "code",
   "execution_count": 5,
   "metadata": {},
   "outputs": [
    {
     "name": "stdout",
     "output_type": "stream",
     "text": [
      "commonsense_qa {51}\n",
      "med_qa {54}\n",
      "medmc_qa {54}\n",
      "open_book_qa {49}\n",
      "strategy_qa {51}\n",
      "worldtree {49}\n"
     ]
    }
   ],
   "source": [
    "ts_33.number_generated_cots()"
   ]
  },
  {
   "cell_type": "code",
   "execution_count": 6,
   "metadata": {},
   "outputs": [
    {
     "data": {
      "application/vnd.jupyter.widget-view+json": {
       "model_id": "5cd69ad436874df7b81be147e1b9e879",
       "version_major": 2,
       "version_minor": 0
      },
      "text/plain": [
       "Creating json from Arrow format:   0%|          | 0/1 [00:00<?, ?ba/s]"
      ]
     },
     "metadata": {},
     "output_type": "display_data"
    },
    {
     "data": {
      "application/vnd.jupyter.widget-view+json": {
       "model_id": "801309f0c233407388af399c7008eb7a",
       "version_major": 2,
       "version_minor": 0
      },
      "text/plain": [
       "Creating json from Arrow format:   0%|          | 0/1 [00:00<?, ?ba/s]"
      ]
     },
     "metadata": {},
     "output_type": "display_data"
    },
    {
     "data": {
      "application/vnd.jupyter.widget-view+json": {
       "model_id": "46f224bb2456443190bb1002ac7c1e64",
       "version_major": 2,
       "version_minor": 0
      },
      "text/plain": [
       "Creating json from Arrow format:   0%|          | 0/1 [00:00<?, ?ba/s]"
      ]
     },
     "metadata": {},
     "output_type": "display_data"
    },
    {
     "data": {
      "application/vnd.jupyter.widget-view+json": {
       "model_id": "7618bd8f4b3547d0a2999e0f50a3e563",
       "version_major": 2,
       "version_minor": 0
      },
      "text/plain": [
       "Creating json from Arrow format:   0%|          | 0/1 [00:00<?, ?ba/s]"
      ]
     },
     "metadata": {},
     "output_type": "display_data"
    },
    {
     "data": {
      "application/vnd.jupyter.widget-view+json": {
       "model_id": "7ca15b9539f54da897907e1229cb79d8",
       "version_major": 2,
       "version_minor": 0
      },
      "text/plain": [
       "Creating json from Arrow format:   0%|          | 0/1 [00:00<?, ?ba/s]"
      ]
     },
     "metadata": {},
     "output_type": "display_data"
    },
    {
     "data": {
      "application/vnd.jupyter.widget-view+json": {
       "model_id": "a6c5021a228641f18968c6df3be4c490",
       "version_major": 2,
       "version_minor": 0
      },
      "text/plain": [
       "Creating json from Arrow format:   0%|          | 0/1 [00:00<?, ?ba/s]"
      ]
     },
     "metadata": {},
     "output_type": "display_data"
    },
    {
     "data": {
      "application/vnd.jupyter.widget-view+json": {
       "model_id": "150c465a606e4ccca964b99fa967c0c2",
       "version_major": 2,
       "version_minor": 0
      },
      "text/plain": [
       "Creating json from Arrow format:   0%|          | 0/1 [00:00<?, ?ba/s]"
      ]
     },
     "metadata": {},
     "output_type": "display_data"
    },
    {
     "data": {
      "application/vnd.jupyter.widget-view+json": {
       "model_id": "3b21f855b8574a3e9c61a87f6d41492f",
       "version_major": 2,
       "version_minor": 0
      },
      "text/plain": [
       "Creating json from Arrow format:   0%|          | 0/1 [00:00<?, ?ba/s]"
      ]
     },
     "metadata": {},
     "output_type": "display_data"
    },
    {
     "data": {
      "application/vnd.jupyter.widget-view+json": {
       "model_id": "fba7ea7e3f3445ad9fa1fb0f3f26d1d3",
       "version_major": 2,
       "version_minor": 0
      },
      "text/plain": [
       "Creating json from Arrow format:   0%|          | 0/1 [00:00<?, ?ba/s]"
      ]
     },
     "metadata": {},
     "output_type": "display_data"
    },
    {
     "data": {
      "application/vnd.jupyter.widget-view+json": {
       "model_id": "3be9cb4ac24740e5b46aa044b856fe47",
       "version_major": 2,
       "version_minor": 0
      },
      "text/plain": [
       "Creating json from Arrow format:   0%|          | 0/1 [00:00<?, ?ba/s]"
      ]
     },
     "metadata": {},
     "output_type": "display_data"
    },
    {
     "data": {
      "application/vnd.jupyter.widget-view+json": {
       "model_id": "baf4ee68e673484abc8fea5f098290ae",
       "version_major": 2,
       "version_minor": 0
      },
      "text/plain": [
       "Creating json from Arrow format:   0%|          | 0/1 [00:00<?, ?ba/s]"
      ]
     },
     "metadata": {},
     "output_type": "display_data"
    },
    {
     "data": {
      "application/vnd.jupyter.widget-view+json": {
       "model_id": "b7be11c34da34e41b413fa3dfe0ed625",
       "version_major": 2,
       "version_minor": 0
      },
      "text/plain": [
       "Creating json from Arrow format:   0%|          | 0/1 [00:00<?, ?ba/s]"
      ]
     },
     "metadata": {},
     "output_type": "display_data"
    }
   ],
   "source": [
    "ts_33 = ts_33.merge(ts_merge)"
   ]
  },
  {
   "cell_type": "code",
   "execution_count": 7,
   "metadata": {},
   "outputs": [
    {
     "name": "stdout",
     "output_type": "stream",
     "text": [
      "commonsense_qa {57}\n",
      "med_qa {60}\n",
      "medmc_qa {60}\n",
      "open_book_qa {55}\n",
      "strategy_qa {57, 62}\n",
      "worldtree {55}\n"
     ]
    }
   ],
   "source": [
    "ts_33.number_generated_cots()"
   ]
  },
  {
   "cell_type": "code",
   "execution_count": 9,
   "metadata": {},
   "outputs": [
    {
     "data": {
      "application/vnd.jupyter.widget-view+json": {
       "model_id": "f17efadfe73a4dd4b93391190e84774b",
       "version_major": 2,
       "version_minor": 0
      },
      "text/plain": [
       "Creating json from Arrow format:   0%|          | 0/1 [00:00<?, ?ba/s]"
      ]
     },
     "metadata": {},
     "output_type": "display_data"
    },
    {
     "data": {
      "application/vnd.jupyter.widget-view+json": {
       "model_id": "290d79577c804401abffe5ba6ae1cd49",
       "version_major": 2,
       "version_minor": 0
      },
      "text/plain": [
       "Creating json from Arrow format:   0%|          | 0/1 [00:00<?, ?ba/s]"
      ]
     },
     "metadata": {},
     "output_type": "display_data"
    },
    {
     "data": {
      "application/vnd.jupyter.widget-view+json": {
       "model_id": "afe7012fe0714fd3a88393ae1a10eb7c",
       "version_major": 2,
       "version_minor": 0
      },
      "text/plain": [
       "Creating json from Arrow format:   0%|          | 0/1 [00:00<?, ?ba/s]"
      ]
     },
     "metadata": {},
     "output_type": "display_data"
    },
    {
     "data": {
      "application/vnd.jupyter.widget-view+json": {
       "model_id": "21668b95e7e54b51ba4f401dc0d4f790",
       "version_major": 2,
       "version_minor": 0
      },
      "text/plain": [
       "Creating json from Arrow format:   0%|          | 0/1 [00:00<?, ?ba/s]"
      ]
     },
     "metadata": {},
     "output_type": "display_data"
    },
    {
     "data": {
      "application/vnd.jupyter.widget-view+json": {
       "model_id": "7a67699d754b4f29adda6eaff50bd017",
       "version_major": 2,
       "version_minor": 0
      },
      "text/plain": [
       "Creating json from Arrow format:   0%|          | 0/1 [00:00<?, ?ba/s]"
      ]
     },
     "metadata": {},
     "output_type": "display_data"
    },
    {
     "data": {
      "application/vnd.jupyter.widget-view+json": {
       "model_id": "7f21189d7b81473580f54880bcc0091b",
       "version_major": 2,
       "version_minor": 0
      },
      "text/plain": [
       "Creating json from Arrow format:   0%|          | 0/1 [00:00<?, ?ba/s]"
      ]
     },
     "metadata": {},
     "output_type": "display_data"
    }
   ],
   "source": [
    "ts_33.dump(\"thoughtsource_33.json\")"
   ]
  },
  {
   "cell_type": "code",
   "execution_count": 18,
   "metadata": {},
   "outputs": [],
   "source": [
    "# ts_33.select_generated_cots(author=\"thoughtsource\")"
   ]
  },
  {
   "cell_type": "code",
   "execution_count": 8,
   "metadata": {},
   "outputs": [
    {
     "data": {
      "application/vnd.jupyter.widget-view+json": {
       "model_id": "a940b14437d344848d96fca1f47f716d",
       "version_major": 2,
       "version_minor": 0
      },
      "text/plain": [
       "  0%|          | 0/33 [00:00<?, ?ex/s]"
      ]
     },
     "metadata": {},
     "output_type": "display_data"
    },
    {
     "data": {
      "application/vnd.jupyter.widget-view+json": {
       "model_id": "c0848f49e4f34d7d8dbe0aeacb34084f",
       "version_major": 2,
       "version_minor": 0
      },
      "text/plain": [
       "  0%|          | 0/33 [00:00<?, ?ex/s]"
      ]
     },
     "metadata": {},
     "output_type": "display_data"
    },
    {
     "data": {
      "application/vnd.jupyter.widget-view+json": {
       "model_id": "7cd602d49c2f4a3ea8395fb669dd32e8",
       "version_major": 2,
       "version_minor": 0
      },
      "text/plain": [
       "  0%|          | 0/33 [00:00<?, ?ex/s]"
      ]
     },
     "metadata": {},
     "output_type": "display_data"
    },
    {
     "data": {
      "application/vnd.jupyter.widget-view+json": {
       "model_id": "f0fec6c19e554a27a2062c50647b8c3d",
       "version_major": 2,
       "version_minor": 0
      },
      "text/plain": [
       "  0%|          | 0/33 [00:00<?, ?ex/s]"
      ]
     },
     "metadata": {},
     "output_type": "display_data"
    },
    {
     "data": {
      "application/vnd.jupyter.widget-view+json": {
       "model_id": "9e6a985f4b674ec297c446ccd0bd22a1",
       "version_major": 2,
       "version_minor": 0
      },
      "text/plain": [
       "  0%|          | 0/33 [00:00<?, ?ex/s]"
      ]
     },
     "metadata": {},
     "output_type": "display_data"
    },
    {
     "data": {
      "application/vnd.jupyter.widget-view+json": {
       "model_id": "5602620a8b584d9db9c7307e015debf5",
       "version_major": 2,
       "version_minor": 0
      },
      "text/plain": [
       "  0%|          | 0/33 [00:00<?, ?ex/s]"
      ]
     },
     "metadata": {},
     "output_type": "display_data"
    },
    {
     "name": "stderr",
     "output_type": "stream",
     "text": [
      "/home/kon/CoT/ThoughtSource/venv/lib/python3.8/site-packages/IPython/core/interactiveshell.py:3194: PerformanceWarning: indexing past lexsort depth may impact performance.\n",
      "  has_raised = await self.run_ast_nodes(code_ast.body, cell_name,\n"
     ]
    },
    {
     "data": {
      "text/html": [
       "<style type=\"text/css\">\n",
       "#T_cc133_row0_col31, #T_cc133_row1_col21, #T_cc133_row2_col21, #T_cc133_row3_col21, #T_cc133_row4_col21, #T_cc133_row5_col36, #T_cc133_row6_col21 {\n",
       "  font-weight: bold;\n",
       "}\n",
       "</style>\n",
       "<table id=\"T_cc133_\">\n",
       "  <thead>\n",
       "    <tr>\n",
       "      <th class=\"blank level0\" >&nbsp;</th>\n",
       "      <th class=\"col_heading level0 col0\" colspan=\"6\">None_None</th>\n",
       "      <th class=\"col_heading level0 col6\" colspan=\"6\">None_kojima-01</th>\n",
       "      <th class=\"col_heading level0 col12\" >None_kojima-03</th>\n",
       "      <th class=\"col_heading level0 col13\" >None_kojima-09</th>\n",
       "      <th class=\"col_heading level0 col14\" >None_lievin-01</th>\n",
       "      <th class=\"col_heading level0 col15\" >None_lievin-02</th>\n",
       "      <th class=\"col_heading level0 col16\" >None_lievin-03</th>\n",
       "      <th class=\"col_heading level0 col17\" >None_lievin-10</th>\n",
       "      <th class=\"col_heading level0 col18\" colspan=\"6\">None_zhou-01</th>\n",
       "      <th class=\"col_heading level0 col24\" >qa-01_None</th>\n",
       "      <th class=\"col_heading level0 col25\" >qa-05_None</th>\n",
       "      <th class=\"col_heading level0 col26\" >qa-08_None</th>\n",
       "      <th class=\"col_heading level0 col27\" >qa-09_None</th>\n",
       "      <th class=\"col_heading level0 col28\" colspan=\"5\">qa-10_None</th>\n",
       "      <th class=\"col_heading level0 col33\" colspan=\"5\">qa-12_None</th>\n",
       "      <th class=\"col_heading level0 col38\" colspan=\"5\">qa-13_None</th>\n",
       "      <th class=\"col_heading level0 col43\" colspan=\"5\">qa-16_None</th>\n",
       "      <th class=\"col_heading level0 col48\" colspan=\"5\">qa-17_None</th>\n",
       "      <th class=\"col_heading level0 col53\" colspan=\"5\">zhou-01-ins_None</th>\n",
       "      <th class=\"col_heading level0 col58\" >zhou-01-ins_zhou-01</th>\n",
       "    </tr>\n",
       "    <tr>\n",
       "      <th class=\"blank level1\" >&nbsp;</th>\n",
       "      <th class=\"col_heading level1 col0\" >command-xlarge-nightly</th>\n",
       "      <th class=\"col_heading level1 col1\" >flan-T5-xxl</th>\n",
       "      <th class=\"col_heading level1 col2\" >gpt-3.5-turbo</th>\n",
       "      <th class=\"col_heading level1 col3\" >gpt-4</th>\n",
       "      <th class=\"col_heading level1 col4\" >text-davinci-002</th>\n",
       "      <th class=\"col_heading level1 col5\" >text-davinci-003</th>\n",
       "      <th class=\"col_heading level1 col6\" >command-xlarge-nightly</th>\n",
       "      <th class=\"col_heading level1 col7\" >flan-T5-xxl</th>\n",
       "      <th class=\"col_heading level1 col8\" >gpt-3.5-turbo</th>\n",
       "      <th class=\"col_heading level1 col9\" >gpt-4</th>\n",
       "      <th class=\"col_heading level1 col10\" >text-davinci-002</th>\n",
       "      <th class=\"col_heading level1 col11\" >text-davinci-003</th>\n",
       "      <th class=\"col_heading level1 col12\" >gpt-3.5-turbo</th>\n",
       "      <th class=\"col_heading level1 col13\" >gpt-3.5-turbo</th>\n",
       "      <th class=\"col_heading level1 col14\" >text-davinci-002</th>\n",
       "      <th class=\"col_heading level1 col15\" >text-davinci-002</th>\n",
       "      <th class=\"col_heading level1 col16\" >text-davinci-002</th>\n",
       "      <th class=\"col_heading level1 col17\" >text-davinci-002</th>\n",
       "      <th class=\"col_heading level1 col18\" >command-xlarge-nightly</th>\n",
       "      <th class=\"col_heading level1 col19\" >flan-T5-xxl</th>\n",
       "      <th class=\"col_heading level1 col20\" >gpt-3.5-turbo</th>\n",
       "      <th class=\"col_heading level1 col21\" >gpt-4</th>\n",
       "      <th class=\"col_heading level1 col22\" >text-davinci-002</th>\n",
       "      <th class=\"col_heading level1 col23\" >text-davinci-003</th>\n",
       "      <th class=\"col_heading level1 col24\" >gpt-3.5-turbo</th>\n",
       "      <th class=\"col_heading level1 col25\" >gpt-3.5-turbo</th>\n",
       "      <th class=\"col_heading level1 col26\" >gpt-3.5-turbo</th>\n",
       "      <th class=\"col_heading level1 col27\" >gpt-3.5-turbo</th>\n",
       "      <th class=\"col_heading level1 col28\" >command-xlarge-nightly</th>\n",
       "      <th class=\"col_heading level1 col29\" >flan-T5-xxl</th>\n",
       "      <th class=\"col_heading level1 col30\" >gpt-3.5-turbo</th>\n",
       "      <th class=\"col_heading level1 col31\" >gpt-4</th>\n",
       "      <th class=\"col_heading level1 col32\" >text-davinci-002</th>\n",
       "      <th class=\"col_heading level1 col33\" >command-xlarge-nightly</th>\n",
       "      <th class=\"col_heading level1 col34\" >flan-T5-xxl</th>\n",
       "      <th class=\"col_heading level1 col35\" >gpt-3.5-turbo</th>\n",
       "      <th class=\"col_heading level1 col36\" >gpt-4</th>\n",
       "      <th class=\"col_heading level1 col37\" >text-davinci-002</th>\n",
       "      <th class=\"col_heading level1 col38\" >command-xlarge-nightly</th>\n",
       "      <th class=\"col_heading level1 col39\" >flan-T5-xxl</th>\n",
       "      <th class=\"col_heading level1 col40\" >gpt-3.5-turbo</th>\n",
       "      <th class=\"col_heading level1 col41\" >gpt-4</th>\n",
       "      <th class=\"col_heading level1 col42\" >text-davinci-002</th>\n",
       "      <th class=\"col_heading level1 col43\" >command-xlarge-nightly</th>\n",
       "      <th class=\"col_heading level1 col44\" >flan-T5-xxl</th>\n",
       "      <th class=\"col_heading level1 col45\" >gpt-3.5-turbo</th>\n",
       "      <th class=\"col_heading level1 col46\" >gpt-4</th>\n",
       "      <th class=\"col_heading level1 col47\" >text-davinci-002</th>\n",
       "      <th class=\"col_heading level1 col48\" >command-xlarge-nightly</th>\n",
       "      <th class=\"col_heading level1 col49\" >flan-T5-xxl</th>\n",
       "      <th class=\"col_heading level1 col50\" >gpt-3.5-turbo</th>\n",
       "      <th class=\"col_heading level1 col51\" >gpt-4</th>\n",
       "      <th class=\"col_heading level1 col52\" >text-davinci-002</th>\n",
       "      <th class=\"col_heading level1 col53\" >command-xlarge-nightly</th>\n",
       "      <th class=\"col_heading level1 col54\" >flan-T5-xxl</th>\n",
       "      <th class=\"col_heading level1 col55\" >gpt-3.5-turbo</th>\n",
       "      <th class=\"col_heading level1 col56\" >gpt-4</th>\n",
       "      <th class=\"col_heading level1 col57\" >text-davinci-002</th>\n",
       "      <th class=\"col_heading level1 col58\" >gpt-3.5-turbo</th>\n",
       "    </tr>\n",
       "  </thead>\n",
       "  <tbody>\n",
       "    <tr>\n",
       "      <th id=\"T_cc133_level0_row0\" class=\"row_heading level0 row0\" >commonsense_qa</th>\n",
       "      <td id=\"T_cc133_row0_col0\" class=\"data row0 col0\" >0.52</td>\n",
       "      <td id=\"T_cc133_row0_col1\" class=\"data row0 col1\" >0.85</td>\n",
       "      <td id=\"T_cc133_row0_col2\" class=\"data row0 col2\" >0.76</td>\n",
       "      <td id=\"T_cc133_row0_col3\" class=\"data row0 col3\" >0.73</td>\n",
       "      <td id=\"T_cc133_row0_col4\" class=\"data row0 col4\" >0.82</td>\n",
       "      <td id=\"T_cc133_row0_col5\" class=\"data row0 col5\" >0.73</td>\n",
       "      <td id=\"T_cc133_row0_col6\" class=\"data row0 col6\" >0.48</td>\n",
       "      <td id=\"T_cc133_row0_col7\" class=\"data row0 col7\" >0.85</td>\n",
       "      <td id=\"T_cc133_row0_col8\" class=\"data row0 col8\" >0.73</td>\n",
       "      <td id=\"T_cc133_row0_col9\" class=\"data row0 col9\" >0.73</td>\n",
       "      <td id=\"T_cc133_row0_col10\" class=\"data row0 col10\" >0.79</td>\n",
       "      <td id=\"T_cc133_row0_col11\" class=\"data row0 col11\" >0.67</td>\n",
       "      <td id=\"T_cc133_row0_col12\" class=\"data row0 col12\" >0.73</td>\n",
       "      <td id=\"T_cc133_row0_col13\" class=\"data row0 col13\" >0.70</td>\n",
       "      <td id=\"T_cc133_row0_col14\" class=\"data row0 col14\" >nan</td>\n",
       "      <td id=\"T_cc133_row0_col15\" class=\"data row0 col15\" >nan</td>\n",
       "      <td id=\"T_cc133_row0_col16\" class=\"data row0 col16\" >nan</td>\n",
       "      <td id=\"T_cc133_row0_col17\" class=\"data row0 col17\" >nan</td>\n",
       "      <td id=\"T_cc133_row0_col18\" class=\"data row0 col18\" >0.73</td>\n",
       "      <td id=\"T_cc133_row0_col19\" class=\"data row0 col19\" >0.85</td>\n",
       "      <td id=\"T_cc133_row0_col20\" class=\"data row0 col20\" >0.70</td>\n",
       "      <td id=\"T_cc133_row0_col21\" class=\"data row0 col21\" >0.76</td>\n",
       "      <td id=\"T_cc133_row0_col22\" class=\"data row0 col22\" >0.61</td>\n",
       "      <td id=\"T_cc133_row0_col23\" class=\"data row0 col23\" >0.67</td>\n",
       "      <td id=\"T_cc133_row0_col24\" class=\"data row0 col24\" >0.64</td>\n",
       "      <td id=\"T_cc133_row0_col25\" class=\"data row0 col25\" >0.70</td>\n",
       "      <td id=\"T_cc133_row0_col26\" class=\"data row0 col26\" >0.67</td>\n",
       "      <td id=\"T_cc133_row0_col27\" class=\"data row0 col27\" >0.64</td>\n",
       "      <td id=\"T_cc133_row0_col28\" class=\"data row0 col28\" >0.70</td>\n",
       "      <td id=\"T_cc133_row0_col29\" class=\"data row0 col29\" >0.85</td>\n",
       "      <td id=\"T_cc133_row0_col30\" class=\"data row0 col30\" >0.70</td>\n",
       "      <td id=\"T_cc133_row0_col31\" class=\"data row0 col31\" >0.88</td>\n",
       "      <td id=\"T_cc133_row0_col32\" class=\"data row0 col32\" >0.70</td>\n",
       "      <td id=\"T_cc133_row0_col33\" class=\"data row0 col33\" >0.70</td>\n",
       "      <td id=\"T_cc133_row0_col34\" class=\"data row0 col34\" >0.85</td>\n",
       "      <td id=\"T_cc133_row0_col35\" class=\"data row0 col35\" >0.58</td>\n",
       "      <td id=\"T_cc133_row0_col36\" class=\"data row0 col36\" >0.70</td>\n",
       "      <td id=\"T_cc133_row0_col37\" class=\"data row0 col37\" >0.73</td>\n",
       "      <td id=\"T_cc133_row0_col38\" class=\"data row0 col38\" >0.76</td>\n",
       "      <td id=\"T_cc133_row0_col39\" class=\"data row0 col39\" >0.85</td>\n",
       "      <td id=\"T_cc133_row0_col40\" class=\"data row0 col40\" >0.64</td>\n",
       "      <td id=\"T_cc133_row0_col41\" class=\"data row0 col41\" >0.82</td>\n",
       "      <td id=\"T_cc133_row0_col42\" class=\"data row0 col42\" >0.73</td>\n",
       "      <td id=\"T_cc133_row0_col43\" class=\"data row0 col43\" >0.67</td>\n",
       "      <td id=\"T_cc133_row0_col44\" class=\"data row0 col44\" >0.73</td>\n",
       "      <td id=\"T_cc133_row0_col45\" class=\"data row0 col45\" >0.64</td>\n",
       "      <td id=\"T_cc133_row0_col46\" class=\"data row0 col46\" >0.67</td>\n",
       "      <td id=\"T_cc133_row0_col47\" class=\"data row0 col47\" >0.70</td>\n",
       "      <td id=\"T_cc133_row0_col48\" class=\"data row0 col48\" >0.61</td>\n",
       "      <td id=\"T_cc133_row0_col49\" class=\"data row0 col49\" >0.85</td>\n",
       "      <td id=\"T_cc133_row0_col50\" class=\"data row0 col50\" >0.61</td>\n",
       "      <td id=\"T_cc133_row0_col51\" class=\"data row0 col51\" >0.64</td>\n",
       "      <td id=\"T_cc133_row0_col52\" class=\"data row0 col52\" >0.55</td>\n",
       "      <td id=\"T_cc133_row0_col53\" class=\"data row0 col53\" >0.73</td>\n",
       "      <td id=\"T_cc133_row0_col54\" class=\"data row0 col54\" >0.82</td>\n",
       "      <td id=\"T_cc133_row0_col55\" class=\"data row0 col55\" >0.79</td>\n",
       "      <td id=\"T_cc133_row0_col56\" class=\"data row0 col56\" >0.76</td>\n",
       "      <td id=\"T_cc133_row0_col57\" class=\"data row0 col57\" >0.73</td>\n",
       "      <td id=\"T_cc133_row0_col58\" class=\"data row0 col58\" >0.64</td>\n",
       "    </tr>\n",
       "    <tr>\n",
       "      <th id=\"T_cc133_level0_row1\" class=\"row_heading level0 row1\" >med_qa</th>\n",
       "      <td id=\"T_cc133_row1_col0\" class=\"data row1 col0\" >0.18</td>\n",
       "      <td id=\"T_cc133_row1_col1\" class=\"data row1 col1\" >0.21</td>\n",
       "      <td id=\"T_cc133_row1_col2\" class=\"data row1 col2\" >0.55</td>\n",
       "      <td id=\"T_cc133_row1_col3\" class=\"data row1 col3\" >0.64</td>\n",
       "      <td id=\"T_cc133_row1_col4\" class=\"data row1 col4\" >0.33</td>\n",
       "      <td id=\"T_cc133_row1_col5\" class=\"data row1 col5\" >0.30</td>\n",
       "      <td id=\"T_cc133_row1_col6\" class=\"data row1 col6\" >0.30</td>\n",
       "      <td id=\"T_cc133_row1_col7\" class=\"data row1 col7\" >0.27</td>\n",
       "      <td id=\"T_cc133_row1_col8\" class=\"data row1 col8\" >0.52</td>\n",
       "      <td id=\"T_cc133_row1_col9\" class=\"data row1 col9\" >0.70</td>\n",
       "      <td id=\"T_cc133_row1_col10\" class=\"data row1 col10\" >0.12</td>\n",
       "      <td id=\"T_cc133_row1_col11\" class=\"data row1 col11\" >0.33</td>\n",
       "      <td id=\"T_cc133_row1_col12\" class=\"data row1 col12\" >0.52</td>\n",
       "      <td id=\"T_cc133_row1_col13\" class=\"data row1 col13\" >0.45</td>\n",
       "      <td id=\"T_cc133_row1_col14\" class=\"data row1 col14\" >0.24</td>\n",
       "      <td id=\"T_cc133_row1_col15\" class=\"data row1 col15\" >0.33</td>\n",
       "      <td id=\"T_cc133_row1_col16\" class=\"data row1 col16\" >0.45</td>\n",
       "      <td id=\"T_cc133_row1_col17\" class=\"data row1 col17\" >0.33</td>\n",
       "      <td id=\"T_cc133_row1_col18\" class=\"data row1 col18\" >0.27</td>\n",
       "      <td id=\"T_cc133_row1_col19\" class=\"data row1 col19\" >0.12</td>\n",
       "      <td id=\"T_cc133_row1_col20\" class=\"data row1 col20\" >0.61</td>\n",
       "      <td id=\"T_cc133_row1_col21\" class=\"data row1 col21\" >0.73</td>\n",
       "      <td id=\"T_cc133_row1_col22\" class=\"data row1 col22\" >0.24</td>\n",
       "      <td id=\"T_cc133_row1_col23\" class=\"data row1 col23\" >0.39</td>\n",
       "      <td id=\"T_cc133_row1_col24\" class=\"data row1 col24\" >0.52</td>\n",
       "      <td id=\"T_cc133_row1_col25\" class=\"data row1 col25\" >0.39</td>\n",
       "      <td id=\"T_cc133_row1_col26\" class=\"data row1 col26\" >0.36</td>\n",
       "      <td id=\"T_cc133_row1_col27\" class=\"data row1 col27\" >0.52</td>\n",
       "      <td id=\"T_cc133_row1_col28\" class=\"data row1 col28\" >0.27</td>\n",
       "      <td id=\"T_cc133_row1_col29\" class=\"data row1 col29\" >0.24</td>\n",
       "      <td id=\"T_cc133_row1_col30\" class=\"data row1 col30\" >0.42</td>\n",
       "      <td id=\"T_cc133_row1_col31\" class=\"data row1 col31\" >0.61</td>\n",
       "      <td id=\"T_cc133_row1_col32\" class=\"data row1 col32\" >0.24</td>\n",
       "      <td id=\"T_cc133_row1_col33\" class=\"data row1 col33\" >0.27</td>\n",
       "      <td id=\"T_cc133_row1_col34\" class=\"data row1 col34\" >0.15</td>\n",
       "      <td id=\"T_cc133_row1_col35\" class=\"data row1 col35\" >0.55</td>\n",
       "      <td id=\"T_cc133_row1_col36\" class=\"data row1 col36\" >0.67</td>\n",
       "      <td id=\"T_cc133_row1_col37\" class=\"data row1 col37\" >0.36</td>\n",
       "      <td id=\"T_cc133_row1_col38\" class=\"data row1 col38\" >0.24</td>\n",
       "      <td id=\"T_cc133_row1_col39\" class=\"data row1 col39\" >0.24</td>\n",
       "      <td id=\"T_cc133_row1_col40\" class=\"data row1 col40\" >0.42</td>\n",
       "      <td id=\"T_cc133_row1_col41\" class=\"data row1 col41\" >0.61</td>\n",
       "      <td id=\"T_cc133_row1_col42\" class=\"data row1 col42\" >0.30</td>\n",
       "      <td id=\"T_cc133_row1_col43\" class=\"data row1 col43\" >0.33</td>\n",
       "      <td id=\"T_cc133_row1_col44\" class=\"data row1 col44\" >0.24</td>\n",
       "      <td id=\"T_cc133_row1_col45\" class=\"data row1 col45\" >0.48</td>\n",
       "      <td id=\"T_cc133_row1_col46\" class=\"data row1 col46\" >0.64</td>\n",
       "      <td id=\"T_cc133_row1_col47\" class=\"data row1 col47\" >0.33</td>\n",
       "      <td id=\"T_cc133_row1_col48\" class=\"data row1 col48\" >0.30</td>\n",
       "      <td id=\"T_cc133_row1_col49\" class=\"data row1 col49\" >0.24</td>\n",
       "      <td id=\"T_cc133_row1_col50\" class=\"data row1 col50\" >0.52</td>\n",
       "      <td id=\"T_cc133_row1_col51\" class=\"data row1 col51\" >0.61</td>\n",
       "      <td id=\"T_cc133_row1_col52\" class=\"data row1 col52\" >0.27</td>\n",
       "      <td id=\"T_cc133_row1_col53\" class=\"data row1 col53\" >0.24</td>\n",
       "      <td id=\"T_cc133_row1_col54\" class=\"data row1 col54\" >0.21</td>\n",
       "      <td id=\"T_cc133_row1_col55\" class=\"data row1 col55\" >0.48</td>\n",
       "      <td id=\"T_cc133_row1_col56\" class=\"data row1 col56\" >0.61</td>\n",
       "      <td id=\"T_cc133_row1_col57\" class=\"data row1 col57\" >0.24</td>\n",
       "      <td id=\"T_cc133_row1_col58\" class=\"data row1 col58\" >0.45</td>\n",
       "    </tr>\n",
       "    <tr>\n",
       "      <th id=\"T_cc133_level0_row2\" class=\"row_heading level0 row2\" >medmc_qa</th>\n",
       "      <td id=\"T_cc133_row2_col0\" class=\"data row2 col0\" >0.27</td>\n",
       "      <td id=\"T_cc133_row2_col1\" class=\"data row2 col1\" >0.36</td>\n",
       "      <td id=\"T_cc133_row2_col2\" class=\"data row2 col2\" >0.64</td>\n",
       "      <td id=\"T_cc133_row2_col3\" class=\"data row2 col3\" >0.79</td>\n",
       "      <td id=\"T_cc133_row2_col4\" class=\"data row2 col4\" >0.30</td>\n",
       "      <td id=\"T_cc133_row2_col5\" class=\"data row2 col5\" >0.36</td>\n",
       "      <td id=\"T_cc133_row2_col6\" class=\"data row2 col6\" >0.15</td>\n",
       "      <td id=\"T_cc133_row2_col7\" class=\"data row2 col7\" >0.30</td>\n",
       "      <td id=\"T_cc133_row2_col8\" class=\"data row2 col8\" >0.58</td>\n",
       "      <td id=\"T_cc133_row2_col9\" class=\"data row2 col9\" >0.82</td>\n",
       "      <td id=\"T_cc133_row2_col10\" class=\"data row2 col10\" >0.36</td>\n",
       "      <td id=\"T_cc133_row2_col11\" class=\"data row2 col11\" >0.36</td>\n",
       "      <td id=\"T_cc133_row2_col12\" class=\"data row2 col12\" >0.61</td>\n",
       "      <td id=\"T_cc133_row2_col13\" class=\"data row2 col13\" >0.55</td>\n",
       "      <td id=\"T_cc133_row2_col14\" class=\"data row2 col14\" >0.39</td>\n",
       "      <td id=\"T_cc133_row2_col15\" class=\"data row2 col15\" >0.33</td>\n",
       "      <td id=\"T_cc133_row2_col16\" class=\"data row2 col16\" >0.27</td>\n",
       "      <td id=\"T_cc133_row2_col17\" class=\"data row2 col17\" >0.48</td>\n",
       "      <td id=\"T_cc133_row2_col18\" class=\"data row2 col18\" >0.42</td>\n",
       "      <td id=\"T_cc133_row2_col19\" class=\"data row2 col19\" >0.36</td>\n",
       "      <td id=\"T_cc133_row2_col20\" class=\"data row2 col20\" >0.61</td>\n",
       "      <td id=\"T_cc133_row2_col21\" class=\"data row2 col21\" >0.85</td>\n",
       "      <td id=\"T_cc133_row2_col22\" class=\"data row2 col22\" >0.45</td>\n",
       "      <td id=\"T_cc133_row2_col23\" class=\"data row2 col23\" >0.48</td>\n",
       "      <td id=\"T_cc133_row2_col24\" class=\"data row2 col24\" >0.61</td>\n",
       "      <td id=\"T_cc133_row2_col25\" class=\"data row2 col25\" >0.64</td>\n",
       "      <td id=\"T_cc133_row2_col26\" class=\"data row2 col26\" >0.48</td>\n",
       "      <td id=\"T_cc133_row2_col27\" class=\"data row2 col27\" >0.67</td>\n",
       "      <td id=\"T_cc133_row2_col28\" class=\"data row2 col28\" >0.27</td>\n",
       "      <td id=\"T_cc133_row2_col29\" class=\"data row2 col29\" >0.33</td>\n",
       "      <td id=\"T_cc133_row2_col30\" class=\"data row2 col30\" >0.64</td>\n",
       "      <td id=\"T_cc133_row2_col31\" class=\"data row2 col31\" >0.76</td>\n",
       "      <td id=\"T_cc133_row2_col32\" class=\"data row2 col32\" >0.39</td>\n",
       "      <td id=\"T_cc133_row2_col33\" class=\"data row2 col33\" >0.30</td>\n",
       "      <td id=\"T_cc133_row2_col34\" class=\"data row2 col34\" >0.42</td>\n",
       "      <td id=\"T_cc133_row2_col35\" class=\"data row2 col35\" >0.64</td>\n",
       "      <td id=\"T_cc133_row2_col36\" class=\"data row2 col36\" >0.76</td>\n",
       "      <td id=\"T_cc133_row2_col37\" class=\"data row2 col37\" >0.48</td>\n",
       "      <td id=\"T_cc133_row2_col38\" class=\"data row2 col38\" >0.36</td>\n",
       "      <td id=\"T_cc133_row2_col39\" class=\"data row2 col39\" >0.36</td>\n",
       "      <td id=\"T_cc133_row2_col40\" class=\"data row2 col40\" >0.52</td>\n",
       "      <td id=\"T_cc133_row2_col41\" class=\"data row2 col41\" >0.76</td>\n",
       "      <td id=\"T_cc133_row2_col42\" class=\"data row2 col42\" >0.45</td>\n",
       "      <td id=\"T_cc133_row2_col43\" class=\"data row2 col43\" >0.36</td>\n",
       "      <td id=\"T_cc133_row2_col44\" class=\"data row2 col44\" >0.30</td>\n",
       "      <td id=\"T_cc133_row2_col45\" class=\"data row2 col45\" >0.64</td>\n",
       "      <td id=\"T_cc133_row2_col46\" class=\"data row2 col46\" >0.85</td>\n",
       "      <td id=\"T_cc133_row2_col47\" class=\"data row2 col47\" >0.52</td>\n",
       "      <td id=\"T_cc133_row2_col48\" class=\"data row2 col48\" >0.36</td>\n",
       "      <td id=\"T_cc133_row2_col49\" class=\"data row2 col49\" >0.39</td>\n",
       "      <td id=\"T_cc133_row2_col50\" class=\"data row2 col50\" >0.67</td>\n",
       "      <td id=\"T_cc133_row2_col51\" class=\"data row2 col51\" >0.67</td>\n",
       "      <td id=\"T_cc133_row2_col52\" class=\"data row2 col52\" >0.39</td>\n",
       "      <td id=\"T_cc133_row2_col53\" class=\"data row2 col53\" >0.33</td>\n",
       "      <td id=\"T_cc133_row2_col54\" class=\"data row2 col54\" >0.30</td>\n",
       "      <td id=\"T_cc133_row2_col55\" class=\"data row2 col55\" >0.48</td>\n",
       "      <td id=\"T_cc133_row2_col56\" class=\"data row2 col56\" >0.82</td>\n",
       "      <td id=\"T_cc133_row2_col57\" class=\"data row2 col57\" >0.33</td>\n",
       "      <td id=\"T_cc133_row2_col58\" class=\"data row2 col58\" >0.52</td>\n",
       "    </tr>\n",
       "    <tr>\n",
       "      <th id=\"T_cc133_level0_row3\" class=\"row_heading level0 row3\" >open_book_qa</th>\n",
       "      <td id=\"T_cc133_row3_col0\" class=\"data row3 col0\" >0.58</td>\n",
       "      <td id=\"T_cc133_row3_col1\" class=\"data row3 col1\" >0.76</td>\n",
       "      <td id=\"T_cc133_row3_col2\" class=\"data row3 col2\" >0.85</td>\n",
       "      <td id=\"T_cc133_row3_col3\" class=\"data row3 col3\" >0.91</td>\n",
       "      <td id=\"T_cc133_row3_col4\" class=\"data row3 col4\" >0.64</td>\n",
       "      <td id=\"T_cc133_row3_col5\" class=\"data row3 col5\" >0.64</td>\n",
       "      <td id=\"T_cc133_row3_col6\" class=\"data row3 col6\" >0.42</td>\n",
       "      <td id=\"T_cc133_row3_col7\" class=\"data row3 col7\" >0.82</td>\n",
       "      <td id=\"T_cc133_row3_col8\" class=\"data row3 col8\" >0.79</td>\n",
       "      <td id=\"T_cc133_row3_col9\" class=\"data row3 col9\" >0.94</td>\n",
       "      <td id=\"T_cc133_row3_col10\" class=\"data row3 col10\" >0.55</td>\n",
       "      <td id=\"T_cc133_row3_col11\" class=\"data row3 col11\" >0.58</td>\n",
       "      <td id=\"T_cc133_row3_col12\" class=\"data row3 col12\" >0.82</td>\n",
       "      <td id=\"T_cc133_row3_col13\" class=\"data row3 col13\" >0.76</td>\n",
       "      <td id=\"T_cc133_row3_col14\" class=\"data row3 col14\" >nan</td>\n",
       "      <td id=\"T_cc133_row3_col15\" class=\"data row3 col15\" >nan</td>\n",
       "      <td id=\"T_cc133_row3_col16\" class=\"data row3 col16\" >nan</td>\n",
       "      <td id=\"T_cc133_row3_col17\" class=\"data row3 col17\" >nan</td>\n",
       "      <td id=\"T_cc133_row3_col18\" class=\"data row3 col18\" >0.61</td>\n",
       "      <td id=\"T_cc133_row3_col19\" class=\"data row3 col19\" >0.82</td>\n",
       "      <td id=\"T_cc133_row3_col20\" class=\"data row3 col20\" >0.73</td>\n",
       "      <td id=\"T_cc133_row3_col21\" class=\"data row3 col21\" >0.97</td>\n",
       "      <td id=\"T_cc133_row3_col22\" class=\"data row3 col22\" >0.76</td>\n",
       "      <td id=\"T_cc133_row3_col23\" class=\"data row3 col23\" >0.79</td>\n",
       "      <td id=\"T_cc133_row3_col24\" class=\"data row3 col24\" >0.79</td>\n",
       "      <td id=\"T_cc133_row3_col25\" class=\"data row3 col25\" >0.61</td>\n",
       "      <td id=\"T_cc133_row3_col26\" class=\"data row3 col26\" >0.73</td>\n",
       "      <td id=\"T_cc133_row3_col27\" class=\"data row3 col27\" >0.64</td>\n",
       "      <td id=\"T_cc133_row3_col28\" class=\"data row3 col28\" >0.58</td>\n",
       "      <td id=\"T_cc133_row3_col29\" class=\"data row3 col29\" >0.79</td>\n",
       "      <td id=\"T_cc133_row3_col30\" class=\"data row3 col30\" >0.76</td>\n",
       "      <td id=\"T_cc133_row3_col31\" class=\"data row3 col31\" >0.94</td>\n",
       "      <td id=\"T_cc133_row3_col32\" class=\"data row3 col32\" >0.55</td>\n",
       "      <td id=\"T_cc133_row3_col33\" class=\"data row3 col33\" >0.58</td>\n",
       "      <td id=\"T_cc133_row3_col34\" class=\"data row3 col34\" >0.79</td>\n",
       "      <td id=\"T_cc133_row3_col35\" class=\"data row3 col35\" >0.85</td>\n",
       "      <td id=\"T_cc133_row3_col36\" class=\"data row3 col36\" >0.91</td>\n",
       "      <td id=\"T_cc133_row3_col37\" class=\"data row3 col37\" >0.52</td>\n",
       "      <td id=\"T_cc133_row3_col38\" class=\"data row3 col38\" >0.58</td>\n",
       "      <td id=\"T_cc133_row3_col39\" class=\"data row3 col39\" >0.76</td>\n",
       "      <td id=\"T_cc133_row3_col40\" class=\"data row3 col40\" >0.73</td>\n",
       "      <td id=\"T_cc133_row3_col41\" class=\"data row3 col41\" >0.88</td>\n",
       "      <td id=\"T_cc133_row3_col42\" class=\"data row3 col42\" >0.39</td>\n",
       "      <td id=\"T_cc133_row3_col43\" class=\"data row3 col43\" >0.55</td>\n",
       "      <td id=\"T_cc133_row3_col44\" class=\"data row3 col44\" >0.67</td>\n",
       "      <td id=\"T_cc133_row3_col45\" class=\"data row3 col45\" >0.67</td>\n",
       "      <td id=\"T_cc133_row3_col46\" class=\"data row3 col46\" >0.85</td>\n",
       "      <td id=\"T_cc133_row3_col47\" class=\"data row3 col47\" >0.61</td>\n",
       "      <td id=\"T_cc133_row3_col48\" class=\"data row3 col48\" >0.61</td>\n",
       "      <td id=\"T_cc133_row3_col49\" class=\"data row3 col49\" >0.73</td>\n",
       "      <td id=\"T_cc133_row3_col50\" class=\"data row3 col50\" >0.73</td>\n",
       "      <td id=\"T_cc133_row3_col51\" class=\"data row3 col51\" >0.91</td>\n",
       "      <td id=\"T_cc133_row3_col52\" class=\"data row3 col52\" >0.48</td>\n",
       "      <td id=\"T_cc133_row3_col53\" class=\"data row3 col53\" >0.64</td>\n",
       "      <td id=\"T_cc133_row3_col54\" class=\"data row3 col54\" >0.76</td>\n",
       "      <td id=\"T_cc133_row3_col55\" class=\"data row3 col55\" >0.73</td>\n",
       "      <td id=\"T_cc133_row3_col56\" class=\"data row3 col56\" >0.94</td>\n",
       "      <td id=\"T_cc133_row3_col57\" class=\"data row3 col57\" >0.45</td>\n",
       "      <td id=\"T_cc133_row3_col58\" class=\"data row3 col58\" >0.79</td>\n",
       "    </tr>\n",
       "    <tr>\n",
       "      <th id=\"T_cc133_level0_row4\" class=\"row_heading level0 row4\" >strategy_qa</th>\n",
       "      <td id=\"T_cc133_row4_col0\" class=\"data row4 col0\" >0.55</td>\n",
       "      <td id=\"T_cc133_row4_col1\" class=\"data row4 col1\" >0.67</td>\n",
       "      <td id=\"T_cc133_row4_col2\" class=\"data row4 col2\" >0.55</td>\n",
       "      <td id=\"T_cc133_row4_col3\" class=\"data row4 col3\" >0.73</td>\n",
       "      <td id=\"T_cc133_row4_col4\" class=\"data row4 col4\" >0.64</td>\n",
       "      <td id=\"T_cc133_row4_col5\" class=\"data row4 col5\" >0.61</td>\n",
       "      <td id=\"T_cc133_row4_col6\" class=\"data row4 col6\" >0.58</td>\n",
       "      <td id=\"T_cc133_row4_col7\" class=\"data row4 col7\" >0.70</td>\n",
       "      <td id=\"T_cc133_row4_col8\" class=\"data row4 col8\" >0.61</td>\n",
       "      <td id=\"T_cc133_row4_col9\" class=\"data row4 col9\" >0.85</td>\n",
       "      <td id=\"T_cc133_row4_col10\" class=\"data row4 col10\" >0.52</td>\n",
       "      <td id=\"T_cc133_row4_col11\" class=\"data row4 col11\" >0.64</td>\n",
       "      <td id=\"T_cc133_row4_col12\" class=\"data row4 col12\" >0.55</td>\n",
       "      <td id=\"T_cc133_row4_col13\" class=\"data row4 col13\" >0.64</td>\n",
       "      <td id=\"T_cc133_row4_col14\" class=\"data row4 col14\" >nan</td>\n",
       "      <td id=\"T_cc133_row4_col15\" class=\"data row4 col15\" >nan</td>\n",
       "      <td id=\"T_cc133_row4_col16\" class=\"data row4 col16\" >nan</td>\n",
       "      <td id=\"T_cc133_row4_col17\" class=\"data row4 col17\" >nan</td>\n",
       "      <td id=\"T_cc133_row4_col18\" class=\"data row4 col18\" >0.24</td>\n",
       "      <td id=\"T_cc133_row4_col19\" class=\"data row4 col19\" >0.48</td>\n",
       "      <td id=\"T_cc133_row4_col20\" class=\"data row4 col20\" >0.61</td>\n",
       "      <td id=\"T_cc133_row4_col21\" class=\"data row4 col21\" >0.91</td>\n",
       "      <td id=\"T_cc133_row4_col22\" class=\"data row4 col22\" >0.70</td>\n",
       "      <td id=\"T_cc133_row4_col23\" class=\"data row4 col23\" >0.64</td>\n",
       "      <td id=\"T_cc133_row4_col24\" class=\"data row4 col24\" >0.55</td>\n",
       "      <td id=\"T_cc133_row4_col25\" class=\"data row4 col25\" >0.45</td>\n",
       "      <td id=\"T_cc133_row4_col26\" class=\"data row4 col26\" >0.64</td>\n",
       "      <td id=\"T_cc133_row4_col27\" class=\"data row4 col27\" >0.70</td>\n",
       "      <td id=\"T_cc133_row4_col28\" class=\"data row4 col28\" >0.12</td>\n",
       "      <td id=\"T_cc133_row4_col29\" class=\"data row4 col29\" >0.58</td>\n",
       "      <td id=\"T_cc133_row4_col30\" class=\"data row4 col30\" >0.61</td>\n",
       "      <td id=\"T_cc133_row4_col31\" class=\"data row4 col31\" >0.85</td>\n",
       "      <td id=\"T_cc133_row4_col32\" class=\"data row4 col32\" >0.39</td>\n",
       "      <td id=\"T_cc133_row4_col33\" class=\"data row4 col33\" >0.09</td>\n",
       "      <td id=\"T_cc133_row4_col34\" class=\"data row4 col34\" >0.67</td>\n",
       "      <td id=\"T_cc133_row4_col35\" class=\"data row4 col35\" >0.52</td>\n",
       "      <td id=\"T_cc133_row4_col36\" class=\"data row4 col36\" >0.76</td>\n",
       "      <td id=\"T_cc133_row4_col37\" class=\"data row4 col37\" >0.42</td>\n",
       "      <td id=\"T_cc133_row4_col38\" class=\"data row4 col38\" >0.12</td>\n",
       "      <td id=\"T_cc133_row4_col39\" class=\"data row4 col39\" >0.67</td>\n",
       "      <td id=\"T_cc133_row4_col40\" class=\"data row4 col40\" >0.70</td>\n",
       "      <td id=\"T_cc133_row4_col41\" class=\"data row4 col41\" >0.85</td>\n",
       "      <td id=\"T_cc133_row4_col42\" class=\"data row4 col42\" >0.61</td>\n",
       "      <td id=\"T_cc133_row4_col43\" class=\"data row4 col43\" >0.32</td>\n",
       "      <td id=\"T_cc133_row4_col44\" class=\"data row4 col44\" >0.67</td>\n",
       "      <td id=\"T_cc133_row4_col45\" class=\"data row4 col45\" >0.64</td>\n",
       "      <td id=\"T_cc133_row4_col46\" class=\"data row4 col46\" >0.85</td>\n",
       "      <td id=\"T_cc133_row4_col47\" class=\"data row4 col47\" >0.61</td>\n",
       "      <td id=\"T_cc133_row4_col48\" class=\"data row4 col48\" >0.30</td>\n",
       "      <td id=\"T_cc133_row4_col49\" class=\"data row4 col49\" >0.67</td>\n",
       "      <td id=\"T_cc133_row4_col50\" class=\"data row4 col50\" >0.67</td>\n",
       "      <td id=\"T_cc133_row4_col51\" class=\"data row4 col51\" >0.88</td>\n",
       "      <td id=\"T_cc133_row4_col52\" class=\"data row4 col52\" >0.45</td>\n",
       "      <td id=\"T_cc133_row4_col53\" class=\"data row4 col53\" >0.09</td>\n",
       "      <td id=\"T_cc133_row4_col54\" class=\"data row4 col54\" >0.61</td>\n",
       "      <td id=\"T_cc133_row4_col55\" class=\"data row4 col55\" >0.58</td>\n",
       "      <td id=\"T_cc133_row4_col56\" class=\"data row4 col56\" >0.79</td>\n",
       "      <td id=\"T_cc133_row4_col57\" class=\"data row4 col57\" >0.48</td>\n",
       "      <td id=\"T_cc133_row4_col58\" class=\"data row4 col58\" >0.58</td>\n",
       "    </tr>\n",
       "    <tr>\n",
       "      <th id=\"T_cc133_level0_row5\" class=\"row_heading level0 row5\" >worldtree</th>\n",
       "      <td id=\"T_cc133_row5_col0\" class=\"data row5 col0\" >0.61</td>\n",
       "      <td id=\"T_cc133_row5_col1\" class=\"data row5 col1\" >0.88</td>\n",
       "      <td id=\"T_cc133_row5_col2\" class=\"data row5 col2\" >0.94</td>\n",
       "      <td id=\"T_cc133_row5_col3\" class=\"data row5 col3\" >0.97</td>\n",
       "      <td id=\"T_cc133_row5_col4\" class=\"data row5 col4\" >0.88</td>\n",
       "      <td id=\"T_cc133_row5_col5\" class=\"data row5 col5\" >0.94</td>\n",
       "      <td id=\"T_cc133_row5_col6\" class=\"data row5 col6\" >0.61</td>\n",
       "      <td id=\"T_cc133_row5_col7\" class=\"data row5 col7\" >0.79</td>\n",
       "      <td id=\"T_cc133_row5_col8\" class=\"data row5 col8\" >0.91</td>\n",
       "      <td id=\"T_cc133_row5_col9\" class=\"data row5 col9\" >0.97</td>\n",
       "      <td id=\"T_cc133_row5_col10\" class=\"data row5 col10\" >0.79</td>\n",
       "      <td id=\"T_cc133_row5_col11\" class=\"data row5 col11\" >0.91</td>\n",
       "      <td id=\"T_cc133_row5_col12\" class=\"data row5 col12\" >0.94</td>\n",
       "      <td id=\"T_cc133_row5_col13\" class=\"data row5 col13\" >0.94</td>\n",
       "      <td id=\"T_cc133_row5_col14\" class=\"data row5 col14\" >nan</td>\n",
       "      <td id=\"T_cc133_row5_col15\" class=\"data row5 col15\" >nan</td>\n",
       "      <td id=\"T_cc133_row5_col16\" class=\"data row5 col16\" >nan</td>\n",
       "      <td id=\"T_cc133_row5_col17\" class=\"data row5 col17\" >nan</td>\n",
       "      <td id=\"T_cc133_row5_col18\" class=\"data row5 col18\" >0.76</td>\n",
       "      <td id=\"T_cc133_row5_col19\" class=\"data row5 col19\" >0.82</td>\n",
       "      <td id=\"T_cc133_row5_col20\" class=\"data row5 col20\" >0.94</td>\n",
       "      <td id=\"T_cc133_row5_col21\" class=\"data row5 col21\" >0.97</td>\n",
       "      <td id=\"T_cc133_row5_col22\" class=\"data row5 col22\" >0.91</td>\n",
       "      <td id=\"T_cc133_row5_col23\" class=\"data row5 col23\" >0.82</td>\n",
       "      <td id=\"T_cc133_row5_col24\" class=\"data row5 col24\" >0.88</td>\n",
       "      <td id=\"T_cc133_row5_col25\" class=\"data row5 col25\" >0.70</td>\n",
       "      <td id=\"T_cc133_row5_col26\" class=\"data row5 col26\" >0.97</td>\n",
       "      <td id=\"T_cc133_row5_col27\" class=\"data row5 col27\" >0.85</td>\n",
       "      <td id=\"T_cc133_row5_col28\" class=\"data row5 col28\" >0.73</td>\n",
       "      <td id=\"T_cc133_row5_col29\" class=\"data row5 col29\" >0.82</td>\n",
       "      <td id=\"T_cc133_row5_col30\" class=\"data row5 col30\" >0.88</td>\n",
       "      <td id=\"T_cc133_row5_col31\" class=\"data row5 col31\" >0.97</td>\n",
       "      <td id=\"T_cc133_row5_col32\" class=\"data row5 col32\" >0.91</td>\n",
       "      <td id=\"T_cc133_row5_col33\" class=\"data row5 col33\" >0.82</td>\n",
       "      <td id=\"T_cc133_row5_col34\" class=\"data row5 col34\" >0.91</td>\n",
       "      <td id=\"T_cc133_row5_col35\" class=\"data row5 col35\" >0.88</td>\n",
       "      <td id=\"T_cc133_row5_col36\" class=\"data row5 col36\" >1.00</td>\n",
       "      <td id=\"T_cc133_row5_col37\" class=\"data row5 col37\" >0.97</td>\n",
       "      <td id=\"T_cc133_row5_col38\" class=\"data row5 col38\" >0.85</td>\n",
       "      <td id=\"T_cc133_row5_col39\" class=\"data row5 col39\" >0.79</td>\n",
       "      <td id=\"T_cc133_row5_col40\" class=\"data row5 col40\" >0.94</td>\n",
       "      <td id=\"T_cc133_row5_col41\" class=\"data row5 col41\" >1.00</td>\n",
       "      <td id=\"T_cc133_row5_col42\" class=\"data row5 col42\" >0.91</td>\n",
       "      <td id=\"T_cc133_row5_col43\" class=\"data row5 col43\" >0.85</td>\n",
       "      <td id=\"T_cc133_row5_col44\" class=\"data row5 col44\" >0.64</td>\n",
       "      <td id=\"T_cc133_row5_col45\" class=\"data row5 col45\" >0.85</td>\n",
       "      <td id=\"T_cc133_row5_col46\" class=\"data row5 col46\" >0.94</td>\n",
       "      <td id=\"T_cc133_row5_col47\" class=\"data row5 col47\" >0.91</td>\n",
       "      <td id=\"T_cc133_row5_col48\" class=\"data row5 col48\" >0.64</td>\n",
       "      <td id=\"T_cc133_row5_col49\" class=\"data row5 col49\" >0.79</td>\n",
       "      <td id=\"T_cc133_row5_col50\" class=\"data row5 col50\" >0.91</td>\n",
       "      <td id=\"T_cc133_row5_col51\" class=\"data row5 col51\" >0.97</td>\n",
       "      <td id=\"T_cc133_row5_col52\" class=\"data row5 col52\" >0.82</td>\n",
       "      <td id=\"T_cc133_row5_col53\" class=\"data row5 col53\" >0.82</td>\n",
       "      <td id=\"T_cc133_row5_col54\" class=\"data row5 col54\" >0.85</td>\n",
       "      <td id=\"T_cc133_row5_col55\" class=\"data row5 col55\" >0.97</td>\n",
       "      <td id=\"T_cc133_row5_col56\" class=\"data row5 col56\" >0.97</td>\n",
       "      <td id=\"T_cc133_row5_col57\" class=\"data row5 col57\" >0.91</td>\n",
       "      <td id=\"T_cc133_row5_col58\" class=\"data row5 col58\" >0.94</td>\n",
       "    </tr>\n",
       "    <tr>\n",
       "      <th id=\"T_cc133_level0_row6\" class=\"row_heading level0 row6\" >Average</th>\n",
       "      <td id=\"T_cc133_row6_col0\" class=\"data row6 col0\" >0.45</td>\n",
       "      <td id=\"T_cc133_row6_col1\" class=\"data row6 col1\" >0.62</td>\n",
       "      <td id=\"T_cc133_row6_col2\" class=\"data row6 col2\" >0.71</td>\n",
       "      <td id=\"T_cc133_row6_col3\" class=\"data row6 col3\" >0.79</td>\n",
       "      <td id=\"T_cc133_row6_col4\" class=\"data row6 col4\" >0.60</td>\n",
       "      <td id=\"T_cc133_row6_col5\" class=\"data row6 col5\" >0.60</td>\n",
       "      <td id=\"T_cc133_row6_col6\" class=\"data row6 col6\" >0.42</td>\n",
       "      <td id=\"T_cc133_row6_col7\" class=\"data row6 col7\" >0.62</td>\n",
       "      <td id=\"T_cc133_row6_col8\" class=\"data row6 col8\" >0.69</td>\n",
       "      <td id=\"T_cc133_row6_col9\" class=\"data row6 col9\" >0.83</td>\n",
       "      <td id=\"T_cc133_row6_col10\" class=\"data row6 col10\" >0.52</td>\n",
       "      <td id=\"T_cc133_row6_col11\" class=\"data row6 col11\" >0.58</td>\n",
       "      <td id=\"T_cc133_row6_col12\" class=\"data row6 col12\" >0.69</td>\n",
       "      <td id=\"T_cc133_row6_col13\" class=\"data row6 col13\" >0.67</td>\n",
       "      <td id=\"T_cc133_row6_col14\" class=\"data row6 col14\" >0.32</td>\n",
       "      <td id=\"T_cc133_row6_col15\" class=\"data row6 col15\" >0.33</td>\n",
       "      <td id=\"T_cc133_row6_col16\" class=\"data row6 col16\" >0.36</td>\n",
       "      <td id=\"T_cc133_row6_col17\" class=\"data row6 col17\" >0.41</td>\n",
       "      <td id=\"T_cc133_row6_col18\" class=\"data row6 col18\" >0.51</td>\n",
       "      <td id=\"T_cc133_row6_col19\" class=\"data row6 col19\" >0.58</td>\n",
       "      <td id=\"T_cc133_row6_col20\" class=\"data row6 col20\" >0.70</td>\n",
       "      <td id=\"T_cc133_row6_col21\" class=\"data row6 col21\" >0.86</td>\n",
       "      <td id=\"T_cc133_row6_col22\" class=\"data row6 col22\" >0.61</td>\n",
       "      <td id=\"T_cc133_row6_col23\" class=\"data row6 col23\" >0.63</td>\n",
       "      <td id=\"T_cc133_row6_col24\" class=\"data row6 col24\" >0.66</td>\n",
       "      <td id=\"T_cc133_row6_col25\" class=\"data row6 col25\" >0.58</td>\n",
       "      <td id=\"T_cc133_row6_col26\" class=\"data row6 col26\" >0.64</td>\n",
       "      <td id=\"T_cc133_row6_col27\" class=\"data row6 col27\" >0.67</td>\n",
       "      <td id=\"T_cc133_row6_col28\" class=\"data row6 col28\" >0.44</td>\n",
       "      <td id=\"T_cc133_row6_col29\" class=\"data row6 col29\" >0.60</td>\n",
       "      <td id=\"T_cc133_row6_col30\" class=\"data row6 col30\" >0.67</td>\n",
       "      <td id=\"T_cc133_row6_col31\" class=\"data row6 col31\" >0.83</td>\n",
       "      <td id=\"T_cc133_row6_col32\" class=\"data row6 col32\" >0.53</td>\n",
       "      <td id=\"T_cc133_row6_col33\" class=\"data row6 col33\" >0.46</td>\n",
       "      <td id=\"T_cc133_row6_col34\" class=\"data row6 col34\" >0.63</td>\n",
       "      <td id=\"T_cc133_row6_col35\" class=\"data row6 col35\" >0.67</td>\n",
       "      <td id=\"T_cc133_row6_col36\" class=\"data row6 col36\" >0.80</td>\n",
       "      <td id=\"T_cc133_row6_col37\" class=\"data row6 col37\" >0.58</td>\n",
       "      <td id=\"T_cc133_row6_col38\" class=\"data row6 col38\" >0.48</td>\n",
       "      <td id=\"T_cc133_row6_col39\" class=\"data row6 col39\" >0.61</td>\n",
       "      <td id=\"T_cc133_row6_col40\" class=\"data row6 col40\" >0.66</td>\n",
       "      <td id=\"T_cc133_row6_col41\" class=\"data row6 col41\" >0.82</td>\n",
       "      <td id=\"T_cc133_row6_col42\" class=\"data row6 col42\" >0.57</td>\n",
       "      <td id=\"T_cc133_row6_col43\" class=\"data row6 col43\" >0.51</td>\n",
       "      <td id=\"T_cc133_row6_col44\" class=\"data row6 col44\" >0.54</td>\n",
       "      <td id=\"T_cc133_row6_col45\" class=\"data row6 col45\" >0.65</td>\n",
       "      <td id=\"T_cc133_row6_col46\" class=\"data row6 col46\" >0.80</td>\n",
       "      <td id=\"T_cc133_row6_col47\" class=\"data row6 col47\" >0.61</td>\n",
       "      <td id=\"T_cc133_row6_col48\" class=\"data row6 col48\" >0.47</td>\n",
       "      <td id=\"T_cc133_row6_col49\" class=\"data row6 col49\" >0.61</td>\n",
       "      <td id=\"T_cc133_row6_col50\" class=\"data row6 col50\" >0.68</td>\n",
       "      <td id=\"T_cc133_row6_col51\" class=\"data row6 col51\" >0.78</td>\n",
       "      <td id=\"T_cc133_row6_col52\" class=\"data row6 col52\" >0.49</td>\n",
       "      <td id=\"T_cc133_row6_col53\" class=\"data row6 col53\" >0.47</td>\n",
       "      <td id=\"T_cc133_row6_col54\" class=\"data row6 col54\" >0.59</td>\n",
       "      <td id=\"T_cc133_row6_col55\" class=\"data row6 col55\" >0.67</td>\n",
       "      <td id=\"T_cc133_row6_col56\" class=\"data row6 col56\" >0.81</td>\n",
       "      <td id=\"T_cc133_row6_col57\" class=\"data row6 col57\" >0.53</td>\n",
       "      <td id=\"T_cc133_row6_col58\" class=\"data row6 col58\" >0.65</td>\n",
       "    </tr>\n",
       "  </tbody>\n",
       "</table>\n"
      ],
      "text/plain": [
       "<pandas.io.formats.style.Styler at 0x7f5e3bff62b0>"
      ]
     },
     "execution_count": 8,
     "metadata": {},
     "output_type": "execute_result"
    }
   ],
   "source": [
    "eval = ts_33.evaluate()\n",
    "table = evaluation_as_table(eval)\n",
    "table"
   ]
  },
  {
   "cell_type": "code",
   "execution_count": null,
   "metadata": {},
   "outputs": [],
   "source": [
    "ts_33.evaluate(overwrite=True)"
   ]
  }
 ],
 "metadata": {
  "kernelspec": {
   "display_name": "venv",
   "language": "python",
   "name": "python3"
  },
  "language_info": {
   "codemirror_mode": {
    "name": "ipython",
    "version": 3
   },
   "file_extension": ".py",
   "mimetype": "text/x-python",
   "name": "python",
   "nbconvert_exporter": "python",
   "pygments_lexer": "ipython3",
   "version": "3.8.10"
  },
  "orig_nbformat": 4
 },
 "nbformat": 4,
 "nbformat_minor": 2
}
