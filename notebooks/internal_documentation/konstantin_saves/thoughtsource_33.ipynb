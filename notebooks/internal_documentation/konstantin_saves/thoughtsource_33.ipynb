{
 "cells": [
  {
   "cell_type": "code",
   "execution_count": 64,
   "metadata": {},
   "outputs": [],
   "source": [
    "from cot import Collection\n",
    "from cot.stats import evaluation_as_table\n",
    "from numpy import loadtxt"
   ]
  },
  {
   "cell_type": "code",
   "execution_count": 65,
   "metadata": {},
   "outputs": [],
   "source": [
    "ts_33 = Collection.load_thoughtsource_33()"
   ]
  },
  {
   "cell_type": "code",
   "execution_count": 66,
   "metadata": {},
   "outputs": [
    {
     "data": {
      "text/plain": [
       "| Name           | Train   | Valid   | Test   |\n",
       "|----------------|---------|---------|--------|\n",
       "| commonsense_qa | -       | 33      | -      |\n",
       "| med_qa         | -       | -       | 33     |\n",
       "| medmc_qa       | -       | 33      | -      |\n",
       "| open_book_qa   | -       | -       | 33     |\n",
       "| strategy_qa    | 33      | -       | -      |\n",
       "| worldtree      | -       | -       | 33     |\n",
       "\n",
       "Not loaded: ['aqua', 'asdiv', 'entailment_bank', 'gsm8k', 'mawps', 'pubmed_qa', 'qed', 'svamp']"
      ]
     },
     "execution_count": 66,
     "metadata": {},
     "output_type": "execute_result"
    }
   ],
   "source": [
    "ts_33"
   ]
  },
  {
   "cell_type": "code",
   "execution_count": 57,
   "metadata": {},
   "outputs": [],
   "source": [
    "ts_merge = Collection.from_json(\"/home/kon/work/ThoughtSource/notebooks/internal_documentation/konstantin_saves/thoughtsource_33_openai_chat_gpt-4_zhou-01-ins-qa-10-qa-12-qa-13-qa-16-qa-17_None.json\")"
   ]
  },
  {
   "cell_type": "code",
   "execution_count": 58,
   "metadata": {},
   "outputs": [
    {
     "data": {
      "application/vnd.jupyter.widget-view+json": {
       "model_id": "bea4246747ea495a86a674c95e5d2a56",
       "version_major": 2,
       "version_minor": 0
      },
      "text/plain": [
       "  0%|          | 0/1 [00:00<?, ?ba/s]"
      ]
     },
     "metadata": {},
     "output_type": "display_data"
    },
    {
     "data": {
      "application/vnd.jupyter.widget-view+json": {
       "model_id": "481426f9ffac44b68daa0f1eba005440",
       "version_major": 2,
       "version_minor": 0
      },
      "text/plain": [
       "  0%|          | 0/1 [00:00<?, ?ba/s]"
      ]
     },
     "metadata": {},
     "output_type": "display_data"
    },
    {
     "data": {
      "application/vnd.jupyter.widget-view+json": {
       "model_id": "5ccc466798a54d3da985223ccb7d1b45",
       "version_major": 2,
       "version_minor": 0
      },
      "text/plain": [
       "  0%|          | 0/1 [00:00<?, ?ba/s]"
      ]
     },
     "metadata": {},
     "output_type": "display_data"
    },
    {
     "data": {
      "application/vnd.jupyter.widget-view+json": {
       "model_id": "4c3e2fd9ed22415da25f25693d7ac90f",
       "version_major": 2,
       "version_minor": 0
      },
      "text/plain": [
       "  0%|          | 0/1 [00:00<?, ?ba/s]"
      ]
     },
     "metadata": {},
     "output_type": "display_data"
    },
    {
     "data": {
      "application/vnd.jupyter.widget-view+json": {
       "model_id": "bc90365ecfb945f9ac20bfc05dc412e1",
       "version_major": 2,
       "version_minor": 0
      },
      "text/plain": [
       "  0%|          | 0/1 [00:00<?, ?ba/s]"
      ]
     },
     "metadata": {},
     "output_type": "display_data"
    },
    {
     "data": {
      "application/vnd.jupyter.widget-view+json": {
       "model_id": "55c8c52aa14d4f988979a2ce666c0114",
       "version_major": 2,
       "version_minor": 0
      },
      "text/plain": [
       "  0%|          | 0/1 [00:00<?, ?ba/s]"
      ]
     },
     "metadata": {},
     "output_type": "display_data"
    }
   ],
   "source": [
    "ts_33_ids = ts_33.dump_ids()\n",
    "ts_merge = ts_merge.filter(lambda x: x[\"id\"] in ts_33_ids)"
   ]
  },
  {
   "cell_type": "code",
   "execution_count": 59,
   "metadata": {},
   "outputs": [
    {
     "name": "stdout",
     "output_type": "stream",
     "text": [
      "commonsense_qa {29}\n",
      "med_qa {32}\n",
      "medmc_qa {32}\n",
      "open_book_qa {27}\n",
      "strategy_qa {29}\n",
      "worldtree {27}\n"
     ]
    }
   ],
   "source": [
    "ts_33.number_generated_cots()"
   ]
  },
  {
   "cell_type": "code",
   "execution_count": 60,
   "metadata": {},
   "outputs": [
    {
     "data": {
      "application/vnd.jupyter.widget-view+json": {
       "model_id": "86be0303da0e4fa2bede89862a8c0e1b",
       "version_major": 2,
       "version_minor": 0
      },
      "text/plain": [
       "Creating json from Arrow format:   0%|          | 0/1 [00:00<?, ?ba/s]"
      ]
     },
     "metadata": {},
     "output_type": "display_data"
    },
    {
     "data": {
      "application/vnd.jupyter.widget-view+json": {
       "model_id": "ef9fae1ead3c4a81bdb0e2d650c31f3b",
       "version_major": 2,
       "version_minor": 0
      },
      "text/plain": [
       "Creating json from Arrow format:   0%|          | 0/1 [00:00<?, ?ba/s]"
      ]
     },
     "metadata": {},
     "output_type": "display_data"
    },
    {
     "data": {
      "application/vnd.jupyter.widget-view+json": {
       "model_id": "f2419c939fde4840bf751337510dfc7e",
       "version_major": 2,
       "version_minor": 0
      },
      "text/plain": [
       "Creating json from Arrow format:   0%|          | 0/1 [00:00<?, ?ba/s]"
      ]
     },
     "metadata": {},
     "output_type": "display_data"
    },
    {
     "data": {
      "application/vnd.jupyter.widget-view+json": {
       "model_id": "0d514f4139b34a11aac821bb38e89d5b",
       "version_major": 2,
       "version_minor": 0
      },
      "text/plain": [
       "Creating json from Arrow format:   0%|          | 0/1 [00:00<?, ?ba/s]"
      ]
     },
     "metadata": {},
     "output_type": "display_data"
    },
    {
     "data": {
      "application/vnd.jupyter.widget-view+json": {
       "model_id": "59cdb6c691e246af9e292516a6051a05",
       "version_major": 2,
       "version_minor": 0
      },
      "text/plain": [
       "Creating json from Arrow format:   0%|          | 0/1 [00:00<?, ?ba/s]"
      ]
     },
     "metadata": {},
     "output_type": "display_data"
    },
    {
     "data": {
      "application/vnd.jupyter.widget-view+json": {
       "model_id": "99cb62b686f24fed8f2a9a2eb61e09c9",
       "version_major": 2,
       "version_minor": 0
      },
      "text/plain": [
       "Creating json from Arrow format:   0%|          | 0/1 [00:00<?, ?ba/s]"
      ]
     },
     "metadata": {},
     "output_type": "display_data"
    },
    {
     "data": {
      "application/vnd.jupyter.widget-view+json": {
       "model_id": "4409c0d57ece4433bf72ca3a59fd76e6",
       "version_major": 2,
       "version_minor": 0
      },
      "text/plain": [
       "Creating json from Arrow format:   0%|          | 0/1 [00:00<?, ?ba/s]"
      ]
     },
     "metadata": {},
     "output_type": "display_data"
    },
    {
     "data": {
      "application/vnd.jupyter.widget-view+json": {
       "model_id": "e3e5db7809914754a8b774ffdf48dd88",
       "version_major": 2,
       "version_minor": 0
      },
      "text/plain": [
       "Creating json from Arrow format:   0%|          | 0/1 [00:00<?, ?ba/s]"
      ]
     },
     "metadata": {},
     "output_type": "display_data"
    },
    {
     "data": {
      "application/vnd.jupyter.widget-view+json": {
       "model_id": "63c2ff3a50d44fbc95f6e47d4dae7891",
       "version_major": 2,
       "version_minor": 0
      },
      "text/plain": [
       "Creating json from Arrow format:   0%|          | 0/1 [00:00<?, ?ba/s]"
      ]
     },
     "metadata": {},
     "output_type": "display_data"
    },
    {
     "data": {
      "application/vnd.jupyter.widget-view+json": {
       "model_id": "499dd7b8bf4542d58d2679a7e6629003",
       "version_major": 2,
       "version_minor": 0
      },
      "text/plain": [
       "Creating json from Arrow format:   0%|          | 0/1 [00:00<?, ?ba/s]"
      ]
     },
     "metadata": {},
     "output_type": "display_data"
    },
    {
     "data": {
      "application/vnd.jupyter.widget-view+json": {
       "model_id": "4164292942dd483fb795a8613a75caaf",
       "version_major": 2,
       "version_minor": 0
      },
      "text/plain": [
       "Creating json from Arrow format:   0%|          | 0/1 [00:00<?, ?ba/s]"
      ]
     },
     "metadata": {},
     "output_type": "display_data"
    },
    {
     "data": {
      "application/vnd.jupyter.widget-view+json": {
       "model_id": "cc9e883c89fe41db9990aa8cb85c77e8",
       "version_major": 2,
       "version_minor": 0
      },
      "text/plain": [
       "Creating json from Arrow format:   0%|          | 0/1 [00:00<?, ?ba/s]"
      ]
     },
     "metadata": {},
     "output_type": "display_data"
    }
   ],
   "source": [
    "ts_33 = ts_33.merge(ts_merge)"
   ]
  },
  {
   "cell_type": "code",
   "execution_count": 61,
   "metadata": {},
   "outputs": [
    {
     "name": "stdout",
     "output_type": "stream",
     "text": [
      "commonsense_qa {35}\n",
      "med_qa {38}\n",
      "medmc_qa {32, 38}\n",
      "open_book_qa {33, 27}\n",
      "strategy_qa {35}\n",
      "worldtree {33}\n"
     ]
    }
   ],
   "source": [
    "ts_33.number_generated_cots()"
   ]
  },
  {
   "cell_type": "code",
   "execution_count": 68,
   "metadata": {},
   "outputs": [],
   "source": [
    "ts_33.select_generated_cots(author=\"thoughtsource\")"
   ]
  },
  {
   "cell_type": "code",
   "execution_count": 69,
   "metadata": {},
   "outputs": [
    {
     "name": "stderr",
     "output_type": "stream",
     "text": [
      "/home/kon/work/ThoughtSource/libs/cot/cot/stats.py:406: PerformanceWarning: indexing past lexsort depth may impact performance.\n",
      "  df.loc[dataset, (instruction + \"_\" + cot_trigger, model)] = v\n"
     ]
    },
    {
     "data": {
      "text/html": [
       "<style type=\"text/css\">\n",
       "#T_2fe3f_row0_col1, #T_2fe3f_row1_col15, #T_2fe3f_row2_col15, #T_2fe3f_row3_col15, #T_2fe3f_row4_col15, #T_2fe3f_row5_col3, #T_2fe3f_row6_col15 {\n",
       "  font-weight: bold;\n",
       "}\n",
       "</style>\n",
       "<table id=\"T_2fe3f\">\n",
       "  <thead>\n",
       "    <tr>\n",
       "      <th class=\"blank level0\" >&nbsp;</th>\n",
       "      <th id=\"T_2fe3f_level0_col0\" class=\"col_heading level0 col0\" colspan=\"6\">None_None</th>\n",
       "      <th id=\"T_2fe3f_level0_col6\" class=\"col_heading level0 col6\" colspan=\"5\">None_kojima-01</th>\n",
       "      <th id=\"T_2fe3f_level0_col11\" class=\"col_heading level0 col11\" >None_kojima-03</th>\n",
       "      <th id=\"T_2fe3f_level0_col12\" class=\"col_heading level0 col12\" >None_kojima-09</th>\n",
       "      <th id=\"T_2fe3f_level0_col13\" class=\"col_heading level0 col13\" colspan=\"3\">None_zhou-01</th>\n",
       "      <th id=\"T_2fe3f_level0_col16\" class=\"col_heading level0 col16\" >qa-01_None</th>\n",
       "      <th id=\"T_2fe3f_level0_col17\" class=\"col_heading level0 col17\" >qa-05_None</th>\n",
       "      <th id=\"T_2fe3f_level0_col18\" class=\"col_heading level0 col18\" >qa-08_None</th>\n",
       "      <th id=\"T_2fe3f_level0_col19\" class=\"col_heading level0 col19\" >qa-09_None</th>\n",
       "      <th id=\"T_2fe3f_level0_col20\" class=\"col_heading level0 col20\" >qa-10_None</th>\n",
       "      <th id=\"T_2fe3f_level0_col21\" class=\"col_heading level0 col21\" >qa-12_None</th>\n",
       "      <th id=\"T_2fe3f_level0_col22\" class=\"col_heading level0 col22\" >qa-13_None</th>\n",
       "      <th id=\"T_2fe3f_level0_col23\" class=\"col_heading level0 col23\" >qa-16_None</th>\n",
       "      <th id=\"T_2fe3f_level0_col24\" class=\"col_heading level0 col24\" >qa-17_None</th>\n",
       "      <th id=\"T_2fe3f_level0_col25\" class=\"col_heading level0 col25\" >zhou-01-ins_None</th>\n",
       "      <th id=\"T_2fe3f_level0_col26\" class=\"col_heading level0 col26\" >zhou-01-ins_zhou-01</th>\n",
       "    </tr>\n",
       "    <tr>\n",
       "      <th class=\"blank level1\" >&nbsp;</th>\n",
       "      <th id=\"T_2fe3f_level1_col0\" class=\"col_heading level1 col0\" >command-xlarge-nightly</th>\n",
       "      <th id=\"T_2fe3f_level1_col1\" class=\"col_heading level1 col1\" >flan-T5-xxl</th>\n",
       "      <th id=\"T_2fe3f_level1_col2\" class=\"col_heading level1 col2\" >gpt-3.5-turbo</th>\n",
       "      <th id=\"T_2fe3f_level1_col3\" class=\"col_heading level1 col3\" >gpt-4</th>\n",
       "      <th id=\"T_2fe3f_level1_col4\" class=\"col_heading level1 col4\" >text-davinci-002</th>\n",
       "      <th id=\"T_2fe3f_level1_col5\" class=\"col_heading level1 col5\" >text-davinci-003</th>\n",
       "      <th id=\"T_2fe3f_level1_col6\" class=\"col_heading level1 col6\" >command-xlarge-nightly</th>\n",
       "      <th id=\"T_2fe3f_level1_col7\" class=\"col_heading level1 col7\" >flan-T5-xxl</th>\n",
       "      <th id=\"T_2fe3f_level1_col8\" class=\"col_heading level1 col8\" >gpt-3.5-turbo</th>\n",
       "      <th id=\"T_2fe3f_level1_col9\" class=\"col_heading level1 col9\" >text-davinci-002</th>\n",
       "      <th id=\"T_2fe3f_level1_col10\" class=\"col_heading level1 col10\" >text-davinci-003</th>\n",
       "      <th id=\"T_2fe3f_level1_col11\" class=\"col_heading level1 col11\" >gpt-3.5-turbo</th>\n",
       "      <th id=\"T_2fe3f_level1_col12\" class=\"col_heading level1 col12\" >gpt-3.5-turbo</th>\n",
       "      <th id=\"T_2fe3f_level1_col13\" class=\"col_heading level1 col13\" >flan-T5-xxl</th>\n",
       "      <th id=\"T_2fe3f_level1_col14\" class=\"col_heading level1 col14\" >gpt-3.5-turbo</th>\n",
       "      <th id=\"T_2fe3f_level1_col15\" class=\"col_heading level1 col15\" >gpt-4</th>\n",
       "      <th id=\"T_2fe3f_level1_col16\" class=\"col_heading level1 col16\" >gpt-3.5-turbo</th>\n",
       "      <th id=\"T_2fe3f_level1_col17\" class=\"col_heading level1 col17\" >gpt-3.5-turbo</th>\n",
       "      <th id=\"T_2fe3f_level1_col18\" class=\"col_heading level1 col18\" >gpt-3.5-turbo</th>\n",
       "      <th id=\"T_2fe3f_level1_col19\" class=\"col_heading level1 col19\" >gpt-3.5-turbo</th>\n",
       "      <th id=\"T_2fe3f_level1_col20\" class=\"col_heading level1 col20\" >gpt-3.5-turbo</th>\n",
       "      <th id=\"T_2fe3f_level1_col21\" class=\"col_heading level1 col21\" >gpt-3.5-turbo</th>\n",
       "      <th id=\"T_2fe3f_level1_col22\" class=\"col_heading level1 col22\" >gpt-3.5-turbo</th>\n",
       "      <th id=\"T_2fe3f_level1_col23\" class=\"col_heading level1 col23\" >gpt-3.5-turbo</th>\n",
       "      <th id=\"T_2fe3f_level1_col24\" class=\"col_heading level1 col24\" >gpt-3.5-turbo</th>\n",
       "      <th id=\"T_2fe3f_level1_col25\" class=\"col_heading level1 col25\" >gpt-3.5-turbo</th>\n",
       "      <th id=\"T_2fe3f_level1_col26\" class=\"col_heading level1 col26\" >gpt-3.5-turbo</th>\n",
       "    </tr>\n",
       "  </thead>\n",
       "  <tbody>\n",
       "    <tr>\n",
       "      <th id=\"T_2fe3f_level0_row0\" class=\"row_heading level0 row0\" >commonsense_qa</th>\n",
       "      <td id=\"T_2fe3f_row0_col0\" class=\"data row0 col0\" >0.52</td>\n",
       "      <td id=\"T_2fe3f_row0_col1\" class=\"data row0 col1\" >0.85</td>\n",
       "      <td id=\"T_2fe3f_row0_col2\" class=\"data row0 col2\" >0.76</td>\n",
       "      <td id=\"T_2fe3f_row0_col3\" class=\"data row0 col3\" >0.73</td>\n",
       "      <td id=\"T_2fe3f_row0_col4\" class=\"data row0 col4\" >0.76</td>\n",
       "      <td id=\"T_2fe3f_row0_col5\" class=\"data row0 col5\" >0.73</td>\n",
       "      <td id=\"T_2fe3f_row0_col6\" class=\"data row0 col6\" >0.48</td>\n",
       "      <td id=\"T_2fe3f_row0_col7\" class=\"data row0 col7\" >0.85</td>\n",
       "      <td id=\"T_2fe3f_row0_col8\" class=\"data row0 col8\" >0.73</td>\n",
       "      <td id=\"T_2fe3f_row0_col9\" class=\"data row0 col9\" >0.73</td>\n",
       "      <td id=\"T_2fe3f_row0_col10\" class=\"data row0 col10\" >0.67</td>\n",
       "      <td id=\"T_2fe3f_row0_col11\" class=\"data row0 col11\" >0.73</td>\n",
       "      <td id=\"T_2fe3f_row0_col12\" class=\"data row0 col12\" >0.70</td>\n",
       "      <td id=\"T_2fe3f_row0_col13\" class=\"data row0 col13\" >0.85</td>\n",
       "      <td id=\"T_2fe3f_row0_col14\" class=\"data row0 col14\" >0.70</td>\n",
       "      <td id=\"T_2fe3f_row0_col15\" class=\"data row0 col15\" >0.76</td>\n",
       "      <td id=\"T_2fe3f_row0_col16\" class=\"data row0 col16\" >0.64</td>\n",
       "      <td id=\"T_2fe3f_row0_col17\" class=\"data row0 col17\" >0.70</td>\n",
       "      <td id=\"T_2fe3f_row0_col18\" class=\"data row0 col18\" >0.67</td>\n",
       "      <td id=\"T_2fe3f_row0_col19\" class=\"data row0 col19\" >0.64</td>\n",
       "      <td id=\"T_2fe3f_row0_col20\" class=\"data row0 col20\" >0.70</td>\n",
       "      <td id=\"T_2fe3f_row0_col21\" class=\"data row0 col21\" >0.58</td>\n",
       "      <td id=\"T_2fe3f_row0_col22\" class=\"data row0 col22\" >0.64</td>\n",
       "      <td id=\"T_2fe3f_row0_col23\" class=\"data row0 col23\" >0.64</td>\n",
       "      <td id=\"T_2fe3f_row0_col24\" class=\"data row0 col24\" >0.61</td>\n",
       "      <td id=\"T_2fe3f_row0_col25\" class=\"data row0 col25\" >0.79</td>\n",
       "      <td id=\"T_2fe3f_row0_col26\" class=\"data row0 col26\" >0.64</td>\n",
       "    </tr>\n",
       "    <tr>\n",
       "      <th id=\"T_2fe3f_level0_row1\" class=\"row_heading level0 row1\" >med_qa</th>\n",
       "      <td id=\"T_2fe3f_row1_col0\" class=\"data row1 col0\" >0.18</td>\n",
       "      <td id=\"T_2fe3f_row1_col1\" class=\"data row1 col1\" >0.21</td>\n",
       "      <td id=\"T_2fe3f_row1_col2\" class=\"data row1 col2\" >0.55</td>\n",
       "      <td id=\"T_2fe3f_row1_col3\" class=\"data row1 col3\" >0.64</td>\n",
       "      <td id=\"T_2fe3f_row1_col4\" class=\"data row1 col4\" >0.33</td>\n",
       "      <td id=\"T_2fe3f_row1_col5\" class=\"data row1 col5\" >0.30</td>\n",
       "      <td id=\"T_2fe3f_row1_col6\" class=\"data row1 col6\" >0.30</td>\n",
       "      <td id=\"T_2fe3f_row1_col7\" class=\"data row1 col7\" >0.27</td>\n",
       "      <td id=\"T_2fe3f_row1_col8\" class=\"data row1 col8\" >0.52</td>\n",
       "      <td id=\"T_2fe3f_row1_col9\" class=\"data row1 col9\" >0.12</td>\n",
       "      <td id=\"T_2fe3f_row1_col10\" class=\"data row1 col10\" >0.33</td>\n",
       "      <td id=\"T_2fe3f_row1_col11\" class=\"data row1 col11\" >0.52</td>\n",
       "      <td id=\"T_2fe3f_row1_col12\" class=\"data row1 col12\" >0.45</td>\n",
       "      <td id=\"T_2fe3f_row1_col13\" class=\"data row1 col13\" >0.12</td>\n",
       "      <td id=\"T_2fe3f_row1_col14\" class=\"data row1 col14\" >0.61</td>\n",
       "      <td id=\"T_2fe3f_row1_col15\" class=\"data row1 col15\" >0.73</td>\n",
       "      <td id=\"T_2fe3f_row1_col16\" class=\"data row1 col16\" >0.52</td>\n",
       "      <td id=\"T_2fe3f_row1_col17\" class=\"data row1 col17\" >0.39</td>\n",
       "      <td id=\"T_2fe3f_row1_col18\" class=\"data row1 col18\" >0.36</td>\n",
       "      <td id=\"T_2fe3f_row1_col19\" class=\"data row1 col19\" >0.52</td>\n",
       "      <td id=\"T_2fe3f_row1_col20\" class=\"data row1 col20\" >0.42</td>\n",
       "      <td id=\"T_2fe3f_row1_col21\" class=\"data row1 col21\" >0.55</td>\n",
       "      <td id=\"T_2fe3f_row1_col22\" class=\"data row1 col22\" >0.42</td>\n",
       "      <td id=\"T_2fe3f_row1_col23\" class=\"data row1 col23\" >0.48</td>\n",
       "      <td id=\"T_2fe3f_row1_col24\" class=\"data row1 col24\" >0.52</td>\n",
       "      <td id=\"T_2fe3f_row1_col25\" class=\"data row1 col25\" >0.48</td>\n",
       "      <td id=\"T_2fe3f_row1_col26\" class=\"data row1 col26\" >0.45</td>\n",
       "    </tr>\n",
       "    <tr>\n",
       "      <th id=\"T_2fe3f_level0_row2\" class=\"row_heading level0 row2\" >medmc_qa</th>\n",
       "      <td id=\"T_2fe3f_row2_col0\" class=\"data row2 col0\" >0.27</td>\n",
       "      <td id=\"T_2fe3f_row2_col1\" class=\"data row2 col1\" >0.36</td>\n",
       "      <td id=\"T_2fe3f_row2_col2\" class=\"data row2 col2\" >0.64</td>\n",
       "      <td id=\"T_2fe3f_row2_col3\" class=\"data row2 col3\" >0.79</td>\n",
       "      <td id=\"T_2fe3f_row2_col4\" class=\"data row2 col4\" >0.30</td>\n",
       "      <td id=\"T_2fe3f_row2_col5\" class=\"data row2 col5\" >0.36</td>\n",
       "      <td id=\"T_2fe3f_row2_col6\" class=\"data row2 col6\" >0.15</td>\n",
       "      <td id=\"T_2fe3f_row2_col7\" class=\"data row2 col7\" >0.30</td>\n",
       "      <td id=\"T_2fe3f_row2_col8\" class=\"data row2 col8\" >0.58</td>\n",
       "      <td id=\"T_2fe3f_row2_col9\" class=\"data row2 col9\" >0.33</td>\n",
       "      <td id=\"T_2fe3f_row2_col10\" class=\"data row2 col10\" >0.36</td>\n",
       "      <td id=\"T_2fe3f_row2_col11\" class=\"data row2 col11\" >0.61</td>\n",
       "      <td id=\"T_2fe3f_row2_col12\" class=\"data row2 col12\" >0.55</td>\n",
       "      <td id=\"T_2fe3f_row2_col13\" class=\"data row2 col13\" >0.36</td>\n",
       "      <td id=\"T_2fe3f_row2_col14\" class=\"data row2 col14\" >0.61</td>\n",
       "      <td id=\"T_2fe3f_row2_col15\" class=\"data row2 col15\" >0.85</td>\n",
       "      <td id=\"T_2fe3f_row2_col16\" class=\"data row2 col16\" >0.61</td>\n",
       "      <td id=\"T_2fe3f_row2_col17\" class=\"data row2 col17\" >0.64</td>\n",
       "      <td id=\"T_2fe3f_row2_col18\" class=\"data row2 col18\" >0.48</td>\n",
       "      <td id=\"T_2fe3f_row2_col19\" class=\"data row2 col19\" >0.67</td>\n",
       "      <td id=\"T_2fe3f_row2_col20\" class=\"data row2 col20\" >0.64</td>\n",
       "      <td id=\"T_2fe3f_row2_col21\" class=\"data row2 col21\" >0.64</td>\n",
       "      <td id=\"T_2fe3f_row2_col22\" class=\"data row2 col22\" >0.52</td>\n",
       "      <td id=\"T_2fe3f_row2_col23\" class=\"data row2 col23\" >0.64</td>\n",
       "      <td id=\"T_2fe3f_row2_col24\" class=\"data row2 col24\" >0.67</td>\n",
       "      <td id=\"T_2fe3f_row2_col25\" class=\"data row2 col25\" >0.48</td>\n",
       "      <td id=\"T_2fe3f_row2_col26\" class=\"data row2 col26\" >0.52</td>\n",
       "    </tr>\n",
       "    <tr>\n",
       "      <th id=\"T_2fe3f_level0_row3\" class=\"row_heading level0 row3\" >open_book_qa</th>\n",
       "      <td id=\"T_2fe3f_row3_col0\" class=\"data row3 col0\" >0.58</td>\n",
       "      <td id=\"T_2fe3f_row3_col1\" class=\"data row3 col1\" >0.76</td>\n",
       "      <td id=\"T_2fe3f_row3_col2\" class=\"data row3 col2\" >0.85</td>\n",
       "      <td id=\"T_2fe3f_row3_col3\" class=\"data row3 col3\" >0.91</td>\n",
       "      <td id=\"T_2fe3f_row3_col4\" class=\"data row3 col4\" >0.64</td>\n",
       "      <td id=\"T_2fe3f_row3_col5\" class=\"data row3 col5\" >0.64</td>\n",
       "      <td id=\"T_2fe3f_row3_col6\" class=\"data row3 col6\" >0.42</td>\n",
       "      <td id=\"T_2fe3f_row3_col7\" class=\"data row3 col7\" >0.82</td>\n",
       "      <td id=\"T_2fe3f_row3_col8\" class=\"data row3 col8\" >0.79</td>\n",
       "      <td id=\"T_2fe3f_row3_col9\" class=\"data row3 col9\" >0.55</td>\n",
       "      <td id=\"T_2fe3f_row3_col10\" class=\"data row3 col10\" >0.58</td>\n",
       "      <td id=\"T_2fe3f_row3_col11\" class=\"data row3 col11\" >0.82</td>\n",
       "      <td id=\"T_2fe3f_row3_col12\" class=\"data row3 col12\" >0.76</td>\n",
       "      <td id=\"T_2fe3f_row3_col13\" class=\"data row3 col13\" >0.82</td>\n",
       "      <td id=\"T_2fe3f_row3_col14\" class=\"data row3 col14\" >0.73</td>\n",
       "      <td id=\"T_2fe3f_row3_col15\" class=\"data row3 col15\" >0.97</td>\n",
       "      <td id=\"T_2fe3f_row3_col16\" class=\"data row3 col16\" >0.79</td>\n",
       "      <td id=\"T_2fe3f_row3_col17\" class=\"data row3 col17\" >0.61</td>\n",
       "      <td id=\"T_2fe3f_row3_col18\" class=\"data row3 col18\" >0.73</td>\n",
       "      <td id=\"T_2fe3f_row3_col19\" class=\"data row3 col19\" >0.64</td>\n",
       "      <td id=\"T_2fe3f_row3_col20\" class=\"data row3 col20\" >0.76</td>\n",
       "      <td id=\"T_2fe3f_row3_col21\" class=\"data row3 col21\" >0.85</td>\n",
       "      <td id=\"T_2fe3f_row3_col22\" class=\"data row3 col22\" >0.73</td>\n",
       "      <td id=\"T_2fe3f_row3_col23\" class=\"data row3 col23\" >0.67</td>\n",
       "      <td id=\"T_2fe3f_row3_col24\" class=\"data row3 col24\" >0.73</td>\n",
       "      <td id=\"T_2fe3f_row3_col25\" class=\"data row3 col25\" >0.73</td>\n",
       "      <td id=\"T_2fe3f_row3_col26\" class=\"data row3 col26\" >0.79</td>\n",
       "    </tr>\n",
       "    <tr>\n",
       "      <th id=\"T_2fe3f_level0_row4\" class=\"row_heading level0 row4\" >strategy_qa</th>\n",
       "      <td id=\"T_2fe3f_row4_col0\" class=\"data row4 col0\" >0.55</td>\n",
       "      <td id=\"T_2fe3f_row4_col1\" class=\"data row4 col1\" >0.67</td>\n",
       "      <td id=\"T_2fe3f_row4_col2\" class=\"data row4 col2\" >0.55</td>\n",
       "      <td id=\"T_2fe3f_row4_col3\" class=\"data row4 col3\" >0.73</td>\n",
       "      <td id=\"T_2fe3f_row4_col4\" class=\"data row4 col4\" >0.39</td>\n",
       "      <td id=\"T_2fe3f_row4_col5\" class=\"data row4 col5\" >0.61</td>\n",
       "      <td id=\"T_2fe3f_row4_col6\" class=\"data row4 col6\" >0.58</td>\n",
       "      <td id=\"T_2fe3f_row4_col7\" class=\"data row4 col7\" >0.70</td>\n",
       "      <td id=\"T_2fe3f_row4_col8\" class=\"data row4 col8\" >0.61</td>\n",
       "      <td id=\"T_2fe3f_row4_col9\" class=\"data row4 col9\" >0.42</td>\n",
       "      <td id=\"T_2fe3f_row4_col10\" class=\"data row4 col10\" >0.64</td>\n",
       "      <td id=\"T_2fe3f_row4_col11\" class=\"data row4 col11\" >0.55</td>\n",
       "      <td id=\"T_2fe3f_row4_col12\" class=\"data row4 col12\" >0.64</td>\n",
       "      <td id=\"T_2fe3f_row4_col13\" class=\"data row4 col13\" >0.48</td>\n",
       "      <td id=\"T_2fe3f_row4_col14\" class=\"data row4 col14\" >0.61</td>\n",
       "      <td id=\"T_2fe3f_row4_col15\" class=\"data row4 col15\" >0.91</td>\n",
       "      <td id=\"T_2fe3f_row4_col16\" class=\"data row4 col16\" >0.55</td>\n",
       "      <td id=\"T_2fe3f_row4_col17\" class=\"data row4 col17\" >0.45</td>\n",
       "      <td id=\"T_2fe3f_row4_col18\" class=\"data row4 col18\" >0.64</td>\n",
       "      <td id=\"T_2fe3f_row4_col19\" class=\"data row4 col19\" >0.70</td>\n",
       "      <td id=\"T_2fe3f_row4_col20\" class=\"data row4 col20\" >0.61</td>\n",
       "      <td id=\"T_2fe3f_row4_col21\" class=\"data row4 col21\" >0.52</td>\n",
       "      <td id=\"T_2fe3f_row4_col22\" class=\"data row4 col22\" >0.70</td>\n",
       "      <td id=\"T_2fe3f_row4_col23\" class=\"data row4 col23\" >0.64</td>\n",
       "      <td id=\"T_2fe3f_row4_col24\" class=\"data row4 col24\" >0.67</td>\n",
       "      <td id=\"T_2fe3f_row4_col25\" class=\"data row4 col25\" >0.58</td>\n",
       "      <td id=\"T_2fe3f_row4_col26\" class=\"data row4 col26\" >0.58</td>\n",
       "    </tr>\n",
       "    <tr>\n",
       "      <th id=\"T_2fe3f_level0_row5\" class=\"row_heading level0 row5\" >worldtree</th>\n",
       "      <td id=\"T_2fe3f_row5_col0\" class=\"data row5 col0\" >0.61</td>\n",
       "      <td id=\"T_2fe3f_row5_col1\" class=\"data row5 col1\" >0.88</td>\n",
       "      <td id=\"T_2fe3f_row5_col2\" class=\"data row5 col2\" >0.94</td>\n",
       "      <td id=\"T_2fe3f_row5_col3\" class=\"data row5 col3\" >0.97</td>\n",
       "      <td id=\"T_2fe3f_row5_col4\" class=\"data row5 col4\" >0.88</td>\n",
       "      <td id=\"T_2fe3f_row5_col5\" class=\"data row5 col5\" >0.94</td>\n",
       "      <td id=\"T_2fe3f_row5_col6\" class=\"data row5 col6\" >0.61</td>\n",
       "      <td id=\"T_2fe3f_row5_col7\" class=\"data row5 col7\" >0.79</td>\n",
       "      <td id=\"T_2fe3f_row5_col8\" class=\"data row5 col8\" >0.91</td>\n",
       "      <td id=\"T_2fe3f_row5_col9\" class=\"data row5 col9\" >0.79</td>\n",
       "      <td id=\"T_2fe3f_row5_col10\" class=\"data row5 col10\" >0.91</td>\n",
       "      <td id=\"T_2fe3f_row5_col11\" class=\"data row5 col11\" >0.94</td>\n",
       "      <td id=\"T_2fe3f_row5_col12\" class=\"data row5 col12\" >0.94</td>\n",
       "      <td id=\"T_2fe3f_row5_col13\" class=\"data row5 col13\" >0.82</td>\n",
       "      <td id=\"T_2fe3f_row5_col14\" class=\"data row5 col14\" >0.94</td>\n",
       "      <td id=\"T_2fe3f_row5_col15\" class=\"data row5 col15\" >0.97</td>\n",
       "      <td id=\"T_2fe3f_row5_col16\" class=\"data row5 col16\" >0.88</td>\n",
       "      <td id=\"T_2fe3f_row5_col17\" class=\"data row5 col17\" >0.70</td>\n",
       "      <td id=\"T_2fe3f_row5_col18\" class=\"data row5 col18\" >0.97</td>\n",
       "      <td id=\"T_2fe3f_row5_col19\" class=\"data row5 col19\" >0.85</td>\n",
       "      <td id=\"T_2fe3f_row5_col20\" class=\"data row5 col20\" >0.88</td>\n",
       "      <td id=\"T_2fe3f_row5_col21\" class=\"data row5 col21\" >0.88</td>\n",
       "      <td id=\"T_2fe3f_row5_col22\" class=\"data row5 col22\" >0.94</td>\n",
       "      <td id=\"T_2fe3f_row5_col23\" class=\"data row5 col23\" >0.85</td>\n",
       "      <td id=\"T_2fe3f_row5_col24\" class=\"data row5 col24\" >0.91</td>\n",
       "      <td id=\"T_2fe3f_row5_col25\" class=\"data row5 col25\" >0.97</td>\n",
       "      <td id=\"T_2fe3f_row5_col26\" class=\"data row5 col26\" >0.94</td>\n",
       "    </tr>\n",
       "    <tr>\n",
       "      <th id=\"T_2fe3f_level0_row6\" class=\"row_heading level0 row6\" >Average</th>\n",
       "      <td id=\"T_2fe3f_row6_col0\" class=\"data row6 col0\" >0.45</td>\n",
       "      <td id=\"T_2fe3f_row6_col1\" class=\"data row6 col1\" >0.62</td>\n",
       "      <td id=\"T_2fe3f_row6_col2\" class=\"data row6 col2\" >0.71</td>\n",
       "      <td id=\"T_2fe3f_row6_col3\" class=\"data row6 col3\" >0.79</td>\n",
       "      <td id=\"T_2fe3f_row6_col4\" class=\"data row6 col4\" >0.55</td>\n",
       "      <td id=\"T_2fe3f_row6_col5\" class=\"data row6 col5\" >0.60</td>\n",
       "      <td id=\"T_2fe3f_row6_col6\" class=\"data row6 col6\" >0.42</td>\n",
       "      <td id=\"T_2fe3f_row6_col7\" class=\"data row6 col7\" >0.62</td>\n",
       "      <td id=\"T_2fe3f_row6_col8\" class=\"data row6 col8\" >0.69</td>\n",
       "      <td id=\"T_2fe3f_row6_col9\" class=\"data row6 col9\" >0.49</td>\n",
       "      <td id=\"T_2fe3f_row6_col10\" class=\"data row6 col10\" >0.58</td>\n",
       "      <td id=\"T_2fe3f_row6_col11\" class=\"data row6 col11\" >0.69</td>\n",
       "      <td id=\"T_2fe3f_row6_col12\" class=\"data row6 col12\" >0.67</td>\n",
       "      <td id=\"T_2fe3f_row6_col13\" class=\"data row6 col13\" >0.58</td>\n",
       "      <td id=\"T_2fe3f_row6_col14\" class=\"data row6 col14\" >0.70</td>\n",
       "      <td id=\"T_2fe3f_row6_col15\" class=\"data row6 col15\" >0.86</td>\n",
       "      <td id=\"T_2fe3f_row6_col16\" class=\"data row6 col16\" >0.66</td>\n",
       "      <td id=\"T_2fe3f_row6_col17\" class=\"data row6 col17\" >0.58</td>\n",
       "      <td id=\"T_2fe3f_row6_col18\" class=\"data row6 col18\" >0.64</td>\n",
       "      <td id=\"T_2fe3f_row6_col19\" class=\"data row6 col19\" >0.67</td>\n",
       "      <td id=\"T_2fe3f_row6_col20\" class=\"data row6 col20\" >0.67</td>\n",
       "      <td id=\"T_2fe3f_row6_col21\" class=\"data row6 col21\" >0.67</td>\n",
       "      <td id=\"T_2fe3f_row6_col22\" class=\"data row6 col22\" >0.66</td>\n",
       "      <td id=\"T_2fe3f_row6_col23\" class=\"data row6 col23\" >0.65</td>\n",
       "      <td id=\"T_2fe3f_row6_col24\" class=\"data row6 col24\" >0.68</td>\n",
       "      <td id=\"T_2fe3f_row6_col25\" class=\"data row6 col25\" >0.67</td>\n",
       "      <td id=\"T_2fe3f_row6_col26\" class=\"data row6 col26\" >0.65</td>\n",
       "    </tr>\n",
       "  </tbody>\n",
       "</table>\n"
      ],
      "text/plain": [
       "<pandas.io.formats.style.Styler at 0x7f60e5f7e860>"
      ]
     },
     "execution_count": 69,
     "metadata": {},
     "output_type": "execute_result"
    }
   ],
   "source": [
    "eval = ts_33.evaluate()\n",
    "table = evaluation_as_table(eval)\n",
    "table"
   ]
  },
  {
   "cell_type": "code",
   "execution_count": null,
   "metadata": {},
   "outputs": [],
   "source": [
    "ts_33.evaluate(overwrite=True)"
   ]
  }
 ],
 "metadata": {
  "kernelspec": {
   "display_name": "venv",
   "language": "python",
   "name": "python3"
  },
  "language_info": {
   "codemirror_mode": {
    "name": "ipython",
    "version": 3
   },
   "file_extension": ".py",
   "mimetype": "text/x-python",
   "name": "python",
   "nbconvert_exporter": "python",
   "pygments_lexer": "ipython3",
   "version": "3.10.6"
  },
  "orig_nbformat": 4
 },
 "nbformat": 4,
 "nbformat_minor": 2
}
