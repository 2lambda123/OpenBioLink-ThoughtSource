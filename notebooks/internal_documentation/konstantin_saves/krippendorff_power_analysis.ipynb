{
 "cells": [
  {
   "cell_type": "code",
   "execution_count": 2,
   "metadata": {},
   "outputs": [],
   "source": [
    "from scipy import stats\n",
    "import math"
   ]
  },
  {
   "attachments": {},
   "cell_type": "markdown",
   "metadata": {},
   "source": [
    "Power analysis using Krippendorff's alpha for inter-rater reliability"
   ]
  },
  {
   "cell_type": "markdown",
   "metadata": {},
   "source": [
    "$$\n",
    "T\\left(P_c, \\alpha_{\\text {min }}, p\\right)=2 z_p^2\\left(\\frac{\\left(1+\\alpha_{\\text {min }}\\right)\\left(3-\\alpha_{\\text {min }}\\right)}{4\\left(1-\\alpha_{\\text {min }}\\right) P_c\\left(1-P_c\\right)}-\\alpha_{\\text {min }}\\right)\n",
    "$$"
   ]
  },
  {
   "cell_type": "code",
   "execution_count": 14,
   "metadata": {},
   "outputs": [],
   "source": [
    "level_of_significance = 0.05\n",
    "alpha = 0.8 # effect size, Krippendorff's alpha\n",
    "probability_correct = 0.2 # is 0.25 in a single-choice test with 4 options (25% random correct)"
   ]
  },
  {
   "cell_type": "code",
   "execution_count": 15,
   "metadata": {},
   "outputs": [],
   "source": [
    "z = stats.norm.ppf(level_of_significance)\n",
    "# z"
   ]
  },
  {
   "cell_type": "code",
   "execution_count": 16,
   "metadata": {},
   "outputs": [
    {
     "data": {
      "text/plain": [
       "163.0766316956012"
      ]
     },
     "execution_count": 16,
     "metadata": {},
     "output_type": "execute_result"
    }
   ],
   "source": [
    "t = 2*z**2*(((1+alpha)*(3-alpha))/(4*(1-alpha)*probability_correct*(1-probability_correct))-alpha)\n",
    "t"
   ]
  },
  {
   "cell_type": "code",
   "execution_count": 22,
   "metadata": {},
   "outputs": [
    {
     "name": "stdout",
     "output_type": "stream",
     "text": [
      "We need to use 164 samples for a single-choice test with 4 options and alpha= 0.8 and probability_correct= 0.2 to achieve a level of significance of 0.05.\n"
     ]
    }
   ],
   "source": [
    "print(f\"We need to use {math.ceil(t)} samples for a single-choice test with 4 options and alpha= {alpha} and probability_correct= {probability_correct} to achieve a level of significance of {level_of_significance}.\")"
   ]
  },
  {
   "cell_type": "code",
   "execution_count": 17,
   "metadata": {},
   "outputs": [],
   "source": [
    "alpha = 0.9 # effect size, Krippendorff's alpha"
   ]
  },
  {
   "cell_type": "code",
   "execution_count": 18,
   "metadata": {},
   "outputs": [
    {
     "data": {
      "text/plain": [
       "332.4774712151504"
      ]
     },
     "execution_count": 18,
     "metadata": {},
     "output_type": "execute_result"
    }
   ],
   "source": [
    "t = 2*z**2*(((1+alpha)*(3-alpha))/(4*(1-alpha)*probability_correct*(1-probability_correct))-alpha)\n",
    "t"
   ]
  },
  {
   "cell_type": "code",
   "execution_count": 21,
   "metadata": {},
   "outputs": [
    {
     "name": "stdout",
     "output_type": "stream",
     "text": [
      "We need to use 333 samples for a single-choice test with 4 options and alpha= 0.9 and probability_correct= 0.2 to achieve a level of significance of 0.05.\n"
     ]
    }
   ],
   "source": [
    "print(f\"We need to use {math.ceil(t)} samples for a single-choice test with 4 options and alpha= {alpha} and probability_correct= {probability_correct} to achieve a level of significance of {level_of_significance}.\")"
   ]
  },
  {
   "cell_type": "code",
   "execution_count": 20,
   "metadata": {},
   "outputs": [],
   "source": [
    "# Very nice: our thoughtsource dataset creation is a little limited by the open_book_qa test set, which has only 500 examples.\n",
    "# We could of course also use open_book_qa valid, but that needs a little extra work.\n",
    "# So we just go for two rounds, in sum 500 examples\n",
    "# alpha = 0.8 with 167 examples for exploratory analysis Thoughtsource_1000\n",
    "# alpha = 0.9 with 333 examples for hypothesis testing Thoughtsource_2000"
   ]
  },
  {
   "cell_type": "code",
   "execution_count": 24,
   "metadata": {},
   "outputs": [
    {
     "data": {
      "text/plain": [
       "166.66666666666666"
      ]
     },
     "execution_count": 24,
     "metadata": {},
     "output_type": "execute_result"
    }
   ],
   "source": [
    "# we will use a thoughtsource dataset with 1000 samples in sum\n",
    "1000/6"
   ]
  },
  {
   "cell_type": "code",
   "execution_count": 30,
   "metadata": {},
   "outputs": [
    {
     "data": {
      "text/plain": [
       "1050"
      ]
     },
     "execution_count": 30,
     "metadata": {},
     "output_type": "execute_result"
    }
   ],
   "source": [
    "# Maybe go for a little more if we want to exclude some items that are erroneous\n",
    "6*175"
   ]
  }
 ],
 "metadata": {
  "kernelspec": {
   "display_name": "venv",
   "language": "python",
   "name": "python3"
  },
  "language_info": {
   "codemirror_mode": {
    "name": "ipython",
    "version": 3
   },
   "file_extension": ".py",
   "mimetype": "text/x-python",
   "name": "python",
   "nbconvert_exporter": "python",
   "pygments_lexer": "ipython3",
   "version": "3.10.6"
  },
  "orig_nbformat": 4
 },
 "nbformat": 4,
 "nbformat_minor": 2
}
