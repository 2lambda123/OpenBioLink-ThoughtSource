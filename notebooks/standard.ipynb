{
 "cells": [
  {
   "cell_type": "code",
   "execution_count": 32,
   "metadata": {},
   "outputs": [],
   "source": [
    "from cot import Collection\n",
    "import json"
   ]
  },
  {
   "cell_type": "code",
   "execution_count": 33,
   "metadata": {},
   "outputs": [],
   "source": [
    "collection = Collection.from_json(\"./thoughtsource_100_openai_text-davinci-003_qa-04.json\")"
   ]
  },
  {
   "cell_type": "code",
   "execution_count": 46,
   "metadata": {},
   "outputs": [
    {
     "name": "stdout",
     "output_type": "stream",
     "text": [
      "Evaluating worldtree...\n"
     ]
    },
    {
     "data": {
      "application/vnd.jupyter.widget-view+json": {
       "model_id": "9625b7fe8d124264804f333022c43bff",
       "version_major": 2,
       "version_minor": 0
      },
      "text/plain": [
       "  0%|          | 0/1 [00:00<?, ?ex/s]"
      ]
     },
     "metadata": {},
     "output_type": "display_data"
    },
    {
     "data": {
      "text/plain": [
       "{'worldtree': {'test': {'accuracy': {'text-davinci-003': {'qa-04_None_kojima-A-D': 1.0}}}}}"
      ]
     },
     "execution_count": 46,
     "metadata": {},
     "output_type": "execute_result"
    }
   ],
   "source": [
    "collection.evaluate(\"worldtree\", overwrite=True, warn=True)"
   ]
  },
  {
   "cell_type": "code",
   "execution_count": 9,
   "metadata": {},
   "outputs": [
    {
     "name": "stdout",
     "output_type": "stream",
     "text": [
      "Loading med_qa...\n",
      "Evaluating med_qa...\n"
     ]
    }
   ],
   "source": [
    "collection = Collection([\"med_qa\"], verbose=False, load_pregenerated_cots=\"all\")\n",
    "collection = collection.select(split=\"test\")\n",
    "evaluation = collection.evaluate(overwrite=False, warn=False)\n",
    "correct = {\n",
    "    \"med_qa\": {\n",
    "        \"test\": {\n",
    "            \"accuracy\": {\n",
    "                \"text-davinci-002\": {\n",
    "                    \"None_kojima-01_kojima-A-D\": 0.471328,\n",
    "                    \"None_lievin-01_kojima-A-D\": 0.450903,\n",
    "                    \"None_lievin-02_kojima-A-D\": 0.459544,\n",
    "                    \"None_lievin-03_kojima-A-D\": 0.456402,\n",
    "                    \"None_lievin-10_kojima-A-D\": 0.468185,\n",
    "                },\n",
    "                \"code-davinci-002\": {\"None_kojima-01_kojima-03\": 0.506838},\n",
    "            }\n",
    "        }\n",
    "    }\n",
    "}\n",
    "assert evaluation == correct\n"
   ]
  },
  {
   "cell_type": "code",
   "execution_count": 10,
   "metadata": {},
   "outputs": [],
   "source": [
    "collection.dump(\"foo1.json\")"
   ]
  },
  {
   "cell_type": "code",
   "execution_count": 11,
   "metadata": {},
   "outputs": [
    {
     "name": "stdout",
     "output_type": "stream",
     "text": [
      "Evaluating med_qa...\n"
     ]
    }
   ],
   "source": [
    "\n",
    "# compare with own calculation of the evaluation\n",
    "evaluation = collection.evaluate(overwrite=True, warn=False)\n",
    "collection.dump(\"foo2.json\")\n",
    "# assert compare_nested_dict_float_values(evaluation, correct, 1e-6)"
   ]
  },
  {
   "cell_type": "code",
   "execution_count": 16,
   "metadata": {},
   "outputs": [
    {
     "name": "stdout",
     "output_type": "stream",
     "text": [
      "Evaluating med_qa...\n"
     ]
    },
    {
     "data": {
      "text/plain": [
       "{'med_qa': {'test': {'accuracy': {'code-davinci-002': {'None_kojima-01_kojima-03': 0.506249},\n",
       "    'text-davinci-002': {'None_kojima-01_kojima-A-D': 0.470542,\n",
       "     'None_lievin-01_kojima-A-D': 0.450118,\n",
       "     'None_lievin-02_kojima-A-D': 0.458759,\n",
       "     'None_lievin-03_kojima-A-D': 0.456402,\n",
       "     'None_lievin-10_kojima-A-D': 0.4674}}}}}"
      ]
     },
     "execution_count": 16,
     "metadata": {},
     "output_type": "execute_result"
    }
   ],
   "source": [
    "eval = collection.evaluate()\n",
    "eval"
   ]
  },
  {
   "cell_type": "code",
   "execution_count": 14,
   "metadata": {},
   "outputs": [],
   "source": [
    "def compare_json_files(file1_path, file2_path):\n",
    "    # Load the contents of the files\n",
    "    with open(file1_path) as file1, open(file2_path) as file2:\n",
    "        file1_data = json.load(file1)\n",
    "        file2_data = json.load(file2)\n",
    "\n",
    "    # Compare the JSON data\n",
    "    diff_lines = []\n",
    "    for i, (file1_line, file2_line) in enumerate(zip(file1_data, file2_data)):\n",
    "        if file1_line != file2_line:\n",
    "            # Add the differing line to the list\n",
    "            diff_lines.append(i)\n",
    "\n",
    "    # Return lines that differ plus/minus 10 surrounding lines\n",
    "    lines = []\n",
    "    for i in diff_lines:\n",
    "        # Add the differing line\n",
    "        lines.append(f\"Line {i+1}: {file1_data[i]} != {file2_data[i]}\")\n",
    "\n",
    "        # Add the plus/minus 10 surrounding lines\n",
    "        for j in range(max(0, i-10), min(len(file1_data), i+11)):\n",
    "            if j != i:\n",
    "                lines.append(f\"Line {j+1}: {file1_data[j]}\")\n",
    "\n",
    "    return '\\n'.join(lines)"
   ]
  },
  {
   "cell_type": "code",
   "execution_count": 24,
   "metadata": {},
   "outputs": [
    {
     "data": {
      "text/plain": [
       "''"
      ]
     },
     "execution_count": 24,
     "metadata": {},
     "output_type": "execute_result"
    }
   ],
   "source": [
    "compare_json_files(\"foo1.json\", \"foo2.json\")"
   ]
  },
  {
   "cell_type": "code",
   "execution_count": 22,
   "metadata": {},
   "outputs": [],
   "source": [
    "def simple_compare_json_files(file1_path, file2_path):\n",
    "    # Load the contents of the files\n",
    "    with open(file1_path) as file1, open(file2_path) as file2:\n",
    "        file1_data = json.load(file1)\n",
    "        file2_data = json.load(file2)\n",
    "\n",
    "    # Compare the JSON data\n",
    "    return file1_data == file2_data"
   ]
  },
  {
   "cell_type": "code",
   "execution_count": 23,
   "metadata": {},
   "outputs": [
    {
     "data": {
      "text/plain": [
       "False"
      ]
     },
     "execution_count": 23,
     "metadata": {},
     "output_type": "execute_result"
    }
   ],
   "source": [
    "simple_compare_json_files(\"foo1.json\", \"foo2.json\")"
   ]
  },
  {
   "cell_type": "code",
   "execution_count": 25,
   "metadata": {},
   "outputs": [],
   "source": [
    "def line_compare_json_files(file1_path, file2_path):\n",
    "    # Load the contents of the files\n",
    "    with open(file1_path) as file1, open(file2_path) as file2:\n",
    "        file1_data = json.load(file1)\n",
    "        file2_data = json.load(file2)\n",
    "\n",
    "    # Find the lines that are different\n",
    "    different_lines = []\n",
    "    for i, (file1_line, file2_line) in enumerate(zip(file1_data, file2_data)):\n",
    "        if file1_line != file2_line:\n",
    "            different_lines.append(i)\n",
    "\n",
    "    # Return the lines that are not matching\n",
    "    if len(different_lines) == 0:\n",
    "        return None  # The files are identical\n",
    "    else:\n",
    "        lines = []\n",
    "        for i in different_lines:\n",
    "            lines.append(f\"Line {i+1}: {file1_data[i]} != {file2_data[i]}\")\n",
    "        return '\\n'.join(lines)"
   ]
  },
  {
   "cell_type": "code",
   "execution_count": 26,
   "metadata": {},
   "outputs": [],
   "source": [
    "line_compare_json_files(\"foo1.json\", \"foo2.json\")"
   ]
  },
  {
   "cell_type": "code",
   "execution_count": 4,
   "metadata": {},
   "outputs": [
    {
     "data": {
      "application/vnd.jupyter.widget-view+json": {
       "model_id": "542368723a234b5cbb4752e928e2799d",
       "version_major": 2,
       "version_minor": 0
      },
      "text/plain": [
       "Creating json from Arrow format:   0%|          | 0/1 [00:00<?, ?ba/s]"
      ]
     },
     "metadata": {},
     "output_type": "display_data"
    },
    {
     "data": {
      "application/vnd.jupyter.widget-view+json": {
       "model_id": "ab256c3e44434579a76d6bcd57783065",
       "version_major": 2,
       "version_minor": 0
      },
      "text/plain": [
       "Creating json from Arrow format:   0%|          | 0/1 [00:00<?, ?ba/s]"
      ]
     },
     "metadata": {},
     "output_type": "display_data"
    },
    {
     "data": {
      "application/vnd.jupyter.widget-view+json": {
       "model_id": "3d66b38deb99492ab57f79cf107b83d7",
       "version_major": 2,
       "version_minor": 0
      },
      "text/plain": [
       "Creating json from Arrow format:   0%|          | 0/1 [00:00<?, ?ba/s]"
      ]
     },
     "metadata": {},
     "output_type": "display_data"
    },
    {
     "data": {
      "application/vnd.jupyter.widget-view+json": {
       "model_id": "3b1ae12dafbd4ad28733f1b1358fd8f9",
       "version_major": 2,
       "version_minor": 0
      },
      "text/plain": [
       "Creating json from Arrow format:   0%|          | 0/1 [00:00<?, ?ba/s]"
      ]
     },
     "metadata": {},
     "output_type": "display_data"
    },
    {
     "data": {
      "application/vnd.jupyter.widget-view+json": {
       "model_id": "fdb8078bbb514db184b80da546a60d4d",
       "version_major": 2,
       "version_minor": 0
      },
      "text/plain": [
       "Creating json from Arrow format:   0%|          | 0/1 [00:00<?, ?ba/s]"
      ]
     },
     "metadata": {},
     "output_type": "display_data"
    },
    {
     "data": {
      "application/vnd.jupyter.widget-view+json": {
       "model_id": "ee499b41a8a046d3bf992d9f2fdcdd07",
       "version_major": 2,
       "version_minor": 0
      },
      "text/plain": [
       "Creating json from Arrow format:   0%|          | 0/1 [00:00<?, ?ba/s]"
      ]
     },
     "metadata": {},
     "output_type": "display_data"
    }
   ],
   "source": [
    "collection.dump(\"corrected_thoughtsource_100_openai_text-davinci-003_qa-04.json\")"
   ]
  },
  {
   "cell_type": "code",
   "execution_count": 17,
   "metadata": {},
   "outputs": [
    {
     "name": "stdout",
     "output_type": "stream",
     "text": [
      "Evaluating med_qa...\n"
     ]
    },
    {
     "data": {
      "application/vnd.jupyter.widget-view+json": {
       "model_id": "c592c3bd133f4f29a2977c6a068396ab",
       "version_major": 2,
       "version_minor": 0
      },
      "text/plain": [
       "  0%|          | 0/1273 [00:00<?, ?ex/s]"
      ]
     },
     "metadata": {},
     "output_type": "display_data"
    },
    {
     "data": {
      "text/plain": [
       "{'med_qa': {'test': {'accuracy': {'code-davinci-002': {'None_kojima-01_kojima-03': 0.506838},\n",
       "    'text-davinci-002': {'None_kojima-01_kojima-A-D': 0.471328,\n",
       "     'None_lievin-01_kojima-A-D': 0.450903,\n",
       "     'None_lievin-02_kojima-A-D': 0.459544,\n",
       "     'None_lievin-03_kojima-A-D': 0.456402,\n",
       "     'None_lievin-10_kojima-A-D': 0.468185}}}}}"
      ]
     },
     "execution_count": 17,
     "metadata": {},
     "output_type": "execute_result"
    }
   ],
   "source": [
    "coll1 = Collection.from_json(\"foo1.json\")\n",
    "eval1 = coll1.evaluate()\n",
    "eval1"
   ]
  },
  {
   "cell_type": "code",
   "execution_count": 30,
   "metadata": {},
   "outputs": [
    {
     "name": "stdout",
     "output_type": "stream",
     "text": [
      "Evaluating med_qa...\n"
     ]
    },
    {
     "data": {
      "application/vnd.jupyter.widget-view+json": {
       "model_id": "0d649f1e83f34b3e801a02b05e390c5d",
       "version_major": 2,
       "version_minor": 0
      },
      "text/plain": [
       "  0%|          | 0/1273 [00:00<?, ?ex/s]"
      ]
     },
     "metadata": {},
     "output_type": "display_data"
    }
   ],
   "source": [
    "# without stripped answers\n",
    "coll1 = Collection.from_json(\"foo1.json\")\n",
    "eval1 = coll1.evaluate(overwrite=True, warn=False)\n",
    "eval1"
   ]
  },
  {
   "cell_type": "code",
   "execution_count": 31,
   "metadata": {},
   "outputs": [
    {
     "data": {
      "text/plain": [
       "{'med_qa': {'test': {'accuracy': {'code-davinci-002': {'None_kojima-01_kojima-03': 0.506838},\n",
       "    'text-davinci-002': {'None_kojima-01_kojima-A-D': 0.471328,\n",
       "     'None_lievin-01_kojima-A-D': 0.450903,\n",
       "     'None_lievin-02_kojima-A-D': 0.459544,\n",
       "     'None_lievin-03_kojima-A-D': 0.456402,\n",
       "     'None_lievin-10_kojima-A-D': 0.468185}}}}}"
      ]
     },
     "execution_count": 31,
     "metadata": {},
     "output_type": "execute_result"
    }
   ],
   "source": [
    "eval1"
   ]
  },
  {
   "cell_type": "code",
   "execution_count": 27,
   "metadata": {},
   "outputs": [
    {
     "name": "stdout",
     "output_type": "stream",
     "text": [
      "Evaluating med_qa...\n"
     ]
    },
    {
     "data": {
      "application/vnd.jupyter.widget-view+json": {
       "model_id": "60ae7f04064048cc8f3a855e2f7231c5",
       "version_major": 2,
       "version_minor": 0
      },
      "text/plain": [
       "  0%|          | 0/1273 [00:00<?, ?ex/s]"
      ]
     },
     "metadata": {},
     "output_type": "display_data"
    }
   ],
   "source": [
    "coll1 = Collection.from_json(\"foo1.json\")\n",
    "eval1 = coll1.evaluate(overwrite=True, warn=False)\n",
    "eval1"
   ]
  },
  {
   "cell_type": "code",
   "execution_count": 29,
   "metadata": {},
   "outputs": [
    {
     "data": {
      "text/plain": [
       "{'med_qa': {'test': {'accuracy': {'code-davinci-002': {'None_kojima-01_kojima-03': 0.506249},\n",
       "    'text-davinci-002': {'None_kojima-01_kojima-A-D': 0.470542,\n",
       "     'None_lievin-01_kojima-A-D': 0.450118,\n",
       "     'None_lievin-02_kojima-A-D': 0.458759,\n",
       "     'None_lievin-03_kojima-A-D': 0.456402,\n",
       "     'None_lievin-10_kojima-A-D': 0.4674}}}}}"
      ]
     },
     "execution_count": 29,
     "metadata": {},
     "output_type": "execute_result"
    }
   ],
   "source": [
    "# with stripped answers\n",
    "eval1"
   ]
  },
  {
   "cell_type": "code",
   "execution_count": 18,
   "metadata": {},
   "outputs": [
    {
     "name": "stdout",
     "output_type": "stream",
     "text": [
      "Evaluating med_qa...\n"
     ]
    },
    {
     "data": {
      "application/vnd.jupyter.widget-view+json": {
       "model_id": "26544424592044e08cd43cfb536f164f",
       "version_major": 2,
       "version_minor": 0
      },
      "text/plain": [
       "  0%|          | 0/1273 [00:00<?, ?ex/s]"
      ]
     },
     "metadata": {},
     "output_type": "display_data"
    },
    {
     "data": {
      "text/plain": [
       "{'med_qa': {'test': {'accuracy': {'code-davinci-002': {'None_kojima-01_kojima-03': 0.506249},\n",
       "    'text-davinci-002': {'None_kojima-01_kojima-A-D': 0.470542,\n",
       "     'None_lievin-01_kojima-A-D': 0.450118,\n",
       "     'None_lievin-02_kojima-A-D': 0.458759,\n",
       "     'None_lievin-03_kojima-A-D': 0.456402,\n",
       "     'None_lievin-10_kojima-A-D': 0.4674}}}}}"
      ]
     },
     "execution_count": 18,
     "metadata": {},
     "output_type": "execute_result"
    }
   ],
   "source": [
    "coll2 = Collection.from_json(\"foo2.json\")\n",
    "eval2 = coll2.evaluate()\n",
    "eval2"
   ]
  },
  {
   "cell_type": "code",
   "execution_count": 28,
   "metadata": {},
   "outputs": [
    {
     "name": "stdout",
     "output_type": "stream",
     "text": [
      "Evaluating med_qa...\n"
     ]
    },
    {
     "data": {
      "application/vnd.jupyter.widget-view+json": {
       "model_id": "b0337c9aa6a84cf2851864ba5767fab7",
       "version_major": 2,
       "version_minor": 0
      },
      "text/plain": [
       "  0%|          | 0/1273 [00:00<?, ?ex/s]"
      ]
     },
     "metadata": {},
     "output_type": "display_data"
    },
    {
     "data": {
      "text/plain": [
       "{'med_qa': {'test': {'accuracy': {'code-davinci-002': {'None_kojima-01_kojima-03': 0.506249},\n",
       "    'text-davinci-002': {'None_kojima-01_kojima-A-D': 0.470542,\n",
       "     'None_lievin-01_kojima-A-D': 0.450118,\n",
       "     'None_lievin-02_kojima-A-D': 0.458759,\n",
       "     'None_lievin-03_kojima-A-D': 0.456402,\n",
       "     'None_lievin-10_kojima-A-D': 0.4674}}}}}"
      ]
     },
     "execution_count": 28,
     "metadata": {},
     "output_type": "execute_result"
    }
   ],
   "source": [
    "coll2 = Collection.from_json(\"foo2.json\")\n",
    "eval2 = coll2.evaluate(overwrite=True, warn=False)\n",
    "eval2"
   ]
  },
  {
   "cell_type": "code",
   "execution_count": null,
   "metadata": {},
   "outputs": [],
   "source": []
  }
 ],
 "metadata": {
  "kernelspec": {
   "display_name": "venv",
   "language": "python",
   "name": "python3"
  },
  "language_info": {
   "codemirror_mode": {
    "name": "ipython",
    "version": 3
   },
   "file_extension": ".py",
   "mimetype": "text/x-python",
   "name": "python",
   "nbconvert_exporter": "python",
   "pygments_lexer": "ipython3",
   "version": "3.10.6"
  },
  "orig_nbformat": 4,
  "vscode": {
   "interpreter": {
    "hash": "ccbfa654f25866afe66a1c016d0b518a994fbe20a93c2d8b432dbe114020e2d2"
   }
  }
 },
 "nbformat": 4,
 "nbformat_minor": 2
}
