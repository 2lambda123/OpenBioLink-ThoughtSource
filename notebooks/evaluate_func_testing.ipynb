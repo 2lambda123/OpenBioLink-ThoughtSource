{
 "cells": [
  {
   "cell_type": "code",
   "execution_count": 2,
   "metadata": {},
   "outputs": [],
   "source": [
    "from cot import Collection\n",
    "from cot.stats import evaluation_as_table\n",
    "from cot.evaluate import compare_evaluation\n",
    "from pprint import pprint"
   ]
  },
  {
   "cell_type": "code",
   "execution_count": 40,
   "metadata": {},
   "outputs": [
    {
     "name": "stdout",
     "output_type": "stream",
     "text": [
      "/home/kon/work/ThoughtSource/notebooks/thoughtsource_data\n"
     ]
    }
   ],
   "source": [
    "%cd ./notebooks/thoughtsource_data"
   ]
  },
  {
   "cell_type": "code",
   "execution_count": 41,
   "metadata": {},
   "outputs": [
    {
     "data": {
      "text/plain": [
       "'/home/kon/work/ThoughtSource/notebooks/thoughtsource_data'"
      ]
     },
     "execution_count": 41,
     "metadata": {},
     "output_type": "execute_result"
    }
   ],
   "source": [
    "%pwd"
   ]
  },
  {
   "cell_type": "code",
   "execution_count": 59,
   "metadata": {},
   "outputs": [
    {
     "name": "stdout",
     "output_type": "stream",
     "text": [
      "/home/kon/work/ThoughtSource/notebooks/thoughtsource_data/single_runs\n"
     ]
    }
   ],
   "source": [
    "%cd ./single_runs"
   ]
  },
  {
   "cell_type": "code",
   "execution_count": 60,
   "metadata": {},
   "outputs": [
    {
     "data": {
      "text/plain": [
       "['commonsense_qa_validation_100_cohere_command-xlarge-nightly_None_kojima-01.json',\n",
       " 'commonsense_qa_validation_100_huggingface_flan_t5-xxl.json',\n",
       " 'commonsense_qa_validation_100_openai_text-davinci-003_None.json',\n",
       " 'commonsense_qa_validation_100_openai_text-davinci-003_kojima-01.json',\n",
       " 'med_qa_test_100_cohere_command-xlarge-nightly_None.json',\n",
       " 'med_qa_test_100_cohere_command-xlarge-nightly_kojima-01.json',\n",
       " 'med_qa_test_100_huggingface_flan_t5-xxl.json',\n",
       " 'med_qa_test_100_openai_text-davinci-003_None.json',\n",
       " 'med_qa_test_100_openai_text-davinci-003_kojima-01.json',\n",
       " 'medmc_qa_validation_100_cohere_command-xlarge-nightly_None.json',\n",
       " 'medmc_qa_validation_100_cohere_command-xlarge-nightly_kojima-01.json',\n",
       " 'medmc_qa_validation_100_huggingface_flan_t5-xxl.json',\n",
       " 'medmc_qa_validation_100_openai_text-davinci-003_None.json',\n",
       " 'medmc_qa_validation_100_openai_text-davinci-003_kojima-01.json',\n",
       " 'open_book_qa_test_100_cohere_command-xlarge-nightly_None.json',\n",
       " 'open_book_qa_test_100_cohere_command-xlarge-nightly_kojima-01.json',\n",
       " 'open_book_qa_test_100_huggingface_flan_t5-xxl.json',\n",
       " 'open_book_qa_test_100_openai_text-davinci-003_None.json',\n",
       " 'open_book_qa_test_100_openai_text-davinci-003_kojima-01.json',\n",
       " 'strategy_qa_train_100_cohere_command-xlarge-nightly_None_kojima-01.json',\n",
       " 'strategy_qa_train_100_huggingface_flan_t5-xxl.json',\n",
       " 'strategy_qa_train_100_openai_text-davinci-003_None.json',\n",
       " 'strategy_qa_train_100_openai_text-davinci-003_kojima-01.json',\n",
       " 'worldtree_test_100_cohere_command-xlarge-nightly_None.json',\n",
       " 'worldtree_test_100_cohere_command-xlarge-nightly_kojima-01.json',\n",
       " 'worldtree_test_100_huggingface_flan_t5-xxl.json',\n",
       " 'worldtree_test_100_openai_text-davinci-003_None.json',\n",
       " 'worldtree_test_100_openai_text-davinci-003_kojima-01.json']"
      ]
     },
     "execution_count": 60,
     "metadata": {},
     "output_type": "execute_result"
    }
   ],
   "source": [
    "import os\n",
    "filenames = os.listdir(\".\")\n",
    "filenames = [filename for filename in filenames if filename.endswith(\".json\")]\n",
    "filenames = sorted(filenames)\n",
    "filenames\n"
   ]
  },
  {
   "cell_type": "code",
   "execution_count": 61,
   "metadata": {},
   "outputs": [
    {
     "name": "stdout",
     "output_type": "stream",
     "text": [
      "Evaluating commonsense_qa...\n"
     ]
    },
    {
     "data": {
      "application/vnd.jupyter.widget-view+json": {
       "model_id": "bc62bebbb8144a6a8ca78fa322af925a",
       "version_major": 2,
       "version_minor": 0
      },
      "text/plain": [
       "  0%|          | 0/100 [00:00<?, ?ex/s]"
      ]
     },
     "metadata": {},
     "output_type": "display_data"
    },
    {
     "data": {
      "application/vnd.jupyter.widget-view+json": {
       "model_id": "70f89d27f3a34096981cecc3610561a7",
       "version_major": 2,
       "version_minor": 0
      },
      "text/plain": [
       "Creating json from Arrow format:   0%|          | 0/1 [00:00<?, ?ba/s]"
      ]
     },
     "metadata": {},
     "output_type": "display_data"
    },
    {
     "name": "stdout",
     "output_type": "stream",
     "text": [
      "Evaluating commonsense_qa...\n"
     ]
    },
    {
     "data": {
      "application/vnd.jupyter.widget-view+json": {
       "model_id": "68bfd79200174143bb0f807838b53e89",
       "version_major": 2,
       "version_minor": 0
      },
      "text/plain": [
       "  0%|          | 0/100 [00:00<?, ?ex/s]"
      ]
     },
     "metadata": {},
     "output_type": "display_data"
    },
    {
     "data": {
      "application/vnd.jupyter.widget-view+json": {
       "model_id": "0e7b49eb11c04ed18f63f043e3f7cb86",
       "version_major": 2,
       "version_minor": 0
      },
      "text/plain": [
       "Creating json from Arrow format:   0%|          | 0/1 [00:00<?, ?ba/s]"
      ]
     },
     "metadata": {},
     "output_type": "display_data"
    },
    {
     "name": "stdout",
     "output_type": "stream",
     "text": [
      "Evaluating commonsense_qa...\n"
     ]
    },
    {
     "data": {
      "application/vnd.jupyter.widget-view+json": {
       "model_id": "17fea2e589394eb0b64450080bb3dc91",
       "version_major": 2,
       "version_minor": 0
      },
      "text/plain": [
       "  0%|          | 0/100 [00:00<?, ?ex/s]"
      ]
     },
     "metadata": {},
     "output_type": "display_data"
    },
    {
     "data": {
      "application/vnd.jupyter.widget-view+json": {
       "model_id": "d33f538816744ef1a50504d64352a240",
       "version_major": 2,
       "version_minor": 0
      },
      "text/plain": [
       "Creating json from Arrow format:   0%|          | 0/1 [00:00<?, ?ba/s]"
      ]
     },
     "metadata": {},
     "output_type": "display_data"
    },
    {
     "name": "stdout",
     "output_type": "stream",
     "text": [
      "Evaluating commonsense_qa...\n"
     ]
    },
    {
     "data": {
      "application/vnd.jupyter.widget-view+json": {
       "model_id": "ce96eb23f72448d5894eceaa0bc11ad7",
       "version_major": 2,
       "version_minor": 0
      },
      "text/plain": [
       "  0%|          | 0/100 [00:00<?, ?ex/s]"
      ]
     },
     "metadata": {},
     "output_type": "display_data"
    },
    {
     "data": {
      "application/vnd.jupyter.widget-view+json": {
       "model_id": "b1d2e5b4eaa04095ac46b1991b499531",
       "version_major": 2,
       "version_minor": 0
      },
      "text/plain": [
       "Creating json from Arrow format:   0%|          | 0/1 [00:00<?, ?ba/s]"
      ]
     },
     "metadata": {},
     "output_type": "display_data"
    },
    {
     "name": "stdout",
     "output_type": "stream",
     "text": [
      "Evaluating med_qa...\n"
     ]
    },
    {
     "data": {
      "application/vnd.jupyter.widget-view+json": {
       "model_id": "6c685a03af0547268efb38fca49b4b2e",
       "version_major": 2,
       "version_minor": 0
      },
      "text/plain": [
       "  0%|          | 0/100 [00:00<?, ?ex/s]"
      ]
     },
     "metadata": {},
     "output_type": "display_data"
    },
    {
     "data": {
      "application/vnd.jupyter.widget-view+json": {
       "model_id": "484f2355974b4f7c89cbc4f3f6c04335",
       "version_major": 2,
       "version_minor": 0
      },
      "text/plain": [
       "Creating json from Arrow format:   0%|          | 0/1 [00:00<?, ?ba/s]"
      ]
     },
     "metadata": {},
     "output_type": "display_data"
    },
    {
     "name": "stdout",
     "output_type": "stream",
     "text": [
      "Evaluating med_qa...\n"
     ]
    },
    {
     "data": {
      "application/vnd.jupyter.widget-view+json": {
       "model_id": "f14c671349d4408ea79e5e87638d4ed1",
       "version_major": 2,
       "version_minor": 0
      },
      "text/plain": [
       "  0%|          | 0/100 [00:00<?, ?ex/s]"
      ]
     },
     "metadata": {},
     "output_type": "display_data"
    },
    {
     "data": {
      "application/vnd.jupyter.widget-view+json": {
       "model_id": "82bc7169fd734ec29104dfb8af01be13",
       "version_major": 2,
       "version_minor": 0
      },
      "text/plain": [
       "Creating json from Arrow format:   0%|          | 0/1 [00:00<?, ?ba/s]"
      ]
     },
     "metadata": {},
     "output_type": "display_data"
    },
    {
     "name": "stdout",
     "output_type": "stream",
     "text": [
      "Evaluating med_qa...\n"
     ]
    },
    {
     "data": {
      "application/vnd.jupyter.widget-view+json": {
       "model_id": "ea0c675867b34e4593261e63cd2a4784",
       "version_major": 2,
       "version_minor": 0
      },
      "text/plain": [
       "  0%|          | 0/100 [00:00<?, ?ex/s]"
      ]
     },
     "metadata": {},
     "output_type": "display_data"
    },
    {
     "data": {
      "application/vnd.jupyter.widget-view+json": {
       "model_id": "d6e684683fab4c8a838d74a092684345",
       "version_major": 2,
       "version_minor": 0
      },
      "text/plain": [
       "Creating json from Arrow format:   0%|          | 0/1 [00:00<?, ?ba/s]"
      ]
     },
     "metadata": {},
     "output_type": "display_data"
    },
    {
     "name": "stdout",
     "output_type": "stream",
     "text": [
      "Evaluating med_qa...\n"
     ]
    },
    {
     "data": {
      "application/vnd.jupyter.widget-view+json": {
       "model_id": "60cc5e3c6cf0414498e0e0e9a0c24df5",
       "version_major": 2,
       "version_minor": 0
      },
      "text/plain": [
       "  0%|          | 0/100 [00:00<?, ?ex/s]"
      ]
     },
     "metadata": {},
     "output_type": "display_data"
    },
    {
     "data": {
      "application/vnd.jupyter.widget-view+json": {
       "model_id": "2dbe821e39184067984d9d9756e3a67a",
       "version_major": 2,
       "version_minor": 0
      },
      "text/plain": [
       "Creating json from Arrow format:   0%|          | 0/1 [00:00<?, ?ba/s]"
      ]
     },
     "metadata": {},
     "output_type": "display_data"
    },
    {
     "name": "stdout",
     "output_type": "stream",
     "text": [
      "Evaluating med_qa...\n"
     ]
    },
    {
     "data": {
      "application/vnd.jupyter.widget-view+json": {
       "model_id": "b5a57dade7f84bb8b3309958196c6327",
       "version_major": 2,
       "version_minor": 0
      },
      "text/plain": [
       "  0%|          | 0/100 [00:00<?, ?ex/s]"
      ]
     },
     "metadata": {},
     "output_type": "display_data"
    },
    {
     "data": {
      "application/vnd.jupyter.widget-view+json": {
       "model_id": "6de86a5b6ed94504837b376772e6cf47",
       "version_major": 2,
       "version_minor": 0
      },
      "text/plain": [
       "Creating json from Arrow format:   0%|          | 0/1 [00:00<?, ?ba/s]"
      ]
     },
     "metadata": {},
     "output_type": "display_data"
    },
    {
     "name": "stdout",
     "output_type": "stream",
     "text": [
      "Evaluating medmc_qa...\n"
     ]
    },
    {
     "data": {
      "application/vnd.jupyter.widget-view+json": {
       "model_id": "2061ab98c6be496f9bde95e7ab76cf18",
       "version_major": 2,
       "version_minor": 0
      },
      "text/plain": [
       "  0%|          | 0/100 [00:00<?, ?ex/s]"
      ]
     },
     "metadata": {},
     "output_type": "display_data"
    },
    {
     "data": {
      "application/vnd.jupyter.widget-view+json": {
       "model_id": "c7a984eb3d234b7881e954a9bfa164c0",
       "version_major": 2,
       "version_minor": 0
      },
      "text/plain": [
       "Creating json from Arrow format:   0%|          | 0/1 [00:00<?, ?ba/s]"
      ]
     },
     "metadata": {},
     "output_type": "display_data"
    },
    {
     "name": "stdout",
     "output_type": "stream",
     "text": [
      "Evaluating medmc_qa...\n"
     ]
    },
    {
     "data": {
      "application/vnd.jupyter.widget-view+json": {
       "model_id": "afe8363b25ae40e29f20fa87aff360c9",
       "version_major": 2,
       "version_minor": 0
      },
      "text/plain": [
       "  0%|          | 0/100 [00:00<?, ?ex/s]"
      ]
     },
     "metadata": {},
     "output_type": "display_data"
    },
    {
     "data": {
      "application/vnd.jupyter.widget-view+json": {
       "model_id": "7cc1db4e0b4642ef8e41050eae166ff4",
       "version_major": 2,
       "version_minor": 0
      },
      "text/plain": [
       "Creating json from Arrow format:   0%|          | 0/1 [00:00<?, ?ba/s]"
      ]
     },
     "metadata": {},
     "output_type": "display_data"
    },
    {
     "name": "stdout",
     "output_type": "stream",
     "text": [
      "Evaluating medmc_qa...\n"
     ]
    },
    {
     "data": {
      "application/vnd.jupyter.widget-view+json": {
       "model_id": "3c6bc6d115d9446da1c14b1f2ba25c8e",
       "version_major": 2,
       "version_minor": 0
      },
      "text/plain": [
       "  0%|          | 0/100 [00:00<?, ?ex/s]"
      ]
     },
     "metadata": {},
     "output_type": "display_data"
    },
    {
     "data": {
      "application/vnd.jupyter.widget-view+json": {
       "model_id": "171e3b16035c45909e8b64dbdb1c2c69",
       "version_major": 2,
       "version_minor": 0
      },
      "text/plain": [
       "Creating json from Arrow format:   0%|          | 0/1 [00:00<?, ?ba/s]"
      ]
     },
     "metadata": {},
     "output_type": "display_data"
    },
    {
     "name": "stdout",
     "output_type": "stream",
     "text": [
      "Evaluating medmc_qa...\n"
     ]
    },
    {
     "data": {
      "application/vnd.jupyter.widget-view+json": {
       "model_id": "56b20a06cceb416da7e5803b6b1caa26",
       "version_major": 2,
       "version_minor": 0
      },
      "text/plain": [
       "  0%|          | 0/100 [00:00<?, ?ex/s]"
      ]
     },
     "metadata": {},
     "output_type": "display_data"
    },
    {
     "data": {
      "application/vnd.jupyter.widget-view+json": {
       "model_id": "4bff4df3f95a404fb0fc85a566214735",
       "version_major": 2,
       "version_minor": 0
      },
      "text/plain": [
       "Creating json from Arrow format:   0%|          | 0/1 [00:00<?, ?ba/s]"
      ]
     },
     "metadata": {},
     "output_type": "display_data"
    },
    {
     "name": "stdout",
     "output_type": "stream",
     "text": [
      "Evaluating medmc_qa...\n"
     ]
    },
    {
     "data": {
      "application/vnd.jupyter.widget-view+json": {
       "model_id": "7a16c02da3c549ea811fcc7584e06668",
       "version_major": 2,
       "version_minor": 0
      },
      "text/plain": [
       "  0%|          | 0/100 [00:00<?, ?ex/s]"
      ]
     },
     "metadata": {},
     "output_type": "display_data"
    },
    {
     "data": {
      "application/vnd.jupyter.widget-view+json": {
       "model_id": "a3089f1c43354b31ae1526cb6c043246",
       "version_major": 2,
       "version_minor": 0
      },
      "text/plain": [
       "Creating json from Arrow format:   0%|          | 0/1 [00:00<?, ?ba/s]"
      ]
     },
     "metadata": {},
     "output_type": "display_data"
    },
    {
     "name": "stdout",
     "output_type": "stream",
     "text": [
      "Evaluating open_book_qa...\n"
     ]
    },
    {
     "data": {
      "application/vnd.jupyter.widget-view+json": {
       "model_id": "5271e5f2035d4e289adbe85de2552611",
       "version_major": 2,
       "version_minor": 0
      },
      "text/plain": [
       "  0%|          | 0/100 [00:00<?, ?ex/s]"
      ]
     },
     "metadata": {},
     "output_type": "display_data"
    },
    {
     "data": {
      "application/vnd.jupyter.widget-view+json": {
       "model_id": "b0a6988971154cd8890961bfbd2a0be0",
       "version_major": 2,
       "version_minor": 0
      },
      "text/plain": [
       "Creating json from Arrow format:   0%|          | 0/1 [00:00<?, ?ba/s]"
      ]
     },
     "metadata": {},
     "output_type": "display_data"
    },
    {
     "name": "stdout",
     "output_type": "stream",
     "text": [
      "Evaluating open_book_qa...\n"
     ]
    },
    {
     "data": {
      "application/vnd.jupyter.widget-view+json": {
       "model_id": "db09de8d614947e8bd8a56cc20846086",
       "version_major": 2,
       "version_minor": 0
      },
      "text/plain": [
       "  0%|          | 0/100 [00:00<?, ?ex/s]"
      ]
     },
     "metadata": {},
     "output_type": "display_data"
    },
    {
     "data": {
      "application/vnd.jupyter.widget-view+json": {
       "model_id": "1c7533bfa57d42799a5bba05ca3de8c9",
       "version_major": 2,
       "version_minor": 0
      },
      "text/plain": [
       "Creating json from Arrow format:   0%|          | 0/1 [00:00<?, ?ba/s]"
      ]
     },
     "metadata": {},
     "output_type": "display_data"
    },
    {
     "name": "stdout",
     "output_type": "stream",
     "text": [
      "Evaluating open_book_qa...\n"
     ]
    },
    {
     "data": {
      "application/vnd.jupyter.widget-view+json": {
       "model_id": "9a6d8063f5604326ad6a69a0a4eaebb9",
       "version_major": 2,
       "version_minor": 0
      },
      "text/plain": [
       "  0%|          | 0/100 [00:00<?, ?ex/s]"
      ]
     },
     "metadata": {},
     "output_type": "display_data"
    },
    {
     "data": {
      "application/vnd.jupyter.widget-view+json": {
       "model_id": "6063067b15694f3ba4db5fc060e8b79a",
       "version_major": 2,
       "version_minor": 0
      },
      "text/plain": [
       "Creating json from Arrow format:   0%|          | 0/1 [00:00<?, ?ba/s]"
      ]
     },
     "metadata": {},
     "output_type": "display_data"
    },
    {
     "name": "stdout",
     "output_type": "stream",
     "text": [
      "Evaluating open_book_qa...\n"
     ]
    },
    {
     "data": {
      "application/vnd.jupyter.widget-view+json": {
       "model_id": "90e4ddafbdd84ff9bd54d32288d8727e",
       "version_major": 2,
       "version_minor": 0
      },
      "text/plain": [
       "  0%|          | 0/100 [00:00<?, ?ex/s]"
      ]
     },
     "metadata": {},
     "output_type": "display_data"
    },
    {
     "data": {
      "application/vnd.jupyter.widget-view+json": {
       "model_id": "dc96b8e60aaa40c8a0d741ee613e6760",
       "version_major": 2,
       "version_minor": 0
      },
      "text/plain": [
       "Creating json from Arrow format:   0%|          | 0/1 [00:00<?, ?ba/s]"
      ]
     },
     "metadata": {},
     "output_type": "display_data"
    },
    {
     "name": "stdout",
     "output_type": "stream",
     "text": [
      "Evaluating open_book_qa...\n"
     ]
    },
    {
     "data": {
      "application/vnd.jupyter.widget-view+json": {
       "model_id": "c246fdbc1a6745a99397594e1e7307fe",
       "version_major": 2,
       "version_minor": 0
      },
      "text/plain": [
       "  0%|          | 0/100 [00:00<?, ?ex/s]"
      ]
     },
     "metadata": {},
     "output_type": "display_data"
    },
    {
     "data": {
      "application/vnd.jupyter.widget-view+json": {
       "model_id": "459d97d33d664851ad816381c902a43f",
       "version_major": 2,
       "version_minor": 0
      },
      "text/plain": [
       "Creating json from Arrow format:   0%|          | 0/1 [00:00<?, ?ba/s]"
      ]
     },
     "metadata": {},
     "output_type": "display_data"
    },
    {
     "name": "stdout",
     "output_type": "stream",
     "text": [
      "Evaluating strategy_qa...\n"
     ]
    },
    {
     "data": {
      "application/vnd.jupyter.widget-view+json": {
       "model_id": "a868dcc39cd543f3b155d7c37e26035f",
       "version_major": 2,
       "version_minor": 0
      },
      "text/plain": [
       "  0%|          | 0/100 [00:00<?, ?ex/s]"
      ]
     },
     "metadata": {},
     "output_type": "display_data"
    },
    {
     "data": {
      "application/vnd.jupyter.widget-view+json": {
       "model_id": "b934920270894583a64bdfb0f839361a",
       "version_major": 2,
       "version_minor": 0
      },
      "text/plain": [
       "Creating json from Arrow format:   0%|          | 0/1 [00:00<?, ?ba/s]"
      ]
     },
     "metadata": {},
     "output_type": "display_data"
    },
    {
     "name": "stdout",
     "output_type": "stream",
     "text": [
      "Evaluating strategy_qa...\n"
     ]
    },
    {
     "data": {
      "application/vnd.jupyter.widget-view+json": {
       "model_id": "d85cca03d4d243c8a627c973637cfbc7",
       "version_major": 2,
       "version_minor": 0
      },
      "text/plain": [
       "  0%|          | 0/100 [00:00<?, ?ex/s]"
      ]
     },
     "metadata": {},
     "output_type": "display_data"
    },
    {
     "data": {
      "application/vnd.jupyter.widget-view+json": {
       "model_id": "f4cbacafb9474eb0a7196a5612e04652",
       "version_major": 2,
       "version_minor": 0
      },
      "text/plain": [
       "Creating json from Arrow format:   0%|          | 0/1 [00:00<?, ?ba/s]"
      ]
     },
     "metadata": {},
     "output_type": "display_data"
    },
    {
     "name": "stdout",
     "output_type": "stream",
     "text": [
      "Evaluating strategy_qa...\n"
     ]
    },
    {
     "data": {
      "application/vnd.jupyter.widget-view+json": {
       "model_id": "936781ae77164738a71afaeffc48d11d",
       "version_major": 2,
       "version_minor": 0
      },
      "text/plain": [
       "  0%|          | 0/100 [00:00<?, ?ex/s]"
      ]
     },
     "metadata": {},
     "output_type": "display_data"
    },
    {
     "data": {
      "application/vnd.jupyter.widget-view+json": {
       "model_id": "fb153ae4cbd8411daf61a385aa7e640d",
       "version_major": 2,
       "version_minor": 0
      },
      "text/plain": [
       "Creating json from Arrow format:   0%|          | 0/1 [00:00<?, ?ba/s]"
      ]
     },
     "metadata": {},
     "output_type": "display_data"
    },
    {
     "name": "stdout",
     "output_type": "stream",
     "text": [
      "Evaluating strategy_qa...\n"
     ]
    },
    {
     "data": {
      "application/vnd.jupyter.widget-view+json": {
       "model_id": "f58026bfa37f410fbc84627f6f981f2e",
       "version_major": 2,
       "version_minor": 0
      },
      "text/plain": [
       "  0%|          | 0/100 [00:00<?, ?ex/s]"
      ]
     },
     "metadata": {},
     "output_type": "display_data"
    },
    {
     "data": {
      "application/vnd.jupyter.widget-view+json": {
       "model_id": "5db4263419174b48a4dd84af95aeda83",
       "version_major": 2,
       "version_minor": 0
      },
      "text/plain": [
       "Creating json from Arrow format:   0%|          | 0/1 [00:00<?, ?ba/s]"
      ]
     },
     "metadata": {},
     "output_type": "display_data"
    },
    {
     "name": "stdout",
     "output_type": "stream",
     "text": [
      "Evaluating worldtree...\n"
     ]
    },
    {
     "data": {
      "application/vnd.jupyter.widget-view+json": {
       "model_id": "0c39b87f75014cb2acaa97352db87222",
       "version_major": 2,
       "version_minor": 0
      },
      "text/plain": [
       "  0%|          | 0/100 [00:00<?, ?ex/s]"
      ]
     },
     "metadata": {},
     "output_type": "display_data"
    },
    {
     "data": {
      "application/vnd.jupyter.widget-view+json": {
       "model_id": "619d1b221d254157bc6016f98071302e",
       "version_major": 2,
       "version_minor": 0
      },
      "text/plain": [
       "Creating json from Arrow format:   0%|          | 0/1 [00:00<?, ?ba/s]"
      ]
     },
     "metadata": {},
     "output_type": "display_data"
    },
    {
     "name": "stdout",
     "output_type": "stream",
     "text": [
      "Evaluating worldtree...\n"
     ]
    },
    {
     "data": {
      "application/vnd.jupyter.widget-view+json": {
       "model_id": "31ba66accf3c42cdb6ff89c5003a783b",
       "version_major": 2,
       "version_minor": 0
      },
      "text/plain": [
       "  0%|          | 0/100 [00:00<?, ?ex/s]"
      ]
     },
     "metadata": {},
     "output_type": "display_data"
    },
    {
     "data": {
      "application/vnd.jupyter.widget-view+json": {
       "model_id": "175da88a26594d2d87032dc0bb926347",
       "version_major": 2,
       "version_minor": 0
      },
      "text/plain": [
       "Creating json from Arrow format:   0%|          | 0/1 [00:00<?, ?ba/s]"
      ]
     },
     "metadata": {},
     "output_type": "display_data"
    },
    {
     "name": "stdout",
     "output_type": "stream",
     "text": [
      "Evaluating worldtree...\n"
     ]
    },
    {
     "data": {
      "application/vnd.jupyter.widget-view+json": {
       "model_id": "474c4ca4f0a04e3984e7e76219783369",
       "version_major": 2,
       "version_minor": 0
      },
      "text/plain": [
       "  0%|          | 0/100 [00:00<?, ?ex/s]"
      ]
     },
     "metadata": {},
     "output_type": "display_data"
    },
    {
     "data": {
      "application/vnd.jupyter.widget-view+json": {
       "model_id": "7575c8922bde4371bd83a400460307cb",
       "version_major": 2,
       "version_minor": 0
      },
      "text/plain": [
       "Creating json from Arrow format:   0%|          | 0/1 [00:00<?, ?ba/s]"
      ]
     },
     "metadata": {},
     "output_type": "display_data"
    },
    {
     "name": "stdout",
     "output_type": "stream",
     "text": [
      "Evaluating worldtree...\n"
     ]
    },
    {
     "data": {
      "application/vnd.jupyter.widget-view+json": {
       "model_id": "9559eb549ec945478c148dd38e3c4f1e",
       "version_major": 2,
       "version_minor": 0
      },
      "text/plain": [
       "  0%|          | 0/100 [00:00<?, ?ex/s]"
      ]
     },
     "metadata": {},
     "output_type": "display_data"
    },
    {
     "data": {
      "application/vnd.jupyter.widget-view+json": {
       "model_id": "30c36547c63a4bc1b1beb97eb8c33ff3",
       "version_major": 2,
       "version_minor": 0
      },
      "text/plain": [
       "Creating json from Arrow format:   0%|          | 0/1 [00:00<?, ?ba/s]"
      ]
     },
     "metadata": {},
     "output_type": "display_data"
    },
    {
     "name": "stdout",
     "output_type": "stream",
     "text": [
      "Evaluating worldtree...\n"
     ]
    },
    {
     "data": {
      "application/vnd.jupyter.widget-view+json": {
       "model_id": "f59896bd35994547b30da992546372ea",
       "version_major": 2,
       "version_minor": 0
      },
      "text/plain": [
       "  0%|          | 0/100 [00:00<?, ?ex/s]"
      ]
     },
     "metadata": {},
     "output_type": "display_data"
    },
    {
     "data": {
      "application/vnd.jupyter.widget-view+json": {
       "model_id": "6ed1ad77a75f40fdb0cdc296f92ecbea",
       "version_major": 2,
       "version_minor": 0
      },
      "text/plain": [
       "Creating json from Arrow format:   0%|          | 0/1 [00:00<?, ?ba/s]"
      ]
     },
     "metadata": {},
     "output_type": "display_data"
    }
   ],
   "source": [
    "for filename in filenames:\n",
    "    collection = Collection.from_json(os.path.join(\".\", filename))\n",
    "    collection.evaluate(overwrite=True)\n",
    "    collection.dump(filename)"
   ]
  },
  {
   "cell_type": "code",
   "execution_count": 17,
   "metadata": {},
   "outputs": [],
   "source": [
    "coll1 = Collection.from_json('./thoughtsource_data/thoughtsource_100_huggingface.json')\n",
    "coll2 = Collection.from_json('./thoughtsource_data/thoughtsource_100_openai_cohere.json')\n",
    "coll3 = Collection.from_json('./thoughtsource_data/thoughtsource_100_kojima_lievin_wei.json')"
   ]
  },
  {
   "cell_type": "code",
   "execution_count": 18,
   "metadata": {},
   "outputs": [
    {
     "data": {
      "application/vnd.jupyter.widget-view+json": {
       "model_id": "a92e1a5835ec465e98a4d5ed155a683f",
       "version_major": 2,
       "version_minor": 0
      },
      "text/plain": [
       "Creating json from Arrow format:   0%|          | 0/1 [00:00<?, ?ba/s]"
      ]
     },
     "metadata": {},
     "output_type": "display_data"
    },
    {
     "data": {
      "application/vnd.jupyter.widget-view+json": {
       "model_id": "402f95df9a5a4e2aaf40d5d1f2871e4d",
       "version_major": 2,
       "version_minor": 0
      },
      "text/plain": [
       "Creating json from Arrow format:   0%|          | 0/1 [00:00<?, ?ba/s]"
      ]
     },
     "metadata": {},
     "output_type": "display_data"
    },
    {
     "data": {
      "application/vnd.jupyter.widget-view+json": {
       "model_id": "f270caa748f6427daeaadb01957a75f8",
       "version_major": 2,
       "version_minor": 0
      },
      "text/plain": [
       "Creating json from Arrow format:   0%|          | 0/1 [00:00<?, ?ba/s]"
      ]
     },
     "metadata": {},
     "output_type": "display_data"
    },
    {
     "data": {
      "application/vnd.jupyter.widget-view+json": {
       "model_id": "1b99c5cc8f974be8801b6095b308dd23",
       "version_major": 2,
       "version_minor": 0
      },
      "text/plain": [
       "Creating json from Arrow format:   0%|          | 0/1 [00:00<?, ?ba/s]"
      ]
     },
     "metadata": {},
     "output_type": "display_data"
    },
    {
     "data": {
      "application/vnd.jupyter.widget-view+json": {
       "model_id": "442731a1052f4ec7836a60a7478515af",
       "version_major": 2,
       "version_minor": 0
      },
      "text/plain": [
       "Creating json from Arrow format:   0%|          | 0/1 [00:00<?, ?ba/s]"
      ]
     },
     "metadata": {},
     "output_type": "display_data"
    },
    {
     "data": {
      "application/vnd.jupyter.widget-view+json": {
       "model_id": "d94f2ec1f15e45dcb6d5a1121a601bdd",
       "version_major": 2,
       "version_minor": 0
      },
      "text/plain": [
       "Creating json from Arrow format:   0%|          | 0/1 [00:00<?, ?ba/s]"
      ]
     },
     "metadata": {},
     "output_type": "display_data"
    },
    {
     "data": {
      "application/vnd.jupyter.widget-view+json": {
       "model_id": "af238179bfad4059b7c44da395f61005",
       "version_major": 2,
       "version_minor": 0
      },
      "text/plain": [
       "Creating json from Arrow format:   0%|          | 0/1 [00:00<?, ?ba/s]"
      ]
     },
     "metadata": {},
     "output_type": "display_data"
    },
    {
     "data": {
      "application/vnd.jupyter.widget-view+json": {
       "model_id": "2c982733fd5742d18a2345cf9b26fcc1",
       "version_major": 2,
       "version_minor": 0
      },
      "text/plain": [
       "Creating json from Arrow format:   0%|          | 0/1 [00:00<?, ?ba/s]"
      ]
     },
     "metadata": {},
     "output_type": "display_data"
    },
    {
     "data": {
      "application/vnd.jupyter.widget-view+json": {
       "model_id": "26ac6f6eca134a399c958e2911cd7524",
       "version_major": 2,
       "version_minor": 0
      },
      "text/plain": [
       "Creating json from Arrow format:   0%|          | 0/1 [00:00<?, ?ba/s]"
      ]
     },
     "metadata": {},
     "output_type": "display_data"
    },
    {
     "data": {
      "application/vnd.jupyter.widget-view+json": {
       "model_id": "71f3b93e1e014baca59dd230b5e5030e",
       "version_major": 2,
       "version_minor": 0
      },
      "text/plain": [
       "Creating json from Arrow format:   0%|          | 0/1 [00:00<?, ?ba/s]"
      ]
     },
     "metadata": {},
     "output_type": "display_data"
    },
    {
     "data": {
      "application/vnd.jupyter.widget-view+json": {
       "model_id": "53b7d2db7aa646eab68bbec8d56e0c38",
       "version_major": 2,
       "version_minor": 0
      },
      "text/plain": [
       "Creating json from Arrow format:   0%|          | 0/1 [00:00<?, ?ba/s]"
      ]
     },
     "metadata": {},
     "output_type": "display_data"
    },
    {
     "data": {
      "application/vnd.jupyter.widget-view+json": {
       "model_id": "5c817ad7a194446fb048a3161f07000d",
       "version_major": 2,
       "version_minor": 0
      },
      "text/plain": [
       "Creating json from Arrow format:   0%|          | 0/1 [00:00<?, ?ba/s]"
      ]
     },
     "metadata": {},
     "output_type": "display_data"
    },
    {
     "data": {
      "application/vnd.jupyter.widget-view+json": {
       "model_id": "149a7662d1794caeb563a5f7d0387821",
       "version_major": 2,
       "version_minor": 0
      },
      "text/plain": [
       "Creating json from Arrow format:   0%|          | 0/1 [00:00<?, ?ba/s]"
      ]
     },
     "metadata": {},
     "output_type": "display_data"
    },
    {
     "data": {
      "application/vnd.jupyter.widget-view+json": {
       "model_id": "00ea0d10ed8f4ab6ae1333a133d99f26",
       "version_major": 2,
       "version_minor": 0
      },
      "text/plain": [
       "Creating json from Arrow format:   0%|          | 0/1 [00:00<?, ?ba/s]"
      ]
     },
     "metadata": {},
     "output_type": "display_data"
    },
    {
     "data": {
      "application/vnd.jupyter.widget-view+json": {
       "model_id": "bfe23ff33d4f436abb4e83fd6f4ac4b0",
       "version_major": 2,
       "version_minor": 0
      },
      "text/plain": [
       "Creating json from Arrow format:   0%|          | 0/1 [00:00<?, ?ba/s]"
      ]
     },
     "metadata": {},
     "output_type": "display_data"
    },
    {
     "data": {
      "application/vnd.jupyter.widget-view+json": {
       "model_id": "9603f350029342d3ae012420fcab8d46",
       "version_major": 2,
       "version_minor": 0
      },
      "text/plain": [
       "Creating json from Arrow format:   0%|          | 0/1 [00:00<?, ?ba/s]"
      ]
     },
     "metadata": {},
     "output_type": "display_data"
    },
    {
     "data": {
      "application/vnd.jupyter.widget-view+json": {
       "model_id": "c3abde28a195414d967effe7f621147d",
       "version_major": 2,
       "version_minor": 0
      },
      "text/plain": [
       "Creating json from Arrow format:   0%|          | 0/1 [00:00<?, ?ba/s]"
      ]
     },
     "metadata": {},
     "output_type": "display_data"
    },
    {
     "data": {
      "application/vnd.jupyter.widget-view+json": {
       "model_id": "c64c959dd06345aeb5901420f0f41d82",
       "version_major": 2,
       "version_minor": 0
      },
      "text/plain": [
       "Creating json from Arrow format:   0%|          | 0/1 [00:00<?, ?ba/s]"
      ]
     },
     "metadata": {},
     "output_type": "display_data"
    },
    {
     "data": {
      "application/vnd.jupyter.widget-view+json": {
       "model_id": "4efc0983276e438386bff85c4367da5b",
       "version_major": 2,
       "version_minor": 0
      },
      "text/plain": [
       "Creating json from Arrow format:   0%|          | 0/1 [00:00<?, ?ba/s]"
      ]
     },
     "metadata": {},
     "output_type": "display_data"
    },
    {
     "data": {
      "application/vnd.jupyter.widget-view+json": {
       "model_id": "caae972e9ab6481890a11b58d59d1710",
       "version_major": 2,
       "version_minor": 0
      },
      "text/plain": [
       "Creating json from Arrow format:   0%|          | 0/1 [00:00<?, ?ba/s]"
      ]
     },
     "metadata": {},
     "output_type": "display_data"
    },
    {
     "data": {
      "application/vnd.jupyter.widget-view+json": {
       "model_id": "790188d672c44dbaad0a29b47a37c86f",
       "version_major": 2,
       "version_minor": 0
      },
      "text/plain": [
       "Creating json from Arrow format:   0%|          | 0/1 [00:00<?, ?ba/s]"
      ]
     },
     "metadata": {},
     "output_type": "display_data"
    },
    {
     "data": {
      "application/vnd.jupyter.widget-view+json": {
       "model_id": "ad5585c35e7f41bf952e32e0902e1a7a",
       "version_major": 2,
       "version_minor": 0
      },
      "text/plain": [
       "Creating json from Arrow format:   0%|          | 0/1 [00:00<?, ?ba/s]"
      ]
     },
     "metadata": {},
     "output_type": "display_data"
    },
    {
     "data": {
      "application/vnd.jupyter.widget-view+json": {
       "model_id": "21df86d7280f4a579c9c1b22970328e6",
       "version_major": 2,
       "version_minor": 0
      },
      "text/plain": [
       "Creating json from Arrow format:   0%|          | 0/1 [00:00<?, ?ba/s]"
      ]
     },
     "metadata": {},
     "output_type": "display_data"
    },
    {
     "data": {
      "application/vnd.jupyter.widget-view+json": {
       "model_id": "80351b6c14eb4de18fa2c4bfeca9715b",
       "version_major": 2,
       "version_minor": 0
      },
      "text/plain": [
       "Creating json from Arrow format:   0%|          | 0/1 [00:00<?, ?ba/s]"
      ]
     },
     "metadata": {},
     "output_type": "display_data"
    }
   ],
   "source": [
    "coll_merge = coll1.merge(coll2).merge(coll3)"
   ]
  },
  {
   "cell_type": "code",
   "execution_count": 21,
   "metadata": {},
   "outputs": [
    {
     "data": {
      "application/vnd.jupyter.widget-view+json": {
       "model_id": "1ef47af1aa7a4d2baf425ab9ec315894",
       "version_major": 2,
       "version_minor": 0
      },
      "text/plain": [
       "Creating json from Arrow format:   0%|          | 0/1 [00:00<?, ?ba/s]"
      ]
     },
     "metadata": {},
     "output_type": "display_data"
    },
    {
     "data": {
      "application/vnd.jupyter.widget-view+json": {
       "model_id": "c1f0041aa6a040ae9418c0f90426b80c",
       "version_major": 2,
       "version_minor": 0
      },
      "text/plain": [
       "Creating json from Arrow format:   0%|          | 0/1 [00:00<?, ?ba/s]"
      ]
     },
     "metadata": {},
     "output_type": "display_data"
    },
    {
     "data": {
      "application/vnd.jupyter.widget-view+json": {
       "model_id": "e8a62d858cc3466d84c6e138c4567900",
       "version_major": 2,
       "version_minor": 0
      },
      "text/plain": [
       "Creating json from Arrow format:   0%|          | 0/1 [00:00<?, ?ba/s]"
      ]
     },
     "metadata": {},
     "output_type": "display_data"
    },
    {
     "data": {
      "application/vnd.jupyter.widget-view+json": {
       "model_id": "8413551003534b37806d51da261454ba",
       "version_major": 2,
       "version_minor": 0
      },
      "text/plain": [
       "Creating json from Arrow format:   0%|          | 0/1 [00:00<?, ?ba/s]"
      ]
     },
     "metadata": {},
     "output_type": "display_data"
    },
    {
     "data": {
      "application/vnd.jupyter.widget-view+json": {
       "model_id": "959e17c3a77247a4ada88215ce3a4ba8",
       "version_major": 2,
       "version_minor": 0
      },
      "text/plain": [
       "Creating json from Arrow format:   0%|          | 0/1 [00:00<?, ?ba/s]"
      ]
     },
     "metadata": {},
     "output_type": "display_data"
    },
    {
     "data": {
      "application/vnd.jupyter.widget-view+json": {
       "model_id": "39b92087c2e34259bf2e65fb2436bf77",
       "version_major": 2,
       "version_minor": 0
      },
      "text/plain": [
       "Creating json from Arrow format:   0%|          | 0/1 [00:00<?, ?ba/s]"
      ]
     },
     "metadata": {},
     "output_type": "display_data"
    },
    {
     "name": "stdout",
     "output_type": "stream",
     "text": [
      "Evaluating commonsense_qa...\n"
     ]
    },
    {
     "data": {
      "application/vnd.jupyter.widget-view+json": {
       "model_id": "196a53dd5e6349e782d22cb30b2d2cd9",
       "version_major": 2,
       "version_minor": 0
      },
      "text/plain": [
       "  0%|          | 0/100 [00:00<?, ?ex/s]"
      ]
     },
     "metadata": {},
     "output_type": "display_data"
    },
    {
     "name": "stdout",
     "output_type": "stream",
     "text": [
      "Evaluating med_qa...\n"
     ]
    },
    {
     "data": {
      "application/vnd.jupyter.widget-view+json": {
       "model_id": "c3d7cfc4f8544d4aba9fa3cd0bfba461",
       "version_major": 2,
       "version_minor": 0
      },
      "text/plain": [
       "  0%|          | 0/100 [00:00<?, ?ex/s]"
      ]
     },
     "metadata": {},
     "output_type": "display_data"
    },
    {
     "name": "stdout",
     "output_type": "stream",
     "text": [
      "Evaluating medmc_qa...\n"
     ]
    },
    {
     "data": {
      "application/vnd.jupyter.widget-view+json": {
       "model_id": "204f3abe33904f4383e44f8c37e244e3",
       "version_major": 2,
       "version_minor": 0
      },
      "text/plain": [
       "  0%|          | 0/100 [00:00<?, ?ex/s]"
      ]
     },
     "metadata": {},
     "output_type": "display_data"
    },
    {
     "name": "stdout",
     "output_type": "stream",
     "text": [
      "Evaluating open_book_qa...\n"
     ]
    },
    {
     "data": {
      "application/vnd.jupyter.widget-view+json": {
       "model_id": "941bb8203a8b433392a2604e102825f7",
       "version_major": 2,
       "version_minor": 0
      },
      "text/plain": [
       "  0%|          | 0/100 [00:00<?, ?ex/s]"
      ]
     },
     "metadata": {},
     "output_type": "display_data"
    },
    {
     "name": "stdout",
     "output_type": "stream",
     "text": [
      "Evaluating strategy_qa...\n"
     ]
    },
    {
     "data": {
      "application/vnd.jupyter.widget-view+json": {
       "model_id": "41787b1e47dc4b678192db667e63821d",
       "version_major": 2,
       "version_minor": 0
      },
      "text/plain": [
       "  0%|          | 0/100 [00:00<?, ?ex/s]"
      ]
     },
     "metadata": {},
     "output_type": "display_data"
    },
    {
     "name": "stdout",
     "output_type": "stream",
     "text": [
      "Evaluating worldtree...\n"
     ]
    },
    {
     "data": {
      "application/vnd.jupyter.widget-view+json": {
       "model_id": "a65bcfe24e8c4201a1cef0b65cc548cc",
       "version_major": 2,
       "version_minor": 0
      },
      "text/plain": [
       "  0%|          | 0/100 [00:00<?, ?ex/s]"
      ]
     },
     "metadata": {},
     "output_type": "display_data"
    },
    {
     "name": "stdout",
     "output_type": "stream",
     "text": [
      "{'commonsense_qa': {'validation': {'accuracy': {'command-xlarge-nightly': {'None_None_kojima-A-E': 0.51,\n",
      "                                                                           'None_kojima-01_kojima-A-E': 0.53},\n",
      "                                                'flan-T5-xxl': {'None_None_kojima-A-E': 0.87,\n",
      "                                                                'None_kojima-01_kojima-A-E': 0.81},\n",
      "                                                'text-davinci-002': {'None_None_wei-01': 0.686869,\n",
      "                                                                     'None_kojima-01_kojima-A-E': 0.6},\n",
      "                                                'text-davinci-003': {'None_None_kojima-A-E': 0.72,\n",
      "                                                                     'None_kojima-01_kojima-A-E': 0.64}}}},\n",
      " 'med_qa': {'test': {'accuracy': {'command-xlarge-nightly': {'None_None_kojima-A-E': 0.23,\n",
      "                                                             'None_kojima-01_kojima-A-E': 0.31},\n",
      "                                  'flan-T5-xxl': {'None_None_kojima-A-E': 0.32,\n",
      "                                                  'None_kojima-01_kojima-A-E': 0.34},\n",
      "                                  'text-davinci-002': {'None_kojima-01_kojima-A-D': 0.46,\n",
      "                                                       'None_lievin-01_kojima-A-D': 0.44,\n",
      "                                                       'None_lievin-02_kojima-A-D': 0.5,\n",
      "                                                       'None_lievin-03_kojima-A-D': 0.49,\n",
      "                                                       'None_lievin-10_kojima-A-D': 0.45},\n",
      "                                  'text-davinci-003': {'None_None_kojima-A-E': 0.39,\n",
      "                                                       'None_kojima-01_kojima-A-E': 0.43}}}},\n",
      " 'medmc_qa': {'validation': {'accuracy': {'command-xlarge-nightly': {'None_None_kojima-A-D': 0.25,\n",
      "                                                                     'None_kojima-01_kojima-A-D': 0.23},\n",
      "                                          'flan-T5-xxl': {'None_None_kojima-A-D': 0.34,\n",
      "                                                          'None_kojima-01_kojima-A-D': 0.35},\n",
      "                                          'text-davinci-002': {'None_kojima-01_kojima-A-D': 0.37,\n",
      "                                                               'None_lievin-01_kojima-A-D': 0.45,\n",
      "                                                               'None_lievin-02_kojima-A-D': 0.41,\n",
      "                                                               'None_lievin-03_kojima-A-D': 0.4,\n",
      "                                                               'None_lievin-10_kojima-A-D': 0.42},\n",
      "                                          'text-davinci-003': {'None_None_kojima-A-D': 0.38,\n",
      "                                                               'None_kojima-01_kojima-A-D': 0.34}}}},\n",
      " 'open_book_qa': {'test': {'accuracy': {'command-xlarge-nightly': {'None_None_kojima-A-D': 0.59,\n",
      "                                                                   'None_kojima-01_kojima-A-D': 0.38},\n",
      "                                        'flan-T5-xxl': {'None_None_kojima-A-D': 0.82,\n",
      "                                                        'None_kojima-01_kojima-A-D': 0.79},\n",
      "                                        'text-davinci-003': {'None_None_kojima-A-D': 0.69,\n",
      "                                                             'None_kojima-01_kojima-A-D': 0.67}}}},\n",
      " 'strategy_qa': {'train': {'accuracy': {'command-xlarge-nightly': {'None_None_kojima-yes-no': 0.52,\n",
      "                                                                   'None_kojima-01_kojima-yes-no': 0.59},\n",
      "                                        'flan-T5-xxl': {'None_None_kojima-yes-no': 0.61,\n",
      "                                                        'None_kojima-01_kojima-yes-no': 0.69},\n",
      "                                        'text-davinci-002': {'None_None_wei-01': 0.59,\n",
      "                                                             'None_kojima-01_kojima-yes-no': 0.540816},\n",
      "                                        'text-davinci-003': {'None_None_kojima-yes-no': 0.53,\n",
      "                                                             'None_kojima-01_kojima-yes-no': 0.54}}}},\n",
      " 'worldtree': {'test': {'accuracy': {'command-xlarge-nightly': {'None_None_kojima-A-D': 0.62,\n",
      "                                                                'None_kojima-01_kojima-A-D': 0.58},\n",
      "                                     'flan-T5-xxl': {'None_None_kojima-A-D': 0.851485,\n",
      "                                                     'None_kojima-01_kojima-A-D': 0.8},\n",
      "                                     'text-davinci-003': {'None_None_kojima-A-D': 0.89,\n",
      "                                                          'None_kojima-01_kojima-A-D': 0.88}}}}}\n",
      "Evaluating commonsense_qa...\n"
     ]
    },
    {
     "data": {
      "application/vnd.jupyter.widget-view+json": {
       "model_id": "7c67dc5fb09b494b9da69fc46cabc21c",
       "version_major": 2,
       "version_minor": 0
      },
      "text/plain": [
       "  0%|          | 0/100 [00:00<?, ?ex/s]"
      ]
     },
     "metadata": {},
     "output_type": "display_data"
    },
    {
     "name": "stdout",
     "output_type": "stream",
     "text": [
      "Evaluating med_qa...\n"
     ]
    },
    {
     "data": {
      "application/vnd.jupyter.widget-view+json": {
       "model_id": "d241298992934466ac7127a15efec19c",
       "version_major": 2,
       "version_minor": 0
      },
      "text/plain": [
       "  0%|          | 0/100 [00:00<?, ?ex/s]"
      ]
     },
     "metadata": {},
     "output_type": "display_data"
    },
    {
     "name": "stdout",
     "output_type": "stream",
     "text": [
      "Evaluating medmc_qa...\n"
     ]
    },
    {
     "data": {
      "application/vnd.jupyter.widget-view+json": {
       "model_id": "9b1161cea5e1482bb64a53beda955519",
       "version_major": 2,
       "version_minor": 0
      },
      "text/plain": [
       "  0%|          | 0/100 [00:00<?, ?ex/s]"
      ]
     },
     "metadata": {},
     "output_type": "display_data"
    },
    {
     "name": "stdout",
     "output_type": "stream",
     "text": [
      "Evaluating open_book_qa...\n"
     ]
    },
    {
     "data": {
      "application/vnd.jupyter.widget-view+json": {
       "model_id": "90c5975186ee4efb99d1bb6b0de00de9",
       "version_major": 2,
       "version_minor": 0
      },
      "text/plain": [
       "  0%|          | 0/100 [00:00<?, ?ex/s]"
      ]
     },
     "metadata": {},
     "output_type": "display_data"
    },
    {
     "name": "stdout",
     "output_type": "stream",
     "text": [
      "Evaluating strategy_qa...\n"
     ]
    },
    {
     "data": {
      "application/vnd.jupyter.widget-view+json": {
       "model_id": "d945b877642a41e09341ca5ded0d293c",
       "version_major": 2,
       "version_minor": 0
      },
      "text/plain": [
       "  0%|          | 0/100 [00:00<?, ?ex/s]"
      ]
     },
     "metadata": {},
     "output_type": "display_data"
    },
    {
     "name": "stdout",
     "output_type": "stream",
     "text": [
      "Evaluating worldtree...\n"
     ]
    },
    {
     "data": {
      "application/vnd.jupyter.widget-view+json": {
       "model_id": "8563789b6bda425e8a0555f16f6c4775",
       "version_major": 2,
       "version_minor": 0
      },
      "text/plain": [
       "  0%|          | 0/100 [00:00<?, ?ex/s]"
      ]
     },
     "metadata": {},
     "output_type": "display_data"
    },
    {
     "data": {
      "application/vnd.jupyter.widget-view+json": {
       "model_id": "58ba15fa1a094a56af6cb92571014993",
       "version_major": 2,
       "version_minor": 0
      },
      "text/plain": [
       "Creating json from Arrow format:   0%|          | 0/1 [00:00<?, ?ba/s]"
      ]
     },
     "metadata": {},
     "output_type": "display_data"
    },
    {
     "data": {
      "application/vnd.jupyter.widget-view+json": {
       "model_id": "abf5a92bb3104b4c823746c9f88edc0d",
       "version_major": 2,
       "version_minor": 0
      },
      "text/plain": [
       "Creating json from Arrow format:   0%|          | 0/1 [00:00<?, ?ba/s]"
      ]
     },
     "metadata": {},
     "output_type": "display_data"
    },
    {
     "data": {
      "application/vnd.jupyter.widget-view+json": {
       "model_id": "2e487cfa712a4c6597115e32d71284e8",
       "version_major": 2,
       "version_minor": 0
      },
      "text/plain": [
       "Creating json from Arrow format:   0%|          | 0/1 [00:00<?, ?ba/s]"
      ]
     },
     "metadata": {},
     "output_type": "display_data"
    },
    {
     "data": {
      "application/vnd.jupyter.widget-view+json": {
       "model_id": "46764486227144848b9542e44c7e4ba4",
       "version_major": 2,
       "version_minor": 0
      },
      "text/plain": [
       "Creating json from Arrow format:   0%|          | 0/1 [00:00<?, ?ba/s]"
      ]
     },
     "metadata": {},
     "output_type": "display_data"
    },
    {
     "data": {
      "application/vnd.jupyter.widget-view+json": {
       "model_id": "beedc38a42a74457b77febd5124f88e3",
       "version_major": 2,
       "version_minor": 0
      },
      "text/plain": [
       "Creating json from Arrow format:   0%|          | 0/1 [00:00<?, ?ba/s]"
      ]
     },
     "metadata": {},
     "output_type": "display_data"
    },
    {
     "data": {
      "application/vnd.jupyter.widget-view+json": {
       "model_id": "dae7a7978bc743d6b79d1df488972ef7",
       "version_major": 2,
       "version_minor": 0
      },
      "text/plain": [
       "Creating json from Arrow format:   0%|          | 0/1 [00:00<?, ?ba/s]"
      ]
     },
     "metadata": {},
     "output_type": "display_data"
    },
    {
     "name": "stdout",
     "output_type": "stream",
     "text": [
      "{'commonsense_qa': {'validation': {'accuracy': {'command-xlarge-nightly': {'None_None_kojima-A-E': 0.51,\n",
      "                                                                           'None_kojima-01_kojima-A-E': 0.53},\n",
      "                                                'flan-T5-xxl': {'None_None_kojima-A-E': 0.87,\n",
      "                                                                'None_kojima-01_kojima-A-E': 0.81},\n",
      "                                                'text-davinci-002': {'None_None_wei-01': 0.686869,\n",
      "                                                                     'None_kojima-01_kojima-A-E': 0.6},\n",
      "                                                'text-davinci-003': {'None_None_kojima-A-E': 0.72,\n",
      "                                                                     'None_kojima-01_kojima-A-E': 0.64}}}},\n",
      " 'med_qa': {'test': {'accuracy': {'command-xlarge-nightly': {'None_None_kojima-A-E': 0.23,\n",
      "                                                             'None_kojima-01_kojima-A-E': 0.31},\n",
      "                                  'flan-T5-xxl': {'None_None_kojima-A-E': 0.32,\n",
      "                                                  'None_kojima-01_kojima-A-E': 0.34},\n",
      "                                  'text-davinci-002': {'None_kojima-01_kojima-A-D': 0.46,\n",
      "                                                       'None_lievin-01_kojima-A-D': 0.44,\n",
      "                                                       'None_lievin-02_kojima-A-D': 0.5,\n",
      "                                                       'None_lievin-03_kojima-A-D': 0.49,\n",
      "                                                       'None_lievin-10_kojima-A-D': 0.45},\n",
      "                                  'text-davinci-003': {'None_None_kojima-A-E': 0.39,\n",
      "                                                       'None_kojima-01_kojima-A-E': 0.43}}}},\n",
      " 'medmc_qa': {'validation': {'accuracy': {'command-xlarge-nightly': {'None_None_kojima-A-D': 0.25,\n",
      "                                                                     'None_kojima-01_kojima-A-D': 0.23},\n",
      "                                          'flan-T5-xxl': {'None_None_kojima-A-D': 0.34,\n",
      "                                                          'None_kojima-01_kojima-A-D': 0.35},\n",
      "                                          'text-davinci-002': {'None_kojima-01_kojima-A-D': 0.37,\n",
      "                                                               'None_lievin-01_kojima-A-D': 0.45,\n",
      "                                                               'None_lievin-02_kojima-A-D': 0.41,\n",
      "                                                               'None_lievin-03_kojima-A-D': 0.4,\n",
      "                                                               'None_lievin-10_kojima-A-D': 0.42},\n",
      "                                          'text-davinci-003': {'None_None_kojima-A-D': 0.38,\n",
      "                                                               'None_kojima-01_kojima-A-D': 0.34}}}},\n",
      " 'open_book_qa': {'test': {'accuracy': {'command-xlarge-nightly': {'None_None_kojima-A-D': 0.59,\n",
      "                                                                   'None_kojima-01_kojima-A-D': 0.38},\n",
      "                                        'flan-T5-xxl': {'None_None_kojima-A-D': 0.82,\n",
      "                                                        'None_kojima-01_kojima-A-D': 0.79},\n",
      "                                        'text-davinci-003': {'None_None_kojima-A-D': 0.69,\n",
      "                                                             'None_kojima-01_kojima-A-D': 0.67}}}},\n",
      " 'strategy_qa': {'train': {'accuracy': {'command-xlarge-nightly': {'None_None_kojima-yes-no': 0.52,\n",
      "                                                                   'None_kojima-01_kojima-yes-no': 0.59},\n",
      "                                        'flan-T5-xxl': {'None_None_kojima-yes-no': 0.61,\n",
      "                                                        'None_kojima-01_kojima-yes-no': 0.69},\n",
      "                                        'text-davinci-002': {'None_None_wei-01': 0.59,\n",
      "                                                             'None_kojima-01_kojima-yes-no': 0.540816},\n",
      "                                        'text-davinci-003': {'None_None_kojima-yes-no': 0.53,\n",
      "                                                             'None_kojima-01_kojima-yes-no': 0.54}}}},\n",
      " 'worldtree': {'test': {'accuracy': {'command-xlarge-nightly': {'None_None_kojima-A-D': 0.62,\n",
      "                                                                'None_kojima-01_kojima-A-D': 0.58},\n",
      "                                     'flan-T5-xxl': {'None_None_kojima-A-D': 0.851485,\n",
      "                                                     'None_kojima-01_kojima-A-D': 0.8},\n",
      "                                     'text-davinci-003': {'None_None_kojima-A-D': 0.89,\n",
      "                                                          'None_kojima-01_kojima-A-D': 0.88}}}}}\n"
     ]
    }
   ],
   "source": [
    "compare_evaluation(coll_merge)"
   ]
  },
  {
   "cell_type": "code",
   "execution_count": 58,
   "metadata": {},
   "outputs": [
    {
     "data": {
      "application/vnd.jupyter.widget-view+json": {
       "model_id": "b3297347c6364b1087203b41d4864c43",
       "version_major": 2,
       "version_minor": 0
      },
      "text/plain": [
       "Creating json from Arrow format:   0%|          | 0/1 [00:00<?, ?ba/s]"
      ]
     },
     "metadata": {},
     "output_type": "display_data"
    },
    {
     "data": {
      "application/vnd.jupyter.widget-view+json": {
       "model_id": "e0c79205b20b434190dd2cad7b176d0f",
       "version_major": 2,
       "version_minor": 0
      },
      "text/plain": [
       "Creating json from Arrow format:   0%|          | 0/1 [00:00<?, ?ba/s]"
      ]
     },
     "metadata": {},
     "output_type": "display_data"
    },
    {
     "data": {
      "application/vnd.jupyter.widget-view+json": {
       "model_id": "f80490094bce4b5abef3defe7d1e31ee",
       "version_major": 2,
       "version_minor": 0
      },
      "text/plain": [
       "Creating json from Arrow format:   0%|          | 0/1 [00:00<?, ?ba/s]"
      ]
     },
     "metadata": {},
     "output_type": "display_data"
    },
    {
     "data": {
      "application/vnd.jupyter.widget-view+json": {
       "model_id": "22e81b9783a04c0eb7061bc3151b4d35",
       "version_major": 2,
       "version_minor": 0
      },
      "text/plain": [
       "Creating json from Arrow format:   0%|          | 0/1 [00:00<?, ?ba/s]"
      ]
     },
     "metadata": {},
     "output_type": "display_data"
    },
    {
     "data": {
      "application/vnd.jupyter.widget-view+json": {
       "model_id": "5f34271489d1449b9c08fcb55d237e60",
       "version_major": 2,
       "version_minor": 0
      },
      "text/plain": [
       "Creating json from Arrow format:   0%|          | 0/1 [00:00<?, ?ba/s]"
      ]
     },
     "metadata": {},
     "output_type": "display_data"
    },
    {
     "data": {
      "application/vnd.jupyter.widget-view+json": {
       "model_id": "dd5b43e6e4054723bf72bf970aabafec",
       "version_major": 2,
       "version_minor": 0
      },
      "text/plain": [
       "Creating json from Arrow format:   0%|          | 0/1 [00:00<?, ?ba/s]"
      ]
     },
     "metadata": {},
     "output_type": "display_data"
    }
   ],
   "source": [
    "coll_merge.dump('thoughtsource_100_all_cots.json')"
   ]
  },
  {
   "cell_type": "code",
   "execution_count": 53,
   "metadata": {},
   "outputs": [
    {
     "data": {
      "application/vnd.jupyter.widget-view+json": {
       "model_id": "e266b20a44b44adcbc265f5e2b9ac4bc",
       "version_major": 2,
       "version_minor": 0
      },
      "text/plain": [
       "Creating json from Arrow format:   0%|          | 0/1 [00:00<?, ?ba/s]"
      ]
     },
     "metadata": {},
     "output_type": "display_data"
    },
    {
     "data": {
      "application/vnd.jupyter.widget-view+json": {
       "model_id": "544d1cb5333543258c84d185c4529dc4",
       "version_major": 2,
       "version_minor": 0
      },
      "text/plain": [
       "Creating json from Arrow format:   0%|          | 0/1 [00:00<?, ?ba/s]"
      ]
     },
     "metadata": {},
     "output_type": "display_data"
    },
    {
     "data": {
      "application/vnd.jupyter.widget-view+json": {
       "model_id": "0543f0ccf2e84f34906856a839781c85",
       "version_major": 2,
       "version_minor": 0
      },
      "text/plain": [
       "Creating json from Arrow format:   0%|          | 0/1 [00:00<?, ?ba/s]"
      ]
     },
     "metadata": {},
     "output_type": "display_data"
    },
    {
     "data": {
      "application/vnd.jupyter.widget-view+json": {
       "model_id": "bac2b2c9a6f444758eaf75253afaf5e1",
       "version_major": 2,
       "version_minor": 0
      },
      "text/plain": [
       "Creating json from Arrow format:   0%|          | 0/1 [00:00<?, ?ba/s]"
      ]
     },
     "metadata": {},
     "output_type": "display_data"
    },
    {
     "data": {
      "application/vnd.jupyter.widget-view+json": {
       "model_id": "2ca40609389d45078a1de4545717802e",
       "version_major": 2,
       "version_minor": 0
      },
      "text/plain": [
       "Creating json from Arrow format:   0%|          | 0/1 [00:00<?, ?ba/s]"
      ]
     },
     "metadata": {},
     "output_type": "display_data"
    },
    {
     "data": {
      "application/vnd.jupyter.widget-view+json": {
       "model_id": "09d4027e17c448248b8f635f7d2297e9",
       "version_major": 2,
       "version_minor": 0
      },
      "text/plain": [
       "Creating json from Arrow format:   0%|          | 0/1 [00:00<?, ?ba/s]"
      ]
     },
     "metadata": {},
     "output_type": "display_data"
    },
    {
     "data": {
      "application/vnd.jupyter.widget-view+json": {
       "model_id": "b27bd22484c04ca7bdc7bf9eea06a9fa",
       "version_major": 2,
       "version_minor": 0
      },
      "text/plain": [
       "Creating json from Arrow format:   0%|          | 0/1 [00:00<?, ?ba/s]"
      ]
     },
     "metadata": {},
     "output_type": "display_data"
    },
    {
     "data": {
      "application/vnd.jupyter.widget-view+json": {
       "model_id": "c36a6d401c5c459792fa68dbfe619f56",
       "version_major": 2,
       "version_minor": 0
      },
      "text/plain": [
       "Creating json from Arrow format:   0%|          | 0/1 [00:00<?, ?ba/s]"
      ]
     },
     "metadata": {},
     "output_type": "display_data"
    },
    {
     "data": {
      "application/vnd.jupyter.widget-view+json": {
       "model_id": "256811ef8ba6404d98f7eef3aed26bec",
       "version_major": 2,
       "version_minor": 0
      },
      "text/plain": [
       "Creating json from Arrow format:   0%|          | 0/1 [00:00<?, ?ba/s]"
      ]
     },
     "metadata": {},
     "output_type": "display_data"
    },
    {
     "data": {
      "application/vnd.jupyter.widget-view+json": {
       "model_id": "8b4b2d01375049c6905554a5462c1d75",
       "version_major": 2,
       "version_minor": 0
      },
      "text/plain": [
       "Creating json from Arrow format:   0%|          | 0/1 [00:00<?, ?ba/s]"
      ]
     },
     "metadata": {},
     "output_type": "display_data"
    },
    {
     "data": {
      "application/vnd.jupyter.widget-view+json": {
       "model_id": "138ecb05a4754987952fd8445432244b",
       "version_major": 2,
       "version_minor": 0
      },
      "text/plain": [
       "Creating json from Arrow format:   0%|          | 0/1 [00:00<?, ?ba/s]"
      ]
     },
     "metadata": {},
     "output_type": "display_data"
    },
    {
     "data": {
      "application/vnd.jupyter.widget-view+json": {
       "model_id": "cc4b673bd81840f7a42d409b282c75e2",
       "version_major": 2,
       "version_minor": 0
      },
      "text/plain": [
       "Creating json from Arrow format:   0%|          | 0/1 [00:00<?, ?ba/s]"
      ]
     },
     "metadata": {},
     "output_type": "display_data"
    },
    {
     "ename": "AttributeError",
     "evalue": "'Collection' object has no attribute 'sort_by'",
     "output_type": "error",
     "traceback": [
      "\u001b[0;31m---------------------------------------------------------------------------\u001b[0m",
      "\u001b[0;31mAttributeError\u001b[0m                            Traceback (most recent call last)",
      "Cell \u001b[0;32mIn[53], line 1\u001b[0m\n\u001b[0;32m----> 1\u001b[0m coll_merge_2 \u001b[39m=\u001b[39m coll3\u001b[39m.\u001b[39;49mmerge(coll1)\u001b[39m.\u001b[39mmerge(coll2)\n",
      "File \u001b[0;32m~/work/ThoughtSource/libs/cot/cot/dataloader.py:365\u001b[0m, in \u001b[0;36mCollection.merge\u001b[0;34m(self, collection_other)\u001b[0m\n\u001b[1;32m    364\u001b[0m \u001b[39mdef\u001b[39;00m \u001b[39mmerge\u001b[39m(\u001b[39mself\u001b[39m, collection_other):\n\u001b[0;32m--> 365\u001b[0m     \u001b[39mreturn\u001b[39;00m merge(\u001b[39mself\u001b[39;49m, collection_other)\n",
      "File \u001b[0;32m~/work/ThoughtSource/libs/cot/cot/merge.py:52\u001b[0m, in \u001b[0;36mmerge\u001b[0;34m(base_collection, head_collection)\u001b[0m\n\u001b[1;32m     50\u001b[0m merged_json \u001b[39m=\u001b[39m merger\u001b[39m.\u001b[39mmerge(base_collection\u001b[39m.\u001b[39mto_json(), head_collection\u001b[39m.\u001b[39mto_json())\n\u001b[1;32m     51\u001b[0m merged_collection \u001b[39m=\u001b[39m base_collection\u001b[39m.\u001b[39m\u001b[39m__class__\u001b[39m\u001b[39m.\u001b[39mfrom_json(merged_json)\n\u001b[0;32m---> 52\u001b[0m sorted_collection \u001b[39m=\u001b[39m merged_collection\u001b[39m.\u001b[39;49msort_by(\u001b[39m\"\u001b[39m\u001b[39mid\u001b[39m\u001b[39m\"\u001b[39m)\n\u001b[1;32m     53\u001b[0m \u001b[39mreturn\u001b[39;00m sorted_collection\n",
      "\u001b[0;31mAttributeError\u001b[0m: 'Collection' object has no attribute 'sort_by'"
     ]
    }
   ],
   "source": [
    "coll_merge_2 = coll3.merge(coll1).merge(coll2)"
   ]
  },
  {
   "cell_type": "code",
   "execution_count": 54,
   "metadata": {},
   "outputs": [
    {
     "ename": "NameError",
     "evalue": "name 'coll_merge_2' is not defined",
     "output_type": "error",
     "traceback": [
      "\u001b[0;31m---------------------------------------------------------------------------\u001b[0m",
      "\u001b[0;31mNameError\u001b[0m                                 Traceback (most recent call last)",
      "Cell \u001b[0;32mIn[54], line 1\u001b[0m\n\u001b[0;32m----> 1\u001b[0m coll_merge_2\u001b[39m.\u001b[39mdump(\u001b[39m'\u001b[39m\u001b[39mthoughtsource_100_all_cots_2.json\u001b[39m\u001b[39m'\u001b[39m)\n",
      "\u001b[0;31mNameError\u001b[0m: name 'coll_merge_2' is not defined"
     ]
    }
   ],
   "source": [
    "coll_merge_2.dump('thoughtsource_100_all_cots_2.json')"
   ]
  },
  {
   "cell_type": "code",
   "execution_count": 18,
   "metadata": {},
   "outputs": [
    {
     "name": "stdout",
     "output_type": "stream",
     "text": [
      "Loading commonsense_qa...\n",
      "Evaluating commonsense_qa...\n",
      "{'commonsense_qa': {'validation': {'accuracy': {'text-davinci-002': {'None_None_wei-01': 0.734426,\n",
      "                                                                     'None_kojima-01_kojima-A-E': 0.647494}}}}}\n",
      "Evaluating commonsense_qa...\n",
      "{'commonsense_qa': {'validation': {'accuracy': {'text-davinci-002': {'None_None_wei-01': 0.732787,\n",
      "                                                                     'None_kojima-01_kojima-A-E': 0.581758}}}}}\n"
     ]
    }
   ],
   "source": [
    "collection = Collection([\"commonsense_qa\"], verbose=False, load_pregenerated_cots=\"all\")\n",
    "collection = collection.select(split=\"validation\")\n",
    "compare_evaluation(collection)"
   ]
  },
  {
   "cell_type": "code",
   "execution_count": 32,
   "metadata": {},
   "outputs": [
    {
     "name": "stdout",
     "output_type": "stream",
     "text": [
      "Loading commonsense_qa...\n"
     ]
    }
   ],
   "source": [
    "collection = Collection([\"commonsense_qa\"], verbose=False, load_pregenerated_cots=[\"kojima\", \"wei\"])\n",
    "collection = collection.select(split=\"validation\")"
   ]
  },
  {
   "cell_type": "code",
   "execution_count": 33,
   "metadata": {},
   "outputs": [],
   "source": [
    "collection.dump(\"test_wei\")"
   ]
  },
  {
   "cell_type": "code",
   "execution_count": 31,
   "metadata": {},
   "outputs": [
    {
     "data": {
      "application/vnd.jupyter.widget-view+json": {
       "model_id": "c088996e2236492a8d3708a4e32ab9c2",
       "version_major": 2,
       "version_minor": 0
      },
      "text/plain": [
       "Creating json from Arrow format:   0%|          | 0/1 [00:00<?, ?ba/s]"
      ]
     },
     "metadata": {},
     "output_type": "display_data"
    },
    {
     "data": {
      "application/vnd.jupyter.widget-view+json": {
       "model_id": "83841eb21dba4629b67e03962bd33614",
       "version_major": 2,
       "version_minor": 0
      },
      "text/plain": [
       "Creating json from Arrow format:   0%|          | 0/1 [00:00<?, ?ba/s]"
      ]
     },
     "metadata": {},
     "output_type": "display_data"
    },
    {
     "data": {
      "application/vnd.jupyter.widget-view+json": {
       "model_id": "af6c1e4449bd485fbbce3c9d149df8ac",
       "version_major": 2,
       "version_minor": 0
      },
      "text/plain": [
       "Creating json from Arrow format:   0%|          | 0/1 [00:00<?, ?ba/s]"
      ]
     },
     "metadata": {},
     "output_type": "display_data"
    },
    {
     "data": {
      "application/vnd.jupyter.widget-view+json": {
       "model_id": "ca94b4921a2942bb9f5eb30ede49fa60",
       "version_major": 2,
       "version_minor": 0
      },
      "text/plain": [
       "Creating json from Arrow format:   0%|          | 0/1 [00:00<?, ?ba/s]"
      ]
     },
     "metadata": {},
     "output_type": "display_data"
    },
    {
     "data": {
      "application/vnd.jupyter.widget-view+json": {
       "model_id": "45c285e6255f4087ba59b386dca4842b",
       "version_major": 2,
       "version_minor": 0
      },
      "text/plain": [
       "Creating json from Arrow format:   0%|          | 0/1 [00:00<?, ?ba/s]"
      ]
     },
     "metadata": {},
     "output_type": "display_data"
    },
    {
     "data": {
      "application/vnd.jupyter.widget-view+json": {
       "model_id": "d1a648c39acc47c7bd12beb4a4602577",
       "version_major": 2,
       "version_minor": 0
      },
      "text/plain": [
       "Creating json from Arrow format:   0%|          | 0/1 [00:00<?, ?ba/s]"
      ]
     },
     "metadata": {},
     "output_type": "display_data"
    },
    {
     "name": "stdout",
     "output_type": "stream",
     "text": [
      "Evaluating commonsense_qa...\n"
     ]
    },
    {
     "data": {
      "application/vnd.jupyter.widget-view+json": {
       "model_id": "eb3bdf288a824876bc8151e23e22f8be",
       "version_major": 2,
       "version_minor": 0
      },
      "text/plain": [
       "  0%|          | 0/100 [00:00<?, ?ex/s]"
      ]
     },
     "metadata": {},
     "output_type": "display_data"
    },
    {
     "name": "stdout",
     "output_type": "stream",
     "text": [
      "Evaluating med_qa...\n"
     ]
    },
    {
     "data": {
      "application/vnd.jupyter.widget-view+json": {
       "model_id": "a43397b472fe4480851733c1e2f45bfb",
       "version_major": 2,
       "version_minor": 0
      },
      "text/plain": [
       "  0%|          | 0/100 [00:00<?, ?ex/s]"
      ]
     },
     "metadata": {},
     "output_type": "display_data"
    },
    {
     "name": "stdout",
     "output_type": "stream",
     "text": [
      "Evaluating medmc_qa...\n"
     ]
    },
    {
     "data": {
      "application/vnd.jupyter.widget-view+json": {
       "model_id": "5c4392fa78a04ab0b2b2b6419d19f6c9",
       "version_major": 2,
       "version_minor": 0
      },
      "text/plain": [
       "  0%|          | 0/100 [00:00<?, ?ex/s]"
      ]
     },
     "metadata": {},
     "output_type": "display_data"
    },
    {
     "name": "stdout",
     "output_type": "stream",
     "text": [
      "Evaluating open_book_qa...\n"
     ]
    },
    {
     "data": {
      "application/vnd.jupyter.widget-view+json": {
       "model_id": "7b0092fe2abd43b2910dc11e594406db",
       "version_major": 2,
       "version_minor": 0
      },
      "text/plain": [
       "  0%|          | 0/100 [00:00<?, ?ex/s]"
      ]
     },
     "metadata": {},
     "output_type": "display_data"
    },
    {
     "name": "stdout",
     "output_type": "stream",
     "text": [
      "Evaluating strategy_qa...\n"
     ]
    },
    {
     "data": {
      "application/vnd.jupyter.widget-view+json": {
       "model_id": "95b768b7292143d59ebb0960c7df5bf8",
       "version_major": 2,
       "version_minor": 0
      },
      "text/plain": [
       "  0%|          | 0/100 [00:00<?, ?ex/s]"
      ]
     },
     "metadata": {},
     "output_type": "display_data"
    },
    {
     "name": "stdout",
     "output_type": "stream",
     "text": [
      "Evaluating worldtree...\n"
     ]
    },
    {
     "data": {
      "application/vnd.jupyter.widget-view+json": {
       "model_id": "f99eb9001ff14b0eb59e0f29bc6a1de3",
       "version_major": 2,
       "version_minor": 0
      },
      "text/plain": [
       "  0%|          | 0/100 [00:00<?, ?ex/s]"
      ]
     },
     "metadata": {},
     "output_type": "display_data"
    },
    {
     "name": "stdout",
     "output_type": "stream",
     "text": [
      "{'commonsense_qa': {'validation': {'accuracy': {'command-xlarge-nightly': {'None_None_kojima-A-E': 0.53,\n",
      "                                                                           'None_kojima-01_kojima-A-E': 0.53},\n",
      "                                                'flan-T5-xxl': {'None_None_kojima-A-E': 0.87,\n",
      "                                                                'None_kojima-01_kojima-A-E': 0.81},\n",
      "                                                'text-davinci-002': {'None_None_None': 0.686869,\n",
      "                                                                     'None_kojima-01_kojima-A-E': 0.7},\n",
      "                                                'text-davinci-003': {'None_None_kojima-A-E': 0.72,\n",
      "                                                                     'None_kojima-01_kojima-A-E': 0.66}}}},\n",
      " 'med_qa': {'test': {'accuracy': {'command-xlarge-nightly': {'None_None_kojima-A-E': 0.23,\n",
      "                                                             'None_kojima-01_kojima-A-E': 0.31},\n",
      "                                  'flan-T5-xxl': {'None_None_kojima-A-E': 0.32,\n",
      "                                                  'None_kojima-01_kojima-A-E': 0.34},\n",
      "                                  'text-davinci-002': {'None_kojima-01_kojima-A-D': 0.46,\n",
      "                                                       'None_lievin-01_kojima-A-D': 0.44,\n",
      "                                                       'None_lievin-02_kojima-A-D': 0.5,\n",
      "                                                       'None_lievin-03_kojima-A-D': 0.49,\n",
      "                                                       'None_lievin-10_kojima-A-D': 0.45},\n",
      "                                  'text-davinci-003': {'None_None_kojima-A-E': 0.39,\n",
      "                                                       'None_kojima-01_kojima-A-E': 0.42}}}},\n",
      " 'medmc_qa': {'validation': {'accuracy': {'command-xlarge-nightly': {'None_None_kojima-A-D': 0.25,\n",
      "                                                                     'None_kojima-01_kojima-A-D': 0.23},\n",
      "                                          'flan-T5-xxl': {'None_None_kojima-A-D': 0.34,\n",
      "                                                          'None_kojima-01_kojima-A-D': 0.35},\n",
      "                                          'text-davinci-002': {'None_kojima-01_kojima-A-D': 0.37,\n",
      "                                                               'None_lievin-01_kojima-A-D': 0.45,\n",
      "                                                               'None_lievin-02_kojima-A-D': 0.41,\n",
      "                                                               'None_lievin-03_kojima-A-D': 0.4,\n",
      "                                                               'None_lievin-10_kojima-A-D': 0.42},\n",
      "                                          'text-davinci-003': {'None_None_kojima-A-D': 0.39,\n",
      "                                                               'None_kojima-01_kojima-A-D': 0.32}}}},\n",
      " 'open_book_qa': {'test': {'accuracy': {'command-xlarge-nightly': {'None_None_kojima-A-D': 0.6,\n",
      "                                                                   'None_kojima-01_kojima-A-D': 0.38},\n",
      "                                        'flan-T5-xxl': {'None_None_kojima-A-D': 0.82,\n",
      "                                                        'None_kojima-01_kojima-A-D': 0.79},\n",
      "                                        'text-davinci-003': {'None_None_kojima-A-D': 0.69,\n",
      "                                                             'None_kojima-01_kojima-A-D': 0.68}}}},\n",
      " 'strategy_qa': {'train': {'accuracy': {'command-xlarge-nightly': {'None_None_kojima-yes-no': 0.52,\n",
      "                                                                   'None_kojima-01_kojima-yes-no': 0.59},\n",
      "                                        'flan-T5-xxl': {'None_None_kojima-yes-no': 0.61,\n",
      "                                                        'None_kojima-01_kojima-yes-no': 0.69},\n",
      "                                        'text-davinci-002': {'None_None_None': 0.59,\n",
      "                                                             'None_kojima-01_kojima-yes-no': 0.540816},\n",
      "                                        'text-davinci-003': {'None_None_kojima-yes-no': 0.53,\n",
      "                                                             'None_kojima-01_kojima-yes-no': 0.48}}}},\n",
      " 'worldtree': {'test': {'accuracy': {'command-xlarge-nightly': {'None_None_kojima-A-D': 0.59,\n",
      "                                                                'None_kojima-01_kojima-A-D': 0.53},\n",
      "                                     'flan-T5-xxl': {'None_None_kojima-A-D': 0.851485,\n",
      "                                                     'None_kojima-01_kojima-A-D': 0.8},\n",
      "                                     'text-davinci-003': {'None_None_kojima-A-D': 0.85,\n",
      "                                                          'None_kojima-01_kojima-A-D': 0.73}}}}}\n",
      "Evaluating commonsense_qa...\n"
     ]
    },
    {
     "data": {
      "application/vnd.jupyter.widget-view+json": {
       "model_id": "bf35d9c1dde54a708f51cf132c36f07b",
       "version_major": 2,
       "version_minor": 0
      },
      "text/plain": [
       "  0%|          | 0/100 [00:00<?, ?ex/s]"
      ]
     },
     "metadata": {},
     "output_type": "display_data"
    },
    {
     "name": "stdout",
     "output_type": "stream",
     "text": [
      "Evaluating med_qa...\n"
     ]
    },
    {
     "data": {
      "application/vnd.jupyter.widget-view+json": {
       "model_id": "d134298cc4e14d59af5fc69932287157",
       "version_major": 2,
       "version_minor": 0
      },
      "text/plain": [
       "  0%|          | 0/100 [00:00<?, ?ex/s]"
      ]
     },
     "metadata": {},
     "output_type": "display_data"
    },
    {
     "name": "stdout",
     "output_type": "stream",
     "text": [
      "Evaluating medmc_qa...\n"
     ]
    },
    {
     "data": {
      "application/vnd.jupyter.widget-view+json": {
       "model_id": "fbed34adc4af4f0f86abda0096282780",
       "version_major": 2,
       "version_minor": 0
      },
      "text/plain": [
       "  0%|          | 0/100 [00:00<?, ?ex/s]"
      ]
     },
     "metadata": {},
     "output_type": "display_data"
    },
    {
     "name": "stdout",
     "output_type": "stream",
     "text": [
      "Evaluating open_book_qa...\n"
     ]
    },
    {
     "data": {
      "application/vnd.jupyter.widget-view+json": {
       "model_id": "1f415e20fcb94848b1dcabdcbba1185e",
       "version_major": 2,
       "version_minor": 0
      },
      "text/plain": [
       "  0%|          | 0/100 [00:00<?, ?ex/s]"
      ]
     },
     "metadata": {},
     "output_type": "display_data"
    },
    {
     "name": "stdout",
     "output_type": "stream",
     "text": [
      "Evaluating strategy_qa...\n"
     ]
    },
    {
     "data": {
      "application/vnd.jupyter.widget-view+json": {
       "model_id": "64054f872c5a4354bb339b6afc768f43",
       "version_major": 2,
       "version_minor": 0
      },
      "text/plain": [
       "  0%|          | 0/100 [00:00<?, ?ex/s]"
      ]
     },
     "metadata": {},
     "output_type": "display_data"
    },
    {
     "name": "stdout",
     "output_type": "stream",
     "text": [
      "Evaluating worldtree...\n"
     ]
    },
    {
     "data": {
      "application/vnd.jupyter.widget-view+json": {
       "model_id": "099f3436d21c45c597cd9261f6a13d85",
       "version_major": 2,
       "version_minor": 0
      },
      "text/plain": [
       "  0%|          | 0/100 [00:00<?, ?ex/s]"
      ]
     },
     "metadata": {},
     "output_type": "display_data"
    },
    {
     "data": {
      "application/vnd.jupyter.widget-view+json": {
       "model_id": "d25b8c7d0d1f4032b3f2c4cabb505762",
       "version_major": 2,
       "version_minor": 0
      },
      "text/plain": [
       "Creating json from Arrow format:   0%|          | 0/1 [00:00<?, ?ba/s]"
      ]
     },
     "metadata": {},
     "output_type": "display_data"
    },
    {
     "data": {
      "application/vnd.jupyter.widget-view+json": {
       "model_id": "c831db45b5114d9fb5fa566fe301b3eb",
       "version_major": 2,
       "version_minor": 0
      },
      "text/plain": [
       "Creating json from Arrow format:   0%|          | 0/1 [00:00<?, ?ba/s]"
      ]
     },
     "metadata": {},
     "output_type": "display_data"
    },
    {
     "data": {
      "application/vnd.jupyter.widget-view+json": {
       "model_id": "f20357e269fe404eb089a19ac1b65bc8",
       "version_major": 2,
       "version_minor": 0
      },
      "text/plain": [
       "Creating json from Arrow format:   0%|          | 0/1 [00:00<?, ?ba/s]"
      ]
     },
     "metadata": {},
     "output_type": "display_data"
    },
    {
     "data": {
      "application/vnd.jupyter.widget-view+json": {
       "model_id": "298021fcb70f47f586e868181d122980",
       "version_major": 2,
       "version_minor": 0
      },
      "text/plain": [
       "Creating json from Arrow format:   0%|          | 0/1 [00:00<?, ?ba/s]"
      ]
     },
     "metadata": {},
     "output_type": "display_data"
    },
    {
     "data": {
      "application/vnd.jupyter.widget-view+json": {
       "model_id": "13f4ba5ca7c446d7a7464f6f0b6247e4",
       "version_major": 2,
       "version_minor": 0
      },
      "text/plain": [
       "Creating json from Arrow format:   0%|          | 0/1 [00:00<?, ?ba/s]"
      ]
     },
     "metadata": {},
     "output_type": "display_data"
    },
    {
     "data": {
      "application/vnd.jupyter.widget-view+json": {
       "model_id": "bab7a08609a84e3681e6635ac9c08e92",
       "version_major": 2,
       "version_minor": 0
      },
      "text/plain": [
       "Creating json from Arrow format:   0%|          | 0/1 [00:00<?, ?ba/s]"
      ]
     },
     "metadata": {},
     "output_type": "display_data"
    },
    {
     "name": "stdout",
     "output_type": "stream",
     "text": [
      "{'commonsense_qa': {'validation': {'accuracy': {'command-xlarge-nightly': {'None_None_kojima-A-E': 0.51,\n",
      "                                                                           'None_kojima-01_kojima-A-E': 0.53},\n",
      "                                                'flan-T5-xxl': {'None_None_kojima-A-E': 0.87,\n",
      "                                                                'None_kojima-01_kojima-A-E': 0.81},\n",
      "                                                'text-davinci-002': {'None_None_None': 0.686869,\n",
      "                                                                     'None_kojima-01_kojima-A-E': 0.69},\n",
      "                                                'text-davinci-003': {'None_None_kojima-A-E': 0.72,\n",
      "                                                                     'None_kojima-01_kojima-A-E': 0.64}}}},\n",
      " 'med_qa': {'test': {'accuracy': {'command-xlarge-nightly': {'None_None_kojima-A-E': 0.23,\n",
      "                                                             'None_kojima-01_kojima-A-E': 0.31},\n",
      "                                  'flan-T5-xxl': {'None_None_kojima-A-E': 0.32,\n",
      "                                                  'None_kojima-01_kojima-A-E': 0.34},\n",
      "                                  'text-davinci-002': {'None_kojima-01_kojima-A-D': 0.46,\n",
      "                                                       'None_lievin-01_kojima-A-D': 0.44,\n",
      "                                                       'None_lievin-02_kojima-A-D': 0.5,\n",
      "                                                       'None_lievin-03_kojima-A-D': 0.49,\n",
      "                                                       'None_lievin-10_kojima-A-D': 0.45},\n",
      "                                  'text-davinci-003': {'None_None_kojima-A-E': 0.39,\n",
      "                                                       'None_kojima-01_kojima-A-E': 0.43}}}},\n",
      " 'medmc_qa': {'validation': {'accuracy': {'command-xlarge-nightly': {'None_None_kojima-A-D': 0.25,\n",
      "                                                                     'None_kojima-01_kojima-A-D': 0.23},\n",
      "                                          'flan-T5-xxl': {'None_None_kojima-A-D': 0.34,\n",
      "                                                          'None_kojima-01_kojima-A-D': 0.35},\n",
      "                                          'text-davinci-002': {'None_kojima-01_kojima-A-D': 0.37,\n",
      "                                                               'None_lievin-01_kojima-A-D': 0.45,\n",
      "                                                               'None_lievin-02_kojima-A-D': 0.41,\n",
      "                                                               'None_lievin-03_kojima-A-D': 0.4,\n",
      "                                                               'None_lievin-10_kojima-A-D': 0.42},\n",
      "                                          'text-davinci-003': {'None_None_kojima-A-D': 0.38,\n",
      "                                                               'None_kojima-01_kojima-A-D': 0.34}}}},\n",
      " 'open_book_qa': {'test': {'accuracy': {'command-xlarge-nightly': {'None_None_kojima-A-D': 0.59,\n",
      "                                                                   'None_kojima-01_kojima-A-D': 0.38},\n",
      "                                        'flan-T5-xxl': {'None_None_kojima-A-D': 0.82,\n",
      "                                                        'None_kojima-01_kojima-A-D': 0.79},\n",
      "                                        'text-davinci-003': {'None_None_kojima-A-D': 0.69,\n",
      "                                                             'None_kojima-01_kojima-A-D': 0.67}}}},\n",
      " 'strategy_qa': {'train': {'accuracy': {'command-xlarge-nightly': {'None_None_kojima-yes-no': 0.52,\n",
      "                                                                   'None_kojima-01_kojima-yes-no': 0.59},\n",
      "                                        'flan-T5-xxl': {'None_None_kojima-yes-no': 0.61,\n",
      "                                                        'None_kojima-01_kojima-yes-no': 0.69},\n",
      "                                        'text-davinci-002': {'None_None_None': 0.59,\n",
      "                                                             'None_kojima-01_kojima-yes-no': 0.540816},\n",
      "                                        'text-davinci-003': {'None_None_kojima-yes-no': 0.53,\n",
      "                                                             'None_kojima-01_kojima-yes-no': 0.54}}}},\n",
      " 'worldtree': {'test': {'accuracy': {'command-xlarge-nightly': {'None_None_kojima-A-D': 0.62,\n",
      "                                                                'None_kojima-01_kojima-A-D': 0.58},\n",
      "                                     'flan-T5-xxl': {'None_None_kojima-A-D': 0.851485,\n",
      "                                                     'None_kojima-01_kojima-A-D': 0.8},\n",
      "                                     'text-davinci-003': {'None_None_kojima-A-D': 0.89,\n",
      "                                                          'None_kojima-01_kojima-A-D': 0.88}}}}}\n"
     ]
    }
   ],
   "source": [
    "# load thoughtsource_all\n",
    "collection = Collection.from_json(\"./thoughtsource_data/thoughtsource_100_all_cots.json\")\n",
    "compare_evaluation(collection)"
   ]
  },
  {
   "cell_type": "code",
   "execution_count": 25,
   "metadata": {},
   "outputs": [
    {
     "data": {
      "application/vnd.jupyter.widget-view+json": {
       "model_id": "0a1a9351b7d54b248b937dc02f4f65aa",
       "version_major": 2,
       "version_minor": 0
      },
      "text/plain": [
       "Creating json from Arrow format:   0%|          | 0/1 [00:00<?, ?ba/s]"
      ]
     },
     "metadata": {},
     "output_type": "display_data"
    },
    {
     "data": {
      "application/vnd.jupyter.widget-view+json": {
       "model_id": "9463ee17b7c94641bc0abfcf5dbb3e8d",
       "version_major": 2,
       "version_minor": 0
      },
      "text/plain": [
       "Creating json from Arrow format:   0%|          | 0/1 [00:00<?, ?ba/s]"
      ]
     },
     "metadata": {},
     "output_type": "display_data"
    },
    {
     "data": {
      "application/vnd.jupyter.widget-view+json": {
       "model_id": "330a314fd4374839ba586104e3d2f028",
       "version_major": 2,
       "version_minor": 0
      },
      "text/plain": [
       "Creating json from Arrow format:   0%|          | 0/1 [00:00<?, ?ba/s]"
      ]
     },
     "metadata": {},
     "output_type": "display_data"
    },
    {
     "data": {
      "application/vnd.jupyter.widget-view+json": {
       "model_id": "12af1ef4cec24a7aa9fbd52338acce29",
       "version_major": 2,
       "version_minor": 0
      },
      "text/plain": [
       "Creating json from Arrow format:   0%|          | 0/1 [00:00<?, ?ba/s]"
      ]
     },
     "metadata": {},
     "output_type": "display_data"
    },
    {
     "data": {
      "application/vnd.jupyter.widget-view+json": {
       "model_id": "0efc1f6e5db4484fba677054564a48ef",
       "version_major": 2,
       "version_minor": 0
      },
      "text/plain": [
       "Creating json from Arrow format:   0%|          | 0/1 [00:00<?, ?ba/s]"
      ]
     },
     "metadata": {},
     "output_type": "display_data"
    },
    {
     "data": {
      "application/vnd.jupyter.widget-view+json": {
       "model_id": "617980f5e71d478ab744cc7fd5e88905",
       "version_major": 2,
       "version_minor": 0
      },
      "text/plain": [
       "Creating json from Arrow format:   0%|          | 0/1 [00:00<?, ?ba/s]"
      ]
     },
     "metadata": {},
     "output_type": "display_data"
    }
   ],
   "source": [
    "collection.dump(\"thoughtsource_100_eval_test.json\")"
   ]
  },
  {
   "cell_type": "code",
   "execution_count": 45,
   "metadata": {},
   "outputs": [
    {
     "name": "stdout",
     "output_type": "stream",
     "text": [
      "Loading commonsense_qa...\n"
     ]
    }
   ],
   "source": [
    "colle = Collection([\"commonsense_qa\"], verbose=False, load_pregenerated_cots=\"wei\")\n",
    "colle = colle.select(split=\"validation\")"
   ]
  },
  {
   "cell_type": "code",
   "execution_count": 46,
   "metadata": {},
   "outputs": [],
   "source": [
    "colle.dump(\"commonsense_wei_before.json\")"
   ]
  },
  {
   "cell_type": "code",
   "execution_count": 2,
   "metadata": {},
   "outputs": [
    {
     "name": "stdout",
     "output_type": "stream",
     "text": [
      "Loading commonsense_qa...\n"
     ]
    },
    {
     "name": "stderr",
     "output_type": "stream",
     "text": [
      "[nltk_data] Downloading package punkt to /home/kon/nltk_data...\n",
      "[nltk_data]   Package punkt is already up-to-date!\n"
     ]
    }
   ],
   "source": [
    "colle = Collection([\"commonsense_qa\"], verbose=False, load_pregenerated_cots=\"wei\", generate_mode=\"recache\")\n",
    "colle = colle.select(split=\"validation\")"
   ]
  },
  {
   "cell_type": "code",
   "execution_count": 3,
   "metadata": {},
   "outputs": [],
   "source": [
    "colle.dump(\"commonsense_wei_after.json\")"
   ]
  },
  {
   "cell_type": "code",
   "execution_count": 47,
   "metadata": {},
   "outputs": [
    {
     "name": "stdout",
     "output_type": "stream",
     "text": [
      "Loading strategy_qa...\n"
     ]
    }
   ],
   "source": [
    "colle = Collection([\"strategy_qa\"], verbose=False, load_pregenerated_cots=\"wei\")\n",
    "colle = colle.select(split=\"train\")"
   ]
  },
  {
   "cell_type": "code",
   "execution_count": 48,
   "metadata": {},
   "outputs": [],
   "source": [
    "colle.dump(\"strategy_wei_before.json\")"
   ]
  },
  {
   "cell_type": "code",
   "execution_count": 4,
   "metadata": {},
   "outputs": [
    {
     "name": "stdout",
     "output_type": "stream",
     "text": [
      "Loading strategy_qa...\n"
     ]
    }
   ],
   "source": [
    "collection = Collection([\"strategy_qa\"], verbose=False, load_pregenerated_cots=\"wei\", generate_mode=\"recache\")\n",
    "collection = collection.select(split=\"train\")"
   ]
  },
  {
   "cell_type": "code",
   "execution_count": 5,
   "metadata": {},
   "outputs": [],
   "source": [
    "collection.dump(\"strategy_wei_after.json\")"
   ]
  },
  {
   "cell_type": "code",
   "execution_count": 31,
   "metadata": {},
   "outputs": [],
   "source": [
    "coll = Collection.from_json(\"./thoughtsource_data/thoughtsource_100_all_cots.json\")"
   ]
  },
  {
   "cell_type": "code",
   "execution_count": 7,
   "metadata": {},
   "outputs": [
    {
     "name": "stdout",
     "output_type": "stream",
     "text": [
      "Evaluating commonsense_qa...\n"
     ]
    },
    {
     "data": {
      "application/vnd.jupyter.widget-view+json": {
       "model_id": "265c7d557acd462dad187384cf5a19c9",
       "version_major": 2,
       "version_minor": 0
      },
      "text/plain": [
       "  0%|          | 0/1221 [00:00<?, ?ex/s]"
      ]
     },
     "metadata": {},
     "output_type": "display_data"
    },
    {
     "data": {
      "application/vnd.jupyter.widget-view+json": {
       "model_id": "ac2b04447f754f80859c704bf8f5ba98",
       "version_major": 2,
       "version_minor": 0
      },
      "text/plain": [
       "Creating json from Arrow format:   0%|          | 0/1 [00:00<?, ?ba/s]"
      ]
     },
     "metadata": {},
     "output_type": "display_data"
    }
   ],
   "source": [
    "coll = Collection.from_json(\"commonsense_wei_after.json\")\n",
    "coll.evaluate(overwrite=True)\n",
    "coll.dump(\"commonsense_wei_after.json\")"
   ]
  },
  {
   "cell_type": "code",
   "execution_count": null,
   "metadata": {},
   "outputs": [],
   "source": [
    "coll = Collection([\"strategy_qa\"], verbose=False, load_pregenerated_cots=\"kojima\")\n",
    "coll = coll.select(split=\"train\")\n",
    "coll.evaluate()\n",
    "coll.dump(\"strategy_kojima_before.json\")"
   ]
  },
  {
   "cell_type": "code",
   "execution_count": 17,
   "metadata": {},
   "outputs": [
    {
     "name": "stdout",
     "output_type": "stream",
     "text": [
      "Evaluating strategy_qa...\n"
     ]
    }
   ],
   "source": [
    "coll.evaluate(overwrite=True)\n",
    "coll.dump(\"strategy_kojima_after.json\")"
   ]
  },
  {
   "cell_type": "code",
   "execution_count": 32,
   "metadata": {},
   "outputs": [
    {
     "data": {
      "application/vnd.jupyter.widget-view+json": {
       "model_id": "444b2a9809ed45a6a36a9c42aa50ae0a",
       "version_major": 2,
       "version_minor": 0
      },
      "text/plain": [
       "Creating json from Arrow format:   0%|          | 0/1 [00:00<?, ?ba/s]"
      ]
     },
     "metadata": {},
     "output_type": "display_data"
    },
    {
     "data": {
      "application/vnd.jupyter.widget-view+json": {
       "model_id": "a9fc7eff9f154572807ea1423999708e",
       "version_major": 2,
       "version_minor": 0
      },
      "text/plain": [
       "Creating json from Arrow format:   0%|          | 0/1 [00:00<?, ?ba/s]"
      ]
     },
     "metadata": {},
     "output_type": "display_data"
    },
    {
     "data": {
      "application/vnd.jupyter.widget-view+json": {
       "model_id": "be728280a46d4548831df489c9a80ecc",
       "version_major": 2,
       "version_minor": 0
      },
      "text/plain": [
       "Creating json from Arrow format:   0%|          | 0/1 [00:00<?, ?ba/s]"
      ]
     },
     "metadata": {},
     "output_type": "display_data"
    },
    {
     "data": {
      "application/vnd.jupyter.widget-view+json": {
       "model_id": "0fd03a7d62e84c85b54f76aa552d6b66",
       "version_major": 2,
       "version_minor": 0
      },
      "text/plain": [
       "Creating json from Arrow format:   0%|          | 0/1 [00:00<?, ?ba/s]"
      ]
     },
     "metadata": {},
     "output_type": "display_data"
    },
    {
     "data": {
      "application/vnd.jupyter.widget-view+json": {
       "model_id": "c5147449724b4e1b9529a42d91e780dc",
       "version_major": 2,
       "version_minor": 0
      },
      "text/plain": [
       "Creating json from Arrow format:   0%|          | 0/1 [00:00<?, ?ba/s]"
      ]
     },
     "metadata": {},
     "output_type": "display_data"
    },
    {
     "data": {
      "application/vnd.jupyter.widget-view+json": {
       "model_id": "35d0b839e8614e36860b7eccaf173c6d",
       "version_major": 2,
       "version_minor": 0
      },
      "text/plain": [
       "Creating json from Arrow format:   0%|          | 0/1 [00:00<?, ?ba/s]"
      ]
     },
     "metadata": {},
     "output_type": "display_data"
    },
    {
     "name": "stdout",
     "output_type": "stream",
     "text": [
      "Evaluating commonsense_qa...\n"
     ]
    },
    {
     "data": {
      "application/vnd.jupyter.widget-view+json": {
       "model_id": "080c85ff7d1f4f4986c61306dea17797",
       "version_major": 2,
       "version_minor": 0
      },
      "text/plain": [
       "  0%|          | 0/100 [00:00<?, ?ex/s]"
      ]
     },
     "metadata": {},
     "output_type": "display_data"
    },
    {
     "name": "stdout",
     "output_type": "stream",
     "text": [
      "Evaluating med_qa...\n"
     ]
    },
    {
     "data": {
      "application/vnd.jupyter.widget-view+json": {
       "model_id": "28a8988f3d934f86a51c51f3f132df29",
       "version_major": 2,
       "version_minor": 0
      },
      "text/plain": [
       "  0%|          | 0/100 [00:00<?, ?ex/s]"
      ]
     },
     "metadata": {},
     "output_type": "display_data"
    },
    {
     "name": "stdout",
     "output_type": "stream",
     "text": [
      "Evaluating medmc_qa...\n"
     ]
    },
    {
     "data": {
      "application/vnd.jupyter.widget-view+json": {
       "model_id": "606ae6609f904e89ba827b1e549f2ba8",
       "version_major": 2,
       "version_minor": 0
      },
      "text/plain": [
       "  0%|          | 0/100 [00:00<?, ?ex/s]"
      ]
     },
     "metadata": {},
     "output_type": "display_data"
    },
    {
     "name": "stdout",
     "output_type": "stream",
     "text": [
      "Evaluating open_book_qa...\n"
     ]
    },
    {
     "data": {
      "application/vnd.jupyter.widget-view+json": {
       "model_id": "56ee569cb96946429fc4a129823300b4",
       "version_major": 2,
       "version_minor": 0
      },
      "text/plain": [
       "  0%|          | 0/100 [00:00<?, ?ex/s]"
      ]
     },
     "metadata": {},
     "output_type": "display_data"
    },
    {
     "name": "stdout",
     "output_type": "stream",
     "text": [
      "Evaluating strategy_qa...\n"
     ]
    },
    {
     "data": {
      "application/vnd.jupyter.widget-view+json": {
       "model_id": "bda574888eed49b288e0777cc3551528",
       "version_major": 2,
       "version_minor": 0
      },
      "text/plain": [
       "  0%|          | 0/100 [00:00<?, ?ex/s]"
      ]
     },
     "metadata": {},
     "output_type": "display_data"
    },
    {
     "name": "stdout",
     "output_type": "stream",
     "text": [
      "Evaluating worldtree...\n"
     ]
    },
    {
     "data": {
      "application/vnd.jupyter.widget-view+json": {
       "model_id": "022a478c42db4cdc8c0f825ac0c751dc",
       "version_major": 2,
       "version_minor": 0
      },
      "text/plain": [
       "  0%|          | 0/100 [00:00<?, ?ex/s]"
      ]
     },
     "metadata": {},
     "output_type": "display_data"
    },
    {
     "name": "stdout",
     "output_type": "stream",
     "text": [
      "{'commonsense_qa': {'validation': {'accuracy': {'command-xlarge-nightly': {'None_None_kojima-A-E': 0.53,\n",
      "                                                                           'None_kojima-01_kojima-A-E': 0.53},\n",
      "                                                'flan-T5-xxl': {'None_None_kojima-A-E': 0.87,\n",
      "                                                                'None_kojima-01_kojima-A-E': 0.81},\n",
      "                                                'text-davinci-002': {'None_None_None': 0.686869,\n",
      "                                                                     'None_kojima-01_kojima-A-E': 0.7},\n",
      "                                                'text-davinci-003': {'None_None_kojima-A-E': 0.72,\n",
      "                                                                     'None_kojima-01_kojima-A-E': 0.66}}}},\n",
      " 'med_qa': {'test': {'accuracy': {'command-xlarge-nightly': {'None_None_kojima-A-E': 0.23,\n",
      "                                                             'None_kojima-01_kojima-A-E': 0.31},\n",
      "                                  'flan-T5-xxl': {'None_None_kojima-A-E': 0.32,\n",
      "                                                  'None_kojima-01_kojima-A-E': 0.34},\n",
      "                                  'text-davinci-002': {'None_kojima-01_kojima-A-D': 0.46,\n",
      "                                                       'None_lievin-01_kojima-A-D': 0.44,\n",
      "                                                       'None_lievin-02_kojima-A-D': 0.5,\n",
      "                                                       'None_lievin-03_kojima-A-D': 0.49,\n",
      "                                                       'None_lievin-10_kojima-A-D': 0.45},\n",
      "                                  'text-davinci-003': {'None_None_kojima-A-E': 0.39,\n",
      "                                                       'None_kojima-01_kojima-A-E': 0.42}}}},\n",
      " 'medmc_qa': {'validation': {'accuracy': {'command-xlarge-nightly': {'None_None_kojima-A-D': 0.25,\n",
      "                                                                     'None_kojima-01_kojima-A-D': 0.23},\n",
      "                                          'flan-T5-xxl': {'None_None_kojima-A-D': 0.34,\n",
      "                                                          'None_kojima-01_kojima-A-D': 0.35},\n",
      "                                          'text-davinci-002': {'None_kojima-01_kojima-A-D': 0.37,\n",
      "                                                               'None_lievin-01_kojima-A-D': 0.45,\n",
      "                                                               'None_lievin-02_kojima-A-D': 0.41,\n",
      "                                                               'None_lievin-03_kojima-A-D': 0.4,\n",
      "                                                               'None_lievin-10_kojima-A-D': 0.42},\n",
      "                                          'text-davinci-003': {'None_None_kojima-A-D': 0.39,\n",
      "                                                               'None_kojima-01_kojima-A-D': 0.32}}}},\n",
      " 'open_book_qa': {'test': {'accuracy': {'command-xlarge-nightly': {'None_None_kojima-A-D': 0.6,\n",
      "                                                                   'None_kojima-01_kojima-A-D': 0.38},\n",
      "                                        'flan-T5-xxl': {'None_None_kojima-A-D': 0.82,\n",
      "                                                        'None_kojima-01_kojima-A-D': 0.79},\n",
      "                                        'text-davinci-003': {'None_None_kojima-A-D': 0.69,\n",
      "                                                             'None_kojima-01_kojima-A-D': 0.68}}}},\n",
      " 'strategy_qa': {'train': {'accuracy': {'command-xlarge-nightly': {'None_None_kojima-yes-no': 0.52,\n",
      "                                                                   'None_kojima-01_kojima-yes-no': 0.59},\n",
      "                                        'flan-T5-xxl': {'None_None_kojima-yes-no': 0.61,\n",
      "                                                        'None_kojima-01_kojima-yes-no': 0.69},\n",
      "                                        'text-davinci-002': {'None_None_None': 0.59,\n",
      "                                                             'None_kojima-01_kojima-yes-no': 0.540816},\n",
      "                                        'text-davinci-003': {'None_None_kojima-yes-no': 0.53,\n",
      "                                                             'None_kojima-01_kojima-yes-no': 0.48}}}},\n",
      " 'worldtree': {'test': {'accuracy': {'command-xlarge-nightly': {'None_None_kojima-A-D': 0.59,\n",
      "                                                                'None_kojima-01_kojima-A-D': 0.53},\n",
      "                                     'flan-T5-xxl': {'None_None_kojima-A-D': 0.851485,\n",
      "                                                     'None_kojima-01_kojima-A-D': 0.8},\n",
      "                                     'text-davinci-003': {'None_None_kojima-A-D': 0.85,\n",
      "                                                          'None_kojima-01_kojima-A-D': 0.73}}}}}\n",
      "Evaluating commonsense_qa...\n"
     ]
    },
    {
     "data": {
      "application/vnd.jupyter.widget-view+json": {
       "model_id": "46a32401d97c459b9f1f9e7f0cdd2eae",
       "version_major": 2,
       "version_minor": 0
      },
      "text/plain": [
       "  0%|          | 0/100 [00:00<?, ?ex/s]"
      ]
     },
     "metadata": {},
     "output_type": "display_data"
    },
    {
     "name": "stdout",
     "output_type": "stream",
     "text": [
      "Evaluating med_qa...\n"
     ]
    },
    {
     "data": {
      "application/vnd.jupyter.widget-view+json": {
       "model_id": "42b2eeaf33724ba0b3ba27d63ee059f7",
       "version_major": 2,
       "version_minor": 0
      },
      "text/plain": [
       "  0%|          | 0/100 [00:00<?, ?ex/s]"
      ]
     },
     "metadata": {},
     "output_type": "display_data"
    },
    {
     "name": "stdout",
     "output_type": "stream",
     "text": [
      "Evaluating medmc_qa...\n"
     ]
    },
    {
     "data": {
      "application/vnd.jupyter.widget-view+json": {
       "model_id": "2bd036892414432197496d5a331a2eed",
       "version_major": 2,
       "version_minor": 0
      },
      "text/plain": [
       "  0%|          | 0/100 [00:00<?, ?ex/s]"
      ]
     },
     "metadata": {},
     "output_type": "display_data"
    },
    {
     "name": "stdout",
     "output_type": "stream",
     "text": [
      "Evaluating open_book_qa...\n"
     ]
    },
    {
     "data": {
      "application/vnd.jupyter.widget-view+json": {
       "model_id": "87ed802443a94bbda17bf597a57566d6",
       "version_major": 2,
       "version_minor": 0
      },
      "text/plain": [
       "  0%|          | 0/100 [00:00<?, ?ex/s]"
      ]
     },
     "metadata": {},
     "output_type": "display_data"
    },
    {
     "name": "stdout",
     "output_type": "stream",
     "text": [
      "Evaluating strategy_qa...\n"
     ]
    },
    {
     "data": {
      "application/vnd.jupyter.widget-view+json": {
       "model_id": "cabd506483e74a0f8b00bac0c763be43",
       "version_major": 2,
       "version_minor": 0
      },
      "text/plain": [
       "  0%|          | 0/100 [00:00<?, ?ex/s]"
      ]
     },
     "metadata": {},
     "output_type": "display_data"
    },
    {
     "name": "stdout",
     "output_type": "stream",
     "text": [
      "Evaluating worldtree...\n"
     ]
    },
    {
     "data": {
      "application/vnd.jupyter.widget-view+json": {
       "model_id": "7fe0d684274443848590e6695a0e6278",
       "version_major": 2,
       "version_minor": 0
      },
      "text/plain": [
       "  0%|          | 0/100 [00:00<?, ?ex/s]"
      ]
     },
     "metadata": {},
     "output_type": "display_data"
    },
    {
     "data": {
      "application/vnd.jupyter.widget-view+json": {
       "model_id": "804685ecdd8f4215b3ecdfa3ddd57518",
       "version_major": 2,
       "version_minor": 0
      },
      "text/plain": [
       "Creating json from Arrow format:   0%|          | 0/1 [00:00<?, ?ba/s]"
      ]
     },
     "metadata": {},
     "output_type": "display_data"
    },
    {
     "data": {
      "application/vnd.jupyter.widget-view+json": {
       "model_id": "d357722f041f4974ad614b095b8bf890",
       "version_major": 2,
       "version_minor": 0
      },
      "text/plain": [
       "Creating json from Arrow format:   0%|          | 0/1 [00:00<?, ?ba/s]"
      ]
     },
     "metadata": {},
     "output_type": "display_data"
    },
    {
     "data": {
      "application/vnd.jupyter.widget-view+json": {
       "model_id": "39a9494041b24ddf853ebad37b587b5e",
       "version_major": 2,
       "version_minor": 0
      },
      "text/plain": [
       "Creating json from Arrow format:   0%|          | 0/1 [00:00<?, ?ba/s]"
      ]
     },
     "metadata": {},
     "output_type": "display_data"
    },
    {
     "data": {
      "application/vnd.jupyter.widget-view+json": {
       "model_id": "75c52852f69a4aedbcb335aadd9c9a6c",
       "version_major": 2,
       "version_minor": 0
      },
      "text/plain": [
       "Creating json from Arrow format:   0%|          | 0/1 [00:00<?, ?ba/s]"
      ]
     },
     "metadata": {},
     "output_type": "display_data"
    },
    {
     "data": {
      "application/vnd.jupyter.widget-view+json": {
       "model_id": "cc8d8364b0bf461ea5305c50c4418683",
       "version_major": 2,
       "version_minor": 0
      },
      "text/plain": [
       "Creating json from Arrow format:   0%|          | 0/1 [00:00<?, ?ba/s]"
      ]
     },
     "metadata": {},
     "output_type": "display_data"
    },
    {
     "data": {
      "application/vnd.jupyter.widget-view+json": {
       "model_id": "400098587f084ca3bf39d3611cd1a3ac",
       "version_major": 2,
       "version_minor": 0
      },
      "text/plain": [
       "Creating json from Arrow format:   0%|          | 0/1 [00:00<?, ?ba/s]"
      ]
     },
     "metadata": {},
     "output_type": "display_data"
    },
    {
     "name": "stdout",
     "output_type": "stream",
     "text": [
      "{'commonsense_qa': {'validation': {'accuracy': {'command-xlarge-nightly': {'None_None_kojima-A-E': 0.51,\n",
      "                                                                           'None_kojima-01_kojima-A-E': 0.53},\n",
      "                                                'flan-T5-xxl': {'None_None_kojima-A-E': 0.87,\n",
      "                                                                'None_kojima-01_kojima-A-E': 0.81},\n",
      "                                                'text-davinci-002': {'None_None_None': 0.707071,\n",
      "                                                                     'None_kojima-01_kojima-A-E': 0.69},\n",
      "                                                'text-davinci-003': {'None_None_kojima-A-E': 0.72,\n",
      "                                                                     'None_kojima-01_kojima-A-E': 0.64}}}},\n",
      " 'med_qa': {'test': {'accuracy': {'command-xlarge-nightly': {'None_None_kojima-A-E': 0.23,\n",
      "                                                             'None_kojima-01_kojima-A-E': 0.31},\n",
      "                                  'flan-T5-xxl': {'None_None_kojima-A-E': 0.32,\n",
      "                                                  'None_kojima-01_kojima-A-E': 0.34},\n",
      "                                  'text-davinci-002': {'None_kojima-01_kojima-A-D': 0.46,\n",
      "                                                       'None_lievin-01_kojima-A-D': 0.44,\n",
      "                                                       'None_lievin-02_kojima-A-D': 0.5,\n",
      "                                                       'None_lievin-03_kojima-A-D': 0.49,\n",
      "                                                       'None_lievin-10_kojima-A-D': 0.45},\n",
      "                                  'text-davinci-003': {'None_None_kojima-A-E': 0.39,\n",
      "                                                       'None_kojima-01_kojima-A-E': 0.43}}}},\n",
      " 'medmc_qa': {'validation': {'accuracy': {'command-xlarge-nightly': {'None_None_kojima-A-D': 0.25,\n",
      "                                                                     'None_kojima-01_kojima-A-D': 0.23},\n",
      "                                          'flan-T5-xxl': {'None_None_kojima-A-D': 0.34,\n",
      "                                                          'None_kojima-01_kojima-A-D': 0.35},\n",
      "                                          'text-davinci-002': {'None_kojima-01_kojima-A-D': 0.37,\n",
      "                                                               'None_lievin-01_kojima-A-D': 0.45,\n",
      "                                                               'None_lievin-02_kojima-A-D': 0.41,\n",
      "                                                               'None_lievin-03_kojima-A-D': 0.4,\n",
      "                                                               'None_lievin-10_kojima-A-D': 0.42},\n",
      "                                          'text-davinci-003': {'None_None_kojima-A-D': 0.38,\n",
      "                                                               'None_kojima-01_kojima-A-D': 0.34}}}},\n",
      " 'open_book_qa': {'test': {'accuracy': {'command-xlarge-nightly': {'None_None_kojima-A-D': 0.59,\n",
      "                                                                   'None_kojima-01_kojima-A-D': 0.38},\n",
      "                                        'flan-T5-xxl': {'None_None_kojima-A-D': 0.82,\n",
      "                                                        'None_kojima-01_kojima-A-D': 0.79},\n",
      "                                        'text-davinci-003': {'None_None_kojima-A-D': 0.69,\n",
      "                                                             'None_kojima-01_kojima-A-D': 0.67}}}},\n",
      " 'strategy_qa': {'train': {'accuracy': {'command-xlarge-nightly': {'None_None_kojima-yes-no': 0.52,\n",
      "                                                                   'None_kojima-01_kojima-yes-no': 0.59},\n",
      "                                        'flan-T5-xxl': {'None_None_kojima-yes-no': 0.61,\n",
      "                                                        'None_kojima-01_kojima-yes-no': 0.69},\n",
      "                                        'text-davinci-002': {'None_None_None': 0.59,\n",
      "                                                             'None_kojima-01_kojima-yes-no': 0.540816},\n",
      "                                        'text-davinci-003': {'None_None_kojima-yes-no': 0.53,\n",
      "                                                             'None_kojima-01_kojima-yes-no': 0.54}}}},\n",
      " 'worldtree': {'test': {'accuracy': {'command-xlarge-nightly': {'None_None_kojima-A-D': 0.62,\n",
      "                                                                'None_kojima-01_kojima-A-D': 0.58},\n",
      "                                     'flan-T5-xxl': {'None_None_kojima-A-D': 0.851485,\n",
      "                                                     'None_kojima-01_kojima-A-D': 0.8},\n",
      "                                     'text-davinci-003': {'None_None_kojima-A-D': 0.89,\n",
      "                                                          'None_kojima-01_kojima-A-D': 0.88}}}}}\n"
     ]
    }
   ],
   "source": [
    "compare_evaluation(coll)"
   ]
  },
  {
   "cell_type": "code",
   "execution_count": 16,
   "metadata": {},
   "outputs": [
    {
     "name": "stdout",
     "output_type": "stream",
     "text": [
      "Evaluating commonsense_qa...\n"
     ]
    },
    {
     "data": {
      "application/vnd.jupyter.widget-view+json": {
       "model_id": "b95eb24dbb7c4dabab0e91eb50913518",
       "version_major": 2,
       "version_minor": 0
      },
      "text/plain": [
       "  0%|          | 0/100 [00:00<?, ?ex/s]"
      ]
     },
     "metadata": {},
     "output_type": "display_data"
    },
    {
     "name": "stdout",
     "output_type": "stream",
     "text": [
      "Evaluating med_qa...\n"
     ]
    },
    {
     "data": {
      "application/vnd.jupyter.widget-view+json": {
       "model_id": "c0d41f12264a4ad9900dac4541c52b98",
       "version_major": 2,
       "version_minor": 0
      },
      "text/plain": [
       "  0%|          | 0/100 [00:00<?, ?ex/s]"
      ]
     },
     "metadata": {},
     "output_type": "display_data"
    },
    {
     "name": "stdout",
     "output_type": "stream",
     "text": [
      "Evaluating medmc_qa...\n"
     ]
    },
    {
     "data": {
      "application/vnd.jupyter.widget-view+json": {
       "model_id": "5281896bb6214723b8c2d9ec4f25ab87",
       "version_major": 2,
       "version_minor": 0
      },
      "text/plain": [
       "  0%|          | 0/100 [00:00<?, ?ex/s]"
      ]
     },
     "metadata": {},
     "output_type": "display_data"
    },
    {
     "name": "stdout",
     "output_type": "stream",
     "text": [
      "Evaluating open_book_qa...\n"
     ]
    },
    {
     "data": {
      "application/vnd.jupyter.widget-view+json": {
       "model_id": "bfb15252fb664c519952d942dee319bd",
       "version_major": 2,
       "version_minor": 0
      },
      "text/plain": [
       "  0%|          | 0/100 [00:00<?, ?ex/s]"
      ]
     },
     "metadata": {},
     "output_type": "display_data"
    },
    {
     "name": "stdout",
     "output_type": "stream",
     "text": [
      "Evaluating strategy_qa...\n"
     ]
    },
    {
     "data": {
      "application/vnd.jupyter.widget-view+json": {
       "model_id": "4ea9d85ffca54cea99e5e97e9710148c",
       "version_major": 2,
       "version_minor": 0
      },
      "text/plain": [
       "  0%|          | 0/100 [00:00<?, ?ex/s]"
      ]
     },
     "metadata": {},
     "output_type": "display_data"
    },
    {
     "name": "stdout",
     "output_type": "stream",
     "text": [
      "Evaluating worldtree...\n"
     ]
    },
    {
     "data": {
      "application/vnd.jupyter.widget-view+json": {
       "model_id": "833c3631aa5c416cb84c7aaf5c4e6aee",
       "version_major": 2,
       "version_minor": 0
      },
      "text/plain": [
       "  0%|          | 0/100 [00:00<?, ?ex/s]"
      ]
     },
     "metadata": {},
     "output_type": "display_data"
    },
    {
     "data": {
      "text/html": [
       "<div>\n",
       "<style scoped>\n",
       "    .dataframe tbody tr th:only-of-type {\n",
       "        vertical-align: middle;\n",
       "    }\n",
       "\n",
       "    .dataframe tbody tr th {\n",
       "        vertical-align: top;\n",
       "    }\n",
       "\n",
       "    .dataframe thead tr th {\n",
       "        text-align: left;\n",
       "    }\n",
       "</style>\n",
       "<table border=\"1\" class=\"dataframe\">\n",
       "  <thead>\n",
       "    <tr>\n",
       "      <th></th>\n",
       "      <th colspan=\"4\" halign=\"left\">None</th>\n",
       "      <th colspan=\"4\" halign=\"left\">kojima-01</th>\n",
       "      <th>lievin-01</th>\n",
       "      <th>lievin-02</th>\n",
       "      <th>lievin-03</th>\n",
       "      <th>lievin-10</th>\n",
       "    </tr>\n",
       "    <tr>\n",
       "      <th></th>\n",
       "      <th>command-xlarge-nightly</th>\n",
       "      <th>flan-T5-xxl</th>\n",
       "      <th>text-davinci-002</th>\n",
       "      <th>text-davinci-003</th>\n",
       "      <th>command-xlarge-nightly</th>\n",
       "      <th>flan-T5-xxl</th>\n",
       "      <th>text-davinci-002</th>\n",
       "      <th>text-davinci-003</th>\n",
       "      <th>text-davinci-002</th>\n",
       "      <th>text-davinci-002</th>\n",
       "      <th>text-davinci-002</th>\n",
       "      <th>text-davinci-002</th>\n",
       "    </tr>\n",
       "  </thead>\n",
       "  <tbody>\n",
       "    <tr>\n",
       "      <th>commonsense_qa</th>\n",
       "      <td>0.53</td>\n",
       "      <td>0.87</td>\n",
       "      <td>0.69</td>\n",
       "      <td>0.72</td>\n",
       "      <td>0.53</td>\n",
       "      <td>0.81</td>\n",
       "      <td>0.7</td>\n",
       "      <td>0.66</td>\n",
       "      <td>NaN</td>\n",
       "      <td>NaN</td>\n",
       "      <td>NaN</td>\n",
       "      <td>NaN</td>\n",
       "    </tr>\n",
       "    <tr>\n",
       "      <th>med_qa</th>\n",
       "      <td>0.23</td>\n",
       "      <td>0.32</td>\n",
       "      <td>NaN</td>\n",
       "      <td>0.39</td>\n",
       "      <td>0.31</td>\n",
       "      <td>0.34</td>\n",
       "      <td>0.46</td>\n",
       "      <td>0.42</td>\n",
       "      <td>0.44</td>\n",
       "      <td>0.5</td>\n",
       "      <td>0.49</td>\n",
       "      <td>0.45</td>\n",
       "    </tr>\n",
       "    <tr>\n",
       "      <th>medmc_qa</th>\n",
       "      <td>0.25</td>\n",
       "      <td>0.34</td>\n",
       "      <td>NaN</td>\n",
       "      <td>0.39</td>\n",
       "      <td>0.23</td>\n",
       "      <td>0.35</td>\n",
       "      <td>0.37</td>\n",
       "      <td>0.32</td>\n",
       "      <td>0.45</td>\n",
       "      <td>0.41</td>\n",
       "      <td>0.4</td>\n",
       "      <td>0.42</td>\n",
       "    </tr>\n",
       "    <tr>\n",
       "      <th>open_book_qa</th>\n",
       "      <td>0.6</td>\n",
       "      <td>0.82</td>\n",
       "      <td>NaN</td>\n",
       "      <td>0.69</td>\n",
       "      <td>0.38</td>\n",
       "      <td>0.79</td>\n",
       "      <td>NaN</td>\n",
       "      <td>0.68</td>\n",
       "      <td>NaN</td>\n",
       "      <td>NaN</td>\n",
       "      <td>NaN</td>\n",
       "      <td>NaN</td>\n",
       "    </tr>\n",
       "    <tr>\n",
       "      <th>strategy_qa</th>\n",
       "      <td>0.52</td>\n",
       "      <td>0.61</td>\n",
       "      <td>0.59</td>\n",
       "      <td>0.53</td>\n",
       "      <td>0.59</td>\n",
       "      <td>0.69</td>\n",
       "      <td>0.54</td>\n",
       "      <td>0.48</td>\n",
       "      <td>NaN</td>\n",
       "      <td>NaN</td>\n",
       "      <td>NaN</td>\n",
       "      <td>NaN</td>\n",
       "    </tr>\n",
       "    <tr>\n",
       "      <th>worldtree</th>\n",
       "      <td>0.59</td>\n",
       "      <td>0.85</td>\n",
       "      <td>NaN</td>\n",
       "      <td>0.85</td>\n",
       "      <td>0.53</td>\n",
       "      <td>0.8</td>\n",
       "      <td>NaN</td>\n",
       "      <td>0.73</td>\n",
       "      <td>NaN</td>\n",
       "      <td>NaN</td>\n",
       "      <td>NaN</td>\n",
       "      <td>NaN</td>\n",
       "    </tr>\n",
       "  </tbody>\n",
       "</table>\n",
       "</div>"
      ],
      "text/plain": [
       "                                 None                               \\\n",
       "               command-xlarge-nightly flan-T5-xxl text-davinci-002   \n",
       "commonsense_qa                   0.53        0.87             0.69   \n",
       "med_qa                           0.23        0.32              NaN   \n",
       "medmc_qa                         0.25        0.34              NaN   \n",
       "open_book_qa                      0.6        0.82              NaN   \n",
       "strategy_qa                      0.52        0.61             0.59   \n",
       "worldtree                        0.59        0.85              NaN   \n",
       "\n",
       "                                             kojima-01              \\\n",
       "               text-davinci-003 command-xlarge-nightly flan-T5-xxl   \n",
       "commonsense_qa             0.72                   0.53        0.81   \n",
       "med_qa                     0.39                   0.31        0.34   \n",
       "medmc_qa                   0.39                   0.23        0.35   \n",
       "open_book_qa               0.69                   0.38        0.79   \n",
       "strategy_qa                0.53                   0.59        0.69   \n",
       "worldtree                  0.85                   0.53         0.8   \n",
       "\n",
       "                                                        lievin-01  \\\n",
       "               text-davinci-002 text-davinci-003 text-davinci-002   \n",
       "commonsense_qa              0.7             0.66              NaN   \n",
       "med_qa                     0.46             0.42             0.44   \n",
       "medmc_qa                   0.37             0.32             0.45   \n",
       "open_book_qa                NaN             0.68              NaN   \n",
       "strategy_qa                0.54             0.48              NaN   \n",
       "worldtree                   NaN             0.73              NaN   \n",
       "\n",
       "                      lievin-02        lievin-03        lievin-10  \n",
       "               text-davinci-002 text-davinci-002 text-davinci-002  \n",
       "commonsense_qa              NaN              NaN              NaN  \n",
       "med_qa                      0.5             0.49             0.45  \n",
       "medmc_qa                   0.41              0.4             0.42  \n",
       "open_book_qa                NaN              NaN              NaN  \n",
       "strategy_qa                 NaN              NaN              NaN  \n",
       "worldtree                   NaN              NaN              NaN  "
      ]
     },
     "execution_count": 16,
     "metadata": {},
     "output_type": "execute_result"
    }
   ],
   "source": [
    "eval1 = coll.evaluate()\n",
    "evaluation_as_table(eval1)"
   ]
  },
  {
   "cell_type": "code",
   "execution_count": 22,
   "metadata": {},
   "outputs": [
    {
     "data": {
      "application/vnd.jupyter.widget-view+json": {
       "model_id": "cafbd571d81e4e90a3c090d387a7a8bf",
       "version_major": 2,
       "version_minor": 0
      },
      "text/plain": [
       "  0%|          | 0/100 [00:00<?, ?ex/s]"
      ]
     },
     "metadata": {},
     "output_type": "display_data"
    },
    {
     "data": {
      "application/vnd.jupyter.widget-view+json": {
       "model_id": "ceb6ec7d32a44027ae04099f3f01f066",
       "version_major": 2,
       "version_minor": 0
      },
      "text/plain": [
       "  0%|          | 0/100 [00:00<?, ?ex/s]"
      ]
     },
     "metadata": {},
     "output_type": "display_data"
    },
    {
     "data": {
      "application/vnd.jupyter.widget-view+json": {
       "model_id": "83203b3090aa44a99e15b342edcab337",
       "version_major": 2,
       "version_minor": 0
      },
      "text/plain": [
       "  0%|          | 0/100 [00:00<?, ?ex/s]"
      ]
     },
     "metadata": {},
     "output_type": "display_data"
    },
    {
     "data": {
      "application/vnd.jupyter.widget-view+json": {
       "model_id": "f97364b92e7445a4b9352a4a3b3bb1ee",
       "version_major": 2,
       "version_minor": 0
      },
      "text/plain": [
       "  0%|          | 0/100 [00:00<?, ?ex/s]"
      ]
     },
     "metadata": {},
     "output_type": "display_data"
    },
    {
     "data": {
      "application/vnd.jupyter.widget-view+json": {
       "model_id": "27b71d2fe8df4276b596e326643afa2a",
       "version_major": 2,
       "version_minor": 0
      },
      "text/plain": [
       "  0%|          | 0/100 [00:00<?, ?ex/s]"
      ]
     },
     "metadata": {},
     "output_type": "display_data"
    },
    {
     "data": {
      "application/vnd.jupyter.widget-view+json": {
       "model_id": "0523b7ae84394412864f7e4abd7794b3",
       "version_major": 2,
       "version_minor": 0
      },
      "text/plain": [
       "  0%|          | 0/100 [00:00<?, ?ex/s]"
      ]
     },
     "metadata": {},
     "output_type": "display_data"
    },
    {
     "data": {
      "text/html": [
       "<div>\n",
       "<style scoped>\n",
       "    .dataframe tbody tr th:only-of-type {\n",
       "        vertical-align: middle;\n",
       "    }\n",
       "\n",
       "    .dataframe tbody tr th {\n",
       "        vertical-align: top;\n",
       "    }\n",
       "\n",
       "    .dataframe thead tr th {\n",
       "        text-align: left;\n",
       "    }\n",
       "</style>\n",
       "<table border=\"1\" class=\"dataframe\">\n",
       "  <thead>\n",
       "    <tr>\n",
       "      <th></th>\n",
       "      <th colspan=\"4\" halign=\"left\">None</th>\n",
       "      <th colspan=\"4\" halign=\"left\">kojima-01</th>\n",
       "      <th>lievin-01</th>\n",
       "      <th>lievin-02</th>\n",
       "      <th>lievin-03</th>\n",
       "      <th>lievin-10</th>\n",
       "    </tr>\n",
       "    <tr>\n",
       "      <th></th>\n",
       "      <th>command-xlarge-nightly</th>\n",
       "      <th>flan-T5-xxl</th>\n",
       "      <th>text-davinci-002</th>\n",
       "      <th>text-davinci-003</th>\n",
       "      <th>command-xlarge-nightly</th>\n",
       "      <th>flan-T5-xxl</th>\n",
       "      <th>text-davinci-002</th>\n",
       "      <th>text-davinci-003</th>\n",
       "      <th>text-davinci-002</th>\n",
       "      <th>text-davinci-002</th>\n",
       "      <th>text-davinci-002</th>\n",
       "      <th>text-davinci-002</th>\n",
       "    </tr>\n",
       "  </thead>\n",
       "  <tbody>\n",
       "    <tr>\n",
       "      <th>commonsense_qa</th>\n",
       "      <td>0.53</td>\n",
       "      <td>0.87</td>\n",
       "      <td>0.69</td>\n",
       "      <td>0.72</td>\n",
       "      <td>0.53</td>\n",
       "      <td>0.81</td>\n",
       "      <td>0.7</td>\n",
       "      <td>0.66</td>\n",
       "      <td>NaN</td>\n",
       "      <td>NaN</td>\n",
       "      <td>NaN</td>\n",
       "      <td>NaN</td>\n",
       "    </tr>\n",
       "    <tr>\n",
       "      <th>med_qa</th>\n",
       "      <td>0.23</td>\n",
       "      <td>0.32</td>\n",
       "      <td>NaN</td>\n",
       "      <td>0.39</td>\n",
       "      <td>0.31</td>\n",
       "      <td>0.34</td>\n",
       "      <td>0.46</td>\n",
       "      <td>0.42</td>\n",
       "      <td>0.44</td>\n",
       "      <td>0.5</td>\n",
       "      <td>0.49</td>\n",
       "      <td>0.45</td>\n",
       "    </tr>\n",
       "    <tr>\n",
       "      <th>medmc_qa</th>\n",
       "      <td>0.25</td>\n",
       "      <td>0.34</td>\n",
       "      <td>NaN</td>\n",
       "      <td>0.39</td>\n",
       "      <td>0.23</td>\n",
       "      <td>0.35</td>\n",
       "      <td>0.37</td>\n",
       "      <td>0.32</td>\n",
       "      <td>0.45</td>\n",
       "      <td>0.41</td>\n",
       "      <td>0.4</td>\n",
       "      <td>0.42</td>\n",
       "    </tr>\n",
       "    <tr>\n",
       "      <th>open_book_qa</th>\n",
       "      <td>0.6</td>\n",
       "      <td>0.82</td>\n",
       "      <td>NaN</td>\n",
       "      <td>0.69</td>\n",
       "      <td>0.38</td>\n",
       "      <td>0.79</td>\n",
       "      <td>NaN</td>\n",
       "      <td>0.68</td>\n",
       "      <td>NaN</td>\n",
       "      <td>NaN</td>\n",
       "      <td>NaN</td>\n",
       "      <td>NaN</td>\n",
       "    </tr>\n",
       "    <tr>\n",
       "      <th>strategy_qa</th>\n",
       "      <td>0.52</td>\n",
       "      <td>0.61</td>\n",
       "      <td>0.59</td>\n",
       "      <td>0.53</td>\n",
       "      <td>0.59</td>\n",
       "      <td>0.69</td>\n",
       "      <td>0.54</td>\n",
       "      <td>0.48</td>\n",
       "      <td>NaN</td>\n",
       "      <td>NaN</td>\n",
       "      <td>NaN</td>\n",
       "      <td>NaN</td>\n",
       "    </tr>\n",
       "    <tr>\n",
       "      <th>worldtree</th>\n",
       "      <td>0.59</td>\n",
       "      <td>0.85</td>\n",
       "      <td>NaN</td>\n",
       "      <td>0.85</td>\n",
       "      <td>0.53</td>\n",
       "      <td>0.8</td>\n",
       "      <td>NaN</td>\n",
       "      <td>0.73</td>\n",
       "      <td>NaN</td>\n",
       "      <td>NaN</td>\n",
       "      <td>NaN</td>\n",
       "      <td>NaN</td>\n",
       "    </tr>\n",
       "  </tbody>\n",
       "</table>\n",
       "</div>"
      ],
      "text/plain": [
       "                                 None                               \\\n",
       "               command-xlarge-nightly flan-T5-xxl text-davinci-002   \n",
       "commonsense_qa                   0.53        0.87             0.69   \n",
       "med_qa                           0.23        0.32              NaN   \n",
       "medmc_qa                         0.25        0.34              NaN   \n",
       "open_book_qa                      0.6        0.82              NaN   \n",
       "strategy_qa                      0.52        0.61             0.59   \n",
       "worldtree                        0.59        0.85              NaN   \n",
       "\n",
       "                                             kojima-01              \\\n",
       "               text-davinci-003 command-xlarge-nightly flan-T5-xxl   \n",
       "commonsense_qa             0.72                   0.53        0.81   \n",
       "med_qa                     0.39                   0.31        0.34   \n",
       "medmc_qa                   0.39                   0.23        0.35   \n",
       "open_book_qa               0.69                   0.38        0.79   \n",
       "strategy_qa                0.53                   0.59        0.69   \n",
       "worldtree                  0.85                   0.53         0.8   \n",
       "\n",
       "                                                        lievin-01  \\\n",
       "               text-davinci-002 text-davinci-003 text-davinci-002   \n",
       "commonsense_qa              0.7             0.66              NaN   \n",
       "med_qa                     0.46             0.42             0.44   \n",
       "medmc_qa                   0.37             0.32             0.45   \n",
       "open_book_qa                NaN             0.68              NaN   \n",
       "strategy_qa                0.54             0.48              NaN   \n",
       "worldtree                   NaN             0.73              NaN   \n",
       "\n",
       "                      lievin-02        lievin-03        lievin-10  \n",
       "               text-davinci-002 text-davinci-002 text-davinci-002  \n",
       "commonsense_qa              NaN              NaN              NaN  \n",
       "med_qa                      0.5             0.49             0.45  \n",
       "medmc_qa                   0.41              0.4             0.42  \n",
       "open_book_qa                NaN              NaN              NaN  \n",
       "strategy_qa                 NaN              NaN              NaN  \n",
       "worldtree                   NaN              NaN              NaN  "
      ]
     },
     "execution_count": 22,
     "metadata": {},
     "output_type": "execute_result"
    }
   ],
   "source": [
    "eval1 = coll.evaluate()\n",
    "evaluation_as_table(eval1)"
   ]
  },
  {
   "cell_type": "code",
   "execution_count": 5,
   "metadata": {},
   "outputs": [
    {
     "name": "stderr",
     "output_type": "stream",
     "text": [
      "[nltk_data] Downloading package punkt to /home/kon/nltk_data...\n",
      "[nltk_data]   Package punkt is already up-to-date!\n"
     ]
    }
   ],
   "source": [
    "coll_davinci_new = Collection.from_json(\"./thoughtsource_100_openai_text-davinci-002_None_kojima-01.json\")"
   ]
  },
  {
   "cell_type": "code",
   "execution_count": 7,
   "metadata": {},
   "outputs": [],
   "source": [
    "coll_davinci_new_strategy = Collection.from_json(\"./thoughtsource_100_openai_text-davinci-002_None_kojima-01.json\")"
   ]
  },
  {
   "cell_type": "code",
   "execution_count": 9,
   "metadata": {},
   "outputs": [],
   "source": [
    "coll_davinci_new_strategy.unload_datasets([\"commonsense_qa\", \"med_qa\", \"medmc_qa\", \"open_book_qa\", \"worldtree\"])"
   ]
  },
  {
   "cell_type": "code",
   "execution_count": 11,
   "metadata": {},
   "outputs": [
    {
     "data": {
      "application/vnd.jupyter.widget-view+json": {
       "model_id": "569c13318da34d9ba7a6825d0a048ab0",
       "version_major": 2,
       "version_minor": 0
      },
      "text/plain": [
       "Creating json from Arrow format:   0%|          | 0/1 [00:00<?, ?ba/s]"
      ]
     },
     "metadata": {},
     "output_type": "display_data"
    }
   ],
   "source": [
    "coll_davinci_new_strategy.dump(\"coll_davinci_new_strategy.json\")"
   ]
  },
  {
   "cell_type": "code",
   "execution_count": 19,
   "metadata": {},
   "outputs": [
    {
     "data": {
      "application/vnd.jupyter.widget-view+json": {
       "model_id": "40f9272694824154a29d1d0352f6ebde",
       "version_major": 2,
       "version_minor": 0
      },
      "text/plain": [
       "  0%|          | 0/100 [00:00<?, ?ex/s]"
      ]
     },
     "metadata": {},
     "output_type": "display_data"
    },
    {
     "data": {
      "text/html": [
       "<div>\n",
       "<style scoped>\n",
       "    .dataframe tbody tr th:only-of-type {\n",
       "        vertical-align: middle;\n",
       "    }\n",
       "\n",
       "    .dataframe tbody tr th {\n",
       "        vertical-align: top;\n",
       "    }\n",
       "\n",
       "    .dataframe thead tr th {\n",
       "        text-align: left;\n",
       "    }\n",
       "</style>\n",
       "<table border=\"1\" class=\"dataframe\">\n",
       "  <thead>\n",
       "    <tr>\n",
       "      <th></th>\n",
       "      <th>None</th>\n",
       "      <th>kojima-01</th>\n",
       "    </tr>\n",
       "    <tr>\n",
       "      <th></th>\n",
       "      <th>text-davinci-002</th>\n",
       "      <th>text-davinci-002</th>\n",
       "    </tr>\n",
       "  </thead>\n",
       "  <tbody>\n",
       "    <tr>\n",
       "      <th>strategy_qa</th>\n",
       "      <td>0.51</td>\n",
       "      <td>0.56</td>\n",
       "    </tr>\n",
       "  </tbody>\n",
       "</table>\n",
       "</div>"
      ],
      "text/plain": [
       "                        None        kojima-01\n",
       "            text-davinci-002 text-davinci-002\n",
       "strategy_qa             0.51             0.56"
      ]
     },
     "execution_count": 19,
     "metadata": {},
     "output_type": "execute_result"
    }
   ],
   "source": [
    "eval_davinci_new_strategy = coll_davinci_new_strategy.evaluate(overwrite=True)\n",
    "evaluation_as_table(eval_davinci_new_strategy)"
   ]
  },
  {
   "cell_type": "code",
   "execution_count": 29,
   "metadata": {},
   "outputs": [],
   "source": [
    "eval_davinci_new_strategy = Collection.from_json(\"./coll_davinci_new_strategy.json\")"
   ]
  },
  {
   "cell_type": "code",
   "execution_count": 30,
   "metadata": {},
   "outputs": [
    {
     "data": {
      "application/vnd.jupyter.widget-view+json": {
       "model_id": "947336d4ab3c4176926681db6d9d0f71",
       "version_major": 2,
       "version_minor": 0
      },
      "text/plain": [
       "Creating json from Arrow format:   0%|          | 0/1 [00:00<?, ?ba/s]"
      ]
     },
     "metadata": {},
     "output_type": "display_data"
    },
    {
     "name": "stdout",
     "output_type": "stream",
     "text": [
      "Evaluating strategy_qa...\n"
     ]
    },
    {
     "data": {
      "application/vnd.jupyter.widget-view+json": {
       "model_id": "b2e38574e62a4912ba7ba65f0bc6f9ca",
       "version_major": 2,
       "version_minor": 0
      },
      "text/plain": [
       "  0%|          | 0/100 [00:00<?, ?ex/s]"
      ]
     },
     "metadata": {},
     "output_type": "display_data"
    },
    {
     "name": "stdout",
     "output_type": "stream",
     "text": [
      "{'strategy_qa': {'train': {'accuracy': {'text-davinci-002': {'None_None_kojima-yes-no': 0.36,\n",
      "                                                             'None_kojima-01_kojima-yes-no': 0.38}}}}}\n",
      "Evaluating strategy_qa...\n"
     ]
    },
    {
     "data": {
      "application/vnd.jupyter.widget-view+json": {
       "model_id": "62129eeae53c40ad9e15164d65f4a077",
       "version_major": 2,
       "version_minor": 0
      },
      "text/plain": [
       "  0%|          | 0/100 [00:00<?, ?ex/s]"
      ]
     },
     "metadata": {},
     "output_type": "display_data"
    },
    {
     "data": {
      "application/vnd.jupyter.widget-view+json": {
       "model_id": "24c41ee33d934afcabf531a4708e0e38",
       "version_major": 2,
       "version_minor": 0
      },
      "text/plain": [
       "Creating json from Arrow format:   0%|          | 0/1 [00:00<?, ?ba/s]"
      ]
     },
     "metadata": {},
     "output_type": "display_data"
    },
    {
     "name": "stdout",
     "output_type": "stream",
     "text": [
      "{'strategy_qa': {'train': {'accuracy': {'text-davinci-002': {'None_None_kojima-yes-no': 0.46,\n",
      "                                                             'None_kojima-01_kojima-yes-no': 0.53}}}}}\n"
     ]
    }
   ],
   "source": [
    "compare_evaluation(eval_davinci_new_strategy)"
   ]
  },
  {
   "cell_type": "code",
   "execution_count": 6,
   "metadata": {},
   "outputs": [
    {
     "data": {
      "application/vnd.jupyter.widget-view+json": {
       "model_id": "48b1a4aaa35442dd9719fa325d67e85f",
       "version_major": 2,
       "version_minor": 0
      },
      "text/plain": [
       "  0%|          | 0/100 [00:00<?, ?ex/s]"
      ]
     },
     "metadata": {},
     "output_type": "display_data"
    },
    {
     "data": {
      "application/vnd.jupyter.widget-view+json": {
       "model_id": "08625ea221a94ebda8d2d168ed772d40",
       "version_major": 2,
       "version_minor": 0
      },
      "text/plain": [
       "  0%|          | 0/100 [00:00<?, ?ex/s]"
      ]
     },
     "metadata": {},
     "output_type": "display_data"
    },
    {
     "data": {
      "application/vnd.jupyter.widget-view+json": {
       "model_id": "0316784e05784368bb9a38a361bffc22",
       "version_major": 2,
       "version_minor": 0
      },
      "text/plain": [
       "  0%|          | 0/100 [00:00<?, ?ex/s]"
      ]
     },
     "metadata": {},
     "output_type": "display_data"
    },
    {
     "data": {
      "application/vnd.jupyter.widget-view+json": {
       "model_id": "43ddf056709345a49e6e38ff6afe6276",
       "version_major": 2,
       "version_minor": 0
      },
      "text/plain": [
       "  0%|          | 0/100 [00:00<?, ?ex/s]"
      ]
     },
     "metadata": {},
     "output_type": "display_data"
    },
    {
     "data": {
      "application/vnd.jupyter.widget-view+json": {
       "model_id": "a4061fd786bc47bb96bef8923c4ff93c",
       "version_major": 2,
       "version_minor": 0
      },
      "text/plain": [
       "  0%|          | 0/100 [00:00<?, ?ex/s]"
      ]
     },
     "metadata": {},
     "output_type": "display_data"
    },
    {
     "data": {
      "application/vnd.jupyter.widget-view+json": {
       "model_id": "1f5029fe7ac845a385ffcd7945cac68d",
       "version_major": 2,
       "version_minor": 0
      },
      "text/plain": [
       "  0%|          | 0/100 [00:00<?, ?ex/s]"
      ]
     },
     "metadata": {},
     "output_type": "display_data"
    },
    {
     "data": {
      "text/html": [
       "<div>\n",
       "<style scoped>\n",
       "    .dataframe tbody tr th:only-of-type {\n",
       "        vertical-align: middle;\n",
       "    }\n",
       "\n",
       "    .dataframe tbody tr th {\n",
       "        vertical-align: top;\n",
       "    }\n",
       "\n",
       "    .dataframe thead tr th {\n",
       "        text-align: left;\n",
       "    }\n",
       "</style>\n",
       "<table border=\"1\" class=\"dataframe\">\n",
       "  <thead>\n",
       "    <tr>\n",
       "      <th></th>\n",
       "      <th>None</th>\n",
       "      <th>kojima-01</th>\n",
       "    </tr>\n",
       "    <tr>\n",
       "      <th></th>\n",
       "      <th>text-davinci-002</th>\n",
       "      <th>text-davinci-002</th>\n",
       "    </tr>\n",
       "  </thead>\n",
       "  <tbody>\n",
       "    <tr>\n",
       "      <th>commonsense_qa</th>\n",
       "      <td>0.76</td>\n",
       "      <td>0.62</td>\n",
       "    </tr>\n",
       "    <tr>\n",
       "      <th>med_qa</th>\n",
       "      <td>0.41</td>\n",
       "      <td>0.34</td>\n",
       "    </tr>\n",
       "    <tr>\n",
       "      <th>medmc_qa</th>\n",
       "      <td>0.34</td>\n",
       "      <td>0.34</td>\n",
       "    </tr>\n",
       "    <tr>\n",
       "      <th>open_book_qa</th>\n",
       "      <td>0.67</td>\n",
       "      <td>0.57</td>\n",
       "    </tr>\n",
       "    <tr>\n",
       "      <th>strategy_qa</th>\n",
       "      <td>0.36</td>\n",
       "      <td>0.38</td>\n",
       "    </tr>\n",
       "    <tr>\n",
       "      <th>worldtree</th>\n",
       "      <td>0.88</td>\n",
       "      <td>0.78</td>\n",
       "    </tr>\n",
       "  </tbody>\n",
       "</table>\n",
       "</div>"
      ],
      "text/plain": [
       "                           None        kojima-01\n",
       "               text-davinci-002 text-davinci-002\n",
       "commonsense_qa             0.76             0.62\n",
       "med_qa                     0.41             0.34\n",
       "medmc_qa                   0.34             0.34\n",
       "open_book_qa               0.67             0.57\n",
       "strategy_qa                0.36             0.38\n",
       "worldtree                  0.88             0.78"
      ]
     },
     "execution_count": 6,
     "metadata": {},
     "output_type": "execute_result"
    }
   ],
   "source": [
    "eval_davinci_new = coll_davinci_new.evaluate()\n",
    "evaluation_as_table(eval_davinci_new)"
   ]
  },
  {
   "cell_type": "code",
   "execution_count": 20,
   "metadata": {},
   "outputs": [
    {
     "data": {
      "application/vnd.jupyter.widget-view+json": {
       "model_id": "b5fcf5b8e7044355984701e7f5b0144f",
       "version_major": 2,
       "version_minor": 0
      },
      "text/plain": [
       "  0%|          | 0/100 [00:00<?, ?ex/s]"
      ]
     },
     "metadata": {},
     "output_type": "display_data"
    },
    {
     "data": {
      "application/vnd.jupyter.widget-view+json": {
       "model_id": "333d1042fe594171b585961b935e7cbc",
       "version_major": 2,
       "version_minor": 0
      },
      "text/plain": [
       "  0%|          | 0/100 [00:00<?, ?ex/s]"
      ]
     },
     "metadata": {},
     "output_type": "display_data"
    },
    {
     "data": {
      "application/vnd.jupyter.widget-view+json": {
       "model_id": "c4b23997bb0440bd8fc538d7b5d71cc1",
       "version_major": 2,
       "version_minor": 0
      },
      "text/plain": [
       "  0%|          | 0/100 [00:00<?, ?ex/s]"
      ]
     },
     "metadata": {},
     "output_type": "display_data"
    },
    {
     "data": {
      "application/vnd.jupyter.widget-view+json": {
       "model_id": "d9291f1dbce14c50b9459a899e158e80",
       "version_major": 2,
       "version_minor": 0
      },
      "text/plain": [
       "  0%|          | 0/100 [00:00<?, ?ex/s]"
      ]
     },
     "metadata": {},
     "output_type": "display_data"
    },
    {
     "data": {
      "application/vnd.jupyter.widget-view+json": {
       "model_id": "bd110d4a7d84498eb6807eada253473d",
       "version_major": 2,
       "version_minor": 0
      },
      "text/plain": [
       "  0%|          | 0/100 [00:00<?, ?ex/s]"
      ]
     },
     "metadata": {},
     "output_type": "display_data"
    },
    {
     "data": {
      "application/vnd.jupyter.widget-view+json": {
       "model_id": "70e5a58611e649fc95b71405afa06141",
       "version_major": 2,
       "version_minor": 0
      },
      "text/plain": [
       "  0%|          | 0/100 [00:00<?, ?ex/s]"
      ]
     },
     "metadata": {},
     "output_type": "display_data"
    },
    {
     "data": {
      "text/html": [
       "<div>\n",
       "<style scoped>\n",
       "    .dataframe tbody tr th:only-of-type {\n",
       "        vertical-align: middle;\n",
       "    }\n",
       "\n",
       "    .dataframe tbody tr th {\n",
       "        vertical-align: top;\n",
       "    }\n",
       "\n",
       "    .dataframe thead tr th {\n",
       "        text-align: left;\n",
       "    }\n",
       "</style>\n",
       "<table border=\"1\" class=\"dataframe\">\n",
       "  <thead>\n",
       "    <tr>\n",
       "      <th></th>\n",
       "      <th>None</th>\n",
       "      <th>kojima-01</th>\n",
       "    </tr>\n",
       "    <tr>\n",
       "      <th></th>\n",
       "      <th>text-davinci-002</th>\n",
       "      <th>text-davinci-002</th>\n",
       "    </tr>\n",
       "  </thead>\n",
       "  <tbody>\n",
       "    <tr>\n",
       "      <th>commonsense_qa</th>\n",
       "      <td>0.76</td>\n",
       "      <td>0.61</td>\n",
       "    </tr>\n",
       "    <tr>\n",
       "      <th>med_qa</th>\n",
       "      <td>0.41</td>\n",
       "      <td>0.34</td>\n",
       "    </tr>\n",
       "    <tr>\n",
       "      <th>medmc_qa</th>\n",
       "      <td>0.34</td>\n",
       "      <td>0.34</td>\n",
       "    </tr>\n",
       "    <tr>\n",
       "      <th>open_book_qa</th>\n",
       "      <td>0.66</td>\n",
       "      <td>0.57</td>\n",
       "    </tr>\n",
       "    <tr>\n",
       "      <th>strategy_qa</th>\n",
       "      <td>0.51</td>\n",
       "      <td>0.56</td>\n",
       "    </tr>\n",
       "    <tr>\n",
       "      <th>worldtree</th>\n",
       "      <td>0.88</td>\n",
       "      <td>0.79</td>\n",
       "    </tr>\n",
       "  </tbody>\n",
       "</table>\n",
       "</div>"
      ],
      "text/plain": [
       "                           None        kojima-01\n",
       "               text-davinci-002 text-davinci-002\n",
       "commonsense_qa             0.76             0.61\n",
       "med_qa                     0.41             0.34\n",
       "medmc_qa                   0.34             0.34\n",
       "open_book_qa               0.66             0.57\n",
       "strategy_qa                0.51             0.56\n",
       "worldtree                  0.88             0.79"
      ]
     },
     "execution_count": 20,
     "metadata": {},
     "output_type": "execute_result"
    }
   ],
   "source": [
    "eval_davinci_new = coll_davinci_new.evaluate(overwrite=True)\n",
    "evaluation_as_table(eval_davinci_new)"
   ]
  },
  {
   "cell_type": "code",
   "execution_count": null,
   "metadata": {},
   "outputs": [
    {
     "name": "stdout",
     "output_type": "stream",
     "text": [
      "Evaluating commonsense_qa...\n"
     ]
    },
    {
     "data": {
      "application/vnd.jupyter.widget-view+json": {
       "model_id": "2e1886343f254f6bade3b51631219ebc",
       "version_major": 2,
       "version_minor": 0
      },
      "text/plain": [
       "  0%|          | 0/100 [00:00<?, ?ex/s]"
      ]
     },
     "metadata": {},
     "output_type": "display_data"
    },
    {
     "name": "stderr",
     "output_type": "stream",
     "text": [
      "/home/kon/work/ThoughtSource/libs/cot/cot/evaluate.py:308: UserWarning: Your answer could not be extracted from this sequence.\n",
      "            sequence:  A, B, and E.\n",
      "            possible answers: {'A': 'lower expectations', 'B': 'encourage', 'C': 'fear', 'D': 'time test', 'E': 'tell story'}\n",
      "  warnings.warn(\n",
      "/home/kon/work/ThoughtSource/libs/cot/cot/evaluate.py:308: UserWarning: Your answer could not be extracted from this sequence.\n",
      "            sequence:  \"monkeys are not in any of the places listed\".\n",
      "            possible answers: {'A': 'zoo', 'B': 'barrel', 'C': 'research laboratory', 'D': 'captivity', 'E': 'thailand'}\n",
      "  warnings.warn(\n",
      "/home/kon/work/ThoughtSource/libs/cot/cot/evaluate.py:308: UserWarning: Your answer could not be extracted from this sequence.\n",
      "            sequence:  either B) dard or C) sky.\n",
      "            possible answers: {'A': 'books', 'B': 'dard', 'C': 'sky', 'D': 'closed room', 'E': 'television'}\n",
      "  warnings.warn(\n",
      "/home/kon/work/ThoughtSource/libs/cot/cot/evaluate.py:308: UserWarning: Your answer could not be extracted from this sequence.\n",
      "            sequence:  A, B, or C.\n",
      "            possible answers: {'A': 'table', 'B': 'meeting', 'C': 'drawer', 'D': 'toilet', 'E': 'garage'}\n",
      "  warnings.warn(\n",
      "/home/kon/work/ThoughtSource/libs/cot/cot/evaluate.py:308: UserWarning: Your answer could not be extracted from this sequence.\n",
      "            sequence:  D, front.\n",
      "            possible answers: {'A': 'anterior', 'B': 'front', 'C': 'main', 'D': 'front', 'E': 'current'}\n",
      "  warnings.warn(\n",
      "/home/kon/work/ThoughtSource/libs/cot/cot/evaluate.py:308: UserWarning: Your answer could not be extracted from this sequence.\n",
      "            sequence: So the answer is .\n",
      "            possible answers: {'A': 'symphony', 'B': 'concerto', 'C': 'choir', 'D': 'theater troupe', 'E': 'marching band'}\n",
      "  warnings.warn(\n",
      "/home/kon/work/ThoughtSource/libs/cot/cot/evaluate.py:308: UserWarning: Your answer could not be extracted from this sequence.\n",
      "            sequence: So the answer is .\n",
      "            possible answers: {'A': 'book or library', 'B': 'book or magazine', 'C': 'newspaper', 'D': 'past', 'E': 'future'}\n",
      "  warnings.warn(\n",
      "/home/kon/work/ThoughtSource/libs/cot/cot/evaluate.py:308: UserWarning: Your answer could not be extracted from this sequence.\n",
      "            sequence: So the answer is .\n",
      "            possible answers: {'A': 'mountainous area', 'B': 'wood pile', 'C': 'jungle', 'D': 'petting zoo', 'E': 'animals'}\n",
      "  warnings.warn(\n",
      "/home/kon/work/ThoughtSource/libs/cot/cot/evaluate.py:308: UserWarning: Your answer could not be extracted from this sequence.\n",
      "            sequence:  A, B, C, and E.\n",
      "            possible answers: {'A': 'london', 'B': 'apartment building', 'C': 'city', 'D': 'falling down', 'E': 'town'}\n",
      "  warnings.warn(\n",
      "/home/kon/work/ThoughtSource/libs/cot/cot/evaluate.py:308: UserWarning: Your answer could not be extracted from this sequence.\n",
      "            sequence: So the answer is .\n",
      "            possible answers: {'A': 'istanbul', 'B': 'concert', 'C': 'bedroom', 'D': 'antique shop', 'E': 'human being'}\n",
      "  warnings.warn(\n",
      "/home/kon/work/ThoughtSource/libs/cot/cot/evaluate.py:308: UserWarning: Your answer could not be extracted from this sequence.\n",
      "            sequence:  Instruments and Bowls (C and E).\n",
      "            possible answers: {'A': 'junkyard', 'B': 'ore', 'C': 'instruments', 'D': 'metal fabrication shop', 'E': 'bowls'}\n",
      "  warnings.warn(\n",
      "/home/kon/work/ThoughtSource/libs/cot/cot/evaluate.py:308: UserWarning: Your answer could not be extracted from this sequence.\n",
      "            sequence:  B) saliva and mouth.\n",
      "            possible answers: {'A': 'phlegm', 'B': 'saliva nd mouth', 'C': 'disease', 'D': 'germs', 'E': 'spittle'}\n",
      "  warnings.warn(\n",
      "/home/kon/work/ThoughtSource/libs/cot/cot/evaluate.py:308: UserWarning: Your answer could not be extracted from this sequence.\n",
      "            sequence:  A, B, C, E.\n",
      "            possible answers: {'A': 'surprise', 'B': 'fight', 'C': 'annoyance', 'D': 'might scare', 'E': 'irritated'}\n",
      "  warnings.warn(\n",
      "/home/kon/work/ThoughtSource/libs/cot/cot/evaluate.py:308: UserWarning: Your answer could not be extracted from this sequence.\n",
      "            sequence:  A) feelings of guilt and B) prison sentence.\n",
      "            possible answers: {'A': 'feelings of guilt', 'B': 'prison sentence', 'C': 'terrible', 'D': 'encouragement', 'E': 'die'}\n",
      "  warnings.warn(\n",
      "/home/kon/work/ThoughtSource/libs/cot/cot/evaluate.py:308: UserWarning: Your answer could not be extracted from this sequence.\n",
      "            sequence:  D) Mountains or E) Countryside.\n",
      "            possible answers: {'A': 'michigan', 'B': 'new york', 'C': 'new york', 'D': 'mountains', 'E': 'countryside'}\n",
      "  warnings.warn(\n",
      "/home/kon/work/ThoughtSource/libs/cot/cot/evaluate.py:308: UserWarning: Your answer could not be extracted from this sequence.\n",
      "            sequence: So the answer is .\n",
      "            possible answers: {'A': 'buy', 'B': 'learn about', 'C': 'buy', 'D': 'complex', 'E': 'interesting'}\n",
      "  warnings.warn(\n",
      "/home/kon/work/ThoughtSource/libs/cot/cot/evaluate.py:308: UserWarning: Your answer could not be extracted from this sequence.\n",
      "            sequence:  B) intoxication and E) nausea.\n",
      "            possible answers: {'A': 'have fun', 'B': 'intoxication', 'C': 'vomiting', 'D': 'drinking more alcohol', 'E': 'nausea'}\n",
      "  warnings.warn(\n",
      "/home/kon/work/ThoughtSource/libs/cot/cot/evaluate.py:308: UserWarning: Your answer could not be extracted from this sequence.\n",
      "            sequence:  A, B, and D.\n",
      "            possible answers: {'A': 'cinema', 'B': 'theatre', 'C': 'movies', 'D': 'show', 'E': 'hockey game'}\n",
      "  warnings.warn(\n",
      "/home/kon/work/ThoughtSource/libs/cot/cot/evaluate.py:308: UserWarning: Your answer could not be extracted from this sequence.\n",
      "            sequence:  A, B, C, and D. Audiences clap for cinema, theatre, movies, and shows.\n",
      "            possible answers: {'A': 'cinema', 'B': 'theatre', 'C': 'movies', 'D': 'show', 'E': 'hockey game'}\n",
      "  warnings.warn(\n",
      "/home/kon/work/ThoughtSource/libs/cot/cot/evaluate.py:308: UserWarning: Your answer could not be extracted from this sequence.\n",
      "            sequence:  A, B, D, and E.\n",
      "            possible answers: {'A': 'might win', 'B': 'perform better', 'C': 'enemies', 'D': 'winners and losers', 'E': 'lose'}\n",
      "  warnings.warn(\n"
     ]
    },
    {
     "name": "stdout",
     "output_type": "stream",
     "text": [
      "Evaluating med_qa...\n"
     ]
    },
    {
     "name": "stderr",
     "output_type": "stream",
     "text": [
      "/home/kon/work/ThoughtSource/libs/cot/cot/evaluate.py:59: UserWarning: It seems that not all examples of the dataset include an answer to be evaluated.\n",
      "                    Counter of examples:\n",
      "                    dict_items([('command-xlarge-nightly', defaultdict(<class 'int'>, {'None_None_kojima-A-E': 100, 'None_kojima-01_kojima-A-E': 100})), ('text-davinci-003', defaultdict(<class 'int'>, {'None_kojima-01_kojima-A-E': 100, 'None_None_kojima-A-E': 100})), ('text-davinci-002', defaultdict(<class 'int'>, {'None_kojima-01_kojima-A-E': 100, 'None_None_None': 99})), ('flan-T5-xxl', defaultdict(<class 'int'>, {'None_None_kojima-A-E': 100, 'None_kojima-01_kojima-A-E': 100}))])\n",
      "                    Length of dataset:\n",
      "                    100\n",
      "                    The evaluation score was only calculated based on the examples that include an answer.\n",
      "                    To turn this warning off, set warn=False in the evaluate function.\n",
      "  warnings.warn(\n"
     ]
    },
    {
     "data": {
      "application/vnd.jupyter.widget-view+json": {
       "model_id": "6aea6f6e6c8c4148b2defe08a15496ad",
       "version_major": 2,
       "version_minor": 0
      },
      "text/plain": [
       "  0%|          | 0/100 [00:00<?, ?ex/s]"
      ]
     },
     "metadata": {},
     "output_type": "display_data"
    },
    {
     "name": "stderr",
     "output_type": "stream",
     "text": [
      "/home/kon/work/ThoughtSource/libs/cot/cot/evaluate.py:308: UserWarning: Your answer could not be extracted from this sequence.\n",
      "            sequence:  C. Protein C deficiency is an inherited condition that can lead to thrombosis. It is caused by a mutation in the gene that codes for protein C, resulting in decreased levels of the protein in the blood. This can lead to an increased risk of thrombosis, as seen in this patient.\n",
      "            possible answers: {'A': 'Elevated serum homocysteine', 'B': 'Thrombin inhibitor deficiency', 'C': 'Deficiency in protein C', 'D': 'Auto-antibodies directed against phospholipids', 'E': 'Resistance to clotting factor degradation'}\n",
      "  warnings.warn(\n",
      "/home/kon/work/ThoughtSource/libs/cot/cot/evaluate.py:308: UserWarning: Your answer could not be extracted from this sequence.\n",
      "            sequence:  D. The LOD score (logarithm of the odds) is a measure of the strength of the evidence for linkage between two loci. A LOD score greater than 3 is considered strong evidence for linkage.\n",
      "            possible answers: {'A': 'LOD Score < 1', 'B': 'LOD Score < 3', 'C': 'LOD Score < 2', 'D': 'LOD Score > 3', 'E': 'LOD Score = 0'}\n",
      "  warnings.warn(\n",
      "/home/kon/work/ThoughtSource/libs/cot/cot/evaluate.py:308: UserWarning: Your answer could not be extracted from this sequence.\n",
      "            sequence:  C. C1 esterase inhibitor is a component of the innate immune system that is responsible for degrading C1, an enzyme that plays a role in the classical complement pathway. Deficiencies in C1 esterase inhibitor can lead to recurrent infections with Streptococcus pneumoniae and Neisseria meningitidis, as seen in this patient.\n",
      "            possible answers: {'A': 'Acts as an important opsonin  ', 'B': 'Plays a role in angioedema', 'C': 'Degraded by C1 esterase inhibitor', 'D': 'Creates pores in the cell membrane', 'E': 'Induces the alternative complement pathway'}\n",
      "  warnings.warn(\n",
      "/home/kon/work/ThoughtSource/libs/cot/cot/evaluate.py:308: UserWarning: Your answer could not be extracted from this sequence.\n",
      "            sequence:  A. The cells located in region A of the histology slide are most likely the cause of the patient's symptoms. These cells are likely to be part of the autonomic nervous system, which is responsible for controlling involuntary functions such as sweating and palpitations.\n",
      "            possible answers: {'A': 'A', 'B': 'B', 'C': 'C', 'D': 'D', 'E': 'E'}\n",
      "  warnings.warn(\n",
      "/home/kon/work/ThoughtSource/libs/cot/cot/evaluate.py:308: UserWarning: Your answer could not be extracted from this sequence.\n",
      "            sequence:  B. Sickle cell anemia is a disease caused by a mutation in the beta-globin gene, which results in the production of abnormal hemoglobin. This abnormal hemoglobin, HgbS, causes red blood cells to become rigid and sickle-shaped under certain conditions. The mutation that causes sickle cell anemia is recessive, meaning that a person must inherit the mutation from both parents to have the disease.\n",
      "\n",
      "Hydroxyurea is a medication that is used to treat sickle cell anemia. It works by increasing the production of fetal hemoglobin, which can help to reduce the severity of the disease. Hydroxyurea is not a cure for sickle cell anemia, but it can help to improve the quality of life for people with the disease.\n",
      "            possible answers: {'A': 'Increases oxygen carrying capacity of hemoglobin', 'B': 'Decreases oxygen carrying capacity of hemoglobin', 'C': 'Increases levels of fetal hemoglobin (HgbF)', 'D': 'Decreases levels of HgbS', 'E': 'Decreases levels of fetal hemoglobin (HgbF)'}\n",
      "  warnings.warn(\n",
      "/home/kon/work/ThoughtSource/libs/cot/cot/evaluate.py:308: UserWarning: Your answer could not be extracted from this sequence.\n",
      "            sequence:  A) Duodenal peptic ulcer or D) Gastric peptic ulcer.\n",
      "            possible answers: {'A': 'Duodenal peptic ulcer', 'B': 'Choledocholithiasis', 'C': 'Pancreatitis', 'D': 'Gastric peptic ulcer', 'E': 'Gallbladder cancer'}\n",
      "  warnings.warn(\n",
      "/home/kon/work/ThoughtSource/libs/cot/cot/evaluate.py:308: UserWarning: Your answer could not be extracted from this sequence.\n",
      "            sequence:  β-lactamase.\n",
      "            possible answers: {'A': 'Replacement of D-alanine', 'B': 'Mutation of DNA gyrase', 'C': 'Inactivation by bacterial transferase', 'D': 'Production of β-lactamase', 'E': 'Modification of surface binding proteins'}\n",
      "  warnings.warn(\n",
      "/home/kon/work/ThoughtSource/libs/cot/cot/evaluate.py:308: UserWarning: Your answer could not be extracted from this sequence.\n",
      "            sequence:  B. Ciprofloxacin is a fluoroquinolone antibiotic that works by inhibiting the enzyme DNA gyrase. Mutations in the DNA gyrase enzyme can lead to antibiotic resistance.\n",
      "            possible answers: {'A': 'Replacement of D-alanine', 'B': 'Mutation of DNA gyrase', 'C': 'Inactivation by bacterial transferase', 'D': 'Production of β-lactamase', 'E': 'Modification of surface binding proteins'}\n",
      "  warnings.warn(\n",
      "/home/kon/work/ThoughtSource/libs/cot/cot/evaluate.py:308: UserWarning: Your answer could not be extracted from this sequence.\n",
      "            sequence:  B. The most likely cause of the mass is failure of the processus vaginalis to obliterate.\n",
      "            possible answers: {'A': 'Imbalance of fluid secretion and resorption by tunica vaginalis', 'B': 'Failure of processus vaginalis to obliterate', 'C': 'Extension of abdominal contents through the inguinal canal', 'D': 'Dilation and tortuosity of veins in the pampiniform plexus', 'E': 'Primary germ cell neoplasia of the testicle'}\n",
      "  warnings.warn(\n",
      "/home/kon/work/ThoughtSource/libs/cot/cot/evaluate.py:331: UserWarning: Found more than one possible answer to compute the evaluation score. By default returning the first found answer.\n",
      "                                 In the answer sentence 'D) Ceftriaxone and vancomycin.' these possible answers were found: '('D', 'Ceftriaxone and vancomycin')'\n",
      "                                 If you want to return a specific answer, please define a regex pattern with only one group.\n",
      "                \n",
      "  warnings.warn(\n",
      "/home/kon/work/ThoughtSource/libs/cot/cot/evaluate.py:308: UserWarning: Your answer could not be extracted from this sequence.\n",
      "            sequence:  A, B, C, D, and E.\n",
      "            possible answers: {'A': 'Decreased libido', 'B': 'Hypotension', 'C': 'Urinary retention', 'D': 'Tachycardia', 'E': 'QTc prolongation'}\n",
      "  warnings.warn(\n",
      "/home/kon/work/ThoughtSource/libs/cot/cot/evaluate.py:308: UserWarning: Your answer could not be extracted from this sequence.\n",
      "            sequence:  E. Factitious disorder imposed on another is a mental disorder in which a person deliberately produces or feigns physical or psychological symptoms in another person, such as a child. The symptoms in this case are consistent with this diagnosis.\n",
      "            possible answers: {'A': 'Malingering', 'B': 'Glucagonoma', 'C': 'Primary adrenal insufficiency', 'D': 'Conversion disorder', 'E': 'Factitious disorder imposed on another\\n\"'}\n",
      "  warnings.warn(\n",
      "/home/kon/work/ThoughtSource/libs/cot/cot/evaluate.py:308: UserWarning: Your answer could not be extracted from this sequence.\n",
      "            sequence: \n",
      "            possible answers: {'A': 'Alanine aminotransferase', 'B': 'Alkaline phosphatase', 'C': 'Creatine kinase (CK-MB)', 'D': 'Lactate dehydrogenase', 'E': 'Troponin T'}\n",
      "  warnings.warn(\n",
      "/home/kon/work/ThoughtSource/libs/cot/cot/evaluate.py:308: UserWarning: Your answer could not be extracted from this sequence.\n",
      "            sequence:  D) Dilatation and curettage (D&C) after vacuum evacuation.\n",
      "            possible answers: {'A': 'Dilatation and evacuation (D&E)', 'B': 'Oxytocin-induced labor', 'C': 'Manual uterine aspiration', 'D': 'Dilatation and curettage (D & C) after vacuum evacuation', 'E': 'Oral mifepristone + misoprostol'}\n",
      "  warnings.warn(\n",
      "/home/kon/work/ThoughtSource/libs/cot/cot/evaluate.py:308: UserWarning: Your answer could not be extracted from this sequence.\n",
      "            sequence: \n",
      "            possible answers: {'A': 'Atropine', 'B': 'Physostigmine', 'C': 'Pralidoxime', 'D': 'Pyridostigmine', 'E': 'Neostigmine'}\n",
      "  warnings.warn(\n",
      "/home/kon/work/ThoughtSource/libs/cot/cot/evaluate.py:308: UserWarning: Your answer could not be extracted from this sequence.\n",
      "            sequence:  B) Physostigmine. Physostigmine is an anticholinergic drug that is used to treat anticholinergic toxicity, which is likely the cause of the patient's symptoms. It works by blocking the action of acetylcholine, which is responsible for the muscle spasms, blurred vision, dry mouth, and hallucinations. Atropine, pralidoxime, and pyridostigmine are all used to treat different types of poisoning, while neostigmine is used to treat myasthenia gravis.\n",
      "            possible answers: {'A': 'Atropine', 'B': 'Physostigmine', 'C': 'Pralidoxime', 'D': 'Pyridostigmine', 'E': 'Neostigmine'}\n",
      "  warnings.warn(\n",
      "/home/kon/work/ThoughtSource/libs/cot/cot/evaluate.py:308: UserWarning: Your answer could not be extracted from this sequence.\n",
      "            sequence:  E) Kayser-Fleischer rings. Kayser-Fleischer rings are a common finding in patients with Wilson's disease, which is a disorder of copper metabolism that can cause jaundice, fatigue, and itching.\n",
      "            possible answers: {'A': 'Inferior vena cava thrombosis', 'B': 'Cutaneous xanthomas', 'C': 'Butterfly-shaped vertebrae', 'D': 'Increased CA 19-9 levels', 'E': 'Kayser-Fleischer rings\\n\"'}\n",
      "  warnings.warn(\n",
      "/home/kon/work/ThoughtSource/libs/cot/cot/evaluate.py:308: UserWarning: Your answer could not be extracted from this sequence.\n",
      "            sequence:  E) Kayser-Fleischer rings.\n",
      "            possible answers: {'A': 'Inferior vena cava thrombosis', 'B': 'Cutaneous xanthomas', 'C': 'Butterfly-shaped vertebrae', 'D': 'Increased CA 19-9 levels', 'E': 'Kayser-Fleischer rings\\n\"'}\n",
      "  warnings.warn(\n",
      "/home/kon/work/ThoughtSource/libs/cot/cot/evaluate.py:308: UserWarning: Your answer could not be extracted from this sequence.\n",
      "            sequence:  E) Stress incontinence. Third-degree lacerations can cause damage to the pelvic floor muscles, which can lead to stress incontinence. Other complications associated with third-degree lacerations include urge incontinence, vesicovaginal fistula, and fecal incontinence. Small bowel obstruction is not a complication of third-degree lacerations.\n",
      "            possible answers: {'A': 'Urge incontinence', 'B': 'Vesicovaginal fistula', 'C': 'Fecal incontinence', 'D': 'Small bowel obstruction', 'E': 'Stress incontinence'}\n",
      "  warnings.warn(\n",
      "/home/kon/work/ThoughtSource/libs/cot/cot/evaluate.py:308: UserWarning: Your answer could not be extracted from this sequence.\n",
      "            sequence:  E) Naloxone. Naloxone is an opioid antagonist used to reverse the effects of opioid overdose. It is the most appropriate pharmacotherapy for this patient's symptoms, which are consistent with opioid intoxication.\n",
      "            possible answers: {'A': 'Lorazepam', 'B': 'Naltrexone', 'C': 'Methadone', 'D': 'Morphine', 'E': 'Naloxone\\n\"'}\n",
      "  warnings.warn(\n",
      "/home/kon/work/ThoughtSource/libs/cot/cot/evaluate.py:308: UserWarning: Your answer could not be extracted from this sequence.\n",
      "            sequence: \n",
      "            possible answers: {'A': 'Bipolar I disorder', 'B': 'Bipolar II disorder', 'C': 'Cyclothymic disorder', 'D': 'Persistent depressive disorder', 'E': 'Schizoaffective disorder'}\n",
      "  warnings.warn(\n",
      "/home/kon/work/ThoughtSource/libs/cot/cot/evaluate.py:308: UserWarning: Your answer could not be extracted from this sequence.\n",
      "            sequence: \n",
      "            possible answers: {'A': 'Pulmonary hypertension', 'B': 'Lower extremity gangrene', 'C': 'Palpable purpura', 'D': 'Posterior uveitis', 'E': 'Thoracic aortic aneurysm'}\n",
      "  warnings.warn(\n",
      "/home/kon/work/ThoughtSource/libs/cot/cot/evaluate.py:308: UserWarning: Your answer could not be extracted from this sequence.\n",
      "            sequence: \n",
      "            possible answers: {'A': \"Administer a blood transfusion to save the patient's life\", 'B': 'Call the ethics board of the hospital to discuss the issue', 'C': \"Respect the patient's written instructions and do not adminster a blood transfusion\", 'D': 'Convince the wife to administer a blood transfusion to her husband', 'E': 'Refuse to treat the patient as he will die without a blood transfusion'}\n",
      "  warnings.warn(\n",
      "/home/kon/work/ThoughtSource/libs/cot/cot/evaluate.py:308: UserWarning: Your answer could not be extracted from this sequence.\n",
      "            sequence:  B. This patient is likely suffering from diphtheria, which is caused by the Gram-positive bacterium Corynebacterium diphtheriae. This bacterium produces an exotoxin that acts via ADP ribosylation.\n",
      "            possible answers: {'A': 'Yeast with pseudohyphae', 'B': 'Gram-positive bacteria producing exotoxin that acts via ADP ribosylation', 'C': 'Gram-positive cocci with hyaluronic acid capsule', 'D': 'Gram-negative encapsulated bacteria producing IgA protease', 'E': 'Gram-negative bacteria producing exotoxin that inactivates elongation factor 2'}\n",
      "  warnings.warn(\n",
      "/home/kon/work/ThoughtSource/libs/cot/cot/evaluate.py:308: UserWarning: Your answer could not be extracted from this sequence.\n",
      "            sequence:  C, Non-anion gap metabolic acidosis.\n",
      "            possible answers: {'A': 'Metabolic alkalosis', 'B': 'Anion gap metabolic acidosis', 'C': 'Non-anion gap metabolic acidosis', 'D': 'Respiratory acidosis', 'E': 'Respiratory alkalosis'}\n",
      "  warnings.warn(\n",
      "/home/kon/work/ThoughtSource/libs/cot/cot/evaluate.py:308: UserWarning: Your answer could not be extracted from this sequence.\n",
      "            sequence:  C. Non-anion gap metabolic acidosis is a common finding in patients with calcium oxalate crystal deposition in the kidneys, which is likely the cause of the patient's symptoms.\n",
      "            possible answers: {'A': 'Metabolic alkalosis', 'B': 'Anion gap metabolic acidosis', 'C': 'Non-anion gap metabolic acidosis', 'D': 'Respiratory acidosis', 'E': 'Respiratory alkalosis'}\n",
      "  warnings.warn(\n",
      "/home/kon/work/ThoughtSource/libs/cot/cot/evaluate.py:308: UserWarning: Your answer could not be extracted from this sequence.\n",
      "            sequence:  B or C.\n",
      "            possible answers: {'A': 'Metabolic alkalosis', 'B': 'Anion gap metabolic acidosis', 'C': 'Non-anion gap metabolic acidosis', 'D': 'Respiratory acidosis', 'E': 'Respiratory alkalosis'}\n",
      "  warnings.warn(\n",
      "/home/kon/work/ThoughtSource/libs/cot/cot/evaluate.py:308: UserWarning: Your answer could not be extracted from this sequence.\n",
      "            sequence: \n",
      "            possible answers: {'A': 'Ixodes scapularis', 'B': 'Tsetse fly', 'C': 'Culicidae', 'D': 'Dermacentor variabilis', 'E': 'Anopheles'}\n",
      "  warnings.warn(\n",
      "/home/kon/work/ThoughtSource/libs/cot/cot/evaluate.py:308: UserWarning: Your answer could not be extracted from this sequence.\n",
      "            sequence:  either B or D.\n",
      "            possible answers: {'A': 'Metoprolol', 'B': 'Verapamil', 'C': 'Nifedipine', 'D': 'Hydrochlorthiazide', 'E': 'Spironolactone'}\n",
      "  warnings.warn(\n"
     ]
    },
    {
     "name": "stdout",
     "output_type": "stream",
     "text": [
      "Evaluating medmc_qa...\n"
     ]
    },
    {
     "name": "stderr",
     "output_type": "stream",
     "text": [
      "/home/kon/work/ThoughtSource/libs/cot/cot/evaluate.py:59: UserWarning: It seems that not all examples of the dataset include an answer to be evaluated.\n",
      "                    Counter of examples:\n",
      "                    dict_items([('command-xlarge-nightly', defaultdict(<class 'int'>, {'None_kojima-01_kojima-A-E': 100, 'None_None_kojima-A-E': 100})), ('text-davinci-003', defaultdict(<class 'int'>, {'None_None_kojima-A-E': 100, 'None_kojima-01_kojima-A-E': 100})), ('text-davinci-002', defaultdict(<class 'int'>, {'None_lievin-01_kojima-A-D': 100, 'None_lievin-03_kojima-A-D': 100, 'None_kojima-01_kojima-A-D': 100, 'None_lievin-02_kojima-A-D': 100, 'None_lievin-10_kojima-A-D': 100})), ('flan-T5-xxl', defaultdict(<class 'int'>, {'None_None_kojima-A-E': 100, 'None_kojima-01_kojima-A-E': 100}))])\n",
      "                    Length of dataset:\n",
      "                    100\n",
      "                    The evaluation score was only calculated based on the examples that include an answer.\n",
      "                    To turn this warning off, set warn=False in the evaluate function.\n",
      "  warnings.warn(\n"
     ]
    },
    {
     "data": {
      "application/vnd.jupyter.widget-view+json": {
       "model_id": "be9837a8afe84510a7c8dc70d2aa3b29",
       "version_major": 2,
       "version_minor": 0
      },
      "text/plain": [
       "  0%|          | 0/100 [00:00<?, ?ex/s]"
      ]
     },
     "metadata": {},
     "output_type": "display_data"
    },
    {
     "name": "stderr",
     "output_type": "stream",
     "text": [
      "/home/kon/work/ThoughtSource/libs/cot/cot/evaluate.py:308: UserWarning: Your answer could not be extracted from this sequence.\n",
      "            sequence:  none.\n",
      "            possible answers: {'A': 'Immunoglobulin receptors', 'B': 'Interleukins', 'C': 'Growth factors', 'D': 'Odorants'}\n",
      "  warnings.warn(\n",
      "/home/kon/work/ThoughtSource/libs/cot/cot/evaluate.py:308: UserWarning: Your answer could not be extracted from this sequence.\n",
      "            sequence: \n",
      "            possible answers: {'A': 'Immunoglobulin receptors', 'B': 'Interleukins', 'C': 'Growth factors', 'D': 'Odorants'}\n",
      "  warnings.warn(\n",
      "/home/kon/work/ThoughtSource/libs/cot/cot/evaluate.py:331: UserWarning: Found more than one possible answer to compute the evaluation score. By default returning the first found answer.\n",
      "                                 In the answer sentence 'D) Quiet wakefulness.' these possible answers were found: '('D', 'Quiet wakefulness')'\n",
      "                                 If you want to return a specific answer, please define a regex pattern with only one group.\n",
      "                \n",
      "  warnings.warn(\n",
      "/home/kon/work/ThoughtSource/libs/cot/cot/evaluate.py:308: UserWarning: Your answer could not be extracted from this sequence.\n",
      "            sequence:  EEG.\n",
      "            possible answers: {'A': 'NREM sleep', 'B': 'REM sleep', 'C': 'Wakefulness', 'D': 'Quiet wakefulness'}\n",
      "  warnings.warn(\n",
      "/home/kon/work/ThoughtSource/libs/cot/cot/evaluate.py:308: UserWarning: Your answer could not be extracted from this sequence.\n",
      "            sequence:  B) PCR for virus.\n",
      "            possible answers: {'A': 'Indirect immunofluorescence', 'B': '-PCR for virus', 'C': 'Histopathological examination for Negri bodies', 'D': 'Antibodies against Rabies virus'}\n",
      "  warnings.warn(\n",
      "/home/kon/work/ThoughtSource/libs/cot/cot/evaluate.py:308: UserWarning: Your answer could not be extracted from this sequence.\n",
      "            sequence:  either A) or B).\n",
      "            possible answers: {'A': 'Rotor syndrome', 'B': 'Gilbert syndrome', 'C': 'Glucuronyl transferase deficiency', 'D': 'Primary biliary cirrhosis'}\n",
      "  warnings.warn(\n",
      "/home/kon/work/ThoughtSource/libs/cot/cot/evaluate.py:308: UserWarning: Your answer could not be extracted from this sequence.\n",
      "            sequence:  A, C, D.\n",
      "            possible answers: {'A': 'CVP', 'B': 'Urine output', 'C': 'Blood pressure', 'D': 'Saturation of Oxygen'}\n",
      "  warnings.warn(\n",
      "/home/kon/work/ThoughtSource/libs/cot/cot/evaluate.py:308: UserWarning: Your answer could not be extracted from this sequence.\n",
      "            sequence: \n",
      "            possible answers: {'A': 'CVP', 'B': 'Urine output', 'C': 'Blood pressure', 'D': 'Saturation of Oxygen'}\n",
      "  warnings.warn(\n",
      "/home/kon/work/ThoughtSource/libs/cot/cot/evaluate.py:308: UserWarning: Your answer could not be extracted from this sequence.\n",
      "            sequence:  none of the above.\n",
      "            possible answers: {'A': 'Itching', 'B': 'Urinary retention', 'C': 'Increase vomiting', 'D': 'Overstimulation of respiratory centre'}\n",
      "  warnings.warn(\n",
      "/home/kon/work/ThoughtSource/libs/cot/cot/evaluate.py:308: UserWarning: Your answer could not be extracted from this sequence.\n",
      "            sequence:  A) Hydrological and B) Meterological.\n",
      "            possible answers: {'A': 'Hydrological', 'B': 'Meterological', 'C': 'Geological', 'D': 'Fires'}\n",
      "  warnings.warn(\n",
      "/home/kon/work/ThoughtSource/libs/cot/cot/evaluate.py:308: UserWarning: Your answer could not be extracted from this sequence.\n",
      "            sequence: \n",
      "            possible answers: {'A': 'Ocular myasthenia gravis', 'B': 'Generalized myasthenia gravis', 'C': 'As anti-ACHR is negative you will consider an alternative diagnosis', 'D': 'Chronic progressive external ophthalmoplegia (CPEO)'}\n",
      "  warnings.warn(\n",
      "/home/kon/work/ThoughtSource/libs/cot/cot/evaluate.py:308: UserWarning: Your answer could not be extracted from this sequence.\n",
      "            sequence:  C. Aschoff nodules are a feature of rheumatic fever, not infective endocarditis.\n",
      "            possible answers: {'A': 'Roth spot.', 'B': \"Osler's nodes.\", 'C': 'Aschoff nodules.', 'D': 'Positive blood culture.'}\n",
      "  warnings.warn(\n",
      "/home/kon/work/ThoughtSource/libs/cot/cot/evaluate.py:308: UserWarning: Your answer could not be extracted from this sequence.\n",
      "            sequence:  A, B, and C.\n",
      "            possible answers: {'A': 'Blood glucose', 'B': 'Serum protein', 'C': 'Serum bilirubin', 'D': 'Oxygen saturation'}\n",
      "  warnings.warn(\n",
      "/home/kon/work/ThoughtSource/libs/cot/cot/evaluate.py:308: UserWarning: Your answer could not be extracted from this sequence.\n",
      "            sequence:  B, C, and D.\n",
      "            possible answers: {'A': 'Vocal Abuse', 'B': 'Laryngopharyngeal Reflux', 'C': 'Tuberculosis', 'D': 'Corticosteroid usage'}\n",
      "  warnings.warn(\n",
      "/home/kon/work/ThoughtSource/libs/cot/cot/evaluate.py:308: UserWarning: Your answer could not be extracted from this sequence.\n",
      "            sequence:  B. The patient's serology profile indicates that they have recovered from a chronic hepatitis infection, as indicated by the non-reactive HbsAg and HbeAg, and the reactive IgG Anti-HbC. The undetectable HBV DNA indicates that the virus is no longer present in the patient's body.\n",
      "            possible answers: {'A': 'Chronic hepatitis inactive state', 'B': 'Chronic hepatitis recovery state', 'C': 'Pre-core mutant infection', 'D': 'Window period'}\n",
      "  warnings.warn(\n",
      "/home/kon/work/ThoughtSource/libs/cot/cot/evaluate.py:308: UserWarning: Your answer could not be extracted from this sequence.\n",
      "            sequence:  B) Affinity chromatography or C) Ion exchange chromatography.\n",
      "            possible answers: {'A': 'lsoelectric focusing', 'B': 'Affinity chromatography', 'C': 'Ion exchange chromatography', 'D': 'Electrophoresis'}\n",
      "  warnings.warn(\n",
      "/home/kon/work/ThoughtSource/libs/cot/cot/evaluate.py:331: UserWarning: Found more than one possible answer to compute the evaluation score. By default returning the first found answer.\n",
      "                                 In the answer sentence 'C) IIA.' these possible answers were found: '('C', 'IIA')'\n",
      "                                 If you want to return a specific answer, please define a regex pattern with only one group.\n",
      "                \n",
      "  warnings.warn(\n",
      "/home/kon/work/ThoughtSource/libs/cot/cot/evaluate.py:308: UserWarning: Your answer could not be extracted from this sequence.\n",
      "            sequence:  10.\n",
      "            possible answers: {'A': 'Safety', 'B': 'Efficacy', 'C': 'Dose', 'D': 'Pharmacokinetics'}\n",
      "  warnings.warn(\n",
      "/home/kon/work/ThoughtSource/libs/cot/cot/evaluate.py:308: UserWarning: Your answer could not be extracted from this sequence.\n",
      "            sequence:  B and D.\n",
      "            possible answers: {'A': 'Female sex', 'B': 'Leukocyte count < 50,000', 'C': 'Age greater than 1 year', 'D': 'Hypodiploidy'}\n",
      "  warnings.warn(\n",
      "/home/kon/work/ThoughtSource/libs/cot/cot/evaluate.py:308: UserWarning: Your answer could not be extracted from this sequence.\n",
      "            sequence:  A and B.\n",
      "            possible answers: {'A': 'Female sex', 'B': 'Leukocyte count < 50,000', 'C': 'Age greater than 1 year', 'D': 'Hypodiploidy'}\n",
      "  warnings.warn(\n",
      "/home/kon/work/ThoughtSource/libs/cot/cot/evaluate.py:308: UserWarning: Your answer could not be extracted from this sequence.\n",
      "            sequence:  C) Hydroxyproline.\n",
      "            possible answers: {'A': 'Glycine', 'B': 'Tyrosine', 'C': 'Hydroxyprolinc', 'D': 'Alanine'}\n",
      "  warnings.warn(\n",
      "/home/kon/work/ThoughtSource/libs/cot/cot/evaluate.py:308: UserWarning: Your answer could not be extracted from this sequence.\n",
      "            sequence:  A, C, and D.\n",
      "            possible answers: {'A': 'Cords of billroth', 'B': \"Hassall's corpuscles\", 'C': 'Lymphatic nodules', 'D': 'White pulp'}\n",
      "  warnings.warn(\n",
      "/home/kon/work/ThoughtSource/libs/cot/cot/evaluate.py:308: UserWarning: Your answer could not be extracted from this sequence.\n",
      "            sequence:  9) It is the time when a child can use language, but cannot yet use logical thought.\n",
      "            possible answers: {'A': 'Birth to 18 months', 'B': '12 years onwards.', 'C': '2-6 years.', 'D': '7-12 years.'}\n",
      "  warnings.warn(\n",
      "/home/kon/work/ThoughtSource/libs/cot/cot/evaluate.py:308: UserWarning: Your answer could not be extracted from this sequence.\n",
      "            sequence:  A and D.\n",
      "            possible answers: {'A': 'EGFR', 'B': 'CD23', 'C': 'IL6', 'D': 'IL2RG'}\n",
      "  warnings.warn(\n",
      "/home/kon/work/ThoughtSource/libs/cot/cot/evaluate.py:308: UserWarning: Your answer could not be extracted from this sequence.\n",
      "            sequence:  B. The anteromedial pa of the anterior cruciate ligament is the most commonly damaged structure in cases of knee instability.\n",
      "            possible answers: {'A': 'Posterolatilal pa of anterior cruciate ligament', 'B': 'Anteromedial pa of anterior cruciate ligament', 'C': 'Posterior cruciate ligament', 'D': 'Anterior hom of medial meniscus'}\n",
      "  warnings.warn(\n",
      "/home/kon/work/ThoughtSource/libs/cot/cot/evaluate.py:308: UserWarning: Your answer could not be extracted from this sequence.\n",
      "            sequence:  1.\n",
      "            possible answers: {'A': '0.1 L/cm', 'B': '0.3 L/cm', 'C': '0.2 L/cm', 'D': '0.4 L cm'}\n",
      "  warnings.warn(\n",
      "/home/kon/work/ThoughtSource/libs/cot/cot/evaluate.py:308: UserWarning: Your answer could not be extracted from this sequence.\n",
      "            sequence:  none of the above.\n",
      "            possible answers: {'A': 'Enterobius vermicularis', 'B': 'Hymenolepis nana', 'C': 'Taenia solium', 'D': 'Ascaris lumbricoides'}\n",
      "  warnings.warn(\n",
      "/home/kon/work/ThoughtSource/libs/cot/cot/evaluate.py:308: UserWarning: Your answer could not be extracted from this sequence.\n",
      "            sequence:  B. Macrophages are a type of antigen-presenting cell, but M-cells, Langerhans cells, and thymocytes are not.\n",
      "            possible answers: {'A': 'M-cells', 'B': 'Macrophages', 'C': 'Langerhans cells', 'D': 'Thymocytes'}\n",
      "  warnings.warn(\n",
      "/home/kon/work/ThoughtSource/libs/cot/cot/evaluate.py:308: UserWarning: Your answer could not be extracted from this sequence.\n",
      "            sequence:  C) Internal carotid artery.\n",
      "            possible answers: {'A': 'Maxillary aery', 'B': 'Anterior ethmoidal aery', 'C': 'Internal carotid aery', 'D': 'External carotid aery'}\n",
      "  warnings.warn(\n",
      "/home/kon/work/ThoughtSource/libs/cot/cot/evaluate.py:308: UserWarning: Your answer could not be extracted from this sequence.\n",
      "            sequence:  case-control study design.\n",
      "            possible answers: {'A': 'Case control', 'B': 'Prospective coho', 'C': 'Longitudinal study', 'D': 'Ambispective'}\n",
      "  warnings.warn(\n"
     ]
    },
    {
     "name": "stdout",
     "output_type": "stream",
     "text": [
      "Evaluating open_book_qa...\n"
     ]
    },
    {
     "name": "stderr",
     "output_type": "stream",
     "text": [
      "/home/kon/work/ThoughtSource/libs/cot/cot/evaluate.py:59: UserWarning: It seems that not all examples of the dataset include an answer to be evaluated.\n",
      "                    Counter of examples:\n",
      "                    dict_items([('text-davinci-003', defaultdict(<class 'int'>, {'None_None_kojima-A-D': 100, 'None_kojima-01_kojima-A-D': 100})), ('command-xlarge-nightly', defaultdict(<class 'int'>, {'None_None_kojima-A-D': 100, 'None_kojima-01_kojima-A-D': 100})), ('text-davinci-002', defaultdict(<class 'int'>, {'None_kojima-01_kojima-A-D': 100, 'None_lievin-10_kojima-A-D': 100, 'None_lievin-01_kojima-A-D': 100, 'None_lievin-03_kojima-A-D': 100, 'None_lievin-02_kojima-A-D': 100})), ('flan-T5-xxl', defaultdict(<class 'int'>, {'None_None_kojima-A-D': 100, 'None_kojima-01_kojima-A-D': 100}))])\n",
      "                    Length of dataset:\n",
      "                    100\n",
      "                    The evaluation score was only calculated based on the examples that include an answer.\n",
      "                    To turn this warning off, set warn=False in the evaluate function.\n",
      "  warnings.warn(\n"
     ]
    },
    {
     "data": {
      "application/vnd.jupyter.widget-view+json": {
       "model_id": "cc83edc6f1ee44f58ae82a84826c832d",
       "version_major": 2,
       "version_minor": 0
      },
      "text/plain": [
       "  0%|          | 0/100 [00:00<?, ?ex/s]"
      ]
     },
     "metadata": {},
     "output_type": "display_data"
    },
    {
     "name": "stderr",
     "output_type": "stream",
     "text": [
      "/home/kon/work/ThoughtSource/libs/cot/cot/evaluate.py:308: UserWarning: Your answer could not be extracted from this sequence.\n",
      "            sequence:  D. The moon's rotation is what causes the bright star nearest to the earth to be straight overhead in the middle of the day.\n",
      "            possible answers: {'A': 'moons gravity', 'B': 'human planet rotation', 'C': 'global warming', 'D': 'moon rotation'}\n",
      "  warnings.warn(\n",
      "/home/kon/work/ThoughtSource/libs/cot/cot/evaluate.py:308: UserWarning: Your answer could not be extracted from this sequence.\n",
      "            sequence:  None of the Above.\n",
      "            possible answers: {'A': 'The color of my hair', 'B': 'The way I walk', 'C': 'The size of a statue', 'D': 'The sound a computer makes'}\n",
      "  warnings.warn(\n",
      "/home/kon/work/ThoughtSource/libs/cot/cot/evaluate.py:308: UserWarning: Your answer could not be extracted from this sequence.\n",
      "            sequence:  A) water and soda or B) water and oil.\n",
      "            possible answers: {'A': 'water and soda', 'B': 'water and oil', 'C': 'sand and rocks', 'D': 'salt and bark'}\n",
      "  warnings.warn(\n",
      "/home/kon/work/ThoughtSource/libs/cot/cot/evaluate.py:308: UserWarning: Your answer could not be extracted from this sequence.\n",
      "            sequence:  A and D.\n",
      "            possible answers: {'A': 'induces organisms to use more of their resources', 'B': 'causes an increase in use of resources', 'C': 'causes an uptick in birthrate', 'D': 'induces organisms to be more economical with resources'}\n",
      "  warnings.warn(\n",
      "/home/kon/work/ThoughtSource/libs/cot/cot/evaluate.py:308: UserWarning: Your answer could not be extracted from this sequence.\n",
      "            sequence:  either the heart or the liver.\n",
      "            possible answers: {'A': 'the lungs', 'B': 'the kidney', 'C': 'the heart', 'D': 'the liver'}\n",
      "  warnings.warn(\n",
      "/home/kon/work/ThoughtSource/libs/cot/cot/evaluate.py:308: UserWarning: Your answer could not be extracted from this sequence.\n",
      "            sequence:  D) Sand.\n",
      "            possible answers: {'A': 'clothes', 'B': 'food', 'C': 'forests', 'D': 'castles'}\n",
      "  warnings.warn(\n",
      "/home/kon/work/ThoughtSource/libs/cot/cot/evaluate.py:308: UserWarning: Your answer could not be extracted from this sequence.\n",
      "            sequence:  sand.\n",
      "            possible answers: {'A': 'clothes', 'B': 'food', 'C': 'forests', 'D': 'castles'}\n",
      "  warnings.warn(\n",
      "/home/kon/work/ThoughtSource/libs/cot/cot/evaluate.py:308: UserWarning: Your answer could not be extracted from this sequence.\n",
      "            sequence:  B) a wedge and C) a magnet.\n",
      "            possible answers: {'A': 'solar-rechargeable battery', 'B': 'a wedge', 'C': 'a magnet', 'D': 'pressure gauge'}\n",
      "  warnings.warn(\n",
      "/home/kon/work/ThoughtSource/libs/cot/cot/evaluate.py:308: UserWarning: Your answer could not be extracted from this sequence.\n",
      "            sequence:  E.\n",
      "            possible answers: {'A': 'Lots of meat', 'B': 'Lots of love', 'C': 'Vitamin supplements', 'D': 'An insulated room'}\n",
      "  warnings.warn(\n",
      "/home/kon/work/ThoughtSource/libs/cot/cot/evaluate.py:308: UserWarning: Your answer could not be extracted from this sequence.\n",
      "            sequence:  ocean.\n",
      "            possible answers: {'A': 'the Sahara', 'B': 'the mountains', 'C': 'the ocean', 'D': 'the sewers'}\n",
      "  warnings.warn(\n",
      "/home/kon/work/ThoughtSource/libs/cot/cot/evaluate.py:308: UserWarning: Your answer could not be extracted from this sequence.\n",
      "            sequence:  A) in cacti or other spiked plants that store water.\n",
      "            possible answers: {'A': 'in sticks', 'B': 'in pebbles', 'C': 'in sand', 'D': 'in spiked plants'}\n",
      "  warnings.warn(\n",
      "/home/kon/work/ThoughtSource/libs/cot/cot/evaluate.py:308: UserWarning: Your answer could not be extracted from this sequence.\n",
      "            sequence:  52.\n",
      "            possible answers: {'A': '13', 'B': '12', 'C': '15', 'D': '14'}\n",
      "  warnings.warn(\n"
     ]
    },
    {
     "name": "stdout",
     "output_type": "stream",
     "text": [
      "Evaluating strategy_qa...\n"
     ]
    },
    {
     "name": "stderr",
     "output_type": "stream",
     "text": [
      "/home/kon/work/ThoughtSource/libs/cot/cot/evaluate.py:308: UserWarning: Your answer could not be extracted from this sequence.\n",
      "            sequence: : None of the above.\n",
      "            possible answers: {'A': 'lakes that are frozen over', 'B': 'things you give a loved one in a bouquet', 'C': 'various types of animals', 'D': 'a person that is healthy'}\n",
      "  warnings.warn(\n",
      "/home/kon/work/ThoughtSource/libs/cot/cot/evaluate.py:59: UserWarning: It seems that not all examples of the dataset include an answer to be evaluated.\n",
      "                    Counter of examples:\n",
      "                    dict_items([('command-xlarge-nightly', defaultdict(<class 'int'>, {'None_None_kojima-A-D': 100, 'None_kojima-01_kojima-A-D': 100})), ('text-davinci-003', defaultdict(<class 'int'>, {'None_kojima-01_kojima-A-D': 100, 'None_None_kojima-A-D': 100})), ('flan-T5-xxl', defaultdict(<class 'int'>, {'None_None_kojima-A-D': 100, 'None_kojima-01_kojima-A-D': 100}))])\n",
      "                    Length of dataset:\n",
      "                    100\n",
      "                    The evaluation score was only calculated based on the examples that include an answer.\n",
      "                    To turn this warning off, set warn=False in the evaluate function.\n",
      "  warnings.warn(\n"
     ]
    },
    {
     "data": {
      "application/vnd.jupyter.widget-view+json": {
       "model_id": "5704c365e0b8403bb2b1dcee4d8cf834",
       "version_major": 2,
       "version_minor": 0
      },
      "text/plain": [
       "  0%|          | 0/100 [00:00<?, ?ex/s]"
      ]
     },
     "metadata": {},
     "output_type": "display_data"
    },
    {
     "name": "stderr",
     "output_type": "stream",
     "text": [
      "/home/kon/work/ThoughtSource/libs/cot/cot/evaluate.py:308: UserWarning: Your answer could not be extracted from this sequence.\n",
      "            sequence:  not definitive and depends on the exchange rate.\n",
      "            possible answers: {'Yes': 'True', 'No': 'False'}\n",
      "  warnings.warn(\n",
      "/home/kon/work/ThoughtSource/libs/cot/cot/evaluate.py:308: UserWarning: Your answer could not be extracted from this sequence.\n",
      "            sequence: Therefore, the answer (Yes or No) is dependent on the country you are in and what the currency can be exchanged for.\n",
      "            possible answers: {'Yes': 'True', 'No': 'False'}\n",
      "  warnings.warn(\n",
      "/home/kon/work/ThoughtSource/libs/cot/cot/evaluate.py:308: UserWarning: Your answer could not be extracted from this sequence.\n",
      "            sequence: So the answer is .\n",
      "            possible answers: {'Yes': 'True', 'No': 'False'}\n",
      "  warnings.warn(\n",
      "/home/kon/work/ThoughtSource/libs/cot/cot/evaluate.py:308: UserWarning: Your answer could not be extracted from this sequence.\n",
      "            sequence:  likely to be yes.\n",
      "            possible answers: {'Yes': 'True', 'No': 'False'}\n",
      "  warnings.warn(\n",
      "/home/kon/work/ThoughtSource/libs/cot/cot/evaluate.py:308: UserWarning: Your answer could not be extracted from this sequence.\n",
      "            sequence: Therefore, the answer (Yes or No) is not as simple as it seems.\n",
      "            possible answers: {'Yes': 'True', 'No': 'False'}\n",
      "  warnings.warn(\n",
      "/home/kon/work/ThoughtSource/libs/cot/cot/evaluate.py:308: UserWarning: Your answer could not be extracted from this sequence.\n",
      "            sequence:  likely No.\n",
      "            possible answers: {'Yes': 'True', 'No': 'False'}\n",
      "  warnings.warn(\n",
      "/home/kon/work/ThoughtSource/libs/cot/cot/evaluate.py:308: UserWarning: Your answer could not be extracted from this sequence.\n",
      "            sequence: Therefore, the answer (Yes or No) is uncertain.\n",
      "            possible answers: {'Yes': 'True', 'No': 'False'}\n",
      "  warnings.warn(\n",
      "/home/kon/work/ThoughtSource/libs/cot/cot/evaluate.py:308: UserWarning: Your answer could not be extracted from this sequence.\n",
      "            sequence:  not definitive.\n",
      "            possible answers: {'Yes': 'True', 'No': 'False'}\n",
      "  warnings.warn(\n",
      "/home/kon/work/ThoughtSource/libs/cot/cot/evaluate.py:308: UserWarning: Your answer could not be extracted from this sequence.\n",
      "            sequence:  Yes, it is expected that Charla Nash would be anxious near a gorilla.\n",
      "            possible answers: {'Yes': 'True', 'No': 'False'}\n",
      "  warnings.warn(\n",
      "/home/kon/work/ThoughtSource/libs/cot/cot/evaluate.py:308: UserWarning: Your answer could not be extracted from this sequence.\n",
      "            sequence:  not known.\n",
      "            possible answers: {'Yes': 'True', 'No': 'False'}\n",
      "  warnings.warn(\n",
      "/home/kon/work/ThoughtSource/libs/cot/cot/evaluate.py:308: UserWarning: Your answer could not be extracted from this sequence.\n",
      "            sequence:  unknown.\n",
      "            possible answers: {'Yes': 'True', 'No': 'False'}\n",
      "  warnings.warn(\n",
      "/home/kon/work/ThoughtSource/libs/cot/cot/evaluate.py:308: UserWarning: Your answer could not be extracted from this sequence.\n",
      "            sequence: Therefore, the answer (Yes or No) is:It is possible that the children of Greek hero Jason could hypothetically fill a polo team.\n",
      "            possible answers: {'Yes': 'True', 'No': 'False'}\n",
      "  warnings.warn(\n",
      "/home/kon/work/ThoughtSource/libs/cot/cot/evaluate.py:308: UserWarning: Your answer could not be extracted from this sequence.\n",
      "            sequence: :\n",
      "It is likely that the Marines would defeat the Swiss Guard in a one-on-one battle.\n",
      "            possible answers: {'Yes': 'True', 'No': 'False'}\n",
      "  warnings.warn(\n",
      "/home/kon/work/ThoughtSource/libs/cot/cot/evaluate.py:308: UserWarning: Your answer could not be extracted from this sequence.\n",
      "            sequence:  not straightforward. It depends on the individual's level of Dyscalculia and the support they receive.\n",
      "            possible answers: {'Yes': 'True', 'No': 'False'}\n",
      "  warnings.warn(\n",
      "/home/kon/work/ThoughtSource/libs/cot/cot/evaluate.py:308: UserWarning: Your answer could not be extracted from this sequence.\n",
      "            sequence:  impossible to determine.\n",
      "            possible answers: {'Yes': 'True', 'No': 'False'}\n",
      "  warnings.warn(\n",
      "/home/kon/work/ThoughtSource/libs/cot/cot/evaluate.py:308: UserWarning: Your answer could not be extracted from this sequence.\n",
      "            sequence:  No. Blue lips are not normal.\n",
      "            possible answers: {'Yes': 'True', 'No': 'False'}\n",
      "  warnings.warn(\n",
      "/home/kon/work/ThoughtSource/libs/cot/cot/evaluate.py:308: UserWarning: Your answer could not be extracted from this sequence.\n",
      "            sequence: Therefore, the answer (Yes or No) is not definitive, and more information is needed to provide a definitive answer.\n",
      "            possible answers: {'Yes': 'True', 'No': 'False'}\n",
      "  warnings.warn(\n",
      "/home/kon/work/ThoughtSource/libs/cot/cot/evaluate.py:308: UserWarning: Your answer could not be extracted from this sequence.\n",
      "            sequence:  subjective and depends on the individual's opinion.\n",
      "            possible answers: {'Yes': 'True', 'No': 'False'}\n",
      "  warnings.warn(\n",
      "/home/kon/work/ThoughtSource/libs/cot/cot/evaluate.py:308: UserWarning: Your answer could not be extracted from this sequence.\n",
      "            sequence: Therefore, the answer (Yes or No) is difficult to say.\n",
      "            possible answers: {'Yes': 'True', 'No': 'False'}\n",
      "  warnings.warn(\n",
      "/home/kon/work/ThoughtSource/libs/cot/cot/evaluate.py:308: UserWarning: Your answer could not be extracted from this sequence.\n",
      "            sequence:  yes, it is safe to eat kidney.\n",
      "            possible answers: {'Yes': 'True', 'No': 'False'}\n",
      "  warnings.warn(\n",
      "/home/kon/work/ThoughtSource/libs/cot/cot/evaluate.py:308: UserWarning: Your answer could not be extracted from this sequence.\n",
      "            sequence: Therefore, the answer (Yes or No) is not definitive.\n",
      "            possible answers: {'Yes': 'True', 'No': 'False'}\n",
      "  warnings.warn(\n",
      "/home/kon/work/ThoughtSource/libs/cot/cot/evaluate.py:308: UserWarning: Your answer could not be extracted from this sequence.\n",
      "            sequence: Therefore, the answer (Yes or No) is not known.\n",
      "            possible answers: {'Yes': 'True', 'No': 'False'}\n",
      "  warnings.warn(\n",
      "/home/kon/work/ThoughtSource/libs/cot/cot/evaluate.py:308: UserWarning: Your answer could not be extracted from this sequence.\n",
      "            sequence:  Yes, embalmed bodies feel different at funerals.\n",
      "            possible answers: {'Yes': 'True', 'No': 'False'}\n",
      "  warnings.warn(\n",
      "/home/kon/work/ThoughtSource/libs/cot/cot/evaluate.py:308: UserWarning: Your answer could not be extracted from this sequence.\n",
      "            sequence:  No, lobsters cannot breathe in the desert.\n",
      "            possible answers: {'Yes': 'True', 'No': 'False'}\n",
      "  warnings.warn(\n",
      "/home/kon/work/ThoughtSource/libs/cot/cot/evaluate.py:308: UserWarning: Your answer could not be extracted from this sequence.\n",
      "            sequence: Therefore, the answer (Yes or No) is dependent on how you are defining the terms.\n",
      "            possible answers: {'Yes': 'True', 'No': 'False'}\n",
      "  warnings.warn(\n",
      "/home/kon/work/ThoughtSource/libs/cot/cot/evaluate.py:308: UserWarning: Your answer could not be extracted from this sequence.\n",
      "            sequence: Therefore, the answer (Yes or No) is: we don't know for sure.\n",
      "            possible answers: {'Yes': 'True', 'No': 'False'}\n",
      "  warnings.warn(\n",
      "/home/kon/work/ThoughtSource/libs/cot/cot/evaluate.py:308: UserWarning: Your answer could not be extracted from this sequence.\n",
      "            sequence:  dependent on the type of business the company is in.\n",
      "            possible answers: {'Yes': 'True', 'No': 'False'}\n",
      "  warnings.warn(\n",
      "/home/kon/work/ThoughtSource/libs/cot/cot/evaluate.py:308: UserWarning: Your answer could not be extracted from this sequence.\n",
      "            sequence: \n",
      "No, because E.T. is a fictional character.\n",
      "            possible answers: {'Yes': 'True', 'No': 'False'}\n",
      "  warnings.warn(\n",
      "/home/kon/work/ThoughtSource/libs/cot/cot/evaluate.py:308: UserWarning: Your answer could not be extracted from this sequence.\n",
      "            sequence:  \"Maybe\".\n",
      "            possible answers: {'Yes': 'True', 'No': 'False'}\n",
      "  warnings.warn(\n",
      "/home/kon/work/ThoughtSource/libs/cot/cot/evaluate.py:308: UserWarning: Your answer could not be extracted from this sequence.\n",
      "            sequence: Therefore, the answer (Yes or No) is: It is possible that E.T. would love Friendly's, but we cannot say for sure.\n",
      "            possible answers: {'Yes': 'True', 'No': 'False'}\n",
      "  warnings.warn(\n",
      "/home/kon/work/ThoughtSource/libs/cot/cot/evaluate.py:308: UserWarning: Your answer could not be extracted from this sequence.\n",
      "            sequence: Therefore, the answer (Yes or No) is: Unknown\n",
      "            possible answers: {'Yes': 'True', 'No': 'False'}\n",
      "  warnings.warn(\n",
      "/home/kon/work/ThoughtSource/libs/cot/cot/evaluate.py:308: UserWarning: Your answer could not be extracted from this sequence.\n",
      "            sequence: Therefore, the answer (Yes or No) is Unknown.\n",
      "            possible answers: {'Yes': 'True', 'No': 'False'}\n",
      "  warnings.warn(\n",
      "/home/kon/work/ThoughtSource/libs/cot/cot/evaluate.py:308: UserWarning: Your answer could not be extracted from this sequence.\n",
      "            sequence:  not clear.\n",
      "            possible answers: {'Yes': 'True', 'No': 'False'}\n",
      "  warnings.warn(\n",
      "/home/kon/work/ThoughtSource/libs/cot/cot/evaluate.py:308: UserWarning: Your answer could not be extracted from this sequence.\n",
      "            sequence:  No, Immanuel Kant would not be disgusted by the Black Lives Matter movement.\n",
      "            possible answers: {'Yes': 'True', 'No': 'False'}\n",
      "  warnings.warn(\n",
      "/home/kon/work/ThoughtSource/libs/cot/cot/evaluate.py:308: UserWarning: Your answer could not be extracted from this sequence.\n",
      "            sequence: \n",
      "\"Unknown\".\n",
      "            possible answers: {'Yes': 'True', 'No': 'False'}\n",
      "  warnings.warn(\n",
      "/home/kon/work/ThoughtSource/libs/cot/cot/evaluate.py:308: UserWarning: Your answer could not be extracted from this sequence.\n",
      "            sequence: : Yes\n",
      "            possible answers: {'Yes': 'True', 'No': 'False'}\n",
      "  warnings.warn(\n",
      "/home/kon/work/ThoughtSource/libs/cot/cot/evaluate.py:308: UserWarning: Your answer could not be extracted from this sequence.\n",
      "            sequence: Therefore, the answer (Yes or No) is: It is possible, but not certain.\n",
      "            possible answers: {'Yes': 'True', 'No': 'False'}\n",
      "  warnings.warn(\n",
      "/home/kon/work/ThoughtSource/libs/cot/cot/evaluate.py:308: UserWarning: Your answer could not be extracted from this sequence.\n",
      "            sequence: \n",
      "            possible answers: {'Yes': 'True', 'No': 'False'}\n",
      "  warnings.warn(\n",
      "/home/kon/work/ThoughtSource/libs/cot/cot/evaluate.py:308: UserWarning: Your answer could not be extracted from this sequence.\n",
      "            sequence:  dependent on the context of the lesson.\n",
      "            possible answers: {'Yes': 'True', 'No': 'False'}\n",
      "  warnings.warn(\n"
     ]
    },
    {
     "name": "stdout",
     "output_type": "stream",
     "text": [
      "Evaluating worldtree...\n"
     ]
    },
    {
     "name": "stderr",
     "output_type": "stream",
     "text": [
      "/home/kon/work/ThoughtSource/libs/cot/cot/evaluate.py:59: UserWarning: It seems that not all examples of the dataset include an answer to be evaluated.\n",
      "                    Counter of examples:\n",
      "                    dict_items([('text-davinci-003', defaultdict(<class 'int'>, {'None_None_kojima-yes-no': 100, 'None_kojima-01_kojima-yes-no': 100})), ('command-xlarge-nightly', defaultdict(<class 'int'>, {'None_None_kojima-yes-no': 100, 'None_kojima-01_kojima-yes-no': 100})), ('text-davinci-002', defaultdict(<class 'int'>, {'None_kojima-01_kojima-yes-no': 98, 'None_None_None': 100})), ('flan-T5-xxl', defaultdict(<class 'int'>, {'None_None_kojima-yes-no': 100, 'None_kojima-01_kojima-yes-no': 100}))])\n",
      "                    Length of dataset:\n",
      "                    100\n",
      "                    The evaluation score was only calculated based on the examples that include an answer.\n",
      "                    To turn this warning off, set warn=False in the evaluate function.\n",
      "  warnings.warn(\n"
     ]
    },
    {
     "data": {
      "application/vnd.jupyter.widget-view+json": {
       "model_id": "72498148936345b68933e81df70d56b8",
       "version_major": 2,
       "version_minor": 0
      },
      "text/plain": [
       "  0%|          | 0/100 [00:00<?, ?ex/s]"
      ]
     },
     "metadata": {},
     "output_type": "display_data"
    },
    {
     "name": "stderr",
     "output_type": "stream",
     "text": [
      "/home/kon/work/ThoughtSource/libs/cot/cot/evaluate.py:308: UserWarning: Your answer could not be extracted from this sequence.\n",
      "            sequence:  A and B.\n",
      "            possible answers: {'A': 'Older than Earth', 'B': 'Smaller than Earth', 'C': 'Having the same climate as Earth', 'D': 'Having the same atmosphere as Earth'}\n",
      "  warnings.warn(\n",
      "/home/kon/work/ThoughtSource/libs/cot/cot/evaluate.py:331: UserWarning: Found more than one possible answer to compute the evaluation score. By default returning the first found answer.\n",
      "                                 In the answer sentence 'C) supernova.' these possible answers were found: '('C', 'supernova')'\n",
      "                                 If you want to return a specific answer, please define a regex pattern with only one group.\n",
      "                \n",
      "  warnings.warn(\n",
      "/home/kon/work/ThoughtSource/libs/cot/cot/evaluate.py:308: UserWarning: Your answer could not be extracted from this sequence.\n",
      "            sequence: \n",
      "            possible answers: {'A': 'nova', 'B': 'red giant', 'C': 'supernova', 'D': 'white dwarf'}\n",
      "  warnings.warn(\n",
      "/home/kon/work/ThoughtSource/libs/cot/cot/evaluate.py:308: UserWarning: Your answer could not be extracted from this sequence.\n",
      "            sequence:  C: rock solidifying slowly deep underground.\n",
      "            possible answers: {'A': 'Rock cools quickly from melted rock.', 'B': 'Rock is recrystallized by extreme pressure.', 'C': 'Rock solidifies slowly deep underground.', 'D': 'Rock is formed from deposited sediment.'}\n",
      "  warnings.warn(\n",
      "/home/kon/work/ThoughtSource/libs/cot/cot/evaluate.py:308: UserWarning: Your answer could not be extracted from this sequence.\n",
      "            sequence: \n",
      "            possible answers: {'A': 'heating', 'B': 'burying', 'C': 'eroding', 'D': 'weathering'}\n",
      "  warnings.warn(\n",
      "/home/kon/work/ThoughtSource/libs/cot/cot/evaluate.py:308: UserWarning: Your answer could not be extracted from this sequence.\n",
      "            sequence:  B and C.\n",
      "            possible answers: {'A': 'limited', 'B': 'renewable', 'C': 'damaging', 'D': 'inexpensive'}\n",
      "  warnings.warn(\n",
      "/home/kon/work/ThoughtSource/libs/cot/cot/evaluate.py:308: UserWarning: Your answer could not be extracted from this sequence.\n",
      "            sequence:  B) NO_{2}\n",
      "            possible answers: {'A': 'CO_{2}', 'B': 'NO_{2}', 'C': 'O_{2}', 'D': 'N_{2}'}\n",
      "  warnings.warn(\n",
      "/home/kon/work/ThoughtSource/libs/cot/cot/evaluate.py:308: UserWarning: Your answer could not be extracted from this sequence.\n",
      "            sequence:  A) CO_{2}.\n",
      "            possible answers: {'A': 'CO_{2}', 'B': 'NO_{2}', 'C': 'O_{2}', 'D': 'N_{2}'}\n",
      "  warnings.warn(\n",
      "/home/kon/work/ThoughtSource/libs/cot/cot/evaluate.py:308: UserWarning: Your answer could not be extracted from this sequence.\n",
      "            sequence:  A) CO_{2}\n",
      "            possible answers: {'A': 'CO_{2}', 'B': 'NO_{2}', 'C': 'O_{2}', 'D': 'N_{2}'}\n",
      "  warnings.warn(\n",
      "/home/kon/work/ThoughtSource/libs/cot/cot/evaluate.py:308: UserWarning: Your answer could not be extracted from this sequence.\n",
      "            sequence:  B) a lightning strike or C) a tornado.\n",
      "            possible answers: {'A': 'a flash flood', 'B': 'a lightning strike', 'C': 'a tornado', 'D': 'a hailstorm'}\n",
      "  warnings.warn(\n",
      "/home/kon/work/ThoughtSource/libs/cot/cot/evaluate.py:308: UserWarning: Your answer could not be extracted from this sequence.\n",
      "            sequence:  D. Hurricanes need warm, moist air to form and maintain their strength. As the hurricane moves over land, the supply of warm, moist air decreases, which causes the force of the hurricane to diminish.\n",
      "            possible answers: {'A': 'A high pressure area develops.', 'B': 'The sea level rises on the coast.', 'C': 'The winds start to spin clockwise.', 'D': 'The supply of warm, moist air decreases.'}\n",
      "  warnings.warn(\n",
      "/home/kon/work/ThoughtSource/libs/cot/cot/evaluate.py:308: UserWarning: Your answer could not be extracted from this sequence.\n",
      "            sequence:  A and B.\n",
      "            possible answers: {'A': 'tidal energy and hydropower', 'B': 'geothermal energy and hydropower', 'C': 'wind energy and tidal energy', 'D': 'geothermal energy and wind energy'}\n",
      "  warnings.warn(\n",
      "/home/kon/work/ThoughtSource/libs/cot/cot/evaluate.py:308: UserWarning: Your answer could not be extracted from this sequence.\n",
      "            sequence: \n",
      "            possible answers: {'A': 'at the bottom of the highest hill', 'B': 'at the top of the highest hill', 'C': 'at the start of the track', 'D': 'at the end of the track'}\n",
      "  warnings.warn(\n",
      "/home/kon/work/ThoughtSource/libs/cot/cot/evaluate.py:308: UserWarning: Your answer could not be extracted from this sequence.\n",
      "            sequence: \n",
      "            possible answers: {'A': 'the mass of Earth.', 'B': 'the rotation of Earth.', 'C': 'the revolution of Earth.', 'D': 'weather patterns on Earth.'}\n",
      "  warnings.warn(\n",
      "/home/kon/work/ThoughtSource/libs/cot/cot/evaluate.py:308: UserWarning: Your answer could not be extracted from this sequence.\n",
      "            sequence: \n",
      "            possible answers: {'A': 'the soil', 'B': 'the water', 'C': 'the plants', 'D': 'the sunlight'}\n",
      "  warnings.warn(\n",
      "/home/kon/work/ThoughtSource/libs/cot/cot/evaluate.py:308: UserWarning: Your answer could not be extracted from this sequence.\n",
      "            sequence: \n",
      "            possible answers: {'A': 'laying eggs to reproduce', 'B': 'having hollow, light-weight bones', 'C': 'avoiding insects that taste bad', 'D': 'having white feathers on the throat'}\n",
      "  warnings.warn(\n",
      "/home/kon/work/ThoughtSource/libs/cot/cot/evaluate.py:308: UserWarning: Your answer could not be extracted from this sequence.\n",
      "            sequence: \n",
      "            possible answers: {'A': 'valence.', 'B': 'mass number.', 'C': 'chemical property.', 'D': 'electrical charge.'}\n",
      "  warnings.warn(\n",
      "/home/kon/work/ThoughtSource/libs/cot/cot/evaluate.py:308: UserWarning: Your answer could not be extracted from this sequence.\n",
      "            sequence:  A and B.\n",
      "            possible answers: {'A': 'the number of valence electrons', 'B': 'the number of protons', 'C': 'the charge of the atom', 'D': 'the size of the atom'}\n",
      "  warnings.warn(\n",
      "/home/kon/work/ThoughtSource/libs/cot/cot/evaluate.py:308: UserWarning: Your answer could not be extracted from this sequence.\n",
      "            sequence:  A, B, and D.\n",
      "            possible answers: {'A': 'condensation', 'B': 'evaporation', 'C': 'radiation', 'D': 'vaporization'}\n",
      "  warnings.warn(\n",
      "/home/kon/work/ThoughtSource/libs/cot/cot/evaluate.py:308: UserWarning: Your answer could not be extracted from this sequence.\n",
      "            sequence: \n",
      "            possible answers: {'A': 'camera', 'B': 'compass', 'C': 'hand lens', 'D': 'telescope'}\n",
      "  warnings.warn(\n",
      "/home/kon/work/ThoughtSource/libs/cot/cot/evaluate.py:308: UserWarning: Your answer could not be extracted from this sequence.\n",
      "            sequence: \n",
      "            possible answers: {'A': 'a balance and a ruler', 'B': 'a balance and a thermometer', 'C': 'a measuring cup and a balance', 'D': 'a measuring cup and a thermometer'}\n",
      "  warnings.warn(\n",
      "/home/kon/work/ThoughtSource/libs/cot/cot/evaluate.py:308: UserWarning: Your answer could not be extracted from this sequence.\n",
      "            sequence: \n",
      "            possible answers: {'A': 'density', 'B': 'flammability', 'C': 'color', 'D': 'brittleness'}\n",
      "  warnings.warn(\n",
      "/home/kon/work/ThoughtSource/libs/cot/cot/evaluate.py:308: UserWarning: Your answer could not be extracted from this sequence.\n",
      "            sequence:  A, B, and D.\n",
      "            possible answers: {'A': 'navigate ships.', 'B': 'study the weather.', 'C': 'predict volcanic eruptions.', 'D': \"map the Earth's surface.\"}\n",
      "  warnings.warn(\n",
      "/home/kon/work/ThoughtSource/libs/cot/cot/evaluate.py:59: UserWarning: It seems that not all examples of the dataset include an answer to be evaluated.\n",
      "                    Counter of examples:\n",
      "                    dict_items([('command-xlarge-nightly', defaultdict(<class 'int'>, {'None_kojima-01_kojima-A-D': 100, 'None_None_kojima-A-D': 100})), ('text-davinci-003', defaultdict(<class 'int'>, {'None_kojima-01_kojima-A-D': 100, 'None_None_kojima-A-D': 100})), ('flan-T5-xxl', defaultdict(<class 'int'>, {'None_None_kojima-A-D': 101, 'None_kojima-01_kojima-A-D': 100}))])\n",
      "                    Length of dataset:\n",
      "                    100\n",
      "                    The evaluation score was only calculated based on the examples that include an answer.\n",
      "                    To turn this warning off, set warn=False in the evaluate function.\n",
      "  warnings.warn(\n"
     ]
    },
    {
     "data": {
      "text/html": [
       "<div>\n",
       "<style scoped>\n",
       "    .dataframe tbody tr th:only-of-type {\n",
       "        vertical-align: middle;\n",
       "    }\n",
       "\n",
       "    .dataframe tbody tr th {\n",
       "        vertical-align: top;\n",
       "    }\n",
       "\n",
       "    .dataframe thead tr th {\n",
       "        text-align: left;\n",
       "    }\n",
       "</style>\n",
       "<table border=\"1\" class=\"dataframe\">\n",
       "  <thead>\n",
       "    <tr>\n",
       "      <th></th>\n",
       "      <th colspan=\"4\" halign=\"left\">None</th>\n",
       "      <th colspan=\"4\" halign=\"left\">kojima-01</th>\n",
       "      <th>lievin-01</th>\n",
       "      <th>lievin-02</th>\n",
       "      <th>lievin-03</th>\n",
       "      <th>lievin-10</th>\n",
       "    </tr>\n",
       "    <tr>\n",
       "      <th></th>\n",
       "      <th>command-xlarge-nightly</th>\n",
       "      <th>flan-T5-xxl</th>\n",
       "      <th>text-davinci-002</th>\n",
       "      <th>text-davinci-003</th>\n",
       "      <th>command-xlarge-nightly</th>\n",
       "      <th>flan-T5-xxl</th>\n",
       "      <th>text-davinci-002</th>\n",
       "      <th>text-davinci-003</th>\n",
       "      <th>text-davinci-002</th>\n",
       "      <th>text-davinci-002</th>\n",
       "      <th>text-davinci-002</th>\n",
       "      <th>text-davinci-002</th>\n",
       "    </tr>\n",
       "  </thead>\n",
       "  <tbody>\n",
       "    <tr>\n",
       "      <th>commonsense_qa</th>\n",
       "      <td>0.51</td>\n",
       "      <td>0.87</td>\n",
       "      <td>0.71</td>\n",
       "      <td>0.72</td>\n",
       "      <td>0.53</td>\n",
       "      <td>0.81</td>\n",
       "      <td>0.69</td>\n",
       "      <td>0.64</td>\n",
       "      <td>NaN</td>\n",
       "      <td>NaN</td>\n",
       "      <td>NaN</td>\n",
       "      <td>NaN</td>\n",
       "    </tr>\n",
       "    <tr>\n",
       "      <th>med_qa</th>\n",
       "      <td>0.23</td>\n",
       "      <td>0.32</td>\n",
       "      <td>NaN</td>\n",
       "      <td>0.39</td>\n",
       "      <td>0.31</td>\n",
       "      <td>0.34</td>\n",
       "      <td>0.46</td>\n",
       "      <td>0.43</td>\n",
       "      <td>0.44</td>\n",
       "      <td>0.5</td>\n",
       "      <td>0.49</td>\n",
       "      <td>0.45</td>\n",
       "    </tr>\n",
       "    <tr>\n",
       "      <th>medmc_qa</th>\n",
       "      <td>0.25</td>\n",
       "      <td>0.34</td>\n",
       "      <td>NaN</td>\n",
       "      <td>0.38</td>\n",
       "      <td>0.23</td>\n",
       "      <td>0.35</td>\n",
       "      <td>0.37</td>\n",
       "      <td>0.34</td>\n",
       "      <td>0.45</td>\n",
       "      <td>0.41</td>\n",
       "      <td>0.4</td>\n",
       "      <td>0.42</td>\n",
       "    </tr>\n",
       "    <tr>\n",
       "      <th>open_book_qa</th>\n",
       "      <td>0.59</td>\n",
       "      <td>0.82</td>\n",
       "      <td>NaN</td>\n",
       "      <td>0.69</td>\n",
       "      <td>0.38</td>\n",
       "      <td>0.79</td>\n",
       "      <td>NaN</td>\n",
       "      <td>0.67</td>\n",
       "      <td>NaN</td>\n",
       "      <td>NaN</td>\n",
       "      <td>NaN</td>\n",
       "      <td>NaN</td>\n",
       "    </tr>\n",
       "    <tr>\n",
       "      <th>strategy_qa</th>\n",
       "      <td>0.52</td>\n",
       "      <td>0.61</td>\n",
       "      <td>0.59</td>\n",
       "      <td>0.53</td>\n",
       "      <td>0.59</td>\n",
       "      <td>0.69</td>\n",
       "      <td>0.54</td>\n",
       "      <td>0.48</td>\n",
       "      <td>NaN</td>\n",
       "      <td>NaN</td>\n",
       "      <td>NaN</td>\n",
       "      <td>NaN</td>\n",
       "    </tr>\n",
       "    <tr>\n",
       "      <th>worldtree</th>\n",
       "      <td>0.62</td>\n",
       "      <td>0.85</td>\n",
       "      <td>NaN</td>\n",
       "      <td>0.89</td>\n",
       "      <td>0.58</td>\n",
       "      <td>0.8</td>\n",
       "      <td>NaN</td>\n",
       "      <td>0.88</td>\n",
       "      <td>NaN</td>\n",
       "      <td>NaN</td>\n",
       "      <td>NaN</td>\n",
       "      <td>NaN</td>\n",
       "    </tr>\n",
       "  </tbody>\n",
       "</table>\n",
       "</div>"
      ],
      "text/plain": [
       "                                 None                               \\\n",
       "               command-xlarge-nightly flan-T5-xxl text-davinci-002   \n",
       "commonsense_qa                   0.51        0.87             0.71   \n",
       "med_qa                           0.23        0.32              NaN   \n",
       "medmc_qa                         0.25        0.34              NaN   \n",
       "open_book_qa                     0.59        0.82              NaN   \n",
       "strategy_qa                      0.52        0.61             0.59   \n",
       "worldtree                        0.62        0.85              NaN   \n",
       "\n",
       "                                             kojima-01              \\\n",
       "               text-davinci-003 command-xlarge-nightly flan-T5-xxl   \n",
       "commonsense_qa             0.72                   0.53        0.81   \n",
       "med_qa                     0.39                   0.31        0.34   \n",
       "medmc_qa                   0.38                   0.23        0.35   \n",
       "open_book_qa               0.69                   0.38        0.79   \n",
       "strategy_qa                0.53                   0.59        0.69   \n",
       "worldtree                  0.89                   0.58         0.8   \n",
       "\n",
       "                                                        lievin-01  \\\n",
       "               text-davinci-002 text-davinci-003 text-davinci-002   \n",
       "commonsense_qa             0.69             0.64              NaN   \n",
       "med_qa                     0.46             0.43             0.44   \n",
       "medmc_qa                   0.37             0.34             0.45   \n",
       "open_book_qa                NaN             0.67              NaN   \n",
       "strategy_qa                0.54             0.48              NaN   \n",
       "worldtree                   NaN             0.88              NaN   \n",
       "\n",
       "                      lievin-02        lievin-03        lievin-10  \n",
       "               text-davinci-002 text-davinci-002 text-davinci-002  \n",
       "commonsense_qa              NaN              NaN              NaN  \n",
       "med_qa                      0.5             0.49             0.45  \n",
       "medmc_qa                   0.41              0.4             0.42  \n",
       "open_book_qa                NaN              NaN              NaN  \n",
       "strategy_qa                 NaN              NaN              NaN  \n",
       "worldtree                   NaN              NaN              NaN  "
      ]
     },
     "metadata": {},
     "output_type": "display_data"
    }
   ],
   "source": [
    "eval2 = coll.evaluate(overwrite=True, warn=True)\n",
    "evaluation_as_table(eval2)"
   ]
  },
  {
   "cell_type": "code",
   "execution_count": 14,
   "metadata": {},
   "outputs": [
    {
     "data": {
      "application/vnd.jupyter.widget-view+json": {
       "model_id": "26a6db2f59cc4bb38f1f6a1814f85c6e",
       "version_major": 2,
       "version_minor": 0
      },
      "text/plain": [
       "Creating json from Arrow format:   0%|          | 0/1 [00:00<?, ?ba/s]"
      ]
     },
     "metadata": {},
     "output_type": "display_data"
    },
    {
     "data": {
      "application/vnd.jupyter.widget-view+json": {
       "model_id": "38aa9cd609c54ad1b7a223e6a7c524c6",
       "version_major": 2,
       "version_minor": 0
      },
      "text/plain": [
       "Creating json from Arrow format:   0%|          | 0/1 [00:00<?, ?ba/s]"
      ]
     },
     "metadata": {},
     "output_type": "display_data"
    },
    {
     "data": {
      "application/vnd.jupyter.widget-view+json": {
       "model_id": "ef11a084ac7945479a68c0c7d5001c64",
       "version_major": 2,
       "version_minor": 0
      },
      "text/plain": [
       "Creating json from Arrow format:   0%|          | 0/1 [00:00<?, ?ba/s]"
      ]
     },
     "metadata": {},
     "output_type": "display_data"
    },
    {
     "data": {
      "application/vnd.jupyter.widget-view+json": {
       "model_id": "9b937da020bc4290b4965b2d7b5c3e10",
       "version_major": 2,
       "version_minor": 0
      },
      "text/plain": [
       "Creating json from Arrow format:   0%|          | 0/1 [00:00<?, ?ba/s]"
      ]
     },
     "metadata": {},
     "output_type": "display_data"
    },
    {
     "data": {
      "application/vnd.jupyter.widget-view+json": {
       "model_id": "76cbde1deb354770bbb33b4e251affcc",
       "version_major": 2,
       "version_minor": 0
      },
      "text/plain": [
       "Creating json from Arrow format:   0%|          | 0/1 [00:00<?, ?ba/s]"
      ]
     },
     "metadata": {},
     "output_type": "display_data"
    },
    {
     "data": {
      "application/vnd.jupyter.widget-view+json": {
       "model_id": "7e7f9157832d4ab2a9dd6770f315914d",
       "version_major": 2,
       "version_minor": 0
      },
      "text/plain": [
       "Creating json from Arrow format:   0%|          | 0/1 [00:00<?, ?ba/s]"
      ]
     },
     "metadata": {},
     "output_type": "display_data"
    }
   ],
   "source": [
    "coll.dump(\"evaluation_testing_1.json\")"
   ]
  }
 ],
 "metadata": {
  "kernelspec": {
   "display_name": "venv",
   "language": "python",
   "name": "python3"
  },
  "language_info": {
   "codemirror_mode": {
    "name": "ipython",
    "version": 3
   },
   "file_extension": ".py",
   "mimetype": "text/x-python",
   "name": "python",
   "nbconvert_exporter": "python",
   "pygments_lexer": "ipython3",
   "version": "3.10.6"
  },
  "orig_nbformat": 4,
  "vscode": {
   "interpreter": {
    "hash": "ccbfa654f25866afe66a1c016d0b518a994fbe20a93c2d8b432dbe114020e2d2"
   }
  }
 },
 "nbformat": 4,
 "nbformat_minor": 2
}
