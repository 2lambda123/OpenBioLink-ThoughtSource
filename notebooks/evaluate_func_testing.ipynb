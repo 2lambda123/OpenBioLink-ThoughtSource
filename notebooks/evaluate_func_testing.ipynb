{
 "cells": [
  {
   "cell_type": "code",
   "execution_count": 1,
   "metadata": {},
   "outputs": [],
   "source": [
    "from cot import Collection\n",
    "from cot.stats import evaluation_as_table\n",
    "from cot.evaluate import compare_evaluation_difference\n",
    "from pprint import pprint"
   ]
  },
  {
   "cell_type": "code",
   "execution_count": 124,
   "metadata": {},
   "outputs": [],
   "source": [
    "coll = Collection.from_json(\"./thoughtsource_data/thoughtsource_100_all_cots.json\")"
   ]
  },
  {
   "cell_type": "code",
   "execution_count": null,
   "metadata": {},
   "outputs": [],
   "source": [
    "compare_evaluation_difference(coll)"
   ]
  },
  {
   "cell_type": "code",
   "execution_count": null,
   "metadata": {},
   "outputs": [],
   "source": [
    "coll.evaluate(overwrite=True, warn=True)"
   ]
  },
  {
   "cell_type": "code",
   "execution_count": 7,
   "metadata": {},
   "outputs": [],
   "source": [
    "# all dataset splits which we have generated answers for\n",
    "dataset_split = [\n",
    "    # (\"open_book_qa\", \"test\"),\n",
    "    # (\"strategy_qa\", \"train\"),\n",
    "    # (\"worldtree\", \"test\"),\n",
    "    # (\"commonsense_qa\", \"validation\"),\n",
    "    # (\"med_qa\", \"test\"),\n",
    "    # (\"medmc_qa\", \"validation\"),\n",
    "    # # also pubmed_qa here\n",
    "    (\"pubmed_qa\", \"test\"),\n",
    "]"
   ]
  },
  {
   "cell_type": "code",
   "execution_count": 8,
   "metadata": {},
   "outputs": [
    {
     "name": "stdout",
     "output_type": "stream",
     "text": [
      "Loading pubmed_qa...\n",
      "| Name      | Train   | Valid   |   Test |\n",
      "|-----------|---------|---------|--------|\n",
      "| pubmed_qa | -       | -       |    500 |\n",
      "\n",
      "Not loaded: ['aqua', 'asdiv', 'commonsense_qa', 'entailment_bank', 'gsm8k', 'mawps', 'med_qa', 'medmc_qa', 'open_book_qa', 'qed', 'strategy_qa', 'svamp', 'worldtree']\n",
      "no changes, no second file for comparison is created\n"
     ]
    }
   ],
   "source": [
    "for dataset, split in dataset_split:\n",
    "    _coll = Collection([dataset], verbose=False, load_pregenerated_cots=[\"lievin\", \"wei\", \"kojima\"]) # not using lievin_100\n",
    "    _coll = _coll.select(split=split)\n",
    "    print(_coll)\n",
    "    compare_evaluation_difference(_coll)\n",
    "    # _coll.evaluate(overwrite=True)"
   ]
  },
  {
   "attachments": {},
   "cell_type": "markdown",
   "metadata": {},
   "source": [
    "## Change datasets after evaluation function change"
   ]
  },
  {
   "cell_type": "code",
   "execution_count": null,
   "metadata": {},
   "outputs": [
    {
     "data": {
      "text/plain": [
       "['thoughtsource_100_all_cots.json',\n",
       " 'thoughtsource_100_empty.json',\n",
       " 'thoughtsource_100_huggingface.json',\n",
       " 'thoughtsource_100_kojima_lievin_wei.json',\n",
       " 'thoughtsource_100_openai_cohere.json',\n",
       " 'thoughtsource_1_empty.json']"
      ]
     },
     "metadata": {},
     "output_type": "display_data"
    }
   ],
   "source": [
    "import os\n",
    "filenames = os.listdir(\".\")\n",
    "filenames = [filename for filename in filenames if filename.endswith(\".json\")]\n",
    "filenames = sorted(filenames)\n",
    "filenames\n"
   ]
  },
  {
   "cell_type": "code",
   "execution_count": null,
   "metadata": {},
   "outputs": [
    {
     "data": {
      "text/plain": [
       "['thoughtsource_100_huggingface.json', 'thoughtsource_100_openai_cohere.json']"
      ]
     },
     "metadata": {},
     "output_type": "display_data"
    }
   ],
   "source": [
    "filenames"
   ]
  },
  {
   "cell_type": "code",
   "execution_count": null,
   "metadata": {},
   "outputs": [
    {
     "data": {
      "application/vnd.jupyter.widget-view+json": {
       "model_id": "96436ad18e9049ef9725641d0f22ed63",
       "version_major": 2,
       "version_minor": 0
      },
      "text/plain": [
       "  0%|          | 0/100 [00:00<?, ?ex/s]"
      ]
     },
     "metadata": {},
     "output_type": "display_data"
    },
    {
     "data": {
      "application/vnd.jupyter.widget-view+json": {
       "model_id": "f6059bc78dd945bc83197c093ca41120",
       "version_major": 2,
       "version_minor": 0
      },
      "text/plain": [
       "  0%|          | 0/100 [00:00<?, ?ex/s]"
      ]
     },
     "metadata": {},
     "output_type": "display_data"
    },
    {
     "data": {
      "application/vnd.jupyter.widget-view+json": {
       "model_id": "a9c9726c138e4cb5926243a189e2e1c1",
       "version_major": 2,
       "version_minor": 0
      },
      "text/plain": [
       "  0%|          | 0/100 [00:00<?, ?ex/s]"
      ]
     },
     "metadata": {},
     "output_type": "display_data"
    },
    {
     "data": {
      "application/vnd.jupyter.widget-view+json": {
       "model_id": "0ac309b864b645cf9404fdc63589e544",
       "version_major": 2,
       "version_minor": 0
      },
      "text/plain": [
       "  0%|          | 0/100 [00:00<?, ?ex/s]"
      ]
     },
     "metadata": {},
     "output_type": "display_data"
    },
    {
     "data": {
      "application/vnd.jupyter.widget-view+json": {
       "model_id": "746a929409894da5b7321a6d982f00cb",
       "version_major": 2,
       "version_minor": 0
      },
      "text/plain": [
       "  0%|          | 0/100 [00:00<?, ?ex/s]"
      ]
     },
     "metadata": {},
     "output_type": "display_data"
    },
    {
     "data": {
      "application/vnd.jupyter.widget-view+json": {
       "model_id": "26ad04cc6abf4207bae68d28e46d4e5b",
       "version_major": 2,
       "version_minor": 0
      },
      "text/plain": [
       "  0%|          | 0/100 [00:00<?, ?ex/s]"
      ]
     },
     "metadata": {},
     "output_type": "display_data"
    },
    {
     "data": {
      "application/vnd.jupyter.widget-view+json": {
       "model_id": "f6f582ef1c454cdc976e6f3d08fc0a0c",
       "version_major": 2,
       "version_minor": 0
      },
      "text/plain": [
       "Creating json from Arrow format:   0%|          | 0/1 [00:00<?, ?ba/s]"
      ]
     },
     "metadata": {},
     "output_type": "display_data"
    },
    {
     "data": {
      "application/vnd.jupyter.widget-view+json": {
       "model_id": "7cde2bdf6fae4bcb909d9abe44659cc5",
       "version_major": 2,
       "version_minor": 0
      },
      "text/plain": [
       "Creating json from Arrow format:   0%|          | 0/1 [00:00<?, ?ba/s]"
      ]
     },
     "metadata": {},
     "output_type": "display_data"
    },
    {
     "data": {
      "application/vnd.jupyter.widget-view+json": {
       "model_id": "188399763221497194eca1abe57bb610",
       "version_major": 2,
       "version_minor": 0
      },
      "text/plain": [
       "Creating json from Arrow format:   0%|          | 0/1 [00:00<?, ?ba/s]"
      ]
     },
     "metadata": {},
     "output_type": "display_data"
    },
    {
     "data": {
      "application/vnd.jupyter.widget-view+json": {
       "model_id": "58229726f92146de99ef57456b4634da",
       "version_major": 2,
       "version_minor": 0
      },
      "text/plain": [
       "Creating json from Arrow format:   0%|          | 0/1 [00:00<?, ?ba/s]"
      ]
     },
     "metadata": {},
     "output_type": "display_data"
    },
    {
     "data": {
      "application/vnd.jupyter.widget-view+json": {
       "model_id": "003e908478334bfebdbe44a25ea41ac5",
       "version_major": 2,
       "version_minor": 0
      },
      "text/plain": [
       "Creating json from Arrow format:   0%|          | 0/1 [00:00<?, ?ba/s]"
      ]
     },
     "metadata": {},
     "output_type": "display_data"
    },
    {
     "data": {
      "application/vnd.jupyter.widget-view+json": {
       "model_id": "04c1cf3daada48b398ccdd07c221cfbf",
       "version_major": 2,
       "version_minor": 0
      },
      "text/plain": [
       "Creating json from Arrow format:   0%|          | 0/1 [00:00<?, ?ba/s]"
      ]
     },
     "metadata": {},
     "output_type": "display_data"
    },
    {
     "data": {
      "application/vnd.jupyter.widget-view+json": {
       "model_id": "84e8936cffdb474693916b9fbe4dc982",
       "version_major": 2,
       "version_minor": 0
      },
      "text/plain": [
       "  0%|          | 0/100 [00:00<?, ?ex/s]"
      ]
     },
     "metadata": {},
     "output_type": "display_data"
    },
    {
     "data": {
      "application/vnd.jupyter.widget-view+json": {
       "model_id": "c8aff3b02e7b4c11a08f01100ab0aca5",
       "version_major": 2,
       "version_minor": 0
      },
      "text/plain": [
       "  0%|          | 0/100 [00:00<?, ?ex/s]"
      ]
     },
     "metadata": {},
     "output_type": "display_data"
    },
    {
     "data": {
      "application/vnd.jupyter.widget-view+json": {
       "model_id": "5dd2ffb9f460495183ae5daaaa281deb",
       "version_major": 2,
       "version_minor": 0
      },
      "text/plain": [
       "  0%|          | 0/100 [00:00<?, ?ex/s]"
      ]
     },
     "metadata": {},
     "output_type": "display_data"
    },
    {
     "data": {
      "application/vnd.jupyter.widget-view+json": {
       "model_id": "13638f5905e645f0922e2091c5e9c289",
       "version_major": 2,
       "version_minor": 0
      },
      "text/plain": [
       "  0%|          | 0/100 [00:00<?, ?ex/s]"
      ]
     },
     "metadata": {},
     "output_type": "display_data"
    },
    {
     "data": {
      "application/vnd.jupyter.widget-view+json": {
       "model_id": "f9d7f1c1b76645dea3ac81fdb5effb7a",
       "version_major": 2,
       "version_minor": 0
      },
      "text/plain": [
       "  0%|          | 0/100 [00:00<?, ?ex/s]"
      ]
     },
     "metadata": {},
     "output_type": "display_data"
    },
    {
     "data": {
      "application/vnd.jupyter.widget-view+json": {
       "model_id": "4e076cdbaa234c0cba233ab5ccf50a1a",
       "version_major": 2,
       "version_minor": 0
      },
      "text/plain": [
       "  0%|          | 0/100 [00:00<?, ?ex/s]"
      ]
     },
     "metadata": {},
     "output_type": "display_data"
    },
    {
     "data": {
      "application/vnd.jupyter.widget-view+json": {
       "model_id": "18e8aaaa62464ce08c8eed5f8f8c4f50",
       "version_major": 2,
       "version_minor": 0
      },
      "text/plain": [
       "Creating json from Arrow format:   0%|          | 0/1 [00:00<?, ?ba/s]"
      ]
     },
     "metadata": {},
     "output_type": "display_data"
    },
    {
     "data": {
      "application/vnd.jupyter.widget-view+json": {
       "model_id": "04be344135804384bc1418fc53181140",
       "version_major": 2,
       "version_minor": 0
      },
      "text/plain": [
       "Creating json from Arrow format:   0%|          | 0/1 [00:00<?, ?ba/s]"
      ]
     },
     "metadata": {},
     "output_type": "display_data"
    },
    {
     "data": {
      "application/vnd.jupyter.widget-view+json": {
       "model_id": "5ec2d0e7df9d43df89993545c49fcaee",
       "version_major": 2,
       "version_minor": 0
      },
      "text/plain": [
       "Creating json from Arrow format:   0%|          | 0/1 [00:00<?, ?ba/s]"
      ]
     },
     "metadata": {},
     "output_type": "display_data"
    },
    {
     "data": {
      "application/vnd.jupyter.widget-view+json": {
       "model_id": "b8323013c9384b12ae264dbc6640d4e7",
       "version_major": 2,
       "version_minor": 0
      },
      "text/plain": [
       "Creating json from Arrow format:   0%|          | 0/1 [00:00<?, ?ba/s]"
      ]
     },
     "metadata": {},
     "output_type": "display_data"
    },
    {
     "data": {
      "application/vnd.jupyter.widget-view+json": {
       "model_id": "80d19a3b692540d2a4a8b75058312037",
       "version_major": 2,
       "version_minor": 0
      },
      "text/plain": [
       "Creating json from Arrow format:   0%|          | 0/1 [00:00<?, ?ba/s]"
      ]
     },
     "metadata": {},
     "output_type": "display_data"
    },
    {
     "data": {
      "application/vnd.jupyter.widget-view+json": {
       "model_id": "e345af8fd85a4577a0b06079668b234c",
       "version_major": 2,
       "version_minor": 0
      },
      "text/plain": [
       "Creating json from Arrow format:   0%|          | 0/1 [00:00<?, ?ba/s]"
      ]
     },
     "metadata": {},
     "output_type": "display_data"
    }
   ],
   "source": [
    "for filename in filenames:\n",
    "    collection = Collection.from_json(os.path.join(\".\", filename))\n",
    "    collection.evaluate(overwrite=True)\n",
    "    collection.dump(filename)"
   ]
  },
  {
   "attachments": {},
   "cell_type": "markdown",
   "metadata": {},
   "source": [
    "## Merge thoughtsource_100 collections"
   ]
  },
  {
   "cell_type": "code",
   "execution_count": null,
   "metadata": {},
   "outputs": [],
   "source": [
    "coll1 = Collection.from_json('./thoughtsource_data/thoughtsource_100_openai_cohere.json')\n",
    "coll2 = Collection.from_json('./thoughtsource_data/thoughtsource_100_kojima_lievin_wei.json')\n",
    "coll3 = Collection.from_json('./thoughtsource_data/thoughtsource_100_huggingface.json')"
   ]
  },
  {
   "cell_type": "code",
   "execution_count": 149,
   "metadata": {},
   "outputs": [
    {
     "data": {
      "application/vnd.jupyter.widget-view+json": {
       "model_id": "017a33e7e01d40d08860da5996b7bdcc",
       "version_major": 2,
       "version_minor": 0
      },
      "text/plain": [
       "Creating json from Arrow format:   0%|          | 0/1 [00:00<?, ?ba/s]"
      ]
     },
     "metadata": {},
     "output_type": "display_data"
    },
    {
     "data": {
      "application/vnd.jupyter.widget-view+json": {
       "model_id": "0aa1d1621096481b91adfdda53007249",
       "version_major": 2,
       "version_minor": 0
      },
      "text/plain": [
       "Creating json from Arrow format:   0%|          | 0/1 [00:00<?, ?ba/s]"
      ]
     },
     "metadata": {},
     "output_type": "display_data"
    },
    {
     "data": {
      "application/vnd.jupyter.widget-view+json": {
       "model_id": "0f87a6cfd32f476a8248b0650bb53ccf",
       "version_major": 2,
       "version_minor": 0
      },
      "text/plain": [
       "Creating json from Arrow format:   0%|          | 0/1 [00:00<?, ?ba/s]"
      ]
     },
     "metadata": {},
     "output_type": "display_data"
    },
    {
     "data": {
      "application/vnd.jupyter.widget-view+json": {
       "model_id": "c120f53d946549d28524ca777fb49084",
       "version_major": 2,
       "version_minor": 0
      },
      "text/plain": [
       "Creating json from Arrow format:   0%|          | 0/1 [00:00<?, ?ba/s]"
      ]
     },
     "metadata": {},
     "output_type": "display_data"
    },
    {
     "data": {
      "application/vnd.jupyter.widget-view+json": {
       "model_id": "f3742cb2552249ce8a88ee70c97e533a",
       "version_major": 2,
       "version_minor": 0
      },
      "text/plain": [
       "Creating json from Arrow format:   0%|          | 0/1 [00:00<?, ?ba/s]"
      ]
     },
     "metadata": {},
     "output_type": "display_data"
    },
    {
     "data": {
      "application/vnd.jupyter.widget-view+json": {
       "model_id": "15740c64da8a4f0fb678d2a255163f0e",
       "version_major": 2,
       "version_minor": 0
      },
      "text/plain": [
       "Creating json from Arrow format:   0%|          | 0/1 [00:00<?, ?ba/s]"
      ]
     },
     "metadata": {},
     "output_type": "display_data"
    },
    {
     "data": {
      "application/vnd.jupyter.widget-view+json": {
       "model_id": "276dcafa210341fb9601ea2f738f1c02",
       "version_major": 2,
       "version_minor": 0
      },
      "text/plain": [
       "Creating json from Arrow format:   0%|          | 0/1 [00:00<?, ?ba/s]"
      ]
     },
     "metadata": {},
     "output_type": "display_data"
    },
    {
     "data": {
      "application/vnd.jupyter.widget-view+json": {
       "model_id": "1f6696e4a8504226b455e685bf0adbae",
       "version_major": 2,
       "version_minor": 0
      },
      "text/plain": [
       "Creating json from Arrow format:   0%|          | 0/1 [00:00<?, ?ba/s]"
      ]
     },
     "metadata": {},
     "output_type": "display_data"
    },
    {
     "data": {
      "application/vnd.jupyter.widget-view+json": {
       "model_id": "bd352059fcc543b0ab13fa88afda26a8",
       "version_major": 2,
       "version_minor": 0
      },
      "text/plain": [
       "Creating json from Arrow format:   0%|          | 0/1 [00:00<?, ?ba/s]"
      ]
     },
     "metadata": {},
     "output_type": "display_data"
    },
    {
     "data": {
      "application/vnd.jupyter.widget-view+json": {
       "model_id": "361f079cdce54e27aafb53b2af179587",
       "version_major": 2,
       "version_minor": 0
      },
      "text/plain": [
       "Creating json from Arrow format:   0%|          | 0/1 [00:00<?, ?ba/s]"
      ]
     },
     "metadata": {},
     "output_type": "display_data"
    },
    {
     "data": {
      "application/vnd.jupyter.widget-view+json": {
       "model_id": "7151f193e38548d6b2600722c4d01ade",
       "version_major": 2,
       "version_minor": 0
      },
      "text/plain": [
       "Creating json from Arrow format:   0%|          | 0/1 [00:00<?, ?ba/s]"
      ]
     },
     "metadata": {},
     "output_type": "display_data"
    },
    {
     "data": {
      "application/vnd.jupyter.widget-view+json": {
       "model_id": "25d1e11743454edfbfe87d4ceb15b046",
       "version_major": 2,
       "version_minor": 0
      },
      "text/plain": [
       "Creating json from Arrow format:   0%|          | 0/1 [00:00<?, ?ba/s]"
      ]
     },
     "metadata": {},
     "output_type": "display_data"
    },
    {
     "data": {
      "application/vnd.jupyter.widget-view+json": {
       "model_id": "7485e9c8a5bc4b30bcd92ba41995c2ae",
       "version_major": 2,
       "version_minor": 0
      },
      "text/plain": [
       "Creating json from Arrow format:   0%|          | 0/1 [00:00<?, ?ba/s]"
      ]
     },
     "metadata": {},
     "output_type": "display_data"
    },
    {
     "data": {
      "application/vnd.jupyter.widget-view+json": {
       "model_id": "9158d2b410094e5a8540350c4a2194de",
       "version_major": 2,
       "version_minor": 0
      },
      "text/plain": [
       "Creating json from Arrow format:   0%|          | 0/1 [00:00<?, ?ba/s]"
      ]
     },
     "metadata": {},
     "output_type": "display_data"
    },
    {
     "data": {
      "application/vnd.jupyter.widget-view+json": {
       "model_id": "167c7bdcd0ae4523bf56eaa6bf8f8dcd",
       "version_major": 2,
       "version_minor": 0
      },
      "text/plain": [
       "Creating json from Arrow format:   0%|          | 0/1 [00:00<?, ?ba/s]"
      ]
     },
     "metadata": {},
     "output_type": "display_data"
    },
    {
     "data": {
      "application/vnd.jupyter.widget-view+json": {
       "model_id": "67bf52157b8d458dba4cad117c97c910",
       "version_major": 2,
       "version_minor": 0
      },
      "text/plain": [
       "Creating json from Arrow format:   0%|          | 0/1 [00:00<?, ?ba/s]"
      ]
     },
     "metadata": {},
     "output_type": "display_data"
    },
    {
     "data": {
      "application/vnd.jupyter.widget-view+json": {
       "model_id": "3a9070c4b2564b8ea1d82ac67f400544",
       "version_major": 2,
       "version_minor": 0
      },
      "text/plain": [
       "Creating json from Arrow format:   0%|          | 0/1 [00:00<?, ?ba/s]"
      ]
     },
     "metadata": {},
     "output_type": "display_data"
    },
    {
     "data": {
      "application/vnd.jupyter.widget-view+json": {
       "model_id": "d73f99c908ab4d138fb57e1e78238227",
       "version_major": 2,
       "version_minor": 0
      },
      "text/plain": [
       "Creating json from Arrow format:   0%|          | 0/1 [00:00<?, ?ba/s]"
      ]
     },
     "metadata": {},
     "output_type": "display_data"
    },
    {
     "data": {
      "application/vnd.jupyter.widget-view+json": {
       "model_id": "011f61e04cd741cea56611c4918083e8",
       "version_major": 2,
       "version_minor": 0
      },
      "text/plain": [
       "Creating json from Arrow format:   0%|          | 0/1 [00:00<?, ?ba/s]"
      ]
     },
     "metadata": {},
     "output_type": "display_data"
    },
    {
     "data": {
      "application/vnd.jupyter.widget-view+json": {
       "model_id": "7a82f7d7827c4e4e9affc4f7e46b2733",
       "version_major": 2,
       "version_minor": 0
      },
      "text/plain": [
       "Creating json from Arrow format:   0%|          | 0/1 [00:00<?, ?ba/s]"
      ]
     },
     "metadata": {},
     "output_type": "display_data"
    },
    {
     "data": {
      "application/vnd.jupyter.widget-view+json": {
       "model_id": "8e70394e89ea44db83ace0767c445266",
       "version_major": 2,
       "version_minor": 0
      },
      "text/plain": [
       "Creating json from Arrow format:   0%|          | 0/1 [00:00<?, ?ba/s]"
      ]
     },
     "metadata": {},
     "output_type": "display_data"
    },
    {
     "data": {
      "application/vnd.jupyter.widget-view+json": {
       "model_id": "b3f7f1306e3d4f929032137498ca75af",
       "version_major": 2,
       "version_minor": 0
      },
      "text/plain": [
       "Creating json from Arrow format:   0%|          | 0/1 [00:00<?, ?ba/s]"
      ]
     },
     "metadata": {},
     "output_type": "display_data"
    },
    {
     "data": {
      "application/vnd.jupyter.widget-view+json": {
       "model_id": "b94176c021014e1e9f0864c4877e58c1",
       "version_major": 2,
       "version_minor": 0
      },
      "text/plain": [
       "Creating json from Arrow format:   0%|          | 0/1 [00:00<?, ?ba/s]"
      ]
     },
     "metadata": {},
     "output_type": "display_data"
    },
    {
     "data": {
      "application/vnd.jupyter.widget-view+json": {
       "model_id": "37054bff20344c91bf0727df2a96e85f",
       "version_major": 2,
       "version_minor": 0
      },
      "text/plain": [
       "Creating json from Arrow format:   0%|          | 0/1 [00:00<?, ?ba/s]"
      ]
     },
     "metadata": {},
     "output_type": "display_data"
    }
   ],
   "source": [
    "coll_merge = coll1.merge(coll2).merge(coll3)"
   ]
  },
  {
   "cell_type": "code",
   "execution_count": 145,
   "metadata": {},
   "outputs": [
    {
     "data": {
      "application/vnd.jupyter.widget-view+json": {
       "model_id": "58322897bbe0470cbd9b87432b266907",
       "version_major": 2,
       "version_minor": 0
      },
      "text/plain": [
       "Creating json from Arrow format:   0%|          | 0/1 [00:00<?, ?ba/s]"
      ]
     },
     "metadata": {},
     "output_type": "display_data"
    },
    {
     "data": {
      "application/vnd.jupyter.widget-view+json": {
       "model_id": "bbeeeeb8d8bc4d5383ca0e22500cc72c",
       "version_major": 2,
       "version_minor": 0
      },
      "text/plain": [
       "Creating json from Arrow format:   0%|          | 0/1 [00:00<?, ?ba/s]"
      ]
     },
     "metadata": {},
     "output_type": "display_data"
    },
    {
     "data": {
      "application/vnd.jupyter.widget-view+json": {
       "model_id": "83e75aa07c4e4d59a89707b3b2f3696b",
       "version_major": 2,
       "version_minor": 0
      },
      "text/plain": [
       "Creating json from Arrow format:   0%|          | 0/1 [00:00<?, ?ba/s]"
      ]
     },
     "metadata": {},
     "output_type": "display_data"
    },
    {
     "data": {
      "application/vnd.jupyter.widget-view+json": {
       "model_id": "df8e922c9f8b4b3ba8f1dd1704c8730a",
       "version_major": 2,
       "version_minor": 0
      },
      "text/plain": [
       "Creating json from Arrow format:   0%|          | 0/1 [00:00<?, ?ba/s]"
      ]
     },
     "metadata": {},
     "output_type": "display_data"
    },
    {
     "data": {
      "application/vnd.jupyter.widget-view+json": {
       "model_id": "b14d6cc22c3e4df9bda3992a95ba0492",
       "version_major": 2,
       "version_minor": 0
      },
      "text/plain": [
       "Creating json from Arrow format:   0%|          | 0/1 [00:00<?, ?ba/s]"
      ]
     },
     "metadata": {},
     "output_type": "display_data"
    },
    {
     "data": {
      "application/vnd.jupyter.widget-view+json": {
       "model_id": "2583adec713f416396aa5beaf332524a",
       "version_major": 2,
       "version_minor": 0
      },
      "text/plain": [
       "Creating json from Arrow format:   0%|          | 0/1 [00:00<?, ?ba/s]"
      ]
     },
     "metadata": {},
     "output_type": "display_data"
    },
    {
     "data": {
      "application/vnd.jupyter.widget-view+json": {
       "model_id": "0a2f22a9737b4a219eff4fb4233a0e0e",
       "version_major": 2,
       "version_minor": 0
      },
      "text/plain": [
       "  0%|          | 0/100 [00:00<?, ?ex/s]"
      ]
     },
     "metadata": {},
     "output_type": "display_data"
    },
    {
     "data": {
      "application/vnd.jupyter.widget-view+json": {
       "model_id": "7251d4bdba5b4daf954bd97671dafafc",
       "version_major": 2,
       "version_minor": 0
      },
      "text/plain": [
       "  0%|          | 0/100 [00:00<?, ?ex/s]"
      ]
     },
     "metadata": {},
     "output_type": "display_data"
    },
    {
     "data": {
      "application/vnd.jupyter.widget-view+json": {
       "model_id": "0be67a74538e4c929effaef071c44b5f",
       "version_major": 2,
       "version_minor": 0
      },
      "text/plain": [
       "  0%|          | 0/100 [00:00<?, ?ex/s]"
      ]
     },
     "metadata": {},
     "output_type": "display_data"
    },
    {
     "data": {
      "application/vnd.jupyter.widget-view+json": {
       "model_id": "46cc6e224d9c4de39709550ca8919e21",
       "version_major": 2,
       "version_minor": 0
      },
      "text/plain": [
       "  0%|          | 0/100 [00:00<?, ?ex/s]"
      ]
     },
     "metadata": {},
     "output_type": "display_data"
    },
    {
     "data": {
      "application/vnd.jupyter.widget-view+json": {
       "model_id": "b15a0a1c13214b64b87919eb0ae41fbb",
       "version_major": 2,
       "version_minor": 0
      },
      "text/plain": [
       "  0%|          | 0/100 [00:00<?, ?ex/s]"
      ]
     },
     "metadata": {},
     "output_type": "display_data"
    },
    {
     "data": {
      "application/vnd.jupyter.widget-view+json": {
       "model_id": "30dd0523cf254fc2b4fb8a247419977f",
       "version_major": 2,
       "version_minor": 0
      },
      "text/plain": [
       "  0%|          | 0/100 [00:00<?, ?ex/s]"
      ]
     },
     "metadata": {},
     "output_type": "display_data"
    },
    {
     "data": {
      "application/vnd.jupyter.widget-view+json": {
       "model_id": "f2a4f33667aa4d3ca21872aec5c63134",
       "version_major": 2,
       "version_minor": 0
      },
      "text/plain": [
       "Creating json from Arrow format:   0%|          | 0/1 [00:00<?, ?ba/s]"
      ]
     },
     "metadata": {},
     "output_type": "display_data"
    },
    {
     "data": {
      "application/vnd.jupyter.widget-view+json": {
       "model_id": "51488620f15c4a2aa5c8c709cf14a1af",
       "version_major": 2,
       "version_minor": 0
      },
      "text/plain": [
       "Creating json from Arrow format:   0%|          | 0/1 [00:00<?, ?ba/s]"
      ]
     },
     "metadata": {},
     "output_type": "display_data"
    },
    {
     "data": {
      "application/vnd.jupyter.widget-view+json": {
       "model_id": "c00b25116c55410d9f6849fc3f24fad6",
       "version_major": 2,
       "version_minor": 0
      },
      "text/plain": [
       "Creating json from Arrow format:   0%|          | 0/1 [00:00<?, ?ba/s]"
      ]
     },
     "metadata": {},
     "output_type": "display_data"
    },
    {
     "data": {
      "application/vnd.jupyter.widget-view+json": {
       "model_id": "fbabfa0e756d470d86b8451a7dfaafa8",
       "version_major": 2,
       "version_minor": 0
      },
      "text/plain": [
       "Creating json from Arrow format:   0%|          | 0/1 [00:00<?, ?ba/s]"
      ]
     },
     "metadata": {},
     "output_type": "display_data"
    },
    {
     "data": {
      "application/vnd.jupyter.widget-view+json": {
       "model_id": "4b539b1f5dcb473d86b0a4e673280b75",
       "version_major": 2,
       "version_minor": 0
      },
      "text/plain": [
       "Creating json from Arrow format:   0%|          | 0/1 [00:00<?, ?ba/s]"
      ]
     },
     "metadata": {},
     "output_type": "display_data"
    },
    {
     "data": {
      "application/vnd.jupyter.widget-view+json": {
       "model_id": "fd5dbbaeb0c54cf88366072e74f28c08",
       "version_major": 2,
       "version_minor": 0
      },
      "text/plain": [
       "Creating json from Arrow format:   0%|          | 0/1 [00:00<?, ?ba/s]"
      ]
     },
     "metadata": {},
     "output_type": "display_data"
    },
    {
     "data": {
      "application/vnd.jupyter.widget-view+json": {
       "model_id": "69b928e6d61046fea660fdb76b59fa64",
       "version_major": 2,
       "version_minor": 0
      },
      "text/plain": [
       "Creating json from Arrow format:   0%|          | 0/1 [00:00<?, ?ba/s]"
      ]
     },
     "metadata": {},
     "output_type": "display_data"
    },
    {
     "data": {
      "application/vnd.jupyter.widget-view+json": {
       "model_id": "a4734e4e5e5f46b1a3e08bac960fd6a6",
       "version_major": 2,
       "version_minor": 0
      },
      "text/plain": [
       "Creating json from Arrow format:   0%|          | 0/1 [00:00<?, ?ba/s]"
      ]
     },
     "metadata": {},
     "output_type": "display_data"
    },
    {
     "data": {
      "application/vnd.jupyter.widget-view+json": {
       "model_id": "52a5598a6f714b18a7bc1fd4b5b99cf0",
       "version_major": 2,
       "version_minor": 0
      },
      "text/plain": [
       "Creating json from Arrow format:   0%|          | 0/1 [00:00<?, ?ba/s]"
      ]
     },
     "metadata": {},
     "output_type": "display_data"
    },
    {
     "data": {
      "application/vnd.jupyter.widget-view+json": {
       "model_id": "901a754a487647aeb3ebf421e2af532b",
       "version_major": 2,
       "version_minor": 0
      },
      "text/plain": [
       "Creating json from Arrow format:   0%|          | 0/1 [00:00<?, ?ba/s]"
      ]
     },
     "metadata": {},
     "output_type": "display_data"
    },
    {
     "data": {
      "application/vnd.jupyter.widget-view+json": {
       "model_id": "449602aef47c45fd83adc91aab0d24c8",
       "version_major": 2,
       "version_minor": 0
      },
      "text/plain": [
       "Creating json from Arrow format:   0%|          | 0/1 [00:00<?, ?ba/s]"
      ]
     },
     "metadata": {},
     "output_type": "display_data"
    },
    {
     "data": {
      "application/vnd.jupyter.widget-view+json": {
       "model_id": "5d41ed0d49ba4ecab5eebef7910491f7",
       "version_major": 2,
       "version_minor": 0
      },
      "text/plain": [
       "Creating json from Arrow format:   0%|          | 0/1 [00:00<?, ?ba/s]"
      ]
     },
     "metadata": {},
     "output_type": "display_data"
    },
    {
     "data": {
      "application/vnd.jupyter.widget-view+json": {
       "model_id": "77d99a0abd4048ea95439181a1a6108f",
       "version_major": 2,
       "version_minor": 0
      },
      "text/plain": [
       "Creating json from Arrow format:   0%|          | 0/1 [00:00<?, ?ba/s]"
      ]
     },
     "metadata": {},
     "output_type": "display_data"
    },
    {
     "data": {
      "application/vnd.jupyter.widget-view+json": {
       "model_id": "83718ae42e1047aabc5f7737d9379e63",
       "version_major": 2,
       "version_minor": 0
      },
      "text/plain": [
       "Creating json from Arrow format:   0%|          | 0/1 [00:00<?, ?ba/s]"
      ]
     },
     "metadata": {},
     "output_type": "display_data"
    },
    {
     "data": {
      "application/vnd.jupyter.widget-view+json": {
       "model_id": "766c6bf1f5dc4bca8a68f7bf224b79f7",
       "version_major": 2,
       "version_minor": 0
      },
      "text/plain": [
       "Creating json from Arrow format:   0%|          | 0/1 [00:00<?, ?ba/s]"
      ]
     },
     "metadata": {},
     "output_type": "display_data"
    },
    {
     "data": {
      "application/vnd.jupyter.widget-view+json": {
       "model_id": "8cf5e0b81af64071bfbb044dcc918111",
       "version_major": 2,
       "version_minor": 0
      },
      "text/plain": [
       "Creating json from Arrow format:   0%|          | 0/1 [00:00<?, ?ba/s]"
      ]
     },
     "metadata": {},
     "output_type": "display_data"
    },
    {
     "data": {
      "application/vnd.jupyter.widget-view+json": {
       "model_id": "c9e99690e15740be9ae8a2bb70cd1b26",
       "version_major": 2,
       "version_minor": 0
      },
      "text/plain": [
       "Creating json from Arrow format:   0%|          | 0/1 [00:00<?, ?ba/s]"
      ]
     },
     "metadata": {},
     "output_type": "display_data"
    },
    {
     "data": {
      "application/vnd.jupyter.widget-view+json": {
       "model_id": "9c82b3cb94e94873920aa95afae35760",
       "version_major": 2,
       "version_minor": 0
      },
      "text/plain": [
       "Creating json from Arrow format:   0%|          | 0/1 [00:00<?, ?ba/s]"
      ]
     },
     "metadata": {},
     "output_type": "display_data"
    }
   ],
   "source": [
    "compare_evaluation_difference(coll_merge)"
   ]
  },
  {
   "cell_type": "code",
   "execution_count": 150,
   "metadata": {},
   "outputs": [
    {
     "data": {
      "application/vnd.jupyter.widget-view+json": {
       "model_id": "20f59c858457445ba23cfbd2427c8106",
       "version_major": 2,
       "version_minor": 0
      },
      "text/plain": [
       "Creating json from Arrow format:   0%|          | 0/1 [00:00<?, ?ba/s]"
      ]
     },
     "metadata": {},
     "output_type": "display_data"
    },
    {
     "data": {
      "application/vnd.jupyter.widget-view+json": {
       "model_id": "d24e37868a9d402a8c48d1282a3454a3",
       "version_major": 2,
       "version_minor": 0
      },
      "text/plain": [
       "Creating json from Arrow format:   0%|          | 0/1 [00:00<?, ?ba/s]"
      ]
     },
     "metadata": {},
     "output_type": "display_data"
    },
    {
     "data": {
      "application/vnd.jupyter.widget-view+json": {
       "model_id": "2c8f34b5504742859dc6437394f1d30f",
       "version_major": 2,
       "version_minor": 0
      },
      "text/plain": [
       "Creating json from Arrow format:   0%|          | 0/1 [00:00<?, ?ba/s]"
      ]
     },
     "metadata": {},
     "output_type": "display_data"
    },
    {
     "data": {
      "application/vnd.jupyter.widget-view+json": {
       "model_id": "1a7d12d8f9454f7e803bd0e3cba82f31",
       "version_major": 2,
       "version_minor": 0
      },
      "text/plain": [
       "Creating json from Arrow format:   0%|          | 0/1 [00:00<?, ?ba/s]"
      ]
     },
     "metadata": {},
     "output_type": "display_data"
    },
    {
     "data": {
      "application/vnd.jupyter.widget-view+json": {
       "model_id": "c26d9f20f51f49aa955edfd357edf338",
       "version_major": 2,
       "version_minor": 0
      },
      "text/plain": [
       "Creating json from Arrow format:   0%|          | 0/1 [00:00<?, ?ba/s]"
      ]
     },
     "metadata": {},
     "output_type": "display_data"
    },
    {
     "data": {
      "application/vnd.jupyter.widget-view+json": {
       "model_id": "698db2cd927642468984e7e7287ce1e3",
       "version_major": 2,
       "version_minor": 0
      },
      "text/plain": [
       "Creating json from Arrow format:   0%|          | 0/1 [00:00<?, ?ba/s]"
      ]
     },
     "metadata": {},
     "output_type": "display_data"
    }
   ],
   "source": [
    "coll_merge.dump('./thoughtsource_data/thoughtsource_100_all_cots.json')"
   ]
  },
  {
   "attachments": {},
   "cell_type": "markdown",
   "metadata": {},
   "source": [
    "## Compare evaluation scores"
   ]
  },
  {
   "cell_type": "code",
   "execution_count": 16,
   "metadata": {},
   "outputs": [
    {
     "name": "stdout",
     "output_type": "stream",
     "text": [
      "Evaluating commonsense_qa...\n"
     ]
    },
    {
     "data": {
      "application/vnd.jupyter.widget-view+json": {
       "model_id": "b95eb24dbb7c4dabab0e91eb50913518",
       "version_major": 2,
       "version_minor": 0
      },
      "text/plain": [
       "  0%|          | 0/100 [00:00<?, ?ex/s]"
      ]
     },
     "metadata": {},
     "output_type": "display_data"
    },
    {
     "name": "stdout",
     "output_type": "stream",
     "text": [
      "Evaluating med_qa...\n"
     ]
    },
    {
     "data": {
      "application/vnd.jupyter.widget-view+json": {
       "model_id": "c0d41f12264a4ad9900dac4541c52b98",
       "version_major": 2,
       "version_minor": 0
      },
      "text/plain": [
       "  0%|          | 0/100 [00:00<?, ?ex/s]"
      ]
     },
     "metadata": {},
     "output_type": "display_data"
    },
    {
     "name": "stdout",
     "output_type": "stream",
     "text": [
      "Evaluating medmc_qa...\n"
     ]
    },
    {
     "data": {
      "application/vnd.jupyter.widget-view+json": {
       "model_id": "5281896bb6214723b8c2d9ec4f25ab87",
       "version_major": 2,
       "version_minor": 0
      },
      "text/plain": [
       "  0%|          | 0/100 [00:00<?, ?ex/s]"
      ]
     },
     "metadata": {},
     "output_type": "display_data"
    },
    {
     "name": "stdout",
     "output_type": "stream",
     "text": [
      "Evaluating open_book_qa...\n"
     ]
    },
    {
     "data": {
      "application/vnd.jupyter.widget-view+json": {
       "model_id": "bfb15252fb664c519952d942dee319bd",
       "version_major": 2,
       "version_minor": 0
      },
      "text/plain": [
       "  0%|          | 0/100 [00:00<?, ?ex/s]"
      ]
     },
     "metadata": {},
     "output_type": "display_data"
    },
    {
     "name": "stdout",
     "output_type": "stream",
     "text": [
      "Evaluating strategy_qa...\n"
     ]
    },
    {
     "data": {
      "application/vnd.jupyter.widget-view+json": {
       "model_id": "4ea9d85ffca54cea99e5e97e9710148c",
       "version_major": 2,
       "version_minor": 0
      },
      "text/plain": [
       "  0%|          | 0/100 [00:00<?, ?ex/s]"
      ]
     },
     "metadata": {},
     "output_type": "display_data"
    },
    {
     "name": "stdout",
     "output_type": "stream",
     "text": [
      "Evaluating worldtree...\n"
     ]
    },
    {
     "data": {
      "application/vnd.jupyter.widget-view+json": {
       "model_id": "833c3631aa5c416cb84c7aaf5c4e6aee",
       "version_major": 2,
       "version_minor": 0
      },
      "text/plain": [
       "  0%|          | 0/100 [00:00<?, ?ex/s]"
      ]
     },
     "metadata": {},
     "output_type": "display_data"
    },
    {
     "data": {
      "text/html": [
       "<div>\n",
       "<style scoped>\n",
       "    .dataframe tbody tr th:only-of-type {\n",
       "        vertical-align: middle;\n",
       "    }\n",
       "\n",
       "    .dataframe tbody tr th {\n",
       "        vertical-align: top;\n",
       "    }\n",
       "\n",
       "    .dataframe thead tr th {\n",
       "        text-align: left;\n",
       "    }\n",
       "</style>\n",
       "<table border=\"1\" class=\"dataframe\">\n",
       "  <thead>\n",
       "    <tr>\n",
       "      <th></th>\n",
       "      <th colspan=\"4\" halign=\"left\">None</th>\n",
       "      <th colspan=\"4\" halign=\"left\">kojima-01</th>\n",
       "      <th>lievin-01</th>\n",
       "      <th>lievin-02</th>\n",
       "      <th>lievin-03</th>\n",
       "      <th>lievin-10</th>\n",
       "    </tr>\n",
       "    <tr>\n",
       "      <th></th>\n",
       "      <th>command-xlarge-nightly</th>\n",
       "      <th>flan-T5-xxl</th>\n",
       "      <th>text-davinci-002</th>\n",
       "      <th>text-davinci-003</th>\n",
       "      <th>command-xlarge-nightly</th>\n",
       "      <th>flan-T5-xxl</th>\n",
       "      <th>text-davinci-002</th>\n",
       "      <th>text-davinci-003</th>\n",
       "      <th>text-davinci-002</th>\n",
       "      <th>text-davinci-002</th>\n",
       "      <th>text-davinci-002</th>\n",
       "      <th>text-davinci-002</th>\n",
       "    </tr>\n",
       "  </thead>\n",
       "  <tbody>\n",
       "    <tr>\n",
       "      <th>commonsense_qa</th>\n",
       "      <td>0.53</td>\n",
       "      <td>0.87</td>\n",
       "      <td>0.69</td>\n",
       "      <td>0.72</td>\n",
       "      <td>0.53</td>\n",
       "      <td>0.81</td>\n",
       "      <td>0.7</td>\n",
       "      <td>0.66</td>\n",
       "      <td>NaN</td>\n",
       "      <td>NaN</td>\n",
       "      <td>NaN</td>\n",
       "      <td>NaN</td>\n",
       "    </tr>\n",
       "    <tr>\n",
       "      <th>med_qa</th>\n",
       "      <td>0.23</td>\n",
       "      <td>0.32</td>\n",
       "      <td>NaN</td>\n",
       "      <td>0.39</td>\n",
       "      <td>0.31</td>\n",
       "      <td>0.34</td>\n",
       "      <td>0.46</td>\n",
       "      <td>0.42</td>\n",
       "      <td>0.44</td>\n",
       "      <td>0.5</td>\n",
       "      <td>0.49</td>\n",
       "      <td>0.45</td>\n",
       "    </tr>\n",
       "    <tr>\n",
       "      <th>medmc_qa</th>\n",
       "      <td>0.25</td>\n",
       "      <td>0.34</td>\n",
       "      <td>NaN</td>\n",
       "      <td>0.39</td>\n",
       "      <td>0.23</td>\n",
       "      <td>0.35</td>\n",
       "      <td>0.37</td>\n",
       "      <td>0.32</td>\n",
       "      <td>0.45</td>\n",
       "      <td>0.41</td>\n",
       "      <td>0.4</td>\n",
       "      <td>0.42</td>\n",
       "    </tr>\n",
       "    <tr>\n",
       "      <th>open_book_qa</th>\n",
       "      <td>0.6</td>\n",
       "      <td>0.82</td>\n",
       "      <td>NaN</td>\n",
       "      <td>0.69</td>\n",
       "      <td>0.38</td>\n",
       "      <td>0.79</td>\n",
       "      <td>NaN</td>\n",
       "      <td>0.68</td>\n",
       "      <td>NaN</td>\n",
       "      <td>NaN</td>\n",
       "      <td>NaN</td>\n",
       "      <td>NaN</td>\n",
       "    </tr>\n",
       "    <tr>\n",
       "      <th>strategy_qa</th>\n",
       "      <td>0.52</td>\n",
       "      <td>0.61</td>\n",
       "      <td>0.59</td>\n",
       "      <td>0.53</td>\n",
       "      <td>0.59</td>\n",
       "      <td>0.69</td>\n",
       "      <td>0.54</td>\n",
       "      <td>0.48</td>\n",
       "      <td>NaN</td>\n",
       "      <td>NaN</td>\n",
       "      <td>NaN</td>\n",
       "      <td>NaN</td>\n",
       "    </tr>\n",
       "    <tr>\n",
       "      <th>worldtree</th>\n",
       "      <td>0.59</td>\n",
       "      <td>0.85</td>\n",
       "      <td>NaN</td>\n",
       "      <td>0.85</td>\n",
       "      <td>0.53</td>\n",
       "      <td>0.8</td>\n",
       "      <td>NaN</td>\n",
       "      <td>0.73</td>\n",
       "      <td>NaN</td>\n",
       "      <td>NaN</td>\n",
       "      <td>NaN</td>\n",
       "      <td>NaN</td>\n",
       "    </tr>\n",
       "  </tbody>\n",
       "</table>\n",
       "</div>"
      ],
      "text/plain": [
       "                                 None                               \\\n",
       "               command-xlarge-nightly flan-T5-xxl text-davinci-002   \n",
       "commonsense_qa                   0.53        0.87             0.69   \n",
       "med_qa                           0.23        0.32              NaN   \n",
       "medmc_qa                         0.25        0.34              NaN   \n",
       "open_book_qa                      0.6        0.82              NaN   \n",
       "strategy_qa                      0.52        0.61             0.59   \n",
       "worldtree                        0.59        0.85              NaN   \n",
       "\n",
       "                                             kojima-01              \\\n",
       "               text-davinci-003 command-xlarge-nightly flan-T5-xxl   \n",
       "commonsense_qa             0.72                   0.53        0.81   \n",
       "med_qa                     0.39                   0.31        0.34   \n",
       "medmc_qa                   0.39                   0.23        0.35   \n",
       "open_book_qa               0.69                   0.38        0.79   \n",
       "strategy_qa                0.53                   0.59        0.69   \n",
       "worldtree                  0.85                   0.53         0.8   \n",
       "\n",
       "                                                        lievin-01  \\\n",
       "               text-davinci-002 text-davinci-003 text-davinci-002   \n",
       "commonsense_qa              0.7             0.66              NaN   \n",
       "med_qa                     0.46             0.42             0.44   \n",
       "medmc_qa                   0.37             0.32             0.45   \n",
       "open_book_qa                NaN             0.68              NaN   \n",
       "strategy_qa                0.54             0.48              NaN   \n",
       "worldtree                   NaN             0.73              NaN   \n",
       "\n",
       "                      lievin-02        lievin-03        lievin-10  \n",
       "               text-davinci-002 text-davinci-002 text-davinci-002  \n",
       "commonsense_qa              NaN              NaN              NaN  \n",
       "med_qa                      0.5             0.49             0.45  \n",
       "medmc_qa                   0.41              0.4             0.42  \n",
       "open_book_qa                NaN              NaN              NaN  \n",
       "strategy_qa                 NaN              NaN              NaN  \n",
       "worldtree                   NaN              NaN              NaN  "
      ]
     },
     "execution_count": 16,
     "metadata": {},
     "output_type": "execute_result"
    }
   ],
   "source": [
    "eval1 = coll.evaluate()\n",
    "evaluation_as_table(eval1)"
   ]
  },
  {
   "cell_type": "code",
   "execution_count": 22,
   "metadata": {},
   "outputs": [
    {
     "data": {
      "application/vnd.jupyter.widget-view+json": {
       "model_id": "cafbd571d81e4e90a3c090d387a7a8bf",
       "version_major": 2,
       "version_minor": 0
      },
      "text/plain": [
       "  0%|          | 0/100 [00:00<?, ?ex/s]"
      ]
     },
     "metadata": {},
     "output_type": "display_data"
    },
    {
     "data": {
      "application/vnd.jupyter.widget-view+json": {
       "model_id": "ceb6ec7d32a44027ae04099f3f01f066",
       "version_major": 2,
       "version_minor": 0
      },
      "text/plain": [
       "  0%|          | 0/100 [00:00<?, ?ex/s]"
      ]
     },
     "metadata": {},
     "output_type": "display_data"
    },
    {
     "data": {
      "application/vnd.jupyter.widget-view+json": {
       "model_id": "83203b3090aa44a99e15b342edcab337",
       "version_major": 2,
       "version_minor": 0
      },
      "text/plain": [
       "  0%|          | 0/100 [00:00<?, ?ex/s]"
      ]
     },
     "metadata": {},
     "output_type": "display_data"
    },
    {
     "data": {
      "application/vnd.jupyter.widget-view+json": {
       "model_id": "f97364b92e7445a4b9352a4a3b3bb1ee",
       "version_major": 2,
       "version_minor": 0
      },
      "text/plain": [
       "  0%|          | 0/100 [00:00<?, ?ex/s]"
      ]
     },
     "metadata": {},
     "output_type": "display_data"
    },
    {
     "data": {
      "application/vnd.jupyter.widget-view+json": {
       "model_id": "27b71d2fe8df4276b596e326643afa2a",
       "version_major": 2,
       "version_minor": 0
      },
      "text/plain": [
       "  0%|          | 0/100 [00:00<?, ?ex/s]"
      ]
     },
     "metadata": {},
     "output_type": "display_data"
    },
    {
     "data": {
      "application/vnd.jupyter.widget-view+json": {
       "model_id": "0523b7ae84394412864f7e4abd7794b3",
       "version_major": 2,
       "version_minor": 0
      },
      "text/plain": [
       "  0%|          | 0/100 [00:00<?, ?ex/s]"
      ]
     },
     "metadata": {},
     "output_type": "display_data"
    },
    {
     "data": {
      "text/html": [
       "<div>\n",
       "<style scoped>\n",
       "    .dataframe tbody tr th:only-of-type {\n",
       "        vertical-align: middle;\n",
       "    }\n",
       "\n",
       "    .dataframe tbody tr th {\n",
       "        vertical-align: top;\n",
       "    }\n",
       "\n",
       "    .dataframe thead tr th {\n",
       "        text-align: left;\n",
       "    }\n",
       "</style>\n",
       "<table border=\"1\" class=\"dataframe\">\n",
       "  <thead>\n",
       "    <tr>\n",
       "      <th></th>\n",
       "      <th colspan=\"4\" halign=\"left\">None</th>\n",
       "      <th colspan=\"4\" halign=\"left\">kojima-01</th>\n",
       "      <th>lievin-01</th>\n",
       "      <th>lievin-02</th>\n",
       "      <th>lievin-03</th>\n",
       "      <th>lievin-10</th>\n",
       "    </tr>\n",
       "    <tr>\n",
       "      <th></th>\n",
       "      <th>command-xlarge-nightly</th>\n",
       "      <th>flan-T5-xxl</th>\n",
       "      <th>text-davinci-002</th>\n",
       "      <th>text-davinci-003</th>\n",
       "      <th>command-xlarge-nightly</th>\n",
       "      <th>flan-T5-xxl</th>\n",
       "      <th>text-davinci-002</th>\n",
       "      <th>text-davinci-003</th>\n",
       "      <th>text-davinci-002</th>\n",
       "      <th>text-davinci-002</th>\n",
       "      <th>text-davinci-002</th>\n",
       "      <th>text-davinci-002</th>\n",
       "    </tr>\n",
       "  </thead>\n",
       "  <tbody>\n",
       "    <tr>\n",
       "      <th>commonsense_qa</th>\n",
       "      <td>0.53</td>\n",
       "      <td>0.87</td>\n",
       "      <td>0.69</td>\n",
       "      <td>0.72</td>\n",
       "      <td>0.53</td>\n",
       "      <td>0.81</td>\n",
       "      <td>0.7</td>\n",
       "      <td>0.66</td>\n",
       "      <td>NaN</td>\n",
       "      <td>NaN</td>\n",
       "      <td>NaN</td>\n",
       "      <td>NaN</td>\n",
       "    </tr>\n",
       "    <tr>\n",
       "      <th>med_qa</th>\n",
       "      <td>0.23</td>\n",
       "      <td>0.32</td>\n",
       "      <td>NaN</td>\n",
       "      <td>0.39</td>\n",
       "      <td>0.31</td>\n",
       "      <td>0.34</td>\n",
       "      <td>0.46</td>\n",
       "      <td>0.42</td>\n",
       "      <td>0.44</td>\n",
       "      <td>0.5</td>\n",
       "      <td>0.49</td>\n",
       "      <td>0.45</td>\n",
       "    </tr>\n",
       "    <tr>\n",
       "      <th>medmc_qa</th>\n",
       "      <td>0.25</td>\n",
       "      <td>0.34</td>\n",
       "      <td>NaN</td>\n",
       "      <td>0.39</td>\n",
       "      <td>0.23</td>\n",
       "      <td>0.35</td>\n",
       "      <td>0.37</td>\n",
       "      <td>0.32</td>\n",
       "      <td>0.45</td>\n",
       "      <td>0.41</td>\n",
       "      <td>0.4</td>\n",
       "      <td>0.42</td>\n",
       "    </tr>\n",
       "    <tr>\n",
       "      <th>open_book_qa</th>\n",
       "      <td>0.6</td>\n",
       "      <td>0.82</td>\n",
       "      <td>NaN</td>\n",
       "      <td>0.69</td>\n",
       "      <td>0.38</td>\n",
       "      <td>0.79</td>\n",
       "      <td>NaN</td>\n",
       "      <td>0.68</td>\n",
       "      <td>NaN</td>\n",
       "      <td>NaN</td>\n",
       "      <td>NaN</td>\n",
       "      <td>NaN</td>\n",
       "    </tr>\n",
       "    <tr>\n",
       "      <th>strategy_qa</th>\n",
       "      <td>0.52</td>\n",
       "      <td>0.61</td>\n",
       "      <td>0.59</td>\n",
       "      <td>0.53</td>\n",
       "      <td>0.59</td>\n",
       "      <td>0.69</td>\n",
       "      <td>0.54</td>\n",
       "      <td>0.48</td>\n",
       "      <td>NaN</td>\n",
       "      <td>NaN</td>\n",
       "      <td>NaN</td>\n",
       "      <td>NaN</td>\n",
       "    </tr>\n",
       "    <tr>\n",
       "      <th>worldtree</th>\n",
       "      <td>0.59</td>\n",
       "      <td>0.85</td>\n",
       "      <td>NaN</td>\n",
       "      <td>0.85</td>\n",
       "      <td>0.53</td>\n",
       "      <td>0.8</td>\n",
       "      <td>NaN</td>\n",
       "      <td>0.73</td>\n",
       "      <td>NaN</td>\n",
       "      <td>NaN</td>\n",
       "      <td>NaN</td>\n",
       "      <td>NaN</td>\n",
       "    </tr>\n",
       "  </tbody>\n",
       "</table>\n",
       "</div>"
      ],
      "text/plain": [
       "                                 None                               \\\n",
       "               command-xlarge-nightly flan-T5-xxl text-davinci-002   \n",
       "commonsense_qa                   0.53        0.87             0.69   \n",
       "med_qa                           0.23        0.32              NaN   \n",
       "medmc_qa                         0.25        0.34              NaN   \n",
       "open_book_qa                      0.6        0.82              NaN   \n",
       "strategy_qa                      0.52        0.61             0.59   \n",
       "worldtree                        0.59        0.85              NaN   \n",
       "\n",
       "                                             kojima-01              \\\n",
       "               text-davinci-003 command-xlarge-nightly flan-T5-xxl   \n",
       "commonsense_qa             0.72                   0.53        0.81   \n",
       "med_qa                     0.39                   0.31        0.34   \n",
       "medmc_qa                   0.39                   0.23        0.35   \n",
       "open_book_qa               0.69                   0.38        0.79   \n",
       "strategy_qa                0.53                   0.59        0.69   \n",
       "worldtree                  0.85                   0.53         0.8   \n",
       "\n",
       "                                                        lievin-01  \\\n",
       "               text-davinci-002 text-davinci-003 text-davinci-002   \n",
       "commonsense_qa              0.7             0.66              NaN   \n",
       "med_qa                     0.46             0.42             0.44   \n",
       "medmc_qa                   0.37             0.32             0.45   \n",
       "open_book_qa                NaN             0.68              NaN   \n",
       "strategy_qa                0.54             0.48              NaN   \n",
       "worldtree                   NaN             0.73              NaN   \n",
       "\n",
       "                      lievin-02        lievin-03        lievin-10  \n",
       "               text-davinci-002 text-davinci-002 text-davinci-002  \n",
       "commonsense_qa              NaN              NaN              NaN  \n",
       "med_qa                      0.5             0.49             0.45  \n",
       "medmc_qa                   0.41              0.4             0.42  \n",
       "open_book_qa                NaN              NaN              NaN  \n",
       "strategy_qa                 NaN              NaN              NaN  \n",
       "worldtree                   NaN              NaN              NaN  "
      ]
     },
     "execution_count": 22,
     "metadata": {},
     "output_type": "execute_result"
    }
   ],
   "source": [
    "eval1 = coll.evaluate()\n",
    "evaluation_as_table(eval1)"
   ]
  },
  {
   "cell_type": "code",
   "execution_count": 5,
   "metadata": {},
   "outputs": [
    {
     "name": "stderr",
     "output_type": "stream",
     "text": [
      "[nltk_data] Downloading package punkt to /home/kon/nltk_data...\n",
      "[nltk_data]   Package punkt is already up-to-date!\n"
     ]
    }
   ],
   "source": [
    "coll_davinci_new = Collection.from_json(\"./thoughtsource_100_openai_text-davinci-002_None_kojima-01.json\")"
   ]
  },
  {
   "cell_type": "code",
   "execution_count": 7,
   "metadata": {},
   "outputs": [],
   "source": [
    "coll_davinci_new_strategy = Collection.from_json(\"./thoughtsource_100_openai_text-davinci-002_None_kojima-01.json\")"
   ]
  },
  {
   "cell_type": "code",
   "execution_count": 9,
   "metadata": {},
   "outputs": [],
   "source": [
    "coll_davinci_new_strategy.unload_datasets([\"commonsense_qa\", \"med_qa\", \"medmc_qa\", \"open_book_qa\", \"worldtree\"])"
   ]
  },
  {
   "cell_type": "code",
   "execution_count": 11,
   "metadata": {},
   "outputs": [
    {
     "data": {
      "application/vnd.jupyter.widget-view+json": {
       "model_id": "569c13318da34d9ba7a6825d0a048ab0",
       "version_major": 2,
       "version_minor": 0
      },
      "text/plain": [
       "Creating json from Arrow format:   0%|          | 0/1 [00:00<?, ?ba/s]"
      ]
     },
     "metadata": {},
     "output_type": "display_data"
    }
   ],
   "source": [
    "coll_davinci_new_strategy.dump(\"coll_davinci_new_strategy.json\")"
   ]
  },
  {
   "cell_type": "code",
   "execution_count": 19,
   "metadata": {},
   "outputs": [
    {
     "data": {
      "application/vnd.jupyter.widget-view+json": {
       "model_id": "40f9272694824154a29d1d0352f6ebde",
       "version_major": 2,
       "version_minor": 0
      },
      "text/plain": [
       "  0%|          | 0/100 [00:00<?, ?ex/s]"
      ]
     },
     "metadata": {},
     "output_type": "display_data"
    },
    {
     "data": {
      "text/html": [
       "<div>\n",
       "<style scoped>\n",
       "    .dataframe tbody tr th:only-of-type {\n",
       "        vertical-align: middle;\n",
       "    }\n",
       "\n",
       "    .dataframe tbody tr th {\n",
       "        vertical-align: top;\n",
       "    }\n",
       "\n",
       "    .dataframe thead tr th {\n",
       "        text-align: left;\n",
       "    }\n",
       "</style>\n",
       "<table border=\"1\" class=\"dataframe\">\n",
       "  <thead>\n",
       "    <tr>\n",
       "      <th></th>\n",
       "      <th>None</th>\n",
       "      <th>kojima-01</th>\n",
       "    </tr>\n",
       "    <tr>\n",
       "      <th></th>\n",
       "      <th>text-davinci-002</th>\n",
       "      <th>text-davinci-002</th>\n",
       "    </tr>\n",
       "  </thead>\n",
       "  <tbody>\n",
       "    <tr>\n",
       "      <th>strategy_qa</th>\n",
       "      <td>0.51</td>\n",
       "      <td>0.56</td>\n",
       "    </tr>\n",
       "  </tbody>\n",
       "</table>\n",
       "</div>"
      ],
      "text/plain": [
       "                        None        kojima-01\n",
       "            text-davinci-002 text-davinci-002\n",
       "strategy_qa             0.51             0.56"
      ]
     },
     "execution_count": 19,
     "metadata": {},
     "output_type": "execute_result"
    }
   ],
   "source": [
    "eval_davinci_new_strategy = coll_davinci_new_strategy.evaluate(overwrite=True)\n",
    "evaluation_as_table(eval_davinci_new_strategy)"
   ]
  },
  {
   "cell_type": "code",
   "execution_count": 29,
   "metadata": {},
   "outputs": [],
   "source": [
    "eval_davinci_new_strategy = Collection.from_json(\"./coll_davinci_new_strategy.json\")"
   ]
  },
  {
   "cell_type": "code",
   "execution_count": 30,
   "metadata": {},
   "outputs": [
    {
     "data": {
      "application/vnd.jupyter.widget-view+json": {
       "model_id": "947336d4ab3c4176926681db6d9d0f71",
       "version_major": 2,
       "version_minor": 0
      },
      "text/plain": [
       "Creating json from Arrow format:   0%|          | 0/1 [00:00<?, ?ba/s]"
      ]
     },
     "metadata": {},
     "output_type": "display_data"
    },
    {
     "name": "stdout",
     "output_type": "stream",
     "text": [
      "Evaluating strategy_qa...\n"
     ]
    },
    {
     "data": {
      "application/vnd.jupyter.widget-view+json": {
       "model_id": "b2e38574e62a4912ba7ba65f0bc6f9ca",
       "version_major": 2,
       "version_minor": 0
      },
      "text/plain": [
       "  0%|          | 0/100 [00:00<?, ?ex/s]"
      ]
     },
     "metadata": {},
     "output_type": "display_data"
    },
    {
     "name": "stdout",
     "output_type": "stream",
     "text": [
      "{'strategy_qa': {'train': {'accuracy': {'text-davinci-002': {'None_None_kojima-yes-no': 0.36,\n",
      "                                                             'None_kojima-01_kojima-yes-no': 0.38}}}}}\n",
      "Evaluating strategy_qa...\n"
     ]
    },
    {
     "data": {
      "application/vnd.jupyter.widget-view+json": {
       "model_id": "62129eeae53c40ad9e15164d65f4a077",
       "version_major": 2,
       "version_minor": 0
      },
      "text/plain": [
       "  0%|          | 0/100 [00:00<?, ?ex/s]"
      ]
     },
     "metadata": {},
     "output_type": "display_data"
    },
    {
     "data": {
      "application/vnd.jupyter.widget-view+json": {
       "model_id": "24c41ee33d934afcabf531a4708e0e38",
       "version_major": 2,
       "version_minor": 0
      },
      "text/plain": [
       "Creating json from Arrow format:   0%|          | 0/1 [00:00<?, ?ba/s]"
      ]
     },
     "metadata": {},
     "output_type": "display_data"
    },
    {
     "name": "stdout",
     "output_type": "stream",
     "text": [
      "{'strategy_qa': {'train': {'accuracy': {'text-davinci-002': {'None_None_kojima-yes-no': 0.46,\n",
      "                                                             'None_kojima-01_kojima-yes-no': 0.53}}}}}\n"
     ]
    }
   ],
   "source": [
    "compare_evaluation(eval_davinci_new_strategy)"
   ]
  },
  {
   "cell_type": "code",
   "execution_count": 6,
   "metadata": {},
   "outputs": [
    {
     "data": {
      "application/vnd.jupyter.widget-view+json": {
       "model_id": "48b1a4aaa35442dd9719fa325d67e85f",
       "version_major": 2,
       "version_minor": 0
      },
      "text/plain": [
       "  0%|          | 0/100 [00:00<?, ?ex/s]"
      ]
     },
     "metadata": {},
     "output_type": "display_data"
    },
    {
     "data": {
      "application/vnd.jupyter.widget-view+json": {
       "model_id": "08625ea221a94ebda8d2d168ed772d40",
       "version_major": 2,
       "version_minor": 0
      },
      "text/plain": [
       "  0%|          | 0/100 [00:00<?, ?ex/s]"
      ]
     },
     "metadata": {},
     "output_type": "display_data"
    },
    {
     "data": {
      "application/vnd.jupyter.widget-view+json": {
       "model_id": "0316784e05784368bb9a38a361bffc22",
       "version_major": 2,
       "version_minor": 0
      },
      "text/plain": [
       "  0%|          | 0/100 [00:00<?, ?ex/s]"
      ]
     },
     "metadata": {},
     "output_type": "display_data"
    },
    {
     "data": {
      "application/vnd.jupyter.widget-view+json": {
       "model_id": "43ddf056709345a49e6e38ff6afe6276",
       "version_major": 2,
       "version_minor": 0
      },
      "text/plain": [
       "  0%|          | 0/100 [00:00<?, ?ex/s]"
      ]
     },
     "metadata": {},
     "output_type": "display_data"
    },
    {
     "data": {
      "application/vnd.jupyter.widget-view+json": {
       "model_id": "a4061fd786bc47bb96bef8923c4ff93c",
       "version_major": 2,
       "version_minor": 0
      },
      "text/plain": [
       "  0%|          | 0/100 [00:00<?, ?ex/s]"
      ]
     },
     "metadata": {},
     "output_type": "display_data"
    },
    {
     "data": {
      "application/vnd.jupyter.widget-view+json": {
       "model_id": "1f5029fe7ac845a385ffcd7945cac68d",
       "version_major": 2,
       "version_minor": 0
      },
      "text/plain": [
       "  0%|          | 0/100 [00:00<?, ?ex/s]"
      ]
     },
     "metadata": {},
     "output_type": "display_data"
    },
    {
     "data": {
      "text/html": [
       "<div>\n",
       "<style scoped>\n",
       "    .dataframe tbody tr th:only-of-type {\n",
       "        vertical-align: middle;\n",
       "    }\n",
       "\n",
       "    .dataframe tbody tr th {\n",
       "        vertical-align: top;\n",
       "    }\n",
       "\n",
       "    .dataframe thead tr th {\n",
       "        text-align: left;\n",
       "    }\n",
       "</style>\n",
       "<table border=\"1\" class=\"dataframe\">\n",
       "  <thead>\n",
       "    <tr>\n",
       "      <th></th>\n",
       "      <th>None</th>\n",
       "      <th>kojima-01</th>\n",
       "    </tr>\n",
       "    <tr>\n",
       "      <th></th>\n",
       "      <th>text-davinci-002</th>\n",
       "      <th>text-davinci-002</th>\n",
       "    </tr>\n",
       "  </thead>\n",
       "  <tbody>\n",
       "    <tr>\n",
       "      <th>commonsense_qa</th>\n",
       "      <td>0.76</td>\n",
       "      <td>0.62</td>\n",
       "    </tr>\n",
       "    <tr>\n",
       "      <th>med_qa</th>\n",
       "      <td>0.41</td>\n",
       "      <td>0.34</td>\n",
       "    </tr>\n",
       "    <tr>\n",
       "      <th>medmc_qa</th>\n",
       "      <td>0.34</td>\n",
       "      <td>0.34</td>\n",
       "    </tr>\n",
       "    <tr>\n",
       "      <th>open_book_qa</th>\n",
       "      <td>0.67</td>\n",
       "      <td>0.57</td>\n",
       "    </tr>\n",
       "    <tr>\n",
       "      <th>strategy_qa</th>\n",
       "      <td>0.36</td>\n",
       "      <td>0.38</td>\n",
       "    </tr>\n",
       "    <tr>\n",
       "      <th>worldtree</th>\n",
       "      <td>0.88</td>\n",
       "      <td>0.78</td>\n",
       "    </tr>\n",
       "  </tbody>\n",
       "</table>\n",
       "</div>"
      ],
      "text/plain": [
       "                           None        kojima-01\n",
       "               text-davinci-002 text-davinci-002\n",
       "commonsense_qa             0.76             0.62\n",
       "med_qa                     0.41             0.34\n",
       "medmc_qa                   0.34             0.34\n",
       "open_book_qa               0.67             0.57\n",
       "strategy_qa                0.36             0.38\n",
       "worldtree                  0.88             0.78"
      ]
     },
     "execution_count": 6,
     "metadata": {},
     "output_type": "execute_result"
    }
   ],
   "source": [
    "eval_davinci_new = coll_davinci_new.evaluate()\n",
    "evaluation_as_table(eval_davinci_new)"
   ]
  },
  {
   "cell_type": "code",
   "execution_count": 20,
   "metadata": {},
   "outputs": [
    {
     "data": {
      "application/vnd.jupyter.widget-view+json": {
       "model_id": "b5fcf5b8e7044355984701e7f5b0144f",
       "version_major": 2,
       "version_minor": 0
      },
      "text/plain": [
       "  0%|          | 0/100 [00:00<?, ?ex/s]"
      ]
     },
     "metadata": {},
     "output_type": "display_data"
    },
    {
     "data": {
      "application/vnd.jupyter.widget-view+json": {
       "model_id": "333d1042fe594171b585961b935e7cbc",
       "version_major": 2,
       "version_minor": 0
      },
      "text/plain": [
       "  0%|          | 0/100 [00:00<?, ?ex/s]"
      ]
     },
     "metadata": {},
     "output_type": "display_data"
    },
    {
     "data": {
      "application/vnd.jupyter.widget-view+json": {
       "model_id": "c4b23997bb0440bd8fc538d7b5d71cc1",
       "version_major": 2,
       "version_minor": 0
      },
      "text/plain": [
       "  0%|          | 0/100 [00:00<?, ?ex/s]"
      ]
     },
     "metadata": {},
     "output_type": "display_data"
    },
    {
     "data": {
      "application/vnd.jupyter.widget-view+json": {
       "model_id": "d9291f1dbce14c50b9459a899e158e80",
       "version_major": 2,
       "version_minor": 0
      },
      "text/plain": [
       "  0%|          | 0/100 [00:00<?, ?ex/s]"
      ]
     },
     "metadata": {},
     "output_type": "display_data"
    },
    {
     "data": {
      "application/vnd.jupyter.widget-view+json": {
       "model_id": "bd110d4a7d84498eb6807eada253473d",
       "version_major": 2,
       "version_minor": 0
      },
      "text/plain": [
       "  0%|          | 0/100 [00:00<?, ?ex/s]"
      ]
     },
     "metadata": {},
     "output_type": "display_data"
    },
    {
     "data": {
      "application/vnd.jupyter.widget-view+json": {
       "model_id": "70e5a58611e649fc95b71405afa06141",
       "version_major": 2,
       "version_minor": 0
      },
      "text/plain": [
       "  0%|          | 0/100 [00:00<?, ?ex/s]"
      ]
     },
     "metadata": {},
     "output_type": "display_data"
    },
    {
     "data": {
      "text/html": [
       "<div>\n",
       "<style scoped>\n",
       "    .dataframe tbody tr th:only-of-type {\n",
       "        vertical-align: middle;\n",
       "    }\n",
       "\n",
       "    .dataframe tbody tr th {\n",
       "        vertical-align: top;\n",
       "    }\n",
       "\n",
       "    .dataframe thead tr th {\n",
       "        text-align: left;\n",
       "    }\n",
       "</style>\n",
       "<table border=\"1\" class=\"dataframe\">\n",
       "  <thead>\n",
       "    <tr>\n",
       "      <th></th>\n",
       "      <th>None</th>\n",
       "      <th>kojima-01</th>\n",
       "    </tr>\n",
       "    <tr>\n",
       "      <th></th>\n",
       "      <th>text-davinci-002</th>\n",
       "      <th>text-davinci-002</th>\n",
       "    </tr>\n",
       "  </thead>\n",
       "  <tbody>\n",
       "    <tr>\n",
       "      <th>commonsense_qa</th>\n",
       "      <td>0.76</td>\n",
       "      <td>0.61</td>\n",
       "    </tr>\n",
       "    <tr>\n",
       "      <th>med_qa</th>\n",
       "      <td>0.41</td>\n",
       "      <td>0.34</td>\n",
       "    </tr>\n",
       "    <tr>\n",
       "      <th>medmc_qa</th>\n",
       "      <td>0.34</td>\n",
       "      <td>0.34</td>\n",
       "    </tr>\n",
       "    <tr>\n",
       "      <th>open_book_qa</th>\n",
       "      <td>0.66</td>\n",
       "      <td>0.57</td>\n",
       "    </tr>\n",
       "    <tr>\n",
       "      <th>strategy_qa</th>\n",
       "      <td>0.51</td>\n",
       "      <td>0.56</td>\n",
       "    </tr>\n",
       "    <tr>\n",
       "      <th>worldtree</th>\n",
       "      <td>0.88</td>\n",
       "      <td>0.79</td>\n",
       "    </tr>\n",
       "  </tbody>\n",
       "</table>\n",
       "</div>"
      ],
      "text/plain": [
       "                           None        kojima-01\n",
       "               text-davinci-002 text-davinci-002\n",
       "commonsense_qa             0.76             0.61\n",
       "med_qa                     0.41             0.34\n",
       "medmc_qa                   0.34             0.34\n",
       "open_book_qa               0.66             0.57\n",
       "strategy_qa                0.51             0.56\n",
       "worldtree                  0.88             0.79"
      ]
     },
     "execution_count": 20,
     "metadata": {},
     "output_type": "execute_result"
    }
   ],
   "source": [
    "eval_davinci_new = coll_davinci_new.evaluate(overwrite=True)\n",
    "evaluation_as_table(eval_davinci_new)"
   ]
  },
  {
   "cell_type": "code",
   "execution_count": null,
   "metadata": {},
   "outputs": [
    {
     "name": "stdout",
     "output_type": "stream",
     "text": [
      "Evaluating commonsense_qa...\n"
     ]
    },
    {
     "data": {
      "application/vnd.jupyter.widget-view+json": {
       "model_id": "2e1886343f254f6bade3b51631219ebc",
       "version_major": 2,
       "version_minor": 0
      },
      "text/plain": [
       "  0%|          | 0/100 [00:00<?, ?ex/s]"
      ]
     },
     "metadata": {},
     "output_type": "display_data"
    },
    {
     "name": "stderr",
     "output_type": "stream",
     "text": [
      "/home/kon/work/ThoughtSource/libs/cot/cot/evaluate.py:308: UserWarning: Your answer could not be extracted from this sequence.\n",
      "            sequence:  A, B, and E.\n",
      "            possible answers: {'A': 'lower expectations', 'B': 'encourage', 'C': 'fear', 'D': 'time test', 'E': 'tell story'}\n",
      "  warnings.warn(\n",
      "/home/kon/work/ThoughtSource/libs/cot/cot/evaluate.py:308: UserWarning: Your answer could not be extracted from this sequence.\n",
      "            sequence:  \"monkeys are not in any of the places listed\".\n",
      "            possible answers: {'A': 'zoo', 'B': 'barrel', 'C': 'research laboratory', 'D': 'captivity', 'E': 'thailand'}\n",
      "  warnings.warn(\n",
      "/home/kon/work/ThoughtSource/libs/cot/cot/evaluate.py:308: UserWarning: Your answer could not be extracted from this sequence.\n",
      "            sequence:  either B) dard or C) sky.\n",
      "            possible answers: {'A': 'books', 'B': 'dard', 'C': 'sky', 'D': 'closed room', 'E': 'television'}\n",
      "  warnings.warn(\n",
      "/home/kon/work/ThoughtSource/libs/cot/cot/evaluate.py:308: UserWarning: Your answer could not be extracted from this sequence.\n",
      "            sequence:  A, B, or C.\n",
      "            possible answers: {'A': 'table', 'B': 'meeting', 'C': 'drawer', 'D': 'toilet', 'E': 'garage'}\n",
      "  warnings.warn(\n",
      "/home/kon/work/ThoughtSource/libs/cot/cot/evaluate.py:308: UserWarning: Your answer could not be extracted from this sequence.\n",
      "            sequence:  D, front.\n",
      "            possible answers: {'A': 'anterior', 'B': 'front', 'C': 'main', 'D': 'front', 'E': 'current'}\n",
      "  warnings.warn(\n",
      "/home/kon/work/ThoughtSource/libs/cot/cot/evaluate.py:308: UserWarning: Your answer could not be extracted from this sequence.\n",
      "            sequence: So the answer is .\n",
      "            possible answers: {'A': 'symphony', 'B': 'concerto', 'C': 'choir', 'D': 'theater troupe', 'E': 'marching band'}\n",
      "  warnings.warn(\n",
      "/home/kon/work/ThoughtSource/libs/cot/cot/evaluate.py:308: UserWarning: Your answer could not be extracted from this sequence.\n",
      "            sequence: So the answer is .\n",
      "            possible answers: {'A': 'book or library', 'B': 'book or magazine', 'C': 'newspaper', 'D': 'past', 'E': 'future'}\n",
      "  warnings.warn(\n",
      "/home/kon/work/ThoughtSource/libs/cot/cot/evaluate.py:308: UserWarning: Your answer could not be extracted from this sequence.\n",
      "            sequence: So the answer is .\n",
      "            possible answers: {'A': 'mountainous area', 'B': 'wood pile', 'C': 'jungle', 'D': 'petting zoo', 'E': 'animals'}\n",
      "  warnings.warn(\n",
      "/home/kon/work/ThoughtSource/libs/cot/cot/evaluate.py:308: UserWarning: Your answer could not be extracted from this sequence.\n",
      "            sequence:  A, B, C, and E.\n",
      "            possible answers: {'A': 'london', 'B': 'apartment building', 'C': 'city', 'D': 'falling down', 'E': 'town'}\n",
      "  warnings.warn(\n",
      "/home/kon/work/ThoughtSource/libs/cot/cot/evaluate.py:308: UserWarning: Your answer could not be extracted from this sequence.\n",
      "            sequence: So the answer is .\n",
      "            possible answers: {'A': 'istanbul', 'B': 'concert', 'C': 'bedroom', 'D': 'antique shop', 'E': 'human being'}\n",
      "  warnings.warn(\n",
      "/home/kon/work/ThoughtSource/libs/cot/cot/evaluate.py:308: UserWarning: Your answer could not be extracted from this sequence.\n",
      "            sequence:  Instruments and Bowls (C and E).\n",
      "            possible answers: {'A': 'junkyard', 'B': 'ore', 'C': 'instruments', 'D': 'metal fabrication shop', 'E': 'bowls'}\n",
      "  warnings.warn(\n",
      "/home/kon/work/ThoughtSource/libs/cot/cot/evaluate.py:308: UserWarning: Your answer could not be extracted from this sequence.\n",
      "            sequence:  B) saliva and mouth.\n",
      "            possible answers: {'A': 'phlegm', 'B': 'saliva nd mouth', 'C': 'disease', 'D': 'germs', 'E': 'spittle'}\n",
      "  warnings.warn(\n",
      "/home/kon/work/ThoughtSource/libs/cot/cot/evaluate.py:308: UserWarning: Your answer could not be extracted from this sequence.\n",
      "            sequence:  A, B, C, E.\n",
      "            possible answers: {'A': 'surprise', 'B': 'fight', 'C': 'annoyance', 'D': 'might scare', 'E': 'irritated'}\n",
      "  warnings.warn(\n",
      "/home/kon/work/ThoughtSource/libs/cot/cot/evaluate.py:308: UserWarning: Your answer could not be extracted from this sequence.\n",
      "            sequence:  A) feelings of guilt and B) prison sentence.\n",
      "            possible answers: {'A': 'feelings of guilt', 'B': 'prison sentence', 'C': 'terrible', 'D': 'encouragement', 'E': 'die'}\n",
      "  warnings.warn(\n",
      "/home/kon/work/ThoughtSource/libs/cot/cot/evaluate.py:308: UserWarning: Your answer could not be extracted from this sequence.\n",
      "            sequence:  D) Mountains or E) Countryside.\n",
      "            possible answers: {'A': 'michigan', 'B': 'new york', 'C': 'new york', 'D': 'mountains', 'E': 'countryside'}\n",
      "  warnings.warn(\n",
      "/home/kon/work/ThoughtSource/libs/cot/cot/evaluate.py:308: UserWarning: Your answer could not be extracted from this sequence.\n",
      "            sequence: So the answer is .\n",
      "            possible answers: {'A': 'buy', 'B': 'learn about', 'C': 'buy', 'D': 'complex', 'E': 'interesting'}\n",
      "  warnings.warn(\n",
      "/home/kon/work/ThoughtSource/libs/cot/cot/evaluate.py:308: UserWarning: Your answer could not be extracted from this sequence.\n",
      "            sequence:  B) intoxication and E) nausea.\n",
      "            possible answers: {'A': 'have fun', 'B': 'intoxication', 'C': 'vomiting', 'D': 'drinking more alcohol', 'E': 'nausea'}\n",
      "  warnings.warn(\n",
      "/home/kon/work/ThoughtSource/libs/cot/cot/evaluate.py:308: UserWarning: Your answer could not be extracted from this sequence.\n",
      "            sequence:  A, B, and D.\n",
      "            possible answers: {'A': 'cinema', 'B': 'theatre', 'C': 'movies', 'D': 'show', 'E': 'hockey game'}\n",
      "  warnings.warn(\n",
      "/home/kon/work/ThoughtSource/libs/cot/cot/evaluate.py:308: UserWarning: Your answer could not be extracted from this sequence.\n",
      "            sequence:  A, B, C, and D. Audiences clap for cinema, theatre, movies, and shows.\n",
      "            possible answers: {'A': 'cinema', 'B': 'theatre', 'C': 'movies', 'D': 'show', 'E': 'hockey game'}\n",
      "  warnings.warn(\n",
      "/home/kon/work/ThoughtSource/libs/cot/cot/evaluate.py:308: UserWarning: Your answer could not be extracted from this sequence.\n",
      "            sequence:  A, B, D, and E.\n",
      "            possible answers: {'A': 'might win', 'B': 'perform better', 'C': 'enemies', 'D': 'winners and losers', 'E': 'lose'}\n",
      "  warnings.warn(\n"
     ]
    },
    {
     "name": "stdout",
     "output_type": "stream",
     "text": [
      "Evaluating med_qa...\n"
     ]
    },
    {
     "name": "stderr",
     "output_type": "stream",
     "text": [
      "/home/kon/work/ThoughtSource/libs/cot/cot/evaluate.py:59: UserWarning: It seems that not all examples of the dataset include an answer to be evaluated.\n",
      "                    Counter of examples:\n",
      "                    dict_items([('command-xlarge-nightly', defaultdict(<class 'int'>, {'None_None_kojima-A-E': 100, 'None_kojima-01_kojima-A-E': 100})), ('text-davinci-003', defaultdict(<class 'int'>, {'None_kojima-01_kojima-A-E': 100, 'None_None_kojima-A-E': 100})), ('text-davinci-002', defaultdict(<class 'int'>, {'None_kojima-01_kojima-A-E': 100, 'None_None_None': 99})), ('flan-T5-xxl', defaultdict(<class 'int'>, {'None_None_kojima-A-E': 100, 'None_kojima-01_kojima-A-E': 100}))])\n",
      "                    Length of dataset:\n",
      "                    100\n",
      "                    The evaluation score was only calculated based on the examples that include an answer.\n",
      "                    To turn this warning off, set warn=False in the evaluate function.\n",
      "  warnings.warn(\n"
     ]
    },
    {
     "data": {
      "application/vnd.jupyter.widget-view+json": {
       "model_id": "6aea6f6e6c8c4148b2defe08a15496ad",
       "version_major": 2,
       "version_minor": 0
      },
      "text/plain": [
       "  0%|          | 0/100 [00:00<?, ?ex/s]"
      ]
     },
     "metadata": {},
     "output_type": "display_data"
    },
    {
     "name": "stderr",
     "output_type": "stream",
     "text": [
      "/home/kon/work/ThoughtSource/libs/cot/cot/evaluate.py:308: UserWarning: Your answer could not be extracted from this sequence.\n",
      "            sequence:  C. Protein C deficiency is an inherited condition that can lead to thrombosis. It is caused by a mutation in the gene that codes for protein C, resulting in decreased levels of the protein in the blood. This can lead to an increased risk of thrombosis, as seen in this patient.\n",
      "            possible answers: {'A': 'Elevated serum homocysteine', 'B': 'Thrombin inhibitor deficiency', 'C': 'Deficiency in protein C', 'D': 'Auto-antibodies directed against phospholipids', 'E': 'Resistance to clotting factor degradation'}\n",
      "  warnings.warn(\n",
      "/home/kon/work/ThoughtSource/libs/cot/cot/evaluate.py:308: UserWarning: Your answer could not be extracted from this sequence.\n",
      "            sequence:  D. The LOD score (logarithm of the odds) is a measure of the strength of the evidence for linkage between two loci. A LOD score greater than 3 is considered strong evidence for linkage.\n",
      "            possible answers: {'A': 'LOD Score < 1', 'B': 'LOD Score < 3', 'C': 'LOD Score < 2', 'D': 'LOD Score > 3', 'E': 'LOD Score = 0'}\n",
      "  warnings.warn(\n",
      "/home/kon/work/ThoughtSource/libs/cot/cot/evaluate.py:308: UserWarning: Your answer could not be extracted from this sequence.\n",
      "            sequence:  C. C1 esterase inhibitor is a component of the innate immune system that is responsible for degrading C1, an enzyme that plays a role in the classical complement pathway. Deficiencies in C1 esterase inhibitor can lead to recurrent infections with Streptococcus pneumoniae and Neisseria meningitidis, as seen in this patient.\n",
      "            possible answers: {'A': 'Acts as an important opsonin  ', 'B': 'Plays a role in angioedema', 'C': 'Degraded by C1 esterase inhibitor', 'D': 'Creates pores in the cell membrane', 'E': 'Induces the alternative complement pathway'}\n",
      "  warnings.warn(\n",
      "/home/kon/work/ThoughtSource/libs/cot/cot/evaluate.py:308: UserWarning: Your answer could not be extracted from this sequence.\n",
      "            sequence:  A. The cells located in region A of the histology slide are most likely the cause of the patient's symptoms. These cells are likely to be part of the autonomic nervous system, which is responsible for controlling involuntary functions such as sweating and palpitations.\n",
      "            possible answers: {'A': 'A', 'B': 'B', 'C': 'C', 'D': 'D', 'E': 'E'}\n",
      "  warnings.warn(\n",
      "/home/kon/work/ThoughtSource/libs/cot/cot/evaluate.py:308: UserWarning: Your answer could not be extracted from this sequence.\n",
      "            sequence:  B. Sickle cell anemia is a disease caused by a mutation in the beta-globin gene, which results in the production of abnormal hemoglobin. This abnormal hemoglobin, HgbS, causes red blood cells to become rigid and sickle-shaped under certain conditions. The mutation that causes sickle cell anemia is recessive, meaning that a person must inherit the mutation from both parents to have the disease.\n",
      "\n",
      "Hydroxyurea is a medication that is used to treat sickle cell anemia. It works by increasing the production of fetal hemoglobin, which can help to reduce the severity of the disease. Hydroxyurea is not a cure for sickle cell anemia, but it can help to improve the quality of life for people with the disease.\n",
      "            possible answers: {'A': 'Increases oxygen carrying capacity of hemoglobin', 'B': 'Decreases oxygen carrying capacity of hemoglobin', 'C': 'Increases levels of fetal hemoglobin (HgbF)', 'D': 'Decreases levels of HgbS', 'E': 'Decreases levels of fetal hemoglobin (HgbF)'}\n",
      "  warnings.warn(\n",
      "/home/kon/work/ThoughtSource/libs/cot/cot/evaluate.py:308: UserWarning: Your answer could not be extracted from this sequence.\n",
      "            sequence:  A) Duodenal peptic ulcer or D) Gastric peptic ulcer.\n",
      "            possible answers: {'A': 'Duodenal peptic ulcer', 'B': 'Choledocholithiasis', 'C': 'Pancreatitis', 'D': 'Gastric peptic ulcer', 'E': 'Gallbladder cancer'}\n",
      "  warnings.warn(\n",
      "/home/kon/work/ThoughtSource/libs/cot/cot/evaluate.py:308: UserWarning: Your answer could not be extracted from this sequence.\n",
      "            sequence:  β-lactamase.\n",
      "            possible answers: {'A': 'Replacement of D-alanine', 'B': 'Mutation of DNA gyrase', 'C': 'Inactivation by bacterial transferase', 'D': 'Production of β-lactamase', 'E': 'Modification of surface binding proteins'}\n",
      "  warnings.warn(\n",
      "/home/kon/work/ThoughtSource/libs/cot/cot/evaluate.py:308: UserWarning: Your answer could not be extracted from this sequence.\n",
      "            sequence:  B. Ciprofloxacin is a fluoroquinolone antibiotic that works by inhibiting the enzyme DNA gyrase. Mutations in the DNA gyrase enzyme can lead to antibiotic resistance.\n",
      "            possible answers: {'A': 'Replacement of D-alanine', 'B': 'Mutation of DNA gyrase', 'C': 'Inactivation by bacterial transferase', 'D': 'Production of β-lactamase', 'E': 'Modification of surface binding proteins'}\n",
      "  warnings.warn(\n",
      "/home/kon/work/ThoughtSource/libs/cot/cot/evaluate.py:308: UserWarning: Your answer could not be extracted from this sequence.\n",
      "            sequence:  B. The most likely cause of the mass is failure of the processus vaginalis to obliterate.\n",
      "            possible answers: {'A': 'Imbalance of fluid secretion and resorption by tunica vaginalis', 'B': 'Failure of processus vaginalis to obliterate', 'C': 'Extension of abdominal contents through the inguinal canal', 'D': 'Dilation and tortuosity of veins in the pampiniform plexus', 'E': 'Primary germ cell neoplasia of the testicle'}\n",
      "  warnings.warn(\n",
      "/home/kon/work/ThoughtSource/libs/cot/cot/evaluate.py:331: UserWarning: Found more than one possible answer to compute the evaluation score. By default returning the first found answer.\n",
      "                                 In the answer sentence 'D) Ceftriaxone and vancomycin.' these possible answers were found: '('D', 'Ceftriaxone and vancomycin')'\n",
      "                                 If you want to return a specific answer, please define a regex pattern with only one group.\n",
      "                \n",
      "  warnings.warn(\n",
      "/home/kon/work/ThoughtSource/libs/cot/cot/evaluate.py:308: UserWarning: Your answer could not be extracted from this sequence.\n",
      "            sequence:  A, B, C, D, and E.\n",
      "            possible answers: {'A': 'Decreased libido', 'B': 'Hypotension', 'C': 'Urinary retention', 'D': 'Tachycardia', 'E': 'QTc prolongation'}\n",
      "  warnings.warn(\n",
      "/home/kon/work/ThoughtSource/libs/cot/cot/evaluate.py:308: UserWarning: Your answer could not be extracted from this sequence.\n",
      "            sequence:  E. Factitious disorder imposed on another is a mental disorder in which a person deliberately produces or feigns physical or psychological symptoms in another person, such as a child. The symptoms in this case are consistent with this diagnosis.\n",
      "            possible answers: {'A': 'Malingering', 'B': 'Glucagonoma', 'C': 'Primary adrenal insufficiency', 'D': 'Conversion disorder', 'E': 'Factitious disorder imposed on another\\n\"'}\n",
      "  warnings.warn(\n",
      "/home/kon/work/ThoughtSource/libs/cot/cot/evaluate.py:308: UserWarning: Your answer could not be extracted from this sequence.\n",
      "            sequence: \n",
      "            possible answers: {'A': 'Alanine aminotransferase', 'B': 'Alkaline phosphatase', 'C': 'Creatine kinase (CK-MB)', 'D': 'Lactate dehydrogenase', 'E': 'Troponin T'}\n",
      "  warnings.warn(\n",
      "/home/kon/work/ThoughtSource/libs/cot/cot/evaluate.py:308: UserWarning: Your answer could not be extracted from this sequence.\n",
      "            sequence:  D) Dilatation and curettage (D&C) after vacuum evacuation.\n",
      "            possible answers: {'A': 'Dilatation and evacuation (D&E)', 'B': 'Oxytocin-induced labor', 'C': 'Manual uterine aspiration', 'D': 'Dilatation and curettage (D & C) after vacuum evacuation', 'E': 'Oral mifepristone + misoprostol'}\n",
      "  warnings.warn(\n",
      "/home/kon/work/ThoughtSource/libs/cot/cot/evaluate.py:308: UserWarning: Your answer could not be extracted from this sequence.\n",
      "            sequence: \n",
      "            possible answers: {'A': 'Atropine', 'B': 'Physostigmine', 'C': 'Pralidoxime', 'D': 'Pyridostigmine', 'E': 'Neostigmine'}\n",
      "  warnings.warn(\n",
      "/home/kon/work/ThoughtSource/libs/cot/cot/evaluate.py:308: UserWarning: Your answer could not be extracted from this sequence.\n",
      "            sequence:  B) Physostigmine. Physostigmine is an anticholinergic drug that is used to treat anticholinergic toxicity, which is likely the cause of the patient's symptoms. It works by blocking the action of acetylcholine, which is responsible for the muscle spasms, blurred vision, dry mouth, and hallucinations. Atropine, pralidoxime, and pyridostigmine are all used to treat different types of poisoning, while neostigmine is used to treat myasthenia gravis.\n",
      "            possible answers: {'A': 'Atropine', 'B': 'Physostigmine', 'C': 'Pralidoxime', 'D': 'Pyridostigmine', 'E': 'Neostigmine'}\n",
      "  warnings.warn(\n",
      "/home/kon/work/ThoughtSource/libs/cot/cot/evaluate.py:308: UserWarning: Your answer could not be extracted from this sequence.\n",
      "            sequence:  E) Kayser-Fleischer rings. Kayser-Fleischer rings are a common finding in patients with Wilson's disease, which is a disorder of copper metabolism that can cause jaundice, fatigue, and itching.\n",
      "            possible answers: {'A': 'Inferior vena cava thrombosis', 'B': 'Cutaneous xanthomas', 'C': 'Butterfly-shaped vertebrae', 'D': 'Increased CA 19-9 levels', 'E': 'Kayser-Fleischer rings\\n\"'}\n",
      "  warnings.warn(\n",
      "/home/kon/work/ThoughtSource/libs/cot/cot/evaluate.py:308: UserWarning: Your answer could not be extracted from this sequence.\n",
      "            sequence:  E) Kayser-Fleischer rings.\n",
      "            possible answers: {'A': 'Inferior vena cava thrombosis', 'B': 'Cutaneous xanthomas', 'C': 'Butterfly-shaped vertebrae', 'D': 'Increased CA 19-9 levels', 'E': 'Kayser-Fleischer rings\\n\"'}\n",
      "  warnings.warn(\n",
      "/home/kon/work/ThoughtSource/libs/cot/cot/evaluate.py:308: UserWarning: Your answer could not be extracted from this sequence.\n",
      "            sequence:  E) Stress incontinence. Third-degree lacerations can cause damage to the pelvic floor muscles, which can lead to stress incontinence. Other complications associated with third-degree lacerations include urge incontinence, vesicovaginal fistula, and fecal incontinence. Small bowel obstruction is not a complication of third-degree lacerations.\n",
      "            possible answers: {'A': 'Urge incontinence', 'B': 'Vesicovaginal fistula', 'C': 'Fecal incontinence', 'D': 'Small bowel obstruction', 'E': 'Stress incontinence'}\n",
      "  warnings.warn(\n",
      "/home/kon/work/ThoughtSource/libs/cot/cot/evaluate.py:308: UserWarning: Your answer could not be extracted from this sequence.\n",
      "            sequence:  E) Naloxone. Naloxone is an opioid antagonist used to reverse the effects of opioid overdose. It is the most appropriate pharmacotherapy for this patient's symptoms, which are consistent with opioid intoxication.\n",
      "            possible answers: {'A': 'Lorazepam', 'B': 'Naltrexone', 'C': 'Methadone', 'D': 'Morphine', 'E': 'Naloxone\\n\"'}\n",
      "  warnings.warn(\n",
      "/home/kon/work/ThoughtSource/libs/cot/cot/evaluate.py:308: UserWarning: Your answer could not be extracted from this sequence.\n",
      "            sequence: \n",
      "            possible answers: {'A': 'Bipolar I disorder', 'B': 'Bipolar II disorder', 'C': 'Cyclothymic disorder', 'D': 'Persistent depressive disorder', 'E': 'Schizoaffective disorder'}\n",
      "  warnings.warn(\n",
      "/home/kon/work/ThoughtSource/libs/cot/cot/evaluate.py:308: UserWarning: Your answer could not be extracted from this sequence.\n",
      "            sequence: \n",
      "            possible answers: {'A': 'Pulmonary hypertension', 'B': 'Lower extremity gangrene', 'C': 'Palpable purpura', 'D': 'Posterior uveitis', 'E': 'Thoracic aortic aneurysm'}\n",
      "  warnings.warn(\n",
      "/home/kon/work/ThoughtSource/libs/cot/cot/evaluate.py:308: UserWarning: Your answer could not be extracted from this sequence.\n",
      "            sequence: \n",
      "            possible answers: {'A': \"Administer a blood transfusion to save the patient's life\", 'B': 'Call the ethics board of the hospital to discuss the issue', 'C': \"Respect the patient's written instructions and do not adminster a blood transfusion\", 'D': 'Convince the wife to administer a blood transfusion to her husband', 'E': 'Refuse to treat the patient as he will die without a blood transfusion'}\n",
      "  warnings.warn(\n",
      "/home/kon/work/ThoughtSource/libs/cot/cot/evaluate.py:308: UserWarning: Your answer could not be extracted from this sequence.\n",
      "            sequence:  B. This patient is likely suffering from diphtheria, which is caused by the Gram-positive bacterium Corynebacterium diphtheriae. This bacterium produces an exotoxin that acts via ADP ribosylation.\n",
      "            possible answers: {'A': 'Yeast with pseudohyphae', 'B': 'Gram-positive bacteria producing exotoxin that acts via ADP ribosylation', 'C': 'Gram-positive cocci with hyaluronic acid capsule', 'D': 'Gram-negative encapsulated bacteria producing IgA protease', 'E': 'Gram-negative bacteria producing exotoxin that inactivates elongation factor 2'}\n",
      "  warnings.warn(\n",
      "/home/kon/work/ThoughtSource/libs/cot/cot/evaluate.py:308: UserWarning: Your answer could not be extracted from this sequence.\n",
      "            sequence:  C, Non-anion gap metabolic acidosis.\n",
      "            possible answers: {'A': 'Metabolic alkalosis', 'B': 'Anion gap metabolic acidosis', 'C': 'Non-anion gap metabolic acidosis', 'D': 'Respiratory acidosis', 'E': 'Respiratory alkalosis'}\n",
      "  warnings.warn(\n",
      "/home/kon/work/ThoughtSource/libs/cot/cot/evaluate.py:308: UserWarning: Your answer could not be extracted from this sequence.\n",
      "            sequence:  C. Non-anion gap metabolic acidosis is a common finding in patients with calcium oxalate crystal deposition in the kidneys, which is likely the cause of the patient's symptoms.\n",
      "            possible answers: {'A': 'Metabolic alkalosis', 'B': 'Anion gap metabolic acidosis', 'C': 'Non-anion gap metabolic acidosis', 'D': 'Respiratory acidosis', 'E': 'Respiratory alkalosis'}\n",
      "  warnings.warn(\n",
      "/home/kon/work/ThoughtSource/libs/cot/cot/evaluate.py:308: UserWarning: Your answer could not be extracted from this sequence.\n",
      "            sequence:  B or C.\n",
      "            possible answers: {'A': 'Metabolic alkalosis', 'B': 'Anion gap metabolic acidosis', 'C': 'Non-anion gap metabolic acidosis', 'D': 'Respiratory acidosis', 'E': 'Respiratory alkalosis'}\n",
      "  warnings.warn(\n",
      "/home/kon/work/ThoughtSource/libs/cot/cot/evaluate.py:308: UserWarning: Your answer could not be extracted from this sequence.\n",
      "            sequence: \n",
      "            possible answers: {'A': 'Ixodes scapularis', 'B': 'Tsetse fly', 'C': 'Culicidae', 'D': 'Dermacentor variabilis', 'E': 'Anopheles'}\n",
      "  warnings.warn(\n",
      "/home/kon/work/ThoughtSource/libs/cot/cot/evaluate.py:308: UserWarning: Your answer could not be extracted from this sequence.\n",
      "            sequence:  either B or D.\n",
      "            possible answers: {'A': 'Metoprolol', 'B': 'Verapamil', 'C': 'Nifedipine', 'D': 'Hydrochlorthiazide', 'E': 'Spironolactone'}\n",
      "  warnings.warn(\n"
     ]
    },
    {
     "name": "stdout",
     "output_type": "stream",
     "text": [
      "Evaluating medmc_qa...\n"
     ]
    },
    {
     "name": "stderr",
     "output_type": "stream",
     "text": [
      "/home/kon/work/ThoughtSource/libs/cot/cot/evaluate.py:59: UserWarning: It seems that not all examples of the dataset include an answer to be evaluated.\n",
      "                    Counter of examples:\n",
      "                    dict_items([('command-xlarge-nightly', defaultdict(<class 'int'>, {'None_kojima-01_kojima-A-E': 100, 'None_None_kojima-A-E': 100})), ('text-davinci-003', defaultdict(<class 'int'>, {'None_None_kojima-A-E': 100, 'None_kojima-01_kojima-A-E': 100})), ('text-davinci-002', defaultdict(<class 'int'>, {'None_lievin-01_kojima-A-D': 100, 'None_lievin-03_kojima-A-D': 100, 'None_kojima-01_kojima-A-D': 100, 'None_lievin-02_kojima-A-D': 100, 'None_lievin-10_kojima-A-D': 100})), ('flan-T5-xxl', defaultdict(<class 'int'>, {'None_None_kojima-A-E': 100, 'None_kojima-01_kojima-A-E': 100}))])\n",
      "                    Length of dataset:\n",
      "                    100\n",
      "                    The evaluation score was only calculated based on the examples that include an answer.\n",
      "                    To turn this warning off, set warn=False in the evaluate function.\n",
      "  warnings.warn(\n"
     ]
    },
    {
     "data": {
      "application/vnd.jupyter.widget-view+json": {
       "model_id": "be9837a8afe84510a7c8dc70d2aa3b29",
       "version_major": 2,
       "version_minor": 0
      },
      "text/plain": [
       "  0%|          | 0/100 [00:00<?, ?ex/s]"
      ]
     },
     "metadata": {},
     "output_type": "display_data"
    },
    {
     "name": "stderr",
     "output_type": "stream",
     "text": [
      "/home/kon/work/ThoughtSource/libs/cot/cot/evaluate.py:308: UserWarning: Your answer could not be extracted from this sequence.\n",
      "            sequence:  none.\n",
      "            possible answers: {'A': 'Immunoglobulin receptors', 'B': 'Interleukins', 'C': 'Growth factors', 'D': 'Odorants'}\n",
      "  warnings.warn(\n",
      "/home/kon/work/ThoughtSource/libs/cot/cot/evaluate.py:308: UserWarning: Your answer could not be extracted from this sequence.\n",
      "            sequence: \n",
      "            possible answers: {'A': 'Immunoglobulin receptors', 'B': 'Interleukins', 'C': 'Growth factors', 'D': 'Odorants'}\n",
      "  warnings.warn(\n",
      "/home/kon/work/ThoughtSource/libs/cot/cot/evaluate.py:331: UserWarning: Found more than one possible answer to compute the evaluation score. By default returning the first found answer.\n",
      "                                 In the answer sentence 'D) Quiet wakefulness.' these possible answers were found: '('D', 'Quiet wakefulness')'\n",
      "                                 If you want to return a specific answer, please define a regex pattern with only one group.\n",
      "                \n",
      "  warnings.warn(\n",
      "/home/kon/work/ThoughtSource/libs/cot/cot/evaluate.py:308: UserWarning: Your answer could not be extracted from this sequence.\n",
      "            sequence:  EEG.\n",
      "            possible answers: {'A': 'NREM sleep', 'B': 'REM sleep', 'C': 'Wakefulness', 'D': 'Quiet wakefulness'}\n",
      "  warnings.warn(\n",
      "/home/kon/work/ThoughtSource/libs/cot/cot/evaluate.py:308: UserWarning: Your answer could not be extracted from this sequence.\n",
      "            sequence:  B) PCR for virus.\n",
      "            possible answers: {'A': 'Indirect immunofluorescence', 'B': '-PCR for virus', 'C': 'Histopathological examination for Negri bodies', 'D': 'Antibodies against Rabies virus'}\n",
      "  warnings.warn(\n",
      "/home/kon/work/ThoughtSource/libs/cot/cot/evaluate.py:308: UserWarning: Your answer could not be extracted from this sequence.\n",
      "            sequence:  either A) or B).\n",
      "            possible answers: {'A': 'Rotor syndrome', 'B': 'Gilbert syndrome', 'C': 'Glucuronyl transferase deficiency', 'D': 'Primary biliary cirrhosis'}\n",
      "  warnings.warn(\n",
      "/home/kon/work/ThoughtSource/libs/cot/cot/evaluate.py:308: UserWarning: Your answer could not be extracted from this sequence.\n",
      "            sequence:  A, C, D.\n",
      "            possible answers: {'A': 'CVP', 'B': 'Urine output', 'C': 'Blood pressure', 'D': 'Saturation of Oxygen'}\n",
      "  warnings.warn(\n",
      "/home/kon/work/ThoughtSource/libs/cot/cot/evaluate.py:308: UserWarning: Your answer could not be extracted from this sequence.\n",
      "            sequence: \n",
      "            possible answers: {'A': 'CVP', 'B': 'Urine output', 'C': 'Blood pressure', 'D': 'Saturation of Oxygen'}\n",
      "  warnings.warn(\n",
      "/home/kon/work/ThoughtSource/libs/cot/cot/evaluate.py:308: UserWarning: Your answer could not be extracted from this sequence.\n",
      "            sequence:  none of the above.\n",
      "            possible answers: {'A': 'Itching', 'B': 'Urinary retention', 'C': 'Increase vomiting', 'D': 'Overstimulation of respiratory centre'}\n",
      "  warnings.warn(\n",
      "/home/kon/work/ThoughtSource/libs/cot/cot/evaluate.py:308: UserWarning: Your answer could not be extracted from this sequence.\n",
      "            sequence:  A) Hydrological and B) Meterological.\n",
      "            possible answers: {'A': 'Hydrological', 'B': 'Meterological', 'C': 'Geological', 'D': 'Fires'}\n",
      "  warnings.warn(\n",
      "/home/kon/work/ThoughtSource/libs/cot/cot/evaluate.py:308: UserWarning: Your answer could not be extracted from this sequence.\n",
      "            sequence: \n",
      "            possible answers: {'A': 'Ocular myasthenia gravis', 'B': 'Generalized myasthenia gravis', 'C': 'As anti-ACHR is negative you will consider an alternative diagnosis', 'D': 'Chronic progressive external ophthalmoplegia (CPEO)'}\n",
      "  warnings.warn(\n",
      "/home/kon/work/ThoughtSource/libs/cot/cot/evaluate.py:308: UserWarning: Your answer could not be extracted from this sequence.\n",
      "            sequence:  C. Aschoff nodules are a feature of rheumatic fever, not infective endocarditis.\n",
      "            possible answers: {'A': 'Roth spot.', 'B': \"Osler's nodes.\", 'C': 'Aschoff nodules.', 'D': 'Positive blood culture.'}\n",
      "  warnings.warn(\n",
      "/home/kon/work/ThoughtSource/libs/cot/cot/evaluate.py:308: UserWarning: Your answer could not be extracted from this sequence.\n",
      "            sequence:  A, B, and C.\n",
      "            possible answers: {'A': 'Blood glucose', 'B': 'Serum protein', 'C': 'Serum bilirubin', 'D': 'Oxygen saturation'}\n",
      "  warnings.warn(\n",
      "/home/kon/work/ThoughtSource/libs/cot/cot/evaluate.py:308: UserWarning: Your answer could not be extracted from this sequence.\n",
      "            sequence:  B, C, and D.\n",
      "            possible answers: {'A': 'Vocal Abuse', 'B': 'Laryngopharyngeal Reflux', 'C': 'Tuberculosis', 'D': 'Corticosteroid usage'}\n",
      "  warnings.warn(\n",
      "/home/kon/work/ThoughtSource/libs/cot/cot/evaluate.py:308: UserWarning: Your answer could not be extracted from this sequence.\n",
      "            sequence:  B. The patient's serology profile indicates that they have recovered from a chronic hepatitis infection, as indicated by the non-reactive HbsAg and HbeAg, and the reactive IgG Anti-HbC. The undetectable HBV DNA indicates that the virus is no longer present in the patient's body.\n",
      "            possible answers: {'A': 'Chronic hepatitis inactive state', 'B': 'Chronic hepatitis recovery state', 'C': 'Pre-core mutant infection', 'D': 'Window period'}\n",
      "  warnings.warn(\n",
      "/home/kon/work/ThoughtSource/libs/cot/cot/evaluate.py:308: UserWarning: Your answer could not be extracted from this sequence.\n",
      "            sequence:  B) Affinity chromatography or C) Ion exchange chromatography.\n",
      "            possible answers: {'A': 'lsoelectric focusing', 'B': 'Affinity chromatography', 'C': 'Ion exchange chromatography', 'D': 'Electrophoresis'}\n",
      "  warnings.warn(\n",
      "/home/kon/work/ThoughtSource/libs/cot/cot/evaluate.py:331: UserWarning: Found more than one possible answer to compute the evaluation score. By default returning the first found answer.\n",
      "                                 In the answer sentence 'C) IIA.' these possible answers were found: '('C', 'IIA')'\n",
      "                                 If you want to return a specific answer, please define a regex pattern with only one group.\n",
      "                \n",
      "  warnings.warn(\n",
      "/home/kon/work/ThoughtSource/libs/cot/cot/evaluate.py:308: UserWarning: Your answer could not be extracted from this sequence.\n",
      "            sequence:  10.\n",
      "            possible answers: {'A': 'Safety', 'B': 'Efficacy', 'C': 'Dose', 'D': 'Pharmacokinetics'}\n",
      "  warnings.warn(\n",
      "/home/kon/work/ThoughtSource/libs/cot/cot/evaluate.py:308: UserWarning: Your answer could not be extracted from this sequence.\n",
      "            sequence:  B and D.\n",
      "            possible answers: {'A': 'Female sex', 'B': 'Leukocyte count < 50,000', 'C': 'Age greater than 1 year', 'D': 'Hypodiploidy'}\n",
      "  warnings.warn(\n",
      "/home/kon/work/ThoughtSource/libs/cot/cot/evaluate.py:308: UserWarning: Your answer could not be extracted from this sequence.\n",
      "            sequence:  A and B.\n",
      "            possible answers: {'A': 'Female sex', 'B': 'Leukocyte count < 50,000', 'C': 'Age greater than 1 year', 'D': 'Hypodiploidy'}\n",
      "  warnings.warn(\n",
      "/home/kon/work/ThoughtSource/libs/cot/cot/evaluate.py:308: UserWarning: Your answer could not be extracted from this sequence.\n",
      "            sequence:  C) Hydroxyproline.\n",
      "            possible answers: {'A': 'Glycine', 'B': 'Tyrosine', 'C': 'Hydroxyprolinc', 'D': 'Alanine'}\n",
      "  warnings.warn(\n",
      "/home/kon/work/ThoughtSource/libs/cot/cot/evaluate.py:308: UserWarning: Your answer could not be extracted from this sequence.\n",
      "            sequence:  A, C, and D.\n",
      "            possible answers: {'A': 'Cords of billroth', 'B': \"Hassall's corpuscles\", 'C': 'Lymphatic nodules', 'D': 'White pulp'}\n",
      "  warnings.warn(\n",
      "/home/kon/work/ThoughtSource/libs/cot/cot/evaluate.py:308: UserWarning: Your answer could not be extracted from this sequence.\n",
      "            sequence:  9) It is the time when a child can use language, but cannot yet use logical thought.\n",
      "            possible answers: {'A': 'Birth to 18 months', 'B': '12 years onwards.', 'C': '2-6 years.', 'D': '7-12 years.'}\n",
      "  warnings.warn(\n",
      "/home/kon/work/ThoughtSource/libs/cot/cot/evaluate.py:308: UserWarning: Your answer could not be extracted from this sequence.\n",
      "            sequence:  A and D.\n",
      "            possible answers: {'A': 'EGFR', 'B': 'CD23', 'C': 'IL6', 'D': 'IL2RG'}\n",
      "  warnings.warn(\n",
      "/home/kon/work/ThoughtSource/libs/cot/cot/evaluate.py:308: UserWarning: Your answer could not be extracted from this sequence.\n",
      "            sequence:  B. The anteromedial pa of the anterior cruciate ligament is the most commonly damaged structure in cases of knee instability.\n",
      "            possible answers: {'A': 'Posterolatilal pa of anterior cruciate ligament', 'B': 'Anteromedial pa of anterior cruciate ligament', 'C': 'Posterior cruciate ligament', 'D': 'Anterior hom of medial meniscus'}\n",
      "  warnings.warn(\n",
      "/home/kon/work/ThoughtSource/libs/cot/cot/evaluate.py:308: UserWarning: Your answer could not be extracted from this sequence.\n",
      "            sequence:  1.\n",
      "            possible answers: {'A': '0.1 L/cm', 'B': '0.3 L/cm', 'C': '0.2 L/cm', 'D': '0.4 L cm'}\n",
      "  warnings.warn(\n",
      "/home/kon/work/ThoughtSource/libs/cot/cot/evaluate.py:308: UserWarning: Your answer could not be extracted from this sequence.\n",
      "            sequence:  none of the above.\n",
      "            possible answers: {'A': 'Enterobius vermicularis', 'B': 'Hymenolepis nana', 'C': 'Taenia solium', 'D': 'Ascaris lumbricoides'}\n",
      "  warnings.warn(\n",
      "/home/kon/work/ThoughtSource/libs/cot/cot/evaluate.py:308: UserWarning: Your answer could not be extracted from this sequence.\n",
      "            sequence:  B. Macrophages are a type of antigen-presenting cell, but M-cells, Langerhans cells, and thymocytes are not.\n",
      "            possible answers: {'A': 'M-cells', 'B': 'Macrophages', 'C': 'Langerhans cells', 'D': 'Thymocytes'}\n",
      "  warnings.warn(\n",
      "/home/kon/work/ThoughtSource/libs/cot/cot/evaluate.py:308: UserWarning: Your answer could not be extracted from this sequence.\n",
      "            sequence:  C) Internal carotid artery.\n",
      "            possible answers: {'A': 'Maxillary aery', 'B': 'Anterior ethmoidal aery', 'C': 'Internal carotid aery', 'D': 'External carotid aery'}\n",
      "  warnings.warn(\n",
      "/home/kon/work/ThoughtSource/libs/cot/cot/evaluate.py:308: UserWarning: Your answer could not be extracted from this sequence.\n",
      "            sequence:  case-control study design.\n",
      "            possible answers: {'A': 'Case control', 'B': 'Prospective coho', 'C': 'Longitudinal study', 'D': 'Ambispective'}\n",
      "  warnings.warn(\n"
     ]
    },
    {
     "name": "stdout",
     "output_type": "stream",
     "text": [
      "Evaluating open_book_qa...\n"
     ]
    },
    {
     "name": "stderr",
     "output_type": "stream",
     "text": [
      "/home/kon/work/ThoughtSource/libs/cot/cot/evaluate.py:59: UserWarning: It seems that not all examples of the dataset include an answer to be evaluated.\n",
      "                    Counter of examples:\n",
      "                    dict_items([('text-davinci-003', defaultdict(<class 'int'>, {'None_None_kojima-A-D': 100, 'None_kojima-01_kojima-A-D': 100})), ('command-xlarge-nightly', defaultdict(<class 'int'>, {'None_None_kojima-A-D': 100, 'None_kojima-01_kojima-A-D': 100})), ('text-davinci-002', defaultdict(<class 'int'>, {'None_kojima-01_kojima-A-D': 100, 'None_lievin-10_kojima-A-D': 100, 'None_lievin-01_kojima-A-D': 100, 'None_lievin-03_kojima-A-D': 100, 'None_lievin-02_kojima-A-D': 100})), ('flan-T5-xxl', defaultdict(<class 'int'>, {'None_None_kojima-A-D': 100, 'None_kojima-01_kojima-A-D': 100}))])\n",
      "                    Length of dataset:\n",
      "                    100\n",
      "                    The evaluation score was only calculated based on the examples that include an answer.\n",
      "                    To turn this warning off, set warn=False in the evaluate function.\n",
      "  warnings.warn(\n"
     ]
    },
    {
     "data": {
      "application/vnd.jupyter.widget-view+json": {
       "model_id": "cc83edc6f1ee44f58ae82a84826c832d",
       "version_major": 2,
       "version_minor": 0
      },
      "text/plain": [
       "  0%|          | 0/100 [00:00<?, ?ex/s]"
      ]
     },
     "metadata": {},
     "output_type": "display_data"
    },
    {
     "name": "stderr",
     "output_type": "stream",
     "text": [
      "/home/kon/work/ThoughtSource/libs/cot/cot/evaluate.py:308: UserWarning: Your answer could not be extracted from this sequence.\n",
      "            sequence:  D. The moon's rotation is what causes the bright star nearest to the earth to be straight overhead in the middle of the day.\n",
      "            possible answers: {'A': 'moons gravity', 'B': 'human planet rotation', 'C': 'global warming', 'D': 'moon rotation'}\n",
      "  warnings.warn(\n",
      "/home/kon/work/ThoughtSource/libs/cot/cot/evaluate.py:308: UserWarning: Your answer could not be extracted from this sequence.\n",
      "            sequence:  None of the Above.\n",
      "            possible answers: {'A': 'The color of my hair', 'B': 'The way I walk', 'C': 'The size of a statue', 'D': 'The sound a computer makes'}\n",
      "  warnings.warn(\n",
      "/home/kon/work/ThoughtSource/libs/cot/cot/evaluate.py:308: UserWarning: Your answer could not be extracted from this sequence.\n",
      "            sequence:  A) water and soda or B) water and oil.\n",
      "            possible answers: {'A': 'water and soda', 'B': 'water and oil', 'C': 'sand and rocks', 'D': 'salt and bark'}\n",
      "  warnings.warn(\n",
      "/home/kon/work/ThoughtSource/libs/cot/cot/evaluate.py:308: UserWarning: Your answer could not be extracted from this sequence.\n",
      "            sequence:  A and D.\n",
      "            possible answers: {'A': 'induces organisms to use more of their resources', 'B': 'causes an increase in use of resources', 'C': 'causes an uptick in birthrate', 'D': 'induces organisms to be more economical with resources'}\n",
      "  warnings.warn(\n",
      "/home/kon/work/ThoughtSource/libs/cot/cot/evaluate.py:308: UserWarning: Your answer could not be extracted from this sequence.\n",
      "            sequence:  either the heart or the liver.\n",
      "            possible answers: {'A': 'the lungs', 'B': 'the kidney', 'C': 'the heart', 'D': 'the liver'}\n",
      "  warnings.warn(\n",
      "/home/kon/work/ThoughtSource/libs/cot/cot/evaluate.py:308: UserWarning: Your answer could not be extracted from this sequence.\n",
      "            sequence:  D) Sand.\n",
      "            possible answers: {'A': 'clothes', 'B': 'food', 'C': 'forests', 'D': 'castles'}\n",
      "  warnings.warn(\n",
      "/home/kon/work/ThoughtSource/libs/cot/cot/evaluate.py:308: UserWarning: Your answer could not be extracted from this sequence.\n",
      "            sequence:  sand.\n",
      "            possible answers: {'A': 'clothes', 'B': 'food', 'C': 'forests', 'D': 'castles'}\n",
      "  warnings.warn(\n",
      "/home/kon/work/ThoughtSource/libs/cot/cot/evaluate.py:308: UserWarning: Your answer could not be extracted from this sequence.\n",
      "            sequence:  B) a wedge and C) a magnet.\n",
      "            possible answers: {'A': 'solar-rechargeable battery', 'B': 'a wedge', 'C': 'a magnet', 'D': 'pressure gauge'}\n",
      "  warnings.warn(\n",
      "/home/kon/work/ThoughtSource/libs/cot/cot/evaluate.py:308: UserWarning: Your answer could not be extracted from this sequence.\n",
      "            sequence:  E.\n",
      "            possible answers: {'A': 'Lots of meat', 'B': 'Lots of love', 'C': 'Vitamin supplements', 'D': 'An insulated room'}\n",
      "  warnings.warn(\n",
      "/home/kon/work/ThoughtSource/libs/cot/cot/evaluate.py:308: UserWarning: Your answer could not be extracted from this sequence.\n",
      "            sequence:  ocean.\n",
      "            possible answers: {'A': 'the Sahara', 'B': 'the mountains', 'C': 'the ocean', 'D': 'the sewers'}\n",
      "  warnings.warn(\n",
      "/home/kon/work/ThoughtSource/libs/cot/cot/evaluate.py:308: UserWarning: Your answer could not be extracted from this sequence.\n",
      "            sequence:  A) in cacti or other spiked plants that store water.\n",
      "            possible answers: {'A': 'in sticks', 'B': 'in pebbles', 'C': 'in sand', 'D': 'in spiked plants'}\n",
      "  warnings.warn(\n",
      "/home/kon/work/ThoughtSource/libs/cot/cot/evaluate.py:308: UserWarning: Your answer could not be extracted from this sequence.\n",
      "            sequence:  52.\n",
      "            possible answers: {'A': '13', 'B': '12', 'C': '15', 'D': '14'}\n",
      "  warnings.warn(\n"
     ]
    },
    {
     "name": "stdout",
     "output_type": "stream",
     "text": [
      "Evaluating strategy_qa...\n"
     ]
    },
    {
     "name": "stderr",
     "output_type": "stream",
     "text": [
      "/home/kon/work/ThoughtSource/libs/cot/cot/evaluate.py:308: UserWarning: Your answer could not be extracted from this sequence.\n",
      "            sequence: : None of the above.\n",
      "            possible answers: {'A': 'lakes that are frozen over', 'B': 'things you give a loved one in a bouquet', 'C': 'various types of animals', 'D': 'a person that is healthy'}\n",
      "  warnings.warn(\n",
      "/home/kon/work/ThoughtSource/libs/cot/cot/evaluate.py:59: UserWarning: It seems that not all examples of the dataset include an answer to be evaluated.\n",
      "                    Counter of examples:\n",
      "                    dict_items([('command-xlarge-nightly', defaultdict(<class 'int'>, {'None_None_kojima-A-D': 100, 'None_kojima-01_kojima-A-D': 100})), ('text-davinci-003', defaultdict(<class 'int'>, {'None_kojima-01_kojima-A-D': 100, 'None_None_kojima-A-D': 100})), ('flan-T5-xxl', defaultdict(<class 'int'>, {'None_None_kojima-A-D': 100, 'None_kojima-01_kojima-A-D': 100}))])\n",
      "                    Length of dataset:\n",
      "                    100\n",
      "                    The evaluation score was only calculated based on the examples that include an answer.\n",
      "                    To turn this warning off, set warn=False in the evaluate function.\n",
      "  warnings.warn(\n"
     ]
    },
    {
     "data": {
      "application/vnd.jupyter.widget-view+json": {
       "model_id": "5704c365e0b8403bb2b1dcee4d8cf834",
       "version_major": 2,
       "version_minor": 0
      },
      "text/plain": [
       "  0%|          | 0/100 [00:00<?, ?ex/s]"
      ]
     },
     "metadata": {},
     "output_type": "display_data"
    },
    {
     "name": "stderr",
     "output_type": "stream",
     "text": [
      "/home/kon/work/ThoughtSource/libs/cot/cot/evaluate.py:308: UserWarning: Your answer could not be extracted from this sequence.\n",
      "            sequence:  not definitive and depends on the exchange rate.\n",
      "            possible answers: {'Yes': 'True', 'No': 'False'}\n",
      "  warnings.warn(\n",
      "/home/kon/work/ThoughtSource/libs/cot/cot/evaluate.py:308: UserWarning: Your answer could not be extracted from this sequence.\n",
      "            sequence: Therefore, the answer (Yes or No) is dependent on the country you are in and what the currency can be exchanged for.\n",
      "            possible answers: {'Yes': 'True', 'No': 'False'}\n",
      "  warnings.warn(\n",
      "/home/kon/work/ThoughtSource/libs/cot/cot/evaluate.py:308: UserWarning: Your answer could not be extracted from this sequence.\n",
      "            sequence: So the answer is .\n",
      "            possible answers: {'Yes': 'True', 'No': 'False'}\n",
      "  warnings.warn(\n",
      "/home/kon/work/ThoughtSource/libs/cot/cot/evaluate.py:308: UserWarning: Your answer could not be extracted from this sequence.\n",
      "            sequence:  likely to be yes.\n",
      "            possible answers: {'Yes': 'True', 'No': 'False'}\n",
      "  warnings.warn(\n",
      "/home/kon/work/ThoughtSource/libs/cot/cot/evaluate.py:308: UserWarning: Your answer could not be extracted from this sequence.\n",
      "            sequence: Therefore, the answer (Yes or No) is not as simple as it seems.\n",
      "            possible answers: {'Yes': 'True', 'No': 'False'}\n",
      "  warnings.warn(\n",
      "/home/kon/work/ThoughtSource/libs/cot/cot/evaluate.py:308: UserWarning: Your answer could not be extracted from this sequence.\n",
      "            sequence:  likely No.\n",
      "            possible answers: {'Yes': 'True', 'No': 'False'}\n",
      "  warnings.warn(\n",
      "/home/kon/work/ThoughtSource/libs/cot/cot/evaluate.py:308: UserWarning: Your answer could not be extracted from this sequence.\n",
      "            sequence: Therefore, the answer (Yes or No) is uncertain.\n",
      "            possible answers: {'Yes': 'True', 'No': 'False'}\n",
      "  warnings.warn(\n",
      "/home/kon/work/ThoughtSource/libs/cot/cot/evaluate.py:308: UserWarning: Your answer could not be extracted from this sequence.\n",
      "            sequence:  not definitive.\n",
      "            possible answers: {'Yes': 'True', 'No': 'False'}\n",
      "  warnings.warn(\n",
      "/home/kon/work/ThoughtSource/libs/cot/cot/evaluate.py:308: UserWarning: Your answer could not be extracted from this sequence.\n",
      "            sequence:  Yes, it is expected that Charla Nash would be anxious near a gorilla.\n",
      "            possible answers: {'Yes': 'True', 'No': 'False'}\n",
      "  warnings.warn(\n",
      "/home/kon/work/ThoughtSource/libs/cot/cot/evaluate.py:308: UserWarning: Your answer could not be extracted from this sequence.\n",
      "            sequence:  not known.\n",
      "            possible answers: {'Yes': 'True', 'No': 'False'}\n",
      "  warnings.warn(\n",
      "/home/kon/work/ThoughtSource/libs/cot/cot/evaluate.py:308: UserWarning: Your answer could not be extracted from this sequence.\n",
      "            sequence:  unknown.\n",
      "            possible answers: {'Yes': 'True', 'No': 'False'}\n",
      "  warnings.warn(\n",
      "/home/kon/work/ThoughtSource/libs/cot/cot/evaluate.py:308: UserWarning: Your answer could not be extracted from this sequence.\n",
      "            sequence: Therefore, the answer (Yes or No) is:It is possible that the children of Greek hero Jason could hypothetically fill a polo team.\n",
      "            possible answers: {'Yes': 'True', 'No': 'False'}\n",
      "  warnings.warn(\n",
      "/home/kon/work/ThoughtSource/libs/cot/cot/evaluate.py:308: UserWarning: Your answer could not be extracted from this sequence.\n",
      "            sequence: :\n",
      "It is likely that the Marines would defeat the Swiss Guard in a one-on-one battle.\n",
      "            possible answers: {'Yes': 'True', 'No': 'False'}\n",
      "  warnings.warn(\n",
      "/home/kon/work/ThoughtSource/libs/cot/cot/evaluate.py:308: UserWarning: Your answer could not be extracted from this sequence.\n",
      "            sequence:  not straightforward. It depends on the individual's level of Dyscalculia and the support they receive.\n",
      "            possible answers: {'Yes': 'True', 'No': 'False'}\n",
      "  warnings.warn(\n",
      "/home/kon/work/ThoughtSource/libs/cot/cot/evaluate.py:308: UserWarning: Your answer could not be extracted from this sequence.\n",
      "            sequence:  impossible to determine.\n",
      "            possible answers: {'Yes': 'True', 'No': 'False'}\n",
      "  warnings.warn(\n",
      "/home/kon/work/ThoughtSource/libs/cot/cot/evaluate.py:308: UserWarning: Your answer could not be extracted from this sequence.\n",
      "            sequence:  No. Blue lips are not normal.\n",
      "            possible answers: {'Yes': 'True', 'No': 'False'}\n",
      "  warnings.warn(\n",
      "/home/kon/work/ThoughtSource/libs/cot/cot/evaluate.py:308: UserWarning: Your answer could not be extracted from this sequence.\n",
      "            sequence: Therefore, the answer (Yes or No) is not definitive, and more information is needed to provide a definitive answer.\n",
      "            possible answers: {'Yes': 'True', 'No': 'False'}\n",
      "  warnings.warn(\n",
      "/home/kon/work/ThoughtSource/libs/cot/cot/evaluate.py:308: UserWarning: Your answer could not be extracted from this sequence.\n",
      "            sequence:  subjective and depends on the individual's opinion.\n",
      "            possible answers: {'Yes': 'True', 'No': 'False'}\n",
      "  warnings.warn(\n",
      "/home/kon/work/ThoughtSource/libs/cot/cot/evaluate.py:308: UserWarning: Your answer could not be extracted from this sequence.\n",
      "            sequence: Therefore, the answer (Yes or No) is difficult to say.\n",
      "            possible answers: {'Yes': 'True', 'No': 'False'}\n",
      "  warnings.warn(\n",
      "/home/kon/work/ThoughtSource/libs/cot/cot/evaluate.py:308: UserWarning: Your answer could not be extracted from this sequence.\n",
      "            sequence:  yes, it is safe to eat kidney.\n",
      "            possible answers: {'Yes': 'True', 'No': 'False'}\n",
      "  warnings.warn(\n",
      "/home/kon/work/ThoughtSource/libs/cot/cot/evaluate.py:308: UserWarning: Your answer could not be extracted from this sequence.\n",
      "            sequence: Therefore, the answer (Yes or No) is not definitive.\n",
      "            possible answers: {'Yes': 'True', 'No': 'False'}\n",
      "  warnings.warn(\n",
      "/home/kon/work/ThoughtSource/libs/cot/cot/evaluate.py:308: UserWarning: Your answer could not be extracted from this sequence.\n",
      "            sequence: Therefore, the answer (Yes or No) is not known.\n",
      "            possible answers: {'Yes': 'True', 'No': 'False'}\n",
      "  warnings.warn(\n",
      "/home/kon/work/ThoughtSource/libs/cot/cot/evaluate.py:308: UserWarning: Your answer could not be extracted from this sequence.\n",
      "            sequence:  Yes, embalmed bodies feel different at funerals.\n",
      "            possible answers: {'Yes': 'True', 'No': 'False'}\n",
      "  warnings.warn(\n",
      "/home/kon/work/ThoughtSource/libs/cot/cot/evaluate.py:308: UserWarning: Your answer could not be extracted from this sequence.\n",
      "            sequence:  No, lobsters cannot breathe in the desert.\n",
      "            possible answers: {'Yes': 'True', 'No': 'False'}\n",
      "  warnings.warn(\n",
      "/home/kon/work/ThoughtSource/libs/cot/cot/evaluate.py:308: UserWarning: Your answer could not be extracted from this sequence.\n",
      "            sequence: Therefore, the answer (Yes or No) is dependent on how you are defining the terms.\n",
      "            possible answers: {'Yes': 'True', 'No': 'False'}\n",
      "  warnings.warn(\n",
      "/home/kon/work/ThoughtSource/libs/cot/cot/evaluate.py:308: UserWarning: Your answer could not be extracted from this sequence.\n",
      "            sequence: Therefore, the answer (Yes or No) is: we don't know for sure.\n",
      "            possible answers: {'Yes': 'True', 'No': 'False'}\n",
      "  warnings.warn(\n",
      "/home/kon/work/ThoughtSource/libs/cot/cot/evaluate.py:308: UserWarning: Your answer could not be extracted from this sequence.\n",
      "            sequence:  dependent on the type of business the company is in.\n",
      "            possible answers: {'Yes': 'True', 'No': 'False'}\n",
      "  warnings.warn(\n",
      "/home/kon/work/ThoughtSource/libs/cot/cot/evaluate.py:308: UserWarning: Your answer could not be extracted from this sequence.\n",
      "            sequence: \n",
      "No, because E.T. is a fictional character.\n",
      "            possible answers: {'Yes': 'True', 'No': 'False'}\n",
      "  warnings.warn(\n",
      "/home/kon/work/ThoughtSource/libs/cot/cot/evaluate.py:308: UserWarning: Your answer could not be extracted from this sequence.\n",
      "            sequence:  \"Maybe\".\n",
      "            possible answers: {'Yes': 'True', 'No': 'False'}\n",
      "  warnings.warn(\n",
      "/home/kon/work/ThoughtSource/libs/cot/cot/evaluate.py:308: UserWarning: Your answer could not be extracted from this sequence.\n",
      "            sequence: Therefore, the answer (Yes or No) is: It is possible that E.T. would love Friendly's, but we cannot say for sure.\n",
      "            possible answers: {'Yes': 'True', 'No': 'False'}\n",
      "  warnings.warn(\n",
      "/home/kon/work/ThoughtSource/libs/cot/cot/evaluate.py:308: UserWarning: Your answer could not be extracted from this sequence.\n",
      "            sequence: Therefore, the answer (Yes or No) is: Unknown\n",
      "            possible answers: {'Yes': 'True', 'No': 'False'}\n",
      "  warnings.warn(\n",
      "/home/kon/work/ThoughtSource/libs/cot/cot/evaluate.py:308: UserWarning: Your answer could not be extracted from this sequence.\n",
      "            sequence: Therefore, the answer (Yes or No) is Unknown.\n",
      "            possible answers: {'Yes': 'True', 'No': 'False'}\n",
      "  warnings.warn(\n",
      "/home/kon/work/ThoughtSource/libs/cot/cot/evaluate.py:308: UserWarning: Your answer could not be extracted from this sequence.\n",
      "            sequence:  not clear.\n",
      "            possible answers: {'Yes': 'True', 'No': 'False'}\n",
      "  warnings.warn(\n",
      "/home/kon/work/ThoughtSource/libs/cot/cot/evaluate.py:308: UserWarning: Your answer could not be extracted from this sequence.\n",
      "            sequence:  No, Immanuel Kant would not be disgusted by the Black Lives Matter movement.\n",
      "            possible answers: {'Yes': 'True', 'No': 'False'}\n",
      "  warnings.warn(\n",
      "/home/kon/work/ThoughtSource/libs/cot/cot/evaluate.py:308: UserWarning: Your answer could not be extracted from this sequence.\n",
      "            sequence: \n",
      "\"Unknown\".\n",
      "            possible answers: {'Yes': 'True', 'No': 'False'}\n",
      "  warnings.warn(\n",
      "/home/kon/work/ThoughtSource/libs/cot/cot/evaluate.py:308: UserWarning: Your answer could not be extracted from this sequence.\n",
      "            sequence: : Yes\n",
      "            possible answers: {'Yes': 'True', 'No': 'False'}\n",
      "  warnings.warn(\n",
      "/home/kon/work/ThoughtSource/libs/cot/cot/evaluate.py:308: UserWarning: Your answer could not be extracted from this sequence.\n",
      "            sequence: Therefore, the answer (Yes or No) is: It is possible, but not certain.\n",
      "            possible answers: {'Yes': 'True', 'No': 'False'}\n",
      "  warnings.warn(\n",
      "/home/kon/work/ThoughtSource/libs/cot/cot/evaluate.py:308: UserWarning: Your answer could not be extracted from this sequence.\n",
      "            sequence: \n",
      "            possible answers: {'Yes': 'True', 'No': 'False'}\n",
      "  warnings.warn(\n",
      "/home/kon/work/ThoughtSource/libs/cot/cot/evaluate.py:308: UserWarning: Your answer could not be extracted from this sequence.\n",
      "            sequence:  dependent on the context of the lesson.\n",
      "            possible answers: {'Yes': 'True', 'No': 'False'}\n",
      "  warnings.warn(\n"
     ]
    },
    {
     "name": "stdout",
     "output_type": "stream",
     "text": [
      "Evaluating worldtree...\n"
     ]
    },
    {
     "name": "stderr",
     "output_type": "stream",
     "text": [
      "/home/kon/work/ThoughtSource/libs/cot/cot/evaluate.py:59: UserWarning: It seems that not all examples of the dataset include an answer to be evaluated.\n",
      "                    Counter of examples:\n",
      "                    dict_items([('text-davinci-003', defaultdict(<class 'int'>, {'None_None_kojima-yes-no': 100, 'None_kojima-01_kojima-yes-no': 100})), ('command-xlarge-nightly', defaultdict(<class 'int'>, {'None_None_kojima-yes-no': 100, 'None_kojima-01_kojima-yes-no': 100})), ('text-davinci-002', defaultdict(<class 'int'>, {'None_kojima-01_kojima-yes-no': 98, 'None_None_None': 100})), ('flan-T5-xxl', defaultdict(<class 'int'>, {'None_None_kojima-yes-no': 100, 'None_kojima-01_kojima-yes-no': 100}))])\n",
      "                    Length of dataset:\n",
      "                    100\n",
      "                    The evaluation score was only calculated based on the examples that include an answer.\n",
      "                    To turn this warning off, set warn=False in the evaluate function.\n",
      "  warnings.warn(\n"
     ]
    },
    {
     "data": {
      "application/vnd.jupyter.widget-view+json": {
       "model_id": "72498148936345b68933e81df70d56b8",
       "version_major": 2,
       "version_minor": 0
      },
      "text/plain": [
       "  0%|          | 0/100 [00:00<?, ?ex/s]"
      ]
     },
     "metadata": {},
     "output_type": "display_data"
    },
    {
     "name": "stderr",
     "output_type": "stream",
     "text": [
      "/home/kon/work/ThoughtSource/libs/cot/cot/evaluate.py:308: UserWarning: Your answer could not be extracted from this sequence.\n",
      "            sequence:  A and B.\n",
      "            possible answers: {'A': 'Older than Earth', 'B': 'Smaller than Earth', 'C': 'Having the same climate as Earth', 'D': 'Having the same atmosphere as Earth'}\n",
      "  warnings.warn(\n",
      "/home/kon/work/ThoughtSource/libs/cot/cot/evaluate.py:331: UserWarning: Found more than one possible answer to compute the evaluation score. By default returning the first found answer.\n",
      "                                 In the answer sentence 'C) supernova.' these possible answers were found: '('C', 'supernova')'\n",
      "                                 If you want to return a specific answer, please define a regex pattern with only one group.\n",
      "                \n",
      "  warnings.warn(\n",
      "/home/kon/work/ThoughtSource/libs/cot/cot/evaluate.py:308: UserWarning: Your answer could not be extracted from this sequence.\n",
      "            sequence: \n",
      "            possible answers: {'A': 'nova', 'B': 'red giant', 'C': 'supernova', 'D': 'white dwarf'}\n",
      "  warnings.warn(\n",
      "/home/kon/work/ThoughtSource/libs/cot/cot/evaluate.py:308: UserWarning: Your answer could not be extracted from this sequence.\n",
      "            sequence:  C: rock solidifying slowly deep underground.\n",
      "            possible answers: {'A': 'Rock cools quickly from melted rock.', 'B': 'Rock is recrystallized by extreme pressure.', 'C': 'Rock solidifies slowly deep underground.', 'D': 'Rock is formed from deposited sediment.'}\n",
      "  warnings.warn(\n",
      "/home/kon/work/ThoughtSource/libs/cot/cot/evaluate.py:308: UserWarning: Your answer could not be extracted from this sequence.\n",
      "            sequence: \n",
      "            possible answers: {'A': 'heating', 'B': 'burying', 'C': 'eroding', 'D': 'weathering'}\n",
      "  warnings.warn(\n",
      "/home/kon/work/ThoughtSource/libs/cot/cot/evaluate.py:308: UserWarning: Your answer could not be extracted from this sequence.\n",
      "            sequence:  B and C.\n",
      "            possible answers: {'A': 'limited', 'B': 'renewable', 'C': 'damaging', 'D': 'inexpensive'}\n",
      "  warnings.warn(\n",
      "/home/kon/work/ThoughtSource/libs/cot/cot/evaluate.py:308: UserWarning: Your answer could not be extracted from this sequence.\n",
      "            sequence:  B) NO_{2}\n",
      "            possible answers: {'A': 'CO_{2}', 'B': 'NO_{2}', 'C': 'O_{2}', 'D': 'N_{2}'}\n",
      "  warnings.warn(\n",
      "/home/kon/work/ThoughtSource/libs/cot/cot/evaluate.py:308: UserWarning: Your answer could not be extracted from this sequence.\n",
      "            sequence:  A) CO_{2}.\n",
      "            possible answers: {'A': 'CO_{2}', 'B': 'NO_{2}', 'C': 'O_{2}', 'D': 'N_{2}'}\n",
      "  warnings.warn(\n",
      "/home/kon/work/ThoughtSource/libs/cot/cot/evaluate.py:308: UserWarning: Your answer could not be extracted from this sequence.\n",
      "            sequence:  A) CO_{2}\n",
      "            possible answers: {'A': 'CO_{2}', 'B': 'NO_{2}', 'C': 'O_{2}', 'D': 'N_{2}'}\n",
      "  warnings.warn(\n",
      "/home/kon/work/ThoughtSource/libs/cot/cot/evaluate.py:308: UserWarning: Your answer could not be extracted from this sequence.\n",
      "            sequence:  B) a lightning strike or C) a tornado.\n",
      "            possible answers: {'A': 'a flash flood', 'B': 'a lightning strike', 'C': 'a tornado', 'D': 'a hailstorm'}\n",
      "  warnings.warn(\n",
      "/home/kon/work/ThoughtSource/libs/cot/cot/evaluate.py:308: UserWarning: Your answer could not be extracted from this sequence.\n",
      "            sequence:  D. Hurricanes need warm, moist air to form and maintain their strength. As the hurricane moves over land, the supply of warm, moist air decreases, which causes the force of the hurricane to diminish.\n",
      "            possible answers: {'A': 'A high pressure area develops.', 'B': 'The sea level rises on the coast.', 'C': 'The winds start to spin clockwise.', 'D': 'The supply of warm, moist air decreases.'}\n",
      "  warnings.warn(\n",
      "/home/kon/work/ThoughtSource/libs/cot/cot/evaluate.py:308: UserWarning: Your answer could not be extracted from this sequence.\n",
      "            sequence:  A and B.\n",
      "            possible answers: {'A': 'tidal energy and hydropower', 'B': 'geothermal energy and hydropower', 'C': 'wind energy and tidal energy', 'D': 'geothermal energy and wind energy'}\n",
      "  warnings.warn(\n",
      "/home/kon/work/ThoughtSource/libs/cot/cot/evaluate.py:308: UserWarning: Your answer could not be extracted from this sequence.\n",
      "            sequence: \n",
      "            possible answers: {'A': 'at the bottom of the highest hill', 'B': 'at the top of the highest hill', 'C': 'at the start of the track', 'D': 'at the end of the track'}\n",
      "  warnings.warn(\n",
      "/home/kon/work/ThoughtSource/libs/cot/cot/evaluate.py:308: UserWarning: Your answer could not be extracted from this sequence.\n",
      "            sequence: \n",
      "            possible answers: {'A': 'the mass of Earth.', 'B': 'the rotation of Earth.', 'C': 'the revolution of Earth.', 'D': 'weather patterns on Earth.'}\n",
      "  warnings.warn(\n",
      "/home/kon/work/ThoughtSource/libs/cot/cot/evaluate.py:308: UserWarning: Your answer could not be extracted from this sequence.\n",
      "            sequence: \n",
      "            possible answers: {'A': 'the soil', 'B': 'the water', 'C': 'the plants', 'D': 'the sunlight'}\n",
      "  warnings.warn(\n",
      "/home/kon/work/ThoughtSource/libs/cot/cot/evaluate.py:308: UserWarning: Your answer could not be extracted from this sequence.\n",
      "            sequence: \n",
      "            possible answers: {'A': 'laying eggs to reproduce', 'B': 'having hollow, light-weight bones', 'C': 'avoiding insects that taste bad', 'D': 'having white feathers on the throat'}\n",
      "  warnings.warn(\n",
      "/home/kon/work/ThoughtSource/libs/cot/cot/evaluate.py:308: UserWarning: Your answer could not be extracted from this sequence.\n",
      "            sequence: \n",
      "            possible answers: {'A': 'valence.', 'B': 'mass number.', 'C': 'chemical property.', 'D': 'electrical charge.'}\n",
      "  warnings.warn(\n",
      "/home/kon/work/ThoughtSource/libs/cot/cot/evaluate.py:308: UserWarning: Your answer could not be extracted from this sequence.\n",
      "            sequence:  A and B.\n",
      "            possible answers: {'A': 'the number of valence electrons', 'B': 'the number of protons', 'C': 'the charge of the atom', 'D': 'the size of the atom'}\n",
      "  warnings.warn(\n",
      "/home/kon/work/ThoughtSource/libs/cot/cot/evaluate.py:308: UserWarning: Your answer could not be extracted from this sequence.\n",
      "            sequence:  A, B, and D.\n",
      "            possible answers: {'A': 'condensation', 'B': 'evaporation', 'C': 'radiation', 'D': 'vaporization'}\n",
      "  warnings.warn(\n",
      "/home/kon/work/ThoughtSource/libs/cot/cot/evaluate.py:308: UserWarning: Your answer could not be extracted from this sequence.\n",
      "            sequence: \n",
      "            possible answers: {'A': 'camera', 'B': 'compass', 'C': 'hand lens', 'D': 'telescope'}\n",
      "  warnings.warn(\n",
      "/home/kon/work/ThoughtSource/libs/cot/cot/evaluate.py:308: UserWarning: Your answer could not be extracted from this sequence.\n",
      "            sequence: \n",
      "            possible answers: {'A': 'a balance and a ruler', 'B': 'a balance and a thermometer', 'C': 'a measuring cup and a balance', 'D': 'a measuring cup and a thermometer'}\n",
      "  warnings.warn(\n",
      "/home/kon/work/ThoughtSource/libs/cot/cot/evaluate.py:308: UserWarning: Your answer could not be extracted from this sequence.\n",
      "            sequence: \n",
      "            possible answers: {'A': 'density', 'B': 'flammability', 'C': 'color', 'D': 'brittleness'}\n",
      "  warnings.warn(\n",
      "/home/kon/work/ThoughtSource/libs/cot/cot/evaluate.py:308: UserWarning: Your answer could not be extracted from this sequence.\n",
      "            sequence:  A, B, and D.\n",
      "            possible answers: {'A': 'navigate ships.', 'B': 'study the weather.', 'C': 'predict volcanic eruptions.', 'D': \"map the Earth's surface.\"}\n",
      "  warnings.warn(\n",
      "/home/kon/work/ThoughtSource/libs/cot/cot/evaluate.py:59: UserWarning: It seems that not all examples of the dataset include an answer to be evaluated.\n",
      "                    Counter of examples:\n",
      "                    dict_items([('command-xlarge-nightly', defaultdict(<class 'int'>, {'None_kojima-01_kojima-A-D': 100, 'None_None_kojima-A-D': 100})), ('text-davinci-003', defaultdict(<class 'int'>, {'None_kojima-01_kojima-A-D': 100, 'None_None_kojima-A-D': 100})), ('flan-T5-xxl', defaultdict(<class 'int'>, {'None_None_kojima-A-D': 101, 'None_kojima-01_kojima-A-D': 100}))])\n",
      "                    Length of dataset:\n",
      "                    100\n",
      "                    The evaluation score was only calculated based on the examples that include an answer.\n",
      "                    To turn this warning off, set warn=False in the evaluate function.\n",
      "  warnings.warn(\n"
     ]
    },
    {
     "data": {
      "text/html": [
       "<div>\n",
       "<style scoped>\n",
       "    .dataframe tbody tr th:only-of-type {\n",
       "        vertical-align: middle;\n",
       "    }\n",
       "\n",
       "    .dataframe tbody tr th {\n",
       "        vertical-align: top;\n",
       "    }\n",
       "\n",
       "    .dataframe thead tr th {\n",
       "        text-align: left;\n",
       "    }\n",
       "</style>\n",
       "<table border=\"1\" class=\"dataframe\">\n",
       "  <thead>\n",
       "    <tr>\n",
       "      <th></th>\n",
       "      <th colspan=\"4\" halign=\"left\">None</th>\n",
       "      <th colspan=\"4\" halign=\"left\">kojima-01</th>\n",
       "      <th>lievin-01</th>\n",
       "      <th>lievin-02</th>\n",
       "      <th>lievin-03</th>\n",
       "      <th>lievin-10</th>\n",
       "    </tr>\n",
       "    <tr>\n",
       "      <th></th>\n",
       "      <th>command-xlarge-nightly</th>\n",
       "      <th>flan-T5-xxl</th>\n",
       "      <th>text-davinci-002</th>\n",
       "      <th>text-davinci-003</th>\n",
       "      <th>command-xlarge-nightly</th>\n",
       "      <th>flan-T5-xxl</th>\n",
       "      <th>text-davinci-002</th>\n",
       "      <th>text-davinci-003</th>\n",
       "      <th>text-davinci-002</th>\n",
       "      <th>text-davinci-002</th>\n",
       "      <th>text-davinci-002</th>\n",
       "      <th>text-davinci-002</th>\n",
       "    </tr>\n",
       "  </thead>\n",
       "  <tbody>\n",
       "    <tr>\n",
       "      <th>commonsense_qa</th>\n",
       "      <td>0.51</td>\n",
       "      <td>0.87</td>\n",
       "      <td>0.71</td>\n",
       "      <td>0.72</td>\n",
       "      <td>0.53</td>\n",
       "      <td>0.81</td>\n",
       "      <td>0.69</td>\n",
       "      <td>0.64</td>\n",
       "      <td>NaN</td>\n",
       "      <td>NaN</td>\n",
       "      <td>NaN</td>\n",
       "      <td>NaN</td>\n",
       "    </tr>\n",
       "    <tr>\n",
       "      <th>med_qa</th>\n",
       "      <td>0.23</td>\n",
       "      <td>0.32</td>\n",
       "      <td>NaN</td>\n",
       "      <td>0.39</td>\n",
       "      <td>0.31</td>\n",
       "      <td>0.34</td>\n",
       "      <td>0.46</td>\n",
       "      <td>0.43</td>\n",
       "      <td>0.44</td>\n",
       "      <td>0.5</td>\n",
       "      <td>0.49</td>\n",
       "      <td>0.45</td>\n",
       "    </tr>\n",
       "    <tr>\n",
       "      <th>medmc_qa</th>\n",
       "      <td>0.25</td>\n",
       "      <td>0.34</td>\n",
       "      <td>NaN</td>\n",
       "      <td>0.38</td>\n",
       "      <td>0.23</td>\n",
       "      <td>0.35</td>\n",
       "      <td>0.37</td>\n",
       "      <td>0.34</td>\n",
       "      <td>0.45</td>\n",
       "      <td>0.41</td>\n",
       "      <td>0.4</td>\n",
       "      <td>0.42</td>\n",
       "    </tr>\n",
       "    <tr>\n",
       "      <th>open_book_qa</th>\n",
       "      <td>0.59</td>\n",
       "      <td>0.82</td>\n",
       "      <td>NaN</td>\n",
       "      <td>0.69</td>\n",
       "      <td>0.38</td>\n",
       "      <td>0.79</td>\n",
       "      <td>NaN</td>\n",
       "      <td>0.67</td>\n",
       "      <td>NaN</td>\n",
       "      <td>NaN</td>\n",
       "      <td>NaN</td>\n",
       "      <td>NaN</td>\n",
       "    </tr>\n",
       "    <tr>\n",
       "      <th>strategy_qa</th>\n",
       "      <td>0.52</td>\n",
       "      <td>0.61</td>\n",
       "      <td>0.59</td>\n",
       "      <td>0.53</td>\n",
       "      <td>0.59</td>\n",
       "      <td>0.69</td>\n",
       "      <td>0.54</td>\n",
       "      <td>0.48</td>\n",
       "      <td>NaN</td>\n",
       "      <td>NaN</td>\n",
       "      <td>NaN</td>\n",
       "      <td>NaN</td>\n",
       "    </tr>\n",
       "    <tr>\n",
       "      <th>worldtree</th>\n",
       "      <td>0.62</td>\n",
       "      <td>0.85</td>\n",
       "      <td>NaN</td>\n",
       "      <td>0.89</td>\n",
       "      <td>0.58</td>\n",
       "      <td>0.8</td>\n",
       "      <td>NaN</td>\n",
       "      <td>0.88</td>\n",
       "      <td>NaN</td>\n",
       "      <td>NaN</td>\n",
       "      <td>NaN</td>\n",
       "      <td>NaN</td>\n",
       "    </tr>\n",
       "  </tbody>\n",
       "</table>\n",
       "</div>"
      ],
      "text/plain": [
       "                                 None                               \\\n",
       "               command-xlarge-nightly flan-T5-xxl text-davinci-002   \n",
       "commonsense_qa                   0.51        0.87             0.71   \n",
       "med_qa                           0.23        0.32              NaN   \n",
       "medmc_qa                         0.25        0.34              NaN   \n",
       "open_book_qa                     0.59        0.82              NaN   \n",
       "strategy_qa                      0.52        0.61             0.59   \n",
       "worldtree                        0.62        0.85              NaN   \n",
       "\n",
       "                                             kojima-01              \\\n",
       "               text-davinci-003 command-xlarge-nightly flan-T5-xxl   \n",
       "commonsense_qa             0.72                   0.53        0.81   \n",
       "med_qa                     0.39                   0.31        0.34   \n",
       "medmc_qa                   0.38                   0.23        0.35   \n",
       "open_book_qa               0.69                   0.38        0.79   \n",
       "strategy_qa                0.53                   0.59        0.69   \n",
       "worldtree                  0.89                   0.58         0.8   \n",
       "\n",
       "                                                        lievin-01  \\\n",
       "               text-davinci-002 text-davinci-003 text-davinci-002   \n",
       "commonsense_qa             0.69             0.64              NaN   \n",
       "med_qa                     0.46             0.43             0.44   \n",
       "medmc_qa                   0.37             0.34             0.45   \n",
       "open_book_qa                NaN             0.67              NaN   \n",
       "strategy_qa                0.54             0.48              NaN   \n",
       "worldtree                   NaN             0.88              NaN   \n",
       "\n",
       "                      lievin-02        lievin-03        lievin-10  \n",
       "               text-davinci-002 text-davinci-002 text-davinci-002  \n",
       "commonsense_qa              NaN              NaN              NaN  \n",
       "med_qa                      0.5             0.49             0.45  \n",
       "medmc_qa                   0.41              0.4             0.42  \n",
       "open_book_qa                NaN              NaN              NaN  \n",
       "strategy_qa                 NaN              NaN              NaN  \n",
       "worldtree                   NaN              NaN              NaN  "
      ]
     },
     "metadata": {},
     "output_type": "display_data"
    }
   ],
   "source": [
    "eval2 = coll.evaluate(overwrite=True, warn=True)\n",
    "evaluation_as_table(eval2)"
   ]
  }
 ],
 "metadata": {
  "kernelspec": {
   "display_name": "venv",
   "language": "python",
   "name": "python3"
  },
  "language_info": {
   "codemirror_mode": {
    "name": "ipython",
    "version": 3
   },
   "file_extension": ".py",
   "mimetype": "text/x-python",
   "name": "python",
   "nbconvert_exporter": "python",
   "pygments_lexer": "ipython3",
   "version": "3.8.10"
  },
  "orig_nbformat": 4,
  "vscode": {
   "interpreter": {
    "hash": "a19cb823e24c98ee05a9cfa4a3a579b5d56d4c1a735f2a12456750b95a1e155e"
   }
  }
 },
 "nbformat": 4,
 "nbformat_minor": 2
}
