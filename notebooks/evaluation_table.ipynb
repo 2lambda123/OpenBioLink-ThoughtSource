{
 "cells": [
  {
   "cell_type": "code",
   "execution_count": 1,
   "metadata": {},
   "outputs": [],
   "source": [
    "# import os\n",
    "# import pandas as pd\n",
    "from cot import Collection\n",
    "# from cot.generate import FRAGMENTS\n",
    "# from rich.pretty import pprint\n",
    "# import json"
   ]
  },
  {
   "cell_type": "code",
   "execution_count": 2,
   "metadata": {},
   "outputs": [
    {
     "name": "stderr",
     "output_type": "stream",
     "text": [
      "[nltk_data] Downloading package punkt to /home/kon/nltk_data...\n",
      "[nltk_data]   Package punkt is already up-to-date!\n"
     ]
    }
   ],
   "source": [
    "collection = Collection.from_json(\"./thoughtsource_data/thoughtsource_100_all_cots.json\")"
   ]
  },
  {
   "cell_type": "code",
   "execution_count": 3,
   "metadata": {},
   "outputs": [
    {
     "name": "stdout",
     "output_type": "stream",
     "text": [
      "Evaluating commonsense_qa...\n"
     ]
    },
    {
     "data": {
      "application/vnd.jupyter.widget-view+json": {
       "model_id": "aa3e4c092d8f411fa95321022bb3d6d2",
       "version_major": 2,
       "version_minor": 0
      },
      "text/plain": [
       "  0%|          | 0/100 [00:00<?, ?ex/s]"
      ]
     },
     "metadata": {},
     "output_type": "display_data"
    },
    {
     "name": "stdout",
     "output_type": "stream",
     "text": [
      "Evaluating med_qa...\n"
     ]
    },
    {
     "data": {
      "application/vnd.jupyter.widget-view+json": {
       "model_id": "b15c7d1deb094fc1b68da6ae1019b367",
       "version_major": 2,
       "version_minor": 0
      },
      "text/plain": [
       "  0%|          | 0/100 [00:00<?, ?ex/s]"
      ]
     },
     "metadata": {},
     "output_type": "display_data"
    },
    {
     "name": "stdout",
     "output_type": "stream",
     "text": [
      "Evaluating medmc_qa...\n"
     ]
    },
    {
     "data": {
      "application/vnd.jupyter.widget-view+json": {
       "model_id": "44ba4ad82b044811a535b2cd67fee9a2",
       "version_major": 2,
       "version_minor": 0
      },
      "text/plain": [
       "  0%|          | 0/100 [00:00<?, ?ex/s]"
      ]
     },
     "metadata": {},
     "output_type": "display_data"
    },
    {
     "name": "stdout",
     "output_type": "stream",
     "text": [
      "Evaluating open_book_qa...\n"
     ]
    },
    {
     "data": {
      "application/vnd.jupyter.widget-view+json": {
       "model_id": "be3771dc3b634b5298cfea90e9fb56ec",
       "version_major": 2,
       "version_minor": 0
      },
      "text/plain": [
       "  0%|          | 0/100 [00:00<?, ?ex/s]"
      ]
     },
     "metadata": {},
     "output_type": "display_data"
    },
    {
     "name": "stdout",
     "output_type": "stream",
     "text": [
      "Evaluating strategy_qa...\n"
     ]
    },
    {
     "data": {
      "application/vnd.jupyter.widget-view+json": {
       "model_id": "5055a4403e544b588290bd22e96cd3b3",
       "version_major": 2,
       "version_minor": 0
      },
      "text/plain": [
       "  0%|          | 0/100 [00:00<?, ?ex/s]"
      ]
     },
     "metadata": {},
     "output_type": "display_data"
    },
    {
     "name": "stdout",
     "output_type": "stream",
     "text": [
      "Evaluating worldtree...\n"
     ]
    },
    {
     "data": {
      "application/vnd.jupyter.widget-view+json": {
       "model_id": "90d0bbb5ad8b49cfb57c523e2ca8a778",
       "version_major": 2,
       "version_minor": 0
      },
      "text/plain": [
       "  0%|          | 0/100 [00:00<?, ?ex/s]"
      ]
     },
     "metadata": {},
     "output_type": "display_data"
    }
   ],
   "source": [
    "eval = collection.evaluate()"
   ]
  },
  {
   "cell_type": "code",
   "execution_count": 4,
   "metadata": {},
   "outputs": [],
   "source": [
    "# Original\n",
    "def evaluation_as_table(eval:dict):\n",
    "    import pandas as pd\n",
    "    eval_dict = pd.json_normalize(eval).to_dict('records')[0]\n",
    "    eval_list = list(eval_dict.keys())\n",
    "    datasets = sorted(list(eval.keys()))\n",
    "\n",
    "    models = []\n",
    "    prompts = []\n",
    "    for i in eval_list:\n",
    "        dataset,split,metric,model,prompt = i.split(\".\")\n",
    "        if model not in models:\n",
    "            models.append(model)\n",
    "        if prompt not in prompts:\n",
    "            prompts.append(prompt)\n",
    "            \n",
    "    models = sorted(models)\n",
    "\n",
    "    if \"None_None_None\" in prompts: prompts.remove(\"None_None_None\")\n",
    "\n",
    "    # no instructions implemented yet\n",
    "    # instructions = []\n",
    "    cot_triggers = []\n",
    "    for i in prompts:\n",
    "        instruction, cot_trigger, _ = i.split(\"_\")\n",
    "        # if instruction not in instructions:\n",
    "        #     instructions.append(instruction)\n",
    "        if cot_trigger not in cot_triggers:\n",
    "            cot_triggers.append(cot_trigger)\n",
    "\n",
    "    cot_triggers = sorted(cot_triggers)\n",
    "\n",
    "    cot_trigger_header = sorted(cot_triggers*len(models))\n",
    "    model_header = models*len(cot_triggers)\n",
    "    header = [cot_trigger_header, model_header]\n",
    "    df = pd.DataFrame(columns=header, index=datasets)\n",
    "\n",
    "    for k,v in eval_dict.items():\n",
    "        dataset,split,metric,model,prompt = k.split(\".\")\n",
    "        instruction, cot_trigger, _ = prompt.split(\"_\")\n",
    "        df.loc[dataset, (cot_trigger, model)] = round(v,2)\n",
    "\n",
    "    df.dropna(how='all', axis=1, inplace=True)\n",
    "\n",
    "    return df"
   ]
  },
  {
   "cell_type": "code",
   "execution_count": 4,
   "metadata": {},
   "outputs": [],
   "source": [
    "# What I tried\n",
    "def evaluation_as_table(eval:dict):\n",
    "    import pandas as pd\n",
    "    eval_dict = pd.json_normalize(eval).to_dict('records')[0]\n",
    "    eval_list = list(eval_dict.keys())\n",
    "    datasets = sorted(list(eval.keys()))\n",
    "\n",
    "    models = []\n",
    "    prompts = []\n",
    "    for i in eval_list:\n",
    "        dataset,split,metric,model,prompt = i.split(\".\")\n",
    "        if model not in models:\n",
    "            models.append(model)\n",
    "        if prompt not in prompts:\n",
    "            prompts.append(prompt)\n",
    "            \n",
    "    models = sorted(models)\n",
    "\n",
    "    if \"None_None_None\" in prompts: prompts.remove(\"None_None_None\")\n",
    "\n",
    "    # no instructions implemented yet\n",
    "    # instructions = []\n",
    "    cot_triggers = []\n",
    "    for i in prompts:\n",
    "        instruction, cot_trigger, _ = i.split(\"_\")\n",
    "        # if instruction not in instructions:\n",
    "        #     instructions.append(instruction)\n",
    "        if cot_trigger not in cot_triggers:\n",
    "            cot_triggers.append(cot_trigger)\n",
    "\n",
    "    cot_triggers = sorted(cot_triggers)\n",
    "\n",
    "    # changed stuff here\n",
    "    cot_trigger_header = cot_triggers*len(models)\n",
    "    model_header = sorted(models*len(cot_triggers))\n",
    "    header = [model_header, cot_trigger_header]\n",
    "    df = pd.DataFrame(columns=header, index=datasets)\n",
    "\n",
    "    for k,v in eval_dict.items():\n",
    "        dataset,split,metric,model,prompt = k.split(\".\")\n",
    "        instruction, cot_trigger, _ = prompt.split(\"_\")\n",
    "        df.loc[dataset, (cot_trigger, model)] = round(v,2)\n",
    "\n",
    "    df.dropna(how='all', axis=1, inplace=True)\n",
    "\n",
    "    return df"
   ]
  },
  {
   "cell_type": "code",
   "execution_count": 6,
   "metadata": {},
   "outputs": [],
   "source": [
    "df = evaluation_as_table(eval)"
   ]
  },
  {
   "cell_type": "code",
   "execution_count": 7,
   "metadata": {},
   "outputs": [
    {
     "data": {
      "text/html": [
       "<div>\n",
       "<style scoped>\n",
       "    .dataframe tbody tr th:only-of-type {\n",
       "        vertical-align: middle;\n",
       "    }\n",
       "\n",
       "    .dataframe tbody tr th {\n",
       "        vertical-align: top;\n",
       "    }\n",
       "\n",
       "    .dataframe thead tr th {\n",
       "        text-align: left;\n",
       "    }\n",
       "</style>\n",
       "<table border=\"1\" class=\"dataframe\">\n",
       "  <thead>\n",
       "    <tr>\n",
       "      <th></th>\n",
       "      <th colspan=\"4\" halign=\"left\">None</th>\n",
       "      <th colspan=\"4\" halign=\"left\">kojima-01</th>\n",
       "      <th>lievin-01</th>\n",
       "      <th>lievin-02</th>\n",
       "      <th>lievin-03</th>\n",
       "      <th>lievin-10</th>\n",
       "    </tr>\n",
       "    <tr>\n",
       "      <th></th>\n",
       "      <th>command-xlarge-nightly</th>\n",
       "      <th>flan-T5-xxl</th>\n",
       "      <th>text-davinci-002</th>\n",
       "      <th>text-davinci-003</th>\n",
       "      <th>command-xlarge-nightly</th>\n",
       "      <th>flan-T5-xxl</th>\n",
       "      <th>text-davinci-002</th>\n",
       "      <th>text-davinci-003</th>\n",
       "      <th>text-davinci-002</th>\n",
       "      <th>text-davinci-002</th>\n",
       "      <th>text-davinci-002</th>\n",
       "      <th>text-davinci-002</th>\n",
       "    </tr>\n",
       "  </thead>\n",
       "  <tbody>\n",
       "    <tr>\n",
       "      <th>commonsense_qa</th>\n",
       "      <td>0.53</td>\n",
       "      <td>0.87</td>\n",
       "      <td>0.69</td>\n",
       "      <td>0.72</td>\n",
       "      <td>0.53</td>\n",
       "      <td>0.81</td>\n",
       "      <td>0.7</td>\n",
       "      <td>0.66</td>\n",
       "      <td>NaN</td>\n",
       "      <td>NaN</td>\n",
       "      <td>NaN</td>\n",
       "      <td>NaN</td>\n",
       "    </tr>\n",
       "    <tr>\n",
       "      <th>med_qa</th>\n",
       "      <td>0.23</td>\n",
       "      <td>0.32</td>\n",
       "      <td>NaN</td>\n",
       "      <td>0.39</td>\n",
       "      <td>0.31</td>\n",
       "      <td>0.34</td>\n",
       "      <td>0.46</td>\n",
       "      <td>0.42</td>\n",
       "      <td>0.44</td>\n",
       "      <td>0.5</td>\n",
       "      <td>0.49</td>\n",
       "      <td>0.45</td>\n",
       "    </tr>\n",
       "    <tr>\n",
       "      <th>medmc_qa</th>\n",
       "      <td>0.25</td>\n",
       "      <td>0.34</td>\n",
       "      <td>NaN</td>\n",
       "      <td>0.39</td>\n",
       "      <td>0.23</td>\n",
       "      <td>0.35</td>\n",
       "      <td>0.37</td>\n",
       "      <td>0.32</td>\n",
       "      <td>0.45</td>\n",
       "      <td>0.41</td>\n",
       "      <td>0.4</td>\n",
       "      <td>0.42</td>\n",
       "    </tr>\n",
       "    <tr>\n",
       "      <th>open_book_qa</th>\n",
       "      <td>0.6</td>\n",
       "      <td>0.82</td>\n",
       "      <td>NaN</td>\n",
       "      <td>0.69</td>\n",
       "      <td>0.38</td>\n",
       "      <td>0.79</td>\n",
       "      <td>NaN</td>\n",
       "      <td>0.68</td>\n",
       "      <td>NaN</td>\n",
       "      <td>NaN</td>\n",
       "      <td>NaN</td>\n",
       "      <td>NaN</td>\n",
       "    </tr>\n",
       "    <tr>\n",
       "      <th>strategy_qa</th>\n",
       "      <td>0.52</td>\n",
       "      <td>0.61</td>\n",
       "      <td>0.59</td>\n",
       "      <td>0.53</td>\n",
       "      <td>0.59</td>\n",
       "      <td>0.69</td>\n",
       "      <td>0.54</td>\n",
       "      <td>0.48</td>\n",
       "      <td>NaN</td>\n",
       "      <td>NaN</td>\n",
       "      <td>NaN</td>\n",
       "      <td>NaN</td>\n",
       "    </tr>\n",
       "    <tr>\n",
       "      <th>worldtree</th>\n",
       "      <td>0.59</td>\n",
       "      <td>0.85</td>\n",
       "      <td>NaN</td>\n",
       "      <td>0.85</td>\n",
       "      <td>0.53</td>\n",
       "      <td>0.8</td>\n",
       "      <td>NaN</td>\n",
       "      <td>0.73</td>\n",
       "      <td>NaN</td>\n",
       "      <td>NaN</td>\n",
       "      <td>NaN</td>\n",
       "      <td>NaN</td>\n",
       "    </tr>\n",
       "  </tbody>\n",
       "</table>\n",
       "</div>"
      ],
      "text/plain": [
       "                                 None                               \\\n",
       "               command-xlarge-nightly flan-T5-xxl text-davinci-002   \n",
       "commonsense_qa                   0.53        0.87             0.69   \n",
       "med_qa                           0.23        0.32              NaN   \n",
       "medmc_qa                         0.25        0.34              NaN   \n",
       "open_book_qa                      0.6        0.82              NaN   \n",
       "strategy_qa                      0.52        0.61             0.59   \n",
       "worldtree                        0.59        0.85              NaN   \n",
       "\n",
       "                                             kojima-01              \\\n",
       "               text-davinci-003 command-xlarge-nightly flan-T5-xxl   \n",
       "commonsense_qa             0.72                   0.53        0.81   \n",
       "med_qa                     0.39                   0.31        0.34   \n",
       "medmc_qa                   0.39                   0.23        0.35   \n",
       "open_book_qa               0.69                   0.38        0.79   \n",
       "strategy_qa                0.53                   0.59        0.69   \n",
       "worldtree                  0.85                   0.53         0.8   \n",
       "\n",
       "                                                        lievin-01  \\\n",
       "               text-davinci-002 text-davinci-003 text-davinci-002   \n",
       "commonsense_qa              0.7             0.66              NaN   \n",
       "med_qa                     0.46             0.42             0.44   \n",
       "medmc_qa                   0.37             0.32             0.45   \n",
       "open_book_qa                NaN             0.68              NaN   \n",
       "strategy_qa                0.54             0.48              NaN   \n",
       "worldtree                   NaN             0.73              NaN   \n",
       "\n",
       "                      lievin-02        lievin-03        lievin-10  \n",
       "               text-davinci-002 text-davinci-002 text-davinci-002  \n",
       "commonsense_qa              NaN              NaN              NaN  \n",
       "med_qa                      0.5             0.49             0.45  \n",
       "medmc_qa                   0.41              0.4             0.42  \n",
       "open_book_qa                NaN              NaN              NaN  \n",
       "strategy_qa                 NaN              NaN              NaN  \n",
       "worldtree                   NaN              NaN              NaN  "
      ]
     },
     "execution_count": 7,
     "metadata": {},
     "output_type": "execute_result"
    }
   ],
   "source": [
    "df"
   ]
  },
  {
   "cell_type": "code",
   "execution_count": 8,
   "metadata": {},
   "outputs": [],
   "source": [
    "df.dropna(axis=1, inplace=True)"
   ]
  },
  {
   "cell_type": "code",
   "execution_count": 9,
   "metadata": {},
   "outputs": [
    {
     "data": {
      "text/html": [
       "<div>\n",
       "<style scoped>\n",
       "    .dataframe tbody tr th:only-of-type {\n",
       "        vertical-align: middle;\n",
       "    }\n",
       "\n",
       "    .dataframe tbody tr th {\n",
       "        vertical-align: top;\n",
       "    }\n",
       "\n",
       "    .dataframe thead tr th {\n",
       "        text-align: left;\n",
       "    }\n",
       "</style>\n",
       "<table border=\"1\" class=\"dataframe\">\n",
       "  <thead>\n",
       "    <tr>\n",
       "      <th></th>\n",
       "      <th colspan=\"3\" halign=\"left\">None</th>\n",
       "      <th colspan=\"3\" halign=\"left\">kojima-01</th>\n",
       "    </tr>\n",
       "    <tr>\n",
       "      <th></th>\n",
       "      <th>command-xlarge-nightly</th>\n",
       "      <th>flan-T5-xxl</th>\n",
       "      <th>text-davinci-003</th>\n",
       "      <th>command-xlarge-nightly</th>\n",
       "      <th>flan-T5-xxl</th>\n",
       "      <th>text-davinci-003</th>\n",
       "    </tr>\n",
       "  </thead>\n",
       "  <tbody>\n",
       "    <tr>\n",
       "      <th>commonsense_qa</th>\n",
       "      <td>0.53</td>\n",
       "      <td>0.87</td>\n",
       "      <td>0.72</td>\n",
       "      <td>0.53</td>\n",
       "      <td>0.81</td>\n",
       "      <td>0.66</td>\n",
       "    </tr>\n",
       "    <tr>\n",
       "      <th>med_qa</th>\n",
       "      <td>0.23</td>\n",
       "      <td>0.32</td>\n",
       "      <td>0.39</td>\n",
       "      <td>0.31</td>\n",
       "      <td>0.34</td>\n",
       "      <td>0.42</td>\n",
       "    </tr>\n",
       "    <tr>\n",
       "      <th>medmc_qa</th>\n",
       "      <td>0.25</td>\n",
       "      <td>0.34</td>\n",
       "      <td>0.39</td>\n",
       "      <td>0.23</td>\n",
       "      <td>0.35</td>\n",
       "      <td>0.32</td>\n",
       "    </tr>\n",
       "    <tr>\n",
       "      <th>open_book_qa</th>\n",
       "      <td>0.6</td>\n",
       "      <td>0.82</td>\n",
       "      <td>0.69</td>\n",
       "      <td>0.38</td>\n",
       "      <td>0.79</td>\n",
       "      <td>0.68</td>\n",
       "    </tr>\n",
       "    <tr>\n",
       "      <th>strategy_qa</th>\n",
       "      <td>0.52</td>\n",
       "      <td>0.61</td>\n",
       "      <td>0.53</td>\n",
       "      <td>0.59</td>\n",
       "      <td>0.69</td>\n",
       "      <td>0.48</td>\n",
       "    </tr>\n",
       "    <tr>\n",
       "      <th>worldtree</th>\n",
       "      <td>0.59</td>\n",
       "      <td>0.85</td>\n",
       "      <td>0.85</td>\n",
       "      <td>0.53</td>\n",
       "      <td>0.8</td>\n",
       "      <td>0.73</td>\n",
       "    </tr>\n",
       "  </tbody>\n",
       "</table>\n",
       "</div>"
      ],
      "text/plain": [
       "                                 None                               \\\n",
       "               command-xlarge-nightly flan-T5-xxl text-davinci-003   \n",
       "commonsense_qa                   0.53        0.87             0.72   \n",
       "med_qa                           0.23        0.32             0.39   \n",
       "medmc_qa                         0.25        0.34             0.39   \n",
       "open_book_qa                      0.6        0.82             0.69   \n",
       "strategy_qa                      0.52        0.61             0.53   \n",
       "worldtree                        0.59        0.85             0.85   \n",
       "\n",
       "                            kojima-01                               \n",
       "               command-xlarge-nightly flan-T5-xxl text-davinci-003  \n",
       "commonsense_qa                   0.53        0.81             0.66  \n",
       "med_qa                           0.31        0.34             0.42  \n",
       "medmc_qa                         0.23        0.35             0.32  \n",
       "open_book_qa                     0.38        0.79             0.68  \n",
       "strategy_qa                      0.59        0.69             0.48  \n",
       "worldtree                        0.53         0.8             0.73  "
      ]
     },
     "execution_count": 9,
     "metadata": {},
     "output_type": "execute_result"
    }
   ],
   "source": [
    "df"
   ]
  },
  {
   "cell_type": "code",
   "execution_count": 8,
   "metadata": {},
   "outputs": [
    {
     "data": {
      "text/plain": [
       "FrozenList([['command-xlarge-nightly', 'flan-T5-xxl', 'text-davinci-002', 'text-davinci-003', 'None', 'kojima-01', 'lievin-01', 'lievin-02', 'lievin-03', 'lievin-10'], ['None', 'kojima-01', 'lievin-01', 'lievin-02', 'lievin-03', 'lievin-10', 'command-xlarge-nightly', 'flan-T5-xxl', 'text-davinci-002', 'text-davinci-003']])"
      ]
     },
     "execution_count": 8,
     "metadata": {},
     "output_type": "execute_result"
    }
   ],
   "source": [
    "df.columns.levels"
   ]
  }
 ],
 "metadata": {
  "kernelspec": {
   "display_name": "venv",
   "language": "python",
   "name": "python3"
  },
  "language_info": {
   "codemirror_mode": {
    "name": "ipython",
    "version": 3
   },
   "file_extension": ".py",
   "mimetype": "text/x-python",
   "name": "python",
   "nbconvert_exporter": "python",
   "pygments_lexer": "ipython3",
   "version": "3.10.6"
  },
  "orig_nbformat": 4,
  "vscode": {
   "interpreter": {
    "hash": "ccbfa654f25866afe66a1c016d0b518a994fbe20a93c2d8b432dbe114020e2d2"
   }
  }
 },
 "nbformat": 4,
 "nbformat_minor": 2
}
